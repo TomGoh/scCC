{
 "cells": [
  {
   "cell_type": "code",
   "execution_count": 1,
   "metadata": {
    "collapsed": false,
    "pycharm": {
     "name": "#%%\n"
    }
   },
   "outputs": [],
   "source": [
    "from torch import nn\n",
    "import torch\n",
    "import argparse\n",
    "import numpy as np\n",
    "import pandas as pd\n",
    "import scanpy as sc\n",
    "import os\n",
    "import anndata\n",
    "import math\n",
    "import hnswlib\n",
    "# import warnings\n",
    "# warnings.filterwarnings(\"ignore\", category=UserWarning)"
   ]
  },
  {
   "cell_type": "code",
   "execution_count": 2,
   "metadata": {
    "collapsed": false,
    "pycharm": {
     "name": "#%%\n"
    }
   },
   "outputs": [],
   "source": [
    "from modules import network,mlp\n",
    "from utils import yaml_config_hook,save_model\n",
    "\n",
    "parser = argparse.ArgumentParser()\n",
    "config = yaml_config_hook(\"config/config.yaml\")\n",
    "for k, v in config.items():\n",
    "    parser.add_argument(f\"--{k}\", default=v, type=type(v))\n",
    "args = parser.parse_args([])\n",
    "if not os.path.exists(args.model_path):\n",
    "    os.makedirs(args.model_path)\n",
    "\n",
    "# torch.manual_seed(args.seed)\n",
    "# torch.cuda.manual_seed_all(args.seed)\n",
    "# torch.cuda.manual_seed(args.seed)\n",
    "# np.random.seed(args.seed)\n",
    "class_num = args.classnum"
   ]
  },
  {
   "cell_type": "code",
   "execution_count": 3,
   "metadata": {
    "collapsed": false,
    "pycharm": {
     "name": "#%%\n"
    }
   },
   "outputs": [
    {
     "name": "stderr",
     "output_type": "stream",
     "text": [
      "C:\\Users\\Tom-G\\.conda\\envs\\torchenv\\lib\\site-packages\\anndata\\_core\\anndata.py:107: FutureWarning: elementwise comparison failed; returning scalar instead, but in the future will perform elementwise comparison\n",
      "  if index_name in anno:\n"
     ]
    },
    {
     "name": "stdout",
     "output_type": "stream",
     "text": [
      "(8569, 2000) (8569, 1)\n"
     ]
    },
    {
     "data": {
      "text/html": [
       "<div>\n",
       "<style scoped>\n",
       "    .dataframe tbody tr th:only-of-type {\n",
       "        vertical-align: middle;\n",
       "    }\n",
       "\n",
       "    .dataframe tbody tr th {\n",
       "        vertical-align: top;\n",
       "    }\n",
       "\n",
       "    .dataframe thead th {\n",
       "        text-align: right;\n",
       "    }\n",
       "</style>\n",
       "<table border=\"1\" class=\"dataframe\">\n",
       "  <thead>\n",
       "    <tr style=\"text-align: right;\">\n",
       "      <th></th>\n",
       "      <th>2</th>\n",
       "      <th>10</th>\n",
       "      <th>13</th>\n",
       "      <th>41</th>\n",
       "      <th>45</th>\n",
       "      <th>62</th>\n",
       "      <th>68</th>\n",
       "      <th>106</th>\n",
       "      <th>133</th>\n",
       "      <th>147</th>\n",
       "      <th>...</th>\n",
       "      <th>19763</th>\n",
       "      <th>19786</th>\n",
       "      <th>19808</th>\n",
       "      <th>19854</th>\n",
       "      <th>19883</th>\n",
       "      <th>20021</th>\n",
       "      <th>20073</th>\n",
       "      <th>20109</th>\n",
       "      <th>20121</th>\n",
       "      <th>20124</th>\n",
       "    </tr>\n",
       "  </thead>\n",
       "  <tbody>\n",
       "    <tr>\n",
       "      <th>0</th>\n",
       "      <td>0.0</td>\n",
       "      <td>1.302199</td>\n",
       "      <td>0.0</td>\n",
       "      <td>0.0</td>\n",
       "      <td>0.0</td>\n",
       "      <td>0.000000</td>\n",
       "      <td>0.36896</td>\n",
       "      <td>0.0</td>\n",
       "      <td>0.0</td>\n",
       "      <td>0.0</td>\n",
       "      <td>...</td>\n",
       "      <td>0.0</td>\n",
       "      <td>0.000000</td>\n",
       "      <td>0.0</td>\n",
       "      <td>0.0</td>\n",
       "      <td>0.00000</td>\n",
       "      <td>0.0</td>\n",
       "      <td>0.0</td>\n",
       "      <td>0.0</td>\n",
       "      <td>0.637877</td>\n",
       "      <td>0.368960</td>\n",
       "    </tr>\n",
       "    <tr>\n",
       "      <th>1</th>\n",
       "      <td>0.0</td>\n",
       "      <td>1.351171</td>\n",
       "      <td>0.0</td>\n",
       "      <td>0.0</td>\n",
       "      <td>0.0</td>\n",
       "      <td>0.000000</td>\n",
       "      <td>0.00000</td>\n",
       "      <td>0.0</td>\n",
       "      <td>0.0</td>\n",
       "      <td>0.0</td>\n",
       "      <td>...</td>\n",
       "      <td>0.0</td>\n",
       "      <td>0.000000</td>\n",
       "      <td>0.0</td>\n",
       "      <td>0.0</td>\n",
       "      <td>0.00000</td>\n",
       "      <td>0.0</td>\n",
       "      <td>0.0</td>\n",
       "      <td>0.0</td>\n",
       "      <td>0.888292</td>\n",
       "      <td>0.000000</td>\n",
       "    </tr>\n",
       "    <tr>\n",
       "      <th>2</th>\n",
       "      <td>0.0</td>\n",
       "      <td>0.000000</td>\n",
       "      <td>0.0</td>\n",
       "      <td>0.0</td>\n",
       "      <td>0.0</td>\n",
       "      <td>0.000000</td>\n",
       "      <td>0.00000</td>\n",
       "      <td>0.0</td>\n",
       "      <td>0.0</td>\n",
       "      <td>0.0</td>\n",
       "      <td>...</td>\n",
       "      <td>0.0</td>\n",
       "      <td>0.000000</td>\n",
       "      <td>0.0</td>\n",
       "      <td>0.0</td>\n",
       "      <td>0.00000</td>\n",
       "      <td>0.0</td>\n",
       "      <td>0.0</td>\n",
       "      <td>0.0</td>\n",
       "      <td>0.000000</td>\n",
       "      <td>0.000000</td>\n",
       "    </tr>\n",
       "    <tr>\n",
       "      <th>3</th>\n",
       "      <td>0.0</td>\n",
       "      <td>0.000000</td>\n",
       "      <td>0.0</td>\n",
       "      <td>0.0</td>\n",
       "      <td>0.0</td>\n",
       "      <td>0.711146</td>\n",
       "      <td>0.00000</td>\n",
       "      <td>0.0</td>\n",
       "      <td>0.0</td>\n",
       "      <td>0.0</td>\n",
       "      <td>...</td>\n",
       "      <td>0.0</td>\n",
       "      <td>0.417500</td>\n",
       "      <td>0.0</td>\n",
       "      <td>0.0</td>\n",
       "      <td>0.93785</td>\n",
       "      <td>0.0</td>\n",
       "      <td>0.0</td>\n",
       "      <td>0.0</td>\n",
       "      <td>0.937850</td>\n",
       "      <td>0.000000</td>\n",
       "    </tr>\n",
       "    <tr>\n",
       "      <th>4</th>\n",
       "      <td>0.0</td>\n",
       "      <td>0.000000</td>\n",
       "      <td>0.0</td>\n",
       "      <td>0.0</td>\n",
       "      <td>0.0</td>\n",
       "      <td>0.509045</td>\n",
       "      <td>0.00000</td>\n",
       "      <td>0.0</td>\n",
       "      <td>0.0</td>\n",
       "      <td>0.0</td>\n",
       "      <td>...</td>\n",
       "      <td>0.0</td>\n",
       "      <td>0.509045</td>\n",
       "      <td>0.0</td>\n",
       "      <td>0.0</td>\n",
       "      <td>0.00000</td>\n",
       "      <td>0.0</td>\n",
       "      <td>0.0</td>\n",
       "      <td>0.0</td>\n",
       "      <td>0.509045</td>\n",
       "      <td>0.509045</td>\n",
       "    </tr>\n",
       "  </tbody>\n",
       "</table>\n",
       "<p>5 rows × 2000 columns</p>\n",
       "</div>"
      ],
      "text/plain": [
       "     2        10   13   41   45        62       68  106  133  147  ...  19763  \\\n",
       "0  0.0  1.302199  0.0  0.0  0.0  0.000000  0.36896  0.0  0.0  0.0  ...    0.0   \n",
       "1  0.0  1.351171  0.0  0.0  0.0  0.000000  0.00000  0.0  0.0  0.0  ...    0.0   \n",
       "2  0.0  0.000000  0.0  0.0  0.0  0.000000  0.00000  0.0  0.0  0.0  ...    0.0   \n",
       "3  0.0  0.000000  0.0  0.0  0.0  0.711146  0.00000  0.0  0.0  0.0  ...    0.0   \n",
       "4  0.0  0.000000  0.0  0.0  0.0  0.509045  0.00000  0.0  0.0  0.0  ...    0.0   \n",
       "\n",
       "      19786  19808  19854    19883  20021  20073  20109     20121     20124  \n",
       "0  0.000000    0.0    0.0  0.00000    0.0    0.0    0.0  0.637877  0.368960  \n",
       "1  0.000000    0.0    0.0  0.00000    0.0    0.0    0.0  0.888292  0.000000  \n",
       "2  0.000000    0.0    0.0  0.00000    0.0    0.0    0.0  0.000000  0.000000  \n",
       "3  0.417500    0.0    0.0  0.93785    0.0    0.0    0.0  0.937850  0.000000  \n",
       "4  0.509045    0.0    0.0  0.00000    0.0    0.0    0.0  0.509045  0.509045  \n",
       "\n",
       "[5 rows x 2000 columns]"
      ]
     },
     "execution_count": 3,
     "metadata": {},
     "output_type": "execute_result"
    }
   ],
   "source": [
    "import scipy.sparse\n",
    "sparse_X = scipy.sparse.load_npz('data/filtered_Counts.npz')\n",
    "annoData = pd.read_table('data/annoData.txt')\n",
    "y = annoData[\"cellIden\"].to_numpy()\n",
    "high_var_gene = args.num_genes\n",
    "# normlization and feature selection\n",
    "adataSC = anndata.AnnData(X=sparse_X, obs=np.arange(sparse_X.shape[0]), var=np.arange(sparse_X.shape[1]))\n",
    "sc.pp.filter_genes(adataSC, min_cells=10)\n",
    "adataSC.raw = adataSC\n",
    "sc.pp.highly_variable_genes(adataSC, n_top_genes=high_var_gene, flavor='seurat_v3')\n",
    "sc.pp.normalize_total(adataSC, target_sum=1e4)\n",
    "sc.pp.log1p(adataSC)\n",
    "\n",
    "adataNorm = adataSC[:, adataSC.var.highly_variable]\n",
    "dataframe = adataNorm.to_df()\n",
    "x_ndarray = dataframe.values.squeeze()\n",
    "y_ndarray = np.expand_dims(y, axis=1)\n",
    "print(x_ndarray.shape,y_ndarray.shape)\n",
    "dataframe.head()"
   ]
  },
  {
   "cell_type": "code",
   "execution_count": 4,
   "metadata": {
    "collapsed": false,
    "pycharm": {
     "name": "#%%\n"
    }
   },
   "outputs": [
    {
     "name": "stdout",
     "output_type": "stream",
     "text": [
      "2000\n",
      "1024\n",
      "1024\n",
      "2000\n",
      "1024\n",
      "1024\n"
     ]
    }
   ],
   "source": [
    "from torch.utils.data import DataLoader,random_split,TensorDataset\n",
    "scDataset = TensorDataset(torch.tensor(x_ndarray, dtype=torch.float32),\n",
    "                              torch.tensor(y_ndarray, dtype=torch.float32))\n",
    "\n",
    "scDataLoader = DataLoader(scDataset, shuffle=True, batch_size=args.batch_size,drop_last=True)\n",
    "\n",
    "for features, labels in scDataLoader:\n",
    "    print(len(features[-1]))\n",
    "    print(len(features))\n",
    "    print(len(labels))\n",
    "    break\n",
    "\n",
    "scGenDataLoader = DataLoader(scDataset, shuffle=False, batch_size=args.batch_size,drop_last=True)\n",
    "\n",
    "for features, labels in scDataLoader:\n",
    "    print(len(features[-1]))\n",
    "    print(len(features))\n",
    "    print(len(labels))\n",
    "    break"
   ]
  },
  {
   "cell_type": "code",
   "execution_count": 5,
   "metadata": {},
   "outputs": [
    {
     "name": "stdout",
     "output_type": "stream",
     "text": [
      "8569 2000\n"
     ]
    }
   ],
   "source": [
    "num_elements=len(scDataset)\n",
    "dim=high_var_gene\n",
    "print(num_elements,dim)\n",
    "p=hnswlib.Index(space='cosine',dim=dim)\n",
    "p.init_index(max_elements=num_elements, ef_construction=100, M=16)\n",
    "p.set_ef(100)\n",
    "p.set_num_threads(4)\n",
    "p.add_items(x_ndarray)"
   ]
  },
  {
   "cell_type": "code",
   "execution_count": 6,
   "metadata": {
    "collapsed": false,
    "pycharm": {
     "name": "#%%\n"
    }
   },
   "outputs": [],
   "source": [
    "# initialize model\n",
    "mlp = mlp.MLP(num_genes=args.num_genes)\n",
    "model = network.Network(mlp, args.feature_dim, args.classnum)\n",
    "model = model.to('cuda')\n",
    "# optimizer / loss\n",
    "optimizer = torch.optim.Adam(model.parameters(), lr=args.learning_rate, weight_decay=args.weight_decay)"
   ]
  },
  {
   "cell_type": "code",
   "execution_count": 7,
   "metadata": {
    "collapsed": false,
    "pycharm": {
     "name": "#%%\n"
    }
   },
   "outputs": [],
   "source": [
    "class InstanceLoss(nn.Module):\n",
    "\n",
    "    def __init__(self,batch_size,temperature,device):\n",
    "        super(InstanceLoss,self).__init__()\n",
    "        self.batch_size=batch_size\n",
    "        self.temperature=temperature\n",
    "        self.device=device\n",
    "\n",
    "        self.mask=self.mask_correlated_samples(batch_size)\n",
    "        self.criterion = nn.CrossEntropyLoss(reduction=\"sum\")\n",
    "\n",
    "\n",
    "    def mask_correlated_samples(self,batch_size):\n",
    "        N=2*batch_size\n",
    "        mask=torch.ones(N,N)\n",
    "        mask=mask.fill_diagonal_(0)\n",
    "        for i in range(batch_size):\n",
    "            mask[i,batch_size+1]=0\n",
    "            mask[batch_size+i,i]=0\n",
    "        mask=mask.bool()\n",
    "        return mask\n",
    "\n",
    "    def forward(self,z_i,z_j):\n",
    "        N=2*self.batch_size\n",
    "        z=torch.cat((z_i,z_j),dim=0)\n",
    "\n",
    "        sim=torch.matmul(z,z.T)/self.temperature\n",
    "        sim_i_j=torch.diag(sim,self.batch_size)\n",
    "        sim_j_i=torch.diag(sim,-self.batch_size)\n",
    "\n",
    "        positive_samples= torch.cat((sim_i_j,sim_j_i),dim=0).reshape(N,1)\n",
    "        negative_samples=sim[self.mask].reshape(N,-1)\n",
    "\n",
    "        labels = torch.zeros(N).to(positive_samples.device).long()\n",
    "        logits = torch.cat((positive_samples, negative_samples), dim=1)\n",
    "        loss = self.criterion(logits, labels)\n",
    "        loss /= N\n",
    "\n",
    "        return loss"
   ]
  },
  {
   "cell_type": "code",
   "execution_count": 8,
   "metadata": {
    "collapsed": false,
    "pycharm": {
     "name": "#%%\n"
    }
   },
   "outputs": [],
   "source": [
    "class ClusterLoss(nn.Module):\n",
    "    def __init__(self, class_num, temperature, device):\n",
    "        super(ClusterLoss, self).__init__()\n",
    "        self.class_num = class_num\n",
    "        self.temperature = temperature\n",
    "        self.device = device\n",
    "\n",
    "        self.mask = self.mask_correlated_clusters(class_num)\n",
    "        self.criterion = nn.CrossEntropyLoss(reduction=\"sum\")\n",
    "        self.similarity_f = nn.CosineSimilarity(dim=2)\n",
    "\n",
    "    def mask_correlated_clusters(self, class_num):\n",
    "        N = 2 * class_num\n",
    "        mask = torch.ones((N, N))\n",
    "        mask = mask.fill_diagonal_(0)\n",
    "        for i in range(class_num):\n",
    "            mask[i, class_num + i] = 0\n",
    "            mask[class_num + i, i] = 0\n",
    "        mask = mask.bool()\n",
    "        return mask\n",
    "\n",
    "    def forward(self, c_i, c_j):\n",
    "        p_i = c_i.sum(0).view(-1)\n",
    "        p_i /= p_i.sum()\n",
    "        ne_i = math.log(p_i.size(0)) + (p_i * torch.log(p_i)).sum()\n",
    "        p_j = c_j.sum(0).view(-1)\n",
    "        p_j /= p_j.sum()\n",
    "        ne_j = math.log(p_j.size(0)) + (p_j * torch.log(p_j)).sum()\n",
    "        ne_loss = ne_i + ne_j\n",
    "\n",
    "        c_i = c_i.t()\n",
    "        c_j = c_j.t()\n",
    "        N = 2 * self.class_num\n",
    "        c = torch.cat((c_i, c_j), dim=0)\n",
    "\n",
    "        sim = self.similarity_f(c.unsqueeze(1), c.unsqueeze(0)) / self.temperature\n",
    "        sim_i_j = torch.diag(sim, self.class_num)\n",
    "        sim_j_i = torch.diag(sim, -self.class_num)\n",
    "\n",
    "        positive_clusters = torch.cat((sim_i_j, sim_j_i), dim=0).reshape(N, 1)\n",
    "        negative_clusters = sim[self.mask].reshape(N, -1)\n",
    "\n",
    "        labels = torch.zeros(N).to(positive_clusters.device).long()\n",
    "        logits = torch.cat((positive_clusters, negative_clusters), dim=1)\n",
    "        loss = self.criterion(logits, labels)\n",
    "        loss /= N\n",
    "\n",
    "        return loss + ne_loss\n"
   ]
  },
  {
   "cell_type": "code",
   "execution_count": 9,
   "metadata": {},
   "outputs": [],
   "source": [
    "class MemoryBank():\n",
    "\n",
    "    # 初始化，传入参数\n",
    "    def __init__(self,batch_size,full_data,topK=10):\n",
    "        self.topK=topK\n",
    "        self.batch_size=batch_size\n",
    "        self.bank=None\n",
    "        self.full_data=full_data\n",
    "\n",
    "    # 根据在updateBank中更新的hnsw对象以及输入的数据data（这里可以是embedding）提取TopK个近邻的数据\n",
    "    # 返回的结果是一个形状为[TopK,batch_size,num_genes]的数组，从第一个维度来看，\n",
    "    # 每个[batch_size,num_genes]的子数组都是根据输入的数据data寻找的一个近邻，一共TopK个\n",
    "    def generateContrast(self,data):\n",
    "        if self.bank is not None:\n",
    "            contrasts=np.empty((self.topK,args.batch_size,args.num_genes))\n",
    "            labels,distances=self.bank.knn_query(data,k=self.topK)\n",
    "            \n",
    "            # print(labels)\n",
    "\n",
    "            for step,label in enumerate(labels):\n",
    "                contrasts[:,step]=self.full_data[label.tolist()]\n",
    "            return contrasts\n",
    "        else:\n",
    "            print('Memory Bank has not been initialized......')\n",
    "            raise NotImplementedError()\n",
    "\n",
    "    # 根据输入的embedding更新hnsw对象\n",
    "    def updateBank(self,embedding):\n",
    "        num_elements=len(embedding)\n",
    "        dim=embedding.shape[1]\n",
    "        self.bank=hnswlib.Index(space='cosine',dim=dim)\n",
    "        self.bank.init_index(max_elements=num_elements, ef_construction=100, M=16)\n",
    "        self.bank.set_ef(100)\n",
    "        self.bank.set_num_threads(4)\n",
    "        self.bank.add_items(embedding)"
   ]
  },
  {
   "cell_type": "code",
   "execution_count": 10,
   "metadata": {
    "collapsed": false,
    "pycharm": {
     "name": "#%%\n"
    }
   },
   "outputs": [],
   "source": [
    "\n",
    "# def train(instance_loss,cluster_loss):\n",
    "#     loss_epoch = 0\n",
    "#     for step, (data,label) in enumerate(scDataset):\n",
    "#         optimizer.zero_grad()\n",
    "        \n",
    "#         x_i=data.clone().numpy()\n",
    "        \n",
    "#         labels, distances = p.knn_query(x_i, k=31)\n",
    "#         labels=labels.squeeze()\n",
    "#         contrastive=x_ndarray[labels.tolist()]\n",
    "#         input=np.row_stack((contrastive,x_i))\n",
    "#         input_1=input.copy()\n",
    "#         np.random.shuffle(input_1)\n",
    "#         x_a=torch.from_numpy(input).to('cuda')\n",
    "#         x_b=torch.from_numpy(input_1).to('cuda')\n",
    "        \n",
    "#         z_i,z_j,c_i,c_j=model(x_a,x_b)\n",
    "#         loss_instance=instance_loss(z_i,z_j)\n",
    "#         loss_cluster=cluster_loss(c_i,c_j)\n",
    "#         loss = loss_instance + loss_cluster\n",
    "#         loss.backward()\n",
    "#         optimizer.step()\n",
    "#         if step % 1000 == 0:\n",
    "#             print(f\"Step [{step}/{len(scDataLoader)}]\\t loss_instance: {loss_instance.item()}\\t loss_cluster: {loss_cluster.item()}\")\n",
    "#         loss_epoch += loss.item()\n",
    "#     return loss_epoch\n"
   ]
  },
  {
   "cell_type": "code",
   "execution_count": 16,
   "metadata": {},
   "outputs": [],
   "source": [
    "def train(instance_loss,cluster_loss,memory_bank,model,epoch):\n",
    "    loss_epoch=0\n",
    "    for step,(data,label) in enumerate(scDataLoader):\n",
    "        optimizer.zero_grad()\n",
    "        \n",
    "        if epoch<20:\n",
    "            embedding_data=data.numpy().copy()\n",
    "            data=data.to('cuda')\n",
    "        else:\n",
    "            data=data.to('cuda')\n",
    "            embedding_data=model.forward_embedding(data).cpu().detach().numpy()    \n",
    "        contrast_samples=memory_bank.generateContrast(embedding_data)\n",
    "        iter_times=contrast_samples.shape[0]\n",
    "        for sample in contrast_samples:\n",
    "            # print(f'sample shape:\\n{sample.shape}')\n",
    "            # print(f'data shape:\\n{data.shape}')\n",
    "            x_i=data.clone()\n",
    "            x_j=torch.tensor(sample,dtype=torch.float32).to('cuda')\n",
    "\n",
    "            z_i,z_j,c_i,c_j=model(x_i,x_j)\n",
    "            loss_instance=instance_loss(z_i,z_j)\n",
    "            loss_cluster=cluster_loss(c_i,c_j)\n",
    "            loss = loss_instance + loss_cluster\n",
    "            # print(f'------ loss:\\n{loss}')\n",
    "            loss.backward()\n",
    "            optimizer.step()\n",
    "            loss_epoch+=loss.item()\n",
    "        if step % 2 == 0:\n",
    "                print(f\"Step [{step}/{len(scDataLoader)}]\\t loss_instance: {loss_instance.item()}\\t loss_cluster: {loss_cluster.item()}\")\n",
    "            \n",
    "    return loss_epoch/iter_times"
   ]
  },
  {
   "cell_type": "code",
   "execution_count": 12,
   "metadata": {
    "collapsed": false,
    "pycharm": {
     "name": "#%%\n"
    }
   },
   "outputs": [],
   "source": [
    "def inference(loader, model, device):\n",
    "    model.eval()\n",
    "    feature_vector = []\n",
    "    labels_vector = []\n",
    "    for step, (x, y) in enumerate(loader):\n",
    "        x = x.to(device)\n",
    "        with torch.no_grad():\n",
    "            c = model.forward_cluster(x)\n",
    "        c = c.detach()\n",
    "        feature_vector.extend(c.cpu().detach().numpy())\n",
    "        labels_vector.extend(y.numpy())\n",
    "        if step % 1000 == 0:\n",
    "            print(f\"Step [{step}/{len(loader)}]\\t Computing features...\")\n",
    "    feature_vector = np.array(feature_vector)\n",
    "    labels_vector = np.array(labels_vector)\n",
    "    print(\"Features shape {}\".format(feature_vector.shape))\n",
    "    # print(feature_vector.shape, labels_vector.shape)\n",
    "    return feature_vector, labels_vector"
   ]
  },
  {
   "cell_type": "code",
   "execution_count": 13,
   "metadata": {
    "collapsed": false,
    "pycharm": {
     "name": "#%%\n"
    }
   },
   "outputs": [],
   "source": [
    "from evaluation import evaluation\n",
    "def test():\n",
    "    device = torch.device(\"cuda\" if torch.cuda.is_available() else \"cpu\")\n",
    "    X, Y = inference(scDataLoader, model, device)\n",
    "    # print(X.shape,Y.shape)\n",
    "    nmi, ari, f, acc = evaluation.evaluate(Y.reshape(-1), X)\n",
    "    # print('NMI = {:.4f} ARI = {:.4f} F = {:.4f} ACC = {:.4f}'.format(nmi, ari, f, acc))\n",
    "    return nmi, ari, f, acc"
   ]
  },
  {
   "cell_type": "code",
   "execution_count": 17,
   "metadata": {
    "collapsed": false,
    "pycharm": {
     "name": "#%%\n"
    }
   },
   "outputs": [
    {
     "name": "stderr",
     "output_type": "stream",
     "text": [
      "C:\\Users\\Tom-G\\.conda\\envs\\torchenv\\lib\\site-packages\\torch\\nn\\modules\\container.py:141: UserWarning: Implicit dimension choice for softmax has been deprecated. Change the call to include dim=X as an argument.\n",
      "  input = module(input)\n"
     ]
    },
    {
     "name": "stdout",
     "output_type": "stream",
     "text": [
      "Step [0/8]\t loss_instance: 7.611912727355957\t loss_cluster: 3.2985475063323975\n",
      "Step [2/8]\t loss_instance: 7.386444568634033\t loss_cluster: 3.2981691360473633\n",
      "Step [4/8]\t loss_instance: 7.122994899749756\t loss_cluster: 3.2965970039367676\n",
      "Step [6/8]\t loss_instance: 7.055197238922119\t loss_cluster: 3.2889761924743652\n",
      "\n",
      "Epoch [1/500]\t Loss: 10.585323131084442 \n",
      "\n",
      "Step [0/8]\t Computing features...\n",
      "Features shape (8192,)\n",
      "14\n",
      "Test NMI = 0.4649 ARI = 0.3201 F = 0.5741 ACC = 0.4170\n",
      "================================================================\n",
      "\n"
     ]
    },
    {
     "name": "stderr",
     "output_type": "stream",
     "text": [
      "C:\\Users\\Tom-G\\.conda\\envs\\torchenv\\lib\\site-packages\\torch\\nn\\modules\\container.py:141: UserWarning: Implicit dimension choice for softmax has been deprecated. Change the call to include dim=X as an argument.\n",
      "  input = module(input)\n"
     ]
    },
    {
     "name": "stdout",
     "output_type": "stream",
     "text": [
      "Step [0/8]\t loss_instance: 7.008257865905762\t loss_cluster: 3.2556445598602295\n",
      "Step [2/8]\t loss_instance: 6.925484657287598\t loss_cluster: 3.176292657852173\n",
      "Step [4/8]\t loss_instance: 6.77868127822876\t loss_cluster: 3.1144700050354004\n",
      "Step [6/8]\t loss_instance: 6.7264604568481445\t loss_cluster: 3.036620855331421\n",
      "\n",
      "Epoch [2/500]\t Loss: 9.97733449935913 \n",
      "\n",
      "Step [0/8]\t Computing features...\n",
      "Features shape (8192,)\n",
      "14\n",
      "Test NMI = 0.5604 ARI = 0.3740 F = 0.5435 ACC = 0.5648\n",
      "================================================================\n",
      "\n"
     ]
    },
    {
     "name": "stderr",
     "output_type": "stream",
     "text": [
      "C:\\Users\\Tom-G\\.conda\\envs\\torchenv\\lib\\site-packages\\torch\\nn\\modules\\container.py:141: UserWarning: Implicit dimension choice for softmax has been deprecated. Change the call to include dim=X as an argument.\n",
      "  input = module(input)\n"
     ]
    },
    {
     "name": "stdout",
     "output_type": "stream",
     "text": [
      "Step [0/8]\t loss_instance: 6.528403282165527\t loss_cluster: 3.0011518001556396\n",
      "Step [2/8]\t loss_instance: 6.4812822341918945\t loss_cluster: 2.8850393295288086\n",
      "Step [4/8]\t loss_instance: 6.424095153808594\t loss_cluster: 2.7726221084594727\n",
      "Step [6/8]\t loss_instance: 6.41262674331665\t loss_cluster: 2.6632399559020996\n",
      "\n",
      "Epoch [3/500]\t Loss: 9.257859110832214 \n",
      "\n",
      "Step [0/8]\t Computing features...\n",
      "Features shape (8192,)\n",
      "14\n",
      "Test NMI = 0.6569 ARI = 0.5969 F = 0.6772 ACC = 0.6927\n",
      "================================================================\n",
      "\n"
     ]
    },
    {
     "name": "stderr",
     "output_type": "stream",
     "text": [
      "C:\\Users\\Tom-G\\.conda\\envs\\torchenv\\lib\\site-packages\\torch\\nn\\modules\\container.py:141: UserWarning: Implicit dimension choice for softmax has been deprecated. Change the call to include dim=X as an argument.\n",
      "  input = module(input)\n"
     ]
    },
    {
     "name": "stdout",
     "output_type": "stream",
     "text": [
      "Step [0/8]\t loss_instance: 6.39091682434082\t loss_cluster: 2.57781982421875\n",
      "Step [2/8]\t loss_instance: 6.3522772789001465\t loss_cluster: 2.5034942626953125\n",
      "Step [4/8]\t loss_instance: 6.381070137023926\t loss_cluster: 2.472910165786743\n",
      "Step [6/8]\t loss_instance: 6.336994647979736\t loss_cluster: 2.4281044006347656\n",
      "\n",
      "Epoch [4/500]\t Loss: 8.84114966392517 \n",
      "\n",
      "Step [0/8]\t Computing features...\n",
      "Features shape (8192,)\n",
      "14\n",
      "Test NMI = 0.6438 ARI = 0.4295 F = 0.5305 ACC = 0.5413\n",
      "================================================================\n",
      "\n"
     ]
    },
    {
     "name": "stderr",
     "output_type": "stream",
     "text": [
      "C:\\Users\\Tom-G\\.conda\\envs\\torchenv\\lib\\site-packages\\torch\\nn\\modules\\container.py:141: UserWarning: Implicit dimension choice for softmax has been deprecated. Change the call to include dim=X as an argument.\n",
      "  input = module(input)\n"
     ]
    },
    {
     "name": "stdout",
     "output_type": "stream",
     "text": [
      "Step [0/8]\t loss_instance: 6.312475204467773\t loss_cluster: 2.3877172470092773\n",
      "Step [2/8]\t loss_instance: 6.2974677085876465\t loss_cluster: 2.3373162746429443\n",
      "Step [4/8]\t loss_instance: 6.299200057983398\t loss_cluster: 2.28690242767334\n",
      "Step [6/8]\t loss_instance: 6.300270080566406\t loss_cluster: 2.230776786804199\n",
      "\n",
      "Epoch [5/500]\t Loss: 8.599665892124175 \n",
      "\n",
      "Step [0/8]\t Computing features...\n",
      "Features shape (8192,)\n",
      "14\n",
      "Test NMI = 0.6655 ARI = 0.4837 F = 0.5810 ACC = 0.5162\n",
      "================================================================\n",
      "\n"
     ]
    },
    {
     "name": "stderr",
     "output_type": "stream",
     "text": [
      "C:\\Users\\Tom-G\\.conda\\envs\\torchenv\\lib\\site-packages\\torch\\nn\\modules\\container.py:141: UserWarning: Implicit dimension choice for softmax has been deprecated. Change the call to include dim=X as an argument.\n",
      "  input = module(input)\n"
     ]
    },
    {
     "name": "stdout",
     "output_type": "stream",
     "text": [
      "Step [0/8]\t loss_instance: 6.276429653167725\t loss_cluster: 2.1917738914489746\n",
      "Step [2/8]\t loss_instance: 6.265584468841553\t loss_cluster: 2.116525650024414\n",
      "Step [4/8]\t loss_instance: 6.277177333831787\t loss_cluster: 2.1107571125030518\n",
      "Step [6/8]\t loss_instance: 6.269927501678467\t loss_cluster: 2.0760393142700195\n",
      "\n",
      "Epoch [6/500]\t Loss: 8.372284829616547 \n",
      "\n",
      "Step [0/8]\t Computing features...\n",
      "Features shape (8192,)\n",
      "14\n",
      "Test NMI = 0.6778 ARI = 0.4267 F = 0.5379 ACC = 0.4948\n",
      "================================================================\n",
      "\n"
     ]
    },
    {
     "name": "stderr",
     "output_type": "stream",
     "text": [
      "C:\\Users\\Tom-G\\.conda\\envs\\torchenv\\lib\\site-packages\\torch\\nn\\modules\\container.py:141: UserWarning: Implicit dimension choice for softmax has been deprecated. Change the call to include dim=X as an argument.\n",
      "  input = module(input)\n"
     ]
    },
    {
     "name": "stdout",
     "output_type": "stream",
     "text": [
      "Step [0/8]\t loss_instance: 6.249527454376221\t loss_cluster: 2.043657064437866\n",
      "Step [2/8]\t loss_instance: 6.255393028259277\t loss_cluster: 2.05285906791687\n",
      "Step [4/8]\t loss_instance: 6.235119342803955\t loss_cluster: 1.988052487373352\n",
      "Step [6/8]\t loss_instance: 6.217875003814697\t loss_cluster: 1.9952962398529053\n",
      "\n",
      "Epoch [7/500]\t Loss: 8.223790979385376 \n",
      "\n",
      "Step [0/8]\t Computing features...\n",
      "Features shape (8192,)\n",
      "14\n",
      "Test NMI = 0.7039 ARI = 0.5048 F = 0.6044 ACC = 0.5493\n",
      "================================================================\n",
      "\n"
     ]
    },
    {
     "name": "stderr",
     "output_type": "stream",
     "text": [
      "C:\\Users\\Tom-G\\.conda\\envs\\torchenv\\lib\\site-packages\\torch\\nn\\modules\\container.py:141: UserWarning: Implicit dimension choice for softmax has been deprecated. Change the call to include dim=X as an argument.\n",
      "  input = module(input)\n"
     ]
    },
    {
     "name": "stdout",
     "output_type": "stream",
     "text": [
      "Step [0/8]\t loss_instance: 6.248169898986816\t loss_cluster: 1.9904794692993164\n",
      "Step [2/8]\t loss_instance: 6.222834587097168\t loss_cluster: 1.966751217842102\n",
      "Step [4/8]\t loss_instance: 6.261092662811279\t loss_cluster: 2.028761148452759\n",
      "Step [6/8]\t loss_instance: 6.220077037811279\t loss_cluster: 1.972450852394104\n",
      "\n",
      "Epoch [8/500]\t Loss: 8.158262938261032 \n",
      "\n",
      "Step [0/8]\t Computing features...\n",
      "Features shape (8192,)\n",
      "14\n",
      "Test NMI = 0.7442 ARI = 0.5721 F = 0.6649 ACC = 0.6205\n",
      "================================================================\n",
      "\n"
     ]
    },
    {
     "name": "stderr",
     "output_type": "stream",
     "text": [
      "C:\\Users\\Tom-G\\.conda\\envs\\torchenv\\lib\\site-packages\\torch\\nn\\modules\\container.py:141: UserWarning: Implicit dimension choice for softmax has been deprecated. Change the call to include dim=X as an argument.\n",
      "  input = module(input)\n"
     ]
    },
    {
     "name": "stdout",
     "output_type": "stream",
     "text": [
      "Step [0/8]\t loss_instance: 6.2234649658203125\t loss_cluster: 1.9516322612762451\n",
      "Step [2/8]\t loss_instance: 6.211052417755127\t loss_cluster: 1.9297771453857422\n",
      "Step [4/8]\t loss_instance: 6.1993632316589355\t loss_cluster: 1.949601411819458\n",
      "Step [6/8]\t loss_instance: 6.173089504241943\t loss_cluster: 1.929078221321106\n",
      "\n",
      "Epoch [9/500]\t Loss: 8.095759558677674 \n",
      "\n",
      "Step [0/8]\t Computing features...\n",
      "Features shape (8192,)\n",
      "14\n",
      "Test NMI = 0.7233 ARI = 0.4790 F = 0.5840 ACC = 0.5317\n",
      "================================================================\n",
      "\n"
     ]
    },
    {
     "name": "stderr",
     "output_type": "stream",
     "text": [
      "C:\\Users\\Tom-G\\.conda\\envs\\torchenv\\lib\\site-packages\\torch\\nn\\modules\\container.py:141: UserWarning: Implicit dimension choice for softmax has been deprecated. Change the call to include dim=X as an argument.\n",
      "  input = module(input)\n"
     ]
    },
    {
     "name": "stdout",
     "output_type": "stream",
     "text": [
      "Step [0/8]\t loss_instance: 6.192195415496826\t loss_cluster: 1.9144763946533203\n",
      "Step [2/8]\t loss_instance: 6.169405937194824\t loss_cluster: 1.8814867734909058\n",
      "Step [4/8]\t loss_instance: 6.184606552124023\t loss_cluster: 1.8844207525253296\n",
      "Step [6/8]\t loss_instance: 6.159989833831787\t loss_cluster: 1.8582159280776978\n",
      "\n",
      "Epoch [10/500]\t Loss: 8.022419333457947 \n",
      "\n",
      "Step [0/8]\t Computing features...\n",
      "Features shape (8192,)\n",
      "14\n",
      "Test NMI = 0.7148 ARI = 0.4706 F = 0.5820 ACC = 0.5585\n",
      "================================================================\n",
      "\n"
     ]
    },
    {
     "name": "stderr",
     "output_type": "stream",
     "text": [
      "C:\\Users\\Tom-G\\.conda\\envs\\torchenv\\lib\\site-packages\\torch\\nn\\modules\\container.py:141: UserWarning: Implicit dimension choice for softmax has been deprecated. Change the call to include dim=X as an argument.\n",
      "  input = module(input)\n"
     ]
    },
    {
     "name": "stdout",
     "output_type": "stream",
     "text": [
      "Step [0/8]\t loss_instance: 6.176635265350342\t loss_cluster: 1.8669769763946533\n",
      "Step [2/8]\t loss_instance: 6.168341159820557\t loss_cluster: 1.8820964097976685\n",
      "Step [4/8]\t loss_instance: 6.189380645751953\t loss_cluster: 1.9408295154571533\n",
      "Step [6/8]\t loss_instance: 6.179754734039307\t loss_cluster: 1.8994250297546387\n",
      "\n",
      "Epoch [11/500]\t Loss: 8.004719877243042 \n",
      "\n",
      "Step [0/8]\t Computing features...\n",
      "Features shape (8192,)\n",
      "14\n",
      "Test NMI = 0.7282 ARI = 0.4745 F = 0.5815 ACC = 0.5270\n",
      "================================================================\n",
      "\n"
     ]
    },
    {
     "name": "stderr",
     "output_type": "stream",
     "text": [
      "C:\\Users\\Tom-G\\.conda\\envs\\torchenv\\lib\\site-packages\\torch\\nn\\modules\\container.py:141: UserWarning: Implicit dimension choice for softmax has been deprecated. Change the call to include dim=X as an argument.\n",
      "  input = module(input)\n"
     ]
    },
    {
     "name": "stdout",
     "output_type": "stream",
     "text": [
      "Step [0/8]\t loss_instance: 6.16923189163208\t loss_cluster: 1.8543654680252075\n",
      "Step [2/8]\t loss_instance: 6.1633992195129395\t loss_cluster: 1.8401139974594116\n",
      "Step [4/8]\t loss_instance: 6.161157608032227\t loss_cluster: 1.8300727605819702\n",
      "Step [6/8]\t loss_instance: 6.171111106872559\t loss_cluster: 1.8405276536941528\n",
      "\n",
      "Epoch [12/500]\t Loss: 7.958566892147064 \n",
      "\n",
      "Step [0/8]\t Computing features...\n",
      "Features shape (8192,)\n",
      "14\n",
      "Test NMI = 0.7284 ARI = 0.4576 F = 0.5744 ACC = 0.4913\n",
      "================================================================\n",
      "\n"
     ]
    },
    {
     "name": "stderr",
     "output_type": "stream",
     "text": [
      "C:\\Users\\Tom-G\\.conda\\envs\\torchenv\\lib\\site-packages\\torch\\nn\\modules\\container.py:141: UserWarning: Implicit dimension choice for softmax has been deprecated. Change the call to include dim=X as an argument.\n",
      "  input = module(input)\n"
     ]
    },
    {
     "name": "stdout",
     "output_type": "stream",
     "text": [
      "Step [0/8]\t loss_instance: 6.171188831329346\t loss_cluster: 1.8377351760864258\n",
      "Step [2/8]\t loss_instance: 6.16572380065918\t loss_cluster: 1.8268799781799316\n",
      "Step [4/8]\t loss_instance: 6.168056011199951\t loss_cluster: 1.8281201124191284\n",
      "Step [6/8]\t loss_instance: 6.173305511474609\t loss_cluster: 1.804187297821045\n",
      "\n",
      "Epoch [13/500]\t Loss: 7.9374457657337185 \n",
      "\n",
      "Step [0/8]\t Computing features...\n",
      "Features shape (8192,)\n",
      "14\n",
      "Test NMI = 0.7313 ARI = 0.4626 F = 0.5791 ACC = 0.5094\n",
      "================================================================\n",
      "\n"
     ]
    },
    {
     "name": "stderr",
     "output_type": "stream",
     "text": [
      "C:\\Users\\Tom-G\\.conda\\envs\\torchenv\\lib\\site-packages\\torch\\nn\\modules\\container.py:141: UserWarning: Implicit dimension choice for softmax has been deprecated. Change the call to include dim=X as an argument.\n",
      "  input = module(input)\n"
     ]
    },
    {
     "name": "stdout",
     "output_type": "stream",
     "text": [
      "Step [0/8]\t loss_instance: 6.156755447387695\t loss_cluster: 1.8177603483200073\n",
      "Step [2/8]\t loss_instance: 6.17938232421875\t loss_cluster: 1.8174790143966675\n",
      "Step [4/8]\t loss_instance: 6.145075798034668\t loss_cluster: 1.8143383264541626\n",
      "Step [6/8]\t loss_instance: 6.133073329925537\t loss_cluster: 1.7868317365646362\n",
      "\n",
      "Epoch [14/500]\t Loss: 7.9076773583889 \n",
      "\n",
      "Step [0/8]\t Computing features...\n",
      "Features shape (8192,)\n",
      "14\n",
      "Test NMI = 0.7328 ARI = 0.4616 F = 0.5790 ACC = 0.4999\n",
      "================================================================\n",
      "\n"
     ]
    },
    {
     "name": "stderr",
     "output_type": "stream",
     "text": [
      "C:\\Users\\Tom-G\\.conda\\envs\\torchenv\\lib\\site-packages\\torch\\nn\\modules\\container.py:141: UserWarning: Implicit dimension choice for softmax has been deprecated. Change the call to include dim=X as an argument.\n",
      "  input = module(input)\n"
     ]
    },
    {
     "name": "stdout",
     "output_type": "stream",
     "text": [
      "Step [0/8]\t loss_instance: 6.149097919464111\t loss_cluster: 1.7783403396606445\n",
      "Step [2/8]\t loss_instance: 6.154568672180176\t loss_cluster: 1.8020039796829224\n",
      "Step [4/8]\t loss_instance: 6.151663780212402\t loss_cluster: 1.797067642211914\n",
      "Step [6/8]\t loss_instance: 6.1466193199157715\t loss_cluster: 1.7721039056777954\n",
      "\n",
      "Epoch [15/500]\t Loss: 7.86729456782341 \n",
      "\n",
      "Step [0/8]\t Computing features...\n",
      "Features shape (8192,)\n",
      "14\n",
      "Test NMI = 0.7309 ARI = 0.4543 F = 0.5712 ACC = 0.4729\n",
      "================================================================\n",
      "\n"
     ]
    },
    {
     "name": "stderr",
     "output_type": "stream",
     "text": [
      "C:\\Users\\Tom-G\\.conda\\envs\\torchenv\\lib\\site-packages\\torch\\nn\\modules\\container.py:141: UserWarning: Implicit dimension choice for softmax has been deprecated. Change the call to include dim=X as an argument.\n",
      "  input = module(input)\n"
     ]
    },
    {
     "name": "stdout",
     "output_type": "stream",
     "text": [
      "Step [0/8]\t loss_instance: 6.134418964385986\t loss_cluster: 1.7920219898223877\n",
      "Step [2/8]\t loss_instance: 6.131836891174316\t loss_cluster: 1.7702124118804932\n",
      "Step [4/8]\t loss_instance: 6.157496929168701\t loss_cluster: 1.7851836681365967\n",
      "Step [6/8]\t loss_instance: 6.157240867614746\t loss_cluster: 1.7997421026229858\n",
      "\n",
      "Epoch [16/500]\t Loss: 7.873657912015915 \n",
      "\n",
      "Step [0/8]\t Computing features...\n",
      "Features shape (8192,)\n",
      "14\n",
      "Test NMI = 0.7275 ARI = 0.4540 F = 0.5702 ACC = 0.4927\n",
      "================================================================\n",
      "\n"
     ]
    },
    {
     "name": "stderr",
     "output_type": "stream",
     "text": [
      "C:\\Users\\Tom-G\\.conda\\envs\\torchenv\\lib\\site-packages\\torch\\nn\\modules\\container.py:141: UserWarning: Implicit dimension choice for softmax has been deprecated. Change the call to include dim=X as an argument.\n",
      "  input = module(input)\n"
     ]
    },
    {
     "name": "stdout",
     "output_type": "stream",
     "text": [
      "Step [0/8]\t loss_instance: 6.147150993347168\t loss_cluster: 1.797852873802185\n",
      "Step [2/8]\t loss_instance: 6.146977424621582\t loss_cluster: 1.7669612169265747\n",
      "Step [4/8]\t loss_instance: 6.138700485229492\t loss_cluster: 1.7765980958938599\n",
      "Step [6/8]\t loss_instance: 6.132965564727783\t loss_cluster: 1.7579500675201416\n",
      "\n",
      "Epoch [17/500]\t Loss: 7.8391571044921875 \n",
      "\n",
      "Step [0/8]\t Computing features...\n",
      "Features shape (8192,)\n",
      "14\n",
      "Test NMI = 0.7344 ARI = 0.4566 F = 0.5745 ACC = 0.4854\n",
      "================================================================\n",
      "\n"
     ]
    },
    {
     "name": "stderr",
     "output_type": "stream",
     "text": [
      "C:\\Users\\Tom-G\\.conda\\envs\\torchenv\\lib\\site-packages\\torch\\nn\\modules\\container.py:141: UserWarning: Implicit dimension choice for softmax has been deprecated. Change the call to include dim=X as an argument.\n",
      "  input = module(input)\n"
     ]
    },
    {
     "name": "stdout",
     "output_type": "stream",
     "text": [
      "Step [0/8]\t loss_instance: 6.138424396514893\t loss_cluster: 1.7613061666488647\n",
      "Step [2/8]\t loss_instance: 6.125288963317871\t loss_cluster: 1.745314121246338\n",
      "Step [4/8]\t loss_instance: 6.126155376434326\t loss_cluster: 1.748535394668579\n",
      "Step [6/8]\t loss_instance: 6.147023677825928\t loss_cluster: 1.7778557538986206\n",
      "\n",
      "Epoch [18/500]\t Loss: 7.828075629472733 \n",
      "\n",
      "Step [0/8]\t Computing features...\n",
      "Features shape (8192,)\n",
      "14\n",
      "Test NMI = 0.7353 ARI = 0.4572 F = 0.5754 ACC = 0.4900\n",
      "================================================================\n",
      "\n"
     ]
    },
    {
     "name": "stderr",
     "output_type": "stream",
     "text": [
      "C:\\Users\\Tom-G\\.conda\\envs\\torchenv\\lib\\site-packages\\torch\\nn\\modules\\container.py:141: UserWarning: Implicit dimension choice for softmax has been deprecated. Change the call to include dim=X as an argument.\n",
      "  input = module(input)\n"
     ]
    },
    {
     "name": "stdout",
     "output_type": "stream",
     "text": [
      "Step [0/8]\t loss_instance: 6.122047424316406\t loss_cluster: 1.7431691884994507\n",
      "Step [2/8]\t loss_instance: 6.1201019287109375\t loss_cluster: 1.7598031759262085\n",
      "Step [4/8]\t loss_instance: 6.125842094421387\t loss_cluster: 1.749688744544983\n",
      "Step [6/8]\t loss_instance: 6.142370223999023\t loss_cluster: 1.7565451860427856\n",
      "\n",
      "Epoch [19/500]\t Loss: 7.811176472902298 \n",
      "\n",
      "Step [0/8]\t Computing features...\n",
      "Features shape (8192,)\n",
      "14\n",
      "Test NMI = 0.7326 ARI = 0.4506 F = 0.5686 ACC = 0.4778\n",
      "================================================================\n",
      "\n"
     ]
    },
    {
     "name": "stderr",
     "output_type": "stream",
     "text": [
      "C:\\Users\\Tom-G\\.conda\\envs\\torchenv\\lib\\site-packages\\torch\\nn\\modules\\container.py:141: UserWarning: Implicit dimension choice for softmax has been deprecated. Change the call to include dim=X as an argument.\n",
      "  input = module(input)\n"
     ]
    },
    {
     "name": "stdout",
     "output_type": "stream",
     "text": [
      "Step [0/8]\t loss_instance: 5.964566707611084\t loss_cluster: 1.6316131353378296\n",
      "Step [2/8]\t loss_instance: 5.973881721496582\t loss_cluster: 1.6359919309616089\n",
      "Step [4/8]\t loss_instance: 5.955413818359375\t loss_cluster: 1.6287239789962769\n",
      "Step [6/8]\t loss_instance: 6.007511615753174\t loss_cluster: 1.710351824760437\n",
      "\n",
      "Epoch [20/500]\t Loss: 7.641966438293457 \n",
      "\n",
      "Step [0/8]\t Computing features...\n",
      "Features shape (8192,)\n",
      "14\n",
      "Test NMI = 0.7110 ARI = 0.4308 F = 0.5489 ACC = 0.4934\n",
      "================================================================\n",
      "\n"
     ]
    },
    {
     "name": "stderr",
     "output_type": "stream",
     "text": [
      "C:\\Users\\Tom-G\\.conda\\envs\\torchenv\\lib\\site-packages\\torch\\nn\\modules\\container.py:141: UserWarning: Implicit dimension choice for softmax has been deprecated. Change the call to include dim=X as an argument.\n",
      "  input = module(input)\n"
     ]
    },
    {
     "name": "stdout",
     "output_type": "stream",
     "text": [
      "Step [0/8]\t loss_instance: 6.039512634277344\t loss_cluster: 1.7313553094863892\n",
      "Step [2/8]\t loss_instance: 6.094101428985596\t loss_cluster: 1.808885097503662\n",
      "Step [4/8]\t loss_instance: 6.263644218444824\t loss_cluster: 2.068671226501465\n",
      "Step [6/8]\t loss_instance: 6.058956146240234\t loss_cluster: 1.7960706949234009\n",
      "\n",
      "Epoch [21/500]\t Loss: 7.950723820924759 \n",
      "\n",
      "Step [0/8]\t Computing features...\n",
      "Features shape (8192,)\n",
      "14\n",
      "Test NMI = 0.7386 ARI = 0.4586 F = 0.5752 ACC = 0.4691\n",
      "================================================================\n",
      "\n"
     ]
    },
    {
     "name": "stderr",
     "output_type": "stream",
     "text": [
      "C:\\Users\\Tom-G\\.conda\\envs\\torchenv\\lib\\site-packages\\torch\\nn\\modules\\container.py:141: UserWarning: Implicit dimension choice for softmax has been deprecated. Change the call to include dim=X as an argument.\n",
      "  input = module(input)\n"
     ]
    },
    {
     "name": "stdout",
     "output_type": "stream",
     "text": [
      "Step [0/8]\t loss_instance: 6.012260437011719\t loss_cluster: 1.6635891199111938\n",
      "Step [2/8]\t loss_instance: 6.015419006347656\t loss_cluster: 1.6638342142105103\n",
      "Step [4/8]\t loss_instance: 5.977881908416748\t loss_cluster: 1.6409821510314941\n",
      "Step [6/8]\t loss_instance: 5.972832679748535\t loss_cluster: 1.6343145370483398\n",
      "\n",
      "Epoch [22/500]\t Loss: 7.6502472221851345 \n",
      "\n",
      "Step [0/8]\t Computing features...\n",
      "Features shape (8192,)\n",
      "14\n",
      "Test NMI = 0.7475 ARI = 0.4655 F = 0.5833 ACC = 0.4756\n",
      "================================================================\n",
      "\n"
     ]
    },
    {
     "name": "stderr",
     "output_type": "stream",
     "text": [
      "C:\\Users\\Tom-G\\.conda\\envs\\torchenv\\lib\\site-packages\\torch\\nn\\modules\\container.py:141: UserWarning: Implicit dimension choice for softmax has been deprecated. Change the call to include dim=X as an argument.\n",
      "  input = module(input)\n"
     ]
    },
    {
     "name": "stdout",
     "output_type": "stream",
     "text": [
      "Step [0/8]\t loss_instance: 5.964528560638428\t loss_cluster: 1.6290371417999268\n",
      "Step [2/8]\t loss_instance: 5.977544784545898\t loss_cluster: 1.6488207578659058\n",
      "Step [4/8]\t loss_instance: 5.950769424438477\t loss_cluster: 1.6232401132583618\n",
      "Step [6/8]\t loss_instance: 5.976271152496338\t loss_cluster: 1.6595412492752075\n",
      "\n",
      "Epoch [23/500]\t Loss: 7.590665119886398 \n",
      "\n",
      "Step [0/8]\t Computing features...\n",
      "Features shape (8192,)\n",
      "14\n",
      "Test NMI = 0.7428 ARI = 0.4623 F = 0.5797 ACC = 0.4735\n",
      "================================================================\n",
      "\n"
     ]
    },
    {
     "name": "stderr",
     "output_type": "stream",
     "text": [
      "C:\\Users\\Tom-G\\.conda\\envs\\torchenv\\lib\\site-packages\\torch\\nn\\modules\\container.py:141: UserWarning: Implicit dimension choice for softmax has been deprecated. Change the call to include dim=X as an argument.\n",
      "  input = module(input)\n"
     ]
    },
    {
     "name": "stdout",
     "output_type": "stream",
     "text": [
      "Step [0/8]\t loss_instance: 5.94473934173584\t loss_cluster: 1.621147871017456\n",
      "Step [2/8]\t loss_instance: 5.963071346282959\t loss_cluster: 1.64256751537323\n",
      "Step [4/8]\t loss_instance: 5.948724746704102\t loss_cluster: 1.6120887994766235\n",
      "Step [6/8]\t loss_instance: 5.951855659484863\t loss_cluster: 1.6379705667495728\n",
      "\n",
      "Epoch [24/500]\t Loss: 7.574987626075744 \n",
      "\n",
      "Step [0/8]\t Computing features...\n",
      "Features shape (8192,)\n",
      "14\n",
      "Test NMI = 0.7292 ARI = 0.4470 F = 0.5661 ACC = 0.4606\n",
      "================================================================\n",
      "\n"
     ]
    },
    {
     "name": "stderr",
     "output_type": "stream",
     "text": [
      "C:\\Users\\Tom-G\\.conda\\envs\\torchenv\\lib\\site-packages\\torch\\nn\\modules\\container.py:141: UserWarning: Implicit dimension choice for softmax has been deprecated. Change the call to include dim=X as an argument.\n",
      "  input = module(input)\n"
     ]
    },
    {
     "name": "stdout",
     "output_type": "stream",
     "text": [
      "Step [0/8]\t loss_instance: 5.960781097412109\t loss_cluster: 1.641320824623108\n",
      "Step [2/8]\t loss_instance: 5.94519567489624\t loss_cluster: 1.6172069311141968\n",
      "Step [4/8]\t loss_instance: 5.9688544273376465\t loss_cluster: 1.6310399770736694\n",
      "Step [6/8]\t loss_instance: 5.962166786193848\t loss_cluster: 1.626824975013733\n",
      "\n",
      "Epoch [25/500]\t Loss: 7.575965243577957 \n",
      "\n",
      "Step [0/8]\t Computing features...\n",
      "Features shape (8192,)\n",
      "14\n",
      "Test NMI = 0.7336 ARI = 0.4540 F = 0.5723 ACC = 0.4747\n",
      "================================================================\n",
      "\n"
     ]
    },
    {
     "name": "stderr",
     "output_type": "stream",
     "text": [
      "C:\\Users\\Tom-G\\.conda\\envs\\torchenv\\lib\\site-packages\\torch\\nn\\modules\\container.py:141: UserWarning: Implicit dimension choice for softmax has been deprecated. Change the call to include dim=X as an argument.\n",
      "  input = module(input)\n"
     ]
    },
    {
     "name": "stdout",
     "output_type": "stream",
     "text": [
      "Step [0/8]\t loss_instance: 5.9703688621521\t loss_cluster: 1.6067384481430054\n",
      "Step [2/8]\t loss_instance: 5.949737071990967\t loss_cluster: 1.6197203397750854\n",
      "Step [4/8]\t loss_instance: 5.965419292449951\t loss_cluster: 1.625167727470398\n",
      "Step [6/8]\t loss_instance: 5.954724311828613\t loss_cluster: 1.6205326318740845\n",
      "\n",
      "Epoch [26/500]\t Loss: 7.576574379205704 \n",
      "\n",
      "Step [0/8]\t Computing features...\n",
      "Features shape (8192,)\n",
      "14\n",
      "Test NMI = 0.7158 ARI = 0.4313 F = 0.5516 ACC = 0.4578\n",
      "================================================================\n",
      "\n"
     ]
    },
    {
     "name": "stderr",
     "output_type": "stream",
     "text": [
      "C:\\Users\\Tom-G\\.conda\\envs\\torchenv\\lib\\site-packages\\torch\\nn\\modules\\container.py:141: UserWarning: Implicit dimension choice for softmax has been deprecated. Change the call to include dim=X as an argument.\n",
      "  input = module(input)\n"
     ]
    },
    {
     "name": "stdout",
     "output_type": "stream",
     "text": [
      "Step [0/8]\t loss_instance: 5.966390609741211\t loss_cluster: 1.6441653966903687\n",
      "Step [2/8]\t loss_instance: 5.962261199951172\t loss_cluster: 1.624597191810608\n",
      "Step [4/8]\t loss_instance: 5.973568916320801\t loss_cluster: 1.6406280994415283\n",
      "Step [6/8]\t loss_instance: 5.940675735473633\t loss_cluster: 1.5979450941085815\n",
      "\n",
      "Epoch [27/500]\t Loss: 7.583281487226486 \n",
      "\n",
      "Step [0/8]\t Computing features...\n",
      "Features shape (8192,)\n",
      "14\n",
      "Test NMI = 0.7261 ARI = 0.4394 F = 0.5595 ACC = 0.4675\n",
      "================================================================\n",
      "\n"
     ]
    },
    {
     "name": "stderr",
     "output_type": "stream",
     "text": [
      "C:\\Users\\Tom-G\\.conda\\envs\\torchenv\\lib\\site-packages\\torch\\nn\\modules\\container.py:141: UserWarning: Implicit dimension choice for softmax has been deprecated. Change the call to include dim=X as an argument.\n",
      "  input = module(input)\n"
     ]
    },
    {
     "name": "stdout",
     "output_type": "stream",
     "text": [
      "Step [0/8]\t loss_instance: 5.944803237915039\t loss_cluster: 1.6199263334274292\n",
      "Step [2/8]\t loss_instance: 5.9440460205078125\t loss_cluster: 1.6202455759048462\n",
      "Step [4/8]\t loss_instance: 5.962294101715088\t loss_cluster: 1.6334617137908936\n",
      "Step [6/8]\t loss_instance: 5.946537971496582\t loss_cluster: 1.6138758659362793\n",
      "\n",
      "Epoch [28/500]\t Loss: 7.564056342840194 \n",
      "\n",
      "Step [0/8]\t Computing features...\n",
      "Features shape (8192,)\n",
      "14\n",
      "Test NMI = 0.7178 ARI = 0.4289 F = 0.5494 ACC = 0.4596\n",
      "================================================================\n",
      "\n"
     ]
    },
    {
     "name": "stderr",
     "output_type": "stream",
     "text": [
      "C:\\Users\\Tom-G\\.conda\\envs\\torchenv\\lib\\site-packages\\torch\\nn\\modules\\container.py:141: UserWarning: Implicit dimension choice for softmax has been deprecated. Change the call to include dim=X as an argument.\n",
      "  input = module(input)\n"
     ]
    },
    {
     "name": "stdout",
     "output_type": "stream",
     "text": [
      "Step [0/8]\t loss_instance: 5.947448253631592\t loss_cluster: 1.6404411792755127\n",
      "Step [2/8]\t loss_instance: 5.973889350891113\t loss_cluster: 1.6446876525878906\n",
      "Step [4/8]\t loss_instance: 5.949428558349609\t loss_cluster: 1.613478660583496\n",
      "Step [6/8]\t loss_instance: 5.953372478485107\t loss_cluster: 1.6239805221557617\n",
      "\n",
      "Epoch [29/500]\t Loss: 7.572817492485046 \n",
      "\n",
      "Step [0/8]\t Computing features...\n",
      "Features shape (8192,)\n",
      "14\n",
      "Test NMI = 0.7185 ARI = 0.4314 F = 0.5514 ACC = 0.4607\n",
      "================================================================\n",
      "\n"
     ]
    },
    {
     "name": "stderr",
     "output_type": "stream",
     "text": [
      "C:\\Users\\Tom-G\\.conda\\envs\\torchenv\\lib\\site-packages\\torch\\nn\\modules\\container.py:141: UserWarning: Implicit dimension choice for softmax has been deprecated. Change the call to include dim=X as an argument.\n",
      "  input = module(input)\n"
     ]
    },
    {
     "name": "stdout",
     "output_type": "stream",
     "text": [
      "Step [0/8]\t loss_instance: 5.947248935699463\t loss_cluster: 1.6163583993911743\n",
      "Step [2/8]\t loss_instance: 5.933041572570801\t loss_cluster: 1.6184909343719482\n",
      "Step [4/8]\t loss_instance: 5.945338726043701\t loss_cluster: 1.6167811155319214\n",
      "Step [6/8]\t loss_instance: 5.942361831665039\t loss_cluster: 1.6228744983673096\n",
      "\n",
      "Epoch [30/500]\t Loss: 7.554128909111023 \n",
      "\n",
      "Step [0/8]\t Computing features...\n",
      "Features shape (8192,)\n",
      "14\n",
      "Test NMI = 0.7200 ARI = 0.4324 F = 0.5521 ACC = 0.4644\n",
      "================================================================\n",
      "\n"
     ]
    },
    {
     "name": "stderr",
     "output_type": "stream",
     "text": [
      "C:\\Users\\Tom-G\\.conda\\envs\\torchenv\\lib\\site-packages\\torch\\nn\\modules\\container.py:141: UserWarning: Implicit dimension choice for softmax has been deprecated. Change the call to include dim=X as an argument.\n",
      "  input = module(input)\n"
     ]
    },
    {
     "name": "stdout",
     "output_type": "stream",
     "text": [
      "Step [0/8]\t loss_instance: 5.935091018676758\t loss_cluster: 1.6012548208236694\n",
      "Step [2/8]\t loss_instance: 5.942149639129639\t loss_cluster: 1.6171257495880127\n",
      "Step [4/8]\t loss_instance: 5.979028701782227\t loss_cluster: 1.667945146560669\n",
      "Step [6/8]\t loss_instance: 5.9582414627075195\t loss_cluster: 1.6277339458465576\n",
      "\n",
      "Epoch [31/500]\t Loss: 7.567777967453003 \n",
      "\n",
      "Step [0/8]\t Computing features...\n",
      "Features shape (8192,)\n",
      "14\n",
      "Test NMI = 0.7196 ARI = 0.4319 F = 0.5516 ACC = 0.4690\n",
      "================================================================\n",
      "\n"
     ]
    },
    {
     "name": "stderr",
     "output_type": "stream",
     "text": [
      "C:\\Users\\Tom-G\\.conda\\envs\\torchenv\\lib\\site-packages\\torch\\nn\\modules\\container.py:141: UserWarning: Implicit dimension choice for softmax has been deprecated. Change the call to include dim=X as an argument.\n",
      "  input = module(input)\n"
     ]
    },
    {
     "name": "stdout",
     "output_type": "stream",
     "text": [
      "Step [0/8]\t loss_instance: 5.957911968231201\t loss_cluster: 1.6295267343521118\n",
      "Step [2/8]\t loss_instance: 5.954156875610352\t loss_cluster: 1.6546671390533447\n",
      "Step [4/8]\t loss_instance: 5.953157901763916\t loss_cluster: 1.6339000463485718\n",
      "Step [6/8]\t loss_instance: 5.955960750579834\t loss_cluster: 1.6307135820388794\n",
      "\n",
      "Epoch [32/500]\t Loss: 7.5642857372760774 \n",
      "\n",
      "Step [0/8]\t Computing features...\n",
      "Features shape (8192,)\n",
      "14\n",
      "Test NMI = 0.7224 ARI = 0.4312 F = 0.5513 ACC = 0.4592\n",
      "================================================================\n",
      "\n"
     ]
    },
    {
     "name": "stderr",
     "output_type": "stream",
     "text": [
      "C:\\Users\\Tom-G\\.conda\\envs\\torchenv\\lib\\site-packages\\torch\\nn\\modules\\container.py:141: UserWarning: Implicit dimension choice for softmax has been deprecated. Change the call to include dim=X as an argument.\n",
      "  input = module(input)\n"
     ]
    },
    {
     "name": "stdout",
     "output_type": "stream",
     "text": [
      "Step [0/8]\t loss_instance: 5.943600177764893\t loss_cluster: 1.6193993091583252\n",
      "Step [2/8]\t loss_instance: 5.946697235107422\t loss_cluster: 1.620510458946228\n",
      "Step [4/8]\t loss_instance: 5.943699359893799\t loss_cluster: 1.6243592500686646\n",
      "Step [6/8]\t loss_instance: 5.953503131866455\t loss_cluster: 1.620015263557434\n",
      "\n",
      "Epoch [33/500]\t Loss: 7.546290522813797 \n",
      "\n",
      "Step [0/8]\t Computing features...\n",
      "Features shape (8192,)\n",
      "14\n",
      "Test NMI = 0.7134 ARI = 0.4255 F = 0.5465 ACC = 0.4557\n",
      "================================================================\n",
      "\n"
     ]
    },
    {
     "name": "stderr",
     "output_type": "stream",
     "text": [
      "C:\\Users\\Tom-G\\.conda\\envs\\torchenv\\lib\\site-packages\\torch\\nn\\modules\\container.py:141: UserWarning: Implicit dimension choice for softmax has been deprecated. Change the call to include dim=X as an argument.\n",
      "  input = module(input)\n"
     ]
    },
    {
     "name": "stdout",
     "output_type": "stream",
     "text": [
      "Step [0/8]\t loss_instance: 5.95951509475708\t loss_cluster: 1.6493114233016968\n",
      "Step [2/8]\t loss_instance: 5.937450885772705\t loss_cluster: 1.6259880065917969\n",
      "Step [4/8]\t loss_instance: 5.949340343475342\t loss_cluster: 1.6389586925506592\n",
      "Step [6/8]\t loss_instance: 5.948757171630859\t loss_cluster: 1.626198172569275\n",
      "\n",
      "Epoch [34/500]\t Loss: 7.555234038829804 \n",
      "\n",
      "Step [0/8]\t Computing features...\n",
      "Features shape (8192,)\n",
      "14\n",
      "Test NMI = 0.7170 ARI = 0.4306 F = 0.5507 ACC = 0.4709\n",
      "================================================================\n",
      "\n"
     ]
    },
    {
     "name": "stderr",
     "output_type": "stream",
     "text": [
      "C:\\Users\\Tom-G\\.conda\\envs\\torchenv\\lib\\site-packages\\torch\\nn\\modules\\container.py:141: UserWarning: Implicit dimension choice for softmax has been deprecated. Change the call to include dim=X as an argument.\n",
      "  input = module(input)\n"
     ]
    },
    {
     "name": "stdout",
     "output_type": "stream",
     "text": [
      "Step [0/8]\t loss_instance: 5.955596923828125\t loss_cluster: 1.663766622543335\n",
      "Step [2/8]\t loss_instance: 5.939483642578125\t loss_cluster: 1.6165874004364014\n",
      "Step [4/8]\t loss_instance: 5.951718330383301\t loss_cluster: 1.6309667825698853\n",
      "Step [6/8]\t loss_instance: 5.951147079467773\t loss_cluster: 1.6272913217544556\n",
      "\n",
      "Epoch [35/500]\t Loss: 7.549551558494568 \n",
      "\n",
      "Step [0/8]\t Computing features...\n",
      "Features shape (8192,)\n",
      "14\n",
      "Test NMI = 0.7227 ARI = 0.4370 F = 0.5571 ACC = 0.4738\n",
      "================================================================\n",
      "\n"
     ]
    },
    {
     "name": "stderr",
     "output_type": "stream",
     "text": [
      "C:\\Users\\Tom-G\\.conda\\envs\\torchenv\\lib\\site-packages\\torch\\nn\\modules\\container.py:141: UserWarning: Implicit dimension choice for softmax has been deprecated. Change the call to include dim=X as an argument.\n",
      "  input = module(input)\n"
     ]
    },
    {
     "name": "stdout",
     "output_type": "stream",
     "text": [
      "Step [0/8]\t loss_instance: 5.944386959075928\t loss_cluster: 1.6372039318084717\n",
      "Step [2/8]\t loss_instance: 5.941497325897217\t loss_cluster: 1.6335422992706299\n",
      "Step [4/8]\t loss_instance: 5.941627502441406\t loss_cluster: 1.6392039060592651\n",
      "Step [6/8]\t loss_instance: 5.942338943481445\t loss_cluster: 1.6302143335342407\n",
      "\n",
      "Epoch [36/500]\t Loss: 7.5480474650859835 \n",
      "\n",
      "Step [0/8]\t Computing features...\n",
      "Features shape (8192,)\n",
      "14\n",
      "Test NMI = 0.7266 ARI = 0.4421 F = 0.5617 ACC = 0.4646\n",
      "================================================================\n",
      "\n"
     ]
    },
    {
     "name": "stderr",
     "output_type": "stream",
     "text": [
      "C:\\Users\\Tom-G\\.conda\\envs\\torchenv\\lib\\site-packages\\torch\\nn\\modules\\container.py:141: UserWarning: Implicit dimension choice for softmax has been deprecated. Change the call to include dim=X as an argument.\n",
      "  input = module(input)\n"
     ]
    },
    {
     "name": "stdout",
     "output_type": "stream",
     "text": [
      "Step [0/8]\t loss_instance: 5.930846214294434\t loss_cluster: 1.5950795412063599\n",
      "Step [2/8]\t loss_instance: 5.934703826904297\t loss_cluster: 1.6134912967681885\n",
      "Step [4/8]\t loss_instance: 5.967085361480713\t loss_cluster: 1.6488966941833496\n",
      "Step [6/8]\t loss_instance: 5.92414665222168\t loss_cluster: 1.6181498765945435\n",
      "\n",
      "Epoch [37/500]\t Loss: 7.536677986383438 \n",
      "\n",
      "Step [0/8]\t Computing features...\n",
      "Features shape (8192,)\n",
      "14\n",
      "Test NMI = 0.6987 ARI = 0.4142 F = 0.5350 ACC = 0.4629\n",
      "================================================================\n",
      "\n"
     ]
    },
    {
     "name": "stderr",
     "output_type": "stream",
     "text": [
      "C:\\Users\\Tom-G\\.conda\\envs\\torchenv\\lib\\site-packages\\torch\\nn\\modules\\container.py:141: UserWarning: Implicit dimension choice for softmax has been deprecated. Change the call to include dim=X as an argument.\n",
      "  input = module(input)\n"
     ]
    },
    {
     "name": "stdout",
     "output_type": "stream",
     "text": [
      "Step [0/8]\t loss_instance: 5.9539875984191895\t loss_cluster: 1.630741000175476\n",
      "Step [2/8]\t loss_instance: 5.953237533569336\t loss_cluster: 1.6470199823379517\n",
      "Step [4/8]\t loss_instance: 5.94797945022583\t loss_cluster: 1.6460846662521362\n",
      "Step [6/8]\t loss_instance: 5.9448628425598145\t loss_cluster: 1.6306371688842773\n",
      "\n",
      "Epoch [38/500]\t Loss: 7.563510167598724 \n",
      "\n",
      "Step [0/8]\t Computing features...\n",
      "Features shape (8192,)\n",
      "14\n",
      "Test NMI = 0.7200 ARI = 0.4306 F = 0.5506 ACC = 0.4713\n",
      "================================================================\n",
      "\n"
     ]
    },
    {
     "name": "stderr",
     "output_type": "stream",
     "text": [
      "C:\\Users\\Tom-G\\.conda\\envs\\torchenv\\lib\\site-packages\\torch\\nn\\modules\\container.py:141: UserWarning: Implicit dimension choice for softmax has been deprecated. Change the call to include dim=X as an argument.\n",
      "  input = module(input)\n"
     ]
    },
    {
     "name": "stdout",
     "output_type": "stream",
     "text": [
      "Step [0/8]\t loss_instance: 5.969141483306885\t loss_cluster: 1.6530247926712036\n",
      "Step [2/8]\t loss_instance: 5.97480583190918\t loss_cluster: 1.6306185722351074\n",
      "Step [4/8]\t loss_instance: 5.942499160766602\t loss_cluster: 1.6174445152282715\n",
      "Step [6/8]\t loss_instance: 5.941538333892822\t loss_cluster: 1.6292651891708374\n",
      "\n",
      "Epoch [39/500]\t Loss: 7.55594978928566 \n",
      "\n",
      "Step [0/8]\t Computing features...\n",
      "Features shape (8192,)\n",
      "14\n",
      "Test NMI = 0.7104 ARI = 0.4208 F = 0.5415 ACC = 0.4535\n",
      "================================================================\n",
      "\n"
     ]
    },
    {
     "name": "stderr",
     "output_type": "stream",
     "text": [
      "C:\\Users\\Tom-G\\.conda\\envs\\torchenv\\lib\\site-packages\\torch\\nn\\modules\\container.py:141: UserWarning: Implicit dimension choice for softmax has been deprecated. Change the call to include dim=X as an argument.\n",
      "  input = module(input)\n"
     ]
    },
    {
     "name": "stdout",
     "output_type": "stream",
     "text": [
      "Step [0/8]\t loss_instance: 5.869033336639404\t loss_cluster: 1.5862749814987183\n",
      "Step [2/8]\t loss_instance: 5.8752875328063965\t loss_cluster: 1.580132007598877\n",
      "Step [4/8]\t loss_instance: 5.87772798538208\t loss_cluster: 1.6090261936187744\n",
      "Step [6/8]\t loss_instance: 5.938350200653076\t loss_cluster: 1.6351449489593506\n",
      "\n",
      "Epoch [40/500]\t Loss: 7.517249011993409 \n",
      "\n",
      "Step [0/8]\t Computing features...\n",
      "Features shape (8192,)\n",
      "14\n",
      "Test NMI = 0.7151 ARI = 0.4467 F = 0.5649 ACC = 0.4938\n",
      "================================================================\n",
      "\n"
     ]
    },
    {
     "name": "stderr",
     "output_type": "stream",
     "text": [
      "C:\\Users\\Tom-G\\.conda\\envs\\torchenv\\lib\\site-packages\\torch\\nn\\modules\\container.py:141: UserWarning: Implicit dimension choice for softmax has been deprecated. Change the call to include dim=X as an argument.\n",
      "  input = module(input)\n"
     ]
    },
    {
     "name": "stdout",
     "output_type": "stream",
     "text": [
      "Step [0/8]\t loss_instance: 5.965170860290527\t loss_cluster: 1.655647873878479\n",
      "Step [2/8]\t loss_instance: 6.038993835449219\t loss_cluster: 1.7025049924850464\n",
      "Step [4/8]\t loss_instance: 6.044108867645264\t loss_cluster: 1.7187334299087524\n",
      "Step [6/8]\t loss_instance: 5.9787116050720215\t loss_cluster: 1.6599228382110596\n",
      "\n",
      "Epoch [41/500]\t Loss: 7.723157417774201 \n",
      "\n",
      "Step [0/8]\t Computing features...\n",
      "Features shape (8192,)\n",
      "14\n",
      "Test NMI = 0.7101 ARI = 0.4268 F = 0.5478 ACC = 0.4755\n",
      "================================================================\n",
      "\n"
     ]
    },
    {
     "name": "stderr",
     "output_type": "stream",
     "text": [
      "C:\\Users\\Tom-G\\.conda\\envs\\torchenv\\lib\\site-packages\\torch\\nn\\modules\\container.py:141: UserWarning: Implicit dimension choice for softmax has been deprecated. Change the call to include dim=X as an argument.\n",
      "  input = module(input)\n"
     ]
    },
    {
     "name": "stdout",
     "output_type": "stream",
     "text": [
      "Step [0/8]\t loss_instance: 5.951304912567139\t loss_cluster: 1.6337939500808716\n",
      "Step [2/8]\t loss_instance: 5.919641971588135\t loss_cluster: 1.5971269607543945\n",
      "Step [4/8]\t loss_instance: 5.913269996643066\t loss_cluster: 1.587913155555725\n",
      "Step [6/8]\t loss_instance: 5.8916754722595215\t loss_cluster: 1.5820722579956055\n",
      "\n",
      "Epoch [42/500]\t Loss: 7.504980659484863 \n",
      "\n",
      "Step [0/8]\t Computing features...\n",
      "Features shape (8192,)\n",
      "14\n",
      "Test NMI = 0.6975 ARI = 0.4028 F = 0.5246 ACC = 0.4603\n",
      "================================================================\n",
      "\n"
     ]
    },
    {
     "name": "stderr",
     "output_type": "stream",
     "text": [
      "C:\\Users\\Tom-G\\.conda\\envs\\torchenv\\lib\\site-packages\\torch\\nn\\modules\\container.py:141: UserWarning: Implicit dimension choice for softmax has been deprecated. Change the call to include dim=X as an argument.\n",
      "  input = module(input)\n"
     ]
    },
    {
     "name": "stdout",
     "output_type": "stream",
     "text": [
      "Step [0/8]\t loss_instance: 5.890992164611816\t loss_cluster: 1.5996898412704468\n",
      "Step [2/8]\t loss_instance: 5.876331329345703\t loss_cluster: 1.5783988237380981\n",
      "Step [4/8]\t loss_instance: 5.8814239501953125\t loss_cluster: 1.5796586275100708\n",
      "Step [6/8]\t loss_instance: 5.887914657592773\t loss_cluster: 1.5853835344314575\n",
      "\n",
      "Epoch [43/500]\t Loss: 7.467382848262787 \n",
      "\n",
      "Step [0/8]\t Computing features...\n",
      "Features shape (8192,)\n",
      "14\n",
      "Test NMI = 0.7185 ARI = 0.4266 F = 0.5474 ACC = 0.4601\n",
      "================================================================\n",
      "\n"
     ]
    },
    {
     "name": "stderr",
     "output_type": "stream",
     "text": [
      "C:\\Users\\Tom-G\\.conda\\envs\\torchenv\\lib\\site-packages\\torch\\nn\\modules\\container.py:141: UserWarning: Implicit dimension choice for softmax has been deprecated. Change the call to include dim=X as an argument.\n",
      "  input = module(input)\n"
     ]
    },
    {
     "name": "stdout",
     "output_type": "stream",
     "text": [
      "Step [0/8]\t loss_instance: 5.862070083618164\t loss_cluster: 1.5775105953216553\n",
      "Step [2/8]\t loss_instance: 5.880399703979492\t loss_cluster: 1.5869935750961304\n",
      "Step [4/8]\t loss_instance: 5.877028465270996\t loss_cluster: 1.5783722400665283\n",
      "Step [6/8]\t loss_instance: 5.867279052734375\t loss_cluster: 1.5634896755218506\n",
      "\n",
      "Epoch [44/500]\t Loss: 7.458970391750336 \n",
      "\n",
      "Step [0/8]\t Computing features...\n",
      "Features shape (8192,)\n",
      "14\n",
      "Test NMI = 0.6955 ARI = 0.4015 F = 0.5235 ACC = 0.4624\n",
      "================================================================\n",
      "\n"
     ]
    },
    {
     "name": "stderr",
     "output_type": "stream",
     "text": [
      "C:\\Users\\Tom-G\\.conda\\envs\\torchenv\\lib\\site-packages\\torch\\nn\\modules\\container.py:141: UserWarning: Implicit dimension choice for softmax has been deprecated. Change the call to include dim=X as an argument.\n",
      "  input = module(input)\n"
     ]
    },
    {
     "name": "stdout",
     "output_type": "stream",
     "text": [
      "Step [0/8]\t loss_instance: 5.866065979003906\t loss_cluster: 1.575936198234558\n",
      "Step [2/8]\t loss_instance: 5.873570442199707\t loss_cluster: 1.5776489973068237\n",
      "Step [4/8]\t loss_instance: 5.882089138031006\t loss_cluster: 1.5846530199050903\n",
      "Step [6/8]\t loss_instance: 5.869112491607666\t loss_cluster: 1.5858956575393677\n",
      "\n",
      "Epoch [45/500]\t Loss: 7.445771729946136 \n",
      "\n",
      "Step [0/8]\t Computing features...\n",
      "Features shape (8192,)\n",
      "14\n",
      "Test NMI = 0.6935 ARI = 0.3948 F = 0.5169 ACC = 0.4536\n",
      "================================================================\n",
      "\n"
     ]
    },
    {
     "name": "stderr",
     "output_type": "stream",
     "text": [
      "C:\\Users\\Tom-G\\.conda\\envs\\torchenv\\lib\\site-packages\\torch\\nn\\modules\\container.py:141: UserWarning: Implicit dimension choice for softmax has been deprecated. Change the call to include dim=X as an argument.\n",
      "  input = module(input)\n"
     ]
    },
    {
     "name": "stdout",
     "output_type": "stream",
     "text": [
      "Step [0/8]\t loss_instance: 5.86354398727417\t loss_cluster: 1.5773526430130005\n",
      "Step [2/8]\t loss_instance: 5.903923988342285\t loss_cluster: 1.6104604005813599\n",
      "Step [4/8]\t loss_instance: 5.869654178619385\t loss_cluster: 1.5723426342010498\n",
      "Step [6/8]\t loss_instance: 5.868741035461426\t loss_cluster: 1.5756120681762695\n",
      "\n",
      "Epoch [46/500]\t Loss: 7.448492330312729 \n",
      "\n",
      "Step [0/8]\t Computing features...\n",
      "Features shape (8192,)\n",
      "14\n",
      "Test NMI = 0.6992 ARI = 0.4045 F = 0.5264 ACC = 0.4458\n",
      "================================================================\n",
      "\n"
     ]
    },
    {
     "name": "stderr",
     "output_type": "stream",
     "text": [
      "C:\\Users\\Tom-G\\.conda\\envs\\torchenv\\lib\\site-packages\\torch\\nn\\modules\\container.py:141: UserWarning: Implicit dimension choice for softmax has been deprecated. Change the call to include dim=X as an argument.\n",
      "  input = module(input)\n"
     ]
    },
    {
     "name": "stdout",
     "output_type": "stream",
     "text": [
      "Step [0/8]\t loss_instance: 5.888901233673096\t loss_cluster: 1.5877405405044556\n",
      "Step [2/8]\t loss_instance: 5.884516716003418\t loss_cluster: 1.5804435014724731\n",
      "Step [4/8]\t loss_instance: 5.886073589324951\t loss_cluster: 1.5858879089355469\n",
      "Step [6/8]\t loss_instance: 5.871599197387695\t loss_cluster: 1.5884606838226318\n",
      "\n",
      "Epoch [47/500]\t Loss: 7.461324059963227 \n",
      "\n",
      "Step [0/8]\t Computing features...\n",
      "Features shape (8192,)\n",
      "14\n",
      "Test NMI = 0.6919 ARI = 0.3958 F = 0.5182 ACC = 0.4531\n",
      "================================================================\n",
      "\n"
     ]
    },
    {
     "name": "stderr",
     "output_type": "stream",
     "text": [
      "C:\\Users\\Tom-G\\.conda\\envs\\torchenv\\lib\\site-packages\\torch\\nn\\modules\\container.py:141: UserWarning: Implicit dimension choice for softmax has been deprecated. Change the call to include dim=X as an argument.\n",
      "  input = module(input)\n"
     ]
    },
    {
     "name": "stdout",
     "output_type": "stream",
     "text": [
      "Step [0/8]\t loss_instance: 5.901181221008301\t loss_cluster: 1.5950281620025635\n",
      "Step [2/8]\t loss_instance: 5.885812282562256\t loss_cluster: 1.5793229341506958\n",
      "Step [4/8]\t loss_instance: 5.86619758605957\t loss_cluster: 1.5699692964553833\n",
      "Step [6/8]\t loss_instance: 5.855226039886475\t loss_cluster: 1.573470950126648\n",
      "\n",
      "Epoch [48/500]\t Loss: 7.445014625787735 \n",
      "\n",
      "Step [0/8]\t Computing features...\n",
      "Features shape (8192,)\n",
      "14\n",
      "Test NMI = 0.6933 ARI = 0.3954 F = 0.5180 ACC = 0.4408\n",
      "================================================================\n",
      "\n"
     ]
    },
    {
     "name": "stderr",
     "output_type": "stream",
     "text": [
      "C:\\Users\\Tom-G\\.conda\\envs\\torchenv\\lib\\site-packages\\torch\\nn\\modules\\container.py:141: UserWarning: Implicit dimension choice for softmax has been deprecated. Change the call to include dim=X as an argument.\n",
      "  input = module(input)\n"
     ]
    },
    {
     "name": "stdout",
     "output_type": "stream",
     "text": [
      "Step [0/8]\t loss_instance: 5.861114978790283\t loss_cluster: 1.5724194049835205\n",
      "Step [2/8]\t loss_instance: 5.895288944244385\t loss_cluster: 1.5940618515014648\n",
      "Step [4/8]\t loss_instance: 5.87127161026001\t loss_cluster: 1.5868545770645142\n",
      "Step [6/8]\t loss_instance: 5.873200416564941\t loss_cluster: 1.6019933223724365\n",
      "\n",
      "Epoch [49/500]\t Loss: 7.454289722442627 \n",
      "\n",
      "Step [0/8]\t Computing features...\n",
      "Features shape (8192,)\n",
      "14\n",
      "Test NMI = 0.6942 ARI = 0.3951 F = 0.5170 ACC = 0.4606\n",
      "================================================================\n",
      "\n"
     ]
    },
    {
     "name": "stderr",
     "output_type": "stream",
     "text": [
      "C:\\Users\\Tom-G\\.conda\\envs\\torchenv\\lib\\site-packages\\torch\\nn\\modules\\container.py:141: UserWarning: Implicit dimension choice for softmax has been deprecated. Change the call to include dim=X as an argument.\n",
      "  input = module(input)\n"
     ]
    },
    {
     "name": "stdout",
     "output_type": "stream",
     "text": [
      "Step [0/8]\t loss_instance: 5.86924409866333\t loss_cluster: 1.5693639516830444\n",
      "Step [2/8]\t loss_instance: 5.883460521697998\t loss_cluster: 1.5769214630126953\n",
      "Step [4/8]\t loss_instance: 5.86509895324707\t loss_cluster: 1.5724787712097168\n",
      "Step [6/8]\t loss_instance: 5.868949890136719\t loss_cluster: 1.5801987648010254\n",
      "\n",
      "Epoch [50/500]\t Loss: 7.429262006282807 \n",
      "\n",
      "Step [0/8]\t Computing features...\n",
      "Features shape (8192,)\n",
      "14\n",
      "Test NMI = 0.6932 ARI = 0.3930 F = 0.5152 ACC = 0.4426\n",
      "================================================================\n",
      "\n"
     ]
    },
    {
     "name": "stderr",
     "output_type": "stream",
     "text": [
      "C:\\Users\\Tom-G\\.conda\\envs\\torchenv\\lib\\site-packages\\torch\\nn\\modules\\container.py:141: UserWarning: Implicit dimension choice for softmax has been deprecated. Change the call to include dim=X as an argument.\n",
      "  input = module(input)\n"
     ]
    },
    {
     "name": "stdout",
     "output_type": "stream",
     "text": [
      "Step [0/8]\t loss_instance: 5.850741863250732\t loss_cluster: 1.5715385675430298\n",
      "Step [2/8]\t loss_instance: 5.88585090637207\t loss_cluster: 1.5853084325790405\n",
      "Step [4/8]\t loss_instance: 5.878854751586914\t loss_cluster: 1.5715142488479614\n",
      "Step [6/8]\t loss_instance: 5.8835625648498535\t loss_cluster: 1.5805453062057495\n",
      "\n",
      "Epoch [51/500]\t Loss: 7.4565991938114164 \n",
      "\n",
      "Step [0/8]\t Computing features...\n",
      "Features shape (8192,)\n",
      "14\n",
      "Test NMI = 0.6920 ARI = 0.3914 F = 0.5135 ACC = 0.4503\n",
      "================================================================\n",
      "\n"
     ]
    },
    {
     "name": "stderr",
     "output_type": "stream",
     "text": [
      "C:\\Users\\Tom-G\\.conda\\envs\\torchenv\\lib\\site-packages\\torch\\nn\\modules\\container.py:141: UserWarning: Implicit dimension choice for softmax has been deprecated. Change the call to include dim=X as an argument.\n",
      "  input = module(input)\n"
     ]
    },
    {
     "name": "stdout",
     "output_type": "stream",
     "text": [
      "Step [0/8]\t loss_instance: 5.88524055480957\t loss_cluster: 1.575958013534546\n",
      "Step [2/8]\t loss_instance: 5.865456581115723\t loss_cluster: 1.5684665441513062\n",
      "Step [4/8]\t loss_instance: 5.873814582824707\t loss_cluster: 1.576543927192688\n",
      "Step [6/8]\t loss_instance: 5.875480651855469\t loss_cluster: 1.5884722471237183\n",
      "\n",
      "Epoch [52/500]\t Loss: 7.4520596206188205 \n",
      "\n",
      "Step [0/8]\t Computing features...\n",
      "Features shape (8192,)\n",
      "14\n",
      "Test NMI = 0.6892 ARI = 0.3880 F = 0.5103 ACC = 0.4476\n",
      "================================================================\n",
      "\n"
     ]
    },
    {
     "name": "stderr",
     "output_type": "stream",
     "text": [
      "C:\\Users\\Tom-G\\.conda\\envs\\torchenv\\lib\\site-packages\\torch\\nn\\modules\\container.py:141: UserWarning: Implicit dimension choice for softmax has been deprecated. Change the call to include dim=X as an argument.\n",
      "  input = module(input)\n"
     ]
    },
    {
     "name": "stdout",
     "output_type": "stream",
     "text": [
      "Step [0/8]\t loss_instance: 5.901556015014648\t loss_cluster: 1.610444188117981\n",
      "Step [2/8]\t loss_instance: 5.9149322509765625\t loss_cluster: 1.6137325763702393\n",
      "Step [4/8]\t loss_instance: 5.880405902862549\t loss_cluster: 1.5852519273757935\n",
      "Step [6/8]\t loss_instance: 5.890954494476318\t loss_cluster: 1.584179162979126\n",
      "\n",
      "Epoch [53/500]\t Loss: 7.511200904846191 \n",
      "\n",
      "Step [0/8]\t Computing features...\n",
      "Features shape (8192,)\n",
      "14\n",
      "Test NMI = 0.6997 ARI = 0.4072 F = 0.5289 ACC = 0.4636\n",
      "================================================================\n",
      "\n"
     ]
    },
    {
     "name": "stderr",
     "output_type": "stream",
     "text": [
      "C:\\Users\\Tom-G\\.conda\\envs\\torchenv\\lib\\site-packages\\torch\\nn\\modules\\container.py:141: UserWarning: Implicit dimension choice for softmax has been deprecated. Change the call to include dim=X as an argument.\n",
      "  input = module(input)\n"
     ]
    },
    {
     "name": "stdout",
     "output_type": "stream",
     "text": [
      "Step [0/8]\t loss_instance: 5.884469509124756\t loss_cluster: 1.5763037204742432\n",
      "Step [2/8]\t loss_instance: 5.8706955909729\t loss_cluster: 1.5787334442138672\n",
      "Step [4/8]\t loss_instance: 5.881759166717529\t loss_cluster: 1.6008530855178833\n",
      "Step [6/8]\t loss_instance: 5.871623992919922\t loss_cluster: 1.5840469598770142\n",
      "\n",
      "Epoch [54/500]\t Loss: 7.465803527832032 \n",
      "\n",
      "Step [0/8]\t Computing features...\n",
      "Features shape (8192,)\n",
      "14\n",
      "Test NMI = 0.6900 ARI = 0.3892 F = 0.5111 ACC = 0.4557\n",
      "================================================================\n",
      "\n"
     ]
    },
    {
     "name": "stderr",
     "output_type": "stream",
     "text": [
      "C:\\Users\\Tom-G\\.conda\\envs\\torchenv\\lib\\site-packages\\torch\\nn\\modules\\container.py:141: UserWarning: Implicit dimension choice for softmax has been deprecated. Change the call to include dim=X as an argument.\n",
      "  input = module(input)\n"
     ]
    },
    {
     "name": "stdout",
     "output_type": "stream",
     "text": [
      "Step [0/8]\t loss_instance: 5.899103164672852\t loss_cluster: 1.5927678346633911\n",
      "Step [2/8]\t loss_instance: 5.885438442230225\t loss_cluster: 1.5770962238311768\n",
      "Step [4/8]\t loss_instance: 5.879660129547119\t loss_cluster: 1.5869057178497314\n",
      "Step [6/8]\t loss_instance: 5.876313209533691\t loss_cluster: 1.5896059274673462\n",
      "\n",
      "Epoch [55/500]\t Loss: 7.455175507068634 \n",
      "\n",
      "Step [0/8]\t Computing features...\n",
      "Features shape (8192,)\n",
      "14\n",
      "Test NMI = 0.6791 ARI = 0.3739 F = 0.4967 ACC = 0.4393\n",
      "================================================================\n",
      "\n"
     ]
    },
    {
     "name": "stderr",
     "output_type": "stream",
     "text": [
      "C:\\Users\\Tom-G\\.conda\\envs\\torchenv\\lib\\site-packages\\torch\\nn\\modules\\container.py:141: UserWarning: Implicit dimension choice for softmax has been deprecated. Change the call to include dim=X as an argument.\n",
      "  input = module(input)\n"
     ]
    },
    {
     "name": "stdout",
     "output_type": "stream",
     "text": [
      "Step [0/8]\t loss_instance: 5.883352279663086\t loss_cluster: 1.5896612405776978\n",
      "Step [2/8]\t loss_instance: 5.876771450042725\t loss_cluster: 1.5741242170333862\n",
      "Step [4/8]\t loss_instance: 5.874653339385986\t loss_cluster: 1.584425449371338\n",
      "Step [6/8]\t loss_instance: 5.885814189910889\t loss_cluster: 1.5928477048873901\n",
      "\n",
      "Epoch [56/500]\t Loss: 7.4551974654197695 \n",
      "\n",
      "Step [0/8]\t Computing features...\n",
      "Features shape (8192,)\n",
      "14\n",
      "Test NMI = 0.6879 ARI = 0.3834 F = 0.5060 ACC = 0.4330\n",
      "================================================================\n",
      "\n"
     ]
    },
    {
     "name": "stderr",
     "output_type": "stream",
     "text": [
      "C:\\Users\\Tom-G\\.conda\\envs\\torchenv\\lib\\site-packages\\torch\\nn\\modules\\container.py:141: UserWarning: Implicit dimension choice for softmax has been deprecated. Change the call to include dim=X as an argument.\n",
      "  input = module(input)\n"
     ]
    },
    {
     "name": "stdout",
     "output_type": "stream",
     "text": [
      "Step [0/8]\t loss_instance: 5.868035793304443\t loss_cluster: 1.573917031288147\n",
      "Step [2/8]\t loss_instance: 5.867428779602051\t loss_cluster: 1.576721429824829\n",
      "Step [4/8]\t loss_instance: 5.8768205642700195\t loss_cluster: 1.5805349349975586\n",
      "Step [6/8]\t loss_instance: 5.879825115203857\t loss_cluster: 1.5858575105667114\n",
      "\n",
      "Epoch [57/500]\t Loss: 7.434857267141342 \n",
      "\n",
      "Step [0/8]\t Computing features...\n",
      "Features shape (8192,)\n",
      "14\n",
      "Test NMI = 0.6950 ARI = 0.3998 F = 0.5222 ACC = 0.4469\n",
      "================================================================\n",
      "\n"
     ]
    },
    {
     "name": "stderr",
     "output_type": "stream",
     "text": [
      "C:\\Users\\Tom-G\\.conda\\envs\\torchenv\\lib\\site-packages\\torch\\nn\\modules\\container.py:141: UserWarning: Implicit dimension choice for softmax has been deprecated. Change the call to include dim=X as an argument.\n",
      "  input = module(input)\n"
     ]
    },
    {
     "name": "stdout",
     "output_type": "stream",
     "text": [
      "Step [0/8]\t loss_instance: 5.877902984619141\t loss_cluster: 1.5749517679214478\n",
      "Step [2/8]\t loss_instance: 5.863739967346191\t loss_cluster: 1.5696561336517334\n",
      "Step [4/8]\t loss_instance: 5.894051551818848\t loss_cluster: 1.5932072401046753\n",
      "Step [6/8]\t loss_instance: 5.861402988433838\t loss_cluster: 1.5749303102493286\n",
      "\n",
      "Epoch [58/500]\t Loss: 7.43206616640091 \n",
      "\n",
      "Step [0/8]\t Computing features...\n",
      "Features shape (8192,)\n",
      "14\n",
      "Test NMI = 0.6866 ARI = 0.3816 F = 0.5044 ACC = 0.4423\n",
      "================================================================\n",
      "\n"
     ]
    },
    {
     "name": "stderr",
     "output_type": "stream",
     "text": [
      "C:\\Users\\Tom-G\\.conda\\envs\\torchenv\\lib\\site-packages\\torch\\nn\\modules\\container.py:141: UserWarning: Implicit dimension choice for softmax has been deprecated. Change the call to include dim=X as an argument.\n",
      "  input = module(input)\n"
     ]
    },
    {
     "name": "stdout",
     "output_type": "stream",
     "text": [
      "Step [0/8]\t loss_instance: 5.8868560791015625\t loss_cluster: 1.581129550933838\n",
      "Step [2/8]\t loss_instance: 5.8744049072265625\t loss_cluster: 1.5873974561691284\n",
      "Step [4/8]\t loss_instance: 5.886421203613281\t loss_cluster: 1.5753973722457886\n",
      "Step [6/8]\t loss_instance: 5.8808064460754395\t loss_cluster: 1.5846550464630127\n",
      "\n",
      "Epoch [59/500]\t Loss: 7.447692531347275 \n",
      "\n",
      "Step [0/8]\t Computing features...\n",
      "Features shape (8192,)\n",
      "14\n",
      "Test NMI = 0.6880 ARI = 0.3846 F = 0.5070 ACC = 0.4403\n",
      "================================================================\n",
      "\n"
     ]
    },
    {
     "name": "stderr",
     "output_type": "stream",
     "text": [
      "C:\\Users\\Tom-G\\.conda\\envs\\torchenv\\lib\\site-packages\\torch\\nn\\modules\\container.py:141: UserWarning: Implicit dimension choice for softmax has been deprecated. Change the call to include dim=X as an argument.\n",
      "  input = module(input)\n"
     ]
    },
    {
     "name": "stdout",
     "output_type": "stream",
     "text": [
      "Step [0/8]\t loss_instance: 5.828419208526611\t loss_cluster: 1.5484219789505005\n",
      "Step [2/8]\t loss_instance: 5.840096473693848\t loss_cluster: 1.5714073181152344\n",
      "Step [4/8]\t loss_instance: 5.9500203132629395\t loss_cluster: 1.621351718902588\n",
      "Step [6/8]\t loss_instance: 5.911916255950928\t loss_cluster: 1.611047625541687\n",
      "\n",
      "Epoch [60/500]\t Loss: 7.470656681060791 \n",
      "\n",
      "Step [0/8]\t Computing features...\n",
      "Features shape (8192,)\n",
      "14\n",
      "Test NMI = 0.6912 ARI = 0.3955 F = 0.5182 ACC = 0.4507\n",
      "================================================================\n",
      "\n"
     ]
    },
    {
     "name": "stderr",
     "output_type": "stream",
     "text": [
      "C:\\Users\\Tom-G\\.conda\\envs\\torchenv\\lib\\site-packages\\torch\\nn\\modules\\container.py:141: UserWarning: Implicit dimension choice for softmax has been deprecated. Change the call to include dim=X as an argument.\n",
      "  input = module(input)\n"
     ]
    },
    {
     "name": "stdout",
     "output_type": "stream",
     "text": [
      "Step [0/8]\t loss_instance: 5.918878078460693\t loss_cluster: 1.5981204509735107\n",
      "Step [2/8]\t loss_instance: 5.910482406616211\t loss_cluster: 1.6051987409591675\n",
      "Step [4/8]\t loss_instance: 5.924152374267578\t loss_cluster: 1.6106326580047607\n",
      "Step [6/8]\t loss_instance: 5.917983055114746\t loss_cluster: 1.6177221536636353\n",
      "\n",
      "Epoch [61/500]\t Loss: 7.547972327470779 \n",
      "\n",
      "Step [0/8]\t Computing features...\n",
      "Features shape (8192,)\n",
      "14\n",
      "Test NMI = 0.7054 ARI = 0.4228 F = 0.5428 ACC = 0.4681\n",
      "================================================================\n",
      "\n"
     ]
    },
    {
     "name": "stderr",
     "output_type": "stream",
     "text": [
      "C:\\Users\\Tom-G\\.conda\\envs\\torchenv\\lib\\site-packages\\torch\\nn\\modules\\container.py:141: UserWarning: Implicit dimension choice for softmax has been deprecated. Change the call to include dim=X as an argument.\n",
      "  input = module(input)\n"
     ]
    },
    {
     "name": "stdout",
     "output_type": "stream",
     "text": [
      "Step [0/8]\t loss_instance: 5.962547779083252\t loss_cluster: 1.6350353956222534\n",
      "Step [2/8]\t loss_instance: 5.909714221954346\t loss_cluster: 1.600319743156433\n",
      "Step [4/8]\t loss_instance: 5.907179832458496\t loss_cluster: 1.5841199159622192\n",
      "Step [6/8]\t loss_instance: 5.871164321899414\t loss_cluster: 1.5776526927947998\n",
      "\n",
      "Epoch [62/500]\t Loss: 7.521676307916641 \n",
      "\n",
      "Step [0/8]\t Computing features...\n",
      "Features shape (8192,)\n",
      "14\n",
      "Test NMI = 0.6981 ARI = 0.4042 F = 0.5255 ACC = 0.4645\n",
      "================================================================\n",
      "\n"
     ]
    },
    {
     "name": "stderr",
     "output_type": "stream",
     "text": [
      "C:\\Users\\Tom-G\\.conda\\envs\\torchenv\\lib\\site-packages\\torch\\nn\\modules\\container.py:141: UserWarning: Implicit dimension choice for softmax has been deprecated. Change the call to include dim=X as an argument.\n",
      "  input = module(input)\n"
     ]
    },
    {
     "name": "stdout",
     "output_type": "stream",
     "text": [
      "Step [0/8]\t loss_instance: 5.950098991394043\t loss_cluster: 1.671825647354126\n",
      "Step [2/8]\t loss_instance: 5.908623695373535\t loss_cluster: 1.614821434020996\n",
      "Step [4/8]\t loss_instance: 5.941381454467773\t loss_cluster: 1.6521512269973755\n",
      "Step [6/8]\t loss_instance: 5.889994144439697\t loss_cluster: 1.5956896543502808\n",
      "\n",
      "Epoch [63/500]\t Loss: 7.539808976650238 \n",
      "\n",
      "Step [0/8]\t Computing features...\n",
      "Features shape (8192,)\n",
      "14\n",
      "Test NMI = 0.6978 ARI = 0.3976 F = 0.5197 ACC = 0.4429\n",
      "================================================================\n",
      "\n"
     ]
    },
    {
     "name": "stderr",
     "output_type": "stream",
     "text": [
      "C:\\Users\\Tom-G\\.conda\\envs\\torchenv\\lib\\site-packages\\torch\\nn\\modules\\container.py:141: UserWarning: Implicit dimension choice for softmax has been deprecated. Change the call to include dim=X as an argument.\n",
      "  input = module(input)\n"
     ]
    },
    {
     "name": "stdout",
     "output_type": "stream",
     "text": [
      "Step [0/8]\t loss_instance: 5.867156505584717\t loss_cluster: 1.5705487728118896\n",
      "Step [2/8]\t loss_instance: 5.896143436431885\t loss_cluster: 1.6107336282730103\n",
      "Step [4/8]\t loss_instance: 5.914581298828125\t loss_cluster: 1.6331992149353027\n",
      "Step [6/8]\t loss_instance: 5.90989351272583\t loss_cluster: 1.6191767454147339\n",
      "\n",
      "Epoch [64/500]\t Loss: 7.497052305936814 \n",
      "\n",
      "Step [0/8]\t Computing features...\n",
      "Features shape (8192,)\n",
      "14\n",
      "Test NMI = 0.6918 ARI = 0.3913 F = 0.5134 ACC = 0.4553\n",
      "================================================================\n",
      "\n"
     ]
    },
    {
     "name": "stderr",
     "output_type": "stream",
     "text": [
      "C:\\Users\\Tom-G\\.conda\\envs\\torchenv\\lib\\site-packages\\torch\\nn\\modules\\container.py:141: UserWarning: Implicit dimension choice for softmax has been deprecated. Change the call to include dim=X as an argument.\n",
      "  input = module(input)\n"
     ]
    },
    {
     "name": "stdout",
     "output_type": "stream",
     "text": [
      "Step [0/8]\t loss_instance: 5.884937763214111\t loss_cluster: 1.5795564651489258\n",
      "Step [2/8]\t loss_instance: 5.894074440002441\t loss_cluster: 1.5831931829452515\n",
      "Step [4/8]\t loss_instance: 5.884457588195801\t loss_cluster: 1.6033215522766113\n",
      "Step [6/8]\t loss_instance: 5.911999225616455\t loss_cluster: 1.6026803255081177\n",
      "\n",
      "Epoch [65/500]\t Loss: 7.468636608123779 \n",
      "\n",
      "Step [0/8]\t Computing features...\n",
      "Features shape (8192,)\n",
      "14\n",
      "Test NMI = 0.6921 ARI = 0.3865 F = 0.5084 ACC = 0.4462\n",
      "================================================================\n",
      "\n"
     ]
    },
    {
     "name": "stderr",
     "output_type": "stream",
     "text": [
      "C:\\Users\\Tom-G\\.conda\\envs\\torchenv\\lib\\site-packages\\torch\\nn\\modules\\container.py:141: UserWarning: Implicit dimension choice for softmax has been deprecated. Change the call to include dim=X as an argument.\n",
      "  input = module(input)\n"
     ]
    },
    {
     "name": "stdout",
     "output_type": "stream",
     "text": [
      "Step [0/8]\t loss_instance: 5.891757965087891\t loss_cluster: 1.5897480249404907\n",
      "Step [2/8]\t loss_instance: 5.913054943084717\t loss_cluster: 1.598594307899475\n",
      "Step [4/8]\t loss_instance: 5.8893632888793945\t loss_cluster: 1.6005539894104004\n",
      "Step [6/8]\t loss_instance: 5.921496391296387\t loss_cluster: 1.6001654863357544\n",
      "\n",
      "Epoch [66/500]\t Loss: 7.4901975214481356 \n",
      "\n",
      "Step [0/8]\t Computing features...\n",
      "Features shape (8192,)\n",
      "14\n",
      "Test NMI = 0.7037 ARI = 0.4073 F = 0.5293 ACC = 0.4606\n",
      "================================================================\n",
      "\n"
     ]
    },
    {
     "name": "stderr",
     "output_type": "stream",
     "text": [
      "C:\\Users\\Tom-G\\.conda\\envs\\torchenv\\lib\\site-packages\\torch\\nn\\modules\\container.py:141: UserWarning: Implicit dimension choice for softmax has been deprecated. Change the call to include dim=X as an argument.\n",
      "  input = module(input)\n"
     ]
    },
    {
     "name": "stdout",
     "output_type": "stream",
     "text": [
      "Step [0/8]\t loss_instance: 5.892545223236084\t loss_cluster: 1.5861241817474365\n",
      "Step [2/8]\t loss_instance: 5.89100980758667\t loss_cluster: 1.595011830329895\n",
      "Step [4/8]\t loss_instance: 5.932082653045654\t loss_cluster: 1.62151300907135\n",
      "Step [6/8]\t loss_instance: 5.926250457763672\t loss_cluster: 1.6020883321762085\n",
      "\n",
      "Epoch [67/500]\t Loss: 7.501232123374939 \n",
      "\n",
      "Step [0/8]\t Computing features...\n",
      "Features shape (8192,)\n",
      "14\n",
      "Test NMI = 0.7003 ARI = 0.4009 F = 0.5227 ACC = 0.4604\n",
      "================================================================\n",
      "\n"
     ]
    },
    {
     "name": "stderr",
     "output_type": "stream",
     "text": [
      "C:\\Users\\Tom-G\\.conda\\envs\\torchenv\\lib\\site-packages\\torch\\nn\\modules\\container.py:141: UserWarning: Implicit dimension choice for softmax has been deprecated. Change the call to include dim=X as an argument.\n",
      "  input = module(input)\n"
     ]
    },
    {
     "name": "stdout",
     "output_type": "stream",
     "text": [
      "Step [0/8]\t loss_instance: 5.899726390838623\t loss_cluster: 1.5930559635162354\n",
      "Step [2/8]\t loss_instance: 5.894003391265869\t loss_cluster: 1.593102216720581\n",
      "Step [4/8]\t loss_instance: 5.928466796875\t loss_cluster: 1.6049668788909912\n",
      "Step [6/8]\t loss_instance: 5.9380059242248535\t loss_cluster: 1.616337776184082\n",
      "\n",
      "Epoch [68/500]\t Loss: 7.507992076873779 \n",
      "\n",
      "Step [0/8]\t Computing features...\n",
      "Features shape (8192,)\n",
      "14\n",
      "Test NMI = 0.6899 ARI = 0.3886 F = 0.5105 ACC = 0.4706\n",
      "================================================================\n",
      "\n"
     ]
    },
    {
     "name": "stderr",
     "output_type": "stream",
     "text": [
      "C:\\Users\\Tom-G\\.conda\\envs\\torchenv\\lib\\site-packages\\torch\\nn\\modules\\container.py:141: UserWarning: Implicit dimension choice for softmax has been deprecated. Change the call to include dim=X as an argument.\n",
      "  input = module(input)\n"
     ]
    },
    {
     "name": "stdout",
     "output_type": "stream",
     "text": [
      "Step [0/8]\t loss_instance: 5.969182968139648\t loss_cluster: 1.6455992460250854\n",
      "Step [2/8]\t loss_instance: 5.958868503570557\t loss_cluster: 1.65127694606781\n",
      "Step [4/8]\t loss_instance: 5.998935699462891\t loss_cluster: 1.6805751323699951\n",
      "Step [6/8]\t loss_instance: 5.996072292327881\t loss_cluster: 1.664867877960205\n",
      "\n",
      "Epoch [69/500]\t Loss: 7.6522292137146 \n",
      "\n",
      "Step [0/8]\t Computing features...\n",
      "Features shape (8192,)\n",
      "14\n",
      "Test NMI = 0.7149 ARI = 0.4410 F = 0.5600 ACC = 0.5005\n",
      "================================================================\n",
      "\n"
     ]
    },
    {
     "name": "stderr",
     "output_type": "stream",
     "text": [
      "C:\\Users\\Tom-G\\.conda\\envs\\torchenv\\lib\\site-packages\\torch\\nn\\modules\\container.py:141: UserWarning: Implicit dimension choice for softmax has been deprecated. Change the call to include dim=X as an argument.\n",
      "  input = module(input)\n"
     ]
    },
    {
     "name": "stdout",
     "output_type": "stream",
     "text": [
      "Step [0/8]\t loss_instance: 5.981599807739258\t loss_cluster: 1.665600061416626\n",
      "Step [2/8]\t loss_instance: 5.981925010681152\t loss_cluster: 1.6927529573440552\n",
      "Step [4/8]\t loss_instance: 5.956555366516113\t loss_cluster: 1.624083161354065\n",
      "Step [6/8]\t loss_instance: 5.94669771194458\t loss_cluster: 1.6422258615493774\n",
      "\n",
      "Epoch [70/500]\t Loss: 7.603509724140167 \n",
      "\n",
      "Step [0/8]\t Computing features...\n",
      "Features shape (8192,)\n",
      "14\n",
      "Test NMI = 0.7080 ARI = 0.4241 F = 0.5439 ACC = 0.4757\n",
      "================================================================\n",
      "\n"
     ]
    },
    {
     "name": "stderr",
     "output_type": "stream",
     "text": [
      "C:\\Users\\Tom-G\\.conda\\envs\\torchenv\\lib\\site-packages\\torch\\nn\\modules\\container.py:141: UserWarning: Implicit dimension choice for softmax has been deprecated. Change the call to include dim=X as an argument.\n",
      "  input = module(input)\n"
     ]
    },
    {
     "name": "stdout",
     "output_type": "stream",
     "text": [
      "Step [0/8]\t loss_instance: 5.982226371765137\t loss_cluster: 1.6459994316101074\n",
      "Step [2/8]\t loss_instance: 5.9622931480407715\t loss_cluster: 1.6820303201675415\n",
      "Step [4/8]\t loss_instance: 5.944106101989746\t loss_cluster: 1.6240447759628296\n",
      "Step [6/8]\t loss_instance: 5.962455749511719\t loss_cluster: 1.637165904045105\n",
      "\n",
      "Epoch [71/500]\t Loss: 7.5839354515075685 \n",
      "\n",
      "Step [0/8]\t Computing features...\n",
      "Features shape (8192,)\n",
      "14\n",
      "Test NMI = 0.7086 ARI = 0.4272 F = 0.5476 ACC = 0.4568\n",
      "================================================================\n",
      "\n"
     ]
    },
    {
     "name": "stderr",
     "output_type": "stream",
     "text": [
      "C:\\Users\\Tom-G\\.conda\\envs\\torchenv\\lib\\site-packages\\torch\\nn\\modules\\container.py:141: UserWarning: Implicit dimension choice for softmax has been deprecated. Change the call to include dim=X as an argument.\n",
      "  input = module(input)\n"
     ]
    },
    {
     "name": "stdout",
     "output_type": "stream",
     "text": [
      "Step [0/8]\t loss_instance: 5.958159446716309\t loss_cluster: 1.6419548988342285\n",
      "Step [2/8]\t loss_instance: 5.956705570220947\t loss_cluster: 1.6555994749069214\n",
      "Step [4/8]\t loss_instance: 5.940077781677246\t loss_cluster: 1.627460241317749\n",
      "Step [6/8]\t loss_instance: 5.964221000671387\t loss_cluster: 1.6448768377304077\n",
      "\n",
      "Epoch [72/500]\t Loss: 7.573022836446762 \n",
      "\n",
      "Step [0/8]\t Computing features...\n",
      "Features shape (8192,)\n",
      "14\n",
      "Test NMI = 0.7029 ARI = 0.4062 F = 0.5277 ACC = 0.4541\n",
      "================================================================\n",
      "\n"
     ]
    },
    {
     "name": "stderr",
     "output_type": "stream",
     "text": [
      "C:\\Users\\Tom-G\\.conda\\envs\\torchenv\\lib\\site-packages\\torch\\nn\\modules\\container.py:141: UserWarning: Implicit dimension choice for softmax has been deprecated. Change the call to include dim=X as an argument.\n",
      "  input = module(input)\n"
     ]
    },
    {
     "name": "stdout",
     "output_type": "stream",
     "text": [
      "Step [0/8]\t loss_instance: 5.913963794708252\t loss_cluster: 1.6022597551345825\n",
      "Step [2/8]\t loss_instance: 5.94008207321167\t loss_cluster: 1.6444470882415771\n",
      "Step [4/8]\t loss_instance: 5.950577259063721\t loss_cluster: 1.6597917079925537\n",
      "Step [6/8]\t loss_instance: 5.9572248458862305\t loss_cluster: 1.637250542640686\n",
      "\n",
      "Epoch [73/500]\t Loss: 7.54752893447876 \n",
      "\n",
      "Step [0/8]\t Computing features...\n",
      "Features shape (8192,)\n",
      "14\n",
      "Test NMI = 0.7103 ARI = 0.4195 F = 0.5409 ACC = 0.4594\n",
      "================================================================\n",
      "\n"
     ]
    },
    {
     "name": "stderr",
     "output_type": "stream",
     "text": [
      "C:\\Users\\Tom-G\\.conda\\envs\\torchenv\\lib\\site-packages\\torch\\nn\\modules\\container.py:141: UserWarning: Implicit dimension choice for softmax has been deprecated. Change the call to include dim=X as an argument.\n",
      "  input = module(input)\n"
     ]
    },
    {
     "name": "stdout",
     "output_type": "stream",
     "text": [
      "Step [0/8]\t loss_instance: 5.953355312347412\t loss_cluster: 1.6595276594161987\n",
      "Step [2/8]\t loss_instance: 5.9568095207214355\t loss_cluster: 1.684746503829956\n",
      "Step [4/8]\t loss_instance: 5.944070816040039\t loss_cluster: 1.622772216796875\n",
      "Step [6/8]\t loss_instance: 5.931234359741211\t loss_cluster: 1.6139552593231201\n",
      "\n",
      "Epoch [74/500]\t Loss: 7.570628881454468 \n",
      "\n",
      "Step [0/8]\t Computing features...\n",
      "Features shape (8192,)\n",
      "14\n",
      "Test NMI = 0.7031 ARI = 0.4053 F = 0.5270 ACC = 0.4602\n",
      "================================================================\n",
      "\n"
     ]
    },
    {
     "name": "stderr",
     "output_type": "stream",
     "text": [
      "C:\\Users\\Tom-G\\.conda\\envs\\torchenv\\lib\\site-packages\\torch\\nn\\modules\\container.py:141: UserWarning: Implicit dimension choice for softmax has been deprecated. Change the call to include dim=X as an argument.\n",
      "  input = module(input)\n"
     ]
    },
    {
     "name": "stdout",
     "output_type": "stream",
     "text": [
      "Step [0/8]\t loss_instance: 5.946245193481445\t loss_cluster: 1.6381999254226685\n",
      "Step [2/8]\t loss_instance: 5.937095642089844\t loss_cluster: 1.645777940750122\n",
      "Step [4/8]\t loss_instance: 5.937812805175781\t loss_cluster: 1.61900794506073\n",
      "Step [6/8]\t loss_instance: 5.909085750579834\t loss_cluster: 1.596608281135559\n",
      "\n",
      "Epoch [75/500]\t Loss: 7.535901427268982 \n",
      "\n",
      "Step [0/8]\t Computing features...\n",
      "Features shape (8192,)\n",
      "14\n",
      "Test NMI = 0.7044 ARI = 0.4175 F = 0.5380 ACC = 0.4709\n",
      "================================================================\n",
      "\n"
     ]
    },
    {
     "name": "stderr",
     "output_type": "stream",
     "text": [
      "C:\\Users\\Tom-G\\.conda\\envs\\torchenv\\lib\\site-packages\\torch\\nn\\modules\\container.py:141: UserWarning: Implicit dimension choice for softmax has been deprecated. Change the call to include dim=X as an argument.\n",
      "  input = module(input)\n"
     ]
    },
    {
     "name": "stdout",
     "output_type": "stream",
     "text": [
      "Step [0/8]\t loss_instance: 5.94244909286499\t loss_cluster: 1.630273699760437\n",
      "Step [2/8]\t loss_instance: 5.9114603996276855\t loss_cluster: 1.6163554191589355\n",
      "Step [4/8]\t loss_instance: 5.930601119995117\t loss_cluster: 1.632310152053833\n",
      "Step [6/8]\t loss_instance: 5.940371036529541\t loss_cluster: 1.6268675327301025\n",
      "\n",
      "Epoch [76/500]\t Loss: 7.533734828233719 \n",
      "\n",
      "Step [0/8]\t Computing features...\n",
      "Features shape (8192,)\n",
      "14\n",
      "Test NMI = 0.7090 ARI = 0.4202 F = 0.5406 ACC = 0.4581\n",
      "================================================================\n",
      "\n"
     ]
    },
    {
     "name": "stderr",
     "output_type": "stream",
     "text": [
      "C:\\Users\\Tom-G\\.conda\\envs\\torchenv\\lib\\site-packages\\torch\\nn\\modules\\container.py:141: UserWarning: Implicit dimension choice for softmax has been deprecated. Change the call to include dim=X as an argument.\n",
      "  input = module(input)\n"
     ]
    },
    {
     "name": "stdout",
     "output_type": "stream",
     "text": [
      "Step [0/8]\t loss_instance: 5.949486255645752\t loss_cluster: 1.6493806838989258\n",
      "Step [2/8]\t loss_instance: 5.925350666046143\t loss_cluster: 1.6129792928695679\n",
      "Step [4/8]\t loss_instance: 5.96323823928833\t loss_cluster: 1.6741904020309448\n",
      "Step [6/8]\t loss_instance: 5.958610534667969\t loss_cluster: 1.6689972877502441\n",
      "\n",
      "Epoch [77/500]\t Loss: 7.564633399248123 \n",
      "\n",
      "Step [0/8]\t Computing features...\n",
      "Features shape (8192,)\n",
      "14\n",
      "Test NMI = 0.6867 ARI = 0.3908 F = 0.5135 ACC = 0.4539\n",
      "================================================================\n",
      "\n"
     ]
    },
    {
     "name": "stderr",
     "output_type": "stream",
     "text": [
      "C:\\Users\\Tom-G\\.conda\\envs\\torchenv\\lib\\site-packages\\torch\\nn\\modules\\container.py:141: UserWarning: Implicit dimension choice for softmax has been deprecated. Change the call to include dim=X as an argument.\n",
      "  input = module(input)\n"
     ]
    },
    {
     "name": "stdout",
     "output_type": "stream",
     "text": [
      "Step [0/8]\t loss_instance: 5.940160274505615\t loss_cluster: 1.6257575750350952\n",
      "Step [2/8]\t loss_instance: 5.967204570770264\t loss_cluster: 1.6695445775985718\n",
      "Step [4/8]\t loss_instance: 5.942349433898926\t loss_cluster: 1.6355215311050415\n",
      "Step [6/8]\t loss_instance: 5.95242977142334\t loss_cluster: 1.660981297492981\n",
      "\n",
      "Epoch [78/500]\t Loss: 7.556727033853531 \n",
      "\n",
      "Step [0/8]\t Computing features...\n",
      "Features shape (8192,)\n",
      "14\n",
      "Test NMI = 0.6704 ARI = 0.3649 F = 0.4878 ACC = 0.4493\n",
      "================================================================\n",
      "\n"
     ]
    },
    {
     "name": "stderr",
     "output_type": "stream",
     "text": [
      "C:\\Users\\Tom-G\\.conda\\envs\\torchenv\\lib\\site-packages\\torch\\nn\\modules\\container.py:141: UserWarning: Implicit dimension choice for softmax has been deprecated. Change the call to include dim=X as an argument.\n",
      "  input = module(input)\n"
     ]
    },
    {
     "name": "stdout",
     "output_type": "stream",
     "text": [
      "Step [0/8]\t loss_instance: 5.947330474853516\t loss_cluster: 1.640492558479309\n",
      "Step [2/8]\t loss_instance: 5.98745584487915\t loss_cluster: 1.6953104734420776\n",
      "Step [4/8]\t loss_instance: 5.973236083984375\t loss_cluster: 1.6918100118637085\n",
      "Step [6/8]\t loss_instance: 5.9658989906311035\t loss_cluster: 1.6834874153137207\n",
      "\n",
      "Epoch [79/500]\t Loss: 7.612061011791229 \n",
      "\n",
      "Step [0/8]\t Computing features...\n",
      "Features shape (8192,)\n",
      "14\n",
      "Test NMI = 0.6767 ARI = 0.3839 F = 0.5062 ACC = 0.4669\n",
      "================================================================\n",
      "\n"
     ]
    },
    {
     "name": "stderr",
     "output_type": "stream",
     "text": [
      "C:\\Users\\Tom-G\\.conda\\envs\\torchenv\\lib\\site-packages\\torch\\nn\\modules\\container.py:141: UserWarning: Implicit dimension choice for softmax has been deprecated. Change the call to include dim=X as an argument.\n",
      "  input = module(input)\n"
     ]
    },
    {
     "name": "stdout",
     "output_type": "stream",
     "text": [
      "Step [0/8]\t loss_instance: 5.856812477111816\t loss_cluster: 1.5841418504714966\n",
      "Step [2/8]\t loss_instance: 5.859495162963867\t loss_cluster: 1.567160964012146\n",
      "Step [4/8]\t loss_instance: 5.864710807800293\t loss_cluster: 1.584771752357483\n",
      "Step [6/8]\t loss_instance: 5.915921211242676\t loss_cluster: 1.6269291639328003\n",
      "\n",
      "Epoch [80/500]\t Loss: 7.473900765180588 \n",
      "\n",
      "Step [0/8]\t Computing features...\n",
      "Features shape (8192,)\n",
      "14\n",
      "Test NMI = 0.7073 ARI = 0.4409 F = 0.5574 ACC = 0.5018\n",
      "================================================================\n",
      "\n"
     ]
    },
    {
     "name": "stderr",
     "output_type": "stream",
     "text": [
      "C:\\Users\\Tom-G\\.conda\\envs\\torchenv\\lib\\site-packages\\torch\\nn\\modules\\container.py:141: UserWarning: Implicit dimension choice for softmax has been deprecated. Change the call to include dim=X as an argument.\n",
      "  input = module(input)\n"
     ]
    },
    {
     "name": "stdout",
     "output_type": "stream",
     "text": [
      "Step [0/8]\t loss_instance: 5.897241115570068\t loss_cluster: 1.61271071434021\n",
      "Step [2/8]\t loss_instance: 5.889286994934082\t loss_cluster: 1.6041256189346313\n",
      "Step [4/8]\t loss_instance: 5.916975975036621\t loss_cluster: 1.610411524772644\n",
      "Step [6/8]\t loss_instance: 5.9152350425720215\t loss_cluster: 1.6148945093154907\n",
      "\n",
      "Epoch [81/500]\t Loss: 7.514162749052048 \n",
      "\n",
      "Step [0/8]\t Computing features...\n",
      "Features shape (8192,)\n",
      "14\n",
      "Test NMI = 0.6900 ARI = 0.3963 F = 0.5178 ACC = 0.4689\n",
      "================================================================\n",
      "\n"
     ]
    },
    {
     "name": "stderr",
     "output_type": "stream",
     "text": [
      "C:\\Users\\Tom-G\\.conda\\envs\\torchenv\\lib\\site-packages\\torch\\nn\\modules\\container.py:141: UserWarning: Implicit dimension choice for softmax has been deprecated. Change the call to include dim=X as an argument.\n",
      "  input = module(input)\n"
     ]
    },
    {
     "name": "stdout",
     "output_type": "stream",
     "text": [
      "Step [0/8]\t loss_instance: 5.907832145690918\t loss_cluster: 1.6227409839630127\n",
      "Step [2/8]\t loss_instance: 5.890963554382324\t loss_cluster: 1.6032501459121704\n",
      "Step [4/8]\t loss_instance: 5.939136505126953\t loss_cluster: 1.6531044244766235\n",
      "Step [6/8]\t loss_instance: 5.913240432739258\t loss_cluster: 1.630690097808838\n",
      "\n",
      "Epoch [82/500]\t Loss: 7.556068724393844 \n",
      "\n",
      "Step [0/8]\t Computing features...\n",
      "Features shape (8192,)\n",
      "14\n",
      "Test NMI = 0.7017 ARI = 0.4213 F = 0.5408 ACC = 0.4670\n",
      "================================================================\n",
      "\n"
     ]
    },
    {
     "name": "stderr",
     "output_type": "stream",
     "text": [
      "C:\\Users\\Tom-G\\.conda\\envs\\torchenv\\lib\\site-packages\\torch\\nn\\modules\\container.py:141: UserWarning: Implicit dimension choice for softmax has been deprecated. Change the call to include dim=X as an argument.\n",
      "  input = module(input)\n"
     ]
    },
    {
     "name": "stdout",
     "output_type": "stream",
     "text": [
      "Step [0/8]\t loss_instance: 5.905955791473389\t loss_cluster: 1.6079323291778564\n",
      "Step [2/8]\t loss_instance: 5.899341106414795\t loss_cluster: 1.6099514961242676\n",
      "Step [4/8]\t loss_instance: 5.890118598937988\t loss_cluster: 1.5931166410446167\n",
      "Step [6/8]\t loss_instance: 5.903273105621338\t loss_cluster: 1.610834002494812\n",
      "\n",
      "Epoch [83/500]\t Loss: 7.5256399512290955 \n",
      "\n",
      "Step [0/8]\t Computing features...\n",
      "Features shape (8192,)\n",
      "14\n",
      "Test NMI = 0.6857 ARI = 0.3880 F = 0.5102 ACC = 0.4618\n",
      "================================================================\n",
      "\n"
     ]
    },
    {
     "name": "stderr",
     "output_type": "stream",
     "text": [
      "C:\\Users\\Tom-G\\.conda\\envs\\torchenv\\lib\\site-packages\\torch\\nn\\modules\\container.py:141: UserWarning: Implicit dimension choice for softmax has been deprecated. Change the call to include dim=X as an argument.\n",
      "  input = module(input)\n"
     ]
    },
    {
     "name": "stdout",
     "output_type": "stream",
     "text": [
      "Step [0/8]\t loss_instance: 5.912299156188965\t loss_cluster: 1.6128528118133545\n",
      "Step [2/8]\t loss_instance: 5.917356967926025\t loss_cluster: 1.6136678457260132\n",
      "Step [4/8]\t loss_instance: 5.910083293914795\t loss_cluster: 1.5991973876953125\n",
      "Step [6/8]\t loss_instance: 5.920875072479248\t loss_cluster: 1.6085102558135986\n",
      "\n",
      "Epoch [84/500]\t Loss: 7.525108927488327 \n",
      "\n",
      "Step [0/8]\t Computing features...\n",
      "Features shape (8192,)\n",
      "14\n",
      "Test NMI = 0.6878 ARI = 0.3956 F = 0.5169 ACC = 0.4669\n",
      "================================================================\n",
      "\n"
     ]
    },
    {
     "name": "stderr",
     "output_type": "stream",
     "text": [
      "C:\\Users\\Tom-G\\.conda\\envs\\torchenv\\lib\\site-packages\\torch\\nn\\modules\\container.py:141: UserWarning: Implicit dimension choice for softmax has been deprecated. Change the call to include dim=X as an argument.\n",
      "  input = module(input)\n"
     ]
    },
    {
     "name": "stdout",
     "output_type": "stream",
     "text": [
      "Step [0/8]\t loss_instance: 5.903792858123779\t loss_cluster: 1.5998839139938354\n",
      "Step [2/8]\t loss_instance: 5.9119954109191895\t loss_cluster: 1.6153227090835571\n",
      "Step [4/8]\t loss_instance: 5.9276442527771\t loss_cluster: 1.6159065961837769\n",
      "Step [6/8]\t loss_instance: 5.92619514465332\t loss_cluster: 1.6249045133590698\n",
      "\n",
      "Epoch [85/500]\t Loss: 7.533644449710846 \n",
      "\n",
      "Step [0/8]\t Computing features...\n",
      "Features shape (8192,)\n",
      "14\n",
      "Test NMI = 0.6981 ARI = 0.4203 F = 0.5396 ACC = 0.4945\n",
      "================================================================\n",
      "\n"
     ]
    },
    {
     "name": "stderr",
     "output_type": "stream",
     "text": [
      "C:\\Users\\Tom-G\\.conda\\envs\\torchenv\\lib\\site-packages\\torch\\nn\\modules\\container.py:141: UserWarning: Implicit dimension choice for softmax has been deprecated. Change the call to include dim=X as an argument.\n",
      "  input = module(input)\n"
     ]
    },
    {
     "name": "stdout",
     "output_type": "stream",
     "text": [
      "Step [0/8]\t loss_instance: 5.9075703620910645\t loss_cluster: 1.6162357330322266\n",
      "Step [2/8]\t loss_instance: 5.974956512451172\t loss_cluster: 1.6778819561004639\n",
      "Step [4/8]\t loss_instance: 5.925836086273193\t loss_cluster: 1.6345921754837036\n",
      "Step [6/8]\t loss_instance: 5.93254280090332\t loss_cluster: 1.6238166093826294\n",
      "\n",
      "Epoch [86/500]\t Loss: 7.561807543039322 \n",
      "\n",
      "Step [0/8]\t Computing features...\n",
      "Features shape (8192,)\n",
      "14\n",
      "Test NMI = 0.6817 ARI = 0.3904 F = 0.5131 ACC = 0.4553\n",
      "================================================================\n",
      "\n"
     ]
    },
    {
     "name": "stderr",
     "output_type": "stream",
     "text": [
      "C:\\Users\\Tom-G\\.conda\\envs\\torchenv\\lib\\site-packages\\torch\\nn\\modules\\container.py:141: UserWarning: Implicit dimension choice for softmax has been deprecated. Change the call to include dim=X as an argument.\n",
      "  input = module(input)\n"
     ]
    },
    {
     "name": "stdout",
     "output_type": "stream",
     "text": [
      "Step [0/8]\t loss_instance: 5.932177543640137\t loss_cluster: 1.6385353803634644\n",
      "Step [2/8]\t loss_instance: 5.944878578186035\t loss_cluster: 1.6616616249084473\n",
      "Step [4/8]\t loss_instance: 5.919334411621094\t loss_cluster: 1.635079026222229\n",
      "Step [6/8]\t loss_instance: 5.9230732917785645\t loss_cluster: 1.6275029182434082\n",
      "\n",
      "Epoch [87/500]\t Loss: 7.553398448228836 \n",
      "\n",
      "Step [0/8]\t Computing features...\n",
      "Features shape (8192,)\n",
      "14\n",
      "Test NMI = 0.6853 ARI = 0.3947 F = 0.5161 ACC = 0.4575\n",
      "================================================================\n",
      "\n"
     ]
    },
    {
     "name": "stderr",
     "output_type": "stream",
     "text": [
      "C:\\Users\\Tom-G\\.conda\\envs\\torchenv\\lib\\site-packages\\torch\\nn\\modules\\container.py:141: UserWarning: Implicit dimension choice for softmax has been deprecated. Change the call to include dim=X as an argument.\n",
      "  input = module(input)\n"
     ]
    },
    {
     "name": "stdout",
     "output_type": "stream",
     "text": [
      "Step [0/8]\t loss_instance: 5.940135478973389\t loss_cluster: 1.6408753395080566\n",
      "Step [2/8]\t loss_instance: 5.9271135330200195\t loss_cluster: 1.615341067314148\n",
      "Step [4/8]\t loss_instance: 5.941442489624023\t loss_cluster: 1.6377928256988525\n",
      "Step [6/8]\t loss_instance: 5.924973964691162\t loss_cluster: 1.6218624114990234\n",
      "\n",
      "Epoch [88/500]\t Loss: 7.554034316539765 \n",
      "\n",
      "Step [0/8]\t Computing features...\n",
      "Features shape (8192,)\n",
      "14\n",
      "Test NMI = 0.6759 ARI = 0.3780 F = 0.4999 ACC = 0.4579\n",
      "================================================================\n",
      "\n"
     ]
    },
    {
     "name": "stderr",
     "output_type": "stream",
     "text": [
      "C:\\Users\\Tom-G\\.conda\\envs\\torchenv\\lib\\site-packages\\torch\\nn\\modules\\container.py:141: UserWarning: Implicit dimension choice for softmax has been deprecated. Change the call to include dim=X as an argument.\n",
      "  input = module(input)\n"
     ]
    },
    {
     "name": "stdout",
     "output_type": "stream",
     "text": [
      "Step [0/8]\t loss_instance: 5.9222259521484375\t loss_cluster: 1.6265122890472412\n",
      "Step [2/8]\t loss_instance: 5.937535285949707\t loss_cluster: 1.6230307817459106\n",
      "Step [4/8]\t loss_instance: 5.9263916015625\t loss_cluster: 1.6139200925827026\n",
      "Step [6/8]\t loss_instance: 5.929093837738037\t loss_cluster: 1.6070466041564941\n",
      "\n",
      "Epoch [89/500]\t Loss: 7.535983353853226 \n",
      "\n",
      "Step [0/8]\t Computing features...\n",
      "Features shape (8192,)\n",
      "14\n",
      "Test NMI = 0.6736 ARI = 0.3783 F = 0.5002 ACC = 0.4641\n",
      "================================================================\n",
      "\n"
     ]
    },
    {
     "name": "stderr",
     "output_type": "stream",
     "text": [
      "C:\\Users\\Tom-G\\.conda\\envs\\torchenv\\lib\\site-packages\\torch\\nn\\modules\\container.py:141: UserWarning: Implicit dimension choice for softmax has been deprecated. Change the call to include dim=X as an argument.\n",
      "  input = module(input)\n"
     ]
    },
    {
     "name": "stdout",
     "output_type": "stream",
     "text": [
      "Step [0/8]\t loss_instance: 5.908116817474365\t loss_cluster: 1.6006947755813599\n",
      "Step [2/8]\t loss_instance: 5.942536354064941\t loss_cluster: 1.6307530403137207\n",
      "Step [4/8]\t loss_instance: 5.915642261505127\t loss_cluster: 1.6231874227523804\n",
      "Step [6/8]\t loss_instance: 5.907385349273682\t loss_cluster: 1.612735390663147\n",
      "\n",
      "Epoch [90/500]\t Loss: 7.515256822109222 \n",
      "\n",
      "Step [0/8]\t Computing features...\n",
      "Features shape (8192,)\n",
      "14\n",
      "Test NMI = 0.6769 ARI = 0.3822 F = 0.5041 ACC = 0.4543\n",
      "================================================================\n",
      "\n"
     ]
    },
    {
     "name": "stderr",
     "output_type": "stream",
     "text": [
      "C:\\Users\\Tom-G\\.conda\\envs\\torchenv\\lib\\site-packages\\torch\\nn\\modules\\container.py:141: UserWarning: Implicit dimension choice for softmax has been deprecated. Change the call to include dim=X as an argument.\n",
      "  input = module(input)\n"
     ]
    },
    {
     "name": "stdout",
     "output_type": "stream",
     "text": [
      "Step [0/8]\t loss_instance: 5.902105331420898\t loss_cluster: 1.6048036813735962\n",
      "Step [2/8]\t loss_instance: 5.887434005737305\t loss_cluster: 1.5967415571212769\n",
      "Step [4/8]\t loss_instance: 5.904576301574707\t loss_cluster: 1.6004040241241455\n",
      "Step [6/8]\t loss_instance: 5.918715000152588\t loss_cluster: 1.6132433414459229\n",
      "\n",
      "Epoch [91/500]\t Loss: 7.492569524049759 \n",
      "\n",
      "Step [0/8]\t Computing features...\n",
      "Features shape (8192,)\n",
      "14\n",
      "Test NMI = 0.6692 ARI = 0.3797 F = 0.5021 ACC = 0.4686\n",
      "================================================================\n",
      "\n"
     ]
    },
    {
     "name": "stderr",
     "output_type": "stream",
     "text": [
      "C:\\Users\\Tom-G\\.conda\\envs\\torchenv\\lib\\site-packages\\torch\\nn\\modules\\container.py:141: UserWarning: Implicit dimension choice for softmax has been deprecated. Change the call to include dim=X as an argument.\n",
      "  input = module(input)\n"
     ]
    },
    {
     "name": "stdout",
     "output_type": "stream",
     "text": [
      "Step [0/8]\t loss_instance: 5.939363956451416\t loss_cluster: 1.634610891342163\n",
      "Step [2/8]\t loss_instance: 5.8914570808410645\t loss_cluster: 1.6076411008834839\n",
      "Step [4/8]\t loss_instance: 5.929518222808838\t loss_cluster: 1.6215299367904663\n",
      "Step [6/8]\t loss_instance: 5.9220356941223145\t loss_cluster: 1.6293261051177979\n",
      "\n",
      "Epoch [92/500]\t Loss: 7.523547047376633 \n",
      "\n",
      "Step [0/8]\t Computing features...\n",
      "Features shape (8192,)\n",
      "14\n",
      "Test NMI = 0.6620 ARI = 0.3685 F = 0.4908 ACC = 0.4438\n",
      "================================================================\n",
      "\n"
     ]
    },
    {
     "name": "stderr",
     "output_type": "stream",
     "text": [
      "C:\\Users\\Tom-G\\.conda\\envs\\torchenv\\lib\\site-packages\\torch\\nn\\modules\\container.py:141: UserWarning: Implicit dimension choice for softmax has been deprecated. Change the call to include dim=X as an argument.\n",
      "  input = module(input)\n"
     ]
    },
    {
     "name": "stdout",
     "output_type": "stream",
     "text": [
      "Step [0/8]\t loss_instance: 5.915125846862793\t loss_cluster: 1.613099455833435\n",
      "Step [2/8]\t loss_instance: 5.907597541809082\t loss_cluster: 1.5998295545578003\n",
      "Step [4/8]\t loss_instance: 5.9151387214660645\t loss_cluster: 1.6021698713302612\n",
      "Step [6/8]\t loss_instance: 5.912785053253174\t loss_cluster: 1.6200642585754395\n",
      "\n",
      "Epoch [93/500]\t Loss: 7.495092022418976 \n",
      "\n",
      "Step [0/8]\t Computing features...\n",
      "Features shape (8192,)\n",
      "14\n",
      "Test NMI = 0.6663 ARI = 0.3816 F = 0.5038 ACC = 0.4620\n",
      "================================================================\n",
      "\n"
     ]
    },
    {
     "name": "stderr",
     "output_type": "stream",
     "text": [
      "C:\\Users\\Tom-G\\.conda\\envs\\torchenv\\lib\\site-packages\\torch\\nn\\modules\\container.py:141: UserWarning: Implicit dimension choice for softmax has been deprecated. Change the call to include dim=X as an argument.\n",
      "  input = module(input)\n"
     ]
    },
    {
     "name": "stdout",
     "output_type": "stream",
     "text": [
      "Step [0/8]\t loss_instance: 5.923703193664551\t loss_cluster: 1.6322746276855469\n",
      "Step [2/8]\t loss_instance: 5.901893138885498\t loss_cluster: 1.6105204820632935\n",
      "Step [4/8]\t loss_instance: 5.923529148101807\t loss_cluster: 1.6203573942184448\n",
      "Step [6/8]\t loss_instance: 5.925089359283447\t loss_cluster: 1.6078749895095825\n",
      "\n",
      "Epoch [94/500]\t Loss: 7.50812252163887 \n",
      "\n",
      "Step [0/8]\t Computing features...\n",
      "Features shape (8192,)\n",
      "14\n",
      "Test NMI = 0.6505 ARI = 0.3577 F = 0.4800 ACC = 0.4590\n",
      "================================================================\n",
      "\n"
     ]
    },
    {
     "name": "stderr",
     "output_type": "stream",
     "text": [
      "C:\\Users\\Tom-G\\.conda\\envs\\torchenv\\lib\\site-packages\\torch\\nn\\modules\\container.py:141: UserWarning: Implicit dimension choice for softmax has been deprecated. Change the call to include dim=X as an argument.\n",
      "  input = module(input)\n"
     ]
    },
    {
     "name": "stdout",
     "output_type": "stream",
     "text": [
      "Step [0/8]\t loss_instance: 5.933919429779053\t loss_cluster: 1.6348536014556885\n",
      "Step [2/8]\t loss_instance: 5.947859287261963\t loss_cluster: 1.633175253868103\n",
      "Step [4/8]\t loss_instance: 5.946906566619873\t loss_cluster: 1.6468656063079834\n",
      "Step [6/8]\t loss_instance: 5.988684177398682\t loss_cluster: 1.6680078506469727\n",
      "\n",
      "Epoch [95/500]\t Loss: 7.562915766239167 \n",
      "\n",
      "Step [0/8]\t Computing features...\n",
      "Features shape (8192,)\n",
      "14\n",
      "Test NMI = 0.6313 ARI = 0.3443 F = 0.4659 ACC = 0.4423\n",
      "================================================================\n",
      "\n"
     ]
    },
    {
     "name": "stderr",
     "output_type": "stream",
     "text": [
      "C:\\Users\\Tom-G\\.conda\\envs\\torchenv\\lib\\site-packages\\torch\\nn\\modules\\container.py:141: UserWarning: Implicit dimension choice for softmax has been deprecated. Change the call to include dim=X as an argument.\n",
      "  input = module(input)\n"
     ]
    },
    {
     "name": "stdout",
     "output_type": "stream",
     "text": [
      "Step [0/8]\t loss_instance: 5.938697814941406\t loss_cluster: 1.6385358572006226\n",
      "Step [2/8]\t loss_instance: 5.940470218658447\t loss_cluster: 1.6246325969696045\n",
      "Step [4/8]\t loss_instance: 5.9564032554626465\t loss_cluster: 1.655808925628662\n",
      "Step [6/8]\t loss_instance: 5.951412677764893\t loss_cluster: 1.6539171934127808\n",
      "\n",
      "Epoch [96/500]\t Loss: 7.571489036083221 \n",
      "\n",
      "Step [0/8]\t Computing features...\n",
      "Features shape (8192,)\n",
      "14\n",
      "Test NMI = 0.6350 ARI = 0.3599 F = 0.4807 ACC = 0.4578\n",
      "================================================================\n",
      "\n"
     ]
    },
    {
     "name": "stderr",
     "output_type": "stream",
     "text": [
      "C:\\Users\\Tom-G\\.conda\\envs\\torchenv\\lib\\site-packages\\torch\\nn\\modules\\container.py:141: UserWarning: Implicit dimension choice for softmax has been deprecated. Change the call to include dim=X as an argument.\n",
      "  input = module(input)\n"
     ]
    },
    {
     "name": "stdout",
     "output_type": "stream",
     "text": [
      "Step [0/8]\t loss_instance: 5.965260028839111\t loss_cluster: 1.6732925176620483\n",
      "Step [2/8]\t loss_instance: 5.999958038330078\t loss_cluster: 1.7535327672958374\n",
      "Step [4/8]\t loss_instance: 6.061112403869629\t loss_cluster: 1.7616846561431885\n",
      "Step [6/8]\t loss_instance: 6.069808483123779\t loss_cluster: 1.7561808824539185\n",
      "\n",
      "Epoch [97/500]\t Loss: 7.734247505664825 \n",
      "\n",
      "Step [0/8]\t Computing features...\n",
      "Features shape (8192,)\n",
      "14\n",
      "Test NMI = 0.6132 ARI = 0.3300 F = 0.4499 ACC = 0.4496\n",
      "================================================================\n",
      "\n"
     ]
    },
    {
     "name": "stderr",
     "output_type": "stream",
     "text": [
      "C:\\Users\\Tom-G\\.conda\\envs\\torchenv\\lib\\site-packages\\torch\\nn\\modules\\container.py:141: UserWarning: Implicit dimension choice for softmax has been deprecated. Change the call to include dim=X as an argument.\n",
      "  input = module(input)\n"
     ]
    },
    {
     "name": "stdout",
     "output_type": "stream",
     "text": [
      "Step [0/8]\t loss_instance: 6.011385917663574\t loss_cluster: 1.7119371891021729\n",
      "Step [2/8]\t loss_instance: 6.050028324127197\t loss_cluster: 1.738696575164795\n",
      "Step [4/8]\t loss_instance: 6.013698101043701\t loss_cluster: 1.7276970148086548\n",
      "Step [6/8]\t loss_instance: 6.021720886230469\t loss_cluster: 1.727878451347351\n",
      "\n",
      "Epoch [98/500]\t Loss: 7.743596971035004 \n",
      "\n",
      "Step [0/8]\t Computing features...\n",
      "Features shape (8192,)\n",
      "14\n",
      "Test NMI = 0.5973 ARI = 0.3199 F = 0.4410 ACC = 0.4323\n",
      "================================================================\n",
      "\n"
     ]
    },
    {
     "name": "stderr",
     "output_type": "stream",
     "text": [
      "C:\\Users\\Tom-G\\.conda\\envs\\torchenv\\lib\\site-packages\\torch\\nn\\modules\\container.py:141: UserWarning: Implicit dimension choice for softmax has been deprecated. Change the call to include dim=X as an argument.\n",
      "  input = module(input)\n"
     ]
    },
    {
     "name": "stdout",
     "output_type": "stream",
     "text": [
      "Step [0/8]\t loss_instance: 6.069232940673828\t loss_cluster: 1.764530897140503\n",
      "Step [2/8]\t loss_instance: 6.064857482910156\t loss_cluster: 1.781171202659607\n",
      "Step [4/8]\t loss_instance: 6.09587287902832\t loss_cluster: 1.8402262926101685\n",
      "Step [6/8]\t loss_instance: 6.08683443069458\t loss_cluster: 1.8298448324203491\n",
      "\n",
      "Epoch [99/500]\t Loss: 7.851263165473938 \n",
      "\n",
      "Step [0/8]\t Computing features...\n",
      "Features shape (8192,)\n",
      "14\n",
      "Test NMI = 0.6026 ARI = 0.3320 F = 0.4524 ACC = 0.4523\n",
      "================================================================\n",
      "\n"
     ]
    },
    {
     "name": "stderr",
     "output_type": "stream",
     "text": [
      "C:\\Users\\Tom-G\\.conda\\envs\\torchenv\\lib\\site-packages\\torch\\nn\\modules\\container.py:141: UserWarning: Implicit dimension choice for softmax has been deprecated. Change the call to include dim=X as an argument.\n",
      "  input = module(input)\n"
     ]
    },
    {
     "name": "stdout",
     "output_type": "stream",
     "text": [
      "Step [0/8]\t loss_instance: 5.89052677154541\t loss_cluster: 1.6116896867752075\n",
      "Step [2/8]\t loss_instance: 5.963779449462891\t loss_cluster: 1.6551817655563354\n",
      "Step [4/8]\t loss_instance: 6.01493501663208\t loss_cluster: 1.7019277811050415\n",
      "Step [6/8]\t loss_instance: 5.999056339263916\t loss_cluster: 1.6739941835403442\n",
      "\n",
      "Epoch [100/500]\t Loss: 7.659293514490128 \n",
      "\n",
      "Step [0/8]\t Computing features...\n",
      "Features shape (8192,)\n",
      "14\n",
      "Test NMI = 0.6448 ARI = 0.3625 F = 0.4838 ACC = 0.4506\n",
      "================================================================\n",
      "\n"
     ]
    },
    {
     "name": "stderr",
     "output_type": "stream",
     "text": [
      "C:\\Users\\Tom-G\\.conda\\envs\\torchenv\\lib\\site-packages\\torch\\nn\\modules\\container.py:141: UserWarning: Implicit dimension choice for softmax has been deprecated. Change the call to include dim=X as an argument.\n",
      "  input = module(input)\n"
     ]
    },
    {
     "name": "stdout",
     "output_type": "stream",
     "text": [
      "Step [0/8]\t loss_instance: 6.037127494812012\t loss_cluster: 1.7049214839935303\n",
      "Step [2/8]\t loss_instance: 5.971168518066406\t loss_cluster: 1.6540932655334473\n",
      "Step [4/8]\t loss_instance: 6.050481796264648\t loss_cluster: 1.7145849466323853\n",
      "Step [6/8]\t loss_instance: 5.99294376373291\t loss_cluster: 1.6627278327941895\n",
      "\n",
      "Epoch [101/500]\t Loss: 7.6817510485649105 \n",
      "\n",
      "Step [0/8]\t Computing features...\n",
      "Features shape (8192,)\n",
      "14\n",
      "Test NMI = 0.6415 ARI = 0.3650 F = 0.4850 ACC = 0.4524\n",
      "================================================================\n",
      "\n"
     ]
    },
    {
     "name": "stderr",
     "output_type": "stream",
     "text": [
      "C:\\Users\\Tom-G\\.conda\\envs\\torchenv\\lib\\site-packages\\torch\\nn\\modules\\container.py:141: UserWarning: Implicit dimension choice for softmax has been deprecated. Change the call to include dim=X as an argument.\n",
      "  input = module(input)\n"
     ]
    },
    {
     "name": "stdout",
     "output_type": "stream",
     "text": [
      "Step [0/8]\t loss_instance: 6.021459102630615\t loss_cluster: 1.69404137134552\n",
      "Step [2/8]\t loss_instance: 6.0042948722839355\t loss_cluster: 1.6898471117019653\n",
      "Step [4/8]\t loss_instance: 6.027504920959473\t loss_cluster: 1.7667170763015747\n",
      "Step [6/8]\t loss_instance: 6.103545665740967\t loss_cluster: 1.7544537782669067\n",
      "\n",
      "Epoch [102/500]\t Loss: 7.719491505622864 \n",
      "\n",
      "Step [0/8]\t Computing features...\n",
      "Features shape (8192,)\n",
      "14\n",
      "Test NMI = 0.6452 ARI = 0.3764 F = 0.4931 ACC = 0.4574\n",
      "================================================================\n",
      "\n"
     ]
    },
    {
     "name": "stderr",
     "output_type": "stream",
     "text": [
      "C:\\Users\\Tom-G\\.conda\\envs\\torchenv\\lib\\site-packages\\torch\\nn\\modules\\container.py:141: UserWarning: Implicit dimension choice for softmax has been deprecated. Change the call to include dim=X as an argument.\n",
      "  input = module(input)\n"
     ]
    },
    {
     "name": "stdout",
     "output_type": "stream",
     "text": [
      "Step [0/8]\t loss_instance: 6.0960798263549805\t loss_cluster: 1.7789331674575806\n",
      "Step [2/8]\t loss_instance: 6.058223724365234\t loss_cluster: 1.7007710933685303\n",
      "Step [4/8]\t loss_instance: 6.043674945831299\t loss_cluster: 1.747050404548645\n",
      "Step [6/8]\t loss_instance: 5.981010437011719\t loss_cluster: 1.6732884645462036\n",
      "\n",
      "Epoch [103/500]\t Loss: 7.742602890729904 \n",
      "\n",
      "Step [0/8]\t Computing features...\n",
      "Features shape (8192,)\n",
      "14\n",
      "Test NMI = 0.6534 ARI = 0.3814 F = 0.5008 ACC = 0.4620\n",
      "================================================================\n",
      "\n"
     ]
    },
    {
     "name": "stderr",
     "output_type": "stream",
     "text": [
      "C:\\Users\\Tom-G\\.conda\\envs\\torchenv\\lib\\site-packages\\torch\\nn\\modules\\container.py:141: UserWarning: Implicit dimension choice for softmax has been deprecated. Change the call to include dim=X as an argument.\n",
      "  input = module(input)\n"
     ]
    },
    {
     "name": "stdout",
     "output_type": "stream",
     "text": [
      "Step [0/8]\t loss_instance: 6.007540702819824\t loss_cluster: 1.7232743501663208\n",
      "Step [2/8]\t loss_instance: 6.005810737609863\t loss_cluster: 1.7104580402374268\n",
      "Step [4/8]\t loss_instance: 6.009239673614502\t loss_cluster: 1.7037545442581177\n",
      "Step [6/8]\t loss_instance: 6.0680646896362305\t loss_cluster: 1.757051944732666\n",
      "\n",
      "Epoch [104/500]\t Loss: 7.715315788984299 \n",
      "\n",
      "Step [0/8]\t Computing features...\n",
      "Features shape (8192,)\n",
      "14\n",
      "Test NMI = 0.6537 ARI = 0.3798 F = 0.4991 ACC = 0.4744\n",
      "================================================================\n",
      "\n"
     ]
    },
    {
     "name": "stderr",
     "output_type": "stream",
     "text": [
      "C:\\Users\\Tom-G\\.conda\\envs\\torchenv\\lib\\site-packages\\torch\\nn\\modules\\container.py:141: UserWarning: Implicit dimension choice for softmax has been deprecated. Change the call to include dim=X as an argument.\n",
      "  input = module(input)\n"
     ]
    },
    {
     "name": "stdout",
     "output_type": "stream",
     "text": [
      "Step [0/8]\t loss_instance: 6.018711090087891\t loss_cluster: 1.6988075971603394\n",
      "Step [2/8]\t loss_instance: 6.041759014129639\t loss_cluster: 1.742817759513855\n",
      "Step [4/8]\t loss_instance: 6.018864631652832\t loss_cluster: 1.7077549695968628\n",
      "Step [6/8]\t loss_instance: 6.005587577819824\t loss_cluster: 1.7115626335144043\n",
      "\n",
      "Epoch [105/500]\t Loss: 7.708802980184555 \n",
      "\n",
      "Step [0/8]\t Computing features...\n",
      "Features shape (8192,)\n",
      "14\n",
      "Test NMI = 0.6168 ARI = 0.3405 F = 0.4611 ACC = 0.4623\n",
      "================================================================\n",
      "\n"
     ]
    },
    {
     "name": "stderr",
     "output_type": "stream",
     "text": [
      "C:\\Users\\Tom-G\\.conda\\envs\\torchenv\\lib\\site-packages\\torch\\nn\\modules\\container.py:141: UserWarning: Implicit dimension choice for softmax has been deprecated. Change the call to include dim=X as an argument.\n",
      "  input = module(input)\n"
     ]
    },
    {
     "name": "stdout",
     "output_type": "stream",
     "text": [
      "Step [0/8]\t loss_instance: 6.024914741516113\t loss_cluster: 1.7144417762756348\n",
      "Step [2/8]\t loss_instance: 6.010826110839844\t loss_cluster: 1.7039995193481445\n",
      "Step [4/8]\t loss_instance: 6.022035598754883\t loss_cluster: 1.7301005125045776\n",
      "Step [6/8]\t loss_instance: 6.014617919921875\t loss_cluster: 1.695221185684204\n",
      "\n",
      "Epoch [106/500]\t Loss: 7.692031908035278 \n",
      "\n",
      "Step [0/8]\t Computing features...\n",
      "Features shape (8192,)\n",
      "14\n",
      "Test NMI = 0.6236 ARI = 0.3380 F = 0.4589 ACC = 0.4596\n",
      "================================================================\n",
      "\n"
     ]
    },
    {
     "name": "stderr",
     "output_type": "stream",
     "text": [
      "C:\\Users\\Tom-G\\.conda\\envs\\torchenv\\lib\\site-packages\\torch\\nn\\modules\\container.py:141: UserWarning: Implicit dimension choice for softmax has been deprecated. Change the call to include dim=X as an argument.\n",
      "  input = module(input)\n"
     ]
    },
    {
     "name": "stdout",
     "output_type": "stream",
     "text": [
      "Step [0/8]\t loss_instance: 5.989394187927246\t loss_cluster: 1.691176414489746\n",
      "Step [2/8]\t loss_instance: 6.089522361755371\t loss_cluster: 1.7590504884719849\n",
      "Step [4/8]\t loss_instance: 6.021189212799072\t loss_cluster: 1.7147210836410522\n",
      "Step [6/8]\t loss_instance: 6.029932498931885\t loss_cluster: 1.7281577587127686\n",
      "\n",
      "Epoch [107/500]\t Loss: 7.731383895874023 \n",
      "\n",
      "Step [0/8]\t Computing features...\n",
      "Features shape (8192,)\n",
      "14\n",
      "Test NMI = 0.6110 ARI = 0.3200 F = 0.4413 ACC = 0.4369\n",
      "================================================================\n",
      "\n"
     ]
    },
    {
     "name": "stderr",
     "output_type": "stream",
     "text": [
      "C:\\Users\\Tom-G\\.conda\\envs\\torchenv\\lib\\site-packages\\torch\\nn\\modules\\container.py:141: UserWarning: Implicit dimension choice for softmax has been deprecated. Change the call to include dim=X as an argument.\n",
      "  input = module(input)\n"
     ]
    },
    {
     "name": "stdout",
     "output_type": "stream",
     "text": [
      "Step [0/8]\t loss_instance: 5.976362228393555\t loss_cluster: 1.6853951215744019\n",
      "Step [2/8]\t loss_instance: 5.969228744506836\t loss_cluster: 1.6605613231658936\n",
      "Step [4/8]\t loss_instance: 5.966676235198975\t loss_cluster: 1.6667474508285522\n",
      "Step [6/8]\t loss_instance: 5.979130268096924\t loss_cluster: 1.6772651672363281\n",
      "\n",
      "Epoch [108/500]\t Loss: 7.614705765247345 \n",
      "\n",
      "Step [0/8]\t Computing features...\n",
      "Features shape (8192,)\n",
      "14\n",
      "Test NMI = 0.6008 ARI = 0.3061 F = 0.4272 ACC = 0.4211\n",
      "================================================================\n",
      "\n"
     ]
    },
    {
     "name": "stderr",
     "output_type": "stream",
     "text": [
      "C:\\Users\\Tom-G\\.conda\\envs\\torchenv\\lib\\site-packages\\torch\\nn\\modules\\container.py:141: UserWarning: Implicit dimension choice for softmax has been deprecated. Change the call to include dim=X as an argument.\n",
      "  input = module(input)\n"
     ]
    },
    {
     "name": "stdout",
     "output_type": "stream",
     "text": [
      "Step [0/8]\t loss_instance: 5.995969772338867\t loss_cluster: 1.6744136810302734\n",
      "Step [2/8]\t loss_instance: 5.980545520782471\t loss_cluster: 1.6633198261260986\n",
      "Step [4/8]\t loss_instance: 5.965383529663086\t loss_cluster: 1.6469699144363403\n",
      "Step [6/8]\t loss_instance: 5.996356010437012\t loss_cluster: 1.6867607831954956\n",
      "\n",
      "Epoch [109/500]\t Loss: 7.607483631372451 \n",
      "\n",
      "Step [0/8]\t Computing features...\n",
      "Features shape (8192,)\n",
      "14\n",
      "Test NMI = 0.6040 ARI = 0.3193 F = 0.4405 ACC = 0.4221\n",
      "================================================================\n",
      "\n"
     ]
    },
    {
     "name": "stderr",
     "output_type": "stream",
     "text": [
      "C:\\Users\\Tom-G\\.conda\\envs\\torchenv\\lib\\site-packages\\torch\\nn\\modules\\container.py:141: UserWarning: Implicit dimension choice for softmax has been deprecated. Change the call to include dim=X as an argument.\n",
      "  input = module(input)\n"
     ]
    },
    {
     "name": "stdout",
     "output_type": "stream",
     "text": [
      "Step [0/8]\t loss_instance: 5.972254276275635\t loss_cluster: 1.6717677116394043\n",
      "Step [2/8]\t loss_instance: 5.978028774261475\t loss_cluster: 1.6584665775299072\n",
      "Step [4/8]\t loss_instance: 5.959451198577881\t loss_cluster: 1.656745195388794\n",
      "Step [6/8]\t loss_instance: 5.983739376068115\t loss_cluster: 1.6730411052703857\n",
      "\n",
      "Epoch [110/500]\t Loss: 7.596883428096771 \n",
      "\n",
      "Step [0/8]\t Computing features...\n",
      "Features shape (8192,)\n",
      "14\n",
      "Test NMI = 0.6010 ARI = 0.3119 F = 0.4334 ACC = 0.4182\n",
      "================================================================\n",
      "\n"
     ]
    },
    {
     "name": "stderr",
     "output_type": "stream",
     "text": [
      "C:\\Users\\Tom-G\\.conda\\envs\\torchenv\\lib\\site-packages\\torch\\nn\\modules\\container.py:141: UserWarning: Implicit dimension choice for softmax has been deprecated. Change the call to include dim=X as an argument.\n",
      "  input = module(input)\n"
     ]
    },
    {
     "name": "stdout",
     "output_type": "stream",
     "text": [
      "Step [0/8]\t loss_instance: 5.982607841491699\t loss_cluster: 1.6532472372055054\n",
      "Step [2/8]\t loss_instance: 5.965193748474121\t loss_cluster: 1.6460224390029907\n",
      "Step [4/8]\t loss_instance: 5.966696739196777\t loss_cluster: 1.6644638776779175\n",
      "Step [6/8]\t loss_instance: 5.966684341430664\t loss_cluster: 1.6635109186172485\n",
      "\n",
      "Epoch [111/500]\t Loss: 7.582125180959702 \n",
      "\n",
      "Step [0/8]\t Computing features...\n",
      "Features shape (8192,)\n",
      "14\n",
      "Test NMI = 0.5974 ARI = 0.3071 F = 0.4283 ACC = 0.3984\n",
      "================================================================\n",
      "\n"
     ]
    },
    {
     "name": "stderr",
     "output_type": "stream",
     "text": [
      "C:\\Users\\Tom-G\\.conda\\envs\\torchenv\\lib\\site-packages\\torch\\nn\\modules\\container.py:141: UserWarning: Implicit dimension choice for softmax has been deprecated. Change the call to include dim=X as an argument.\n",
      "  input = module(input)\n"
     ]
    },
    {
     "name": "stdout",
     "output_type": "stream",
     "text": [
      "Step [0/8]\t loss_instance: 5.992483139038086\t loss_cluster: 1.6621428728103638\n",
      "Step [2/8]\t loss_instance: 5.976414680480957\t loss_cluster: 1.6661219596862793\n",
      "Step [4/8]\t loss_instance: 5.975409507751465\t loss_cluster: 1.671931505203247\n",
      "Step [6/8]\t loss_instance: 5.965183258056641\t loss_cluster: 1.6668561697006226\n",
      "\n",
      "Epoch [112/500]\t Loss: 7.600119560956955 \n",
      "\n",
      "Step [0/8]\t Computing features...\n",
      "Features shape (8192,)\n",
      "14\n",
      "Test NMI = 0.6009 ARI = 0.3161 F = 0.4369 ACC = 0.4299\n",
      "================================================================\n",
      "\n"
     ]
    },
    {
     "name": "stderr",
     "output_type": "stream",
     "text": [
      "C:\\Users\\Tom-G\\.conda\\envs\\torchenv\\lib\\site-packages\\torch\\nn\\modules\\container.py:141: UserWarning: Implicit dimension choice for softmax has been deprecated. Change the call to include dim=X as an argument.\n",
      "  input = module(input)\n"
     ]
    },
    {
     "name": "stdout",
     "output_type": "stream",
     "text": [
      "Step [0/8]\t loss_instance: 5.986233711242676\t loss_cluster: 1.6720250844955444\n",
      "Step [2/8]\t loss_instance: 5.976698398590088\t loss_cluster: 1.6498297452926636\n",
      "Step [4/8]\t loss_instance: 5.9757184982299805\t loss_cluster: 1.6668468713760376\n",
      "Step [6/8]\t loss_instance: 5.976315498352051\t loss_cluster: 1.6890615224838257\n",
      "\n",
      "Epoch [113/500]\t Loss: 7.597674697637558 \n",
      "\n",
      "Step [0/8]\t Computing features...\n",
      "Features shape (8192,)\n",
      "14\n",
      "Test NMI = 0.5918 ARI = 0.3058 F = 0.4274 ACC = 0.4248\n",
      "================================================================\n",
      "\n"
     ]
    },
    {
     "name": "stderr",
     "output_type": "stream",
     "text": [
      "C:\\Users\\Tom-G\\.conda\\envs\\torchenv\\lib\\site-packages\\torch\\nn\\modules\\container.py:141: UserWarning: Implicit dimension choice for softmax has been deprecated. Change the call to include dim=X as an argument.\n",
      "  input = module(input)\n"
     ]
    },
    {
     "name": "stdout",
     "output_type": "stream",
     "text": [
      "Step [0/8]\t loss_instance: 5.987942218780518\t loss_cluster: 1.6682188510894775\n",
      "Step [2/8]\t loss_instance: 5.97763729095459\t loss_cluster: 1.6714001893997192\n",
      "Step [4/8]\t loss_instance: 5.967441082000732\t loss_cluster: 1.6514509916305542\n",
      "Step [6/8]\t loss_instance: 5.992319107055664\t loss_cluster: 1.6745554208755493\n",
      "\n",
      "Epoch [114/500]\t Loss: 7.597003531455994 \n",
      "\n",
      "Step [0/8]\t Computing features...\n",
      "Features shape (8192,)\n",
      "14\n",
      "Test NMI = 0.6009 ARI = 0.3102 F = 0.4315 ACC = 0.4230\n",
      "================================================================\n",
      "\n"
     ]
    },
    {
     "name": "stderr",
     "output_type": "stream",
     "text": [
      "C:\\Users\\Tom-G\\.conda\\envs\\torchenv\\lib\\site-packages\\torch\\nn\\modules\\container.py:141: UserWarning: Implicit dimension choice for softmax has been deprecated. Change the call to include dim=X as an argument.\n",
      "  input = module(input)\n"
     ]
    },
    {
     "name": "stdout",
     "output_type": "stream",
     "text": [
      "Step [0/8]\t loss_instance: 5.946460247039795\t loss_cluster: 1.6370117664337158\n",
      "Step [2/8]\t loss_instance: 5.974945545196533\t loss_cluster: 1.6621218919754028\n",
      "Step [4/8]\t loss_instance: 5.978970050811768\t loss_cluster: 1.6814751625061035\n",
      "Step [6/8]\t loss_instance: 5.9688005447387695\t loss_cluster: 1.6560522317886353\n",
      "\n",
      "Epoch [115/500]\t Loss: 7.575203555822372 \n",
      "\n",
      "Step [0/8]\t Computing features...\n",
      "Features shape (8192,)\n",
      "14\n",
      "Test NMI = 0.5976 ARI = 0.3095 F = 0.4309 ACC = 0.4171\n",
      "================================================================\n",
      "\n"
     ]
    },
    {
     "name": "stderr",
     "output_type": "stream",
     "text": [
      "C:\\Users\\Tom-G\\.conda\\envs\\torchenv\\lib\\site-packages\\torch\\nn\\modules\\container.py:141: UserWarning: Implicit dimension choice for softmax has been deprecated. Change the call to include dim=X as an argument.\n",
      "  input = module(input)\n"
     ]
    },
    {
     "name": "stdout",
     "output_type": "stream",
     "text": [
      "Step [0/8]\t loss_instance: 5.9703474044799805\t loss_cluster: 1.6529170274734497\n",
      "Step [2/8]\t loss_instance: 5.968457221984863\t loss_cluster: 1.6480700969696045\n",
      "Step [4/8]\t loss_instance: 5.9683966636657715\t loss_cluster: 1.6631497144699097\n",
      "Step [6/8]\t loss_instance: 5.977788925170898\t loss_cluster: 1.6585243940353394\n",
      "\n",
      "Epoch [116/500]\t Loss: 7.589816451072693 \n",
      "\n",
      "Step [0/8]\t Computing features...\n",
      "Features shape (8192,)\n",
      "14\n",
      "Test NMI = 0.5924 ARI = 0.3029 F = 0.4247 ACC = 0.4131\n",
      "================================================================\n",
      "\n"
     ]
    },
    {
     "name": "stderr",
     "output_type": "stream",
     "text": [
      "C:\\Users\\Tom-G\\.conda\\envs\\torchenv\\lib\\site-packages\\torch\\nn\\modules\\container.py:141: UserWarning: Implicit dimension choice for softmax has been deprecated. Change the call to include dim=X as an argument.\n",
      "  input = module(input)\n"
     ]
    },
    {
     "name": "stdout",
     "output_type": "stream",
     "text": [
      "Step [0/8]\t loss_instance: 5.970539569854736\t loss_cluster: 1.662732481956482\n",
      "Step [2/8]\t loss_instance: 5.994202613830566\t loss_cluster: 1.6678613424301147\n",
      "Step [4/8]\t loss_instance: 5.9871039390563965\t loss_cluster: 1.6887928247451782\n",
      "Step [6/8]\t loss_instance: 5.98322868347168\t loss_cluster: 1.6710524559020996\n",
      "\n",
      "Epoch [117/500]\t Loss: 7.59605485200882 \n",
      "\n",
      "Step [0/8]\t Computing features...\n",
      "Features shape (8192,)\n",
      "14\n",
      "Test NMI = 0.5829 ARI = 0.2988 F = 0.4209 ACC = 0.4210\n",
      "================================================================\n",
      "\n"
     ]
    },
    {
     "name": "stderr",
     "output_type": "stream",
     "text": [
      "C:\\Users\\Tom-G\\.conda\\envs\\torchenv\\lib\\site-packages\\torch\\nn\\modules\\container.py:141: UserWarning: Implicit dimension choice for softmax has been deprecated. Change the call to include dim=X as an argument.\n",
      "  input = module(input)\n"
     ]
    },
    {
     "name": "stdout",
     "output_type": "stream",
     "text": [
      "Step [0/8]\t loss_instance: 5.971948146820068\t loss_cluster: 1.6568444967269897\n",
      "Step [2/8]\t loss_instance: 5.9386186599731445\t loss_cluster: 1.6464425325393677\n",
      "Step [4/8]\t loss_instance: 5.9665608406066895\t loss_cluster: 1.6614837646484375\n",
      "Step [6/8]\t loss_instance: 5.952138423919678\t loss_cluster: 1.649763584136963\n",
      "\n",
      "Epoch [118/500]\t Loss: 7.567937296628952 \n",
      "\n",
      "Step [0/8]\t Computing features...\n",
      "Features shape (8192,)\n",
      "14\n",
      "Test NMI = 0.5779 ARI = 0.2931 F = 0.4147 ACC = 0.4119\n",
      "================================================================\n",
      "\n"
     ]
    },
    {
     "name": "stderr",
     "output_type": "stream",
     "text": [
      "C:\\Users\\Tom-G\\.conda\\envs\\torchenv\\lib\\site-packages\\torch\\nn\\modules\\container.py:141: UserWarning: Implicit dimension choice for softmax has been deprecated. Change the call to include dim=X as an argument.\n",
      "  input = module(input)\n"
     ]
    },
    {
     "name": "stdout",
     "output_type": "stream",
     "text": [
      "Step [0/8]\t loss_instance: 5.976038455963135\t loss_cluster: 1.6713846921920776\n",
      "Step [2/8]\t loss_instance: 5.982517719268799\t loss_cluster: 1.668565273284912\n",
      "Step [4/8]\t loss_instance: 5.98405647277832\t loss_cluster: 1.6637707948684692\n",
      "Step [6/8]\t loss_instance: 5.957207202911377\t loss_cluster: 1.650785207748413\n",
      "\n",
      "Epoch [119/500]\t Loss: 7.577974033355713 \n",
      "\n",
      "Step [0/8]\t Computing features...\n",
      "Features shape (8192,)\n",
      "14\n",
      "Test NMI = 0.5766 ARI = 0.2892 F = 0.4113 ACC = 0.3994\n",
      "================================================================\n",
      "\n"
     ]
    },
    {
     "name": "stderr",
     "output_type": "stream",
     "text": [
      "C:\\Users\\Tom-G\\.conda\\envs\\torchenv\\lib\\site-packages\\torch\\nn\\modules\\container.py:141: UserWarning: Implicit dimension choice for softmax has been deprecated. Change the call to include dim=X as an argument.\n",
      "  input = module(input)\n"
     ]
    },
    {
     "name": "stdout",
     "output_type": "stream",
     "text": [
      "Step [0/8]\t loss_instance: 5.84150505065918\t loss_cluster: 1.5849460363388062\n",
      "Step [2/8]\t loss_instance: 5.887069225311279\t loss_cluster: 1.6069514751434326\n",
      "Step [4/8]\t loss_instance: 5.92160177230835\t loss_cluster: 1.6403793096542358\n",
      "Step [6/8]\t loss_instance: 5.8578033447265625\t loss_cluster: 1.578705072402954\n",
      "\n",
      "Epoch [120/500]\t Loss: 7.486222928762436 \n",
      "\n",
      "Step [0/8]\t Computing features...\n",
      "Features shape (8192,)\n",
      "14\n",
      "Test NMI = 0.5848 ARI = 0.3111 F = 0.4324 ACC = 0.4443\n",
      "================================================================\n",
      "\n"
     ]
    },
    {
     "name": "stderr",
     "output_type": "stream",
     "text": [
      "C:\\Users\\Tom-G\\.conda\\envs\\torchenv\\lib\\site-packages\\torch\\nn\\modules\\container.py:141: UserWarning: Implicit dimension choice for softmax has been deprecated. Change the call to include dim=X as an argument.\n",
      "  input = module(input)\n"
     ]
    },
    {
     "name": "stdout",
     "output_type": "stream",
     "text": [
      "Step [0/8]\t loss_instance: 5.952504634857178\t loss_cluster: 1.690367341041565\n",
      "Step [2/8]\t loss_instance: 5.878204345703125\t loss_cluster: 1.5977426767349243\n",
      "Step [4/8]\t loss_instance: 5.985866069793701\t loss_cluster: 1.6793639659881592\n",
      "Step [6/8]\t loss_instance: 5.887764930725098\t loss_cluster: 1.6162587404251099\n",
      "\n",
      "Epoch [121/500]\t Loss: 7.550647437572479 \n",
      "\n",
      "Step [0/8]\t Computing features...\n",
      "Features shape (8192,)\n",
      "14\n",
      "Test NMI = 0.5748 ARI = 0.2943 F = 0.4157 ACC = 0.4337\n",
      "================================================================\n",
      "\n"
     ]
    },
    {
     "name": "stderr",
     "output_type": "stream",
     "text": [
      "C:\\Users\\Tom-G\\.conda\\envs\\torchenv\\lib\\site-packages\\torch\\nn\\modules\\container.py:141: UserWarning: Implicit dimension choice for softmax has been deprecated. Change the call to include dim=X as an argument.\n",
      "  input = module(input)\n"
     ]
    },
    {
     "name": "stdout",
     "output_type": "stream",
     "text": [
      "Step [0/8]\t loss_instance: 5.993727684020996\t loss_cluster: 1.6773649454116821\n",
      "Step [2/8]\t loss_instance: 5.902323246002197\t loss_cluster: 1.621413230895996\n",
      "Step [4/8]\t loss_instance: 5.966160297393799\t loss_cluster: 1.6528376340866089\n",
      "Step [6/8]\t loss_instance: 5.897751331329346\t loss_cluster: 1.6065971851348877\n",
      "\n",
      "Epoch [122/500]\t Loss: 7.548218029737472 \n",
      "\n",
      "Step [0/8]\t Computing features...\n",
      "Features shape (8192,)\n",
      "14\n",
      "Test NMI = 0.5846 ARI = 0.2986 F = 0.4205 ACC = 0.4055\n",
      "================================================================\n",
      "\n"
     ]
    },
    {
     "name": "stderr",
     "output_type": "stream",
     "text": [
      "C:\\Users\\Tom-G\\.conda\\envs\\torchenv\\lib\\site-packages\\torch\\nn\\modules\\container.py:141: UserWarning: Implicit dimension choice for softmax has been deprecated. Change the call to include dim=X as an argument.\n",
      "  input = module(input)\n"
     ]
    },
    {
     "name": "stdout",
     "output_type": "stream",
     "text": [
      "Step [0/8]\t loss_instance: 5.886929512023926\t loss_cluster: 1.5963071584701538\n",
      "Step [2/8]\t loss_instance: 5.888432502746582\t loss_cluster: 1.5848928689956665\n",
      "Step [4/8]\t loss_instance: 5.889291763305664\t loss_cluster: 1.5935977697372437\n",
      "Step [6/8]\t loss_instance: 5.916980743408203\t loss_cluster: 1.6059648990631104\n",
      "\n",
      "Epoch [123/500]\t Loss: 7.4758437991142275 \n",
      "\n",
      "Step [0/8]\t Computing features...\n",
      "Features shape (8192,)\n",
      "14\n",
      "Test NMI = 0.5827 ARI = 0.2964 F = 0.4181 ACC = 0.4033\n",
      "================================================================\n",
      "\n"
     ]
    },
    {
     "name": "stderr",
     "output_type": "stream",
     "text": [
      "C:\\Users\\Tom-G\\.conda\\envs\\torchenv\\lib\\site-packages\\torch\\nn\\modules\\container.py:141: UserWarning: Implicit dimension choice for softmax has been deprecated. Change the call to include dim=X as an argument.\n",
      "  input = module(input)\n"
     ]
    },
    {
     "name": "stdout",
     "output_type": "stream",
     "text": [
      "Step [0/8]\t loss_instance: 5.890783786773682\t loss_cluster: 1.5918911695480347\n",
      "Step [2/8]\t loss_instance: 5.895013332366943\t loss_cluster: 1.5939549207687378\n",
      "Step [4/8]\t loss_instance: 5.882121562957764\t loss_cluster: 1.587928056716919\n",
      "Step [6/8]\t loss_instance: 5.888181686401367\t loss_cluster: 1.590741515159607\n",
      "\n",
      "Epoch [124/500]\t Loss: 7.480791819095612 \n",
      "\n",
      "Step [0/8]\t Computing features...\n",
      "Features shape (8192,)\n",
      "14\n",
      "Test NMI = 0.5756 ARI = 0.2904 F = 0.4124 ACC = 0.4064\n",
      "================================================================\n",
      "\n"
     ]
    },
    {
     "name": "stderr",
     "output_type": "stream",
     "text": [
      "C:\\Users\\Tom-G\\.conda\\envs\\torchenv\\lib\\site-packages\\torch\\nn\\modules\\container.py:141: UserWarning: Implicit dimension choice for softmax has been deprecated. Change the call to include dim=X as an argument.\n",
      "  input = module(input)\n"
     ]
    },
    {
     "name": "stdout",
     "output_type": "stream",
     "text": [
      "Step [0/8]\t loss_instance: 5.901937484741211\t loss_cluster: 1.605728268623352\n",
      "Step [2/8]\t loss_instance: 5.914888858795166\t loss_cluster: 1.6180312633514404\n",
      "Step [4/8]\t loss_instance: 5.9107584953308105\t loss_cluster: 1.6130799055099487\n",
      "Step [6/8]\t loss_instance: 5.903353214263916\t loss_cluster: 1.6209930181503296\n",
      "\n",
      "Epoch [125/500]\t Loss: 7.5109525442123415 \n",
      "\n",
      "Step [0/8]\t Computing features...\n",
      "Features shape (8192,)\n",
      "14\n",
      "Test NMI = 0.5831 ARI = 0.3057 F = 0.4275 ACC = 0.4208\n",
      "================================================================\n",
      "\n"
     ]
    },
    {
     "name": "stderr",
     "output_type": "stream",
     "text": [
      "C:\\Users\\Tom-G\\.conda\\envs\\torchenv\\lib\\site-packages\\torch\\nn\\modules\\container.py:141: UserWarning: Implicit dimension choice for softmax has been deprecated. Change the call to include dim=X as an argument.\n",
      "  input = module(input)\n"
     ]
    },
    {
     "name": "stdout",
     "output_type": "stream",
     "text": [
      "Step [0/8]\t loss_instance: 5.952408313751221\t loss_cluster: 1.6418956518173218\n",
      "Step [2/8]\t loss_instance: 5.908076286315918\t loss_cluster: 1.6027270555496216\n",
      "Step [4/8]\t loss_instance: 5.918406009674072\t loss_cluster: 1.6115700006484985\n",
      "Step [6/8]\t loss_instance: 5.916918754577637\t loss_cluster: 1.614846110343933\n",
      "\n",
      "Epoch [126/500]\t Loss: 7.523276609182358 \n",
      "\n",
      "Step [0/8]\t Computing features...\n",
      "Features shape (8192,)\n",
      "14\n",
      "Test NMI = 0.5889 ARI = 0.3009 F = 0.4224 ACC = 0.4176\n",
      "================================================================\n",
      "\n"
     ]
    },
    {
     "name": "stderr",
     "output_type": "stream",
     "text": [
      "C:\\Users\\Tom-G\\.conda\\envs\\torchenv\\lib\\site-packages\\torch\\nn\\modules\\container.py:141: UserWarning: Implicit dimension choice for softmax has been deprecated. Change the call to include dim=X as an argument.\n",
      "  input = module(input)\n"
     ]
    },
    {
     "name": "stdout",
     "output_type": "stream",
     "text": [
      "Step [0/8]\t loss_instance: 5.921629905700684\t loss_cluster: 1.609169840812683\n",
      "Step [2/8]\t loss_instance: 5.923994541168213\t loss_cluster: 1.6309425830841064\n",
      "Step [4/8]\t loss_instance: 5.898102283477783\t loss_cluster: 1.5952483415603638\n",
      "Step [6/8]\t loss_instance: 5.916262626647949\t loss_cluster: 1.6116399765014648\n",
      "\n",
      "Epoch [127/500]\t Loss: 7.511923635005951 \n",
      "\n",
      "Step [0/8]\t Computing features...\n",
      "Features shape (8192,)\n",
      "14\n",
      "Test NMI = 0.5812 ARI = 0.2979 F = 0.4187 ACC = 0.4254\n",
      "================================================================\n",
      "\n"
     ]
    },
    {
     "name": "stderr",
     "output_type": "stream",
     "text": [
      "C:\\Users\\Tom-G\\.conda\\envs\\torchenv\\lib\\site-packages\\torch\\nn\\modules\\container.py:141: UserWarning: Implicit dimension choice for softmax has been deprecated. Change the call to include dim=X as an argument.\n",
      "  input = module(input)\n"
     ]
    },
    {
     "name": "stdout",
     "output_type": "stream",
     "text": [
      "Step [0/8]\t loss_instance: 5.918937683105469\t loss_cluster: 1.6021159887313843\n",
      "Step [2/8]\t loss_instance: 5.9219794273376465\t loss_cluster: 1.6191799640655518\n",
      "Step [4/8]\t loss_instance: 5.896432876586914\t loss_cluster: 1.5856870412826538\n",
      "Step [6/8]\t loss_instance: 5.910822868347168\t loss_cluster: 1.610263705253601\n",
      "\n",
      "Epoch [128/500]\t Loss: 7.500687384605408 \n",
      "\n",
      "Step [0/8]\t Computing features...\n",
      "Features shape (8192,)\n",
      "14\n",
      "Test NMI = 0.5820 ARI = 0.2991 F = 0.4210 ACC = 0.4170\n",
      "================================================================\n",
      "\n"
     ]
    },
    {
     "name": "stderr",
     "output_type": "stream",
     "text": [
      "C:\\Users\\Tom-G\\.conda\\envs\\torchenv\\lib\\site-packages\\torch\\nn\\modules\\container.py:141: UserWarning: Implicit dimension choice for softmax has been deprecated. Change the call to include dim=X as an argument.\n",
      "  input = module(input)\n"
     ]
    },
    {
     "name": "stdout",
     "output_type": "stream",
     "text": [
      "Step [0/8]\t loss_instance: 5.904967784881592\t loss_cluster: 1.611582636833191\n",
      "Step [2/8]\t loss_instance: 5.891983985900879\t loss_cluster: 1.5889713764190674\n",
      "Step [4/8]\t loss_instance: 5.908099174499512\t loss_cluster: 1.6135423183441162\n",
      "Step [6/8]\t loss_instance: 5.9053955078125\t loss_cluster: 1.6083265542984009\n",
      "\n",
      "Epoch [129/500]\t Loss: 7.494093590974808 \n",
      "\n",
      "Step [0/8]\t Computing features...\n",
      "Features shape (8192,)\n",
      "14\n",
      "Test NMI = 0.5792 ARI = 0.2913 F = 0.4130 ACC = 0.4010\n",
      "================================================================\n",
      "\n"
     ]
    },
    {
     "name": "stderr",
     "output_type": "stream",
     "text": [
      "C:\\Users\\Tom-G\\.conda\\envs\\torchenv\\lib\\site-packages\\torch\\nn\\modules\\container.py:141: UserWarning: Implicit dimension choice for softmax has been deprecated. Change the call to include dim=X as an argument.\n",
      "  input = module(input)\n"
     ]
    },
    {
     "name": "stdout",
     "output_type": "stream",
     "text": [
      "Step [0/8]\t loss_instance: 5.92480993270874\t loss_cluster: 1.6264798641204834\n",
      "Step [2/8]\t loss_instance: 5.907999038696289\t loss_cluster: 1.6007477045059204\n",
      "Step [4/8]\t loss_instance: 5.945667266845703\t loss_cluster: 1.6377525329589844\n",
      "Step [6/8]\t loss_instance: 5.933716297149658\t loss_cluster: 1.6429623365402222\n",
      "\n",
      "Epoch [130/500]\t Loss: 7.5329604804515835 \n",
      "\n",
      "Step [0/8]\t Computing features...\n",
      "Features shape (8192,)\n",
      "14\n",
      "Test NMI = 0.5907 ARI = 0.3076 F = 0.4290 ACC = 0.4197\n",
      "================================================================\n",
      "\n"
     ]
    },
    {
     "name": "stderr",
     "output_type": "stream",
     "text": [
      "C:\\Users\\Tom-G\\.conda\\envs\\torchenv\\lib\\site-packages\\torch\\nn\\modules\\container.py:141: UserWarning: Implicit dimension choice for softmax has been deprecated. Change the call to include dim=X as an argument.\n",
      "  input = module(input)\n"
     ]
    },
    {
     "name": "stdout",
     "output_type": "stream",
     "text": [
      "Step [0/8]\t loss_instance: 5.930272579193115\t loss_cluster: 1.6241933107376099\n",
      "Step [2/8]\t loss_instance: 5.909012317657471\t loss_cluster: 1.6008689403533936\n",
      "Step [4/8]\t loss_instance: 5.936552047729492\t loss_cluster: 1.6497400999069214\n",
      "Step [6/8]\t loss_instance: 5.933501243591309\t loss_cluster: 1.619963526725769\n",
      "\n",
      "Epoch [131/500]\t Loss: 7.551012939214706 \n",
      "\n",
      "Step [0/8]\t Computing features...\n",
      "Features shape (8192,)\n",
      "14\n",
      "Test NMI = 0.5949 ARI = 0.3112 F = 0.4325 ACC = 0.4192\n",
      "================================================================\n",
      "\n"
     ]
    },
    {
     "name": "stderr",
     "output_type": "stream",
     "text": [
      "C:\\Users\\Tom-G\\.conda\\envs\\torchenv\\lib\\site-packages\\torch\\nn\\modules\\container.py:141: UserWarning: Implicit dimension choice for softmax has been deprecated. Change the call to include dim=X as an argument.\n",
      "  input = module(input)\n"
     ]
    },
    {
     "name": "stdout",
     "output_type": "stream",
     "text": [
      "Step [0/8]\t loss_instance: 5.946902751922607\t loss_cluster: 1.6348603963851929\n",
      "Step [2/8]\t loss_instance: 5.950499057769775\t loss_cluster: 1.637799620628357\n",
      "Step [4/8]\t loss_instance: 5.953555107116699\t loss_cluster: 1.6617460250854492\n",
      "Step [6/8]\t loss_instance: 5.930721282958984\t loss_cluster: 1.6200876235961914\n",
      "\n",
      "Epoch [132/500]\t Loss: 7.563223546743393 \n",
      "\n",
      "Step [0/8]\t Computing features...\n",
      "Features shape (8192,)\n",
      "14\n",
      "Test NMI = 0.6013 ARI = 0.3186 F = 0.4406 ACC = 0.4183\n",
      "================================================================\n",
      "\n"
     ]
    },
    {
     "name": "stderr",
     "output_type": "stream",
     "text": [
      "C:\\Users\\Tom-G\\.conda\\envs\\torchenv\\lib\\site-packages\\torch\\nn\\modules\\container.py:141: UserWarning: Implicit dimension choice for softmax has been deprecated. Change the call to include dim=X as an argument.\n",
      "  input = module(input)\n"
     ]
    },
    {
     "name": "stdout",
     "output_type": "stream",
     "text": [
      "Step [0/8]\t loss_instance: 5.947299957275391\t loss_cluster: 1.6430786848068237\n",
      "Step [2/8]\t loss_instance: 5.95368766784668\t loss_cluster: 1.6449192762374878\n",
      "Step [4/8]\t loss_instance: 5.927333354949951\t loss_cluster: 1.6249579191207886\n",
      "Step [6/8]\t loss_instance: 5.922320365905762\t loss_cluster: 1.6112900972366333\n",
      "\n",
      "Epoch [133/500]\t Loss: 7.549137574434281 \n",
      "\n",
      "Step [0/8]\t Computing features...\n",
      "Features shape (8192,)\n",
      "14\n",
      "Test NMI = 0.6075 ARI = 0.3222 F = 0.4437 ACC = 0.4282\n",
      "================================================================\n",
      "\n"
     ]
    },
    {
     "name": "stderr",
     "output_type": "stream",
     "text": [
      "C:\\Users\\Tom-G\\.conda\\envs\\torchenv\\lib\\site-packages\\torch\\nn\\modules\\container.py:141: UserWarning: Implicit dimension choice for softmax has been deprecated. Change the call to include dim=X as an argument.\n",
      "  input = module(input)\n"
     ]
    },
    {
     "name": "stdout",
     "output_type": "stream",
     "text": [
      "Step [0/8]\t loss_instance: 5.954041957855225\t loss_cluster: 1.646140217781067\n",
      "Step [2/8]\t loss_instance: 5.93831205368042\t loss_cluster: 1.6304185390472412\n",
      "Step [4/8]\t loss_instance: 5.922699928283691\t loss_cluster: 1.603257179260254\n",
      "Step [6/8]\t loss_instance: 5.943880081176758\t loss_cluster: 1.6441785097122192\n",
      "\n",
      "Epoch [134/500]\t Loss: 7.552102547883988 \n",
      "\n",
      "Step [0/8]\t Computing features...\n",
      "Features shape (8192,)\n",
      "14\n",
      "Test NMI = 0.5928 ARI = 0.3089 F = 0.4309 ACC = 0.4135\n",
      "================================================================\n",
      "\n"
     ]
    },
    {
     "name": "stderr",
     "output_type": "stream",
     "text": [
      "C:\\Users\\Tom-G\\.conda\\envs\\torchenv\\lib\\site-packages\\torch\\nn\\modules\\container.py:141: UserWarning: Implicit dimension choice for softmax has been deprecated. Change the call to include dim=X as an argument.\n",
      "  input = module(input)\n"
     ]
    },
    {
     "name": "stdout",
     "output_type": "stream",
     "text": [
      "Step [0/8]\t loss_instance: 5.909764766693115\t loss_cluster: 1.5962392091751099\n",
      "Step [2/8]\t loss_instance: 5.921299934387207\t loss_cluster: 1.6008727550506592\n",
      "Step [4/8]\t loss_instance: 5.942612648010254\t loss_cluster: 1.6237332820892334\n",
      "Step [6/8]\t loss_instance: 5.937338352203369\t loss_cluster: 1.6156196594238281\n",
      "\n",
      "Epoch [135/500]\t Loss: 7.527909535169601 \n",
      "\n",
      "Step [0/8]\t Computing features...\n",
      "Features shape (8192,)\n",
      "14\n",
      "Test NMI = 0.5903 ARI = 0.3005 F = 0.4221 ACC = 0.4080\n",
      "================================================================\n",
      "\n"
     ]
    },
    {
     "name": "stderr",
     "output_type": "stream",
     "text": [
      "C:\\Users\\Tom-G\\.conda\\envs\\torchenv\\lib\\site-packages\\torch\\nn\\modules\\container.py:141: UserWarning: Implicit dimension choice for softmax has been deprecated. Change the call to include dim=X as an argument.\n",
      "  input = module(input)\n"
     ]
    },
    {
     "name": "stdout",
     "output_type": "stream",
     "text": [
      "Step [0/8]\t loss_instance: 5.930805206298828\t loss_cluster: 1.6286804676055908\n",
      "Step [2/8]\t loss_instance: 5.9414448738098145\t loss_cluster: 1.609548807144165\n",
      "Step [4/8]\t loss_instance: 5.946331024169922\t loss_cluster: 1.6301668882369995\n",
      "Step [6/8]\t loss_instance: 5.9644975662231445\t loss_cluster: 1.6943938732147217\n",
      "\n",
      "Epoch [136/500]\t Loss: 7.572190165519714 \n",
      "\n",
      "Step [0/8]\t Computing features...\n",
      "Features shape (8192,)\n",
      "14\n",
      "Test NMI = 0.5961 ARI = 0.3101 F = 0.4314 ACC = 0.4332\n",
      "================================================================\n",
      "\n"
     ]
    },
    {
     "name": "stderr",
     "output_type": "stream",
     "text": [
      "C:\\Users\\Tom-G\\.conda\\envs\\torchenv\\lib\\site-packages\\torch\\nn\\modules\\container.py:141: UserWarning: Implicit dimension choice for softmax has been deprecated. Change the call to include dim=X as an argument.\n",
      "  input = module(input)\n"
     ]
    },
    {
     "name": "stdout",
     "output_type": "stream",
     "text": [
      "Step [0/8]\t loss_instance: 5.979550361633301\t loss_cluster: 1.6514618396759033\n",
      "Step [2/8]\t loss_instance: 5.9876556396484375\t loss_cluster: 1.6556453704833984\n",
      "Step [4/8]\t loss_instance: 5.986785888671875\t loss_cluster: 1.6607608795166016\n",
      "Step [6/8]\t loss_instance: 5.952518939971924\t loss_cluster: 1.6391271352767944\n",
      "\n",
      "Epoch [137/500]\t Loss: 7.604769837856293 \n",
      "\n",
      "Step [0/8]\t Computing features...\n",
      "Features shape (8192,)\n",
      "14\n",
      "Test NMI = 0.5981 ARI = 0.3149 F = 0.4366 ACC = 0.4258\n",
      "================================================================\n",
      "\n"
     ]
    },
    {
     "name": "stderr",
     "output_type": "stream",
     "text": [
      "C:\\Users\\Tom-G\\.conda\\envs\\torchenv\\lib\\site-packages\\torch\\nn\\modules\\container.py:141: UserWarning: Implicit dimension choice for softmax has been deprecated. Change the call to include dim=X as an argument.\n",
      "  input = module(input)\n"
     ]
    },
    {
     "name": "stdout",
     "output_type": "stream",
     "text": [
      "Step [0/8]\t loss_instance: 5.948812007904053\t loss_cluster: 1.614606499671936\n",
      "Step [2/8]\t loss_instance: 5.9672369956970215\t loss_cluster: 1.671093463897705\n",
      "Step [4/8]\t loss_instance: 5.958670139312744\t loss_cluster: 1.6436961889266968\n",
      "Step [6/8]\t loss_instance: 6.001184463500977\t loss_cluster: 1.681989073753357\n",
      "\n",
      "Epoch [138/500]\t Loss: 7.605118882656098 \n",
      "\n",
      "Step [0/8]\t Computing features...\n",
      "Features shape (8192,)\n",
      "14\n",
      "Test NMI = 0.5966 ARI = 0.3162 F = 0.4368 ACC = 0.4463\n",
      "================================================================\n",
      "\n"
     ]
    },
    {
     "name": "stderr",
     "output_type": "stream",
     "text": [
      "C:\\Users\\Tom-G\\.conda\\envs\\torchenv\\lib\\site-packages\\torch\\nn\\modules\\container.py:141: UserWarning: Implicit dimension choice for softmax has been deprecated. Change the call to include dim=X as an argument.\n",
      "  input = module(input)\n"
     ]
    },
    {
     "name": "stdout",
     "output_type": "stream",
     "text": [
      "Step [0/8]\t loss_instance: 5.981044292449951\t loss_cluster: 1.645835518836975\n",
      "Step [2/8]\t loss_instance: 5.99441385269165\t loss_cluster: 1.6834717988967896\n",
      "Step [4/8]\t loss_instance: 6.00154447555542\t loss_cluster: 1.695083498954773\n",
      "Step [6/8]\t loss_instance: 5.967610836029053\t loss_cluster: 1.6270103454589844\n",
      "\n",
      "Epoch [139/500]\t Loss: 7.622973871231079 \n",
      "\n",
      "Step [0/8]\t Computing features...\n",
      "Features shape (8192,)\n",
      "14\n",
      "Test NMI = 0.5949 ARI = 0.3122 F = 0.4340 ACC = 0.4309\n",
      "================================================================\n",
      "\n"
     ]
    },
    {
     "name": "stderr",
     "output_type": "stream",
     "text": [
      "C:\\Users\\Tom-G\\.conda\\envs\\torchenv\\lib\\site-packages\\torch\\nn\\modules\\container.py:141: UserWarning: Implicit dimension choice for softmax has been deprecated. Change the call to include dim=X as an argument.\n",
      "  input = module(input)\n"
     ]
    },
    {
     "name": "stdout",
     "output_type": "stream",
     "text": [
      "Step [0/8]\t loss_instance: 5.849812030792236\t loss_cluster: 1.5719506740570068\n",
      "Step [2/8]\t loss_instance: 5.8545074462890625\t loss_cluster: 1.5811748504638672\n",
      "Step [4/8]\t loss_instance: 5.85796594619751\t loss_cluster: 1.5827962160110474\n",
      "Step [6/8]\t loss_instance: 5.859258651733398\t loss_cluster: 1.5891913175582886\n",
      "\n",
      "Epoch [140/500]\t Loss: 7.4452953219413756 \n",
      "\n",
      "Step [0/8]\t Computing features...\n",
      "Features shape (8192,)\n",
      "14\n",
      "Test NMI = 0.5814 ARI = 0.2921 F = 0.4139 ACC = 0.4243\n",
      "================================================================\n",
      "\n"
     ]
    },
    {
     "name": "stderr",
     "output_type": "stream",
     "text": [
      "C:\\Users\\Tom-G\\.conda\\envs\\torchenv\\lib\\site-packages\\torch\\nn\\modules\\container.py:141: UserWarning: Implicit dimension choice for softmax has been deprecated. Change the call to include dim=X as an argument.\n",
      "  input = module(input)\n"
     ]
    },
    {
     "name": "stdout",
     "output_type": "stream",
     "text": [
      "Step [0/8]\t loss_instance: 5.9082512855529785\t loss_cluster: 1.6086710691452026\n",
      "Step [2/8]\t loss_instance: 5.88430118560791\t loss_cluster: 1.5931974649429321\n",
      "Step [4/8]\t loss_instance: 5.884392261505127\t loss_cluster: 1.6107596158981323\n",
      "Step [6/8]\t loss_instance: 5.87773323059082\t loss_cluster: 1.5991151332855225\n",
      "\n",
      "Epoch [141/500]\t Loss: 7.479785120487213 \n",
      "\n",
      "Step [0/8]\t Computing features...\n",
      "Features shape (8192,)\n",
      "14\n",
      "Test NMI = 0.5947 ARI = 0.3097 F = 0.4314 ACC = 0.4198\n",
      "================================================================\n",
      "\n"
     ]
    },
    {
     "name": "stderr",
     "output_type": "stream",
     "text": [
      "C:\\Users\\Tom-G\\.conda\\envs\\torchenv\\lib\\site-packages\\torch\\nn\\modules\\container.py:141: UserWarning: Implicit dimension choice for softmax has been deprecated. Change the call to include dim=X as an argument.\n",
      "  input = module(input)\n"
     ]
    },
    {
     "name": "stdout",
     "output_type": "stream",
     "text": [
      "Step [0/8]\t loss_instance: 5.860703468322754\t loss_cluster: 1.5736616849899292\n",
      "Step [2/8]\t loss_instance: 5.891438961029053\t loss_cluster: 1.6085115671157837\n",
      "Step [4/8]\t loss_instance: 5.879568576812744\t loss_cluster: 1.5989919900894165\n",
      "Step [6/8]\t loss_instance: 5.87349796295166\t loss_cluster: 1.587234377861023\n",
      "\n",
      "Epoch [142/500]\t Loss: 7.465665394067765 \n",
      "\n",
      "Step [0/8]\t Computing features...\n",
      "Features shape (8192,)\n",
      "14\n",
      "Test NMI = 0.5899 ARI = 0.3065 F = 0.4282 ACC = 0.4276\n",
      "================================================================\n",
      "\n"
     ]
    },
    {
     "name": "stderr",
     "output_type": "stream",
     "text": [
      "C:\\Users\\Tom-G\\.conda\\envs\\torchenv\\lib\\site-packages\\torch\\nn\\modules\\container.py:141: UserWarning: Implicit dimension choice for softmax has been deprecated. Change the call to include dim=X as an argument.\n",
      "  input = module(input)\n"
     ]
    },
    {
     "name": "stdout",
     "output_type": "stream",
     "text": [
      "Step [0/8]\t loss_instance: 5.871192455291748\t loss_cluster: 1.596265196800232\n",
      "Step [2/8]\t loss_instance: 5.912006378173828\t loss_cluster: 1.616562008857727\n",
      "Step [4/8]\t loss_instance: 5.905092239379883\t loss_cluster: 1.6119023561477661\n",
      "Step [6/8]\t loss_instance: 5.9240803718566895\t loss_cluster: 1.643218755722046\n",
      "\n",
      "Epoch [143/500]\t Loss: 7.514110696315766 \n",
      "\n",
      "Step [0/8]\t Computing features...\n",
      "Features shape (8192,)\n",
      "14\n",
      "Test NMI = 0.6029 ARI = 0.3142 F = 0.4359 ACC = 0.4335\n",
      "================================================================\n",
      "\n"
     ]
    },
    {
     "name": "stderr",
     "output_type": "stream",
     "text": [
      "C:\\Users\\Tom-G\\.conda\\envs\\torchenv\\lib\\site-packages\\torch\\nn\\modules\\container.py:141: UserWarning: Implicit dimension choice for softmax has been deprecated. Change the call to include dim=X as an argument.\n",
      "  input = module(input)\n"
     ]
    },
    {
     "name": "stdout",
     "output_type": "stream",
     "text": [
      "Step [0/8]\t loss_instance: 5.914515018463135\t loss_cluster: 1.6278578042984009\n",
      "Step [2/8]\t loss_instance: 5.905514240264893\t loss_cluster: 1.6234984397888184\n",
      "Step [4/8]\t loss_instance: 5.940152168273926\t loss_cluster: 1.6532950401306152\n",
      "Step [6/8]\t loss_instance: 5.9054765701293945\t loss_cluster: 1.602120041847229\n",
      "\n",
      "Epoch [144/500]\t Loss: 7.542536908388138 \n",
      "\n",
      "Step [0/8]\t Computing features...\n",
      "Features shape (8192,)\n",
      "14\n",
      "Test NMI = 0.6151 ARI = 0.3223 F = 0.4443 ACC = 0.4299\n",
      "================================================================\n",
      "\n"
     ]
    },
    {
     "name": "stderr",
     "output_type": "stream",
     "text": [
      "C:\\Users\\Tom-G\\.conda\\envs\\torchenv\\lib\\site-packages\\torch\\nn\\modules\\container.py:141: UserWarning: Implicit dimension choice for softmax has been deprecated. Change the call to include dim=X as an argument.\n",
      "  input = module(input)\n"
     ]
    },
    {
     "name": "stdout",
     "output_type": "stream",
     "text": [
      "Step [0/8]\t loss_instance: 5.915890693664551\t loss_cluster: 1.624008059501648\n",
      "Step [2/8]\t loss_instance: 5.907973766326904\t loss_cluster: 1.6254717111587524\n",
      "Step [4/8]\t loss_instance: 5.914985179901123\t loss_cluster: 1.6337910890579224\n",
      "Step [6/8]\t loss_instance: 5.902220726013184\t loss_cluster: 1.6092854738235474\n",
      "\n",
      "Epoch [145/500]\t Loss: 7.521994626522064 \n",
      "\n",
      "Step [0/8]\t Computing features...\n",
      "Features shape (8192,)\n",
      "14\n",
      "Test NMI = 0.6189 ARI = 0.3251 F = 0.4471 ACC = 0.4128\n",
      "================================================================\n",
      "\n"
     ]
    },
    {
     "name": "stderr",
     "output_type": "stream",
     "text": [
      "C:\\Users\\Tom-G\\.conda\\envs\\torchenv\\lib\\site-packages\\torch\\nn\\modules\\container.py:141: UserWarning: Implicit dimension choice for softmax has been deprecated. Change the call to include dim=X as an argument.\n",
      "  input = module(input)\n"
     ]
    },
    {
     "name": "stdout",
     "output_type": "stream",
     "text": [
      "Step [0/8]\t loss_instance: 5.8811211585998535\t loss_cluster: 1.575567364692688\n",
      "Step [2/8]\t loss_instance: 5.8912034034729\t loss_cluster: 1.5927808284759521\n",
      "Step [4/8]\t loss_instance: 5.900694370269775\t loss_cluster: 1.6181765794754028\n",
      "Step [6/8]\t loss_instance: 5.907601356506348\t loss_cluster: 1.6392062902450562\n",
      "\n",
      "Epoch [146/500]\t Loss: 7.499553048610688 \n",
      "\n",
      "Step [0/8]\t Computing features...\n",
      "Features shape (8192,)\n",
      "14\n",
      "Test NMI = 0.6157 ARI = 0.3264 F = 0.4481 ACC = 0.4281\n",
      "================================================================\n",
      "\n"
     ]
    },
    {
     "name": "stderr",
     "output_type": "stream",
     "text": [
      "C:\\Users\\Tom-G\\.conda\\envs\\torchenv\\lib\\site-packages\\torch\\nn\\modules\\container.py:141: UserWarning: Implicit dimension choice for softmax has been deprecated. Change the call to include dim=X as an argument.\n",
      "  input = module(input)\n"
     ]
    },
    {
     "name": "stdout",
     "output_type": "stream",
     "text": [
      "Step [0/8]\t loss_instance: 5.882059574127197\t loss_cluster: 1.6151950359344482\n",
      "Step [2/8]\t loss_instance: 5.881448268890381\t loss_cluster: 1.5898382663726807\n",
      "Step [4/8]\t loss_instance: 5.889293670654297\t loss_cluster: 1.5950685739517212\n",
      "Step [6/8]\t loss_instance: 5.891961574554443\t loss_cluster: 1.6032828092575073\n",
      "\n",
      "Epoch [147/500]\t Loss: 7.472642952203751 \n",
      "\n",
      "Step [0/8]\t Computing features...\n",
      "Features shape (8192,)\n",
      "14\n",
      "Test NMI = 0.6090 ARI = 0.3129 F = 0.4350 ACC = 0.4114\n",
      "================================================================\n",
      "\n"
     ]
    },
    {
     "name": "stderr",
     "output_type": "stream",
     "text": [
      "C:\\Users\\Tom-G\\.conda\\envs\\torchenv\\lib\\site-packages\\torch\\nn\\modules\\container.py:141: UserWarning: Implicit dimension choice for softmax has been deprecated. Change the call to include dim=X as an argument.\n",
      "  input = module(input)\n"
     ]
    },
    {
     "name": "stdout",
     "output_type": "stream",
     "text": [
      "Step [0/8]\t loss_instance: 5.88025426864624\t loss_cluster: 1.6027439832687378\n",
      "Step [2/8]\t loss_instance: 5.886349678039551\t loss_cluster: 1.6140934228897095\n",
      "Step [4/8]\t loss_instance: 5.898269176483154\t loss_cluster: 1.6187022924423218\n",
      "Step [6/8]\t loss_instance: 5.882506370544434\t loss_cluster: 1.6011618375778198\n",
      "\n",
      "Epoch [148/500]\t Loss: 7.4695125937461855 \n",
      "\n",
      "Step [0/8]\t Computing features...\n",
      "Features shape (8192,)\n",
      "14\n",
      "Test NMI = 0.6158 ARI = 0.3193 F = 0.4414 ACC = 0.4087\n",
      "================================================================\n",
      "\n"
     ]
    },
    {
     "name": "stderr",
     "output_type": "stream",
     "text": [
      "C:\\Users\\Tom-G\\.conda\\envs\\torchenv\\lib\\site-packages\\torch\\nn\\modules\\container.py:141: UserWarning: Implicit dimension choice for softmax has been deprecated. Change the call to include dim=X as an argument.\n",
      "  input = module(input)\n"
     ]
    },
    {
     "name": "stdout",
     "output_type": "stream",
     "text": [
      "Step [0/8]\t loss_instance: 5.879424571990967\t loss_cluster: 1.588665246963501\n",
      "Step [2/8]\t loss_instance: 5.8835649490356445\t loss_cluster: 1.6083859205245972\n",
      "Step [4/8]\t loss_instance: 5.877735614776611\t loss_cluster: 1.58114492893219\n",
      "Step [6/8]\t loss_instance: 5.890302658081055\t loss_cluster: 1.6013867855072021\n",
      "\n",
      "Epoch [149/500]\t Loss: 7.45917072892189 \n",
      "\n",
      "Step [0/8]\t Computing features...\n",
      "Features shape (8192,)\n",
      "14\n",
      "Test NMI = 0.6100 ARI = 0.3186 F = 0.4407 ACC = 0.4149\n",
      "================================================================\n",
      "\n"
     ]
    },
    {
     "name": "stderr",
     "output_type": "stream",
     "text": [
      "C:\\Users\\Tom-G\\.conda\\envs\\torchenv\\lib\\site-packages\\torch\\nn\\modules\\container.py:141: UserWarning: Implicit dimension choice for softmax has been deprecated. Change the call to include dim=X as an argument.\n",
      "  input = module(input)\n"
     ]
    },
    {
     "name": "stdout",
     "output_type": "stream",
     "text": [
      "Step [0/8]\t loss_instance: 5.884308815002441\t loss_cluster: 1.6032150983810425\n",
      "Step [2/8]\t loss_instance: 5.891412734985352\t loss_cluster: 1.6072543859481812\n",
      "Step [4/8]\t loss_instance: 5.865842342376709\t loss_cluster: 1.5810720920562744\n",
      "Step [6/8]\t loss_instance: 5.865314483642578\t loss_cluster: 1.5771533250808716\n",
      "\n",
      "Epoch [150/500]\t Loss: 7.4564550697803496 \n",
      "\n",
      "Step [0/8]\t Computing features...\n",
      "Features shape (8192,)\n",
      "14\n",
      "Test NMI = 0.6167 ARI = 0.3311 F = 0.4533 ACC = 0.4331\n",
      "================================================================\n",
      "\n"
     ]
    },
    {
     "name": "stderr",
     "output_type": "stream",
     "text": [
      "C:\\Users\\Tom-G\\.conda\\envs\\torchenv\\lib\\site-packages\\torch\\nn\\modules\\container.py:141: UserWarning: Implicit dimension choice for softmax has been deprecated. Change the call to include dim=X as an argument.\n",
      "  input = module(input)\n"
     ]
    },
    {
     "name": "stdout",
     "output_type": "stream",
     "text": [
      "Step [0/8]\t loss_instance: 5.8894572257995605\t loss_cluster: 1.6018930673599243\n",
      "Step [2/8]\t loss_instance: 5.891534805297852\t loss_cluster: 1.6061402559280396\n",
      "Step [4/8]\t loss_instance: 5.886423587799072\t loss_cluster: 1.5986385345458984\n",
      "Step [6/8]\t loss_instance: 5.8965678215026855\t loss_cluster: 1.5942186117172241\n",
      "\n",
      "Epoch [151/500]\t Loss: 7.481556820869446 \n",
      "\n",
      "Step [0/8]\t Computing features...\n",
      "Features shape (8192,)\n",
      "14\n",
      "Test NMI = 0.6068 ARI = 0.3122 F = 0.4346 ACC = 0.4254\n",
      "================================================================\n",
      "\n"
     ]
    },
    {
     "name": "stderr",
     "output_type": "stream",
     "text": [
      "C:\\Users\\Tom-G\\.conda\\envs\\torchenv\\lib\\site-packages\\torch\\nn\\modules\\container.py:141: UserWarning: Implicit dimension choice for softmax has been deprecated. Change the call to include dim=X as an argument.\n",
      "  input = module(input)\n"
     ]
    },
    {
     "name": "stdout",
     "output_type": "stream",
     "text": [
      "Step [0/8]\t loss_instance: 5.887948513031006\t loss_cluster: 1.5891833305358887\n",
      "Step [2/8]\t loss_instance: 5.874733924865723\t loss_cluster: 1.593653917312622\n",
      "Step [4/8]\t loss_instance: 5.862191200256348\t loss_cluster: 1.5705407857894897\n",
      "Step [6/8]\t loss_instance: 5.871083736419678\t loss_cluster: 1.5977914333343506\n",
      "\n",
      "Epoch [152/500]\t Loss: 7.445660495758057 \n",
      "\n",
      "Step [0/8]\t Computing features...\n",
      "Features shape (8192,)\n",
      "14\n",
      "Test NMI = 0.6082 ARI = 0.3160 F = 0.4379 ACC = 0.4224\n",
      "================================================================\n",
      "\n"
     ]
    },
    {
     "name": "stderr",
     "output_type": "stream",
     "text": [
      "C:\\Users\\Tom-G\\.conda\\envs\\torchenv\\lib\\site-packages\\torch\\nn\\modules\\container.py:141: UserWarning: Implicit dimension choice for softmax has been deprecated. Change the call to include dim=X as an argument.\n",
      "  input = module(input)\n"
     ]
    },
    {
     "name": "stdout",
     "output_type": "stream",
     "text": [
      "Step [0/8]\t loss_instance: 5.874227046966553\t loss_cluster: 1.595062255859375\n",
      "Step [2/8]\t loss_instance: 5.880083084106445\t loss_cluster: 1.5960655212402344\n",
      "Step [4/8]\t loss_instance: 5.88505220413208\t loss_cluster: 1.5968823432922363\n",
      "Step [6/8]\t loss_instance: 5.865646839141846\t loss_cluster: 1.5859475135803223\n",
      "\n",
      "Epoch [153/500]\t Loss: 7.450913536548614 \n",
      "\n",
      "Step [0/8]\t Computing features...\n",
      "Features shape (8192,)\n",
      "14\n",
      "Test NMI = 0.6083 ARI = 0.3203 F = 0.4424 ACC = 0.4277\n",
      "================================================================\n",
      "\n"
     ]
    },
    {
     "name": "stderr",
     "output_type": "stream",
     "text": [
      "C:\\Users\\Tom-G\\.conda\\envs\\torchenv\\lib\\site-packages\\torch\\nn\\modules\\container.py:141: UserWarning: Implicit dimension choice for softmax has been deprecated. Change the call to include dim=X as an argument.\n",
      "  input = module(input)\n"
     ]
    },
    {
     "name": "stdout",
     "output_type": "stream",
     "text": [
      "Step [0/8]\t loss_instance: 5.868932247161865\t loss_cluster: 1.5775408744812012\n",
      "Step [2/8]\t loss_instance: 5.8636345863342285\t loss_cluster: 1.5872918367385864\n",
      "Step [4/8]\t loss_instance: 5.878807544708252\t loss_cluster: 1.5995932817459106\n",
      "Step [6/8]\t loss_instance: 5.910810470581055\t loss_cluster: 1.612442970275879\n",
      "\n",
      "Epoch [154/500]\t Loss: 7.477006506919861 \n",
      "\n",
      "Step [0/8]\t Computing features...\n",
      "Features shape (8192,)\n",
      "14\n",
      "Test NMI = 0.6129 ARI = 0.3236 F = 0.4457 ACC = 0.4393\n",
      "================================================================\n",
      "\n"
     ]
    },
    {
     "name": "stderr",
     "output_type": "stream",
     "text": [
      "C:\\Users\\Tom-G\\.conda\\envs\\torchenv\\lib\\site-packages\\torch\\nn\\modules\\container.py:141: UserWarning: Implicit dimension choice for softmax has been deprecated. Change the call to include dim=X as an argument.\n",
      "  input = module(input)\n"
     ]
    },
    {
     "name": "stdout",
     "output_type": "stream",
     "text": [
      "Step [0/8]\t loss_instance: 5.888892650604248\t loss_cluster: 1.6016520261764526\n",
      "Step [2/8]\t loss_instance: 5.897243499755859\t loss_cluster: 1.60483717918396\n",
      "Step [4/8]\t loss_instance: 5.914865970611572\t loss_cluster: 1.6201856136322021\n",
      "Step [6/8]\t loss_instance: 5.882068157196045\t loss_cluster: 1.584882140159607\n",
      "\n",
      "Epoch [155/500]\t Loss: 7.471176290512085 \n",
      "\n",
      "Step [0/8]\t Computing features...\n",
      "Features shape (8192,)\n",
      "14\n",
      "Test NMI = 0.6069 ARI = 0.3178 F = 0.4398 ACC = 0.4314\n",
      "================================================================\n",
      "\n"
     ]
    },
    {
     "name": "stderr",
     "output_type": "stream",
     "text": [
      "C:\\Users\\Tom-G\\.conda\\envs\\torchenv\\lib\\site-packages\\torch\\nn\\modules\\container.py:141: UserWarning: Implicit dimension choice for softmax has been deprecated. Change the call to include dim=X as an argument.\n",
      "  input = module(input)\n"
     ]
    },
    {
     "name": "stdout",
     "output_type": "stream",
     "text": [
      "Step [0/8]\t loss_instance: 5.8828630447387695\t loss_cluster: 1.60003662109375\n",
      "Step [2/8]\t loss_instance: 5.876716136932373\t loss_cluster: 1.5966752767562866\n",
      "Step [4/8]\t loss_instance: 5.8895134925842285\t loss_cluster: 1.5969786643981934\n",
      "Step [6/8]\t loss_instance: 5.891321659088135\t loss_cluster: 1.5903581380844116\n",
      "\n",
      "Epoch [156/500]\t Loss: 7.456943815946579 \n",
      "\n",
      "Step [0/8]\t Computing features...\n",
      "Features shape (8192,)\n",
      "14\n",
      "Test NMI = 0.6113 ARI = 0.3247 F = 0.4461 ACC = 0.4175\n",
      "================================================================\n",
      "\n"
     ]
    },
    {
     "name": "stderr",
     "output_type": "stream",
     "text": [
      "C:\\Users\\Tom-G\\.conda\\envs\\torchenv\\lib\\site-packages\\torch\\nn\\modules\\container.py:141: UserWarning: Implicit dimension choice for softmax has been deprecated. Change the call to include dim=X as an argument.\n",
      "  input = module(input)\n"
     ]
    },
    {
     "name": "stdout",
     "output_type": "stream",
     "text": [
      "Step [0/8]\t loss_instance: 5.889476299285889\t loss_cluster: 1.5959151983261108\n",
      "Step [2/8]\t loss_instance: 5.899509429931641\t loss_cluster: 1.6099790334701538\n",
      "Step [4/8]\t loss_instance: 5.873926162719727\t loss_cluster: 1.5912809371948242\n",
      "Step [6/8]\t loss_instance: 5.903263568878174\t loss_cluster: 1.609075903892517\n",
      "\n",
      "Epoch [157/500]\t Loss: 7.467993927001953 \n",
      "\n",
      "Step [0/8]\t Computing features...\n",
      "Features shape (8192,)\n",
      "14\n",
      "Test NMI = 0.6069 ARI = 0.3210 F = 0.4428 ACC = 0.4390\n",
      "================================================================\n",
      "\n"
     ]
    },
    {
     "name": "stderr",
     "output_type": "stream",
     "text": [
      "C:\\Users\\Tom-G\\.conda\\envs\\torchenv\\lib\\site-packages\\torch\\nn\\modules\\container.py:141: UserWarning: Implicit dimension choice for softmax has been deprecated. Change the call to include dim=X as an argument.\n",
      "  input = module(input)\n"
     ]
    },
    {
     "name": "stdout",
     "output_type": "stream",
     "text": [
      "Step [0/8]\t loss_instance: 5.890389442443848\t loss_cluster: 1.5980530977249146\n",
      "Step [2/8]\t loss_instance: 5.9026899337768555\t loss_cluster: 1.6015874147415161\n",
      "Step [4/8]\t loss_instance: 5.893623352050781\t loss_cluster: 1.5941873788833618\n",
      "Step [6/8]\t loss_instance: 5.891470432281494\t loss_cluster: 1.5992838144302368\n",
      "\n",
      "Epoch [158/500]\t Loss: 7.469612383842469 \n",
      "\n",
      "Step [0/8]\t Computing features...\n",
      "Features shape (8192,)\n",
      "14\n",
      "Test NMI = 0.6092 ARI = 0.3227 F = 0.4452 ACC = 0.4321\n",
      "================================================================\n",
      "\n"
     ]
    },
    {
     "name": "stderr",
     "output_type": "stream",
     "text": [
      "C:\\Users\\Tom-G\\.conda\\envs\\torchenv\\lib\\site-packages\\torch\\nn\\modules\\container.py:141: UserWarning: Implicit dimension choice for softmax has been deprecated. Change the call to include dim=X as an argument.\n",
      "  input = module(input)\n"
     ]
    },
    {
     "name": "stdout",
     "output_type": "stream",
     "text": [
      "Step [0/8]\t loss_instance: 5.881122589111328\t loss_cluster: 1.5986502170562744\n",
      "Step [2/8]\t loss_instance: 5.89266300201416\t loss_cluster: 1.6046470403671265\n",
      "Step [4/8]\t loss_instance: 5.8994646072387695\t loss_cluster: 1.6091388463974\n",
      "Step [6/8]\t loss_instance: 5.900179386138916\t loss_cluster: 1.600228190422058\n",
      "\n",
      "Epoch [159/500]\t Loss: 7.480205756425858 \n",
      "\n",
      "Step [0/8]\t Computing features...\n",
      "Features shape (8192,)\n",
      "14\n",
      "Test NMI = 0.6036 ARI = 0.3206 F = 0.4427 ACC = 0.4131\n",
      "================================================================\n",
      "\n"
     ]
    },
    {
     "name": "stderr",
     "output_type": "stream",
     "text": [
      "C:\\Users\\Tom-G\\.conda\\envs\\torchenv\\lib\\site-packages\\torch\\nn\\modules\\container.py:141: UserWarning: Implicit dimension choice for softmax has been deprecated. Change the call to include dim=X as an argument.\n",
      "  input = module(input)\n"
     ]
    },
    {
     "name": "stdout",
     "output_type": "stream",
     "text": [
      "Step [0/8]\t loss_instance: 5.821690082550049\t loss_cluster: 1.5592328310012817\n",
      "Step [2/8]\t loss_instance: 5.8255157470703125\t loss_cluster: 1.5712989568710327\n",
      "Step [4/8]\t loss_instance: 5.886748790740967\t loss_cluster: 1.6001842021942139\n",
      "Step [6/8]\t loss_instance: 5.873576641082764\t loss_cluster: 1.596448540687561\n",
      "\n",
      "Epoch [160/500]\t Loss: 7.458536267280579 \n",
      "\n",
      "Step [0/8]\t Computing features...\n",
      "Features shape (8192,)\n",
      "14\n",
      "Test NMI = 0.5867 ARI = 0.2996 F = 0.4217 ACC = 0.4226\n",
      "================================================================\n",
      "\n"
     ]
    },
    {
     "name": "stderr",
     "output_type": "stream",
     "text": [
      "C:\\Users\\Tom-G\\.conda\\envs\\torchenv\\lib\\site-packages\\torch\\nn\\modules\\container.py:141: UserWarning: Implicit dimension choice for softmax has been deprecated. Change the call to include dim=X as an argument.\n",
      "  input = module(input)\n"
     ]
    },
    {
     "name": "stdout",
     "output_type": "stream",
     "text": [
      "Step [0/8]\t loss_instance: 5.924912929534912\t loss_cluster: 1.670251488685608\n",
      "Step [2/8]\t loss_instance: 5.949799537658691\t loss_cluster: 1.7782320976257324\n",
      "Step [4/8]\t loss_instance: 5.952397346496582\t loss_cluster: 1.6488898992538452\n",
      "Step [6/8]\t loss_instance: 5.947669982910156\t loss_cluster: 1.6451821327209473\n",
      "\n",
      "Epoch [161/500]\t Loss: 7.610569423437118 \n",
      "\n",
      "Step [0/8]\t Computing features...\n",
      "Features shape (8192,)\n",
      "14\n",
      "Test NMI = 0.6150 ARI = 0.3366 F = 0.4577 ACC = 0.4775\n",
      "================================================================\n",
      "\n"
     ]
    },
    {
     "name": "stderr",
     "output_type": "stream",
     "text": [
      "C:\\Users\\Tom-G\\.conda\\envs\\torchenv\\lib\\site-packages\\torch\\nn\\modules\\container.py:141: UserWarning: Implicit dimension choice for softmax has been deprecated. Change the call to include dim=X as an argument.\n",
      "  input = module(input)\n"
     ]
    },
    {
     "name": "stdout",
     "output_type": "stream",
     "text": [
      "Step [0/8]\t loss_instance: 5.915036678314209\t loss_cluster: 1.6256587505340576\n",
      "Step [2/8]\t loss_instance: 5.955801010131836\t loss_cluster: 1.671205759048462\n",
      "Step [4/8]\t loss_instance: 5.9721455574035645\t loss_cluster: 1.6911118030548096\n",
      "Step [6/8]\t loss_instance: 5.930318832397461\t loss_cluster: 1.6161808967590332\n",
      "\n",
      "Epoch [162/500]\t Loss: 7.612987786531448 \n",
      "\n",
      "Step [0/8]\t Computing features...\n",
      "Features shape (8192,)\n",
      "14\n",
      "Test NMI = 0.6127 ARI = 0.3218 F = 0.4431 ACC = 0.4520\n",
      "================================================================\n",
      "\n"
     ]
    },
    {
     "name": "stderr",
     "output_type": "stream",
     "text": [
      "C:\\Users\\Tom-G\\.conda\\envs\\torchenv\\lib\\site-packages\\torch\\nn\\modules\\container.py:141: UserWarning: Implicit dimension choice for softmax has been deprecated. Change the call to include dim=X as an argument.\n",
      "  input = module(input)\n"
     ]
    },
    {
     "name": "stdout",
     "output_type": "stream",
     "text": [
      "Step [0/8]\t loss_instance: 5.904638290405273\t loss_cluster: 1.6092616319656372\n",
      "Step [2/8]\t loss_instance: 5.93717098236084\t loss_cluster: 1.661915898323059\n",
      "Step [4/8]\t loss_instance: 5.899346351623535\t loss_cluster: 1.6173473596572876\n",
      "Step [6/8]\t loss_instance: 5.880055904388428\t loss_cluster: 1.6009773015975952\n",
      "\n",
      "Epoch [163/500]\t Loss: 7.510125577449799 \n",
      "\n",
      "Step [0/8]\t Computing features...\n",
      "Features shape (8192,)\n",
      "14\n",
      "Test NMI = 0.6211 ARI = 0.3346 F = 0.4560 ACC = 0.4606\n",
      "================================================================\n",
      "\n"
     ]
    },
    {
     "name": "stderr",
     "output_type": "stream",
     "text": [
      "C:\\Users\\Tom-G\\.conda\\envs\\torchenv\\lib\\site-packages\\torch\\nn\\modules\\container.py:141: UserWarning: Implicit dimension choice for softmax has been deprecated. Change the call to include dim=X as an argument.\n",
      "  input = module(input)\n"
     ]
    },
    {
     "name": "stdout",
     "output_type": "stream",
     "text": [
      "Step [0/8]\t loss_instance: 5.866116523742676\t loss_cluster: 1.5959088802337646\n",
      "Step [2/8]\t loss_instance: 5.868096828460693\t loss_cluster: 1.5817350149154663\n",
      "Step [4/8]\t loss_instance: 5.869083404541016\t loss_cluster: 1.5945473909378052\n",
      "Step [6/8]\t loss_instance: 5.861471176147461\t loss_cluster: 1.5927480459213257\n",
      "\n",
      "Epoch [164/500]\t Loss: 7.448426455259323 \n",
      "\n",
      "Step [0/8]\t Computing features...\n",
      "Features shape (8192,)\n",
      "14\n",
      "Test NMI = 0.6204 ARI = 0.3343 F = 0.4559 ACC = 0.4563\n",
      "================================================================\n",
      "\n"
     ]
    },
    {
     "name": "stderr",
     "output_type": "stream",
     "text": [
      "C:\\Users\\Tom-G\\.conda\\envs\\torchenv\\lib\\site-packages\\torch\\nn\\modules\\container.py:141: UserWarning: Implicit dimension choice for softmax has been deprecated. Change the call to include dim=X as an argument.\n",
      "  input = module(input)\n"
     ]
    },
    {
     "name": "stdout",
     "output_type": "stream",
     "text": [
      "Step [0/8]\t loss_instance: 5.872787952423096\t loss_cluster: 1.6059538125991821\n",
      "Step [2/8]\t loss_instance: 5.870365142822266\t loss_cluster: 1.5909603834152222\n",
      "Step [4/8]\t loss_instance: 5.861100196838379\t loss_cluster: 1.597631573677063\n",
      "Step [6/8]\t loss_instance: 5.884945392608643\t loss_cluster: 1.6103239059448242\n",
      "\n",
      "Epoch [165/500]\t Loss: 7.45142622590065 \n",
      "\n",
      "Step [0/8]\t Computing features...\n",
      "Features shape (8192,)\n",
      "14\n",
      "Test NMI = 0.6092 ARI = 0.3203 F = 0.4429 ACC = 0.4528\n",
      "================================================================\n",
      "\n"
     ]
    },
    {
     "name": "stderr",
     "output_type": "stream",
     "text": [
      "C:\\Users\\Tom-G\\.conda\\envs\\torchenv\\lib\\site-packages\\torch\\nn\\modules\\container.py:141: UserWarning: Implicit dimension choice for softmax has been deprecated. Change the call to include dim=X as an argument.\n",
      "  input = module(input)\n"
     ]
    },
    {
     "name": "stdout",
     "output_type": "stream",
     "text": [
      "Step [0/8]\t loss_instance: 5.86346960067749\t loss_cluster: 1.5994311571121216\n",
      "Step [2/8]\t loss_instance: 5.862867832183838\t loss_cluster: 1.5859112739562988\n",
      "Step [4/8]\t loss_instance: 5.894063472747803\t loss_cluster: 1.6104259490966797\n",
      "Step [6/8]\t loss_instance: 5.907524108886719\t loss_cluster: 1.6362584829330444\n",
      "\n",
      "Epoch [166/500]\t Loss: 7.482366961240769 \n",
      "\n",
      "Step [0/8]\t Computing features...\n",
      "Features shape (8192,)\n",
      "14\n",
      "Test NMI = 0.5988 ARI = 0.3218 F = 0.4427 ACC = 0.4579\n",
      "================================================================\n",
      "\n"
     ]
    },
    {
     "name": "stderr",
     "output_type": "stream",
     "text": [
      "C:\\Users\\Tom-G\\.conda\\envs\\torchenv\\lib\\site-packages\\torch\\nn\\modules\\container.py:141: UserWarning: Implicit dimension choice for softmax has been deprecated. Change the call to include dim=X as an argument.\n",
      "  input = module(input)\n"
     ]
    },
    {
     "name": "stdout",
     "output_type": "stream",
     "text": [
      "Step [0/8]\t loss_instance: 5.927874565124512\t loss_cluster: 1.6464687585830688\n",
      "Step [2/8]\t loss_instance: 5.963704586029053\t loss_cluster: 1.6864601373672485\n",
      "Step [4/8]\t loss_instance: 5.940908432006836\t loss_cluster: 1.6387478113174438\n",
      "Step [6/8]\t loss_instance: 5.885053634643555\t loss_cluster: 1.6096271276474\n",
      "\n",
      "Epoch [167/500]\t Loss: 7.576469367742538 \n",
      "\n",
      "Step [0/8]\t Computing features...\n",
      "Features shape (8192,)\n",
      "14\n",
      "Test NMI = 0.5999 ARI = 0.3132 F = 0.4356 ACC = 0.4418\n",
      "================================================================\n",
      "\n"
     ]
    },
    {
     "name": "stderr",
     "output_type": "stream",
     "text": [
      "C:\\Users\\Tom-G\\.conda\\envs\\torchenv\\lib\\site-packages\\torch\\nn\\modules\\container.py:141: UserWarning: Implicit dimension choice for softmax has been deprecated. Change the call to include dim=X as an argument.\n",
      "  input = module(input)\n"
     ]
    },
    {
     "name": "stdout",
     "output_type": "stream",
     "text": [
      "Step [0/8]\t loss_instance: 5.864872932434082\t loss_cluster: 1.587659478187561\n",
      "Step [2/8]\t loss_instance: 5.860043525695801\t loss_cluster: 1.5854957103729248\n",
      "Step [4/8]\t loss_instance: 5.865077018737793\t loss_cluster: 1.6059585809707642\n",
      "Step [6/8]\t loss_instance: 5.843253135681152\t loss_cluster: 1.5685383081436157\n",
      "\n",
      "Epoch [168/500]\t Loss: 7.4373670518398285 \n",
      "\n",
      "Step [0/8]\t Computing features...\n",
      "Features shape (8192,)\n",
      "14\n",
      "Test NMI = 0.5974 ARI = 0.3099 F = 0.4326 ACC = 0.4307\n",
      "================================================================\n",
      "\n"
     ]
    },
    {
     "name": "stderr",
     "output_type": "stream",
     "text": [
      "C:\\Users\\Tom-G\\.conda\\envs\\torchenv\\lib\\site-packages\\torch\\nn\\modules\\container.py:141: UserWarning: Implicit dimension choice for softmax has been deprecated. Change the call to include dim=X as an argument.\n",
      "  input = module(input)\n"
     ]
    },
    {
     "name": "stdout",
     "output_type": "stream",
     "text": [
      "Step [0/8]\t loss_instance: 5.843835353851318\t loss_cluster: 1.5748718976974487\n",
      "Step [2/8]\t loss_instance: 5.852257251739502\t loss_cluster: 1.5799065828323364\n",
      "Step [4/8]\t loss_instance: 5.844825267791748\t loss_cluster: 1.5718672275543213\n",
      "Step [6/8]\t loss_instance: 5.8645734786987305\t loss_cluster: 1.5944617986679077\n",
      "\n",
      "Epoch [169/500]\t Loss: 7.4268227338790895 \n",
      "\n",
      "Step [0/8]\t Computing features...\n",
      "Features shape (8192,)\n",
      "14\n",
      "Test NMI = 0.6006 ARI = 0.3134 F = 0.4357 ACC = 0.4313\n",
      "================================================================\n",
      "\n"
     ]
    },
    {
     "name": "stderr",
     "output_type": "stream",
     "text": [
      "C:\\Users\\Tom-G\\.conda\\envs\\torchenv\\lib\\site-packages\\torch\\nn\\modules\\container.py:141: UserWarning: Implicit dimension choice for softmax has been deprecated. Change the call to include dim=X as an argument.\n",
      "  input = module(input)\n"
     ]
    },
    {
     "name": "stdout",
     "output_type": "stream",
     "text": [
      "Step [0/8]\t loss_instance: 5.843268871307373\t loss_cluster: 1.5836461782455444\n",
      "Step [2/8]\t loss_instance: 5.851574420928955\t loss_cluster: 1.5781854391098022\n",
      "Step [4/8]\t loss_instance: 5.871309757232666\t loss_cluster: 1.603890299797058\n",
      "Step [6/8]\t loss_instance: 5.879179954528809\t loss_cluster: 1.598251223564148\n",
      "\n",
      "Epoch [170/500]\t Loss: 7.4541546404361725 \n",
      "\n",
      "Step [0/8]\t Computing features...\n",
      "Features shape (8192,)\n",
      "14\n",
      "Test NMI = 0.6127 ARI = 0.3370 F = 0.4578 ACC = 0.4672\n",
      "================================================================\n",
      "\n"
     ]
    },
    {
     "name": "stderr",
     "output_type": "stream",
     "text": [
      "C:\\Users\\Tom-G\\.conda\\envs\\torchenv\\lib\\site-packages\\torch\\nn\\modules\\container.py:141: UserWarning: Implicit dimension choice for softmax has been deprecated. Change the call to include dim=X as an argument.\n",
      "  input = module(input)\n"
     ]
    },
    {
     "name": "stdout",
     "output_type": "stream",
     "text": [
      "Step [0/8]\t loss_instance: 5.887760639190674\t loss_cluster: 1.638547658920288\n",
      "Step [2/8]\t loss_instance: 5.939557075500488\t loss_cluster: 1.7187089920043945\n",
      "Step [4/8]\t loss_instance: 5.892282485961914\t loss_cluster: 1.6243795156478882\n",
      "Step [6/8]\t loss_instance: 5.86553430557251\t loss_cluster: 1.5813215970993042\n",
      "\n",
      "Epoch [171/500]\t Loss: 7.539454847574234 \n",
      "\n",
      "Step [0/8]\t Computing features...\n",
      "Features shape (8192,)\n",
      "14\n",
      "Test NMI = 0.6013 ARI = 0.3168 F = 0.4388 ACC = 0.4363\n",
      "================================================================\n",
      "\n"
     ]
    },
    {
     "name": "stderr",
     "output_type": "stream",
     "text": [
      "C:\\Users\\Tom-G\\.conda\\envs\\torchenv\\lib\\site-packages\\torch\\nn\\modules\\container.py:141: UserWarning: Implicit dimension choice for softmax has been deprecated. Change the call to include dim=X as an argument.\n",
      "  input = module(input)\n"
     ]
    },
    {
     "name": "stdout",
     "output_type": "stream",
     "text": [
      "Step [0/8]\t loss_instance: 5.8489460945129395\t loss_cluster: 1.5722519159317017\n",
      "Step [2/8]\t loss_instance: 5.844242572784424\t loss_cluster: 1.5746110677719116\n",
      "Step [4/8]\t loss_instance: 5.843421459197998\t loss_cluster: 1.5733497142791748\n",
      "Step [6/8]\t loss_instance: 5.859745979309082\t loss_cluster: 1.5888969898223877\n",
      "\n",
      "Epoch [172/500]\t Loss: 7.415882039070129 \n",
      "\n",
      "Step [0/8]\t Computing features...\n",
      "Features shape (8192,)\n",
      "14\n",
      "Test NMI = 0.6068 ARI = 0.3167 F = 0.4389 ACC = 0.4305\n",
      "================================================================\n",
      "\n"
     ]
    },
    {
     "name": "stderr",
     "output_type": "stream",
     "text": [
      "C:\\Users\\Tom-G\\.conda\\envs\\torchenv\\lib\\site-packages\\torch\\nn\\modules\\container.py:141: UserWarning: Implicit dimension choice for softmax has been deprecated. Change the call to include dim=X as an argument.\n",
      "  input = module(input)\n"
     ]
    },
    {
     "name": "stdout",
     "output_type": "stream",
     "text": [
      "Step [0/8]\t loss_instance: 5.864058017730713\t loss_cluster: 1.602169394493103\n",
      "Step [2/8]\t loss_instance: 5.859045505523682\t loss_cluster: 1.5853317975997925\n",
      "Step [4/8]\t loss_instance: 5.877682209014893\t loss_cluster: 1.6022655963897705\n",
      "Step [6/8]\t loss_instance: 5.851344585418701\t loss_cluster: 1.583143711090088\n",
      "\n",
      "Epoch [173/500]\t Loss: 7.427909916639328 \n",
      "\n",
      "Step [0/8]\t Computing features...\n",
      "Features shape (8192,)\n",
      "14\n",
      "Test NMI = 0.6058 ARI = 0.3139 F = 0.4360 ACC = 0.4148\n",
      "================================================================\n",
      "\n"
     ]
    },
    {
     "name": "stderr",
     "output_type": "stream",
     "text": [
      "C:\\Users\\Tom-G\\.conda\\envs\\torchenv\\lib\\site-packages\\torch\\nn\\modules\\container.py:141: UserWarning: Implicit dimension choice for softmax has been deprecated. Change the call to include dim=X as an argument.\n",
      "  input = module(input)\n"
     ]
    },
    {
     "name": "stdout",
     "output_type": "stream",
     "text": [
      "Step [0/8]\t loss_instance: 5.857605457305908\t loss_cluster: 1.5810176134109497\n",
      "Step [2/8]\t loss_instance: 5.839330196380615\t loss_cluster: 1.5824047327041626\n",
      "Step [4/8]\t loss_instance: 5.840003967285156\t loss_cluster: 1.5708094835281372\n",
      "Step [6/8]\t loss_instance: 5.859116554260254\t loss_cluster: 1.5955713987350464\n",
      "\n",
      "Epoch [174/500]\t Loss: 7.410726004838944 \n",
      "\n",
      "Step [0/8]\t Computing features...\n",
      "Features shape (8192,)\n",
      "14\n",
      "Test NMI = 0.6058 ARI = 0.3176 F = 0.4395 ACC = 0.4248\n",
      "================================================================\n",
      "\n"
     ]
    },
    {
     "name": "stderr",
     "output_type": "stream",
     "text": [
      "C:\\Users\\Tom-G\\.conda\\envs\\torchenv\\lib\\site-packages\\torch\\nn\\modules\\container.py:141: UserWarning: Implicit dimension choice for softmax has been deprecated. Change the call to include dim=X as an argument.\n",
      "  input = module(input)\n"
     ]
    },
    {
     "name": "stdout",
     "output_type": "stream",
     "text": [
      "Step [0/8]\t loss_instance: 5.8522162437438965\t loss_cluster: 1.5920194387435913\n",
      "Step [2/8]\t loss_instance: 5.88947057723999\t loss_cluster: 1.622538685798645\n",
      "Step [4/8]\t loss_instance: 5.858065605163574\t loss_cluster: 1.569880723953247\n",
      "Step [6/8]\t loss_instance: 5.844109535217285\t loss_cluster: 1.5684558153152466\n",
      "\n",
      "Epoch [175/500]\t Loss: 7.431284427642822 \n",
      "\n",
      "Step [0/8]\t Computing features...\n",
      "Features shape (8192,)\n",
      "14\n",
      "Test NMI = 0.6039 ARI = 0.3130 F = 0.4347 ACC = 0.4264\n",
      "================================================================\n",
      "\n"
     ]
    },
    {
     "name": "stderr",
     "output_type": "stream",
     "text": [
      "C:\\Users\\Tom-G\\.conda\\envs\\torchenv\\lib\\site-packages\\torch\\nn\\modules\\container.py:141: UserWarning: Implicit dimension choice for softmax has been deprecated. Change the call to include dim=X as an argument.\n",
      "  input = module(input)\n"
     ]
    },
    {
     "name": "stdout",
     "output_type": "stream",
     "text": [
      "Step [0/8]\t loss_instance: 5.873510837554932\t loss_cluster: 1.5891659259796143\n",
      "Step [2/8]\t loss_instance: 5.858118057250977\t loss_cluster: 1.6070704460144043\n",
      "Step [4/8]\t loss_instance: 5.9061360359191895\t loss_cluster: 1.6138674020767212\n",
      "Step [6/8]\t loss_instance: 5.885256767272949\t loss_cluster: 1.6066030263900757\n",
      "\n",
      "Epoch [176/500]\t Loss: 7.4528848528862 \n",
      "\n",
      "Step [0/8]\t Computing features...\n",
      "Features shape (8192,)\n",
      "14\n",
      "Test NMI = 0.6067 ARI = 0.3155 F = 0.4379 ACC = 0.4238\n",
      "================================================================\n",
      "\n"
     ]
    },
    {
     "name": "stderr",
     "output_type": "stream",
     "text": [
      "C:\\Users\\Tom-G\\.conda\\envs\\torchenv\\lib\\site-packages\\torch\\nn\\modules\\container.py:141: UserWarning: Implicit dimension choice for softmax has been deprecated. Change the call to include dim=X as an argument.\n",
      "  input = module(input)\n"
     ]
    },
    {
     "name": "stdout",
     "output_type": "stream",
     "text": [
      "Step [0/8]\t loss_instance: 5.856526851654053\t loss_cluster: 1.5922671556472778\n",
      "Step [2/8]\t loss_instance: 5.8489837646484375\t loss_cluster: 1.5873123407363892\n",
      "Step [4/8]\t loss_instance: 5.843400001525879\t loss_cluster: 1.5766723155975342\n",
      "Step [6/8]\t loss_instance: 5.827236652374268\t loss_cluster: 1.570162057876587\n",
      "\n",
      "Epoch [177/500]\t Loss: 7.402580291032791 \n",
      "\n",
      "Step [0/8]\t Computing features...\n",
      "Features shape (8192,)\n",
      "14\n",
      "Test NMI = 0.6053 ARI = 0.3174 F = 0.4400 ACC = 0.4275\n",
      "================================================================\n",
      "\n"
     ]
    },
    {
     "name": "stderr",
     "output_type": "stream",
     "text": [
      "C:\\Users\\Tom-G\\.conda\\envs\\torchenv\\lib\\site-packages\\torch\\nn\\modules\\container.py:141: UserWarning: Implicit dimension choice for softmax has been deprecated. Change the call to include dim=X as an argument.\n",
      "  input = module(input)\n"
     ]
    },
    {
     "name": "stdout",
     "output_type": "stream",
     "text": [
      "Step [0/8]\t loss_instance: 5.830796241760254\t loss_cluster: 1.5669902563095093\n",
      "Step [2/8]\t loss_instance: 5.8212080001831055\t loss_cluster: 1.5583155155181885\n",
      "Step [4/8]\t loss_instance: 5.834421157836914\t loss_cluster: 1.5684622526168823\n",
      "Step [6/8]\t loss_instance: 5.832624912261963\t loss_cluster: 1.5543373823165894\n",
      "\n",
      "Epoch [178/500]\t Loss: 7.376695257425308 \n",
      "\n",
      "Step [0/8]\t Computing features...\n",
      "Features shape (8192,)\n",
      "14\n",
      "Test NMI = 0.6057 ARI = 0.3147 F = 0.4371 ACC = 0.4226\n",
      "================================================================\n",
      "\n"
     ]
    },
    {
     "name": "stderr",
     "output_type": "stream",
     "text": [
      "C:\\Users\\Tom-G\\.conda\\envs\\torchenv\\lib\\site-packages\\torch\\nn\\modules\\container.py:141: UserWarning: Implicit dimension choice for softmax has been deprecated. Change the call to include dim=X as an argument.\n",
      "  input = module(input)\n"
     ]
    },
    {
     "name": "stdout",
     "output_type": "stream",
     "text": [
      "Step [0/8]\t loss_instance: 5.821648120880127\t loss_cluster: 1.554221510887146\n",
      "Step [2/8]\t loss_instance: 5.8160600662231445\t loss_cluster: 1.5607048273086548\n",
      "Step [4/8]\t loss_instance: 5.829028129577637\t loss_cluster: 1.556422233581543\n",
      "Step [6/8]\t loss_instance: 5.834738731384277\t loss_cluster: 1.5569450855255127\n",
      "\n",
      "Epoch [179/500]\t Loss: 7.368313103914261 \n",
      "\n",
      "Step [0/8]\t Computing features...\n",
      "Features shape (8192,)\n",
      "14\n",
      "Test NMI = 0.6045 ARI = 0.3127 F = 0.4353 ACC = 0.4266\n",
      "================================================================\n",
      "\n"
     ]
    },
    {
     "name": "stderr",
     "output_type": "stream",
     "text": [
      "C:\\Users\\Tom-G\\.conda\\envs\\torchenv\\lib\\site-packages\\torch\\nn\\modules\\container.py:141: UserWarning: Implicit dimension choice for softmax has been deprecated. Change the call to include dim=X as an argument.\n",
      "  input = module(input)\n"
     ]
    },
    {
     "name": "stdout",
     "output_type": "stream",
     "text": [
      "Step [0/8]\t loss_instance: 5.788809299468994\t loss_cluster: 1.543652057647705\n",
      "Step [2/8]\t loss_instance: 5.801054954528809\t loss_cluster: 1.5462740659713745\n",
      "Step [4/8]\t loss_instance: 5.793163299560547\t loss_cluster: 1.5477683544158936\n",
      "Step [6/8]\t loss_instance: 5.803795337677002\t loss_cluster: 1.5489909648895264\n",
      "\n",
      "Epoch [180/500]\t Loss: 7.3431212425231935 \n",
      "\n",
      "Step [0/8]\t Computing features...\n",
      "Features shape (8192,)\n",
      "14\n",
      "Test NMI = 0.6053 ARI = 0.3160 F = 0.4381 ACC = 0.4276\n",
      "================================================================\n",
      "\n"
     ]
    },
    {
     "name": "stderr",
     "output_type": "stream",
     "text": [
      "C:\\Users\\Tom-G\\.conda\\envs\\torchenv\\lib\\site-packages\\torch\\nn\\modules\\container.py:141: UserWarning: Implicit dimension choice for softmax has been deprecated. Change the call to include dim=X as an argument.\n",
      "  input = module(input)\n"
     ]
    },
    {
     "name": "stdout",
     "output_type": "stream",
     "text": [
      "Step [0/8]\t loss_instance: 5.8248186111450195\t loss_cluster: 1.5550062656402588\n",
      "Step [2/8]\t loss_instance: 5.845385551452637\t loss_cluster: 1.5712813138961792\n",
      "Step [4/8]\t loss_instance: 5.859462261199951\t loss_cluster: 1.6067508459091187\n",
      "Step [6/8]\t loss_instance: 5.855134010314941\t loss_cluster: 1.5920263528823853\n",
      "\n",
      "Epoch [181/500]\t Loss: 7.4568719387054445 \n",
      "\n",
      "Step [0/8]\t Computing features...\n",
      "Features shape (8192,)\n",
      "14\n",
      "Test NMI = 0.6196 ARI = 0.3411 F = 0.4627 ACC = 0.4725\n",
      "================================================================\n",
      "\n"
     ]
    },
    {
     "name": "stderr",
     "output_type": "stream",
     "text": [
      "C:\\Users\\Tom-G\\.conda\\envs\\torchenv\\lib\\site-packages\\torch\\nn\\modules\\container.py:141: UserWarning: Implicit dimension choice for softmax has been deprecated. Change the call to include dim=X as an argument.\n",
      "  input = module(input)\n"
     ]
    },
    {
     "name": "stdout",
     "output_type": "stream",
     "text": [
      "Step [0/8]\t loss_instance: 5.903200149536133\t loss_cluster: 1.6556483507156372\n",
      "Step [2/8]\t loss_instance: 5.88881778717041\t loss_cluster: 1.606286883354187\n",
      "Step [4/8]\t loss_instance: 5.900664806365967\t loss_cluster: 1.6542588472366333\n",
      "Step [6/8]\t loss_instance: 5.854180812835693\t loss_cluster: 1.5854284763336182\n",
      "\n",
      "Epoch [182/500]\t Loss: 7.532916754484177 \n",
      "\n",
      "Step [0/8]\t Computing features...\n",
      "Features shape (8192,)\n",
      "14\n",
      "Test NMI = 0.6079 ARI = 0.3156 F = 0.4381 ACC = 0.4263\n",
      "================================================================\n",
      "\n"
     ]
    },
    {
     "name": "stderr",
     "output_type": "stream",
     "text": [
      "C:\\Users\\Tom-G\\.conda\\envs\\torchenv\\lib\\site-packages\\torch\\nn\\modules\\container.py:141: UserWarning: Implicit dimension choice for softmax has been deprecated. Change the call to include dim=X as an argument.\n",
      "  input = module(input)\n"
     ]
    },
    {
     "name": "stdout",
     "output_type": "stream",
     "text": [
      "Step [0/8]\t loss_instance: 5.8523454666137695\t loss_cluster: 1.5874837636947632\n",
      "Step [2/8]\t loss_instance: 5.841293811798096\t loss_cluster: 1.5818793773651123\n",
      "Step [4/8]\t loss_instance: 5.83321475982666\t loss_cluster: 1.5536715984344482\n",
      "Step [6/8]\t loss_instance: 5.83146858215332\t loss_cluster: 1.5684581995010376\n",
      "\n",
      "Epoch [183/500]\t Loss: 7.418849098682403 \n",
      "\n",
      "Step [0/8]\t Computing features...\n",
      "Features shape (8192,)\n",
      "14\n",
      "Test NMI = 0.6094 ARI = 0.3178 F = 0.4406 ACC = 0.4314\n",
      "================================================================\n",
      "\n"
     ]
    },
    {
     "name": "stderr",
     "output_type": "stream",
     "text": [
      "C:\\Users\\Tom-G\\.conda\\envs\\torchenv\\lib\\site-packages\\torch\\nn\\modules\\container.py:141: UserWarning: Implicit dimension choice for softmax has been deprecated. Change the call to include dim=X as an argument.\n",
      "  input = module(input)\n"
     ]
    },
    {
     "name": "stdout",
     "output_type": "stream",
     "text": [
      "Step [0/8]\t loss_instance: 5.8183088302612305\t loss_cluster: 1.5483055114746094\n",
      "Step [2/8]\t loss_instance: 5.804117202758789\t loss_cluster: 1.5477051734924316\n",
      "Step [4/8]\t loss_instance: 5.822784900665283\t loss_cluster: 1.5728917121887207\n",
      "Step [6/8]\t loss_instance: 5.812506675720215\t loss_cluster: 1.5628023147583008\n",
      "\n",
      "Epoch [184/500]\t Loss: 7.359773099422455 \n",
      "\n",
      "Step [0/8]\t Computing features...\n",
      "Features shape (8192,)\n",
      "14\n",
      "Test NMI = 0.6086 ARI = 0.3177 F = 0.4398 ACC = 0.4309\n",
      "================================================================\n",
      "\n"
     ]
    },
    {
     "name": "stderr",
     "output_type": "stream",
     "text": [
      "C:\\Users\\Tom-G\\.conda\\envs\\torchenv\\lib\\site-packages\\torch\\nn\\modules\\container.py:141: UserWarning: Implicit dimension choice for softmax has been deprecated. Change the call to include dim=X as an argument.\n",
      "  input = module(input)\n"
     ]
    },
    {
     "name": "stdout",
     "output_type": "stream",
     "text": [
      "Step [0/8]\t loss_instance: 5.800358772277832\t loss_cluster: 1.5468690395355225\n",
      "Step [2/8]\t loss_instance: 5.800721645355225\t loss_cluster: 1.5484613180160522\n",
      "Step [4/8]\t loss_instance: 5.79265022277832\t loss_cluster: 1.5523760318756104\n",
      "Step [6/8]\t loss_instance: 5.792232513427734\t loss_cluster: 1.5458098649978638\n",
      "\n",
      "Epoch [185/500]\t Loss: 7.33616271018982 \n",
      "\n",
      "Step [0/8]\t Computing features...\n",
      "Features shape (8192,)\n",
      "14\n",
      "Test NMI = 0.6044 ARI = 0.3124 F = 0.4346 ACC = 0.4240\n",
      "================================================================\n",
      "\n"
     ]
    },
    {
     "name": "stderr",
     "output_type": "stream",
     "text": [
      "C:\\Users\\Tom-G\\.conda\\envs\\torchenv\\lib\\site-packages\\torch\\nn\\modules\\container.py:141: UserWarning: Implicit dimension choice for softmax has been deprecated. Change the call to include dim=X as an argument.\n",
      "  input = module(input)\n"
     ]
    },
    {
     "name": "stdout",
     "output_type": "stream",
     "text": [
      "Step [0/8]\t loss_instance: 5.802907466888428\t loss_cluster: 1.5571008920669556\n",
      "Step [2/8]\t loss_instance: 5.812577724456787\t loss_cluster: 1.5410192012786865\n",
      "Step [4/8]\t loss_instance: 5.828847408294678\t loss_cluster: 1.5549160242080688\n",
      "Step [6/8]\t loss_instance: 5.803981304168701\t loss_cluster: 1.5453261137008667\n",
      "\n",
      "Epoch [186/500]\t Loss: 7.363184976577759 \n",
      "\n",
      "Step [0/8]\t Computing features...\n",
      "Features shape (8192,)\n",
      "14\n",
      "Test NMI = 0.6065 ARI = 0.3144 F = 0.4365 ACC = 0.4326\n",
      "================================================================\n",
      "\n"
     ]
    },
    {
     "name": "stderr",
     "output_type": "stream",
     "text": [
      "C:\\Users\\Tom-G\\.conda\\envs\\torchenv\\lib\\site-packages\\torch\\nn\\modules\\container.py:141: UserWarning: Implicit dimension choice for softmax has been deprecated. Change the call to include dim=X as an argument.\n",
      "  input = module(input)\n"
     ]
    },
    {
     "name": "stdout",
     "output_type": "stream",
     "text": [
      "Step [0/8]\t loss_instance: 5.8518805503845215\t loss_cluster: 1.5882798433303833\n",
      "Step [2/8]\t loss_instance: 5.834338188171387\t loss_cluster: 1.5592001676559448\n",
      "Step [4/8]\t loss_instance: 5.846044063568115\t loss_cluster: 1.5740379095077515\n",
      "Step [6/8]\t loss_instance: 5.844374179840088\t loss_cluster: 1.5734232664108276\n",
      "\n",
      "Epoch [187/500]\t Loss: 7.41104308962822 \n",
      "\n",
      "Step [0/8]\t Computing features...\n",
      "Features shape (8192,)\n",
      "14\n",
      "Test NMI = 0.6065 ARI = 0.3127 F = 0.4352 ACC = 0.4257\n",
      "================================================================\n",
      "\n"
     ]
    },
    {
     "name": "stderr",
     "output_type": "stream",
     "text": [
      "C:\\Users\\Tom-G\\.conda\\envs\\torchenv\\lib\\site-packages\\torch\\nn\\modules\\container.py:141: UserWarning: Implicit dimension choice for softmax has been deprecated. Change the call to include dim=X as an argument.\n",
      "  input = module(input)\n"
     ]
    },
    {
     "name": "stdout",
     "output_type": "stream",
     "text": [
      "Step [0/8]\t loss_instance: 5.8432135581970215\t loss_cluster: 1.5827984809875488\n",
      "Step [2/8]\t loss_instance: 5.812817096710205\t loss_cluster: 1.5505489110946655\n",
      "Step [4/8]\t loss_instance: 5.837348461151123\t loss_cluster: 1.5672425031661987\n",
      "Step [6/8]\t loss_instance: 5.816721439361572\t loss_cluster: 1.554893136024475\n",
      "\n",
      "Epoch [188/500]\t Loss: 7.392686766386032 \n",
      "\n",
      "Step [0/8]\t Computing features...\n",
      "Features shape (8192,)\n",
      "14\n",
      "Test NMI = 0.6009 ARI = 0.3060 F = 0.4286 ACC = 0.4202\n",
      "================================================================\n",
      "\n"
     ]
    },
    {
     "name": "stderr",
     "output_type": "stream",
     "text": [
      "C:\\Users\\Tom-G\\.conda\\envs\\torchenv\\lib\\site-packages\\torch\\nn\\modules\\container.py:141: UserWarning: Implicit dimension choice for softmax has been deprecated. Change the call to include dim=X as an argument.\n",
      "  input = module(input)\n"
     ]
    },
    {
     "name": "stdout",
     "output_type": "stream",
     "text": [
      "Step [0/8]\t loss_instance: 5.811047554016113\t loss_cluster: 1.560159683227539\n",
      "Step [2/8]\t loss_instance: 5.810446262359619\t loss_cluster: 1.5458208322525024\n",
      "Step [4/8]\t loss_instance: 5.799432277679443\t loss_cluster: 1.5486438274383545\n",
      "Step [6/8]\t loss_instance: 5.7942633628845215\t loss_cluster: 1.5566271543502808\n",
      "\n",
      "Epoch [189/500]\t Loss: 7.346343249082565 \n",
      "\n",
      "Step [0/8]\t Computing features...\n",
      "Features shape (8192,)\n",
      "14\n",
      "Test NMI = 0.6047 ARI = 0.3107 F = 0.4332 ACC = 0.4174\n",
      "================================================================\n",
      "\n"
     ]
    },
    {
     "name": "stderr",
     "output_type": "stream",
     "text": [
      "C:\\Users\\Tom-G\\.conda\\envs\\torchenv\\lib\\site-packages\\torch\\nn\\modules\\container.py:141: UserWarning: Implicit dimension choice for softmax has been deprecated. Change the call to include dim=X as an argument.\n",
      "  input = module(input)\n"
     ]
    },
    {
     "name": "stdout",
     "output_type": "stream",
     "text": [
      "Step [0/8]\t loss_instance: 5.801567077636719\t loss_cluster: 1.5413463115692139\n",
      "Step [2/8]\t loss_instance: 5.809881687164307\t loss_cluster: 1.5526717901229858\n",
      "Step [4/8]\t loss_instance: 5.802079200744629\t loss_cluster: 1.5468347072601318\n",
      "Step [6/8]\t loss_instance: 5.820799827575684\t loss_cluster: 1.5536824464797974\n",
      "\n",
      "Epoch [190/500]\t Loss: 7.354396384954453 \n",
      "\n",
      "Step [0/8]\t Computing features...\n",
      "Features shape (8192,)\n",
      "14\n",
      "Test NMI = 0.6053 ARI = 0.3134 F = 0.4353 ACC = 0.4299\n",
      "================================================================\n",
      "\n"
     ]
    },
    {
     "name": "stderr",
     "output_type": "stream",
     "text": [
      "C:\\Users\\Tom-G\\.conda\\envs\\torchenv\\lib\\site-packages\\torch\\nn\\modules\\container.py:141: UserWarning: Implicit dimension choice for softmax has been deprecated. Change the call to include dim=X as an argument.\n",
      "  input = module(input)\n"
     ]
    },
    {
     "name": "stdout",
     "output_type": "stream",
     "text": [
      "Step [0/8]\t loss_instance: 5.7973456382751465\t loss_cluster: 1.5432765483856201\n",
      "Step [2/8]\t loss_instance: 5.826992034912109\t loss_cluster: 1.568107008934021\n",
      "Step [4/8]\t loss_instance: 5.823458671569824\t loss_cluster: 1.549722671508789\n",
      "Step [6/8]\t loss_instance: 5.837172508239746\t loss_cluster: 1.5778483152389526\n",
      "\n",
      "Epoch [191/500]\t Loss: 7.367417573928833 \n",
      "\n",
      "Step [0/8]\t Computing features...\n",
      "Features shape (8192,)\n",
      "14\n",
      "Test NMI = 0.6027 ARI = 0.3095 F = 0.4318 ACC = 0.4293\n",
      "================================================================\n",
      "\n"
     ]
    },
    {
     "name": "stderr",
     "output_type": "stream",
     "text": [
      "C:\\Users\\Tom-G\\.conda\\envs\\torchenv\\lib\\site-packages\\torch\\nn\\modules\\container.py:141: UserWarning: Implicit dimension choice for softmax has been deprecated. Change the call to include dim=X as an argument.\n",
      "  input = module(input)\n"
     ]
    },
    {
     "name": "stdout",
     "output_type": "stream",
     "text": [
      "Step [0/8]\t loss_instance: 5.805129528045654\t loss_cluster: 1.5643807649612427\n",
      "Step [2/8]\t loss_instance: 5.814515113830566\t loss_cluster: 1.5655102729797363\n",
      "Step [4/8]\t loss_instance: 5.799901008605957\t loss_cluster: 1.5543056726455688\n",
      "Step [6/8]\t loss_instance: 5.828710556030273\t loss_cluster: 1.5786148309707642\n",
      "\n",
      "Epoch [192/500]\t Loss: 7.400672370195389 \n",
      "\n",
      "Step [0/8]\t Computing features...\n",
      "Features shape (8192,)\n",
      "14\n",
      "Test NMI = 0.6008 ARI = 0.3116 F = 0.4340 ACC = 0.4318\n",
      "================================================================\n",
      "\n"
     ]
    },
    {
     "name": "stderr",
     "output_type": "stream",
     "text": [
      "C:\\Users\\Tom-G\\.conda\\envs\\torchenv\\lib\\site-packages\\torch\\nn\\modules\\container.py:141: UserWarning: Implicit dimension choice for softmax has been deprecated. Change the call to include dim=X as an argument.\n",
      "  input = module(input)\n"
     ]
    },
    {
     "name": "stdout",
     "output_type": "stream",
     "text": [
      "Step [0/8]\t loss_instance: 5.847137928009033\t loss_cluster: 1.5759661197662354\n",
      "Step [2/8]\t loss_instance: 5.809364318847656\t loss_cluster: 1.5481361150741577\n",
      "Step [4/8]\t loss_instance: 5.809492588043213\t loss_cluster: 1.537081003189087\n",
      "Step [6/8]\t loss_instance: 5.804970741271973\t loss_cluster: 1.5375162363052368\n",
      "\n",
      "Epoch [193/500]\t Loss: 7.367457985877991 \n",
      "\n",
      "Step [0/8]\t Computing features...\n",
      "Features shape (8192,)\n",
      "14\n",
      "Test NMI = 0.6007 ARI = 0.3081 F = 0.4301 ACC = 0.4194\n",
      "================================================================\n",
      "\n"
     ]
    },
    {
     "name": "stderr",
     "output_type": "stream",
     "text": [
      "C:\\Users\\Tom-G\\.conda\\envs\\torchenv\\lib\\site-packages\\torch\\nn\\modules\\container.py:141: UserWarning: Implicit dimension choice for softmax has been deprecated. Change the call to include dim=X as an argument.\n",
      "  input = module(input)\n"
     ]
    },
    {
     "name": "stdout",
     "output_type": "stream",
     "text": [
      "Step [0/8]\t loss_instance: 5.809174060821533\t loss_cluster: 1.546492576599121\n",
      "Step [2/8]\t loss_instance: 5.791635990142822\t loss_cluster: 1.543946623802185\n",
      "Step [4/8]\t loss_instance: 5.8184943199157715\t loss_cluster: 1.5515938997268677\n",
      "Step [6/8]\t loss_instance: 5.811089038848877\t loss_cluster: 1.5372912883758545\n",
      "\n",
      "Epoch [194/500]\t Loss: 7.344929403066635 \n",
      "\n",
      "Step [0/8]\t Computing features...\n",
      "Features shape (8192,)\n",
      "14\n",
      "Test NMI = 0.6009 ARI = 0.3094 F = 0.4319 ACC = 0.4268\n",
      "================================================================\n",
      "\n"
     ]
    },
    {
     "name": "stderr",
     "output_type": "stream",
     "text": [
      "C:\\Users\\Tom-G\\.conda\\envs\\torchenv\\lib\\site-packages\\torch\\nn\\modules\\container.py:141: UserWarning: Implicit dimension choice for softmax has been deprecated. Change the call to include dim=X as an argument.\n",
      "  input = module(input)\n"
     ]
    },
    {
     "name": "stdout",
     "output_type": "stream",
     "text": [
      "Step [0/8]\t loss_instance: 5.794748306274414\t loss_cluster: 1.5374215841293335\n",
      "Step [2/8]\t loss_instance: 5.794296741485596\t loss_cluster: 1.5465441942214966\n",
      "Step [4/8]\t loss_instance: 5.7993083000183105\t loss_cluster: 1.5504120588302612\n",
      "Step [6/8]\t loss_instance: 5.816385269165039\t loss_cluster: 1.5389341115951538\n",
      "\n",
      "Epoch [195/500]\t Loss: 7.334843665361404 \n",
      "\n",
      "Step [0/8]\t Computing features...\n",
      "Features shape (8192,)\n",
      "14\n",
      "Test NMI = 0.5966 ARI = 0.3052 F = 0.4272 ACC = 0.4246\n",
      "================================================================\n",
      "\n"
     ]
    },
    {
     "name": "stderr",
     "output_type": "stream",
     "text": [
      "C:\\Users\\Tom-G\\.conda\\envs\\torchenv\\lib\\site-packages\\torch\\nn\\modules\\container.py:141: UserWarning: Implicit dimension choice for softmax has been deprecated. Change the call to include dim=X as an argument.\n",
      "  input = module(input)\n"
     ]
    },
    {
     "name": "stdout",
     "output_type": "stream",
     "text": [
      "Step [0/8]\t loss_instance: 5.7979207038879395\t loss_cluster: 1.5438464879989624\n",
      "Step [2/8]\t loss_instance: 5.799848556518555\t loss_cluster: 1.5477616786956787\n",
      "Step [4/8]\t loss_instance: 5.812657356262207\t loss_cluster: 1.5476032495498657\n",
      "Step [6/8]\t loss_instance: 5.799228668212891\t loss_cluster: 1.5364296436309814\n",
      "\n",
      "Epoch [196/500]\t Loss: 7.3417812287807465 \n",
      "\n",
      "Step [0/8]\t Computing features...\n",
      "Features shape (8192,)\n",
      "14\n",
      "Test NMI = 0.5990 ARI = 0.3077 F = 0.4304 ACC = 0.4282\n",
      "================================================================\n",
      "\n"
     ]
    },
    {
     "name": "stderr",
     "output_type": "stream",
     "text": [
      "C:\\Users\\Tom-G\\.conda\\envs\\torchenv\\lib\\site-packages\\torch\\nn\\modules\\container.py:141: UserWarning: Implicit dimension choice for softmax has been deprecated. Change the call to include dim=X as an argument.\n",
      "  input = module(input)\n"
     ]
    },
    {
     "name": "stdout",
     "output_type": "stream",
     "text": [
      "Step [0/8]\t loss_instance: 5.801010608673096\t loss_cluster: 1.5366528034210205\n",
      "Step [2/8]\t loss_instance: 5.798567771911621\t loss_cluster: 1.5422261953353882\n",
      "Step [4/8]\t loss_instance: 5.798962593078613\t loss_cluster: 1.539480447769165\n",
      "Step [6/8]\t loss_instance: 5.8117289543151855\t loss_cluster: 1.5425057411193848\n",
      "\n",
      "Epoch [197/500]\t Loss: 7.339143389463425 \n",
      "\n",
      "Step [0/8]\t Computing features...\n",
      "Features shape (8192,)\n",
      "14\n",
      "Test NMI = 0.5989 ARI = 0.3080 F = 0.4301 ACC = 0.4261\n",
      "================================================================\n",
      "\n"
     ]
    },
    {
     "name": "stderr",
     "output_type": "stream",
     "text": [
      "C:\\Users\\Tom-G\\.conda\\envs\\torchenv\\lib\\site-packages\\torch\\nn\\modules\\container.py:141: UserWarning: Implicit dimension choice for softmax has been deprecated. Change the call to include dim=X as an argument.\n",
      "  input = module(input)\n"
     ]
    },
    {
     "name": "stdout",
     "output_type": "stream",
     "text": [
      "Step [0/8]\t loss_instance: 5.7977495193481445\t loss_cluster: 1.537146806716919\n",
      "Step [2/8]\t loss_instance: 5.809147834777832\t loss_cluster: 1.5537296533584595\n",
      "Step [4/8]\t loss_instance: 5.797661304473877\t loss_cluster: 1.5462712049484253\n",
      "Step [6/8]\t loss_instance: 5.795176029205322\t loss_cluster: 1.5385013818740845\n",
      "\n",
      "Epoch [198/500]\t Loss: 7.34035691022873 \n",
      "\n",
      "Step [0/8]\t Computing features...\n",
      "Features shape (8192,)\n",
      "14\n",
      "Test NMI = 0.5972 ARI = 0.3050 F = 0.4274 ACC = 0.4192\n",
      "================================================================\n",
      "\n"
     ]
    },
    {
     "name": "stderr",
     "output_type": "stream",
     "text": [
      "C:\\Users\\Tom-G\\.conda\\envs\\torchenv\\lib\\site-packages\\torch\\nn\\modules\\container.py:141: UserWarning: Implicit dimension choice for softmax has been deprecated. Change the call to include dim=X as an argument.\n",
      "  input = module(input)\n"
     ]
    },
    {
     "name": "stdout",
     "output_type": "stream",
     "text": [
      "Step [0/8]\t loss_instance: 5.8161091804504395\t loss_cluster: 1.5583668947219849\n",
      "Step [2/8]\t loss_instance: 5.808870792388916\t loss_cluster: 1.5407483577728271\n",
      "Step [4/8]\t loss_instance: 5.800522804260254\t loss_cluster: 1.5661358833312988\n",
      "Step [6/8]\t loss_instance: 5.798835754394531\t loss_cluster: 1.5394706726074219\n",
      "\n",
      "Epoch [199/500]\t Loss: 7.34592325091362 \n",
      "\n",
      "Step [0/8]\t Computing features...\n",
      "Features shape (8192,)\n",
      "14\n",
      "Test NMI = 0.5951 ARI = 0.3040 F = 0.4260 ACC = 0.4249\n",
      "================================================================\n",
      "\n"
     ]
    },
    {
     "name": "stderr",
     "output_type": "stream",
     "text": [
      "C:\\Users\\Tom-G\\.conda\\envs\\torchenv\\lib\\site-packages\\torch\\nn\\modules\\container.py:141: UserWarning: Implicit dimension choice for softmax has been deprecated. Change the call to include dim=X as an argument.\n",
      "  input = module(input)\n"
     ]
    },
    {
     "name": "stdout",
     "output_type": "stream",
     "text": [
      "Step [0/8]\t loss_instance: 5.7696943283081055\t loss_cluster: 1.5335394144058228\n",
      "Step [2/8]\t loss_instance: 5.787572860717773\t loss_cluster: 1.5349092483520508\n",
      "Step [4/8]\t loss_instance: 5.789465427398682\t loss_cluster: 1.5339866876602173\n",
      "Step [6/8]\t loss_instance: 5.793607711791992\t loss_cluster: 1.544510006904602\n",
      "\n",
      "Epoch [200/500]\t Loss: 7.31935116648674 \n",
      "\n",
      "Step [0/8]\t Computing features...\n",
      "Features shape (8192,)\n",
      "14\n",
      "Test NMI = 0.5968 ARI = 0.3040 F = 0.4264 ACC = 0.4250\n",
      "================================================================\n",
      "\n"
     ]
    },
    {
     "name": "stderr",
     "output_type": "stream",
     "text": [
      "C:\\Users\\Tom-G\\.conda\\envs\\torchenv\\lib\\site-packages\\torch\\nn\\modules\\container.py:141: UserWarning: Implicit dimension choice for softmax has been deprecated. Change the call to include dim=X as an argument.\n",
      "  input = module(input)\n"
     ]
    },
    {
     "name": "stdout",
     "output_type": "stream",
     "text": [
      "Step [0/8]\t loss_instance: 5.825861930847168\t loss_cluster: 1.562477707862854\n",
      "Step [2/8]\t loss_instance: 5.857726573944092\t loss_cluster: 1.5798534154891968\n",
      "Step [4/8]\t loss_instance: 5.861636161804199\t loss_cluster: 1.6436283588409424\n",
      "Step [6/8]\t loss_instance: 5.891133785247803\t loss_cluster: 1.6592363119125366\n",
      "\n",
      "Epoch [201/500]\t Loss: 7.503903257846832 \n",
      "\n",
      "Step [0/8]\t Computing features...\n",
      "Features shape (8192,)\n",
      "14\n",
      "Test NMI = 0.6042 ARI = 0.3171 F = 0.4387 ACC = 0.4271\n",
      "================================================================\n",
      "\n"
     ]
    },
    {
     "name": "stderr",
     "output_type": "stream",
     "text": [
      "C:\\Users\\Tom-G\\.conda\\envs\\torchenv\\lib\\site-packages\\torch\\nn\\modules\\container.py:141: UserWarning: Implicit dimension choice for softmax has been deprecated. Change the call to include dim=X as an argument.\n",
      "  input = module(input)\n"
     ]
    },
    {
     "name": "stdout",
     "output_type": "stream",
     "text": [
      "Step [0/8]\t loss_instance: 5.884222984313965\t loss_cluster: 1.5981425046920776\n",
      "Step [2/8]\t loss_instance: 5.872888088226318\t loss_cluster: 1.5792354345321655\n",
      "Step [4/8]\t loss_instance: 5.838409900665283\t loss_cluster: 1.5668680667877197\n",
      "Step [6/8]\t loss_instance: 5.836638927459717\t loss_cluster: 1.5531933307647705\n",
      "\n",
      "Epoch [202/500]\t Loss: 7.422871255874634 \n",
      "\n",
      "Step [0/8]\t Computing features...\n",
      "Features shape (8192,)\n",
      "14\n",
      "Test NMI = 0.5939 ARI = 0.3050 F = 0.4267 ACC = 0.4235\n",
      "================================================================\n",
      "\n"
     ]
    },
    {
     "name": "stderr",
     "output_type": "stream",
     "text": [
      "C:\\Users\\Tom-G\\.conda\\envs\\torchenv\\lib\\site-packages\\torch\\nn\\modules\\container.py:141: UserWarning: Implicit dimension choice for softmax has been deprecated. Change the call to include dim=X as an argument.\n",
      "  input = module(input)\n"
     ]
    },
    {
     "name": "stdout",
     "output_type": "stream",
     "text": [
      "Step [0/8]\t loss_instance: 5.815810680389404\t loss_cluster: 1.5573647022247314\n",
      "Step [2/8]\t loss_instance: 5.828733921051025\t loss_cluster: 1.552010416984558\n",
      "Step [4/8]\t loss_instance: 5.794230937957764\t loss_cluster: 1.5405919551849365\n",
      "Step [6/8]\t loss_instance: 5.804989337921143\t loss_cluster: 1.5535438060760498\n",
      "\n",
      "Epoch [203/500]\t Loss: 7.356990700960159 \n",
      "\n",
      "Step [0/8]\t Computing features...\n",
      "Features shape (8192,)\n",
      "14\n",
      "Test NMI = 0.6017 ARI = 0.3119 F = 0.4345 ACC = 0.4248\n",
      "================================================================\n",
      "\n"
     ]
    },
    {
     "name": "stderr",
     "output_type": "stream",
     "text": [
      "C:\\Users\\Tom-G\\.conda\\envs\\torchenv\\lib\\site-packages\\torch\\nn\\modules\\container.py:141: UserWarning: Implicit dimension choice for softmax has been deprecated. Change the call to include dim=X as an argument.\n",
      "  input = module(input)\n"
     ]
    },
    {
     "name": "stdout",
     "output_type": "stream",
     "text": [
      "Step [0/8]\t loss_instance: 5.8163533210754395\t loss_cluster: 1.5605974197387695\n",
      "Step [2/8]\t loss_instance: 5.803189754486084\t loss_cluster: 1.546207070350647\n",
      "Step [4/8]\t loss_instance: 5.80756950378418\t loss_cluster: 1.563357949256897\n",
      "Step [6/8]\t loss_instance: 5.819790363311768\t loss_cluster: 1.5599247217178345\n",
      "\n",
      "Epoch [204/500]\t Loss: 7.352906143665313 \n",
      "\n",
      "Step [0/8]\t Computing features...\n",
      "Features shape (8192,)\n",
      "14\n",
      "Test NMI = 0.5924 ARI = 0.3010 F = 0.4230 ACC = 0.4188\n",
      "================================================================\n",
      "\n"
     ]
    },
    {
     "name": "stderr",
     "output_type": "stream",
     "text": [
      "C:\\Users\\Tom-G\\.conda\\envs\\torchenv\\lib\\site-packages\\torch\\nn\\modules\\container.py:141: UserWarning: Implicit dimension choice for softmax has been deprecated. Change the call to include dim=X as an argument.\n",
      "  input = module(input)\n"
     ]
    },
    {
     "name": "stdout",
     "output_type": "stream",
     "text": [
      "Step [0/8]\t loss_instance: 5.799481391906738\t loss_cluster: 1.5428961515426636\n",
      "Step [2/8]\t loss_instance: 5.808590888977051\t loss_cluster: 1.5431426763534546\n",
      "Step [4/8]\t loss_instance: 5.7987189292907715\t loss_cluster: 1.5473905801773071\n",
      "Step [6/8]\t loss_instance: 5.816323757171631\t loss_cluster: 1.5548484325408936\n",
      "\n",
      "Epoch [205/500]\t Loss: 7.349766141176223 \n",
      "\n",
      "Step [0/8]\t Computing features...\n",
      "Features shape (8192,)\n",
      "14\n",
      "Test NMI = 0.5906 ARI = 0.3029 F = 0.4248 ACC = 0.4304\n",
      "================================================================\n",
      "\n"
     ]
    },
    {
     "name": "stderr",
     "output_type": "stream",
     "text": [
      "C:\\Users\\Tom-G\\.conda\\envs\\torchenv\\lib\\site-packages\\torch\\nn\\modules\\container.py:141: UserWarning: Implicit dimension choice for softmax has been deprecated. Change the call to include dim=X as an argument.\n",
      "  input = module(input)\n"
     ]
    },
    {
     "name": "stdout",
     "output_type": "stream",
     "text": [
      "Step [0/8]\t loss_instance: 5.801121711730957\t loss_cluster: 1.5551987886428833\n",
      "Step [2/8]\t loss_instance: 5.807811737060547\t loss_cluster: 1.5526976585388184\n",
      "Step [4/8]\t loss_instance: 5.802060604095459\t loss_cluster: 1.554197907447815\n",
      "Step [6/8]\t loss_instance: 5.790937423706055\t loss_cluster: 1.549742579460144\n",
      "\n",
      "Epoch [206/500]\t Loss: 7.336935794353485 \n",
      "\n",
      "Step [0/8]\t Computing features...\n",
      "Features shape (8192,)\n",
      "14\n",
      "Test NMI = 0.5963 ARI = 0.3078 F = 0.4301 ACC = 0.4321\n",
      "================================================================\n",
      "\n"
     ]
    },
    {
     "name": "stderr",
     "output_type": "stream",
     "text": [
      "C:\\Users\\Tom-G\\.conda\\envs\\torchenv\\lib\\site-packages\\torch\\nn\\modules\\container.py:141: UserWarning: Implicit dimension choice for softmax has been deprecated. Change the call to include dim=X as an argument.\n",
      "  input = module(input)\n"
     ]
    },
    {
     "name": "stdout",
     "output_type": "stream",
     "text": [
      "Step [0/8]\t loss_instance: 5.8223161697387695\t loss_cluster: 1.5503431558609009\n",
      "Step [2/8]\t loss_instance: 5.792054653167725\t loss_cluster: 1.5425631999969482\n",
      "Step [4/8]\t loss_instance: 5.8134765625\t loss_cluster: 1.5561110973358154\n",
      "Step [6/8]\t loss_instance: 5.7908782958984375\t loss_cluster: 1.5468440055847168\n",
      "\n",
      "Epoch [207/500]\t Loss: 7.340405130386353 \n",
      "\n",
      "Step [0/8]\t Computing features...\n",
      "Features shape (8192,)\n",
      "14\n",
      "Test NMI = 0.5929 ARI = 0.3056 F = 0.4278 ACC = 0.4314\n",
      "================================================================\n",
      "\n"
     ]
    },
    {
     "name": "stderr",
     "output_type": "stream",
     "text": [
      "C:\\Users\\Tom-G\\.conda\\envs\\torchenv\\lib\\site-packages\\torch\\nn\\modules\\container.py:141: UserWarning: Implicit dimension choice for softmax has been deprecated. Change the call to include dim=X as an argument.\n",
      "  input = module(input)\n"
     ]
    },
    {
     "name": "stdout",
     "output_type": "stream",
     "text": [
      "Step [0/8]\t loss_instance: 5.795005798339844\t loss_cluster: 1.5390373468399048\n",
      "Step [2/8]\t loss_instance: 5.801853179931641\t loss_cluster: 1.543976068496704\n",
      "Step [4/8]\t loss_instance: 5.798552513122559\t loss_cluster: 1.5384434461593628\n",
      "Step [6/8]\t loss_instance: 5.805572509765625\t loss_cluster: 1.5463457107543945\n",
      "\n",
      "Epoch [208/500]\t Loss: 7.34253688454628 \n",
      "\n",
      "Step [0/8]\t Computing features...\n",
      "Features shape (8192,)\n",
      "14\n",
      "Test NMI = 0.5941 ARI = 0.3050 F = 0.4273 ACC = 0.4314\n",
      "================================================================\n",
      "\n"
     ]
    },
    {
     "name": "stderr",
     "output_type": "stream",
     "text": [
      "C:\\Users\\Tom-G\\.conda\\envs\\torchenv\\lib\\site-packages\\torch\\nn\\modules\\container.py:141: UserWarning: Implicit dimension choice for softmax has been deprecated. Change the call to include dim=X as an argument.\n",
      "  input = module(input)\n"
     ]
    },
    {
     "name": "stdout",
     "output_type": "stream",
     "text": [
      "Step [0/8]\t loss_instance: 5.802645206451416\t loss_cluster: 1.5385799407958984\n",
      "Step [2/8]\t loss_instance: 5.8016157150268555\t loss_cluster: 1.5433552265167236\n",
      "Step [4/8]\t loss_instance: 5.801990985870361\t loss_cluster: 1.5469588041305542\n",
      "Step [6/8]\t loss_instance: 5.80355167388916\t loss_cluster: 1.5579560995101929\n",
      "\n",
      "Epoch [209/500]\t Loss: 7.332884681224823 \n",
      "\n",
      "Step [0/8]\t Computing features...\n",
      "Features shape (8192,)\n",
      "14\n",
      "Test NMI = 0.5950 ARI = 0.3080 F = 0.4299 ACC = 0.4369\n",
      "================================================================\n",
      "\n"
     ]
    },
    {
     "name": "stderr",
     "output_type": "stream",
     "text": [
      "C:\\Users\\Tom-G\\.conda\\envs\\torchenv\\lib\\site-packages\\torch\\nn\\modules\\container.py:141: UserWarning: Implicit dimension choice for softmax has been deprecated. Change the call to include dim=X as an argument.\n",
      "  input = module(input)\n"
     ]
    },
    {
     "name": "stdout",
     "output_type": "stream",
     "text": [
      "Step [0/8]\t loss_instance: 5.795476913452148\t loss_cluster: 1.5368589162826538\n",
      "Step [2/8]\t loss_instance: 5.795855522155762\t loss_cluster: 1.5420440435409546\n",
      "Step [4/8]\t loss_instance: 5.823222637176514\t loss_cluster: 1.5511538982391357\n",
      "Step [6/8]\t loss_instance: 5.830848217010498\t loss_cluster: 1.5524873733520508\n",
      "\n",
      "Epoch [210/500]\t Loss: 7.3335723042488095 \n",
      "\n",
      "Step [0/8]\t Computing features...\n",
      "Features shape (8192,)\n",
      "14\n",
      "Test NMI = 0.5941 ARI = 0.3053 F = 0.4282 ACC = 0.4308\n",
      "================================================================\n",
      "\n"
     ]
    },
    {
     "name": "stderr",
     "output_type": "stream",
     "text": [
      "C:\\Users\\Tom-G\\.conda\\envs\\torchenv\\lib\\site-packages\\torch\\nn\\modules\\container.py:141: UserWarning: Implicit dimension choice for softmax has been deprecated. Change the call to include dim=X as an argument.\n",
      "  input = module(input)\n"
     ]
    },
    {
     "name": "stdout",
     "output_type": "stream",
     "text": [
      "Step [0/8]\t loss_instance: 5.80560827255249\t loss_cluster: 1.5427085161209106\n",
      "Step [2/8]\t loss_instance: 5.805953502655029\t loss_cluster: 1.5542645454406738\n",
      "Step [4/8]\t loss_instance: 5.795670032501221\t loss_cluster: 1.5350314378738403\n",
      "Step [6/8]\t loss_instance: 5.792520523071289\t loss_cluster: 1.54103422164917\n",
      "\n",
      "Epoch [211/500]\t Loss: 7.334720283746719 \n",
      "\n",
      "Step [0/8]\t Computing features...\n",
      "Features shape (8192,)\n",
      "14\n",
      "Test NMI = 0.5942 ARI = 0.3065 F = 0.4293 ACC = 0.4336\n",
      "================================================================\n",
      "\n"
     ]
    },
    {
     "name": "stderr",
     "output_type": "stream",
     "text": [
      "C:\\Users\\Tom-G\\.conda\\envs\\torchenv\\lib\\site-packages\\torch\\nn\\modules\\container.py:141: UserWarning: Implicit dimension choice for softmax has been deprecated. Change the call to include dim=X as an argument.\n",
      "  input = module(input)\n"
     ]
    },
    {
     "name": "stdout",
     "output_type": "stream",
     "text": [
      "Step [0/8]\t loss_instance: 5.818103313446045\t loss_cluster: 1.5538012981414795\n",
      "Step [2/8]\t loss_instance: 5.797703742980957\t loss_cluster: 1.538610577583313\n",
      "Step [4/8]\t loss_instance: 5.803380012512207\t loss_cluster: 1.5459786653518677\n",
      "Step [6/8]\t loss_instance: 5.8105950355529785\t loss_cluster: 1.5559993982315063\n",
      "\n",
      "Epoch [212/500]\t Loss: 7.348545342683792 \n",
      "\n",
      "Step [0/8]\t Computing features...\n",
      "Features shape (8192,)\n",
      "14\n",
      "Test NMI = 0.6132 ARI = 0.3304 F = 0.4525 ACC = 0.4524\n",
      "================================================================\n",
      "\n"
     ]
    },
    {
     "name": "stderr",
     "output_type": "stream",
     "text": [
      "C:\\Users\\Tom-G\\.conda\\envs\\torchenv\\lib\\site-packages\\torch\\nn\\modules\\container.py:141: UserWarning: Implicit dimension choice for softmax has been deprecated. Change the call to include dim=X as an argument.\n",
      "  input = module(input)\n"
     ]
    },
    {
     "name": "stdout",
     "output_type": "stream",
     "text": [
      "Step [0/8]\t loss_instance: 5.840389728546143\t loss_cluster: 1.5670336484909058\n",
      "Step [2/8]\t loss_instance: 5.820677280426025\t loss_cluster: 1.568032145500183\n",
      "Step [4/8]\t loss_instance: 5.816895484924316\t loss_cluster: 1.550520420074463\n",
      "Step [6/8]\t loss_instance: 5.804776191711426\t loss_cluster: 1.5437334775924683\n",
      "\n",
      "Epoch [213/500]\t Loss: 7.366171991825103 \n",
      "\n",
      "Step [0/8]\t Computing features...\n",
      "Features shape (8192,)\n",
      "14\n",
      "Test NMI = 0.5997 ARI = 0.3127 F = 0.4354 ACC = 0.4384\n",
      "================================================================\n",
      "\n"
     ]
    },
    {
     "name": "stderr",
     "output_type": "stream",
     "text": [
      "C:\\Users\\Tom-G\\.conda\\envs\\torchenv\\lib\\site-packages\\torch\\nn\\modules\\container.py:141: UserWarning: Implicit dimension choice for softmax has been deprecated. Change the call to include dim=X as an argument.\n",
      "  input = module(input)\n"
     ]
    },
    {
     "name": "stdout",
     "output_type": "stream",
     "text": [
      "Step [0/8]\t loss_instance: 5.811856269836426\t loss_cluster: 1.5502208471298218\n",
      "Step [2/8]\t loss_instance: 5.831014633178711\t loss_cluster: 1.5618329048156738\n",
      "Step [4/8]\t loss_instance: 5.809027194976807\t loss_cluster: 1.5505826473236084\n",
      "Step [6/8]\t loss_instance: 5.809479713439941\t loss_cluster: 1.551980972290039\n",
      "\n",
      "Epoch [214/500]\t Loss: 7.358243650197982 \n",
      "\n",
      "Step [0/8]\t Computing features...\n",
      "Features shape (8192,)\n",
      "14\n",
      "Test NMI = 0.6018 ARI = 0.3169 F = 0.4399 ACC = 0.4396\n",
      "================================================================\n",
      "\n"
     ]
    },
    {
     "name": "stderr",
     "output_type": "stream",
     "text": [
      "C:\\Users\\Tom-G\\.conda\\envs\\torchenv\\lib\\site-packages\\torch\\nn\\modules\\container.py:141: UserWarning: Implicit dimension choice for softmax has been deprecated. Change the call to include dim=X as an argument.\n",
      "  input = module(input)\n"
     ]
    },
    {
     "name": "stdout",
     "output_type": "stream",
     "text": [
      "Step [0/8]\t loss_instance: 5.798326015472412\t loss_cluster: 1.5439561605453491\n",
      "Step [2/8]\t loss_instance: 5.840389728546143\t loss_cluster: 1.5664989948272705\n",
      "Step [4/8]\t loss_instance: 5.816927909851074\t loss_cluster: 1.5521918535232544\n",
      "Step [6/8]\t loss_instance: 5.817443370819092\t loss_cluster: 1.5460100173950195\n",
      "\n",
      "Epoch [215/500]\t Loss: 7.361597043275833 \n",
      "\n",
      "Step [0/8]\t Computing features...\n",
      "Features shape (8192,)\n",
      "14\n",
      "Test NMI = 0.6053 ARI = 0.3209 F = 0.4431 ACC = 0.4453\n",
      "================================================================\n",
      "\n"
     ]
    },
    {
     "name": "stderr",
     "output_type": "stream",
     "text": [
      "C:\\Users\\Tom-G\\.conda\\envs\\torchenv\\lib\\site-packages\\torch\\nn\\modules\\container.py:141: UserWarning: Implicit dimension choice for softmax has been deprecated. Change the call to include dim=X as an argument.\n",
      "  input = module(input)\n"
     ]
    },
    {
     "name": "stdout",
     "output_type": "stream",
     "text": [
      "Step [0/8]\t loss_instance: 5.843217849731445\t loss_cluster: 1.5469186305999756\n",
      "Step [2/8]\t loss_instance: 5.826817512512207\t loss_cluster: 1.571304202079773\n",
      "Step [4/8]\t loss_instance: 5.813272476196289\t loss_cluster: 1.5448095798492432\n",
      "Step [6/8]\t loss_instance: 5.801059246063232\t loss_cluster: 1.5385007858276367\n",
      "\n",
      "Epoch [216/500]\t Loss: 7.356373125314713 \n",
      "\n",
      "Step [0/8]\t Computing features...\n",
      "Features shape (8192,)\n",
      "14\n",
      "Test NMI = 0.6106 ARI = 0.3259 F = 0.4480 ACC = 0.4489\n",
      "================================================================\n",
      "\n"
     ]
    },
    {
     "name": "stderr",
     "output_type": "stream",
     "text": [
      "C:\\Users\\Tom-G\\.conda\\envs\\torchenv\\lib\\site-packages\\torch\\nn\\modules\\container.py:141: UserWarning: Implicit dimension choice for softmax has been deprecated. Change the call to include dim=X as an argument.\n",
      "  input = module(input)\n"
     ]
    },
    {
     "name": "stdout",
     "output_type": "stream",
     "text": [
      "Step [0/8]\t loss_instance: 5.811100482940674\t loss_cluster: 1.5428751707077026\n",
      "Step [2/8]\t loss_instance: 5.818655967712402\t loss_cluster: 1.549036979675293\n",
      "Step [4/8]\t loss_instance: 5.804576396942139\t loss_cluster: 1.5457868576049805\n",
      "Step [6/8]\t loss_instance: 5.8099260330200195\t loss_cluster: 1.5495762825012207\n",
      "\n",
      "Epoch [217/500]\t Loss: 7.355576592683792 \n",
      "\n",
      "Step [0/8]\t Computing features...\n",
      "Features shape (8192,)\n",
      "14\n",
      "Test NMI = 0.6105 ARI = 0.3258 F = 0.4481 ACC = 0.4517\n",
      "================================================================\n",
      "\n"
     ]
    },
    {
     "name": "stderr",
     "output_type": "stream",
     "text": [
      "C:\\Users\\Tom-G\\.conda\\envs\\torchenv\\lib\\site-packages\\torch\\nn\\modules\\container.py:141: UserWarning: Implicit dimension choice for softmax has been deprecated. Change the call to include dim=X as an argument.\n",
      "  input = module(input)\n"
     ]
    },
    {
     "name": "stdout",
     "output_type": "stream",
     "text": [
      "Step [0/8]\t loss_instance: 5.830283164978027\t loss_cluster: 1.5552955865859985\n",
      "Step [2/8]\t loss_instance: 5.857983112335205\t loss_cluster: 1.5876959562301636\n",
      "Step [4/8]\t loss_instance: 5.848522663116455\t loss_cluster: 1.5967029333114624\n",
      "Step [6/8]\t loss_instance: 5.951872825622559\t loss_cluster: 1.6641734838485718\n",
      "\n",
      "Epoch [218/500]\t Loss: 7.485916781425476 \n",
      "\n",
      "Step [0/8]\t Computing features...\n",
      "Features shape (8192,)\n",
      "14\n",
      "Test NMI = 0.6311 ARI = 0.3579 F = 0.4774 ACC = 0.4513\n",
      "================================================================\n",
      "\n"
     ]
    },
    {
     "name": "stderr",
     "output_type": "stream",
     "text": [
      "C:\\Users\\Tom-G\\.conda\\envs\\torchenv\\lib\\site-packages\\torch\\nn\\modules\\container.py:141: UserWarning: Implicit dimension choice for softmax has been deprecated. Change the call to include dim=X as an argument.\n",
      "  input = module(input)\n"
     ]
    },
    {
     "name": "stdout",
     "output_type": "stream",
     "text": [
      "Step [0/8]\t loss_instance: 5.958539009094238\t loss_cluster: 1.684065818786621\n",
      "Step [2/8]\t loss_instance: 5.953343391418457\t loss_cluster: 1.744228720664978\n",
      "Step [4/8]\t loss_instance: 5.937972545623779\t loss_cluster: 1.7824820280075073\n",
      "Step [6/8]\t loss_instance: 5.919487953186035\t loss_cluster: 1.664552927017212\n",
      "\n",
      "Epoch [219/500]\t Loss: 7.667857277393341 \n",
      "\n",
      "Step [0/8]\t Computing features...\n",
      "Features shape (8192,)\n",
      "14\n",
      "Test NMI = 0.6189 ARI = 0.3418 F = 0.4635 ACC = 0.4701\n",
      "================================================================\n",
      "\n"
     ]
    },
    {
     "name": "stderr",
     "output_type": "stream",
     "text": [
      "C:\\Users\\Tom-G\\.conda\\envs\\torchenv\\lib\\site-packages\\torch\\nn\\modules\\container.py:141: UserWarning: Implicit dimension choice for softmax has been deprecated. Change the call to include dim=X as an argument.\n",
      "  input = module(input)\n"
     ]
    },
    {
     "name": "stdout",
     "output_type": "stream",
     "text": [
      "Step [0/8]\t loss_instance: 5.818783760070801\t loss_cluster: 1.5481996536254883\n",
      "Step [2/8]\t loss_instance: 5.83529806137085\t loss_cluster: 1.5686554908752441\n",
      "Step [4/8]\t loss_instance: 5.881986618041992\t loss_cluster: 1.5955647230148315\n",
      "Step [6/8]\t loss_instance: 5.922316551208496\t loss_cluster: 1.6499383449554443\n",
      "\n",
      "Epoch [220/500]\t Loss: 7.481495356559753 \n",
      "\n",
      "Step [0/8]\t Computing features...\n",
      "Features shape (8192,)\n",
      "14\n",
      "Test NMI = 0.6214 ARI = 0.3489 F = 0.4694 ACC = 0.4889\n",
      "================================================================\n",
      "\n"
     ]
    },
    {
     "name": "stderr",
     "output_type": "stream",
     "text": [
      "C:\\Users\\Tom-G\\.conda\\envs\\torchenv\\lib\\site-packages\\torch\\nn\\modules\\container.py:141: UserWarning: Implicit dimension choice for softmax has been deprecated. Change the call to include dim=X as an argument.\n",
      "  input = module(input)\n"
     ]
    },
    {
     "name": "stdout",
     "output_type": "stream",
     "text": [
      "Step [0/8]\t loss_instance: 5.943149089813232\t loss_cluster: 1.7617024183273315\n",
      "Step [2/8]\t loss_instance: 5.950902462005615\t loss_cluster: 1.6549413204193115\n",
      "Step [4/8]\t loss_instance: 5.902860641479492\t loss_cluster: 1.6447604894638062\n",
      "Step [6/8]\t loss_instance: 5.898467063903809\t loss_cluster: 1.5964466333389282\n",
      "\n",
      "Epoch [221/500]\t Loss: 7.582707023620605 \n",
      "\n",
      "Step [0/8]\t Computing features...\n",
      "Features shape (8192,)\n",
      "14\n",
      "Test NMI = 0.6081 ARI = 0.3177 F = 0.4405 ACC = 0.4332\n",
      "================================================================\n",
      "\n"
     ]
    },
    {
     "name": "stderr",
     "output_type": "stream",
     "text": [
      "C:\\Users\\Tom-G\\.conda\\envs\\torchenv\\lib\\site-packages\\torch\\nn\\modules\\container.py:141: UserWarning: Implicit dimension choice for softmax has been deprecated. Change the call to include dim=X as an argument.\n",
      "  input = module(input)\n"
     ]
    },
    {
     "name": "stdout",
     "output_type": "stream",
     "text": [
      "Step [0/8]\t loss_instance: 5.86452579498291\t loss_cluster: 1.561156153678894\n",
      "Step [2/8]\t loss_instance: 5.843001365661621\t loss_cluster: 1.5573110580444336\n",
      "Step [4/8]\t loss_instance: 5.851509094238281\t loss_cluster: 1.563759446144104\n",
      "Step [6/8]\t loss_instance: 5.85870361328125\t loss_cluster: 1.5958096981048584\n",
      "\n",
      "Epoch [222/500]\t Loss: 7.402279597520828 \n",
      "\n",
      "Step [0/8]\t Computing features...\n",
      "Features shape (8192,)\n",
      "14\n",
      "Test NMI = 0.6152 ARI = 0.3274 F = 0.4500 ACC = 0.4431\n",
      "================================================================\n",
      "\n"
     ]
    },
    {
     "name": "stderr",
     "output_type": "stream",
     "text": [
      "C:\\Users\\Tom-G\\.conda\\envs\\torchenv\\lib\\site-packages\\torch\\nn\\modules\\container.py:141: UserWarning: Implicit dimension choice for softmax has been deprecated. Change the call to include dim=X as an argument.\n",
      "  input = module(input)\n"
     ]
    },
    {
     "name": "stdout",
     "output_type": "stream",
     "text": [
      "Step [0/8]\t loss_instance: 5.873506546020508\t loss_cluster: 1.5938794612884521\n",
      "Step [2/8]\t loss_instance: 5.871631145477295\t loss_cluster: 1.591431975364685\n",
      "Step [4/8]\t loss_instance: 5.877961158752441\t loss_cluster: 1.6186164617538452\n",
      "Step [6/8]\t loss_instance: 5.863352298736572\t loss_cluster: 1.598433256149292\n",
      "\n",
      "Epoch [223/500]\t Loss: 7.439019066095352 \n",
      "\n",
      "Step [0/8]\t Computing features...\n",
      "Features shape (8192,)\n",
      "14\n",
      "Test NMI = 0.6185 ARI = 0.3412 F = 0.4622 ACC = 0.4730\n",
      "================================================================\n",
      "\n"
     ]
    },
    {
     "name": "stderr",
     "output_type": "stream",
     "text": [
      "C:\\Users\\Tom-G\\.conda\\envs\\torchenv\\lib\\site-packages\\torch\\nn\\modules\\container.py:141: UserWarning: Implicit dimension choice for softmax has been deprecated. Change the call to include dim=X as an argument.\n",
      "  input = module(input)\n"
     ]
    },
    {
     "name": "stdout",
     "output_type": "stream",
     "text": [
      "Step [0/8]\t loss_instance: 5.887728691101074\t loss_cluster: 1.6534351110458374\n",
      "Step [2/8]\t loss_instance: 5.875907897949219\t loss_cluster: 1.6369285583496094\n",
      "Step [4/8]\t loss_instance: 5.901984214782715\t loss_cluster: 1.6718499660491943\n",
      "Step [6/8]\t loss_instance: 5.893871784210205\t loss_cluster: 1.6483509540557861\n",
      "\n",
      "Epoch [224/500]\t Loss: 7.480590546131134 \n",
      "\n",
      "Step [0/8]\t Computing features...\n",
      "Features shape (8192,)\n",
      "14\n",
      "Test NMI = 0.6187 ARI = 0.3490 F = 0.4690 ACC = 0.4825\n",
      "================================================================\n",
      "\n"
     ]
    },
    {
     "name": "stderr",
     "output_type": "stream",
     "text": [
      "C:\\Users\\Tom-G\\.conda\\envs\\torchenv\\lib\\site-packages\\torch\\nn\\modules\\container.py:141: UserWarning: Implicit dimension choice for softmax has been deprecated. Change the call to include dim=X as an argument.\n",
      "  input = module(input)\n"
     ]
    },
    {
     "name": "stdout",
     "output_type": "stream",
     "text": [
      "Step [0/8]\t loss_instance: 5.890202045440674\t loss_cluster: 1.664604663848877\n",
      "Step [2/8]\t loss_instance: 5.869661808013916\t loss_cluster: 1.6248104572296143\n",
      "Step [4/8]\t loss_instance: 5.888382434844971\t loss_cluster: 1.6502933502197266\n",
      "Step [6/8]\t loss_instance: 5.8851728439331055\t loss_cluster: 1.6672102212905884\n",
      "\n",
      "Epoch [225/500]\t Loss: 7.496026813983917 \n",
      "\n",
      "Step [0/8]\t Computing features...\n",
      "Features shape (8192,)\n",
      "14\n",
      "Test NMI = 0.6181 ARI = 0.3498 F = 0.4693 ACC = 0.4858\n",
      "================================================================\n",
      "\n"
     ]
    },
    {
     "name": "stderr",
     "output_type": "stream",
     "text": [
      "C:\\Users\\Tom-G\\.conda\\envs\\torchenv\\lib\\site-packages\\torch\\nn\\modules\\container.py:141: UserWarning: Implicit dimension choice for softmax has been deprecated. Change the call to include dim=X as an argument.\n",
      "  input = module(input)\n"
     ]
    },
    {
     "name": "stdout",
     "output_type": "stream",
     "text": [
      "Step [0/8]\t loss_instance: 5.897767543792725\t loss_cluster: 1.7541112899780273\n",
      "Step [2/8]\t loss_instance: 5.856353759765625\t loss_cluster: 1.6364305019378662\n",
      "Step [4/8]\t loss_instance: 5.881473064422607\t loss_cluster: 1.6479209661483765\n",
      "Step [6/8]\t loss_instance: 5.907677173614502\t loss_cluster: 1.6993257999420166\n",
      "\n",
      "Epoch [226/500]\t Loss: 7.513695067167282 \n",
      "\n",
      "Step [0/8]\t Computing features...\n",
      "Features shape (8192,)\n",
      "14\n",
      "Test NMI = 0.6143 ARI = 0.3505 F = 0.4700 ACC = 0.4924\n",
      "================================================================\n",
      "\n"
     ]
    },
    {
     "name": "stderr",
     "output_type": "stream",
     "text": [
      "C:\\Users\\Tom-G\\.conda\\envs\\torchenv\\lib\\site-packages\\torch\\nn\\modules\\container.py:141: UserWarning: Implicit dimension choice for softmax has been deprecated. Change the call to include dim=X as an argument.\n",
      "  input = module(input)\n"
     ]
    },
    {
     "name": "stdout",
     "output_type": "stream",
     "text": [
      "Step [0/8]\t loss_instance: 5.914791107177734\t loss_cluster: 1.7136727571487427\n",
      "Step [2/8]\t loss_instance: 5.9088850021362305\t loss_cluster: 1.6991435289382935\n",
      "Step [4/8]\t loss_instance: 5.896420955657959\t loss_cluster: 1.6940054893493652\n",
      "Step [6/8]\t loss_instance: 5.898095607757568\t loss_cluster: 1.6625851392745972\n",
      "\n",
      "Epoch [227/500]\t Loss: 7.559802275896073 \n",
      "\n",
      "Step [0/8]\t Computing features...\n",
      "Features shape (8192,)\n",
      "14\n",
      "Test NMI = 0.6080 ARI = 0.3496 F = 0.4685 ACC = 0.4921\n",
      "================================================================\n",
      "\n"
     ]
    },
    {
     "name": "stderr",
     "output_type": "stream",
     "text": [
      "C:\\Users\\Tom-G\\.conda\\envs\\torchenv\\lib\\site-packages\\torch\\nn\\modules\\container.py:141: UserWarning: Implicit dimension choice for softmax has been deprecated. Change the call to include dim=X as an argument.\n",
      "  input = module(input)\n"
     ]
    },
    {
     "name": "stdout",
     "output_type": "stream",
     "text": [
      "Step [0/8]\t loss_instance: 5.908705711364746\t loss_cluster: 1.7107857465744019\n",
      "Step [2/8]\t loss_instance: 5.9034247398376465\t loss_cluster: 1.7097834348678589\n",
      "Step [4/8]\t loss_instance: 5.946904182434082\t loss_cluster: 1.6859055757522583\n",
      "Step [6/8]\t loss_instance: 5.9914045333862305\t loss_cluster: 1.7480857372283936\n",
      "\n",
      "Epoch [228/500]\t Loss: 7.621548372507095 \n",
      "\n",
      "Step [0/8]\t Computing features...\n",
      "Features shape (8192,)\n",
      "14\n",
      "Test NMI = 0.5922 ARI = 0.3047 F = 0.4255 ACC = 0.4390\n",
      "================================================================\n",
      "\n"
     ]
    },
    {
     "name": "stderr",
     "output_type": "stream",
     "text": [
      "C:\\Users\\Tom-G\\.conda\\envs\\torchenv\\lib\\site-packages\\torch\\nn\\modules\\container.py:141: UserWarning: Implicit dimension choice for softmax has been deprecated. Change the call to include dim=X as an argument.\n",
      "  input = module(input)\n"
     ]
    },
    {
     "name": "stdout",
     "output_type": "stream",
     "text": [
      "Step [0/8]\t loss_instance: 6.014086723327637\t loss_cluster: 1.6969188451766968\n",
      "Step [2/8]\t loss_instance: 5.959023952484131\t loss_cluster: 1.7220908403396606\n",
      "Step [4/8]\t loss_instance: 5.950832366943359\t loss_cluster: 1.68666672706604\n",
      "Step [6/8]\t loss_instance: 5.954699993133545\t loss_cluster: 1.6808034181594849\n",
      "\n",
      "Epoch [229/500]\t Loss: 7.676602643728256 \n",
      "\n",
      "Step [0/8]\t Computing features...\n",
      "Features shape (8192,)\n",
      "14\n",
      "Test NMI = 0.5963 ARI = 0.3121 F = 0.4335 ACC = 0.4336\n",
      "================================================================\n",
      "\n"
     ]
    },
    {
     "name": "stderr",
     "output_type": "stream",
     "text": [
      "C:\\Users\\Tom-G\\.conda\\envs\\torchenv\\lib\\site-packages\\torch\\nn\\modules\\container.py:141: UserWarning: Implicit dimension choice for softmax has been deprecated. Change the call to include dim=X as an argument.\n",
      "  input = module(input)\n"
     ]
    },
    {
     "name": "stdout",
     "output_type": "stream",
     "text": [
      "Step [0/8]\t loss_instance: 5.9344682693481445\t loss_cluster: 1.6544033288955688\n",
      "Step [2/8]\t loss_instance: 5.973811626434326\t loss_cluster: 1.70269775390625\n",
      "Step [4/8]\t loss_instance: 6.007623672485352\t loss_cluster: 1.7285946607589722\n",
      "Step [6/8]\t loss_instance: 6.010770797729492\t loss_cluster: 1.722582221031189\n",
      "\n",
      "Epoch [230/500]\t Loss: 7.715927320718765 \n",
      "\n",
      "Step [0/8]\t Computing features...\n",
      "Features shape (8192,)\n",
      "14\n",
      "Test NMI = 0.5898 ARI = 0.2960 F = 0.4157 ACC = 0.4070\n",
      "================================================================\n",
      "\n"
     ]
    },
    {
     "name": "stderr",
     "output_type": "stream",
     "text": [
      "C:\\Users\\Tom-G\\.conda\\envs\\torchenv\\lib\\site-packages\\torch\\nn\\modules\\container.py:141: UserWarning: Implicit dimension choice for softmax has been deprecated. Change the call to include dim=X as an argument.\n",
      "  input = module(input)\n"
     ]
    },
    {
     "name": "stdout",
     "output_type": "stream",
     "text": [
      "Step [0/8]\t loss_instance: 6.007833957672119\t loss_cluster: 1.7495399713516235\n",
      "Step [2/8]\t loss_instance: 5.974920749664307\t loss_cluster: 1.7057173252105713\n",
      "Step [4/8]\t loss_instance: 5.959173202514648\t loss_cluster: 1.681750774383545\n",
      "Step [6/8]\t loss_instance: 5.984228610992432\t loss_cluster: 1.7192957401275635\n",
      "\n",
      "Epoch [231/500]\t Loss: 7.662123608589172 \n",
      "\n",
      "Step [0/8]\t Computing features...\n",
      "Features shape (8192,)\n",
      "14\n",
      "Test NMI = 0.5802 ARI = 0.2794 F = 0.3997 ACC = 0.3840\n",
      "================================================================\n",
      "\n"
     ]
    },
    {
     "name": "stderr",
     "output_type": "stream",
     "text": [
      "C:\\Users\\Tom-G\\.conda\\envs\\torchenv\\lib\\site-packages\\torch\\nn\\modules\\container.py:141: UserWarning: Implicit dimension choice for softmax has been deprecated. Change the call to include dim=X as an argument.\n",
      "  input = module(input)\n"
     ]
    },
    {
     "name": "stdout",
     "output_type": "stream",
     "text": [
      "Step [0/8]\t loss_instance: 5.976968288421631\t loss_cluster: 1.6996454000473022\n",
      "Step [2/8]\t loss_instance: 5.955493927001953\t loss_cluster: 1.6773614883422852\n",
      "Step [4/8]\t loss_instance: 5.959014415740967\t loss_cluster: 1.6816749572753906\n",
      "Step [6/8]\t loss_instance: 5.964635848999023\t loss_cluster: 1.6918864250183105\n",
      "\n",
      "Epoch [232/500]\t Loss: 7.5903309226036075 \n",
      "\n",
      "Step [0/8]\t Computing features...\n",
      "Features shape (8192,)\n",
      "14\n",
      "Test NMI = 0.5843 ARI = 0.2855 F = 0.4059 ACC = 0.3936\n",
      "================================================================\n",
      "\n"
     ]
    },
    {
     "name": "stderr",
     "output_type": "stream",
     "text": [
      "C:\\Users\\Tom-G\\.conda\\envs\\torchenv\\lib\\site-packages\\torch\\nn\\modules\\container.py:141: UserWarning: Implicit dimension choice for softmax has been deprecated. Change the call to include dim=X as an argument.\n",
      "  input = module(input)\n"
     ]
    },
    {
     "name": "stdout",
     "output_type": "stream",
     "text": [
      "Step [0/8]\t loss_instance: 5.930880069732666\t loss_cluster: 1.6277118921279907\n",
      "Step [2/8]\t loss_instance: 5.912074089050293\t loss_cluster: 1.6216962337493896\n",
      "Step [4/8]\t loss_instance: 5.937525749206543\t loss_cluster: 1.6463313102722168\n",
      "Step [6/8]\t loss_instance: 5.926487445831299\t loss_cluster: 1.6417783498764038\n",
      "\n",
      "Epoch [233/500]\t Loss: 7.525352138280868 \n",
      "\n",
      "Step [0/8]\t Computing features...\n",
      "Features shape (8192,)\n",
      "14\n",
      "Test NMI = 0.5807 ARI = 0.2829 F = 0.4045 ACC = 0.3859\n",
      "================================================================\n",
      "\n"
     ]
    },
    {
     "name": "stderr",
     "output_type": "stream",
     "text": [
      "C:\\Users\\Tom-G\\.conda\\envs\\torchenv\\lib\\site-packages\\torch\\nn\\modules\\container.py:141: UserWarning: Implicit dimension choice for softmax has been deprecated. Change the call to include dim=X as an argument.\n",
      "  input = module(input)\n"
     ]
    },
    {
     "name": "stdout",
     "output_type": "stream",
     "text": [
      "Step [0/8]\t loss_instance: 5.911956787109375\t loss_cluster: 1.628691554069519\n",
      "Step [2/8]\t loss_instance: 5.940966606140137\t loss_cluster: 1.655449390411377\n",
      "Step [4/8]\t loss_instance: 5.926189422607422\t loss_cluster: 1.6413882970809937\n",
      "Step [6/8]\t loss_instance: 5.903334140777588\t loss_cluster: 1.61439847946167\n",
      "\n",
      "Epoch [234/500]\t Loss: 7.509628361463546 \n",
      "\n",
      "Step [0/8]\t Computing features...\n",
      "Features shape (8192,)\n",
      "14\n",
      "Test NMI = 0.5817 ARI = 0.2853 F = 0.4059 ACC = 0.3887\n",
      "================================================================\n",
      "\n"
     ]
    },
    {
     "name": "stderr",
     "output_type": "stream",
     "text": [
      "C:\\Users\\Tom-G\\.conda\\envs\\torchenv\\lib\\site-packages\\torch\\nn\\modules\\container.py:141: UserWarning: Implicit dimension choice for softmax has been deprecated. Change the call to include dim=X as an argument.\n",
      "  input = module(input)\n"
     ]
    },
    {
     "name": "stdout",
     "output_type": "stream",
     "text": [
      "Step [0/8]\t loss_instance: 5.91935920715332\t loss_cluster: 1.6211564540863037\n",
      "Step [2/8]\t loss_instance: 5.919210433959961\t loss_cluster: 1.6236125230789185\n",
      "Step [4/8]\t loss_instance: 5.912694931030273\t loss_cluster: 1.6101104021072388\n",
      "Step [6/8]\t loss_instance: 5.900239944458008\t loss_cluster: 1.5907405614852905\n",
      "\n",
      "Epoch [235/500]\t Loss: 7.500960063934326 \n",
      "\n",
      "Step [0/8]\t Computing features...\n",
      "Features shape (8192,)\n",
      "14\n",
      "Test NMI = 0.5922 ARI = 0.2931 F = 0.4140 ACC = 0.3901\n",
      "================================================================\n",
      "\n"
     ]
    },
    {
     "name": "stderr",
     "output_type": "stream",
     "text": [
      "C:\\Users\\Tom-G\\.conda\\envs\\torchenv\\lib\\site-packages\\torch\\nn\\modules\\container.py:141: UserWarning: Implicit dimension choice for softmax has been deprecated. Change the call to include dim=X as an argument.\n",
      "  input = module(input)\n"
     ]
    },
    {
     "name": "stdout",
     "output_type": "stream",
     "text": [
      "Step [0/8]\t loss_instance: 5.91114616394043\t loss_cluster: 1.6154130697250366\n",
      "Step [2/8]\t loss_instance: 5.896406173706055\t loss_cluster: 1.6038202047348022\n",
      "Step [4/8]\t loss_instance: 5.898442268371582\t loss_cluster: 1.5978167057037354\n",
      "Step [6/8]\t loss_instance: 5.903063774108887\t loss_cluster: 1.6001291275024414\n",
      "\n",
      "Epoch [236/500]\t Loss: 7.482282137870788 \n",
      "\n",
      "Step [0/8]\t Computing features...\n",
      "Features shape (8192,)\n",
      "14\n",
      "Test NMI = 0.5939 ARI = 0.2949 F = 0.4152 ACC = 0.3944\n",
      "================================================================\n",
      "\n"
     ]
    },
    {
     "name": "stderr",
     "output_type": "stream",
     "text": [
      "C:\\Users\\Tom-G\\.conda\\envs\\torchenv\\lib\\site-packages\\torch\\nn\\modules\\container.py:141: UserWarning: Implicit dimension choice for softmax has been deprecated. Change the call to include dim=X as an argument.\n",
      "  input = module(input)\n"
     ]
    },
    {
     "name": "stdout",
     "output_type": "stream",
     "text": [
      "Step [0/8]\t loss_instance: 5.895517826080322\t loss_cluster: 1.6040199995040894\n",
      "Step [2/8]\t loss_instance: 5.887192249298096\t loss_cluster: 1.590956687927246\n",
      "Step [4/8]\t loss_instance: 5.907469272613525\t loss_cluster: 1.604878544807434\n",
      "Step [6/8]\t loss_instance: 5.904142379760742\t loss_cluster: 1.619888424873352\n",
      "\n",
      "Epoch [237/500]\t Loss: 7.4738129556179045 \n",
      "\n",
      "Step [0/8]\t Computing features...\n",
      "Features shape (8192,)\n",
      "14\n",
      "Test NMI = 0.5909 ARI = 0.2940 F = 0.4143 ACC = 0.3953\n",
      "================================================================\n",
      "\n"
     ]
    },
    {
     "name": "stderr",
     "output_type": "stream",
     "text": [
      "C:\\Users\\Tom-G\\.conda\\envs\\torchenv\\lib\\site-packages\\torch\\nn\\modules\\container.py:141: UserWarning: Implicit dimension choice for softmax has been deprecated. Change the call to include dim=X as an argument.\n",
      "  input = module(input)\n"
     ]
    },
    {
     "name": "stdout",
     "output_type": "stream",
     "text": [
      "Step [0/8]\t loss_instance: 5.8952178955078125\t loss_cluster: 1.5965003967285156\n",
      "Step [2/8]\t loss_instance: 5.896905422210693\t loss_cluster: 1.6018977165222168\n",
      "Step [4/8]\t loss_instance: 5.906973838806152\t loss_cluster: 1.6126371622085571\n",
      "Step [6/8]\t loss_instance: 5.901683807373047\t loss_cluster: 1.6017040014266968\n",
      "\n",
      "Epoch [238/500]\t Loss: 7.472628325223923 \n",
      "\n",
      "Step [0/8]\t Computing features...\n",
      "Features shape (8192,)\n",
      "14\n",
      "Test NMI = 0.5944 ARI = 0.2946 F = 0.4149 ACC = 0.3910\n",
      "================================================================\n",
      "\n"
     ]
    },
    {
     "name": "stderr",
     "output_type": "stream",
     "text": [
      "C:\\Users\\Tom-G\\.conda\\envs\\torchenv\\lib\\site-packages\\torch\\nn\\modules\\container.py:141: UserWarning: Implicit dimension choice for softmax has been deprecated. Change the call to include dim=X as an argument.\n",
      "  input = module(input)\n"
     ]
    },
    {
     "name": "stdout",
     "output_type": "stream",
     "text": [
      "Step [0/8]\t loss_instance: 5.914280414581299\t loss_cluster: 1.6142057180404663\n",
      "Step [2/8]\t loss_instance: 5.8968634605407715\t loss_cluster: 1.605109691619873\n",
      "Step [4/8]\t loss_instance: 5.900578498840332\t loss_cluster: 1.6129230260849\n",
      "Step [6/8]\t loss_instance: 5.894115924835205\t loss_cluster: 1.6095023155212402\n",
      "\n",
      "Epoch [239/500]\t Loss: 7.476096099615097 \n",
      "\n",
      "Step [0/8]\t Computing features...\n",
      "Features shape (8192,)\n",
      "14\n",
      "Test NMI = 0.5900 ARI = 0.2898 F = 0.4108 ACC = 0.3909\n",
      "================================================================\n",
      "\n"
     ]
    },
    {
     "name": "stderr",
     "output_type": "stream",
     "text": [
      "C:\\Users\\Tom-G\\.conda\\envs\\torchenv\\lib\\site-packages\\torch\\nn\\modules\\container.py:141: UserWarning: Implicit dimension choice for softmax has been deprecated. Change the call to include dim=X as an argument.\n",
      "  input = module(input)\n"
     ]
    },
    {
     "name": "stdout",
     "output_type": "stream",
     "text": [
      "Step [0/8]\t loss_instance: 5.818515777587891\t loss_cluster: 1.5611809492111206\n",
      "Step [2/8]\t loss_instance: 5.8273515701293945\t loss_cluster: 1.5675476789474487\n",
      "Step [4/8]\t loss_instance: 5.840452194213867\t loss_cluster: 1.5893186330795288\n",
      "Step [6/8]\t loss_instance: 5.844514846801758\t loss_cluster: 1.5952366590499878\n",
      "\n",
      "Epoch [240/500]\t Loss: 7.419081044197083 \n",
      "\n",
      "Step [0/8]\t Computing features...\n",
      "Features shape (8192,)\n",
      "14\n",
      "Test NMI = 0.5917 ARI = 0.2946 F = 0.4158 ACC = 0.3998\n",
      "================================================================\n",
      "\n"
     ]
    },
    {
     "name": "stderr",
     "output_type": "stream",
     "text": [
      "C:\\Users\\Tom-G\\.conda\\envs\\torchenv\\lib\\site-packages\\torch\\nn\\modules\\container.py:141: UserWarning: Implicit dimension choice for softmax has been deprecated. Change the call to include dim=X as an argument.\n",
      "  input = module(input)\n"
     ]
    },
    {
     "name": "stdout",
     "output_type": "stream",
     "text": [
      "Step [0/8]\t loss_instance: 5.864599704742432\t loss_cluster: 1.604806661605835\n",
      "Step [2/8]\t loss_instance: 5.833977699279785\t loss_cluster: 1.5785270929336548\n",
      "Step [4/8]\t loss_instance: 5.877340316772461\t loss_cluster: 1.6032233238220215\n",
      "Step [6/8]\t loss_instance: 5.8692169189453125\t loss_cluster: 1.5794587135314941\n",
      "\n",
      "Epoch [241/500]\t Loss: 7.460581028461457 \n",
      "\n",
      "Step [0/8]\t Computing features...\n",
      "Features shape (8192,)\n",
      "14\n",
      "Test NMI = 0.5911 ARI = 0.3065 F = 0.4276 ACC = 0.4275\n",
      "================================================================\n",
      "\n"
     ]
    },
    {
     "name": "stderr",
     "output_type": "stream",
     "text": [
      "C:\\Users\\Tom-G\\.conda\\envs\\torchenv\\lib\\site-packages\\torch\\nn\\modules\\container.py:141: UserWarning: Implicit dimension choice for softmax has been deprecated. Change the call to include dim=X as an argument.\n",
      "  input = module(input)\n"
     ]
    },
    {
     "name": "stdout",
     "output_type": "stream",
     "text": [
      "Step [0/8]\t loss_instance: 5.933194160461426\t loss_cluster: 1.6534316539764404\n",
      "Step [2/8]\t loss_instance: 5.897793769836426\t loss_cluster: 1.6124719381332397\n",
      "Step [4/8]\t loss_instance: 5.868330001831055\t loss_cluster: 1.599907636642456\n",
      "Step [6/8]\t loss_instance: 5.8876118659973145\t loss_cluster: 1.6201947927474976\n",
      "\n",
      "Epoch [242/500]\t Loss: 7.524478554725647 \n",
      "\n",
      "Step [0/8]\t Computing features...\n",
      "Features shape (8192,)\n",
      "14\n",
      "Test NMI = 0.6087 ARI = 0.3167 F = 0.4390 ACC = 0.4116\n",
      "================================================================\n",
      "\n"
     ]
    },
    {
     "name": "stderr",
     "output_type": "stream",
     "text": [
      "C:\\Users\\Tom-G\\.conda\\envs\\torchenv\\lib\\site-packages\\torch\\nn\\modules\\container.py:141: UserWarning: Implicit dimension choice for softmax has been deprecated. Change the call to include dim=X as an argument.\n",
      "  input = module(input)\n"
     ]
    },
    {
     "name": "stdout",
     "output_type": "stream",
     "text": [
      "Step [0/8]\t loss_instance: 5.898311138153076\t loss_cluster: 1.60159432888031\n",
      "Step [2/8]\t loss_instance: 5.894924640655518\t loss_cluster: 1.5883136987686157\n",
      "Step [4/8]\t loss_instance: 5.866324424743652\t loss_cluster: 1.57017982006073\n",
      "Step [6/8]\t loss_instance: 5.873723983764648\t loss_cluster: 1.578589677810669\n",
      "\n",
      "Epoch [243/500]\t Loss: 7.463450837135315 \n",
      "\n",
      "Step [0/8]\t Computing features...\n",
      "Features shape (8192,)\n",
      "14\n",
      "Test NMI = 0.6177 ARI = 0.3256 F = 0.4476 ACC = 0.4226\n",
      "================================================================\n",
      "\n"
     ]
    },
    {
     "name": "stderr",
     "output_type": "stream",
     "text": [
      "C:\\Users\\Tom-G\\.conda\\envs\\torchenv\\lib\\site-packages\\torch\\nn\\modules\\container.py:141: UserWarning: Implicit dimension choice for softmax has been deprecated. Change the call to include dim=X as an argument.\n",
      "  input = module(input)\n"
     ]
    },
    {
     "name": "stdout",
     "output_type": "stream",
     "text": [
      "Step [0/8]\t loss_instance: 5.872309684753418\t loss_cluster: 1.5790159702301025\n",
      "Step [2/8]\t loss_instance: 5.846088886260986\t loss_cluster: 1.5713924169540405\n",
      "Step [4/8]\t loss_instance: 5.9016876220703125\t loss_cluster: 1.603682518005371\n",
      "Step [6/8]\t loss_instance: 5.897954940795898\t loss_cluster: 1.5894958972930908\n",
      "\n",
      "Epoch [244/500]\t Loss: 7.462779015302658 \n",
      "\n",
      "Step [0/8]\t Computing features...\n",
      "Features shape (8192,)\n",
      "14\n",
      "Test NMI = 0.6285 ARI = 0.3350 F = 0.4572 ACC = 0.4304\n",
      "================================================================\n",
      "\n"
     ]
    },
    {
     "name": "stderr",
     "output_type": "stream",
     "text": [
      "C:\\Users\\Tom-G\\.conda\\envs\\torchenv\\lib\\site-packages\\torch\\nn\\modules\\container.py:141: UserWarning: Implicit dimension choice for softmax has been deprecated. Change the call to include dim=X as an argument.\n",
      "  input = module(input)\n"
     ]
    },
    {
     "name": "stdout",
     "output_type": "stream",
     "text": [
      "Step [0/8]\t loss_instance: 5.896386623382568\t loss_cluster: 1.6086162328720093\n",
      "Step [2/8]\t loss_instance: 5.87902307510376\t loss_cluster: 1.5575134754180908\n",
      "Step [4/8]\t loss_instance: 5.884330749511719\t loss_cluster: 1.579466462135315\n",
      "Step [6/8]\t loss_instance: 5.902620792388916\t loss_cluster: 1.578490972518921\n",
      "\n",
      "Epoch [245/500]\t Loss: 7.451722729206085 \n",
      "\n",
      "Step [0/8]\t Computing features...\n",
      "Features shape (8192,)\n",
      "14\n",
      "Test NMI = 0.6390 ARI = 0.3477 F = 0.4705 ACC = 0.4382\n",
      "================================================================\n",
      "\n"
     ]
    },
    {
     "name": "stderr",
     "output_type": "stream",
     "text": [
      "C:\\Users\\Tom-G\\.conda\\envs\\torchenv\\lib\\site-packages\\torch\\nn\\modules\\container.py:141: UserWarning: Implicit dimension choice for softmax has been deprecated. Change the call to include dim=X as an argument.\n",
      "  input = module(input)\n"
     ]
    },
    {
     "name": "stdout",
     "output_type": "stream",
     "text": [
      "Step [0/8]\t loss_instance: 5.867380142211914\t loss_cluster: 1.5725698471069336\n",
      "Step [2/8]\t loss_instance: 5.883734226226807\t loss_cluster: 1.5666861534118652\n",
      "Step [4/8]\t loss_instance: 5.888569355010986\t loss_cluster: 1.5852422714233398\n",
      "Step [6/8]\t loss_instance: 5.9017229080200195\t loss_cluster: 1.5910288095474243\n",
      "\n",
      "Epoch [246/500]\t Loss: 7.437347483634949 \n",
      "\n",
      "Step [0/8]\t Computing features...\n",
      "Features shape (8192,)\n",
      "14\n",
      "Test NMI = 0.6455 ARI = 0.3546 F = 0.4777 ACC = 0.4471\n",
      "================================================================\n",
      "\n"
     ]
    },
    {
     "name": "stderr",
     "output_type": "stream",
     "text": [
      "C:\\Users\\Tom-G\\.conda\\envs\\torchenv\\lib\\site-packages\\torch\\nn\\modules\\container.py:141: UserWarning: Implicit dimension choice for softmax has been deprecated. Change the call to include dim=X as an argument.\n",
      "  input = module(input)\n"
     ]
    },
    {
     "name": "stdout",
     "output_type": "stream",
     "text": [
      "Step [0/8]\t loss_instance: 5.867968559265137\t loss_cluster: 1.5810844898223877\n",
      "Step [2/8]\t loss_instance: 5.908751487731934\t loss_cluster: 1.593517780303955\n",
      "Step [4/8]\t loss_instance: 5.872052192687988\t loss_cluster: 1.569221019744873\n",
      "Step [6/8]\t loss_instance: 5.871556282043457\t loss_cluster: 1.5691291093826294\n",
      "\n",
      "Epoch [247/500]\t Loss: 7.43137674331665 \n",
      "\n",
      "Step [0/8]\t Computing features...\n",
      "Features shape (8192,)\n",
      "14\n",
      "Test NMI = 0.6478 ARI = 0.3544 F = 0.4773 ACC = 0.4399\n",
      "================================================================\n",
      "\n"
     ]
    },
    {
     "name": "stderr",
     "output_type": "stream",
     "text": [
      "C:\\Users\\Tom-G\\.conda\\envs\\torchenv\\lib\\site-packages\\torch\\nn\\modules\\container.py:141: UserWarning: Implicit dimension choice for softmax has been deprecated. Change the call to include dim=X as an argument.\n",
      "  input = module(input)\n"
     ]
    },
    {
     "name": "stdout",
     "output_type": "stream",
     "text": [
      "Step [0/8]\t loss_instance: 5.878298759460449\t loss_cluster: 1.5777801275253296\n",
      "Step [2/8]\t loss_instance: 5.891995906829834\t loss_cluster: 1.5884042978286743\n",
      "Step [4/8]\t loss_instance: 5.871012210845947\t loss_cluster: 1.5602210760116577\n",
      "Step [6/8]\t loss_instance: 5.853871822357178\t loss_cluster: 1.5549148321151733\n",
      "\n",
      "Epoch [248/500]\t Loss: 7.438071924448013 \n",
      "\n",
      "Step [0/8]\t Computing features...\n",
      "Features shape (8192,)\n",
      "14\n",
      "Test NMI = 0.6441 ARI = 0.3523 F = 0.4751 ACC = 0.4426\n",
      "================================================================\n",
      "\n"
     ]
    },
    {
     "name": "stderr",
     "output_type": "stream",
     "text": [
      "C:\\Users\\Tom-G\\.conda\\envs\\torchenv\\lib\\site-packages\\torch\\nn\\modules\\container.py:141: UserWarning: Implicit dimension choice for softmax has been deprecated. Change the call to include dim=X as an argument.\n",
      "  input = module(input)\n"
     ]
    },
    {
     "name": "stdout",
     "output_type": "stream",
     "text": [
      "Step [0/8]\t loss_instance: 5.891221523284912\t loss_cluster: 1.6311230659484863\n",
      "Step [2/8]\t loss_instance: 5.882225036621094\t loss_cluster: 1.5769248008728027\n",
      "Step [4/8]\t loss_instance: 5.954151630401611\t loss_cluster: 1.6697728633880615\n",
      "Step [6/8]\t loss_instance: 5.980088233947754\t loss_cluster: 1.6513935327529907\n",
      "\n",
      "Epoch [249/500]\t Loss: 7.568718647956848 \n",
      "\n",
      "Step [0/8]\t Computing features...\n",
      "Features shape (8192,)\n",
      "14\n",
      "Test NMI = 0.6347 ARI = 0.3357 F = 0.4580 ACC = 0.4337\n",
      "================================================================\n",
      "\n"
     ]
    },
    {
     "name": "stderr",
     "output_type": "stream",
     "text": [
      "C:\\Users\\Tom-G\\.conda\\envs\\torchenv\\lib\\site-packages\\torch\\nn\\modules\\container.py:141: UserWarning: Implicit dimension choice for softmax has been deprecated. Change the call to include dim=X as an argument.\n",
      "  input = module(input)\n"
     ]
    },
    {
     "name": "stdout",
     "output_type": "stream",
     "text": [
      "Step [0/8]\t loss_instance: 5.93615198135376\t loss_cluster: 1.6564021110534668\n",
      "Step [2/8]\t loss_instance: 5.913834095001221\t loss_cluster: 1.6160998344421387\n",
      "Step [4/8]\t loss_instance: 5.9488935470581055\t loss_cluster: 1.6786751747131348\n",
      "Step [6/8]\t loss_instance: 5.902892112731934\t loss_cluster: 1.606264352798462\n",
      "\n",
      "Epoch [250/500]\t Loss: 7.547122424840927 \n",
      "\n",
      "Step [0/8]\t Computing features...\n",
      "Features shape (8192,)\n",
      "14\n",
      "Test NMI = 0.6416 ARI = 0.3460 F = 0.4688 ACC = 0.4341\n",
      "================================================================\n",
      "\n"
     ]
    },
    {
     "name": "stderr",
     "output_type": "stream",
     "text": [
      "C:\\Users\\Tom-G\\.conda\\envs\\torchenv\\lib\\site-packages\\torch\\nn\\modules\\container.py:141: UserWarning: Implicit dimension choice for softmax has been deprecated. Change the call to include dim=X as an argument.\n",
      "  input = module(input)\n"
     ]
    },
    {
     "name": "stdout",
     "output_type": "stream",
     "text": [
      "Step [0/8]\t loss_instance: 5.907717704772949\t loss_cluster: 1.6074587106704712\n",
      "Step [2/8]\t loss_instance: 5.91027307510376\t loss_cluster: 1.622908115386963\n",
      "Step [4/8]\t loss_instance: 5.905820369720459\t loss_cluster: 1.6403290033340454\n",
      "Step [6/8]\t loss_instance: 5.902833461761475\t loss_cluster: 1.6110445261001587\n",
      "\n",
      "Epoch [251/500]\t Loss: 7.503122144937516 \n",
      "\n",
      "Step [0/8]\t Computing features...\n",
      "Features shape (8192,)\n",
      "14\n",
      "Test NMI = 0.6401 ARI = 0.3444 F = 0.4664 ACC = 0.4230\n",
      "================================================================\n",
      "\n"
     ]
    },
    {
     "name": "stderr",
     "output_type": "stream",
     "text": [
      "C:\\Users\\Tom-G\\.conda\\envs\\torchenv\\lib\\site-packages\\torch\\nn\\modules\\container.py:141: UserWarning: Implicit dimension choice for softmax has been deprecated. Change the call to include dim=X as an argument.\n",
      "  input = module(input)\n"
     ]
    },
    {
     "name": "stdout",
     "output_type": "stream",
     "text": [
      "Step [0/8]\t loss_instance: 5.895811080932617\t loss_cluster: 1.6025832891464233\n",
      "Step [2/8]\t loss_instance: 5.89340877532959\t loss_cluster: 1.6191107034683228\n",
      "Step [4/8]\t loss_instance: 5.897113800048828\t loss_cluster: 1.6118487119674683\n",
      "Step [6/8]\t loss_instance: 5.910871505737305\t loss_cluster: 1.64149010181427\n",
      "\n",
      "Epoch [252/500]\t Loss: 7.484247261285782 \n",
      "\n",
      "Step [0/8]\t Computing features...\n",
      "Features shape (8192,)\n",
      "14\n",
      "Test NMI = 0.6373 ARI = 0.3423 F = 0.4645 ACC = 0.4320\n",
      "================================================================\n",
      "\n"
     ]
    },
    {
     "name": "stderr",
     "output_type": "stream",
     "text": [
      "C:\\Users\\Tom-G\\.conda\\envs\\torchenv\\lib\\site-packages\\torch\\nn\\modules\\container.py:141: UserWarning: Implicit dimension choice for softmax has been deprecated. Change the call to include dim=X as an argument.\n",
      "  input = module(input)\n"
     ]
    },
    {
     "name": "stdout",
     "output_type": "stream",
     "text": [
      "Step [0/8]\t loss_instance: 5.90830659866333\t loss_cluster: 1.6117780208587646\n",
      "Step [2/8]\t loss_instance: 5.900495529174805\t loss_cluster: 1.6355516910552979\n",
      "Step [4/8]\t loss_instance: 5.891165733337402\t loss_cluster: 1.625806212425232\n",
      "Step [6/8]\t loss_instance: 5.931056499481201\t loss_cluster: 1.6464921236038208\n",
      "\n",
      "Epoch [253/500]\t Loss: 7.5093441784381865 \n",
      "\n",
      "Step [0/8]\t Computing features...\n",
      "Features shape (8192,)\n",
      "14\n",
      "Test NMI = 0.6280 ARI = 0.3307 F = 0.4525 ACC = 0.4003\n",
      "================================================================\n",
      "\n"
     ]
    },
    {
     "name": "stderr",
     "output_type": "stream",
     "text": [
      "C:\\Users\\Tom-G\\.conda\\envs\\torchenv\\lib\\site-packages\\torch\\nn\\modules\\container.py:141: UserWarning: Implicit dimension choice for softmax has been deprecated. Change the call to include dim=X as an argument.\n",
      "  input = module(input)\n"
     ]
    },
    {
     "name": "stdout",
     "output_type": "stream",
     "text": [
      "Step [0/8]\t loss_instance: 5.899341583251953\t loss_cluster: 1.6375700235366821\n",
      "Step [2/8]\t loss_instance: 5.934288501739502\t loss_cluster: 1.6627124547958374\n",
      "Step [4/8]\t loss_instance: 5.929035663604736\t loss_cluster: 1.6466840505599976\n",
      "Step [6/8]\t loss_instance: 5.9182562828063965\t loss_cluster: 1.6701558828353882\n",
      "\n",
      "Epoch [254/500]\t Loss: 7.539938414096833 \n",
      "\n",
      "Step [0/8]\t Computing features...\n",
      "Features shape (8192,)\n",
      "14\n",
      "Test NMI = 0.6214 ARI = 0.3290 F = 0.4506 ACC = 0.4076\n",
      "================================================================\n",
      "\n"
     ]
    },
    {
     "name": "stderr",
     "output_type": "stream",
     "text": [
      "C:\\Users\\Tom-G\\.conda\\envs\\torchenv\\lib\\site-packages\\torch\\nn\\modules\\container.py:141: UserWarning: Implicit dimension choice for softmax has been deprecated. Change the call to include dim=X as an argument.\n",
      "  input = module(input)\n"
     ]
    },
    {
     "name": "stdout",
     "output_type": "stream",
     "text": [
      "Step [0/8]\t loss_instance: 5.92160701751709\t loss_cluster: 1.6465492248535156\n",
      "Step [2/8]\t loss_instance: 5.908023834228516\t loss_cluster: 1.645161747932434\n",
      "Step [4/8]\t loss_instance: 5.933302879333496\t loss_cluster: 1.6513022184371948\n",
      "Step [6/8]\t loss_instance: 5.972797870635986\t loss_cluster: 1.7269281148910522\n",
      "\n",
      "Epoch [255/500]\t Loss: 7.553333920240402 \n",
      "\n",
      "Step [0/8]\t Computing features...\n",
      "Features shape (8192,)\n",
      "14\n",
      "Test NMI = 0.6277 ARI = 0.3368 F = 0.4589 ACC = 0.4181\n",
      "================================================================\n",
      "\n"
     ]
    },
    {
     "name": "stderr",
     "output_type": "stream",
     "text": [
      "C:\\Users\\Tom-G\\.conda\\envs\\torchenv\\lib\\site-packages\\torch\\nn\\modules\\container.py:141: UserWarning: Implicit dimension choice for softmax has been deprecated. Change the call to include dim=X as an argument.\n",
      "  input = module(input)\n"
     ]
    },
    {
     "name": "stdout",
     "output_type": "stream",
     "text": [
      "Step [0/8]\t loss_instance: 5.912569999694824\t loss_cluster: 1.6006288528442383\n",
      "Step [2/8]\t loss_instance: 5.898674964904785\t loss_cluster: 1.6492689847946167\n",
      "Step [4/8]\t loss_instance: 5.893484115600586\t loss_cluster: 1.6080988645553589\n",
      "Step [6/8]\t loss_instance: 5.888659477233887\t loss_cluster: 1.615471363067627\n",
      "\n",
      "Epoch [256/500]\t Loss: 7.496399641036987 \n",
      "\n",
      "Step [0/8]\t Computing features...\n",
      "Features shape (8192,)\n",
      "14\n",
      "Test NMI = 0.6206 ARI = 0.3270 F = 0.4488 ACC = 0.4078\n",
      "================================================================\n",
      "\n"
     ]
    },
    {
     "name": "stderr",
     "output_type": "stream",
     "text": [
      "C:\\Users\\Tom-G\\.conda\\envs\\torchenv\\lib\\site-packages\\torch\\nn\\modules\\container.py:141: UserWarning: Implicit dimension choice for softmax has been deprecated. Change the call to include dim=X as an argument.\n",
      "  input = module(input)\n"
     ]
    },
    {
     "name": "stdout",
     "output_type": "stream",
     "text": [
      "Step [0/8]\t loss_instance: 5.9038262367248535\t loss_cluster: 1.6345902681350708\n",
      "Step [2/8]\t loss_instance: 5.905163764953613\t loss_cluster: 1.6308774948120117\n",
      "Step [4/8]\t loss_instance: 5.892127990722656\t loss_cluster: 1.6217753887176514\n",
      "Step [6/8]\t loss_instance: 5.914483547210693\t loss_cluster: 1.6341456174850464\n",
      "\n",
      "Epoch [257/500]\t Loss: 7.494705665111542 \n",
      "\n",
      "Step [0/8]\t Computing features...\n",
      "Features shape (8192,)\n",
      "14\n",
      "Test NMI = 0.6180 ARI = 0.3273 F = 0.4483 ACC = 0.4213\n",
      "================================================================\n",
      "\n"
     ]
    },
    {
     "name": "stderr",
     "output_type": "stream",
     "text": [
      "C:\\Users\\Tom-G\\.conda\\envs\\torchenv\\lib\\site-packages\\torch\\nn\\modules\\container.py:141: UserWarning: Implicit dimension choice for softmax has been deprecated. Change the call to include dim=X as an argument.\n",
      "  input = module(input)\n"
     ]
    },
    {
     "name": "stdout",
     "output_type": "stream",
     "text": [
      "Step [0/8]\t loss_instance: 5.900838375091553\t loss_cluster: 1.6299809217453003\n",
      "Step [2/8]\t loss_instance: 5.897879600524902\t loss_cluster: 1.647630214691162\n",
      "Step [4/8]\t loss_instance: 5.924746990203857\t loss_cluster: 1.647255778312683\n",
      "Step [6/8]\t loss_instance: 5.884461402893066\t loss_cluster: 1.6201235055923462\n",
      "\n",
      "Epoch [258/500]\t Loss: 7.510683095455169 \n",
      "\n",
      "Step [0/8]\t Computing features...\n",
      "Features shape (8192,)\n",
      "14\n",
      "Test NMI = 0.6191 ARI = 0.3286 F = 0.4497 ACC = 0.4159\n",
      "================================================================\n",
      "\n"
     ]
    },
    {
     "name": "stderr",
     "output_type": "stream",
     "text": [
      "C:\\Users\\Tom-G\\.conda\\envs\\torchenv\\lib\\site-packages\\torch\\nn\\modules\\container.py:141: UserWarning: Implicit dimension choice for softmax has been deprecated. Change the call to include dim=X as an argument.\n",
      "  input = module(input)\n"
     ]
    },
    {
     "name": "stdout",
     "output_type": "stream",
     "text": [
      "Step [0/8]\t loss_instance: 5.909631729125977\t loss_cluster: 1.6512153148651123\n",
      "Step [2/8]\t loss_instance: 5.887154579162598\t loss_cluster: 1.621530532836914\n",
      "Step [4/8]\t loss_instance: 5.90077018737793\t loss_cluster: 1.6336668729782104\n",
      "Step [6/8]\t loss_instance: 5.910417079925537\t loss_cluster: 1.665856957435608\n",
      "\n",
      "Epoch [259/500]\t Loss: 7.4898223102092745 \n",
      "\n",
      "Step [0/8]\t Computing features...\n",
      "Features shape (8192,)\n",
      "14\n",
      "Test NMI = 0.6208 ARI = 0.3256 F = 0.4463 ACC = 0.3961\n",
      "================================================================\n",
      "\n"
     ]
    },
    {
     "name": "stderr",
     "output_type": "stream",
     "text": [
      "C:\\Users\\Tom-G\\.conda\\envs\\torchenv\\lib\\site-packages\\torch\\nn\\modules\\container.py:141: UserWarning: Implicit dimension choice for softmax has been deprecated. Change the call to include dim=X as an argument.\n",
      "  input = module(input)\n"
     ]
    },
    {
     "name": "stdout",
     "output_type": "stream",
     "text": [
      "Step [0/8]\t loss_instance: 5.820986747741699\t loss_cluster: 1.5712735652923584\n",
      "Step [2/8]\t loss_instance: 5.854084491729736\t loss_cluster: 1.611430048942566\n",
      "Step [4/8]\t loss_instance: 5.858867645263672\t loss_cluster: 1.6369115114212036\n",
      "Step [6/8]\t loss_instance: 5.903287887573242\t loss_cluster: 1.578365445137024\n",
      "\n",
      "Epoch [260/500]\t Loss: 7.457893168926239 \n",
      "\n",
      "Step [0/8]\t Computing features...\n",
      "Features shape (8192,)\n",
      "14\n",
      "Test NMI = 0.6314 ARI = 0.3427 F = 0.4647 ACC = 0.4432\n",
      "================================================================\n",
      "\n"
     ]
    },
    {
     "name": "stderr",
     "output_type": "stream",
     "text": [
      "C:\\Users\\Tom-G\\.conda\\envs\\torchenv\\lib\\site-packages\\torch\\nn\\modules\\container.py:141: UserWarning: Implicit dimension choice for softmax has been deprecated. Change the call to include dim=X as an argument.\n",
      "  input = module(input)\n"
     ]
    },
    {
     "name": "stdout",
     "output_type": "stream",
     "text": [
      "Step [0/8]\t loss_instance: 5.887261867523193\t loss_cluster: 1.5972249507904053\n",
      "Step [2/8]\t loss_instance: 5.870794296264648\t loss_cluster: 1.5804210901260376\n",
      "Step [4/8]\t loss_instance: 5.867074012756348\t loss_cluster: 1.6076257228851318\n",
      "Step [6/8]\t loss_instance: 5.863585472106934\t loss_cluster: 1.5825711488723755\n",
      "\n",
      "Epoch [261/500]\t Loss: 7.448329305648803 \n",
      "\n",
      "Step [0/8]\t Computing features...\n",
      "Features shape (8192,)\n",
      "14\n",
      "Test NMI = 0.6315 ARI = 0.3361 F = 0.4584 ACC = 0.4199\n",
      "================================================================\n",
      "\n"
     ]
    },
    {
     "name": "stderr",
     "output_type": "stream",
     "text": [
      "C:\\Users\\Tom-G\\.conda\\envs\\torchenv\\lib\\site-packages\\torch\\nn\\modules\\container.py:141: UserWarning: Implicit dimension choice for softmax has been deprecated. Change the call to include dim=X as an argument.\n",
      "  input = module(input)\n"
     ]
    },
    {
     "name": "stdout",
     "output_type": "stream",
     "text": [
      "Step [0/8]\t loss_instance: 5.872125625610352\t loss_cluster: 1.5956429243087769\n",
      "Step [2/8]\t loss_instance: 5.824049472808838\t loss_cluster: 1.5499892234802246\n",
      "Step [4/8]\t loss_instance: 5.831418514251709\t loss_cluster: 1.552710771560669\n",
      "Step [6/8]\t loss_instance: 5.829411029815674\t loss_cluster: 1.552099347114563\n",
      "\n",
      "Epoch [262/500]\t Loss: 7.393424844741821 \n",
      "\n",
      "Step [0/8]\t Computing features...\n",
      "Features shape (8192,)\n",
      "14\n",
      "Test NMI = 0.6324 ARI = 0.3363 F = 0.4589 ACC = 0.4136\n",
      "================================================================\n",
      "\n"
     ]
    },
    {
     "name": "stderr",
     "output_type": "stream",
     "text": [
      "C:\\Users\\Tom-G\\.conda\\envs\\torchenv\\lib\\site-packages\\torch\\nn\\modules\\container.py:141: UserWarning: Implicit dimension choice for softmax has been deprecated. Change the call to include dim=X as an argument.\n",
      "  input = module(input)\n"
     ]
    },
    {
     "name": "stdout",
     "output_type": "stream",
     "text": [
      "Step [0/8]\t loss_instance: 5.825454235076904\t loss_cluster: 1.5630947351455688\n",
      "Step [2/8]\t loss_instance: 5.8524675369262695\t loss_cluster: 1.5610600709915161\n",
      "Step [4/8]\t loss_instance: 5.846240997314453\t loss_cluster: 1.571682095527649\n",
      "Step [6/8]\t loss_instance: 5.822322845458984\t loss_cluster: 1.5527616739273071\n",
      "\n",
      "Epoch [263/500]\t Loss: 7.386172258853913 \n",
      "\n",
      "Step [0/8]\t Computing features...\n",
      "Features shape (8192,)\n",
      "14\n",
      "Test NMI = 0.6386 ARI = 0.3454 F = 0.4674 ACC = 0.4241\n",
      "================================================================\n",
      "\n"
     ]
    },
    {
     "name": "stderr",
     "output_type": "stream",
     "text": [
      "C:\\Users\\Tom-G\\.conda\\envs\\torchenv\\lib\\site-packages\\torch\\nn\\modules\\container.py:141: UserWarning: Implicit dimension choice for softmax has been deprecated. Change the call to include dim=X as an argument.\n",
      "  input = module(input)\n"
     ]
    },
    {
     "name": "stdout",
     "output_type": "stream",
     "text": [
      "Step [0/8]\t loss_instance: 5.849534511566162\t loss_cluster: 1.575318455696106\n",
      "Step [2/8]\t loss_instance: 5.833989143371582\t loss_cluster: 1.5603296756744385\n",
      "Step [4/8]\t loss_instance: 5.862477779388428\t loss_cluster: 1.5638192892074585\n",
      "Step [6/8]\t loss_instance: 5.865656852722168\t loss_cluster: 1.5672181844711304\n",
      "\n",
      "Epoch [264/500]\t Loss: 7.411365908384323 \n",
      "\n",
      "Step [0/8]\t Computing features...\n",
      "Features shape (8192,)\n",
      "14\n",
      "Test NMI = 0.6423 ARI = 0.3486 F = 0.4711 ACC = 0.4280\n",
      "================================================================\n",
      "\n"
     ]
    },
    {
     "name": "stderr",
     "output_type": "stream",
     "text": [
      "C:\\Users\\Tom-G\\.conda\\envs\\torchenv\\lib\\site-packages\\torch\\nn\\modules\\container.py:141: UserWarning: Implicit dimension choice for softmax has been deprecated. Change the call to include dim=X as an argument.\n",
      "  input = module(input)\n"
     ]
    },
    {
     "name": "stdout",
     "output_type": "stream",
     "text": [
      "Step [0/8]\t loss_instance: 5.885451793670654\t loss_cluster: 1.572367548942566\n",
      "Step [2/8]\t loss_instance: 5.83345365524292\t loss_cluster: 1.5761277675628662\n",
      "Step [4/8]\t loss_instance: 5.841299533843994\t loss_cluster: 1.561517357826233\n",
      "Step [6/8]\t loss_instance: 5.835615634918213\t loss_cluster: 1.5596643686294556\n",
      "\n",
      "Epoch [265/500]\t Loss: 7.390835577249527 \n",
      "\n",
      "Step [0/8]\t Computing features...\n",
      "Features shape (8192,)\n",
      "14\n",
      "Test NMI = 0.6438 ARI = 0.3510 F = 0.4734 ACC = 0.4226\n",
      "================================================================\n",
      "\n"
     ]
    },
    {
     "name": "stderr",
     "output_type": "stream",
     "text": [
      "C:\\Users\\Tom-G\\.conda\\envs\\torchenv\\lib\\site-packages\\torch\\nn\\modules\\container.py:141: UserWarning: Implicit dimension choice for softmax has been deprecated. Change the call to include dim=X as an argument.\n",
      "  input = module(input)\n"
     ]
    },
    {
     "name": "stdout",
     "output_type": "stream",
     "text": [
      "Step [0/8]\t loss_instance: 5.842873573303223\t loss_cluster: 1.5540454387664795\n",
      "Step [2/8]\t loss_instance: 5.841109752655029\t loss_cluster: 1.574651837348938\n",
      "Step [4/8]\t loss_instance: 5.843765735626221\t loss_cluster: 1.5755096673965454\n",
      "Step [6/8]\t loss_instance: 5.843864917755127\t loss_cluster: 1.5678266286849976\n",
      "\n",
      "Epoch [266/500]\t Loss: 7.397975158691406 \n",
      "\n",
      "Step [0/8]\t Computing features...\n",
      "Features shape (8192,)\n",
      "14\n",
      "Test NMI = 0.6480 ARI = 0.3560 F = 0.4790 ACC = 0.4318\n",
      "================================================================\n",
      "\n"
     ]
    },
    {
     "name": "stderr",
     "output_type": "stream",
     "text": [
      "C:\\Users\\Tom-G\\.conda\\envs\\torchenv\\lib\\site-packages\\torch\\nn\\modules\\container.py:141: UserWarning: Implicit dimension choice for softmax has been deprecated. Change the call to include dim=X as an argument.\n",
      "  input = module(input)\n"
     ]
    },
    {
     "name": "stdout",
     "output_type": "stream",
     "text": [
      "Step [0/8]\t loss_instance: 5.846160888671875\t loss_cluster: 1.5731841325759888\n",
      "Step [2/8]\t loss_instance: 5.838608741760254\t loss_cluster: 1.5742353200912476\n",
      "Step [4/8]\t loss_instance: 5.843197345733643\t loss_cluster: 1.5665911436080933\n",
      "Step [6/8]\t loss_instance: 5.8664398193359375\t loss_cluster: 1.5861165523529053\n",
      "\n",
      "Epoch [267/500]\t Loss: 7.410229629278183 \n",
      "\n",
      "Step [0/8]\t Computing features...\n",
      "Features shape (8192,)\n",
      "14\n",
      "Test NMI = 0.6559 ARI = 0.3649 F = 0.4872 ACC = 0.4331\n",
      "================================================================\n",
      "\n"
     ]
    },
    {
     "name": "stderr",
     "output_type": "stream",
     "text": [
      "C:\\Users\\Tom-G\\.conda\\envs\\torchenv\\lib\\site-packages\\torch\\nn\\modules\\container.py:141: UserWarning: Implicit dimension choice for softmax has been deprecated. Change the call to include dim=X as an argument.\n",
      "  input = module(input)\n"
     ]
    },
    {
     "name": "stdout",
     "output_type": "stream",
     "text": [
      "Step [0/8]\t loss_instance: 5.848569869995117\t loss_cluster: 1.5786614418029785\n",
      "Step [2/8]\t loss_instance: 5.880972862243652\t loss_cluster: 1.6043493747711182\n",
      "Step [4/8]\t loss_instance: 5.859012603759766\t loss_cluster: 1.5698236227035522\n",
      "Step [6/8]\t loss_instance: 5.8556060791015625\t loss_cluster: 1.5769219398498535\n",
      "\n",
      "Epoch [268/500]\t Loss: 7.425377547740936 \n",
      "\n",
      "Step [0/8]\t Computing features...\n",
      "Features shape (8192,)\n",
      "14\n",
      "Test NMI = 0.6578 ARI = 0.3684 F = 0.4901 ACC = 0.4426\n",
      "================================================================\n",
      "\n"
     ]
    },
    {
     "name": "stderr",
     "output_type": "stream",
     "text": [
      "C:\\Users\\Tom-G\\.conda\\envs\\torchenv\\lib\\site-packages\\torch\\nn\\modules\\container.py:141: UserWarning: Implicit dimension choice for softmax has been deprecated. Change the call to include dim=X as an argument.\n",
      "  input = module(input)\n"
     ]
    },
    {
     "name": "stdout",
     "output_type": "stream",
     "text": [
      "Step [0/8]\t loss_instance: 5.872203826904297\t loss_cluster: 1.5866035223007202\n",
      "Step [2/8]\t loss_instance: 5.89353609085083\t loss_cluster: 1.6116374731063843\n",
      "Step [4/8]\t loss_instance: 5.872896194458008\t loss_cluster: 1.5880805253982544\n",
      "Step [6/8]\t loss_instance: 5.866756439208984\t loss_cluster: 1.5830397605895996\n",
      "\n",
      "Epoch [269/500]\t Loss: 7.446824139356613 \n",
      "\n",
      "Step [0/8]\t Computing features...\n",
      "Features shape (8192,)\n",
      "14\n",
      "Test NMI = 0.6550 ARI = 0.3690 F = 0.4908 ACC = 0.4479\n",
      "================================================================\n",
      "\n"
     ]
    },
    {
     "name": "stderr",
     "output_type": "stream",
     "text": [
      "C:\\Users\\Tom-G\\.conda\\envs\\torchenv\\lib\\site-packages\\torch\\nn\\modules\\container.py:141: UserWarning: Implicit dimension choice for softmax has been deprecated. Change the call to include dim=X as an argument.\n",
      "  input = module(input)\n"
     ]
    },
    {
     "name": "stdout",
     "output_type": "stream",
     "text": [
      "Step [0/8]\t loss_instance: 5.870644569396973\t loss_cluster: 1.6024541854858398\n",
      "Step [2/8]\t loss_instance: 5.865973472595215\t loss_cluster: 1.5876967906951904\n",
      "Step [4/8]\t loss_instance: 5.881351947784424\t loss_cluster: 1.6204071044921875\n",
      "Step [6/8]\t loss_instance: 5.848703384399414\t loss_cluster: 1.5792529582977295\n",
      "\n",
      "Epoch [270/500]\t Loss: 7.452098268270492 \n",
      "\n",
      "Step [0/8]\t Computing features...\n",
      "Features shape (8192,)\n",
      "14\n",
      "Test NMI = 0.6578 ARI = 0.3683 F = 0.4902 ACC = 0.4438\n",
      "================================================================\n",
      "\n"
     ]
    },
    {
     "name": "stderr",
     "output_type": "stream",
     "text": [
      "C:\\Users\\Tom-G\\.conda\\envs\\torchenv\\lib\\site-packages\\torch\\nn\\modules\\container.py:141: UserWarning: Implicit dimension choice for softmax has been deprecated. Change the call to include dim=X as an argument.\n",
      "  input = module(input)\n"
     ]
    },
    {
     "name": "stdout",
     "output_type": "stream",
     "text": [
      "Step [0/8]\t loss_instance: 5.867064952850342\t loss_cluster: 1.5857473611831665\n",
      "Step [2/8]\t loss_instance: 5.877974510192871\t loss_cluster: 1.5821565389633179\n",
      "Step [4/8]\t loss_instance: 5.873665809631348\t loss_cluster: 1.5714348554611206\n",
      "Step [6/8]\t loss_instance: 5.88332986831665\t loss_cluster: 1.5844460725784302\n",
      "\n",
      "Epoch [271/500]\t Loss: 7.45062837600708 \n",
      "\n",
      "Step [0/8]\t Computing features...\n",
      "Features shape (8192,)\n",
      "14\n",
      "Test NMI = 0.6500 ARI = 0.3621 F = 0.4843 ACC = 0.4330\n",
      "================================================================\n",
      "\n"
     ]
    },
    {
     "name": "stderr",
     "output_type": "stream",
     "text": [
      "C:\\Users\\Tom-G\\.conda\\envs\\torchenv\\lib\\site-packages\\torch\\nn\\modules\\container.py:141: UserWarning: Implicit dimension choice for softmax has been deprecated. Change the call to include dim=X as an argument.\n",
      "  input = module(input)\n"
     ]
    },
    {
     "name": "stdout",
     "output_type": "stream",
     "text": [
      "Step [0/8]\t loss_instance: 5.854921340942383\t loss_cluster: 1.5680989027023315\n",
      "Step [2/8]\t loss_instance: 5.855879783630371\t loss_cluster: 1.5848058462142944\n",
      "Step [4/8]\t loss_instance: 5.878253936767578\t loss_cluster: 1.5987390279769897\n",
      "Step [6/8]\t loss_instance: 5.881569862365723\t loss_cluster: 1.6038347482681274\n",
      "\n",
      "Epoch [272/500]\t Loss: 7.454315358400345 \n",
      "\n",
      "Step [0/8]\t Computing features...\n",
      "Features shape (8192,)\n",
      "14\n",
      "Test NMI = 0.6484 ARI = 0.3598 F = 0.4821 ACC = 0.4421\n",
      "================================================================\n",
      "\n"
     ]
    },
    {
     "name": "stderr",
     "output_type": "stream",
     "text": [
      "C:\\Users\\Tom-G\\.conda\\envs\\torchenv\\lib\\site-packages\\torch\\nn\\modules\\container.py:141: UserWarning: Implicit dimension choice for softmax has been deprecated. Change the call to include dim=X as an argument.\n",
      "  input = module(input)\n"
     ]
    },
    {
     "name": "stdout",
     "output_type": "stream",
     "text": [
      "Step [0/8]\t loss_instance: 5.878965854644775\t loss_cluster: 1.6037527322769165\n",
      "Step [2/8]\t loss_instance: 5.864833354949951\t loss_cluster: 1.5968925952911377\n",
      "Step [4/8]\t loss_instance: 5.873973369598389\t loss_cluster: 1.5797373056411743\n",
      "Step [6/8]\t loss_instance: 5.87190055847168\t loss_cluster: 1.5901695489883423\n",
      "\n",
      "Epoch [273/500]\t Loss: 7.444772726297378 \n",
      "\n",
      "Step [0/8]\t Computing features...\n",
      "Features shape (8192,)\n",
      "14\n",
      "Test NMI = 0.6554 ARI = 0.3708 F = 0.4930 ACC = 0.4491\n",
      "================================================================\n",
      "\n"
     ]
    },
    {
     "name": "stderr",
     "output_type": "stream",
     "text": [
      "C:\\Users\\Tom-G\\.conda\\envs\\torchenv\\lib\\site-packages\\torch\\nn\\modules\\container.py:141: UserWarning: Implicit dimension choice for softmax has been deprecated. Change the call to include dim=X as an argument.\n",
      "  input = module(input)\n"
     ]
    },
    {
     "name": "stdout",
     "output_type": "stream",
     "text": [
      "Step [0/8]\t loss_instance: 5.8704142570495605\t loss_cluster: 1.584856629371643\n",
      "Step [2/8]\t loss_instance: 5.893290996551514\t loss_cluster: 1.6037007570266724\n",
      "Step [4/8]\t loss_instance: 5.881783485412598\t loss_cluster: 1.603630781173706\n",
      "Step [6/8]\t loss_instance: 5.8755059242248535\t loss_cluster: 1.6157289743423462\n",
      "\n",
      "Epoch [274/500]\t Loss: 7.464939826726914 \n",
      "\n",
      "Step [0/8]\t Computing features...\n",
      "Features shape (8192,)\n",
      "14\n",
      "Test NMI = 0.6425 ARI = 0.3588 F = 0.4804 ACC = 0.4535\n",
      "================================================================\n",
      "\n"
     ]
    },
    {
     "name": "stderr",
     "output_type": "stream",
     "text": [
      "C:\\Users\\Tom-G\\.conda\\envs\\torchenv\\lib\\site-packages\\torch\\nn\\modules\\container.py:141: UserWarning: Implicit dimension choice for softmax has been deprecated. Change the call to include dim=X as an argument.\n",
      "  input = module(input)\n"
     ]
    },
    {
     "name": "stdout",
     "output_type": "stream",
     "text": [
      "Step [0/8]\t loss_instance: 5.881896495819092\t loss_cluster: 1.5902621746063232\n",
      "Step [2/8]\t loss_instance: 5.8886213302612305\t loss_cluster: 1.6013104915618896\n",
      "Step [4/8]\t loss_instance: 5.8734235763549805\t loss_cluster: 1.5855709314346313\n",
      "Step [6/8]\t loss_instance: 5.902102470397949\t loss_cluster: 1.6061694622039795\n",
      "\n",
      "Epoch [275/500]\t Loss: 7.473597943782806 \n",
      "\n",
      "Step [0/8]\t Computing features...\n",
      "Features shape (8192,)\n",
      "14\n",
      "Test NMI = 0.6434 ARI = 0.3588 F = 0.4808 ACC = 0.4489\n",
      "================================================================\n",
      "\n"
     ]
    },
    {
     "name": "stderr",
     "output_type": "stream",
     "text": [
      "C:\\Users\\Tom-G\\.conda\\envs\\torchenv\\lib\\site-packages\\torch\\nn\\modules\\container.py:141: UserWarning: Implicit dimension choice for softmax has been deprecated. Change the call to include dim=X as an argument.\n",
      "  input = module(input)\n"
     ]
    },
    {
     "name": "stdout",
     "output_type": "stream",
     "text": [
      "Step [0/8]\t loss_instance: 5.874828338623047\t loss_cluster: 1.5866022109985352\n",
      "Step [2/8]\t loss_instance: 5.8729987144470215\t loss_cluster: 1.5928179025650024\n",
      "Step [4/8]\t loss_instance: 5.889263153076172\t loss_cluster: 1.5937812328338623\n",
      "Step [6/8]\t loss_instance: 5.871114730834961\t loss_cluster: 1.5858348608016968\n",
      "\n",
      "Epoch [276/500]\t Loss: 7.451343154907226 \n",
      "\n",
      "Step [0/8]\t Computing features...\n",
      "Features shape (8192,)\n",
      "14\n",
      "Test NMI = 0.6436 ARI = 0.3591 F = 0.4804 ACC = 0.4443\n",
      "================================================================\n",
      "\n"
     ]
    },
    {
     "name": "stderr",
     "output_type": "stream",
     "text": [
      "C:\\Users\\Tom-G\\.conda\\envs\\torchenv\\lib\\site-packages\\torch\\nn\\modules\\container.py:141: UserWarning: Implicit dimension choice for softmax has been deprecated. Change the call to include dim=X as an argument.\n",
      "  input = module(input)\n"
     ]
    },
    {
     "name": "stdout",
     "output_type": "stream",
     "text": [
      "Step [0/8]\t loss_instance: 5.8681488037109375\t loss_cluster: 1.5795257091522217\n",
      "Step [2/8]\t loss_instance: 5.886986255645752\t loss_cluster: 1.6098339557647705\n",
      "Step [4/8]\t loss_instance: 5.886683464050293\t loss_cluster: 1.610753059387207\n",
      "Step [6/8]\t loss_instance: 5.8934431076049805\t loss_cluster: 1.6141483783721924\n",
      "\n",
      "Epoch [277/500]\t Loss: 7.475312060117721 \n",
      "\n",
      "Step [0/8]\t Computing features...\n",
      "Features shape (8192,)\n",
      "14\n",
      "Test NMI = 0.6456 ARI = 0.3618 F = 0.4843 ACC = 0.4520\n",
      "================================================================\n",
      "\n"
     ]
    },
    {
     "name": "stderr",
     "output_type": "stream",
     "text": [
      "C:\\Users\\Tom-G\\.conda\\envs\\torchenv\\lib\\site-packages\\torch\\nn\\modules\\container.py:141: UserWarning: Implicit dimension choice for softmax has been deprecated. Change the call to include dim=X as an argument.\n",
      "  input = module(input)\n"
     ]
    },
    {
     "name": "stdout",
     "output_type": "stream",
     "text": [
      "Step [0/8]\t loss_instance: 5.909388542175293\t loss_cluster: 1.621439814567566\n",
      "Step [2/8]\t loss_instance: 5.872714996337891\t loss_cluster: 1.5786539316177368\n",
      "Step [4/8]\t loss_instance: 5.868857383728027\t loss_cluster: 1.578650712966919\n",
      "Step [6/8]\t loss_instance: 5.887634754180908\t loss_cluster: 1.581658959388733\n",
      "\n",
      "Epoch [278/500]\t Loss: 7.444070863723755 \n",
      "\n",
      "Step [0/8]\t Computing features...\n",
      "Features shape (8192,)\n",
      "14\n",
      "Test NMI = 0.6415 ARI = 0.3535 F = 0.4751 ACC = 0.4445\n",
      "================================================================\n",
      "\n"
     ]
    },
    {
     "name": "stderr",
     "output_type": "stream",
     "text": [
      "C:\\Users\\Tom-G\\.conda\\envs\\torchenv\\lib\\site-packages\\torch\\nn\\modules\\container.py:141: UserWarning: Implicit dimension choice for softmax has been deprecated. Change the call to include dim=X as an argument.\n",
      "  input = module(input)\n"
     ]
    },
    {
     "name": "stdout",
     "output_type": "stream",
     "text": [
      "Step [0/8]\t loss_instance: 5.914721965789795\t loss_cluster: 1.6194504499435425\n",
      "Step [2/8]\t loss_instance: 5.870415210723877\t loss_cluster: 1.5746651887893677\n",
      "Step [4/8]\t loss_instance: 5.913724422454834\t loss_cluster: 1.5974923372268677\n",
      "Step [6/8]\t loss_instance: 5.886208534240723\t loss_cluster: 1.5904461145401\n",
      "\n",
      "Epoch [279/500]\t Loss: 7.4596741735935215 \n",
      "\n",
      "Step [0/8]\t Computing features...\n",
      "Features shape (8192,)\n",
      "14\n",
      "Test NMI = 0.6402 ARI = 0.3477 F = 0.4696 ACC = 0.4440\n",
      "================================================================\n",
      "\n"
     ]
    },
    {
     "name": "stderr",
     "output_type": "stream",
     "text": [
      "C:\\Users\\Tom-G\\.conda\\envs\\torchenv\\lib\\site-packages\\torch\\nn\\modules\\container.py:141: UserWarning: Implicit dimension choice for softmax has been deprecated. Change the call to include dim=X as an argument.\n",
      "  input = module(input)\n"
     ]
    },
    {
     "name": "stdout",
     "output_type": "stream",
     "text": [
      "Step [0/8]\t loss_instance: 5.8051605224609375\t loss_cluster: 1.5569820404052734\n",
      "Step [2/8]\t loss_instance: 5.835186004638672\t loss_cluster: 1.5566084384918213\n",
      "Step [4/8]\t loss_instance: 5.839895725250244\t loss_cluster: 1.5628879070281982\n",
      "Step [6/8]\t loss_instance: 5.835227012634277\t loss_cluster: 1.5613120794296265\n",
      "\n",
      "Epoch [280/500]\t Loss: 7.3867310106754305 \n",
      "\n",
      "Step [0/8]\t Computing features...\n",
      "Features shape (8192,)\n",
      "14\n",
      "Test NMI = 0.6429 ARI = 0.3535 F = 0.4756 ACC = 0.4431\n",
      "================================================================\n",
      "\n"
     ]
    },
    {
     "name": "stderr",
     "output_type": "stream",
     "text": [
      "C:\\Users\\Tom-G\\.conda\\envs\\torchenv\\lib\\site-packages\\torch\\nn\\modules\\container.py:141: UserWarning: Implicit dimension choice for softmax has been deprecated. Change the call to include dim=X as an argument.\n",
      "  input = module(input)\n"
     ]
    },
    {
     "name": "stdout",
     "output_type": "stream",
     "text": [
      "Step [0/8]\t loss_instance: 5.842009544372559\t loss_cluster: 1.5648585557937622\n",
      "Step [2/8]\t loss_instance: 5.853442668914795\t loss_cluster: 1.5641323328018188\n",
      "Step [4/8]\t loss_instance: 5.870687961578369\t loss_cluster: 1.5764795541763306\n",
      "Step [6/8]\t loss_instance: 5.893064022064209\t loss_cluster: 1.587592363357544\n",
      "\n",
      "Epoch [281/500]\t Loss: 7.425118482112884 \n",
      "\n",
      "Step [0/8]\t Computing features...\n",
      "Features shape (8192,)\n",
      "14\n",
      "Test NMI = 0.6631 ARI = 0.3738 F = 0.4952 ACC = 0.4508\n",
      "================================================================\n",
      "\n"
     ]
    },
    {
     "name": "stderr",
     "output_type": "stream",
     "text": [
      "C:\\Users\\Tom-G\\.conda\\envs\\torchenv\\lib\\site-packages\\torch\\nn\\modules\\container.py:141: UserWarning: Implicit dimension choice for softmax has been deprecated. Change the call to include dim=X as an argument.\n",
      "  input = module(input)\n"
     ]
    },
    {
     "name": "stdout",
     "output_type": "stream",
     "text": [
      "Step [0/8]\t loss_instance: 5.892568111419678\t loss_cluster: 1.5945591926574707\n",
      "Step [2/8]\t loss_instance: 5.86573600769043\t loss_cluster: 1.5974947214126587\n",
      "Step [4/8]\t loss_instance: 5.8543877601623535\t loss_cluster: 1.563783049583435\n",
      "Step [6/8]\t loss_instance: 5.855787754058838\t loss_cluster: 1.5682264566421509\n",
      "\n",
      "Epoch [282/500]\t Loss: 7.467603427171707 \n",
      "\n",
      "Step [0/8]\t Computing features...\n",
      "Features shape (8192,)\n",
      "14\n",
      "Test NMI = 0.6444 ARI = 0.3561 F = 0.4775 ACC = 0.4459\n",
      "================================================================\n",
      "\n"
     ]
    },
    {
     "name": "stderr",
     "output_type": "stream",
     "text": [
      "C:\\Users\\Tom-G\\.conda\\envs\\torchenv\\lib\\site-packages\\torch\\nn\\modules\\container.py:141: UserWarning: Implicit dimension choice for softmax has been deprecated. Change the call to include dim=X as an argument.\n",
      "  input = module(input)\n"
     ]
    },
    {
     "name": "stdout",
     "output_type": "stream",
     "text": [
      "Step [0/8]\t loss_instance: 5.835312843322754\t loss_cluster: 1.57027006149292\n",
      "Step [2/8]\t loss_instance: 5.83650541305542\t loss_cluster: 1.5471771955490112\n",
      "Step [4/8]\t loss_instance: 5.826673984527588\t loss_cluster: 1.5533958673477173\n",
      "Step [6/8]\t loss_instance: 5.822231292724609\t loss_cluster: 1.5443155765533447\n",
      "\n",
      "Epoch [283/500]\t Loss: 7.380127120018005 \n",
      "\n",
      "Step [0/8]\t Computing features...\n",
      "Features shape (8192,)\n",
      "14\n",
      "Test NMI = 0.6359 ARI = 0.3456 F = 0.4682 ACC = 0.4364\n",
      "================================================================\n",
      "\n"
     ]
    },
    {
     "name": "stderr",
     "output_type": "stream",
     "text": [
      "C:\\Users\\Tom-G\\.conda\\envs\\torchenv\\lib\\site-packages\\torch\\nn\\modules\\container.py:141: UserWarning: Implicit dimension choice for softmax has been deprecated. Change the call to include dim=X as an argument.\n",
      "  input = module(input)\n"
     ]
    },
    {
     "name": "stdout",
     "output_type": "stream",
     "text": [
      "Step [0/8]\t loss_instance: 5.824323654174805\t loss_cluster: 1.5409859418869019\n",
      "Step [2/8]\t loss_instance: 5.826927185058594\t loss_cluster: 1.5473138093948364\n",
      "Step [4/8]\t loss_instance: 5.818366050720215\t loss_cluster: 1.5643380880355835\n",
      "Step [6/8]\t loss_instance: 5.824672222137451\t loss_cluster: 1.5575672388076782\n",
      "\n",
      "Epoch [284/500]\t Loss: 7.373241674900055 \n",
      "\n",
      "Step [0/8]\t Computing features...\n",
      "Features shape (8192,)\n",
      "14\n",
      "Test NMI = 0.6416 ARI = 0.3517 F = 0.4747 ACC = 0.4395\n",
      "================================================================\n",
      "\n"
     ]
    },
    {
     "name": "stderr",
     "output_type": "stream",
     "text": [
      "C:\\Users\\Tom-G\\.conda\\envs\\torchenv\\lib\\site-packages\\torch\\nn\\modules\\container.py:141: UserWarning: Implicit dimension choice for softmax has been deprecated. Change the call to include dim=X as an argument.\n",
      "  input = module(input)\n"
     ]
    },
    {
     "name": "stdout",
     "output_type": "stream",
     "text": [
      "Step [0/8]\t loss_instance: 5.822632312774658\t loss_cluster: 1.5429421663284302\n",
      "Step [2/8]\t loss_instance: 5.820302486419678\t loss_cluster: 1.5443168878555298\n",
      "Step [4/8]\t loss_instance: 5.8264994621276855\t loss_cluster: 1.5421782732009888\n",
      "Step [6/8]\t loss_instance: 5.838389873504639\t loss_cluster: 1.5627272129058838\n",
      "\n",
      "Epoch [285/500]\t Loss: 7.371325272321701 \n",
      "\n",
      "Step [0/8]\t Computing features...\n",
      "Features shape (8192,)\n",
      "14\n",
      "Test NMI = 0.6352 ARI = 0.3472 F = 0.4689 ACC = 0.4497\n",
      "================================================================\n",
      "\n"
     ]
    },
    {
     "name": "stderr",
     "output_type": "stream",
     "text": [
      "C:\\Users\\Tom-G\\.conda\\envs\\torchenv\\lib\\site-packages\\torch\\nn\\modules\\container.py:141: UserWarning: Implicit dimension choice for softmax has been deprecated. Change the call to include dim=X as an argument.\n",
      "  input = module(input)\n"
     ]
    },
    {
     "name": "stdout",
     "output_type": "stream",
     "text": [
      "Step [0/8]\t loss_instance: 5.831453323364258\t loss_cluster: 1.558039903640747\n",
      "Step [2/8]\t loss_instance: 5.825780391693115\t loss_cluster: 1.5573428869247437\n",
      "Step [4/8]\t loss_instance: 5.836545944213867\t loss_cluster: 1.5847289562225342\n",
      "Step [6/8]\t loss_instance: 5.827225685119629\t loss_cluster: 1.5497337579727173\n",
      "\n",
      "Epoch [286/500]\t Loss: 7.376485365629196 \n",
      "\n",
      "Step [0/8]\t Computing features...\n",
      "Features shape (8192,)\n",
      "14\n",
      "Test NMI = 0.6403 ARI = 0.3546 F = 0.4766 ACC = 0.4490\n",
      "================================================================\n",
      "\n"
     ]
    },
    {
     "name": "stderr",
     "output_type": "stream",
     "text": [
      "C:\\Users\\Tom-G\\.conda\\envs\\torchenv\\lib\\site-packages\\torch\\nn\\modules\\container.py:141: UserWarning: Implicit dimension choice for softmax has been deprecated. Change the call to include dim=X as an argument.\n",
      "  input = module(input)\n"
     ]
    },
    {
     "name": "stdout",
     "output_type": "stream",
     "text": [
      "Step [0/8]\t loss_instance: 5.831116676330566\t loss_cluster: 1.554512858390808\n",
      "Step [2/8]\t loss_instance: 5.828874588012695\t loss_cluster: 1.5527845621109009\n",
      "Step [4/8]\t loss_instance: 5.818103313446045\t loss_cluster: 1.5457433462142944\n",
      "Step [6/8]\t loss_instance: 5.815006732940674\t loss_cluster: 1.5452885627746582\n",
      "\n",
      "Epoch [287/500]\t Loss: 7.3607254981994625 \n",
      "\n",
      "Step [0/8]\t Computing features...\n",
      "Features shape (8192,)\n",
      "14\n",
      "Test NMI = 0.6292 ARI = 0.3386 F = 0.4606 ACC = 0.4296\n",
      "================================================================\n",
      "\n"
     ]
    },
    {
     "name": "stderr",
     "output_type": "stream",
     "text": [
      "C:\\Users\\Tom-G\\.conda\\envs\\torchenv\\lib\\site-packages\\torch\\nn\\modules\\container.py:141: UserWarning: Implicit dimension choice for softmax has been deprecated. Change the call to include dim=X as an argument.\n",
      "  input = module(input)\n"
     ]
    },
    {
     "name": "stdout",
     "output_type": "stream",
     "text": [
      "Step [0/8]\t loss_instance: 5.815448760986328\t loss_cluster: 1.5576508045196533\n",
      "Step [2/8]\t loss_instance: 5.819843769073486\t loss_cluster: 1.5423997640609741\n",
      "Step [4/8]\t loss_instance: 5.810029983520508\t loss_cluster: 1.5433703660964966\n",
      "Step [6/8]\t loss_instance: 5.818149566650391\t loss_cluster: 1.5449697971343994\n",
      "\n",
      "Epoch [288/500]\t Loss: 7.359732788801193 \n",
      "\n",
      "Step [0/8]\t Computing features...\n",
      "Features shape (8192,)\n",
      "14\n",
      "Test NMI = 0.6298 ARI = 0.3418 F = 0.4646 ACC = 0.4390\n",
      "================================================================\n",
      "\n"
     ]
    },
    {
     "name": "stderr",
     "output_type": "stream",
     "text": [
      "C:\\Users\\Tom-G\\.conda\\envs\\torchenv\\lib\\site-packages\\torch\\nn\\modules\\container.py:141: UserWarning: Implicit dimension choice for softmax has been deprecated. Change the call to include dim=X as an argument.\n",
      "  input = module(input)\n"
     ]
    },
    {
     "name": "stdout",
     "output_type": "stream",
     "text": [
      "Step [0/8]\t loss_instance: 5.805440425872803\t loss_cluster: 1.544607162475586\n",
      "Step [2/8]\t loss_instance: 5.806572914123535\t loss_cluster: 1.5553193092346191\n",
      "Step [4/8]\t loss_instance: 5.817017555236816\t loss_cluster: 1.5549392700195312\n",
      "Step [6/8]\t loss_instance: 5.818984031677246\t loss_cluster: 1.5586148500442505\n",
      "\n",
      "Epoch [289/500]\t Loss: 7.351499438285828 \n",
      "\n",
      "Step [0/8]\t Computing features...\n",
      "Features shape (8192,)\n",
      "14\n",
      "Test NMI = 0.6345 ARI = 0.3478 F = 0.4702 ACC = 0.4349\n",
      "================================================================\n",
      "\n"
     ]
    },
    {
     "name": "stderr",
     "output_type": "stream",
     "text": [
      "C:\\Users\\Tom-G\\.conda\\envs\\torchenv\\lib\\site-packages\\torch\\nn\\modules\\container.py:141: UserWarning: Implicit dimension choice for softmax has been deprecated. Change the call to include dim=X as an argument.\n",
      "  input = module(input)\n"
     ]
    },
    {
     "name": "stdout",
     "output_type": "stream",
     "text": [
      "Step [0/8]\t loss_instance: 5.810798168182373\t loss_cluster: 1.5500613451004028\n",
      "Step [2/8]\t loss_instance: 5.8094658851623535\t loss_cluster: 1.5567543506622314\n",
      "Step [4/8]\t loss_instance: 5.803735256195068\t loss_cluster: 1.545820951461792\n",
      "Step [6/8]\t loss_instance: 5.799444198608398\t loss_cluster: 1.5529197454452515\n",
      "\n",
      "Epoch [290/500]\t Loss: 7.347904437780381 \n",
      "\n",
      "Step [0/8]\t Computing features...\n",
      "Features shape (8192,)\n",
      "14\n",
      "Test NMI = 0.6359 ARI = 0.3517 F = 0.4737 ACC = 0.4388\n",
      "================================================================\n",
      "\n"
     ]
    },
    {
     "name": "stderr",
     "output_type": "stream",
     "text": [
      "C:\\Users\\Tom-G\\.conda\\envs\\torchenv\\lib\\site-packages\\torch\\nn\\modules\\container.py:141: UserWarning: Implicit dimension choice for softmax has been deprecated. Change the call to include dim=X as an argument.\n",
      "  input = module(input)\n"
     ]
    },
    {
     "name": "stdout",
     "output_type": "stream",
     "text": [
      "Step [0/8]\t loss_instance: 5.7924418449401855\t loss_cluster: 1.5361043214797974\n",
      "Step [2/8]\t loss_instance: 5.801570892333984\t loss_cluster: 1.5392485857009888\n",
      "Step [4/8]\t loss_instance: 5.796088218688965\t loss_cluster: 1.5453850030899048\n",
      "Step [6/8]\t loss_instance: 5.8025336265563965\t loss_cluster: 1.5514031648635864\n",
      "\n",
      "Epoch [291/500]\t Loss: 7.340519320964813 \n",
      "\n",
      "Step [0/8]\t Computing features...\n",
      "Features shape (8192,)\n",
      "14\n",
      "Test NMI = 0.6287 ARI = 0.3395 F = 0.4621 ACC = 0.4266\n",
      "================================================================\n",
      "\n"
     ]
    },
    {
     "name": "stderr",
     "output_type": "stream",
     "text": [
      "C:\\Users\\Tom-G\\.conda\\envs\\torchenv\\lib\\site-packages\\torch\\nn\\modules\\container.py:141: UserWarning: Implicit dimension choice for softmax has been deprecated. Change the call to include dim=X as an argument.\n",
      "  input = module(input)\n"
     ]
    },
    {
     "name": "stdout",
     "output_type": "stream",
     "text": [
      "Step [0/8]\t loss_instance: 5.824033260345459\t loss_cluster: 1.5531201362609863\n",
      "Step [2/8]\t loss_instance: 5.829432487487793\t loss_cluster: 1.5635955333709717\n",
      "Step [4/8]\t loss_instance: 5.819612503051758\t loss_cluster: 1.5652796030044556\n",
      "Step [6/8]\t loss_instance: 5.823577404022217\t loss_cluster: 1.5709729194641113\n",
      "\n",
      "Epoch [292/500]\t Loss: 7.3701559662818905 \n",
      "\n",
      "Step [0/8]\t Computing features...\n",
      "Features shape (8192,)\n",
      "14\n",
      "Test NMI = 0.6339 ARI = 0.3454 F = 0.4678 ACC = 0.4326\n",
      "================================================================\n",
      "\n"
     ]
    },
    {
     "name": "stderr",
     "output_type": "stream",
     "text": [
      "C:\\Users\\Tom-G\\.conda\\envs\\torchenv\\lib\\site-packages\\torch\\nn\\modules\\container.py:141: UserWarning: Implicit dimension choice for softmax has been deprecated. Change the call to include dim=X as an argument.\n",
      "  input = module(input)\n"
     ]
    },
    {
     "name": "stdout",
     "output_type": "stream",
     "text": [
      "Step [0/8]\t loss_instance: 5.819129467010498\t loss_cluster: 1.5482532978057861\n",
      "Step [2/8]\t loss_instance: 5.8507890701293945\t loss_cluster: 1.5610846281051636\n",
      "Step [4/8]\t loss_instance: 5.833080291748047\t loss_cluster: 1.5559217929840088\n",
      "Step [6/8]\t loss_instance: 5.846015930175781\t loss_cluster: 1.5551224946975708\n",
      "\n",
      "Epoch [293/500]\t Loss: 7.380330568552017 \n",
      "\n",
      "Step [0/8]\t Computing features...\n",
      "Features shape (8192,)\n",
      "14\n",
      "Test NMI = 0.6415 ARI = 0.3534 F = 0.4765 ACC = 0.4392\n",
      "================================================================\n",
      "\n"
     ]
    },
    {
     "name": "stderr",
     "output_type": "stream",
     "text": [
      "C:\\Users\\Tom-G\\.conda\\envs\\torchenv\\lib\\site-packages\\torch\\nn\\modules\\container.py:141: UserWarning: Implicit dimension choice for softmax has been deprecated. Change the call to include dim=X as an argument.\n",
      "  input = module(input)\n"
     ]
    },
    {
     "name": "stdout",
     "output_type": "stream",
     "text": [
      "Step [0/8]\t loss_instance: 5.823078632354736\t loss_cluster: 1.5536978244781494\n",
      "Step [2/8]\t loss_instance: 5.837095737457275\t loss_cluster: 1.5609462261199951\n",
      "Step [4/8]\t loss_instance: 5.825065612792969\t loss_cluster: 1.5643450021743774\n",
      "Step [6/8]\t loss_instance: 5.821106433868408\t loss_cluster: 1.5553977489471436\n",
      "\n",
      "Epoch [294/500]\t Loss: 7.370540273189545 \n",
      "\n",
      "Step [0/8]\t Computing features...\n",
      "Features shape (8192,)\n",
      "14\n",
      "Test NMI = 0.6352 ARI = 0.3411 F = 0.4639 ACC = 0.4347\n",
      "================================================================\n",
      "\n"
     ]
    },
    {
     "name": "stderr",
     "output_type": "stream",
     "text": [
      "C:\\Users\\Tom-G\\.conda\\envs\\torchenv\\lib\\site-packages\\torch\\nn\\modules\\container.py:141: UserWarning: Implicit dimension choice for softmax has been deprecated. Change the call to include dim=X as an argument.\n",
      "  input = module(input)\n"
     ]
    },
    {
     "name": "stdout",
     "output_type": "stream",
     "text": [
      "Step [0/8]\t loss_instance: 5.827068328857422\t loss_cluster: 1.5610460042953491\n",
      "Step [2/8]\t loss_instance: 5.836009502410889\t loss_cluster: 1.5564028024673462\n",
      "Step [4/8]\t loss_instance: 5.84752082824707\t loss_cluster: 1.5654102563858032\n",
      "Step [6/8]\t loss_instance: 5.885809421539307\t loss_cluster: 1.5798324346542358\n",
      "\n",
      "Epoch [295/500]\t Loss: 7.416533130407333 \n",
      "\n",
      "Step [0/8]\t Computing features...\n",
      "Features shape (8192,)\n",
      "14\n",
      "Test NMI = 0.6446 ARI = 0.3573 F = 0.4796 ACC = 0.4507\n",
      "================================================================\n",
      "\n"
     ]
    },
    {
     "name": "stderr",
     "output_type": "stream",
     "text": [
      "C:\\Users\\Tom-G\\.conda\\envs\\torchenv\\lib\\site-packages\\torch\\nn\\modules\\container.py:141: UserWarning: Implicit dimension choice for softmax has been deprecated. Change the call to include dim=X as an argument.\n",
      "  input = module(input)\n"
     ]
    },
    {
     "name": "stdout",
     "output_type": "stream",
     "text": [
      "Step [0/8]\t loss_instance: 5.844977855682373\t loss_cluster: 1.5730715990066528\n",
      "Step [2/8]\t loss_instance: 5.838436603546143\t loss_cluster: 1.554835557937622\n",
      "Step [4/8]\t loss_instance: 5.8305888175964355\t loss_cluster: 1.5446585416793823\n",
      "Step [6/8]\t loss_instance: 5.846780300140381\t loss_cluster: 1.5789709091186523\n",
      "\n",
      "Epoch [296/500]\t Loss: 7.400921058654785 \n",
      "\n",
      "Step [0/8]\t Computing features...\n",
      "Features shape (8192,)\n",
      "14\n",
      "Test NMI = 0.6493 ARI = 0.3614 F = 0.4838 ACC = 0.4543\n",
      "================================================================\n",
      "\n"
     ]
    },
    {
     "name": "stderr",
     "output_type": "stream",
     "text": [
      "C:\\Users\\Tom-G\\.conda\\envs\\torchenv\\lib\\site-packages\\torch\\nn\\modules\\container.py:141: UserWarning: Implicit dimension choice for softmax has been deprecated. Change the call to include dim=X as an argument.\n",
      "  input = module(input)\n"
     ]
    },
    {
     "name": "stdout",
     "output_type": "stream",
     "text": [
      "Step [0/8]\t loss_instance: 5.847482681274414\t loss_cluster: 1.5721162557601929\n",
      "Step [2/8]\t loss_instance: 5.851497173309326\t loss_cluster: 1.570094108581543\n",
      "Step [4/8]\t loss_instance: 5.8883185386657715\t loss_cluster: 1.5828688144683838\n",
      "Step [6/8]\t loss_instance: 5.860352516174316\t loss_cluster: 1.5521999597549438\n",
      "\n",
      "Epoch [297/500]\t Loss: 7.419156992435456 \n",
      "\n",
      "Step [0/8]\t Computing features...\n",
      "Features shape (8192,)\n",
      "14\n",
      "Test NMI = 0.6501 ARI = 0.3602 F = 0.4818 ACC = 0.4460\n",
      "================================================================\n",
      "\n"
     ]
    },
    {
     "name": "stderr",
     "output_type": "stream",
     "text": [
      "C:\\Users\\Tom-G\\.conda\\envs\\torchenv\\lib\\site-packages\\torch\\nn\\modules\\container.py:141: UserWarning: Implicit dimension choice for softmax has been deprecated. Change the call to include dim=X as an argument.\n",
      "  input = module(input)\n"
     ]
    },
    {
     "name": "stdout",
     "output_type": "stream",
     "text": [
      "Step [0/8]\t loss_instance: 5.85350227355957\t loss_cluster: 1.5972310304641724\n",
      "Step [2/8]\t loss_instance: 5.854305744171143\t loss_cluster: 1.571959376335144\n",
      "Step [4/8]\t loss_instance: 5.865177154541016\t loss_cluster: 1.5941087007522583\n",
      "Step [6/8]\t loss_instance: 5.865968227386475\t loss_cluster: 1.562320590019226\n",
      "\n",
      "Epoch [298/500]\t Loss: 7.420048427581787 \n",
      "\n",
      "Step [0/8]\t Computing features...\n",
      "Features shape (8192,)\n",
      "14\n",
      "Test NMI = 0.6493 ARI = 0.3617 F = 0.4836 ACC = 0.4498\n",
      "================================================================\n",
      "\n"
     ]
    },
    {
     "name": "stderr",
     "output_type": "stream",
     "text": [
      "C:\\Users\\Tom-G\\.conda\\envs\\torchenv\\lib\\site-packages\\torch\\nn\\modules\\container.py:141: UserWarning: Implicit dimension choice for softmax has been deprecated. Change the call to include dim=X as an argument.\n",
      "  input = module(input)\n"
     ]
    },
    {
     "name": "stdout",
     "output_type": "stream",
     "text": [
      "Step [0/8]\t loss_instance: 5.853371620178223\t loss_cluster: 1.5753803253173828\n",
      "Step [2/8]\t loss_instance: 5.846444129943848\t loss_cluster: 1.5778154134750366\n",
      "Step [4/8]\t loss_instance: 5.849595546722412\t loss_cluster: 1.5639605522155762\n",
      "Step [6/8]\t loss_instance: 5.8421311378479\t loss_cluster: 1.5699243545532227\n",
      "\n",
      "Epoch [299/500]\t Loss: 7.4093967318534855 \n",
      "\n",
      "Step [0/8]\t Computing features...\n",
      "Features shape (8192,)\n",
      "14\n",
      "Test NMI = 0.6485 ARI = 0.3592 F = 0.4813 ACC = 0.4490\n",
      "================================================================\n",
      "\n"
     ]
    },
    {
     "name": "stderr",
     "output_type": "stream",
     "text": [
      "C:\\Users\\Tom-G\\.conda\\envs\\torchenv\\lib\\site-packages\\torch\\nn\\modules\\container.py:141: UserWarning: Implicit dimension choice for softmax has been deprecated. Change the call to include dim=X as an argument.\n",
      "  input = module(input)\n"
     ]
    },
    {
     "name": "stdout",
     "output_type": "stream",
     "text": [
      "Step [0/8]\t loss_instance: 5.789321422576904\t loss_cluster: 1.5309221744537354\n",
      "Step [2/8]\t loss_instance: 5.793699741363525\t loss_cluster: 1.532615303993225\n",
      "Step [4/8]\t loss_instance: 5.792272090911865\t loss_cluster: 1.5461609363555908\n",
      "Step [6/8]\t loss_instance: 5.808493137359619\t loss_cluster: 1.556454062461853\n",
      "\n",
      "Epoch [300/500]\t Loss: 7.359534758329391 \n",
      "\n",
      "Step [0/8]\t Computing features...\n",
      "Features shape (8192,)\n",
      "14\n",
      "Test NMI = 0.6475 ARI = 0.3580 F = 0.4796 ACC = 0.4479\n",
      "================================================================\n",
      "\n"
     ]
    },
    {
     "name": "stderr",
     "output_type": "stream",
     "text": [
      "C:\\Users\\Tom-G\\.conda\\envs\\torchenv\\lib\\site-packages\\torch\\nn\\modules\\container.py:141: UserWarning: Implicit dimension choice for softmax has been deprecated. Change the call to include dim=X as an argument.\n",
      "  input = module(input)\n"
     ]
    },
    {
     "name": "stdout",
     "output_type": "stream",
     "text": [
      "Step [0/8]\t loss_instance: 5.808935165405273\t loss_cluster: 1.5479077100753784\n",
      "Step [2/8]\t loss_instance: 5.801511764526367\t loss_cluster: 1.5415266752243042\n",
      "Step [4/8]\t loss_instance: 5.817550182342529\t loss_cluster: 1.5553067922592163\n",
      "Step [6/8]\t loss_instance: 5.812366008758545\t loss_cluster: 1.5525026321411133\n",
      "\n",
      "Epoch [301/500]\t Loss: 7.365519350767135 \n",
      "\n",
      "Step [0/8]\t Computing features...\n",
      "Features shape (8192,)\n",
      "14\n",
      "Test NMI = 0.6507 ARI = 0.3614 F = 0.4832 ACC = 0.4506\n",
      "================================================================\n",
      "\n"
     ]
    },
    {
     "name": "stderr",
     "output_type": "stream",
     "text": [
      "C:\\Users\\Tom-G\\.conda\\envs\\torchenv\\lib\\site-packages\\torch\\nn\\modules\\container.py:141: UserWarning: Implicit dimension choice for softmax has been deprecated. Change the call to include dim=X as an argument.\n",
      "  input = module(input)\n"
     ]
    },
    {
     "name": "stdout",
     "output_type": "stream",
     "text": [
      "Step [0/8]\t loss_instance: 5.788724899291992\t loss_cluster: 1.5382472276687622\n",
      "Step [2/8]\t loss_instance: 5.8010053634643555\t loss_cluster: 1.5547860860824585\n",
      "Step [4/8]\t loss_instance: 5.800453186035156\t loss_cluster: 1.545387864112854\n",
      "Step [6/8]\t loss_instance: 5.791776657104492\t loss_cluster: 1.5450565814971924\n",
      "\n",
      "Epoch [302/500]\t Loss: 7.339385175704956 \n",
      "\n",
      "Step [0/8]\t Computing features...\n",
      "Features shape (8192,)\n",
      "14\n",
      "Test NMI = 0.6440 ARI = 0.3551 F = 0.4772 ACC = 0.4457\n",
      "================================================================\n",
      "\n"
     ]
    },
    {
     "name": "stderr",
     "output_type": "stream",
     "text": [
      "C:\\Users\\Tom-G\\.conda\\envs\\torchenv\\lib\\site-packages\\torch\\nn\\modules\\container.py:141: UserWarning: Implicit dimension choice for softmax has been deprecated. Change the call to include dim=X as an argument.\n",
      "  input = module(input)\n"
     ]
    },
    {
     "name": "stdout",
     "output_type": "stream",
     "text": [
      "Step [0/8]\t loss_instance: 5.78902006149292\t loss_cluster: 1.5352391004562378\n",
      "Step [2/8]\t loss_instance: 5.789413928985596\t loss_cluster: 1.538099765777588\n",
      "Step [4/8]\t loss_instance: 5.808642387390137\t loss_cluster: 1.5550224781036377\n",
      "Step [6/8]\t loss_instance: 5.798750877380371\t loss_cluster: 1.550014853477478\n",
      "\n",
      "Epoch [303/500]\t Loss: 7.338010162115097 \n",
      "\n",
      "Step [0/8]\t Computing features...\n",
      "Features shape (8192,)\n",
      "14\n",
      "Test NMI = 0.6477 ARI = 0.3600 F = 0.4823 ACC = 0.4519\n",
      "================================================================\n",
      "\n"
     ]
    },
    {
     "name": "stderr",
     "output_type": "stream",
     "text": [
      "C:\\Users\\Tom-G\\.conda\\envs\\torchenv\\lib\\site-packages\\torch\\nn\\modules\\container.py:141: UserWarning: Implicit dimension choice for softmax has been deprecated. Change the call to include dim=X as an argument.\n",
      "  input = module(input)\n"
     ]
    },
    {
     "name": "stdout",
     "output_type": "stream",
     "text": [
      "Step [0/8]\t loss_instance: 5.7972869873046875\t loss_cluster: 1.5507595539093018\n",
      "Step [2/8]\t loss_instance: 5.79926872253418\t loss_cluster: 1.5513956546783447\n",
      "Step [4/8]\t loss_instance: 5.79466438293457\t loss_cluster: 1.5412088632583618\n",
      "Step [6/8]\t loss_instance: 5.783966541290283\t loss_cluster: 1.5368505716323853\n",
      "\n",
      "Epoch [304/500]\t Loss: 7.335513943433762 \n",
      "\n",
      "Step [0/8]\t Computing features...\n",
      "Features shape (8192,)\n",
      "14\n",
      "Test NMI = 0.6465 ARI = 0.3579 F = 0.4794 ACC = 0.4548\n",
      "================================================================\n",
      "\n"
     ]
    },
    {
     "name": "stderr",
     "output_type": "stream",
     "text": [
      "C:\\Users\\Tom-G\\.conda\\envs\\torchenv\\lib\\site-packages\\torch\\nn\\modules\\container.py:141: UserWarning: Implicit dimension choice for softmax has been deprecated. Change the call to include dim=X as an argument.\n",
      "  input = module(input)\n"
     ]
    },
    {
     "name": "stdout",
     "output_type": "stream",
     "text": [
      "Step [0/8]\t loss_instance: 5.805872440338135\t loss_cluster: 1.553814172744751\n",
      "Step [2/8]\t loss_instance: 5.829569339752197\t loss_cluster: 1.5661516189575195\n",
      "Step [4/8]\t loss_instance: 5.811532974243164\t loss_cluster: 1.560273289680481\n",
      "Step [6/8]\t loss_instance: 5.811392784118652\t loss_cluster: 1.5531599521636963\n",
      "\n",
      "Epoch [305/500]\t Loss: 7.367060327529908 \n",
      "\n",
      "Step [0/8]\t Computing features...\n",
      "Features shape (8192,)\n",
      "14\n",
      "Test NMI = 0.6457 ARI = 0.3595 F = 0.4814 ACC = 0.4535\n",
      "================================================================\n",
      "\n"
     ]
    },
    {
     "name": "stderr",
     "output_type": "stream",
     "text": [
      "C:\\Users\\Tom-G\\.conda\\envs\\torchenv\\lib\\site-packages\\torch\\nn\\modules\\container.py:141: UserWarning: Implicit dimension choice for softmax has been deprecated. Change the call to include dim=X as an argument.\n",
      "  input = module(input)\n"
     ]
    },
    {
     "name": "stdout",
     "output_type": "stream",
     "text": [
      "Step [0/8]\t loss_instance: 5.811731815338135\t loss_cluster: 1.5455951690673828\n",
      "Step [2/8]\t loss_instance: 5.806604385375977\t loss_cluster: 1.5486856698989868\n",
      "Step [4/8]\t loss_instance: 5.812133312225342\t loss_cluster: 1.5832839012145996\n",
      "Step [6/8]\t loss_instance: 5.853941917419434\t loss_cluster: 1.5921392440795898\n",
      "\n",
      "Epoch [306/500]\t Loss: 7.420217877626419 \n",
      "\n",
      "Step [0/8]\t Computing features...\n",
      "Features shape (8192,)\n",
      "14\n",
      "Test NMI = 0.6440 ARI = 0.3556 F = 0.4775 ACC = 0.4519\n",
      "================================================================\n",
      "\n"
     ]
    },
    {
     "name": "stderr",
     "output_type": "stream",
     "text": [
      "C:\\Users\\Tom-G\\.conda\\envs\\torchenv\\lib\\site-packages\\torch\\nn\\modules\\container.py:141: UserWarning: Implicit dimension choice for softmax has been deprecated. Change the call to include dim=X as an argument.\n",
      "  input = module(input)\n"
     ]
    },
    {
     "name": "stdout",
     "output_type": "stream",
     "text": [
      "Step [0/8]\t loss_instance: 5.863866806030273\t loss_cluster: 1.6151914596557617\n",
      "Step [2/8]\t loss_instance: 5.88213586807251\t loss_cluster: 1.6052358150482178\n",
      "Step [4/8]\t loss_instance: 5.889660835266113\t loss_cluster: 1.585251808166504\n",
      "Step [6/8]\t loss_instance: 5.882859706878662\t loss_cluster: 1.5724552869796753\n",
      "\n",
      "Epoch [307/500]\t Loss: 7.495961624383926 \n",
      "\n",
      "Step [0/8]\t Computing features...\n",
      "Features shape (8192,)\n",
      "14\n",
      "Test NMI = 0.6504 ARI = 0.3629 F = 0.4848 ACC = 0.4546\n",
      "================================================================\n",
      "\n"
     ]
    },
    {
     "name": "stderr",
     "output_type": "stream",
     "text": [
      "C:\\Users\\Tom-G\\.conda\\envs\\torchenv\\lib\\site-packages\\torch\\nn\\modules\\container.py:141: UserWarning: Implicit dimension choice for softmax has been deprecated. Change the call to include dim=X as an argument.\n",
      "  input = module(input)\n"
     ]
    },
    {
     "name": "stdout",
     "output_type": "stream",
     "text": [
      "Step [0/8]\t loss_instance: 5.864779949188232\t loss_cluster: 1.576440453529358\n",
      "Step [2/8]\t loss_instance: 5.840345859527588\t loss_cluster: 1.5611324310302734\n",
      "Step [4/8]\t loss_instance: 5.841767311096191\t loss_cluster: 1.5657062530517578\n",
      "Step [6/8]\t loss_instance: 5.8266143798828125\t loss_cluster: 1.5507755279541016\n",
      "\n",
      "Epoch [308/500]\t Loss: 7.403364056348801 \n",
      "\n",
      "Step [0/8]\t Computing features...\n",
      "Features shape (8192,)\n",
      "14\n",
      "Test NMI = 0.6455 ARI = 0.3560 F = 0.4779 ACC = 0.4497\n",
      "================================================================\n",
      "\n"
     ]
    },
    {
     "name": "stderr",
     "output_type": "stream",
     "text": [
      "C:\\Users\\Tom-G\\.conda\\envs\\torchenv\\lib\\site-packages\\torch\\nn\\modules\\container.py:141: UserWarning: Implicit dimension choice for softmax has been deprecated. Change the call to include dim=X as an argument.\n",
      "  input = module(input)\n"
     ]
    },
    {
     "name": "stdout",
     "output_type": "stream",
     "text": [
      "Step [0/8]\t loss_instance: 5.8208231925964355\t loss_cluster: 1.5491554737091064\n",
      "Step [2/8]\t loss_instance: 5.82057523727417\t loss_cluster: 1.5406494140625\n",
      "Step [4/8]\t loss_instance: 5.818084239959717\t loss_cluster: 1.5556433200836182\n",
      "Step [6/8]\t loss_instance: 5.8131208419799805\t loss_cluster: 1.5442577600479126\n",
      "\n",
      "Epoch [309/500]\t Loss: 7.356286424398422 \n",
      "\n",
      "Step [0/8]\t Computing features...\n",
      "Features shape (8192,)\n",
      "14\n",
      "Test NMI = 0.6447 ARI = 0.3549 F = 0.4776 ACC = 0.4478\n",
      "================================================================\n",
      "\n"
     ]
    },
    {
     "name": "stderr",
     "output_type": "stream",
     "text": [
      "C:\\Users\\Tom-G\\.conda\\envs\\torchenv\\lib\\site-packages\\torch\\nn\\modules\\container.py:141: UserWarning: Implicit dimension choice for softmax has been deprecated. Change the call to include dim=X as an argument.\n",
      "  input = module(input)\n"
     ]
    },
    {
     "name": "stdout",
     "output_type": "stream",
     "text": [
      "Step [0/8]\t loss_instance: 5.817379474639893\t loss_cluster: 1.5534764528274536\n",
      "Step [2/8]\t loss_instance: 5.815678596496582\t loss_cluster: 1.5518765449523926\n",
      "Step [4/8]\t loss_instance: 5.838980197906494\t loss_cluster: 1.566806435585022\n",
      "Step [6/8]\t loss_instance: 5.827693462371826\t loss_cluster: 1.5470839738845825\n",
      "\n",
      "Epoch [310/500]\t Loss: 7.363456439971924 \n",
      "\n",
      "Step [0/8]\t Computing features...\n",
      "Features shape (8192,)\n",
      "14\n",
      "Test NMI = 0.6423 ARI = 0.3516 F = 0.4737 ACC = 0.4508\n",
      "================================================================\n",
      "\n"
     ]
    },
    {
     "name": "stderr",
     "output_type": "stream",
     "text": [
      "C:\\Users\\Tom-G\\.conda\\envs\\torchenv\\lib\\site-packages\\torch\\nn\\modules\\container.py:141: UserWarning: Implicit dimension choice for softmax has been deprecated. Change the call to include dim=X as an argument.\n",
      "  input = module(input)\n"
     ]
    },
    {
     "name": "stdout",
     "output_type": "stream",
     "text": [
      "Step [0/8]\t loss_instance: 5.815622329711914\t loss_cluster: 1.5574253797531128\n",
      "Step [2/8]\t loss_instance: 5.827351093292236\t loss_cluster: 1.5665606260299683\n",
      "Step [4/8]\t loss_instance: 5.858458995819092\t loss_cluster: 1.5697861909866333\n",
      "Step [6/8]\t loss_instance: 5.8240203857421875\t loss_cluster: 1.5549654960632324\n",
      "\n",
      "Epoch [311/500]\t Loss: 7.392563331127167 \n",
      "\n",
      "Step [0/8]\t Computing features...\n",
      "Features shape (8192,)\n",
      "14\n",
      "Test NMI = 0.6428 ARI = 0.3526 F = 0.4746 ACC = 0.4553\n",
      "================================================================\n",
      "\n"
     ]
    },
    {
     "name": "stderr",
     "output_type": "stream",
     "text": [
      "C:\\Users\\Tom-G\\.conda\\envs\\torchenv\\lib\\site-packages\\torch\\nn\\modules\\container.py:141: UserWarning: Implicit dimension choice for softmax has been deprecated. Change the call to include dim=X as an argument.\n",
      "  input = module(input)\n"
     ]
    },
    {
     "name": "stdout",
     "output_type": "stream",
     "text": [
      "Step [0/8]\t loss_instance: 5.833685874938965\t loss_cluster: 1.572745442390442\n",
      "Step [2/8]\t loss_instance: 5.82073974609375\t loss_cluster: 1.5601149797439575\n",
      "Step [4/8]\t loss_instance: 5.822447299957275\t loss_cluster: 1.55458664894104\n",
      "Step [6/8]\t loss_instance: 5.807321548461914\t loss_cluster: 1.5458651781082153\n",
      "\n",
      "Epoch [312/500]\t Loss: 7.363055485486984 \n",
      "\n",
      "Step [0/8]\t Computing features...\n",
      "Features shape (8192,)\n",
      "14\n",
      "Test NMI = 0.6408 ARI = 0.3469 F = 0.4697 ACC = 0.4456\n",
      "================================================================\n",
      "\n"
     ]
    },
    {
     "name": "stderr",
     "output_type": "stream",
     "text": [
      "C:\\Users\\Tom-G\\.conda\\envs\\torchenv\\lib\\site-packages\\torch\\nn\\modules\\container.py:141: UserWarning: Implicit dimension choice for softmax has been deprecated. Change the call to include dim=X as an argument.\n",
      "  input = module(input)\n"
     ]
    },
    {
     "name": "stdout",
     "output_type": "stream",
     "text": [
      "Step [0/8]\t loss_instance: 5.8137640953063965\t loss_cluster: 1.5534273386001587\n",
      "Step [2/8]\t loss_instance: 5.817885875701904\t loss_cluster: 1.5633844137191772\n",
      "Step [4/8]\t loss_instance: 5.811346530914307\t loss_cluster: 1.5608855485916138\n",
      "Step [6/8]\t loss_instance: 5.816167831420898\t loss_cluster: 1.5485094785690308\n",
      "\n",
      "Epoch [313/500]\t Loss: 7.355025863647461 \n",
      "\n",
      "Step [0/8]\t Computing features...\n",
      "Features shape (8192,)\n",
      "14\n",
      "Test NMI = 0.6413 ARI = 0.3543 F = 0.4761 ACC = 0.4568\n",
      "================================================================\n",
      "\n"
     ]
    },
    {
     "name": "stderr",
     "output_type": "stream",
     "text": [
      "C:\\Users\\Tom-G\\.conda\\envs\\torchenv\\lib\\site-packages\\torch\\nn\\modules\\container.py:141: UserWarning: Implicit dimension choice for softmax has been deprecated. Change the call to include dim=X as an argument.\n",
      "  input = module(input)\n"
     ]
    },
    {
     "name": "stdout",
     "output_type": "stream",
     "text": [
      "Step [0/8]\t loss_instance: 5.819637775421143\t loss_cluster: 1.552047610282898\n",
      "Step [2/8]\t loss_instance: 5.8180012702941895\t loss_cluster: 1.5601139068603516\n",
      "Step [4/8]\t loss_instance: 5.805041790008545\t loss_cluster: 1.5455683469772339\n",
      "Step [6/8]\t loss_instance: 5.813515663146973\t loss_cluster: 1.553942322731018\n",
      "\n",
      "Epoch [314/500]\t Loss: 7.353507286310196 \n",
      "\n",
      "Step [0/8]\t Computing features...\n",
      "Features shape (8192,)\n",
      "14\n",
      "Test NMI = 0.6320 ARI = 0.3330 F = 0.4552 ACC = 0.4318\n",
      "================================================================\n",
      "\n"
     ]
    },
    {
     "name": "stderr",
     "output_type": "stream",
     "text": [
      "C:\\Users\\Tom-G\\.conda\\envs\\torchenv\\lib\\site-packages\\torch\\nn\\modules\\container.py:141: UserWarning: Implicit dimension choice for softmax has been deprecated. Change the call to include dim=X as an argument.\n",
      "  input = module(input)\n"
     ]
    },
    {
     "name": "stdout",
     "output_type": "stream",
     "text": [
      "Step [0/8]\t loss_instance: 5.804553985595703\t loss_cluster: 1.5454496145248413\n",
      "Step [2/8]\t loss_instance: 5.813855171203613\t loss_cluster: 1.55841863155365\n",
      "Step [4/8]\t loss_instance: 5.806943416595459\t loss_cluster: 1.5619113445281982\n",
      "Step [6/8]\t loss_instance: 5.810397624969482\t loss_cluster: 1.5463083982467651\n",
      "\n",
      "Epoch [315/500]\t Loss: 7.353231030702591 \n",
      "\n",
      "Step [0/8]\t Computing features...\n",
      "Features shape (8192,)\n",
      "14\n",
      "Test NMI = 0.6278 ARI = 0.3273 F = 0.4494 ACC = 0.4192\n",
      "================================================================\n",
      "\n"
     ]
    },
    {
     "name": "stderr",
     "output_type": "stream",
     "text": [
      "C:\\Users\\Tom-G\\.conda\\envs\\torchenv\\lib\\site-packages\\torch\\nn\\modules\\container.py:141: UserWarning: Implicit dimension choice for softmax has been deprecated. Change the call to include dim=X as an argument.\n",
      "  input = module(input)\n"
     ]
    },
    {
     "name": "stdout",
     "output_type": "stream",
     "text": [
      "Step [0/8]\t loss_instance: 5.816379547119141\t loss_cluster: 1.570777416229248\n",
      "Step [2/8]\t loss_instance: 5.811110973358154\t loss_cluster: 1.5447744131088257\n",
      "Step [4/8]\t loss_instance: 5.811135768890381\t loss_cluster: 1.535068392753601\n",
      "Step [6/8]\t loss_instance: 5.798459053039551\t loss_cluster: 1.5547703504562378\n",
      "\n",
      "Epoch [316/500]\t Loss: 7.349418586492538 \n",
      "\n",
      "Step [0/8]\t Computing features...\n",
      "Features shape (8192,)\n",
      "14\n",
      "Test NMI = 0.6359 ARI = 0.3406 F = 0.4630 ACC = 0.4387\n",
      "================================================================\n",
      "\n"
     ]
    },
    {
     "name": "stderr",
     "output_type": "stream",
     "text": [
      "C:\\Users\\Tom-G\\.conda\\envs\\torchenv\\lib\\site-packages\\torch\\nn\\modules\\container.py:141: UserWarning: Implicit dimension choice for softmax has been deprecated. Change the call to include dim=X as an argument.\n",
      "  input = module(input)\n"
     ]
    },
    {
     "name": "stdout",
     "output_type": "stream",
     "text": [
      "Step [0/8]\t loss_instance: 5.805425643920898\t loss_cluster: 1.5329056978225708\n",
      "Step [2/8]\t loss_instance: 5.80783748626709\t loss_cluster: 1.5426925420761108\n",
      "Step [4/8]\t loss_instance: 5.803928375244141\t loss_cluster: 1.5506274700164795\n",
      "Step [6/8]\t loss_instance: 5.802850723266602\t loss_cluster: 1.5472766160964966\n",
      "\n",
      "Epoch [317/500]\t Loss: 7.337154495716095 \n",
      "\n",
      "Step [0/8]\t Computing features...\n",
      "Features shape (8192,)\n",
      "14\n",
      "Test NMI = 0.6416 ARI = 0.3498 F = 0.4718 ACC = 0.4471\n",
      "================================================================\n",
      "\n"
     ]
    },
    {
     "name": "stderr",
     "output_type": "stream",
     "text": [
      "C:\\Users\\Tom-G\\.conda\\envs\\torchenv\\lib\\site-packages\\torch\\nn\\modules\\container.py:141: UserWarning: Implicit dimension choice for softmax has been deprecated. Change the call to include dim=X as an argument.\n",
      "  input = module(input)\n"
     ]
    },
    {
     "name": "stdout",
     "output_type": "stream",
     "text": [
      "Step [0/8]\t loss_instance: 5.809152126312256\t loss_cluster: 1.551134467124939\n",
      "Step [2/8]\t loss_instance: 5.794759750366211\t loss_cluster: 1.5394054651260376\n",
      "Step [4/8]\t loss_instance: 5.801888942718506\t loss_cluster: 1.5449200868606567\n",
      "Step [6/8]\t loss_instance: 5.8048624992370605\t loss_cluster: 1.5556056499481201\n",
      "\n",
      "Epoch [318/500]\t Loss: 7.3352968156337734 \n",
      "\n",
      "Step [0/8]\t Computing features...\n",
      "Features shape (8192,)\n",
      "14\n",
      "Test NMI = 0.6322 ARI = 0.3340 F = 0.4566 ACC = 0.4302\n",
      "================================================================\n",
      "\n"
     ]
    },
    {
     "name": "stderr",
     "output_type": "stream",
     "text": [
      "C:\\Users\\Tom-G\\.conda\\envs\\torchenv\\lib\\site-packages\\torch\\nn\\modules\\container.py:141: UserWarning: Implicit dimension choice for softmax has been deprecated. Change the call to include dim=X as an argument.\n",
      "  input = module(input)\n"
     ]
    },
    {
     "name": "stdout",
     "output_type": "stream",
     "text": [
      "Step [0/8]\t loss_instance: 5.799825668334961\t loss_cluster: 1.5537446737289429\n",
      "Step [2/8]\t loss_instance: 5.80477237701416\t loss_cluster: 1.5398679971694946\n",
      "Step [4/8]\t loss_instance: 5.820261478424072\t loss_cluster: 1.5645339488983154\n",
      "Step [6/8]\t loss_instance: 5.8072590827941895\t loss_cluster: 1.5440471172332764\n",
      "\n",
      "Epoch [319/500]\t Loss: 7.345037215948105 \n",
      "\n",
      "Step [0/8]\t Computing features...\n",
      "Features shape (8192,)\n",
      "14\n",
      "Test NMI = 0.6431 ARI = 0.3562 F = 0.4781 ACC = 0.4551\n",
      "================================================================\n",
      "\n"
     ]
    },
    {
     "name": "stderr",
     "output_type": "stream",
     "text": [
      "C:\\Users\\Tom-G\\.conda\\envs\\torchenv\\lib\\site-packages\\torch\\nn\\modules\\container.py:141: UserWarning: Implicit dimension choice for softmax has been deprecated. Change the call to include dim=X as an argument.\n",
      "  input = module(input)\n"
     ]
    },
    {
     "name": "stdout",
     "output_type": "stream",
     "text": [
      "Step [0/8]\t loss_instance: 5.772174835205078\t loss_cluster: 1.5466735363006592\n",
      "Step [2/8]\t loss_instance: 5.782936096191406\t loss_cluster: 1.563620924949646\n",
      "Step [4/8]\t loss_instance: 5.795500755310059\t loss_cluster: 1.5385864973068237\n",
      "Step [6/8]\t loss_instance: 5.80729866027832\t loss_cluster: 1.5440714359283447\n",
      "\n",
      "Epoch [320/500]\t Loss: 7.3381539463996885 \n",
      "\n",
      "Step [0/8]\t Computing features...\n",
      "Features shape (8192,)\n",
      "14\n",
      "Test NMI = 0.6330 ARI = 0.3323 F = 0.4546 ACC = 0.4240\n",
      "================================================================\n",
      "\n"
     ]
    },
    {
     "name": "stderr",
     "output_type": "stream",
     "text": [
      "C:\\Users\\Tom-G\\.conda\\envs\\torchenv\\lib\\site-packages\\torch\\nn\\modules\\container.py:141: UserWarning: Implicit dimension choice for softmax has been deprecated. Change the call to include dim=X as an argument.\n",
      "  input = module(input)\n"
     ]
    },
    {
     "name": "stdout",
     "output_type": "stream",
     "text": [
      "Step [0/8]\t loss_instance: 5.796165943145752\t loss_cluster: 1.5644644498825073\n",
      "Step [2/8]\t loss_instance: 5.810086250305176\t loss_cluster: 1.5722432136535645\n",
      "Step [4/8]\t loss_instance: 5.826294422149658\t loss_cluster: 1.5667520761489868\n",
      "Step [6/8]\t loss_instance: 5.833756923675537\t loss_cluster: 1.6138935089111328\n",
      "\n",
      "Epoch [321/500]\t Loss: 7.405257248878479 \n",
      "\n",
      "Step [0/8]\t Computing features...\n",
      "Features shape (8192,)\n",
      "14\n",
      "Test NMI = 0.6382 ARI = 0.3383 F = 0.4602 ACC = 0.4275\n",
      "================================================================\n",
      "\n"
     ]
    },
    {
     "name": "stderr",
     "output_type": "stream",
     "text": [
      "C:\\Users\\Tom-G\\.conda\\envs\\torchenv\\lib\\site-packages\\torch\\nn\\modules\\container.py:141: UserWarning: Implicit dimension choice for softmax has been deprecated. Change the call to include dim=X as an argument.\n",
      "  input = module(input)\n"
     ]
    },
    {
     "name": "stdout",
     "output_type": "stream",
     "text": [
      "Step [0/8]\t loss_instance: 5.829363822937012\t loss_cluster: 1.6043025255203247\n",
      "Step [2/8]\t loss_instance: 5.828760147094727\t loss_cluster: 1.5602316856384277\n",
      "Step [4/8]\t loss_instance: 5.838775634765625\t loss_cluster: 1.5771455764770508\n",
      "Step [6/8]\t loss_instance: 5.827970027923584\t loss_cluster: 1.5582515001296997\n",
      "\n",
      "Epoch [322/500]\t Loss: 7.424021017551422 \n",
      "\n",
      "Step [0/8]\t Computing features...\n",
      "Features shape (8192,)\n",
      "14\n",
      "Test NMI = 0.6295 ARI = 0.3304 F = 0.4529 ACC = 0.4274\n",
      "================================================================\n",
      "\n"
     ]
    },
    {
     "name": "stderr",
     "output_type": "stream",
     "text": [
      "C:\\Users\\Tom-G\\.conda\\envs\\torchenv\\lib\\site-packages\\torch\\nn\\modules\\container.py:141: UserWarning: Implicit dimension choice for softmax has been deprecated. Change the call to include dim=X as an argument.\n",
      "  input = module(input)\n"
     ]
    },
    {
     "name": "stdout",
     "output_type": "stream",
     "text": [
      "Step [0/8]\t loss_instance: 5.833606243133545\t loss_cluster: 1.5556838512420654\n",
      "Step [2/8]\t loss_instance: 5.856482028961182\t loss_cluster: 1.5897871255874634\n",
      "Step [4/8]\t loss_instance: 5.838592529296875\t loss_cluster: 1.5486106872558594\n",
      "Step [6/8]\t loss_instance: 5.801891326904297\t loss_cluster: 1.5458379983901978\n",
      "\n",
      "Epoch [323/500]\t Loss: 7.388488525152207 \n",
      "\n",
      "Step [0/8]\t Computing features...\n",
      "Features shape (8192,)\n",
      "14\n",
      "Test NMI = 0.6304 ARI = 0.3301 F = 0.4530 ACC = 0.4235\n",
      "================================================================\n",
      "\n"
     ]
    },
    {
     "name": "stderr",
     "output_type": "stream",
     "text": [
      "C:\\Users\\Tom-G\\.conda\\envs\\torchenv\\lib\\site-packages\\torch\\nn\\modules\\container.py:141: UserWarning: Implicit dimension choice for softmax has been deprecated. Change the call to include dim=X as an argument.\n",
      "  input = module(input)\n"
     ]
    },
    {
     "name": "stdout",
     "output_type": "stream",
     "text": [
      "Step [0/8]\t loss_instance: 5.7956671714782715\t loss_cluster: 1.541821837425232\n",
      "Step [2/8]\t loss_instance: 5.788689613342285\t loss_cluster: 1.5297751426696777\n",
      "Step [4/8]\t loss_instance: 5.7840576171875\t loss_cluster: 1.5336298942565918\n",
      "Step [6/8]\t loss_instance: 5.79000997543335\t loss_cluster: 1.5437982082366943\n",
      "\n",
      "Epoch [324/500]\t Loss: 7.323657554388046 \n",
      "\n",
      "Step [0/8]\t Computing features...\n",
      "Features shape (8192,)\n",
      "14\n",
      "Test NMI = 0.6389 ARI = 0.3437 F = 0.4664 ACC = 0.4415\n",
      "================================================================\n",
      "\n"
     ]
    },
    {
     "name": "stderr",
     "output_type": "stream",
     "text": [
      "C:\\Users\\Tom-G\\.conda\\envs\\torchenv\\lib\\site-packages\\torch\\nn\\modules\\container.py:141: UserWarning: Implicit dimension choice for softmax has been deprecated. Change the call to include dim=X as an argument.\n",
      "  input = module(input)\n"
     ]
    },
    {
     "name": "stdout",
     "output_type": "stream",
     "text": [
      "Step [0/8]\t loss_instance: 5.792381286621094\t loss_cluster: 1.5372211933135986\n",
      "Step [2/8]\t loss_instance: 5.782318115234375\t loss_cluster: 1.541307806968689\n",
      "Step [4/8]\t loss_instance: 5.77909517288208\t loss_cluster: 1.5349855422973633\n",
      "Step [6/8]\t loss_instance: 5.786607265472412\t loss_cluster: 1.542833924293518\n",
      "\n",
      "Epoch [325/500]\t Loss: 7.31552734375 \n",
      "\n",
      "Step [0/8]\t Computing features...\n",
      "Features shape (8192,)\n",
      "14\n",
      "Test NMI = 0.6362 ARI = 0.3395 F = 0.4621 ACC = 0.4359\n",
      "================================================================\n",
      "\n"
     ]
    },
    {
     "name": "stderr",
     "output_type": "stream",
     "text": [
      "C:\\Users\\Tom-G\\.conda\\envs\\torchenv\\lib\\site-packages\\torch\\nn\\modules\\container.py:141: UserWarning: Implicit dimension choice for softmax has been deprecated. Change the call to include dim=X as an argument.\n",
      "  input = module(input)\n"
     ]
    },
    {
     "name": "stdout",
     "output_type": "stream",
     "text": [
      "Step [0/8]\t loss_instance: 5.793150424957275\t loss_cluster: 1.5360711812973022\n",
      "Step [2/8]\t loss_instance: 5.77812385559082\t loss_cluster: 1.5348433256149292\n",
      "Step [4/8]\t loss_instance: 5.78236722946167\t loss_cluster: 1.5321742296218872\n",
      "Step [6/8]\t loss_instance: 5.784358501434326\t loss_cluster: 1.5369845628738403\n",
      "\n",
      "Epoch [326/500]\t Loss: 7.312538635730744 \n",
      "\n",
      "Step [0/8]\t Computing features...\n",
      "Features shape (8192,)\n",
      "14\n",
      "Test NMI = 0.6331 ARI = 0.3340 F = 0.4567 ACC = 0.4282\n",
      "================================================================\n",
      "\n"
     ]
    },
    {
     "name": "stderr",
     "output_type": "stream",
     "text": [
      "C:\\Users\\Tom-G\\.conda\\envs\\torchenv\\lib\\site-packages\\torch\\nn\\modules\\container.py:141: UserWarning: Implicit dimension choice for softmax has been deprecated. Change the call to include dim=X as an argument.\n",
      "  input = module(input)\n"
     ]
    },
    {
     "name": "stdout",
     "output_type": "stream",
     "text": [
      "Step [0/8]\t loss_instance: 5.787809371948242\t loss_cluster: 1.5398316383361816\n",
      "Step [2/8]\t loss_instance: 5.786927700042725\t loss_cluster: 1.5478365421295166\n",
      "Step [4/8]\t loss_instance: 5.798548698425293\t loss_cluster: 1.5471715927124023\n",
      "Step [6/8]\t loss_instance: 5.77400016784668\t loss_cluster: 1.5227105617523193\n",
      "\n",
      "Epoch [327/500]\t Loss: 7.321073389053344 \n",
      "\n",
      "Step [0/8]\t Computing features...\n",
      "Features shape (8192,)\n",
      "14\n",
      "Test NMI = 0.6335 ARI = 0.3350 F = 0.4573 ACC = 0.4301\n",
      "================================================================\n",
      "\n"
     ]
    },
    {
     "name": "stderr",
     "output_type": "stream",
     "text": [
      "C:\\Users\\Tom-G\\.conda\\envs\\torchenv\\lib\\site-packages\\torch\\nn\\modules\\container.py:141: UserWarning: Implicit dimension choice for softmax has been deprecated. Change the call to include dim=X as an argument.\n",
      "  input = module(input)\n"
     ]
    },
    {
     "name": "stdout",
     "output_type": "stream",
     "text": [
      "Step [0/8]\t loss_instance: 5.776989459991455\t loss_cluster: 1.534388542175293\n",
      "Step [2/8]\t loss_instance: 5.774324417114258\t loss_cluster: 1.531381607055664\n",
      "Step [4/8]\t loss_instance: 5.77825927734375\t loss_cluster: 1.5339481830596924\n",
      "Step [6/8]\t loss_instance: 5.786596298217773\t loss_cluster: 1.5370088815689087\n",
      "\n",
      "Epoch [328/500]\t Loss: 7.311959350109101 \n",
      "\n",
      "Step [0/8]\t Computing features...\n",
      "Features shape (8192,)\n",
      "14\n",
      "Test NMI = 0.6335 ARI = 0.3340 F = 0.4565 ACC = 0.4301\n",
      "================================================================\n",
      "\n"
     ]
    },
    {
     "name": "stderr",
     "output_type": "stream",
     "text": [
      "C:\\Users\\Tom-G\\.conda\\envs\\torchenv\\lib\\site-packages\\torch\\nn\\modules\\container.py:141: UserWarning: Implicit dimension choice for softmax has been deprecated. Change the call to include dim=X as an argument.\n",
      "  input = module(input)\n"
     ]
    },
    {
     "name": "stdout",
     "output_type": "stream",
     "text": [
      "Step [0/8]\t loss_instance: 5.780104637145996\t loss_cluster: 1.5524380207061768\n",
      "Step [2/8]\t loss_instance: 5.794233322143555\t loss_cluster: 1.5479496717453003\n",
      "Step [4/8]\t loss_instance: 5.80731725692749\t loss_cluster: 1.5428967475891113\n",
      "Step [6/8]\t loss_instance: 5.798120021820068\t loss_cluster: 1.5592284202575684\n",
      "\n",
      "Epoch [329/500]\t Loss: 7.334171634912491 \n",
      "\n",
      "Step [0/8]\t Computing features...\n",
      "Features shape (8192,)\n",
      "14\n",
      "Test NMI = 0.6363 ARI = 0.3400 F = 0.4620 ACC = 0.4375\n",
      "================================================================\n",
      "\n"
     ]
    },
    {
     "name": "stderr",
     "output_type": "stream",
     "text": [
      "C:\\Users\\Tom-G\\.conda\\envs\\torchenv\\lib\\site-packages\\torch\\nn\\modules\\container.py:141: UserWarning: Implicit dimension choice for softmax has been deprecated. Change the call to include dim=X as an argument.\n",
      "  input = module(input)\n"
     ]
    },
    {
     "name": "stdout",
     "output_type": "stream",
     "text": [
      "Step [0/8]\t loss_instance: 5.790363311767578\t loss_cluster: 1.5385268926620483\n",
      "Step [2/8]\t loss_instance: 5.793338298797607\t loss_cluster: 1.5427063703536987\n",
      "Step [4/8]\t loss_instance: 5.792801380157471\t loss_cluster: 1.5455048084259033\n",
      "Step [6/8]\t loss_instance: 5.814620018005371\t loss_cluster: 1.547519326210022\n",
      "\n",
      "Epoch [330/500]\t Loss: 7.331511908769608 \n",
      "\n",
      "Step [0/8]\t Computing features...\n",
      "Features shape (8192,)\n",
      "14\n",
      "Test NMI = 0.6343 ARI = 0.3355 F = 0.4584 ACC = 0.4335\n",
      "================================================================\n",
      "\n"
     ]
    },
    {
     "name": "stderr",
     "output_type": "stream",
     "text": [
      "C:\\Users\\Tom-G\\.conda\\envs\\torchenv\\lib\\site-packages\\torch\\nn\\modules\\container.py:141: UserWarning: Implicit dimension choice for softmax has been deprecated. Change the call to include dim=X as an argument.\n",
      "  input = module(input)\n"
     ]
    },
    {
     "name": "stdout",
     "output_type": "stream",
     "text": [
      "Step [0/8]\t loss_instance: 5.7991743087768555\t loss_cluster: 1.5473178625106812\n",
      "Step [2/8]\t loss_instance: 5.792786121368408\t loss_cluster: 1.5429891347885132\n",
      "Step [4/8]\t loss_instance: 5.791375637054443\t loss_cluster: 1.5418064594268799\n",
      "Step [6/8]\t loss_instance: 5.797857284545898\t loss_cluster: 1.53933584690094\n",
      "\n",
      "Epoch [331/500]\t Loss: 7.335364460945129 \n",
      "\n",
      "Step [0/8]\t Computing features...\n",
      "Features shape (8192,)\n",
      "14\n",
      "Test NMI = 0.6379 ARI = 0.3441 F = 0.4666 ACC = 0.4456\n",
      "================================================================\n",
      "\n"
     ]
    },
    {
     "name": "stderr",
     "output_type": "stream",
     "text": [
      "C:\\Users\\Tom-G\\.conda\\envs\\torchenv\\lib\\site-packages\\torch\\nn\\modules\\container.py:141: UserWarning: Implicit dimension choice for softmax has been deprecated. Change the call to include dim=X as an argument.\n",
      "  input = module(input)\n"
     ]
    },
    {
     "name": "stdout",
     "output_type": "stream",
     "text": [
      "Step [0/8]\t loss_instance: 5.812175273895264\t loss_cluster: 1.5709141492843628\n",
      "Step [2/8]\t loss_instance: 5.7896013259887695\t loss_cluster: 1.539217233657837\n",
      "Step [4/8]\t loss_instance: 5.789106369018555\t loss_cluster: 1.529862880706787\n",
      "Step [6/8]\t loss_instance: 5.794554710388184\t loss_cluster: 1.5419751405715942\n",
      "\n",
      "Epoch [332/500]\t Loss: 7.335060787200928 \n",
      "\n",
      "Step [0/8]\t Computing features...\n",
      "Features shape (8192,)\n",
      "14\n",
      "Test NMI = 0.6336 ARI = 0.3342 F = 0.4567 ACC = 0.4287\n",
      "================================================================\n",
      "\n"
     ]
    },
    {
     "name": "stderr",
     "output_type": "stream",
     "text": [
      "C:\\Users\\Tom-G\\.conda\\envs\\torchenv\\lib\\site-packages\\torch\\nn\\modules\\container.py:141: UserWarning: Implicit dimension choice for softmax has been deprecated. Change the call to include dim=X as an argument.\n",
      "  input = module(input)\n"
     ]
    },
    {
     "name": "stdout",
     "output_type": "stream",
     "text": [
      "Step [0/8]\t loss_instance: 5.7826457023620605\t loss_cluster: 1.538649559020996\n",
      "Step [2/8]\t loss_instance: 5.781356334686279\t loss_cluster: 1.5300191640853882\n",
      "Step [4/8]\t loss_instance: 5.796820163726807\t loss_cluster: 1.557104229927063\n",
      "Step [6/8]\t loss_instance: 5.77706241607666\t loss_cluster: 1.5243414640426636\n",
      "\n",
      "Epoch [333/500]\t Loss: 7.314859372377396 \n",
      "\n",
      "Step [0/8]\t Computing features...\n",
      "Features shape (8192,)\n",
      "14\n",
      "Test NMI = 0.6323 ARI = 0.3323 F = 0.4549 ACC = 0.4263\n",
      "================================================================\n",
      "\n"
     ]
    },
    {
     "name": "stderr",
     "output_type": "stream",
     "text": [
      "C:\\Users\\Tom-G\\.conda\\envs\\torchenv\\lib\\site-packages\\torch\\nn\\modules\\container.py:141: UserWarning: Implicit dimension choice for softmax has been deprecated. Change the call to include dim=X as an argument.\n",
      "  input = module(input)\n"
     ]
    },
    {
     "name": "stdout",
     "output_type": "stream",
     "text": [
      "Step [0/8]\t loss_instance: 5.7941107749938965\t loss_cluster: 1.5319496393203735\n",
      "Step [2/8]\t loss_instance: 5.776858806610107\t loss_cluster: 1.5425059795379639\n",
      "Step [4/8]\t loss_instance: 5.78127384185791\t loss_cluster: 1.5261708498001099\n",
      "Step [6/8]\t loss_instance: 5.789427280426025\t loss_cluster: 1.5417351722717285\n",
      "\n",
      "Epoch [334/500]\t Loss: 7.309901344776153 \n",
      "\n",
      "Step [0/8]\t Computing features...\n",
      "Features shape (8192,)\n",
      "14\n",
      "Test NMI = 0.6325 ARI = 0.3339 F = 0.4565 ACC = 0.4296\n",
      "================================================================\n",
      "\n"
     ]
    },
    {
     "name": "stderr",
     "output_type": "stream",
     "text": [
      "C:\\Users\\Tom-G\\.conda\\envs\\torchenv\\lib\\site-packages\\torch\\nn\\modules\\container.py:141: UserWarning: Implicit dimension choice for softmax has been deprecated. Change the call to include dim=X as an argument.\n",
      "  input = module(input)\n"
     ]
    },
    {
     "name": "stdout",
     "output_type": "stream",
     "text": [
      "Step [0/8]\t loss_instance: 5.7789154052734375\t loss_cluster: 1.5319517850875854\n",
      "Step [2/8]\t loss_instance: 5.789690971374512\t loss_cluster: 1.544628381729126\n",
      "Step [4/8]\t loss_instance: 5.785034656524658\t loss_cluster: 1.539798378944397\n",
      "Step [6/8]\t loss_instance: 5.786541938781738\t loss_cluster: 1.536058783531189\n",
      "\n",
      "Epoch [335/500]\t Loss: 7.314540982246399 \n",
      "\n",
      "Step [0/8]\t Computing features...\n",
      "Features shape (8192,)\n",
      "14\n",
      "Test NMI = 0.6369 ARI = 0.3401 F = 0.4630 ACC = 0.4375\n",
      "================================================================\n",
      "\n"
     ]
    },
    {
     "name": "stderr",
     "output_type": "stream",
     "text": [
      "C:\\Users\\Tom-G\\.conda\\envs\\torchenv\\lib\\site-packages\\torch\\nn\\modules\\container.py:141: UserWarning: Implicit dimension choice for softmax has been deprecated. Change the call to include dim=X as an argument.\n",
      "  input = module(input)\n"
     ]
    },
    {
     "name": "stdout",
     "output_type": "stream",
     "text": [
      "Step [0/8]\t loss_instance: 5.788140773773193\t loss_cluster: 1.532649040222168\n",
      "Step [2/8]\t loss_instance: 5.780824661254883\t loss_cluster: 1.5224215984344482\n",
      "Step [4/8]\t loss_instance: 5.778510570526123\t loss_cluster: 1.5203105211257935\n",
      "Step [6/8]\t loss_instance: 5.780529022216797\t loss_cluster: 1.5277284383773804\n",
      "\n",
      "Epoch [336/500]\t Loss: 7.30644416809082 \n",
      "\n",
      "Step [0/8]\t Computing features...\n",
      "Features shape (8192,)\n",
      "14\n",
      "Test NMI = 0.6341 ARI = 0.3366 F = 0.4588 ACC = 0.4318\n",
      "================================================================\n",
      "\n"
     ]
    },
    {
     "name": "stderr",
     "output_type": "stream",
     "text": [
      "C:\\Users\\Tom-G\\.conda\\envs\\torchenv\\lib\\site-packages\\torch\\nn\\modules\\container.py:141: UserWarning: Implicit dimension choice for softmax has been deprecated. Change the call to include dim=X as an argument.\n",
      "  input = module(input)\n"
     ]
    },
    {
     "name": "stdout",
     "output_type": "stream",
     "text": [
      "Step [0/8]\t loss_instance: 5.7952680587768555\t loss_cluster: 1.545724630355835\n",
      "Step [2/8]\t loss_instance: 5.790246963500977\t loss_cluster: 1.5285711288452148\n",
      "Step [4/8]\t loss_instance: 5.794692516326904\t loss_cluster: 1.5376842021942139\n",
      "Step [6/8]\t loss_instance: 5.790892124176025\t loss_cluster: 1.539211392402649\n",
      "\n",
      "Epoch [337/500]\t Loss: 7.314836621284485 \n",
      "\n",
      "Step [0/8]\t Computing features...\n",
      "Features shape (8192,)\n",
      "14\n",
      "Test NMI = 0.6336 ARI = 0.3340 F = 0.4569 ACC = 0.4299\n",
      "================================================================\n",
      "\n"
     ]
    },
    {
     "name": "stderr",
     "output_type": "stream",
     "text": [
      "C:\\Users\\Tom-G\\.conda\\envs\\torchenv\\lib\\site-packages\\torch\\nn\\modules\\container.py:141: UserWarning: Implicit dimension choice for softmax has been deprecated. Change the call to include dim=X as an argument.\n",
      "  input = module(input)\n"
     ]
    },
    {
     "name": "stdout",
     "output_type": "stream",
     "text": [
      "Step [0/8]\t loss_instance: 5.778504848480225\t loss_cluster: 1.5265944004058838\n",
      "Step [2/8]\t loss_instance: 5.781975746154785\t loss_cluster: 1.537952184677124\n",
      "Step [4/8]\t loss_instance: 5.784092426300049\t loss_cluster: 1.5301047563552856\n",
      "Step [6/8]\t loss_instance: 5.7907843589782715\t loss_cluster: 1.5385671854019165\n",
      "\n",
      "Epoch [338/500]\t Loss: 7.309421122074127 \n",
      "\n",
      "Step [0/8]\t Computing features...\n",
      "Features shape (8192,)\n",
      "14\n",
      "Test NMI = 0.6330 ARI = 0.3339 F = 0.4567 ACC = 0.4299\n",
      "================================================================\n",
      "\n"
     ]
    },
    {
     "name": "stderr",
     "output_type": "stream",
     "text": [
      "C:\\Users\\Tom-G\\.conda\\envs\\torchenv\\lib\\site-packages\\torch\\nn\\modules\\container.py:141: UserWarning: Implicit dimension choice for softmax has been deprecated. Change the call to include dim=X as an argument.\n",
      "  input = module(input)\n"
     ]
    },
    {
     "name": "stdout",
     "output_type": "stream",
     "text": [
      "Step [0/8]\t loss_instance: 5.785384654998779\t loss_cluster: 1.5297939777374268\n",
      "Step [2/8]\t loss_instance: 5.773749828338623\t loss_cluster: 1.5397926568984985\n",
      "Step [4/8]\t loss_instance: 5.784151554107666\t loss_cluster: 1.5168812274932861\n",
      "Step [6/8]\t loss_instance: 5.779898166656494\t loss_cluster: 1.5301882028579712\n",
      "\n",
      "Epoch [339/500]\t Loss: 7.308292371034622 \n",
      "\n",
      "Step [0/8]\t Computing features...\n",
      "Features shape (8192,)\n",
      "14\n",
      "Test NMI = 0.6362 ARI = 0.3379 F = 0.4602 ACC = 0.4319\n",
      "================================================================\n",
      "\n"
     ]
    },
    {
     "name": "stderr",
     "output_type": "stream",
     "text": [
      "C:\\Users\\Tom-G\\.conda\\envs\\torchenv\\lib\\site-packages\\torch\\nn\\modules\\container.py:141: UserWarning: Implicit dimension choice for softmax has been deprecated. Change the call to include dim=X as an argument.\n",
      "  input = module(input)\n"
     ]
    },
    {
     "name": "stdout",
     "output_type": "stream",
     "text": [
      "Step [0/8]\t loss_instance: 5.751295566558838\t loss_cluster: 1.5302635431289673\n",
      "Step [2/8]\t loss_instance: 5.765453815460205\t loss_cluster: 1.5278891324996948\n",
      "Step [4/8]\t loss_instance: 5.761716365814209\t loss_cluster: 1.5272949934005737\n",
      "Step [6/8]\t loss_instance: 5.76165246963501\t loss_cluster: 1.536392092704773\n",
      "\n",
      "Epoch [340/500]\t Loss: 7.2957487285137175 \n",
      "\n",
      "Step [0/8]\t Computing features...\n",
      "Features shape (8192,)\n",
      "14\n",
      "Test NMI = 0.6363 ARI = 0.3394 F = 0.4622 ACC = 0.4375\n",
      "================================================================\n",
      "\n"
     ]
    },
    {
     "name": "stderr",
     "output_type": "stream",
     "text": [
      "C:\\Users\\Tom-G\\.conda\\envs\\torchenv\\lib\\site-packages\\torch\\nn\\modules\\container.py:141: UserWarning: Implicit dimension choice for softmax has been deprecated. Change the call to include dim=X as an argument.\n",
      "  input = module(input)\n"
     ]
    },
    {
     "name": "stdout",
     "output_type": "stream",
     "text": [
      "Step [0/8]\t loss_instance: 5.774466037750244\t loss_cluster: 1.5275018215179443\n",
      "Step [2/8]\t loss_instance: 5.819085597991943\t loss_cluster: 1.536831259727478\n",
      "Step [4/8]\t loss_instance: 5.8358306884765625\t loss_cluster: 1.5474662780761719\n",
      "Step [6/8]\t loss_instance: 5.9632415771484375\t loss_cluster: 1.7083228826522827\n",
      "\n",
      "Epoch [341/500]\t Loss: 7.439544367790222 \n",
      "\n",
      "Step [0/8]\t Computing features...\n",
      "Features shape (8192,)\n",
      "14\n",
      "Test NMI = 0.6606 ARI = 0.3648 F = 0.4857 ACC = 0.4518\n",
      "================================================================\n",
      "\n"
     ]
    },
    {
     "name": "stderr",
     "output_type": "stream",
     "text": [
      "C:\\Users\\Tom-G\\.conda\\envs\\torchenv\\lib\\site-packages\\torch\\nn\\modules\\container.py:141: UserWarning: Implicit dimension choice for softmax has been deprecated. Change the call to include dim=X as an argument.\n",
      "  input = module(input)\n"
     ]
    },
    {
     "name": "stdout",
     "output_type": "stream",
     "text": [
      "Step [0/8]\t loss_instance: 5.903522491455078\t loss_cluster: 1.678213119506836\n",
      "Step [2/8]\t loss_instance: 5.914259433746338\t loss_cluster: 1.6506458520889282\n",
      "Step [4/8]\t loss_instance: 5.878874778747559\t loss_cluster: 1.575318455696106\n",
      "Step [6/8]\t loss_instance: 5.841341972351074\t loss_cluster: 1.563646912574768\n",
      "\n",
      "Epoch [342/500]\t Loss: 7.4941250622272495 \n",
      "\n",
      "Step [0/8]\t Computing features...\n",
      "Features shape (8192,)\n",
      "14\n",
      "Test NMI = 0.6416 ARI = 0.3511 F = 0.4731 ACC = 0.4358\n",
      "================================================================\n",
      "\n"
     ]
    },
    {
     "name": "stderr",
     "output_type": "stream",
     "text": [
      "C:\\Users\\Tom-G\\.conda\\envs\\torchenv\\lib\\site-packages\\torch\\nn\\modules\\container.py:141: UserWarning: Implicit dimension choice for softmax has been deprecated. Change the call to include dim=X as an argument.\n",
      "  input = module(input)\n"
     ]
    },
    {
     "name": "stdout",
     "output_type": "stream",
     "text": [
      "Step [0/8]\t loss_instance: 5.823862075805664\t loss_cluster: 1.565771460533142\n",
      "Step [2/8]\t loss_instance: 5.8259406089782715\t loss_cluster: 1.5483206510543823\n",
      "Step [4/8]\t loss_instance: 5.815904140472412\t loss_cluster: 1.5592340230941772\n",
      "Step [6/8]\t loss_instance: 5.812070369720459\t loss_cluster: 1.5402172803878784\n",
      "\n",
      "Epoch [343/500]\t Loss: 7.3741381704807285 \n",
      "\n",
      "Step [0/8]\t Computing features...\n",
      "Features shape (8192,)\n",
      "14\n",
      "Test NMI = 0.6506 ARI = 0.3585 F = 0.4802 ACC = 0.4448\n",
      "================================================================\n",
      "\n"
     ]
    },
    {
     "name": "stderr",
     "output_type": "stream",
     "text": [
      "C:\\Users\\Tom-G\\.conda\\envs\\torchenv\\lib\\site-packages\\torch\\nn\\modules\\container.py:141: UserWarning: Implicit dimension choice for softmax has been deprecated. Change the call to include dim=X as an argument.\n",
      "  input = module(input)\n"
     ]
    },
    {
     "name": "stdout",
     "output_type": "stream",
     "text": [
      "Step [0/8]\t loss_instance: 5.809395790100098\t loss_cluster: 1.5565712451934814\n",
      "Step [2/8]\t loss_instance: 5.803443908691406\t loss_cluster: 1.5515351295471191\n",
      "Step [4/8]\t loss_instance: 5.810728549957275\t loss_cluster: 1.532757043838501\n",
      "Step [6/8]\t loss_instance: 5.795616626739502\t loss_cluster: 1.5477374792099\n",
      "\n",
      "Epoch [344/500]\t Loss: 7.3455071449279785 \n",
      "\n",
      "Step [0/8]\t Computing features...\n",
      "Features shape (8192,)\n",
      "14\n",
      "Test NMI = 0.6348 ARI = 0.3346 F = 0.4572 ACC = 0.4310\n",
      "================================================================\n",
      "\n"
     ]
    },
    {
     "name": "stderr",
     "output_type": "stream",
     "text": [
      "C:\\Users\\Tom-G\\.conda\\envs\\torchenv\\lib\\site-packages\\torch\\nn\\modules\\container.py:141: UserWarning: Implicit dimension choice for softmax has been deprecated. Change the call to include dim=X as an argument.\n",
      "  input = module(input)\n"
     ]
    },
    {
     "name": "stdout",
     "output_type": "stream",
     "text": [
      "Step [0/8]\t loss_instance: 5.790178298950195\t loss_cluster: 1.5230257511138916\n",
      "Step [2/8]\t loss_instance: 5.787152290344238\t loss_cluster: 1.5279191732406616\n",
      "Step [4/8]\t loss_instance: 5.787158489227295\t loss_cluster: 1.5280380249023438\n",
      "Step [6/8]\t loss_instance: 5.779969215393066\t loss_cluster: 1.5348682403564453\n",
      "\n",
      "Epoch [345/500]\t Loss: 7.3115290939807895 \n",
      "\n",
      "Step [0/8]\t Computing features...\n",
      "Features shape (8192,)\n",
      "14\n",
      "Test NMI = 0.6366 ARI = 0.3386 F = 0.4611 ACC = 0.4352\n",
      "================================================================\n",
      "\n"
     ]
    },
    {
     "name": "stderr",
     "output_type": "stream",
     "text": [
      "C:\\Users\\Tom-G\\.conda\\envs\\torchenv\\lib\\site-packages\\torch\\nn\\modules\\container.py:141: UserWarning: Implicit dimension choice for softmax has been deprecated. Change the call to include dim=X as an argument.\n",
      "  input = module(input)\n"
     ]
    },
    {
     "name": "stdout",
     "output_type": "stream",
     "text": [
      "Step [0/8]\t loss_instance: 5.776520252227783\t loss_cluster: 1.5250262022018433\n",
      "Step [2/8]\t loss_instance: 5.77766227722168\t loss_cluster: 1.5386031866073608\n",
      "Step [4/8]\t loss_instance: 5.78052282333374\t loss_cluster: 1.5381230115890503\n",
      "Step [6/8]\t loss_instance: 5.775293350219727\t loss_cluster: 1.5300171375274658\n",
      "\n",
      "Epoch [346/500]\t Loss: 7.306422942876816 \n",
      "\n",
      "Step [0/8]\t Computing features...\n",
      "Features shape (8192,)\n",
      "14\n",
      "Test NMI = 0.6368 ARI = 0.3381 F = 0.4603 ACC = 0.4348\n",
      "================================================================\n",
      "\n"
     ]
    },
    {
     "name": "stderr",
     "output_type": "stream",
     "text": [
      "C:\\Users\\Tom-G\\.conda\\envs\\torchenv\\lib\\site-packages\\torch\\nn\\modules\\container.py:141: UserWarning: Implicit dimension choice for softmax has been deprecated. Change the call to include dim=X as an argument.\n",
      "  input = module(input)\n"
     ]
    },
    {
     "name": "stdout",
     "output_type": "stream",
     "text": [
      "Step [0/8]\t loss_instance: 5.7705864906311035\t loss_cluster: 1.536914587020874\n",
      "Step [2/8]\t loss_instance: 5.77597713470459\t loss_cluster: 1.5424591302871704\n",
      "Step [4/8]\t loss_instance: 5.78240442276001\t loss_cluster: 1.5341711044311523\n",
      "Step [6/8]\t loss_instance: 5.781080722808838\t loss_cluster: 1.5435086488723755\n",
      "\n",
      "Epoch [347/500]\t Loss: 7.303143292665482 \n",
      "\n",
      "Step [0/8]\t Computing features...\n",
      "Features shape (8192,)\n",
      "14\n",
      "Test NMI = 0.6358 ARI = 0.3359 F = 0.4586 ACC = 0.4319\n",
      "================================================================\n",
      "\n"
     ]
    },
    {
     "name": "stderr",
     "output_type": "stream",
     "text": [
      "C:\\Users\\Tom-G\\.conda\\envs\\torchenv\\lib\\site-packages\\torch\\nn\\modules\\container.py:141: UserWarning: Implicit dimension choice for softmax has been deprecated. Change the call to include dim=X as an argument.\n",
      "  input = module(input)\n"
     ]
    },
    {
     "name": "stdout",
     "output_type": "stream",
     "text": [
      "Step [0/8]\t loss_instance: 5.780336856842041\t loss_cluster: 1.5464344024658203\n",
      "Step [2/8]\t loss_instance: 5.772365570068359\t loss_cluster: 1.534201741218567\n",
      "Step [4/8]\t loss_instance: 5.788247585296631\t loss_cluster: 1.5296484231948853\n",
      "Step [6/8]\t loss_instance: 5.771954536437988\t loss_cluster: 1.5341025590896606\n",
      "\n",
      "Epoch [348/500]\t Loss: 7.302135533094406 \n",
      "\n",
      "Step [0/8]\t Computing features...\n",
      "Features shape (8192,)\n",
      "14\n",
      "Test NMI = 0.6354 ARI = 0.3360 F = 0.4588 ACC = 0.4320\n",
      "================================================================\n",
      "\n"
     ]
    },
    {
     "name": "stderr",
     "output_type": "stream",
     "text": [
      "C:\\Users\\Tom-G\\.conda\\envs\\torchenv\\lib\\site-packages\\torch\\nn\\modules\\container.py:141: UserWarning: Implicit dimension choice for softmax has been deprecated. Change the call to include dim=X as an argument.\n",
      "  input = module(input)\n"
     ]
    },
    {
     "name": "stdout",
     "output_type": "stream",
     "text": [
      "Step [0/8]\t loss_instance: 5.7627177238464355\t loss_cluster: 1.533804178237915\n",
      "Step [2/8]\t loss_instance: 5.771822929382324\t loss_cluster: 1.5282652378082275\n",
      "Step [4/8]\t loss_instance: 5.770761966705322\t loss_cluster: 1.5363562107086182\n",
      "Step [6/8]\t loss_instance: 5.778729438781738\t loss_cluster: 1.5383301973342896\n",
      "\n",
      "Epoch [349/500]\t Loss: 7.296539950370788 \n",
      "\n",
      "Step [0/8]\t Computing features...\n",
      "Features shape (8192,)\n",
      "14\n",
      "Test NMI = 0.6344 ARI = 0.3361 F = 0.4584 ACC = 0.4333\n",
      "================================================================\n",
      "\n"
     ]
    },
    {
     "name": "stderr",
     "output_type": "stream",
     "text": [
      "C:\\Users\\Tom-G\\.conda\\envs\\torchenv\\lib\\site-packages\\torch\\nn\\modules\\container.py:141: UserWarning: Implicit dimension choice for softmax has been deprecated. Change the call to include dim=X as an argument.\n",
      "  input = module(input)\n"
     ]
    },
    {
     "name": "stdout",
     "output_type": "stream",
     "text": [
      "Step [0/8]\t loss_instance: 5.780330181121826\t loss_cluster: 1.5337098836898804\n",
      "Step [2/8]\t loss_instance: 5.7768073081970215\t loss_cluster: 1.5304898023605347\n",
      "Step [4/8]\t loss_instance: 5.775449752807617\t loss_cluster: 1.5380115509033203\n",
      "Step [6/8]\t loss_instance: 5.767584800720215\t loss_cluster: 1.5306780338287354\n",
      "\n",
      "Epoch [350/500]\t Loss: 7.295826560258865 \n",
      "\n",
      "Step [0/8]\t Computing features...\n",
      "Features shape (8192,)\n",
      "14\n",
      "Test NMI = 0.6370 ARI = 0.3380 F = 0.4610 ACC = 0.4359\n",
      "================================================================\n",
      "\n"
     ]
    },
    {
     "name": "stderr",
     "output_type": "stream",
     "text": [
      "C:\\Users\\Tom-G\\.conda\\envs\\torchenv\\lib\\site-packages\\torch\\nn\\modules\\container.py:141: UserWarning: Implicit dimension choice for softmax has been deprecated. Change the call to include dim=X as an argument.\n",
      "  input = module(input)\n"
     ]
    },
    {
     "name": "stdout",
     "output_type": "stream",
     "text": [
      "Step [0/8]\t loss_instance: 5.772834777832031\t loss_cluster: 1.5444551706314087\n",
      "Step [2/8]\t loss_instance: 5.770161151885986\t loss_cluster: 1.5417349338531494\n",
      "Step [4/8]\t loss_instance: 5.772770881652832\t loss_cluster: 1.5450998544692993\n",
      "Step [6/8]\t loss_instance: 5.777383327484131\t loss_cluster: 1.545794129371643\n",
      "\n",
      "Epoch [351/500]\t Loss: 7.298770654201507 \n",
      "\n",
      "Step [0/8]\t Computing features...\n",
      "Features shape (8192,)\n",
      "14\n",
      "Test NMI = 0.6392 ARI = 0.3414 F = 0.4640 ACC = 0.4391\n",
      "================================================================\n",
      "\n"
     ]
    },
    {
     "name": "stderr",
     "output_type": "stream",
     "text": [
      "C:\\Users\\Tom-G\\.conda\\envs\\torchenv\\lib\\site-packages\\torch\\nn\\modules\\container.py:141: UserWarning: Implicit dimension choice for softmax has been deprecated. Change the call to include dim=X as an argument.\n",
      "  input = module(input)\n"
     ]
    },
    {
     "name": "stdout",
     "output_type": "stream",
     "text": [
      "Step [0/8]\t loss_instance: 5.77090311050415\t loss_cluster: 1.5351908206939697\n",
      "Step [2/8]\t loss_instance: 5.774954319000244\t loss_cluster: 1.5292962789535522\n",
      "Step [4/8]\t loss_instance: 5.777962684631348\t loss_cluster: 1.5294325351715088\n",
      "Step [6/8]\t loss_instance: 5.772735595703125\t loss_cluster: 1.5375529527664185\n",
      "\n",
      "Epoch [352/500]\t Loss: 7.296266371011734 \n",
      "\n",
      "Step [0/8]\t Computing features...\n",
      "Features shape (8192,)\n",
      "14\n",
      "Test NMI = 0.6371 ARI = 0.3396 F = 0.4620 ACC = 0.4351\n",
      "================================================================\n",
      "\n"
     ]
    },
    {
     "name": "stderr",
     "output_type": "stream",
     "text": [
      "C:\\Users\\Tom-G\\.conda\\envs\\torchenv\\lib\\site-packages\\torch\\nn\\modules\\container.py:141: UserWarning: Implicit dimension choice for softmax has been deprecated. Change the call to include dim=X as an argument.\n",
      "  input = module(input)\n"
     ]
    },
    {
     "name": "stdout",
     "output_type": "stream",
     "text": [
      "Step [0/8]\t loss_instance: 5.769740581512451\t loss_cluster: 1.5233473777770996\n",
      "Step [2/8]\t loss_instance: 5.7844157218933105\t loss_cluster: 1.5514771938323975\n",
      "Step [4/8]\t loss_instance: 5.769082069396973\t loss_cluster: 1.533952236175537\n",
      "Step [6/8]\t loss_instance: 5.769308090209961\t loss_cluster: 1.5423219203948975\n",
      "\n",
      "Epoch [353/500]\t Loss: 7.302771633863449 \n",
      "\n",
      "Step [0/8]\t Computing features...\n",
      "Features shape (8192,)\n",
      "14\n",
      "Test NMI = 0.6362 ARI = 0.3372 F = 0.4599 ACC = 0.4330\n",
      "================================================================\n",
      "\n"
     ]
    },
    {
     "name": "stderr",
     "output_type": "stream",
     "text": [
      "C:\\Users\\Tom-G\\.conda\\envs\\torchenv\\lib\\site-packages\\torch\\nn\\modules\\container.py:141: UserWarning: Implicit dimension choice for softmax has been deprecated. Change the call to include dim=X as an argument.\n",
      "  input = module(input)\n"
     ]
    },
    {
     "name": "stdout",
     "output_type": "stream",
     "text": [
      "Step [0/8]\t loss_instance: 5.7687273025512695\t loss_cluster: 1.528739333152771\n",
      "Step [2/8]\t loss_instance: 5.774656295776367\t loss_cluster: 1.538953423500061\n",
      "Step [4/8]\t loss_instance: 5.7671918869018555\t loss_cluster: 1.529734492301941\n",
      "Step [6/8]\t loss_instance: 5.76499605178833\t loss_cluster: 1.5409965515136719\n",
      "\n",
      "Epoch [354/500]\t Loss: 7.292578220367432 \n",
      "\n",
      "Step [0/8]\t Computing features...\n",
      "Features shape (8192,)\n",
      "14\n",
      "Test NMI = 0.6353 ARI = 0.3345 F = 0.4569 ACC = 0.4294\n",
      "================================================================\n",
      "\n"
     ]
    },
    {
     "name": "stderr",
     "output_type": "stream",
     "text": [
      "C:\\Users\\Tom-G\\.conda\\envs\\torchenv\\lib\\site-packages\\torch\\nn\\modules\\container.py:141: UserWarning: Implicit dimension choice for softmax has been deprecated. Change the call to include dim=X as an argument.\n",
      "  input = module(input)\n"
     ]
    },
    {
     "name": "stdout",
     "output_type": "stream",
     "text": [
      "Step [0/8]\t loss_instance: 5.769755840301514\t loss_cluster: 1.5393513441085815\n",
      "Step [2/8]\t loss_instance: 5.76320743560791\t loss_cluster: 1.5469763278961182\n",
      "Step [4/8]\t loss_instance: 5.773594379425049\t loss_cluster: 1.529818058013916\n",
      "Step [6/8]\t loss_instance: 5.763542175292969\t loss_cluster: 1.5257396697998047\n",
      "\n",
      "Epoch [355/500]\t Loss: 7.291830605268478 \n",
      "\n",
      "Step [0/8]\t Computing features...\n",
      "Features shape (8192,)\n",
      "14\n",
      "Test NMI = 0.6375 ARI = 0.3384 F = 0.4608 ACC = 0.4348\n",
      "================================================================\n",
      "\n"
     ]
    },
    {
     "name": "stderr",
     "output_type": "stream",
     "text": [
      "C:\\Users\\Tom-G\\.conda\\envs\\torchenv\\lib\\site-packages\\torch\\nn\\modules\\container.py:141: UserWarning: Implicit dimension choice for softmax has been deprecated. Change the call to include dim=X as an argument.\n",
      "  input = module(input)\n"
     ]
    },
    {
     "name": "stdout",
     "output_type": "stream",
     "text": [
      "Step [0/8]\t loss_instance: 5.769134521484375\t loss_cluster: 1.5280669927597046\n",
      "Step [2/8]\t loss_instance: 5.778472900390625\t loss_cluster: 1.5371944904327393\n",
      "Step [4/8]\t loss_instance: 5.766876220703125\t loss_cluster: 1.524868369102478\n",
      "Step [6/8]\t loss_instance: 5.764904022216797\t loss_cluster: 1.53864586353302\n",
      "\n",
      "Epoch [356/500]\t Loss: 7.292807829380036 \n",
      "\n",
      "Step [0/8]\t Computing features...\n",
      "Features shape (8192,)\n",
      "14\n",
      "Test NMI = 0.6341 ARI = 0.3344 F = 0.4574 ACC = 0.4302\n",
      "================================================================\n",
      "\n"
     ]
    },
    {
     "name": "stderr",
     "output_type": "stream",
     "text": [
      "C:\\Users\\Tom-G\\.conda\\envs\\torchenv\\lib\\site-packages\\torch\\nn\\modules\\container.py:141: UserWarning: Implicit dimension choice for softmax has been deprecated. Change the call to include dim=X as an argument.\n",
      "  input = module(input)\n"
     ]
    },
    {
     "name": "stdout",
     "output_type": "stream",
     "text": [
      "Step [0/8]\t loss_instance: 5.763430595397949\t loss_cluster: 1.5214922428131104\n",
      "Step [2/8]\t loss_instance: 5.758493900299072\t loss_cluster: 1.5298360586166382\n",
      "Step [4/8]\t loss_instance: 5.770535945892334\t loss_cluster: 1.530277967453003\n",
      "Step [6/8]\t loss_instance: 5.767316818237305\t loss_cluster: 1.5303617715835571\n",
      "\n",
      "Epoch [357/500]\t Loss: 7.291691106557846 \n",
      "\n",
      "Step [0/8]\t Computing features...\n",
      "Features shape (8192,)\n",
      "14\n",
      "Test NMI = 0.6371 ARI = 0.3391 F = 0.4616 ACC = 0.4349\n",
      "================================================================\n",
      "\n"
     ]
    },
    {
     "name": "stderr",
     "output_type": "stream",
     "text": [
      "C:\\Users\\Tom-G\\.conda\\envs\\torchenv\\lib\\site-packages\\torch\\nn\\modules\\container.py:141: UserWarning: Implicit dimension choice for softmax has been deprecated. Change the call to include dim=X as an argument.\n",
      "  input = module(input)\n"
     ]
    },
    {
     "name": "stdout",
     "output_type": "stream",
     "text": [
      "Step [0/8]\t loss_instance: 5.766401767730713\t loss_cluster: 1.5314483642578125\n",
      "Step [2/8]\t loss_instance: 5.761852264404297\t loss_cluster: 1.5320342779159546\n",
      "Step [4/8]\t loss_instance: 5.765627861022949\t loss_cluster: 1.5304863452911377\n",
      "Step [6/8]\t loss_instance: 5.759784698486328\t loss_cluster: 1.5291696786880493\n",
      "\n",
      "Epoch [358/500]\t Loss: 7.284629482030868 \n",
      "\n",
      "Step [0/8]\t Computing features...\n",
      "Features shape (8192,)\n",
      "14\n",
      "Test NMI = 0.6368 ARI = 0.3391 F = 0.4610 ACC = 0.4352\n",
      "================================================================\n",
      "\n"
     ]
    },
    {
     "name": "stderr",
     "output_type": "stream",
     "text": [
      "C:\\Users\\Tom-G\\.conda\\envs\\torchenv\\lib\\site-packages\\torch\\nn\\modules\\container.py:141: UserWarning: Implicit dimension choice for softmax has been deprecated. Change the call to include dim=X as an argument.\n",
      "  input = module(input)\n"
     ]
    },
    {
     "name": "stdout",
     "output_type": "stream",
     "text": [
      "Step [0/8]\t loss_instance: 5.758508205413818\t loss_cluster: 1.529291033744812\n",
      "Step [2/8]\t loss_instance: 5.76498556137085\t loss_cluster: 1.5346958637237549\n",
      "Step [4/8]\t loss_instance: 5.765594482421875\t loss_cluster: 1.538716197013855\n",
      "Step [6/8]\t loss_instance: 5.765833854675293\t loss_cluster: 1.523207187652588\n",
      "\n",
      "Epoch [359/500]\t Loss: 7.284758937358856 \n",
      "\n",
      "Step [0/8]\t Computing features...\n",
      "Features shape (8192,)\n",
      "14\n",
      "Test NMI = 0.6354 ARI = 0.3358 F = 0.4586 ACC = 0.4332\n",
      "================================================================\n",
      "\n"
     ]
    },
    {
     "name": "stderr",
     "output_type": "stream",
     "text": [
      "C:\\Users\\Tom-G\\.conda\\envs\\torchenv\\lib\\site-packages\\torch\\nn\\modules\\container.py:141: UserWarning: Implicit dimension choice for softmax has been deprecated. Change the call to include dim=X as an argument.\n",
      "  input = module(input)\n"
     ]
    },
    {
     "name": "stdout",
     "output_type": "stream",
     "text": [
      "Step [0/8]\t loss_instance: 5.743101119995117\t loss_cluster: 1.5278226137161255\n",
      "Step [2/8]\t loss_instance: 5.749143600463867\t loss_cluster: 1.5253442525863647\n",
      "Step [4/8]\t loss_instance: 5.744561195373535\t loss_cluster: 1.54033362865448\n",
      "Step [6/8]\t loss_instance: 5.746353626251221\t loss_cluster: 1.5356476306915283\n",
      "\n",
      "Epoch [360/500]\t Loss: 7.271992319822312 \n",
      "\n",
      "Step [0/8]\t Computing features...\n",
      "Features shape (8192,)\n",
      "14\n",
      "Test NMI = 0.6345 ARI = 0.3347 F = 0.4577 ACC = 0.4299\n",
      "================================================================\n",
      "\n"
     ]
    },
    {
     "name": "stderr",
     "output_type": "stream",
     "text": [
      "C:\\Users\\Tom-G\\.conda\\envs\\torchenv\\lib\\site-packages\\torch\\nn\\modules\\container.py:141: UserWarning: Implicit dimension choice for softmax has been deprecated. Change the call to include dim=X as an argument.\n",
      "  input = module(input)\n"
     ]
    },
    {
     "name": "stdout",
     "output_type": "stream",
     "text": [
      "Step [0/8]\t loss_instance: 5.755144119262695\t loss_cluster: 1.5321435928344727\n",
      "Step [2/8]\t loss_instance: 5.7475175857543945\t loss_cluster: 1.5359216928482056\n",
      "Step [4/8]\t loss_instance: 5.757469177246094\t loss_cluster: 1.5361716747283936\n",
      "Step [6/8]\t loss_instance: 5.7582573890686035\t loss_cluster: 1.52767813205719\n",
      "\n",
      "Epoch [361/500]\t Loss: 7.283774167299271 \n",
      "\n",
      "Step [0/8]\t Computing features...\n",
      "Features shape (8192,)\n",
      "14\n",
      "Test NMI = 0.6402 ARI = 0.3451 F = 0.4677 ACC = 0.4425\n",
      "================================================================\n",
      "\n"
     ]
    },
    {
     "name": "stderr",
     "output_type": "stream",
     "text": [
      "C:\\Users\\Tom-G\\.conda\\envs\\torchenv\\lib\\site-packages\\torch\\nn\\modules\\container.py:141: UserWarning: Implicit dimension choice for softmax has been deprecated. Change the call to include dim=X as an argument.\n",
      "  input = module(input)\n"
     ]
    },
    {
     "name": "stdout",
     "output_type": "stream",
     "text": [
      "Step [0/8]\t loss_instance: 5.769143104553223\t loss_cluster: 1.5461362600326538\n",
      "Step [2/8]\t loss_instance: 5.830133438110352\t loss_cluster: 1.6032609939575195\n",
      "Step [4/8]\t loss_instance: 5.853704929351807\t loss_cluster: 1.584972858428955\n",
      "Step [6/8]\t loss_instance: 5.958094120025635\t loss_cluster: 1.7267900705337524\n",
      "\n",
      "Epoch [362/500]\t Loss: 7.509097993373871 \n",
      "\n",
      "Step [0/8]\t Computing features...\n",
      "Features shape (8192,)\n",
      "14\n",
      "Test NMI = 0.6486 ARI = 0.3677 F = 0.4888 ACC = 0.4658\n",
      "================================================================\n",
      "\n"
     ]
    },
    {
     "name": "stderr",
     "output_type": "stream",
     "text": [
      "C:\\Users\\Tom-G\\.conda\\envs\\torchenv\\lib\\site-packages\\torch\\nn\\modules\\container.py:141: UserWarning: Implicit dimension choice for softmax has been deprecated. Change the call to include dim=X as an argument.\n",
      "  input = module(input)\n"
     ]
    },
    {
     "name": "stdout",
     "output_type": "stream",
     "text": [
      "Step [0/8]\t loss_instance: 5.958625316619873\t loss_cluster: 1.6681835651397705\n",
      "Step [2/8]\t loss_instance: 5.898684501647949\t loss_cluster: 1.5893590450286865\n",
      "Step [4/8]\t loss_instance: 5.882612228393555\t loss_cluster: 1.614513635635376\n",
      "Step [6/8]\t loss_instance: 5.853481769561768\t loss_cluster: 1.5668036937713623\n",
      "\n",
      "Epoch [363/500]\t Loss: 7.52765337228775 \n",
      "\n",
      "Step [0/8]\t Computing features...\n",
      "Features shape (8192,)\n",
      "14\n",
      "Test NMI = 0.6355 ARI = 0.3329 F = 0.4555 ACC = 0.4293\n",
      "================================================================\n",
      "\n"
     ]
    },
    {
     "name": "stderr",
     "output_type": "stream",
     "text": [
      "C:\\Users\\Tom-G\\.conda\\envs\\torchenv\\lib\\site-packages\\torch\\nn\\modules\\container.py:141: UserWarning: Implicit dimension choice for softmax has been deprecated. Change the call to include dim=X as an argument.\n",
      "  input = module(input)\n"
     ]
    },
    {
     "name": "stdout",
     "output_type": "stream",
     "text": [
      "Step [0/8]\t loss_instance: 5.835829257965088\t loss_cluster: 1.546710729598999\n",
      "Step [2/8]\t loss_instance: 5.859368801116943\t loss_cluster: 1.5464268922805786\n",
      "Step [4/8]\t loss_instance: 5.825671195983887\t loss_cluster: 1.5452669858932495\n",
      "Step [6/8]\t loss_instance: 5.811130523681641\t loss_cluster: 1.550290822982788\n",
      "\n",
      "Epoch [364/500]\t Loss: 7.365458601713181 \n",
      "\n",
      "Step [0/8]\t Computing features...\n",
      "Features shape (8192,)\n",
      "14\n",
      "Test NMI = 0.6382 ARI = 0.3376 F = 0.4601 ACC = 0.4316\n",
      "================================================================\n",
      "\n"
     ]
    },
    {
     "name": "stderr",
     "output_type": "stream",
     "text": [
      "C:\\Users\\Tom-G\\.conda\\envs\\torchenv\\lib\\site-packages\\torch\\nn\\modules\\container.py:141: UserWarning: Implicit dimension choice for softmax has been deprecated. Change the call to include dim=X as an argument.\n",
      "  input = module(input)\n"
     ]
    },
    {
     "name": "stdout",
     "output_type": "stream",
     "text": [
      "Step [0/8]\t loss_instance: 5.809139728546143\t loss_cluster: 1.5233606100082397\n",
      "Step [2/8]\t loss_instance: 5.807089328765869\t loss_cluster: 1.538572907447815\n",
      "Step [4/8]\t loss_instance: 5.803276062011719\t loss_cluster: 1.5364760160446167\n",
      "Step [6/8]\t loss_instance: 5.7954630851745605\t loss_cluster: 1.5320457220077515\n",
      "\n",
      "Epoch [365/500]\t Loss: 7.331653821468353 \n",
      "\n",
      "Step [0/8]\t Computing features...\n",
      "Features shape (8192,)\n",
      "14\n",
      "Test NMI = 0.6364 ARI = 0.3363 F = 0.4590 ACC = 0.4294\n",
      "================================================================\n",
      "\n"
     ]
    },
    {
     "name": "stderr",
     "output_type": "stream",
     "text": [
      "C:\\Users\\Tom-G\\.conda\\envs\\torchenv\\lib\\site-packages\\torch\\nn\\modules\\container.py:141: UserWarning: Implicit dimension choice for softmax has been deprecated. Change the call to include dim=X as an argument.\n",
      "  input = module(input)\n"
     ]
    },
    {
     "name": "stdout",
     "output_type": "stream",
     "text": [
      "Step [0/8]\t loss_instance: 5.794160842895508\t loss_cluster: 1.5223256349563599\n",
      "Step [2/8]\t loss_instance: 5.786187171936035\t loss_cluster: 1.5276254415512085\n",
      "Step [4/8]\t loss_instance: 5.791749477386475\t loss_cluster: 1.538501262664795\n",
      "Step [6/8]\t loss_instance: 5.788612365722656\t loss_cluster: 1.5278388261795044\n",
      "\n",
      "Epoch [366/500]\t Loss: 7.316795825958252 \n",
      "\n",
      "Step [0/8]\t Computing features...\n",
      "Features shape (8192,)\n",
      "14\n",
      "Test NMI = 0.6404 ARI = 0.3406 F = 0.4622 ACC = 0.4314\n",
      "================================================================\n",
      "\n"
     ]
    },
    {
     "name": "stderr",
     "output_type": "stream",
     "text": [
      "C:\\Users\\Tom-G\\.conda\\envs\\torchenv\\lib\\site-packages\\torch\\nn\\modules\\container.py:141: UserWarning: Implicit dimension choice for softmax has been deprecated. Change the call to include dim=X as an argument.\n",
      "  input = module(input)\n"
     ]
    },
    {
     "name": "stdout",
     "output_type": "stream",
     "text": [
      "Step [0/8]\t loss_instance: 5.7921648025512695\t loss_cluster: 1.5391277074813843\n",
      "Step [2/8]\t loss_instance: 5.798330783843994\t loss_cluster: 1.5321362018585205\n",
      "Step [4/8]\t loss_instance: 5.804033279418945\t loss_cluster: 1.5397043228149414\n",
      "Step [6/8]\t loss_instance: 5.820625305175781\t loss_cluster: 1.5558778047561646\n",
      "\n",
      "Epoch [367/500]\t Loss: 7.346297264099121 \n",
      "\n",
      "Step [0/8]\t Computing features...\n",
      "Features shape (8192,)\n",
      "14\n",
      "Test NMI = 0.6425 ARI = 0.3422 F = 0.4650 ACC = 0.4296\n",
      "================================================================\n",
      "\n"
     ]
    },
    {
     "name": "stderr",
     "output_type": "stream",
     "text": [
      "C:\\Users\\Tom-G\\.conda\\envs\\torchenv\\lib\\site-packages\\torch\\nn\\modules\\container.py:141: UserWarning: Implicit dimension choice for softmax has been deprecated. Change the call to include dim=X as an argument.\n",
      "  input = module(input)\n"
     ]
    },
    {
     "name": "stdout",
     "output_type": "stream",
     "text": [
      "Step [0/8]\t loss_instance: 5.812689781188965\t loss_cluster: 1.5325926542282104\n",
      "Step [2/8]\t loss_instance: 5.802760601043701\t loss_cluster: 1.5297213792800903\n",
      "Step [4/8]\t loss_instance: 5.80476713180542\t loss_cluster: 1.5337390899658203\n",
      "Step [6/8]\t loss_instance: 5.8182692527771\t loss_cluster: 1.5752991437911987\n",
      "\n",
      "Epoch [368/500]\t Loss: 7.344690901041031 \n",
      "\n",
      "Step [0/8]\t Computing features...\n",
      "Features shape (8192,)\n",
      "14\n",
      "Test NMI = 0.6442 ARI = 0.3444 F = 0.4663 ACC = 0.4315\n",
      "================================================================\n",
      "\n"
     ]
    },
    {
     "name": "stderr",
     "output_type": "stream",
     "text": [
      "C:\\Users\\Tom-G\\.conda\\envs\\torchenv\\lib\\site-packages\\torch\\nn\\modules\\container.py:141: UserWarning: Implicit dimension choice for softmax has been deprecated. Change the call to include dim=X as an argument.\n",
      "  input = module(input)\n"
     ]
    },
    {
     "name": "stdout",
     "output_type": "stream",
     "text": [
      "Step [0/8]\t loss_instance: 5.803781986236572\t loss_cluster: 1.5417388677597046\n",
      "Step [2/8]\t loss_instance: 5.812722206115723\t loss_cluster: 1.5427621603012085\n",
      "Step [4/8]\t loss_instance: 5.811753749847412\t loss_cluster: 1.53525972366333\n",
      "Step [6/8]\t loss_instance: 5.826833724975586\t loss_cluster: 1.5705629587173462\n",
      "\n",
      "Epoch [369/500]\t Loss: 7.352068048715592 \n",
      "\n",
      "Step [0/8]\t Computing features...\n",
      "Features shape (8192,)\n",
      "14\n",
      "Test NMI = 0.6362 ARI = 0.3365 F = 0.4584 ACC = 0.4319\n",
      "================================================================\n",
      "\n"
     ]
    },
    {
     "name": "stderr",
     "output_type": "stream",
     "text": [
      "C:\\Users\\Tom-G\\.conda\\envs\\torchenv\\lib\\site-packages\\torch\\nn\\modules\\container.py:141: UserWarning: Implicit dimension choice for softmax has been deprecated. Change the call to include dim=X as an argument.\n",
      "  input = module(input)\n"
     ]
    },
    {
     "name": "stdout",
     "output_type": "stream",
     "text": [
      "Step [0/8]\t loss_instance: 5.8430914878845215\t loss_cluster: 1.5757910013198853\n",
      "Step [2/8]\t loss_instance: 5.824807643890381\t loss_cluster: 1.5596452951431274\n",
      "Step [4/8]\t loss_instance: 5.825153827667236\t loss_cluster: 1.5542072057724\n",
      "Step [6/8]\t loss_instance: 5.814544200897217\t loss_cluster: 1.5550771951675415\n",
      "\n",
      "Epoch [370/500]\t Loss: 7.382644760608673 \n",
      "\n",
      "Step [0/8]\t Computing features...\n",
      "Features shape (8192,)\n",
      "14\n",
      "Test NMI = 0.6393 ARI = 0.3411 F = 0.4635 ACC = 0.4346\n",
      "================================================================\n",
      "\n"
     ]
    },
    {
     "name": "stderr",
     "output_type": "stream",
     "text": [
      "C:\\Users\\Tom-G\\.conda\\envs\\torchenv\\lib\\site-packages\\torch\\nn\\modules\\container.py:141: UserWarning: Implicit dimension choice for softmax has been deprecated. Change the call to include dim=X as an argument.\n",
      "  input = module(input)\n"
     ]
    },
    {
     "name": "stdout",
     "output_type": "stream",
     "text": [
      "Step [0/8]\t loss_instance: 5.8187150955200195\t loss_cluster: 1.5540966987609863\n",
      "Step [2/8]\t loss_instance: 5.828099250793457\t loss_cluster: 1.5635428428649902\n",
      "Step [4/8]\t loss_instance: 5.838068962097168\t loss_cluster: 1.5623480081558228\n",
      "Step [6/8]\t loss_instance: 5.83912467956543\t loss_cluster: 1.5743420124053955\n",
      "\n",
      "Epoch [371/500]\t Loss: 7.38453516960144 \n",
      "\n",
      "Step [0/8]\t Computing features...\n",
      "Features shape (8192,)\n",
      "14\n",
      "Test NMI = 0.6485 ARI = 0.3505 F = 0.4727 ACC = 0.4448\n",
      "================================================================\n",
      "\n"
     ]
    },
    {
     "name": "stderr",
     "output_type": "stream",
     "text": [
      "C:\\Users\\Tom-G\\.conda\\envs\\torchenv\\lib\\site-packages\\torch\\nn\\modules\\container.py:141: UserWarning: Implicit dimension choice for softmax has been deprecated. Change the call to include dim=X as an argument.\n",
      "  input = module(input)\n"
     ]
    },
    {
     "name": "stdout",
     "output_type": "stream",
     "text": [
      "Step [0/8]\t loss_instance: 5.835129261016846\t loss_cluster: 1.5450156927108765\n",
      "Step [2/8]\t loss_instance: 5.835485935211182\t loss_cluster: 1.5596650838851929\n",
      "Step [4/8]\t loss_instance: 5.850285053253174\t loss_cluster: 1.5611413717269897\n",
      "Step [6/8]\t loss_instance: 5.843656063079834\t loss_cluster: 1.560233473777771\n",
      "\n",
      "Epoch [372/500]\t Loss: 7.398622274398804 \n",
      "\n",
      "Step [0/8]\t Computing features...\n",
      "Features shape (8192,)\n",
      "14\n",
      "Test NMI = 0.6451 ARI = 0.3494 F = 0.4726 ACC = 0.4375\n",
      "================================================================\n",
      "\n"
     ]
    },
    {
     "name": "stderr",
     "output_type": "stream",
     "text": [
      "C:\\Users\\Tom-G\\.conda\\envs\\torchenv\\lib\\site-packages\\torch\\nn\\modules\\container.py:141: UserWarning: Implicit dimension choice for softmax has been deprecated. Change the call to include dim=X as an argument.\n",
      "  input = module(input)\n"
     ]
    },
    {
     "name": "stdout",
     "output_type": "stream",
     "text": [
      "Step [0/8]\t loss_instance: 5.84727668762207\t loss_cluster: 1.5591760873794556\n",
      "Step [2/8]\t loss_instance: 5.8488874435424805\t loss_cluster: 1.5796794891357422\n",
      "Step [4/8]\t loss_instance: 5.843168258666992\t loss_cluster: 1.567779302597046\n",
      "Step [6/8]\t loss_instance: 5.838099002838135\t loss_cluster: 1.5505095720291138\n",
      "\n",
      "Epoch [373/500]\t Loss: 7.38836932182312 \n",
      "\n",
      "Step [0/8]\t Computing features...\n",
      "Features shape (8192,)\n",
      "14\n",
      "Test NMI = 0.6484 ARI = 0.3518 F = 0.4744 ACC = 0.4348\n",
      "================================================================\n",
      "\n"
     ]
    },
    {
     "name": "stderr",
     "output_type": "stream",
     "text": [
      "C:\\Users\\Tom-G\\.conda\\envs\\torchenv\\lib\\site-packages\\torch\\nn\\modules\\container.py:141: UserWarning: Implicit dimension choice for softmax has been deprecated. Change the call to include dim=X as an argument.\n",
      "  input = module(input)\n"
     ]
    },
    {
     "name": "stdout",
     "output_type": "stream",
     "text": [
      "Step [0/8]\t loss_instance: 5.827521800994873\t loss_cluster: 1.5457412004470825\n",
      "Step [2/8]\t loss_instance: 5.83414888381958\t loss_cluster: 1.5502593517303467\n",
      "Step [4/8]\t loss_instance: 5.845542907714844\t loss_cluster: 1.5626896619796753\n",
      "Step [6/8]\t loss_instance: 5.847056865692139\t loss_cluster: 1.5622954368591309\n",
      "\n",
      "Epoch [374/500]\t Loss: 7.384963482618332 \n",
      "\n",
      "Step [0/8]\t Computing features...\n",
      "Features shape (8192,)\n",
      "14\n",
      "Test NMI = 0.6465 ARI = 0.3511 F = 0.4729 ACC = 0.4460\n",
      "================================================================\n",
      "\n"
     ]
    },
    {
     "name": "stderr",
     "output_type": "stream",
     "text": [
      "C:\\Users\\Tom-G\\.conda\\envs\\torchenv\\lib\\site-packages\\torch\\nn\\modules\\container.py:141: UserWarning: Implicit dimension choice for softmax has been deprecated. Change the call to include dim=X as an argument.\n",
      "  input = module(input)\n"
     ]
    },
    {
     "name": "stdout",
     "output_type": "stream",
     "text": [
      "Step [0/8]\t loss_instance: 5.836244106292725\t loss_cluster: 1.553350567817688\n",
      "Step [2/8]\t loss_instance: 5.845534324645996\t loss_cluster: 1.5541785955429077\n",
      "Step [4/8]\t loss_instance: 5.838955402374268\t loss_cluster: 1.5447548627853394\n",
      "Step [6/8]\t loss_instance: 5.843117713928223\t loss_cluster: 1.579267144203186\n",
      "\n",
      "Epoch [375/500]\t Loss: 7.3837841033935545 \n",
      "\n",
      "Step [0/8]\t Computing features...\n",
      "Features shape (8192,)\n",
      "14\n",
      "Test NMI = 0.6575 ARI = 0.3663 F = 0.4889 ACC = 0.4526\n",
      "================================================================\n",
      "\n"
     ]
    },
    {
     "name": "stderr",
     "output_type": "stream",
     "text": [
      "C:\\Users\\Tom-G\\.conda\\envs\\torchenv\\lib\\site-packages\\torch\\nn\\modules\\container.py:141: UserWarning: Implicit dimension choice for softmax has been deprecated. Change the call to include dim=X as an argument.\n",
      "  input = module(input)\n"
     ]
    },
    {
     "name": "stdout",
     "output_type": "stream",
     "text": [
      "Step [0/8]\t loss_instance: 5.845409393310547\t loss_cluster: 1.554232120513916\n",
      "Step [2/8]\t loss_instance: 5.830265045166016\t loss_cluster: 1.5567845106124878\n",
      "Step [4/8]\t loss_instance: 5.824217796325684\t loss_cluster: 1.5523388385772705\n",
      "Step [6/8]\t loss_instance: 5.848567485809326\t loss_cluster: 1.550238847732544\n",
      "\n",
      "Epoch [376/500]\t Loss: 7.373033583164215 \n",
      "\n",
      "Step [0/8]\t Computing features...\n",
      "Features shape (8192,)\n",
      "14\n",
      "Test NMI = 0.6545 ARI = 0.3623 F = 0.4843 ACC = 0.4473\n",
      "================================================================\n",
      "\n"
     ]
    },
    {
     "name": "stderr",
     "output_type": "stream",
     "text": [
      "C:\\Users\\Tom-G\\.conda\\envs\\torchenv\\lib\\site-packages\\torch\\nn\\modules\\container.py:141: UserWarning: Implicit dimension choice for softmax has been deprecated. Change the call to include dim=X as an argument.\n",
      "  input = module(input)\n"
     ]
    },
    {
     "name": "stdout",
     "output_type": "stream",
     "text": [
      "Step [0/8]\t loss_instance: 5.843952655792236\t loss_cluster: 1.5460091829299927\n",
      "Step [2/8]\t loss_instance: 5.850610256195068\t loss_cluster: 1.5568422079086304\n",
      "Step [4/8]\t loss_instance: 5.855474472045898\t loss_cluster: 1.5717509984970093\n",
      "Step [6/8]\t loss_instance: 5.845172882080078\t loss_cluster: 1.58739173412323\n",
      "\n",
      "Epoch [377/500]\t Loss: 7.415205258131027 \n",
      "\n",
      "Step [0/8]\t Computing features...\n",
      "Features shape (8192,)\n",
      "14\n",
      "Test NMI = 0.6401 ARI = 0.3340 F = 0.4559 ACC = 0.4242\n",
      "================================================================\n",
      "\n"
     ]
    },
    {
     "name": "stderr",
     "output_type": "stream",
     "text": [
      "C:\\Users\\Tom-G\\.conda\\envs\\torchenv\\lib\\site-packages\\torch\\nn\\modules\\container.py:141: UserWarning: Implicit dimension choice for softmax has been deprecated. Change the call to include dim=X as an argument.\n",
      "  input = module(input)\n"
     ]
    },
    {
     "name": "stdout",
     "output_type": "stream",
     "text": [
      "Step [0/8]\t loss_instance: 5.867954254150391\t loss_cluster: 1.5904340744018555\n",
      "Step [2/8]\t loss_instance: 5.876528739929199\t loss_cluster: 1.656352162361145\n",
      "Step [4/8]\t loss_instance: 5.841979026794434\t loss_cluster: 1.5963068008422852\n",
      "Step [6/8]\t loss_instance: 5.8370513916015625\t loss_cluster: 1.5875983238220215\n",
      "\n",
      "Epoch [378/500]\t Loss: 7.438549947738648 \n",
      "\n",
      "Step [0/8]\t Computing features...\n",
      "Features shape (8192,)\n",
      "14\n",
      "Test NMI = 0.6487 ARI = 0.3512 F = 0.4734 ACC = 0.4508\n",
      "================================================================\n",
      "\n"
     ]
    },
    {
     "name": "stderr",
     "output_type": "stream",
     "text": [
      "C:\\Users\\Tom-G\\.conda\\envs\\torchenv\\lib\\site-packages\\torch\\nn\\modules\\container.py:141: UserWarning: Implicit dimension choice for softmax has been deprecated. Change the call to include dim=X as an argument.\n",
      "  input = module(input)\n"
     ]
    },
    {
     "name": "stdout",
     "output_type": "stream",
     "text": [
      "Step [0/8]\t loss_instance: 5.829864025115967\t loss_cluster: 1.5567618608474731\n",
      "Step [2/8]\t loss_instance: 5.843864917755127\t loss_cluster: 1.5880448818206787\n",
      "Step [4/8]\t loss_instance: 5.849123477935791\t loss_cluster: 1.58542799949646\n",
      "Step [6/8]\t loss_instance: 5.881587982177734\t loss_cluster: 1.6098301410675049\n",
      "\n",
      "Epoch [379/500]\t Loss: 7.424389046430588 \n",
      "\n",
      "Step [0/8]\t Computing features...\n",
      "Features shape (8192,)\n",
      "14\n",
      "Test NMI = 0.6377 ARI = 0.3331 F = 0.4541 ACC = 0.4260\n",
      "================================================================\n",
      "\n"
     ]
    },
    {
     "name": "stderr",
     "output_type": "stream",
     "text": [
      "C:\\Users\\Tom-G\\.conda\\envs\\torchenv\\lib\\site-packages\\torch\\nn\\modules\\container.py:141: UserWarning: Implicit dimension choice for softmax has been deprecated. Change the call to include dim=X as an argument.\n",
      "  input = module(input)\n"
     ]
    },
    {
     "name": "stdout",
     "output_type": "stream",
     "text": [
      "Step [0/8]\t loss_instance: 5.79891300201416\t loss_cluster: 1.5565122365951538\n",
      "Step [2/8]\t loss_instance: 5.831419944763184\t loss_cluster: 1.5507805347442627\n",
      "Step [4/8]\t loss_instance: 5.852596282958984\t loss_cluster: 1.601387858390808\n",
      "Step [6/8]\t loss_instance: 5.86269998550415\t loss_cluster: 1.5962532758712769\n",
      "\n",
      "Epoch [380/500]\t Loss: 7.444931638240814 \n",
      "\n",
      "Step [0/8]\t Computing features...\n",
      "Features shape (8192,)\n",
      "14\n",
      "Test NMI = 0.6738 ARI = 0.3870 F = 0.5083 ACC = 0.4722\n",
      "================================================================\n",
      "\n"
     ]
    },
    {
     "name": "stderr",
     "output_type": "stream",
     "text": [
      "C:\\Users\\Tom-G\\.conda\\envs\\torchenv\\lib\\site-packages\\torch\\nn\\modules\\container.py:141: UserWarning: Implicit dimension choice for softmax has been deprecated. Change the call to include dim=X as an argument.\n",
      "  input = module(input)\n"
     ]
    },
    {
     "name": "stdout",
     "output_type": "stream",
     "text": [
      "Step [0/8]\t loss_instance: 5.896861553192139\t loss_cluster: 1.5851725339889526\n",
      "Step [2/8]\t loss_instance: 5.904088497161865\t loss_cluster: 1.6815059185028076\n",
      "Step [4/8]\t loss_instance: 5.885700225830078\t loss_cluster: 1.656194806098938\n",
      "Step [6/8]\t loss_instance: 5.921239376068115\t loss_cluster: 1.6942248344421387\n",
      "\n",
      "Epoch [381/500]\t Loss: 7.558088386058808 \n",
      "\n",
      "Step [0/8]\t Computing features...\n",
      "Features shape (8192,)\n",
      "14\n",
      "Test NMI = 0.6860 ARI = 0.4135 F = 0.5323 ACC = 0.5043\n",
      "================================================================\n",
      "\n"
     ]
    },
    {
     "name": "stderr",
     "output_type": "stream",
     "text": [
      "C:\\Users\\Tom-G\\.conda\\envs\\torchenv\\lib\\site-packages\\torch\\nn\\modules\\container.py:141: UserWarning: Implicit dimension choice for softmax has been deprecated. Change the call to include dim=X as an argument.\n",
      "  input = module(input)\n"
     ]
    },
    {
     "name": "stdout",
     "output_type": "stream",
     "text": [
      "Step [0/8]\t loss_instance: 5.910122871398926\t loss_cluster: 1.6749112606048584\n",
      "Step [2/8]\t loss_instance: 5.8955230712890625\t loss_cluster: 1.5989185571670532\n",
      "Step [4/8]\t loss_instance: 5.887019157409668\t loss_cluster: 1.5945769548416138\n",
      "Step [6/8]\t loss_instance: 5.879962921142578\t loss_cluster: 1.6022480726242065\n",
      "\n",
      "Epoch [382/500]\t Loss: 7.501193249225617 \n",
      "\n",
      "Step [0/8]\t Computing features...\n",
      "Features shape (8192,)\n",
      "14\n",
      "Test NMI = 0.6799 ARI = 0.3995 F = 0.5201 ACC = 0.4790\n",
      "================================================================\n",
      "\n"
     ]
    },
    {
     "name": "stderr",
     "output_type": "stream",
     "text": [
      "C:\\Users\\Tom-G\\.conda\\envs\\torchenv\\lib\\site-packages\\torch\\nn\\modules\\container.py:141: UserWarning: Implicit dimension choice for softmax has been deprecated. Change the call to include dim=X as an argument.\n",
      "  input = module(input)\n"
     ]
    },
    {
     "name": "stdout",
     "output_type": "stream",
     "text": [
      "Step [0/8]\t loss_instance: 5.891626834869385\t loss_cluster: 1.6076370477676392\n",
      "Step [2/8]\t loss_instance: 5.90877103805542\t loss_cluster: 1.6248347759246826\n",
      "Step [4/8]\t loss_instance: 5.888998031616211\t loss_cluster: 1.5971158742904663\n",
      "Step [6/8]\t loss_instance: 5.895747184753418\t loss_cluster: 1.617332100868225\n",
      "\n",
      "Epoch [383/500]\t Loss: 7.496992880105973 \n",
      "\n",
      "Step [0/8]\t Computing features...\n",
      "Features shape (8192,)\n",
      "14\n",
      "Test NMI = 0.6665 ARI = 0.3791 F = 0.5005 ACC = 0.4569\n",
      "================================================================\n",
      "\n"
     ]
    },
    {
     "name": "stderr",
     "output_type": "stream",
     "text": [
      "C:\\Users\\Tom-G\\.conda\\envs\\torchenv\\lib\\site-packages\\torch\\nn\\modules\\container.py:141: UserWarning: Implicit dimension choice for softmax has been deprecated. Change the call to include dim=X as an argument.\n",
      "  input = module(input)\n"
     ]
    },
    {
     "name": "stdout",
     "output_type": "stream",
     "text": [
      "Step [0/8]\t loss_instance: 5.906067848205566\t loss_cluster: 1.6171996593475342\n",
      "Step [2/8]\t loss_instance: 5.887001037597656\t loss_cluster: 1.594228982925415\n",
      "Step [4/8]\t loss_instance: 5.907588005065918\t loss_cluster: 1.6302571296691895\n",
      "Step [6/8]\t loss_instance: 5.892788410186768\t loss_cluster: 1.5867708921432495\n",
      "\n",
      "Epoch [384/500]\t Loss: 7.506781673431396 \n",
      "\n",
      "Step [0/8]\t Computing features...\n",
      "Features shape (8192,)\n",
      "14\n",
      "Test NMI = 0.6582 ARI = 0.3733 F = 0.4948 ACC = 0.4646\n",
      "================================================================\n",
      "\n"
     ]
    },
    {
     "name": "stderr",
     "output_type": "stream",
     "text": [
      "C:\\Users\\Tom-G\\.conda\\envs\\torchenv\\lib\\site-packages\\torch\\nn\\modules\\container.py:141: UserWarning: Implicit dimension choice for softmax has been deprecated. Change the call to include dim=X as an argument.\n",
      "  input = module(input)\n"
     ]
    },
    {
     "name": "stdout",
     "output_type": "stream",
     "text": [
      "Step [0/8]\t loss_instance: 5.905364036560059\t loss_cluster: 1.6028650999069214\n",
      "Step [2/8]\t loss_instance: 5.906069278717041\t loss_cluster: 1.622930884361267\n",
      "Step [4/8]\t loss_instance: 5.924025535583496\t loss_cluster: 1.626885175704956\n",
      "Step [6/8]\t loss_instance: 5.893505573272705\t loss_cluster: 1.611535906791687\n",
      "\n",
      "Epoch [385/500]\t Loss: 7.508725357055664 \n",
      "\n",
      "Step [0/8]\t Computing features...\n",
      "Features shape (8192,)\n",
      "14\n",
      "Test NMI = 0.6461 ARI = 0.3589 F = 0.4803 ACC = 0.4382\n",
      "================================================================\n",
      "\n"
     ]
    },
    {
     "name": "stderr",
     "output_type": "stream",
     "text": [
      "C:\\Users\\Tom-G\\.conda\\envs\\torchenv\\lib\\site-packages\\torch\\nn\\modules\\container.py:141: UserWarning: Implicit dimension choice for softmax has been deprecated. Change the call to include dim=X as an argument.\n",
      "  input = module(input)\n"
     ]
    },
    {
     "name": "stdout",
     "output_type": "stream",
     "text": [
      "Step [0/8]\t loss_instance: 5.913849830627441\t loss_cluster: 1.6300104856491089\n",
      "Step [2/8]\t loss_instance: 5.94139289855957\t loss_cluster: 1.6641234159469604\n",
      "Step [4/8]\t loss_instance: 5.949700355529785\t loss_cluster: 1.648315668106079\n",
      "Step [6/8]\t loss_instance: 5.944770336151123\t loss_cluster: 1.6391733884811401\n",
      "\n",
      "Epoch [386/500]\t Loss: 7.550339126586914 \n",
      "\n",
      "Step [0/8]\t Computing features...\n",
      "Features shape (8192,)\n",
      "14\n",
      "Test NMI = 0.6612 ARI = 0.3826 F = 0.5039 ACC = 0.4769\n",
      "================================================================\n",
      "\n"
     ]
    },
    {
     "name": "stderr",
     "output_type": "stream",
     "text": [
      "C:\\Users\\Tom-G\\.conda\\envs\\torchenv\\lib\\site-packages\\torch\\nn\\modules\\container.py:141: UserWarning: Implicit dimension choice for softmax has been deprecated. Change the call to include dim=X as an argument.\n",
      "  input = module(input)\n"
     ]
    },
    {
     "name": "stdout",
     "output_type": "stream",
     "text": [
      "Step [0/8]\t loss_instance: 5.929815292358398\t loss_cluster: 1.632201075553894\n",
      "Step [2/8]\t loss_instance: 5.949783802032471\t loss_cluster: 1.668350100517273\n",
      "Step [4/8]\t loss_instance: 5.932034492492676\t loss_cluster: 1.656261920928955\n",
      "Step [6/8]\t loss_instance: 5.957676887512207\t loss_cluster: 1.687564730644226\n",
      "\n",
      "Epoch [387/500]\t Loss: 7.551916164159775 \n",
      "\n",
      "Step [0/8]\t Computing features...\n",
      "Features shape (8192,)\n",
      "14\n",
      "Test NMI = 0.6448 ARI = 0.3622 F = 0.4836 ACC = 0.4530\n",
      "================================================================\n",
      "\n"
     ]
    },
    {
     "name": "stderr",
     "output_type": "stream",
     "text": [
      "C:\\Users\\Tom-G\\.conda\\envs\\torchenv\\lib\\site-packages\\torch\\nn\\modules\\container.py:141: UserWarning: Implicit dimension choice for softmax has been deprecated. Change the call to include dim=X as an argument.\n",
      "  input = module(input)\n"
     ]
    },
    {
     "name": "stdout",
     "output_type": "stream",
     "text": [
      "Step [0/8]\t loss_instance: 5.9262776374816895\t loss_cluster: 1.6552062034606934\n",
      "Step [2/8]\t loss_instance: 5.940072536468506\t loss_cluster: 1.679558515548706\n",
      "Step [4/8]\t loss_instance: 5.9948577880859375\t loss_cluster: 1.7180149555206299\n",
      "Step [6/8]\t loss_instance: 5.961697578430176\t loss_cluster: 1.7339388132095337\n",
      "\n",
      "Epoch [388/500]\t Loss: 7.625117808580399 \n",
      "\n",
      "Step [0/8]\t Computing features...\n",
      "Features shape (8192,)\n",
      "14\n",
      "Test NMI = 0.6149 ARI = 0.3231 F = 0.4446 ACC = 0.3981\n",
      "================================================================\n",
      "\n"
     ]
    },
    {
     "name": "stderr",
     "output_type": "stream",
     "text": [
      "C:\\Users\\Tom-G\\.conda\\envs\\torchenv\\lib\\site-packages\\torch\\nn\\modules\\container.py:141: UserWarning: Implicit dimension choice for softmax has been deprecated. Change the call to include dim=X as an argument.\n",
      "  input = module(input)\n"
     ]
    },
    {
     "name": "stdout",
     "output_type": "stream",
     "text": [
      "Step [0/8]\t loss_instance: 5.977002143859863\t loss_cluster: 1.8669434785842896\n",
      "Step [2/8]\t loss_instance: 5.983696460723877\t loss_cluster: 1.820075511932373\n",
      "Step [4/8]\t loss_instance: 6.013220310211182\t loss_cluster: 1.847692608833313\n",
      "Step [6/8]\t loss_instance: 5.9935221672058105\t loss_cluster: 1.7762845754623413\n",
      "\n",
      "Epoch [389/500]\t Loss: 7.751712453365326 \n",
      "\n",
      "Step [0/8]\t Computing features...\n",
      "Features shape (8192,)\n",
      "14\n",
      "Test NMI = 0.6032 ARI = 0.3140 F = 0.4350 ACC = 0.3966\n",
      "================================================================\n",
      "\n"
     ]
    },
    {
     "name": "stderr",
     "output_type": "stream",
     "text": [
      "C:\\Users\\Tom-G\\.conda\\envs\\torchenv\\lib\\site-packages\\torch\\nn\\modules\\container.py:141: UserWarning: Implicit dimension choice for softmax has been deprecated. Change the call to include dim=X as an argument.\n",
      "  input = module(input)\n"
     ]
    },
    {
     "name": "stdout",
     "output_type": "stream",
     "text": [
      "Step [0/8]\t loss_instance: 5.95329475402832\t loss_cluster: 1.7487643957138062\n",
      "Step [2/8]\t loss_instance: 5.949127197265625\t loss_cluster: 1.6584926843643188\n",
      "Step [4/8]\t loss_instance: 5.948297023773193\t loss_cluster: 1.673099398612976\n",
      "Step [6/8]\t loss_instance: 5.9518723487854\t loss_cluster: 1.6738650798797607\n",
      "\n",
      "Epoch [390/500]\t Loss: 7.60187321305275 \n",
      "\n",
      "Step [0/8]\t Computing features...\n",
      "Features shape (8192,)\n",
      "14\n",
      "Test NMI = 0.6111 ARI = 0.3260 F = 0.4475 ACC = 0.4207\n",
      "================================================================\n",
      "\n"
     ]
    },
    {
     "name": "stderr",
     "output_type": "stream",
     "text": [
      "C:\\Users\\Tom-G\\.conda\\envs\\torchenv\\lib\\site-packages\\torch\\nn\\modules\\container.py:141: UserWarning: Implicit dimension choice for softmax has been deprecated. Change the call to include dim=X as an argument.\n",
      "  input = module(input)\n"
     ]
    },
    {
     "name": "stdout",
     "output_type": "stream",
     "text": [
      "Step [0/8]\t loss_instance: 5.961287975311279\t loss_cluster: 1.695421576499939\n",
      "Step [2/8]\t loss_instance: 5.933513164520264\t loss_cluster: 1.6616263389587402\n",
      "Step [4/8]\t loss_instance: 5.9359965324401855\t loss_cluster: 1.650593638420105\n",
      "Step [6/8]\t loss_instance: 5.936656475067139\t loss_cluster: 1.685400366783142\n",
      "\n",
      "Epoch [391/500]\t Loss: 7.573340672254562 \n",
      "\n",
      "Step [0/8]\t Computing features...\n",
      "Features shape (8192,)\n",
      "14\n",
      "Test NMI = 0.6153 ARI = 0.3318 F = 0.4537 ACC = 0.4110\n",
      "================================================================\n",
      "\n"
     ]
    },
    {
     "name": "stderr",
     "output_type": "stream",
     "text": [
      "C:\\Users\\Tom-G\\.conda\\envs\\torchenv\\lib\\site-packages\\torch\\nn\\modules\\container.py:141: UserWarning: Implicit dimension choice for softmax has been deprecated. Change the call to include dim=X as an argument.\n",
      "  input = module(input)\n"
     ]
    },
    {
     "name": "stdout",
     "output_type": "stream",
     "text": [
      "Step [0/8]\t loss_instance: 5.92926025390625\t loss_cluster: 1.6461732387542725\n",
      "Step [2/8]\t loss_instance: 5.947943210601807\t loss_cluster: 1.6922855377197266\n",
      "Step [4/8]\t loss_instance: 5.927202224731445\t loss_cluster: 1.6736361980438232\n",
      "Step [6/8]\t loss_instance: 5.932241439819336\t loss_cluster: 1.6564148664474487\n",
      "\n",
      "Epoch [392/500]\t Loss: 7.548054713010788 \n",
      "\n",
      "Step [0/8]\t Computing features...\n",
      "Features shape (8192,)\n",
      "14\n",
      "Test NMI = 0.6161 ARI = 0.3386 F = 0.4611 ACC = 0.4265\n",
      "================================================================\n",
      "\n"
     ]
    },
    {
     "name": "stderr",
     "output_type": "stream",
     "text": [
      "C:\\Users\\Tom-G\\.conda\\envs\\torchenv\\lib\\site-packages\\torch\\nn\\modules\\container.py:141: UserWarning: Implicit dimension choice for softmax has been deprecated. Change the call to include dim=X as an argument.\n",
      "  input = module(input)\n"
     ]
    },
    {
     "name": "stdout",
     "output_type": "stream",
     "text": [
      "Step [0/8]\t loss_instance: 5.935570240020752\t loss_cluster: 1.6715400218963623\n",
      "Step [2/8]\t loss_instance: 5.942333221435547\t loss_cluster: 1.6946346759796143\n",
      "Step [4/8]\t loss_instance: 5.949108600616455\t loss_cluster: 1.6860305070877075\n",
      "Step [6/8]\t loss_instance: 5.927588939666748\t loss_cluster: 1.6528229713439941\n",
      "\n",
      "Epoch [393/500]\t Loss: 7.535777145624161 \n",
      "\n",
      "Step [0/8]\t Computing features...\n",
      "Features shape (8192,)\n",
      "14\n",
      "Test NMI = 0.6124 ARI = 0.3430 F = 0.4648 ACC = 0.4332\n",
      "================================================================\n",
      "\n"
     ]
    },
    {
     "name": "stderr",
     "output_type": "stream",
     "text": [
      "C:\\Users\\Tom-G\\.conda\\envs\\torchenv\\lib\\site-packages\\torch\\nn\\modules\\container.py:141: UserWarning: Implicit dimension choice for softmax has been deprecated. Change the call to include dim=X as an argument.\n",
      "  input = module(input)\n"
     ]
    },
    {
     "name": "stdout",
     "output_type": "stream",
     "text": [
      "Step [0/8]\t loss_instance: 5.928622245788574\t loss_cluster: 1.6604140996932983\n",
      "Step [2/8]\t loss_instance: 5.922117233276367\t loss_cluster: 1.6631746292114258\n",
      "Step [4/8]\t loss_instance: 5.918570041656494\t loss_cluster: 1.626714825630188\n",
      "Step [6/8]\t loss_instance: 5.923564434051514\t loss_cluster: 1.6633466482162476\n",
      "\n",
      "Epoch [394/500]\t Loss: 7.522215783596039 \n",
      "\n",
      "Step [0/8]\t Computing features...\n",
      "Features shape (8192,)\n",
      "14\n",
      "Test NMI = 0.5886 ARI = 0.3167 F = 0.4383 ACC = 0.4171\n",
      "================================================================\n",
      "\n"
     ]
    },
    {
     "name": "stderr",
     "output_type": "stream",
     "text": [
      "C:\\Users\\Tom-G\\.conda\\envs\\torchenv\\lib\\site-packages\\torch\\nn\\modules\\container.py:141: UserWarning: Implicit dimension choice for softmax has been deprecated. Change the call to include dim=X as an argument.\n",
      "  input = module(input)\n"
     ]
    },
    {
     "name": "stdout",
     "output_type": "stream",
     "text": [
      "Step [0/8]\t loss_instance: 5.946718692779541\t loss_cluster: 1.6693400144577026\n",
      "Step [2/8]\t loss_instance: 5.913671970367432\t loss_cluster: 1.6467701196670532\n",
      "Step [4/8]\t loss_instance: 5.912724494934082\t loss_cluster: 1.6566362380981445\n",
      "Step [6/8]\t loss_instance: 5.925276756286621\t loss_cluster: 1.63353431224823\n",
      "\n",
      "Epoch [395/500]\t Loss: 7.518176662921905 \n",
      "\n",
      "Step [0/8]\t Computing features...\n",
      "Features shape (8192,)\n",
      "14\n",
      "Test NMI = 0.6028 ARI = 0.3267 F = 0.4479 ACC = 0.4043\n",
      "================================================================\n",
      "\n"
     ]
    },
    {
     "name": "stderr",
     "output_type": "stream",
     "text": [
      "C:\\Users\\Tom-G\\.conda\\envs\\torchenv\\lib\\site-packages\\torch\\nn\\modules\\container.py:141: UserWarning: Implicit dimension choice for softmax has been deprecated. Change the call to include dim=X as an argument.\n",
      "  input = module(input)\n"
     ]
    },
    {
     "name": "stdout",
     "output_type": "stream",
     "text": [
      "Step [0/8]\t loss_instance: 5.9017333984375\t loss_cluster: 1.6324630975723267\n",
      "Step [2/8]\t loss_instance: 5.914011478424072\t loss_cluster: 1.6328942775726318\n",
      "Step [4/8]\t loss_instance: 5.933088302612305\t loss_cluster: 1.6366668939590454\n",
      "Step [6/8]\t loss_instance: 5.923490524291992\t loss_cluster: 1.6287075281143188\n",
      "\n",
      "Epoch [396/500]\t Loss: 7.527251601219177 \n",
      "\n",
      "Step [0/8]\t Computing features...\n",
      "Features shape (8192,)\n",
      "14\n",
      "Test NMI = 0.6453 ARI = 0.3751 F = 0.4957 ACC = 0.4613\n",
      "================================================================\n",
      "\n"
     ]
    },
    {
     "name": "stderr",
     "output_type": "stream",
     "text": [
      "C:\\Users\\Tom-G\\.conda\\envs\\torchenv\\lib\\site-packages\\torch\\nn\\modules\\container.py:141: UserWarning: Implicit dimension choice for softmax has been deprecated. Change the call to include dim=X as an argument.\n",
      "  input = module(input)\n"
     ]
    },
    {
     "name": "stdout",
     "output_type": "stream",
     "text": [
      "Step [0/8]\t loss_instance: 5.9174275398254395\t loss_cluster: 1.6387344598770142\n",
      "Step [2/8]\t loss_instance: 5.941190242767334\t loss_cluster: 1.6531013250350952\n",
      "Step [4/8]\t loss_instance: 5.923678398132324\t loss_cluster: 1.6250674724578857\n",
      "Step [6/8]\t loss_instance: 5.920265197753906\t loss_cluster: 1.61190927028656\n",
      "\n",
      "Epoch [397/500]\t Loss: 7.533340609073639 \n",
      "\n",
      "Step [0/8]\t Computing features...\n",
      "Features shape (8192,)\n",
      "14\n",
      "Test NMI = 0.6420 ARI = 0.3642 F = 0.4853 ACC = 0.4622\n",
      "================================================================\n",
      "\n"
     ]
    },
    {
     "name": "stderr",
     "output_type": "stream",
     "text": [
      "C:\\Users\\Tom-G\\.conda\\envs\\torchenv\\lib\\site-packages\\torch\\nn\\modules\\container.py:141: UserWarning: Implicit dimension choice for softmax has been deprecated. Change the call to include dim=X as an argument.\n",
      "  input = module(input)\n"
     ]
    },
    {
     "name": "stdout",
     "output_type": "stream",
     "text": [
      "Step [0/8]\t loss_instance: 5.9249444007873535\t loss_cluster: 1.628309965133667\n",
      "Step [2/8]\t loss_instance: 5.921358585357666\t loss_cluster: 1.631290316581726\n",
      "Step [4/8]\t loss_instance: 5.942580223083496\t loss_cluster: 1.6378144025802612\n",
      "Step [6/8]\t loss_instance: 5.922053813934326\t loss_cluster: 1.6143033504486084\n",
      "\n",
      "Epoch [398/500]\t Loss: 7.5300534725189205 \n",
      "\n",
      "Step [0/8]\t Computing features...\n",
      "Features shape (8192,)\n",
      "14\n",
      "Test NMI = 0.6298 ARI = 0.3514 F = 0.4727 ACC = 0.4542\n",
      "================================================================\n",
      "\n"
     ]
    },
    {
     "name": "stderr",
     "output_type": "stream",
     "text": [
      "C:\\Users\\Tom-G\\.conda\\envs\\torchenv\\lib\\site-packages\\torch\\nn\\modules\\container.py:141: UserWarning: Implicit dimension choice for softmax has been deprecated. Change the call to include dim=X as an argument.\n",
      "  input = module(input)\n"
     ]
    },
    {
     "name": "stdout",
     "output_type": "stream",
     "text": [
      "Step [0/8]\t loss_instance: 5.922852039337158\t loss_cluster: 1.640637755393982\n",
      "Step [2/8]\t loss_instance: 5.902902126312256\t loss_cluster: 1.6354553699493408\n",
      "Step [4/8]\t loss_instance: 5.92164421081543\t loss_cluster: 1.6356043815612793\n",
      "Step [6/8]\t loss_instance: 5.910386562347412\t loss_cluster: 1.6186167001724243\n",
      "\n",
      "Epoch [399/500]\t Loss: 7.499038857221604 \n",
      "\n",
      "Step [0/8]\t Computing features...\n",
      "Features shape (8192,)\n",
      "14\n",
      "Test NMI = 0.6232 ARI = 0.3474 F = 0.4690 ACC = 0.4481\n",
      "================================================================\n",
      "\n"
     ]
    },
    {
     "name": "stderr",
     "output_type": "stream",
     "text": [
      "C:\\Users\\Tom-G\\.conda\\envs\\torchenv\\lib\\site-packages\\torch\\nn\\modules\\container.py:141: UserWarning: Implicit dimension choice for softmax has been deprecated. Change the call to include dim=X as an argument.\n",
      "  input = module(input)\n"
     ]
    },
    {
     "name": "stdout",
     "output_type": "stream",
     "text": [
      "Step [0/8]\t loss_instance: 5.835344314575195\t loss_cluster: 1.5688188076019287\n",
      "Step [2/8]\t loss_instance: 5.853453159332275\t loss_cluster: 1.5745141506195068\n",
      "Step [4/8]\t loss_instance: 5.871248245239258\t loss_cluster: 1.5852020978927612\n",
      "Step [6/8]\t loss_instance: 5.856988906860352\t loss_cluster: 1.6012898683547974\n",
      "\n",
      "Epoch [400/500]\t Loss: 7.425725388526916 \n",
      "\n",
      "Step [0/8]\t Computing features...\n",
      "Features shape (8192,)\n",
      "14\n",
      "Test NMI = 0.6307 ARI = 0.3566 F = 0.4783 ACC = 0.4595\n",
      "================================================================\n",
      "\n"
     ]
    },
    {
     "name": "stderr",
     "output_type": "stream",
     "text": [
      "C:\\Users\\Tom-G\\.conda\\envs\\torchenv\\lib\\site-packages\\torch\\nn\\modules\\container.py:141: UserWarning: Implicit dimension choice for softmax has been deprecated. Change the call to include dim=X as an argument.\n",
      "  input = module(input)\n"
     ]
    },
    {
     "name": "stdout",
     "output_type": "stream",
     "text": [
      "Step [0/8]\t loss_instance: 5.907818794250488\t loss_cluster: 1.6206153631210327\n",
      "Step [2/8]\t loss_instance: 5.8788981437683105\t loss_cluster: 1.5757042169570923\n",
      "Step [4/8]\t loss_instance: 5.880244255065918\t loss_cluster: 1.5836045742034912\n",
      "Step [6/8]\t loss_instance: 5.857364177703857\t loss_cluster: 1.5743227005004883\n",
      "\n",
      "Epoch [401/500]\t Loss: 7.459438341856003 \n",
      "\n",
      "Step [0/8]\t Computing features...\n",
      "Features shape (8192,)\n",
      "14\n",
      "Test NMI = 0.6285 ARI = 0.3449 F = 0.4670 ACC = 0.4476\n",
      "================================================================\n",
      "\n"
     ]
    },
    {
     "name": "stderr",
     "output_type": "stream",
     "text": [
      "C:\\Users\\Tom-G\\.conda\\envs\\torchenv\\lib\\site-packages\\torch\\nn\\modules\\container.py:141: UserWarning: Implicit dimension choice for softmax has been deprecated. Change the call to include dim=X as an argument.\n",
      "  input = module(input)\n"
     ]
    },
    {
     "name": "stdout",
     "output_type": "stream",
     "text": [
      "Step [0/8]\t loss_instance: 5.851149559020996\t loss_cluster: 1.5555263757705688\n",
      "Step [2/8]\t loss_instance: 5.854954719543457\t loss_cluster: 1.5790561437606812\n",
      "Step [4/8]\t loss_instance: 5.856794357299805\t loss_cluster: 1.5700129270553589\n",
      "Step [6/8]\t loss_instance: 5.865598678588867\t loss_cluster: 1.585154414176941\n",
      "\n",
      "Epoch [402/500]\t Loss: 7.423478990793228 \n",
      "\n",
      "Step [0/8]\t Computing features...\n",
      "Features shape (8192,)\n",
      "14\n",
      "Test NMI = 0.6274 ARI = 0.3428 F = 0.4647 ACC = 0.4447\n",
      "================================================================\n",
      "\n"
     ]
    },
    {
     "name": "stderr",
     "output_type": "stream",
     "text": [
      "C:\\Users\\Tom-G\\.conda\\envs\\torchenv\\lib\\site-packages\\torch\\nn\\modules\\container.py:141: UserWarning: Implicit dimension choice for softmax has been deprecated. Change the call to include dim=X as an argument.\n",
      "  input = module(input)\n"
     ]
    },
    {
     "name": "stdout",
     "output_type": "stream",
     "text": [
      "Step [0/8]\t loss_instance: 5.865760326385498\t loss_cluster: 1.563759684562683\n",
      "Step [2/8]\t loss_instance: 5.8707733154296875\t loss_cluster: 1.5945757627487183\n",
      "Step [4/8]\t loss_instance: 5.839350700378418\t loss_cluster: 1.5649422407150269\n",
      "Step [6/8]\t loss_instance: 5.864787578582764\t loss_cluster: 1.5662319660186768\n",
      "\n",
      "Epoch [403/500]\t Loss: 7.428102612495422 \n",
      "\n",
      "Step [0/8]\t Computing features...\n",
      "Features shape (8192,)\n",
      "14\n",
      "Test NMI = 0.6184 ARI = 0.3334 F = 0.4553 ACC = 0.4381\n",
      "================================================================\n",
      "\n"
     ]
    },
    {
     "name": "stderr",
     "output_type": "stream",
     "text": [
      "C:\\Users\\Tom-G\\.conda\\envs\\torchenv\\lib\\site-packages\\torch\\nn\\modules\\container.py:141: UserWarning: Implicit dimension choice for softmax has been deprecated. Change the call to include dim=X as an argument.\n",
      "  input = module(input)\n"
     ]
    },
    {
     "name": "stdout",
     "output_type": "stream",
     "text": [
      "Step [0/8]\t loss_instance: 5.867826461791992\t loss_cluster: 1.5685828924179077\n",
      "Step [2/8]\t loss_instance: 5.870844841003418\t loss_cluster: 1.5892544984817505\n",
      "Step [4/8]\t loss_instance: 5.862626075744629\t loss_cluster: 1.5671050548553467\n",
      "Step [6/8]\t loss_instance: 5.878382682800293\t loss_cluster: 1.5904847383499146\n",
      "\n",
      "Epoch [404/500]\t Loss: 7.4392858982086185 \n",
      "\n",
      "Step [0/8]\t Computing features...\n",
      "Features shape (8192,)\n",
      "14\n",
      "Test NMI = 0.6169 ARI = 0.3300 F = 0.4519 ACC = 0.4319\n",
      "================================================================\n",
      "\n"
     ]
    },
    {
     "name": "stderr",
     "output_type": "stream",
     "text": [
      "C:\\Users\\Tom-G\\.conda\\envs\\torchenv\\lib\\site-packages\\torch\\nn\\modules\\container.py:141: UserWarning: Implicit dimension choice for softmax has been deprecated. Change the call to include dim=X as an argument.\n",
      "  input = module(input)\n"
     ]
    },
    {
     "name": "stdout",
     "output_type": "stream",
     "text": [
      "Step [0/8]\t loss_instance: 5.860705375671387\t loss_cluster: 1.5720441341400146\n",
      "Step [2/8]\t loss_instance: 5.865248203277588\t loss_cluster: 1.568920373916626\n",
      "Step [4/8]\t loss_instance: 5.851300239562988\t loss_cluster: 1.5692163705825806\n",
      "Step [6/8]\t loss_instance: 5.8498711585998535\t loss_cluster: 1.572026252746582\n",
      "\n",
      "Epoch [405/500]\t Loss: 7.419825959205627 \n",
      "\n",
      "Step [0/8]\t Computing features...\n",
      "Features shape (8192,)\n",
      "14\n",
      "Test NMI = 0.6165 ARI = 0.3339 F = 0.4563 ACC = 0.4363\n",
      "================================================================\n",
      "\n"
     ]
    },
    {
     "name": "stderr",
     "output_type": "stream",
     "text": [
      "C:\\Users\\Tom-G\\.conda\\envs\\torchenv\\lib\\site-packages\\torch\\nn\\modules\\container.py:141: UserWarning: Implicit dimension choice for softmax has been deprecated. Change the call to include dim=X as an argument.\n",
      "  input = module(input)\n"
     ]
    },
    {
     "name": "stdout",
     "output_type": "stream",
     "text": [
      "Step [0/8]\t loss_instance: 5.8701276779174805\t loss_cluster: 1.5917953252792358\n",
      "Step [2/8]\t loss_instance: 5.847734451293945\t loss_cluster: 1.5564426183700562\n",
      "Step [4/8]\t loss_instance: 5.852449417114258\t loss_cluster: 1.5646499395370483\n",
      "Step [6/8]\t loss_instance: 5.856421947479248\t loss_cluster: 1.563550591468811\n",
      "\n",
      "Epoch [406/500]\t Loss: 7.418142539262772 \n",
      "\n",
      "Step [0/8]\t Computing features...\n",
      "Features shape (8192,)\n",
      "14\n",
      "Test NMI = 0.6157 ARI = 0.3294 F = 0.4517 ACC = 0.4314\n",
      "================================================================\n",
      "\n"
     ]
    },
    {
     "name": "stderr",
     "output_type": "stream",
     "text": [
      "C:\\Users\\Tom-G\\.conda\\envs\\torchenv\\lib\\site-packages\\torch\\nn\\modules\\container.py:141: UserWarning: Implicit dimension choice for softmax has been deprecated. Change the call to include dim=X as an argument.\n",
      "  input = module(input)\n"
     ]
    },
    {
     "name": "stdout",
     "output_type": "stream",
     "text": [
      "Step [0/8]\t loss_instance: 5.850706100463867\t loss_cluster: 1.570925235748291\n",
      "Step [2/8]\t loss_instance: 5.839939594268799\t loss_cluster: 1.567535638809204\n",
      "Step [4/8]\t loss_instance: 5.868074417114258\t loss_cluster: 1.573991298675537\n",
      "Step [6/8]\t loss_instance: 5.854918479919434\t loss_cluster: 1.5698844194412231\n",
      "\n",
      "Epoch [407/500]\t Loss: 7.4140538513660434 \n",
      "\n",
      "Step [0/8]\t Computing features...\n",
      "Features shape (8192,)\n",
      "14\n",
      "Test NMI = 0.6209 ARI = 0.3378 F = 0.4599 ACC = 0.4443\n",
      "================================================================\n",
      "\n"
     ]
    },
    {
     "name": "stderr",
     "output_type": "stream",
     "text": [
      "C:\\Users\\Tom-G\\.conda\\envs\\torchenv\\lib\\site-packages\\torch\\nn\\modules\\container.py:141: UserWarning: Implicit dimension choice for softmax has been deprecated. Change the call to include dim=X as an argument.\n",
      "  input = module(input)\n"
     ]
    },
    {
     "name": "stdout",
     "output_type": "stream",
     "text": [
      "Step [0/8]\t loss_instance: 5.861117839813232\t loss_cluster: 1.5670462846755981\n",
      "Step [2/8]\t loss_instance: 5.853607177734375\t loss_cluster: 1.5603597164154053\n",
      "Step [4/8]\t loss_instance: 5.869902610778809\t loss_cluster: 1.5841405391693115\n",
      "Step [6/8]\t loss_instance: 5.871114253997803\t loss_cluster: 1.5894817113876343\n",
      "\n",
      "Epoch [408/500]\t Loss: 7.424630582332611 \n",
      "\n",
      "Step [0/8]\t Computing features...\n",
      "Features shape (8192,)\n",
      "14\n",
      "Test NMI = 0.6215 ARI = 0.3405 F = 0.4628 ACC = 0.4458\n",
      "================================================================\n",
      "\n"
     ]
    },
    {
     "name": "stderr",
     "output_type": "stream",
     "text": [
      "C:\\Users\\Tom-G\\.conda\\envs\\torchenv\\lib\\site-packages\\torch\\nn\\modules\\container.py:141: UserWarning: Implicit dimension choice for softmax has been deprecated. Change the call to include dim=X as an argument.\n",
      "  input = module(input)\n"
     ]
    },
    {
     "name": "stdout",
     "output_type": "stream",
     "text": [
      "Step [0/8]\t loss_instance: 5.859844207763672\t loss_cluster: 1.5783424377441406\n",
      "Step [2/8]\t loss_instance: 5.877894878387451\t loss_cluster: 1.5803471803665161\n",
      "Step [4/8]\t loss_instance: 5.8832926750183105\t loss_cluster: 1.5932767391204834\n",
      "Step [6/8]\t loss_instance: 5.8627824783325195\t loss_cluster: 1.576329231262207\n",
      "\n",
      "Epoch [409/500]\t Loss: 7.437667602300644 \n",
      "\n",
      "Step [0/8]\t Computing features...\n",
      "Features shape (8192,)\n",
      "14\n",
      "Test NMI = 0.6249 ARI = 0.3412 F = 0.4632 ACC = 0.4487\n",
      "================================================================\n",
      "\n"
     ]
    },
    {
     "name": "stderr",
     "output_type": "stream",
     "text": [
      "C:\\Users\\Tom-G\\.conda\\envs\\torchenv\\lib\\site-packages\\torch\\nn\\modules\\container.py:141: UserWarning: Implicit dimension choice for softmax has been deprecated. Change the call to include dim=X as an argument.\n",
      "  input = module(input)\n"
     ]
    },
    {
     "name": "stdout",
     "output_type": "stream",
     "text": [
      "Step [0/8]\t loss_instance: 5.8648505210876465\t loss_cluster: 1.5756654739379883\n",
      "Step [2/8]\t loss_instance: 5.8529205322265625\t loss_cluster: 1.5645309686660767\n",
      "Step [4/8]\t loss_instance: 5.875374794006348\t loss_cluster: 1.5926474332809448\n",
      "Step [6/8]\t loss_instance: 5.862880706787109\t loss_cluster: 1.566386342048645\n",
      "\n",
      "Epoch [410/500]\t Loss: 7.4258044302463535 \n",
      "\n",
      "Step [0/8]\t Computing features...\n",
      "Features shape (8192,)\n",
      "14\n",
      "Test NMI = 0.6157 ARI = 0.3287 F = 0.4509 ACC = 0.4335\n",
      "================================================================\n",
      "\n"
     ]
    },
    {
     "name": "stderr",
     "output_type": "stream",
     "text": [
      "C:\\Users\\Tom-G\\.conda\\envs\\torchenv\\lib\\site-packages\\torch\\nn\\modules\\container.py:141: UserWarning: Implicit dimension choice for softmax has been deprecated. Change the call to include dim=X as an argument.\n",
      "  input = module(input)\n"
     ]
    },
    {
     "name": "stdout",
     "output_type": "stream",
     "text": [
      "Step [0/8]\t loss_instance: 5.875508785247803\t loss_cluster: 1.599535346031189\n",
      "Step [2/8]\t loss_instance: 5.884145736694336\t loss_cluster: 1.5860611200332642\n",
      "Step [4/8]\t loss_instance: 5.880804061889648\t loss_cluster: 1.5899441242218018\n",
      "Step [6/8]\t loss_instance: 5.873970031738281\t loss_cluster: 1.5662238597869873\n",
      "\n",
      "Epoch [411/500]\t Loss: 7.442317789793014 \n",
      "\n",
      "Step [0/8]\t Computing features...\n",
      "Features shape (8192,)\n",
      "14\n",
      "Test NMI = 0.6314 ARI = 0.3531 F = 0.4740 ACC = 0.4562\n",
      "================================================================\n",
      "\n"
     ]
    },
    {
     "name": "stderr",
     "output_type": "stream",
     "text": [
      "C:\\Users\\Tom-G\\.conda\\envs\\torchenv\\lib\\site-packages\\torch\\nn\\modules\\container.py:141: UserWarning: Implicit dimension choice for softmax has been deprecated. Change the call to include dim=X as an argument.\n",
      "  input = module(input)\n"
     ]
    },
    {
     "name": "stdout",
     "output_type": "stream",
     "text": [
      "Step [0/8]\t loss_instance: 5.869711875915527\t loss_cluster: 1.5871779918670654\n",
      "Step [2/8]\t loss_instance: 5.874745845794678\t loss_cluster: 1.5843883752822876\n",
      "Step [4/8]\t loss_instance: 5.869722843170166\t loss_cluster: 1.5839303731918335\n",
      "Step [6/8]\t loss_instance: 5.86190938949585\t loss_cluster: 1.5633295774459839\n",
      "\n",
      "Epoch [412/500]\t Loss: 7.434602624177932 \n",
      "\n",
      "Step [0/8]\t Computing features...\n",
      "Features shape (8192,)\n",
      "14\n",
      "Test NMI = 0.6274 ARI = 0.3452 F = 0.4672 ACC = 0.4486\n",
      "================================================================\n",
      "\n"
     ]
    },
    {
     "name": "stderr",
     "output_type": "stream",
     "text": [
      "C:\\Users\\Tom-G\\.conda\\envs\\torchenv\\lib\\site-packages\\torch\\nn\\modules\\container.py:141: UserWarning: Implicit dimension choice for softmax has been deprecated. Change the call to include dim=X as an argument.\n",
      "  input = module(input)\n"
     ]
    },
    {
     "name": "stdout",
     "output_type": "stream",
     "text": [
      "Step [0/8]\t loss_instance: 5.864169597625732\t loss_cluster: 1.5839362144470215\n",
      "Step [2/8]\t loss_instance: 5.8764190673828125\t loss_cluster: 1.5975637435913086\n",
      "Step [4/8]\t loss_instance: 5.869677543640137\t loss_cluster: 1.5758800506591797\n",
      "Step [6/8]\t loss_instance: 5.870797634124756\t loss_cluster: 1.5741963386535645\n",
      "\n",
      "Epoch [413/500]\t Loss: 7.429804033041 \n",
      "\n",
      "Step [0/8]\t Computing features...\n",
      "Features shape (8192,)\n",
      "14\n",
      "Test NMI = 0.6222 ARI = 0.3342 F = 0.4567 ACC = 0.4392\n",
      "================================================================\n",
      "\n"
     ]
    },
    {
     "name": "stderr",
     "output_type": "stream",
     "text": [
      "C:\\Users\\Tom-G\\.conda\\envs\\torchenv\\lib\\site-packages\\torch\\nn\\modules\\container.py:141: UserWarning: Implicit dimension choice for softmax has been deprecated. Change the call to include dim=X as an argument.\n",
      "  input = module(input)\n"
     ]
    },
    {
     "name": "stdout",
     "output_type": "stream",
     "text": [
      "Step [0/8]\t loss_instance: 5.863265514373779\t loss_cluster: 1.578996181488037\n",
      "Step [2/8]\t loss_instance: 5.879668712615967\t loss_cluster: 1.5972687005996704\n",
      "Step [4/8]\t loss_instance: 5.881593227386475\t loss_cluster: 1.5932894945144653\n",
      "Step [6/8]\t loss_instance: 5.871743202209473\t loss_cluster: 1.5950335264205933\n",
      "\n",
      "Epoch [414/500]\t Loss: 7.426639515161514 \n",
      "\n",
      "Step [0/8]\t Computing features...\n",
      "Features shape (8192,)\n",
      "14\n",
      "Test NMI = 0.6295 ARI = 0.3472 F = 0.4694 ACC = 0.4519\n",
      "================================================================\n",
      "\n"
     ]
    },
    {
     "name": "stderr",
     "output_type": "stream",
     "text": [
      "C:\\Users\\Tom-G\\.conda\\envs\\torchenv\\lib\\site-packages\\torch\\nn\\modules\\container.py:141: UserWarning: Implicit dimension choice for softmax has been deprecated. Change the call to include dim=X as an argument.\n",
      "  input = module(input)\n"
     ]
    },
    {
     "name": "stdout",
     "output_type": "stream",
     "text": [
      "Step [0/8]\t loss_instance: 5.8835530281066895\t loss_cluster: 1.5833638906478882\n",
      "Step [2/8]\t loss_instance: 5.879315376281738\t loss_cluster: 1.5788718461990356\n",
      "Step [4/8]\t loss_instance: 5.869936943054199\t loss_cluster: 1.5886343717575073\n",
      "Step [6/8]\t loss_instance: 5.8655314445495605\t loss_cluster: 1.584389090538025\n",
      "\n",
      "Epoch [415/500]\t Loss: 7.428337341547012 \n",
      "\n",
      "Step [0/8]\t Computing features...\n",
      "Features shape (8192,)\n",
      "14\n",
      "Test NMI = 0.6175 ARI = 0.3283 F = 0.4501 ACC = 0.4320\n",
      "================================================================\n",
      "\n"
     ]
    },
    {
     "name": "stderr",
     "output_type": "stream",
     "text": [
      "C:\\Users\\Tom-G\\.conda\\envs\\torchenv\\lib\\site-packages\\torch\\nn\\modules\\container.py:141: UserWarning: Implicit dimension choice for softmax has been deprecated. Change the call to include dim=X as an argument.\n",
      "  input = module(input)\n"
     ]
    },
    {
     "name": "stdout",
     "output_type": "stream",
     "text": [
      "Step [0/8]\t loss_instance: 5.879873275756836\t loss_cluster: 1.5992785692214966\n",
      "Step [2/8]\t loss_instance: 5.869662761688232\t loss_cluster: 1.591915488243103\n",
      "Step [4/8]\t loss_instance: 5.881106376647949\t loss_cluster: 1.5913888216018677\n",
      "Step [6/8]\t loss_instance: 5.8627448081970215\t loss_cluster: 1.5611733198165894\n",
      "\n",
      "Epoch [416/500]\t Loss: 7.4272534310817715 \n",
      "\n",
      "Step [0/8]\t Computing features...\n",
      "Features shape (8192,)\n",
      "14\n",
      "Test NMI = 0.6256 ARI = 0.3442 F = 0.4659 ACC = 0.4496\n",
      "================================================================\n",
      "\n"
     ]
    },
    {
     "name": "stderr",
     "output_type": "stream",
     "text": [
      "C:\\Users\\Tom-G\\.conda\\envs\\torchenv\\lib\\site-packages\\torch\\nn\\modules\\container.py:141: UserWarning: Implicit dimension choice for softmax has been deprecated. Change the call to include dim=X as an argument.\n",
      "  input = module(input)\n"
     ]
    },
    {
     "name": "stdout",
     "output_type": "stream",
     "text": [
      "Step [0/8]\t loss_instance: 5.864588737487793\t loss_cluster: 1.5901790857315063\n",
      "Step [2/8]\t loss_instance: 5.855167388916016\t loss_cluster: 1.5780158042907715\n",
      "Step [4/8]\t loss_instance: 5.872954845428467\t loss_cluster: 1.5869702100753784\n",
      "Step [6/8]\t loss_instance: 5.866377353668213\t loss_cluster: 1.5759788751602173\n",
      "\n",
      "Epoch [417/500]\t Loss: 7.424764996767044 \n",
      "\n",
      "Step [0/8]\t Computing features...\n",
      "Features shape (8192,)\n",
      "14\n",
      "Test NMI = 0.6257 ARI = 0.3435 F = 0.4650 ACC = 0.4476\n",
      "================================================================\n",
      "\n"
     ]
    },
    {
     "name": "stderr",
     "output_type": "stream",
     "text": [
      "C:\\Users\\Tom-G\\.conda\\envs\\torchenv\\lib\\site-packages\\torch\\nn\\modules\\container.py:141: UserWarning: Implicit dimension choice for softmax has been deprecated. Change the call to include dim=X as an argument.\n",
      "  input = module(input)\n"
     ]
    },
    {
     "name": "stdout",
     "output_type": "stream",
     "text": [
      "Step [0/8]\t loss_instance: 5.876306533813477\t loss_cluster: 1.5963472127914429\n",
      "Step [2/8]\t loss_instance: 5.867192268371582\t loss_cluster: 1.5795049667358398\n",
      "Step [4/8]\t loss_instance: 5.858341217041016\t loss_cluster: 1.5761828422546387\n",
      "Step [6/8]\t loss_instance: 5.857733249664307\t loss_cluster: 1.6017497777938843\n",
      "\n",
      "Epoch [418/500]\t Loss: 7.424450141191483 \n",
      "\n",
      "Step [0/8]\t Computing features...\n",
      "Features shape (8192,)\n",
      "14\n",
      "Test NMI = 0.6185 ARI = 0.3359 F = 0.4574 ACC = 0.4470\n",
      "================================================================\n",
      "\n"
     ]
    },
    {
     "name": "stderr",
     "output_type": "stream",
     "text": [
      "C:\\Users\\Tom-G\\.conda\\envs\\torchenv\\lib\\site-packages\\torch\\nn\\modules\\container.py:141: UserWarning: Implicit dimension choice for softmax has been deprecated. Change the call to include dim=X as an argument.\n",
      "  input = module(input)\n"
     ]
    },
    {
     "name": "stdout",
     "output_type": "stream",
     "text": [
      "Step [0/8]\t loss_instance: 5.859745979309082\t loss_cluster: 1.5707423686981201\n",
      "Step [2/8]\t loss_instance: 5.862950325012207\t loss_cluster: 1.5768681764602661\n",
      "Step [4/8]\t loss_instance: 5.8969550132751465\t loss_cluster: 1.6016038656234741\n",
      "Step [6/8]\t loss_instance: 5.882511138916016\t loss_cluster: 1.6095730066299438\n",
      "\n",
      "Epoch [419/500]\t Loss: 7.431922954320908 \n",
      "\n",
      "Step [0/8]\t Computing features...\n",
      "Features shape (8192,)\n",
      "14\n",
      "Test NMI = 0.6098 ARI = 0.3182 F = 0.4396 ACC = 0.4248\n",
      "================================================================\n",
      "\n"
     ]
    },
    {
     "name": "stderr",
     "output_type": "stream",
     "text": [
      "C:\\Users\\Tom-G\\.conda\\envs\\torchenv\\lib\\site-packages\\torch\\nn\\modules\\container.py:141: UserWarning: Implicit dimension choice for softmax has been deprecated. Change the call to include dim=X as an argument.\n",
      "  input = module(input)\n"
     ]
    },
    {
     "name": "stdout",
     "output_type": "stream",
     "text": [
      "Step [0/8]\t loss_instance: 5.80724573135376\t loss_cluster: 1.5539727210998535\n",
      "Step [2/8]\t loss_instance: 5.874973773956299\t loss_cluster: 1.603299856185913\n",
      "Step [4/8]\t loss_instance: 5.890007972717285\t loss_cluster: 1.6114898920059204\n",
      "Step [6/8]\t loss_instance: 5.95361852645874\t loss_cluster: 1.6347787380218506\n",
      "\n",
      "Epoch [420/500]\t Loss: 7.48879257440567 \n",
      "\n",
      "Step [0/8]\t Computing features...\n",
      "Features shape (8192,)\n",
      "14\n",
      "Test NMI = 0.6211 ARI = 0.3409 F = 0.4623 ACC = 0.4540\n",
      "================================================================\n",
      "\n"
     ]
    },
    {
     "name": "stderr",
     "output_type": "stream",
     "text": [
      "C:\\Users\\Tom-G\\.conda\\envs\\torchenv\\lib\\site-packages\\torch\\nn\\modules\\container.py:141: UserWarning: Implicit dimension choice for softmax has been deprecated. Change the call to include dim=X as an argument.\n",
      "  input = module(input)\n"
     ]
    },
    {
     "name": "stdout",
     "output_type": "stream",
     "text": [
      "Step [0/8]\t loss_instance: 5.90619421005249\t loss_cluster: 1.6087409257888794\n",
      "Step [2/8]\t loss_instance: 5.893038272857666\t loss_cluster: 1.6340426206588745\n",
      "Step [4/8]\t loss_instance: 5.909472942352295\t loss_cluster: 1.6221897602081299\n",
      "Step [6/8]\t loss_instance: 5.905852317810059\t loss_cluster: 1.6187735795974731\n",
      "\n",
      "Epoch [421/500]\t Loss: 7.524610406160354 \n",
      "\n",
      "Step [0/8]\t Computing features...\n",
      "Features shape (8192,)\n",
      "14\n",
      "Test NMI = 0.6175 ARI = 0.3282 F = 0.4499 ACC = 0.4298\n",
      "================================================================\n",
      "\n"
     ]
    },
    {
     "name": "stderr",
     "output_type": "stream",
     "text": [
      "C:\\Users\\Tom-G\\.conda\\envs\\torchenv\\lib\\site-packages\\torch\\nn\\modules\\container.py:141: UserWarning: Implicit dimension choice for softmax has been deprecated. Change the call to include dim=X as an argument.\n",
      "  input = module(input)\n"
     ]
    },
    {
     "name": "stdout",
     "output_type": "stream",
     "text": [
      "Step [0/8]\t loss_instance: 5.875565052032471\t loss_cluster: 1.5785080194473267\n",
      "Step [2/8]\t loss_instance: 5.89538049697876\t loss_cluster: 1.6245619058609009\n",
      "Step [4/8]\t loss_instance: 5.875010013580322\t loss_cluster: 1.5840845108032227\n",
      "Step [6/8]\t loss_instance: 5.878941059112549\t loss_cluster: 1.5962271690368652\n",
      "\n",
      "Epoch [422/500]\t Loss: 7.474263566732406 \n",
      "\n",
      "Step [0/8]\t Computing features...\n",
      "Features shape (8192,)\n",
      "14\n",
      "Test NMI = 0.6244 ARI = 0.3361 F = 0.4581 ACC = 0.4374\n",
      "================================================================\n",
      "\n"
     ]
    },
    {
     "name": "stderr",
     "output_type": "stream",
     "text": [
      "C:\\Users\\Tom-G\\.conda\\envs\\torchenv\\lib\\site-packages\\torch\\nn\\modules\\container.py:141: UserWarning: Implicit dimension choice for softmax has been deprecated. Change the call to include dim=X as an argument.\n",
      "  input = module(input)\n"
     ]
    },
    {
     "name": "stdout",
     "output_type": "stream",
     "text": [
      "Step [0/8]\t loss_instance: 5.848495960235596\t loss_cluster: 1.5644639730453491\n",
      "Step [2/8]\t loss_instance: 5.850625038146973\t loss_cluster: 1.584742546081543\n",
      "Step [4/8]\t loss_instance: 5.857534408569336\t loss_cluster: 1.5920557975769043\n",
      "Step [6/8]\t loss_instance: 5.850563049316406\t loss_cluster: 1.5646045207977295\n",
      "\n",
      "Epoch [423/500]\t Loss: 7.411776506900788 \n",
      "\n",
      "Step [0/8]\t Computing features...\n",
      "Features shape (8192,)\n",
      "14\n",
      "Test NMI = 0.6217 ARI = 0.3298 F = 0.4516 ACC = 0.4351\n",
      "================================================================\n",
      "\n"
     ]
    },
    {
     "name": "stderr",
     "output_type": "stream",
     "text": [
      "C:\\Users\\Tom-G\\.conda\\envs\\torchenv\\lib\\site-packages\\torch\\nn\\modules\\container.py:141: UserWarning: Implicit dimension choice for softmax has been deprecated. Change the call to include dim=X as an argument.\n",
      "  input = module(input)\n"
     ]
    },
    {
     "name": "stdout",
     "output_type": "stream",
     "text": [
      "Step [0/8]\t loss_instance: 5.852042198181152\t loss_cluster: 1.5870617628097534\n",
      "Step [2/8]\t loss_instance: 5.849087238311768\t loss_cluster: 1.575128197669983\n",
      "Step [4/8]\t loss_instance: 5.8593292236328125\t loss_cluster: 1.584859013557434\n",
      "Step [6/8]\t loss_instance: 5.8695597648620605\t loss_cluster: 1.5775407552719116\n",
      "\n",
      "Epoch [424/500]\t Loss: 7.419902473688126 \n",
      "\n",
      "Step [0/8]\t Computing features...\n",
      "Features shape (8192,)\n",
      "14\n",
      "Test NMI = 0.6208 ARI = 0.3351 F = 0.4572 ACC = 0.4417\n",
      "================================================================\n",
      "\n"
     ]
    },
    {
     "name": "stderr",
     "output_type": "stream",
     "text": [
      "C:\\Users\\Tom-G\\.conda\\envs\\torchenv\\lib\\site-packages\\torch\\nn\\modules\\container.py:141: UserWarning: Implicit dimension choice for softmax has been deprecated. Change the call to include dim=X as an argument.\n",
      "  input = module(input)\n"
     ]
    },
    {
     "name": "stdout",
     "output_type": "stream",
     "text": [
      "Step [0/8]\t loss_instance: 5.850893020629883\t loss_cluster: 1.5788840055465698\n",
      "Step [2/8]\t loss_instance: 5.871417045593262\t loss_cluster: 1.5845086574554443\n",
      "Step [4/8]\t loss_instance: 5.8597517013549805\t loss_cluster: 1.5872464179992676\n",
      "Step [6/8]\t loss_instance: 5.8683624267578125\t loss_cluster: 1.5966918468475342\n",
      "\n",
      "Epoch [425/500]\t Loss: 7.426398164033889 \n",
      "\n",
      "Step [0/8]\t Computing features...\n",
      "Features shape (8192,)\n",
      "14\n",
      "Test NMI = 0.6258 ARI = 0.3392 F = 0.4608 ACC = 0.4501\n",
      "================================================================\n",
      "\n"
     ]
    },
    {
     "name": "stderr",
     "output_type": "stream",
     "text": [
      "C:\\Users\\Tom-G\\.conda\\envs\\torchenv\\lib\\site-packages\\torch\\nn\\modules\\container.py:141: UserWarning: Implicit dimension choice for softmax has been deprecated. Change the call to include dim=X as an argument.\n",
      "  input = module(input)\n"
     ]
    },
    {
     "name": "stdout",
     "output_type": "stream",
     "text": [
      "Step [0/8]\t loss_instance: 5.870004653930664\t loss_cluster: 1.5876622200012207\n",
      "Step [2/8]\t loss_instance: 5.859501838684082\t loss_cluster: 1.577308177947998\n",
      "Step [4/8]\t loss_instance: 5.866486072540283\t loss_cluster: 1.5913426876068115\n",
      "Step [6/8]\t loss_instance: 5.859944820404053\t loss_cluster: 1.5875251293182373\n",
      "\n",
      "Epoch [426/500]\t Loss: 7.430404776334763 \n",
      "\n",
      "Step [0/8]\t Computing features...\n",
      "Features shape (8192,)\n",
      "14\n",
      "Test NMI = 0.6154 ARI = 0.3302 F = 0.4521 ACC = 0.4369\n",
      "================================================================\n",
      "\n"
     ]
    },
    {
     "name": "stderr",
     "output_type": "stream",
     "text": [
      "C:\\Users\\Tom-G\\.conda\\envs\\torchenv\\lib\\site-packages\\torch\\nn\\modules\\container.py:141: UserWarning: Implicit dimension choice for softmax has been deprecated. Change the call to include dim=X as an argument.\n",
      "  input = module(input)\n"
     ]
    },
    {
     "name": "stdout",
     "output_type": "stream",
     "text": [
      "Step [0/8]\t loss_instance: 5.836370944976807\t loss_cluster: 1.5710008144378662\n",
      "Step [2/8]\t loss_instance: 5.862483501434326\t loss_cluster: 1.5771101713180542\n",
      "Step [4/8]\t loss_instance: 5.851784706115723\t loss_cluster: 1.5790623426437378\n",
      "Step [6/8]\t loss_instance: 5.864414691925049\t loss_cluster: 1.582201600074768\n",
      "\n",
      "Epoch [427/500]\t Loss: 7.4205118060112 \n",
      "\n",
      "Step [0/8]\t Computing features...\n",
      "Features shape (8192,)\n",
      "14\n",
      "Test NMI = 0.6083 ARI = 0.3212 F = 0.4431 ACC = 0.4323\n",
      "================================================================\n",
      "\n"
     ]
    },
    {
     "name": "stderr",
     "output_type": "stream",
     "text": [
      "C:\\Users\\Tom-G\\.conda\\envs\\torchenv\\lib\\site-packages\\torch\\nn\\modules\\container.py:141: UserWarning: Implicit dimension choice for softmax has been deprecated. Change the call to include dim=X as an argument.\n",
      "  input = module(input)\n"
     ]
    },
    {
     "name": "stdout",
     "output_type": "stream",
     "text": [
      "Step [0/8]\t loss_instance: 5.843935489654541\t loss_cluster: 1.556729793548584\n",
      "Step [2/8]\t loss_instance: 5.851609230041504\t loss_cluster: 1.5876082181930542\n",
      "Step [4/8]\t loss_instance: 5.864328384399414\t loss_cluster: 1.587239146232605\n",
      "Step [6/8]\t loss_instance: 5.852512359619141\t loss_cluster: 1.5761666297912598\n",
      "\n",
      "Epoch [428/500]\t Loss: 7.417634087800979 \n",
      "\n",
      "Step [0/8]\t Computing features...\n",
      "Features shape (8192,)\n",
      "14\n",
      "Test NMI = 0.6124 ARI = 0.3282 F = 0.4502 ACC = 0.4385\n",
      "================================================================\n",
      "\n"
     ]
    },
    {
     "name": "stderr",
     "output_type": "stream",
     "text": [
      "C:\\Users\\Tom-G\\.conda\\envs\\torchenv\\lib\\site-packages\\torch\\nn\\modules\\container.py:141: UserWarning: Implicit dimension choice for softmax has been deprecated. Change the call to include dim=X as an argument.\n",
      "  input = module(input)\n"
     ]
    },
    {
     "name": "stdout",
     "output_type": "stream",
     "text": [
      "Step [0/8]\t loss_instance: 5.84385347366333\t loss_cluster: 1.559022307395935\n",
      "Step [2/8]\t loss_instance: 5.854986667633057\t loss_cluster: 1.5879428386688232\n",
      "Step [4/8]\t loss_instance: 5.849664688110352\t loss_cluster: 1.5549023151397705\n",
      "Step [6/8]\t loss_instance: 5.848896503448486\t loss_cluster: 1.5659804344177246\n",
      "\n",
      "Epoch [429/500]\t Loss: 7.404257547855377 \n",
      "\n",
      "Step [0/8]\t Computing features...\n",
      "Features shape (8192,)\n",
      "14\n",
      "Test NMI = 0.6140 ARI = 0.3304 F = 0.4524 ACC = 0.4392\n",
      "================================================================\n",
      "\n"
     ]
    },
    {
     "name": "stderr",
     "output_type": "stream",
     "text": [
      "C:\\Users\\Tom-G\\.conda\\envs\\torchenv\\lib\\site-packages\\torch\\nn\\modules\\container.py:141: UserWarning: Implicit dimension choice for softmax has been deprecated. Change the call to include dim=X as an argument.\n",
      "  input = module(input)\n"
     ]
    },
    {
     "name": "stdout",
     "output_type": "stream",
     "text": [
      "Step [0/8]\t loss_instance: 5.839183807373047\t loss_cluster: 1.5611733198165894\n",
      "Step [2/8]\t loss_instance: 5.846962928771973\t loss_cluster: 1.5737595558166504\n",
      "Step [4/8]\t loss_instance: 5.838222503662109\t loss_cluster: 1.5699106454849243\n",
      "Step [6/8]\t loss_instance: 5.842491626739502\t loss_cluster: 1.56656813621521\n",
      "\n",
      "Epoch [430/500]\t Loss: 7.393082082271576 \n",
      "\n",
      "Step [0/8]\t Computing features...\n",
      "Features shape (8192,)\n",
      "14\n",
      "Test NMI = 0.6123 ARI = 0.3269 F = 0.4489 ACC = 0.4435\n",
      "================================================================\n",
      "\n"
     ]
    },
    {
     "name": "stderr",
     "output_type": "stream",
     "text": [
      "C:\\Users\\Tom-G\\.conda\\envs\\torchenv\\lib\\site-packages\\torch\\nn\\modules\\container.py:141: UserWarning: Implicit dimension choice for softmax has been deprecated. Change the call to include dim=X as an argument.\n",
      "  input = module(input)\n"
     ]
    },
    {
     "name": "stdout",
     "output_type": "stream",
     "text": [
      "Step [0/8]\t loss_instance: 5.8554792404174805\t loss_cluster: 1.5776335000991821\n",
      "Step [2/8]\t loss_instance: 5.8692803382873535\t loss_cluster: 1.5725903511047363\n",
      "Step [4/8]\t loss_instance: 5.867780685424805\t loss_cluster: 1.5972415208816528\n",
      "Step [6/8]\t loss_instance: 5.883228778839111\t loss_cluster: 1.5915484428405762\n",
      "\n",
      "Epoch [431/500]\t Loss: 7.443503254652024 \n",
      "\n",
      "Step [0/8]\t Computing features...\n",
      "Features shape (8192,)\n",
      "14\n",
      "Test NMI = 0.6068 ARI = 0.3245 F = 0.4462 ACC = 0.4500\n",
      "================================================================\n",
      "\n"
     ]
    },
    {
     "name": "stderr",
     "output_type": "stream",
     "text": [
      "C:\\Users\\Tom-G\\.conda\\envs\\torchenv\\lib\\site-packages\\torch\\nn\\modules\\container.py:141: UserWarning: Implicit dimension choice for softmax has been deprecated. Change the call to include dim=X as an argument.\n",
      "  input = module(input)\n"
     ]
    },
    {
     "name": "stdout",
     "output_type": "stream",
     "text": [
      "Step [0/8]\t loss_instance: 5.866870403289795\t loss_cluster: 1.5958622694015503\n",
      "Step [2/8]\t loss_instance: 5.8869709968566895\t loss_cluster: 1.5766115188598633\n",
      "Step [4/8]\t loss_instance: 5.851594924926758\t loss_cluster: 1.5752977132797241\n",
      "Step [6/8]\t loss_instance: 5.848942756652832\t loss_cluster: 1.5891151428222656\n",
      "\n",
      "Epoch [432/500]\t Loss: 7.434845447540283 \n",
      "\n",
      "Step [0/8]\t Computing features...\n",
      "Features shape (8192,)\n",
      "14\n",
      "Test NMI = 0.6135 ARI = 0.3331 F = 0.4548 ACC = 0.4529\n",
      "================================================================\n",
      "\n"
     ]
    },
    {
     "name": "stderr",
     "output_type": "stream",
     "text": [
      "C:\\Users\\Tom-G\\.conda\\envs\\torchenv\\lib\\site-packages\\torch\\nn\\modules\\container.py:141: UserWarning: Implicit dimension choice for softmax has been deprecated. Change the call to include dim=X as an argument.\n",
      "  input = module(input)\n"
     ]
    },
    {
     "name": "stdout",
     "output_type": "stream",
     "text": [
      "Step [0/8]\t loss_instance: 5.8435211181640625\t loss_cluster: 1.5818215608596802\n",
      "Step [2/8]\t loss_instance: 5.868669509887695\t loss_cluster: 1.5643599033355713\n",
      "Step [4/8]\t loss_instance: 5.85793924331665\t loss_cluster: 1.570807695388794\n",
      "Step [6/8]\t loss_instance: 5.857954978942871\t loss_cluster: 1.5849597454071045\n",
      "\n",
      "Epoch [433/500]\t Loss: 7.41236132979393 \n",
      "\n",
      "Step [0/8]\t Computing features...\n",
      "Features shape (8192,)\n",
      "14\n",
      "Test NMI = 0.6128 ARI = 0.3319 F = 0.4540 ACC = 0.4530\n",
      "================================================================\n",
      "\n"
     ]
    },
    {
     "name": "stderr",
     "output_type": "stream",
     "text": [
      "C:\\Users\\Tom-G\\.conda\\envs\\torchenv\\lib\\site-packages\\torch\\nn\\modules\\container.py:141: UserWarning: Implicit dimension choice for softmax has been deprecated. Change the call to include dim=X as an argument.\n",
      "  input = module(input)\n"
     ]
    },
    {
     "name": "stdout",
     "output_type": "stream",
     "text": [
      "Step [0/8]\t loss_instance: 5.8451924324035645\t loss_cluster: 1.591304898262024\n",
      "Step [2/8]\t loss_instance: 5.859094142913818\t loss_cluster: 1.5855979919433594\n",
      "Step [4/8]\t loss_instance: 5.850191593170166\t loss_cluster: 1.5578991174697876\n",
      "Step [6/8]\t loss_instance: 5.845376491546631\t loss_cluster: 1.576327919960022\n",
      "\n",
      "Epoch [434/500]\t Loss: 7.400053399801254 \n",
      "\n",
      "Step [0/8]\t Computing features...\n",
      "Features shape (8192,)\n",
      "14\n",
      "Test NMI = 0.6141 ARI = 0.3337 F = 0.4550 ACC = 0.4518\n",
      "================================================================\n",
      "\n"
     ]
    },
    {
     "name": "stderr",
     "output_type": "stream",
     "text": [
      "C:\\Users\\Tom-G\\.conda\\envs\\torchenv\\lib\\site-packages\\torch\\nn\\modules\\container.py:141: UserWarning: Implicit dimension choice for softmax has been deprecated. Change the call to include dim=X as an argument.\n",
      "  input = module(input)\n"
     ]
    },
    {
     "name": "stdout",
     "output_type": "stream",
     "text": [
      "Step [0/8]\t loss_instance: 5.836418628692627\t loss_cluster: 1.5653327703475952\n",
      "Step [2/8]\t loss_instance: 5.846683502197266\t loss_cluster: 1.5737165212631226\n",
      "Step [4/8]\t loss_instance: 5.845147609710693\t loss_cluster: 1.5767946243286133\n",
      "Step [6/8]\t loss_instance: 5.845043659210205\t loss_cluster: 1.5618964433670044\n",
      "\n",
      "Epoch [435/500]\t Loss: 7.390327876806259 \n",
      "\n",
      "Step [0/8]\t Computing features...\n",
      "Features shape (8192,)\n",
      "14\n",
      "Test NMI = 0.6046 ARI = 0.3250 F = 0.4469 ACC = 0.4484\n",
      "================================================================\n",
      "\n"
     ]
    },
    {
     "name": "stderr",
     "output_type": "stream",
     "text": [
      "C:\\Users\\Tom-G\\.conda\\envs\\torchenv\\lib\\site-packages\\torch\\nn\\modules\\container.py:141: UserWarning: Implicit dimension choice for softmax has been deprecated. Change the call to include dim=X as an argument.\n",
      "  input = module(input)\n"
     ]
    },
    {
     "name": "stdout",
     "output_type": "stream",
     "text": [
      "Step [0/8]\t loss_instance: 5.843560695648193\t loss_cluster: 1.5636876821517944\n",
      "Step [2/8]\t loss_instance: 5.855248928070068\t loss_cluster: 1.571546196937561\n",
      "Step [4/8]\t loss_instance: 5.845247745513916\t loss_cluster: 1.5841354131698608\n",
      "Step [6/8]\t loss_instance: 5.831040859222412\t loss_cluster: 1.5594960451126099\n",
      "\n",
      "Epoch [436/500]\t Loss: 7.3854727268219 \n",
      "\n",
      "Step [0/8]\t Computing features...\n",
      "Features shape (8192,)\n",
      "14\n",
      "Test NMI = 0.6128 ARI = 0.3339 F = 0.4557 ACC = 0.4537\n",
      "================================================================\n",
      "\n"
     ]
    },
    {
     "name": "stderr",
     "output_type": "stream",
     "text": [
      "C:\\Users\\Tom-G\\.conda\\envs\\torchenv\\lib\\site-packages\\torch\\nn\\modules\\container.py:141: UserWarning: Implicit dimension choice for softmax has been deprecated. Change the call to include dim=X as an argument.\n",
      "  input = module(input)\n"
     ]
    },
    {
     "name": "stdout",
     "output_type": "stream",
     "text": [
      "Step [0/8]\t loss_instance: 5.844855308532715\t loss_cluster: 1.5927057266235352\n",
      "Step [2/8]\t loss_instance: 5.84749174118042\t loss_cluster: 1.5682915449142456\n",
      "Step [4/8]\t loss_instance: 5.835927486419678\t loss_cluster: 1.570974588394165\n",
      "Step [6/8]\t loss_instance: 5.840404987335205\t loss_cluster: 1.571635127067566\n",
      "\n",
      "Epoch [437/500]\t Loss: 7.397348296642304 \n",
      "\n",
      "Step [0/8]\t Computing features...\n",
      "Features shape (8192,)\n",
      "14\n",
      "Test NMI = 0.6123 ARI = 0.3340 F = 0.4564 ACC = 0.4548\n",
      "================================================================\n",
      "\n"
     ]
    },
    {
     "name": "stderr",
     "output_type": "stream",
     "text": [
      "C:\\Users\\Tom-G\\.conda\\envs\\torchenv\\lib\\site-packages\\torch\\nn\\modules\\container.py:141: UserWarning: Implicit dimension choice for softmax has been deprecated. Change the call to include dim=X as an argument.\n",
      "  input = module(input)\n"
     ]
    },
    {
     "name": "stdout",
     "output_type": "stream",
     "text": [
      "Step [0/8]\t loss_instance: 5.838075160980225\t loss_cluster: 1.5799095630645752\n",
      "Step [2/8]\t loss_instance: 5.824577808380127\t loss_cluster: 1.5602364540100098\n",
      "Step [4/8]\t loss_instance: 5.839486598968506\t loss_cluster: 1.5676053762435913\n",
      "Step [6/8]\t loss_instance: 5.841799736022949\t loss_cluster: 1.5784492492675781\n",
      "\n",
      "Epoch [438/500]\t Loss: 7.393875020742416 \n",
      "\n",
      "Step [0/8]\t Computing features...\n",
      "Features shape (8192,)\n",
      "14\n",
      "Test NMI = 0.6111 ARI = 0.3308 F = 0.4525 ACC = 0.4552\n",
      "================================================================\n",
      "\n"
     ]
    },
    {
     "name": "stderr",
     "output_type": "stream",
     "text": [
      "C:\\Users\\Tom-G\\.conda\\envs\\torchenv\\lib\\site-packages\\torch\\nn\\modules\\container.py:141: UserWarning: Implicit dimension choice for softmax has been deprecated. Change the call to include dim=X as an argument.\n",
      "  input = module(input)\n"
     ]
    },
    {
     "name": "stdout",
     "output_type": "stream",
     "text": [
      "Step [0/8]\t loss_instance: 5.8361687660217285\t loss_cluster: 1.570192813873291\n",
      "Step [2/8]\t loss_instance: 5.8423171043396\t loss_cluster: 1.577696681022644\n",
      "Step [4/8]\t loss_instance: 5.857111930847168\t loss_cluster: 1.5787323713302612\n",
      "Step [6/8]\t loss_instance: 5.834568023681641\t loss_cluster: 1.5547255277633667\n",
      "\n",
      "Epoch [439/500]\t Loss: 7.398313790559769 \n",
      "\n",
      "Step [0/8]\t Computing features...\n",
      "Features shape (8192,)\n",
      "14\n",
      "Test NMI = 0.6088 ARI = 0.3303 F = 0.4522 ACC = 0.4529\n",
      "================================================================\n",
      "\n"
     ]
    },
    {
     "name": "stderr",
     "output_type": "stream",
     "text": [
      "C:\\Users\\Tom-G\\.conda\\envs\\torchenv\\lib\\site-packages\\torch\\nn\\modules\\container.py:141: UserWarning: Implicit dimension choice for softmax has been deprecated. Change the call to include dim=X as an argument.\n",
      "  input = module(input)\n"
     ]
    },
    {
     "name": "stdout",
     "output_type": "stream",
     "text": [
      "Step [0/8]\t loss_instance: 5.796191692352295\t loss_cluster: 1.5353171825408936\n",
      "Step [2/8]\t loss_instance: 5.799019813537598\t loss_cluster: 1.5464060306549072\n",
      "Step [4/8]\t loss_instance: 5.797431945800781\t loss_cluster: 1.5368512868881226\n",
      "Step [6/8]\t loss_instance: 5.822752952575684\t loss_cluster: 1.5496163368225098\n",
      "\n",
      "Epoch [440/500]\t Loss: 7.350206071138382 \n",
      "\n",
      "Step [0/8]\t Computing features...\n",
      "Features shape (8192,)\n",
      "14\n",
      "Test NMI = 0.6079 ARI = 0.3303 F = 0.4522 ACC = 0.4551\n",
      "================================================================\n",
      "\n"
     ]
    },
    {
     "name": "stderr",
     "output_type": "stream",
     "text": [
      "C:\\Users\\Tom-G\\.conda\\envs\\torchenv\\lib\\site-packages\\torch\\nn\\modules\\container.py:141: UserWarning: Implicit dimension choice for softmax has been deprecated. Change the call to include dim=X as an argument.\n",
      "  input = module(input)\n"
     ]
    },
    {
     "name": "stdout",
     "output_type": "stream",
     "text": [
      "Step [0/8]\t loss_instance: 5.835385322570801\t loss_cluster: 1.5837823152542114\n",
      "Step [2/8]\t loss_instance: 5.847729206085205\t loss_cluster: 1.5778087377548218\n",
      "Step [4/8]\t loss_instance: 5.850013732910156\t loss_cluster: 1.557644009590149\n",
      "Step [6/8]\t loss_instance: 5.883063793182373\t loss_cluster: 1.5788496732711792\n",
      "\n",
      "Epoch [441/500]\t Loss: 7.421058106422424 \n",
      "\n",
      "Step [0/8]\t Computing features...\n",
      "Features shape (8192,)\n",
      "14\n",
      "Test NMI = 0.6060 ARI = 0.3252 F = 0.4477 ACC = 0.4475\n",
      "================================================================\n",
      "\n"
     ]
    },
    {
     "name": "stderr",
     "output_type": "stream",
     "text": [
      "C:\\Users\\Tom-G\\.conda\\envs\\torchenv\\lib\\site-packages\\torch\\nn\\modules\\container.py:141: UserWarning: Implicit dimension choice for softmax has been deprecated. Change the call to include dim=X as an argument.\n",
      "  input = module(input)\n"
     ]
    },
    {
     "name": "stdout",
     "output_type": "stream",
     "text": [
      "Step [0/8]\t loss_instance: 5.8270416259765625\t loss_cluster: 1.5393016338348389\n",
      "Step [2/8]\t loss_instance: 5.8113861083984375\t loss_cluster: 1.5377116203308105\n",
      "Step [4/8]\t loss_instance: 5.809347152709961\t loss_cluster: 1.547918438911438\n",
      "Step [6/8]\t loss_instance: 5.805941581726074\t loss_cluster: 1.5425580739974976\n",
      "\n",
      "Epoch [442/500]\t Loss: 7.354993629455566 \n",
      "\n",
      "Step [0/8]\t Computing features...\n",
      "Features shape (8192,)\n",
      "14\n",
      "Test NMI = 0.6026 ARI = 0.3170 F = 0.4395 ACC = 0.4366\n",
      "================================================================\n",
      "\n"
     ]
    },
    {
     "name": "stderr",
     "output_type": "stream",
     "text": [
      "C:\\Users\\Tom-G\\.conda\\envs\\torchenv\\lib\\site-packages\\torch\\nn\\modules\\container.py:141: UserWarning: Implicit dimension choice for softmax has been deprecated. Change the call to include dim=X as an argument.\n",
      "  input = module(input)\n"
     ]
    },
    {
     "name": "stdout",
     "output_type": "stream",
     "text": [
      "Step [0/8]\t loss_instance: 5.799200057983398\t loss_cluster: 1.5376781225204468\n",
      "Step [2/8]\t loss_instance: 5.800029277801514\t loss_cluster: 1.5337542295455933\n",
      "Step [4/8]\t loss_instance: 5.8010783195495605\t loss_cluster: 1.5500376224517822\n",
      "Step [6/8]\t loss_instance: 5.801924705505371\t loss_cluster: 1.5472604036331177\n",
      "\n",
      "Epoch [443/500]\t Loss: 7.34404708147049 \n",
      "\n",
      "Step [0/8]\t Computing features...\n",
      "Features shape (8192,)\n",
      "14\n",
      "Test NMI = 0.6069 ARI = 0.3260 F = 0.4482 ACC = 0.4498\n",
      "================================================================\n",
      "\n"
     ]
    },
    {
     "name": "stderr",
     "output_type": "stream",
     "text": [
      "C:\\Users\\Tom-G\\.conda\\envs\\torchenv\\lib\\site-packages\\torch\\nn\\modules\\container.py:141: UserWarning: Implicit dimension choice for softmax has been deprecated. Change the call to include dim=X as an argument.\n",
      "  input = module(input)\n"
     ]
    },
    {
     "name": "stdout",
     "output_type": "stream",
     "text": [
      "Step [0/8]\t loss_instance: 5.805365562438965\t loss_cluster: 1.5367505550384521\n",
      "Step [2/8]\t loss_instance: 5.806270122528076\t loss_cluster: 1.5465571880340576\n",
      "Step [4/8]\t loss_instance: 5.806492805480957\t loss_cluster: 1.5446513891220093\n",
      "Step [6/8]\t loss_instance: 5.803460597991943\t loss_cluster: 1.5393520593643188\n",
      "\n",
      "Epoch [444/500]\t Loss: 7.340786665678024 \n",
      "\n",
      "Step [0/8]\t Computing features...\n",
      "Features shape (8192,)\n",
      "14\n",
      "Test NMI = 0.6062 ARI = 0.3220 F = 0.4438 ACC = 0.4471\n",
      "================================================================\n",
      "\n"
     ]
    },
    {
     "name": "stderr",
     "output_type": "stream",
     "text": [
      "C:\\Users\\Tom-G\\.conda\\envs\\torchenv\\lib\\site-packages\\torch\\nn\\modules\\container.py:141: UserWarning: Implicit dimension choice for softmax has been deprecated. Change the call to include dim=X as an argument.\n",
      "  input = module(input)\n"
     ]
    },
    {
     "name": "stdout",
     "output_type": "stream",
     "text": [
      "Step [0/8]\t loss_instance: 5.790989875793457\t loss_cluster: 1.5305927991867065\n",
      "Step [2/8]\t loss_instance: 5.801194190979004\t loss_cluster: 1.5470976829528809\n",
      "Step [4/8]\t loss_instance: 5.797299861907959\t loss_cluster: 1.5471512079238892\n",
      "Step [6/8]\t loss_instance: 5.804793834686279\t loss_cluster: 1.5342427492141724\n",
      "\n",
      "Epoch [445/500]\t Loss: 7.333963310718536 \n",
      "\n",
      "Step [0/8]\t Computing features...\n",
      "Features shape (8192,)\n",
      "14\n",
      "Test NMI = 0.6001 ARI = 0.3171 F = 0.4395 ACC = 0.4471\n",
      "================================================================\n",
      "\n"
     ]
    },
    {
     "name": "stderr",
     "output_type": "stream",
     "text": [
      "C:\\Users\\Tom-G\\.conda\\envs\\torchenv\\lib\\site-packages\\torch\\nn\\modules\\container.py:141: UserWarning: Implicit dimension choice for softmax has been deprecated. Change the call to include dim=X as an argument.\n",
      "  input = module(input)\n"
     ]
    },
    {
     "name": "stdout",
     "output_type": "stream",
     "text": [
      "Step [0/8]\t loss_instance: 5.8080315589904785\t loss_cluster: 1.5431127548217773\n",
      "Step [2/8]\t loss_instance: 5.824846267700195\t loss_cluster: 1.544832468032837\n",
      "Step [4/8]\t loss_instance: 5.836216449737549\t loss_cluster: 1.572348952293396\n",
      "Step [6/8]\t loss_instance: 5.855234622955322\t loss_cluster: 1.5642555952072144\n",
      "\n",
      "Epoch [446/500]\t Loss: 7.402270263433456 \n",
      "\n",
      "Step [0/8]\t Computing features...\n",
      "Features shape (8192,)\n",
      "14\n",
      "Test NMI = 0.5973 ARI = 0.3125 F = 0.4347 ACC = 0.4379\n",
      "================================================================\n",
      "\n"
     ]
    },
    {
     "name": "stderr",
     "output_type": "stream",
     "text": [
      "C:\\Users\\Tom-G\\.conda\\envs\\torchenv\\lib\\site-packages\\torch\\nn\\modules\\container.py:141: UserWarning: Implicit dimension choice for softmax has been deprecated. Change the call to include dim=X as an argument.\n",
      "  input = module(input)\n"
     ]
    },
    {
     "name": "stdout",
     "output_type": "stream",
     "text": [
      "Step [0/8]\t loss_instance: 5.84651517868042\t loss_cluster: 1.5457189083099365\n",
      "Step [2/8]\t loss_instance: 5.853856086730957\t loss_cluster: 1.5637197494506836\n",
      "Step [4/8]\t loss_instance: 5.861023902893066\t loss_cluster: 1.5654170513153076\n",
      "Step [6/8]\t loss_instance: 5.857369899749756\t loss_cluster: 1.570984959602356\n",
      "\n",
      "Epoch [447/500]\t Loss: 7.410139691829682 \n",
      "\n",
      "Step [0/8]\t Computing features...\n",
      "Features shape (8192,)\n",
      "14\n",
      "Test NMI = 0.5960 ARI = 0.3077 F = 0.4299 ACC = 0.4241\n",
      "================================================================\n",
      "\n"
     ]
    },
    {
     "name": "stderr",
     "output_type": "stream",
     "text": [
      "C:\\Users\\Tom-G\\.conda\\envs\\torchenv\\lib\\site-packages\\torch\\nn\\modules\\container.py:141: UserWarning: Implicit dimension choice for softmax has been deprecated. Change the call to include dim=X as an argument.\n",
      "  input = module(input)\n"
     ]
    },
    {
     "name": "stdout",
     "output_type": "stream",
     "text": [
      "Step [0/8]\t loss_instance: 5.8348541259765625\t loss_cluster: 1.5578885078430176\n",
      "Step [2/8]\t loss_instance: 5.8166728019714355\t loss_cluster: 1.5567845106124878\n",
      "Step [4/8]\t loss_instance: 5.840556621551514\t loss_cluster: 1.561650037765503\n",
      "Step [6/8]\t loss_instance: 5.811208248138428\t loss_cluster: 1.5497872829437256\n",
      "\n",
      "Epoch [448/500]\t Loss: 7.370364260673523 \n",
      "\n",
      "Step [0/8]\t Computing features...\n",
      "Features shape (8192,)\n",
      "14\n",
      "Test NMI = 0.6039 ARI = 0.3199 F = 0.4424 ACC = 0.4414\n",
      "================================================================\n",
      "\n"
     ]
    },
    {
     "name": "stderr",
     "output_type": "stream",
     "text": [
      "C:\\Users\\Tom-G\\.conda\\envs\\torchenv\\lib\\site-packages\\torch\\nn\\modules\\container.py:141: UserWarning: Implicit dimension choice for softmax has been deprecated. Change the call to include dim=X as an argument.\n",
      "  input = module(input)\n"
     ]
    },
    {
     "name": "stdout",
     "output_type": "stream",
     "text": [
      "Step [0/8]\t loss_instance: 5.811184406280518\t loss_cluster: 1.557306170463562\n",
      "Step [2/8]\t loss_instance: 5.8107733726501465\t loss_cluster: 1.5420714616775513\n",
      "Step [4/8]\t loss_instance: 5.806575775146484\t loss_cluster: 1.5367645025253296\n",
      "Step [6/8]\t loss_instance: 5.821467876434326\t loss_cluster: 1.5541352033615112\n",
      "\n",
      "Epoch [449/500]\t Loss: 7.354800337553025 \n",
      "\n",
      "Step [0/8]\t Computing features...\n",
      "Features shape (8192,)\n",
      "14\n",
      "Test NMI = 0.6076 ARI = 0.3237 F = 0.4460 ACC = 0.4459\n",
      "================================================================\n",
      "\n"
     ]
    },
    {
     "name": "stderr",
     "output_type": "stream",
     "text": [
      "C:\\Users\\Tom-G\\.conda\\envs\\torchenv\\lib\\site-packages\\torch\\nn\\modules\\container.py:141: UserWarning: Implicit dimension choice for softmax has been deprecated. Change the call to include dim=X as an argument.\n",
      "  input = module(input)\n"
     ]
    },
    {
     "name": "stdout",
     "output_type": "stream",
     "text": [
      "Step [0/8]\t loss_instance: 5.818002700805664\t loss_cluster: 1.5510687828063965\n",
      "Step [2/8]\t loss_instance: 5.806577682495117\t loss_cluster: 1.5398188829421997\n",
      "Step [4/8]\t loss_instance: 5.8065409660339355\t loss_cluster: 1.5371317863464355\n",
      "Step [6/8]\t loss_instance: 5.825316429138184\t loss_cluster: 1.5527178049087524\n",
      "\n",
      "Epoch [450/500]\t Loss: 7.349856239557266 \n",
      "\n",
      "Step [0/8]\t Computing features...\n",
      "Features shape (8192,)\n",
      "14\n",
      "Test NMI = 0.6027 ARI = 0.3196 F = 0.4423 ACC = 0.4437\n",
      "================================================================\n",
      "\n"
     ]
    },
    {
     "name": "stderr",
     "output_type": "stream",
     "text": [
      "C:\\Users\\Tom-G\\.conda\\envs\\torchenv\\lib\\site-packages\\torch\\nn\\modules\\container.py:141: UserWarning: Implicit dimension choice for softmax has been deprecated. Change the call to include dim=X as an argument.\n",
      "  input = module(input)\n"
     ]
    },
    {
     "name": "stdout",
     "output_type": "stream",
     "text": [
      "Step [0/8]\t loss_instance: 5.820075988769531\t loss_cluster: 1.5550154447555542\n",
      "Step [2/8]\t loss_instance: 5.8154296875\t loss_cluster: 1.5428742170333862\n",
      "Step [4/8]\t loss_instance: 5.824097633361816\t loss_cluster: 1.5482133626937866\n",
      "Step [6/8]\t loss_instance: 5.830121994018555\t loss_cluster: 1.570578694343567\n",
      "\n",
      "Epoch [451/500]\t Loss: 7.358207505941391 \n",
      "\n",
      "Step [0/8]\t Computing features...\n",
      "Features shape (8192,)\n",
      "14\n",
      "Test NMI = 0.6052 ARI = 0.3219 F = 0.4440 ACC = 0.4453\n",
      "================================================================\n",
      "\n"
     ]
    },
    {
     "name": "stderr",
     "output_type": "stream",
     "text": [
      "C:\\Users\\Tom-G\\.conda\\envs\\torchenv\\lib\\site-packages\\torch\\nn\\modules\\container.py:141: UserWarning: Implicit dimension choice for softmax has been deprecated. Change the call to include dim=X as an argument.\n",
      "  input = module(input)\n"
     ]
    },
    {
     "name": "stdout",
     "output_type": "stream",
     "text": [
      "Step [0/8]\t loss_instance: 5.811422824859619\t loss_cluster: 1.550809383392334\n",
      "Step [2/8]\t loss_instance: 5.822218418121338\t loss_cluster: 1.5597541332244873\n",
      "Step [4/8]\t loss_instance: 5.828463077545166\t loss_cluster: 1.5643916130065918\n",
      "Step [6/8]\t loss_instance: 5.8283185958862305\t loss_cluster: 1.5676684379577637\n",
      "\n",
      "Epoch [452/500]\t Loss: 7.377451860904694 \n",
      "\n",
      "Step [0/8]\t Computing features...\n",
      "Features shape (8192,)\n",
      "14\n",
      "Test NMI = 0.6143 ARI = 0.3305 F = 0.4521 ACC = 0.4427\n",
      "================================================================\n",
      "\n"
     ]
    },
    {
     "name": "stderr",
     "output_type": "stream",
     "text": [
      "C:\\Users\\Tom-G\\.conda\\envs\\torchenv\\lib\\site-packages\\torch\\nn\\modules\\container.py:141: UserWarning: Implicit dimension choice for softmax has been deprecated. Change the call to include dim=X as an argument.\n",
      "  input = module(input)\n"
     ]
    },
    {
     "name": "stdout",
     "output_type": "stream",
     "text": [
      "Step [0/8]\t loss_instance: 5.817986011505127\t loss_cluster: 1.5467568635940552\n",
      "Step [2/8]\t loss_instance: 5.81682825088501\t loss_cluster: 1.5539144277572632\n",
      "Step [4/8]\t loss_instance: 5.825654983520508\t loss_cluster: 1.5586305856704712\n",
      "Step [6/8]\t loss_instance: 5.820268630981445\t loss_cluster: 1.5506566762924194\n",
      "\n",
      "Epoch [453/500]\t Loss: 7.359974306821823 \n",
      "\n",
      "Step [0/8]\t Computing features...\n",
      "Features shape (8192,)\n",
      "14\n",
      "Test NMI = 0.6088 ARI = 0.3196 F = 0.4420 ACC = 0.4348\n",
      "================================================================\n",
      "\n"
     ]
    },
    {
     "name": "stderr",
     "output_type": "stream",
     "text": [
      "C:\\Users\\Tom-G\\.conda\\envs\\torchenv\\lib\\site-packages\\torch\\nn\\modules\\container.py:141: UserWarning: Implicit dimension choice for softmax has been deprecated. Change the call to include dim=X as an argument.\n",
      "  input = module(input)\n"
     ]
    },
    {
     "name": "stdout",
     "output_type": "stream",
     "text": [
      "Step [0/8]\t loss_instance: 5.825757026672363\t loss_cluster: 1.5746612548828125\n",
      "Step [2/8]\t loss_instance: 5.802967071533203\t loss_cluster: 1.5443538427352905\n",
      "Step [4/8]\t loss_instance: 5.822972774505615\t loss_cluster: 1.5608294010162354\n",
      "Step [6/8]\t loss_instance: 5.814167499542236\t loss_cluster: 1.550086498260498\n",
      "\n",
      "Epoch [454/500]\t Loss: 7.3617140591144565 \n",
      "\n",
      "Step [0/8]\t Computing features...\n",
      "Features shape (8192,)\n",
      "14\n",
      "Test NMI = 0.6140 ARI = 0.3313 F = 0.4527 ACC = 0.4546\n",
      "================================================================\n",
      "\n"
     ]
    },
    {
     "name": "stderr",
     "output_type": "stream",
     "text": [
      "C:\\Users\\Tom-G\\.conda\\envs\\torchenv\\lib\\site-packages\\torch\\nn\\modules\\container.py:141: UserWarning: Implicit dimension choice for softmax has been deprecated. Change the call to include dim=X as an argument.\n",
      "  input = module(input)\n"
     ]
    },
    {
     "name": "stdout",
     "output_type": "stream",
     "text": [
      "Step [0/8]\t loss_instance: 5.821249961853027\t loss_cluster: 1.5422661304473877\n",
      "Step [2/8]\t loss_instance: 5.808419227600098\t loss_cluster: 1.5395839214324951\n",
      "Step [4/8]\t loss_instance: 5.819242477416992\t loss_cluster: 1.5506336688995361\n",
      "Step [6/8]\t loss_instance: 5.805481433868408\t loss_cluster: 1.534262776374817\n",
      "\n",
      "Epoch [455/500]\t Loss: 7.352110630273819 \n",
      "\n",
      "Step [0/8]\t Computing features...\n",
      "Features shape (8192,)\n",
      "14\n",
      "Test NMI = 0.6033 ARI = 0.3196 F = 0.4422 ACC = 0.4413\n",
      "================================================================\n",
      "\n"
     ]
    },
    {
     "name": "stderr",
     "output_type": "stream",
     "text": [
      "C:\\Users\\Tom-G\\.conda\\envs\\torchenv\\lib\\site-packages\\torch\\nn\\modules\\container.py:141: UserWarning: Implicit dimension choice for softmax has been deprecated. Change the call to include dim=X as an argument.\n",
      "  input = module(input)\n"
     ]
    },
    {
     "name": "stdout",
     "output_type": "stream",
     "text": [
      "Step [0/8]\t loss_instance: 5.804845809936523\t loss_cluster: 1.5413978099822998\n",
      "Step [2/8]\t loss_instance: 5.808774948120117\t loss_cluster: 1.5427039861679077\n",
      "Step [4/8]\t loss_instance: 5.806553363800049\t loss_cluster: 1.5411627292633057\n",
      "Step [6/8]\t loss_instance: 5.8140974044799805\t loss_cluster: 1.5421041250228882\n",
      "\n",
      "Epoch [456/500]\t Loss: 7.34368988275528 \n",
      "\n",
      "Step [0/8]\t Computing features...\n",
      "Features shape (8192,)\n",
      "14\n",
      "Test NMI = 0.6108 ARI = 0.3287 F = 0.4506 ACC = 0.4503\n",
      "================================================================\n",
      "\n"
     ]
    },
    {
     "name": "stderr",
     "output_type": "stream",
     "text": [
      "C:\\Users\\Tom-G\\.conda\\envs\\torchenv\\lib\\site-packages\\torch\\nn\\modules\\container.py:141: UserWarning: Implicit dimension choice for softmax has been deprecated. Change the call to include dim=X as an argument.\n",
      "  input = module(input)\n"
     ]
    },
    {
     "name": "stdout",
     "output_type": "stream",
     "text": [
      "Step [0/8]\t loss_instance: 5.816161632537842\t loss_cluster: 1.5373848676681519\n",
      "Step [2/8]\t loss_instance: 5.828319072723389\t loss_cluster: 1.5635982751846313\n",
      "Step [4/8]\t loss_instance: 5.8221611976623535\t loss_cluster: 1.5638506412506104\n",
      "Step [6/8]\t loss_instance: 5.8347249031066895\t loss_cluster: 1.58674156665802\n",
      "\n",
      "Epoch [457/500]\t Loss: 7.377941137552261 \n",
      "\n",
      "Step [0/8]\t Computing features...\n",
      "Features shape (8192,)\n",
      "14\n",
      "Test NMI = 0.6150 ARI = 0.3349 F = 0.4567 ACC = 0.4617\n",
      "================================================================\n",
      "\n"
     ]
    },
    {
     "name": "stderr",
     "output_type": "stream",
     "text": [
      "C:\\Users\\Tom-G\\.conda\\envs\\torchenv\\lib\\site-packages\\torch\\nn\\modules\\container.py:141: UserWarning: Implicit dimension choice for softmax has been deprecated. Change the call to include dim=X as an argument.\n",
      "  input = module(input)\n"
     ]
    },
    {
     "name": "stdout",
     "output_type": "stream",
     "text": [
      "Step [0/8]\t loss_instance: 5.83243989944458\t loss_cluster: 1.556652307510376\n",
      "Step [2/8]\t loss_instance: 5.825967788696289\t loss_cluster: 1.5492688417434692\n",
      "Step [4/8]\t loss_instance: 5.826571941375732\t loss_cluster: 1.5417735576629639\n",
      "Step [6/8]\t loss_instance: 5.824474811553955\t loss_cluster: 1.5518848896026611\n",
      "\n",
      "Epoch [458/500]\t Loss: 7.368169629573822 \n",
      "\n",
      "Step [0/8]\t Computing features...\n",
      "Features shape (8192,)\n",
      "14\n",
      "Test NMI = 0.6187 ARI = 0.3387 F = 0.4607 ACC = 0.4475\n",
      "================================================================\n",
      "\n"
     ]
    },
    {
     "name": "stderr",
     "output_type": "stream",
     "text": [
      "C:\\Users\\Tom-G\\.conda\\envs\\torchenv\\lib\\site-packages\\torch\\nn\\modules\\container.py:141: UserWarning: Implicit dimension choice for softmax has been deprecated. Change the call to include dim=X as an argument.\n",
      "  input = module(input)\n"
     ]
    },
    {
     "name": "stdout",
     "output_type": "stream",
     "text": [
      "Step [0/8]\t loss_instance: 5.829613208770752\t loss_cluster: 1.5538264513015747\n",
      "Step [2/8]\t loss_instance: 5.813368797302246\t loss_cluster: 1.5419622659683228\n",
      "Step [4/8]\t loss_instance: 5.813417911529541\t loss_cluster: 1.5447627305984497\n",
      "Step [6/8]\t loss_instance: 5.82614278793335\t loss_cluster: 1.5547255277633667\n",
      "\n",
      "Epoch [459/500]\t Loss: 7.362906342744827 \n",
      "\n",
      "Step [0/8]\t Computing features...\n",
      "Features shape (8192,)\n",
      "14\n",
      "Test NMI = 0.6085 ARI = 0.3241 F = 0.4465 ACC = 0.4337\n",
      "================================================================\n",
      "\n"
     ]
    },
    {
     "name": "stderr",
     "output_type": "stream",
     "text": [
      "C:\\Users\\Tom-G\\.conda\\envs\\torchenv\\lib\\site-packages\\torch\\nn\\modules\\container.py:141: UserWarning: Implicit dimension choice for softmax has been deprecated. Change the call to include dim=X as an argument.\n",
      "  input = module(input)\n"
     ]
    },
    {
     "name": "stdout",
     "output_type": "stream",
     "text": [
      "Step [0/8]\t loss_instance: 5.776320934295654\t loss_cluster: 1.5467625856399536\n",
      "Step [2/8]\t loss_instance: 5.797112464904785\t loss_cluster: 1.5426554679870605\n",
      "Step [4/8]\t loss_instance: 5.788919448852539\t loss_cluster: 1.5427080392837524\n",
      "Step [6/8]\t loss_instance: 5.787534713745117\t loss_cluster: 1.5299354791641235\n",
      "\n",
      "Epoch [460/500]\t Loss: 7.333546364307404 \n",
      "\n",
      "Step [0/8]\t Computing features...\n",
      "Features shape (8192,)\n",
      "14\n",
      "Test NMI = 0.6072 ARI = 0.3247 F = 0.4468 ACC = 0.4434\n",
      "================================================================\n",
      "\n"
     ]
    },
    {
     "name": "stderr",
     "output_type": "stream",
     "text": [
      "C:\\Users\\Tom-G\\.conda\\envs\\torchenv\\lib\\site-packages\\torch\\nn\\modules\\container.py:141: UserWarning: Implicit dimension choice for softmax has been deprecated. Change the call to include dim=X as an argument.\n",
      "  input = module(input)\n"
     ]
    },
    {
     "name": "stdout",
     "output_type": "stream",
     "text": [
      "Step [0/8]\t loss_instance: 5.781002521514893\t loss_cluster: 1.5448073148727417\n",
      "Step [2/8]\t loss_instance: 5.797095775604248\t loss_cluster: 1.5527838468551636\n",
      "Step [4/8]\t loss_instance: 5.793323040008545\t loss_cluster: 1.5351959466934204\n",
      "Step [6/8]\t loss_instance: 5.798542022705078\t loss_cluster: 1.5592806339263916\n",
      "\n",
      "Epoch [461/500]\t Loss: 7.342776793241501 \n",
      "\n",
      "Step [0/8]\t Computing features...\n",
      "Features shape (8192,)\n",
      "14\n",
      "Test NMI = 0.6025 ARI = 0.3152 F = 0.4381 ACC = 0.4304\n",
      "================================================================\n",
      "\n"
     ]
    },
    {
     "name": "stderr",
     "output_type": "stream",
     "text": [
      "C:\\Users\\Tom-G\\.conda\\envs\\torchenv\\lib\\site-packages\\torch\\nn\\modules\\container.py:141: UserWarning: Implicit dimension choice for softmax has been deprecated. Change the call to include dim=X as an argument.\n",
      "  input = module(input)\n"
     ]
    },
    {
     "name": "stdout",
     "output_type": "stream",
     "text": [
      "Step [0/8]\t loss_instance: 5.786191463470459\t loss_cluster: 1.53691565990448\n",
      "Step [2/8]\t loss_instance: 5.796130180358887\t loss_cluster: 1.538211464881897\n",
      "Step [4/8]\t loss_instance: 5.804309844970703\t loss_cluster: 1.541907548904419\n",
      "Step [6/8]\t loss_instance: 5.794025421142578\t loss_cluster: 1.540105938911438\n",
      "\n",
      "Epoch [462/500]\t Loss: 7.3344946026802065 \n",
      "\n",
      "Step [0/8]\t Computing features...\n",
      "Features shape (8192,)\n",
      "14\n",
      "Test NMI = 0.6039 ARI = 0.3204 F = 0.4426 ACC = 0.4403\n",
      "================================================================\n",
      "\n"
     ]
    },
    {
     "name": "stderr",
     "output_type": "stream",
     "text": [
      "C:\\Users\\Tom-G\\.conda\\envs\\torchenv\\lib\\site-packages\\torch\\nn\\modules\\container.py:141: UserWarning: Implicit dimension choice for softmax has been deprecated. Change the call to include dim=X as an argument.\n",
      "  input = module(input)\n"
     ]
    },
    {
     "name": "stdout",
     "output_type": "stream",
     "text": [
      "Step [0/8]\t loss_instance: 5.801816940307617\t loss_cluster: 1.5435621738433838\n",
      "Step [2/8]\t loss_instance: 5.818863868713379\t loss_cluster: 1.5622249841690063\n",
      "Step [4/8]\t loss_instance: 5.807442665100098\t loss_cluster: 1.5390024185180664\n",
      "Step [6/8]\t loss_instance: 5.797573089599609\t loss_cluster: 1.5410548448562622\n",
      "\n",
      "Epoch [463/500]\t Loss: 7.347604250907898 \n",
      "\n",
      "Step [0/8]\t Computing features...\n",
      "Features shape (8192,)\n",
      "14\n",
      "Test NMI = 0.5953 ARI = 0.3061 F = 0.4280 ACC = 0.4161\n",
      "================================================================\n",
      "\n"
     ]
    },
    {
     "name": "stderr",
     "output_type": "stream",
     "text": [
      "C:\\Users\\Tom-G\\.conda\\envs\\torchenv\\lib\\site-packages\\torch\\nn\\modules\\container.py:141: UserWarning: Implicit dimension choice for softmax has been deprecated. Change the call to include dim=X as an argument.\n",
      "  input = module(input)\n"
     ]
    },
    {
     "name": "stdout",
     "output_type": "stream",
     "text": [
      "Step [0/8]\t loss_instance: 5.8016510009765625\t loss_cluster: 1.5454281568527222\n",
      "Step [2/8]\t loss_instance: 5.793465614318848\t loss_cluster: 1.5557142496109009\n",
      "Step [4/8]\t loss_instance: 5.797605991363525\t loss_cluster: 1.5353448390960693\n",
      "Step [6/8]\t loss_instance: 5.808884620666504\t loss_cluster: 1.5813698768615723\n",
      "\n",
      "Epoch [464/500]\t Loss: 7.342527514696121 \n",
      "\n",
      "Step [0/8]\t Computing features...\n",
      "Features shape (8192,)\n",
      "14\n",
      "Test NMI = 0.6049 ARI = 0.3171 F = 0.4401 ACC = 0.4377\n",
      "================================================================\n",
      "\n"
     ]
    },
    {
     "name": "stderr",
     "output_type": "stream",
     "text": [
      "C:\\Users\\Tom-G\\.conda\\envs\\torchenv\\lib\\site-packages\\torch\\nn\\modules\\container.py:141: UserWarning: Implicit dimension choice for softmax has been deprecated. Change the call to include dim=X as an argument.\n",
      "  input = module(input)\n"
     ]
    },
    {
     "name": "stdout",
     "output_type": "stream",
     "text": [
      "Step [0/8]\t loss_instance: 5.805673122406006\t loss_cluster: 1.5468318462371826\n",
      "Step [2/8]\t loss_instance: 5.789458274841309\t loss_cluster: 1.5369458198547363\n",
      "Step [4/8]\t loss_instance: 5.791233062744141\t loss_cluster: 1.5450977087020874\n",
      "Step [6/8]\t loss_instance: 5.801976680755615\t loss_cluster: 1.5504261255264282\n",
      "\n",
      "Epoch [465/500]\t Loss: 7.336315679550171 \n",
      "\n",
      "Step [0/8]\t Computing features...\n",
      "Features shape (8192,)\n",
      "14\n",
      "Test NMI = 0.6107 ARI = 0.3310 F = 0.4531 ACC = 0.4535\n",
      "================================================================\n",
      "\n"
     ]
    },
    {
     "name": "stderr",
     "output_type": "stream",
     "text": [
      "C:\\Users\\Tom-G\\.conda\\envs\\torchenv\\lib\\site-packages\\torch\\nn\\modules\\container.py:141: UserWarning: Implicit dimension choice for softmax has been deprecated. Change the call to include dim=X as an argument.\n",
      "  input = module(input)\n"
     ]
    },
    {
     "name": "stdout",
     "output_type": "stream",
     "text": [
      "Step [0/8]\t loss_instance: 5.788168430328369\t loss_cluster: 1.5322884321212769\n",
      "Step [2/8]\t loss_instance: 5.793920993804932\t loss_cluster: 1.5324304103851318\n",
      "Step [4/8]\t loss_instance: 5.7930803298950195\t loss_cluster: 1.5377757549285889\n",
      "Step [6/8]\t loss_instance: 5.808399677276611\t loss_cluster: 1.5592777729034424\n",
      "\n",
      "Epoch [466/500]\t Loss: 7.327117228507996 \n",
      "\n",
      "Step [0/8]\t Computing features...\n",
      "Features shape (8192,)\n",
      "14\n",
      "Test NMI = 0.6072 ARI = 0.3260 F = 0.4485 ACC = 0.4495\n",
      "================================================================\n",
      "\n"
     ]
    },
    {
     "name": "stderr",
     "output_type": "stream",
     "text": [
      "C:\\Users\\Tom-G\\.conda\\envs\\torchenv\\lib\\site-packages\\torch\\nn\\modules\\container.py:141: UserWarning: Implicit dimension choice for softmax has been deprecated. Change the call to include dim=X as an argument.\n",
      "  input = module(input)\n"
     ]
    },
    {
     "name": "stdout",
     "output_type": "stream",
     "text": [
      "Step [0/8]\t loss_instance: 5.79934024810791\t loss_cluster: 1.5405679941177368\n",
      "Step [2/8]\t loss_instance: 5.807972431182861\t loss_cluster: 1.5445935726165771\n",
      "Step [4/8]\t loss_instance: 5.786242485046387\t loss_cluster: 1.5413845777511597\n",
      "Step [6/8]\t loss_instance: 5.800971508026123\t loss_cluster: 1.5543491840362549\n",
      "\n",
      "Epoch [467/500]\t Loss: 7.337424129247665 \n",
      "\n",
      "Step [0/8]\t Computing features...\n",
      "Features shape (8192,)\n",
      "14\n",
      "Test NMI = 0.5991 ARI = 0.3130 F = 0.4350 ACC = 0.4329\n",
      "================================================================\n",
      "\n"
     ]
    },
    {
     "name": "stderr",
     "output_type": "stream",
     "text": [
      "C:\\Users\\Tom-G\\.conda\\envs\\torchenv\\lib\\site-packages\\torch\\nn\\modules\\container.py:141: UserWarning: Implicit dimension choice for softmax has been deprecated. Change the call to include dim=X as an argument.\n",
      "  input = module(input)\n"
     ]
    },
    {
     "name": "stdout",
     "output_type": "stream",
     "text": [
      "Step [0/8]\t loss_instance: 5.796615123748779\t loss_cluster: 1.5311219692230225\n",
      "Step [2/8]\t loss_instance: 5.797956943511963\t loss_cluster: 1.5334525108337402\n",
      "Step [4/8]\t loss_instance: 5.792978286743164\t loss_cluster: 1.537542462348938\n",
      "Step [6/8]\t loss_instance: 5.7998881340026855\t loss_cluster: 1.5507256984710693\n",
      "\n",
      "Epoch [468/500]\t Loss: 7.335249829292297 \n",
      "\n",
      "Step [0/8]\t Computing features...\n",
      "Features shape (8192,)\n",
      "14\n",
      "Test NMI = 0.6040 ARI = 0.3149 F = 0.4375 ACC = 0.4319\n",
      "================================================================\n",
      "\n"
     ]
    },
    {
     "name": "stderr",
     "output_type": "stream",
     "text": [
      "C:\\Users\\Tom-G\\.conda\\envs\\torchenv\\lib\\site-packages\\torch\\nn\\modules\\container.py:141: UserWarning: Implicit dimension choice for softmax has been deprecated. Change the call to include dim=X as an argument.\n",
      "  input = module(input)\n"
     ]
    },
    {
     "name": "stdout",
     "output_type": "stream",
     "text": [
      "Step [0/8]\t loss_instance: 5.7934160232543945\t loss_cluster: 1.551297903060913\n",
      "Step [2/8]\t loss_instance: 5.814584255218506\t loss_cluster: 1.5884253978729248\n",
      "Step [4/8]\t loss_instance: 5.7942280769348145\t loss_cluster: 1.5354807376861572\n",
      "Step [6/8]\t loss_instance: 5.786489009857178\t loss_cluster: 1.5311481952667236\n",
      "\n",
      "Epoch [469/500]\t Loss: 7.336171889305115 \n",
      "\n",
      "Step [0/8]\t Computing features...\n",
      "Features shape (8192,)\n",
      "14\n",
      "Test NMI = 0.5966 ARI = 0.3077 F = 0.4300 ACC = 0.4220\n",
      "================================================================\n",
      "\n"
     ]
    },
    {
     "name": "stderr",
     "output_type": "stream",
     "text": [
      "C:\\Users\\Tom-G\\.conda\\envs\\torchenv\\lib\\site-packages\\torch\\nn\\modules\\container.py:141: UserWarning: Implicit dimension choice for softmax has been deprecated. Change the call to include dim=X as an argument.\n",
      "  input = module(input)\n"
     ]
    },
    {
     "name": "stdout",
     "output_type": "stream",
     "text": [
      "Step [0/8]\t loss_instance: 5.788900852203369\t loss_cluster: 1.5380736589431763\n",
      "Step [2/8]\t loss_instance: 5.778747081756592\t loss_cluster: 1.5330663919448853\n",
      "Step [4/8]\t loss_instance: 5.789314270019531\t loss_cluster: 1.5332328081130981\n",
      "Step [6/8]\t loss_instance: 5.79409122467041\t loss_cluster: 1.5337421894073486\n",
      "\n",
      "Epoch [470/500]\t Loss: 7.323848849534988 \n",
      "\n",
      "Step [0/8]\t Computing features...\n",
      "Features shape (8192,)\n",
      "14\n",
      "Test NMI = 0.5951 ARI = 0.3089 F = 0.4315 ACC = 0.4304\n",
      "================================================================\n",
      "\n"
     ]
    },
    {
     "name": "stderr",
     "output_type": "stream",
     "text": [
      "C:\\Users\\Tom-G\\.conda\\envs\\torchenv\\lib\\site-packages\\torch\\nn\\modules\\container.py:141: UserWarning: Implicit dimension choice for softmax has been deprecated. Change the call to include dim=X as an argument.\n",
      "  input = module(input)\n"
     ]
    },
    {
     "name": "stdout",
     "output_type": "stream",
     "text": [
      "Step [0/8]\t loss_instance: 5.800327777862549\t loss_cluster: 1.554377555847168\n",
      "Step [2/8]\t loss_instance: 5.800597190856934\t loss_cluster: 1.544312596321106\n",
      "Step [4/8]\t loss_instance: 5.787534713745117\t loss_cluster: 1.5441282987594604\n",
      "Step [6/8]\t loss_instance: 5.847812175750732\t loss_cluster: 1.547240972518921\n",
      "\n",
      "Epoch [471/500]\t Loss: 7.3558815062046055 \n",
      "\n",
      "Step [0/8]\t Computing features...\n",
      "Features shape (8192,)\n",
      "14\n",
      "Test NMI = 0.6033 ARI = 0.3263 F = 0.4481 ACC = 0.4558\n",
      "================================================================\n",
      "\n"
     ]
    },
    {
     "name": "stderr",
     "output_type": "stream",
     "text": [
      "C:\\Users\\Tom-G\\.conda\\envs\\torchenv\\lib\\site-packages\\torch\\nn\\modules\\container.py:141: UserWarning: Implicit dimension choice for softmax has been deprecated. Change the call to include dim=X as an argument.\n",
      "  input = module(input)\n"
     ]
    },
    {
     "name": "stdout",
     "output_type": "stream",
     "text": [
      "Step [0/8]\t loss_instance: 5.853188991546631\t loss_cluster: 1.6119260787963867\n",
      "Step [2/8]\t loss_instance: 5.970775604248047\t loss_cluster: 1.7303959131240845\n",
      "Step [4/8]\t loss_instance: 5.970510005950928\t loss_cluster: 1.6541552543640137\n",
      "Step [6/8]\t loss_instance: 5.989218711853027\t loss_cluster: 1.6685737371444702\n",
      "\n",
      "Epoch [472/500]\t Loss: 7.641413640975952 \n",
      "\n",
      "Step [0/8]\t Computing features...\n",
      "Features shape (8192,)\n",
      "14\n",
      "Test NMI = 0.6120 ARI = 0.3428 F = 0.4635 ACC = 0.4780\n",
      "================================================================\n",
      "\n"
     ]
    },
    {
     "name": "stderr",
     "output_type": "stream",
     "text": [
      "C:\\Users\\Tom-G\\.conda\\envs\\torchenv\\lib\\site-packages\\torch\\nn\\modules\\container.py:141: UserWarning: Implicit dimension choice for softmax has been deprecated. Change the call to include dim=X as an argument.\n",
      "  input = module(input)\n"
     ]
    },
    {
     "name": "stdout",
     "output_type": "stream",
     "text": [
      "Step [0/8]\t loss_instance: 5.931506633758545\t loss_cluster: 1.6673543453216553\n",
      "Step [2/8]\t loss_instance: 5.8559112548828125\t loss_cluster: 1.5557736158370972\n",
      "Step [4/8]\t loss_instance: 5.844659328460693\t loss_cluster: 1.55044686794281\n",
      "Step [6/8]\t loss_instance: 5.851410865783691\t loss_cluster: 1.5836347341537476\n",
      "\n",
      "Epoch [473/500]\t Loss: 7.44141401052475 \n",
      "\n",
      "Step [0/8]\t Computing features...\n",
      "Features shape (8192,)\n",
      "14\n",
      "Test NMI = 0.6099 ARI = 0.3310 F = 0.4527 ACC = 0.4462\n",
      "================================================================\n",
      "\n"
     ]
    },
    {
     "name": "stderr",
     "output_type": "stream",
     "text": [
      "C:\\Users\\Tom-G\\.conda\\envs\\torchenv\\lib\\site-packages\\torch\\nn\\modules\\container.py:141: UserWarning: Implicit dimension choice for softmax has been deprecated. Change the call to include dim=X as an argument.\n",
      "  input = module(input)\n"
     ]
    },
    {
     "name": "stdout",
     "output_type": "stream",
     "text": [
      "Step [0/8]\t loss_instance: 5.8239922523498535\t loss_cluster: 1.539709210395813\n",
      "Step [2/8]\t loss_instance: 5.824267387390137\t loss_cluster: 1.5499331951141357\n",
      "Step [4/8]\t loss_instance: 5.826015472412109\t loss_cluster: 1.5553805828094482\n",
      "Step [6/8]\t loss_instance: 5.827343463897705\t loss_cluster: 1.5584750175476074\n",
      "\n",
      "Epoch [474/500]\t Loss: 7.377131444215775 \n",
      "\n",
      "Step [0/8]\t Computing features...\n",
      "Features shape (8192,)\n",
      "14\n",
      "Test NMI = 0.5998 ARI = 0.3179 F = 0.4403 ACC = 0.4425\n",
      "================================================================\n",
      "\n"
     ]
    },
    {
     "name": "stderr",
     "output_type": "stream",
     "text": [
      "C:\\Users\\Tom-G\\.conda\\envs\\torchenv\\lib\\site-packages\\torch\\nn\\modules\\container.py:141: UserWarning: Implicit dimension choice for softmax has been deprecated. Change the call to include dim=X as an argument.\n",
      "  input = module(input)\n"
     ]
    },
    {
     "name": "stdout",
     "output_type": "stream",
     "text": [
      "Step [0/8]\t loss_instance: 5.826426982879639\t loss_cluster: 1.5595390796661377\n",
      "Step [2/8]\t loss_instance: 5.814896106719971\t loss_cluster: 1.5545066595077515\n",
      "Step [4/8]\t loss_instance: 5.809332370758057\t loss_cluster: 1.5507301092147827\n",
      "Step [6/8]\t loss_instance: 5.815527439117432\t loss_cluster: 1.558888554573059\n",
      "\n",
      "Epoch [475/500]\t Loss: 7.3604123294353485 \n",
      "\n",
      "Step [0/8]\t Computing features...\n",
      "Features shape (8192,)\n",
      "14\n",
      "Test NMI = 0.6029 ARI = 0.3222 F = 0.4445 ACC = 0.4435\n",
      "================================================================\n",
      "\n"
     ]
    },
    {
     "name": "stderr",
     "output_type": "stream",
     "text": [
      "C:\\Users\\Tom-G\\.conda\\envs\\torchenv\\lib\\site-packages\\torch\\nn\\modules\\container.py:141: UserWarning: Implicit dimension choice for softmax has been deprecated. Change the call to include dim=X as an argument.\n",
      "  input = module(input)\n"
     ]
    },
    {
     "name": "stdout",
     "output_type": "stream",
     "text": [
      "Step [0/8]\t loss_instance: 5.80558443069458\t loss_cluster: 1.5436666011810303\n",
      "Step [2/8]\t loss_instance: 5.8061017990112305\t loss_cluster: 1.5394086837768555\n",
      "Step [4/8]\t loss_instance: 5.808615684509277\t loss_cluster: 1.5519287586212158\n",
      "Step [6/8]\t loss_instance: 5.829104423522949\t loss_cluster: 1.559360146522522\n",
      "\n",
      "Epoch [476/500]\t Loss: 7.352821010351181 \n",
      "\n",
      "Step [0/8]\t Computing features...\n",
      "Features shape (8192,)\n",
      "14\n",
      "Test NMI = 0.6048 ARI = 0.3245 F = 0.4463 ACC = 0.4447\n",
      "================================================================\n",
      "\n"
     ]
    },
    {
     "name": "stderr",
     "output_type": "stream",
     "text": [
      "C:\\Users\\Tom-G\\.conda\\envs\\torchenv\\lib\\site-packages\\torch\\nn\\modules\\container.py:141: UserWarning: Implicit dimension choice for softmax has been deprecated. Change the call to include dim=X as an argument.\n",
      "  input = module(input)\n"
     ]
    },
    {
     "name": "stdout",
     "output_type": "stream",
     "text": [
      "Step [0/8]\t loss_instance: 5.80496883392334\t loss_cluster: 1.5406676530838013\n",
      "Step [2/8]\t loss_instance: 5.803616523742676\t loss_cluster: 1.5441653728485107\n",
      "Step [4/8]\t loss_instance: 5.808562755584717\t loss_cluster: 1.544598937034607\n",
      "Step [6/8]\t loss_instance: 5.807107925415039\t loss_cluster: 1.544096827507019\n",
      "\n",
      "Epoch [477/500]\t Loss: 7.34666588306427 \n",
      "\n",
      "Step [0/8]\t Computing features...\n",
      "Features shape (8192,)\n",
      "14\n",
      "Test NMI = 0.6016 ARI = 0.3192 F = 0.4414 ACC = 0.4337\n",
      "================================================================\n",
      "\n"
     ]
    },
    {
     "name": "stderr",
     "output_type": "stream",
     "text": [
      "C:\\Users\\Tom-G\\.conda\\envs\\torchenv\\lib\\site-packages\\torch\\nn\\modules\\container.py:141: UserWarning: Implicit dimension choice for softmax has been deprecated. Change the call to include dim=X as an argument.\n",
      "  input = module(input)\n"
     ]
    },
    {
     "name": "stdout",
     "output_type": "stream",
     "text": [
      "Step [0/8]\t loss_instance: 5.804988384246826\t loss_cluster: 1.5414224863052368\n",
      "Step [2/8]\t loss_instance: 5.803547382354736\t loss_cluster: 1.5467039346694946\n",
      "Step [4/8]\t loss_instance: 5.793460845947266\t loss_cluster: 1.535361647605896\n",
      "Step [6/8]\t loss_instance: 5.810099124908447\t loss_cluster: 1.5543835163116455\n",
      "\n",
      "Epoch [478/500]\t Loss: 7.343228954076767 \n",
      "\n",
      "Step [0/8]\t Computing features...\n",
      "Features shape (8192,)\n",
      "14\n",
      "Test NMI = 0.6019 ARI = 0.3198 F = 0.4417 ACC = 0.4387\n",
      "================================================================\n",
      "\n"
     ]
    },
    {
     "name": "stderr",
     "output_type": "stream",
     "text": [
      "C:\\Users\\Tom-G\\.conda\\envs\\torchenv\\lib\\site-packages\\torch\\nn\\modules\\container.py:141: UserWarning: Implicit dimension choice for softmax has been deprecated. Change the call to include dim=X as an argument.\n",
      "  input = module(input)\n"
     ]
    },
    {
     "name": "stdout",
     "output_type": "stream",
     "text": [
      "Step [0/8]\t loss_instance: 5.833268642425537\t loss_cluster: 1.563143253326416\n",
      "Step [2/8]\t loss_instance: 5.8293023109436035\t loss_cluster: 1.5529587268829346\n",
      "Step [4/8]\t loss_instance: 5.826055526733398\t loss_cluster: 1.5513803958892822\n",
      "Step [6/8]\t loss_instance: 5.830881118774414\t loss_cluster: 1.5505989789962769\n",
      "\n",
      "Epoch [479/500]\t Loss: 7.375728142261505 \n",
      "\n",
      "Step [0/8]\t Computing features...\n",
      "Features shape (8192,)\n",
      "14\n",
      "Test NMI = 0.5993 ARI = 0.3180 F = 0.4406 ACC = 0.4332\n",
      "================================================================\n",
      "\n"
     ]
    },
    {
     "name": "stderr",
     "output_type": "stream",
     "text": [
      "C:\\Users\\Tom-G\\.conda\\envs\\torchenv\\lib\\site-packages\\torch\\nn\\modules\\container.py:141: UserWarning: Implicit dimension choice for softmax has been deprecated. Change the call to include dim=X as an argument.\n",
      "  input = module(input)\n"
     ]
    },
    {
     "name": "stdout",
     "output_type": "stream",
     "text": [
      "Step [0/8]\t loss_instance: 5.773589134216309\t loss_cluster: 1.5234220027923584\n",
      "Step [2/8]\t loss_instance: 5.778258323669434\t loss_cluster: 1.5454857349395752\n",
      "Step [4/8]\t loss_instance: 5.788500785827637\t loss_cluster: 1.5427240133285522\n",
      "Step [6/8]\t loss_instance: 5.780072212219238\t loss_cluster: 1.5392329692840576\n",
      "\n",
      "Epoch [480/500]\t Loss: 7.320859664678574 \n",
      "\n",
      "Step [0/8]\t Computing features...\n",
      "Features shape (8192,)\n",
      "14\n",
      "Test NMI = 0.6003 ARI = 0.3172 F = 0.4391 ACC = 0.4309\n",
      "================================================================\n",
      "\n"
     ]
    },
    {
     "name": "stderr",
     "output_type": "stream",
     "text": [
      "C:\\Users\\Tom-G\\.conda\\envs\\torchenv\\lib\\site-packages\\torch\\nn\\modules\\container.py:141: UserWarning: Implicit dimension choice for softmax has been deprecated. Change the call to include dim=X as an argument.\n",
      "  input = module(input)\n"
     ]
    },
    {
     "name": "stdout",
     "output_type": "stream",
     "text": [
      "Step [0/8]\t loss_instance: 5.79232931137085\t loss_cluster: 1.5538254976272583\n",
      "Step [2/8]\t loss_instance: 5.780665397644043\t loss_cluster: 1.5413738489151\n",
      "Step [4/8]\t loss_instance: 5.779630661010742\t loss_cluster: 1.5495110750198364\n",
      "Step [6/8]\t loss_instance: 5.784214973449707\t loss_cluster: 1.5302765369415283\n",
      "\n",
      "Epoch [481/500]\t Loss: 7.325845241546631 \n",
      "\n",
      "Step [0/8]\t Computing features...\n",
      "Features shape (8192,)\n",
      "14\n",
      "Test NMI = 0.5990 ARI = 0.3146 F = 0.4368 ACC = 0.4299\n",
      "================================================================\n",
      "\n"
     ]
    },
    {
     "name": "stderr",
     "output_type": "stream",
     "text": [
      "C:\\Users\\Tom-G\\.conda\\envs\\torchenv\\lib\\site-packages\\torch\\nn\\modules\\container.py:141: UserWarning: Implicit dimension choice for softmax has been deprecated. Change the call to include dim=X as an argument.\n",
      "  input = module(input)\n"
     ]
    },
    {
     "name": "stdout",
     "output_type": "stream",
     "text": [
      "Step [0/8]\t loss_instance: 5.7752275466918945\t loss_cluster: 1.5324074029922485\n",
      "Step [2/8]\t loss_instance: 5.779565334320068\t loss_cluster: 1.531304955482483\n",
      "Step [4/8]\t loss_instance: 5.805993556976318\t loss_cluster: 1.5466690063476562\n",
      "Step [6/8]\t loss_instance: 5.838011741638184\t loss_cluster: 1.5899461507797241\n",
      "\n",
      "Epoch [482/500]\t Loss: 7.344642972946167 \n",
      "\n",
      "Step [0/8]\t Computing features...\n",
      "Features shape (8192,)\n",
      "14\n",
      "Test NMI = 0.6033 ARI = 0.3291 F = 0.4505 ACC = 0.4479\n",
      "================================================================\n",
      "\n"
     ]
    },
    {
     "name": "stderr",
     "output_type": "stream",
     "text": [
      "C:\\Users\\Tom-G\\.conda\\envs\\torchenv\\lib\\site-packages\\torch\\nn\\modules\\container.py:141: UserWarning: Implicit dimension choice for softmax has been deprecated. Change the call to include dim=X as an argument.\n",
      "  input = module(input)\n"
     ]
    },
    {
     "name": "stdout",
     "output_type": "stream",
     "text": [
      "Step [0/8]\t loss_instance: 5.844768047332764\t loss_cluster: 1.5578179359436035\n",
      "Step [2/8]\t loss_instance: 5.880036354064941\t loss_cluster: 1.585888385772705\n",
      "Step [4/8]\t loss_instance: 5.858084678649902\t loss_cluster: 1.573254942893982\n",
      "Step [6/8]\t loss_instance: 5.944411277770996\t loss_cluster: 1.6246246099472046\n",
      "\n",
      "Epoch [483/500]\t Loss: 7.488729602098465 \n",
      "\n",
      "Step [0/8]\t Computing features...\n",
      "Features shape (8192,)\n",
      "14\n",
      "Test NMI = 0.5938 ARI = 0.3152 F = 0.4373 ACC = 0.4370\n",
      "================================================================\n",
      "\n"
     ]
    },
    {
     "name": "stderr",
     "output_type": "stream",
     "text": [
      "C:\\Users\\Tom-G\\.conda\\envs\\torchenv\\lib\\site-packages\\torch\\nn\\modules\\container.py:141: UserWarning: Implicit dimension choice for softmax has been deprecated. Change the call to include dim=X as an argument.\n",
      "  input = module(input)\n"
     ]
    },
    {
     "name": "stdout",
     "output_type": "stream",
     "text": [
      "Step [0/8]\t loss_instance: 5.890752792358398\t loss_cluster: 1.6151951551437378\n",
      "Step [2/8]\t loss_instance: 5.879480838775635\t loss_cluster: 1.6109144687652588\n",
      "Step [4/8]\t loss_instance: 5.843372821807861\t loss_cluster: 1.550395131111145\n",
      "Step [6/8]\t loss_instance: 5.839894771575928\t loss_cluster: 1.5691243410110474\n",
      "\n",
      "Epoch [484/500]\t Loss: 7.4378576397895815 \n",
      "\n",
      "Step [0/8]\t Computing features...\n",
      "Features shape (8192,)\n",
      "14\n",
      "Test NMI = 0.5987 ARI = 0.3182 F = 0.4405 ACC = 0.4369\n",
      "================================================================\n",
      "\n"
     ]
    },
    {
     "name": "stderr",
     "output_type": "stream",
     "text": [
      "C:\\Users\\Tom-G\\.conda\\envs\\torchenv\\lib\\site-packages\\torch\\nn\\modules\\container.py:141: UserWarning: Implicit dimension choice for softmax has been deprecated. Change the call to include dim=X as an argument.\n",
      "  input = module(input)\n"
     ]
    },
    {
     "name": "stdout",
     "output_type": "stream",
     "text": [
      "Step [0/8]\t loss_instance: 5.844433307647705\t loss_cluster: 1.5782711505889893\n",
      "Step [2/8]\t loss_instance: 5.856863975524902\t loss_cluster: 1.6053346395492554\n",
      "Step [4/8]\t loss_instance: 5.848877429962158\t loss_cluster: 1.5927075147628784\n",
      "Step [6/8]\t loss_instance: 5.866605281829834\t loss_cluster: 1.613272786140442\n",
      "\n",
      "Epoch [485/500]\t Loss: 7.429696625471115 \n",
      "\n",
      "Step [0/8]\t Computing features...\n",
      "Features shape (8192,)\n",
      "14\n",
      "Test NMI = 0.5978 ARI = 0.3206 F = 0.4430 ACC = 0.4470\n",
      "================================================================\n",
      "\n"
     ]
    },
    {
     "name": "stderr",
     "output_type": "stream",
     "text": [
      "C:\\Users\\Tom-G\\.conda\\envs\\torchenv\\lib\\site-packages\\torch\\nn\\modules\\container.py:141: UserWarning: Implicit dimension choice for softmax has been deprecated. Change the call to include dim=X as an argument.\n",
      "  input = module(input)\n"
     ]
    },
    {
     "name": "stdout",
     "output_type": "stream",
     "text": [
      "Step [0/8]\t loss_instance: 5.866831302642822\t loss_cluster: 1.6084121465682983\n",
      "Step [2/8]\t loss_instance: 5.838645935058594\t loss_cluster: 1.5771642923355103\n",
      "Step [4/8]\t loss_instance: 5.824551582336426\t loss_cluster: 1.5779677629470825\n",
      "Step [6/8]\t loss_instance: 5.818782806396484\t loss_cluster: 1.5703613758087158\n",
      "\n",
      "Epoch [486/500]\t Loss: 7.416413325071335 \n",
      "\n",
      "Step [0/8]\t Computing features...\n",
      "Features shape (8192,)\n",
      "14\n",
      "Test NMI = 0.6007 ARI = 0.3235 F = 0.4449 ACC = 0.4452\n",
      "================================================================\n",
      "\n"
     ]
    },
    {
     "name": "stderr",
     "output_type": "stream",
     "text": [
      "C:\\Users\\Tom-G\\.conda\\envs\\torchenv\\lib\\site-packages\\torch\\nn\\modules\\container.py:141: UserWarning: Implicit dimension choice for softmax has been deprecated. Change the call to include dim=X as an argument.\n",
      "  input = module(input)\n"
     ]
    },
    {
     "name": "stdout",
     "output_type": "stream",
     "text": [
      "Step [0/8]\t loss_instance: 5.8241496086120605\t loss_cluster: 1.5708744525909424\n",
      "Step [2/8]\t loss_instance: 5.822822570800781\t loss_cluster: 1.5534743070602417\n",
      "Step [4/8]\t loss_instance: 5.809544086456299\t loss_cluster: 1.55315363407135\n",
      "Step [6/8]\t loss_instance: 5.802634239196777\t loss_cluster: 1.5473321676254272\n",
      "\n",
      "Epoch [487/500]\t Loss: 7.368614304065704 \n",
      "\n",
      "Step [0/8]\t Computing features...\n",
      "Features shape (8192,)\n",
      "14\n",
      "Test NMI = 0.5935 ARI = 0.3102 F = 0.4326 ACC = 0.4258\n",
      "================================================================\n",
      "\n"
     ]
    },
    {
     "name": "stderr",
     "output_type": "stream",
     "text": [
      "C:\\Users\\Tom-G\\.conda\\envs\\torchenv\\lib\\site-packages\\torch\\nn\\modules\\container.py:141: UserWarning: Implicit dimension choice for softmax has been deprecated. Change the call to include dim=X as an argument.\n",
      "  input = module(input)\n"
     ]
    },
    {
     "name": "stdout",
     "output_type": "stream",
     "text": [
      "Step [0/8]\t loss_instance: 5.807009696960449\t loss_cluster: 1.5465867519378662\n",
      "Step [2/8]\t loss_instance: 5.809610366821289\t loss_cluster: 1.5485714673995972\n",
      "Step [4/8]\t loss_instance: 5.809354782104492\t loss_cluster: 1.5465912818908691\n",
      "Step [6/8]\t loss_instance: 5.807511329650879\t loss_cluster: 1.5494505167007446\n",
      "\n",
      "Epoch [488/500]\t Loss: 7.345396476984024 \n",
      "\n",
      "Step [0/8]\t Computing features...\n",
      "Features shape (8192,)\n",
      "14\n",
      "Test NMI = 0.5949 ARI = 0.3103 F = 0.4324 ACC = 0.4291\n",
      "================================================================\n",
      "\n"
     ]
    },
    {
     "name": "stderr",
     "output_type": "stream",
     "text": [
      "C:\\Users\\Tom-G\\.conda\\envs\\torchenv\\lib\\site-packages\\torch\\nn\\modules\\container.py:141: UserWarning: Implicit dimension choice for softmax has been deprecated. Change the call to include dim=X as an argument.\n",
      "  input = module(input)\n"
     ]
    },
    {
     "name": "stdout",
     "output_type": "stream",
     "text": [
      "Step [0/8]\t loss_instance: 5.816364288330078\t loss_cluster: 1.558322787284851\n",
      "Step [2/8]\t loss_instance: 5.820764541625977\t loss_cluster: 1.5513278245925903\n",
      "Step [4/8]\t loss_instance: 5.7993364334106445\t loss_cluster: 1.5489928722381592\n",
      "Step [6/8]\t loss_instance: 5.80879545211792\t loss_cluster: 1.5434809923171997\n",
      "\n",
      "Epoch [489/500]\t Loss: 7.350813376903534 \n",
      "\n",
      "Step [0/8]\t Computing features...\n",
      "Features shape (8192,)\n",
      "14\n",
      "Test NMI = 0.5944 ARI = 0.3109 F = 0.4333 ACC = 0.4325\n",
      "================================================================\n",
      "\n"
     ]
    },
    {
     "name": "stderr",
     "output_type": "stream",
     "text": [
      "C:\\Users\\Tom-G\\.conda\\envs\\torchenv\\lib\\site-packages\\torch\\nn\\modules\\container.py:141: UserWarning: Implicit dimension choice for softmax has been deprecated. Change the call to include dim=X as an argument.\n",
      "  input = module(input)\n"
     ]
    },
    {
     "name": "stdout",
     "output_type": "stream",
     "text": [
      "Step [0/8]\t loss_instance: 5.801155090332031\t loss_cluster: 1.5434764623641968\n",
      "Step [2/8]\t loss_instance: 5.804880619049072\t loss_cluster: 1.5604585409164429\n",
      "Step [4/8]\t loss_instance: 5.8137359619140625\t loss_cluster: 1.5595612525939941\n",
      "Step [6/8]\t loss_instance: 5.80792760848999\t loss_cluster: 1.5424402952194214\n",
      "\n",
      "Epoch [490/500]\t Loss: 7.347318857908249 \n",
      "\n",
      "Step [0/8]\t Computing features...\n",
      "Features shape (8192,)\n",
      "14\n",
      "Test NMI = 0.6029 ARI = 0.3240 F = 0.4465 ACC = 0.4486\n",
      "================================================================\n",
      "\n"
     ]
    },
    {
     "name": "stderr",
     "output_type": "stream",
     "text": [
      "C:\\Users\\Tom-G\\.conda\\envs\\torchenv\\lib\\site-packages\\torch\\nn\\modules\\container.py:141: UserWarning: Implicit dimension choice for softmax has been deprecated. Change the call to include dim=X as an argument.\n",
      "  input = module(input)\n"
     ]
    },
    {
     "name": "stdout",
     "output_type": "stream",
     "text": [
      "Step [0/8]\t loss_instance: 5.800942420959473\t loss_cluster: 1.5490875244140625\n",
      "Step [2/8]\t loss_instance: 5.806944370269775\t loss_cluster: 1.5621252059936523\n",
      "Step [4/8]\t loss_instance: 5.817774772644043\t loss_cluster: 1.5765392780303955\n",
      "Step [6/8]\t loss_instance: 5.822001934051514\t loss_cluster: 1.5692707300186157\n",
      "\n",
      "Epoch [491/500]\t Loss: 7.37277951836586 \n",
      "\n",
      "Step [0/8]\t Computing features...\n",
      "Features shape (8192,)\n",
      "14\n",
      "Test NMI = 0.5992 ARI = 0.3181 F = 0.4406 ACC = 0.4407\n",
      "================================================================\n",
      "\n"
     ]
    },
    {
     "name": "stderr",
     "output_type": "stream",
     "text": [
      "C:\\Users\\Tom-G\\.conda\\envs\\torchenv\\lib\\site-packages\\torch\\nn\\modules\\container.py:141: UserWarning: Implicit dimension choice for softmax has been deprecated. Change the call to include dim=X as an argument.\n",
      "  input = module(input)\n"
     ]
    },
    {
     "name": "stdout",
     "output_type": "stream",
     "text": [
      "Step [0/8]\t loss_instance: 5.8430328369140625\t loss_cluster: 1.592193365097046\n",
      "Step [2/8]\t loss_instance: 5.826328754425049\t loss_cluster: 1.5664178133010864\n",
      "Step [4/8]\t loss_instance: 5.80409574508667\t loss_cluster: 1.5495424270629883\n",
      "Step [6/8]\t loss_instance: 5.8213653564453125\t loss_cluster: 1.5725749731063843\n",
      "\n",
      "Epoch [492/500]\t Loss: 7.373113292455673 \n",
      "\n",
      "Step [0/8]\t Computing features...\n",
      "Features shape (8192,)\n",
      "14\n",
      "Test NMI = 0.5956 ARI = 0.3139 F = 0.4366 ACC = 0.4369\n",
      "================================================================\n",
      "\n"
     ]
    },
    {
     "name": "stderr",
     "output_type": "stream",
     "text": [
      "C:\\Users\\Tom-G\\.conda\\envs\\torchenv\\lib\\site-packages\\torch\\nn\\modules\\container.py:141: UserWarning: Implicit dimension choice for softmax has been deprecated. Change the call to include dim=X as an argument.\n",
      "  input = module(input)\n"
     ]
    },
    {
     "name": "stdout",
     "output_type": "stream",
     "text": [
      "Step [0/8]\t loss_instance: 5.813525199890137\t loss_cluster: 1.5588582754135132\n",
      "Step [2/8]\t loss_instance: 5.830341339111328\t loss_cluster: 1.5758681297302246\n",
      "Step [4/8]\t loss_instance: 5.838160991668701\t loss_cluster: 1.5902341604232788\n",
      "Step [6/8]\t loss_instance: 5.827289581298828\t loss_cluster: 1.564311146736145\n",
      "\n",
      "Epoch [493/500]\t Loss: 7.389296233654022 \n",
      "\n",
      "Step [0/8]\t Computing features...\n",
      "Features shape (8192,)\n",
      "14\n",
      "Test NMI = 0.5955 ARI = 0.3118 F = 0.4342 ACC = 0.4349\n",
      "================================================================\n",
      "\n"
     ]
    },
    {
     "name": "stderr",
     "output_type": "stream",
     "text": [
      "C:\\Users\\Tom-G\\.conda\\envs\\torchenv\\lib\\site-packages\\torch\\nn\\modules\\container.py:141: UserWarning: Implicit dimension choice for softmax has been deprecated. Change the call to include dim=X as an argument.\n",
      "  input = module(input)\n"
     ]
    },
    {
     "name": "stdout",
     "output_type": "stream",
     "text": [
      "Step [0/8]\t loss_instance: 5.834813594818115\t loss_cluster: 1.5871341228485107\n",
      "Step [2/8]\t loss_instance: 5.84791374206543\t loss_cluster: 1.590347409248352\n",
      "Step [4/8]\t loss_instance: 5.843039512634277\t loss_cluster: 1.561785101890564\n",
      "Step [6/8]\t loss_instance: 5.842590808868408\t loss_cluster: 1.5784245729446411\n",
      "\n",
      "Epoch [494/500]\t Loss: 7.402851516008377 \n",
      "\n",
      "Step [0/8]\t Computing features...\n",
      "Features shape (8192,)\n",
      "14\n",
      "Test NMI = 0.5932 ARI = 0.3079 F = 0.4298 ACC = 0.4240\n",
      "================================================================\n",
      "\n"
     ]
    },
    {
     "name": "stderr",
     "output_type": "stream",
     "text": [
      "C:\\Users\\Tom-G\\.conda\\envs\\torchenv\\lib\\site-packages\\torch\\nn\\modules\\container.py:141: UserWarning: Implicit dimension choice for softmax has been deprecated. Change the call to include dim=X as an argument.\n",
      "  input = module(input)\n"
     ]
    },
    {
     "name": "stdout",
     "output_type": "stream",
     "text": [
      "Step [0/8]\t loss_instance: 5.830225944519043\t loss_cluster: 1.5613163709640503\n",
      "Step [2/8]\t loss_instance: 5.840811252593994\t loss_cluster: 1.5722235441207886\n",
      "Step [4/8]\t loss_instance: 5.831172466278076\t loss_cluster: 1.582144856452942\n",
      "Step [6/8]\t loss_instance: 5.833227157592773\t loss_cluster: 1.6040486097335815\n",
      "\n",
      "Epoch [495/500]\t Loss: 7.396524196863174 \n",
      "\n",
      "Step [0/8]\t Computing features...\n",
      "Features shape (8192,)\n",
      "14\n",
      "Test NMI = 0.6048 ARI = 0.3280 F = 0.4497 ACC = 0.4487\n",
      "================================================================\n",
      "\n"
     ]
    },
    {
     "name": "stderr",
     "output_type": "stream",
     "text": [
      "C:\\Users\\Tom-G\\.conda\\envs\\torchenv\\lib\\site-packages\\torch\\nn\\modules\\container.py:141: UserWarning: Implicit dimension choice for softmax has been deprecated. Change the call to include dim=X as an argument.\n",
      "  input = module(input)\n"
     ]
    },
    {
     "name": "stdout",
     "output_type": "stream",
     "text": [
      "Step [0/8]\t loss_instance: 5.8353590965271\t loss_cluster: 1.5662745237350464\n",
      "Step [2/8]\t loss_instance: 5.837057590484619\t loss_cluster: 1.5818089246749878\n",
      "Step [4/8]\t loss_instance: 5.821924686431885\t loss_cluster: 1.577235221862793\n",
      "Step [6/8]\t loss_instance: 5.820760726928711\t loss_cluster: 1.5767782926559448\n",
      "\n",
      "Epoch [496/500]\t Loss: 7.384797507524491 \n",
      "\n",
      "Step [0/8]\t Computing features...\n",
      "Features shape (8192,)\n",
      "14\n",
      "Test NMI = 0.6204 ARI = 0.3504 F = 0.4715 ACC = 0.4670\n",
      "================================================================\n",
      "\n"
     ]
    },
    {
     "name": "stderr",
     "output_type": "stream",
     "text": [
      "C:\\Users\\Tom-G\\.conda\\envs\\torchenv\\lib\\site-packages\\torch\\nn\\modules\\container.py:141: UserWarning: Implicit dimension choice for softmax has been deprecated. Change the call to include dim=X as an argument.\n",
      "  input = module(input)\n"
     ]
    },
    {
     "name": "stdout",
     "output_type": "stream",
     "text": [
      "Step [0/8]\t loss_instance: 5.812320709228516\t loss_cluster: 1.5521544218063354\n",
      "Step [2/8]\t loss_instance: 5.808621406555176\t loss_cluster: 1.5601600408554077\n",
      "Step [4/8]\t loss_instance: 5.818204879760742\t loss_cluster: 1.5579472780227661\n",
      "Step [6/8]\t loss_instance: 5.830513954162598\t loss_cluster: 1.559239387512207\n",
      "\n",
      "Epoch [497/500]\t Loss: 7.366147625446319 \n",
      "\n",
      "Step [0/8]\t Computing features...\n",
      "Features shape (8192,)\n",
      "14\n",
      "Test NMI = 0.6072 ARI = 0.3166 F = 0.4390 ACC = 0.4281\n",
      "================================================================\n",
      "\n"
     ]
    },
    {
     "name": "stderr",
     "output_type": "stream",
     "text": [
      "C:\\Users\\Tom-G\\.conda\\envs\\torchenv\\lib\\site-packages\\torch\\nn\\modules\\container.py:141: UserWarning: Implicit dimension choice for softmax has been deprecated. Change the call to include dim=X as an argument.\n",
      "  input = module(input)\n"
     ]
    },
    {
     "name": "stdout",
     "output_type": "stream",
     "text": [
      "Step [0/8]\t loss_instance: 5.82391881942749\t loss_cluster: 1.5597013235092163\n",
      "Step [2/8]\t loss_instance: 5.820126056671143\t loss_cluster: 1.5555438995361328\n",
      "Step [4/8]\t loss_instance: 5.825071334838867\t loss_cluster: 1.5646051168441772\n",
      "Step [6/8]\t loss_instance: 5.834347724914551\t loss_cluster: 1.5651246309280396\n",
      "\n",
      "Epoch [498/500]\t Loss: 7.373677909374237 \n",
      "\n",
      "Step [0/8]\t Computing features...\n",
      "Features shape (8192,)\n",
      "14\n",
      "Test NMI = 0.6016 ARI = 0.3193 F = 0.4413 ACC = 0.4332\n",
      "================================================================\n",
      "\n"
     ]
    },
    {
     "name": "stderr",
     "output_type": "stream",
     "text": [
      "C:\\Users\\Tom-G\\.conda\\envs\\torchenv\\lib\\site-packages\\torch\\nn\\modules\\container.py:141: UserWarning: Implicit dimension choice for softmax has been deprecated. Change the call to include dim=X as an argument.\n",
      "  input = module(input)\n"
     ]
    },
    {
     "name": "stdout",
     "output_type": "stream",
     "text": [
      "Step [0/8]\t loss_instance: 5.828513145446777\t loss_cluster: 1.5824264287948608\n",
      "Step [2/8]\t loss_instance: 5.813937187194824\t loss_cluster: 1.561840534210205\n",
      "Step [4/8]\t loss_instance: 5.8270745277404785\t loss_cluster: 1.553908109664917\n",
      "Step [6/8]\t loss_instance: 5.830929756164551\t loss_cluster: 1.55095636844635\n",
      "\n",
      "Epoch [499/500]\t Loss: 7.369312220811844 \n",
      "\n",
      "Step [0/8]\t Computing features...\n",
      "Features shape (8192,)\n",
      "14\n",
      "Test NMI = 0.6178 ARI = 0.3255 F = 0.4470 ACC = 0.4302\n",
      "================================================================\n",
      "\n"
     ]
    }
   ],
   "source": [
    "loss_device=torch.device('cuda')\n",
    "instance_loss=InstanceLoss(batch_size=args.batch_size,temperature=0.5,device=loss_device)\n",
    "cluster_loss=ClusterLoss(class_num=class_num,temperature=0.5,device=loss_device)\n",
    "accs=[]\n",
    "losses=[]\n",
    "aris=[]\n",
    "nmis=[]\n",
    "fs=[]\n",
    "\n",
    "memory_bank=MemoryBank(batch_size=args.batch_size,full_data=x_ndarray,topK=10)\n",
    "memory_bank.updateBank(x_ndarray)\n",
    "\n",
    "for epoch in range(args.start_epoch, args.epochs):\n",
    "    lr = optimizer.param_groups[0][\"lr\"]\n",
    "    if epoch %20 ==0:\n",
    "        embeddings=np.empty((0,mlp.rep_dim))\n",
    "        model.eval()\n",
    "        with torch.no_grad():\n",
    "            for step, (x, y) in enumerate(scGenDataLoader):\n",
    "                x=x.to('cuda')\n",
    "                embedding=model.forward_embedding(x).cpu().detach().numpy()                 \n",
    "                embeddings=np.row_stack((embeddings,embedding))\n",
    "                memory_bank.updateBank(embeddings)\n",
    "    loss_epoch = train(instance_loss,cluster_loss,memory_bank,epoch=epoch,model=model)\n",
    "    losses.append(loss_epoch/len(scDataLoader))\n",
    "    if epoch % 10 == 0:\n",
    "        save_model(args, model, optimizer, epoch)\n",
    "    print(f\"\\nEpoch [{epoch}/{args.epochs}]\\t Loss: {loss_epoch / len(scDataLoader)} \\n\")\n",
    "    nmi, ari, f, acc = test()\n",
    "    accs.append(acc)\n",
    "    aris.append(ari)\n",
    "    nmis.append(nmi)\n",
    "    fs.append(f)\n",
    "    print('Test NMI = {:.4f} ARI = {:.4f} F = {:.4f} ACC = {:.4f}'.format(nmi, ari, f, acc))\n",
    "    print('========'*8+'\\n')"
   ]
  },
  {
   "cell_type": "code",
   "execution_count": 18,
   "metadata": {
    "collapsed": false,
    "pycharm": {
     "name": "#%%\n"
    }
   },
   "outputs": [
    {
     "data": {
      "image/png": "[encoded data removed]",
      "text/plain": [
       "<Figure size 864x288 with 2 Axes>"
      ]
     },
     "metadata": {
      "needs_background": "light"
     },
     "output_type": "display_data"
    }
   ],
   "source": [
    "from matplotlib import pyplot as plt\n",
    "\n",
    "f, ax = plt.subplots(nrows=1, ncols=2, figsize=(12, 4))\n",
    "ax[0].plot(accs)\n",
    "ax[0].set_title('Accuracy during Validation')\n",
    "ax[1].plot(losses)\n",
    "ax[1].set_title('Loss during Training')\n",
    "\n",
    "plt.subplots_adjust(top=0.85)\n",
    "plt.suptitle('Result')\n",
    "plt.show()"
   ]
  },
  {
   "cell_type": "code",
   "execution_count": 19,
   "metadata": {},
   "outputs": [
    {
     "data": {
      "image/png": "[encoded data removed]",
      "text/plain": [
       "<Figure size 864x432 with 3 Axes>"
      ]
     },
     "metadata": {
      "needs_background": "light"
     },
     "output_type": "display_data"
    }
   ],
   "source": [
    "f, ax = plt.subplots(nrows=1, ncols=3, figsize=(12, 6))\n",
    "ax[0].plot(nmis)\n",
    "ax[0].set_title('Test NMI')\n",
    "ax[1].plot(aris)\n",
    "ax[1].set_title('Test ARI')\n",
    "ax[2].plot(fs)\n",
    "ax[2].set_title('Test F')\n",
    "\n",
    "\n",
    "plt.subplots_adjust(top=0.85)\n",
    "plt.suptitle('Result')\n",
    "plt.show()"
   ]
  },
  {
   "cell_type": "code",
   "execution_count": null,
   "metadata": {},
   "outputs": [],
   "source": []
  }
 ],
 "metadata": {
  "kernelspec": {
   "display_name": "Python 3",
   "language": "python",
   "name": "python3"
  },
  "language_info": {
   "codemirror_mode": {
    "name": "ipython",
    "version": 3
   },
   "file_extension": ".py",
   "mimetype": "text/x-python",
   "name": "python",
   "nbconvert_exporter": "python",
   "pygments_lexer": "ipython3",
   "version": "3.8.12"
  }
 },
 "nbformat": 4,
 "nbformat_minor": 0
}
