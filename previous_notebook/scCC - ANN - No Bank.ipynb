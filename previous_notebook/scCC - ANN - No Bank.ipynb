{
 "cells": [
  {
   "cell_type": "code",
   "execution_count": 1,
   "metadata": {
    "collapsed": false,
    "pycharm": {
     "name": "#%%\n"
    }
   },
   "outputs": [],
   "source": [
    "from torch import nn\n",
    "import torch\n",
    "import argparse\n",
    "import numpy as np\n",
    "import pandas as pd\n",
    "import scanpy as sc\n",
    "import os\n",
    "import anndata\n",
    "import math\n",
    "import hnswlib\n",
    "# import warnings\n",
    "# warnings.filterwarnings(\"ignore\", category=UserWarning)"
   ]
  },
  {
   "cell_type": "code",
   "execution_count": 2,
   "metadata": {
    "collapsed": false,
    "pycharm": {
     "name": "#%%\n"
    }
   },
   "outputs": [],
   "source": [
    "from modules import network,mlp\n",
    "from utils import yaml_config_hook,save_model\n",
    "\n",
    "parser = argparse.ArgumentParser()\n",
    "config = yaml_config_hook(\"config/config.yaml\")\n",
    "for k, v in config.items():\n",
    "    parser.add_argument(f\"--{k}\", default=v, type=type(v))\n",
    "args = parser.parse_args([])\n",
    "if not os.path.exists(args.model_path):\n",
    "    os.makedirs(args.model_path)\n",
    "\n",
    "# torch.manual_seed(args.seed)\n",
    "# torch.cuda.manual_seed_all(args.seed)\n",
    "# torch.cuda.manual_seed(args.seed)\n",
    "# np.random.seed(args.seed)\n",
    "class_num = args.classnum"
   ]
  },
  {
   "cell_type": "code",
   "execution_count": 3,
   "metadata": {
    "collapsed": false,
    "pycharm": {
     "name": "#%%\n"
    }
   },
   "outputs": [
    {
     "name": "stderr",
     "output_type": "stream",
     "text": [
      "C:\\Users\\Tom-G\\.conda\\envs\\torchenv\\lib\\site-packages\\anndata\\_core\\anndata.py:107: FutureWarning: elementwise comparison failed; returning scalar instead, but in the future will perform elementwise comparison\n",
      "  if index_name in anno:\n"
     ]
    },
    {
     "name": "stdout",
     "output_type": "stream",
     "text": [
      "(8569, 2000) (8569, 1)\n"
     ]
    },
    {
     "data": {
      "text/html": [
       "<div>\n",
       "<style scoped>\n",
       "    .dataframe tbody tr th:only-of-type {\n",
       "        vertical-align: middle;\n",
       "    }\n",
       "\n",
       "    .dataframe tbody tr th {\n",
       "        vertical-align: top;\n",
       "    }\n",
       "\n",
       "    .dataframe thead th {\n",
       "        text-align: right;\n",
       "    }\n",
       "</style>\n",
       "<table border=\"1\" class=\"dataframe\">\n",
       "  <thead>\n",
       "    <tr style=\"text-align: right;\">\n",
       "      <th></th>\n",
       "      <th>2</th>\n",
       "      <th>10</th>\n",
       "      <th>13</th>\n",
       "      <th>41</th>\n",
       "      <th>45</th>\n",
       "      <th>62</th>\n",
       "      <th>68</th>\n",
       "      <th>106</th>\n",
       "      <th>133</th>\n",
       "      <th>147</th>\n",
       "      <th>...</th>\n",
       "      <th>19763</th>\n",
       "      <th>19786</th>\n",
       "      <th>19808</th>\n",
       "      <th>19854</th>\n",
       "      <th>19883</th>\n",
       "      <th>20021</th>\n",
       "      <th>20073</th>\n",
       "      <th>20109</th>\n",
       "      <th>20121</th>\n",
       "      <th>20124</th>\n",
       "    </tr>\n",
       "  </thead>\n",
       "  <tbody>\n",
       "    <tr>\n",
       "      <th>0</th>\n",
       "      <td>0.0</td>\n",
       "      <td>1.302199</td>\n",
       "      <td>0.0</td>\n",
       "      <td>0.0</td>\n",
       "      <td>0.0</td>\n",
       "      <td>0.000000</td>\n",
       "      <td>0.36896</td>\n",
       "      <td>0.0</td>\n",
       "      <td>0.0</td>\n",
       "      <td>0.0</td>\n",
       "      <td>...</td>\n",
       "      <td>0.0</td>\n",
       "      <td>0.000000</td>\n",
       "      <td>0.0</td>\n",
       "      <td>0.0</td>\n",
       "      <td>0.00000</td>\n",
       "      <td>0.0</td>\n",
       "      <td>0.0</td>\n",
       "      <td>0.0</td>\n",
       "      <td>0.637877</td>\n",
       "      <td>0.368960</td>\n",
       "    </tr>\n",
       "    <tr>\n",
       "      <th>1</th>\n",
       "      <td>0.0</td>\n",
       "      <td>1.351171</td>\n",
       "      <td>0.0</td>\n",
       "      <td>0.0</td>\n",
       "      <td>0.0</td>\n",
       "      <td>0.000000</td>\n",
       "      <td>0.00000</td>\n",
       "      <td>0.0</td>\n",
       "      <td>0.0</td>\n",
       "      <td>0.0</td>\n",
       "      <td>...</td>\n",
       "      <td>0.0</td>\n",
       "      <td>0.000000</td>\n",
       "      <td>0.0</td>\n",
       "      <td>0.0</td>\n",
       "      <td>0.00000</td>\n",
       "      <td>0.0</td>\n",
       "      <td>0.0</td>\n",
       "      <td>0.0</td>\n",
       "      <td>0.888292</td>\n",
       "      <td>0.000000</td>\n",
       "    </tr>\n",
       "    <tr>\n",
       "      <th>2</th>\n",
       "      <td>0.0</td>\n",
       "      <td>0.000000</td>\n",
       "      <td>0.0</td>\n",
       "      <td>0.0</td>\n",
       "      <td>0.0</td>\n",
       "      <td>0.000000</td>\n",
       "      <td>0.00000</td>\n",
       "      <td>0.0</td>\n",
       "      <td>0.0</td>\n",
       "      <td>0.0</td>\n",
       "      <td>...</td>\n",
       "      <td>0.0</td>\n",
       "      <td>0.000000</td>\n",
       "      <td>0.0</td>\n",
       "      <td>0.0</td>\n",
       "      <td>0.00000</td>\n",
       "      <td>0.0</td>\n",
       "      <td>0.0</td>\n",
       "      <td>0.0</td>\n",
       "      <td>0.000000</td>\n",
       "      <td>0.000000</td>\n",
       "    </tr>\n",
       "    <tr>\n",
       "      <th>3</th>\n",
       "      <td>0.0</td>\n",
       "      <td>0.000000</td>\n",
       "      <td>0.0</td>\n",
       "      <td>0.0</td>\n",
       "      <td>0.0</td>\n",
       "      <td>0.711146</td>\n",
       "      <td>0.00000</td>\n",
       "      <td>0.0</td>\n",
       "      <td>0.0</td>\n",
       "      <td>0.0</td>\n",
       "      <td>...</td>\n",
       "      <td>0.0</td>\n",
       "      <td>0.417500</td>\n",
       "      <td>0.0</td>\n",
       "      <td>0.0</td>\n",
       "      <td>0.93785</td>\n",
       "      <td>0.0</td>\n",
       "      <td>0.0</td>\n",
       "      <td>0.0</td>\n",
       "      <td>0.937850</td>\n",
       "      <td>0.000000</td>\n",
       "    </tr>\n",
       "    <tr>\n",
       "      <th>4</th>\n",
       "      <td>0.0</td>\n",
       "      <td>0.000000</td>\n",
       "      <td>0.0</td>\n",
       "      <td>0.0</td>\n",
       "      <td>0.0</td>\n",
       "      <td>0.509045</td>\n",
       "      <td>0.00000</td>\n",
       "      <td>0.0</td>\n",
       "      <td>0.0</td>\n",
       "      <td>0.0</td>\n",
       "      <td>...</td>\n",
       "      <td>0.0</td>\n",
       "      <td>0.509045</td>\n",
       "      <td>0.0</td>\n",
       "      <td>0.0</td>\n",
       "      <td>0.00000</td>\n",
       "      <td>0.0</td>\n",
       "      <td>0.0</td>\n",
       "      <td>0.0</td>\n",
       "      <td>0.509045</td>\n",
       "      <td>0.509045</td>\n",
       "    </tr>\n",
       "  </tbody>\n",
       "</table>\n",
       "<p>5 rows × 2000 columns</p>\n",
       "</div>"
      ],
      "text/plain": [
       "     2        10   13   41   45        62       68  106  133  147  ...  19763  \\\n",
       "0  0.0  1.302199  0.0  0.0  0.0  0.000000  0.36896  0.0  0.0  0.0  ...    0.0   \n",
       "1  0.0  1.351171  0.0  0.0  0.0  0.000000  0.00000  0.0  0.0  0.0  ...    0.0   \n",
       "2  0.0  0.000000  0.0  0.0  0.0  0.000000  0.00000  0.0  0.0  0.0  ...    0.0   \n",
       "3  0.0  0.000000  0.0  0.0  0.0  0.711146  0.00000  0.0  0.0  0.0  ...    0.0   \n",
       "4  0.0  0.000000  0.0  0.0  0.0  0.509045  0.00000  0.0  0.0  0.0  ...    0.0   \n",
       "\n",
       "      19786  19808  19854    19883  20021  20073  20109     20121     20124  \n",
       "0  0.000000    0.0    0.0  0.00000    0.0    0.0    0.0  0.637877  0.368960  \n",
       "1  0.000000    0.0    0.0  0.00000    0.0    0.0    0.0  0.888292  0.000000  \n",
       "2  0.000000    0.0    0.0  0.00000    0.0    0.0    0.0  0.000000  0.000000  \n",
       "3  0.417500    0.0    0.0  0.93785    0.0    0.0    0.0  0.937850  0.000000  \n",
       "4  0.509045    0.0    0.0  0.00000    0.0    0.0    0.0  0.509045  0.509045  \n",
       "\n",
       "[5 rows x 2000 columns]"
      ]
     },
     "execution_count": 3,
     "metadata": {},
     "output_type": "execute_result"
    }
   ],
   "source": [
    "import scipy.sparse\n",
    "sparse_X = scipy.sparse.load_npz('data/filtered_Counts.npz')\n",
    "annoData = pd.read_table('data/annoData.txt')\n",
    "y = annoData[\"cellIden\"].to_numpy()\n",
    "high_var_gene = args.num_genes\n",
    "# normlization and feature selection\n",
    "adataSC = anndata.AnnData(X=sparse_X, obs=np.arange(sparse_X.shape[0]), var=np.arange(sparse_X.shape[1]))\n",
    "sc.pp.filter_genes(adataSC, min_cells=10)\n",
    "adataSC.raw = adataSC\n",
    "sc.pp.highly_variable_genes(adataSC, n_top_genes=high_var_gene, flavor='seurat_v3')\n",
    "sc.pp.normalize_total(adataSC, target_sum=1e4)\n",
    "sc.pp.log1p(adataSC)\n",
    "\n",
    "adataNorm = adataSC[:, adataSC.var.highly_variable]\n",
    "dataframe = adataNorm.to_df()\n",
    "x_ndarray = dataframe.values.squeeze()\n",
    "y_ndarray = np.expand_dims(y, axis=1)\n",
    "print(x_ndarray.shape,y_ndarray.shape)\n",
    "dataframe.head()"
   ]
  },
  {
   "cell_type": "code",
   "execution_count": 4,
   "metadata": {
    "collapsed": false,
    "pycharm": {
     "name": "#%%\n"
    }
   },
   "outputs": [
    {
     "name": "stdout",
     "output_type": "stream",
     "text": [
      "2000\n",
      "1024\n",
      "1024\n",
      "2000\n",
      "1024\n",
      "1024\n"
     ]
    }
   ],
   "source": [
    "from torch.utils.data import DataLoader,random_split,TensorDataset\n",
    "scDataset = TensorDataset(torch.tensor(x_ndarray, dtype=torch.float32),\n",
    "                              torch.tensor(y_ndarray, dtype=torch.float32))\n",
    "\n",
    "scDataLoader = DataLoader(scDataset, shuffle=True, batch_size=args.batch_size,drop_last=True)\n",
    "\n",
    "for features, labels in scDataLoader:\n",
    "    print(len(features[-1]))\n",
    "    print(len(features))\n",
    "    print(len(labels))\n",
    "    break\n",
    "\n",
    "scGenDataLoader = DataLoader(scDataset, shuffle=False, batch_size=args.batch_size,drop_last=True)\n",
    "\n",
    "for features, labels in scDataLoader:\n",
    "    print(len(features[-1]))\n",
    "    print(len(features))\n",
    "    print(len(labels))\n",
    "    break"
   ]
  },
  {
   "cell_type": "code",
   "execution_count": 5,
   "metadata": {},
   "outputs": [
    {
     "name": "stdout",
     "output_type": "stream",
     "text": [
      "8569 2000\n"
     ]
    }
   ],
   "source": [
    "num_elements=len(scDataset)\n",
    "dim=high_var_gene\n",
    "print(num_elements,dim)\n",
    "p=hnswlib.Index(space='cosine',dim=dim)\n",
    "p.init_index(max_elements=num_elements, ef_construction=100, M=16)\n",
    "p.set_ef(100)\n",
    "p.set_num_threads(4)\n",
    "p.add_items(x_ndarray)"
   ]
  },
  {
   "cell_type": "code",
   "execution_count": 6,
   "metadata": {
    "collapsed": false,
    "pycharm": {
     "name": "#%%\n"
    }
   },
   "outputs": [],
   "source": [
    "# initialize model\n",
    "mlp = mlp.MLP(num_genes=args.num_genes)\n",
    "model = network.Network(mlp, args.feature_dim, args.classnum)\n",
    "model = model.to('cuda')\n",
    "# optimizer / loss\n",
    "optimizer = torch.optim.Adam(model.parameters(), lr=args.learning_rate, weight_decay=args.weight_decay)"
   ]
  },
  {
   "cell_type": "code",
   "execution_count": 7,
   "metadata": {
    "collapsed": false,
    "pycharm": {
     "name": "#%%\n"
    }
   },
   "outputs": [],
   "source": [
    "class InstanceLoss(nn.Module):\n",
    "\n",
    "    def __init__(self,batch_size,temperature,device):\n",
    "        super(InstanceLoss,self).__init__()\n",
    "        self.batch_size=batch_size\n",
    "        self.temperature=temperature\n",
    "        self.device=device\n",
    "\n",
    "        self.mask=self.mask_correlated_samples(batch_size)\n",
    "        self.criterion = nn.CrossEntropyLoss(reduction=\"sum\")\n",
    "\n",
    "\n",
    "    def mask_correlated_samples(self,batch_size):\n",
    "        N=2*batch_size\n",
    "        mask=torch.ones(N,N)\n",
    "        mask=mask.fill_diagonal_(0)\n",
    "        for i in range(batch_size):\n",
    "            mask[i,batch_size+1]=0\n",
    "            mask[batch_size+i,i]=0\n",
    "        mask=mask.bool()\n",
    "        return mask\n",
    "\n",
    "    def forward(self,z_i,z_j):\n",
    "        N=2*self.batch_size\n",
    "        z=torch.cat((z_i,z_j),dim=0)\n",
    "\n",
    "        sim=torch.matmul(z,z.T)/self.temperature\n",
    "        sim_i_j=torch.diag(sim,self.batch_size)\n",
    "        sim_j_i=torch.diag(sim,-self.batch_size)\n",
    "\n",
    "        positive_samples= torch.cat((sim_i_j,sim_j_i),dim=0).reshape(N,1)\n",
    "        negative_samples=sim[self.mask].reshape(N,-1)\n",
    "\n",
    "        labels = torch.zeros(N).to(positive_samples.device).long()\n",
    "        logits = torch.cat((positive_samples, negative_samples), dim=1)\n",
    "        loss = self.criterion(logits, labels)\n",
    "        loss /= N\n",
    "\n",
    "        return loss"
   ]
  },
  {
   "cell_type": "code",
   "execution_count": 8,
   "metadata": {
    "collapsed": false,
    "pycharm": {
     "name": "#%%\n"
    }
   },
   "outputs": [],
   "source": [
    "class ClusterLoss(nn.Module):\n",
    "    def __init__(self, class_num, temperature, device):\n",
    "        super(ClusterLoss, self).__init__()\n",
    "        self.class_num = class_num\n",
    "        self.temperature = temperature\n",
    "        self.device = device\n",
    "\n",
    "        self.mask = self.mask_correlated_clusters(class_num)\n",
    "        self.criterion = nn.CrossEntropyLoss(reduction=\"sum\")\n",
    "        self.similarity_f = nn.CosineSimilarity(dim=2)\n",
    "\n",
    "    def mask_correlated_clusters(self, class_num):\n",
    "        N = 2 * class_num\n",
    "        mask = torch.ones((N, N))\n",
    "        mask = mask.fill_diagonal_(0)\n",
    "        for i in range(class_num):\n",
    "            mask[i, class_num + i] = 0\n",
    "            mask[class_num + i, i] = 0\n",
    "        mask = mask.bool()\n",
    "        return mask\n",
    "\n",
    "    def forward(self, c_i, c_j):\n",
    "        p_i = c_i.sum(0).view(-1)\n",
    "        p_i /= p_i.sum()\n",
    "        ne_i = math.log(p_i.size(0)) + (p_i * torch.log(p_i)).sum()\n",
    "        p_j = c_j.sum(0).view(-1)\n",
    "        p_j /= p_j.sum()\n",
    "        ne_j = math.log(p_j.size(0)) + (p_j * torch.log(p_j)).sum()\n",
    "        ne_loss = ne_i + ne_j\n",
    "\n",
    "        c_i = c_i.t()\n",
    "        c_j = c_j.t()\n",
    "        N = 2 * self.class_num\n",
    "        c = torch.cat((c_i, c_j), dim=0)\n",
    "\n",
    "        sim = self.similarity_f(c.unsqueeze(1), c.unsqueeze(0)) / self.temperature\n",
    "        sim_i_j = torch.diag(sim, self.class_num)\n",
    "        sim_j_i = torch.diag(sim, -self.class_num)\n",
    "\n",
    "        positive_clusters = torch.cat((sim_i_j, sim_j_i), dim=0).reshape(N, 1)\n",
    "        negative_clusters = sim[self.mask].reshape(N, -1)\n",
    "\n",
    "        labels = torch.zeros(N).to(positive_clusters.device).long()\n",
    "        logits = torch.cat((positive_clusters, negative_clusters), dim=1)\n",
    "        loss = self.criterion(logits, labels)\n",
    "        loss /= N\n",
    "\n",
    "        return loss + ne_loss\n"
   ]
  },
  {
   "cell_type": "code",
   "execution_count": 9,
   "metadata": {},
   "outputs": [],
   "source": [
    "class MemoryBank():\n",
    "\n",
    "    # 初始化，传入参数\n",
    "    def __init__(self,batch_size,full_data,topK=10):\n",
    "        self.topK=topK\n",
    "        self.batch_size=batch_size\n",
    "        self.bank=None\n",
    "        self.full_data=full_data\n",
    "\n",
    "    # 根据在updateBank中更新的hnsw对象以及输入的数据data（这里可以是embedding）提取TopK个近邻的数据\n",
    "    # 返回的结果是一个形状为[TopK,batch_size,num_genes]的数组，从第一个维度来看，\n",
    "    # 每个[batch_size,num_genes]的子数组都是根据输入的数据data寻找的一个近邻，一共TopK个\n",
    "    def generateContrast(self,data):\n",
    "        if self.bank is not None:\n",
    "            contrasts=np.empty((self.topK,args.batch_size,args.num_genes))\n",
    "            labels,distances=self.bank.knn_query(data,k=self.topK)\n",
    "            \n",
    "            # print(labels)\n",
    "\n",
    "            for step,label in enumerate(labels):\n",
    "                contrasts[:,step]=self.full_data[label.tolist()]\n",
    "            return contrasts\n",
    "        else:\n",
    "            print('Memory Bank has not been initialized......')\n",
    "            raise NotImplementedError()\n",
    "\n",
    "    # 根据输入的embedding更新hnsw对象\n",
    "    def updateBank(self,embedding):\n",
    "        num_elements=len(embedding)\n",
    "        dim=embedding.shape[1]\n",
    "        self.bank=hnswlib.Index(space='cosine',dim=dim)\n",
    "        self.bank.init_index(max_elements=num_elements, ef_construction=100, M=16)\n",
    "        self.bank.set_ef(100)\n",
    "        self.bank.set_num_threads(4)\n",
    "        self.bank.add_items(embedding)"
   ]
  },
  {
   "cell_type": "code",
   "execution_count": 10,
   "metadata": {
    "collapsed": false,
    "pycharm": {
     "name": "#%%\n"
    }
   },
   "outputs": [],
   "source": [
    "\n",
    "# def train(instance_loss,cluster_loss):\n",
    "#     loss_epoch = 0\n",
    "#     for step, (data,label) in enumerate(scDataset):\n",
    "#         optimizer.zero_grad()\n",
    "        \n",
    "#         x_i=data.clone().numpy()\n",
    "        \n",
    "#         labels, distances = p.knn_query(x_i, k=31)\n",
    "#         labels=labels.squeeze()\n",
    "#         contrastive=x_ndarray[labels.tolist()]\n",
    "#         input=np.row_stack((contrastive,x_i))\n",
    "#         input_1=input.copy()\n",
    "#         np.random.shuffle(input_1)\n",
    "#         x_a=torch.from_numpy(input).to('cuda')\n",
    "#         x_b=torch.from_numpy(input_1).to('cuda')\n",
    "        \n",
    "#         z_i,z_j,c_i,c_j=model(x_a,x_b)\n",
    "#         loss_instance=instance_loss(z_i,z_j)\n",
    "#         loss_cluster=cluster_loss(c_i,c_j)\n",
    "#         loss = loss_instance + loss_cluster\n",
    "#         loss.backward()\n",
    "#         optimizer.step()\n",
    "#         if step % 1000 == 0:\n",
    "#             print(f\"Step [{step}/{len(scDataLoader)}]\\t loss_instance: {loss_instance.item()}\\t loss_cluster: {loss_cluster.item()}\")\n",
    "#         loss_epoch += loss.item()\n",
    "#     return loss_epoch\n"
   ]
  },
  {
   "cell_type": "code",
   "execution_count": 11,
   "metadata": {},
   "outputs": [],
   "source": [
    "def train(instance_loss,cluster_loss,memory_bank,model,epoch):\n",
    "    loss_epoch=0\n",
    "    for step,(data,label) in enumerate(scDataLoader):\n",
    "        optimizer.zero_grad()\n",
    "        \n",
    "        # if epoch<20:\n",
    "        embedding_data=data.numpy().copy()\n",
    "        data=data.to('cuda')\n",
    "        # else:\n",
    "        #     data=data.to('cuda')\n",
    "        #     embedding_data=model.forward_embedding(data).cpu().detach().numpy()    \n",
    "        contrast_samples=memory_bank.generateContrast(embedding_data)\n",
    "        iter_times=contrast_samples.shape[0]\n",
    "        for sample in contrast_samples:\n",
    "            # print(f'sample shape:\\n{sample.shape}')\n",
    "            # print(f'data shape:\\n{data.shape}')\n",
    "            x_i=data.clone()\n",
    "            x_j=torch.tensor(sample,dtype=torch.float32).to('cuda')\n",
    "\n",
    "            z_i,z_j,c_i,c_j=model(x_i,x_j)\n",
    "            loss_instance=instance_loss(z_i,z_j)\n",
    "            loss_cluster=cluster_loss(c_i,c_j)\n",
    "            loss = loss_instance + loss_cluster\n",
    "            # print(f'------ loss:\\n{loss}')\n",
    "            loss.backward()\n",
    "            optimizer.step()\n",
    "            loss_epoch+=loss.item()\n",
    "        if step % 2 == 0:\n",
    "                print(f\"Step [{step}/{len(scDataLoader)}]\\t loss_instance: {loss_instance.item()}\\t loss_cluster: {loss_cluster.item()}\")\n",
    "            \n",
    "    return loss_epoch/iter_times"
   ]
  },
  {
   "cell_type": "code",
   "execution_count": 12,
   "metadata": {
    "collapsed": false,
    "pycharm": {
     "name": "#%%\n"
    }
   },
   "outputs": [],
   "source": [
    "def inference(loader, model, device):\n",
    "    model.eval()\n",
    "    feature_vector = []\n",
    "    labels_vector = []\n",
    "    for step, (x, y) in enumerate(loader):\n",
    "        x = x.to(device)\n",
    "        with torch.no_grad():\n",
    "            c = model.forward_cluster(x)\n",
    "        c = c.detach()\n",
    "        feature_vector.extend(c.cpu().detach().numpy())\n",
    "        labels_vector.extend(y.numpy())\n",
    "        if step % 1000 == 0:\n",
    "            print(f\"Step [{step}/{len(loader)}]\\t Computing features...\")\n",
    "    feature_vector = np.array(feature_vector)\n",
    "    labels_vector = np.array(labels_vector)\n",
    "    print(\"Features shape {}\".format(feature_vector.shape))\n",
    "    # print(feature_vector.shape, labels_vector.shape)\n",
    "    return feature_vector, labels_vector"
   ]
  },
  {
   "cell_type": "code",
   "execution_count": 13,
   "metadata": {
    "collapsed": false,
    "pycharm": {
     "name": "#%%\n"
    }
   },
   "outputs": [],
   "source": [
    "from evaluation import evaluation\n",
    "def test():\n",
    "    device = torch.device(\"cuda\" if torch.cuda.is_available() else \"cpu\")\n",
    "    X, Y = inference(scDataLoader, model, device)\n",
    "    # print(X.shape,Y.shape)\n",
    "    nmi, ari, f, acc = evaluation.evaluate(Y.reshape(-1), X)\n",
    "    # print('NMI = {:.4f} ARI = {:.4f} F = {:.4f} ACC = {:.4f}'.format(nmi, ari, f, acc))\n",
    "    return nmi, ari, f, acc"
   ]
  },
  {
   "cell_type": "code",
   "execution_count": 14,
   "metadata": {
    "collapsed": false,
    "pycharm": {
     "name": "#%%\n"
    }
   },
   "outputs": [
    {
     "name": "stderr",
     "output_type": "stream",
     "text": [
      "C:\\Users\\Tom-G\\.conda\\envs\\torchenv\\lib\\site-packages\\torch\\nn\\modules\\container.py:141: UserWarning: Implicit dimension choice for softmax has been deprecated. Change the call to include dim=X as an argument.\n",
      "  input = module(input)\n"
     ]
    },
    {
     "name": "stdout",
     "output_type": "stream",
     "text": [
      "Step [0/8]\t loss_instance: 7.61228609085083\t loss_cluster: 3.297912836074829\n",
      "Step [2/8]\t loss_instance: 7.445685863494873\t loss_cluster: 3.2972912788391113\n",
      "Step [4/8]\t loss_instance: 7.142418384552002\t loss_cluster: 3.294926404953003\n",
      "Step [6/8]\t loss_instance: 7.0496087074279785\t loss_cluster: 3.2867186069488525\n",
      "\n",
      "Epoch [1/500]\t Loss: 10.603483784198762 \n",
      "\n",
      "Step [0/8]\t Computing features...\n",
      "Features shape (8192,)\n",
      "14\n",
      "Test NMI = 0.4518 ARI = 0.2688 F = 0.4857 ACC = 0.4720\n",
      "================================================================\n",
      "\n"
     ]
    },
    {
     "name": "stderr",
     "output_type": "stream",
     "text": [
      "C:\\Users\\Tom-G\\.conda\\envs\\torchenv\\lib\\site-packages\\torch\\nn\\modules\\container.py:141: UserWarning: Implicit dimension choice for softmax has been deprecated. Change the call to include dim=X as an argument.\n",
      "  input = module(input)\n"
     ]
    },
    {
     "name": "stdout",
     "output_type": "stream",
     "text": [
      "Step [0/8]\t loss_instance: 7.002833366394043\t loss_cluster: 3.2541325092315674\n",
      "Step [2/8]\t loss_instance: 6.873976230621338\t loss_cluster: 3.1984798908233643\n",
      "Step [4/8]\t loss_instance: 6.74962854385376\t loss_cluster: 3.1479127407073975\n",
      "Step [6/8]\t loss_instance: 6.6929216384887695\t loss_cluster: 3.0801279544830322\n",
      "\n",
      "Epoch [2/500]\t Loss: 9.97397472858429 \n",
      "\n",
      "Step [0/8]\t Computing features...\n",
      "Features shape (8192,)\n",
      "14\n",
      "Test NMI = 0.5510 ARI = 0.3913 F = 0.5222 ACC = 0.5077\n",
      "================================================================\n",
      "\n"
     ]
    },
    {
     "name": "stderr",
     "output_type": "stream",
     "text": [
      "C:\\Users\\Tom-G\\.conda\\envs\\torchenv\\lib\\site-packages\\torch\\nn\\modules\\container.py:141: UserWarning: Implicit dimension choice for softmax has been deprecated. Change the call to include dim=X as an argument.\n",
      "  input = module(input)\n"
     ]
    },
    {
     "name": "stdout",
     "output_type": "stream",
     "text": [
      "Step [0/8]\t loss_instance: 6.584454536437988\t loss_cluster: 3.029937505722046\n",
      "Step [2/8]\t loss_instance: 6.5612335205078125\t loss_cluster: 2.95332407951355\n",
      "Step [4/8]\t loss_instance: 6.491179943084717\t loss_cluster: 2.9150643348693848\n",
      "Step [6/8]\t loss_instance: 6.468195915222168\t loss_cluster: 2.854261636734009\n",
      "\n",
      "Epoch [3/500]\t Loss: 9.449987947940826 \n",
      "\n",
      "Step [0/8]\t Computing features...\n",
      "Features shape (8192,)\n",
      "14\n",
      "Test NMI = 0.6728 ARI = 0.6156 F = 0.6885 ACC = 0.7158\n",
      "================================================================\n",
      "\n"
     ]
    },
    {
     "name": "stderr",
     "output_type": "stream",
     "text": [
      "C:\\Users\\Tom-G\\.conda\\envs\\torchenv\\lib\\site-packages\\torch\\nn\\modules\\container.py:141: UserWarning: Implicit dimension choice for softmax has been deprecated. Change the call to include dim=X as an argument.\n",
      "  input = module(input)\n"
     ]
    },
    {
     "name": "stdout",
     "output_type": "stream",
     "text": [
      "Step [0/8]\t loss_instance: 6.455264091491699\t loss_cluster: 2.772243022918701\n",
      "Step [2/8]\t loss_instance: 6.371006965637207\t loss_cluster: 2.6495587825775146\n",
      "Step [4/8]\t loss_instance: 6.356478214263916\t loss_cluster: 2.557412624359131\n",
      "Step [6/8]\t loss_instance: 6.354331016540527\t loss_cluster: 2.4596617221832275\n",
      "\n",
      "Epoch [4/500]\t Loss: 8.962336266040802 \n",
      "\n",
      "Step [0/8]\t Computing features...\n",
      "Features shape (8192,)\n",
      "14\n",
      "Test NMI = 0.7431 ARI = 0.7405 F = 0.7909 ACC = 0.7549\n",
      "================================================================\n",
      "\n"
     ]
    },
    {
     "name": "stderr",
     "output_type": "stream",
     "text": [
      "C:\\Users\\Tom-G\\.conda\\envs\\torchenv\\lib\\site-packages\\torch\\nn\\modules\\container.py:141: UserWarning: Implicit dimension choice for softmax has been deprecated. Change the call to include dim=X as an argument.\n",
      "  input = module(input)\n"
     ]
    },
    {
     "name": "stdout",
     "output_type": "stream",
     "text": [
      "Step [0/8]\t loss_instance: 6.327881813049316\t loss_cluster: 2.393219470977783\n",
      "Step [2/8]\t loss_instance: 6.321734428405762\t loss_cluster: 2.3459765911102295\n",
      "Step [4/8]\t loss_instance: 6.303402423858643\t loss_cluster: 2.322899341583252\n",
      "Step [6/8]\t loss_instance: 6.27186918258667\t loss_cluster: 2.2525041103363037\n",
      "\n",
      "Epoch [5/500]\t Loss: 8.609003746509552 \n",
      "\n",
      "Step [0/8]\t Computing features...\n",
      "Features shape (8192,)\n",
      "14\n",
      "Test NMI = 0.7069 ARI = 0.5380 F = 0.6257 ACC = 0.5850\n",
      "================================================================\n",
      "\n"
     ]
    },
    {
     "name": "stderr",
     "output_type": "stream",
     "text": [
      "C:\\Users\\Tom-G\\.conda\\envs\\torchenv\\lib\\site-packages\\torch\\nn\\modules\\container.py:141: UserWarning: Implicit dimension choice for softmax has been deprecated. Change the call to include dim=X as an argument.\n",
      "  input = module(input)\n"
     ]
    },
    {
     "name": "stdout",
     "output_type": "stream",
     "text": [
      "Step [0/8]\t loss_instance: 6.273942470550537\t loss_cluster: 2.246213912963867\n",
      "Step [2/8]\t loss_instance: 6.245227813720703\t loss_cluster: 2.2521049976348877\n",
      "Step [4/8]\t loss_instance: 6.249255657196045\t loss_cluster: 2.1847612857818604\n",
      "Step [6/8]\t loss_instance: 6.225250720977783\t loss_cluster: 2.122907876968384\n",
      "\n",
      "Epoch [6/500]\t Loss: 8.42566728591919 \n",
      "\n",
      "Step [0/8]\t Computing features...\n",
      "Features shape (8192,)\n",
      "14\n",
      "Test NMI = 0.6834 ARI = 0.5039 F = 0.6017 ACC = 0.5344\n",
      "================================================================\n",
      "\n"
     ]
    },
    {
     "name": "stderr",
     "output_type": "stream",
     "text": [
      "C:\\Users\\Tom-G\\.conda\\envs\\torchenv\\lib\\site-packages\\torch\\nn\\modules\\container.py:141: UserWarning: Implicit dimension choice for softmax has been deprecated. Change the call to include dim=X as an argument.\n",
      "  input = module(input)\n"
     ]
    },
    {
     "name": "stdout",
     "output_type": "stream",
     "text": [
      "Step [0/8]\t loss_instance: 6.222774982452393\t loss_cluster: 2.072645902633667\n",
      "Step [2/8]\t loss_instance: 6.222740650177002\t loss_cluster: 2.0811760425567627\n",
      "Step [4/8]\t loss_instance: 6.220949649810791\t loss_cluster: 2.0735480785369873\n",
      "Step [6/8]\t loss_instance: 6.202395915985107\t loss_cluster: 2.0738213062286377\n",
      "\n",
      "Epoch [7/500]\t Loss: 8.26107165813446 \n",
      "\n",
      "Step [0/8]\t Computing features...\n",
      "Features shape (8192,)\n",
      "14\n",
      "Test NMI = 0.6579 ARI = 0.4581 F = 0.5648 ACC = 0.5483\n",
      "================================================================\n",
      "\n"
     ]
    },
    {
     "name": "stderr",
     "output_type": "stream",
     "text": [
      "C:\\Users\\Tom-G\\.conda\\envs\\torchenv\\lib\\site-packages\\torch\\nn\\modules\\container.py:141: UserWarning: Implicit dimension choice for softmax has been deprecated. Change the call to include dim=X as an argument.\n",
      "  input = module(input)\n"
     ]
    },
    {
     "name": "stdout",
     "output_type": "stream",
     "text": [
      "Step [0/8]\t loss_instance: 6.223301410675049\t loss_cluster: 2.044778823852539\n",
      "Step [2/8]\t loss_instance: 6.1834025382995605\t loss_cluster: 1.9970183372497559\n",
      "Step [4/8]\t loss_instance: 6.189847469329834\t loss_cluster: 1.9799848794937134\n",
      "Step [6/8]\t loss_instance: 6.220609664916992\t loss_cluster: 2.0132484436035156\n",
      "\n",
      "Epoch [8/500]\t Loss: 8.17663141489029 \n",
      "\n",
      "Step [0/8]\t Computing features...\n",
      "Features shape (8192,)\n",
      "14\n",
      "Test NMI = 0.6632 ARI = 0.4404 F = 0.5472 ACC = 0.5408\n",
      "================================================================\n",
      "\n"
     ]
    },
    {
     "name": "stderr",
     "output_type": "stream",
     "text": [
      "C:\\Users\\Tom-G\\.conda\\envs\\torchenv\\lib\\site-packages\\torch\\nn\\modules\\container.py:141: UserWarning: Implicit dimension choice for softmax has been deprecated. Change the call to include dim=X as an argument.\n",
      "  input = module(input)\n"
     ]
    },
    {
     "name": "stdout",
     "output_type": "stream",
     "text": [
      "Step [0/8]\t loss_instance: 6.188055992126465\t loss_cluster: 1.9758309125900269\n",
      "Step [2/8]\t loss_instance: 6.185068607330322\t loss_cluster: 1.9621254205703735\n",
      "Step [4/8]\t loss_instance: 6.187389850616455\t loss_cluster: 1.9387942552566528\n",
      "Step [6/8]\t loss_instance: 6.185793876647949\t loss_cluster: 1.9428882598876953\n",
      "\n",
      "Epoch [9/500]\t Loss: 8.103970634937287 \n",
      "\n",
      "Step [0/8]\t Computing features...\n",
      "Features shape (8192,)\n",
      "14\n",
      "Test NMI = 0.6584 ARI = 0.4184 F = 0.5308 ACC = 0.5118\n",
      "================================================================\n",
      "\n"
     ]
    },
    {
     "name": "stderr",
     "output_type": "stream",
     "text": [
      "C:\\Users\\Tom-G\\.conda\\envs\\torchenv\\lib\\site-packages\\torch\\nn\\modules\\container.py:141: UserWarning: Implicit dimension choice for softmax has been deprecated. Change the call to include dim=X as an argument.\n",
      "  input = module(input)\n"
     ]
    },
    {
     "name": "stdout",
     "output_type": "stream",
     "text": [
      "Step [0/8]\t loss_instance: 6.193051815032959\t loss_cluster: 1.9380059242248535\n",
      "Step [2/8]\t loss_instance: 6.194209575653076\t loss_cluster: 1.9659394025802612\n",
      "Step [4/8]\t loss_instance: 6.170901298522949\t loss_cluster: 1.925926923751831\n",
      "Step [6/8]\t loss_instance: 6.157951354980469\t loss_cluster: 1.883872628211975\n",
      "\n",
      "Epoch [10/500]\t Loss: 8.05599365234375 \n",
      "\n",
      "Step [0/8]\t Computing features...\n",
      "Features shape (8192,)\n",
      "14\n",
      "Test NMI = 0.6771 ARI = 0.4867 F = 0.5909 ACC = 0.5712\n",
      "================================================================\n",
      "\n"
     ]
    },
    {
     "name": "stderr",
     "output_type": "stream",
     "text": [
      "C:\\Users\\Tom-G\\.conda\\envs\\torchenv\\lib\\site-packages\\torch\\nn\\modules\\container.py:141: UserWarning: Implicit dimension choice for softmax has been deprecated. Change the call to include dim=X as an argument.\n",
      "  input = module(input)\n"
     ]
    },
    {
     "name": "stdout",
     "output_type": "stream",
     "text": [
      "Step [0/8]\t loss_instance: 6.176188945770264\t loss_cluster: 1.9159784317016602\n",
      "Step [2/8]\t loss_instance: 6.155564308166504\t loss_cluster: 1.8662285804748535\n",
      "Step [4/8]\t loss_instance: 6.17473840713501\t loss_cluster: 1.8817803859710693\n",
      "Step [6/8]\t loss_instance: 6.15372896194458\t loss_cluster: 1.883430004119873\n",
      "\n",
      "Epoch [11/500]\t Loss: 7.991913568973541 \n",
      "\n",
      "Step [0/8]\t Computing features...\n",
      "Features shape (8192,)\n",
      "14\n",
      "Test NMI = 0.6686 ARI = 0.4380 F = 0.5516 ACC = 0.5195\n",
      "================================================================\n",
      "\n"
     ]
    },
    {
     "name": "stderr",
     "output_type": "stream",
     "text": [
      "C:\\Users\\Tom-G\\.conda\\envs\\torchenv\\lib\\site-packages\\torch\\nn\\modules\\container.py:141: UserWarning: Implicit dimension choice for softmax has been deprecated. Change the call to include dim=X as an argument.\n",
      "  input = module(input)\n"
     ]
    },
    {
     "name": "stdout",
     "output_type": "stream",
     "text": [
      "Step [0/8]\t loss_instance: 6.1478400230407715\t loss_cluster: 1.8569525480270386\n",
      "Step [2/8]\t loss_instance: 6.135277271270752\t loss_cluster: 1.8584097623825073\n",
      "Step [4/8]\t loss_instance: 6.1684064865112305\t loss_cluster: 1.855169415473938\n",
      "Step [6/8]\t loss_instance: 6.158331394195557\t loss_cluster: 1.8574106693267822\n",
      "\n",
      "Epoch [12/500]\t Loss: 7.950091779232025 \n",
      "\n",
      "Step [0/8]\t Computing features...\n",
      "Features shape (8192,)\n",
      "14\n",
      "Test NMI = 0.6703 ARI = 0.4521 F = 0.5648 ACC = 0.5468\n",
      "================================================================\n",
      "\n"
     ]
    },
    {
     "name": "stderr",
     "output_type": "stream",
     "text": [
      "C:\\Users\\Tom-G\\.conda\\envs\\torchenv\\lib\\site-packages\\torch\\nn\\modules\\container.py:141: UserWarning: Implicit dimension choice for softmax has been deprecated. Change the call to include dim=X as an argument.\n",
      "  input = module(input)\n"
     ]
    },
    {
     "name": "stdout",
     "output_type": "stream",
     "text": [
      "Step [0/8]\t loss_instance: 6.146825790405273\t loss_cluster: 1.8334916830062866\n",
      "Step [2/8]\t loss_instance: 6.154892921447754\t loss_cluster: 1.8127809762954712\n",
      "Step [4/8]\t loss_instance: 6.163236141204834\t loss_cluster: 1.8543694019317627\n",
      "Step [6/8]\t loss_instance: 6.124884128570557\t loss_cluster: 1.8100292682647705\n",
      "\n",
      "Epoch [13/500]\t Loss: 7.915246933698654 \n",
      "\n",
      "Step [0/8]\t Computing features...\n",
      "Features shape (8192,)\n",
      "14\n",
      "Test NMI = 0.6772 ARI = 0.4310 F = 0.5461 ACC = 0.5089\n",
      "================================================================\n",
      "\n"
     ]
    },
    {
     "name": "stderr",
     "output_type": "stream",
     "text": [
      "C:\\Users\\Tom-G\\.conda\\envs\\torchenv\\lib\\site-packages\\torch\\nn\\modules\\container.py:141: UserWarning: Implicit dimension choice for softmax has been deprecated. Change the call to include dim=X as an argument.\n",
      "  input = module(input)\n"
     ]
    },
    {
     "name": "stdout",
     "output_type": "stream",
     "text": [
      "Step [0/8]\t loss_instance: 6.145312786102295\t loss_cluster: 1.8029155731201172\n",
      "Step [2/8]\t loss_instance: 6.132527828216553\t loss_cluster: 1.8225198984146118\n",
      "Step [4/8]\t loss_instance: 6.143876552581787\t loss_cluster: 1.7941474914550781\n",
      "Step [6/8]\t loss_instance: 6.124905586242676\t loss_cluster: 1.786520004272461\n",
      "\n",
      "Epoch [14/500]\t Loss: 7.899785274267197 \n",
      "\n",
      "Step [0/8]\t Computing features...\n",
      "Features shape (8192,)\n",
      "14\n",
      "Test NMI = 0.6657 ARI = 0.4153 F = 0.5322 ACC = 0.5166\n",
      "================================================================\n",
      "\n"
     ]
    },
    {
     "name": "stderr",
     "output_type": "stream",
     "text": [
      "C:\\Users\\Tom-G\\.conda\\envs\\torchenv\\lib\\site-packages\\torch\\nn\\modules\\container.py:141: UserWarning: Implicit dimension choice for softmax has been deprecated. Change the call to include dim=X as an argument.\n",
      "  input = module(input)\n"
     ]
    },
    {
     "name": "stdout",
     "output_type": "stream",
     "text": [
      "Step [0/8]\t loss_instance: 6.147782325744629\t loss_cluster: 1.797310471534729\n",
      "Step [2/8]\t loss_instance: 6.141030788421631\t loss_cluster: 1.7883208990097046\n",
      "Step [4/8]\t loss_instance: 6.14502477645874\t loss_cluster: 1.7963042259216309\n",
      "Step [6/8]\t loss_instance: 6.123411655426025\t loss_cluster: 1.7802913188934326\n",
      "\n",
      "Epoch [15/500]\t Loss: 7.868366521596909 \n",
      "\n",
      "Step [0/8]\t Computing features...\n",
      "Features shape (8192,)\n",
      "14\n",
      "Test NMI = 0.6946 ARI = 0.4425 F = 0.5582 ACC = 0.5236\n",
      "================================================================\n",
      "\n"
     ]
    },
    {
     "name": "stderr",
     "output_type": "stream",
     "text": [
      "C:\\Users\\Tom-G\\.conda\\envs\\torchenv\\lib\\site-packages\\torch\\nn\\modules\\container.py:141: UserWarning: Implicit dimension choice for softmax has been deprecated. Change the call to include dim=X as an argument.\n",
      "  input = module(input)\n"
     ]
    },
    {
     "name": "stdout",
     "output_type": "stream",
     "text": [
      "Step [0/8]\t loss_instance: 6.145148754119873\t loss_cluster: 1.7911677360534668\n",
      "Step [2/8]\t loss_instance: 6.136209011077881\t loss_cluster: 1.7826602458953857\n",
      "Step [4/8]\t loss_instance: 6.1223249435424805\t loss_cluster: 1.7700897455215454\n",
      "Step [6/8]\t loss_instance: 6.117380619049072\t loss_cluster: 1.780543565750122\n",
      "\n",
      "Epoch [16/500]\t Loss: 7.845848578214645 \n",
      "\n",
      "Step [0/8]\t Computing features...\n",
      "Features shape (8192,)\n",
      "14\n",
      "Test NMI = 0.6709 ARI = 0.4268 F = 0.5423 ACC = 0.5372\n",
      "================================================================\n",
      "\n"
     ]
    },
    {
     "name": "stderr",
     "output_type": "stream",
     "text": [
      "C:\\Users\\Tom-G\\.conda\\envs\\torchenv\\lib\\site-packages\\torch\\nn\\modules\\container.py:141: UserWarning: Implicit dimension choice for softmax has been deprecated. Change the call to include dim=X as an argument.\n",
      "  input = module(input)\n"
     ]
    },
    {
     "name": "stdout",
     "output_type": "stream",
     "text": [
      "Step [0/8]\t loss_instance: 6.13939905166626\t loss_cluster: 1.7951810359954834\n",
      "Step [2/8]\t loss_instance: 6.129212856292725\t loss_cluster: 1.7625007629394531\n",
      "Step [4/8]\t loss_instance: 6.127255439758301\t loss_cluster: 1.7608314752578735\n",
      "Step [6/8]\t loss_instance: 6.140804290771484\t loss_cluster: 1.8072359561920166\n",
      "\n",
      "Epoch [17/500]\t Loss: 7.852754980325699 \n",
      "\n",
      "Step [0/8]\t Computing features...\n",
      "Features shape (8192,)\n",
      "14\n",
      "Test NMI = 0.6639 ARI = 0.3904 F = 0.5102 ACC = 0.4862\n",
      "================================================================\n",
      "\n"
     ]
    },
    {
     "name": "stderr",
     "output_type": "stream",
     "text": [
      "C:\\Users\\Tom-G\\.conda\\envs\\torchenv\\lib\\site-packages\\torch\\nn\\modules\\container.py:141: UserWarning: Implicit dimension choice for softmax has been deprecated. Change the call to include dim=X as an argument.\n",
      "  input = module(input)\n"
     ]
    },
    {
     "name": "stdout",
     "output_type": "stream",
     "text": [
      "Step [0/8]\t loss_instance: 6.1340436935424805\t loss_cluster: 1.8034271001815796\n",
      "Step [2/8]\t loss_instance: 6.123316764831543\t loss_cluster: 1.7636265754699707\n",
      "Step [4/8]\t loss_instance: 6.123795986175537\t loss_cluster: 1.766191840171814\n",
      "Step [6/8]\t loss_instance: 6.120578289031982\t loss_cluster: 1.7645825147628784\n",
      "\n",
      "Epoch [18/500]\t Loss: 7.829289555549622 \n",
      "\n",
      "Step [0/8]\t Computing features...\n",
      "Features shape (8192,)\n",
      "14\n",
      "Test NMI = 0.6866 ARI = 0.4064 F = 0.5258 ACC = 0.4849\n",
      "================================================================\n",
      "\n"
     ]
    },
    {
     "name": "stderr",
     "output_type": "stream",
     "text": [
      "C:\\Users\\Tom-G\\.conda\\envs\\torchenv\\lib\\site-packages\\torch\\nn\\modules\\container.py:141: UserWarning: Implicit dimension choice for softmax has been deprecated. Change the call to include dim=X as an argument.\n",
      "  input = module(input)\n"
     ]
    },
    {
     "name": "stdout",
     "output_type": "stream",
     "text": [
      "Step [0/8]\t loss_instance: 6.113110065460205\t loss_cluster: 1.7714446783065796\n",
      "Step [2/8]\t loss_instance: 6.112809658050537\t loss_cluster: 1.7676359415054321\n",
      "Step [4/8]\t loss_instance: 6.1176066398620605\t loss_cluster: 1.7688575983047485\n",
      "Step [6/8]\t loss_instance: 6.123197078704834\t loss_cluster: 1.7461910247802734\n",
      "\n",
      "Epoch [19/500]\t Loss: 7.809621053934097 \n",
      "\n",
      "Step [0/8]\t Computing features...\n",
      "Features shape (8192,)\n",
      "14\n",
      "Test NMI = 0.6814 ARI = 0.4184 F = 0.5365 ACC = 0.5106\n",
      "================================================================\n",
      "\n"
     ]
    },
    {
     "name": "stderr",
     "output_type": "stream",
     "text": [
      "C:\\Users\\Tom-G\\.conda\\envs\\torchenv\\lib\\site-packages\\torch\\nn\\modules\\container.py:141: UserWarning: Implicit dimension choice for softmax has been deprecated. Change the call to include dim=X as an argument.\n",
      "  input = module(input)\n"
     ]
    },
    {
     "name": "stdout",
     "output_type": "stream",
     "text": [
      "Step [0/8]\t loss_instance: 6.099996566772461\t loss_cluster: 1.7418811321258545\n",
      "Step [2/8]\t loss_instance: 6.1113691329956055\t loss_cluster: 1.7603366374969482\n",
      "Step [4/8]\t loss_instance: 6.120905876159668\t loss_cluster: 1.7559247016906738\n",
      "Step [6/8]\t loss_instance: 6.103540897369385\t loss_cluster: 1.7473981380462646\n",
      "\n",
      "Epoch [20/500]\t Loss: 7.79163316488266 \n",
      "\n",
      "Step [0/8]\t Computing features...\n",
      "Features shape (8192,)\n",
      "14\n",
      "Test NMI = 0.6924 ARI = 0.4082 F = 0.5272 ACC = 0.4825\n",
      "================================================================\n",
      "\n"
     ]
    },
    {
     "name": "stderr",
     "output_type": "stream",
     "text": [
      "C:\\Users\\Tom-G\\.conda\\envs\\torchenv\\lib\\site-packages\\torch\\nn\\modules\\container.py:141: UserWarning: Implicit dimension choice for softmax has been deprecated. Change the call to include dim=X as an argument.\n",
      "  input = module(input)\n"
     ]
    },
    {
     "name": "stdout",
     "output_type": "stream",
     "text": [
      "Step [0/8]\t loss_instance: 6.085784912109375\t loss_cluster: 1.7275278568267822\n",
      "Step [2/8]\t loss_instance: 6.115299701690674\t loss_cluster: 1.738364338874817\n",
      "Step [4/8]\t loss_instance: 6.1031060218811035\t loss_cluster: 1.7482852935791016\n",
      "Step [6/8]\t loss_instance: 6.090433597564697\t loss_cluster: 1.7267930507659912\n",
      "\n",
      "Epoch [21/500]\t Loss: 7.784400796890258 \n",
      "\n",
      "Step [0/8]\t Computing features...\n",
      "Features shape (8192,)\n",
      "14\n",
      "Test NMI = 0.6840 ARI = 0.4122 F = 0.5303 ACC = 0.5114\n",
      "================================================================\n",
      "\n"
     ]
    },
    {
     "name": "stderr",
     "output_type": "stream",
     "text": [
      "C:\\Users\\Tom-G\\.conda\\envs\\torchenv\\lib\\site-packages\\torch\\nn\\modules\\container.py:141: UserWarning: Implicit dimension choice for softmax has been deprecated. Change the call to include dim=X as an argument.\n",
      "  input = module(input)\n"
     ]
    },
    {
     "name": "stdout",
     "output_type": "stream",
     "text": [
      "Step [0/8]\t loss_instance: 6.106783866882324\t loss_cluster: 1.758043646812439\n",
      "Step [2/8]\t loss_instance: 6.102546691894531\t loss_cluster: 1.762789249420166\n",
      "Step [4/8]\t loss_instance: 6.112119674682617\t loss_cluster: 1.788214921951294\n",
      "Step [6/8]\t loss_instance: 6.106150150299072\t loss_cluster: 1.7688087224960327\n",
      "\n",
      "Epoch [22/500]\t Loss: 7.785200399160385 \n",
      "\n",
      "Step [0/8]\t Computing features...\n",
      "Features shape (8192,)\n",
      "14\n",
      "Test NMI = 0.6859 ARI = 0.4012 F = 0.5213 ACC = 0.4636\n",
      "================================================================\n",
      "\n"
     ]
    },
    {
     "name": "stderr",
     "output_type": "stream",
     "text": [
      "C:\\Users\\Tom-G\\.conda\\envs\\torchenv\\lib\\site-packages\\torch\\nn\\modules\\container.py:141: UserWarning: Implicit dimension choice for softmax has been deprecated. Change the call to include dim=X as an argument.\n",
      "  input = module(input)\n"
     ]
    },
    {
     "name": "stdout",
     "output_type": "stream",
     "text": [
      "Step [0/8]\t loss_instance: 6.107235431671143\t loss_cluster: 1.7425869703292847\n",
      "Step [2/8]\t loss_instance: 6.088302135467529\t loss_cluster: 1.7216746807098389\n",
      "Step [4/8]\t loss_instance: 6.108781814575195\t loss_cluster: 1.7624129056930542\n",
      "Step [6/8]\t loss_instance: 6.083226680755615\t loss_cluster: 1.7523802518844604\n",
      "\n",
      "Epoch [23/500]\t Loss: 7.763951045274735 \n",
      "\n",
      "Step [0/8]\t Computing features...\n",
      "Features shape (8192,)\n",
      "14\n",
      "Test NMI = 0.6846 ARI = 0.4012 F = 0.5197 ACC = 0.4874\n",
      "================================================================\n",
      "\n"
     ]
    },
    {
     "name": "stderr",
     "output_type": "stream",
     "text": [
      "C:\\Users\\Tom-G\\.conda\\envs\\torchenv\\lib\\site-packages\\torch\\nn\\modules\\container.py:141: UserWarning: Implicit dimension choice for softmax has been deprecated. Change the call to include dim=X as an argument.\n",
      "  input = module(input)\n"
     ]
    },
    {
     "name": "stdout",
     "output_type": "stream",
     "text": [
      "Step [0/8]\t loss_instance: 6.085472106933594\t loss_cluster: 1.7455646991729736\n",
      "Step [2/8]\t loss_instance: 6.10221004486084\t loss_cluster: 1.7532387971878052\n",
      "Step [4/8]\t loss_instance: 6.088286876678467\t loss_cluster: 1.7299630641937256\n",
      "Step [6/8]\t loss_instance: 6.093945026397705\t loss_cluster: 1.7286216020584106\n",
      "\n",
      "Epoch [24/500]\t Loss: 7.766156542301178 \n",
      "\n",
      "Step [0/8]\t Computing features...\n",
      "Features shape (8192,)\n",
      "14\n",
      "Test NMI = 0.6779 ARI = 0.4029 F = 0.5207 ACC = 0.4988\n",
      "================================================================\n",
      "\n"
     ]
    },
    {
     "name": "stderr",
     "output_type": "stream",
     "text": [
      "C:\\Users\\Tom-G\\.conda\\envs\\torchenv\\lib\\site-packages\\torch\\nn\\modules\\container.py:141: UserWarning: Implicit dimension choice for softmax has been deprecated. Change the call to include dim=X as an argument.\n",
      "  input = module(input)\n"
     ]
    },
    {
     "name": "stdout",
     "output_type": "stream",
     "text": [
      "Step [0/8]\t loss_instance: 6.096552848815918\t loss_cluster: 1.7436362504959106\n",
      "Step [2/8]\t loss_instance: 6.092259407043457\t loss_cluster: 1.7380797863006592\n",
      "Step [4/8]\t loss_instance: 6.105076789855957\t loss_cluster: 1.7623604536056519\n",
      "Step [6/8]\t loss_instance: 6.069108009338379\t loss_cluster: 1.7139960527420044\n",
      "\n",
      "Epoch [25/500]\t Loss: 7.751797920465469 \n",
      "\n",
      "Step [0/8]\t Computing features...\n",
      "Features shape (8192,)\n",
      "14\n",
      "Test NMI = 0.6916 ARI = 0.4015 F = 0.5215 ACC = 0.4647\n",
      "================================================================\n",
      "\n"
     ]
    },
    {
     "name": "stderr",
     "output_type": "stream",
     "text": [
      "C:\\Users\\Tom-G\\.conda\\envs\\torchenv\\lib\\site-packages\\torch\\nn\\modules\\container.py:141: UserWarning: Implicit dimension choice for softmax has been deprecated. Change the call to include dim=X as an argument.\n",
      "  input = module(input)\n"
     ]
    },
    {
     "name": "stdout",
     "output_type": "stream",
     "text": [
      "Step [0/8]\t loss_instance: 6.096208572387695\t loss_cluster: 1.7317391633987427\n",
      "Step [2/8]\t loss_instance: 6.097583770751953\t loss_cluster: 1.7413966655731201\n",
      "Step [4/8]\t loss_instance: 6.085442543029785\t loss_cluster: 1.7389549016952515\n",
      "Step [6/8]\t loss_instance: 6.070568084716797\t loss_cluster: 1.7181718349456787\n",
      "\n",
      "Epoch [26/500]\t Loss: 7.74198328256607 \n",
      "\n",
      "Step [0/8]\t Computing features...\n",
      "Features shape (8192,)\n",
      "14\n",
      "Test NMI = 0.6911 ARI = 0.4139 F = 0.5322 ACC = 0.4922\n",
      "================================================================\n",
      "\n"
     ]
    },
    {
     "name": "stderr",
     "output_type": "stream",
     "text": [
      "C:\\Users\\Tom-G\\.conda\\envs\\torchenv\\lib\\site-packages\\torch\\nn\\modules\\container.py:141: UserWarning: Implicit dimension choice for softmax has been deprecated. Change the call to include dim=X as an argument.\n",
      "  input = module(input)\n"
     ]
    },
    {
     "name": "stdout",
     "output_type": "stream",
     "text": [
      "Step [0/8]\t loss_instance: 6.072710990905762\t loss_cluster: 1.7192168235778809\n",
      "Step [2/8]\t loss_instance: 6.073051929473877\t loss_cluster: 1.7126598358154297\n",
      "Step [4/8]\t loss_instance: 6.067689418792725\t loss_cluster: 1.7030930519104004\n",
      "Step [6/8]\t loss_instance: 6.07346773147583\t loss_cluster: 1.715498447418213\n",
      "\n",
      "Epoch [27/500]\t Loss: 7.730994307994843 \n",
      "\n",
      "Step [0/8]\t Computing features...\n",
      "Features shape (8192,)\n",
      "14\n",
      "Test NMI = 0.6941 ARI = 0.4062 F = 0.5259 ACC = 0.4781\n",
      "================================================================\n",
      "\n"
     ]
    },
    {
     "name": "stderr",
     "output_type": "stream",
     "text": [
      "C:\\Users\\Tom-G\\.conda\\envs\\torchenv\\lib\\site-packages\\torch\\nn\\modules\\container.py:141: UserWarning: Implicit dimension choice for softmax has been deprecated. Change the call to include dim=X as an argument.\n",
      "  input = module(input)\n"
     ]
    },
    {
     "name": "stdout",
     "output_type": "stream",
     "text": [
      "Step [0/8]\t loss_instance: 6.085086822509766\t loss_cluster: 1.7212237119674683\n",
      "Step [2/8]\t loss_instance: 6.091228008270264\t loss_cluster: 1.7366864681243896\n",
      "Step [4/8]\t loss_instance: 6.085319995880127\t loss_cluster: 1.7223855257034302\n",
      "Step [6/8]\t loss_instance: 6.082182884216309\t loss_cluster: 1.7261955738067627\n",
      "\n",
      "Epoch [28/500]\t Loss: 7.7324722588062285 \n",
      "\n",
      "Step [0/8]\t Computing features...\n",
      "Features shape (8192,)\n",
      "14\n",
      "Test NMI = 0.6847 ARI = 0.4013 F = 0.5199 ACC = 0.4856\n",
      "================================================================\n",
      "\n"
     ]
    },
    {
     "name": "stderr",
     "output_type": "stream",
     "text": [
      "C:\\Users\\Tom-G\\.conda\\envs\\torchenv\\lib\\site-packages\\torch\\nn\\modules\\container.py:141: UserWarning: Implicit dimension choice for softmax has been deprecated. Change the call to include dim=X as an argument.\n",
      "  input = module(input)\n"
     ]
    },
    {
     "name": "stdout",
     "output_type": "stream",
     "text": [
      "Step [0/8]\t loss_instance: 6.085557460784912\t loss_cluster: 1.7222435474395752\n",
      "Step [2/8]\t loss_instance: 6.083685398101807\t loss_cluster: 1.7497749328613281\n",
      "Step [4/8]\t loss_instance: 6.0936360359191895\t loss_cluster: 1.7449625730514526\n",
      "Step [6/8]\t loss_instance: 6.080162048339844\t loss_cluster: 1.7122341394424438\n",
      "\n",
      "Epoch [29/500]\t Loss: 7.73658476471901 \n",
      "\n",
      "Step [0/8]\t Computing features...\n",
      "Features shape (8192,)\n",
      "14\n",
      "Test NMI = 0.6895 ARI = 0.3942 F = 0.5146 ACC = 0.4546\n",
      "================================================================\n",
      "\n"
     ]
    },
    {
     "name": "stderr",
     "output_type": "stream",
     "text": [
      "C:\\Users\\Tom-G\\.conda\\envs\\torchenv\\lib\\site-packages\\torch\\nn\\modules\\container.py:141: UserWarning: Implicit dimension choice for softmax has been deprecated. Change the call to include dim=X as an argument.\n",
      "  input = module(input)\n"
     ]
    },
    {
     "name": "stdout",
     "output_type": "stream",
     "text": [
      "Step [0/8]\t loss_instance: 6.091871738433838\t loss_cluster: 1.7253390550613403\n",
      "Step [2/8]\t loss_instance: 6.1019816398620605\t loss_cluster: 1.7497780323028564\n",
      "Step [4/8]\t loss_instance: 6.086699485778809\t loss_cluster: 1.7373729944229126\n",
      "Step [6/8]\t loss_instance: 6.071146488189697\t loss_cluster: 1.7147729396820068\n",
      "\n",
      "Epoch [30/500]\t Loss: 7.734747236967086 \n",
      "\n",
      "Step [0/8]\t Computing features...\n",
      "Features shape (8192,)\n",
      "14\n",
      "Test NMI = 0.6834 ARI = 0.4032 F = 0.5220 ACC = 0.4883\n",
      "================================================================\n",
      "\n"
     ]
    },
    {
     "name": "stderr",
     "output_type": "stream",
     "text": [
      "C:\\Users\\Tom-G\\.conda\\envs\\torchenv\\lib\\site-packages\\torch\\nn\\modules\\container.py:141: UserWarning: Implicit dimension choice for softmax has been deprecated. Change the call to include dim=X as an argument.\n",
      "  input = module(input)\n"
     ]
    },
    {
     "name": "stdout",
     "output_type": "stream",
     "text": [
      "Step [0/8]\t loss_instance: 6.100275993347168\t loss_cluster: 1.7570438385009766\n",
      "Step [2/8]\t loss_instance: 6.079312801361084\t loss_cluster: 1.7217323780059814\n",
      "Step [4/8]\t loss_instance: 6.067351341247559\t loss_cluster: 1.7270845174789429\n",
      "Step [6/8]\t loss_instance: 6.094450950622559\t loss_cluster: 1.7351279258728027\n",
      "\n",
      "Epoch [31/500]\t Loss: 7.742236799001693 \n",
      "\n",
      "Step [0/8]\t Computing features...\n",
      "Features shape (8192,)\n",
      "14\n",
      "Test NMI = 0.6828 ARI = 0.3978 F = 0.5182 ACC = 0.4795\n",
      "================================================================\n",
      "\n"
     ]
    },
    {
     "name": "stderr",
     "output_type": "stream",
     "text": [
      "C:\\Users\\Tom-G\\.conda\\envs\\torchenv\\lib\\site-packages\\torch\\nn\\modules\\container.py:141: UserWarning: Implicit dimension choice for softmax has been deprecated. Change the call to include dim=X as an argument.\n",
      "  input = module(input)\n"
     ]
    },
    {
     "name": "stdout",
     "output_type": "stream",
     "text": [
      "Step [0/8]\t loss_instance: 6.085587501525879\t loss_cluster: 1.7490278482437134\n",
      "Step [2/8]\t loss_instance: 6.101062774658203\t loss_cluster: 1.7584624290466309\n",
      "Step [4/8]\t loss_instance: 6.077085494995117\t loss_cluster: 1.7481739521026611\n",
      "Step [6/8]\t loss_instance: 6.078320503234863\t loss_cluster: 1.715874195098877\n",
      "\n",
      "Epoch [32/500]\t Loss: 7.73309126496315 \n",
      "\n",
      "Step [0/8]\t Computing features...\n",
      "Features shape (8192,)\n",
      "14\n",
      "Test NMI = 0.6930 ARI = 0.4018 F = 0.5218 ACC = 0.4669\n",
      "================================================================\n",
      "\n"
     ]
    },
    {
     "name": "stderr",
     "output_type": "stream",
     "text": [
      "C:\\Users\\Tom-G\\.conda\\envs\\torchenv\\lib\\site-packages\\torch\\nn\\modules\\container.py:141: UserWarning: Implicit dimension choice for softmax has been deprecated. Change the call to include dim=X as an argument.\n",
      "  input = module(input)\n"
     ]
    },
    {
     "name": "stdout",
     "output_type": "stream",
     "text": [
      "Step [0/8]\t loss_instance: 6.084855079650879\t loss_cluster: 1.7345261573791504\n",
      "Step [2/8]\t loss_instance: 6.0812764167785645\t loss_cluster: 1.7268558740615845\n",
      "Step [4/8]\t loss_instance: 6.0744781494140625\t loss_cluster: 1.716227412223816\n",
      "Step [6/8]\t loss_instance: 6.090248107910156\t loss_cluster: 1.7286126613616943\n",
      "\n",
      "Epoch [33/500]\t Loss: 7.722382426261902 \n",
      "\n",
      "Step [0/8]\t Computing features...\n",
      "Features shape (8192,)\n",
      "14\n",
      "Test NMI = 0.6920 ARI = 0.4035 F = 0.5223 ACC = 0.4757\n",
      "================================================================\n",
      "\n"
     ]
    },
    {
     "name": "stderr",
     "output_type": "stream",
     "text": [
      "C:\\Users\\Tom-G\\.conda\\envs\\torchenv\\lib\\site-packages\\torch\\nn\\modules\\container.py:141: UserWarning: Implicit dimension choice for softmax has been deprecated. Change the call to include dim=X as an argument.\n",
      "  input = module(input)\n"
     ]
    },
    {
     "name": "stdout",
     "output_type": "stream",
     "text": [
      "Step [0/8]\t loss_instance: 6.079765796661377\t loss_cluster: 1.7411257028579712\n",
      "Step [2/8]\t loss_instance: 6.076003074645996\t loss_cluster: 1.724290370941162\n",
      "Step [4/8]\t loss_instance: 6.064287185668945\t loss_cluster: 1.6935378313064575\n",
      "Step [6/8]\t loss_instance: 6.0803022384643555\t loss_cluster: 1.7181861400604248\n",
      "\n",
      "Epoch [34/500]\t Loss: 7.710513204336166 \n",
      "\n",
      "Step [0/8]\t Computing features...\n",
      "Features shape (8192,)\n",
      "14\n",
      "Test NMI = 0.6931 ARI = 0.4051 F = 0.5251 ACC = 0.4889\n",
      "================================================================\n",
      "\n"
     ]
    },
    {
     "name": "stderr",
     "output_type": "stream",
     "text": [
      "C:\\Users\\Tom-G\\.conda\\envs\\torchenv\\lib\\site-packages\\torch\\nn\\modules\\container.py:141: UserWarning: Implicit dimension choice for softmax has been deprecated. Change the call to include dim=X as an argument.\n",
      "  input = module(input)\n"
     ]
    },
    {
     "name": "stdout",
     "output_type": "stream",
     "text": [
      "Step [0/8]\t loss_instance: 6.092805862426758\t loss_cluster: 1.745185136795044\n",
      "Step [2/8]\t loss_instance: 6.079921722412109\t loss_cluster: 1.7351760864257812\n",
      "Step [4/8]\t loss_instance: 6.088410377502441\t loss_cluster: 1.7275466918945312\n",
      "Step [6/8]\t loss_instance: 6.070120811462402\t loss_cluster: 1.7165147066116333\n",
      "\n",
      "Epoch [35/500]\t Loss: 7.715201812982559 \n",
      "\n",
      "Step [0/8]\t Computing features...\n",
      "Features shape (8192,)\n",
      "14\n",
      "Test NMI = 0.6861 ARI = 0.4039 F = 0.5225 ACC = 0.5010\n",
      "================================================================\n",
      "\n"
     ]
    },
    {
     "name": "stderr",
     "output_type": "stream",
     "text": [
      "C:\\Users\\Tom-G\\.conda\\envs\\torchenv\\lib\\site-packages\\torch\\nn\\modules\\container.py:141: UserWarning: Implicit dimension choice for softmax has been deprecated. Change the call to include dim=X as an argument.\n",
      "  input = module(input)\n"
     ]
    },
    {
     "name": "stdout",
     "output_type": "stream",
     "text": [
      "Step [0/8]\t loss_instance: 6.068415641784668\t loss_cluster: 1.72901451587677\n",
      "Step [2/8]\t loss_instance: 6.076074600219727\t loss_cluster: 1.7177011966705322\n",
      "Step [4/8]\t loss_instance: 6.053364276885986\t loss_cluster: 1.7030797004699707\n",
      "Step [6/8]\t loss_instance: 6.055878639221191\t loss_cluster: 1.7034021615982056\n",
      "\n",
      "Epoch [36/500]\t Loss: 7.706549048423767 \n",
      "\n",
      "Step [0/8]\t Computing features...\n",
      "Features shape (8192,)\n",
      "14\n",
      "Test NMI = 0.6924 ARI = 0.3948 F = 0.5158 ACC = 0.4698\n",
      "================================================================\n",
      "\n"
     ]
    },
    {
     "name": "stderr",
     "output_type": "stream",
     "text": [
      "C:\\Users\\Tom-G\\.conda\\envs\\torchenv\\lib\\site-packages\\torch\\nn\\modules\\container.py:141: UserWarning: Implicit dimension choice for softmax has been deprecated. Change the call to include dim=X as an argument.\n",
      "  input = module(input)\n"
     ]
    },
    {
     "name": "stdout",
     "output_type": "stream",
     "text": [
      "Step [0/8]\t loss_instance: 6.05581521987915\t loss_cluster: 1.7090812921524048\n",
      "Step [2/8]\t loss_instance: 6.087172985076904\t loss_cluster: 1.7478235960006714\n",
      "Step [4/8]\t loss_instance: 6.068976879119873\t loss_cluster: 1.7093000411987305\n",
      "Step [6/8]\t loss_instance: 6.066230773925781\t loss_cluster: 1.7242953777313232\n",
      "\n",
      "Epoch [37/500]\t Loss: 7.699477553367615 \n",
      "\n",
      "Step [0/8]\t Computing features...\n",
      "Features shape (8192,)\n",
      "14\n",
      "Test NMI = 0.6977 ARI = 0.4060 F = 0.5258 ACC = 0.4878\n",
      "================================================================\n",
      "\n"
     ]
    },
    {
     "name": "stderr",
     "output_type": "stream",
     "text": [
      "C:\\Users\\Tom-G\\.conda\\envs\\torchenv\\lib\\site-packages\\torch\\nn\\modules\\container.py:141: UserWarning: Implicit dimension choice for softmax has been deprecated. Change the call to include dim=X as an argument.\n",
      "  input = module(input)\n"
     ]
    },
    {
     "name": "stdout",
     "output_type": "stream",
     "text": [
      "Step [0/8]\t loss_instance: 6.0455217361450195\t loss_cluster: 1.6823428869247437\n",
      "Step [2/8]\t loss_instance: 6.062808036804199\t loss_cluster: 1.7074296474456787\n",
      "Step [4/8]\t loss_instance: 6.063380241394043\t loss_cluster: 1.7181470394134521\n",
      "Step [6/8]\t loss_instance: 6.094576358795166\t loss_cluster: 1.735890507698059\n",
      "\n",
      "Epoch [38/500]\t Loss: 7.706673634052277 \n",
      "\n",
      "Step [0/8]\t Computing features...\n",
      "Features shape (8192,)\n",
      "14\n",
      "Test NMI = 0.6951 ARI = 0.3995 F = 0.5192 ACC = 0.4757\n",
      "================================================================\n",
      "\n"
     ]
    },
    {
     "name": "stderr",
     "output_type": "stream",
     "text": [
      "C:\\Users\\Tom-G\\.conda\\envs\\torchenv\\lib\\site-packages\\torch\\nn\\modules\\container.py:141: UserWarning: Implicit dimension choice for softmax has been deprecated. Change the call to include dim=X as an argument.\n",
      "  input = module(input)\n"
     ]
    },
    {
     "name": "stdout",
     "output_type": "stream",
     "text": [
      "Step [0/8]\t loss_instance: 6.069845676422119\t loss_cluster: 1.7227941751480103\n",
      "Step [2/8]\t loss_instance: 6.074090480804443\t loss_cluster: 1.7333674430847168\n",
      "Step [4/8]\t loss_instance: 6.057015419006348\t loss_cluster: 1.7037822008132935\n",
      "Step [6/8]\t loss_instance: 6.065267562866211\t loss_cluster: 1.7088261842727661\n",
      "\n",
      "Epoch [39/500]\t Loss: 7.7035146117210385 \n",
      "\n",
      "Step [0/8]\t Computing features...\n",
      "Features shape (8192,)\n",
      "14\n",
      "Test NMI = 0.6941 ARI = 0.3986 F = 0.5189 ACC = 0.4814\n",
      "================================================================\n",
      "\n"
     ]
    },
    {
     "name": "stderr",
     "output_type": "stream",
     "text": [
      "C:\\Users\\Tom-G\\.conda\\envs\\torchenv\\lib\\site-packages\\torch\\nn\\modules\\container.py:141: UserWarning: Implicit dimension choice for softmax has been deprecated. Change the call to include dim=X as an argument.\n",
      "  input = module(input)\n"
     ]
    },
    {
     "name": "stdout",
     "output_type": "stream",
     "text": [
      "Step [0/8]\t loss_instance: 6.069930553436279\t loss_cluster: 1.7137421369552612\n",
      "Step [2/8]\t loss_instance: 6.066981315612793\t loss_cluster: 1.7211426496505737\n",
      "Step [4/8]\t loss_instance: 6.062117099761963\t loss_cluster: 1.7215157747268677\n",
      "Step [6/8]\t loss_instance: 6.061997413635254\t loss_cluster: 1.7196279764175415\n",
      "\n",
      "Epoch [40/500]\t Loss: 7.698115688562393 \n",
      "\n",
      "Step [0/8]\t Computing features...\n",
      "Features shape (8192,)\n",
      "14\n",
      "Test NMI = 0.6958 ARI = 0.3983 F = 0.5171 ACC = 0.4736\n",
      "================================================================\n",
      "\n"
     ]
    },
    {
     "name": "stderr",
     "output_type": "stream",
     "text": [
      "C:\\Users\\Tom-G\\.conda\\envs\\torchenv\\lib\\site-packages\\torch\\nn\\modules\\container.py:141: UserWarning: Implicit dimension choice for softmax has been deprecated. Change the call to include dim=X as an argument.\n",
      "  input = module(input)\n"
     ]
    },
    {
     "name": "stdout",
     "output_type": "stream",
     "text": [
      "Step [0/8]\t loss_instance: 6.046297550201416\t loss_cluster: 1.7153507471084595\n",
      "Step [2/8]\t loss_instance: 6.0738844871521\t loss_cluster: 1.717401146888733\n",
      "Step [4/8]\t loss_instance: 6.057269096374512\t loss_cluster: 1.6984050273895264\n",
      "Step [6/8]\t loss_instance: 6.067944526672363\t loss_cluster: 1.7185910940170288\n",
      "\n",
      "Epoch [41/500]\t Loss: 7.693773692846298 \n",
      "\n",
      "Step [0/8]\t Computing features...\n",
      "Features shape (8192,)\n",
      "14\n",
      "Test NMI = 0.6945 ARI = 0.3965 F = 0.5167 ACC = 0.4753\n",
      "================================================================\n",
      "\n"
     ]
    },
    {
     "name": "stderr",
     "output_type": "stream",
     "text": [
      "C:\\Users\\Tom-G\\.conda\\envs\\torchenv\\lib\\site-packages\\torch\\nn\\modules\\container.py:141: UserWarning: Implicit dimension choice for softmax has been deprecated. Change the call to include dim=X as an argument.\n",
      "  input = module(input)\n"
     ]
    },
    {
     "name": "stdout",
     "output_type": "stream",
     "text": [
      "Step [0/8]\t loss_instance: 6.063167572021484\t loss_cluster: 1.7074862718582153\n",
      "Step [2/8]\t loss_instance: 6.085472106933594\t loss_cluster: 1.7435580492019653\n",
      "Step [4/8]\t loss_instance: 6.069087982177734\t loss_cluster: 1.7161189317703247\n",
      "Step [6/8]\t loss_instance: 6.058798789978027\t loss_cluster: 1.7098280191421509\n",
      "\n",
      "Epoch [42/500]\t Loss: 7.692824876308441 \n",
      "\n",
      "Step [0/8]\t Computing features...\n",
      "Features shape (8192,)\n",
      "14\n",
      "Test NMI = 0.6959 ARI = 0.3964 F = 0.5166 ACC = 0.4642\n",
      "================================================================\n",
      "\n"
     ]
    },
    {
     "name": "stderr",
     "output_type": "stream",
     "text": [
      "C:\\Users\\Tom-G\\.conda\\envs\\torchenv\\lib\\site-packages\\torch\\nn\\modules\\container.py:141: UserWarning: Implicit dimension choice for softmax has been deprecated. Change the call to include dim=X as an argument.\n",
      "  input = module(input)\n"
     ]
    },
    {
     "name": "stdout",
     "output_type": "stream",
     "text": [
      "Step [0/8]\t loss_instance: 6.067126750946045\t loss_cluster: 1.7193416357040405\n",
      "Step [2/8]\t loss_instance: 6.057190418243408\t loss_cluster: 1.715524673461914\n",
      "Step [4/8]\t loss_instance: 6.061398506164551\t loss_cluster: 1.7168822288513184\n",
      "Step [6/8]\t loss_instance: 6.064302444458008\t loss_cluster: 1.7208824157714844\n",
      "\n",
      "Epoch [43/500]\t Loss: 7.688815027475357 \n",
      "\n",
      "Step [0/8]\t Computing features...\n",
      "Features shape (8192,)\n",
      "14\n",
      "Test NMI = 0.6972 ARI = 0.4025 F = 0.5226 ACC = 0.4878\n",
      "================================================================\n",
      "\n"
     ]
    },
    {
     "name": "stderr",
     "output_type": "stream",
     "text": [
      "C:\\Users\\Tom-G\\.conda\\envs\\torchenv\\lib\\site-packages\\torch\\nn\\modules\\container.py:141: UserWarning: Implicit dimension choice for softmax has been deprecated. Change the call to include dim=X as an argument.\n",
      "  input = module(input)\n"
     ]
    },
    {
     "name": "stdout",
     "output_type": "stream",
     "text": [
      "Step [0/8]\t loss_instance: 6.0549116134643555\t loss_cluster: 1.6992725133895874\n",
      "Step [2/8]\t loss_instance: 6.049980640411377\t loss_cluster: 1.7003289461135864\n",
      "Step [4/8]\t loss_instance: 6.080965995788574\t loss_cluster: 1.7135956287384033\n",
      "Step [6/8]\t loss_instance: 6.0728325843811035\t loss_cluster: 1.7240172624588013\n",
      "\n",
      "Epoch [44/500]\t Loss: 7.685718303918838 \n",
      "\n",
      "Step [0/8]\t Computing features...\n",
      "Features shape (8192,)\n",
      "14\n",
      "Test NMI = 0.6944 ARI = 0.3951 F = 0.5163 ACC = 0.4637\n",
      "================================================================\n",
      "\n"
     ]
    },
    {
     "name": "stderr",
     "output_type": "stream",
     "text": [
      "C:\\Users\\Tom-G\\.conda\\envs\\torchenv\\lib\\site-packages\\torch\\nn\\modules\\container.py:141: UserWarning: Implicit dimension choice for softmax has been deprecated. Change the call to include dim=X as an argument.\n",
      "  input = module(input)\n"
     ]
    },
    {
     "name": "stdout",
     "output_type": "stream",
     "text": [
      "Step [0/8]\t loss_instance: 6.049704551696777\t loss_cluster: 1.6909257173538208\n",
      "Step [2/8]\t loss_instance: 6.049379825592041\t loss_cluster: 1.7057222127914429\n",
      "Step [4/8]\t loss_instance: 6.0674357414245605\t loss_cluster: 1.7185977697372437\n",
      "Step [6/8]\t loss_instance: 6.06893253326416\t loss_cluster: 1.722484827041626\n",
      "\n",
      "Epoch [45/500]\t Loss: 7.679384857416153 \n",
      "\n",
      "Step [0/8]\t Computing features...\n",
      "Features shape (8192,)\n",
      "14\n",
      "Test NMI = 0.6956 ARI = 0.4057 F = 0.5247 ACC = 0.4999\n",
      "================================================================\n",
      "\n"
     ]
    },
    {
     "name": "stderr",
     "output_type": "stream",
     "text": [
      "C:\\Users\\Tom-G\\.conda\\envs\\torchenv\\lib\\site-packages\\torch\\nn\\modules\\container.py:141: UserWarning: Implicit dimension choice for softmax has been deprecated. Change the call to include dim=X as an argument.\n",
      "  input = module(input)\n"
     ]
    },
    {
     "name": "stdout",
     "output_type": "stream",
     "text": [
      "Step [0/8]\t loss_instance: 6.047014236450195\t loss_cluster: 1.6917771100997925\n",
      "Step [2/8]\t loss_instance: 6.060571670532227\t loss_cluster: 1.70328950881958\n",
      "Step [4/8]\t loss_instance: 6.063387870788574\t loss_cluster: 1.7191418409347534\n",
      "Step [6/8]\t loss_instance: 6.051149368286133\t loss_cluster: 1.6943819522857666\n",
      "\n",
      "Epoch [46/500]\t Loss: 7.674937927722931 \n",
      "\n",
      "Step [0/8]\t Computing features...\n",
      "Features shape (8192,)\n",
      "14\n",
      "Test NMI = 0.6992 ARI = 0.3996 F = 0.5191 ACC = 0.4762\n",
      "================================================================\n",
      "\n"
     ]
    },
    {
     "name": "stderr",
     "output_type": "stream",
     "text": [
      "C:\\Users\\Tom-G\\.conda\\envs\\torchenv\\lib\\site-packages\\torch\\nn\\modules\\container.py:141: UserWarning: Implicit dimension choice for softmax has been deprecated. Change the call to include dim=X as an argument.\n",
      "  input = module(input)\n"
     ]
    },
    {
     "name": "stdout",
     "output_type": "stream",
     "text": [
      "Step [0/8]\t loss_instance: 6.054789066314697\t loss_cluster: 1.7015470266342163\n",
      "Step [2/8]\t loss_instance: 6.050448894500732\t loss_cluster: 1.6974475383758545\n",
      "Step [4/8]\t loss_instance: 6.070363998413086\t loss_cluster: 1.7109229564666748\n",
      "Step [6/8]\t loss_instance: 6.065569877624512\t loss_cluster: 1.711176872253418\n",
      "\n",
      "Epoch [47/500]\t Loss: 7.676835888624192 \n",
      "\n",
      "Step [0/8]\t Computing features...\n",
      "Features shape (8192,)\n",
      "14\n",
      "Test NMI = 0.6999 ARI = 0.3997 F = 0.5191 ACC = 0.4695\n",
      "================================================================\n",
      "\n"
     ]
    },
    {
     "name": "stderr",
     "output_type": "stream",
     "text": [
      "C:\\Users\\Tom-G\\.conda\\envs\\torchenv\\lib\\site-packages\\torch\\nn\\modules\\container.py:141: UserWarning: Implicit dimension choice for softmax has been deprecated. Change the call to include dim=X as an argument.\n",
      "  input = module(input)\n"
     ]
    },
    {
     "name": "stdout",
     "output_type": "stream",
     "text": [
      "Step [0/8]\t loss_instance: 6.052164554595947\t loss_cluster: 1.7021856307983398\n",
      "Step [2/8]\t loss_instance: 6.0732102394104\t loss_cluster: 1.7198692560195923\n",
      "Step [4/8]\t loss_instance: 6.07917594909668\t loss_cluster: 1.7445704936981201\n",
      "Step [6/8]\t loss_instance: 6.061922550201416\t loss_cluster: 1.7089893817901611\n",
      "\n",
      "Epoch [48/500]\t Loss: 7.700559282302857 \n",
      "\n",
      "Step [0/8]\t Computing features...\n",
      "Features shape (8192,)\n",
      "14\n",
      "Test NMI = 0.7038 ARI = 0.4135 F = 0.5328 ACC = 0.4877\n",
      "================================================================\n",
      "\n"
     ]
    },
    {
     "name": "stderr",
     "output_type": "stream",
     "text": [
      "C:\\Users\\Tom-G\\.conda\\envs\\torchenv\\lib\\site-packages\\torch\\nn\\modules\\container.py:141: UserWarning: Implicit dimension choice for softmax has been deprecated. Change the call to include dim=X as an argument.\n",
      "  input = module(input)\n"
     ]
    },
    {
     "name": "stdout",
     "output_type": "stream",
     "text": [
      "Step [0/8]\t loss_instance: 6.058429718017578\t loss_cluster: 1.717980146408081\n",
      "Step [2/8]\t loss_instance: 6.056431770324707\t loss_cluster: 1.7368829250335693\n",
      "Step [4/8]\t loss_instance: 6.073633670806885\t loss_cluster: 1.7196003198623657\n",
      "Step [6/8]\t loss_instance: 6.059107303619385\t loss_cluster: 1.7108427286148071\n",
      "\n",
      "Epoch [49/500]\t Loss: 7.685475206375122 \n",
      "\n",
      "Step [0/8]\t Computing features...\n",
      "Features shape (8192,)\n",
      "14\n",
      "Test NMI = 0.6976 ARI = 0.4007 F = 0.5213 ACC = 0.4771\n",
      "================================================================\n",
      "\n"
     ]
    },
    {
     "name": "stderr",
     "output_type": "stream",
     "text": [
      "C:\\Users\\Tom-G\\.conda\\envs\\torchenv\\lib\\site-packages\\torch\\nn\\modules\\container.py:141: UserWarning: Implicit dimension choice for softmax has been deprecated. Change the call to include dim=X as an argument.\n",
      "  input = module(input)\n"
     ]
    },
    {
     "name": "stdout",
     "output_type": "stream",
     "text": [
      "Step [0/8]\t loss_instance: 6.058387279510498\t loss_cluster: 1.7021714448928833\n",
      "Step [2/8]\t loss_instance: 6.070826530456543\t loss_cluster: 1.7186459302902222\n",
      "Step [4/8]\t loss_instance: 6.056158542633057\t loss_cluster: 1.7041171789169312\n",
      "Step [6/8]\t loss_instance: 6.062710762023926\t loss_cluster: 1.7202507257461548\n",
      "\n",
      "Epoch [50/500]\t Loss: 7.671482086181641 \n",
      "\n",
      "Step [0/8]\t Computing features...\n",
      "Features shape (8192,)\n",
      "14\n",
      "Test NMI = 0.6964 ARI = 0.3973 F = 0.5173 ACC = 0.4725\n",
      "================================================================\n",
      "\n"
     ]
    },
    {
     "name": "stderr",
     "output_type": "stream",
     "text": [
      "C:\\Users\\Tom-G\\.conda\\envs\\torchenv\\lib\\site-packages\\torch\\nn\\modules\\container.py:141: UserWarning: Implicit dimension choice for softmax has been deprecated. Change the call to include dim=X as an argument.\n",
      "  input = module(input)\n"
     ]
    },
    {
     "name": "stdout",
     "output_type": "stream",
     "text": [
      "Step [0/8]\t loss_instance: 6.081812381744385\t loss_cluster: 1.7217506170272827\n",
      "Step [2/8]\t loss_instance: 6.049139499664307\t loss_cluster: 1.7009994983673096\n",
      "Step [4/8]\t loss_instance: 6.038443565368652\t loss_cluster: 1.701202154159546\n",
      "Step [6/8]\t loss_instance: 6.050790786743164\t loss_cluster: 1.6919668912887573\n",
      "\n",
      "Epoch [51/500]\t Loss: 7.661464244127274 \n",
      "\n",
      "Step [0/8]\t Computing features...\n",
      "Features shape (8192,)\n",
      "14\n",
      "Test NMI = 0.6981 ARI = 0.4017 F = 0.5212 ACC = 0.4818\n",
      "================================================================\n",
      "\n"
     ]
    },
    {
     "name": "stderr",
     "output_type": "stream",
     "text": [
      "C:\\Users\\Tom-G\\.conda\\envs\\torchenv\\lib\\site-packages\\torch\\nn\\modules\\container.py:141: UserWarning: Implicit dimension choice for softmax has been deprecated. Change the call to include dim=X as an argument.\n",
      "  input = module(input)\n"
     ]
    },
    {
     "name": "stdout",
     "output_type": "stream",
     "text": [
      "Step [0/8]\t loss_instance: 6.069045066833496\t loss_cluster: 1.7248903512954712\n",
      "Step [2/8]\t loss_instance: 6.040992736816406\t loss_cluster: 1.6872475147247314\n",
      "Step [4/8]\t loss_instance: 6.064713001251221\t loss_cluster: 1.7116302251815796\n",
      "Step [6/8]\t loss_instance: 6.067082405090332\t loss_cluster: 1.7128556966781616\n",
      "\n",
      "Epoch [52/500]\t Loss: 7.671174269914627 \n",
      "\n",
      "Step [0/8]\t Computing features...\n",
      "Features shape (8192,)\n",
      "14\n",
      "Test NMI = 0.7033 ARI = 0.4054 F = 0.5257 ACC = 0.4639\n",
      "================================================================\n",
      "\n"
     ]
    },
    {
     "name": "stderr",
     "output_type": "stream",
     "text": [
      "C:\\Users\\Tom-G\\.conda\\envs\\torchenv\\lib\\site-packages\\torch\\nn\\modules\\container.py:141: UserWarning: Implicit dimension choice for softmax has been deprecated. Change the call to include dim=X as an argument.\n",
      "  input = module(input)\n"
     ]
    },
    {
     "name": "stdout",
     "output_type": "stream",
     "text": [
      "Step [0/8]\t loss_instance: 6.0501909255981445\t loss_cluster: 1.7001687288284302\n",
      "Step [2/8]\t loss_instance: 6.050427436828613\t loss_cluster: 1.6993063688278198\n",
      "Step [4/8]\t loss_instance: 6.06426477432251\t loss_cluster: 1.7159088850021362\n",
      "Step [6/8]\t loss_instance: 6.057020664215088\t loss_cluster: 1.7129871845245361\n",
      "\n",
      "Epoch [53/500]\t Loss: 7.674258655309677 \n",
      "\n",
      "Step [0/8]\t Computing features...\n",
      "Features shape (8192,)\n",
      "14\n",
      "Test NMI = 0.6972 ARI = 0.3980 F = 0.5188 ACC = 0.4669\n",
      "================================================================\n",
      "\n"
     ]
    },
    {
     "name": "stderr",
     "output_type": "stream",
     "text": [
      "C:\\Users\\Tom-G\\.conda\\envs\\torchenv\\lib\\site-packages\\torch\\nn\\modules\\container.py:141: UserWarning: Implicit dimension choice for softmax has been deprecated. Change the call to include dim=X as an argument.\n",
      "  input = module(input)\n"
     ]
    },
    {
     "name": "stdout",
     "output_type": "stream",
     "text": [
      "Step [0/8]\t loss_instance: 6.052643775939941\t loss_cluster: 1.7085448503494263\n",
      "Step [2/8]\t loss_instance: 6.042196750640869\t loss_cluster: 1.7067121267318726\n",
      "Step [4/8]\t loss_instance: 6.056427955627441\t loss_cluster: 1.7173829078674316\n",
      "Step [6/8]\t loss_instance: 6.069782257080078\t loss_cluster: 1.7086032629013062\n",
      "\n",
      "Epoch [54/500]\t Loss: 7.667066073417663 \n",
      "\n",
      "Step [0/8]\t Computing features...\n",
      "Features shape (8192,)\n",
      "14\n",
      "Test NMI = 0.6971 ARI = 0.4021 F = 0.5215 ACC = 0.4808\n",
      "================================================================\n",
      "\n"
     ]
    },
    {
     "name": "stderr",
     "output_type": "stream",
     "text": [
      "C:\\Users\\Tom-G\\.conda\\envs\\torchenv\\lib\\site-packages\\torch\\nn\\modules\\container.py:141: UserWarning: Implicit dimension choice for softmax has been deprecated. Change the call to include dim=X as an argument.\n",
      "  input = module(input)\n"
     ]
    },
    {
     "name": "stdout",
     "output_type": "stream",
     "text": [
      "Step [0/8]\t loss_instance: 6.046851634979248\t loss_cluster: 1.6895946264266968\n",
      "Step [2/8]\t loss_instance: 6.0351972579956055\t loss_cluster: 1.684113621711731\n",
      "Step [4/8]\t loss_instance: 6.066741466522217\t loss_cluster: 1.733451008796692\n",
      "Step [6/8]\t loss_instance: 6.050604820251465\t loss_cluster: 1.7015284299850464\n",
      "\n",
      "Epoch [55/500]\t Loss: 7.659546345472336 \n",
      "\n",
      "Step [0/8]\t Computing features...\n",
      "Features shape (8192,)\n",
      "14\n",
      "Test NMI = 0.6954 ARI = 0.3945 F = 0.5149 ACC = 0.4648\n",
      "================================================================\n",
      "\n"
     ]
    },
    {
     "name": "stderr",
     "output_type": "stream",
     "text": [
      "C:\\Users\\Tom-G\\.conda\\envs\\torchenv\\lib\\site-packages\\torch\\nn\\modules\\container.py:141: UserWarning: Implicit dimension choice for softmax has been deprecated. Change the call to include dim=X as an argument.\n",
      "  input = module(input)\n"
     ]
    },
    {
     "name": "stdout",
     "output_type": "stream",
     "text": [
      "Step [0/8]\t loss_instance: 6.062860488891602\t loss_cluster: 1.704277515411377\n",
      "Step [2/8]\t loss_instance: 6.033320903778076\t loss_cluster: 1.678238034248352\n",
      "Step [4/8]\t loss_instance: 6.029534339904785\t loss_cluster: 1.6835311651229858\n",
      "Step [6/8]\t loss_instance: 6.028567314147949\t loss_cluster: 1.6720322370529175\n",
      "\n",
      "Epoch [56/500]\t Loss: 7.658542078733444 \n",
      "\n",
      "Step [0/8]\t Computing features...\n",
      "Features shape (8192,)\n",
      "14\n",
      "Test NMI = 0.7012 ARI = 0.4052 F = 0.5248 ACC = 0.4738\n",
      "================================================================\n",
      "\n"
     ]
    },
    {
     "name": "stderr",
     "output_type": "stream",
     "text": [
      "C:\\Users\\Tom-G\\.conda\\envs\\torchenv\\lib\\site-packages\\torch\\nn\\modules\\container.py:141: UserWarning: Implicit dimension choice for softmax has been deprecated. Change the call to include dim=X as an argument.\n",
      "  input = module(input)\n"
     ]
    },
    {
     "name": "stdout",
     "output_type": "stream",
     "text": [
      "Step [0/8]\t loss_instance: 6.056428909301758\t loss_cluster: 1.704717993736267\n",
      "Step [2/8]\t loss_instance: 6.064765453338623\t loss_cluster: 1.7072707414627075\n",
      "Step [4/8]\t loss_instance: 6.039519786834717\t loss_cluster: 1.6861863136291504\n",
      "Step [6/8]\t loss_instance: 6.036630153656006\t loss_cluster: 1.6900532245635986\n",
      "\n",
      "Epoch [57/500]\t Loss: 7.659799629449845 \n",
      "\n",
      "Step [0/8]\t Computing features...\n",
      "Features shape (8192,)\n",
      "14\n",
      "Test NMI = 0.6972 ARI = 0.4070 F = 0.5261 ACC = 0.4913\n",
      "================================================================\n",
      "\n"
     ]
    },
    {
     "name": "stderr",
     "output_type": "stream",
     "text": [
      "C:\\Users\\Tom-G\\.conda\\envs\\torchenv\\lib\\site-packages\\torch\\nn\\modules\\container.py:141: UserWarning: Implicit dimension choice for softmax has been deprecated. Change the call to include dim=X as an argument.\n",
      "  input = module(input)\n"
     ]
    },
    {
     "name": "stdout",
     "output_type": "stream",
     "text": [
      "Step [0/8]\t loss_instance: 6.041538238525391\t loss_cluster: 1.6887032985687256\n",
      "Step [2/8]\t loss_instance: 6.033354759216309\t loss_cluster: 1.6800446510314941\n",
      "Step [4/8]\t loss_instance: 6.06458044052124\t loss_cluster: 1.718802571296692\n",
      "Step [6/8]\t loss_instance: 6.063141822814941\t loss_cluster: 1.7305405139923096\n",
      "\n",
      "Epoch [58/500]\t Loss: 7.663427764177323 \n",
      "\n",
      "Step [0/8]\t Computing features...\n",
      "Features shape (8192,)\n",
      "14\n",
      "Test NMI = 0.7024 ARI = 0.4085 F = 0.5280 ACC = 0.4685\n",
      "================================================================\n",
      "\n"
     ]
    },
    {
     "name": "stderr",
     "output_type": "stream",
     "text": [
      "C:\\Users\\Tom-G\\.conda\\envs\\torchenv\\lib\\site-packages\\torch\\nn\\modules\\container.py:141: UserWarning: Implicit dimension choice for softmax has been deprecated. Change the call to include dim=X as an argument.\n",
      "  input = module(input)\n"
     ]
    },
    {
     "name": "stdout",
     "output_type": "stream",
     "text": [
      "Step [0/8]\t loss_instance: 6.049915790557861\t loss_cluster: 1.7018812894821167\n",
      "Step [2/8]\t loss_instance: 6.041710376739502\t loss_cluster: 1.688995122909546\n",
      "Step [4/8]\t loss_instance: 6.038658142089844\t loss_cluster: 1.6889190673828125\n",
      "Step [6/8]\t loss_instance: 6.038454532623291\t loss_cluster: 1.6891251802444458\n",
      "\n",
      "Epoch [59/500]\t Loss: 7.661279779672623 \n",
      "\n",
      "Step [0/8]\t Computing features...\n",
      "Features shape (8192,)\n",
      "14\n",
      "Test NMI = 0.7026 ARI = 0.4070 F = 0.5266 ACC = 0.4712\n",
      "================================================================\n",
      "\n"
     ]
    },
    {
     "name": "stderr",
     "output_type": "stream",
     "text": [
      "C:\\Users\\Tom-G\\.conda\\envs\\torchenv\\lib\\site-packages\\torch\\nn\\modules\\container.py:141: UserWarning: Implicit dimension choice for softmax has been deprecated. Change the call to include dim=X as an argument.\n",
      "  input = module(input)\n"
     ]
    },
    {
     "name": "stdout",
     "output_type": "stream",
     "text": [
      "Step [0/8]\t loss_instance: 6.048999309539795\t loss_cluster: 1.6936023235321045\n",
      "Step [2/8]\t loss_instance: 6.066580772399902\t loss_cluster: 1.7228490114212036\n",
      "Step [4/8]\t loss_instance: 6.039358139038086\t loss_cluster: 1.6868834495544434\n",
      "Step [6/8]\t loss_instance: 6.029997825622559\t loss_cluster: 1.6923140287399292\n",
      "\n",
      "Epoch [60/500]\t Loss: 7.658303892612457 \n",
      "\n",
      "Step [0/8]\t Computing features...\n",
      "Features shape (8192,)\n",
      "14\n",
      "Test NMI = 0.7006 ARI = 0.4026 F = 0.5225 ACC = 0.4624\n",
      "================================================================\n",
      "\n"
     ]
    },
    {
     "name": "stderr",
     "output_type": "stream",
     "text": [
      "C:\\Users\\Tom-G\\.conda\\envs\\torchenv\\lib\\site-packages\\torch\\nn\\modules\\container.py:141: UserWarning: Implicit dimension choice for softmax has been deprecated. Change the call to include dim=X as an argument.\n",
      "  input = module(input)\n"
     ]
    },
    {
     "name": "stdout",
     "output_type": "stream",
     "text": [
      "Step [0/8]\t loss_instance: 6.031094551086426\t loss_cluster: 1.681904911994934\n",
      "Step [2/8]\t loss_instance: 6.0351457595825195\t loss_cluster: 1.68594491481781\n",
      "Step [4/8]\t loss_instance: 6.052516460418701\t loss_cluster: 1.7148633003234863\n",
      "Step [6/8]\t loss_instance: 6.064985275268555\t loss_cluster: 1.7113134860992432\n",
      "\n",
      "Epoch [61/500]\t Loss: 7.653782898187638 \n",
      "\n",
      "Step [0/8]\t Computing features...\n",
      "Features shape (8192,)\n",
      "14\n",
      "Test NMI = 0.6974 ARI = 0.3995 F = 0.5190 ACC = 0.4772\n",
      "================================================================\n",
      "\n"
     ]
    },
    {
     "name": "stderr",
     "output_type": "stream",
     "text": [
      "C:\\Users\\Tom-G\\.conda\\envs\\torchenv\\lib\\site-packages\\torch\\nn\\modules\\container.py:141: UserWarning: Implicit dimension choice for softmax has been deprecated. Change the call to include dim=X as an argument.\n",
      "  input = module(input)\n"
     ]
    },
    {
     "name": "stdout",
     "output_type": "stream",
     "text": [
      "Step [0/8]\t loss_instance: 6.051649570465088\t loss_cluster: 1.7034202814102173\n",
      "Step [2/8]\t loss_instance: 6.040866374969482\t loss_cluster: 1.7034612894058228\n",
      "Step [4/8]\t loss_instance: 6.05709981918335\t loss_cluster: 1.7238249778747559\n",
      "Step [6/8]\t loss_instance: 6.032231330871582\t loss_cluster: 1.6770519018173218\n",
      "\n",
      "Epoch [62/500]\t Loss: 7.65732781291008 \n",
      "\n",
      "Step [0/8]\t Computing features...\n",
      "Features shape (8192,)\n",
      "14\n",
      "Test NMI = 0.7004 ARI = 0.4015 F = 0.5216 ACC = 0.4640\n",
      "================================================================\n",
      "\n"
     ]
    },
    {
     "name": "stderr",
     "output_type": "stream",
     "text": [
      "C:\\Users\\Tom-G\\.conda\\envs\\torchenv\\lib\\site-packages\\torch\\nn\\modules\\container.py:141: UserWarning: Implicit dimension choice for softmax has been deprecated. Change the call to include dim=X as an argument.\n",
      "  input = module(input)\n"
     ]
    },
    {
     "name": "stdout",
     "output_type": "stream",
     "text": [
      "Step [0/8]\t loss_instance: 6.044981002807617\t loss_cluster: 1.7036129236221313\n",
      "Step [2/8]\t loss_instance: 6.049083232879639\t loss_cluster: 1.7191489934921265\n",
      "Step [4/8]\t loss_instance: 6.045801162719727\t loss_cluster: 1.6899070739746094\n",
      "Step [6/8]\t loss_instance: 6.05661678314209\t loss_cluster: 1.699125051498413\n",
      "\n",
      "Epoch [63/500]\t Loss: 7.65183898806572 \n",
      "\n",
      "Step [0/8]\t Computing features...\n",
      "Features shape (8192,)\n",
      "14\n",
      "Test NMI = 0.6984 ARI = 0.3979 F = 0.5179 ACC = 0.4677\n",
      "================================================================\n",
      "\n"
     ]
    },
    {
     "name": "stderr",
     "output_type": "stream",
     "text": [
      "C:\\Users\\Tom-G\\.conda\\envs\\torchenv\\lib\\site-packages\\torch\\nn\\modules\\container.py:141: UserWarning: Implicit dimension choice for softmax has been deprecated. Change the call to include dim=X as an argument.\n",
      "  input = module(input)\n"
     ]
    },
    {
     "name": "stdout",
     "output_type": "stream",
     "text": [
      "Step [0/8]\t loss_instance: 6.035009860992432\t loss_cluster: 1.6842962503433228\n",
      "Step [2/8]\t loss_instance: 6.061823844909668\t loss_cluster: 1.7155133485794067\n",
      "Step [4/8]\t loss_instance: 6.049738883972168\t loss_cluster: 1.6983548402786255\n",
      "Step [6/8]\t loss_instance: 6.036695957183838\t loss_cluster: 1.682163953781128\n",
      "\n",
      "Epoch [64/500]\t Loss: 7.642169439792633 \n",
      "\n",
      "Step [0/8]\t Computing features...\n",
      "Features shape (8192,)\n",
      "14\n",
      "Test NMI = 0.6972 ARI = 0.3991 F = 0.5187 ACC = 0.4823\n",
      "================================================================\n",
      "\n"
     ]
    },
    {
     "name": "stderr",
     "output_type": "stream",
     "text": [
      "C:\\Users\\Tom-G\\.conda\\envs\\torchenv\\lib\\site-packages\\torch\\nn\\modules\\container.py:141: UserWarning: Implicit dimension choice for softmax has been deprecated. Change the call to include dim=X as an argument.\n",
      "  input = module(input)\n"
     ]
    },
    {
     "name": "stdout",
     "output_type": "stream",
     "text": [
      "Step [0/8]\t loss_instance: 6.049091815948486\t loss_cluster: 1.6855510473251343\n",
      "Step [2/8]\t loss_instance: 6.0573930740356445\t loss_cluster: 1.715835452079773\n",
      "Step [4/8]\t loss_instance: 6.063745498657227\t loss_cluster: 1.7177435159683228\n",
      "Step [6/8]\t loss_instance: 6.015073776245117\t loss_cluster: 1.6823806762695312\n",
      "\n",
      "Epoch [65/500]\t Loss: 7.654023247957229 \n",
      "\n",
      "Step [0/8]\t Computing features...\n",
      "Features shape (8192,)\n",
      "14\n",
      "Test NMI = 0.6973 ARI = 0.4029 F = 0.5218 ACC = 0.4882\n",
      "================================================================\n",
      "\n"
     ]
    },
    {
     "name": "stderr",
     "output_type": "stream",
     "text": [
      "C:\\Users\\Tom-G\\.conda\\envs\\torchenv\\lib\\site-packages\\torch\\nn\\modules\\container.py:141: UserWarning: Implicit dimension choice for softmax has been deprecated. Change the call to include dim=X as an argument.\n",
      "  input = module(input)\n"
     ]
    },
    {
     "name": "stdout",
     "output_type": "stream",
     "text": [
      "Step [0/8]\t loss_instance: 6.046359062194824\t loss_cluster: 1.6977177858352661\n",
      "Step [2/8]\t loss_instance: 6.0380706787109375\t loss_cluster: 1.688722014427185\n",
      "Step [4/8]\t loss_instance: 6.063448905944824\t loss_cluster: 1.7227569818496704\n",
      "Step [6/8]\t loss_instance: 6.043645858764648\t loss_cluster: 1.6779348850250244\n",
      "\n",
      "Epoch [66/500]\t Loss: 7.652247202396393 \n",
      "\n",
      "Step [0/8]\t Computing features...\n",
      "Features shape (8192,)\n",
      "14\n",
      "Test NMI = 0.6982 ARI = 0.3987 F = 0.5188 ACC = 0.4598\n",
      "================================================================\n",
      "\n"
     ]
    },
    {
     "name": "stderr",
     "output_type": "stream",
     "text": [
      "C:\\Users\\Tom-G\\.conda\\envs\\torchenv\\lib\\site-packages\\torch\\nn\\modules\\container.py:141: UserWarning: Implicit dimension choice for softmax has been deprecated. Change the call to include dim=X as an argument.\n",
      "  input = module(input)\n"
     ]
    },
    {
     "name": "stdout",
     "output_type": "stream",
     "text": [
      "Step [0/8]\t loss_instance: 6.055908203125\t loss_cluster: 1.708302617073059\n",
      "Step [2/8]\t loss_instance: 6.030142307281494\t loss_cluster: 1.6741631031036377\n",
      "Step [4/8]\t loss_instance: 6.050197601318359\t loss_cluster: 1.7051705121994019\n",
      "Step [6/8]\t loss_instance: 6.0597686767578125\t loss_cluster: 1.7081965208053589\n",
      "\n",
      "Epoch [67/500]\t Loss: 7.656624418497086 \n",
      "\n",
      "Step [0/8]\t Computing features...\n",
      "Features shape (8192,)\n",
      "14\n",
      "Test NMI = 0.7014 ARI = 0.4069 F = 0.5262 ACC = 0.4938\n",
      "================================================================\n",
      "\n"
     ]
    },
    {
     "name": "stderr",
     "output_type": "stream",
     "text": [
      "C:\\Users\\Tom-G\\.conda\\envs\\torchenv\\lib\\site-packages\\torch\\nn\\modules\\container.py:141: UserWarning: Implicit dimension choice for softmax has been deprecated. Change the call to include dim=X as an argument.\n",
      "  input = module(input)\n"
     ]
    },
    {
     "name": "stdout",
     "output_type": "stream",
     "text": [
      "Step [0/8]\t loss_instance: 6.0379133224487305\t loss_cluster: 1.7051517963409424\n",
      "Step [2/8]\t loss_instance: 6.042679786682129\t loss_cluster: 1.70654296875\n",
      "Step [4/8]\t loss_instance: 6.037681579589844\t loss_cluster: 1.6847481727600098\n",
      "Step [6/8]\t loss_instance: 6.039078712463379\t loss_cluster: 1.6820236444473267\n",
      "\n",
      "Epoch [68/500]\t Loss: 7.660791510343552 \n",
      "\n",
      "Step [0/8]\t Computing features...\n",
      "Features shape (8192,)\n",
      "14\n",
      "Test NMI = 0.6986 ARI = 0.4092 F = 0.5278 ACC = 0.5020\n",
      "================================================================\n",
      "\n"
     ]
    },
    {
     "name": "stderr",
     "output_type": "stream",
     "text": [
      "C:\\Users\\Tom-G\\.conda\\envs\\torchenv\\lib\\site-packages\\torch\\nn\\modules\\container.py:141: UserWarning: Implicit dimension choice for softmax has been deprecated. Change the call to include dim=X as an argument.\n",
      "  input = module(input)\n"
     ]
    },
    {
     "name": "stdout",
     "output_type": "stream",
     "text": [
      "Step [0/8]\t loss_instance: 6.03254508972168\t loss_cluster: 1.6897507905960083\n",
      "Step [2/8]\t loss_instance: 6.038870334625244\t loss_cluster: 1.6901910305023193\n",
      "Step [4/8]\t loss_instance: 6.054502010345459\t loss_cluster: 1.6910592317581177\n",
      "Step [6/8]\t loss_instance: 6.0391716957092285\t loss_cluster: 1.687645673751831\n",
      "\n",
      "Epoch [69/500]\t Loss: 7.652080297470093 \n",
      "\n",
      "Step [0/8]\t Computing features...\n",
      "Features shape (8192,)\n",
      "14\n",
      "Test NMI = 0.6970 ARI = 0.4023 F = 0.5215 ACC = 0.4874\n",
      "================================================================\n",
      "\n"
     ]
    },
    {
     "name": "stderr",
     "output_type": "stream",
     "text": [
      "C:\\Users\\Tom-G\\.conda\\envs\\torchenv\\lib\\site-packages\\torch\\nn\\modules\\container.py:141: UserWarning: Implicit dimension choice for softmax has been deprecated. Change the call to include dim=X as an argument.\n",
      "  input = module(input)\n"
     ]
    },
    {
     "name": "stdout",
     "output_type": "stream",
     "text": [
      "Step [0/8]\t loss_instance: 6.045903205871582\t loss_cluster: 1.691407561302185\n",
      "Step [2/8]\t loss_instance: 6.040279388427734\t loss_cluster: 1.689209222793579\n",
      "Step [4/8]\t loss_instance: 6.028683662414551\t loss_cluster: 1.6891546249389648\n",
      "Step [6/8]\t loss_instance: 6.048666000366211\t loss_cluster: 1.6962451934814453\n",
      "\n",
      "Epoch [70/500]\t Loss: 7.64011960029602 \n",
      "\n",
      "Step [0/8]\t Computing features...\n",
      "Features shape (8192,)\n",
      "14\n",
      "Test NMI = 0.6951 ARI = 0.3965 F = 0.5169 ACC = 0.4713\n",
      "================================================================\n",
      "\n"
     ]
    },
    {
     "name": "stderr",
     "output_type": "stream",
     "text": [
      "C:\\Users\\Tom-G\\.conda\\envs\\torchenv\\lib\\site-packages\\torch\\nn\\modules\\container.py:141: UserWarning: Implicit dimension choice for softmax has been deprecated. Change the call to include dim=X as an argument.\n",
      "  input = module(input)\n"
     ]
    },
    {
     "name": "stdout",
     "output_type": "stream",
     "text": [
      "Step [0/8]\t loss_instance: 6.018861293792725\t loss_cluster: 1.6764057874679565\n",
      "Step [2/8]\t loss_instance: 6.043002128601074\t loss_cluster: 1.7106821537017822\n",
      "Step [4/8]\t loss_instance: 6.039710998535156\t loss_cluster: 1.6852666139602661\n",
      "Step [6/8]\t loss_instance: 6.053731441497803\t loss_cluster: 1.7016164064407349\n",
      "\n",
      "Epoch [71/500]\t Loss: 7.644033652544022 \n",
      "\n",
      "Step [0/8]\t Computing features...\n",
      "Features shape (8192,)\n",
      "14\n",
      "Test NMI = 0.6979 ARI = 0.3975 F = 0.5178 ACC = 0.4559\n",
      "================================================================\n",
      "\n"
     ]
    },
    {
     "name": "stderr",
     "output_type": "stream",
     "text": [
      "C:\\Users\\Tom-G\\.conda\\envs\\torchenv\\lib\\site-packages\\torch\\nn\\modules\\container.py:141: UserWarning: Implicit dimension choice for softmax has been deprecated. Change the call to include dim=X as an argument.\n",
      "  input = module(input)\n"
     ]
    },
    {
     "name": "stdout",
     "output_type": "stream",
     "text": [
      "Step [0/8]\t loss_instance: 6.040964126586914\t loss_cluster: 1.6830519437789917\n",
      "Step [2/8]\t loss_instance: 6.025885105133057\t loss_cluster: 1.6728848218917847\n",
      "Step [4/8]\t loss_instance: 6.041583061218262\t loss_cluster: 1.697851300239563\n",
      "Step [6/8]\t loss_instance: 6.0411200523376465\t loss_cluster: 1.7012732028961182\n",
      "\n",
      "Epoch [72/500]\t Loss: 7.643939119577408 \n",
      "\n",
      "Step [0/8]\t Computing features...\n",
      "Features shape (8192,)\n",
      "14\n",
      "Test NMI = 0.6975 ARI = 0.4013 F = 0.5204 ACC = 0.4838\n",
      "================================================================\n",
      "\n"
     ]
    },
    {
     "name": "stderr",
     "output_type": "stream",
     "text": [
      "C:\\Users\\Tom-G\\.conda\\envs\\torchenv\\lib\\site-packages\\torch\\nn\\modules\\container.py:141: UserWarning: Implicit dimension choice for softmax has been deprecated. Change the call to include dim=X as an argument.\n",
      "  input = module(input)\n"
     ]
    },
    {
     "name": "stdout",
     "output_type": "stream",
     "text": [
      "Step [0/8]\t loss_instance: 6.047253608703613\t loss_cluster: 1.7031046152114868\n",
      "Step [2/8]\t loss_instance: 6.033973693847656\t loss_cluster: 1.6837100982666016\n",
      "Step [4/8]\t loss_instance: 6.070284366607666\t loss_cluster: 1.7176703214645386\n",
      "Step [6/8]\t loss_instance: 6.040630340576172\t loss_cluster: 1.673904538154602\n",
      "\n",
      "Epoch [73/500]\t Loss: 7.639891356229782 \n",
      "\n",
      "Step [0/8]\t Computing features...\n",
      "Features shape (8192,)\n",
      "14\n",
      "Test NMI = 0.6953 ARI = 0.3977 F = 0.5173 ACC = 0.4791\n",
      "================================================================\n",
      "\n"
     ]
    },
    {
     "name": "stderr",
     "output_type": "stream",
     "text": [
      "C:\\Users\\Tom-G\\.conda\\envs\\torchenv\\lib\\site-packages\\torch\\nn\\modules\\container.py:141: UserWarning: Implicit dimension choice for softmax has been deprecated. Change the call to include dim=X as an argument.\n",
      "  input = module(input)\n"
     ]
    },
    {
     "name": "stdout",
     "output_type": "stream",
     "text": [
      "Step [0/8]\t loss_instance: 6.034450531005859\t loss_cluster: 1.6980053186416626\n",
      "Step [2/8]\t loss_instance: 6.046938896179199\t loss_cluster: 1.6952178478240967\n",
      "Step [4/8]\t loss_instance: 6.01431131362915\t loss_cluster: 1.6624122858047485\n",
      "Step [6/8]\t loss_instance: 6.0456862449646\t loss_cluster: 1.6914738416671753\n",
      "\n",
      "Epoch [74/500]\t Loss: 7.6389348864555355 \n",
      "\n",
      "Step [0/8]\t Computing features...\n",
      "Features shape (8192,)\n",
      "14\n",
      "Test NMI = 0.6980 ARI = 0.3985 F = 0.5187 ACC = 0.4697\n",
      "================================================================\n",
      "\n"
     ]
    },
    {
     "name": "stderr",
     "output_type": "stream",
     "text": [
      "C:\\Users\\Tom-G\\.conda\\envs\\torchenv\\lib\\site-packages\\torch\\nn\\modules\\container.py:141: UserWarning: Implicit dimension choice for softmax has been deprecated. Change the call to include dim=X as an argument.\n",
      "  input = module(input)\n"
     ]
    },
    {
     "name": "stdout",
     "output_type": "stream",
     "text": [
      "Step [0/8]\t loss_instance: 6.037477016448975\t loss_cluster: 1.684558629989624\n",
      "Step [2/8]\t loss_instance: 6.036482334136963\t loss_cluster: 1.6793867349624634\n",
      "Step [4/8]\t loss_instance: 6.0564703941345215\t loss_cluster: 1.7111221551895142\n",
      "Step [6/8]\t loss_instance: 6.041815757751465\t loss_cluster: 1.6961259841918945\n",
      "\n",
      "Epoch [75/500]\t Loss: 7.637239170074463 \n",
      "\n",
      "Step [0/8]\t Computing features...\n",
      "Features shape (8192,)\n",
      "14\n",
      "Test NMI = 0.6971 ARI = 0.3998 F = 0.5196 ACC = 0.4779\n",
      "================================================================\n",
      "\n"
     ]
    },
    {
     "name": "stderr",
     "output_type": "stream",
     "text": [
      "C:\\Users\\Tom-G\\.conda\\envs\\torchenv\\lib\\site-packages\\torch\\nn\\modules\\container.py:141: UserWarning: Implicit dimension choice for softmax has been deprecated. Change the call to include dim=X as an argument.\n",
      "  input = module(input)\n"
     ]
    },
    {
     "name": "stdout",
     "output_type": "stream",
     "text": [
      "Step [0/8]\t loss_instance: 6.036226749420166\t loss_cluster: 1.6928927898406982\n",
      "Step [2/8]\t loss_instance: 6.041609287261963\t loss_cluster: 1.6968135833740234\n",
      "Step [4/8]\t loss_instance: 6.011721611022949\t loss_cluster: 1.6606261730194092\n",
      "Step [6/8]\t loss_instance: 6.055952072143555\t loss_cluster: 1.7010418176651\n",
      "\n",
      "Epoch [76/500]\t Loss: 7.641074335575103 \n",
      "\n",
      "Step [0/8]\t Computing features...\n",
      "Features shape (8192,)\n",
      "14\n",
      "Test NMI = 0.7001 ARI = 0.4075 F = 0.5281 ACC = 0.4652\n",
      "================================================================\n",
      "\n"
     ]
    },
    {
     "name": "stderr",
     "output_type": "stream",
     "text": [
      "C:\\Users\\Tom-G\\.conda\\envs\\torchenv\\lib\\site-packages\\torch\\nn\\modules\\container.py:141: UserWarning: Implicit dimension choice for softmax has been deprecated. Change the call to include dim=X as an argument.\n",
      "  input = module(input)\n"
     ]
    },
    {
     "name": "stdout",
     "output_type": "stream",
     "text": [
      "Step [0/8]\t loss_instance: 6.05327033996582\t loss_cluster: 1.6969929933547974\n",
      "Step [2/8]\t loss_instance: 6.023632049560547\t loss_cluster: 1.6720772981643677\n",
      "Step [4/8]\t loss_instance: 6.034448623657227\t loss_cluster: 1.6881730556488037\n",
      "Step [6/8]\t loss_instance: 6.041921615600586\t loss_cluster: 1.6857467889785767\n",
      "\n",
      "Epoch [77/500]\t Loss: 7.639919435977935 \n",
      "\n",
      "Step [0/8]\t Computing features...\n",
      "Features shape (8192,)\n",
      "14\n",
      "Test NMI = 0.6999 ARI = 0.4024 F = 0.5228 ACC = 0.4674\n",
      "================================================================\n",
      "\n"
     ]
    },
    {
     "name": "stderr",
     "output_type": "stream",
     "text": [
      "C:\\Users\\Tom-G\\.conda\\envs\\torchenv\\lib\\site-packages\\torch\\nn\\modules\\container.py:141: UserWarning: Implicit dimension choice for softmax has been deprecated. Change the call to include dim=X as an argument.\n",
      "  input = module(input)\n"
     ]
    },
    {
     "name": "stdout",
     "output_type": "stream",
     "text": [
      "Step [0/8]\t loss_instance: 6.0435895919799805\t loss_cluster: 1.693885326385498\n",
      "Step [2/8]\t loss_instance: 6.041723251342773\t loss_cluster: 1.6833072900772095\n",
      "Step [4/8]\t loss_instance: 6.034581661224365\t loss_cluster: 1.68547785282135\n",
      "Step [6/8]\t loss_instance: 6.042172431945801\t loss_cluster: 1.693253993988037\n",
      "\n",
      "Epoch [78/500]\t Loss: 7.635906183719635 \n",
      "\n",
      "Step [0/8]\t Computing features...\n",
      "Features shape (8192,)\n",
      "14\n",
      "Test NMI = 0.7046 ARI = 0.4157 F = 0.5344 ACC = 0.4921\n",
      "================================================================\n",
      "\n"
     ]
    },
    {
     "name": "stderr",
     "output_type": "stream",
     "text": [
      "C:\\Users\\Tom-G\\.conda\\envs\\torchenv\\lib\\site-packages\\torch\\nn\\modules\\container.py:141: UserWarning: Implicit dimension choice for softmax has been deprecated. Change the call to include dim=X as an argument.\n",
      "  input = module(input)\n"
     ]
    },
    {
     "name": "stdout",
     "output_type": "stream",
     "text": [
      "Step [0/8]\t loss_instance: 6.024698257446289\t loss_cluster: 1.674420952796936\n",
      "Step [2/8]\t loss_instance: 6.04371976852417\t loss_cluster: 1.7107257843017578\n",
      "Step [4/8]\t loss_instance: 6.045183181762695\t loss_cluster: 1.6950645446777344\n",
      "Step [6/8]\t loss_instance: 6.0473432540893555\t loss_cluster: 1.7038838863372803\n",
      "\n",
      "Epoch [79/500]\t Loss: 7.645195072889328 \n",
      "\n",
      "Step [0/8]\t Computing features...\n",
      "Features shape (8192,)\n",
      "14\n",
      "Test NMI = 0.6951 ARI = 0.3925 F = 0.5120 ACC = 0.4554\n",
      "================================================================\n",
      "\n"
     ]
    },
    {
     "name": "stderr",
     "output_type": "stream",
     "text": [
      "C:\\Users\\Tom-G\\.conda\\envs\\torchenv\\lib\\site-packages\\torch\\nn\\modules\\container.py:141: UserWarning: Implicit dimension choice for softmax has been deprecated. Change the call to include dim=X as an argument.\n",
      "  input = module(input)\n"
     ]
    },
    {
     "name": "stdout",
     "output_type": "stream",
     "text": [
      "Step [0/8]\t loss_instance: 6.036643981933594\t loss_cluster: 1.6921894550323486\n",
      "Step [2/8]\t loss_instance: 6.035790920257568\t loss_cluster: 1.6831164360046387\n",
      "Step [4/8]\t loss_instance: 6.0337748527526855\t loss_cluster: 1.687820553779602\n",
      "Step [6/8]\t loss_instance: 6.030429363250732\t loss_cluster: 1.688069462776184\n",
      "\n",
      "Epoch [80/500]\t Loss: 7.6350131869316105 \n",
      "\n",
      "Step [0/8]\t Computing features...\n",
      "Features shape (8192,)\n",
      "14\n",
      "Test NMI = 0.6966 ARI = 0.3977 F = 0.5178 ACC = 0.4772\n",
      "================================================================\n",
      "\n"
     ]
    },
    {
     "name": "stderr",
     "output_type": "stream",
     "text": [
      "C:\\Users\\Tom-G\\.conda\\envs\\torchenv\\lib\\site-packages\\torch\\nn\\modules\\container.py:141: UserWarning: Implicit dimension choice for softmax has been deprecated. Change the call to include dim=X as an argument.\n",
      "  input = module(input)\n"
     ]
    },
    {
     "name": "stdout",
     "output_type": "stream",
     "text": [
      "Step [0/8]\t loss_instance: 6.060830593109131\t loss_cluster: 1.7209551334381104\n",
      "Step [2/8]\t loss_instance: 6.040635108947754\t loss_cluster: 1.6930760145187378\n",
      "Step [4/8]\t loss_instance: 6.036999225616455\t loss_cluster: 1.6836334466934204\n",
      "Step [6/8]\t loss_instance: 6.040006160736084\t loss_cluster: 1.6912415027618408\n",
      "\n",
      "Epoch [81/500]\t Loss: 7.653449034690857 \n",
      "\n",
      "Step [0/8]\t Computing features...\n",
      "Features shape (8192,)\n",
      "14\n",
      "Test NMI = 0.7020 ARI = 0.4037 F = 0.5243 ACC = 0.4656\n",
      "================================================================\n",
      "\n"
     ]
    },
    {
     "name": "stderr",
     "output_type": "stream",
     "text": [
      "C:\\Users\\Tom-G\\.conda\\envs\\torchenv\\lib\\site-packages\\torch\\nn\\modules\\container.py:141: UserWarning: Implicit dimension choice for softmax has been deprecated. Change the call to include dim=X as an argument.\n",
      "  input = module(input)\n"
     ]
    },
    {
     "name": "stdout",
     "output_type": "stream",
     "text": [
      "Step [0/8]\t loss_instance: 6.038745880126953\t loss_cluster: 1.7044227123260498\n",
      "Step [2/8]\t loss_instance: 6.050600528717041\t loss_cluster: 1.699700951576233\n",
      "Step [4/8]\t loss_instance: 6.0330705642700195\t loss_cluster: 1.7018595933914185\n",
      "Step [6/8]\t loss_instance: 6.045497894287109\t loss_cluster: 1.6895545721054077\n",
      "\n",
      "Epoch [82/500]\t Loss: 7.644172942638397 \n",
      "\n",
      "Step [0/8]\t Computing features...\n",
      "Features shape (8192,)\n",
      "14\n",
      "Test NMI = 0.6970 ARI = 0.3958 F = 0.5160 ACC = 0.4706\n",
      "================================================================\n",
      "\n"
     ]
    },
    {
     "name": "stderr",
     "output_type": "stream",
     "text": [
      "C:\\Users\\Tom-G\\.conda\\envs\\torchenv\\lib\\site-packages\\torch\\nn\\modules\\container.py:141: UserWarning: Implicit dimension choice for softmax has been deprecated. Change the call to include dim=X as an argument.\n",
      "  input = module(input)\n"
     ]
    },
    {
     "name": "stdout",
     "output_type": "stream",
     "text": [
      "Step [0/8]\t loss_instance: 6.039332866668701\t loss_cluster: 1.6835777759552002\n",
      "Step [2/8]\t loss_instance: 6.03257942199707\t loss_cluster: 1.700158953666687\n",
      "Step [4/8]\t loss_instance: 6.035738468170166\t loss_cluster: 1.6780822277069092\n",
      "Step [6/8]\t loss_instance: 6.063232421875\t loss_cluster: 1.716909646987915\n",
      "\n",
      "Epoch [83/500]\t Loss: 7.63811885714531 \n",
      "\n",
      "Step [0/8]\t Computing features...\n",
      "Features shape (8192,)\n",
      "14\n",
      "Test NMI = 0.7003 ARI = 0.4033 F = 0.5238 ACC = 0.4790\n",
      "================================================================\n",
      "\n"
     ]
    },
    {
     "name": "stderr",
     "output_type": "stream",
     "text": [
      "C:\\Users\\Tom-G\\.conda\\envs\\torchenv\\lib\\site-packages\\torch\\nn\\modules\\container.py:141: UserWarning: Implicit dimension choice for softmax has been deprecated. Change the call to include dim=X as an argument.\n",
      "  input = module(input)\n"
     ]
    },
    {
     "name": "stdout",
     "output_type": "stream",
     "text": [
      "Step [0/8]\t loss_instance: 6.042356014251709\t loss_cluster: 1.6952952146530151\n",
      "Step [2/8]\t loss_instance: 6.053508758544922\t loss_cluster: 1.710112452507019\n",
      "Step [4/8]\t loss_instance: 6.046527862548828\t loss_cluster: 1.7046018838882446\n",
      "Step [6/8]\t loss_instance: 6.025942325592041\t loss_cluster: 1.6864420175552368\n",
      "\n",
      "Epoch [84/500]\t Loss: 7.6347259938716885 \n",
      "\n",
      "Step [0/8]\t Computing features...\n",
      "Features shape (8192,)\n",
      "14\n",
      "Test NMI = 0.7012 ARI = 0.4057 F = 0.5255 ACC = 0.4797\n",
      "================================================================\n",
      "\n"
     ]
    },
    {
     "name": "stderr",
     "output_type": "stream",
     "text": [
      "C:\\Users\\Tom-G\\.conda\\envs\\torchenv\\lib\\site-packages\\torch\\nn\\modules\\container.py:141: UserWarning: Implicit dimension choice for softmax has been deprecated. Change the call to include dim=X as an argument.\n",
      "  input = module(input)\n"
     ]
    },
    {
     "name": "stdout",
     "output_type": "stream",
     "text": [
      "Step [0/8]\t loss_instance: 6.036862850189209\t loss_cluster: 1.7039953470230103\n",
      "Step [2/8]\t loss_instance: 6.015131950378418\t loss_cluster: 1.671262264251709\n",
      "Step [4/8]\t loss_instance: 6.052618503570557\t loss_cluster: 1.701603651046753\n",
      "Step [6/8]\t loss_instance: 6.015056133270264\t loss_cluster: 1.6662834882736206\n",
      "\n",
      "Epoch [85/500]\t Loss: 7.6368622243404385 \n",
      "\n",
      "Step [0/8]\t Computing features...\n",
      "Features shape (8192,)\n",
      "14\n",
      "Test NMI = 0.6941 ARI = 0.3985 F = 0.5182 ACC = 0.4845\n",
      "================================================================\n",
      "\n"
     ]
    },
    {
     "name": "stderr",
     "output_type": "stream",
     "text": [
      "C:\\Users\\Tom-G\\.conda\\envs\\torchenv\\lib\\site-packages\\torch\\nn\\modules\\container.py:141: UserWarning: Implicit dimension choice for softmax has been deprecated. Change the call to include dim=X as an argument.\n",
      "  input = module(input)\n"
     ]
    },
    {
     "name": "stdout",
     "output_type": "stream",
     "text": [
      "Step [0/8]\t loss_instance: 6.036607265472412\t loss_cluster: 1.682993769645691\n",
      "Step [2/8]\t loss_instance: 6.034691333770752\t loss_cluster: 1.6961698532104492\n",
      "Step [4/8]\t loss_instance: 6.027050495147705\t loss_cluster: 1.6849223375320435\n",
      "Step [6/8]\t loss_instance: 6.032897472381592\t loss_cluster: 1.6777853965759277\n",
      "\n",
      "Epoch [86/500]\t Loss: 7.630370497703552 \n",
      "\n",
      "Step [0/8]\t Computing features...\n",
      "Features shape (8192,)\n",
      "14\n",
      "Test NMI = 0.6948 ARI = 0.3976 F = 0.5169 ACC = 0.4753\n",
      "================================================================\n",
      "\n"
     ]
    },
    {
     "name": "stderr",
     "output_type": "stream",
     "text": [
      "C:\\Users\\Tom-G\\.conda\\envs\\torchenv\\lib\\site-packages\\torch\\nn\\modules\\container.py:141: UserWarning: Implicit dimension choice for softmax has been deprecated. Change the call to include dim=X as an argument.\n",
      "  input = module(input)\n"
     ]
    },
    {
     "name": "stdout",
     "output_type": "stream",
     "text": [
      "Step [0/8]\t loss_instance: 6.020703315734863\t loss_cluster: 1.6696068048477173\n",
      "Step [2/8]\t loss_instance: 6.041654586791992\t loss_cluster: 1.6976526975631714\n",
      "Step [4/8]\t loss_instance: 6.049702167510986\t loss_cluster: 1.7100248336791992\n",
      "Step [6/8]\t loss_instance: 6.019696235656738\t loss_cluster: 1.6840192079544067\n",
      "\n",
      "Epoch [87/500]\t Loss: 7.641052758693695 \n",
      "\n",
      "Step [0/8]\t Computing features...\n",
      "Features shape (8192,)\n",
      "14\n",
      "Test NMI = 0.6976 ARI = 0.4029 F = 0.5225 ACC = 0.4865\n",
      "================================================================\n",
      "\n"
     ]
    },
    {
     "name": "stderr",
     "output_type": "stream",
     "text": [
      "C:\\Users\\Tom-G\\.conda\\envs\\torchenv\\lib\\site-packages\\torch\\nn\\modules\\container.py:141: UserWarning: Implicit dimension choice for softmax has been deprecated. Change the call to include dim=X as an argument.\n",
      "  input = module(input)\n"
     ]
    },
    {
     "name": "stdout",
     "output_type": "stream",
     "text": [
      "Step [0/8]\t loss_instance: 6.050020217895508\t loss_cluster: 1.707099437713623\n",
      "Step [2/8]\t loss_instance: 6.037734508514404\t loss_cluster: 1.694075107574463\n",
      "Step [4/8]\t loss_instance: 6.029786586761475\t loss_cluster: 1.6790958642959595\n",
      "Step [6/8]\t loss_instance: 6.031057357788086\t loss_cluster: 1.690377950668335\n",
      "\n",
      "Epoch [88/500]\t Loss: 7.636455100774765 \n",
      "\n",
      "Step [0/8]\t Computing features...\n",
      "Features shape (8192,)\n",
      "14\n",
      "Test NMI = 0.7052 ARI = 0.4134 F = 0.5330 ACC = 0.4724\n",
      "================================================================\n",
      "\n"
     ]
    },
    {
     "name": "stderr",
     "output_type": "stream",
     "text": [
      "C:\\Users\\Tom-G\\.conda\\envs\\torchenv\\lib\\site-packages\\torch\\nn\\modules\\container.py:141: UserWarning: Implicit dimension choice for softmax has been deprecated. Change the call to include dim=X as an argument.\n",
      "  input = module(input)\n"
     ]
    },
    {
     "name": "stdout",
     "output_type": "stream",
     "text": [
      "Step [0/8]\t loss_instance: 6.044284343719482\t loss_cluster: 1.6967369318008423\n",
      "Step [2/8]\t loss_instance: 6.018371105194092\t loss_cluster: 1.6625587940216064\n",
      "Step [4/8]\t loss_instance: 6.048197269439697\t loss_cluster: 1.6875816583633423\n",
      "Step [6/8]\t loss_instance: 6.034475326538086\t loss_cluster: 1.6848262548446655\n",
      "\n",
      "Epoch [89/500]\t Loss: 7.6283940255641935 \n",
      "\n",
      "Step [0/8]\t Computing features...\n",
      "Features shape (8192,)\n",
      "14\n",
      "Test NMI = 0.6979 ARI = 0.3983 F = 0.5181 ACC = 0.4657\n",
      "================================================================\n",
      "\n"
     ]
    },
    {
     "name": "stderr",
     "output_type": "stream",
     "text": [
      "C:\\Users\\Tom-G\\.conda\\envs\\torchenv\\lib\\site-packages\\torch\\nn\\modules\\container.py:141: UserWarning: Implicit dimension choice for softmax has been deprecated. Change the call to include dim=X as an argument.\n",
      "  input = module(input)\n"
     ]
    },
    {
     "name": "stdout",
     "output_type": "stream",
     "text": [
      "Step [0/8]\t loss_instance: 6.025516510009766\t loss_cluster: 1.685863733291626\n",
      "Step [2/8]\t loss_instance: 6.01649808883667\t loss_cluster: 1.6590133905410767\n",
      "Step [4/8]\t loss_instance: 6.047318935394287\t loss_cluster: 1.7024425268173218\n",
      "Step [6/8]\t loss_instance: 6.047976016998291\t loss_cluster: 1.7034119367599487\n",
      "\n",
      "Epoch [90/500]\t Loss: 7.62694975733757 \n",
      "\n",
      "Step [0/8]\t Computing features...\n",
      "Features shape (8192,)\n",
      "14\n",
      "Test NMI = 0.6985 ARI = 0.4024 F = 0.5223 ACC = 0.4740\n",
      "================================================================\n",
      "\n"
     ]
    },
    {
     "name": "stderr",
     "output_type": "stream",
     "text": [
      "C:\\Users\\Tom-G\\.conda\\envs\\torchenv\\lib\\site-packages\\torch\\nn\\modules\\container.py:141: UserWarning: Implicit dimension choice for softmax has been deprecated. Change the call to include dim=X as an argument.\n",
      "  input = module(input)\n"
     ]
    },
    {
     "name": "stdout",
     "output_type": "stream",
     "text": [
      "Step [0/8]\t loss_instance: 6.0337347984313965\t loss_cluster: 1.680774450302124\n",
      "Step [2/8]\t loss_instance: 6.037567138671875\t loss_cluster: 1.6856160163879395\n",
      "Step [4/8]\t loss_instance: 6.046844482421875\t loss_cluster: 1.7084013223648071\n",
      "Step [6/8]\t loss_instance: 6.022356033325195\t loss_cluster: 1.6653716564178467\n",
      "\n",
      "Epoch [91/500]\t Loss: 7.629761135578155 \n",
      "\n",
      "Step [0/8]\t Computing features...\n",
      "Features shape (8192,)\n",
      "14\n",
      "Test NMI = 0.7011 ARI = 0.4096 F = 0.5289 ACC = 0.4927\n",
      "================================================================\n",
      "\n"
     ]
    },
    {
     "name": "stderr",
     "output_type": "stream",
     "text": [
      "C:\\Users\\Tom-G\\.conda\\envs\\torchenv\\lib\\site-packages\\torch\\nn\\modules\\container.py:141: UserWarning: Implicit dimension choice for softmax has been deprecated. Change the call to include dim=X as an argument.\n",
      "  input = module(input)\n"
     ]
    },
    {
     "name": "stdout",
     "output_type": "stream",
     "text": [
      "Step [0/8]\t loss_instance: 6.024432182312012\t loss_cluster: 1.6807472705841064\n",
      "Step [2/8]\t loss_instance: 6.028018951416016\t loss_cluster: 1.6767104864120483\n",
      "Step [4/8]\t loss_instance: 6.015883445739746\t loss_cluster: 1.664535641670227\n",
      "Step [6/8]\t loss_instance: 6.040295124053955\t loss_cluster: 1.6997897624969482\n",
      "\n",
      "Epoch [92/500]\t Loss: 7.6226178169250485 \n",
      "\n",
      "Step [0/8]\t Computing features...\n",
      "Features shape (8192,)\n",
      "14\n",
      "Test NMI = 0.6995 ARI = 0.4055 F = 0.5252 ACC = 0.4832\n",
      "================================================================\n",
      "\n"
     ]
    },
    {
     "name": "stderr",
     "output_type": "stream",
     "text": [
      "C:\\Users\\Tom-G\\.conda\\envs\\torchenv\\lib\\site-packages\\torch\\nn\\modules\\container.py:141: UserWarning: Implicit dimension choice for softmax has been deprecated. Change the call to include dim=X as an argument.\n",
      "  input = module(input)\n"
     ]
    },
    {
     "name": "stdout",
     "output_type": "stream",
     "text": [
      "Step [0/8]\t loss_instance: 6.045187950134277\t loss_cluster: 1.7013400793075562\n",
      "Step [2/8]\t loss_instance: 6.042465686798096\t loss_cluster: 1.7041171789169312\n",
      "Step [4/8]\t loss_instance: 6.026918888092041\t loss_cluster: 1.6833372116088867\n",
      "Step [6/8]\t loss_instance: 6.031590461730957\t loss_cluster: 1.678958773612976\n",
      "\n",
      "Epoch [93/500]\t Loss: 7.62785375714302 \n",
      "\n",
      "Step [0/8]\t Computing features...\n",
      "Features shape (8192,)\n",
      "14\n",
      "Test NMI = 0.6968 ARI = 0.4006 F = 0.5199 ACC = 0.4843\n",
      "================================================================\n",
      "\n"
     ]
    },
    {
     "name": "stderr",
     "output_type": "stream",
     "text": [
      "C:\\Users\\Tom-G\\.conda\\envs\\torchenv\\lib\\site-packages\\torch\\nn\\modules\\container.py:141: UserWarning: Implicit dimension choice for softmax has been deprecated. Change the call to include dim=X as an argument.\n",
      "  input = module(input)\n"
     ]
    },
    {
     "name": "stdout",
     "output_type": "stream",
     "text": [
      "Step [0/8]\t loss_instance: 6.037528991699219\t loss_cluster: 1.6902247667312622\n",
      "Step [2/8]\t loss_instance: 6.02686071395874\t loss_cluster: 1.6819560527801514\n",
      "Step [4/8]\t loss_instance: 6.013088703155518\t loss_cluster: 1.6695653200149536\n",
      "Step [6/8]\t loss_instance: 6.030965805053711\t loss_cluster: 1.6867934465408325\n",
      "\n",
      "Epoch [94/500]\t Loss: 7.626615071296692 \n",
      "\n",
      "Step [0/8]\t Computing features...\n",
      "Features shape (8192,)\n",
      "14\n",
      "Test NMI = 0.6950 ARI = 0.3970 F = 0.5157 ACC = 0.4771\n",
      "================================================================\n",
      "\n"
     ]
    },
    {
     "name": "stderr",
     "output_type": "stream",
     "text": [
      "C:\\Users\\Tom-G\\.conda\\envs\\torchenv\\lib\\site-packages\\torch\\nn\\modules\\container.py:141: UserWarning: Implicit dimension choice for softmax has been deprecated. Change the call to include dim=X as an argument.\n",
      "  input = module(input)\n"
     ]
    },
    {
     "name": "stdout",
     "output_type": "stream",
     "text": [
      "Step [0/8]\t loss_instance: 6.032755374908447\t loss_cluster: 1.6870224475860596\n",
      "Step [2/8]\t loss_instance: 6.038670063018799\t loss_cluster: 1.6954600811004639\n",
      "Step [4/8]\t loss_instance: 6.03131628036499\t loss_cluster: 1.6896156072616577\n",
      "Step [6/8]\t loss_instance: 6.027261257171631\t loss_cluster: 1.6723442077636719\n",
      "\n",
      "Epoch [95/500]\t Loss: 7.632950085401535 \n",
      "\n",
      "Step [0/8]\t Computing features...\n",
      "Features shape (8192,)\n",
      "14\n",
      "Test NMI = 0.6950 ARI = 0.3959 F = 0.5163 ACC = 0.4698\n",
      "================================================================\n",
      "\n"
     ]
    },
    {
     "name": "stderr",
     "output_type": "stream",
     "text": [
      "C:\\Users\\Tom-G\\.conda\\envs\\torchenv\\lib\\site-packages\\torch\\nn\\modules\\container.py:141: UserWarning: Implicit dimension choice for softmax has been deprecated. Change the call to include dim=X as an argument.\n",
      "  input = module(input)\n"
     ]
    },
    {
     "name": "stdout",
     "output_type": "stream",
     "text": [
      "Step [0/8]\t loss_instance: 6.027856826782227\t loss_cluster: 1.668594479560852\n",
      "Step [2/8]\t loss_instance: 6.029395580291748\t loss_cluster: 1.6792576313018799\n",
      "Step [4/8]\t loss_instance: 6.044250011444092\t loss_cluster: 1.7082185745239258\n",
      "Step [6/8]\t loss_instance: 6.029245853424072\t loss_cluster: 1.677433729171753\n",
      "\n",
      "Epoch [96/500]\t Loss: 7.6232503175735475 \n",
      "\n",
      "Step [0/8]\t Computing features...\n",
      "Features shape (8192,)\n",
      "14\n",
      "Test NMI = 0.6974 ARI = 0.3993 F = 0.5193 ACC = 0.4775\n",
      "================================================================\n",
      "\n"
     ]
    },
    {
     "name": "stderr",
     "output_type": "stream",
     "text": [
      "C:\\Users\\Tom-G\\.conda\\envs\\torchenv\\lib\\site-packages\\torch\\nn\\modules\\container.py:141: UserWarning: Implicit dimension choice for softmax has been deprecated. Change the call to include dim=X as an argument.\n",
      "  input = module(input)\n"
     ]
    },
    {
     "name": "stdout",
     "output_type": "stream",
     "text": [
      "Step [0/8]\t loss_instance: 6.03909969329834\t loss_cluster: 1.6891423463821411\n",
      "Step [2/8]\t loss_instance: 6.027054786682129\t loss_cluster: 1.6762632131576538\n",
      "Step [4/8]\t loss_instance: 6.050732612609863\t loss_cluster: 1.6973389387130737\n",
      "Step [6/8]\t loss_instance: 6.025285720825195\t loss_cluster: 1.678659439086914\n",
      "\n",
      "Epoch [97/500]\t Loss: 7.618857651948929 \n",
      "\n",
      "Step [0/8]\t Computing features...\n",
      "Features shape (8192,)\n",
      "14\n",
      "Test NMI = 0.6973 ARI = 0.3978 F = 0.5181 ACC = 0.4645\n",
      "================================================================\n",
      "\n"
     ]
    },
    {
     "name": "stderr",
     "output_type": "stream",
     "text": [
      "C:\\Users\\Tom-G\\.conda\\envs\\torchenv\\lib\\site-packages\\torch\\nn\\modules\\container.py:141: UserWarning: Implicit dimension choice for softmax has been deprecated. Change the call to include dim=X as an argument.\n",
      "  input = module(input)\n"
     ]
    },
    {
     "name": "stdout",
     "output_type": "stream",
     "text": [
      "Step [0/8]\t loss_instance: 6.026078701019287\t loss_cluster: 1.6826633214950562\n",
      "Step [2/8]\t loss_instance: 6.0365729331970215\t loss_cluster: 1.6865779161453247\n",
      "Step [4/8]\t loss_instance: 6.0243988037109375\t loss_cluster: 1.686598777770996\n",
      "Step [6/8]\t loss_instance: 6.056173801422119\t loss_cluster: 1.712571382522583\n",
      "\n",
      "Epoch [98/500]\t Loss: 7.627515786886216 \n",
      "\n",
      "Step [0/8]\t Computing features...\n",
      "Features shape (8192,)\n",
      "14\n",
      "Test NMI = 0.7005 ARI = 0.4048 F = 0.5247 ACC = 0.4720\n",
      "================================================================\n",
      "\n"
     ]
    },
    {
     "name": "stderr",
     "output_type": "stream",
     "text": [
      "C:\\Users\\Tom-G\\.conda\\envs\\torchenv\\lib\\site-packages\\torch\\nn\\modules\\container.py:141: UserWarning: Implicit dimension choice for softmax has been deprecated. Change the call to include dim=X as an argument.\n",
      "  input = module(input)\n"
     ]
    },
    {
     "name": "stdout",
     "output_type": "stream",
     "text": [
      "Step [0/8]\t loss_instance: 6.027407646179199\t loss_cluster: 1.6861428022384644\n",
      "Step [2/8]\t loss_instance: 6.0463690757751465\t loss_cluster: 1.6956796646118164\n",
      "Step [4/8]\t loss_instance: 6.050175666809082\t loss_cluster: 1.694435954093933\n",
      "Step [6/8]\t loss_instance: 6.0381574630737305\t loss_cluster: 1.6866650581359863\n",
      "\n",
      "Epoch [99/500]\t Loss: 7.628466022014618 \n",
      "\n",
      "Step [0/8]\t Computing features...\n",
      "Features shape (8192,)\n",
      "14\n",
      "Test NMI = 0.6994 ARI = 0.4036 F = 0.5233 ACC = 0.4828\n",
      "================================================================\n",
      "\n"
     ]
    },
    {
     "name": "stderr",
     "output_type": "stream",
     "text": [
      "C:\\Users\\Tom-G\\.conda\\envs\\torchenv\\lib\\site-packages\\torch\\nn\\modules\\container.py:141: UserWarning: Implicit dimension choice for softmax has been deprecated. Change the call to include dim=X as an argument.\n",
      "  input = module(input)\n"
     ]
    },
    {
     "name": "stdout",
     "output_type": "stream",
     "text": [
      "Step [0/8]\t loss_instance: 6.020305633544922\t loss_cluster: 1.6706256866455078\n",
      "Step [2/8]\t loss_instance: 6.050384521484375\t loss_cluster: 1.696094274520874\n",
      "Step [4/8]\t loss_instance: 6.0370564460754395\t loss_cluster: 1.6813499927520752\n",
      "Step [6/8]\t loss_instance: 6.024997711181641\t loss_cluster: 1.665941596031189\n",
      "\n",
      "Epoch [100/500]\t Loss: 7.627162170410156 \n",
      "\n",
      "Step [0/8]\t Computing features...\n",
      "Features shape (8192,)\n",
      "14\n",
      "Test NMI = 0.7006 ARI = 0.4123 F = 0.5313 ACC = 0.5018\n",
      "================================================================\n",
      "\n"
     ]
    },
    {
     "name": "stderr",
     "output_type": "stream",
     "text": [
      "C:\\Users\\Tom-G\\.conda\\envs\\torchenv\\lib\\site-packages\\torch\\nn\\modules\\container.py:141: UserWarning: Implicit dimension choice for softmax has been deprecated. Change the call to include dim=X as an argument.\n",
      "  input = module(input)\n"
     ]
    },
    {
     "name": "stdout",
     "output_type": "stream",
     "text": [
      "Step [0/8]\t loss_instance: 6.0486626625061035\t loss_cluster: 1.6948403120040894\n",
      "Step [2/8]\t loss_instance: 6.049441337585449\t loss_cluster: 1.7076380252838135\n",
      "Step [4/8]\t loss_instance: 6.040829181671143\t loss_cluster: 1.6924234628677368\n",
      "Step [6/8]\t loss_instance: 6.043694972991943\t loss_cluster: 1.67923104763031\n",
      "\n",
      "Epoch [101/500]\t Loss: 7.624532479047775 \n",
      "\n",
      "Step [0/8]\t Computing features...\n",
      "Features shape (8192,)\n",
      "14\n",
      "Test NMI = 0.7026 ARI = 0.4159 F = 0.5349 ACC = 0.4966\n",
      "================================================================\n",
      "\n"
     ]
    },
    {
     "name": "stderr",
     "output_type": "stream",
     "text": [
      "C:\\Users\\Tom-G\\.conda\\envs\\torchenv\\lib\\site-packages\\torch\\nn\\modules\\container.py:141: UserWarning: Implicit dimension choice for softmax has been deprecated. Change the call to include dim=X as an argument.\n",
      "  input = module(input)\n"
     ]
    },
    {
     "name": "stdout",
     "output_type": "stream",
     "text": [
      "Step [0/8]\t loss_instance: 6.020468711853027\t loss_cluster: 1.6788913011550903\n",
      "Step [2/8]\t loss_instance: 6.063575744628906\t loss_cluster: 1.7090238332748413\n",
      "Step [4/8]\t loss_instance: 6.037884712219238\t loss_cluster: 1.691737174987793\n",
      "Step [6/8]\t loss_instance: 6.034064292907715\t loss_cluster: 1.6935926675796509\n",
      "\n",
      "Epoch [102/500]\t Loss: 7.626027268171311 \n",
      "\n",
      "Step [0/8]\t Computing features...\n",
      "Features shape (8192,)\n",
      "14\n",
      "Test NMI = 0.6997 ARI = 0.4076 F = 0.5268 ACC = 0.4923\n",
      "================================================================\n",
      "\n"
     ]
    },
    {
     "name": "stderr",
     "output_type": "stream",
     "text": [
      "C:\\Users\\Tom-G\\.conda\\envs\\torchenv\\lib\\site-packages\\torch\\nn\\modules\\container.py:141: UserWarning: Implicit dimension choice for softmax has been deprecated. Change the call to include dim=X as an argument.\n",
      "  input = module(input)\n"
     ]
    },
    {
     "name": "stdout",
     "output_type": "stream",
     "text": [
      "Step [0/8]\t loss_instance: 6.024277210235596\t loss_cluster: 1.6806172132492065\n",
      "Step [2/8]\t loss_instance: 6.0362868309021\t loss_cluster: 1.687201738357544\n",
      "Step [4/8]\t loss_instance: 6.050434112548828\t loss_cluster: 1.6982280015945435\n",
      "Step [6/8]\t loss_instance: 6.028385162353516\t loss_cluster: 1.6837807893753052\n",
      "\n",
      "Epoch [103/500]\t Loss: 7.626719111204148 \n",
      "\n",
      "Step [0/8]\t Computing features...\n",
      "Features shape (8192,)\n",
      "14\n",
      "Test NMI = 0.6974 ARI = 0.3973 F = 0.5180 ACC = 0.4646\n",
      "================================================================\n",
      "\n"
     ]
    },
    {
     "name": "stderr",
     "output_type": "stream",
     "text": [
      "C:\\Users\\Tom-G\\.conda\\envs\\torchenv\\lib\\site-packages\\torch\\nn\\modules\\container.py:141: UserWarning: Implicit dimension choice for softmax has been deprecated. Change the call to include dim=X as an argument.\n",
      "  input = module(input)\n"
     ]
    },
    {
     "name": "stdout",
     "output_type": "stream",
     "text": [
      "Step [0/8]\t loss_instance: 6.0318169593811035\t loss_cluster: 1.692236065864563\n",
      "Step [2/8]\t loss_instance: 6.029323101043701\t loss_cluster: 1.6840667724609375\n",
      "Step [4/8]\t loss_instance: 6.03300142288208\t loss_cluster: 1.6960283517837524\n",
      "Step [6/8]\t loss_instance: 6.044107437133789\t loss_cluster: 1.695495367050171\n",
      "\n",
      "Epoch [104/500]\t Loss: 7.6279889523983 \n",
      "\n",
      "Step [0/8]\t Computing features...\n",
      "Features shape (8192,)\n",
      "14\n",
      "Test NMI = 0.6968 ARI = 0.3975 F = 0.5175 ACC = 0.4650\n",
      "================================================================\n",
      "\n"
     ]
    },
    {
     "name": "stderr",
     "output_type": "stream",
     "text": [
      "C:\\Users\\Tom-G\\.conda\\envs\\torchenv\\lib\\site-packages\\torch\\nn\\modules\\container.py:141: UserWarning: Implicit dimension choice for softmax has been deprecated. Change the call to include dim=X as an argument.\n",
      "  input = module(input)\n"
     ]
    },
    {
     "name": "stdout",
     "output_type": "stream",
     "text": [
      "Step [0/8]\t loss_instance: 6.03803014755249\t loss_cluster: 1.7029122114181519\n",
      "Step [2/8]\t loss_instance: 6.020398139953613\t loss_cluster: 1.6739789247512817\n",
      "Step [4/8]\t loss_instance: 6.027539253234863\t loss_cluster: 1.6895087957382202\n",
      "Step [6/8]\t loss_instance: 6.042024612426758\t loss_cluster: 1.6888586282730103\n",
      "\n",
      "Epoch [105/500]\t Loss: 7.625896418094635 \n",
      "\n",
      "Step [0/8]\t Computing features...\n",
      "Features shape (8192,)\n",
      "14\n",
      "Test NMI = 0.7009 ARI = 0.4102 F = 0.5299 ACC = 0.4946\n",
      "================================================================\n",
      "\n"
     ]
    },
    {
     "name": "stderr",
     "output_type": "stream",
     "text": [
      "C:\\Users\\Tom-G\\.conda\\envs\\torchenv\\lib\\site-packages\\torch\\nn\\modules\\container.py:141: UserWarning: Implicit dimension choice for softmax has been deprecated. Change the call to include dim=X as an argument.\n",
      "  input = module(input)\n"
     ]
    },
    {
     "name": "stdout",
     "output_type": "stream",
     "text": [
      "Step [0/8]\t loss_instance: 6.0178937911987305\t loss_cluster: 1.669917345046997\n",
      "Step [2/8]\t loss_instance: 6.058027267456055\t loss_cluster: 1.709167718887329\n",
      "Step [4/8]\t loss_instance: 6.036136627197266\t loss_cluster: 1.6905062198638916\n",
      "Step [6/8]\t loss_instance: 6.010554790496826\t loss_cluster: 1.66047203540802\n",
      "\n",
      "Epoch [106/500]\t Loss: 7.621272766590119 \n",
      "\n",
      "Step [0/8]\t Computing features...\n",
      "Features shape (8192,)\n",
      "14\n",
      "Test NMI = 0.7001 ARI = 0.4069 F = 0.5262 ACC = 0.4910\n",
      "================================================================\n",
      "\n"
     ]
    },
    {
     "name": "stderr",
     "output_type": "stream",
     "text": [
      "C:\\Users\\Tom-G\\.conda\\envs\\torchenv\\lib\\site-packages\\torch\\nn\\modules\\container.py:141: UserWarning: Implicit dimension choice for softmax has been deprecated. Change the call to include dim=X as an argument.\n",
      "  input = module(input)\n"
     ]
    },
    {
     "name": "stdout",
     "output_type": "stream",
     "text": [
      "Step [0/8]\t loss_instance: 6.030109405517578\t loss_cluster: 1.6743013858795166\n",
      "Step [2/8]\t loss_instance: 6.0188727378845215\t loss_cluster: 1.6626732349395752\n",
      "Step [4/8]\t loss_instance: 6.047875881195068\t loss_cluster: 1.6883689165115356\n",
      "Step [6/8]\t loss_instance: 6.016708850860596\t loss_cluster: 1.66737961769104\n",
      "\n",
      "Epoch [107/500]\t Loss: 7.622997987270355 \n",
      "\n",
      "Step [0/8]\t Computing features...\n",
      "Features shape (8192,)\n",
      "14\n",
      "Test NMI = 0.6954 ARI = 0.4033 F = 0.5227 ACC = 0.4882\n",
      "================================================================\n",
      "\n"
     ]
    },
    {
     "name": "stderr",
     "output_type": "stream",
     "text": [
      "C:\\Users\\Tom-G\\.conda\\envs\\torchenv\\lib\\site-packages\\torch\\nn\\modules\\container.py:141: UserWarning: Implicit dimension choice for softmax has been deprecated. Change the call to include dim=X as an argument.\n",
      "  input = module(input)\n"
     ]
    },
    {
     "name": "stdout",
     "output_type": "stream",
     "text": [
      "Step [0/8]\t loss_instance: 6.020212173461914\t loss_cluster: 1.674228549003601\n",
      "Step [2/8]\t loss_instance: 6.049435615539551\t loss_cluster: 1.7097980976104736\n",
      "Step [4/8]\t loss_instance: 6.0462775230407715\t loss_cluster: 1.6923915147781372\n",
      "Step [6/8]\t loss_instance: 6.031607151031494\t loss_cluster: 1.6825190782546997\n",
      "\n",
      "Epoch [108/500]\t Loss: 7.623264336585999 \n",
      "\n",
      "Step [0/8]\t Computing features...\n",
      "Features shape (8192,)\n",
      "14\n",
      "Test NMI = 0.7004 ARI = 0.4042 F = 0.5241 ACC = 0.4707\n",
      "================================================================\n",
      "\n"
     ]
    },
    {
     "name": "stderr",
     "output_type": "stream",
     "text": [
      "C:\\Users\\Tom-G\\.conda\\envs\\torchenv\\lib\\site-packages\\torch\\nn\\modules\\container.py:141: UserWarning: Implicit dimension choice for softmax has been deprecated. Change the call to include dim=X as an argument.\n",
      "  input = module(input)\n"
     ]
    },
    {
     "name": "stdout",
     "output_type": "stream",
     "text": [
      "Step [0/8]\t loss_instance: 6.027318477630615\t loss_cluster: 1.6712554693222046\n",
      "Step [2/8]\t loss_instance: 6.037339210510254\t loss_cluster: 1.6743968725204468\n",
      "Step [4/8]\t loss_instance: 6.047545909881592\t loss_cluster: 1.700532078742981\n",
      "Step [6/8]\t loss_instance: 6.036515235900879\t loss_cluster: 1.6880604028701782\n",
      "\n",
      "Epoch [109/500]\t Loss: 7.626874899864196 \n",
      "\n",
      "Step [0/8]\t Computing features...\n",
      "Features shape (8192,)\n",
      "14\n",
      "Test NMI = 0.6934 ARI = 0.3951 F = 0.5150 ACC = 0.4736\n",
      "================================================================\n",
      "\n"
     ]
    },
    {
     "name": "stderr",
     "output_type": "stream",
     "text": [
      "C:\\Users\\Tom-G\\.conda\\envs\\torchenv\\lib\\site-packages\\torch\\nn\\modules\\container.py:141: UserWarning: Implicit dimension choice for softmax has been deprecated. Change the call to include dim=X as an argument.\n",
      "  input = module(input)\n"
     ]
    },
    {
     "name": "stdout",
     "output_type": "stream",
     "text": [
      "Step [0/8]\t loss_instance: 6.0386881828308105\t loss_cluster: 1.6878430843353271\n",
      "Step [2/8]\t loss_instance: 6.040034770965576\t loss_cluster: 1.6918224096298218\n",
      "Step [4/8]\t loss_instance: 6.036696910858154\t loss_cluster: 1.687461018562317\n",
      "Step [6/8]\t loss_instance: 6.037694454193115\t loss_cluster: 1.6889723539352417\n",
      "\n",
      "Epoch [110/500]\t Loss: 7.627274912595749 \n",
      "\n",
      "Step [0/8]\t Computing features...\n",
      "Features shape (8192,)\n",
      "14\n",
      "Test NMI = 0.6977 ARI = 0.3986 F = 0.5185 ACC = 0.4774\n",
      "================================================================\n",
      "\n"
     ]
    },
    {
     "name": "stderr",
     "output_type": "stream",
     "text": [
      "C:\\Users\\Tom-G\\.conda\\envs\\torchenv\\lib\\site-packages\\torch\\nn\\modules\\container.py:141: UserWarning: Implicit dimension choice for softmax has been deprecated. Change the call to include dim=X as an argument.\n",
      "  input = module(input)\n"
     ]
    },
    {
     "name": "stdout",
     "output_type": "stream",
     "text": [
      "Step [0/8]\t loss_instance: 6.030884742736816\t loss_cluster: 1.6824023723602295\n",
      "Step [2/8]\t loss_instance: 6.055188179016113\t loss_cluster: 1.7239335775375366\n",
      "Step [4/8]\t loss_instance: 6.026080131530762\t loss_cluster: 1.6812177896499634\n",
      "Step [6/8]\t loss_instance: 6.059031963348389\t loss_cluster: 1.7060112953186035\n",
      "\n",
      "Epoch [111/500]\t Loss: 7.6297750771045685 \n",
      "\n",
      "Step [0/8]\t Computing features...\n",
      "Features shape (8192,)\n",
      "14\n",
      "Test NMI = 0.6979 ARI = 0.3996 F = 0.5190 ACC = 0.4778\n",
      "================================================================\n",
      "\n"
     ]
    },
    {
     "name": "stderr",
     "output_type": "stream",
     "text": [
      "C:\\Users\\Tom-G\\.conda\\envs\\torchenv\\lib\\site-packages\\torch\\nn\\modules\\container.py:141: UserWarning: Implicit dimension choice for softmax has been deprecated. Change the call to include dim=X as an argument.\n",
      "  input = module(input)\n"
     ]
    },
    {
     "name": "stdout",
     "output_type": "stream",
     "text": [
      "Step [0/8]\t loss_instance: 6.040775299072266\t loss_cluster: 1.6907016038894653\n",
      "Step [2/8]\t loss_instance: 6.026403903961182\t loss_cluster: 1.6802924871444702\n",
      "Step [4/8]\t loss_instance: 6.037408351898193\t loss_cluster: 1.6863423585891724\n",
      "Step [6/8]\t loss_instance: 6.025822162628174\t loss_cluster: 1.68527090549469\n",
      "\n",
      "Epoch [112/500]\t Loss: 7.624982696771622 \n",
      "\n",
      "Step [0/8]\t Computing features...\n",
      "Features shape (8192,)\n",
      "14\n",
      "Test NMI = 0.6967 ARI = 0.4012 F = 0.5207 ACC = 0.4856\n",
      "================================================================\n",
      "\n"
     ]
    },
    {
     "name": "stderr",
     "output_type": "stream",
     "text": [
      "C:\\Users\\Tom-G\\.conda\\envs\\torchenv\\lib\\site-packages\\torch\\nn\\modules\\container.py:141: UserWarning: Implicit dimension choice for softmax has been deprecated. Change the call to include dim=X as an argument.\n",
      "  input = module(input)\n"
     ]
    },
    {
     "name": "stdout",
     "output_type": "stream",
     "text": [
      "Step [0/8]\t loss_instance: 6.017994403839111\t loss_cluster: 1.6643730401992798\n",
      "Step [2/8]\t loss_instance: 6.031024932861328\t loss_cluster: 1.690765380859375\n",
      "Step [4/8]\t loss_instance: 6.031809329986572\t loss_cluster: 1.686048150062561\n",
      "Step [6/8]\t loss_instance: 6.0343427658081055\t loss_cluster: 1.6784857511520386\n",
      "\n",
      "Epoch [113/500]\t Loss: 7.618135452270508 \n",
      "\n",
      "Step [0/8]\t Computing features...\n",
      "Features shape (8192,)\n",
      "14\n",
      "Test NMI = 0.6985 ARI = 0.4041 F = 0.5231 ACC = 0.4852\n",
      "================================================================\n",
      "\n"
     ]
    },
    {
     "name": "stderr",
     "output_type": "stream",
     "text": [
      "C:\\Users\\Tom-G\\.conda\\envs\\torchenv\\lib\\site-packages\\torch\\nn\\modules\\container.py:141: UserWarning: Implicit dimension choice for softmax has been deprecated. Change the call to include dim=X as an argument.\n",
      "  input = module(input)\n"
     ]
    },
    {
     "name": "stdout",
     "output_type": "stream",
     "text": [
      "Step [0/8]\t loss_instance: 6.036048412322998\t loss_cluster: 1.6890268325805664\n",
      "Step [2/8]\t loss_instance: 6.032440185546875\t loss_cluster: 1.685608148574829\n",
      "Step [4/8]\t loss_instance: 6.036623477935791\t loss_cluster: 1.678580641746521\n",
      "Step [6/8]\t loss_instance: 6.041207313537598\t loss_cluster: 1.690814733505249\n",
      "\n",
      "Epoch [114/500]\t Loss: 7.617332512140274 \n",
      "\n",
      "Step [0/8]\t Computing features...\n",
      "Features shape (8192,)\n",
      "14\n",
      "Test NMI = 0.6986 ARI = 0.4008 F = 0.5205 ACC = 0.4713\n",
      "================================================================\n",
      "\n"
     ]
    },
    {
     "name": "stderr",
     "output_type": "stream",
     "text": [
      "C:\\Users\\Tom-G\\.conda\\envs\\torchenv\\lib\\site-packages\\torch\\nn\\modules\\container.py:141: UserWarning: Implicit dimension choice for softmax has been deprecated. Change the call to include dim=X as an argument.\n",
      "  input = module(input)\n"
     ]
    },
    {
     "name": "stdout",
     "output_type": "stream",
     "text": [
      "Step [0/8]\t loss_instance: 6.052845001220703\t loss_cluster: 1.6975435018539429\n",
      "Step [2/8]\t loss_instance: 6.007567405700684\t loss_cluster: 1.6732206344604492\n",
      "Step [4/8]\t loss_instance: 6.040114879608154\t loss_cluster: 1.6752747297286987\n",
      "Step [6/8]\t loss_instance: 6.025268077850342\t loss_cluster: 1.6694263219833374\n",
      "\n",
      "Epoch [115/500]\t Loss: 7.616654109954834 \n",
      "\n",
      "Step [0/8]\t Computing features...\n",
      "Features shape (8192,)\n",
      "14\n",
      "Test NMI = 0.6964 ARI = 0.3967 F = 0.5164 ACC = 0.4753\n",
      "================================================================\n",
      "\n"
     ]
    },
    {
     "name": "stderr",
     "output_type": "stream",
     "text": [
      "C:\\Users\\Tom-G\\.conda\\envs\\torchenv\\lib\\site-packages\\torch\\nn\\modules\\container.py:141: UserWarning: Implicit dimension choice for softmax has been deprecated. Change the call to include dim=X as an argument.\n",
      "  input = module(input)\n"
     ]
    },
    {
     "name": "stdout",
     "output_type": "stream",
     "text": [
      "Step [0/8]\t loss_instance: 6.036860466003418\t loss_cluster: 1.6777650117874146\n",
      "Step [2/8]\t loss_instance: 6.025536060333252\t loss_cluster: 1.6718074083328247\n",
      "Step [4/8]\t loss_instance: 6.035218715667725\t loss_cluster: 1.683837890625\n",
      "Step [6/8]\t loss_instance: 6.032395839691162\t loss_cluster: 1.6773329973220825\n",
      "\n",
      "Epoch [116/500]\t Loss: 7.617101895809173 \n",
      "\n",
      "Step [0/8]\t Computing features...\n",
      "Features shape (8192,)\n",
      "14\n",
      "Test NMI = 0.6986 ARI = 0.4042 F = 0.5231 ACC = 0.4771\n",
      "================================================================\n",
      "\n"
     ]
    },
    {
     "name": "stderr",
     "output_type": "stream",
     "text": [
      "C:\\Users\\Tom-G\\.conda\\envs\\torchenv\\lib\\site-packages\\torch\\nn\\modules\\container.py:141: UserWarning: Implicit dimension choice for softmax has been deprecated. Change the call to include dim=X as an argument.\n",
      "  input = module(input)\n"
     ]
    },
    {
     "name": "stdout",
     "output_type": "stream",
     "text": [
      "Step [0/8]\t loss_instance: 6.052063941955566\t loss_cluster: 1.6987271308898926\n",
      "Step [2/8]\t loss_instance: 6.036922931671143\t loss_cluster: 1.6806573867797852\n",
      "Step [4/8]\t loss_instance: 6.0387043952941895\t loss_cluster: 1.6943291425704956\n",
      "Step [6/8]\t loss_instance: 6.023571491241455\t loss_cluster: 1.6655863523483276\n",
      "\n",
      "Epoch [117/500]\t Loss: 7.616064858436585 \n",
      "\n",
      "Step [0/8]\t Computing features...\n",
      "Features shape (8192,)\n",
      "14\n",
      "Test NMI = 0.6950 ARI = 0.3948 F = 0.5156 ACC = 0.4563\n",
      "================================================================\n",
      "\n"
     ]
    },
    {
     "name": "stderr",
     "output_type": "stream",
     "text": [
      "C:\\Users\\Tom-G\\.conda\\envs\\torchenv\\lib\\site-packages\\torch\\nn\\modules\\container.py:141: UserWarning: Implicit dimension choice for softmax has been deprecated. Change the call to include dim=X as an argument.\n",
      "  input = module(input)\n"
     ]
    },
    {
     "name": "stdout",
     "output_type": "stream",
     "text": [
      "Step [0/8]\t loss_instance: 6.022928714752197\t loss_cluster: 1.6821643114089966\n",
      "Step [2/8]\t loss_instance: 6.033527851104736\t loss_cluster: 1.677254557609558\n",
      "Step [4/8]\t loss_instance: 6.032001972198486\t loss_cluster: 1.6815372705459595\n",
      "Step [6/8]\t loss_instance: 6.053621768951416\t loss_cluster: 1.709747076034546\n",
      "\n",
      "Epoch [118/500]\t Loss: 7.620075672864914 \n",
      "\n",
      "Step [0/8]\t Computing features...\n",
      "Features shape (8192,)\n",
      "14\n",
      "Test NMI = 0.6997 ARI = 0.4044 F = 0.5247 ACC = 0.4628\n",
      "================================================================\n",
      "\n"
     ]
    },
    {
     "name": "stderr",
     "output_type": "stream",
     "text": [
      "C:\\Users\\Tom-G\\.conda\\envs\\torchenv\\lib\\site-packages\\torch\\nn\\modules\\container.py:141: UserWarning: Implicit dimension choice for softmax has been deprecated. Change the call to include dim=X as an argument.\n",
      "  input = module(input)\n"
     ]
    },
    {
     "name": "stdout",
     "output_type": "stream",
     "text": [
      "Step [0/8]\t loss_instance: 6.032124042510986\t loss_cluster: 1.683754563331604\n",
      "Step [2/8]\t loss_instance: 6.0496907234191895\t loss_cluster: 1.685413122177124\n",
      "Step [4/8]\t loss_instance: 6.031290531158447\t loss_cluster: 1.6750597953796387\n",
      "Step [6/8]\t loss_instance: 6.034437656402588\t loss_cluster: 1.6812139749526978\n",
      "\n",
      "Epoch [119/500]\t Loss: 7.615886408090591 \n",
      "\n",
      "Step [0/8]\t Computing features...\n",
      "Features shape (8192,)\n",
      "14\n",
      "Test NMI = 0.6995 ARI = 0.4024 F = 0.5227 ACC = 0.4678\n",
      "================================================================\n",
      "\n"
     ]
    },
    {
     "name": "stderr",
     "output_type": "stream",
     "text": [
      "C:\\Users\\Tom-G\\.conda\\envs\\torchenv\\lib\\site-packages\\torch\\nn\\modules\\container.py:141: UserWarning: Implicit dimension choice for softmax has been deprecated. Change the call to include dim=X as an argument.\n",
      "  input = module(input)\n"
     ]
    },
    {
     "name": "stdout",
     "output_type": "stream",
     "text": [
      "Step [0/8]\t loss_instance: 6.022634029388428\t loss_cluster: 1.674453854560852\n",
      "Step [2/8]\t loss_instance: 6.022847652435303\t loss_cluster: 1.6748769283294678\n",
      "Step [4/8]\t loss_instance: 6.042060375213623\t loss_cluster: 1.7019048929214478\n",
      "Step [6/8]\t loss_instance: 6.0488152503967285\t loss_cluster: 1.7067698240280151\n",
      "\n",
      "Epoch [120/500]\t Loss: 7.619903671741485 \n",
      "\n",
      "Step [0/8]\t Computing features...\n",
      "Features shape (8192,)\n",
      "14\n",
      "Test NMI = 0.6986 ARI = 0.4009 F = 0.5207 ACC = 0.4757\n",
      "================================================================\n",
      "\n"
     ]
    },
    {
     "name": "stderr",
     "output_type": "stream",
     "text": [
      "C:\\Users\\Tom-G\\.conda\\envs\\torchenv\\lib\\site-packages\\torch\\nn\\modules\\container.py:141: UserWarning: Implicit dimension choice for softmax has been deprecated. Change the call to include dim=X as an argument.\n",
      "  input = module(input)\n"
     ]
    },
    {
     "name": "stdout",
     "output_type": "stream",
     "text": [
      "Step [0/8]\t loss_instance: 6.0350799560546875\t loss_cluster: 1.6853830814361572\n",
      "Step [2/8]\t loss_instance: 6.019704341888428\t loss_cluster: 1.6692920923233032\n",
      "Step [4/8]\t loss_instance: 6.0313544273376465\t loss_cluster: 1.6881471872329712\n",
      "Step [6/8]\t loss_instance: 6.024191856384277\t loss_cluster: 1.6847797632217407\n",
      "\n",
      "Epoch [121/500]\t Loss: 7.621298229694366 \n",
      "\n",
      "Step [0/8]\t Computing features...\n",
      "Features shape (8192,)\n",
      "14\n",
      "Test NMI = 0.6980 ARI = 0.4045 F = 0.5240 ACC = 0.4825\n",
      "================================================================\n",
      "\n"
     ]
    },
    {
     "name": "stderr",
     "output_type": "stream",
     "text": [
      "C:\\Users\\Tom-G\\.conda\\envs\\torchenv\\lib\\site-packages\\torch\\nn\\modules\\container.py:141: UserWarning: Implicit dimension choice for softmax has been deprecated. Change the call to include dim=X as an argument.\n",
      "  input = module(input)\n"
     ]
    },
    {
     "name": "stdout",
     "output_type": "stream",
     "text": [
      "Step [0/8]\t loss_instance: 6.053147315979004\t loss_cluster: 1.7053189277648926\n",
      "Step [2/8]\t loss_instance: 6.033073902130127\t loss_cluster: 1.6833528280258179\n",
      "Step [4/8]\t loss_instance: 6.038674354553223\t loss_cluster: 1.6881897449493408\n",
      "Step [6/8]\t loss_instance: 6.0052289962768555\t loss_cluster: 1.6662404537200928\n",
      "\n",
      "Epoch [122/500]\t Loss: 7.6169407844543455 \n",
      "\n",
      "Step [0/8]\t Computing features...\n",
      "Features shape (8192,)\n",
      "14\n",
      "Test NMI = 0.6991 ARI = 0.4078 F = 0.5272 ACC = 0.4923\n",
      "================================================================\n",
      "\n"
     ]
    },
    {
     "name": "stderr",
     "output_type": "stream",
     "text": [
      "C:\\Users\\Tom-G\\.conda\\envs\\torchenv\\lib\\site-packages\\torch\\nn\\modules\\container.py:141: UserWarning: Implicit dimension choice for softmax has been deprecated. Change the call to include dim=X as an argument.\n",
      "  input = module(input)\n"
     ]
    },
    {
     "name": "stdout",
     "output_type": "stream",
     "text": [
      "Step [0/8]\t loss_instance: 6.015923976898193\t loss_cluster: 1.6666020154953003\n",
      "Step [2/8]\t loss_instance: 6.02288293838501\t loss_cluster: 1.678621768951416\n",
      "Step [4/8]\t loss_instance: 6.0540008544921875\t loss_cluster: 1.6932568550109863\n",
      "Step [6/8]\t loss_instance: 6.035568714141846\t loss_cluster: 1.6775233745574951\n",
      "\n",
      "Epoch [123/500]\t Loss: 7.616597759723663 \n",
      "\n",
      "Step [0/8]\t Computing features...\n",
      "Features shape (8192,)\n",
      "14\n",
      "Test NMI = 0.7010 ARI = 0.4088 F = 0.5285 ACC = 0.4904\n",
      "================================================================\n",
      "\n"
     ]
    },
    {
     "name": "stderr",
     "output_type": "stream",
     "text": [
      "C:\\Users\\Tom-G\\.conda\\envs\\torchenv\\lib\\site-packages\\torch\\nn\\modules\\container.py:141: UserWarning: Implicit dimension choice for softmax has been deprecated. Change the call to include dim=X as an argument.\n",
      "  input = module(input)\n"
     ]
    },
    {
     "name": "stdout",
     "output_type": "stream",
     "text": [
      "Step [0/8]\t loss_instance: 6.028966426849365\t loss_cluster: 1.677120566368103\n",
      "Step [2/8]\t loss_instance: 6.034214496612549\t loss_cluster: 1.6836934089660645\n",
      "Step [4/8]\t loss_instance: 6.020827770233154\t loss_cluster: 1.6559680700302124\n",
      "Step [6/8]\t loss_instance: 6.02318811416626\t loss_cluster: 1.6870018243789673\n",
      "\n",
      "Epoch [124/500]\t Loss: 7.613286799192428 \n",
      "\n",
      "Step [0/8]\t Computing features...\n",
      "Features shape (8192,)\n",
      "14\n",
      "Test NMI = 0.6992 ARI = 0.4009 F = 0.5209 ACC = 0.4740\n",
      "================================================================\n",
      "\n"
     ]
    },
    {
     "name": "stderr",
     "output_type": "stream",
     "text": [
      "C:\\Users\\Tom-G\\.conda\\envs\\torchenv\\lib\\site-packages\\torch\\nn\\modules\\container.py:141: UserWarning: Implicit dimension choice for softmax has been deprecated. Change the call to include dim=X as an argument.\n",
      "  input = module(input)\n"
     ]
    },
    {
     "name": "stdout",
     "output_type": "stream",
     "text": [
      "Step [0/8]\t loss_instance: 6.031899929046631\t loss_cluster: 1.6850749254226685\n",
      "Step [2/8]\t loss_instance: 6.022057056427002\t loss_cluster: 1.6773771047592163\n",
      "Step [4/8]\t loss_instance: 6.022769451141357\t loss_cluster: 1.680080533027649\n",
      "Step [6/8]\t loss_instance: 6.040365219116211\t loss_cluster: 1.690724492073059\n",
      "\n",
      "Epoch [125/500]\t Loss: 7.609716200828553 \n",
      "\n",
      "Step [0/8]\t Computing features...\n",
      "Features shape (8192,)\n",
      "14\n",
      "Test NMI = 0.6982 ARI = 0.3997 F = 0.5202 ACC = 0.4663\n",
      "================================================================\n",
      "\n"
     ]
    },
    {
     "name": "stderr",
     "output_type": "stream",
     "text": [
      "C:\\Users\\Tom-G\\.conda\\envs\\torchenv\\lib\\site-packages\\torch\\nn\\modules\\container.py:141: UserWarning: Implicit dimension choice for softmax has been deprecated. Change the call to include dim=X as an argument.\n",
      "  input = module(input)\n"
     ]
    },
    {
     "name": "stdout",
     "output_type": "stream",
     "text": [
      "Step [0/8]\t loss_instance: 6.040470600128174\t loss_cluster: 1.697762370109558\n",
      "Step [2/8]\t loss_instance: 6.0356340408325195\t loss_cluster: 1.6998497247695923\n",
      "Step [4/8]\t loss_instance: 6.046064376831055\t loss_cluster: 1.6917847394943237\n",
      "Step [6/8]\t loss_instance: 6.041029930114746\t loss_cluster: 1.6830952167510986\n",
      "\n",
      "Epoch [126/500]\t Loss: 7.614932370185852 \n",
      "\n",
      "Step [0/8]\t Computing features...\n",
      "Features shape (8192,)\n",
      "14\n",
      "Test NMI = 0.6960 ARI = 0.4003 F = 0.5204 ACC = 0.4788\n",
      "================================================================\n",
      "\n"
     ]
    },
    {
     "name": "stderr",
     "output_type": "stream",
     "text": [
      "C:\\Users\\Tom-G\\.conda\\envs\\torchenv\\lib\\site-packages\\torch\\nn\\modules\\container.py:141: UserWarning: Implicit dimension choice for softmax has been deprecated. Change the call to include dim=X as an argument.\n",
      "  input = module(input)\n"
     ]
    },
    {
     "name": "stdout",
     "output_type": "stream",
     "text": [
      "Step [0/8]\t loss_instance: 6.0453033447265625\t loss_cluster: 1.6905255317687988\n",
      "Step [2/8]\t loss_instance: 6.051107406616211\t loss_cluster: 1.7169032096862793\n",
      "Step [4/8]\t loss_instance: 6.039870262145996\t loss_cluster: 1.6953449249267578\n",
      "Step [6/8]\t loss_instance: 6.018289566040039\t loss_cluster: 1.667688012123108\n",
      "\n",
      "Epoch [127/500]\t Loss: 7.611896055936813 \n",
      "\n",
      "Step [0/8]\t Computing features...\n",
      "Features shape (8192,)\n",
      "14\n",
      "Test NMI = 0.6959 ARI = 0.3988 F = 0.5186 ACC = 0.4834\n",
      "================================================================\n",
      "\n"
     ]
    },
    {
     "name": "stderr",
     "output_type": "stream",
     "text": [
      "C:\\Users\\Tom-G\\.conda\\envs\\torchenv\\lib\\site-packages\\torch\\nn\\modules\\container.py:141: UserWarning: Implicit dimension choice for softmax has been deprecated. Change the call to include dim=X as an argument.\n",
      "  input = module(input)\n"
     ]
    },
    {
     "name": "stdout",
     "output_type": "stream",
     "text": [
      "Step [0/8]\t loss_instance: 6.034532070159912\t loss_cluster: 1.6863186359405518\n",
      "Step [2/8]\t loss_instance: 6.059414386749268\t loss_cluster: 1.710379958152771\n",
      "Step [4/8]\t loss_instance: 6.024765968322754\t loss_cluster: 1.680164098739624\n",
      "Step [6/8]\t loss_instance: 6.019638538360596\t loss_cluster: 1.6770234107971191\n",
      "\n",
      "Epoch [128/500]\t Loss: 7.618997871875763 \n",
      "\n",
      "Step [0/8]\t Computing features...\n",
      "Features shape (8192,)\n",
      "14\n",
      "Test NMI = 0.6979 ARI = 0.4045 F = 0.5243 ACC = 0.4763\n",
      "================================================================\n",
      "\n"
     ]
    },
    {
     "name": "stderr",
     "output_type": "stream",
     "text": [
      "C:\\Users\\Tom-G\\.conda\\envs\\torchenv\\lib\\site-packages\\torch\\nn\\modules\\container.py:141: UserWarning: Implicit dimension choice for softmax has been deprecated. Change the call to include dim=X as an argument.\n",
      "  input = module(input)\n"
     ]
    },
    {
     "name": "stdout",
     "output_type": "stream",
     "text": [
      "Step [0/8]\t loss_instance: 6.034804821014404\t loss_cluster: 1.6894919872283936\n",
      "Step [2/8]\t loss_instance: 6.020777225494385\t loss_cluster: 1.6827236413955688\n",
      "Step [4/8]\t loss_instance: 6.0456132888793945\t loss_cluster: 1.6965792179107666\n",
      "Step [6/8]\t loss_instance: 6.041186332702637\t loss_cluster: 1.6788092851638794\n",
      "\n",
      "Epoch [129/500]\t Loss: 7.615605151653289 \n",
      "\n",
      "Step [0/8]\t Computing features...\n",
      "Features shape (8192,)\n",
      "14\n",
      "Test NMI = 0.6946 ARI = 0.3961 F = 0.5161 ACC = 0.4767\n",
      "================================================================\n",
      "\n"
     ]
    },
    {
     "name": "stderr",
     "output_type": "stream",
     "text": [
      "C:\\Users\\Tom-G\\.conda\\envs\\torchenv\\lib\\site-packages\\torch\\nn\\modules\\container.py:141: UserWarning: Implicit dimension choice for softmax has been deprecated. Change the call to include dim=X as an argument.\n",
      "  input = module(input)\n"
     ]
    },
    {
     "name": "stdout",
     "output_type": "stream",
     "text": [
      "Step [0/8]\t loss_instance: 6.032066822052002\t loss_cluster: 1.686425805091858\n",
      "Step [2/8]\t loss_instance: 6.0182085037231445\t loss_cluster: 1.6751130819320679\n",
      "Step [4/8]\t loss_instance: 6.034983158111572\t loss_cluster: 1.6960229873657227\n",
      "Step [6/8]\t loss_instance: 6.042606353759766\t loss_cluster: 1.6825023889541626\n",
      "\n",
      "Epoch [130/500]\t Loss: 7.61044065952301 \n",
      "\n",
      "Step [0/8]\t Computing features...\n",
      "Features shape (8192,)\n",
      "14\n",
      "Test NMI = 0.6974 ARI = 0.3987 F = 0.5186 ACC = 0.4705\n",
      "================================================================\n",
      "\n"
     ]
    },
    {
     "name": "stderr",
     "output_type": "stream",
     "text": [
      "C:\\Users\\Tom-G\\.conda\\envs\\torchenv\\lib\\site-packages\\torch\\nn\\modules\\container.py:141: UserWarning: Implicit dimension choice for softmax has been deprecated. Change the call to include dim=X as an argument.\n",
      "  input = module(input)\n"
     ]
    },
    {
     "name": "stdout",
     "output_type": "stream",
     "text": [
      "Step [0/8]\t loss_instance: 6.021365165710449\t loss_cluster: 1.6757944822311401\n",
      "Step [2/8]\t loss_instance: 6.019879341125488\t loss_cluster: 1.6677066087722778\n",
      "Step [4/8]\t loss_instance: 6.035935401916504\t loss_cluster: 1.6901289224624634\n",
      "Step [6/8]\t loss_instance: 6.017569065093994\t loss_cluster: 1.6672450304031372\n",
      "\n",
      "Epoch [131/500]\t Loss: 7.609788006544113 \n",
      "\n",
      "Step [0/8]\t Computing features...\n",
      "Features shape (8192,)\n",
      "14\n",
      "Test NMI = 0.7013 ARI = 0.4070 F = 0.5265 ACC = 0.4886\n",
      "================================================================\n",
      "\n"
     ]
    },
    {
     "name": "stderr",
     "output_type": "stream",
     "text": [
      "C:\\Users\\Tom-G\\.conda\\envs\\torchenv\\lib\\site-packages\\torch\\nn\\modules\\container.py:141: UserWarning: Implicit dimension choice for softmax has been deprecated. Change the call to include dim=X as an argument.\n",
      "  input = module(input)\n"
     ]
    },
    {
     "name": "stdout",
     "output_type": "stream",
     "text": [
      "Step [0/8]\t loss_instance: 6.015188217163086\t loss_cluster: 1.6733646392822266\n",
      "Step [2/8]\t loss_instance: 6.034440517425537\t loss_cluster: 1.6885114908218384\n",
      "Step [4/8]\t loss_instance: 6.028026103973389\t loss_cluster: 1.6806811094284058\n",
      "Step [6/8]\t loss_instance: 6.048886299133301\t loss_cluster: 1.7080888748168945\n",
      "\n",
      "Epoch [132/500]\t Loss: 7.615811681747436 \n",
      "\n",
      "Step [0/8]\t Computing features...\n",
      "Features shape (8192,)\n",
      "14\n",
      "Test NMI = 0.6970 ARI = 0.4018 F = 0.5219 ACC = 0.4773\n",
      "================================================================\n",
      "\n"
     ]
    },
    {
     "name": "stderr",
     "output_type": "stream",
     "text": [
      "C:\\Users\\Tom-G\\.conda\\envs\\torchenv\\lib\\site-packages\\torch\\nn\\modules\\container.py:141: UserWarning: Implicit dimension choice for softmax has been deprecated. Change the call to include dim=X as an argument.\n",
      "  input = module(input)\n"
     ]
    },
    {
     "name": "stdout",
     "output_type": "stream",
     "text": [
      "Step [0/8]\t loss_instance: 6.028971195220947\t loss_cluster: 1.6751974821090698\n",
      "Step [2/8]\t loss_instance: 6.023773670196533\t loss_cluster: 1.6776344776153564\n",
      "Step [4/8]\t loss_instance: 6.04203462600708\t loss_cluster: 1.6879059076309204\n",
      "Step [6/8]\t loss_instance: 6.005421161651611\t loss_cluster: 1.6630258560180664\n",
      "\n",
      "Epoch [133/500]\t Loss: 7.60515319108963 \n",
      "\n",
      "Step [0/8]\t Computing features...\n",
      "Features shape (8192,)\n",
      "14\n",
      "Test NMI = 0.7006 ARI = 0.4074 F = 0.5269 ACC = 0.4838\n",
      "================================================================\n",
      "\n"
     ]
    },
    {
     "name": "stderr",
     "output_type": "stream",
     "text": [
      "C:\\Users\\Tom-G\\.conda\\envs\\torchenv\\lib\\site-packages\\torch\\nn\\modules\\container.py:141: UserWarning: Implicit dimension choice for softmax has been deprecated. Change the call to include dim=X as an argument.\n",
      "  input = module(input)\n"
     ]
    },
    {
     "name": "stdout",
     "output_type": "stream",
     "text": [
      "Step [0/8]\t loss_instance: 6.019115924835205\t loss_cluster: 1.6764602661132812\n",
      "Step [2/8]\t loss_instance: 6.039597034454346\t loss_cluster: 1.6885430812835693\n",
      "Step [4/8]\t loss_instance: 6.033345699310303\t loss_cluster: 1.6803195476531982\n",
      "Step [6/8]\t loss_instance: 6.03551721572876\t loss_cluster: 1.6800997257232666\n",
      "\n",
      "Epoch [134/500]\t Loss: 7.612903356552124 \n",
      "\n",
      "Step [0/8]\t Computing features...\n",
      "Features shape (8192,)\n",
      "14\n",
      "Test NMI = 0.6983 ARI = 0.4004 F = 0.5205 ACC = 0.4662\n",
      "================================================================\n",
      "\n"
     ]
    },
    {
     "name": "stderr",
     "output_type": "stream",
     "text": [
      "C:\\Users\\Tom-G\\.conda\\envs\\torchenv\\lib\\site-packages\\torch\\nn\\modules\\container.py:141: UserWarning: Implicit dimension choice for softmax has been deprecated. Change the call to include dim=X as an argument.\n",
      "  input = module(input)\n"
     ]
    },
    {
     "name": "stdout",
     "output_type": "stream",
     "text": [
      "Step [0/8]\t loss_instance: 6.044719219207764\t loss_cluster: 1.6868348121643066\n",
      "Step [2/8]\t loss_instance: 6.025809288024902\t loss_cluster: 1.6850894689559937\n",
      "Step [4/8]\t loss_instance: 6.043511867523193\t loss_cluster: 1.6788907051086426\n",
      "Step [6/8]\t loss_instance: 6.030923366546631\t loss_cluster: 1.6795119047164917\n",
      "\n",
      "Epoch [135/500]\t Loss: 7.620423233509063 \n",
      "\n",
      "Step [0/8]\t Computing features...\n",
      "Features shape (8192,)\n",
      "14\n",
      "Test NMI = 0.7000 ARI = 0.4038 F = 0.5238 ACC = 0.4778\n",
      "================================================================\n",
      "\n"
     ]
    },
    {
     "name": "stderr",
     "output_type": "stream",
     "text": [
      "C:\\Users\\Tom-G\\.conda\\envs\\torchenv\\lib\\site-packages\\torch\\nn\\modules\\container.py:141: UserWarning: Implicit dimension choice for softmax has been deprecated. Change the call to include dim=X as an argument.\n",
      "  input = module(input)\n"
     ]
    },
    {
     "name": "stdout",
     "output_type": "stream",
     "text": [
      "Step [0/8]\t loss_instance: 6.031459331512451\t loss_cluster: 1.6727122068405151\n",
      "Step [2/8]\t loss_instance: 6.0485005378723145\t loss_cluster: 1.6961129903793335\n",
      "Step [4/8]\t loss_instance: 6.042012691497803\t loss_cluster: 1.695878505706787\n",
      "Step [6/8]\t loss_instance: 6.040402412414551\t loss_cluster: 1.6828142404556274\n",
      "\n",
      "Epoch [136/500]\t Loss: 7.613024896383285 \n",
      "\n",
      "Step [0/8]\t Computing features...\n",
      "Features shape (8192,)\n",
      "14\n",
      "Test NMI = 0.6981 ARI = 0.4012 F = 0.5208 ACC = 0.4736\n",
      "================================================================\n",
      "\n"
     ]
    },
    {
     "name": "stderr",
     "output_type": "stream",
     "text": [
      "C:\\Users\\Tom-G\\.conda\\envs\\torchenv\\lib\\site-packages\\torch\\nn\\modules\\container.py:141: UserWarning: Implicit dimension choice for softmax has been deprecated. Change the call to include dim=X as an argument.\n",
      "  input = module(input)\n"
     ]
    },
    {
     "name": "stdout",
     "output_type": "stream",
     "text": [
      "Step [0/8]\t loss_instance: 6.0239105224609375\t loss_cluster: 1.6711275577545166\n",
      "Step [2/8]\t loss_instance: 6.066707134246826\t loss_cluster: 1.708101749420166\n",
      "Step [4/8]\t loss_instance: 6.012390613555908\t loss_cluster: 1.662864089012146\n",
      "Step [6/8]\t loss_instance: 6.0277485847473145\t loss_cluster: 1.6726621389389038\n",
      "\n",
      "Epoch [137/500]\t Loss: 7.604689818620682 \n",
      "\n",
      "Step [0/8]\t Computing features...\n",
      "Features shape (8192,)\n",
      "14\n",
      "Test NMI = 0.7019 ARI = 0.4064 F = 0.5263 ACC = 0.4611\n",
      "================================================================\n",
      "\n"
     ]
    },
    {
     "name": "stderr",
     "output_type": "stream",
     "text": [
      "C:\\Users\\Tom-G\\.conda\\envs\\torchenv\\lib\\site-packages\\torch\\nn\\modules\\container.py:141: UserWarning: Implicit dimension choice for softmax has been deprecated. Change the call to include dim=X as an argument.\n",
      "  input = module(input)\n"
     ]
    },
    {
     "name": "stdout",
     "output_type": "stream",
     "text": [
      "Step [0/8]\t loss_instance: 6.028437614440918\t loss_cluster: 1.6844561100006104\n",
      "Step [2/8]\t loss_instance: 6.011981010437012\t loss_cluster: 1.6758843660354614\n",
      "Step [4/8]\t loss_instance: 6.031061172485352\t loss_cluster: 1.6739366054534912\n",
      "Step [6/8]\t loss_instance: 6.07377815246582\t loss_cluster: 1.722423791885376\n",
      "\n",
      "Epoch [138/500]\t Loss: 7.619095593690872 \n",
      "\n",
      "Step [0/8]\t Computing features...\n",
      "Features shape (8192,)\n",
      "14\n",
      "Test NMI = 0.6930 ARI = 0.3950 F = 0.5147 ACC = 0.4727\n",
      "================================================================\n",
      "\n"
     ]
    },
    {
     "name": "stderr",
     "output_type": "stream",
     "text": [
      "C:\\Users\\Tom-G\\.conda\\envs\\torchenv\\lib\\site-packages\\torch\\nn\\modules\\container.py:141: UserWarning: Implicit dimension choice for softmax has been deprecated. Change the call to include dim=X as an argument.\n",
      "  input = module(input)\n"
     ]
    },
    {
     "name": "stdout",
     "output_type": "stream",
     "text": [
      "Step [0/8]\t loss_instance: 6.032907485961914\t loss_cluster: 1.680742621421814\n",
      "Step [2/8]\t loss_instance: 6.049825191497803\t loss_cluster: 1.6884411573410034\n",
      "Step [4/8]\t loss_instance: 6.023983478546143\t loss_cluster: 1.6715118885040283\n",
      "Step [6/8]\t loss_instance: 6.018631458282471\t loss_cluster: 1.6709935665130615\n",
      "\n",
      "Epoch [139/500]\t Loss: 7.610367065668106 \n",
      "\n",
      "Step [0/8]\t Computing features...\n",
      "Features shape (8192,)\n",
      "14\n",
      "Test NMI = 0.7001 ARI = 0.4041 F = 0.5238 ACC = 0.4791\n",
      "================================================================\n",
      "\n"
     ]
    },
    {
     "name": "stderr",
     "output_type": "stream",
     "text": [
      "C:\\Users\\Tom-G\\.conda\\envs\\torchenv\\lib\\site-packages\\torch\\nn\\modules\\container.py:141: UserWarning: Implicit dimension choice for softmax has been deprecated. Change the call to include dim=X as an argument.\n",
      "  input = module(input)\n"
     ]
    },
    {
     "name": "stdout",
     "output_type": "stream",
     "text": [
      "Step [0/8]\t loss_instance: 6.028927803039551\t loss_cluster: 1.6711201667785645\n",
      "Step [2/8]\t loss_instance: 6.055019378662109\t loss_cluster: 1.7080647945404053\n",
      "Step [4/8]\t loss_instance: 6.032433032989502\t loss_cluster: 1.6815146207809448\n",
      "Step [6/8]\t loss_instance: 6.032461643218994\t loss_cluster: 1.7001746892929077\n",
      "\n",
      "Epoch [140/500]\t Loss: 7.6167561411857605 \n",
      "\n",
      "Step [0/8]\t Computing features...\n",
      "Features shape (8192,)\n",
      "14\n",
      "Test NMI = 0.6984 ARI = 0.4044 F = 0.5242 ACC = 0.4850\n",
      "================================================================\n",
      "\n"
     ]
    },
    {
     "name": "stderr",
     "output_type": "stream",
     "text": [
      "C:\\Users\\Tom-G\\.conda\\envs\\torchenv\\lib\\site-packages\\torch\\nn\\modules\\container.py:141: UserWarning: Implicit dimension choice for softmax has been deprecated. Change the call to include dim=X as an argument.\n",
      "  input = module(input)\n"
     ]
    },
    {
     "name": "stdout",
     "output_type": "stream",
     "text": [
      "Step [0/8]\t loss_instance: 6.030336380004883\t loss_cluster: 1.6646496057510376\n",
      "Step [2/8]\t loss_instance: 6.041649341583252\t loss_cluster: 1.708754301071167\n",
      "Step [4/8]\t loss_instance: 6.043400764465332\t loss_cluster: 1.6826292276382446\n",
      "Step [6/8]\t loss_instance: 6.0222697257995605\t loss_cluster: 1.6713495254516602\n",
      "\n",
      "Epoch [141/500]\t Loss: 7.611543613672256 \n",
      "\n",
      "Step [0/8]\t Computing features...\n",
      "Features shape (8192,)\n",
      "14\n",
      "Test NMI = 0.6964 ARI = 0.3975 F = 0.5179 ACC = 0.4702\n",
      "================================================================\n",
      "\n"
     ]
    },
    {
     "name": "stderr",
     "output_type": "stream",
     "text": [
      "C:\\Users\\Tom-G\\.conda\\envs\\torchenv\\lib\\site-packages\\torch\\nn\\modules\\container.py:141: UserWarning: Implicit dimension choice for softmax has been deprecated. Change the call to include dim=X as an argument.\n",
      "  input = module(input)\n"
     ]
    },
    {
     "name": "stdout",
     "output_type": "stream",
     "text": [
      "Step [0/8]\t loss_instance: 6.031816005706787\t loss_cluster: 1.6830214262008667\n",
      "Step [2/8]\t loss_instance: 6.017625331878662\t loss_cluster: 1.678369402885437\n",
      "Step [4/8]\t loss_instance: 6.034880638122559\t loss_cluster: 1.6783998012542725\n",
      "Step [6/8]\t loss_instance: 6.0339837074279785\t loss_cluster: 1.6946178674697876\n",
      "\n",
      "Epoch [142/500]\t Loss: 7.611824518442154 \n",
      "\n",
      "Step [0/8]\t Computing features...\n",
      "Features shape (8192,)\n",
      "14\n",
      "Test NMI = 0.6952 ARI = 0.3965 F = 0.5167 ACC = 0.4641\n",
      "================================================================\n",
      "\n"
     ]
    },
    {
     "name": "stderr",
     "output_type": "stream",
     "text": [
      "C:\\Users\\Tom-G\\.conda\\envs\\torchenv\\lib\\site-packages\\torch\\nn\\modules\\container.py:141: UserWarning: Implicit dimension choice for softmax has been deprecated. Change the call to include dim=X as an argument.\n",
      "  input = module(input)\n"
     ]
    },
    {
     "name": "stdout",
     "output_type": "stream",
     "text": [
      "Step [0/8]\t loss_instance: 6.052536487579346\t loss_cluster: 1.6922576427459717\n",
      "Step [2/8]\t loss_instance: 6.058105945587158\t loss_cluster: 1.7108111381530762\n",
      "Step [4/8]\t loss_instance: 6.026822566986084\t loss_cluster: 1.6755927801132202\n",
      "Step [6/8]\t loss_instance: 6.02018404006958\t loss_cluster: 1.662137746810913\n",
      "\n",
      "Epoch [143/500]\t Loss: 7.607960557937622 \n",
      "\n",
      "Step [0/8]\t Computing features...\n",
      "Features shape (8192,)\n",
      "14\n",
      "Test NMI = 0.6987 ARI = 0.3998 F = 0.5194 ACC = 0.4692\n",
      "================================================================\n",
      "\n"
     ]
    },
    {
     "name": "stderr",
     "output_type": "stream",
     "text": [
      "C:\\Users\\Tom-G\\.conda\\envs\\torchenv\\lib\\site-packages\\torch\\nn\\modules\\container.py:141: UserWarning: Implicit dimension choice for softmax has been deprecated. Change the call to include dim=X as an argument.\n",
      "  input = module(input)\n"
     ]
    },
    {
     "name": "stdout",
     "output_type": "stream",
     "text": [
      "Step [0/8]\t loss_instance: 6.029854774475098\t loss_cluster: 1.6671477556228638\n",
      "Step [2/8]\t loss_instance: 6.0290961265563965\t loss_cluster: 1.6836011409759521\n",
      "Step [4/8]\t loss_instance: 6.01438570022583\t loss_cluster: 1.6577205657958984\n",
      "Step [6/8]\t loss_instance: 6.031929016113281\t loss_cluster: 1.6915667057037354\n",
      "\n",
      "Epoch [144/500]\t Loss: 7.603178519010544 \n",
      "\n",
      "Step [0/8]\t Computing features...\n",
      "Features shape (8192,)\n",
      "14\n",
      "Test NMI = 0.6991 ARI = 0.4062 F = 0.5263 ACC = 0.4860\n",
      "================================================================\n",
      "\n"
     ]
    },
    {
     "name": "stderr",
     "output_type": "stream",
     "text": [
      "C:\\Users\\Tom-G\\.conda\\envs\\torchenv\\lib\\site-packages\\torch\\nn\\modules\\container.py:141: UserWarning: Implicit dimension choice for softmax has been deprecated. Change the call to include dim=X as an argument.\n",
      "  input = module(input)\n"
     ]
    },
    {
     "name": "stdout",
     "output_type": "stream",
     "text": [
      "Step [0/8]\t loss_instance: 6.066237926483154\t loss_cluster: 1.7114816904067993\n",
      "Step [2/8]\t loss_instance: 6.0381669998168945\t loss_cluster: 1.672256588935852\n",
      "Step [4/8]\t loss_instance: 6.026157379150391\t loss_cluster: 1.6749627590179443\n",
      "Step [6/8]\t loss_instance: 6.0231428146362305\t loss_cluster: 1.6687270402908325\n",
      "\n",
      "Epoch [145/500]\t Loss: 7.608120167255402 \n",
      "\n",
      "Step [0/8]\t Computing features...\n",
      "Features shape (8192,)\n",
      "14\n",
      "Test NMI = 0.6989 ARI = 0.4026 F = 0.5232 ACC = 0.4724\n",
      "================================================================\n",
      "\n"
     ]
    },
    {
     "name": "stderr",
     "output_type": "stream",
     "text": [
      "C:\\Users\\Tom-G\\.conda\\envs\\torchenv\\lib\\site-packages\\torch\\nn\\modules\\container.py:141: UserWarning: Implicit dimension choice for softmax has been deprecated. Change the call to include dim=X as an argument.\n",
      "  input = module(input)\n"
     ]
    },
    {
     "name": "stdout",
     "output_type": "stream",
     "text": [
      "Step [0/8]\t loss_instance: 6.0172247886657715\t loss_cluster: 1.659194827079773\n",
      "Step [2/8]\t loss_instance: 6.033854961395264\t loss_cluster: 1.6862090826034546\n",
      "Step [4/8]\t loss_instance: 6.041577339172363\t loss_cluster: 1.7045812606811523\n",
      "Step [6/8]\t loss_instance: 6.036217212677002\t loss_cluster: 1.6754578351974487\n",
      "\n",
      "Epoch [146/500]\t Loss: 7.6110134482383724 \n",
      "\n",
      "Step [0/8]\t Computing features...\n",
      "Features shape (8192,)\n",
      "14\n",
      "Test NMI = 0.6954 ARI = 0.3959 F = 0.5159 ACC = 0.4707\n",
      "================================================================\n",
      "\n"
     ]
    },
    {
     "name": "stderr",
     "output_type": "stream",
     "text": [
      "C:\\Users\\Tom-G\\.conda\\envs\\torchenv\\lib\\site-packages\\torch\\nn\\modules\\container.py:141: UserWarning: Implicit dimension choice for softmax has been deprecated. Change the call to include dim=X as an argument.\n",
      "  input = module(input)\n"
     ]
    },
    {
     "name": "stdout",
     "output_type": "stream",
     "text": [
      "Step [0/8]\t loss_instance: 6.015812873840332\t loss_cluster: 1.6671990156173706\n",
      "Step [2/8]\t loss_instance: 6.033213138580322\t loss_cluster: 1.676292896270752\n",
      "Step [4/8]\t loss_instance: 6.046595096588135\t loss_cluster: 1.6870018243789673\n",
      "Step [6/8]\t loss_instance: 6.030926704406738\t loss_cluster: 1.6817749738693237\n",
      "\n",
      "Epoch [147/500]\t Loss: 7.604818123579025 \n",
      "\n",
      "Step [0/8]\t Computing features...\n",
      "Features shape (8192,)\n",
      "14\n",
      "Test NMI = 0.7013 ARI = 0.4101 F = 0.5300 ACC = 0.4801\n",
      "================================================================\n",
      "\n"
     ]
    },
    {
     "name": "stderr",
     "output_type": "stream",
     "text": [
      "C:\\Users\\Tom-G\\.conda\\envs\\torchenv\\lib\\site-packages\\torch\\nn\\modules\\container.py:141: UserWarning: Implicit dimension choice for softmax has been deprecated. Change the call to include dim=X as an argument.\n",
      "  input = module(input)\n"
     ]
    },
    {
     "name": "stdout",
     "output_type": "stream",
     "text": [
      "Step [0/8]\t loss_instance: 6.039617538452148\t loss_cluster: 1.6864861249923706\n",
      "Step [2/8]\t loss_instance: 6.0341477394104\t loss_cluster: 1.6924508810043335\n",
      "Step [4/8]\t loss_instance: 6.025661468505859\t loss_cluster: 1.6695908308029175\n",
      "Step [6/8]\t loss_instance: 6.027267932891846\t loss_cluster: 1.683315634727478\n",
      "\n",
      "Epoch [148/500]\t Loss: 7.605676531791687 \n",
      "\n",
      "Step [0/8]\t Computing features...\n",
      "Features shape (8192,)\n",
      "14\n",
      "Test NMI = 0.6979 ARI = 0.4051 F = 0.5253 ACC = 0.4800\n",
      "================================================================\n",
      "\n"
     ]
    },
    {
     "name": "stderr",
     "output_type": "stream",
     "text": [
      "C:\\Users\\Tom-G\\.conda\\envs\\torchenv\\lib\\site-packages\\torch\\nn\\modules\\container.py:141: UserWarning: Implicit dimension choice for softmax has been deprecated. Change the call to include dim=X as an argument.\n",
      "  input = module(input)\n"
     ]
    },
    {
     "name": "stdout",
     "output_type": "stream",
     "text": [
      "Step [0/8]\t loss_instance: 6.026031017303467\t loss_cluster: 1.68220853805542\n",
      "Step [2/8]\t loss_instance: 6.038967132568359\t loss_cluster: 1.6899479627609253\n",
      "Step [4/8]\t loss_instance: 6.023670196533203\t loss_cluster: 1.677945852279663\n",
      "Step [6/8]\t loss_instance: 6.036004066467285\t loss_cluster: 1.6794812679290771\n",
      "\n",
      "Epoch [149/500]\t Loss: 7.604475516080856 \n",
      "\n",
      "Step [0/8]\t Computing features...\n",
      "Features shape (8192,)\n",
      "14\n",
      "Test NMI = 0.6958 ARI = 0.3966 F = 0.5166 ACC = 0.4817\n",
      "================================================================\n",
      "\n"
     ]
    },
    {
     "name": "stderr",
     "output_type": "stream",
     "text": [
      "C:\\Users\\Tom-G\\.conda\\envs\\torchenv\\lib\\site-packages\\torch\\nn\\modules\\container.py:141: UserWarning: Implicit dimension choice for softmax has been deprecated. Change the call to include dim=X as an argument.\n",
      "  input = module(input)\n"
     ]
    },
    {
     "name": "stdout",
     "output_type": "stream",
     "text": [
      "Step [0/8]\t loss_instance: 6.045949459075928\t loss_cluster: 1.6914423704147339\n",
      "Step [2/8]\t loss_instance: 6.033437728881836\t loss_cluster: 1.6829394102096558\n",
      "Step [4/8]\t loss_instance: 6.036025524139404\t loss_cluster: 1.6828374862670898\n",
      "Step [6/8]\t loss_instance: 6.025854587554932\t loss_cluster: 1.6619330644607544\n",
      "\n",
      "Epoch [150/500]\t Loss: 7.607840287685394 \n",
      "\n",
      "Step [0/8]\t Computing features...\n",
      "Features shape (8192,)\n",
      "14\n",
      "Test NMI = 0.6990 ARI = 0.4043 F = 0.5240 ACC = 0.4673\n",
      "================================================================\n",
      "\n"
     ]
    },
    {
     "name": "stderr",
     "output_type": "stream",
     "text": [
      "C:\\Users\\Tom-G\\.conda\\envs\\torchenv\\lib\\site-packages\\torch\\nn\\modules\\container.py:141: UserWarning: Implicit dimension choice for softmax has been deprecated. Change the call to include dim=X as an argument.\n",
      "  input = module(input)\n"
     ]
    },
    {
     "name": "stdout",
     "output_type": "stream",
     "text": [
      "Step [0/8]\t loss_instance: 6.013765335083008\t loss_cluster: 1.6603999137878418\n",
      "Step [2/8]\t loss_instance: 6.0378737449646\t loss_cluster: 1.6983616352081299\n",
      "Step [4/8]\t loss_instance: 6.037248134613037\t loss_cluster: 1.6982805728912354\n",
      "Step [6/8]\t loss_instance: 6.004448413848877\t loss_cluster: 1.655511736869812\n",
      "\n",
      "Epoch [151/500]\t Loss: 7.6101009786129 \n",
      "\n",
      "Step [0/8]\t Computing features...\n",
      "Features shape (8192,)\n",
      "14\n",
      "Test NMI = 0.6967 ARI = 0.3965 F = 0.5161 ACC = 0.4762\n",
      "================================================================\n",
      "\n"
     ]
    },
    {
     "name": "stderr",
     "output_type": "stream",
     "text": [
      "C:\\Users\\Tom-G\\.conda\\envs\\torchenv\\lib\\site-packages\\torch\\nn\\modules\\container.py:141: UserWarning: Implicit dimension choice for softmax has been deprecated. Change the call to include dim=X as an argument.\n",
      "  input = module(input)\n"
     ]
    },
    {
     "name": "stdout",
     "output_type": "stream",
     "text": [
      "Step [0/8]\t loss_instance: 6.0411505699157715\t loss_cluster: 1.6927087306976318\n",
      "Step [2/8]\t loss_instance: 6.02229118347168\t loss_cluster: 1.666824221611023\n",
      "Step [4/8]\t loss_instance: 6.039913654327393\t loss_cluster: 1.6724189519882202\n",
      "Step [6/8]\t loss_instance: 6.05879020690918\t loss_cluster: 1.7017866373062134\n",
      "\n",
      "Epoch [152/500]\t Loss: 7.607343399524689 \n",
      "\n",
      "Step [0/8]\t Computing features...\n",
      "Features shape (8192,)\n",
      "14\n",
      "Test NMI = 0.6941 ARI = 0.3952 F = 0.5149 ACC = 0.4707\n",
      "================================================================\n",
      "\n"
     ]
    },
    {
     "name": "stderr",
     "output_type": "stream",
     "text": [
      "C:\\Users\\Tom-G\\.conda\\envs\\torchenv\\lib\\site-packages\\torch\\nn\\modules\\container.py:141: UserWarning: Implicit dimension choice for softmax has been deprecated. Change the call to include dim=X as an argument.\n",
      "  input = module(input)\n"
     ]
    },
    {
     "name": "stdout",
     "output_type": "stream",
     "text": [
      "Step [0/8]\t loss_instance: 6.0277276039123535\t loss_cluster: 1.6855344772338867\n",
      "Step [2/8]\t loss_instance: 6.0398736000061035\t loss_cluster: 1.6965734958648682\n",
      "Step [4/8]\t loss_instance: 6.022733211517334\t loss_cluster: 1.6817023754119873\n",
      "Step [6/8]\t loss_instance: 6.049396514892578\t loss_cluster: 1.695581316947937\n",
      "\n",
      "Epoch [153/500]\t Loss: 7.605663841962814 \n",
      "\n",
      "Step [0/8]\t Computing features...\n",
      "Features shape (8192,)\n",
      "14\n",
      "Test NMI = 0.6939 ARI = 0.3943 F = 0.5145 ACC = 0.4736\n",
      "================================================================\n",
      "\n"
     ]
    },
    {
     "name": "stderr",
     "output_type": "stream",
     "text": [
      "C:\\Users\\Tom-G\\.conda\\envs\\torchenv\\lib\\site-packages\\torch\\nn\\modules\\container.py:141: UserWarning: Implicit dimension choice for softmax has been deprecated. Change the call to include dim=X as an argument.\n",
      "  input = module(input)\n"
     ]
    },
    {
     "name": "stdout",
     "output_type": "stream",
     "text": [
      "Step [0/8]\t loss_instance: 6.022427082061768\t loss_cluster: 1.6771752834320068\n",
      "Step [2/8]\t loss_instance: 6.027986526489258\t loss_cluster: 1.6815325021743774\n",
      "Step [4/8]\t loss_instance: 6.016470432281494\t loss_cluster: 1.6684718132019043\n",
      "Step [6/8]\t loss_instance: 6.048844814300537\t loss_cluster: 1.6891236305236816\n",
      "\n",
      "Epoch [154/500]\t Loss: 7.60355134010315 \n",
      "\n",
      "Step [0/8]\t Computing features...\n",
      "Features shape (8192,)\n",
      "14\n",
      "Test NMI = 0.6961 ARI = 0.3982 F = 0.5183 ACC = 0.4690\n",
      "================================================================\n",
      "\n"
     ]
    },
    {
     "name": "stderr",
     "output_type": "stream",
     "text": [
      "C:\\Users\\Tom-G\\.conda\\envs\\torchenv\\lib\\site-packages\\torch\\nn\\modules\\container.py:141: UserWarning: Implicit dimension choice for softmax has been deprecated. Change the call to include dim=X as an argument.\n",
      "  input = module(input)\n"
     ]
    },
    {
     "name": "stdout",
     "output_type": "stream",
     "text": [
      "Step [0/8]\t loss_instance: 6.030874252319336\t loss_cluster: 1.6748117208480835\n",
      "Step [2/8]\t loss_instance: 6.03883695602417\t loss_cluster: 1.6731233596801758\n",
      "Step [4/8]\t loss_instance: 6.032578945159912\t loss_cluster: 1.6856426000595093\n",
      "Step [6/8]\t loss_instance: 6.030937194824219\t loss_cluster: 1.6777468919754028\n",
      "\n",
      "Epoch [155/500]\t Loss: 7.607433474063873 \n",
      "\n",
      "Step [0/8]\t Computing features...\n",
      "Features shape (8192,)\n",
      "14\n",
      "Test NMI = 0.6911 ARI = 0.3909 F = 0.5116 ACC = 0.4685\n",
      "================================================================\n",
      "\n"
     ]
    },
    {
     "name": "stderr",
     "output_type": "stream",
     "text": [
      "C:\\Users\\Tom-G\\.conda\\envs\\torchenv\\lib\\site-packages\\torch\\nn\\modules\\container.py:141: UserWarning: Implicit dimension choice for softmax has been deprecated. Change the call to include dim=X as an argument.\n",
      "  input = module(input)\n"
     ]
    },
    {
     "name": "stdout",
     "output_type": "stream",
     "text": [
      "Step [0/8]\t loss_instance: 6.059746265411377\t loss_cluster: 1.7089134454727173\n",
      "Step [2/8]\t loss_instance: 6.022243499755859\t loss_cluster: 1.6550599336624146\n",
      "Step [4/8]\t loss_instance: 6.023138523101807\t loss_cluster: 1.6906009912490845\n",
      "Step [6/8]\t loss_instance: 6.039347171783447\t loss_cluster: 1.6916273832321167\n",
      "\n",
      "Epoch [156/500]\t Loss: 7.607697838544846 \n",
      "\n",
      "Step [0/8]\t Computing features...\n",
      "Features shape (8192,)\n",
      "14\n",
      "Test NMI = 0.6951 ARI = 0.3975 F = 0.5179 ACC = 0.4740\n",
      "================================================================\n",
      "\n"
     ]
    },
    {
     "name": "stderr",
     "output_type": "stream",
     "text": [
      "C:\\Users\\Tom-G\\.conda\\envs\\torchenv\\lib\\site-packages\\torch\\nn\\modules\\container.py:141: UserWarning: Implicit dimension choice for softmax has been deprecated. Change the call to include dim=X as an argument.\n",
      "  input = module(input)\n"
     ]
    },
    {
     "name": "stdout",
     "output_type": "stream",
     "text": [
      "Step [0/8]\t loss_instance: 6.016720294952393\t loss_cluster: 1.6662122011184692\n",
      "Step [2/8]\t loss_instance: 6.0201005935668945\t loss_cluster: 1.6624664068222046\n",
      "Step [4/8]\t loss_instance: 6.034502029418945\t loss_cluster: 1.679996132850647\n",
      "Step [6/8]\t loss_instance: 6.01729154586792\t loss_cluster: 1.663155198097229\n",
      "\n",
      "Epoch [157/500]\t Loss: 7.603314888477326 \n",
      "\n",
      "Step [0/8]\t Computing features...\n",
      "Features shape (8192,)\n",
      "14\n",
      "Test NMI = 0.6977 ARI = 0.4005 F = 0.5205 ACC = 0.4755\n",
      "================================================================\n",
      "\n"
     ]
    },
    {
     "name": "stderr",
     "output_type": "stream",
     "text": [
      "C:\\Users\\Tom-G\\.conda\\envs\\torchenv\\lib\\site-packages\\torch\\nn\\modules\\container.py:141: UserWarning: Implicit dimension choice for softmax has been deprecated. Change the call to include dim=X as an argument.\n",
      "  input = module(input)\n"
     ]
    },
    {
     "name": "stdout",
     "output_type": "stream",
     "text": [
      "Step [0/8]\t loss_instance: 6.046345233917236\t loss_cluster: 1.698055624961853\n",
      "Step [2/8]\t loss_instance: 6.0297770500183105\t loss_cluster: 1.68089759349823\n",
      "Step [4/8]\t loss_instance: 6.021604537963867\t loss_cluster: 1.6777201890945435\n",
      "Step [6/8]\t loss_instance: 6.017672061920166\t loss_cluster: 1.6612387895584106\n",
      "\n",
      "Epoch [158/500]\t Loss: 7.605160677433014 \n",
      "\n",
      "Step [0/8]\t Computing features...\n",
      "Features shape (8192,)\n",
      "14\n",
      "Test NMI = 0.6983 ARI = 0.4008 F = 0.5210 ACC = 0.4736\n",
      "================================================================\n",
      "\n"
     ]
    },
    {
     "name": "stderr",
     "output_type": "stream",
     "text": [
      "C:\\Users\\Tom-G\\.conda\\envs\\torchenv\\lib\\site-packages\\torch\\nn\\modules\\container.py:141: UserWarning: Implicit dimension choice for softmax has been deprecated. Change the call to include dim=X as an argument.\n",
      "  input = module(input)\n"
     ]
    },
    {
     "name": "stdout",
     "output_type": "stream",
     "text": [
      "Step [0/8]\t loss_instance: 6.028499603271484\t loss_cluster: 1.6681971549987793\n",
      "Step [2/8]\t loss_instance: 6.01906681060791\t loss_cluster: 1.6739197969436646\n",
      "Step [4/8]\t loss_instance: 6.020346641540527\t loss_cluster: 1.6633567810058594\n",
      "Step [6/8]\t loss_instance: 6.030468463897705\t loss_cluster: 1.6682202816009521\n",
      "\n",
      "Epoch [159/500]\t Loss: 7.601428192853928 \n",
      "\n",
      "Step [0/8]\t Computing features...\n",
      "Features shape (8192,)\n",
      "14\n",
      "Test NMI = 0.6953 ARI = 0.3986 F = 0.5183 ACC = 0.4708\n",
      "================================================================\n",
      "\n"
     ]
    },
    {
     "name": "stderr",
     "output_type": "stream",
     "text": [
      "C:\\Users\\Tom-G\\.conda\\envs\\torchenv\\lib\\site-packages\\torch\\nn\\modules\\container.py:141: UserWarning: Implicit dimension choice for softmax has been deprecated. Change the call to include dim=X as an argument.\n",
      "  input = module(input)\n"
     ]
    },
    {
     "name": "stdout",
     "output_type": "stream",
     "text": [
      "Step [0/8]\t loss_instance: 6.042431831359863\t loss_cluster: 1.671247124671936\n",
      "Step [2/8]\t loss_instance: 6.0375752449035645\t loss_cluster: 1.6873117685317993\n",
      "Step [4/8]\t loss_instance: 6.03528356552124\t loss_cluster: 1.6749836206436157\n",
      "Step [6/8]\t loss_instance: 6.048980236053467\t loss_cluster: 1.6848217248916626\n",
      "\n",
      "Epoch [160/500]\t Loss: 7.607384449243545 \n",
      "\n",
      "Step [0/8]\t Computing features...\n",
      "Features shape (8192,)\n",
      "14\n",
      "Test NMI = 0.6982 ARI = 0.4008 F = 0.5209 ACC = 0.4752\n",
      "================================================================\n",
      "\n"
     ]
    },
    {
     "name": "stderr",
     "output_type": "stream",
     "text": [
      "C:\\Users\\Tom-G\\.conda\\envs\\torchenv\\lib\\site-packages\\torch\\nn\\modules\\container.py:141: UserWarning: Implicit dimension choice for softmax has been deprecated. Change the call to include dim=X as an argument.\n",
      "  input = module(input)\n"
     ]
    },
    {
     "name": "stdout",
     "output_type": "stream",
     "text": [
      "Step [0/8]\t loss_instance: 6.035556793212891\t loss_cluster: 1.68118155002594\n",
      "Step [2/8]\t loss_instance: 6.025683403015137\t loss_cluster: 1.6834617853164673\n",
      "Step [4/8]\t loss_instance: 6.027266025543213\t loss_cluster: 1.6747190952301025\n",
      "Step [6/8]\t loss_instance: 6.017972469329834\t loss_cluster: 1.6670905351638794\n",
      "\n",
      "Epoch [161/500]\t Loss: 7.604937088489533 \n",
      "\n",
      "Step [0/8]\t Computing features...\n",
      "Features shape (8192,)\n",
      "14\n",
      "Test NMI = 0.7007 ARI = 0.4080 F = 0.5274 ACC = 0.4799\n",
      "================================================================\n",
      "\n"
     ]
    },
    {
     "name": "stderr",
     "output_type": "stream",
     "text": [
      "C:\\Users\\Tom-G\\.conda\\envs\\torchenv\\lib\\site-packages\\torch\\nn\\modules\\container.py:141: UserWarning: Implicit dimension choice for softmax has been deprecated. Change the call to include dim=X as an argument.\n",
      "  input = module(input)\n"
     ]
    },
    {
     "name": "stdout",
     "output_type": "stream",
     "text": [
      "Step [0/8]\t loss_instance: 6.029523849487305\t loss_cluster: 1.671209454536438\n",
      "Step [2/8]\t loss_instance: 6.041118621826172\t loss_cluster: 1.6823115348815918\n",
      "Step [4/8]\t loss_instance: 6.016423225402832\t loss_cluster: 1.6627191305160522\n",
      "Step [6/8]\t loss_instance: 6.058640956878662\t loss_cluster: 1.6949613094329834\n",
      "\n",
      "Epoch [162/500]\t Loss: 7.6059486865997314 \n",
      "\n",
      "Step [0/8]\t Computing features...\n",
      "Features shape (8192,)\n",
      "14\n",
      "Test NMI = 0.6979 ARI = 0.4019 F = 0.5215 ACC = 0.4819\n",
      "================================================================\n",
      "\n"
     ]
    },
    {
     "name": "stderr",
     "output_type": "stream",
     "text": [
      "C:\\Users\\Tom-G\\.conda\\envs\\torchenv\\lib\\site-packages\\torch\\nn\\modules\\container.py:141: UserWarning: Implicit dimension choice for softmax has been deprecated. Change the call to include dim=X as an argument.\n",
      "  input = module(input)\n"
     ]
    },
    {
     "name": "stdout",
     "output_type": "stream",
     "text": [
      "Step [0/8]\t loss_instance: 6.023196220397949\t loss_cluster: 1.6604816913604736\n",
      "Step [2/8]\t loss_instance: 6.018461227416992\t loss_cluster: 1.6775143146514893\n",
      "Step [4/8]\t loss_instance: 6.036524295806885\t loss_cluster: 1.6802927255630493\n",
      "Step [6/8]\t loss_instance: 6.024536609649658\t loss_cluster: 1.6734813451766968\n",
      "\n",
      "Epoch [163/500]\t Loss: 7.607374757528305 \n",
      "\n",
      "Step [0/8]\t Computing features...\n",
      "Features shape (8192,)\n",
      "14\n",
      "Test NMI = 0.6965 ARI = 0.4004 F = 0.5203 ACC = 0.4779\n",
      "================================================================\n",
      "\n"
     ]
    },
    {
     "name": "stderr",
     "output_type": "stream",
     "text": [
      "C:\\Users\\Tom-G\\.conda\\envs\\torchenv\\lib\\site-packages\\torch\\nn\\modules\\container.py:141: UserWarning: Implicit dimension choice for softmax has been deprecated. Change the call to include dim=X as an argument.\n",
      "  input = module(input)\n"
     ]
    },
    {
     "name": "stdout",
     "output_type": "stream",
     "text": [
      "Step [0/8]\t loss_instance: 6.0308518409729\t loss_cluster: 1.6846202611923218\n",
      "Step [2/8]\t loss_instance: 6.017189979553223\t loss_cluster: 1.6693944931030273\n",
      "Step [4/8]\t loss_instance: 6.019016742706299\t loss_cluster: 1.6654431819915771\n",
      "Step [6/8]\t loss_instance: 6.029969692230225\t loss_cluster: 1.6911778450012207\n",
      "\n",
      "Epoch [164/500]\t Loss: 7.605233275890351 \n",
      "\n",
      "Step [0/8]\t Computing features...\n",
      "Features shape (8192,)\n",
      "14\n",
      "Test NMI = 0.6984 ARI = 0.4014 F = 0.5213 ACC = 0.4713\n",
      "================================================================\n",
      "\n"
     ]
    },
    {
     "name": "stderr",
     "output_type": "stream",
     "text": [
      "C:\\Users\\Tom-G\\.conda\\envs\\torchenv\\lib\\site-packages\\torch\\nn\\modules\\container.py:141: UserWarning: Implicit dimension choice for softmax has been deprecated. Change the call to include dim=X as an argument.\n",
      "  input = module(input)\n"
     ]
    },
    {
     "name": "stdout",
     "output_type": "stream",
     "text": [
      "Step [0/8]\t loss_instance: 6.050433158874512\t loss_cluster: 1.6965962648391724\n",
      "Step [2/8]\t loss_instance: 6.038071632385254\t loss_cluster: 1.6930968761444092\n",
      "Step [4/8]\t loss_instance: 6.0377960205078125\t loss_cluster: 1.6758792400360107\n",
      "Step [6/8]\t loss_instance: 6.014498710632324\t loss_cluster: 1.6760590076446533\n",
      "\n",
      "Epoch [165/500]\t Loss: 7.608255535364151 \n",
      "\n",
      "Step [0/8]\t Computing features...\n",
      "Features shape (8192,)\n",
      "14\n",
      "Test NMI = 0.6967 ARI = 0.3983 F = 0.5184 ACC = 0.4611\n",
      "================================================================\n",
      "\n"
     ]
    },
    {
     "name": "stderr",
     "output_type": "stream",
     "text": [
      "C:\\Users\\Tom-G\\.conda\\envs\\torchenv\\lib\\site-packages\\torch\\nn\\modules\\container.py:141: UserWarning: Implicit dimension choice for softmax has been deprecated. Change the call to include dim=X as an argument.\n",
      "  input = module(input)\n"
     ]
    },
    {
     "name": "stdout",
     "output_type": "stream",
     "text": [
      "Step [0/8]\t loss_instance: 6.043682098388672\t loss_cluster: 1.6858893632888794\n",
      "Step [2/8]\t loss_instance: 6.0344719886779785\t loss_cluster: 1.6682393550872803\n",
      "Step [4/8]\t loss_instance: 6.05075740814209\t loss_cluster: 1.6911375522613525\n",
      "Step [6/8]\t loss_instance: 6.033663272857666\t loss_cluster: 1.684767723083496\n",
      "\n",
      "Epoch [166/500]\t Loss: 7.596986144781113 \n",
      "\n",
      "Step [0/8]\t Computing features...\n",
      "Features shape (8192,)\n",
      "14\n",
      "Test NMI = 0.6979 ARI = 0.4035 F = 0.5235 ACC = 0.4775\n",
      "================================================================\n",
      "\n"
     ]
    },
    {
     "name": "stderr",
     "output_type": "stream",
     "text": [
      "C:\\Users\\Tom-G\\.conda\\envs\\torchenv\\lib\\site-packages\\torch\\nn\\modules\\container.py:141: UserWarning: Implicit dimension choice for softmax has been deprecated. Change the call to include dim=X as an argument.\n",
      "  input = module(input)\n"
     ]
    },
    {
     "name": "stdout",
     "output_type": "stream",
     "text": [
      "Step [0/8]\t loss_instance: 6.025023937225342\t loss_cluster: 1.6787583827972412\n",
      "Step [2/8]\t loss_instance: 6.026966094970703\t loss_cluster: 1.6836918592453003\n",
      "Step [4/8]\t loss_instance: 6.0362443923950195\t loss_cluster: 1.6845102310180664\n",
      "Step [6/8]\t loss_instance: 6.044299125671387\t loss_cluster: 1.6791869401931763\n",
      "\n",
      "Epoch [167/500]\t Loss: 7.602371406555176 \n",
      "\n",
      "Step [0/8]\t Computing features...\n",
      "Features shape (8192,)\n",
      "14\n",
      "Test NMI = 0.6981 ARI = 0.4006 F = 0.5209 ACC = 0.4691\n",
      "================================================================\n",
      "\n"
     ]
    },
    {
     "name": "stderr",
     "output_type": "stream",
     "text": [
      "C:\\Users\\Tom-G\\.conda\\envs\\torchenv\\lib\\site-packages\\torch\\nn\\modules\\container.py:141: UserWarning: Implicit dimension choice for softmax has been deprecated. Change the call to include dim=X as an argument.\n",
      "  input = module(input)\n"
     ]
    },
    {
     "name": "stdout",
     "output_type": "stream",
     "text": [
      "Step [0/8]\t loss_instance: 6.039976596832275\t loss_cluster: 1.6796531677246094\n",
      "Step [2/8]\t loss_instance: 6.015579700469971\t loss_cluster: 1.6690022945404053\n",
      "Step [4/8]\t loss_instance: 6.05485200881958\t loss_cluster: 1.7049611806869507\n",
      "Step [6/8]\t loss_instance: 6.038201808929443\t loss_cluster: 1.6942158937454224\n",
      "\n",
      "Epoch [168/500]\t Loss: 7.604825037717819 \n",
      "\n",
      "Step [0/8]\t Computing features...\n",
      "Features shape (8192,)\n",
      "14\n",
      "Test NMI = 0.6983 ARI = 0.3993 F = 0.5199 ACC = 0.4695\n",
      "================================================================\n",
      "\n"
     ]
    },
    {
     "name": "stderr",
     "output_type": "stream",
     "text": [
      "C:\\Users\\Tom-G\\.conda\\envs\\torchenv\\lib\\site-packages\\torch\\nn\\modules\\container.py:141: UserWarning: Implicit dimension choice for softmax has been deprecated. Change the call to include dim=X as an argument.\n",
      "  input = module(input)\n"
     ]
    },
    {
     "name": "stdout",
     "output_type": "stream",
     "text": [
      "Step [0/8]\t loss_instance: 6.052978038787842\t loss_cluster: 1.7042187452316284\n",
      "Step [2/8]\t loss_instance: 6.009185791015625\t loss_cluster: 1.6642286777496338\n",
      "Step [4/8]\t loss_instance: 6.03183126449585\t loss_cluster: 1.6823490858078003\n",
      "Step [6/8]\t loss_instance: 6.035237789154053\t loss_cluster: 1.6899194717407227\n",
      "\n",
      "Epoch [169/500]\t Loss: 7.605317538976669 \n",
      "\n",
      "Step [0/8]\t Computing features...\n",
      "Features shape (8192,)\n",
      "14\n",
      "Test NMI = 0.6967 ARI = 0.3981 F = 0.5176 ACC = 0.4768\n",
      "================================================================\n",
      "\n"
     ]
    },
    {
     "name": "stderr",
     "output_type": "stream",
     "text": [
      "C:\\Users\\Tom-G\\.conda\\envs\\torchenv\\lib\\site-packages\\torch\\nn\\modules\\container.py:141: UserWarning: Implicit dimension choice for softmax has been deprecated. Change the call to include dim=X as an argument.\n",
      "  input = module(input)\n"
     ]
    },
    {
     "name": "stdout",
     "output_type": "stream",
     "text": [
      "Step [0/8]\t loss_instance: 6.036824703216553\t loss_cluster: 1.6709684133529663\n",
      "Step [2/8]\t loss_instance: 6.020557880401611\t loss_cluster: 1.6739237308502197\n",
      "Step [4/8]\t loss_instance: 6.024171829223633\t loss_cluster: 1.6815732717514038\n",
      "Step [6/8]\t loss_instance: 6.03360652923584\t loss_cluster: 1.676016092300415\n",
      "\n",
      "Epoch [170/500]\t Loss: 7.603391069173813 \n",
      "\n",
      "Step [0/8]\t Computing features...\n",
      "Features shape (8192,)\n",
      "14\n",
      "Test NMI = 0.6944 ARI = 0.3945 F = 0.5147 ACC = 0.4601\n",
      "================================================================\n",
      "\n"
     ]
    },
    {
     "name": "stderr",
     "output_type": "stream",
     "text": [
      "C:\\Users\\Tom-G\\.conda\\envs\\torchenv\\lib\\site-packages\\torch\\nn\\modules\\container.py:141: UserWarning: Implicit dimension choice for softmax has been deprecated. Change the call to include dim=X as an argument.\n",
      "  input = module(input)\n"
     ]
    },
    {
     "name": "stdout",
     "output_type": "stream",
     "text": [
      "Step [0/8]\t loss_instance: 6.0195159912109375\t loss_cluster: 1.6681057214736938\n",
      "Step [2/8]\t loss_instance: 6.043510437011719\t loss_cluster: 1.695426106452942\n",
      "Step [4/8]\t loss_instance: 6.014952182769775\t loss_cluster: 1.67137610912323\n",
      "Step [6/8]\t loss_instance: 6.026003360748291\t loss_cluster: 1.6730908155441284\n",
      "\n",
      "Epoch [171/500]\t Loss: 7.607009792327881 \n",
      "\n",
      "Step [0/8]\t Computing features...\n",
      "Features shape (8192,)\n",
      "14\n",
      "Test NMI = 0.6926 ARI = 0.3937 F = 0.5142 ACC = 0.4701\n",
      "================================================================\n",
      "\n"
     ]
    },
    {
     "name": "stderr",
     "output_type": "stream",
     "text": [
      "C:\\Users\\Tom-G\\.conda\\envs\\torchenv\\lib\\site-packages\\torch\\nn\\modules\\container.py:141: UserWarning: Implicit dimension choice for softmax has been deprecated. Change the call to include dim=X as an argument.\n",
      "  input = module(input)\n"
     ]
    },
    {
     "name": "stdout",
     "output_type": "stream",
     "text": [
      "Step [0/8]\t loss_instance: 6.03807258605957\t loss_cluster: 1.6891728639602661\n",
      "Step [2/8]\t loss_instance: 6.050517559051514\t loss_cluster: 1.6935871839523315\n",
      "Step [4/8]\t loss_instance: 6.028207302093506\t loss_cluster: 1.6890689134597778\n",
      "Step [6/8]\t loss_instance: 6.033166885375977\t loss_cluster: 1.6687957048416138\n",
      "\n",
      "Epoch [172/500]\t Loss: 7.608257406949997 \n",
      "\n",
      "Step [0/8]\t Computing features...\n",
      "Features shape (8192,)\n",
      "14\n",
      "Test NMI = 0.6957 ARI = 0.3974 F = 0.5185 ACC = 0.4662\n",
      "================================================================\n",
      "\n"
     ]
    },
    {
     "name": "stderr",
     "output_type": "stream",
     "text": [
      "C:\\Users\\Tom-G\\.conda\\envs\\torchenv\\lib\\site-packages\\torch\\nn\\modules\\container.py:141: UserWarning: Implicit dimension choice for softmax has been deprecated. Change the call to include dim=X as an argument.\n",
      "  input = module(input)\n"
     ]
    },
    {
     "name": "stdout",
     "output_type": "stream",
     "text": [
      "Step [0/8]\t loss_instance: 6.028077125549316\t loss_cluster: 1.672782063484192\n",
      "Step [2/8]\t loss_instance: 6.032673358917236\t loss_cluster: 1.685433268547058\n",
      "Step [4/8]\t loss_instance: 6.029431343078613\t loss_cluster: 1.6856772899627686\n",
      "Step [6/8]\t loss_instance: 6.047976016998291\t loss_cluster: 1.6946333646774292\n",
      "\n",
      "Epoch [173/500]\t Loss: 7.608940523862839 \n",
      "\n",
      "Step [0/8]\t Computing features...\n",
      "Features shape (8192,)\n",
      "14\n",
      "Test NMI = 0.6983 ARI = 0.4025 F = 0.5228 ACC = 0.4772\n",
      "================================================================\n",
      "\n"
     ]
    },
    {
     "name": "stderr",
     "output_type": "stream",
     "text": [
      "C:\\Users\\Tom-G\\.conda\\envs\\torchenv\\lib\\site-packages\\torch\\nn\\modules\\container.py:141: UserWarning: Implicit dimension choice for softmax has been deprecated. Change the call to include dim=X as an argument.\n",
      "  input = module(input)\n"
     ]
    },
    {
     "name": "stdout",
     "output_type": "stream",
     "text": [
      "Step [0/8]\t loss_instance: 6.046529293060303\t loss_cluster: 1.6845346689224243\n",
      "Step [2/8]\t loss_instance: 6.026713848114014\t loss_cluster: 1.670434594154358\n",
      "Step [4/8]\t loss_instance: 6.039539813995361\t loss_cluster: 1.6936687231063843\n",
      "Step [6/8]\t loss_instance: 6.013200283050537\t loss_cluster: 1.6603224277496338\n",
      "\n",
      "Epoch [174/500]\t Loss: 7.596838682889938 \n",
      "\n",
      "Step [0/8]\t Computing features...\n",
      "Features shape (8192,)\n",
      "14\n",
      "Test NMI = 0.7002 ARI = 0.4048 F = 0.5247 ACC = 0.4775\n",
      "================================================================\n",
      "\n"
     ]
    },
    {
     "name": "stderr",
     "output_type": "stream",
     "text": [
      "C:\\Users\\Tom-G\\.conda\\envs\\torchenv\\lib\\site-packages\\torch\\nn\\modules\\container.py:141: UserWarning: Implicit dimension choice for softmax has been deprecated. Change the call to include dim=X as an argument.\n",
      "  input = module(input)\n"
     ]
    },
    {
     "name": "stdout",
     "output_type": "stream",
     "text": [
      "Step [0/8]\t loss_instance: 6.022972106933594\t loss_cluster: 1.6856290102005005\n",
      "Step [2/8]\t loss_instance: 6.028761386871338\t loss_cluster: 1.6623032093048096\n",
      "Step [4/8]\t loss_instance: 6.030551910400391\t loss_cluster: 1.6790683269500732\n",
      "Step [6/8]\t loss_instance: 6.029794216156006\t loss_cluster: 1.6789568662643433\n",
      "\n",
      "Epoch [175/500]\t Loss: 7.602190685272217 \n",
      "\n",
      "Step [0/8]\t Computing features...\n",
      "Features shape (8192,)\n",
      "14\n",
      "Test NMI = 0.6976 ARI = 0.3993 F = 0.5199 ACC = 0.4709\n",
      "================================================================\n",
      "\n"
     ]
    },
    {
     "name": "stderr",
     "output_type": "stream",
     "text": [
      "C:\\Users\\Tom-G\\.conda\\envs\\torchenv\\lib\\site-packages\\torch\\nn\\modules\\container.py:141: UserWarning: Implicit dimension choice for softmax has been deprecated. Change the call to include dim=X as an argument.\n",
      "  input = module(input)\n"
     ]
    },
    {
     "name": "stdout",
     "output_type": "stream",
     "text": [
      "Step [0/8]\t loss_instance: 6.041099548339844\t loss_cluster: 1.6933746337890625\n",
      "Step [2/8]\t loss_instance: 6.042902946472168\t loss_cluster: 1.6850532293319702\n",
      "Step [4/8]\t loss_instance: 6.024250030517578\t loss_cluster: 1.6832175254821777\n",
      "Step [6/8]\t loss_instance: 6.035893440246582\t loss_cluster: 1.6765046119689941\n",
      "\n",
      "Epoch [176/500]\t Loss: 7.608833014965057 \n",
      "\n",
      "Step [0/8]\t Computing features...\n",
      "Features shape (8192,)\n",
      "14\n",
      "Test NMI = 0.6929 ARI = 0.3919 F = 0.5123 ACC = 0.4562\n",
      "================================================================\n",
      "\n"
     ]
    },
    {
     "name": "stderr",
     "output_type": "stream",
     "text": [
      "C:\\Users\\Tom-G\\.conda\\envs\\torchenv\\lib\\site-packages\\torch\\nn\\modules\\container.py:141: UserWarning: Implicit dimension choice for softmax has been deprecated. Change the call to include dim=X as an argument.\n",
      "  input = module(input)\n"
     ]
    },
    {
     "name": "stdout",
     "output_type": "stream",
     "text": [
      "Step [0/8]\t loss_instance: 6.051586627960205\t loss_cluster: 1.6930310726165771\n",
      "Step [2/8]\t loss_instance: 6.0236430168151855\t loss_cluster: 1.673282265663147\n",
      "Step [4/8]\t loss_instance: 6.040449619293213\t loss_cluster: 1.674281358718872\n",
      "Step [6/8]\t loss_instance: 6.035250663757324\t loss_cluster: 1.6898735761642456\n",
      "\n",
      "Epoch [177/500]\t Loss: 7.606138902902603 \n",
      "\n",
      "Step [0/8]\t Computing features...\n",
      "Features shape (8192,)\n",
      "14\n",
      "Test NMI = 0.6979 ARI = 0.4000 F = 0.5206 ACC = 0.4669\n",
      "================================================================\n",
      "\n"
     ]
    },
    {
     "name": "stderr",
     "output_type": "stream",
     "text": [
      "C:\\Users\\Tom-G\\.conda\\envs\\torchenv\\lib\\site-packages\\torch\\nn\\modules\\container.py:141: UserWarning: Implicit dimension choice for softmax has been deprecated. Change the call to include dim=X as an argument.\n",
      "  input = module(input)\n"
     ]
    },
    {
     "name": "stdout",
     "output_type": "stream",
     "text": [
      "Step [0/8]\t loss_instance: 6.048937797546387\t loss_cluster: 1.6836639642715454\n",
      "Step [2/8]\t loss_instance: 6.062866687774658\t loss_cluster: 1.699217677116394\n",
      "Step [4/8]\t loss_instance: 6.012483596801758\t loss_cluster: 1.6661467552185059\n",
      "Step [6/8]\t loss_instance: 6.047250747680664\t loss_cluster: 1.709731101989746\n",
      "\n",
      "Epoch [178/500]\t Loss: 7.606675750017166 \n",
      "\n",
      "Step [0/8]\t Computing features...\n",
      "Features shape (8192,)\n",
      "14\n",
      "Test NMI = 0.6977 ARI = 0.3985 F = 0.5190 ACC = 0.4658\n",
      "================================================================\n",
      "\n"
     ]
    },
    {
     "name": "stderr",
     "output_type": "stream",
     "text": [
      "C:\\Users\\Tom-G\\.conda\\envs\\torchenv\\lib\\site-packages\\torch\\nn\\modules\\container.py:141: UserWarning: Implicit dimension choice for softmax has been deprecated. Change the call to include dim=X as an argument.\n",
      "  input = module(input)\n"
     ]
    },
    {
     "name": "stdout",
     "output_type": "stream",
     "text": [
      "Step [0/8]\t loss_instance: 6.060534477233887\t loss_cluster: 1.6960346698760986\n",
      "Step [2/8]\t loss_instance: 6.027414321899414\t loss_cluster: 1.6908982992172241\n",
      "Step [4/8]\t loss_instance: 6.0402421951293945\t loss_cluster: 1.6893624067306519\n",
      "Step [6/8]\t loss_instance: 6.044890403747559\t loss_cluster: 1.6789748668670654\n",
      "\n",
      "Epoch [179/500]\t Loss: 7.599417042732239 \n",
      "\n",
      "Step [0/8]\t Computing features...\n",
      "Features shape (8192,)\n",
      "14\n",
      "Test NMI = 0.6968 ARI = 0.4009 F = 0.5208 ACC = 0.4740\n",
      "================================================================\n",
      "\n"
     ]
    },
    {
     "name": "stderr",
     "output_type": "stream",
     "text": [
      "C:\\Users\\Tom-G\\.conda\\envs\\torchenv\\lib\\site-packages\\torch\\nn\\modules\\container.py:141: UserWarning: Implicit dimension choice for softmax has been deprecated. Change the call to include dim=X as an argument.\n",
      "  input = module(input)\n"
     ]
    },
    {
     "name": "stdout",
     "output_type": "stream",
     "text": [
      "Step [0/8]\t loss_instance: 6.042540073394775\t loss_cluster: 1.6750487089157104\n",
      "Step [2/8]\t loss_instance: 6.045293807983398\t loss_cluster: 1.6853617429733276\n",
      "Step [4/8]\t loss_instance: 6.013981342315674\t loss_cluster: 1.6761749982833862\n",
      "Step [6/8]\t loss_instance: 6.037506103515625\t loss_cluster: 1.6936513185501099\n",
      "\n",
      "Epoch [180/500]\t Loss: 7.601809936761856 \n",
      "\n",
      "Step [0/8]\t Computing features...\n",
      "Features shape (8192,)\n",
      "14\n",
      "Test NMI = 0.6997 ARI = 0.4059 F = 0.5262 ACC = 0.4742\n",
      "================================================================\n",
      "\n"
     ]
    },
    {
     "name": "stderr",
     "output_type": "stream",
     "text": [
      "C:\\Users\\Tom-G\\.conda\\envs\\torchenv\\lib\\site-packages\\torch\\nn\\modules\\container.py:141: UserWarning: Implicit dimension choice for softmax has been deprecated. Change the call to include dim=X as an argument.\n",
      "  input = module(input)\n"
     ]
    },
    {
     "name": "stdout",
     "output_type": "stream",
     "text": [
      "Step [0/8]\t loss_instance: 6.023894309997559\t loss_cluster: 1.6723239421844482\n",
      "Step [2/8]\t loss_instance: 6.026894569396973\t loss_cluster: 1.6709030866622925\n",
      "Step [4/8]\t loss_instance: 6.033718109130859\t loss_cluster: 1.6882981061935425\n",
      "Step [6/8]\t loss_instance: 6.022665500640869\t loss_cluster: 1.6668235063552856\n",
      "\n",
      "Epoch [181/500]\t Loss: 7.59852020740509 \n",
      "\n",
      "Step [0/8]\t Computing features...\n",
      "Features shape (8192,)\n",
      "14\n",
      "Test NMI = 0.6975 ARI = 0.4003 F = 0.5207 ACC = 0.4751\n",
      "================================================================\n",
      "\n"
     ]
    },
    {
     "name": "stderr",
     "output_type": "stream",
     "text": [
      "C:\\Users\\Tom-G\\.conda\\envs\\torchenv\\lib\\site-packages\\torch\\nn\\modules\\container.py:141: UserWarning: Implicit dimension choice for softmax has been deprecated. Change the call to include dim=X as an argument.\n",
      "  input = module(input)\n"
     ]
    },
    {
     "name": "stdout",
     "output_type": "stream",
     "text": [
      "Step [0/8]\t loss_instance: 6.03939962387085\t loss_cluster: 1.687212347984314\n",
      "Step [2/8]\t loss_instance: 6.0433349609375\t loss_cluster: 1.6781984567642212\n",
      "Step [4/8]\t loss_instance: 6.021143913269043\t loss_cluster: 1.6717686653137207\n",
      "Step [6/8]\t loss_instance: 6.056309700012207\t loss_cluster: 1.7054933309555054\n",
      "\n",
      "Epoch [182/500]\t Loss: 7.595811676979065 \n",
      "\n",
      "Step [0/8]\t Computing features...\n",
      "Features shape (8192,)\n",
      "14\n",
      "Test NMI = 0.6936 ARI = 0.3951 F = 0.5159 ACC = 0.4774\n",
      "================================================================\n",
      "\n"
     ]
    },
    {
     "name": "stderr",
     "output_type": "stream",
     "text": [
      "C:\\Users\\Tom-G\\.conda\\envs\\torchenv\\lib\\site-packages\\torch\\nn\\modules\\container.py:141: UserWarning: Implicit dimension choice for softmax has been deprecated. Change the call to include dim=X as an argument.\n",
      "  input = module(input)\n"
     ]
    },
    {
     "name": "stdout",
     "output_type": "stream",
     "text": [
      "Step [0/8]\t loss_instance: 6.044526100158691\t loss_cluster: 1.6932367086410522\n",
      "Step [2/8]\t loss_instance: 6.036779403686523\t loss_cluster: 1.6703060865402222\n",
      "Step [4/8]\t loss_instance: 6.02846097946167\t loss_cluster: 1.6785430908203125\n",
      "Step [6/8]\t loss_instance: 6.036777496337891\t loss_cluster: 1.6754992008209229\n",
      "\n",
      "Epoch [183/500]\t Loss: 7.60363872051239 \n",
      "\n",
      "Step [0/8]\t Computing features...\n",
      "Features shape (8192,)\n",
      "14\n",
      "Test NMI = 0.6937 ARI = 0.3952 F = 0.5149 ACC = 0.4692\n",
      "================================================================\n",
      "\n"
     ]
    },
    {
     "name": "stderr",
     "output_type": "stream",
     "text": [
      "C:\\Users\\Tom-G\\.conda\\envs\\torchenv\\lib\\site-packages\\torch\\nn\\modules\\container.py:141: UserWarning: Implicit dimension choice for softmax has been deprecated. Change the call to include dim=X as an argument.\n",
      "  input = module(input)\n"
     ]
    },
    {
     "name": "stdout",
     "output_type": "stream",
     "text": [
      "Step [0/8]\t loss_instance: 6.031810283660889\t loss_cluster: 1.6673476696014404\n",
      "Step [2/8]\t loss_instance: 6.016221046447754\t loss_cluster: 1.6637601852416992\n",
      "Step [4/8]\t loss_instance: 6.029007911682129\t loss_cluster: 1.6782591342926025\n",
      "Step [6/8]\t loss_instance: 6.044672012329102\t loss_cluster: 1.6927528381347656\n",
      "\n",
      "Epoch [184/500]\t Loss: 7.59808582663536 \n",
      "\n",
      "Step [0/8]\t Computing features...\n",
      "Features shape (8192,)\n",
      "14\n",
      "Test NMI = 0.6965 ARI = 0.4019 F = 0.5219 ACC = 0.4867\n",
      "================================================================\n",
      "\n"
     ]
    },
    {
     "name": "stderr",
     "output_type": "stream",
     "text": [
      "C:\\Users\\Tom-G\\.conda\\envs\\torchenv\\lib\\site-packages\\torch\\nn\\modules\\container.py:141: UserWarning: Implicit dimension choice for softmax has been deprecated. Change the call to include dim=X as an argument.\n",
      "  input = module(input)\n"
     ]
    },
    {
     "name": "stdout",
     "output_type": "stream",
     "text": [
      "Step [0/8]\t loss_instance: 6.0246381759643555\t loss_cluster: 1.6698054075241089\n",
      "Step [2/8]\t loss_instance: 6.016237735748291\t loss_cluster: 1.655677080154419\n",
      "Step [4/8]\t loss_instance: 6.018154144287109\t loss_cluster: 1.6835402250289917\n",
      "Step [6/8]\t loss_instance: 6.044278144836426\t loss_cluster: 1.6914169788360596\n",
      "\n",
      "Epoch [185/500]\t Loss: 7.60079602599144 \n",
      "\n",
      "Step [0/8]\t Computing features...\n",
      "Features shape (8192,)\n",
      "14\n",
      "Test NMI = 0.7001 ARI = 0.4064 F = 0.5264 ACC = 0.4772\n",
      "================================================================\n",
      "\n"
     ]
    },
    {
     "name": "stderr",
     "output_type": "stream",
     "text": [
      "C:\\Users\\Tom-G\\.conda\\envs\\torchenv\\lib\\site-packages\\torch\\nn\\modules\\container.py:141: UserWarning: Implicit dimension choice for softmax has been deprecated. Change the call to include dim=X as an argument.\n",
      "  input = module(input)\n"
     ]
    },
    {
     "name": "stdout",
     "output_type": "stream",
     "text": [
      "Step [0/8]\t loss_instance: 6.035818099975586\t loss_cluster: 1.6771193742752075\n",
      "Step [2/8]\t loss_instance: 6.031468868255615\t loss_cluster: 1.675887942314148\n",
      "Step [4/8]\t loss_instance: 6.025424480438232\t loss_cluster: 1.6714774370193481\n",
      "Step [6/8]\t loss_instance: 6.032770156860352\t loss_cluster: 1.679985761642456\n",
      "\n",
      "Epoch [186/500]\t Loss: 7.601971173286438 \n",
      "\n",
      "Step [0/8]\t Computing features...\n",
      "Features shape (8192,)\n",
      "14\n",
      "Test NMI = 0.6992 ARI = 0.4058 F = 0.5254 ACC = 0.4836\n",
      "================================================================\n",
      "\n"
     ]
    },
    {
     "name": "stderr",
     "output_type": "stream",
     "text": [
      "C:\\Users\\Tom-G\\.conda\\envs\\torchenv\\lib\\site-packages\\torch\\nn\\modules\\container.py:141: UserWarning: Implicit dimension choice for softmax has been deprecated. Change the call to include dim=X as an argument.\n",
      "  input = module(input)\n"
     ]
    },
    {
     "name": "stdout",
     "output_type": "stream",
     "text": [
      "Step [0/8]\t loss_instance: 6.023353099822998\t loss_cluster: 1.6654404401779175\n",
      "Step [2/8]\t loss_instance: 6.041076183319092\t loss_cluster: 1.6878641843795776\n",
      "Step [4/8]\t loss_instance: 6.010186672210693\t loss_cluster: 1.6679540872573853\n",
      "Step [6/8]\t loss_instance: 6.0267767906188965\t loss_cluster: 1.6737693548202515\n",
      "\n",
      "Epoch [187/500]\t Loss: 7.6019385159015656 \n",
      "\n",
      "Step [0/8]\t Computing features...\n",
      "Features shape (8192,)\n",
      "14\n",
      "Test NMI = 0.6983 ARI = 0.4056 F = 0.5256 ACC = 0.4780\n",
      "================================================================\n",
      "\n"
     ]
    },
    {
     "name": "stderr",
     "output_type": "stream",
     "text": [
      "C:\\Users\\Tom-G\\.conda\\envs\\torchenv\\lib\\site-packages\\torch\\nn\\modules\\container.py:141: UserWarning: Implicit dimension choice for softmax has been deprecated. Change the call to include dim=X as an argument.\n",
      "  input = module(input)\n"
     ]
    },
    {
     "name": "stdout",
     "output_type": "stream",
     "text": [
      "Step [0/8]\t loss_instance: 6.05069637298584\t loss_cluster: 1.6979119777679443\n",
      "Step [2/8]\t loss_instance: 6.037143230438232\t loss_cluster: 1.684646725654602\n",
      "Step [4/8]\t loss_instance: 6.059754848480225\t loss_cluster: 1.6957497596740723\n",
      "Step [6/8]\t loss_instance: 6.0223493576049805\t loss_cluster: 1.6781846284866333\n",
      "\n",
      "Epoch [188/500]\t Loss: 7.601842695474625 \n",
      "\n",
      "Step [0/8]\t Computing features...\n",
      "Features shape (8192,)\n",
      "14\n",
      "Test NMI = 0.6998 ARI = 0.4040 F = 0.5240 ACC = 0.4719\n",
      "================================================================\n",
      "\n"
     ]
    },
    {
     "name": "stderr",
     "output_type": "stream",
     "text": [
      "C:\\Users\\Tom-G\\.conda\\envs\\torchenv\\lib\\site-packages\\torch\\nn\\modules\\container.py:141: UserWarning: Implicit dimension choice for softmax has been deprecated. Change the call to include dim=X as an argument.\n",
      "  input = module(input)\n"
     ]
    },
    {
     "name": "stdout",
     "output_type": "stream",
     "text": [
      "Step [0/8]\t loss_instance: 6.037563323974609\t loss_cluster: 1.6873831748962402\n",
      "Step [2/8]\t loss_instance: 6.031262397766113\t loss_cluster: 1.6718151569366455\n",
      "Step [4/8]\t loss_instance: 6.0303802490234375\t loss_cluster: 1.665852427482605\n",
      "Step [6/8]\t loss_instance: 6.026475429534912\t loss_cluster: 1.676430583000183\n",
      "\n",
      "Epoch [189/500]\t Loss: 7.6033427834510805 \n",
      "\n",
      "Step [0/8]\t Computing features...\n",
      "Features shape (8192,)\n",
      "14\n",
      "Test NMI = 0.6966 ARI = 0.4030 F = 0.5221 ACC = 0.4874\n",
      "================================================================\n",
      "\n"
     ]
    },
    {
     "name": "stderr",
     "output_type": "stream",
     "text": [
      "C:\\Users\\Tom-G\\.conda\\envs\\torchenv\\lib\\site-packages\\torch\\nn\\modules\\container.py:141: UserWarning: Implicit dimension choice for softmax has been deprecated. Change the call to include dim=X as an argument.\n",
      "  input = module(input)\n"
     ]
    },
    {
     "name": "stdout",
     "output_type": "stream",
     "text": [
      "Step [0/8]\t loss_instance: 6.026248455047607\t loss_cluster: 1.6645578145980835\n",
      "Step [2/8]\t loss_instance: 6.038046836853027\t loss_cluster: 1.6757049560546875\n",
      "Step [4/8]\t loss_instance: 6.014662742614746\t loss_cluster: 1.682611107826233\n",
      "Step [6/8]\t loss_instance: 6.037883758544922\t loss_cluster: 1.6925770044326782\n",
      "\n",
      "Epoch [190/500]\t Loss: 7.6082072257995605 \n",
      "\n",
      "Step [0/8]\t Computing features...\n",
      "Features shape (8192,)\n",
      "14\n",
      "Test NMI = 0.6979 ARI = 0.4020 F = 0.5218 ACC = 0.4812\n",
      "================================================================\n",
      "\n"
     ]
    },
    {
     "name": "stderr",
     "output_type": "stream",
     "text": [
      "C:\\Users\\Tom-G\\.conda\\envs\\torchenv\\lib\\site-packages\\torch\\nn\\modules\\container.py:141: UserWarning: Implicit dimension choice for softmax has been deprecated. Change the call to include dim=X as an argument.\n",
      "  input = module(input)\n"
     ]
    },
    {
     "name": "stdout",
     "output_type": "stream",
     "text": [
      "Step [0/8]\t loss_instance: 6.017651557922363\t loss_cluster: 1.6641453504562378\n",
      "Step [2/8]\t loss_instance: 6.039965629577637\t loss_cluster: 1.6972349882125854\n",
      "Step [4/8]\t loss_instance: 6.041069984436035\t loss_cluster: 1.683515191078186\n",
      "Step [6/8]\t loss_instance: 6.030216217041016\t loss_cluster: 1.6794761419296265\n",
      "\n",
      "Epoch [191/500]\t Loss: 7.60058074593544 \n",
      "\n",
      "Step [0/8]\t Computing features...\n",
      "Features shape (8192,)\n",
      "14\n",
      "Test NMI = 0.6969 ARI = 0.4023 F = 0.5225 ACC = 0.4823\n",
      "================================================================\n",
      "\n"
     ]
    },
    {
     "name": "stderr",
     "output_type": "stream",
     "text": [
      "C:\\Users\\Tom-G\\.conda\\envs\\torchenv\\lib\\site-packages\\torch\\nn\\modules\\container.py:141: UserWarning: Implicit dimension choice for softmax has been deprecated. Change the call to include dim=X as an argument.\n",
      "  input = module(input)\n"
     ]
    },
    {
     "name": "stdout",
     "output_type": "stream",
     "text": [
      "Step [0/8]\t loss_instance: 6.014230251312256\t loss_cluster: 1.66050386428833\n",
      "Step [2/8]\t loss_instance: 6.060035705566406\t loss_cluster: 1.6885349750518799\n",
      "Step [4/8]\t loss_instance: 6.016917705535889\t loss_cluster: 1.6715716123580933\n",
      "Step [6/8]\t loss_instance: 6.026140213012695\t loss_cluster: 1.671285629272461\n",
      "\n",
      "Epoch [192/500]\t Loss: 7.5942221820354465 \n",
      "\n",
      "Step [0/8]\t Computing features...\n",
      "Features shape (8192,)\n",
      "14\n",
      "Test NMI = 0.6986 ARI = 0.4024 F = 0.5218 ACC = 0.4860\n",
      "================================================================\n",
      "\n"
     ]
    },
    {
     "name": "stderr",
     "output_type": "stream",
     "text": [
      "C:\\Users\\Tom-G\\.conda\\envs\\torchenv\\lib\\site-packages\\torch\\nn\\modules\\container.py:141: UserWarning: Implicit dimension choice for softmax has been deprecated. Change the call to include dim=X as an argument.\n",
      "  input = module(input)\n"
     ]
    },
    {
     "name": "stdout",
     "output_type": "stream",
     "text": [
      "Step [0/8]\t loss_instance: 6.044651508331299\t loss_cluster: 1.688826322555542\n",
      "Step [2/8]\t loss_instance: 6.0162458419799805\t loss_cluster: 1.669538974761963\n",
      "Step [4/8]\t loss_instance: 6.025538921356201\t loss_cluster: 1.6786378622055054\n",
      "Step [6/8]\t loss_instance: 6.006938934326172\t loss_cluster: 1.6739490032196045\n",
      "\n",
      "Epoch [193/500]\t Loss: 7.599424475431443 \n",
      "\n",
      "Step [0/8]\t Computing features...\n",
      "Features shape (8192,)\n",
      "14\n",
      "Test NMI = 0.6988 ARI = 0.4088 F = 0.5281 ACC = 0.4928\n",
      "================================================================\n",
      "\n"
     ]
    },
    {
     "name": "stderr",
     "output_type": "stream",
     "text": [
      "C:\\Users\\Tom-G\\.conda\\envs\\torchenv\\lib\\site-packages\\torch\\nn\\modules\\container.py:141: UserWarning: Implicit dimension choice for softmax has been deprecated. Change the call to include dim=X as an argument.\n",
      "  input = module(input)\n"
     ]
    },
    {
     "name": "stdout",
     "output_type": "stream",
     "text": [
      "Step [0/8]\t loss_instance: 6.032962322235107\t loss_cluster: 1.6915560960769653\n",
      "Step [2/8]\t loss_instance: 6.027288913726807\t loss_cluster: 1.6709585189819336\n",
      "Step [4/8]\t loss_instance: 6.03377103805542\t loss_cluster: 1.673052191734314\n",
      "Step [6/8]\t loss_instance: 6.029489517211914\t loss_cluster: 1.6694573163986206\n",
      "\n",
      "Epoch [194/500]\t Loss: 7.6002476811409 \n",
      "\n",
      "Step [0/8]\t Computing features...\n",
      "Features shape (8192,)\n",
      "14\n",
      "Test NMI = 0.6955 ARI = 0.3995 F = 0.5192 ACC = 0.4856\n",
      "================================================================\n",
      "\n"
     ]
    },
    {
     "name": "stderr",
     "output_type": "stream",
     "text": [
      "C:\\Users\\Tom-G\\.conda\\envs\\torchenv\\lib\\site-packages\\torch\\nn\\modules\\container.py:141: UserWarning: Implicit dimension choice for softmax has been deprecated. Change the call to include dim=X as an argument.\n",
      "  input = module(input)\n"
     ]
    },
    {
     "name": "stdout",
     "output_type": "stream",
     "text": [
      "Step [0/8]\t loss_instance: 6.0283966064453125\t loss_cluster: 1.6700268983840942\n",
      "Step [2/8]\t loss_instance: 6.013926982879639\t loss_cluster: 1.6693729162216187\n",
      "Step [4/8]\t loss_instance: 6.037205696105957\t loss_cluster: 1.698055624961853\n",
      "Step [6/8]\t loss_instance: 6.049986839294434\t loss_cluster: 1.682183861732483\n",
      "\n",
      "Epoch [195/500]\t Loss: 7.600499051809311 \n",
      "\n",
      "Step [0/8]\t Computing features...\n",
      "Features shape (8192,)\n",
      "14\n",
      "Test NMI = 0.6929 ARI = 0.3937 F = 0.5138 ACC = 0.4708\n",
      "================================================================\n",
      "\n"
     ]
    },
    {
     "name": "stderr",
     "output_type": "stream",
     "text": [
      "C:\\Users\\Tom-G\\.conda\\envs\\torchenv\\lib\\site-packages\\torch\\nn\\modules\\container.py:141: UserWarning: Implicit dimension choice for softmax has been deprecated. Change the call to include dim=X as an argument.\n",
      "  input = module(input)\n"
     ]
    },
    {
     "name": "stdout",
     "output_type": "stream",
     "text": [
      "Step [0/8]\t loss_instance: 6.021555423736572\t loss_cluster: 1.682765007019043\n",
      "Step [2/8]\t loss_instance: 6.022512912750244\t loss_cluster: 1.6715996265411377\n",
      "Step [4/8]\t loss_instance: 6.052500247955322\t loss_cluster: 1.6825809478759766\n",
      "Step [6/8]\t loss_instance: 6.029011249542236\t loss_cluster: 1.6786925792694092\n",
      "\n",
      "Epoch [196/500]\t Loss: 7.592412626743316 \n",
      "\n",
      "Step [0/8]\t Computing features...\n",
      "Features shape (8192,)\n",
      "14\n",
      "Test NMI = 0.6975 ARI = 0.4011 F = 0.5211 ACC = 0.4734\n",
      "================================================================\n",
      "\n"
     ]
    },
    {
     "name": "stderr",
     "output_type": "stream",
     "text": [
      "C:\\Users\\Tom-G\\.conda\\envs\\torchenv\\lib\\site-packages\\torch\\nn\\modules\\container.py:141: UserWarning: Implicit dimension choice for softmax has been deprecated. Change the call to include dim=X as an argument.\n",
      "  input = module(input)\n"
     ]
    },
    {
     "name": "stdout",
     "output_type": "stream",
     "text": [
      "Step [0/8]\t loss_instance: 6.032158851623535\t loss_cluster: 1.6857361793518066\n",
      "Step [2/8]\t loss_instance: 6.053145408630371\t loss_cluster: 1.697818636894226\n",
      "Step [4/8]\t loss_instance: 6.010049343109131\t loss_cluster: 1.6631397008895874\n",
      "Step [6/8]\t loss_instance: 6.039297103881836\t loss_cluster: 1.6923238039016724\n",
      "\n",
      "Epoch [197/500]\t Loss: 7.593012046813965 \n",
      "\n",
      "Step [0/8]\t Computing features...\n",
      "Features shape (8192,)\n",
      "14\n",
      "Test NMI = 0.6957 ARI = 0.4018 F = 0.5214 ACC = 0.4791\n",
      "================================================================\n",
      "\n"
     ]
    },
    {
     "name": "stderr",
     "output_type": "stream",
     "text": [
      "C:\\Users\\Tom-G\\.conda\\envs\\torchenv\\lib\\site-packages\\torch\\nn\\modules\\container.py:141: UserWarning: Implicit dimension choice for softmax has been deprecated. Change the call to include dim=X as an argument.\n",
      "  input = module(input)\n"
     ]
    },
    {
     "name": "stdout",
     "output_type": "stream",
     "text": [
      "Step [0/8]\t loss_instance: 6.028503894805908\t loss_cluster: 1.6626462936401367\n",
      "Step [2/8]\t loss_instance: 6.045577526092529\t loss_cluster: 1.7005728483200073\n",
      "Step [4/8]\t loss_instance: 6.024044990539551\t loss_cluster: 1.6753556728363037\n",
      "Step [6/8]\t loss_instance: 6.0191144943237305\t loss_cluster: 1.6636912822723389\n",
      "\n",
      "Epoch [198/500]\t Loss: 7.597974860668183 \n",
      "\n",
      "Step [0/8]\t Computing features...\n",
      "Features shape (8192,)\n",
      "14\n",
      "Test NMI = 0.6992 ARI = 0.4075 F = 0.5273 ACC = 0.4889\n",
      "================================================================\n",
      "\n"
     ]
    },
    {
     "name": "stderr",
     "output_type": "stream",
     "text": [
      "C:\\Users\\Tom-G\\.conda\\envs\\torchenv\\lib\\site-packages\\torch\\nn\\modules\\container.py:141: UserWarning: Implicit dimension choice for softmax has been deprecated. Change the call to include dim=X as an argument.\n",
      "  input = module(input)\n"
     ]
    },
    {
     "name": "stdout",
     "output_type": "stream",
     "text": [
      "Step [0/8]\t loss_instance: 6.0327019691467285\t loss_cluster: 1.6801018714904785\n",
      "Step [2/8]\t loss_instance: 6.036015033721924\t loss_cluster: 1.6851860284805298\n",
      "Step [4/8]\t loss_instance: 6.043763637542725\t loss_cluster: 1.691909670829773\n",
      "Step [6/8]\t loss_instance: 6.01557731628418\t loss_cluster: 1.6603072881698608\n",
      "\n",
      "Epoch [199/500]\t Loss: 7.597794705629349 \n",
      "\n",
      "Step [0/8]\t Computing features...\n",
      "Features shape (8192,)\n",
      "14\n",
      "Test NMI = 0.6983 ARI = 0.4052 F = 0.5250 ACC = 0.4833\n",
      "================================================================\n",
      "\n"
     ]
    },
    {
     "name": "stderr",
     "output_type": "stream",
     "text": [
      "C:\\Users\\Tom-G\\.conda\\envs\\torchenv\\lib\\site-packages\\torch\\nn\\modules\\container.py:141: UserWarning: Implicit dimension choice for softmax has been deprecated. Change the call to include dim=X as an argument.\n",
      "  input = module(input)\n"
     ]
    },
    {
     "name": "stdout",
     "output_type": "stream",
     "text": [
      "Step [0/8]\t loss_instance: 6.019762992858887\t loss_cluster: 1.6806074380874634\n",
      "Step [2/8]\t loss_instance: 6.043652057647705\t loss_cluster: 1.6832324266433716\n",
      "Step [4/8]\t loss_instance: 6.028000354766846\t loss_cluster: 1.676058053970337\n",
      "Step [6/8]\t loss_instance: 6.037682056427002\t loss_cluster: 1.6886178255081177\n",
      "\n",
      "Epoch [200/500]\t Loss: 7.597303462028504 \n",
      "\n",
      "Step [0/8]\t Computing features...\n",
      "Features shape (8192,)\n",
      "14\n",
      "Test NMI = 0.6973 ARI = 0.4028 F = 0.5227 ACC = 0.4810\n",
      "================================================================\n",
      "\n"
     ]
    },
    {
     "name": "stderr",
     "output_type": "stream",
     "text": [
      "C:\\Users\\Tom-G\\.conda\\envs\\torchenv\\lib\\site-packages\\torch\\nn\\modules\\container.py:141: UserWarning: Implicit dimension choice for softmax has been deprecated. Change the call to include dim=X as an argument.\n",
      "  input = module(input)\n"
     ]
    },
    {
     "name": "stdout",
     "output_type": "stream",
     "text": [
      "Step [0/8]\t loss_instance: 6.042093276977539\t loss_cluster: 1.6918662786483765\n",
      "Step [2/8]\t loss_instance: 6.022688865661621\t loss_cluster: 1.6640902757644653\n",
      "Step [4/8]\t loss_instance: 6.035721302032471\t loss_cluster: 1.674150824546814\n",
      "Step [6/8]\t loss_instance: 6.014989376068115\t loss_cluster: 1.6749897003173828\n",
      "\n",
      "Epoch [201/500]\t Loss: 7.597649937868118 \n",
      "\n",
      "Step [0/8]\t Computing features...\n",
      "Features shape (8192,)\n",
      "14\n",
      "Test NMI = 0.6990 ARI = 0.4043 F = 0.5244 ACC = 0.4890\n",
      "================================================================\n",
      "\n"
     ]
    },
    {
     "name": "stderr",
     "output_type": "stream",
     "text": [
      "C:\\Users\\Tom-G\\.conda\\envs\\torchenv\\lib\\site-packages\\torch\\nn\\modules\\container.py:141: UserWarning: Implicit dimension choice for softmax has been deprecated. Change the call to include dim=X as an argument.\n",
      "  input = module(input)\n"
     ]
    },
    {
     "name": "stdout",
     "output_type": "stream",
     "text": [
      "Step [0/8]\t loss_instance: 6.010847091674805\t loss_cluster: 1.6618517637252808\n",
      "Step [2/8]\t loss_instance: 6.033564567565918\t loss_cluster: 1.6754534244537354\n",
      "Step [4/8]\t loss_instance: 6.04464054107666\t loss_cluster: 1.6915732622146606\n"
     ]
    },
    {
     "ename": "KeyboardInterrupt",
     "evalue": "",
     "output_type": "error",
     "traceback": [
      "\u001b[1;31m---------------------------------------------------------------------------\u001b[0m",
      "\u001b[1;31mKeyboardInterrupt\u001b[0m                         Traceback (most recent call last)",
      "\u001b[1;32md:\\Documents\\GitHub\\scCC\\scCC - ANN - No Bank.ipynb Cell 14'\u001b[0m in \u001b[0;36m<cell line: 13>\u001b[1;34m()\u001b[0m\n\u001b[0;32m     <a href='vscode-notebook-cell:/d%3A/Documents/GitHub/scCC/scCC%20-%20ANN%20-%20No%20Bank.ipynb#ch0000013?line=13'>14</a>\u001b[0m lr \u001b[39m=\u001b[39m optimizer\u001b[39m.\u001b[39mparam_groups[\u001b[39m0\u001b[39m][\u001b[39m\"\u001b[39m\u001b[39mlr\u001b[39m\u001b[39m\"\u001b[39m]\n\u001b[0;32m     <a href='vscode-notebook-cell:/d%3A/Documents/GitHub/scCC/scCC%20-%20ANN%20-%20No%20Bank.ipynb#ch0000013?line=14'>15</a>\u001b[0m \u001b[39m# if epoch %20 ==0:\u001b[39;00m\n\u001b[0;32m     <a href='vscode-notebook-cell:/d%3A/Documents/GitHub/scCC/scCC%20-%20ANN%20-%20No%20Bank.ipynb#ch0000013?line=15'>16</a>\u001b[0m \u001b[39m#     embeddings=np.empty((0,mlp.rep_dim))\u001b[39;00m\n\u001b[0;32m     <a href='vscode-notebook-cell:/d%3A/Documents/GitHub/scCC/scCC%20-%20ANN%20-%20No%20Bank.ipynb#ch0000013?line=16'>17</a>\u001b[0m \u001b[39m#     model.eval()\u001b[39;00m\n\u001b[1;32m   (...)\u001b[0m\n\u001b[0;32m     <a href='vscode-notebook-cell:/d%3A/Documents/GitHub/scCC/scCC%20-%20ANN%20-%20No%20Bank.ipynb#ch0000013?line=21'>22</a>\u001b[0m \u001b[39m#             embeddings=np.row_stack((embeddings,embedding))\u001b[39;00m\n\u001b[0;32m     <a href='vscode-notebook-cell:/d%3A/Documents/GitHub/scCC/scCC%20-%20ANN%20-%20No%20Bank.ipynb#ch0000013?line=22'>23</a>\u001b[0m \u001b[39m#             memory_bank.updateBank(embeddings)\u001b[39;00m\n\u001b[1;32m---> <a href='vscode-notebook-cell:/d%3A/Documents/GitHub/scCC/scCC%20-%20ANN%20-%20No%20Bank.ipynb#ch0000013?line=23'>24</a>\u001b[0m loss_epoch \u001b[39m=\u001b[39m train(instance_loss,cluster_loss,memory_bank,epoch\u001b[39m=\u001b[39;49mepoch,model\u001b[39m=\u001b[39;49mmodel)\n\u001b[0;32m     <a href='vscode-notebook-cell:/d%3A/Documents/GitHub/scCC/scCC%20-%20ANN%20-%20No%20Bank.ipynb#ch0000013?line=24'>25</a>\u001b[0m losses\u001b[39m.\u001b[39mappend(loss_epoch\u001b[39m/\u001b[39m\u001b[39mlen\u001b[39m(scDataLoader))\n\u001b[0;32m     <a href='vscode-notebook-cell:/d%3A/Documents/GitHub/scCC/scCC%20-%20ANN%20-%20No%20Bank.ipynb#ch0000013?line=25'>26</a>\u001b[0m \u001b[39mif\u001b[39;00m epoch \u001b[39m%\u001b[39m \u001b[39m10\u001b[39m \u001b[39m==\u001b[39m \u001b[39m0\u001b[39m:\n",
      "\u001b[1;32md:\\Documents\\GitHub\\scCC\\scCC - ANN - No Bank.ipynb Cell 11'\u001b[0m in \u001b[0;36mtrain\u001b[1;34m(instance_loss, cluster_loss, memory_bank, model, epoch)\u001b[0m\n\u001b[0;32m     <a href='vscode-notebook-cell:/d%3A/Documents/GitHub/scCC/scCC%20-%20ANN%20-%20No%20Bank.ipynb#ch0000010?line=22'>23</a>\u001b[0m loss \u001b[39m=\u001b[39m loss_instance \u001b[39m+\u001b[39m loss_cluster\n\u001b[0;32m     <a href='vscode-notebook-cell:/d%3A/Documents/GitHub/scCC/scCC%20-%20ANN%20-%20No%20Bank.ipynb#ch0000010?line=23'>24</a>\u001b[0m \u001b[39m# print(f'------ loss:\\n{loss}')\u001b[39;00m\n\u001b[1;32m---> <a href='vscode-notebook-cell:/d%3A/Documents/GitHub/scCC/scCC%20-%20ANN%20-%20No%20Bank.ipynb#ch0000010?line=24'>25</a>\u001b[0m loss\u001b[39m.\u001b[39;49mbackward()\n\u001b[0;32m     <a href='vscode-notebook-cell:/d%3A/Documents/GitHub/scCC/scCC%20-%20ANN%20-%20No%20Bank.ipynb#ch0000010?line=25'>26</a>\u001b[0m optimizer\u001b[39m.\u001b[39mstep()\n\u001b[0;32m     <a href='vscode-notebook-cell:/d%3A/Documents/GitHub/scCC/scCC%20-%20ANN%20-%20No%20Bank.ipynb#ch0000010?line=26'>27</a>\u001b[0m loss_epoch\u001b[39m+\u001b[39m\u001b[39m=\u001b[39mloss\u001b[39m.\u001b[39mitem()\n",
      "File \u001b[1;32m~\\.conda\\envs\\torchenv\\lib\\site-packages\\torch\\_tensor.py:363\u001b[0m, in \u001b[0;36mTensor.backward\u001b[1;34m(self, gradient, retain_graph, create_graph, inputs)\u001b[0m\n\u001b[0;32m    <a href='file:///c%3A/Users/Tom-G/.conda/envs/torchenv/lib/site-packages/torch/_tensor.py?line=353'>354</a>\u001b[0m \u001b[39mif\u001b[39;00m has_torch_function_unary(\u001b[39mself\u001b[39m):\n\u001b[0;32m    <a href='file:///c%3A/Users/Tom-G/.conda/envs/torchenv/lib/site-packages/torch/_tensor.py?line=354'>355</a>\u001b[0m     \u001b[39mreturn\u001b[39;00m handle_torch_function(\n\u001b[0;32m    <a href='file:///c%3A/Users/Tom-G/.conda/envs/torchenv/lib/site-packages/torch/_tensor.py?line=355'>356</a>\u001b[0m         Tensor\u001b[39m.\u001b[39mbackward,\n\u001b[0;32m    <a href='file:///c%3A/Users/Tom-G/.conda/envs/torchenv/lib/site-packages/torch/_tensor.py?line=356'>357</a>\u001b[0m         (\u001b[39mself\u001b[39m,),\n\u001b[1;32m   (...)\u001b[0m\n\u001b[0;32m    <a href='file:///c%3A/Users/Tom-G/.conda/envs/torchenv/lib/site-packages/torch/_tensor.py?line=360'>361</a>\u001b[0m         create_graph\u001b[39m=\u001b[39mcreate_graph,\n\u001b[0;32m    <a href='file:///c%3A/Users/Tom-G/.conda/envs/torchenv/lib/site-packages/torch/_tensor.py?line=361'>362</a>\u001b[0m         inputs\u001b[39m=\u001b[39minputs)\n\u001b[1;32m--> <a href='file:///c%3A/Users/Tom-G/.conda/envs/torchenv/lib/site-packages/torch/_tensor.py?line=362'>363</a>\u001b[0m torch\u001b[39m.\u001b[39;49mautograd\u001b[39m.\u001b[39;49mbackward(\u001b[39mself\u001b[39;49m, gradient, retain_graph, create_graph, inputs\u001b[39m=\u001b[39;49minputs)\n",
      "File \u001b[1;32m~\\.conda\\envs\\torchenv\\lib\\site-packages\\torch\\autograd\\__init__.py:173\u001b[0m, in \u001b[0;36mbackward\u001b[1;34m(tensors, grad_tensors, retain_graph, create_graph, grad_variables, inputs)\u001b[0m\n\u001b[0;32m    <a href='file:///c%3A/Users/Tom-G/.conda/envs/torchenv/lib/site-packages/torch/autograd/__init__.py?line=167'>168</a>\u001b[0m     retain_graph \u001b[39m=\u001b[39m create_graph\n\u001b[0;32m    <a href='file:///c%3A/Users/Tom-G/.conda/envs/torchenv/lib/site-packages/torch/autograd/__init__.py?line=169'>170</a>\u001b[0m \u001b[39m# The reason we repeat same the comment below is that\u001b[39;00m\n\u001b[0;32m    <a href='file:///c%3A/Users/Tom-G/.conda/envs/torchenv/lib/site-packages/torch/autograd/__init__.py?line=170'>171</a>\u001b[0m \u001b[39m# some Python versions print out the first line of a multi-line function\u001b[39;00m\n\u001b[0;32m    <a href='file:///c%3A/Users/Tom-G/.conda/envs/torchenv/lib/site-packages/torch/autograd/__init__.py?line=171'>172</a>\u001b[0m \u001b[39m# calls in the traceback and some print out the last line\u001b[39;00m\n\u001b[1;32m--> <a href='file:///c%3A/Users/Tom-G/.conda/envs/torchenv/lib/site-packages/torch/autograd/__init__.py?line=172'>173</a>\u001b[0m Variable\u001b[39m.\u001b[39;49m_execution_engine\u001b[39m.\u001b[39;49mrun_backward(  \u001b[39m# Calls into the C++ engine to run the backward pass\u001b[39;49;00m\n\u001b[0;32m    <a href='file:///c%3A/Users/Tom-G/.conda/envs/torchenv/lib/site-packages/torch/autograd/__init__.py?line=173'>174</a>\u001b[0m     tensors, grad_tensors_, retain_graph, create_graph, inputs,\n\u001b[0;32m    <a href='file:///c%3A/Users/Tom-G/.conda/envs/torchenv/lib/site-packages/torch/autograd/__init__.py?line=174'>175</a>\u001b[0m     allow_unreachable\u001b[39m=\u001b[39;49m\u001b[39mTrue\u001b[39;49;00m, accumulate_grad\u001b[39m=\u001b[39;49m\u001b[39mTrue\u001b[39;49;00m)\n",
      "\u001b[1;31mKeyboardInterrupt\u001b[0m: "
     ]
    }
   ],
   "source": [
    "loss_device=torch.device('cuda')\n",
    "instance_loss=InstanceLoss(batch_size=args.batch_size,temperature=0.5,device=loss_device)\n",
    "cluster_loss=ClusterLoss(class_num=class_num,temperature=0.5,device=loss_device)\n",
    "accs=[]\n",
    "losses=[]\n",
    "aris=[]\n",
    "nmis=[]\n",
    "fs=[]\n",
    "\n",
    "memory_bank=MemoryBank(batch_size=args.batch_size,full_data=x_ndarray,topK=10)\n",
    "memory_bank.updateBank(x_ndarray)\n",
    "\n",
    "for epoch in range(args.start_epoch, args.epochs):\n",
    "    lr = optimizer.param_groups[0][\"lr\"]\n",
    "    # if epoch %20 ==0:\n",
    "    #     embeddings=np.empty((0,mlp.rep_dim))\n",
    "    #     model.eval()\n",
    "    #     with torch.no_grad():\n",
    "    #         for step, (x, y) in enumerate(scGenDataLoader):\n",
    "    #             x=x.to('cuda')\n",
    "    #             embedding=model.forward_embedding(x).cpu().detach().numpy()                 \n",
    "    #             embeddings=np.row_stack((embeddings,embedding))\n",
    "    #             memory_bank.updateBank(embeddings)\n",
    "    loss_epoch = train(instance_loss,cluster_loss,memory_bank,epoch=epoch,model=model)\n",
    "    losses.append(loss_epoch/len(scDataLoader))\n",
    "    if epoch % 10 == 0:\n",
    "        save_model(args, model, optimizer, epoch)\n",
    "    print(f\"\\nEpoch [{epoch}/{args.epochs}]\\t Loss: {loss_epoch / len(scDataLoader)} \\n\")\n",
    "    nmi, ari, f, acc = test()\n",
    "    accs.append(acc)\n",
    "    aris.append(ari)\n",
    "    nmis.append(nmi)\n",
    "    fs.append(f)\n",
    "    print('Test NMI = {:.4f} ARI = {:.4f} F = {:.4f} ACC = {:.4f}'.format(nmi, ari, f, acc))\n",
    "    print('========'*8+'\\n')"
   ]
  },
  {
   "cell_type": "code",
   "execution_count": 15,
   "metadata": {
    "collapsed": false,
    "pycharm": {
     "name": "#%%\n"
    }
   },
   "outputs": [
    {
     "data": {
      "image/png": "[encoded data removed]",
      "text/plain": [
       "<Figure size 864x288 with 2 Axes>"
      ]
     },
     "metadata": {
      "needs_background": "light"
     },
     "output_type": "display_data"
    }
   ],
   "source": [
    "from matplotlib import pyplot as plt\n",
    "\n",
    "f, ax = plt.subplots(nrows=1, ncols=2, figsize=(12, 4))\n",
    "ax[0].plot(accs)\n",
    "ax[0].set_title('Accuracy during Validation')\n",
    "ax[1].plot(losses)\n",
    "ax[1].set_title('Loss during Training')\n",
    "\n",
    "plt.subplots_adjust(top=0.85)\n",
    "plt.suptitle('Result')\n",
    "plt.show()"
   ]
  },
  {
   "cell_type": "code",
   "execution_count": 16,
   "metadata": {},
   "outputs": [
    {
     "data": {
      "image/png": "[encoded data removed]",
      "text/plain": [
       "<Figure size 864x432 with 3 Axes>"
      ]
     },
     "metadata": {
      "needs_background": "light"
     },
     "output_type": "display_data"
    }
   ],
   "source": [
    "f, ax = plt.subplots(nrows=1, ncols=3, figsize=(12, 6))\n",
    "ax[0].plot(nmis)\n",
    "ax[0].set_title('Test NMI')\n",
    "ax[1].plot(aris)\n",
    "ax[1].set_title('Test ARI')\n",
    "ax[2].plot(fs)\n",
    "ax[2].set_title('Test F')\n",
    "\n",
    "\n",
    "plt.subplots_adjust(top=0.85)\n",
    "plt.suptitle('Result')\n",
    "plt.show()"
   ]
  },
  {
   "cell_type": "code",
   "execution_count": null,
   "metadata": {},
   "outputs": [],
   "source": []
  }
 ],
 "metadata": {
  "kernelspec": {
   "display_name": "Python 3",
   "language": "python",
   "name": "python3"
  },
  "language_info": {
   "codemirror_mode": {
    "name": "ipython",
    "version": 3
   },
   "file_extension": ".py",
   "mimetype": "text/x-python",
   "name": "python",
   "nbconvert_exporter": "python",
   "pygments_lexer": "ipython3",
   "version": "3.8.12"
  }
 },
 "nbformat": 4,
 "nbformat_minor": 0
}
