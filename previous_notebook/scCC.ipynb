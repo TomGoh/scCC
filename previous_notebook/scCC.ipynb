{
 "cells": [
  {
   "cell_type": "code",
   "execution_count": 1,
   "metadata": {
    "collapsed": false,
    "pycharm": {
     "name": "#%%\n"
    }
   },
   "outputs": [],
   "source": [
    "from torch import nn\n",
    "import torch\n",
    "import argparse\n",
    "import numpy as np\n",
    "import pandas as pd\n",
    "import scanpy as sc\n",
    "import os\n",
    "import anndata\n",
    "import math\n",
    "\n",
    "# import warnings\n",
    "# warnings.filterwarnings(\"ignore\", category=UserWarning)"
   ]
  },
  {
   "cell_type": "code",
   "execution_count": 2,
   "metadata": {
    "collapsed": false,
    "pycharm": {
     "name": "#%%\n"
    }
   },
   "outputs": [],
   "source": [
    "from modules import network,mlp\n",
    "from utils import yaml_config_hook,save_model\n",
    "\n",
    "parser = argparse.ArgumentParser()\n",
    "config = yaml_config_hook(\"config/config.yaml\")\n",
    "for k, v in config.items():\n",
    "    parser.add_argument(f\"--{k}\", default=v, type=type(v))\n",
    "args = parser.parse_args([])\n",
    "if not os.path.exists(args.model_path):\n",
    "    os.makedirs(args.model_path)\n",
    "\n",
    "# torch.manual_seed(args.seed)\n",
    "# torch.cuda.manual_seed_all(args.seed)\n",
    "# torch.cuda.manual_seed(args.seed)\n",
    "# np.random.seed(args.seed)\n",
    "class_num = args.classnum"
   ]
  },
  {
   "cell_type": "code",
   "execution_count": 3,
   "metadata": {
    "collapsed": false,
    "pycharm": {
     "name": "#%%\n"
    }
   },
   "outputs": [
    {
     "name": "stderr",
     "output_type": "stream",
     "text": [
      "C:\\Users\\Tom-G\\.conda\\envs\\torchenv\\lib\\site-packages\\anndata\\_core\\anndata.py:107: FutureWarning: elementwise comparison failed; returning scalar instead, but in the future will perform elementwise comparison\n",
      "  if index_name in anno:\n"
     ]
    },
    {
     "name": "stdout",
     "output_type": "stream",
     "text": [
      "(8569, 6000) (8569, 1)\n"
     ]
    },
    {
     "data": {
      "text/html": [
       "<div>\n",
       "<style scoped>\n",
       "    .dataframe tbody tr th:only-of-type {\n",
       "        vertical-align: middle;\n",
       "    }\n",
       "\n",
       "    .dataframe tbody tr th {\n",
       "        vertical-align: top;\n",
       "    }\n",
       "\n",
       "    .dataframe thead th {\n",
       "        text-align: right;\n",
       "    }\n",
       "</style>\n",
       "<table border=\"1\" class=\"dataframe\">\n",
       "  <thead>\n",
       "    <tr style=\"text-align: right;\">\n",
       "      <th></th>\n",
       "      <th>1</th>\n",
       "      <th>2</th>\n",
       "      <th>4</th>\n",
       "      <th>7</th>\n",
       "      <th>10</th>\n",
       "      <th>13</th>\n",
       "      <th>26</th>\n",
       "      <th>31</th>\n",
       "      <th>32</th>\n",
       "      <th>33</th>\n",
       "      <th>...</th>\n",
       "      <th>20104</th>\n",
       "      <th>20105</th>\n",
       "      <th>20108</th>\n",
       "      <th>20109</th>\n",
       "      <th>20115</th>\n",
       "      <th>20118</th>\n",
       "      <th>20121</th>\n",
       "      <th>20122</th>\n",
       "      <th>20123</th>\n",
       "      <th>20124</th>\n",
       "    </tr>\n",
       "  </thead>\n",
       "  <tbody>\n",
       "    <tr>\n",
       "      <th>0</th>\n",
       "      <td>1.024218</td>\n",
       "      <td>0.0</td>\n",
       "      <td>0.0</td>\n",
       "      <td>0.0000</td>\n",
       "      <td>1.302199</td>\n",
       "      <td>0.0</td>\n",
       "      <td>0.0</td>\n",
       "      <td>0.0</td>\n",
       "      <td>0.637877</td>\n",
       "      <td>0.0</td>\n",
       "      <td>...</td>\n",
       "      <td>0.0000</td>\n",
       "      <td>0.0</td>\n",
       "      <td>0.36896</td>\n",
       "      <td>0.0</td>\n",
       "      <td>0.0000</td>\n",
       "      <td>0.0</td>\n",
       "      <td>0.637877</td>\n",
       "      <td>0.0000</td>\n",
       "      <td>0.000000</td>\n",
       "      <td>0.368960</td>\n",
       "    </tr>\n",
       "    <tr>\n",
       "      <th>1</th>\n",
       "      <td>0.000000</td>\n",
       "      <td>0.0</td>\n",
       "      <td>0.0</td>\n",
       "      <td>0.0000</td>\n",
       "      <td>1.351171</td>\n",
       "      <td>0.0</td>\n",
       "      <td>0.0</td>\n",
       "      <td>0.0</td>\n",
       "      <td>0.000000</td>\n",
       "      <td>0.0</td>\n",
       "      <td>...</td>\n",
       "      <td>0.0000</td>\n",
       "      <td>0.0</td>\n",
       "      <td>0.00000</td>\n",
       "      <td>0.0</td>\n",
       "      <td>0.0000</td>\n",
       "      <td>0.0</td>\n",
       "      <td>0.888292</td>\n",
       "      <td>0.0000</td>\n",
       "      <td>0.305824</td>\n",
       "      <td>0.000000</td>\n",
       "    </tr>\n",
       "    <tr>\n",
       "      <th>2</th>\n",
       "      <td>0.000000</td>\n",
       "      <td>0.0</td>\n",
       "      <td>0.0</td>\n",
       "      <td>0.0000</td>\n",
       "      <td>0.000000</td>\n",
       "      <td>0.0</td>\n",
       "      <td>0.0</td>\n",
       "      <td>0.0</td>\n",
       "      <td>0.000000</td>\n",
       "      <td>0.0</td>\n",
       "      <td>...</td>\n",
       "      <td>0.0000</td>\n",
       "      <td>0.0</td>\n",
       "      <td>0.00000</td>\n",
       "      <td>0.0</td>\n",
       "      <td>0.0000</td>\n",
       "      <td>0.0</td>\n",
       "      <td>0.000000</td>\n",
       "      <td>0.0000</td>\n",
       "      <td>0.000000</td>\n",
       "      <td>0.000000</td>\n",
       "    </tr>\n",
       "    <tr>\n",
       "      <th>3</th>\n",
       "      <td>0.000000</td>\n",
       "      <td>0.0</td>\n",
       "      <td>0.0</td>\n",
       "      <td>0.4175</td>\n",
       "      <td>0.000000</td>\n",
       "      <td>0.0</td>\n",
       "      <td>0.0</td>\n",
       "      <td>0.0</td>\n",
       "      <td>0.000000</td>\n",
       "      <td>0.0</td>\n",
       "      <td>...</td>\n",
       "      <td>0.4175</td>\n",
       "      <td>0.0</td>\n",
       "      <td>0.00000</td>\n",
       "      <td>0.0</td>\n",
       "      <td>0.4175</td>\n",
       "      <td>0.0</td>\n",
       "      <td>0.937850</td>\n",
       "      <td>0.4175</td>\n",
       "      <td>0.000000</td>\n",
       "      <td>0.000000</td>\n",
       "    </tr>\n",
       "    <tr>\n",
       "      <th>4</th>\n",
       "      <td>0.000000</td>\n",
       "      <td>0.0</td>\n",
       "      <td>0.0</td>\n",
       "      <td>0.0000</td>\n",
       "      <td>0.000000</td>\n",
       "      <td>0.0</td>\n",
       "      <td>0.0</td>\n",
       "      <td>0.0</td>\n",
       "      <td>0.000000</td>\n",
       "      <td>0.0</td>\n",
       "      <td>...</td>\n",
       "      <td>0.0000</td>\n",
       "      <td>0.0</td>\n",
       "      <td>0.00000</td>\n",
       "      <td>0.0</td>\n",
       "      <td>0.0000</td>\n",
       "      <td>0.0</td>\n",
       "      <td>0.509045</td>\n",
       "      <td>0.0000</td>\n",
       "      <td>0.000000</td>\n",
       "      <td>0.509045</td>\n",
       "    </tr>\n",
       "  </tbody>\n",
       "</table>\n",
       "<p>5 rows × 6000 columns</p>\n",
       "</div>"
      ],
      "text/plain": [
       "          1    2    4       7        10   13   26   31        32   33  ...  \\\n",
       "0  1.024218  0.0  0.0  0.0000  1.302199  0.0  0.0  0.0  0.637877  0.0  ...   \n",
       "1  0.000000  0.0  0.0  0.0000  1.351171  0.0  0.0  0.0  0.000000  0.0  ...   \n",
       "2  0.000000  0.0  0.0  0.0000  0.000000  0.0  0.0  0.0  0.000000  0.0  ...   \n",
       "3  0.000000  0.0  0.0  0.4175  0.000000  0.0  0.0  0.0  0.000000  0.0  ...   \n",
       "4  0.000000  0.0  0.0  0.0000  0.000000  0.0  0.0  0.0  0.000000  0.0  ...   \n",
       "\n",
       "    20104  20105    20108  20109   20115  20118     20121   20122     20123  \\\n",
       "0  0.0000    0.0  0.36896    0.0  0.0000    0.0  0.637877  0.0000  0.000000   \n",
       "1  0.0000    0.0  0.00000    0.0  0.0000    0.0  0.888292  0.0000  0.305824   \n",
       "2  0.0000    0.0  0.00000    0.0  0.0000    0.0  0.000000  0.0000  0.000000   \n",
       "3  0.4175    0.0  0.00000    0.0  0.4175    0.0  0.937850  0.4175  0.000000   \n",
       "4  0.0000    0.0  0.00000    0.0  0.0000    0.0  0.509045  0.0000  0.000000   \n",
       "\n",
       "      20124  \n",
       "0  0.368960  \n",
       "1  0.000000  \n",
       "2  0.000000  \n",
       "3  0.000000  \n",
       "4  0.509045  \n",
       "\n",
       "[5 rows x 6000 columns]"
      ]
     },
     "execution_count": 3,
     "metadata": {},
     "output_type": "execute_result"
    }
   ],
   "source": [
    "import scipy.sparse\n",
    "sparse_X = scipy.sparse.load_npz('data/filtered_Counts.npz')\n",
    "annoData = pd.read_table('data/annoData.txt')\n",
    "y = annoData[\"cellIden\"].to_numpy()\n",
    "high_var_gene = args.num_genes\n",
    "# normlization and feature selection\n",
    "adataSC = anndata.AnnData(X=sparse_X, obs=np.arange(sparse_X.shape[0]), var=np.arange(sparse_X.shape[1]))\n",
    "sc.pp.filter_genes(adataSC, min_cells=10)\n",
    "adataSC.raw = adataSC\n",
    "sc.pp.highly_variable_genes(adataSC, n_top_genes=high_var_gene, flavor='seurat_v3')\n",
    "sc.pp.normalize_total(adataSC, target_sum=1e4)\n",
    "sc.pp.log1p(adataSC)\n",
    "\n",
    "adataNorm = adataSC[:, adataSC.var.highly_variable]\n",
    "dataframe = adataNorm.to_df()\n",
    "x_ndarray = dataframe.values.squeeze()\n",
    "y_ndarray = np.expand_dims(y, axis=1)\n",
    "print(x_ndarray.shape,y_ndarray.shape)\n",
    "dataframe.head()"
   ]
  },
  {
   "cell_type": "code",
   "execution_count": 4,
   "metadata": {
    "collapsed": false,
    "pycharm": {
     "name": "#%%\n"
    }
   },
   "outputs": [
    {
     "name": "stdout",
     "output_type": "stream",
     "text": [
      "6000\n",
      "1714\n",
      "1714\n"
     ]
    }
   ],
   "source": [
    "from torch.utils.data import DataLoader,random_split,TensorDataset\n",
    "scDataset = TensorDataset(torch.tensor(x_ndarray, dtype=torch.float32),\n",
    "                              torch.tensor(y_ndarray, dtype=torch.float32))\n",
    "\n",
    "scTrainLength = int(len(scDataset) * 0.8)\n",
    "scValidLength = len(scDataset) - scTrainLength\n",
    "scTrain, scValid = random_split(scDataset, [scTrainLength, scValidLength])\n",
    "# print(scValidLength)\n",
    "scTrainDataLoader = DataLoader(scTrain, shuffle=True, batch_size=args.batch_size,drop_last=True)\n",
    "scValidDataLoader = DataLoader(scValid, shuffle=True, batch_size=args.batch_size,drop_last=False)\n",
    "\n",
    "for features, labels in scTrainDataLoader:\n",
    "    print(len(features[-1]))\n",
    "    print(len(features))\n",
    "    print(len(labels))\n",
    "    break"
   ]
  },
  {
   "cell_type": "code",
   "execution_count": 5,
   "metadata": {
    "collapsed": false,
    "pycharm": {
     "name": "#%%\n"
    }
   },
   "outputs": [],
   "source": [
    "# initialize model\n",
    "mlp = mlp.MLP(num_genes=args.num_genes)\n",
    "model = network.Network(mlp, args.feature_dim, args.classnum)\n",
    "model = model.to('cuda')\n",
    "# optimizer / loss\n",
    "optimizer = torch.optim.Adam(model.parameters(), lr=args.learning_rate, weight_decay=args.weight_decay)"
   ]
  },
  {
   "cell_type": "code",
   "execution_count": 6,
   "metadata": {
    "collapsed": false,
    "pycharm": {
     "name": "#%%\n"
    }
   },
   "outputs": [],
   "source": [
    "class InstanceLoss(nn.Module):\n",
    "\n",
    "    def __init__(self,batch_size,temperature,device):\n",
    "        super(InstanceLoss,self).__init__()\n",
    "        self.batch_size=batch_size\n",
    "        self.temperature=temperature\n",
    "        self.device=device\n",
    "\n",
    "        self.mask=self.mask_correlated_samples(batch_size)\n",
    "        self.criterion = nn.CrossEntropyLoss(reduction=\"sum\")\n",
    "\n",
    "\n",
    "    def mask_correlated_samples(self,batch_size):\n",
    "        N=2*batch_size\n",
    "        mask=torch.ones(N,N)\n",
    "        mask=mask.fill_diagonal_(0)\n",
    "        for i in range(batch_size):\n",
    "            mask[i,batch_size+1]=0\n",
    "            mask[batch_size+i,i]=0\n",
    "        mask=mask.bool()\n",
    "        return mask\n",
    "\n",
    "    def forward(self,z_i,z_j):\n",
    "        N=2*self.batch_size\n",
    "        z=torch.cat((z_i,z_j),dim=0)\n",
    "\n",
    "        sim=torch.matmul(z,z.T)/self.temperature\n",
    "        sim_i_j=torch.diag(sim,self.batch_size)\n",
    "        sim_j_i=torch.diag(sim,-self.batch_size)\n",
    "\n",
    "        positive_samples= torch.cat((sim_i_j,sim_j_i),dim=0).reshape(N,1)\n",
    "        negative_samples=sim[self.mask].reshape(N,-1)\n",
    "\n",
    "        labels = torch.zeros(N).to(positive_samples.device).long()\n",
    "        logits = torch.cat((positive_samples, negative_samples), dim=1)\n",
    "        loss = self.criterion(logits, labels)\n",
    "        loss /= N\n",
    "\n",
    "        return loss"
   ]
  },
  {
   "cell_type": "code",
   "execution_count": 7,
   "metadata": {
    "collapsed": false,
    "pycharm": {
     "name": "#%%\n"
    }
   },
   "outputs": [],
   "source": [
    "class ClusterLoss(nn.Module):\n",
    "    def __init__(self, class_num, temperature, device):\n",
    "        super(ClusterLoss, self).__init__()\n",
    "        self.class_num = class_num\n",
    "        self.temperature = temperature\n",
    "        self.device = device\n",
    "\n",
    "        self.mask = self.mask_correlated_clusters(class_num)\n",
    "        self.criterion = nn.CrossEntropyLoss(reduction=\"sum\")\n",
    "        self.similarity_f = nn.CosineSimilarity(dim=2)\n",
    "\n",
    "    def mask_correlated_clusters(self, class_num):\n",
    "        N = 2 * class_num\n",
    "        mask = torch.ones((N, N))\n",
    "        mask = mask.fill_diagonal_(0)\n",
    "        for i in range(class_num):\n",
    "            mask[i, class_num + i] = 0\n",
    "            mask[class_num + i, i] = 0\n",
    "        mask = mask.bool()\n",
    "        return mask\n",
    "\n",
    "    def forward(self, c_i, c_j):\n",
    "        p_i = c_i.sum(0).view(-1)\n",
    "        p_i /= p_i.sum()\n",
    "        ne_i = math.log(p_i.size(0)) + (p_i * torch.log(p_i)).sum()\n",
    "        p_j = c_j.sum(0).view(-1)\n",
    "        p_j /= p_j.sum()\n",
    "        ne_j = math.log(p_j.size(0)) + (p_j * torch.log(p_j)).sum()\n",
    "        ne_loss = ne_i + ne_j\n",
    "\n",
    "        c_i = c_i.t()\n",
    "        c_j = c_j.t()\n",
    "        N = 2 * self.class_num\n",
    "        c = torch.cat((c_i, c_j), dim=0)\n",
    "\n",
    "        sim = self.similarity_f(c.unsqueeze(1), c.unsqueeze(0)) / self.temperature\n",
    "        sim_i_j = torch.diag(sim, self.class_num)\n",
    "        sim_j_i = torch.diag(sim, -self.class_num)\n",
    "\n",
    "        positive_clusters = torch.cat((sim_i_j, sim_j_i), dim=0).reshape(N, 1)\n",
    "        negative_clusters = sim[self.mask].reshape(N, -1)\n",
    "\n",
    "        labels = torch.zeros(N).to(positive_clusters.device).long()\n",
    "        logits = torch.cat((positive_clusters, negative_clusters), dim=1)\n",
    "        loss = self.criterion(logits, labels)\n",
    "        loss /= N\n",
    "\n",
    "        return loss + ne_loss\n"
   ]
  },
  {
   "cell_type": "code",
   "execution_count": 8,
   "metadata": {
    "collapsed": false,
    "pycharm": {
     "name": "#%%\n"
    }
   },
   "outputs": [],
   "source": [
    "from preprocessing import transformation\n",
    "def train(instance_loss,cluster_loss):\n",
    "    loss_epoch = 0\n",
    "    for step, (data,label) in enumerate(scTrainDataLoader):\n",
    "        optimizer.zero_grad()\n",
    "        \n",
    "        x_i=data.clone()\n",
    "        x_j=transformation.transformation(x_i).clone()\n",
    "        if x_j is not None:\n",
    "            x_j=x_j.to('cuda')\n",
    "        else:\n",
    "            x_j=x_i.clone().to('cuda')\n",
    "        x_i=x_i.to('cuda')\n",
    "\n",
    "        # x_i=data.clone().to('cuda')\n",
    "        # x_j=data.clone().to('cuda')\n",
    "        \n",
    "        z_i,z_j,c_i,c_j=model(x_i,x_j)\n",
    "        loss_instance=instance_loss(z_i,z_j)\n",
    "        loss_cluster=cluster_loss(c_i,c_j)\n",
    "        loss = loss_instance + loss_cluster\n",
    "        loss.backward()\n",
    "        optimizer.step()\n",
    "        if step % 10 == 0:\n",
    "            print(\n",
    "                f\"Step [{step}/{len(scTrainDataLoader)}]\\t loss_instance: {loss_instance.item()}\\t loss_cluster: {loss_cluster.item()}\")\n",
    "        loss_epoch += loss.item()\n",
    "    return loss_epoch\n"
   ]
  },
  {
   "cell_type": "code",
   "execution_count": 9,
   "metadata": {
    "collapsed": false,
    "pycharm": {
     "name": "#%%\n"
    }
   },
   "outputs": [],
   "source": [
    "def inference(loader, model, device):\n",
    "    model.eval()\n",
    "    feature_vector = []\n",
    "    labels_vector = []\n",
    "    for step, (x, y) in enumerate(loader):\n",
    "        x = x.to(device)\n",
    "        with torch.no_grad():\n",
    "            c = model.forward_cluster(x)\n",
    "        c = c.detach()\n",
    "        feature_vector.extend(c.cpu().detach().numpy())\n",
    "        labels_vector.extend(y.numpy())\n",
    "        if step % 20 == 0:\n",
    "            print(f\"Step [{step}/{len(loader)}]\\t Computing features...\")\n",
    "    feature_vector = np.array(feature_vector)\n",
    "    labels_vector = np.array(labels_vector)\n",
    "    print(\"Features shape {}\".format(feature_vector.shape))\n",
    "    # print(feature_vector.shape, labels_vector.shape)\n",
    "    return feature_vector, labels_vector"
   ]
  },
  {
   "cell_type": "code",
   "execution_count": 10,
   "metadata": {
    "collapsed": false,
    "pycharm": {
     "name": "#%%\n"
    }
   },
   "outputs": [],
   "source": [
    "from evaluation import evaluation\n",
    "def test():\n",
    "    device = torch.device(\"cuda\" if torch.cuda.is_available() else \"cpu\")\n",
    "    X, Y = inference(scValidDataLoader, model, device)\n",
    "    # print(X.shape,Y.shape)\n",
    "    nmi, ari, f, acc = evaluation.evaluate(Y.reshape(-1), X)\n",
    "    # print('NMI = {:.4f} ARI = {:.4f} F = {:.4f} ACC = {:.4f}'.format(nmi, ari, f, acc))\n",
    "    return nmi, ari, f, acc"
   ]
  },
  {
   "cell_type": "code",
   "execution_count": 11,
   "metadata": {
    "collapsed": false,
    "pycharm": {
     "name": "#%%\n"
    }
   },
   "outputs": [
    {
     "name": "stderr",
     "output_type": "stream",
     "text": [
      "C:\\Users\\Tom-G\\.conda\\envs\\torchenv\\lib\\site-packages\\torch\\nn\\modules\\container.py:141: UserWarning: Implicit dimension choice for softmax has been deprecated. Change the call to include dim=X as an argument.\n",
      "  input = module(input)\n"
     ]
    },
    {
     "name": "stdout",
     "output_type": "stream",
     "text": [
      "Step [0/3]\t loss_instance: 8.14118480682373\t loss_cluster: 3.2982709407806396\n",
      "\n",
      "Epoch [0/500]\t Loss: 11.442279815673828 \n",
      "\n",
      "Step [0/1]\t Computing features...\n",
      "Features shape (1714,)\n",
      "14\n",
      "Test NMI = 0.0408 ARI = 0.0300 F = 0.4098 ACC = 0.2176\n",
      "================================================================\n",
      "\n"
     ]
    },
    {
     "name": "stderr",
     "output_type": "stream",
     "text": [
      "C:\\Users\\Tom-G\\.conda\\envs\\torchenv\\lib\\site-packages\\torch\\nn\\modules\\container.py:141: UserWarning: Implicit dimension choice for softmax has been deprecated. Change the call to include dim=X as an argument.\n",
      "  input = module(input)\n"
     ]
    },
    {
     "name": "stdout",
     "output_type": "stream",
     "text": [
      "Step [0/3]\t loss_instance: 8.14181900024414\t loss_cluster: 3.2979445457458496\n",
      "\n",
      "Epoch [1/500]\t Loss: 11.438958485921225 \n",
      "\n",
      "Step [0/1]\t Computing features...\n",
      "Features shape (1714,)\n",
      "14\n",
      "Test NMI = 0.0359 ARI = 0.0125 F = 0.4354 ACC = 0.2509\n",
      "================================================================\n",
      "\n"
     ]
    },
    {
     "name": "stderr",
     "output_type": "stream",
     "text": [
      "C:\\Users\\Tom-G\\.conda\\envs\\torchenv\\lib\\site-packages\\torch\\nn\\modules\\container.py:141: UserWarning: Implicit dimension choice for softmax has been deprecated. Change the call to include dim=X as an argument.\n",
      "  input = module(input)\n"
     ]
    },
    {
     "name": "stdout",
     "output_type": "stream",
     "text": [
      "Step [0/3]\t loss_instance: 8.140152931213379\t loss_cluster: 3.2976653575897217\n",
      "\n",
      "Epoch [2/500]\t Loss: 11.43760903676351 \n",
      "\n",
      "Step [0/1]\t Computing features...\n",
      "Features shape (1714,)\n",
      "14\n",
      "Test NMI = 0.0012 ARI = 0.0002 F = 0.4394 ACC = 0.2555\n",
      "================================================================\n",
      "\n"
     ]
    },
    {
     "name": "stderr",
     "output_type": "stream",
     "text": [
      "C:\\Users\\Tom-G\\.conda\\envs\\torchenv\\lib\\site-packages\\torch\\nn\\modules\\container.py:141: UserWarning: Implicit dimension choice for softmax has been deprecated. Change the call to include dim=X as an argument.\n",
      "  input = module(input)\n"
     ]
    },
    {
     "name": "stdout",
     "output_type": "stream",
     "text": [
      "Step [0/3]\t loss_instance: 8.139765739440918\t loss_cluster: 3.2975025177001953\n",
      "\n",
      "Epoch [3/500]\t Loss: 11.437121391296387 \n",
      "\n",
      "Step [0/1]\t Computing features...\n",
      "Features shape (1714,)\n",
      "14\n",
      "Test NMI = 0.0000 ARI = 0.0000 F = 0.4395 ACC = 0.2555\n",
      "================================================================\n",
      "\n"
     ]
    },
    {
     "name": "stderr",
     "output_type": "stream",
     "text": [
      "C:\\Users\\Tom-G\\.conda\\envs\\torchenv\\lib\\site-packages\\torch\\nn\\modules\\container.py:141: UserWarning: Implicit dimension choice for softmax has been deprecated. Change the call to include dim=X as an argument.\n",
      "  input = module(input)\n"
     ]
    },
    {
     "name": "stdout",
     "output_type": "stream",
     "text": [
      "Step [0/3]\t loss_instance: 8.139601707458496\t loss_cluster: 3.2972943782806396\n",
      "\n",
      "Epoch [4/500]\t Loss: 11.436847050984701 \n",
      "\n",
      "Step [0/1]\t Computing features...\n",
      "Features shape (1714,)\n",
      "14\n",
      "Test NMI = 0.0000 ARI = 0.0000 F = 0.4395 ACC = 0.2555\n",
      "================================================================\n",
      "\n"
     ]
    },
    {
     "name": "stderr",
     "output_type": "stream",
     "text": [
      "C:\\Users\\Tom-G\\.conda\\envs\\torchenv\\lib\\site-packages\\torch\\nn\\modules\\container.py:141: UserWarning: Implicit dimension choice for softmax has been deprecated. Change the call to include dim=X as an argument.\n",
      "  input = module(input)\n"
     ]
    },
    {
     "name": "stdout",
     "output_type": "stream",
     "text": [
      "Step [0/3]\t loss_instance: 8.139585494995117\t loss_cluster: 3.297130584716797\n",
      "\n",
      "Epoch [5/500]\t Loss: 11.436641693115234 \n",
      "\n",
      "Step [0/1]\t Computing features...\n",
      "Features shape (1714,)\n",
      "14\n",
      "Test NMI = 0.0000 ARI = 0.0000 F = 0.4395 ACC = 0.2555\n",
      "================================================================\n",
      "\n"
     ]
    },
    {
     "name": "stderr",
     "output_type": "stream",
     "text": [
      "C:\\Users\\Tom-G\\.conda\\envs\\torchenv\\lib\\site-packages\\torch\\nn\\modules\\container.py:141: UserWarning: Implicit dimension choice for softmax has been deprecated. Change the call to include dim=X as an argument.\n",
      "  input = module(input)\n"
     ]
    },
    {
     "name": "stdout",
     "output_type": "stream",
     "text": [
      "Step [0/3]\t loss_instance: 8.139541625976562\t loss_cluster: 3.296994686126709\n",
      "\n",
      "Epoch [6/500]\t Loss: 11.436488151550293 \n",
      "\n",
      "Step [0/1]\t Computing features...\n",
      "Features shape (1714,)\n",
      "14\n",
      "Test NMI = 0.0000 ARI = 0.0000 F = 0.4395 ACC = 0.2555\n",
      "================================================================\n",
      "\n"
     ]
    },
    {
     "name": "stderr",
     "output_type": "stream",
     "text": [
      "C:\\Users\\Tom-G\\.conda\\envs\\torchenv\\lib\\site-packages\\torch\\nn\\modules\\container.py:141: UserWarning: Implicit dimension choice for softmax has been deprecated. Change the call to include dim=X as an argument.\n",
      "  input = module(input)\n"
     ]
    },
    {
     "name": "stdout",
     "output_type": "stream",
     "text": [
      "Step [0/3]\t loss_instance: 8.139534950256348\t loss_cluster: 3.296858787536621\n",
      "\n",
      "Epoch [7/500]\t Loss: 11.43634001413981 \n",
      "\n",
      "Step [0/1]\t Computing features...\n",
      "Features shape (1714,)\n",
      "14\n",
      "Test NMI = 0.0000 ARI = 0.0000 F = 0.4395 ACC = 0.2555\n",
      "================================================================\n",
      "\n"
     ]
    },
    {
     "name": "stderr",
     "output_type": "stream",
     "text": [
      "C:\\Users\\Tom-G\\.conda\\envs\\torchenv\\lib\\site-packages\\torch\\nn\\modules\\container.py:141: UserWarning: Implicit dimension choice for softmax has been deprecated. Change the call to include dim=X as an argument.\n",
      "  input = module(input)\n"
     ]
    },
    {
     "name": "stdout",
     "output_type": "stream",
     "text": [
      "Step [0/3]\t loss_instance: 8.139516830444336\t loss_cluster: 3.2967240810394287\n",
      "\n",
      "Epoch [8/500]\t Loss: 11.436196327209473 \n",
      "\n",
      "Step [0/1]\t Computing features...\n",
      "Features shape (1714,)\n",
      "14\n",
      "Test NMI = 0.0000 ARI = 0.0000 F = 0.4395 ACC = 0.2555\n",
      "================================================================\n",
      "\n"
     ]
    },
    {
     "name": "stderr",
     "output_type": "stream",
     "text": [
      "C:\\Users\\Tom-G\\.conda\\envs\\torchenv\\lib\\site-packages\\torch\\nn\\modules\\container.py:141: UserWarning: Implicit dimension choice for softmax has been deprecated. Change the call to include dim=X as an argument.\n",
      "  input = module(input)\n"
     ]
    },
    {
     "name": "stdout",
     "output_type": "stream",
     "text": [
      "Step [0/3]\t loss_instance: 8.139511108398438\t loss_cluster: 3.296602249145508\n",
      "\n",
      "Epoch [9/500]\t Loss: 11.436068216959635 \n",
      "\n",
      "Step [0/1]\t Computing features...\n",
      "Features shape (1714,)\n",
      "14\n",
      "Test NMI = 0.0000 ARI = 0.0000 F = 0.4395 ACC = 0.2555\n",
      "================================================================\n",
      "\n"
     ]
    },
    {
     "name": "stderr",
     "output_type": "stream",
     "text": [
      "C:\\Users\\Tom-G\\.conda\\envs\\torchenv\\lib\\site-packages\\torch\\nn\\modules\\container.py:141: UserWarning: Implicit dimension choice for softmax has been deprecated. Change the call to include dim=X as an argument.\n",
      "  input = module(input)\n"
     ]
    },
    {
     "name": "stdout",
     "output_type": "stream",
     "text": [
      "Step [0/3]\t loss_instance: 8.139503479003906\t loss_cluster: 3.2964818477630615\n",
      "\n",
      "Epoch [10/500]\t Loss: 11.435942967732748 \n",
      "\n",
      "Step [0/1]\t Computing features...\n",
      "Features shape (1714,)\n",
      "14\n",
      "Test NMI = 0.0000 ARI = 0.0000 F = 0.4395 ACC = 0.2555\n",
      "================================================================\n",
      "\n"
     ]
    },
    {
     "name": "stderr",
     "output_type": "stream",
     "text": [
      "C:\\Users\\Tom-G\\.conda\\envs\\torchenv\\lib\\site-packages\\torch\\nn\\modules\\container.py:141: UserWarning: Implicit dimension choice for softmax has been deprecated. Change the call to include dim=X as an argument.\n",
      "  input = module(input)\n"
     ]
    },
    {
     "name": "stdout",
     "output_type": "stream",
     "text": [
      "Step [0/3]\t loss_instance: 8.13949203491211\t loss_cluster: 3.296375036239624\n",
      "\n",
      "Epoch [11/500]\t Loss: 11.43582820892334 \n",
      "\n",
      "Step [0/1]\t Computing features...\n",
      "Features shape (1714,)\n",
      "14\n",
      "Test NMI = 0.0000 ARI = 0.0000 F = 0.4395 ACC = 0.2555\n",
      "================================================================\n",
      "\n"
     ]
    },
    {
     "name": "stderr",
     "output_type": "stream",
     "text": [
      "C:\\Users\\Tom-G\\.conda\\envs\\torchenv\\lib\\site-packages\\torch\\nn\\modules\\container.py:141: UserWarning: Implicit dimension choice for softmax has been deprecated. Change the call to include dim=X as an argument.\n",
      "  input = module(input)\n"
     ]
    },
    {
     "name": "stdout",
     "output_type": "stream",
     "text": [
      "Step [0/3]\t loss_instance: 8.13947582244873\t loss_cluster: 3.2962706089019775\n",
      "\n",
      "Epoch [12/500]\t Loss: 11.435709635416666 \n",
      "\n",
      "Step [0/1]\t Computing features...\n",
      "Features shape (1714,)\n",
      "14\n",
      "Test NMI = 0.0000 ARI = 0.0000 F = 0.4395 ACC = 0.2555\n",
      "================================================================\n",
      "\n"
     ]
    },
    {
     "name": "stderr",
     "output_type": "stream",
     "text": [
      "C:\\Users\\Tom-G\\.conda\\envs\\torchenv\\lib\\site-packages\\torch\\nn\\modules\\container.py:141: UserWarning: Implicit dimension choice for softmax has been deprecated. Change the call to include dim=X as an argument.\n",
      "  input = module(input)\n"
     ]
    },
    {
     "name": "stdout",
     "output_type": "stream",
     "text": [
      "Step [0/3]\t loss_instance: 8.139464378356934\t loss_cluster: 3.2961742877960205\n",
      "\n",
      "Epoch [13/500]\t Loss: 11.435612996419271 \n",
      "\n",
      "Step [0/1]\t Computing features...\n",
      "Features shape (1714,)\n",
      "14\n",
      "Test NMI = 0.0000 ARI = 0.0000 F = 0.4395 ACC = 0.2555\n",
      "================================================================\n",
      "\n"
     ]
    },
    {
     "name": "stderr",
     "output_type": "stream",
     "text": [
      "C:\\Users\\Tom-G\\.conda\\envs\\torchenv\\lib\\site-packages\\torch\\nn\\modules\\container.py:141: UserWarning: Implicit dimension choice for softmax has been deprecated. Change the call to include dim=X as an argument.\n",
      "  input = module(input)\n"
     ]
    },
    {
     "name": "stdout",
     "output_type": "stream",
     "text": [
      "Step [0/3]\t loss_instance: 8.139467239379883\t loss_cluster: 3.296092987060547\n",
      "\n",
      "Epoch [14/500]\t Loss: 11.435539563496908 \n",
      "\n",
      "Step [0/1]\t Computing features...\n",
      "Features shape (1714,)\n",
      "14\n",
      "Test NMI = 0.0000 ARI = 0.0000 F = 0.4395 ACC = 0.2555\n",
      "================================================================\n",
      "\n"
     ]
    },
    {
     "name": "stderr",
     "output_type": "stream",
     "text": [
      "C:\\Users\\Tom-G\\.conda\\envs\\torchenv\\lib\\site-packages\\torch\\nn\\modules\\container.py:141: UserWarning: Implicit dimension choice for softmax has been deprecated. Change the call to include dim=X as an argument.\n",
      "  input = module(input)\n"
     ]
    },
    {
     "name": "stdout",
     "output_type": "stream",
     "text": [
      "Step [0/3]\t loss_instance: 8.139487266540527\t loss_cluster: 3.2960240840911865\n",
      "\n",
      "Epoch [15/500]\t Loss: 11.43551762898763 \n",
      "\n",
      "Step [0/1]\t Computing features...\n",
      "Features shape (1714,)\n",
      "14\n",
      "Test NMI = 0.0562 ARI = 0.0129 F = 0.4368 ACC = 0.2538\n",
      "================================================================\n",
      "\n"
     ]
    },
    {
     "name": "stderr",
     "output_type": "stream",
     "text": [
      "C:\\Users\\Tom-G\\.conda\\envs\\torchenv\\lib\\site-packages\\torch\\nn\\modules\\container.py:141: UserWarning: Implicit dimension choice for softmax has been deprecated. Change the call to include dim=X as an argument.\n",
      "  input = module(input)\n"
     ]
    },
    {
     "name": "stdout",
     "output_type": "stream",
     "text": [
      "Step [0/3]\t loss_instance: 8.139492988586426\t loss_cluster: 3.2959744930267334\n",
      "\n",
      "Epoch [16/500]\t Loss: 11.435453097025553 \n",
      "\n",
      "Step [0/1]\t Computing features...\n",
      "Features shape (1714,)\n",
      "14\n",
      "Test NMI = 0.0854 ARI = 0.0288 F = 0.4289 ACC = 0.2450\n",
      "================================================================\n",
      "\n"
     ]
    },
    {
     "name": "stderr",
     "output_type": "stream",
     "text": [
      "C:\\Users\\Tom-G\\.conda\\envs\\torchenv\\lib\\site-packages\\torch\\nn\\modules\\container.py:141: UserWarning: Implicit dimension choice for softmax has been deprecated. Change the call to include dim=X as an argument.\n",
      "  input = module(input)\n"
     ]
    },
    {
     "name": "stdout",
     "output_type": "stream",
     "text": [
      "Step [0/3]\t loss_instance: 8.139498710632324\t loss_cluster: 3.2959389686584473\n",
      "\n",
      "Epoch [17/500]\t Loss: 11.435419082641602 \n",
      "\n",
      "Step [0/1]\t Computing features...\n",
      "Features shape (1714,)\n",
      "14\n",
      "Test NMI = 0.1068 ARI = 0.0408 F = 0.4132 ACC = 0.2211\n",
      "================================================================\n",
      "\n"
     ]
    },
    {
     "name": "stderr",
     "output_type": "stream",
     "text": [
      "C:\\Users\\Tom-G\\.conda\\envs\\torchenv\\lib\\site-packages\\torch\\nn\\modules\\container.py:141: UserWarning: Implicit dimension choice for softmax has been deprecated. Change the call to include dim=X as an argument.\n",
      "  input = module(input)\n"
     ]
    },
    {
     "name": "stdout",
     "output_type": "stream",
     "text": [
      "Step [0/3]\t loss_instance: 8.139474868774414\t loss_cluster: 3.2959117889404297\n",
      "\n",
      "Epoch [18/500]\t Loss: 11.435381889343262 \n",
      "\n",
      "Step [0/1]\t Computing features...\n",
      "Features shape (1714,)\n",
      "14\n",
      "Test NMI = 0.1076 ARI = 0.0470 F = 0.3954 ACC = 0.1989\n",
      "================================================================\n",
      "\n"
     ]
    },
    {
     "name": "stderr",
     "output_type": "stream",
     "text": [
      "C:\\Users\\Tom-G\\.conda\\envs\\torchenv\\lib\\site-packages\\torch\\nn\\modules\\container.py:141: UserWarning: Implicit dimension choice for softmax has been deprecated. Change the call to include dim=X as an argument.\n",
      "  input = module(input)\n"
     ]
    },
    {
     "name": "stdout",
     "output_type": "stream",
     "text": [
      "Step [0/3]\t loss_instance: 8.139460563659668\t loss_cluster: 3.2958922386169434\n",
      "\n",
      "Epoch [19/500]\t Loss: 11.43535073598226 \n",
      "\n",
      "Step [0/1]\t Computing features...\n",
      "Features shape (1714,)\n",
      "14\n",
      "Test NMI = 0.0989 ARI = 0.0458 F = 0.3795 ACC = 0.1756\n",
      "================================================================\n",
      "\n"
     ]
    },
    {
     "name": "stderr",
     "output_type": "stream",
     "text": [
      "C:\\Users\\Tom-G\\.conda\\envs\\torchenv\\lib\\site-packages\\torch\\nn\\modules\\container.py:141: UserWarning: Implicit dimension choice for softmax has been deprecated. Change the call to include dim=X as an argument.\n",
      "  input = module(input)\n"
     ]
    },
    {
     "name": "stdout",
     "output_type": "stream",
     "text": [
      "Step [0/3]\t loss_instance: 8.139467239379883\t loss_cluster: 3.295877456665039\n",
      "\n",
      "Epoch [20/500]\t Loss: 11.435340563456217 \n",
      "\n",
      "Step [0/1]\t Computing features...\n",
      "Features shape (1714,)\n",
      "14\n",
      "Test NMI = 0.1021 ARI = 0.0463 F = 0.3812 ACC = 0.1785\n",
      "================================================================\n",
      "\n"
     ]
    },
    {
     "name": "stderr",
     "output_type": "stream",
     "text": [
      "C:\\Users\\Tom-G\\.conda\\envs\\torchenv\\lib\\site-packages\\torch\\nn\\modules\\container.py:141: UserWarning: Implicit dimension choice for softmax has been deprecated. Change the call to include dim=X as an argument.\n",
      "  input = module(input)\n"
     ]
    },
    {
     "name": "stdout",
     "output_type": "stream",
     "text": [
      "Step [0/3]\t loss_instance: 8.139459609985352\t loss_cluster: 3.295865058898926\n",
      "\n",
      "Epoch [21/500]\t Loss: 11.435319900512695 \n",
      "\n",
      "Step [0/1]\t Computing features...\n",
      "Features shape (1714,)\n",
      "14\n",
      "Test NMI = 0.1228 ARI = 0.0493 F = 0.3905 ACC = 0.1908\n",
      "================================================================\n",
      "\n"
     ]
    },
    {
     "name": "stderr",
     "output_type": "stream",
     "text": [
      "C:\\Users\\Tom-G\\.conda\\envs\\torchenv\\lib\\site-packages\\torch\\nn\\modules\\container.py:141: UserWarning: Implicit dimension choice for softmax has been deprecated. Change the call to include dim=X as an argument.\n",
      "  input = module(input)\n"
     ]
    },
    {
     "name": "stdout",
     "output_type": "stream",
     "text": [
      "Step [0/3]\t loss_instance: 8.139461517333984\t loss_cluster: 3.2958567142486572\n",
      "\n",
      "Epoch [22/500]\t Loss: 11.435309092203775 \n",
      "\n",
      "Step [0/1]\t Computing features...\n",
      "Features shape (1714,)\n",
      "14\n",
      "Test NMI = 0.1433 ARI = 0.0522 F = 0.3949 ACC = 0.2089\n",
      "================================================================\n",
      "\n"
     ]
    },
    {
     "name": "stderr",
     "output_type": "stream",
     "text": [
      "C:\\Users\\Tom-G\\.conda\\envs\\torchenv\\lib\\site-packages\\torch\\nn\\modules\\container.py:141: UserWarning: Implicit dimension choice for softmax has been deprecated. Change the call to include dim=X as an argument.\n",
      "  input = module(input)\n"
     ]
    },
    {
     "name": "stdout",
     "output_type": "stream",
     "text": [
      "Step [0/3]\t loss_instance: 8.139450073242188\t loss_cluster: 3.295849084854126\n",
      "\n",
      "Epoch [23/500]\t Loss: 11.435299237569174 \n",
      "\n",
      "Step [0/1]\t Computing features...\n",
      "Features shape (1714,)\n",
      "14\n",
      "Test NMI = 0.1405 ARI = 0.0632 F = 0.3980 ACC = 0.2036\n",
      "================================================================\n",
      "\n"
     ]
    },
    {
     "name": "stderr",
     "output_type": "stream",
     "text": [
      "C:\\Users\\Tom-G\\.conda\\envs\\torchenv\\lib\\site-packages\\torch\\nn\\modules\\container.py:141: UserWarning: Implicit dimension choice for softmax has been deprecated. Change the call to include dim=X as an argument.\n",
      "  input = module(input)\n"
     ]
    },
    {
     "name": "stdout",
     "output_type": "stream",
     "text": [
      "Step [0/3]\t loss_instance: 8.13945198059082\t loss_cluster: 3.295844793319702\n",
      "\n",
      "Epoch [24/500]\t Loss: 11.435294469197592 \n",
      "\n",
      "Step [0/1]\t Computing features...\n",
      "Features shape (1714,)\n",
      "14\n",
      "Test NMI = 0.1385 ARI = 0.0621 F = 0.3762 ACC = 0.1838\n",
      "================================================================\n",
      "\n"
     ]
    },
    {
     "name": "stderr",
     "output_type": "stream",
     "text": [
      "C:\\Users\\Tom-G\\.conda\\envs\\torchenv\\lib\\site-packages\\torch\\nn\\modules\\container.py:141: UserWarning: Implicit dimension choice for softmax has been deprecated. Change the call to include dim=X as an argument.\n",
      "  input = module(input)\n"
     ]
    },
    {
     "name": "stdout",
     "output_type": "stream",
     "text": [
      "Step [0/3]\t loss_instance: 8.139450073242188\t loss_cluster: 3.295842409133911\n",
      "\n",
      "Epoch [25/500]\t Loss: 11.43529224395752 \n",
      "\n",
      "Step [0/1]\t Computing features...\n",
      "Features shape (1714,)\n",
      "14\n",
      "Test NMI = 0.1506 ARI = 0.0633 F = 0.3573 ACC = 0.1622\n",
      "================================================================\n",
      "\n"
     ]
    },
    {
     "name": "stderr",
     "output_type": "stream",
     "text": [
      "C:\\Users\\Tom-G\\.conda\\envs\\torchenv\\lib\\site-packages\\torch\\nn\\modules\\container.py:141: UserWarning: Implicit dimension choice for softmax has been deprecated. Change the call to include dim=X as an argument.\n",
      "  input = module(input)\n"
     ]
    },
    {
     "name": "stdout",
     "output_type": "stream",
     "text": [
      "Step [0/3]\t loss_instance: 8.139443397521973\t loss_cluster: 3.295840263366699\n",
      "\n",
      "Epoch [26/500]\t Loss: 11.43528683980306 \n",
      "\n",
      "Step [0/1]\t Computing features...\n",
      "Features shape (1714,)\n",
      "14\n",
      "Test NMI = 0.1617 ARI = 0.0644 F = 0.3298 ACC = 0.3775\n",
      "================================================================\n",
      "\n"
     ]
    },
    {
     "name": "stderr",
     "output_type": "stream",
     "text": [
      "C:\\Users\\Tom-G\\.conda\\envs\\torchenv\\lib\\site-packages\\torch\\nn\\modules\\container.py:141: UserWarning: Implicit dimension choice for softmax has been deprecated. Change the call to include dim=X as an argument.\n",
      "  input = module(input)\n"
     ]
    },
    {
     "name": "stdout",
     "output_type": "stream",
     "text": [
      "Step [0/3]\t loss_instance: 8.139448165893555\t loss_cluster: 3.29584002494812\n",
      "\n",
      "Epoch [27/500]\t Loss: 11.435288111368815 \n",
      "\n",
      "Step [0/1]\t Computing features...\n",
      "Features shape (1714,)\n",
      "14\n",
      "Test NMI = 0.1885 ARI = 0.0819 F = 0.3171 ACC = 0.3897\n",
      "================================================================\n",
      "\n"
     ]
    },
    {
     "name": "stderr",
     "output_type": "stream",
     "text": [
      "C:\\Users\\Tom-G\\.conda\\envs\\torchenv\\lib\\site-packages\\torch\\nn\\modules\\container.py:141: UserWarning: Implicit dimension choice for softmax has been deprecated. Change the call to include dim=X as an argument.\n",
      "  input = module(input)\n"
     ]
    },
    {
     "name": "stdout",
     "output_type": "stream",
     "text": [
      "Step [0/3]\t loss_instance: 8.139448165893555\t loss_cluster: 3.2958390712738037\n",
      "\n",
      "Epoch [28/500]\t Loss: 11.435287793477377 \n",
      "\n",
      "Step [0/1]\t Computing features...\n",
      "Features shape (1714,)\n",
      "14\n",
      "Test NMI = 0.2028 ARI = 0.1035 F = 0.3081 ACC = 0.3851\n",
      "================================================================\n",
      "\n"
     ]
    },
    {
     "name": "stderr",
     "output_type": "stream",
     "text": [
      "C:\\Users\\Tom-G\\.conda\\envs\\torchenv\\lib\\site-packages\\torch\\nn\\modules\\container.py:141: UserWarning: Implicit dimension choice for softmax has been deprecated. Change the call to include dim=X as an argument.\n",
      "  input = module(input)\n"
     ]
    },
    {
     "name": "stdout",
     "output_type": "stream",
     "text": [
      "Step [0/3]\t loss_instance: 8.139445304870605\t loss_cluster: 3.2958383560180664\n",
      "\n",
      "Epoch [29/500]\t Loss: 11.435286204020182 \n",
      "\n",
      "Step [0/1]\t Computing features...\n",
      "Features shape (1714,)\n",
      "14\n",
      "Test NMI = 0.2157 ARI = 0.1289 F = 0.3101 ACC = 0.3786\n",
      "================================================================\n",
      "\n"
     ]
    },
    {
     "name": "stderr",
     "output_type": "stream",
     "text": [
      "C:\\Users\\Tom-G\\.conda\\envs\\torchenv\\lib\\site-packages\\torch\\nn\\modules\\container.py:141: UserWarning: Implicit dimension choice for softmax has been deprecated. Change the call to include dim=X as an argument.\n",
      "  input = module(input)\n"
     ]
    },
    {
     "name": "stdout",
     "output_type": "stream",
     "text": [
      "Step [0/3]\t loss_instance: 8.139448165893555\t loss_cluster: 3.2958381175994873\n",
      "\n",
      "Epoch [30/500]\t Loss: 11.435288111368815 \n",
      "\n",
      "Step [0/1]\t Computing features...\n",
      "Features shape (1714,)\n",
      "14\n",
      "Test NMI = 0.2213 ARI = 0.1408 F = 0.3117 ACC = 0.3903\n",
      "================================================================\n",
      "\n"
     ]
    },
    {
     "name": "stderr",
     "output_type": "stream",
     "text": [
      "C:\\Users\\Tom-G\\.conda\\envs\\torchenv\\lib\\site-packages\\torch\\nn\\modules\\container.py:141: UserWarning: Implicit dimension choice for softmax has been deprecated. Change the call to include dim=X as an argument.\n",
      "  input = module(input)\n"
     ]
    },
    {
     "name": "stdout",
     "output_type": "stream",
     "text": [
      "Step [0/3]\t loss_instance: 8.139449119567871\t loss_cluster: 3.2958381175994873\n",
      "\n",
      "Epoch [31/500]\t Loss: 11.435284932454428 \n",
      "\n",
      "Step [0/1]\t Computing features...\n",
      "Features shape (1714,)\n",
      "14\n",
      "Test NMI = 0.2233 ARI = 0.1453 F = 0.3121 ACC = 0.3973\n",
      "================================================================\n",
      "\n"
     ]
    },
    {
     "name": "stderr",
     "output_type": "stream",
     "text": [
      "C:\\Users\\Tom-G\\.conda\\envs\\torchenv\\lib\\site-packages\\torch\\nn\\modules\\container.py:141: UserWarning: Implicit dimension choice for softmax has been deprecated. Change the call to include dim=X as an argument.\n",
      "  input = module(input)\n"
     ]
    },
    {
     "name": "stdout",
     "output_type": "stream",
     "text": [
      "Step [0/3]\t loss_instance: 8.139449119567871\t loss_cluster: 3.2958381175994873\n",
      "\n",
      "Epoch [32/500]\t Loss: 11.435285568237305 \n",
      "\n",
      "Step [0/1]\t Computing features...\n",
      "Features shape (1714,)\n",
      "14\n",
      "Test NMI = 0.2239 ARI = 0.1456 F = 0.3097 ACC = 0.4002\n",
      "================================================================\n",
      "\n"
     ]
    },
    {
     "name": "stderr",
     "output_type": "stream",
     "text": [
      "C:\\Users\\Tom-G\\.conda\\envs\\torchenv\\lib\\site-packages\\torch\\nn\\modules\\container.py:141: UserWarning: Implicit dimension choice for softmax has been deprecated. Change the call to include dim=X as an argument.\n",
      "  input = module(input)\n"
     ]
    },
    {
     "name": "stdout",
     "output_type": "stream",
     "text": [
      "Step [0/3]\t loss_instance: 8.139444351196289\t loss_cluster: 3.295837163925171\n",
      "\n",
      "Epoch [33/500]\t Loss: 11.435283025105795 \n",
      "\n",
      "Step [0/1]\t Computing features...\n",
      "Features shape (1714,)\n",
      "14\n",
      "Test NMI = 0.2189 ARI = 0.1356 F = 0.2976 ACC = 0.3926\n",
      "================================================================\n",
      "\n"
     ]
    },
    {
     "name": "stderr",
     "output_type": "stream",
     "text": [
      "C:\\Users\\Tom-G\\.conda\\envs\\torchenv\\lib\\site-packages\\torch\\nn\\modules\\container.py:141: UserWarning: Implicit dimension choice for softmax has been deprecated. Change the call to include dim=X as an argument.\n",
      "  input = module(input)\n"
     ]
    },
    {
     "name": "stdout",
     "output_type": "stream",
     "text": [
      "Step [0/3]\t loss_instance: 8.13944149017334\t loss_cluster: 3.295837640762329\n",
      "\n",
      "Epoch [34/500]\t Loss: 11.435280164082846 \n",
      "\n",
      "Step [0/1]\t Computing features...\n",
      "Features shape (1714,)\n",
      "14\n",
      "Test NMI = 0.2149 ARI = 0.1275 F = 0.2894 ACC = 0.3821\n",
      "================================================================\n",
      "\n"
     ]
    },
    {
     "name": "stderr",
     "output_type": "stream",
     "text": [
      "C:\\Users\\Tom-G\\.conda\\envs\\torchenv\\lib\\site-packages\\torch\\nn\\modules\\container.py:141: UserWarning: Implicit dimension choice for softmax has been deprecated. Change the call to include dim=X as an argument.\n",
      "  input = module(input)\n"
     ]
    },
    {
     "name": "stdout",
     "output_type": "stream",
     "text": [
      "Step [0/3]\t loss_instance: 8.139444351196289\t loss_cluster: 3.295837879180908\n",
      "\n",
      "Epoch [35/500]\t Loss: 11.435283025105795 \n",
      "\n",
      "Step [0/1]\t Computing features...\n",
      "Features shape (1714,)\n",
      "14\n",
      "Test NMI = 0.2131 ARI = 0.1227 F = 0.2851 ACC = 0.3792\n",
      "================================================================\n",
      "\n"
     ]
    },
    {
     "name": "stderr",
     "output_type": "stream",
     "text": [
      "C:\\Users\\Tom-G\\.conda\\envs\\torchenv\\lib\\site-packages\\torch\\nn\\modules\\container.py:141: UserWarning: Implicit dimension choice for softmax has been deprecated. Change the call to include dim=X as an argument.\n",
      "  input = module(input)\n"
     ]
    },
    {
     "name": "stdout",
     "output_type": "stream",
     "text": [
      "Step [0/3]\t loss_instance: 8.139447212219238\t loss_cluster: 3.295837879180908\n",
      "\n",
      "Epoch [36/500]\t Loss: 11.435282389322916 \n",
      "\n",
      "Step [0/1]\t Computing features...\n",
      "Features shape (1714,)\n",
      "14\n",
      "Test NMI = 0.2106 ARI = 0.1188 F = 0.2833 ACC = 0.3751\n",
      "================================================================\n",
      "\n"
     ]
    },
    {
     "name": "stderr",
     "output_type": "stream",
     "text": [
      "C:\\Users\\Tom-G\\.conda\\envs\\torchenv\\lib\\site-packages\\torch\\nn\\modules\\container.py:141: UserWarning: Implicit dimension choice for softmax has been deprecated. Change the call to include dim=X as an argument.\n",
      "  input = module(input)\n"
     ]
    },
    {
     "name": "stdout",
     "output_type": "stream",
     "text": [
      "Step [0/3]\t loss_instance: 8.139442443847656\t loss_cluster: 3.295837640762329\n",
      "\n",
      "Epoch [37/500]\t Loss: 11.435280799865723 \n",
      "\n",
      "Step [0/1]\t Computing features...\n",
      "Features shape (1714,)\n",
      "14\n",
      "Test NMI = 0.2050 ARI = 0.1135 F = 0.2816 ACC = 0.3670\n",
      "================================================================\n",
      "\n"
     ]
    },
    {
     "name": "stderr",
     "output_type": "stream",
     "text": [
      "C:\\Users\\Tom-G\\.conda\\envs\\torchenv\\lib\\site-packages\\torch\\nn\\modules\\container.py:141: UserWarning: Implicit dimension choice for softmax has been deprecated. Change the call to include dim=X as an argument.\n",
      "  input = module(input)\n"
     ]
    },
    {
     "name": "stdout",
     "output_type": "stream",
     "text": [
      "Step [0/3]\t loss_instance: 8.139440536499023\t loss_cluster: 3.295836925506592\n",
      "\n",
      "Epoch [38/500]\t Loss: 11.435281117757162 \n",
      "\n",
      "Step [0/1]\t Computing features...\n",
      "Features shape (1714,)\n",
      "14\n",
      "Test NMI = 0.2002 ARI = 0.1051 F = 0.2773 ACC = 0.3559\n",
      "================================================================\n",
      "\n"
     ]
    },
    {
     "name": "stderr",
     "output_type": "stream",
     "text": [
      "C:\\Users\\Tom-G\\.conda\\envs\\torchenv\\lib\\site-packages\\torch\\nn\\modules\\container.py:141: UserWarning: Implicit dimension choice for softmax has been deprecated. Change the call to include dim=X as an argument.\n",
      "  input = module(input)\n"
     ]
    },
    {
     "name": "stdout",
     "output_type": "stream",
     "text": [
      "Step [0/3]\t loss_instance: 8.139445304870605\t loss_cluster: 3.295836925506592\n",
      "\n",
      "Epoch [39/500]\t Loss: 11.435281117757162 \n",
      "\n",
      "Step [0/1]\t Computing features...\n",
      "Features shape (1714,)\n",
      "14\n",
      "Test NMI = 0.2000 ARI = 0.1013 F = 0.2769 ACC = 0.3489\n",
      "================================================================\n",
      "\n"
     ]
    },
    {
     "name": "stderr",
     "output_type": "stream",
     "text": [
      "C:\\Users\\Tom-G\\.conda\\envs\\torchenv\\lib\\site-packages\\torch\\nn\\modules\\container.py:141: UserWarning: Implicit dimension choice for softmax has been deprecated. Change the call to include dim=X as an argument.\n",
      "  input = module(input)\n"
     ]
    },
    {
     "name": "stdout",
     "output_type": "stream",
     "text": [
      "Step [0/3]\t loss_instance: 8.139447212219238\t loss_cluster: 3.295837163925171\n",
      "\n",
      "Epoch [40/500]\t Loss: 11.435287793477377 \n",
      "\n",
      "Step [0/1]\t Computing features...\n",
      "Features shape (1714,)\n",
      "14\n",
      "Test NMI = 0.1965 ARI = 0.0997 F = 0.2778 ACC = 0.3483\n",
      "================================================================\n",
      "\n"
     ]
    },
    {
     "name": "stderr",
     "output_type": "stream",
     "text": [
      "C:\\Users\\Tom-G\\.conda\\envs\\torchenv\\lib\\site-packages\\torch\\nn\\modules\\container.py:141: UserWarning: Implicit dimension choice for softmax has been deprecated. Change the call to include dim=X as an argument.\n",
      "  input = module(input)\n"
     ]
    },
    {
     "name": "stdout",
     "output_type": "stream",
     "text": [
      "Step [0/3]\t loss_instance: 8.139448165893555\t loss_cluster: 3.2958366870880127\n",
      "\n",
      "Epoch [41/500]\t Loss: 11.435283978780111 \n",
      "\n",
      "Step [0/1]\t Computing features...\n",
      "Features shape (1714,)\n",
      "14\n",
      "Test NMI = 0.1965 ARI = 0.0977 F = 0.2781 ACC = 0.3530\n",
      "================================================================\n",
      "\n"
     ]
    },
    {
     "name": "stderr",
     "output_type": "stream",
     "text": [
      "C:\\Users\\Tom-G\\.conda\\envs\\torchenv\\lib\\site-packages\\torch\\nn\\modules\\container.py:141: UserWarning: Implicit dimension choice for softmax has been deprecated. Change the call to include dim=X as an argument.\n",
      "  input = module(input)\n"
     ]
    },
    {
     "name": "stdout",
     "output_type": "stream",
     "text": [
      "Step [0/3]\t loss_instance: 8.139445304870605\t loss_cluster: 3.295836925506592\n",
      "\n",
      "Epoch [42/500]\t Loss: 11.435285250345865 \n",
      "\n",
      "Step [0/1]\t Computing features...\n",
      "Features shape (1714,)\n",
      "14\n",
      "Test NMI = 0.1923 ARI = 0.0941 F = 0.2777 ACC = 0.3547\n",
      "================================================================\n",
      "\n"
     ]
    },
    {
     "name": "stderr",
     "output_type": "stream",
     "text": [
      "C:\\Users\\Tom-G\\.conda\\envs\\torchenv\\lib\\site-packages\\torch\\nn\\modules\\container.py:141: UserWarning: Implicit dimension choice for softmax has been deprecated. Change the call to include dim=X as an argument.\n",
      "  input = module(input)\n"
     ]
    },
    {
     "name": "stdout",
     "output_type": "stream",
     "text": [
      "Step [0/3]\t loss_instance: 8.139447212219238\t loss_cluster: 3.295837163925171\n",
      "\n",
      "Epoch [43/500]\t Loss: 11.435283342997232 \n",
      "\n",
      "Step [0/1]\t Computing features...\n",
      "Features shape (1714,)\n",
      "14\n",
      "Test NMI = 0.1923 ARI = 0.0952 F = 0.2792 ACC = 0.3576\n",
      "================================================================\n",
      "\n"
     ]
    },
    {
     "name": "stderr",
     "output_type": "stream",
     "text": [
      "C:\\Users\\Tom-G\\.conda\\envs\\torchenv\\lib\\site-packages\\torch\\nn\\modules\\container.py:141: UserWarning: Implicit dimension choice for softmax has been deprecated. Change the call to include dim=X as an argument.\n",
      "  input = module(input)\n"
     ]
    },
    {
     "name": "stdout",
     "output_type": "stream",
     "text": [
      "Step [0/3]\t loss_instance: 8.139444351196289\t loss_cluster: 3.295836925506592\n",
      "\n",
      "Epoch [44/500]\t Loss: 11.435282707214355 \n",
      "\n",
      "Step [0/1]\t Computing features...\n",
      "Features shape (1714,)\n",
      "14\n",
      "Test NMI = 0.1926 ARI = 0.0973 F = 0.2813 ACC = 0.3600\n",
      "================================================================\n",
      "\n"
     ]
    },
    {
     "name": "stderr",
     "output_type": "stream",
     "text": [
      "C:\\Users\\Tom-G\\.conda\\envs\\torchenv\\lib\\site-packages\\torch\\nn\\modules\\container.py:141: UserWarning: Implicit dimension choice for softmax has been deprecated. Change the call to include dim=X as an argument.\n",
      "  input = module(input)\n"
     ]
    },
    {
     "name": "stdout",
     "output_type": "stream",
     "text": [
      "Step [0/3]\t loss_instance: 8.139448165893555\t loss_cluster: 3.295837163925171\n",
      "\n",
      "Epoch [45/500]\t Loss: 11.435283978780111 \n",
      "\n",
      "Step [0/1]\t Computing features...\n",
      "Features shape (1714,)\n",
      "14\n",
      "Test NMI = 0.1937 ARI = 0.0970 F = 0.2810 ACC = 0.3588\n",
      "================================================================\n",
      "\n"
     ]
    },
    {
     "name": "stderr",
     "output_type": "stream",
     "text": [
      "C:\\Users\\Tom-G\\.conda\\envs\\torchenv\\lib\\site-packages\\torch\\nn\\modules\\container.py:141: UserWarning: Implicit dimension choice for softmax has been deprecated. Change the call to include dim=X as an argument.\n",
      "  input = module(input)\n"
     ]
    },
    {
     "name": "stdout",
     "output_type": "stream",
     "text": [
      "Step [0/3]\t loss_instance: 8.139445304870605\t loss_cluster: 3.295837163925171\n",
      "\n",
      "Epoch [46/500]\t Loss: 11.4352814356486 \n",
      "\n",
      "Step [0/1]\t Computing features...\n",
      "Features shape (1714,)\n",
      "14\n",
      "Test NMI = 0.1921 ARI = 0.0957 F = 0.2791 ACC = 0.3559\n",
      "================================================================\n",
      "\n"
     ]
    },
    {
     "name": "stderr",
     "output_type": "stream",
     "text": [
      "C:\\Users\\Tom-G\\.conda\\envs\\torchenv\\lib\\site-packages\\torch\\nn\\modules\\container.py:141: UserWarning: Implicit dimension choice for softmax has been deprecated. Change the call to include dim=X as an argument.\n",
      "  input = module(input)\n"
     ]
    },
    {
     "name": "stdout",
     "output_type": "stream",
     "text": [
      "Step [0/3]\t loss_instance: 8.139447212219238\t loss_cluster: 3.295836925506592\n",
      "\n",
      "Epoch [47/500]\t Loss: 11.435283025105795 \n",
      "\n",
      "Step [0/1]\t Computing features...\n",
      "Features shape (1714,)\n",
      "14\n",
      "Test NMI = 0.1916 ARI = 0.0949 F = 0.2774 ACC = 0.3547\n",
      "================================================================\n",
      "\n"
     ]
    },
    {
     "name": "stderr",
     "output_type": "stream",
     "text": [
      "C:\\Users\\Tom-G\\.conda\\envs\\torchenv\\lib\\site-packages\\torch\\nn\\modules\\container.py:141: UserWarning: Implicit dimension choice for softmax has been deprecated. Change the call to include dim=X as an argument.\n",
      "  input = module(input)\n"
     ]
    },
    {
     "name": "stdout",
     "output_type": "stream",
     "text": [
      "Step [0/3]\t loss_instance: 8.139445304870605\t loss_cluster: 3.295836925506592\n",
      "\n",
      "Epoch [48/500]\t Loss: 11.435282707214355 \n",
      "\n",
      "Step [0/1]\t Computing features...\n",
      "Features shape (1714,)\n",
      "14\n",
      "Test NMI = 0.1940 ARI = 0.0976 F = 0.2788 ACC = 0.3547\n",
      "================================================================\n",
      "\n"
     ]
    },
    {
     "name": "stderr",
     "output_type": "stream",
     "text": [
      "C:\\Users\\Tom-G\\.conda\\envs\\torchenv\\lib\\site-packages\\torch\\nn\\modules\\container.py:141: UserWarning: Implicit dimension choice for softmax has been deprecated. Change the call to include dim=X as an argument.\n",
      "  input = module(input)\n"
     ]
    },
    {
     "name": "stdout",
     "output_type": "stream",
     "text": [
      "Step [0/3]\t loss_instance: 8.139447212219238\t loss_cluster: 3.295836925506592\n",
      "\n",
      "Epoch [49/500]\t Loss: 11.4352814356486 \n",
      "\n",
      "Step [0/1]\t Computing features...\n",
      "Features shape (1714,)\n",
      "14\n",
      "Test NMI = 0.1947 ARI = 0.0971 F = 0.2758 ACC = 0.3483\n",
      "================================================================\n",
      "\n"
     ]
    },
    {
     "name": "stderr",
     "output_type": "stream",
     "text": [
      "C:\\Users\\Tom-G\\.conda\\envs\\torchenv\\lib\\site-packages\\torch\\nn\\modules\\container.py:141: UserWarning: Implicit dimension choice for softmax has been deprecated. Change the call to include dim=X as an argument.\n",
      "  input = module(input)\n"
     ]
    },
    {
     "name": "stdout",
     "output_type": "stream",
     "text": [
      "Step [0/3]\t loss_instance: 8.139450073242188\t loss_cluster: 3.295837163925171\n",
      "\n",
      "Epoch [50/500]\t Loss: 11.435287157694498 \n",
      "\n",
      "Step [0/1]\t Computing features...\n",
      "Features shape (1714,)\n",
      "14\n",
      "Test NMI = 0.1943 ARI = 0.0965 F = 0.2732 ACC = 0.3431\n",
      "================================================================\n",
      "\n"
     ]
    },
    {
     "name": "stderr",
     "output_type": "stream",
     "text": [
      "C:\\Users\\Tom-G\\.conda\\envs\\torchenv\\lib\\site-packages\\torch\\nn\\modules\\container.py:141: UserWarning: Implicit dimension choice for softmax has been deprecated. Change the call to include dim=X as an argument.\n",
      "  input = module(input)\n"
     ]
    },
    {
     "name": "stdout",
     "output_type": "stream",
     "text": [
      "Step [0/3]\t loss_instance: 8.139443397521973\t loss_cluster: 3.295836925506592\n",
      "\n",
      "Epoch [51/500]\t Loss: 11.435281753540039 \n",
      "\n",
      "Step [0/1]\t Computing features...\n",
      "Features shape (1714,)\n",
      "14\n",
      "Test NMI = 0.1980 ARI = 0.1020 F = 0.2758 ACC = 0.3489\n",
      "================================================================\n",
      "\n"
     ]
    },
    {
     "name": "stderr",
     "output_type": "stream",
     "text": [
      "C:\\Users\\Tom-G\\.conda\\envs\\torchenv\\lib\\site-packages\\torch\\nn\\modules\\container.py:141: UserWarning: Implicit dimension choice for softmax has been deprecated. Change the call to include dim=X as an argument.\n",
      "  input = module(input)\n"
     ]
    },
    {
     "name": "stdout",
     "output_type": "stream",
     "text": [
      "Step [0/3]\t loss_instance: 8.139447212219238\t loss_cluster: 3.295836925506592\n",
      "\n",
      "Epoch [52/500]\t Loss: 11.435283342997232 \n",
      "\n",
      "Step [0/1]\t Computing features...\n",
      "Features shape (1714,)\n",
      "14\n",
      "Test NMI = 0.1962 ARI = 0.0996 F = 0.2745 ACC = 0.3442\n",
      "================================================================\n",
      "\n"
     ]
    },
    {
     "name": "stderr",
     "output_type": "stream",
     "text": [
      "C:\\Users\\Tom-G\\.conda\\envs\\torchenv\\lib\\site-packages\\torch\\nn\\modules\\container.py:141: UserWarning: Implicit dimension choice for softmax has been deprecated. Change the call to include dim=X as an argument.\n",
      "  input = module(input)\n"
     ]
    },
    {
     "name": "stdout",
     "output_type": "stream",
     "text": [
      "Step [0/3]\t loss_instance: 8.139446258544922\t loss_cluster: 3.295837163925171\n",
      "\n",
      "Epoch [53/500]\t Loss: 11.435282071431478 \n",
      "\n",
      "Step [0/1]\t Computing features...\n",
      "Features shape (1714,)\n",
      "14\n",
      "Test NMI = 0.1974 ARI = 0.1010 F = 0.2737 ACC = 0.3442\n",
      "================================================================\n",
      "\n"
     ]
    },
    {
     "name": "stderr",
     "output_type": "stream",
     "text": [
      "C:\\Users\\Tom-G\\.conda\\envs\\torchenv\\lib\\site-packages\\torch\\nn\\modules\\container.py:141: UserWarning: Implicit dimension choice for softmax has been deprecated. Change the call to include dim=X as an argument.\n",
      "  input = module(input)\n"
     ]
    },
    {
     "name": "stdout",
     "output_type": "stream",
     "text": [
      "Step [0/3]\t loss_instance: 8.139447212219238\t loss_cluster: 3.295836925506592\n",
      "\n",
      "Epoch [54/500]\t Loss: 11.435283978780111 \n",
      "\n",
      "Step [0/1]\t Computing features...\n",
      "Features shape (1714,)\n",
      "14\n",
      "Test NMI = 0.1964 ARI = 0.1038 F = 0.2758 ACC = 0.3477\n",
      "================================================================\n",
      "\n"
     ]
    },
    {
     "name": "stderr",
     "output_type": "stream",
     "text": [
      "C:\\Users\\Tom-G\\.conda\\envs\\torchenv\\lib\\site-packages\\torch\\nn\\modules\\container.py:141: UserWarning: Implicit dimension choice for softmax has been deprecated. Change the call to include dim=X as an argument.\n",
      "  input = module(input)\n"
     ]
    },
    {
     "name": "stdout",
     "output_type": "stream",
     "text": [
      "Step [0/3]\t loss_instance: 8.139451026916504\t loss_cluster: 3.29583740234375\n",
      "\n",
      "Epoch [55/500]\t Loss: 11.435290972391764 \n",
      "\n",
      "Step [0/1]\t Computing features...\n",
      "Features shape (1714,)\n",
      "14\n",
      "Test NMI = 0.1995 ARI = 0.1051 F = 0.2765 ACC = 0.3501\n",
      "================================================================\n",
      "\n"
     ]
    },
    {
     "name": "stderr",
     "output_type": "stream",
     "text": [
      "C:\\Users\\Tom-G\\.conda\\envs\\torchenv\\lib\\site-packages\\torch\\nn\\modules\\container.py:141: UserWarning: Implicit dimension choice for softmax has been deprecated. Change the call to include dim=X as an argument.\n",
      "  input = module(input)\n"
     ]
    },
    {
     "name": "stdout",
     "output_type": "stream",
     "text": [
      "Step [0/3]\t loss_instance: 8.139447212219238\t loss_cluster: 3.29583740234375\n",
      "\n",
      "Epoch [56/500]\t Loss: 11.435285568237305 \n",
      "\n",
      "Step [0/1]\t Computing features...\n",
      "Features shape (1714,)\n",
      "14\n",
      "Test NMI = 0.1972 ARI = 0.1037 F = 0.2753 ACC = 0.3495\n",
      "================================================================\n",
      "\n"
     ]
    },
    {
     "name": "stderr",
     "output_type": "stream",
     "text": [
      "C:\\Users\\Tom-G\\.conda\\envs\\torchenv\\lib\\site-packages\\torch\\nn\\modules\\container.py:141: UserWarning: Implicit dimension choice for softmax has been deprecated. Change the call to include dim=X as an argument.\n",
      "  input = module(input)\n"
     ]
    },
    {
     "name": "stdout",
     "output_type": "stream",
     "text": [
      "Step [0/3]\t loss_instance: 8.13944149017334\t loss_cluster: 3.295836925506592\n",
      "\n",
      "Epoch [57/500]\t Loss: 11.435282389322916 \n",
      "\n",
      "Step [0/1]\t Computing features...\n",
      "Features shape (1714,)\n",
      "14\n",
      "Test NMI = 0.1990 ARI = 0.1043 F = 0.2749 ACC = 0.3495\n",
      "================================================================\n",
      "\n"
     ]
    },
    {
     "name": "stderr",
     "output_type": "stream",
     "text": [
      "C:\\Users\\Tom-G\\.conda\\envs\\torchenv\\lib\\site-packages\\torch\\nn\\modules\\container.py:141: UserWarning: Implicit dimension choice for softmax has been deprecated. Change the call to include dim=X as an argument.\n",
      "  input = module(input)\n"
     ]
    },
    {
     "name": "stdout",
     "output_type": "stream",
     "text": [
      "Step [0/3]\t loss_instance: 8.139445304870605\t loss_cluster: 3.295836925506592\n",
      "\n",
      "Epoch [58/500]\t Loss: 11.435284614562988 \n",
      "\n",
      "Step [0/1]\t Computing features...\n",
      "Features shape (1714,)\n",
      "14\n",
      "Test NMI = 0.1999 ARI = 0.1050 F = 0.2747 ACC = 0.3524\n",
      "================================================================\n",
      "\n"
     ]
    },
    {
     "name": "stderr",
     "output_type": "stream",
     "text": [
      "C:\\Users\\Tom-G\\.conda\\envs\\torchenv\\lib\\site-packages\\torch\\nn\\modules\\container.py:141: UserWarning: Implicit dimension choice for softmax has been deprecated. Change the call to include dim=X as an argument.\n",
      "  input = module(input)\n"
     ]
    },
    {
     "name": "stdout",
     "output_type": "stream",
     "text": [
      "Step [0/3]\t loss_instance: 8.139449119567871\t loss_cluster: 3.295836925506592\n",
      "\n",
      "Epoch [59/500]\t Loss: 11.43528683980306 \n",
      "\n",
      "Step [0/1]\t Computing features...\n",
      "Features shape (1714,)\n",
      "14\n",
      "Test NMI = 0.2012 ARI = 0.1045 F = 0.2752 ACC = 0.3518\n",
      "================================================================\n",
      "\n"
     ]
    },
    {
     "name": "stderr",
     "output_type": "stream",
     "text": [
      "C:\\Users\\Tom-G\\.conda\\envs\\torchenv\\lib\\site-packages\\torch\\nn\\modules\\container.py:141: UserWarning: Implicit dimension choice for softmax has been deprecated. Change the call to include dim=X as an argument.\n",
      "  input = module(input)\n"
     ]
    },
    {
     "name": "stdout",
     "output_type": "stream",
     "text": [
      "Step [0/3]\t loss_instance: 8.139448165893555\t loss_cluster: 3.295836925506592\n",
      "\n",
      "Epoch [60/500]\t Loss: 11.435284296671549 \n",
      "\n",
      "Step [0/1]\t Computing features...\n",
      "Features shape (1714,)\n",
      "14\n",
      "Test NMI = 0.2006 ARI = 0.1031 F = 0.2742 ACC = 0.3512\n",
      "================================================================\n",
      "\n"
     ]
    },
    {
     "name": "stderr",
     "output_type": "stream",
     "text": [
      "C:\\Users\\Tom-G\\.conda\\envs\\torchenv\\lib\\site-packages\\torch\\nn\\modules\\container.py:141: UserWarning: Implicit dimension choice for softmax has been deprecated. Change the call to include dim=X as an argument.\n",
      "  input = module(input)\n"
     ]
    },
    {
     "name": "stdout",
     "output_type": "stream",
     "text": [
      "Step [0/3]\t loss_instance: 8.139445304870605\t loss_cluster: 3.295836925506592\n",
      "\n",
      "Epoch [61/500]\t Loss: 11.435285568237305 \n",
      "\n",
      "Step [0/1]\t Computing features...\n",
      "Features shape (1714,)\n",
      "14\n",
      "Test NMI = 0.1995 ARI = 0.1042 F = 0.2749 ACC = 0.3506\n",
      "================================================================\n",
      "\n"
     ]
    },
    {
     "name": "stderr",
     "output_type": "stream",
     "text": [
      "C:\\Users\\Tom-G\\.conda\\envs\\torchenv\\lib\\site-packages\\torch\\nn\\modules\\container.py:141: UserWarning: Implicit dimension choice for softmax has been deprecated. Change the call to include dim=X as an argument.\n",
      "  input = module(input)\n"
     ]
    },
    {
     "name": "stdout",
     "output_type": "stream",
     "text": [
      "Step [0/3]\t loss_instance: 8.139456748962402\t loss_cluster: 3.295836925506592\n",
      "\n",
      "Epoch [62/500]\t Loss: 11.435289065043131 \n",
      "\n",
      "Step [0/1]\t Computing features...\n",
      "Features shape (1714,)\n",
      "14\n",
      "Test NMI = 0.2051 ARI = 0.1080 F = 0.2768 ACC = 0.3530\n",
      "================================================================\n",
      "\n"
     ]
    },
    {
     "name": "stderr",
     "output_type": "stream",
     "text": [
      "C:\\Users\\Tom-G\\.conda\\envs\\torchenv\\lib\\site-packages\\torch\\nn\\modules\\container.py:141: UserWarning: Implicit dimension choice for softmax has been deprecated. Change the call to include dim=X as an argument.\n",
      "  input = module(input)\n"
     ]
    },
    {
     "name": "stdout",
     "output_type": "stream",
     "text": [
      "Step [0/3]\t loss_instance: 8.139459609985352\t loss_cluster: 3.29583740234375\n",
      "\n",
      "Epoch [63/500]\t Loss: 11.43528938293457 \n",
      "\n",
      "Step [0/1]\t Computing features...\n",
      "Features shape (1714,)\n",
      "14\n",
      "Test NMI = 0.2048 ARI = 0.1073 F = 0.2761 ACC = 0.3536\n",
      "================================================================\n",
      "\n"
     ]
    },
    {
     "name": "stderr",
     "output_type": "stream",
     "text": [
      "C:\\Users\\Tom-G\\.conda\\envs\\torchenv\\lib\\site-packages\\torch\\nn\\modules\\container.py:141: UserWarning: Implicit dimension choice for softmax has been deprecated. Change the call to include dim=X as an argument.\n",
      "  input = module(input)\n"
     ]
    },
    {
     "name": "stdout",
     "output_type": "stream",
     "text": [
      "Step [0/3]\t loss_instance: 8.139452934265137\t loss_cluster: 3.295837163925171\n",
      "\n",
      "Epoch [64/500]\t Loss: 11.43528970082601 \n",
      "\n",
      "Step [0/1]\t Computing features...\n",
      "Features shape (1714,)\n",
      "14\n",
      "Test NMI = 0.2085 ARI = 0.1132 F = 0.2794 ACC = 0.3635\n",
      "================================================================\n",
      "\n"
     ]
    },
    {
     "name": "stderr",
     "output_type": "stream",
     "text": [
      "C:\\Users\\Tom-G\\.conda\\envs\\torchenv\\lib\\site-packages\\torch\\nn\\modules\\container.py:141: UserWarning: Implicit dimension choice for softmax has been deprecated. Change the call to include dim=X as an argument.\n",
      "  input = module(input)\n"
     ]
    },
    {
     "name": "stdout",
     "output_type": "stream",
     "text": [
      "Step [0/3]\t loss_instance: 8.139447212219238\t loss_cluster: 3.295836925506592\n",
      "\n",
      "Epoch [65/500]\t Loss: 11.435284296671549 \n",
      "\n",
      "Step [0/1]\t Computing features...\n",
      "Features shape (1714,)\n",
      "14\n",
      "Test NMI = 0.2051 ARI = 0.1100 F = 0.2780 ACC = 0.3588\n",
      "================================================================\n",
      "\n"
     ]
    },
    {
     "name": "stderr",
     "output_type": "stream",
     "text": [
      "C:\\Users\\Tom-G\\.conda\\envs\\torchenv\\lib\\site-packages\\torch\\nn\\modules\\container.py:141: UserWarning: Implicit dimension choice for softmax has been deprecated. Change the call to include dim=X as an argument.\n",
      "  input = module(input)\n"
     ]
    },
    {
     "name": "stdout",
     "output_type": "stream",
     "text": [
      "Step [0/3]\t loss_instance: 8.139444351196289\t loss_cluster: 3.2958366870880127\n",
      "\n",
      "Epoch [66/500]\t Loss: 11.435283660888672 \n",
      "\n",
      "Step [0/1]\t Computing features...\n",
      "Features shape (1714,)\n",
      "14\n",
      "Test NMI = 0.2060 ARI = 0.1102 F = 0.2784 ACC = 0.3588\n",
      "================================================================\n",
      "\n"
     ]
    },
    {
     "name": "stderr",
     "output_type": "stream",
     "text": [
      "C:\\Users\\Tom-G\\.conda\\envs\\torchenv\\lib\\site-packages\\torch\\nn\\modules\\container.py:141: UserWarning: Implicit dimension choice for softmax has been deprecated. Change the call to include dim=X as an argument.\n",
      "  input = module(input)\n"
     ]
    },
    {
     "name": "stdout",
     "output_type": "stream",
     "text": [
      "Step [0/3]\t loss_instance: 8.139442443847656\t loss_cluster: 3.2958366870880127\n",
      "\n",
      "Epoch [67/500]\t Loss: 11.4352814356486 \n",
      "\n",
      "Step [0/1]\t Computing features...\n",
      "Features shape (1714,)\n",
      "14\n",
      "Test NMI = 0.2073 ARI = 0.1117 F = 0.2795 ACC = 0.3606\n",
      "================================================================\n",
      "\n"
     ]
    },
    {
     "name": "stderr",
     "output_type": "stream",
     "text": [
      "C:\\Users\\Tom-G\\.conda\\envs\\torchenv\\lib\\site-packages\\torch\\nn\\modules\\container.py:141: UserWarning: Implicit dimension choice for softmax has been deprecated. Change the call to include dim=X as an argument.\n",
      "  input = module(input)\n"
     ]
    },
    {
     "name": "stdout",
     "output_type": "stream",
     "text": [
      "Step [0/3]\t loss_instance: 8.139455795288086\t loss_cluster: 3.29583740234375\n",
      "\n",
      "Epoch [68/500]\t Loss: 11.435293833414713 \n",
      "\n",
      "Step [0/1]\t Computing features...\n",
      "Features shape (1714,)\n",
      "14\n",
      "Test NMI = 0.2051 ARI = 0.1104 F = 0.2782 ACC = 0.3606\n",
      "================================================================\n",
      "\n"
     ]
    },
    {
     "name": "stderr",
     "output_type": "stream",
     "text": [
      "C:\\Users\\Tom-G\\.conda\\envs\\torchenv\\lib\\site-packages\\torch\\nn\\modules\\container.py:141: UserWarning: Implicit dimension choice for softmax has been deprecated. Change the call to include dim=X as an argument.\n",
      "  input = module(input)\n"
     ]
    },
    {
     "name": "stdout",
     "output_type": "stream",
     "text": [
      "Step [0/3]\t loss_instance: 8.139447212219238\t loss_cluster: 3.295837163925171\n",
      "\n",
      "Epoch [69/500]\t Loss: 11.435283025105795 \n",
      "\n",
      "Step [0/1]\t Computing features...\n",
      "Features shape (1714,)\n",
      "14\n",
      "Test NMI = 0.2036 ARI = 0.1070 F = 0.2746 ACC = 0.3559\n",
      "================================================================\n",
      "\n"
     ]
    },
    {
     "name": "stderr",
     "output_type": "stream",
     "text": [
      "C:\\Users\\Tom-G\\.conda\\envs\\torchenv\\lib\\site-packages\\torch\\nn\\modules\\container.py:141: UserWarning: Implicit dimension choice for softmax has been deprecated. Change the call to include dim=X as an argument.\n",
      "  input = module(input)\n"
     ]
    },
    {
     "name": "stdout",
     "output_type": "stream",
     "text": [
      "Step [0/3]\t loss_instance: 8.139453887939453\t loss_cluster: 3.295837163925171\n",
      "\n",
      "Epoch [70/500]\t Loss: 11.435290018717447 \n",
      "\n",
      "Step [0/1]\t Computing features...\n",
      "Features shape (1714,)\n",
      "14\n",
      "Test NMI = 0.2034 ARI = 0.1061 F = 0.2739 ACC = 0.3565\n",
      "================================================================\n",
      "\n"
     ]
    },
    {
     "name": "stderr",
     "output_type": "stream",
     "text": [
      "C:\\Users\\Tom-G\\.conda\\envs\\torchenv\\lib\\site-packages\\torch\\nn\\modules\\container.py:141: UserWarning: Implicit dimension choice for softmax has been deprecated. Change the call to include dim=X as an argument.\n",
      "  input = module(input)\n"
     ]
    },
    {
     "name": "stdout",
     "output_type": "stream",
     "text": [
      "Step [0/3]\t loss_instance: 8.139447212219238\t loss_cluster: 3.295837163925171\n",
      "\n",
      "Epoch [71/500]\t Loss: 11.435284614562988 \n",
      "\n",
      "Step [0/1]\t Computing features...\n",
      "Features shape (1714,)\n",
      "14\n",
      "Test NMI = 0.2027 ARI = 0.1050 F = 0.2725 ACC = 0.3547\n",
      "================================================================\n",
      "\n"
     ]
    },
    {
     "name": "stderr",
     "output_type": "stream",
     "text": [
      "C:\\Users\\Tom-G\\.conda\\envs\\torchenv\\lib\\site-packages\\torch\\nn\\modules\\container.py:141: UserWarning: Implicit dimension choice for softmax has been deprecated. Change the call to include dim=X as an argument.\n",
      "  input = module(input)\n"
     ]
    },
    {
     "name": "stdout",
     "output_type": "stream",
     "text": [
      "Step [0/3]\t loss_instance: 8.139447212219238\t loss_cluster: 3.295837163925171\n",
      "\n",
      "Epoch [72/500]\t Loss: 11.435281753540039 \n",
      "\n",
      "Step [0/1]\t Computing features...\n",
      "Features shape (1714,)\n",
      "14\n",
      "Test NMI = 0.2016 ARI = 0.1049 F = 0.2728 ACC = 0.3553\n",
      "================================================================\n",
      "\n"
     ]
    },
    {
     "name": "stderr",
     "output_type": "stream",
     "text": [
      "C:\\Users\\Tom-G\\.conda\\envs\\torchenv\\lib\\site-packages\\torch\\nn\\modules\\container.py:141: UserWarning: Implicit dimension choice for softmax has been deprecated. Change the call to include dim=X as an argument.\n",
      "  input = module(input)\n"
     ]
    },
    {
     "name": "stdout",
     "output_type": "stream",
     "text": [
      "Step [0/3]\t loss_instance: 8.13944149017334\t loss_cluster: 3.295837163925171\n",
      "\n",
      "Epoch [73/500]\t Loss: 11.435281753540039 \n",
      "\n",
      "Step [0/1]\t Computing features...\n",
      "Features shape (1714,)\n",
      "14\n",
      "Test NMI = 0.2037 ARI = 0.1051 F = 0.2739 ACC = 0.3559\n",
      "================================================================\n",
      "\n"
     ]
    },
    {
     "name": "stderr",
     "output_type": "stream",
     "text": [
      "C:\\Users\\Tom-G\\.conda\\envs\\torchenv\\lib\\site-packages\\torch\\nn\\modules\\container.py:141: UserWarning: Implicit dimension choice for softmax has been deprecated. Change the call to include dim=X as an argument.\n",
      "  input = module(input)\n"
     ]
    },
    {
     "name": "stdout",
     "output_type": "stream",
     "text": [
      "Step [0/3]\t loss_instance: 8.139447212219238\t loss_cluster: 3.295836925506592\n",
      "\n",
      "Epoch [74/500]\t Loss: 11.435282707214355 \n",
      "\n",
      "Step [0/1]\t Computing features...\n",
      "Features shape (1714,)\n",
      "14\n",
      "Test NMI = 0.2077 ARI = 0.1082 F = 0.2773 ACC = 0.3588\n",
      "================================================================\n",
      "\n"
     ]
    },
    {
     "name": "stderr",
     "output_type": "stream",
     "text": [
      "C:\\Users\\Tom-G\\.conda\\envs\\torchenv\\lib\\site-packages\\torch\\nn\\modules\\container.py:141: UserWarning: Implicit dimension choice for softmax has been deprecated. Change the call to include dim=X as an argument.\n",
      "  input = module(input)\n"
     ]
    },
    {
     "name": "stdout",
     "output_type": "stream",
     "text": [
      "Step [0/3]\t loss_instance: 8.139449119567871\t loss_cluster: 3.295836925506592\n",
      "\n",
      "Epoch [75/500]\t Loss: 11.435287157694498 \n",
      "\n",
      "Step [0/1]\t Computing features...\n",
      "Features shape (1714,)\n",
      "14\n",
      "Test NMI = 0.2070 ARI = 0.1065 F = 0.2756 ACC = 0.3594\n",
      "================================================================\n",
      "\n"
     ]
    },
    {
     "name": "stderr",
     "output_type": "stream",
     "text": [
      "C:\\Users\\Tom-G\\.conda\\envs\\torchenv\\lib\\site-packages\\torch\\nn\\modules\\container.py:141: UserWarning: Implicit dimension choice for softmax has been deprecated. Change the call to include dim=X as an argument.\n",
      "  input = module(input)\n"
     ]
    },
    {
     "name": "stdout",
     "output_type": "stream",
     "text": [
      "Step [0/3]\t loss_instance: 8.139444351196289\t loss_cluster: 3.29583740234375\n",
      "\n",
      "Epoch [76/500]\t Loss: 11.4352814356486 \n",
      "\n",
      "Step [0/1]\t Computing features...\n",
      "Features shape (1714,)\n",
      "14\n",
      "Test NMI = 0.2033 ARI = 0.1062 F = 0.2749 ACC = 0.3559\n",
      "================================================================\n",
      "\n"
     ]
    },
    {
     "name": "stderr",
     "output_type": "stream",
     "text": [
      "C:\\Users\\Tom-G\\.conda\\envs\\torchenv\\lib\\site-packages\\torch\\nn\\modules\\container.py:141: UserWarning: Implicit dimension choice for softmax has been deprecated. Change the call to include dim=X as an argument.\n",
      "  input = module(input)\n"
     ]
    },
    {
     "name": "stdout",
     "output_type": "stream",
     "text": [
      "Step [0/3]\t loss_instance: 8.139445304870605\t loss_cluster: 3.29583740234375\n",
      "\n",
      "Epoch [77/500]\t Loss: 11.435282071431478 \n",
      "\n",
      "Step [0/1]\t Computing features...\n",
      "Features shape (1714,)\n",
      "14\n",
      "Test NMI = 0.2042 ARI = 0.1061 F = 0.2744 ACC = 0.3565\n",
      "================================================================\n",
      "\n"
     ]
    },
    {
     "name": "stderr",
     "output_type": "stream",
     "text": [
      "C:\\Users\\Tom-G\\.conda\\envs\\torchenv\\lib\\site-packages\\torch\\nn\\modules\\container.py:141: UserWarning: Implicit dimension choice for softmax has been deprecated. Change the call to include dim=X as an argument.\n",
      "  input = module(input)\n"
     ]
    },
    {
     "name": "stdout",
     "output_type": "stream",
     "text": [
      "Step [0/3]\t loss_instance: 8.139445304870605\t loss_cluster: 3.295836925506592\n",
      "\n",
      "Epoch [78/500]\t Loss: 11.435282389322916 \n",
      "\n",
      "Step [0/1]\t Computing features...\n",
      "Features shape (1714,)\n",
      "14\n",
      "Test NMI = 0.2040 ARI = 0.1089 F = 0.2768 ACC = 0.3606\n",
      "================================================================\n",
      "\n"
     ]
    },
    {
     "name": "stderr",
     "output_type": "stream",
     "text": [
      "C:\\Users\\Tom-G\\.conda\\envs\\torchenv\\lib\\site-packages\\torch\\nn\\modules\\container.py:141: UserWarning: Implicit dimension choice for softmax has been deprecated. Change the call to include dim=X as an argument.\n",
      "  input = module(input)\n"
     ]
    },
    {
     "name": "stdout",
     "output_type": "stream",
     "text": [
      "Step [0/3]\t loss_instance: 8.139443397521973\t loss_cluster: 3.295837163925171\n",
      "\n",
      "Epoch [79/500]\t Loss: 11.435282707214355 \n",
      "\n",
      "Step [0/1]\t Computing features...\n",
      "Features shape (1714,)\n",
      "14\n",
      "Test NMI = 0.2067 ARI = 0.1108 F = 0.2795 ACC = 0.3629\n",
      "================================================================\n",
      "\n"
     ]
    },
    {
     "name": "stderr",
     "output_type": "stream",
     "text": [
      "C:\\Users\\Tom-G\\.conda\\envs\\torchenv\\lib\\site-packages\\torch\\nn\\modules\\container.py:141: UserWarning: Implicit dimension choice for softmax has been deprecated. Change the call to include dim=X as an argument.\n",
      "  input = module(input)\n"
     ]
    },
    {
     "name": "stdout",
     "output_type": "stream",
     "text": [
      "Step [0/3]\t loss_instance: 8.139443397521973\t loss_cluster: 3.295837163925171\n",
      "\n",
      "Epoch [80/500]\t Loss: 11.435279528299967 \n",
      "\n",
      "Step [0/1]\t Computing features...\n",
      "Features shape (1714,)\n",
      "14\n",
      "Test NMI = 0.2039 ARI = 0.1096 F = 0.2784 ACC = 0.3635\n",
      "================================================================\n",
      "\n"
     ]
    },
    {
     "name": "stderr",
     "output_type": "stream",
     "text": [
      "C:\\Users\\Tom-G\\.conda\\envs\\torchenv\\lib\\site-packages\\torch\\nn\\modules\\container.py:141: UserWarning: Implicit dimension choice for softmax has been deprecated. Change the call to include dim=X as an argument.\n",
      "  input = module(input)\n"
     ]
    },
    {
     "name": "stdout",
     "output_type": "stream",
     "text": [
      "Step [0/3]\t loss_instance: 8.139444351196289\t loss_cluster: 3.295837163925171\n",
      "\n",
      "Epoch [81/500]\t Loss: 11.435281117757162 \n",
      "\n",
      "Step [0/1]\t Computing features...\n",
      "Features shape (1714,)\n",
      "14\n",
      "Test NMI = 0.2064 ARI = 0.1114 F = 0.2799 ACC = 0.3641\n",
      "================================================================\n",
      "\n"
     ]
    },
    {
     "name": "stderr",
     "output_type": "stream",
     "text": [
      "C:\\Users\\Tom-G\\.conda\\envs\\torchenv\\lib\\site-packages\\torch\\nn\\modules\\container.py:141: UserWarning: Implicit dimension choice for softmax has been deprecated. Change the call to include dim=X as an argument.\n",
      "  input = module(input)\n"
     ]
    },
    {
     "name": "stdout",
     "output_type": "stream",
     "text": [
      "Step [0/3]\t loss_instance: 8.139442443847656\t loss_cluster: 3.295837163925171\n",
      "\n",
      "Epoch [82/500]\t Loss: 11.43527921040853 \n",
      "\n",
      "Step [0/1]\t Computing features...\n",
      "Features shape (1714,)\n",
      "14\n",
      "Test NMI = 0.2062 ARI = 0.1094 F = 0.2777 ACC = 0.3617\n",
      "================================================================\n",
      "\n"
     ]
    },
    {
     "name": "stderr",
     "output_type": "stream",
     "text": [
      "C:\\Users\\Tom-G\\.conda\\envs\\torchenv\\lib\\site-packages\\torch\\nn\\modules\\container.py:141: UserWarning: Implicit dimension choice for softmax has been deprecated. Change the call to include dim=X as an argument.\n",
      "  input = module(input)\n"
     ]
    },
    {
     "name": "stdout",
     "output_type": "stream",
     "text": [
      "Step [0/3]\t loss_instance: 8.139444351196289\t loss_cluster: 3.295837163925171\n",
      "\n",
      "Epoch [83/500]\t Loss: 11.435282389322916 \n",
      "\n",
      "Step [0/1]\t Computing features...\n",
      "Features shape (1714,)\n",
      "14\n",
      "Test NMI = 0.2058 ARI = 0.1087 F = 0.2780 ACC = 0.3606\n",
      "================================================================\n",
      "\n"
     ]
    },
    {
     "name": "stderr",
     "output_type": "stream",
     "text": [
      "C:\\Users\\Tom-G\\.conda\\envs\\torchenv\\lib\\site-packages\\torch\\nn\\modules\\container.py:141: UserWarning: Implicit dimension choice for softmax has been deprecated. Change the call to include dim=X as an argument.\n",
      "  input = module(input)\n"
     ]
    },
    {
     "name": "stdout",
     "output_type": "stream",
     "text": [
      "Step [0/3]\t loss_instance: 8.139445304870605\t loss_cluster: 3.29583740234375\n",
      "\n",
      "Epoch [84/500]\t Loss: 11.435283342997232 \n",
      "\n",
      "Step [0/1]\t Computing features...\n",
      "Features shape (1714,)\n",
      "14\n",
      "Test NMI = 0.2068 ARI = 0.1086 F = 0.2777 ACC = 0.3606\n",
      "================================================================\n",
      "\n"
     ]
    },
    {
     "name": "stderr",
     "output_type": "stream",
     "text": [
      "C:\\Users\\Tom-G\\.conda\\envs\\torchenv\\lib\\site-packages\\torch\\nn\\modules\\container.py:141: UserWarning: Implicit dimension choice for softmax has been deprecated. Change the call to include dim=X as an argument.\n",
      "  input = module(input)\n"
     ]
    },
    {
     "name": "stdout",
     "output_type": "stream",
     "text": [
      "Step [0/3]\t loss_instance: 8.13944149017334\t loss_cluster: 3.295837163925171\n",
      "\n",
      "Epoch [85/500]\t Loss: 11.435279846191406 \n",
      "\n",
      "Step [0/1]\t Computing features...\n",
      "Features shape (1714,)\n",
      "14\n",
      "Test NMI = 0.2051 ARI = 0.1064 F = 0.2763 ACC = 0.3582\n",
      "================================================================\n",
      "\n"
     ]
    },
    {
     "name": "stderr",
     "output_type": "stream",
     "text": [
      "C:\\Users\\Tom-G\\.conda\\envs\\torchenv\\lib\\site-packages\\torch\\nn\\modules\\container.py:141: UserWarning: Implicit dimension choice for softmax has been deprecated. Change the call to include dim=X as an argument.\n",
      "  input = module(input)\n"
     ]
    },
    {
     "name": "stdout",
     "output_type": "stream",
     "text": [
      "Step [0/3]\t loss_instance: 8.139444351196289\t loss_cluster: 3.2958364486694336\n",
      "\n",
      "Epoch [86/500]\t Loss: 11.435284296671549 \n",
      "\n",
      "Step [0/1]\t Computing features...\n",
      "Features shape (1714,)\n",
      "14\n",
      "Test NMI = 0.2066 ARI = 0.1069 F = 0.2769 ACC = 0.3588\n",
      "================================================================\n",
      "\n"
     ]
    },
    {
     "name": "stderr",
     "output_type": "stream",
     "text": [
      "C:\\Users\\Tom-G\\.conda\\envs\\torchenv\\lib\\site-packages\\torch\\nn\\modules\\container.py:141: UserWarning: Implicit dimension choice for softmax has been deprecated. Change the call to include dim=X as an argument.\n",
      "  input = module(input)\n"
     ]
    },
    {
     "name": "stdout",
     "output_type": "stream",
     "text": [
      "Step [0/3]\t loss_instance: 8.139444351196289\t loss_cluster: 3.29583740234375\n",
      "\n",
      "Epoch [87/500]\t Loss: 11.435280164082846 \n",
      "\n",
      "Step [0/1]\t Computing features...\n",
      "Features shape (1714,)\n",
      "14\n",
      "Test NMI = 0.2042 ARI = 0.1069 F = 0.2765 ACC = 0.3582\n",
      "================================================================\n",
      "\n"
     ]
    },
    {
     "name": "stderr",
     "output_type": "stream",
     "text": [
      "C:\\Users\\Tom-G\\.conda\\envs\\torchenv\\lib\\site-packages\\torch\\nn\\modules\\container.py:141: UserWarning: Implicit dimension choice for softmax has been deprecated. Change the call to include dim=X as an argument.\n",
      "  input = module(input)\n"
     ]
    },
    {
     "name": "stdout",
     "output_type": "stream",
     "text": [
      "Step [0/3]\t loss_instance: 8.139443397521973\t loss_cluster: 3.295837163925171\n",
      "\n",
      "Epoch [88/500]\t Loss: 11.4352814356486 \n",
      "\n",
      "Step [0/1]\t Computing features...\n",
      "Features shape (1714,)\n",
      "14\n",
      "Test NMI = 0.2073 ARI = 0.1112 F = 0.2793 ACC = 0.3635\n",
      "================================================================\n",
      "\n"
     ]
    },
    {
     "name": "stderr",
     "output_type": "stream",
     "text": [
      "C:\\Users\\Tom-G\\.conda\\envs\\torchenv\\lib\\site-packages\\torch\\nn\\modules\\container.py:141: UserWarning: Implicit dimension choice for softmax has been deprecated. Change the call to include dim=X as an argument.\n",
      "  input = module(input)\n"
     ]
    },
    {
     "name": "stdout",
     "output_type": "stream",
     "text": [
      "Step [0/3]\t loss_instance: 8.139456748962402\t loss_cluster: 3.2958366870880127\n",
      "\n",
      "Epoch [89/500]\t Loss: 11.43528683980306 \n",
      "\n",
      "Step [0/1]\t Computing features...\n",
      "Features shape (1714,)\n",
      "14\n",
      "Test NMI = 0.2077 ARI = 0.1103 F = 0.2788 ACC = 0.3646\n",
      "================================================================\n",
      "\n"
     ]
    },
    {
     "name": "stderr",
     "output_type": "stream",
     "text": [
      "C:\\Users\\Tom-G\\.conda\\envs\\torchenv\\lib\\site-packages\\torch\\nn\\modules\\container.py:141: UserWarning: Implicit dimension choice for softmax has been deprecated. Change the call to include dim=X as an argument.\n",
      "  input = module(input)\n"
     ]
    },
    {
     "name": "stdout",
     "output_type": "stream",
     "text": [
      "Step [0/3]\t loss_instance: 8.139446258544922\t loss_cluster: 3.295836925506592\n",
      "\n",
      "Epoch [90/500]\t Loss: 11.435283660888672 \n",
      "\n",
      "Step [0/1]\t Computing features...\n",
      "Features shape (1714,)\n",
      "14\n",
      "Test NMI = 0.2070 ARI = 0.1085 F = 0.2775 ACC = 0.3617\n",
      "================================================================\n",
      "\n"
     ]
    },
    {
     "name": "stderr",
     "output_type": "stream",
     "text": [
      "C:\\Users\\Tom-G\\.conda\\envs\\torchenv\\lib\\site-packages\\torch\\nn\\modules\\container.py:141: UserWarning: Implicit dimension choice for softmax has been deprecated. Change the call to include dim=X as an argument.\n",
      "  input = module(input)\n"
     ]
    },
    {
     "name": "stdout",
     "output_type": "stream",
     "text": [
      "Step [0/3]\t loss_instance: 8.139447212219238\t loss_cluster: 3.295837163925171\n",
      "\n",
      "Epoch [91/500]\t Loss: 11.435283978780111 \n",
      "\n",
      "Step [0/1]\t Computing features...\n",
      "Features shape (1714,)\n",
      "14\n",
      "Test NMI = 0.2065 ARI = 0.1099 F = 0.2789 ACC = 0.3641\n",
      "================================================================\n",
      "\n"
     ]
    },
    {
     "name": "stderr",
     "output_type": "stream",
     "text": [
      "C:\\Users\\Tom-G\\.conda\\envs\\torchenv\\lib\\site-packages\\torch\\nn\\modules\\container.py:141: UserWarning: Implicit dimension choice for softmax has been deprecated. Change the call to include dim=X as an argument.\n",
      "  input = module(input)\n"
     ]
    },
    {
     "name": "stdout",
     "output_type": "stream",
     "text": [
      "Step [0/3]\t loss_instance: 8.139445304870605\t loss_cluster: 3.2958366870880127\n",
      "\n",
      "Epoch [92/500]\t Loss: 11.435280481974283 \n",
      "\n",
      "Step [0/1]\t Computing features...\n",
      "Features shape (1714,)\n",
      "14\n",
      "Test NMI = 0.2077 ARI = 0.1086 F = 0.2784 ACC = 0.3635\n",
      "================================================================\n",
      "\n"
     ]
    },
    {
     "name": "stderr",
     "output_type": "stream",
     "text": [
      "C:\\Users\\Tom-G\\.conda\\envs\\torchenv\\lib\\site-packages\\torch\\nn\\modules\\container.py:141: UserWarning: Implicit dimension choice for softmax has been deprecated. Change the call to include dim=X as an argument.\n",
      "  input = module(input)\n"
     ]
    },
    {
     "name": "stdout",
     "output_type": "stream",
     "text": [
      "Step [0/3]\t loss_instance: 8.139447212219238\t loss_cluster: 3.2958366870880127\n",
      "\n",
      "Epoch [93/500]\t Loss: 11.435283660888672 \n",
      "\n",
      "Step [0/1]\t Computing features...\n",
      "Features shape (1714,)\n",
      "14\n",
      "Test NMI = 0.2069 ARI = 0.1105 F = 0.2787 ACC = 0.3635\n",
      "================================================================\n",
      "\n"
     ]
    },
    {
     "name": "stderr",
     "output_type": "stream",
     "text": [
      "C:\\Users\\Tom-G\\.conda\\envs\\torchenv\\lib\\site-packages\\torch\\nn\\modules\\container.py:141: UserWarning: Implicit dimension choice for softmax has been deprecated. Change the call to include dim=X as an argument.\n",
      "  input = module(input)\n"
     ]
    },
    {
     "name": "stdout",
     "output_type": "stream",
     "text": [
      "Step [0/3]\t loss_instance: 8.13945198059082\t loss_cluster: 3.295836925506592\n",
      "\n",
      "Epoch [94/500]\t Loss: 11.435284932454428 \n",
      "\n",
      "Step [0/1]\t Computing features...\n",
      "Features shape (1714,)\n",
      "14\n",
      "Test NMI = 0.2102 ARI = 0.1139 F = 0.2808 ACC = 0.3670\n",
      "================================================================\n",
      "\n"
     ]
    },
    {
     "name": "stderr",
     "output_type": "stream",
     "text": [
      "C:\\Users\\Tom-G\\.conda\\envs\\torchenv\\lib\\site-packages\\torch\\nn\\modules\\container.py:141: UserWarning: Implicit dimension choice for softmax has been deprecated. Change the call to include dim=X as an argument.\n",
      "  input = module(input)\n"
     ]
    },
    {
     "name": "stdout",
     "output_type": "stream",
     "text": [
      "Step [0/3]\t loss_instance: 8.139451026916504\t loss_cluster: 3.295837163925171\n",
      "\n",
      "Epoch [95/500]\t Loss: 11.435284932454428 \n",
      "\n",
      "Step [0/1]\t Computing features...\n",
      "Features shape (1714,)\n",
      "14\n",
      "Test NMI = 0.2099 ARI = 0.1155 F = 0.2831 ACC = 0.3693\n",
      "================================================================\n",
      "\n"
     ]
    },
    {
     "name": "stderr",
     "output_type": "stream",
     "text": [
      "C:\\Users\\Tom-G\\.conda\\envs\\torchenv\\lib\\site-packages\\torch\\nn\\modules\\container.py:141: UserWarning: Implicit dimension choice for softmax has been deprecated. Change the call to include dim=X as an argument.\n",
      "  input = module(input)\n"
     ]
    },
    {
     "name": "stdout",
     "output_type": "stream",
     "text": [
      "Step [0/3]\t loss_instance: 8.139447212219238\t loss_cluster: 3.295837163925171\n",
      "\n",
      "Epoch [96/500]\t Loss: 11.435285886128744 \n",
      "\n",
      "Step [0/1]\t Computing features...\n",
      "Features shape (1714,)\n",
      "14\n",
      "Test NMI = 0.2059 ARI = 0.1100 F = 0.2799 ACC = 0.3594\n",
      "================================================================\n",
      "\n"
     ]
    },
    {
     "name": "stderr",
     "output_type": "stream",
     "text": [
      "C:\\Users\\Tom-G\\.conda\\envs\\torchenv\\lib\\site-packages\\torch\\nn\\modules\\container.py:141: UserWarning: Implicit dimension choice for softmax has been deprecated. Change the call to include dim=X as an argument.\n",
      "  input = module(input)\n"
     ]
    },
    {
     "name": "stdout",
     "output_type": "stream",
     "text": [
      "Step [0/3]\t loss_instance: 8.139444351196289\t loss_cluster: 3.295836925506592\n",
      "\n",
      "Epoch [97/500]\t Loss: 11.435283025105795 \n",
      "\n",
      "Step [0/1]\t Computing features...\n",
      "Features shape (1714,)\n",
      "14\n",
      "Test NMI = 0.2028 ARI = 0.1083 F = 0.2788 ACC = 0.3588\n",
      "================================================================\n",
      "\n"
     ]
    },
    {
     "name": "stderr",
     "output_type": "stream",
     "text": [
      "C:\\Users\\Tom-G\\.conda\\envs\\torchenv\\lib\\site-packages\\torch\\nn\\modules\\container.py:141: UserWarning: Implicit dimension choice for softmax has been deprecated. Change the call to include dim=X as an argument.\n",
      "  input = module(input)\n"
     ]
    },
    {
     "name": "stdout",
     "output_type": "stream",
     "text": [
      "Step [0/3]\t loss_instance: 8.139446258544922\t loss_cluster: 3.2958364486694336\n",
      "\n",
      "Epoch [98/500]\t Loss: 11.435285568237305 \n",
      "\n",
      "Step [0/1]\t Computing features...\n",
      "Features shape (1714,)\n",
      "14\n",
      "Test NMI = 0.2081 ARI = 0.1139 F = 0.2823 ACC = 0.3641\n",
      "================================================================\n",
      "\n"
     ]
    },
    {
     "name": "stderr",
     "output_type": "stream",
     "text": [
      "C:\\Users\\Tom-G\\.conda\\envs\\torchenv\\lib\\site-packages\\torch\\nn\\modules\\container.py:141: UserWarning: Implicit dimension choice for softmax has been deprecated. Change the call to include dim=X as an argument.\n",
      "  input = module(input)\n"
     ]
    },
    {
     "name": "stdout",
     "output_type": "stream",
     "text": [
      "Step [0/3]\t loss_instance: 8.139445304870605\t loss_cluster: 3.2958366870880127\n",
      "\n",
      "Epoch [99/500]\t Loss: 11.435285568237305 \n",
      "\n",
      "Step [0/1]\t Computing features...\n",
      "Features shape (1714,)\n",
      "14\n",
      "Test NMI = 0.2124 ARI = 0.1174 F = 0.2847 ACC = 0.3711\n",
      "================================================================\n",
      "\n"
     ]
    },
    {
     "name": "stderr",
     "output_type": "stream",
     "text": [
      "C:\\Users\\Tom-G\\.conda\\envs\\torchenv\\lib\\site-packages\\torch\\nn\\modules\\container.py:141: UserWarning: Implicit dimension choice for softmax has been deprecated. Change the call to include dim=X as an argument.\n",
      "  input = module(input)\n"
     ]
    },
    {
     "name": "stdout",
     "output_type": "stream",
     "text": [
      "Step [0/3]\t loss_instance: 8.139458656311035\t loss_cluster: 3.2958364486694336\n",
      "\n",
      "Epoch [100/500]\t Loss: 11.43528683980306 \n",
      "\n",
      "Step [0/1]\t Computing features...\n",
      "Features shape (1714,)\n",
      "14\n",
      "Test NMI = 0.2129 ARI = 0.1197 F = 0.2871 ACC = 0.3746\n",
      "================================================================\n",
      "\n"
     ]
    },
    {
     "name": "stderr",
     "output_type": "stream",
     "text": [
      "C:\\Users\\Tom-G\\.conda\\envs\\torchenv\\lib\\site-packages\\torch\\nn\\modules\\container.py:141: UserWarning: Implicit dimension choice for softmax has been deprecated. Change the call to include dim=X as an argument.\n",
      "  input = module(input)\n"
     ]
    },
    {
     "name": "stdout",
     "output_type": "stream",
     "text": [
      "Step [0/3]\t loss_instance: 8.139450073242188\t loss_cluster: 3.2958366870880127\n",
      "\n",
      "Epoch [101/500]\t Loss: 11.435285250345865 \n",
      "\n",
      "Step [0/1]\t Computing features...\n",
      "Features shape (1714,)\n",
      "14\n",
      "Test NMI = 0.2083 ARI = 0.1134 F = 0.2834 ACC = 0.3658\n",
      "================================================================\n",
      "\n"
     ]
    },
    {
     "name": "stderr",
     "output_type": "stream",
     "text": [
      "C:\\Users\\Tom-G\\.conda\\envs\\torchenv\\lib\\site-packages\\torch\\nn\\modules\\container.py:141: UserWarning: Implicit dimension choice for softmax has been deprecated. Change the call to include dim=X as an argument.\n",
      "  input = module(input)\n"
     ]
    },
    {
     "name": "stdout",
     "output_type": "stream",
     "text": [
      "Step [0/3]\t loss_instance: 8.139448165893555\t loss_cluster: 3.295836925506592\n",
      "\n",
      "Epoch [102/500]\t Loss: 11.43528938293457 \n",
      "\n",
      "Step [0/1]\t Computing features...\n",
      "Features shape (1714,)\n",
      "14\n",
      "Test NMI = 0.2092 ARI = 0.1135 F = 0.2838 ACC = 0.3658\n",
      "================================================================\n",
      "\n"
     ]
    },
    {
     "name": "stderr",
     "output_type": "stream",
     "text": [
      "C:\\Users\\Tom-G\\.conda\\envs\\torchenv\\lib\\site-packages\\torch\\nn\\modules\\container.py:141: UserWarning: Implicit dimension choice for softmax has been deprecated. Change the call to include dim=X as an argument.\n",
      "  input = module(input)\n"
     ]
    },
    {
     "name": "stdout",
     "output_type": "stream",
     "text": [
      "Step [0/3]\t loss_instance: 8.139448165893555\t loss_cluster: 3.295836925506592\n",
      "\n",
      "Epoch [103/500]\t Loss: 11.435287793477377 \n",
      "\n",
      "Step [0/1]\t Computing features...\n",
      "Features shape (1714,)\n",
      "14\n",
      "Test NMI = 0.2098 ARI = 0.1154 F = 0.2851 ACC = 0.3705\n",
      "================================================================\n",
      "\n"
     ]
    },
    {
     "name": "stderr",
     "output_type": "stream",
     "text": [
      "C:\\Users\\Tom-G\\.conda\\envs\\torchenv\\lib\\site-packages\\torch\\nn\\modules\\container.py:141: UserWarning: Implicit dimension choice for softmax has been deprecated. Change the call to include dim=X as an argument.\n",
      "  input = module(input)\n"
     ]
    },
    {
     "name": "stdout",
     "output_type": "stream",
     "text": [
      "Step [0/3]\t loss_instance: 8.139448165893555\t loss_cluster: 3.2958364486694336\n",
      "\n",
      "Epoch [104/500]\t Loss: 11.435286204020182 \n",
      "\n",
      "Step [0/1]\t Computing features...\n",
      "Features shape (1714,)\n",
      "14\n",
      "Test NMI = 0.2131 ARI = 0.1191 F = 0.2872 ACC = 0.3740\n",
      "================================================================\n",
      "\n"
     ]
    },
    {
     "name": "stderr",
     "output_type": "stream",
     "text": [
      "C:\\Users\\Tom-G\\.conda\\envs\\torchenv\\lib\\site-packages\\torch\\nn\\modules\\container.py:141: UserWarning: Implicit dimension choice for softmax has been deprecated. Change the call to include dim=X as an argument.\n",
      "  input = module(input)\n"
     ]
    },
    {
     "name": "stdout",
     "output_type": "stream",
     "text": [
      "Step [0/3]\t loss_instance: 8.13945484161377\t loss_cluster: 3.2958364486694336\n",
      "\n",
      "Epoch [105/500]\t Loss: 11.435286204020182 \n",
      "\n",
      "Step [0/1]\t Computing features...\n",
      "Features shape (1714,)\n",
      "14\n",
      "Test NMI = 0.2129 ARI = 0.1191 F = 0.2872 ACC = 0.3751\n",
      "================================================================\n",
      "\n"
     ]
    },
    {
     "name": "stderr",
     "output_type": "stream",
     "text": [
      "C:\\Users\\Tom-G\\.conda\\envs\\torchenv\\lib\\site-packages\\torch\\nn\\modules\\container.py:141: UserWarning: Implicit dimension choice for softmax has been deprecated. Change the call to include dim=X as an argument.\n",
      "  input = module(input)\n"
     ]
    },
    {
     "name": "stdout",
     "output_type": "stream",
     "text": [
      "Step [0/3]\t loss_instance: 8.139452934265137\t loss_cluster: 3.2958366870880127\n",
      "\n",
      "Epoch [106/500]\t Loss: 11.435287475585938 \n",
      "\n",
      "Step [0/1]\t Computing features...\n",
      "Features shape (1714,)\n",
      "14\n",
      "Test NMI = 0.2141 ARI = 0.1195 F = 0.2867 ACC = 0.3769\n",
      "================================================================\n",
      "\n"
     ]
    },
    {
     "name": "stderr",
     "output_type": "stream",
     "text": [
      "C:\\Users\\Tom-G\\.conda\\envs\\torchenv\\lib\\site-packages\\torch\\nn\\modules\\container.py:141: UserWarning: Implicit dimension choice for softmax has been deprecated. Change the call to include dim=X as an argument.\n",
      "  input = module(input)\n"
     ]
    },
    {
     "name": "stdout",
     "output_type": "stream",
     "text": [
      "Step [0/3]\t loss_instance: 8.139456748962402\t loss_cluster: 3.29583740234375\n",
      "\n",
      "Epoch [107/500]\t Loss: 11.435293833414713 \n",
      "\n",
      "Step [0/1]\t Computing features...\n",
      "Features shape (1714,)\n",
      "14\n",
      "Test NMI = 0.2120 ARI = 0.1161 F = 0.2843 ACC = 0.3711\n",
      "================================================================\n",
      "\n"
     ]
    },
    {
     "name": "stderr",
     "output_type": "stream",
     "text": [
      "C:\\Users\\Tom-G\\.conda\\envs\\torchenv\\lib\\site-packages\\torch\\nn\\modules\\container.py:141: UserWarning: Implicit dimension choice for softmax has been deprecated. Change the call to include dim=X as an argument.\n",
      "  input = module(input)\n"
     ]
    },
    {
     "name": "stdout",
     "output_type": "stream",
     "text": [
      "Step [0/3]\t loss_instance: 8.139456748962402\t loss_cluster: 3.2958364486694336\n",
      "\n",
      "Epoch [108/500]\t Loss: 11.435294151306152 \n",
      "\n",
      "Step [0/1]\t Computing features...\n",
      "Features shape (1714,)\n",
      "14\n",
      "Test NMI = 0.2098 ARI = 0.1139 F = 0.2832 ACC = 0.3693\n",
      "================================================================\n",
      "\n"
     ]
    },
    {
     "name": "stderr",
     "output_type": "stream",
     "text": [
      "C:\\Users\\Tom-G\\.conda\\envs\\torchenv\\lib\\site-packages\\torch\\nn\\modules\\container.py:141: UserWarning: Implicit dimension choice for softmax has been deprecated. Change the call to include dim=X as an argument.\n",
      "  input = module(input)\n"
     ]
    },
    {
     "name": "stdout",
     "output_type": "stream",
     "text": [
      "Step [0/3]\t loss_instance: 8.139448165893555\t loss_cluster: 3.2958364486694336\n",
      "\n",
      "Epoch [109/500]\t Loss: 11.435287157694498 \n",
      "\n",
      "Step [0/1]\t Computing features...\n",
      "Features shape (1714,)\n",
      "14\n",
      "Test NMI = 0.2092 ARI = 0.1145 F = 0.2838 ACC = 0.3681\n",
      "================================================================\n",
      "\n"
     ]
    },
    {
     "name": "stderr",
     "output_type": "stream",
     "text": [
      "C:\\Users\\Tom-G\\.conda\\envs\\torchenv\\lib\\site-packages\\torch\\nn\\modules\\container.py:141: UserWarning: Implicit dimension choice for softmax has been deprecated. Change the call to include dim=X as an argument.\n",
      "  input = module(input)\n"
     ]
    },
    {
     "name": "stdout",
     "output_type": "stream",
     "text": [
      "Step [0/3]\t loss_instance: 8.139447212219238\t loss_cluster: 3.295836925506592\n",
      "\n",
      "Epoch [110/500]\t Loss: 11.43528970082601 \n",
      "\n",
      "Step [0/1]\t Computing features...\n",
      "Features shape (1714,)\n",
      "14\n",
      "Test NMI = 0.2113 ARI = 0.1162 F = 0.2849 ACC = 0.3734\n",
      "================================================================\n",
      "\n"
     ]
    },
    {
     "name": "stderr",
     "output_type": "stream",
     "text": [
      "C:\\Users\\Tom-G\\.conda\\envs\\torchenv\\lib\\site-packages\\torch\\nn\\modules\\container.py:141: UserWarning: Implicit dimension choice for softmax has been deprecated. Change the call to include dim=X as an argument.\n",
      "  input = module(input)\n"
     ]
    },
    {
     "name": "stdout",
     "output_type": "stream",
     "text": [
      "Step [0/3]\t loss_instance: 8.139447212219238\t loss_cluster: 3.2958359718322754\n",
      "\n",
      "Epoch [111/500]\t Loss: 11.435285250345865 \n",
      "\n",
      "Step [0/1]\t Computing features...\n",
      "Features shape (1714,)\n",
      "14\n",
      "Test NMI = 0.2130 ARI = 0.1161 F = 0.2849 ACC = 0.3711\n",
      "================================================================\n",
      "\n"
     ]
    },
    {
     "name": "stderr",
     "output_type": "stream",
     "text": [
      "C:\\Users\\Tom-G\\.conda\\envs\\torchenv\\lib\\site-packages\\torch\\nn\\modules\\container.py:141: UserWarning: Implicit dimension choice for softmax has been deprecated. Change the call to include dim=X as an argument.\n",
      "  input = module(input)\n"
     ]
    },
    {
     "name": "stdout",
     "output_type": "stream",
     "text": [
      "Step [0/3]\t loss_instance: 8.139447212219238\t loss_cluster: 3.295836925506592\n",
      "\n",
      "Epoch [112/500]\t Loss: 11.435285568237305 \n",
      "\n",
      "Step [0/1]\t Computing features...\n",
      "Features shape (1714,)\n",
      "14\n",
      "Test NMI = 0.2171 ARI = 0.1184 F = 0.2860 ACC = 0.3751\n",
      "================================================================\n",
      "\n"
     ]
    },
    {
     "name": "stderr",
     "output_type": "stream",
     "text": [
      "C:\\Users\\Tom-G\\.conda\\envs\\torchenv\\lib\\site-packages\\torch\\nn\\modules\\container.py:141: UserWarning: Implicit dimension choice for softmax has been deprecated. Change the call to include dim=X as an argument.\n",
      "  input = module(input)\n"
     ]
    },
    {
     "name": "stdout",
     "output_type": "stream",
     "text": [
      "Step [0/3]\t loss_instance: 8.139446258544922\t loss_cluster: 3.2958359718322754\n",
      "\n",
      "Epoch [113/500]\t Loss: 11.435284296671549 \n",
      "\n",
      "Step [0/1]\t Computing features...\n",
      "Features shape (1714,)\n",
      "14\n",
      "Test NMI = 0.2165 ARI = 0.1201 F = 0.2882 ACC = 0.3763\n",
      "================================================================\n",
      "\n"
     ]
    },
    {
     "name": "stderr",
     "output_type": "stream",
     "text": [
      "C:\\Users\\Tom-G\\.conda\\envs\\torchenv\\lib\\site-packages\\torch\\nn\\modules\\container.py:141: UserWarning: Implicit dimension choice for softmax has been deprecated. Change the call to include dim=X as an argument.\n",
      "  input = module(input)\n"
     ]
    },
    {
     "name": "stdout",
     "output_type": "stream",
     "text": [
      "Step [0/3]\t loss_instance: 8.139444351196289\t loss_cluster: 3.2958362102508545\n",
      "\n",
      "Epoch [114/500]\t Loss: 11.435282389322916 \n",
      "\n",
      "Step [0/1]\t Computing features...\n",
      "Features shape (1714,)\n",
      "14\n",
      "Test NMI = 0.2100 ARI = 0.1144 F = 0.2844 ACC = 0.3705\n",
      "================================================================\n",
      "\n"
     ]
    },
    {
     "name": "stderr",
     "output_type": "stream",
     "text": [
      "C:\\Users\\Tom-G\\.conda\\envs\\torchenv\\lib\\site-packages\\torch\\nn\\modules\\container.py:141: UserWarning: Implicit dimension choice for softmax has been deprecated. Change the call to include dim=X as an argument.\n",
      "  input = module(input)\n"
     ]
    },
    {
     "name": "stdout",
     "output_type": "stream",
     "text": [
      "Step [0/3]\t loss_instance: 8.139450073242188\t loss_cluster: 3.2958362102508545\n",
      "\n",
      "Epoch [115/500]\t Loss: 11.435284614562988 \n",
      "\n",
      "Step [0/1]\t Computing features...\n",
      "Features shape (1714,)\n",
      "14\n",
      "Test NMI = 0.2096 ARI = 0.1157 F = 0.2866 ACC = 0.3722\n",
      "================================================================\n",
      "\n"
     ]
    },
    {
     "name": "stderr",
     "output_type": "stream",
     "text": [
      "C:\\Users\\Tom-G\\.conda\\envs\\torchenv\\lib\\site-packages\\torch\\nn\\modules\\container.py:141: UserWarning: Implicit dimension choice for softmax has been deprecated. Change the call to include dim=X as an argument.\n",
      "  input = module(input)\n"
     ]
    },
    {
     "name": "stdout",
     "output_type": "stream",
     "text": [
      "Step [0/3]\t loss_instance: 8.139443397521973\t loss_cluster: 3.2958359718322754\n",
      "\n",
      "Epoch [116/500]\t Loss: 11.435282707214355 \n",
      "\n",
      "Step [0/1]\t Computing features...\n",
      "Features shape (1714,)\n",
      "14\n",
      "Test NMI = 0.2111 ARI = 0.1173 F = 0.2880 ACC = 0.3751\n",
      "================================================================\n",
      "\n"
     ]
    },
    {
     "name": "stderr",
     "output_type": "stream",
     "text": [
      "C:\\Users\\Tom-G\\.conda\\envs\\torchenv\\lib\\site-packages\\torch\\nn\\modules\\container.py:141: UserWarning: Implicit dimension choice for softmax has been deprecated. Change the call to include dim=X as an argument.\n",
      "  input = module(input)\n"
     ]
    },
    {
     "name": "stdout",
     "output_type": "stream",
     "text": [
      "Step [0/3]\t loss_instance: 8.139445304870605\t loss_cluster: 3.2958359718322754\n",
      "\n",
      "Epoch [117/500]\t Loss: 11.435282707214355 \n",
      "\n",
      "Step [0/1]\t Computing features...\n",
      "Features shape (1714,)\n",
      "14\n",
      "Test NMI = 0.2136 ARI = 0.1171 F = 0.2869 ACC = 0.3740\n",
      "================================================================\n",
      "\n"
     ]
    },
    {
     "name": "stderr",
     "output_type": "stream",
     "text": [
      "C:\\Users\\Tom-G\\.conda\\envs\\torchenv\\lib\\site-packages\\torch\\nn\\modules\\container.py:141: UserWarning: Implicit dimension choice for softmax has been deprecated. Change the call to include dim=X as an argument.\n",
      "  input = module(input)\n"
     ]
    },
    {
     "name": "stdout",
     "output_type": "stream",
     "text": [
      "Step [0/3]\t loss_instance: 8.139447212219238\t loss_cluster: 3.2958366870880127\n",
      "\n",
      "Epoch [118/500]\t Loss: 11.435281753540039 \n",
      "\n",
      "Step [0/1]\t Computing features...\n",
      "Features shape (1714,)\n",
      "14\n",
      "Test NMI = 0.2176 ARI = 0.1226 F = 0.2910 ACC = 0.3821\n",
      "================================================================\n",
      "\n"
     ]
    },
    {
     "name": "stderr",
     "output_type": "stream",
     "text": [
      "C:\\Users\\Tom-G\\.conda\\envs\\torchenv\\lib\\site-packages\\torch\\nn\\modules\\container.py:141: UserWarning: Implicit dimension choice for softmax has been deprecated. Change the call to include dim=X as an argument.\n",
      "  input = module(input)\n"
     ]
    },
    {
     "name": "stdout",
     "output_type": "stream",
     "text": [
      "Step [0/3]\t loss_instance: 8.139449119567871\t loss_cluster: 3.2958362102508545\n",
      "\n",
      "Epoch [119/500]\t Loss: 11.435284296671549 \n",
      "\n",
      "Step [0/1]\t Computing features...\n",
      "Features shape (1714,)\n",
      "14\n",
      "Test NMI = 0.2203 ARI = 0.1247 F = 0.2923 ACC = 0.3839\n",
      "================================================================\n",
      "\n"
     ]
    },
    {
     "name": "stderr",
     "output_type": "stream",
     "text": [
      "C:\\Users\\Tom-G\\.conda\\envs\\torchenv\\lib\\site-packages\\torch\\nn\\modules\\container.py:141: UserWarning: Implicit dimension choice for softmax has been deprecated. Change the call to include dim=X as an argument.\n",
      "  input = module(input)\n"
     ]
    },
    {
     "name": "stdout",
     "output_type": "stream",
     "text": [
      "Step [0/3]\t loss_instance: 8.13944149017334\t loss_cluster: 3.2958359718322754\n",
      "\n",
      "Epoch [120/500]\t Loss: 11.435282071431478 \n",
      "\n",
      "Step [0/1]\t Computing features...\n",
      "Features shape (1714,)\n",
      "14\n",
      "Test NMI = 0.2146 ARI = 0.1183 F = 0.2873 ACC = 0.3746\n",
      "================================================================\n",
      "\n"
     ]
    },
    {
     "name": "stderr",
     "output_type": "stream",
     "text": [
      "C:\\Users\\Tom-G\\.conda\\envs\\torchenv\\lib\\site-packages\\torch\\nn\\modules\\container.py:141: UserWarning: Implicit dimension choice for softmax has been deprecated. Change the call to include dim=X as an argument.\n",
      "  input = module(input)\n"
     ]
    },
    {
     "name": "stdout",
     "output_type": "stream",
     "text": [
      "Step [0/3]\t loss_instance: 8.139448165893555\t loss_cluster: 3.2958364486694336\n",
      "\n",
      "Epoch [121/500]\t Loss: 11.4352814356486 \n",
      "\n",
      "Step [0/1]\t Computing features...\n",
      "Features shape (1714,)\n",
      "14\n",
      "Test NMI = 0.2101 ARI = 0.1155 F = 0.2862 ACC = 0.3716\n",
      "================================================================\n",
      "\n"
     ]
    },
    {
     "name": "stderr",
     "output_type": "stream",
     "text": [
      "C:\\Users\\Tom-G\\.conda\\envs\\torchenv\\lib\\site-packages\\torch\\nn\\modules\\container.py:141: UserWarning: Implicit dimension choice for softmax has been deprecated. Change the call to include dim=X as an argument.\n",
      "  input = module(input)\n"
     ]
    },
    {
     "name": "stdout",
     "output_type": "stream",
     "text": [
      "Step [0/3]\t loss_instance: 8.139444351196289\t loss_cluster: 3.2958364486694336\n",
      "\n",
      "Epoch [122/500]\t Loss: 11.435281117757162 \n",
      "\n",
      "Step [0/1]\t Computing features...\n",
      "Features shape (1714,)\n",
      "14\n",
      "Test NMI = 0.2106 ARI = 0.1154 F = 0.2865 ACC = 0.3711\n",
      "================================================================\n",
      "\n"
     ]
    },
    {
     "name": "stderr",
     "output_type": "stream",
     "text": [
      "C:\\Users\\Tom-G\\.conda\\envs\\torchenv\\lib\\site-packages\\torch\\nn\\modules\\container.py:141: UserWarning: Implicit dimension choice for softmax has been deprecated. Change the call to include dim=X as an argument.\n",
      "  input = module(input)\n"
     ]
    },
    {
     "name": "stdout",
     "output_type": "stream",
     "text": [
      "Step [0/3]\t loss_instance: 8.139445304870605\t loss_cluster: 3.2958364486694336\n",
      "\n",
      "Epoch [123/500]\t Loss: 11.435283660888672 \n",
      "\n",
      "Step [0/1]\t Computing features...\n",
      "Features shape (1714,)\n",
      "14\n",
      "Test NMI = 0.2125 ARI = 0.1193 F = 0.2882 ACC = 0.3775\n",
      "================================================================\n",
      "\n"
     ]
    },
    {
     "name": "stderr",
     "output_type": "stream",
     "text": [
      "C:\\Users\\Tom-G\\.conda\\envs\\torchenv\\lib\\site-packages\\torch\\nn\\modules\\container.py:141: UserWarning: Implicit dimension choice for softmax has been deprecated. Change the call to include dim=X as an argument.\n",
      "  input = module(input)\n"
     ]
    },
    {
     "name": "stdout",
     "output_type": "stream",
     "text": [
      "Step [0/3]\t loss_instance: 8.139444351196289\t loss_cluster: 3.2958366870880127\n",
      "\n",
      "Epoch [124/500]\t Loss: 11.435284932454428 \n",
      "\n",
      "Step [0/1]\t Computing features...\n",
      "Features shape (1714,)\n",
      "14\n",
      "Test NMI = 0.2183 ARI = 0.1225 F = 0.2890 ACC = 0.3821\n",
      "================================================================\n",
      "\n"
     ]
    },
    {
     "name": "stderr",
     "output_type": "stream",
     "text": [
      "C:\\Users\\Tom-G\\.conda\\envs\\torchenv\\lib\\site-packages\\torch\\nn\\modules\\container.py:141: UserWarning: Implicit dimension choice for softmax has been deprecated. Change the call to include dim=X as an argument.\n",
      "  input = module(input)\n"
     ]
    },
    {
     "name": "stdout",
     "output_type": "stream",
     "text": [
      "Step [0/3]\t loss_instance: 8.139449119567871\t loss_cluster: 3.2958364486694336\n",
      "\n",
      "Epoch [125/500]\t Loss: 11.435283660888672 \n",
      "\n",
      "Step [0/1]\t Computing features...\n",
      "Features shape (1714,)\n",
      "14\n",
      "Test NMI = 0.2209 ARI = 0.1256 F = 0.2929 ACC = 0.3862\n",
      "================================================================\n",
      "\n"
     ]
    },
    {
     "name": "stderr",
     "output_type": "stream",
     "text": [
      "C:\\Users\\Tom-G\\.conda\\envs\\torchenv\\lib\\site-packages\\torch\\nn\\modules\\container.py:141: UserWarning: Implicit dimension choice for softmax has been deprecated. Change the call to include dim=X as an argument.\n",
      "  input = module(input)\n"
     ]
    },
    {
     "name": "stdout",
     "output_type": "stream",
     "text": [
      "Step [0/3]\t loss_instance: 8.139456748962402\t loss_cluster: 3.2958359718322754\n",
      "\n",
      "Epoch [126/500]\t Loss: 11.435287475585938 \n",
      "\n",
      "Step [0/1]\t Computing features...\n",
      "Features shape (1714,)\n",
      "14\n",
      "Test NMI = 0.2162 ARI = 0.1203 F = 0.2886 ACC = 0.3798\n",
      "================================================================\n",
      "\n"
     ]
    },
    {
     "name": "stderr",
     "output_type": "stream",
     "text": [
      "C:\\Users\\Tom-G\\.conda\\envs\\torchenv\\lib\\site-packages\\torch\\nn\\modules\\container.py:141: UserWarning: Implicit dimension choice for softmax has been deprecated. Change the call to include dim=X as an argument.\n",
      "  input = module(input)\n"
     ]
    },
    {
     "name": "stdout",
     "output_type": "stream",
     "text": [
      "Step [0/3]\t loss_instance: 8.139450073242188\t loss_cluster: 3.2958366870880127\n",
      "\n",
      "Epoch [127/500]\t Loss: 11.435283025105795 \n",
      "\n",
      "Step [0/1]\t Computing features...\n",
      "Features shape (1714,)\n",
      "14\n",
      "Test NMI = 0.2155 ARI = 0.1188 F = 0.2892 ACC = 0.3792\n",
      "================================================================\n",
      "\n"
     ]
    },
    {
     "name": "stderr",
     "output_type": "stream",
     "text": [
      "C:\\Users\\Tom-G\\.conda\\envs\\torchenv\\lib\\site-packages\\torch\\nn\\modules\\container.py:141: UserWarning: Implicit dimension choice for softmax has been deprecated. Change the call to include dim=X as an argument.\n",
      "  input = module(input)\n"
     ]
    },
    {
     "name": "stdout",
     "output_type": "stream",
     "text": [
      "Step [0/3]\t loss_instance: 8.139450073242188\t loss_cluster: 3.2958362102508545\n",
      "\n",
      "Epoch [128/500]\t Loss: 11.435286521911621 \n",
      "\n",
      "Step [0/1]\t Computing features...\n",
      "Features shape (1714,)\n",
      "14\n",
      "Test NMI = 0.2173 ARI = 0.1209 F = 0.2901 ACC = 0.3821\n",
      "================================================================\n",
      "\n"
     ]
    },
    {
     "name": "stderr",
     "output_type": "stream",
     "text": [
      "C:\\Users\\Tom-G\\.conda\\envs\\torchenv\\lib\\site-packages\\torch\\nn\\modules\\container.py:141: UserWarning: Implicit dimension choice for softmax has been deprecated. Change the call to include dim=X as an argument.\n",
      "  input = module(input)\n"
     ]
    },
    {
     "name": "stdout",
     "output_type": "stream",
     "text": [
      "Step [0/3]\t loss_instance: 8.139442443847656\t loss_cluster: 3.295835256576538\n",
      "\n",
      "Epoch [129/500]\t Loss: 11.435283025105795 \n",
      "\n",
      "Step [0/1]\t Computing features...\n",
      "Features shape (1714,)\n",
      "14\n",
      "Test NMI = 0.2197 ARI = 0.1229 F = 0.2914 ACC = 0.3845\n",
      "================================================================\n",
      "\n"
     ]
    },
    {
     "name": "stderr",
     "output_type": "stream",
     "text": [
      "C:\\Users\\Tom-G\\.conda\\envs\\torchenv\\lib\\site-packages\\torch\\nn\\modules\\container.py:141: UserWarning: Implicit dimension choice for softmax has been deprecated. Change the call to include dim=X as an argument.\n",
      "  input = module(input)\n"
     ]
    },
    {
     "name": "stdout",
     "output_type": "stream",
     "text": [
      "Step [0/3]\t loss_instance: 8.139448165893555\t loss_cluster: 3.2958362102508545\n",
      "\n",
      "Epoch [130/500]\t Loss: 11.43529192606608 \n",
      "\n",
      "Step [0/1]\t Computing features...\n",
      "Features shape (1714,)\n",
      "14\n",
      "Test NMI = 0.2192 ARI = 0.1227 F = 0.2909 ACC = 0.3827\n",
      "================================================================\n",
      "\n"
     ]
    },
    {
     "name": "stderr",
     "output_type": "stream",
     "text": [
      "C:\\Users\\Tom-G\\.conda\\envs\\torchenv\\lib\\site-packages\\torch\\nn\\modules\\container.py:141: UserWarning: Implicit dimension choice for softmax has been deprecated. Change the call to include dim=X as an argument.\n",
      "  input = module(input)\n"
     ]
    },
    {
     "name": "stdout",
     "output_type": "stream",
     "text": [
      "Step [0/3]\t loss_instance: 8.139456748962402\t loss_cluster: 3.2958364486694336\n",
      "\n",
      "Epoch [131/500]\t Loss: 11.435286204020182 \n",
      "\n",
      "Step [0/1]\t Computing features...\n",
      "Features shape (1714,)\n",
      "14\n",
      "Test NMI = 0.2172 ARI = 0.1213 F = 0.2892 ACC = 0.3816\n",
      "================================================================\n",
      "\n"
     ]
    },
    {
     "name": "stderr",
     "output_type": "stream",
     "text": [
      "C:\\Users\\Tom-G\\.conda\\envs\\torchenv\\lib\\site-packages\\torch\\nn\\modules\\container.py:141: UserWarning: Implicit dimension choice for softmax has been deprecated. Change the call to include dim=X as an argument.\n",
      "  input = module(input)\n"
     ]
    },
    {
     "name": "stdout",
     "output_type": "stream",
     "text": [
      "Step [0/3]\t loss_instance: 8.139453887939453\t loss_cluster: 3.2958362102508545\n",
      "\n",
      "Epoch [132/500]\t Loss: 11.435286204020182 \n",
      "\n",
      "Step [0/1]\t Computing features...\n",
      "Features shape (1714,)\n",
      "14\n",
      "Test NMI = 0.2169 ARI = 0.1208 F = 0.2889 ACC = 0.3810\n",
      "================================================================\n",
      "\n"
     ]
    },
    {
     "name": "stderr",
     "output_type": "stream",
     "text": [
      "C:\\Users\\Tom-G\\.conda\\envs\\torchenv\\lib\\site-packages\\torch\\nn\\modules\\container.py:141: UserWarning: Implicit dimension choice for softmax has been deprecated. Change the call to include dim=X as an argument.\n",
      "  input = module(input)\n"
     ]
    },
    {
     "name": "stdout",
     "output_type": "stream",
     "text": [
      "Step [0/3]\t loss_instance: 8.139444351196289\t loss_cluster: 3.2958357334136963\n",
      "\n",
      "Epoch [133/500]\t Loss: 11.435281117757162 \n",
      "\n",
      "Step [0/1]\t Computing features...\n",
      "Features shape (1714,)\n",
      "14\n",
      "Test NMI = 0.2195 ARI = 0.1243 F = 0.2918 ACC = 0.3845\n",
      "================================================================\n",
      "\n"
     ]
    },
    {
     "name": "stderr",
     "output_type": "stream",
     "text": [
      "C:\\Users\\Tom-G\\.conda\\envs\\torchenv\\lib\\site-packages\\torch\\nn\\modules\\container.py:141: UserWarning: Implicit dimension choice for softmax has been deprecated. Change the call to include dim=X as an argument.\n",
      "  input = module(input)\n"
     ]
    },
    {
     "name": "stdout",
     "output_type": "stream",
     "text": [
      "Step [0/3]\t loss_instance: 8.139445304870605\t loss_cluster: 3.2958359718322754\n",
      "\n",
      "Epoch [134/500]\t Loss: 11.435283025105795 \n",
      "\n",
      "Step [0/1]\t Computing features...\n",
      "Features shape (1714,)\n",
      "14\n",
      "Test NMI = 0.2157 ARI = 0.1204 F = 0.2896 ACC = 0.3833\n",
      "================================================================\n",
      "\n"
     ]
    },
    {
     "name": "stderr",
     "output_type": "stream",
     "text": [
      "C:\\Users\\Tom-G\\.conda\\envs\\torchenv\\lib\\site-packages\\torch\\nn\\modules\\container.py:141: UserWarning: Implicit dimension choice for softmax has been deprecated. Change the call to include dim=X as an argument.\n",
      "  input = module(input)\n"
     ]
    },
    {
     "name": "stdout",
     "output_type": "stream",
     "text": [
      "Step [0/3]\t loss_instance: 8.139445304870605\t loss_cluster: 3.295835494995117\n",
      "\n",
      "Epoch [135/500]\t Loss: 11.4352814356486 \n",
      "\n",
      "Step [0/1]\t Computing features...\n",
      "Features shape (1714,)\n",
      "14\n",
      "Test NMI = 0.2182 ARI = 0.1217 F = 0.2915 ACC = 0.3856\n",
      "================================================================\n",
      "\n"
     ]
    },
    {
     "name": "stderr",
     "output_type": "stream",
     "text": [
      "C:\\Users\\Tom-G\\.conda\\envs\\torchenv\\lib\\site-packages\\torch\\nn\\modules\\container.py:141: UserWarning: Implicit dimension choice for softmax has been deprecated. Change the call to include dim=X as an argument.\n",
      "  input = module(input)\n"
     ]
    },
    {
     "name": "stdout",
     "output_type": "stream",
     "text": [
      "Step [0/3]\t loss_instance: 8.139444351196289\t loss_cluster: 3.2958362102508545\n",
      "\n",
      "Epoch [136/500]\t Loss: 11.435281753540039 \n",
      "\n",
      "Step [0/1]\t Computing features...\n",
      "Features shape (1714,)\n",
      "14\n",
      "Test NMI = 0.2168 ARI = 0.1196 F = 0.2897 ACC = 0.3827\n",
      "================================================================\n",
      "\n"
     ]
    },
    {
     "name": "stderr",
     "output_type": "stream",
     "text": [
      "C:\\Users\\Tom-G\\.conda\\envs\\torchenv\\lib\\site-packages\\torch\\nn\\modules\\container.py:141: UserWarning: Implicit dimension choice for softmax has been deprecated. Change the call to include dim=X as an argument.\n",
      "  input = module(input)\n"
     ]
    },
    {
     "name": "stdout",
     "output_type": "stream",
     "text": [
      "Step [0/3]\t loss_instance: 8.139444351196289\t loss_cluster: 3.2958359718322754\n",
      "\n",
      "Epoch [137/500]\t Loss: 11.435279846191406 \n",
      "\n",
      "Step [0/1]\t Computing features...\n",
      "Features shape (1714,)\n",
      "14\n",
      "Test NMI = 0.2180 ARI = 0.1184 F = 0.2881 ACC = 0.3821\n",
      "================================================================\n",
      "\n"
     ]
    },
    {
     "name": "stderr",
     "output_type": "stream",
     "text": [
      "C:\\Users\\Tom-G\\.conda\\envs\\torchenv\\lib\\site-packages\\torch\\nn\\modules\\container.py:141: UserWarning: Implicit dimension choice for softmax has been deprecated. Change the call to include dim=X as an argument.\n",
      "  input = module(input)\n"
     ]
    },
    {
     "name": "stdout",
     "output_type": "stream",
     "text": [
      "Step [0/3]\t loss_instance: 8.139444351196289\t loss_cluster: 3.2958362102508545\n",
      "\n",
      "Epoch [138/500]\t Loss: 11.43527921040853 \n",
      "\n",
      "Step [0/1]\t Computing features...\n",
      "Features shape (1714,)\n",
      "14\n",
      "Test NMI = 0.2203 ARI = 0.1217 F = 0.2902 ACC = 0.3862\n",
      "================================================================\n",
      "\n"
     ]
    },
    {
     "name": "stderr",
     "output_type": "stream",
     "text": [
      "C:\\Users\\Tom-G\\.conda\\envs\\torchenv\\lib\\site-packages\\torch\\nn\\modules\\container.py:141: UserWarning: Implicit dimension choice for softmax has been deprecated. Change the call to include dim=X as an argument.\n",
      "  input = module(input)\n"
     ]
    },
    {
     "name": "stdout",
     "output_type": "stream",
     "text": [
      "Step [0/3]\t loss_instance: 8.139442443847656\t loss_cluster: 3.2958362102508545\n",
      "\n",
      "Epoch [139/500]\t Loss: 11.435278256734213 \n",
      "\n",
      "Step [0/1]\t Computing features...\n",
      "Features shape (1714,)\n",
      "14\n",
      "Test NMI = 0.2196 ARI = 0.1233 F = 0.2913 ACC = 0.3880\n",
      "================================================================\n",
      "\n"
     ]
    },
    {
     "name": "stderr",
     "output_type": "stream",
     "text": [
      "C:\\Users\\Tom-G\\.conda\\envs\\torchenv\\lib\\site-packages\\torch\\nn\\modules\\container.py:141: UserWarning: Implicit dimension choice for softmax has been deprecated. Change the call to include dim=X as an argument.\n",
      "  input = module(input)\n"
     ]
    },
    {
     "name": "stdout",
     "output_type": "stream",
     "text": [
      "Step [0/3]\t loss_instance: 8.139439582824707\t loss_cluster: 3.2958362102508545\n",
      "\n",
      "Epoch [140/500]\t Loss: 11.435277620951334 \n",
      "\n",
      "Step [0/1]\t Computing features...\n",
      "Features shape (1714,)\n",
      "14\n",
      "Test NMI = 0.2241 ARI = 0.1270 F = 0.2942 ACC = 0.3897\n",
      "================================================================\n",
      "\n"
     ]
    },
    {
     "name": "stderr",
     "output_type": "stream",
     "text": [
      "C:\\Users\\Tom-G\\.conda\\envs\\torchenv\\lib\\site-packages\\torch\\nn\\modules\\container.py:141: UserWarning: Implicit dimension choice for softmax has been deprecated. Change the call to include dim=X as an argument.\n",
      "  input = module(input)\n"
     ]
    },
    {
     "name": "stdout",
     "output_type": "stream",
     "text": [
      "Step [0/3]\t loss_instance: 8.139444351196289\t loss_cluster: 3.2958362102508545\n",
      "\n",
      "Epoch [141/500]\t Loss: 11.435279846191406 \n",
      "\n",
      "Step [0/1]\t Computing features...\n",
      "Features shape (1714,)\n",
      "14\n",
      "Test NMI = 0.2206 ARI = 0.1247 F = 0.2931 ACC = 0.3874\n",
      "================================================================\n",
      "\n"
     ]
    },
    {
     "name": "stderr",
     "output_type": "stream",
     "text": [
      "C:\\Users\\Tom-G\\.conda\\envs\\torchenv\\lib\\site-packages\\torch\\nn\\modules\\container.py:141: UserWarning: Implicit dimension choice for softmax has been deprecated. Change the call to include dim=X as an argument.\n",
      "  input = module(input)\n"
     ]
    },
    {
     "name": "stdout",
     "output_type": "stream",
     "text": [
      "Step [0/3]\t loss_instance: 8.139444351196289\t loss_cluster: 3.2958359718322754\n",
      "\n",
      "Epoch [142/500]\t Loss: 11.4352814356486 \n",
      "\n",
      "Step [0/1]\t Computing features...\n",
      "Features shape (1714,)\n",
      "14\n",
      "Test NMI = 0.2252 ARI = 0.1297 F = 0.2977 ACC = 0.3956\n",
      "================================================================\n",
      "\n"
     ]
    },
    {
     "name": "stderr",
     "output_type": "stream",
     "text": [
      "C:\\Users\\Tom-G\\.conda\\envs\\torchenv\\lib\\site-packages\\torch\\nn\\modules\\container.py:141: UserWarning: Implicit dimension choice for softmax has been deprecated. Change the call to include dim=X as an argument.\n",
      "  input = module(input)\n"
     ]
    },
    {
     "name": "stdout",
     "output_type": "stream",
     "text": [
      "Step [0/3]\t loss_instance: 8.139442443847656\t loss_cluster: 3.2958362102508545\n",
      "\n",
      "Epoch [143/500]\t Loss: 11.435282707214355 \n",
      "\n",
      "Step [0/1]\t Computing features...\n",
      "Features shape (1714,)\n",
      "14\n",
      "Test NMI = 0.2221 ARI = 0.1275 F = 0.2961 ACC = 0.3938\n",
      "================================================================\n",
      "\n"
     ]
    },
    {
     "name": "stderr",
     "output_type": "stream",
     "text": [
      "C:\\Users\\Tom-G\\.conda\\envs\\torchenv\\lib\\site-packages\\torch\\nn\\modules\\container.py:141: UserWarning: Implicit dimension choice for softmax has been deprecated. Change the call to include dim=X as an argument.\n",
      "  input = module(input)\n"
     ]
    },
    {
     "name": "stdout",
     "output_type": "stream",
     "text": [
      "Step [0/3]\t loss_instance: 8.139447212219238\t loss_cluster: 3.2958359718322754\n",
      "\n",
      "Epoch [144/500]\t Loss: 11.435282389322916 \n",
      "\n",
      "Step [0/1]\t Computing features...\n",
      "Features shape (1714,)\n",
      "14\n",
      "Test NMI = 0.2229 ARI = 0.1298 F = 0.2984 ACC = 0.3961\n",
      "================================================================\n",
      "\n"
     ]
    },
    {
     "name": "stderr",
     "output_type": "stream",
     "text": [
      "C:\\Users\\Tom-G\\.conda\\envs\\torchenv\\lib\\site-packages\\torch\\nn\\modules\\container.py:141: UserWarning: Implicit dimension choice for softmax has been deprecated. Change the call to include dim=X as an argument.\n",
      "  input = module(input)\n"
     ]
    },
    {
     "name": "stdout",
     "output_type": "stream",
     "text": [
      "Step [0/3]\t loss_instance: 8.139450073242188\t loss_cluster: 3.2958364486694336\n",
      "\n",
      "Epoch [145/500]\t Loss: 11.435283025105795 \n",
      "\n",
      "Step [0/1]\t Computing features...\n",
      "Features shape (1714,)\n",
      "14\n",
      "Test NMI = 0.2252 ARI = 0.1323 F = 0.3005 ACC = 0.3979\n",
      "================================================================\n",
      "\n"
     ]
    },
    {
     "name": "stderr",
     "output_type": "stream",
     "text": [
      "C:\\Users\\Tom-G\\.conda\\envs\\torchenv\\lib\\site-packages\\torch\\nn\\modules\\container.py:141: UserWarning: Implicit dimension choice for softmax has been deprecated. Change the call to include dim=X as an argument.\n",
      "  input = module(input)\n"
     ]
    },
    {
     "name": "stdout",
     "output_type": "stream",
     "text": [
      "Step [0/3]\t loss_instance: 8.139449119567871\t loss_cluster: 3.295835494995117\n",
      "\n",
      "Epoch [146/500]\t Loss: 11.4352814356486 \n",
      "\n",
      "Step [0/1]\t Computing features...\n",
      "Features shape (1714,)\n",
      "14\n",
      "Test NMI = 0.2270 ARI = 0.1314 F = 0.2992 ACC = 0.3979\n",
      "================================================================\n",
      "\n"
     ]
    },
    {
     "name": "stderr",
     "output_type": "stream",
     "text": [
      "C:\\Users\\Tom-G\\.conda\\envs\\torchenv\\lib\\site-packages\\torch\\nn\\modules\\container.py:141: UserWarning: Implicit dimension choice for softmax has been deprecated. Change the call to include dim=X as an argument.\n",
      "  input = module(input)\n"
     ]
    },
    {
     "name": "stdout",
     "output_type": "stream",
     "text": [
      "Step [0/3]\t loss_instance: 8.139445304870605\t loss_cluster: 3.2958357334136963\n",
      "\n",
      "Epoch [147/500]\t Loss: 11.435282707214355 \n",
      "\n",
      "Step [0/1]\t Computing features...\n",
      "Features shape (1714,)\n",
      "14\n",
      "Test NMI = 0.2272 ARI = 0.1341 F = 0.3020 ACC = 0.4008\n",
      "================================================================\n",
      "\n"
     ]
    },
    {
     "name": "stderr",
     "output_type": "stream",
     "text": [
      "C:\\Users\\Tom-G\\.conda\\envs\\torchenv\\lib\\site-packages\\torch\\nn\\modules\\container.py:141: UserWarning: Implicit dimension choice for softmax has been deprecated. Change the call to include dim=X as an argument.\n",
      "  input = module(input)\n"
     ]
    },
    {
     "name": "stdout",
     "output_type": "stream",
     "text": [
      "Step [0/3]\t loss_instance: 8.139442443847656\t loss_cluster: 3.2958362102508545\n",
      "\n",
      "Epoch [148/500]\t Loss: 11.435279528299967 \n",
      "\n",
      "Step [0/1]\t Computing features...\n",
      "Features shape (1714,)\n",
      "14\n",
      "Test NMI = 0.2255 ARI = 0.1326 F = 0.3009 ACC = 0.3979\n",
      "================================================================\n",
      "\n"
     ]
    },
    {
     "name": "stderr",
     "output_type": "stream",
     "text": [
      "C:\\Users\\Tom-G\\.conda\\envs\\torchenv\\lib\\site-packages\\torch\\nn\\modules\\container.py:141: UserWarning: Implicit dimension choice for softmax has been deprecated. Change the call to include dim=X as an argument.\n",
      "  input = module(input)\n"
     ]
    },
    {
     "name": "stdout",
     "output_type": "stream",
     "text": [
      "Step [0/3]\t loss_instance: 8.139443397521973\t loss_cluster: 3.2958362102508545\n",
      "\n",
      "Epoch [149/500]\t Loss: 11.43527857462565 \n",
      "\n",
      "Step [0/1]\t Computing features...\n",
      "Features shape (1714,)\n",
      "14\n",
      "Test NMI = 0.2247 ARI = 0.1298 F = 0.2986 ACC = 0.3973\n",
      "================================================================\n",
      "\n"
     ]
    },
    {
     "name": "stderr",
     "output_type": "stream",
     "text": [
      "C:\\Users\\Tom-G\\.conda\\envs\\torchenv\\lib\\site-packages\\torch\\nn\\modules\\container.py:141: UserWarning: Implicit dimension choice for softmax has been deprecated. Change the call to include dim=X as an argument.\n",
      "  input = module(input)\n"
     ]
    },
    {
     "name": "stdout",
     "output_type": "stream",
     "text": [
      "Step [0/3]\t loss_instance: 8.139443397521973\t loss_cluster: 3.2958359718322754\n",
      "\n",
      "Epoch [150/500]\t Loss: 11.43527857462565 \n",
      "\n",
      "Step [0/1]\t Computing features...\n",
      "Features shape (1714,)\n",
      "14\n",
      "Test NMI = 0.2249 ARI = 0.1286 F = 0.2976 ACC = 0.3961\n",
      "================================================================\n",
      "\n"
     ]
    },
    {
     "name": "stderr",
     "output_type": "stream",
     "text": [
      "C:\\Users\\Tom-G\\.conda\\envs\\torchenv\\lib\\site-packages\\torch\\nn\\modules\\container.py:141: UserWarning: Implicit dimension choice for softmax has been deprecated. Change the call to include dim=X as an argument.\n",
      "  input = module(input)\n"
     ]
    },
    {
     "name": "stdout",
     "output_type": "stream",
     "text": [
      "Step [0/3]\t loss_instance: 8.139442443847656\t loss_cluster: 3.2958362102508545\n",
      "\n",
      "Epoch [151/500]\t Loss: 11.43527857462565 \n",
      "\n",
      "Step [0/1]\t Computing features...\n",
      "Features shape (1714,)\n",
      "14\n",
      "Test NMI = 0.2261 ARI = 0.1287 F = 0.2979 ACC = 0.3944\n",
      "================================================================\n",
      "\n"
     ]
    },
    {
     "name": "stderr",
     "output_type": "stream",
     "text": [
      "C:\\Users\\Tom-G\\.conda\\envs\\torchenv\\lib\\site-packages\\torch\\nn\\modules\\container.py:141: UserWarning: Implicit dimension choice for softmax has been deprecated. Change the call to include dim=X as an argument.\n",
      "  input = module(input)\n"
     ]
    },
    {
     "name": "stdout",
     "output_type": "stream",
     "text": [
      "Step [0/3]\t loss_instance: 8.139446258544922\t loss_cluster: 3.2958362102508545\n",
      "\n",
      "Epoch [152/500]\t Loss: 11.435280164082846 \n",
      "\n",
      "Step [0/1]\t Computing features...\n",
      "Features shape (1714,)\n",
      "14\n",
      "Test NMI = 0.2252 ARI = 0.1284 F = 0.2982 ACC = 0.3932\n",
      "================================================================\n",
      "\n"
     ]
    },
    {
     "name": "stderr",
     "output_type": "stream",
     "text": [
      "C:\\Users\\Tom-G\\.conda\\envs\\torchenv\\lib\\site-packages\\torch\\nn\\modules\\container.py:141: UserWarning: Implicit dimension choice for softmax has been deprecated. Change the call to include dim=X as an argument.\n",
      "  input = module(input)\n"
     ]
    },
    {
     "name": "stdout",
     "output_type": "stream",
     "text": [
      "Step [0/3]\t loss_instance: 8.139445304870605\t loss_cluster: 3.2958357334136963\n",
      "\n",
      "Epoch [153/500]\t Loss: 11.435281117757162 \n",
      "\n",
      "Step [0/1]\t Computing features...\n",
      "Features shape (1714,)\n",
      "14\n",
      "Test NMI = 0.2240 ARI = 0.1270 F = 0.2968 ACC = 0.3915\n",
      "================================================================\n",
      "\n"
     ]
    },
    {
     "name": "stderr",
     "output_type": "stream",
     "text": [
      "C:\\Users\\Tom-G\\.conda\\envs\\torchenv\\lib\\site-packages\\torch\\nn\\modules\\container.py:141: UserWarning: Implicit dimension choice for softmax has been deprecated. Change the call to include dim=X as an argument.\n",
      "  input = module(input)\n"
     ]
    },
    {
     "name": "stdout",
     "output_type": "stream",
     "text": [
      "Step [0/3]\t loss_instance: 8.139448165893555\t loss_cluster: 3.2958359718322754\n",
      "\n",
      "Epoch [154/500]\t Loss: 11.435281753540039 \n",
      "\n",
      "Step [0/1]\t Computing features...\n",
      "Features shape (1714,)\n",
      "14\n",
      "Test NMI = 0.2205 ARI = 0.1269 F = 0.2968 ACC = 0.3926\n",
      "================================================================\n",
      "\n"
     ]
    },
    {
     "name": "stderr",
     "output_type": "stream",
     "text": [
      "C:\\Users\\Tom-G\\.conda\\envs\\torchenv\\lib\\site-packages\\torch\\nn\\modules\\container.py:141: UserWarning: Implicit dimension choice for softmax has been deprecated. Change the call to include dim=X as an argument.\n",
      "  input = module(input)\n"
     ]
    },
    {
     "name": "stdout",
     "output_type": "stream",
     "text": [
      "Step [0/3]\t loss_instance: 8.139444351196289\t loss_cluster: 3.295835018157959\n",
      "\n",
      "Epoch [155/500]\t Loss: 11.435279528299967 \n",
      "\n",
      "Step [0/1]\t Computing features...\n",
      "Features shape (1714,)\n",
      "14\n",
      "Test NMI = 0.2249 ARI = 0.1320 F = 0.3011 ACC = 0.3996\n",
      "================================================================\n",
      "\n"
     ]
    },
    {
     "name": "stderr",
     "output_type": "stream",
     "text": [
      "C:\\Users\\Tom-G\\.conda\\envs\\torchenv\\lib\\site-packages\\torch\\nn\\modules\\container.py:141: UserWarning: Implicit dimension choice for softmax has been deprecated. Change the call to include dim=X as an argument.\n",
      "  input = module(input)\n"
     ]
    },
    {
     "name": "stdout",
     "output_type": "stream",
     "text": [
      "Step [0/3]\t loss_instance: 8.139447212219238\t loss_cluster: 3.2958362102508545\n",
      "\n",
      "Epoch [156/500]\t Loss: 11.435282707214355 \n",
      "\n",
      "Step [0/1]\t Computing features...\n",
      "Features shape (1714,)\n",
      "14\n",
      "Test NMI = 0.2270 ARI = 0.1319 F = 0.3011 ACC = 0.3991\n",
      "================================================================\n",
      "\n"
     ]
    },
    {
     "name": "stderr",
     "output_type": "stream",
     "text": [
      "C:\\Users\\Tom-G\\.conda\\envs\\torchenv\\lib\\site-packages\\torch\\nn\\modules\\container.py:141: UserWarning: Implicit dimension choice for softmax has been deprecated. Change the call to include dim=X as an argument.\n",
      "  input = module(input)\n"
     ]
    },
    {
     "name": "stdout",
     "output_type": "stream",
     "text": [
      "Step [0/3]\t loss_instance: 8.139443397521973\t loss_cluster: 3.2958357334136963\n",
      "\n",
      "Epoch [157/500]\t Loss: 11.435279846191406 \n",
      "\n",
      "Step [0/1]\t Computing features...\n",
      "Features shape (1714,)\n",
      "14\n",
      "Test NMI = 0.2292 ARI = 0.1346 F = 0.3028 ACC = 0.4008\n",
      "================================================================\n",
      "\n"
     ]
    },
    {
     "name": "stderr",
     "output_type": "stream",
     "text": [
      "C:\\Users\\Tom-G\\.conda\\envs\\torchenv\\lib\\site-packages\\torch\\nn\\modules\\container.py:141: UserWarning: Implicit dimension choice for softmax has been deprecated. Change the call to include dim=X as an argument.\n",
      "  input = module(input)\n"
     ]
    },
    {
     "name": "stdout",
     "output_type": "stream",
     "text": [
      "Step [0/3]\t loss_instance: 8.139445304870605\t loss_cluster: 3.2958359718322754\n",
      "\n",
      "Epoch [158/500]\t Loss: 11.435280164082846 \n",
      "\n",
      "Step [0/1]\t Computing features...\n",
      "Features shape (1714,)\n",
      "14\n",
      "Test NMI = 0.2309 ARI = 0.1409 F = 0.3086 ACC = 0.4090\n",
      "================================================================\n",
      "\n"
     ]
    },
    {
     "name": "stderr",
     "output_type": "stream",
     "text": [
      "C:\\Users\\Tom-G\\.conda\\envs\\torchenv\\lib\\site-packages\\torch\\nn\\modules\\container.py:141: UserWarning: Implicit dimension choice for softmax has been deprecated. Change the call to include dim=X as an argument.\n",
      "  input = module(input)\n"
     ]
    },
    {
     "name": "stdout",
     "output_type": "stream",
     "text": [
      "Step [0/3]\t loss_instance: 8.139444351196289\t loss_cluster: 3.2958359718322754\n",
      "\n",
      "Epoch [159/500]\t Loss: 11.435281753540039 \n",
      "\n",
      "Step [0/1]\t Computing features...\n",
      "Features shape (1714,)\n",
      "14\n",
      "Test NMI = 0.2323 ARI = 0.1424 F = 0.3103 ACC = 0.4125\n",
      "================================================================\n",
      "\n"
     ]
    },
    {
     "name": "stderr",
     "output_type": "stream",
     "text": [
      "C:\\Users\\Tom-G\\.conda\\envs\\torchenv\\lib\\site-packages\\torch\\nn\\modules\\container.py:141: UserWarning: Implicit dimension choice for softmax has been deprecated. Change the call to include dim=X as an argument.\n",
      "  input = module(input)\n"
     ]
    },
    {
     "name": "stdout",
     "output_type": "stream",
     "text": [
      "Step [0/3]\t loss_instance: 8.139443397521973\t loss_cluster: 3.295835494995117\n",
      "\n",
      "Epoch [160/500]\t Loss: 11.435280481974283 \n",
      "\n",
      "Step [0/1]\t Computing features...\n",
      "Features shape (1714,)\n",
      "14\n",
      "Test NMI = 0.2296 ARI = 0.1430 F = 0.3113 ACC = 0.4131\n",
      "================================================================\n",
      "\n"
     ]
    },
    {
     "name": "stderr",
     "output_type": "stream",
     "text": [
      "C:\\Users\\Tom-G\\.conda\\envs\\torchenv\\lib\\site-packages\\torch\\nn\\modules\\container.py:141: UserWarning: Implicit dimension choice for softmax has been deprecated. Change the call to include dim=X as an argument.\n",
      "  input = module(input)\n"
     ]
    },
    {
     "name": "stdout",
     "output_type": "stream",
     "text": [
      "Step [0/3]\t loss_instance: 8.139445304870605\t loss_cluster: 3.2958359718322754\n",
      "\n",
      "Epoch [161/500]\t Loss: 11.435282071431478 \n",
      "\n",
      "Step [0/1]\t Computing features...\n",
      "Features shape (1714,)\n",
      "14\n",
      "Test NMI = 0.2300 ARI = 0.1408 F = 0.3100 ACC = 0.4113\n",
      "================================================================\n",
      "\n"
     ]
    },
    {
     "name": "stderr",
     "output_type": "stream",
     "text": [
      "C:\\Users\\Tom-G\\.conda\\envs\\torchenv\\lib\\site-packages\\torch\\nn\\modules\\container.py:141: UserWarning: Implicit dimension choice for softmax has been deprecated. Change the call to include dim=X as an argument.\n",
      "  input = module(input)\n"
     ]
    },
    {
     "name": "stdout",
     "output_type": "stream",
     "text": [
      "Step [0/3]\t loss_instance: 8.139450073242188\t loss_cluster: 3.2958359718322754\n",
      "\n",
      "Epoch [162/500]\t Loss: 11.4352814356486 \n",
      "\n",
      "Step [0/1]\t Computing features...\n",
      "Features shape (1714,)\n",
      "14\n",
      "Test NMI = 0.2307 ARI = 0.1393 F = 0.3086 ACC = 0.4078\n",
      "================================================================\n",
      "\n"
     ]
    },
    {
     "name": "stderr",
     "output_type": "stream",
     "text": [
      "C:\\Users\\Tom-G\\.conda\\envs\\torchenv\\lib\\site-packages\\torch\\nn\\modules\\container.py:141: UserWarning: Implicit dimension choice for softmax has been deprecated. Change the call to include dim=X as an argument.\n",
      "  input = module(input)\n"
     ]
    },
    {
     "name": "stdout",
     "output_type": "stream",
     "text": [
      "Step [0/3]\t loss_instance: 8.139446258544922\t loss_cluster: 3.2958359718322754\n",
      "\n",
      "Epoch [163/500]\t Loss: 11.435280799865723 \n",
      "\n",
      "Step [0/1]\t Computing features...\n",
      "Features shape (1714,)\n",
      "14\n",
      "Test NMI = 0.2310 ARI = 0.1427 F = 0.3109 ACC = 0.4125\n",
      "================================================================\n",
      "\n"
     ]
    },
    {
     "name": "stderr",
     "output_type": "stream",
     "text": [
      "C:\\Users\\Tom-G\\.conda\\envs\\torchenv\\lib\\site-packages\\torch\\nn\\modules\\container.py:141: UserWarning: Implicit dimension choice for softmax has been deprecated. Change the call to include dim=X as an argument.\n",
      "  input = module(input)\n"
     ]
    },
    {
     "name": "stdout",
     "output_type": "stream",
     "text": [
      "Step [0/3]\t loss_instance: 8.139451026916504\t loss_cluster: 3.2958364486694336\n",
      "\n",
      "Epoch [164/500]\t Loss: 11.435284296671549 \n",
      "\n",
      "Step [0/1]\t Computing features...\n",
      "Features shape (1714,)\n",
      "14\n",
      "Test NMI = 0.2319 ARI = 0.1448 F = 0.3120 ACC = 0.4131\n",
      "================================================================\n",
      "\n"
     ]
    },
    {
     "name": "stderr",
     "output_type": "stream",
     "text": [
      "C:\\Users\\Tom-G\\.conda\\envs\\torchenv\\lib\\site-packages\\torch\\nn\\modules\\container.py:141: UserWarning: Implicit dimension choice for softmax has been deprecated. Change the call to include dim=X as an argument.\n",
      "  input = module(input)\n"
     ]
    },
    {
     "name": "stdout",
     "output_type": "stream",
     "text": [
      "Step [0/3]\t loss_instance: 8.139450073242188\t loss_cluster: 3.2958364486694336\n",
      "\n",
      "Epoch [165/500]\t Loss: 11.435284614562988 \n",
      "\n",
      "Step [0/1]\t Computing features...\n",
      "Features shape (1714,)\n",
      "14\n",
      "Test NMI = 0.2322 ARI = 0.1441 F = 0.3115 ACC = 0.4125\n",
      "================================================================\n",
      "\n"
     ]
    },
    {
     "name": "stderr",
     "output_type": "stream",
     "text": [
      "C:\\Users\\Tom-G\\.conda\\envs\\torchenv\\lib\\site-packages\\torch\\nn\\modules\\container.py:141: UserWarning: Implicit dimension choice for softmax has been deprecated. Change the call to include dim=X as an argument.\n",
      "  input = module(input)\n"
     ]
    },
    {
     "name": "stdout",
     "output_type": "stream",
     "text": [
      "Step [0/3]\t loss_instance: 8.139445304870605\t loss_cluster: 3.2958364486694336\n",
      "\n",
      "Epoch [166/500]\t Loss: 11.435283978780111 \n",
      "\n",
      "Step [0/1]\t Computing features...\n",
      "Features shape (1714,)\n",
      "14\n",
      "Test NMI = 0.2309 ARI = 0.1437 F = 0.3120 ACC = 0.4113\n",
      "================================================================\n",
      "\n"
     ]
    },
    {
     "name": "stderr",
     "output_type": "stream",
     "text": [
      "C:\\Users\\Tom-G\\.conda\\envs\\torchenv\\lib\\site-packages\\torch\\nn\\modules\\container.py:141: UserWarning: Implicit dimension choice for softmax has been deprecated. Change the call to include dim=X as an argument.\n",
      "  input = module(input)\n"
     ]
    },
    {
     "name": "stdout",
     "output_type": "stream",
     "text": [
      "Step [0/3]\t loss_instance: 8.139442443847656\t loss_cluster: 3.2958364486694336\n",
      "\n",
      "Epoch [167/500]\t Loss: 11.435280164082846 \n",
      "\n",
      "Step [0/1]\t Computing features...\n",
      "Features shape (1714,)\n",
      "14\n",
      "Test NMI = 0.2311 ARI = 0.1436 F = 0.3124 ACC = 0.4119\n",
      "================================================================\n",
      "\n"
     ]
    },
    {
     "name": "stderr",
     "output_type": "stream",
     "text": [
      "C:\\Users\\Tom-G\\.conda\\envs\\torchenv\\lib\\site-packages\\torch\\nn\\modules\\container.py:141: UserWarning: Implicit dimension choice for softmax has been deprecated. Change the call to include dim=X as an argument.\n",
      "  input = module(input)\n"
     ]
    },
    {
     "name": "stdout",
     "output_type": "stream",
     "text": [
      "Step [0/3]\t loss_instance: 8.139442443847656\t loss_cluster: 3.2958359718322754\n",
      "\n",
      "Epoch [168/500]\t Loss: 11.43527889251709 \n",
      "\n",
      "Step [0/1]\t Computing features...\n",
      "Features shape (1714,)\n",
      "14\n",
      "Test NMI = 0.2304 ARI = 0.1414 F = 0.3105 ACC = 0.4090\n",
      "================================================================\n",
      "\n"
     ]
    },
    {
     "name": "stderr",
     "output_type": "stream",
     "text": [
      "C:\\Users\\Tom-G\\.conda\\envs\\torchenv\\lib\\site-packages\\torch\\nn\\modules\\container.py:141: UserWarning: Implicit dimension choice for softmax has been deprecated. Change the call to include dim=X as an argument.\n",
      "  input = module(input)\n"
     ]
    },
    {
     "name": "stdout",
     "output_type": "stream",
     "text": [
      "Step [0/3]\t loss_instance: 8.139442443847656\t loss_cluster: 3.2958357334136963\n",
      "\n",
      "Epoch [169/500]\t Loss: 11.43527857462565 \n",
      "\n",
      "Step [0/1]\t Computing features...\n",
      "Features shape (1714,)\n",
      "14\n",
      "Test NMI = 0.2258 ARI = 0.1380 F = 0.3097 ACC = 0.4072\n",
      "================================================================\n",
      "\n"
     ]
    },
    {
     "name": "stderr",
     "output_type": "stream",
     "text": [
      "C:\\Users\\Tom-G\\.conda\\envs\\torchenv\\lib\\site-packages\\torch\\nn\\modules\\container.py:141: UserWarning: Implicit dimension choice for softmax has been deprecated. Change the call to include dim=X as an argument.\n",
      "  input = module(input)\n"
     ]
    },
    {
     "name": "stdout",
     "output_type": "stream",
     "text": [
      "Step [0/3]\t loss_instance: 8.139443397521973\t loss_cluster: 3.2958359718322754\n",
      "\n",
      "Epoch [170/500]\t Loss: 11.435280164082846 \n",
      "\n",
      "Step [0/1]\t Computing features...\n",
      "Features shape (1714,)\n",
      "14\n",
      "Test NMI = 0.2309 ARI = 0.1418 F = 0.3113 ACC = 0.4102\n",
      "================================================================\n",
      "\n"
     ]
    },
    {
     "name": "stderr",
     "output_type": "stream",
     "text": [
      "C:\\Users\\Tom-G\\.conda\\envs\\torchenv\\lib\\site-packages\\torch\\nn\\modules\\container.py:141: UserWarning: Implicit dimension choice for softmax has been deprecated. Change the call to include dim=X as an argument.\n",
      "  input = module(input)\n"
     ]
    },
    {
     "name": "stdout",
     "output_type": "stream",
     "text": [
      "Step [0/3]\t loss_instance: 8.139445304870605\t loss_cluster: 3.2958362102508545\n",
      "\n",
      "Epoch [171/500]\t Loss: 11.435281117757162 \n",
      "\n",
      "Step [0/1]\t Computing features...\n",
      "Features shape (1714,)\n",
      "14\n",
      "Test NMI = 0.2324 ARI = 0.1442 F = 0.3132 ACC = 0.4137\n",
      "================================================================\n",
      "\n"
     ]
    },
    {
     "name": "stderr",
     "output_type": "stream",
     "text": [
      "C:\\Users\\Tom-G\\.conda\\envs\\torchenv\\lib\\site-packages\\torch\\nn\\modules\\container.py:141: UserWarning: Implicit dimension choice for softmax has been deprecated. Change the call to include dim=X as an argument.\n",
      "  input = module(input)\n"
     ]
    },
    {
     "name": "stdout",
     "output_type": "stream",
     "text": [
      "Step [0/3]\t loss_instance: 8.139448165893555\t loss_cluster: 3.2958364486694336\n",
      "\n",
      "Epoch [172/500]\t Loss: 11.435281117757162 \n",
      "\n",
      "Step [0/1]\t Computing features...\n",
      "Features shape (1714,)\n",
      "14\n",
      "Test NMI = 0.2333 ARI = 0.1435 F = 0.3128 ACC = 0.4131\n",
      "================================================================\n",
      "\n"
     ]
    },
    {
     "name": "stderr",
     "output_type": "stream",
     "text": [
      "C:\\Users\\Tom-G\\.conda\\envs\\torchenv\\lib\\site-packages\\torch\\nn\\modules\\container.py:141: UserWarning: Implicit dimension choice for softmax has been deprecated. Change the call to include dim=X as an argument.\n",
      "  input = module(input)\n"
     ]
    },
    {
     "name": "stdout",
     "output_type": "stream",
     "text": [
      "Step [0/3]\t loss_instance: 8.139447212219238\t loss_cluster: 3.2958362102508545\n",
      "\n",
      "Epoch [173/500]\t Loss: 11.435280164082846 \n",
      "\n",
      "Step [0/1]\t Computing features...\n",
      "Features shape (1714,)\n",
      "14\n",
      "Test NMI = 0.2326 ARI = 0.1430 F = 0.3136 ACC = 0.4107\n",
      "================================================================\n",
      "\n"
     ]
    },
    {
     "name": "stderr",
     "output_type": "stream",
     "text": [
      "C:\\Users\\Tom-G\\.conda\\envs\\torchenv\\lib\\site-packages\\torch\\nn\\modules\\container.py:141: UserWarning: Implicit dimension choice for softmax has been deprecated. Change the call to include dim=X as an argument.\n",
      "  input = module(input)\n"
     ]
    },
    {
     "name": "stdout",
     "output_type": "stream",
     "text": [
      "Step [0/3]\t loss_instance: 8.13944149017334\t loss_cluster: 3.295835256576538\n",
      "\n",
      "Epoch [174/500]\t Loss: 11.435280164082846 \n",
      "\n",
      "Step [0/1]\t Computing features...\n",
      "Features shape (1714,)\n",
      "14\n",
      "Test NMI = 0.2366 ARI = 0.1472 F = 0.3170 ACC = 0.4148\n",
      "================================================================\n",
      "\n"
     ]
    },
    {
     "name": "stderr",
     "output_type": "stream",
     "text": [
      "C:\\Users\\Tom-G\\.conda\\envs\\torchenv\\lib\\site-packages\\torch\\nn\\modules\\container.py:141: UserWarning: Implicit dimension choice for softmax has been deprecated. Change the call to include dim=X as an argument.\n",
      "  input = module(input)\n"
     ]
    },
    {
     "name": "stdout",
     "output_type": "stream",
     "text": [
      "Step [0/3]\t loss_instance: 8.139445304870605\t loss_cluster: 3.295835256576538\n",
      "\n",
      "Epoch [175/500]\t Loss: 11.435280799865723 \n",
      "\n",
      "Step [0/1]\t Computing features...\n",
      "Features shape (1714,)\n",
      "14\n",
      "Test NMI = 0.2336 ARI = 0.1437 F = 0.3152 ACC = 0.4125\n",
      "================================================================\n",
      "\n"
     ]
    },
    {
     "name": "stderr",
     "output_type": "stream",
     "text": [
      "C:\\Users\\Tom-G\\.conda\\envs\\torchenv\\lib\\site-packages\\torch\\nn\\modules\\container.py:141: UserWarning: Implicit dimension choice for softmax has been deprecated. Change the call to include dim=X as an argument.\n",
      "  input = module(input)\n"
     ]
    },
    {
     "name": "stdout",
     "output_type": "stream",
     "text": [
      "Step [0/3]\t loss_instance: 8.139447212219238\t loss_cluster: 3.295835494995117\n",
      "\n",
      "Epoch [176/500]\t Loss: 11.435280799865723 \n",
      "\n",
      "Step [0/1]\t Computing features...\n",
      "Features shape (1714,)\n",
      "14\n",
      "Test NMI = 0.2315 ARI = 0.1436 F = 0.3157 ACC = 0.4131\n",
      "================================================================\n",
      "\n"
     ]
    },
    {
     "name": "stderr",
     "output_type": "stream",
     "text": [
      "C:\\Users\\Tom-G\\.conda\\envs\\torchenv\\lib\\site-packages\\torch\\nn\\modules\\container.py:141: UserWarning: Implicit dimension choice for softmax has been deprecated. Change the call to include dim=X as an argument.\n",
      "  input = module(input)\n"
     ]
    },
    {
     "name": "stdout",
     "output_type": "stream",
     "text": [
      "Step [0/3]\t loss_instance: 8.139445304870605\t loss_cluster: 3.295835256576538\n",
      "\n",
      "Epoch [177/500]\t Loss: 11.4352814356486 \n",
      "\n",
      "Step [0/1]\t Computing features...\n",
      "Features shape (1714,)\n",
      "14\n",
      "Test NMI = 0.2351 ARI = 0.1491 F = 0.3207 ACC = 0.4183\n",
      "================================================================\n",
      "\n"
     ]
    },
    {
     "name": "stderr",
     "output_type": "stream",
     "text": [
      "C:\\Users\\Tom-G\\.conda\\envs\\torchenv\\lib\\site-packages\\torch\\nn\\modules\\container.py:141: UserWarning: Implicit dimension choice for softmax has been deprecated. Change the call to include dim=X as an argument.\n",
      "  input = module(input)\n"
     ]
    },
    {
     "name": "stdout",
     "output_type": "stream",
     "text": [
      "Step [0/3]\t loss_instance: 8.139446258544922\t loss_cluster: 3.2958359718322754\n",
      "\n",
      "Epoch [178/500]\t Loss: 11.435282389322916 \n",
      "\n",
      "Step [0/1]\t Computing features...\n",
      "Features shape (1714,)\n",
      "14\n",
      "Test NMI = 0.2334 ARI = 0.1486 F = 0.3208 ACC = 0.4166\n",
      "================================================================\n",
      "\n"
     ]
    },
    {
     "name": "stderr",
     "output_type": "stream",
     "text": [
      "C:\\Users\\Tom-G\\.conda\\envs\\torchenv\\lib\\site-packages\\torch\\nn\\modules\\container.py:141: UserWarning: Implicit dimension choice for softmax has been deprecated. Change the call to include dim=X as an argument.\n",
      "  input = module(input)\n"
     ]
    },
    {
     "name": "stdout",
     "output_type": "stream",
     "text": [
      "Step [0/3]\t loss_instance: 8.139445304870605\t loss_cluster: 3.295835494995117\n",
      "\n",
      "Epoch [179/500]\t Loss: 11.435281753540039 \n",
      "\n",
      "Step [0/1]\t Computing features...\n",
      "Features shape (1714,)\n",
      "14\n",
      "Test NMI = 0.2357 ARI = 0.1493 F = 0.3217 ACC = 0.4201\n",
      "================================================================\n",
      "\n"
     ]
    },
    {
     "name": "stderr",
     "output_type": "stream",
     "text": [
      "C:\\Users\\Tom-G\\.conda\\envs\\torchenv\\lib\\site-packages\\torch\\nn\\modules\\container.py:141: UserWarning: Implicit dimension choice for softmax has been deprecated. Change the call to include dim=X as an argument.\n",
      "  input = module(input)\n"
     ]
    },
    {
     "name": "stdout",
     "output_type": "stream",
     "text": [
      "Step [0/3]\t loss_instance: 8.139447212219238\t loss_cluster: 3.2958359718322754\n",
      "\n",
      "Epoch [180/500]\t Loss: 11.435283025105795 \n",
      "\n",
      "Step [0/1]\t Computing features...\n",
      "Features shape (1714,)\n",
      "14\n",
      "Test NMI = 0.2353 ARI = 0.1492 F = 0.3213 ACC = 0.4189\n",
      "================================================================\n",
      "\n"
     ]
    },
    {
     "name": "stderr",
     "output_type": "stream",
     "text": [
      "C:\\Users\\Tom-G\\.conda\\envs\\torchenv\\lib\\site-packages\\torch\\nn\\modules\\container.py:141: UserWarning: Implicit dimension choice for softmax has been deprecated. Change the call to include dim=X as an argument.\n",
      "  input = module(input)\n"
     ]
    },
    {
     "name": "stdout",
     "output_type": "stream",
     "text": [
      "Step [0/3]\t loss_instance: 8.139447212219238\t loss_cluster: 3.2958359718322754\n",
      "\n",
      "Epoch [181/500]\t Loss: 11.435283978780111 \n",
      "\n",
      "Step [0/1]\t Computing features...\n",
      "Features shape (1714,)\n",
      "14\n",
      "Test NMI = 0.2315 ARI = 0.1464 F = 0.3194 ACC = 0.4125\n",
      "================================================================\n",
      "\n"
     ]
    },
    {
     "name": "stderr",
     "output_type": "stream",
     "text": [
      "C:\\Users\\Tom-G\\.conda\\envs\\torchenv\\lib\\site-packages\\torch\\nn\\modules\\container.py:141: UserWarning: Implicit dimension choice for softmax has been deprecated. Change the call to include dim=X as an argument.\n",
      "  input = module(input)\n"
     ]
    },
    {
     "name": "stdout",
     "output_type": "stream",
     "text": [
      "Step [0/3]\t loss_instance: 8.139445304870605\t loss_cluster: 3.2958362102508545\n",
      "\n",
      "Epoch [182/500]\t Loss: 11.435279846191406 \n",
      "\n",
      "Step [0/1]\t Computing features...\n",
      "Features shape (1714,)\n",
      "14\n",
      "Test NMI = 0.2303 ARI = 0.1463 F = 0.3190 ACC = 0.4125\n",
      "================================================================\n",
      "\n"
     ]
    },
    {
     "name": "stderr",
     "output_type": "stream",
     "text": [
      "C:\\Users\\Tom-G\\.conda\\envs\\torchenv\\lib\\site-packages\\torch\\nn\\modules\\container.py:141: UserWarning: Implicit dimension choice for softmax has been deprecated. Change the call to include dim=X as an argument.\n",
      "  input = module(input)\n"
     ]
    },
    {
     "name": "stdout",
     "output_type": "stream",
     "text": [
      "Step [0/3]\t loss_instance: 8.139442443847656\t loss_cluster: 3.2958359718322754\n",
      "\n",
      "Epoch [183/500]\t Loss: 11.435278256734213 \n",
      "\n",
      "Step [0/1]\t Computing features...\n",
      "Features shape (1714,)\n",
      "14\n",
      "Test NMI = 0.2375 ARI = 0.1512 F = 0.3229 ACC = 0.4201\n",
      "================================================================\n",
      "\n"
     ]
    },
    {
     "name": "stderr",
     "output_type": "stream",
     "text": [
      "C:\\Users\\Tom-G\\.conda\\envs\\torchenv\\lib\\site-packages\\torch\\nn\\modules\\container.py:141: UserWarning: Implicit dimension choice for softmax has been deprecated. Change the call to include dim=X as an argument.\n",
      "  input = module(input)\n"
     ]
    },
    {
     "name": "stdout",
     "output_type": "stream",
     "text": [
      "Step [0/3]\t loss_instance: 8.139444351196289\t loss_cluster: 3.2958359718322754\n",
      "\n",
      "Epoch [184/500]\t Loss: 11.43527921040853 \n",
      "\n",
      "Step [0/1]\t Computing features...\n",
      "Features shape (1714,)\n",
      "14\n",
      "Test NMI = 0.2385 ARI = 0.1510 F = 0.3232 ACC = 0.4201\n",
      "================================================================\n",
      "\n"
     ]
    },
    {
     "name": "stderr",
     "output_type": "stream",
     "text": [
      "C:\\Users\\Tom-G\\.conda\\envs\\torchenv\\lib\\site-packages\\torch\\nn\\modules\\container.py:141: UserWarning: Implicit dimension choice for softmax has been deprecated. Change the call to include dim=X as an argument.\n",
      "  input = module(input)\n"
     ]
    },
    {
     "name": "stdout",
     "output_type": "stream",
     "text": [
      "Step [0/3]\t loss_instance: 8.139444351196289\t loss_cluster: 3.295835494995117\n",
      "\n",
      "Epoch [185/500]\t Loss: 11.435280164082846 \n",
      "\n",
      "Step [0/1]\t Computing features...\n",
      "Features shape (1714,)\n",
      "14\n",
      "Test NMI = 0.2346 ARI = 0.1485 F = 0.3221 ACC = 0.4166\n",
      "================================================================\n",
      "\n"
     ]
    },
    {
     "name": "stderr",
     "output_type": "stream",
     "text": [
      "C:\\Users\\Tom-G\\.conda\\envs\\torchenv\\lib\\site-packages\\torch\\nn\\modules\\container.py:141: UserWarning: Implicit dimension choice for softmax has been deprecated. Change the call to include dim=X as an argument.\n",
      "  input = module(input)\n"
     ]
    },
    {
     "name": "stdout",
     "output_type": "stream",
     "text": [
      "Step [0/3]\t loss_instance: 8.139442443847656\t loss_cluster: 3.295835256576538\n",
      "\n",
      "Epoch [186/500]\t Loss: 11.435278256734213 \n",
      "\n",
      "Step [0/1]\t Computing features...\n",
      "Features shape (1714,)\n",
      "14\n",
      "Test NMI = 0.2358 ARI = 0.1480 F = 0.3226 ACC = 0.4148\n",
      "================================================================\n",
      "\n"
     ]
    },
    {
     "name": "stderr",
     "output_type": "stream",
     "text": [
      "C:\\Users\\Tom-G\\.conda\\envs\\torchenv\\lib\\site-packages\\torch\\nn\\modules\\container.py:141: UserWarning: Implicit dimension choice for softmax has been deprecated. Change the call to include dim=X as an argument.\n",
      "  input = module(input)\n"
     ]
    },
    {
     "name": "stdout",
     "output_type": "stream",
     "text": [
      "Step [0/3]\t loss_instance: 8.139440536499023\t loss_cluster: 3.2958359718322754\n",
      "\n",
      "Epoch [187/500]\t Loss: 11.43527889251709 \n",
      "\n",
      "Step [0/1]\t Computing features...\n",
      "Features shape (1714,)\n",
      "14\n",
      "Test NMI = 0.2419 ARI = 0.1555 F = 0.3274 ACC = 0.4242\n",
      "================================================================\n",
      "\n"
     ]
    },
    {
     "name": "stderr",
     "output_type": "stream",
     "text": [
      "C:\\Users\\Tom-G\\.conda\\envs\\torchenv\\lib\\site-packages\\torch\\nn\\modules\\container.py:141: UserWarning: Implicit dimension choice for softmax has been deprecated. Change the call to include dim=X as an argument.\n",
      "  input = module(input)\n"
     ]
    },
    {
     "name": "stdout",
     "output_type": "stream",
     "text": [
      "Step [0/3]\t loss_instance: 8.139442443847656\t loss_cluster: 3.295835018157959\n",
      "\n",
      "Epoch [188/500]\t Loss: 11.435279528299967 \n",
      "\n",
      "Step [0/1]\t Computing features...\n",
      "Features shape (1714,)\n",
      "14\n",
      "Test NMI = 0.2418 ARI = 0.1558 F = 0.3274 ACC = 0.4247\n",
      "================================================================\n",
      "\n"
     ]
    },
    {
     "name": "stderr",
     "output_type": "stream",
     "text": [
      "C:\\Users\\Tom-G\\.conda\\envs\\torchenv\\lib\\site-packages\\torch\\nn\\modules\\container.py:141: UserWarning: Implicit dimension choice for softmax has been deprecated. Change the call to include dim=X as an argument.\n",
      "  input = module(input)\n"
     ]
    },
    {
     "name": "stdout",
     "output_type": "stream",
     "text": [
      "Step [0/3]\t loss_instance: 8.139445304870605\t loss_cluster: 3.295835018157959\n",
      "\n",
      "Epoch [189/500]\t Loss: 11.435280164082846 \n",
      "\n",
      "Step [0/1]\t Computing features...\n",
      "Features shape (1714,)\n",
      "14\n",
      "Test NMI = 0.2425 ARI = 0.1562 F = 0.3276 ACC = 0.4236\n",
      "================================================================\n",
      "\n"
     ]
    },
    {
     "name": "stderr",
     "output_type": "stream",
     "text": [
      "C:\\Users\\Tom-G\\.conda\\envs\\torchenv\\lib\\site-packages\\torch\\nn\\modules\\container.py:141: UserWarning: Implicit dimension choice for softmax has been deprecated. Change the call to include dim=X as an argument.\n",
      "  input = module(input)\n"
     ]
    },
    {
     "name": "stdout",
     "output_type": "stream",
     "text": [
      "Step [0/3]\t loss_instance: 8.139447212219238\t loss_cluster: 3.295835256576538\n",
      "\n",
      "Epoch [190/500]\t Loss: 11.435280481974283 \n",
      "\n",
      "Step [0/1]\t Computing features...\n",
      "Features shape (1714,)\n",
      "14\n",
      "Test NMI = 0.2455 ARI = 0.1583 F = 0.3299 ACC = 0.4247\n",
      "================================================================\n",
      "\n"
     ]
    },
    {
     "name": "stderr",
     "output_type": "stream",
     "text": [
      "C:\\Users\\Tom-G\\.conda\\envs\\torchenv\\lib\\site-packages\\torch\\nn\\modules\\container.py:141: UserWarning: Implicit dimension choice for softmax has been deprecated. Change the call to include dim=X as an argument.\n",
      "  input = module(input)\n"
     ]
    },
    {
     "name": "stdout",
     "output_type": "stream",
     "text": [
      "Step [0/3]\t loss_instance: 8.139448165893555\t loss_cluster: 3.2958362102508545\n",
      "\n",
      "Epoch [191/500]\t Loss: 11.435283342997232 \n",
      "\n",
      "Step [0/1]\t Computing features...\n",
      "Features shape (1714,)\n",
      "14\n",
      "Test NMI = 0.2475 ARI = 0.1590 F = 0.3308 ACC = 0.4242\n",
      "================================================================\n",
      "\n"
     ]
    },
    {
     "name": "stderr",
     "output_type": "stream",
     "text": [
      "C:\\Users\\Tom-G\\.conda\\envs\\torchenv\\lib\\site-packages\\torch\\nn\\modules\\container.py:141: UserWarning: Implicit dimension choice for softmax has been deprecated. Change the call to include dim=X as an argument.\n",
      "  input = module(input)\n"
     ]
    },
    {
     "name": "stdout",
     "output_type": "stream",
     "text": [
      "Step [0/3]\t loss_instance: 8.139447212219238\t loss_cluster: 3.295835494995117\n",
      "\n",
      "Epoch [192/500]\t Loss: 11.435284614562988 \n",
      "\n",
      "Step [0/1]\t Computing features...\n",
      "Features shape (1714,)\n",
      "14\n",
      "Test NMI = 0.2483 ARI = 0.1596 F = 0.3329 ACC = 0.4247\n",
      "================================================================\n",
      "\n"
     ]
    },
    {
     "name": "stderr",
     "output_type": "stream",
     "text": [
      "C:\\Users\\Tom-G\\.conda\\envs\\torchenv\\lib\\site-packages\\torch\\nn\\modules\\container.py:141: UserWarning: Implicit dimension choice for softmax has been deprecated. Change the call to include dim=X as an argument.\n",
      "  input = module(input)\n"
     ]
    },
    {
     "name": "stdout",
     "output_type": "stream",
     "text": [
      "Step [0/3]\t loss_instance: 8.139449119567871\t loss_cluster: 3.295835018157959\n",
      "\n",
      "Epoch [193/500]\t Loss: 11.435284614562988 \n",
      "\n",
      "Step [0/1]\t Computing features...\n",
      "Features shape (1714,)\n",
      "14\n",
      "Test NMI = 0.2446 ARI = 0.1567 F = 0.3308 ACC = 0.4224\n",
      "================================================================\n",
      "\n"
     ]
    },
    {
     "name": "stderr",
     "output_type": "stream",
     "text": [
      "C:\\Users\\Tom-G\\.conda\\envs\\torchenv\\lib\\site-packages\\torch\\nn\\modules\\container.py:141: UserWarning: Implicit dimension choice for softmax has been deprecated. Change the call to include dim=X as an argument.\n",
      "  input = module(input)\n"
     ]
    },
    {
     "name": "stdout",
     "output_type": "stream",
     "text": [
      "Step [0/3]\t loss_instance: 8.139450073242188\t loss_cluster: 3.295835494995117\n",
      "\n",
      "Epoch [194/500]\t Loss: 11.435285568237305 \n",
      "\n",
      "Step [0/1]\t Computing features...\n",
      "Features shape (1714,)\n",
      "14\n",
      "Test NMI = 0.2477 ARI = 0.1607 F = 0.3345 ACC = 0.4236\n",
      "================================================================\n",
      "\n"
     ]
    },
    {
     "name": "stderr",
     "output_type": "stream",
     "text": [
      "C:\\Users\\Tom-G\\.conda\\envs\\torchenv\\lib\\site-packages\\torch\\nn\\modules\\container.py:141: UserWarning: Implicit dimension choice for softmax has been deprecated. Change the call to include dim=X as an argument.\n",
      "  input = module(input)\n"
     ]
    },
    {
     "name": "stdout",
     "output_type": "stream",
     "text": [
      "Step [0/3]\t loss_instance: 8.139446258544922\t loss_cluster: 3.295835256576538\n",
      "\n",
      "Epoch [195/500]\t Loss: 11.435286204020182 \n",
      "\n",
      "Step [0/1]\t Computing features...\n",
      "Features shape (1714,)\n",
      "14\n",
      "Test NMI = 0.2497 ARI = 0.1632 F = 0.3367 ACC = 0.4271\n",
      "================================================================\n",
      "\n"
     ]
    },
    {
     "name": "stderr",
     "output_type": "stream",
     "text": [
      "C:\\Users\\Tom-G\\.conda\\envs\\torchenv\\lib\\site-packages\\torch\\nn\\modules\\container.py:141: UserWarning: Implicit dimension choice for softmax has been deprecated. Change the call to include dim=X as an argument.\n",
      "  input = module(input)\n"
     ]
    },
    {
     "name": "stdout",
     "output_type": "stream",
     "text": [
      "Step [0/3]\t loss_instance: 8.139452934265137\t loss_cluster: 3.295835018157959\n",
      "\n",
      "Epoch [196/500]\t Loss: 11.435285250345865 \n",
      "\n",
      "Step [0/1]\t Computing features...\n",
      "Features shape (1714,)\n",
      "14\n",
      "Test NMI = 0.2492 ARI = 0.1634 F = 0.3373 ACC = 0.4265\n",
      "================================================================\n",
      "\n"
     ]
    },
    {
     "name": "stderr",
     "output_type": "stream",
     "text": [
      "C:\\Users\\Tom-G\\.conda\\envs\\torchenv\\lib\\site-packages\\torch\\nn\\modules\\container.py:141: UserWarning: Implicit dimension choice for softmax has been deprecated. Change the call to include dim=X as an argument.\n",
      "  input = module(input)\n"
     ]
    },
    {
     "name": "stdout",
     "output_type": "stream",
     "text": [
      "Step [0/3]\t loss_instance: 8.139448165893555\t loss_cluster: 3.2958357334136963\n",
      "\n",
      "Epoch [197/500]\t Loss: 11.435281753540039 \n",
      "\n",
      "Step [0/1]\t Computing features...\n",
      "Features shape (1714,)\n",
      "14\n",
      "Test NMI = 0.2509 ARI = 0.1638 F = 0.3381 ACC = 0.4265\n",
      "================================================================\n",
      "\n"
     ]
    },
    {
     "name": "stderr",
     "output_type": "stream",
     "text": [
      "C:\\Users\\Tom-G\\.conda\\envs\\torchenv\\lib\\site-packages\\torch\\nn\\modules\\container.py:141: UserWarning: Implicit dimension choice for softmax has been deprecated. Change the call to include dim=X as an argument.\n",
      "  input = module(input)\n"
     ]
    },
    {
     "name": "stdout",
     "output_type": "stream",
     "text": [
      "Step [0/3]\t loss_instance: 8.139446258544922\t loss_cluster: 3.295835256576538\n",
      "\n",
      "Epoch [198/500]\t Loss: 11.435284296671549 \n",
      "\n",
      "Step [0/1]\t Computing features...\n",
      "Features shape (1714,)\n",
      "14\n",
      "Test NMI = 0.2530 ARI = 0.1683 F = 0.3435 ACC = 0.4323\n",
      "================================================================\n",
      "\n"
     ]
    },
    {
     "name": "stderr",
     "output_type": "stream",
     "text": [
      "C:\\Users\\Tom-G\\.conda\\envs\\torchenv\\lib\\site-packages\\torch\\nn\\modules\\container.py:141: UserWarning: Implicit dimension choice for softmax has been deprecated. Change the call to include dim=X as an argument.\n",
      "  input = module(input)\n"
     ]
    },
    {
     "name": "stdout",
     "output_type": "stream",
     "text": [
      "Step [0/3]\t loss_instance: 8.139448165893555\t loss_cluster: 3.29583477973938\n",
      "\n",
      "Epoch [199/500]\t Loss: 11.435283025105795 \n",
      "\n",
      "Step [0/1]\t Computing features...\n",
      "Features shape (1714,)\n",
      "14\n",
      "Test NMI = 0.2521 ARI = 0.1699 F = 0.3444 ACC = 0.4317\n",
      "================================================================\n",
      "\n"
     ]
    },
    {
     "name": "stderr",
     "output_type": "stream",
     "text": [
      "C:\\Users\\Tom-G\\.conda\\envs\\torchenv\\lib\\site-packages\\torch\\nn\\modules\\container.py:141: UserWarning: Implicit dimension choice for softmax has been deprecated. Change the call to include dim=X as an argument.\n",
      "  input = module(input)\n"
     ]
    },
    {
     "name": "stdout",
     "output_type": "stream",
     "text": [
      "Step [0/3]\t loss_instance: 8.139453887939453\t loss_cluster: 3.2958357334136963\n",
      "\n",
      "Epoch [200/500]\t Loss: 11.435286521911621 \n",
      "\n",
      "Step [0/1]\t Computing features...\n",
      "Features shape (1714,)\n",
      "14\n",
      "Test NMI = 0.2534 ARI = 0.1715 F = 0.3454 ACC = 0.4335\n",
      "================================================================\n",
      "\n"
     ]
    },
    {
     "name": "stderr",
     "output_type": "stream",
     "text": [
      "C:\\Users\\Tom-G\\.conda\\envs\\torchenv\\lib\\site-packages\\torch\\nn\\modules\\container.py:141: UserWarning: Implicit dimension choice for softmax has been deprecated. Change the call to include dim=X as an argument.\n",
      "  input = module(input)\n"
     ]
    },
    {
     "name": "stdout",
     "output_type": "stream",
     "text": [
      "Step [0/3]\t loss_instance: 8.139444351196289\t loss_cluster: 3.295835018157959\n",
      "\n",
      "Epoch [201/500]\t Loss: 11.435280799865723 \n",
      "\n",
      "Step [0/1]\t Computing features...\n",
      "Features shape (1714,)\n",
      "14\n",
      "Test NMI = 0.2544 ARI = 0.1701 F = 0.3446 ACC = 0.4323\n",
      "================================================================\n",
      "\n"
     ]
    },
    {
     "name": "stderr",
     "output_type": "stream",
     "text": [
      "C:\\Users\\Tom-G\\.conda\\envs\\torchenv\\lib\\site-packages\\torch\\nn\\modules\\container.py:141: UserWarning: Implicit dimension choice for softmax has been deprecated. Change the call to include dim=X as an argument.\n",
      "  input = module(input)\n"
     ]
    },
    {
     "name": "stdout",
     "output_type": "stream",
     "text": [
      "Step [0/3]\t loss_instance: 8.139449119567871\t loss_cluster: 3.2958357334136963\n",
      "\n",
      "Epoch [202/500]\t Loss: 11.435280481974283 \n",
      "\n",
      "Step [0/1]\t Computing features...\n",
      "Features shape (1714,)\n",
      "14\n",
      "Test NMI = 0.2543 ARI = 0.1718 F = 0.3465 ACC = 0.4347\n",
      "================================================================\n",
      "\n"
     ]
    },
    {
     "name": "stderr",
     "output_type": "stream",
     "text": [
      "C:\\Users\\Tom-G\\.conda\\envs\\torchenv\\lib\\site-packages\\torch\\nn\\modules\\container.py:141: UserWarning: Implicit dimension choice for softmax has been deprecated. Change the call to include dim=X as an argument.\n",
      "  input = module(input)\n"
     ]
    },
    {
     "name": "stdout",
     "output_type": "stream",
     "text": [
      "Step [0/3]\t loss_instance: 8.139442443847656\t loss_cluster: 3.295835256576538\n",
      "\n",
      "Epoch [203/500]\t Loss: 11.435279528299967 \n",
      "\n",
      "Step [0/1]\t Computing features...\n",
      "Features shape (1714,)\n",
      "14\n",
      "Test NMI = 0.2543 ARI = 0.1716 F = 0.3466 ACC = 0.4323\n",
      "================================================================\n",
      "\n"
     ]
    },
    {
     "name": "stderr",
     "output_type": "stream",
     "text": [
      "C:\\Users\\Tom-G\\.conda\\envs\\torchenv\\lib\\site-packages\\torch\\nn\\modules\\container.py:141: UserWarning: Implicit dimension choice for softmax has been deprecated. Change the call to include dim=X as an argument.\n",
      "  input = module(input)\n"
     ]
    },
    {
     "name": "stdout",
     "output_type": "stream",
     "text": [
      "Step [0/3]\t loss_instance: 8.13944149017334\t loss_cluster: 3.295835256576538\n",
      "\n",
      "Epoch [204/500]\t Loss: 11.435282707214355 \n",
      "\n",
      "Step [0/1]\t Computing features...\n",
      "Features shape (1714,)\n",
      "14\n",
      "Test NMI = 0.2544 ARI = 0.1705 F = 0.3470 ACC = 0.4317\n",
      "================================================================\n",
      "\n"
     ]
    },
    {
     "name": "stderr",
     "output_type": "stream",
     "text": [
      "C:\\Users\\Tom-G\\.conda\\envs\\torchenv\\lib\\site-packages\\torch\\nn\\modules\\container.py:141: UserWarning: Implicit dimension choice for softmax has been deprecated. Change the call to include dim=X as an argument.\n",
      "  input = module(input)\n"
     ]
    },
    {
     "name": "stdout",
     "output_type": "stream",
     "text": [
      "Step [0/3]\t loss_instance: 8.139449119567871\t loss_cluster: 3.295835256576538\n",
      "\n",
      "Epoch [205/500]\t Loss: 11.435283025105795 \n",
      "\n",
      "Step [0/1]\t Computing features...\n",
      "Features shape (1714,)\n",
      "14\n",
      "Test NMI = 0.2616 ARI = 0.1744 F = 0.3491 ACC = 0.4341\n",
      "================================================================\n",
      "\n"
     ]
    },
    {
     "name": "stderr",
     "output_type": "stream",
     "text": [
      "C:\\Users\\Tom-G\\.conda\\envs\\torchenv\\lib\\site-packages\\torch\\nn\\modules\\container.py:141: UserWarning: Implicit dimension choice for softmax has been deprecated. Change the call to include dim=X as an argument.\n",
      "  input = module(input)\n"
     ]
    },
    {
     "name": "stdout",
     "output_type": "stream",
     "text": [
      "Step [0/3]\t loss_instance: 8.139447212219238\t loss_cluster: 3.295835494995117\n",
      "\n",
      "Epoch [206/500]\t Loss: 11.435282389322916 \n",
      "\n",
      "Step [0/1]\t Computing features...\n",
      "Features shape (1714,)\n",
      "14\n",
      "Test NMI = 0.2624 ARI = 0.1740 F = 0.3502 ACC = 0.4341\n",
      "================================================================\n",
      "\n"
     ]
    },
    {
     "name": "stderr",
     "output_type": "stream",
     "text": [
      "C:\\Users\\Tom-G\\.conda\\envs\\torchenv\\lib\\site-packages\\torch\\nn\\modules\\container.py:141: UserWarning: Implicit dimension choice for softmax has been deprecated. Change the call to include dim=X as an argument.\n",
      "  input = module(input)\n"
     ]
    },
    {
     "name": "stdout",
     "output_type": "stream",
     "text": [
      "Step [0/3]\t loss_instance: 8.139455795288086\t loss_cluster: 3.295835018157959\n",
      "\n",
      "Epoch [207/500]\t Loss: 11.435287157694498 \n",
      "\n",
      "Step [0/1]\t Computing features...\n",
      "Features shape (1714,)\n",
      "14\n",
      "Test NMI = 0.2667 ARI = 0.1785 F = 0.3543 ACC = 0.4370\n",
      "================================================================\n",
      "\n"
     ]
    },
    {
     "name": "stderr",
     "output_type": "stream",
     "text": [
      "C:\\Users\\Tom-G\\.conda\\envs\\torchenv\\lib\\site-packages\\torch\\nn\\modules\\container.py:141: UserWarning: Implicit dimension choice for softmax has been deprecated. Change the call to include dim=X as an argument.\n",
      "  input = module(input)\n"
     ]
    },
    {
     "name": "stdout",
     "output_type": "stream",
     "text": [
      "Step [0/3]\t loss_instance: 8.139448165893555\t loss_cluster: 3.295834541320801\n",
      "\n",
      "Epoch [208/500]\t Loss: 11.435284614562988 \n",
      "\n",
      "Step [0/1]\t Computing features...\n",
      "Features shape (1714,)\n",
      "14\n",
      "Test NMI = 0.2683 ARI = 0.1820 F = 0.3575 ACC = 0.4405\n",
      "================================================================\n",
      "\n"
     ]
    },
    {
     "name": "stderr",
     "output_type": "stream",
     "text": [
      "C:\\Users\\Tom-G\\.conda\\envs\\torchenv\\lib\\site-packages\\torch\\nn\\modules\\container.py:141: UserWarning: Implicit dimension choice for softmax has been deprecated. Change the call to include dim=X as an argument.\n",
      "  input = module(input)\n"
     ]
    },
    {
     "name": "stdout",
     "output_type": "stream",
     "text": [
      "Step [0/3]\t loss_instance: 8.139447212219238\t loss_cluster: 3.295835018157959\n",
      "\n",
      "Epoch [209/500]\t Loss: 11.435283342997232 \n",
      "\n",
      "Step [0/1]\t Computing features...\n",
      "Features shape (1714,)\n",
      "14\n",
      "Test NMI = 0.2678 ARI = 0.1807 F = 0.3575 ACC = 0.4382\n",
      "================================================================\n",
      "\n"
     ]
    },
    {
     "name": "stderr",
     "output_type": "stream",
     "text": [
      "C:\\Users\\Tom-G\\.conda\\envs\\torchenv\\lib\\site-packages\\torch\\nn\\modules\\container.py:141: UserWarning: Implicit dimension choice for softmax has been deprecated. Change the call to include dim=X as an argument.\n",
      "  input = module(input)\n"
     ]
    },
    {
     "name": "stdout",
     "output_type": "stream",
     "text": [
      "Step [0/3]\t loss_instance: 8.139444351196289\t loss_cluster: 3.295835018157959\n",
      "\n",
      "Epoch [210/500]\t Loss: 11.435279528299967 \n",
      "\n",
      "Step [0/1]\t Computing features...\n",
      "Features shape (1714,)\n",
      "14\n",
      "Test NMI = 0.2750 ARI = 0.1900 F = 0.3654 ACC = 0.4475\n",
      "================================================================\n",
      "\n"
     ]
    },
    {
     "name": "stderr",
     "output_type": "stream",
     "text": [
      "C:\\Users\\Tom-G\\.conda\\envs\\torchenv\\lib\\site-packages\\torch\\nn\\modules\\container.py:141: UserWarning: Implicit dimension choice for softmax has been deprecated. Change the call to include dim=X as an argument.\n",
      "  input = module(input)\n"
     ]
    },
    {
     "name": "stdout",
     "output_type": "stream",
     "text": [
      "Step [0/3]\t loss_instance: 8.139445304870605\t loss_cluster: 3.295835018157959\n",
      "\n",
      "Epoch [211/500]\t Loss: 11.435280164082846 \n",
      "\n",
      "Step [0/1]\t Computing features...\n",
      "Features shape (1714,)\n",
      "14\n",
      "Test NMI = 0.2707 ARI = 0.1853 F = 0.3631 ACC = 0.4434\n",
      "================================================================\n",
      "\n"
     ]
    },
    {
     "name": "stderr",
     "output_type": "stream",
     "text": [
      "C:\\Users\\Tom-G\\.conda\\envs\\torchenv\\lib\\site-packages\\torch\\nn\\modules\\container.py:141: UserWarning: Implicit dimension choice for softmax has been deprecated. Change the call to include dim=X as an argument.\n",
      "  input = module(input)\n"
     ]
    },
    {
     "name": "stdout",
     "output_type": "stream",
     "text": [
      "Step [0/3]\t loss_instance: 8.139444351196289\t loss_cluster: 3.29583477973938\n",
      "\n",
      "Epoch [212/500]\t Loss: 11.435281753540039 \n",
      "\n",
      "Step [0/1]\t Computing features...\n",
      "Features shape (1714,)\n",
      "14\n",
      "Test NMI = 0.2680 ARI = 0.1821 F = 0.3612 ACC = 0.4376\n",
      "================================================================\n",
      "\n"
     ]
    },
    {
     "name": "stderr",
     "output_type": "stream",
     "text": [
      "C:\\Users\\Tom-G\\.conda\\envs\\torchenv\\lib\\site-packages\\torch\\nn\\modules\\container.py:141: UserWarning: Implicit dimension choice for softmax has been deprecated. Change the call to include dim=X as an argument.\n",
      "  input = module(input)\n"
     ]
    },
    {
     "name": "stdout",
     "output_type": "stream",
     "text": [
      "Step [0/3]\t loss_instance: 8.139449119567871\t loss_cluster: 3.295834541320801\n",
      "\n",
      "Epoch [213/500]\t Loss: 11.435279846191406 \n",
      "\n",
      "Step [0/1]\t Computing features...\n",
      "Features shape (1714,)\n",
      "14\n",
      "Test NMI = 0.2708 ARI = 0.1839 F = 0.3627 ACC = 0.4387\n",
      "================================================================\n",
      "\n"
     ]
    },
    {
     "name": "stderr",
     "output_type": "stream",
     "text": [
      "C:\\Users\\Tom-G\\.conda\\envs\\torchenv\\lib\\site-packages\\torch\\nn\\modules\\container.py:141: UserWarning: Implicit dimension choice for softmax has been deprecated. Change the call to include dim=X as an argument.\n",
      "  input = module(input)\n"
     ]
    },
    {
     "name": "stdout",
     "output_type": "stream",
     "text": [
      "Step [0/3]\t loss_instance: 8.139450073242188\t loss_cluster: 3.2958340644836426\n",
      "\n",
      "Epoch [214/500]\t Loss: 11.435281753540039 \n",
      "\n",
      "Step [0/1]\t Computing features...\n",
      "Features shape (1714,)\n",
      "14\n",
      "Test NMI = 0.2742 ARI = 0.1918 F = 0.3695 ACC = 0.4481\n",
      "================================================================\n",
      "\n"
     ]
    },
    {
     "name": "stderr",
     "output_type": "stream",
     "text": [
      "C:\\Users\\Tom-G\\.conda\\envs\\torchenv\\lib\\site-packages\\torch\\nn\\modules\\container.py:141: UserWarning: Implicit dimension choice for softmax has been deprecated. Change the call to include dim=X as an argument.\n",
      "  input = module(input)\n"
     ]
    },
    {
     "name": "stdout",
     "output_type": "stream",
     "text": [
      "Step [0/3]\t loss_instance: 8.139442443847656\t loss_cluster: 3.295834541320801\n",
      "\n",
      "Epoch [215/500]\t Loss: 11.435281753540039 \n",
      "\n",
      "Step [0/1]\t Computing features...\n",
      "Features shape (1714,)\n",
      "14\n",
      "Test NMI = 0.2811 ARI = 0.1944 F = 0.3728 ACC = 0.4510\n",
      "================================================================\n",
      "\n"
     ]
    },
    {
     "name": "stderr",
     "output_type": "stream",
     "text": [
      "C:\\Users\\Tom-G\\.conda\\envs\\torchenv\\lib\\site-packages\\torch\\nn\\modules\\container.py:141: UserWarning: Implicit dimension choice for softmax has been deprecated. Change the call to include dim=X as an argument.\n",
      "  input = module(input)\n"
     ]
    },
    {
     "name": "stdout",
     "output_type": "stream",
     "text": [
      "Step [0/3]\t loss_instance: 8.13944149017334\t loss_cluster: 3.29583477973938\n",
      "\n",
      "Epoch [216/500]\t Loss: 11.4352814356486 \n",
      "\n",
      "Step [0/1]\t Computing features...\n",
      "Features shape (1714,)\n",
      "14\n",
      "Test NMI = 0.2847 ARI = 0.1994 F = 0.3793 ACC = 0.0875\n",
      "================================================================\n",
      "\n"
     ]
    },
    {
     "name": "stderr",
     "output_type": "stream",
     "text": [
      "C:\\Users\\Tom-G\\.conda\\envs\\torchenv\\lib\\site-packages\\torch\\nn\\modules\\container.py:141: UserWarning: Implicit dimension choice for softmax has been deprecated. Change the call to include dim=X as an argument.\n",
      "  input = module(input)\n"
     ]
    },
    {
     "name": "stdout",
     "output_type": "stream",
     "text": [
      "Step [0/3]\t loss_instance: 8.139445304870605\t loss_cluster: 3.295834541320801\n",
      "\n",
      "Epoch [217/500]\t Loss: 11.43527921040853 \n",
      "\n",
      "Step [0/1]\t Computing features...\n",
      "Features shape (1714,)\n",
      "14\n",
      "Test NMI = 0.2856 ARI = 0.2012 F = 0.3819 ACC = 0.0945\n",
      "================================================================\n",
      "\n"
     ]
    },
    {
     "name": "stderr",
     "output_type": "stream",
     "text": [
      "C:\\Users\\Tom-G\\.conda\\envs\\torchenv\\lib\\site-packages\\torch\\nn\\modules\\container.py:141: UserWarning: Implicit dimension choice for softmax has been deprecated. Change the call to include dim=X as an argument.\n",
      "  input = module(input)\n"
     ]
    },
    {
     "name": "stdout",
     "output_type": "stream",
     "text": [
      "Step [0/3]\t loss_instance: 8.139444351196289\t loss_cluster: 3.29583477973938\n",
      "\n",
      "Epoch [218/500]\t Loss: 11.435276667277018 \n",
      "\n",
      "Step [0/1]\t Computing features...\n",
      "Features shape (1714,)\n",
      "14\n",
      "Test NMI = 0.2897 ARI = 0.2079 F = 0.3885 ACC = 0.0858\n",
      "================================================================\n",
      "\n"
     ]
    },
    {
     "name": "stderr",
     "output_type": "stream",
     "text": [
      "C:\\Users\\Tom-G\\.conda\\envs\\torchenv\\lib\\site-packages\\torch\\nn\\modules\\container.py:141: UserWarning: Implicit dimension choice for softmax has been deprecated. Change the call to include dim=X as an argument.\n",
      "  input = module(input)\n"
     ]
    },
    {
     "name": "stdout",
     "output_type": "stream",
     "text": [
      "Step [0/3]\t loss_instance: 8.139443397521973\t loss_cluster: 3.295834541320801\n",
      "\n",
      "Epoch [219/500]\t Loss: 11.43527857462565 \n",
      "\n",
      "Step [0/1]\t Computing features...\n",
      "Features shape (1714,)\n",
      "14\n",
      "Test NMI = 0.2955 ARI = 0.2153 F = 0.3966 ACC = 0.0928\n",
      "================================================================\n",
      "\n"
     ]
    },
    {
     "name": "stderr",
     "output_type": "stream",
     "text": [
      "C:\\Users\\Tom-G\\.conda\\envs\\torchenv\\lib\\site-packages\\torch\\nn\\modules\\container.py:141: UserWarning: Implicit dimension choice for softmax has been deprecated. Change the call to include dim=X as an argument.\n",
      "  input = module(input)\n"
     ]
    },
    {
     "name": "stdout",
     "output_type": "stream",
     "text": [
      "Step [0/3]\t loss_instance: 8.139445304870605\t loss_cluster: 3.29583477973938\n",
      "\n",
      "Epoch [220/500]\t Loss: 11.43527857462565 \n",
      "\n",
      "Step [0/1]\t Computing features...\n",
      "Features shape (1714,)\n",
      "14\n",
      "Test NMI = 0.2967 ARI = 0.2150 F = 0.3974 ACC = 0.0945\n",
      "================================================================\n",
      "\n"
     ]
    },
    {
     "name": "stderr",
     "output_type": "stream",
     "text": [
      "C:\\Users\\Tom-G\\.conda\\envs\\torchenv\\lib\\site-packages\\torch\\nn\\modules\\container.py:141: UserWarning: Implicit dimension choice for softmax has been deprecated. Change the call to include dim=X as an argument.\n",
      "  input = module(input)\n"
     ]
    },
    {
     "name": "stdout",
     "output_type": "stream",
     "text": [
      "Step [0/3]\t loss_instance: 8.139444351196289\t loss_cluster: 3.2958340644836426\n",
      "\n",
      "Epoch [221/500]\t Loss: 11.4352814356486 \n",
      "\n",
      "Step [0/1]\t Computing features...\n",
      "Features shape (1714,)\n",
      "14\n",
      "Test NMI = 0.2899 ARI = 0.2112 F = 0.3956 ACC = 0.0968\n",
      "================================================================\n",
      "\n"
     ]
    },
    {
     "name": "stderr",
     "output_type": "stream",
     "text": [
      "C:\\Users\\Tom-G\\.conda\\envs\\torchenv\\lib\\site-packages\\torch\\nn\\modules\\container.py:141: UserWarning: Implicit dimension choice for softmax has been deprecated. Change the call to include dim=X as an argument.\n",
      "  input = module(input)\n"
     ]
    },
    {
     "name": "stdout",
     "output_type": "stream",
     "text": [
      "Step [0/3]\t loss_instance: 8.139447212219238\t loss_cluster: 3.2958333492279053\n",
      "\n",
      "Epoch [222/500]\t Loss: 11.4352814356486 \n",
      "\n",
      "Step [0/1]\t Computing features...\n",
      "Features shape (1714,)\n",
      "14\n",
      "Test NMI = 0.2915 ARI = 0.2099 F = 0.3945 ACC = 0.0963\n",
      "================================================================\n",
      "\n"
     ]
    },
    {
     "name": "stderr",
     "output_type": "stream",
     "text": [
      "C:\\Users\\Tom-G\\.conda\\envs\\torchenv\\lib\\site-packages\\torch\\nn\\modules\\container.py:141: UserWarning: Implicit dimension choice for softmax has been deprecated. Change the call to include dim=X as an argument.\n",
      "  input = module(input)\n"
     ]
    },
    {
     "name": "stdout",
     "output_type": "stream",
     "text": [
      "Step [0/3]\t loss_instance: 8.139443397521973\t loss_cluster: 3.295834541320801\n",
      "\n",
      "Epoch [223/500]\t Loss: 11.43527857462565 \n",
      "\n",
      "Step [0/1]\t Computing features...\n",
      "Features shape (1714,)\n",
      "14\n",
      "Test NMI = 0.3001 ARI = 0.2158 F = 0.4007 ACC = 0.4632\n",
      "================================================================\n",
      "\n"
     ]
    },
    {
     "name": "stderr",
     "output_type": "stream",
     "text": [
      "C:\\Users\\Tom-G\\.conda\\envs\\torchenv\\lib\\site-packages\\torch\\nn\\modules\\container.py:141: UserWarning: Implicit dimension choice for softmax has been deprecated. Change the call to include dim=X as an argument.\n",
      "  input = module(input)\n"
     ]
    },
    {
     "name": "stdout",
     "output_type": "stream",
     "text": [
      "Step [0/3]\t loss_instance: 8.139446258544922\t loss_cluster: 3.2958333492279053\n",
      "\n",
      "Epoch [224/500]\t Loss: 11.435277620951334 \n",
      "\n",
      "Step [0/1]\t Computing features...\n",
      "Features shape (1714,)\n",
      "14\n",
      "Test NMI = 0.3069 ARI = 0.2221 F = 0.4080 ACC = 0.4691\n",
      "================================================================\n",
      "\n"
     ]
    },
    {
     "name": "stderr",
     "output_type": "stream",
     "text": [
      "C:\\Users\\Tom-G\\.conda\\envs\\torchenv\\lib\\site-packages\\torch\\nn\\modules\\container.py:141: UserWarning: Implicit dimension choice for softmax has been deprecated. Change the call to include dim=X as an argument.\n",
      "  input = module(input)\n"
     ]
    },
    {
     "name": "stdout",
     "output_type": "stream",
     "text": [
      "Step [0/3]\t loss_instance: 8.139444351196289\t loss_cluster: 3.2958335876464844\n",
      "\n",
      "Epoch [225/500]\t Loss: 11.43527857462565 \n",
      "\n",
      "Step [0/1]\t Computing features...\n",
      "Features shape (1714,)\n",
      "14\n",
      "Test NMI = 0.3091 ARI = 0.2250 F = 0.4125 ACC = 0.4691\n",
      "================================================================\n",
      "\n"
     ]
    },
    {
     "name": "stderr",
     "output_type": "stream",
     "text": [
      "C:\\Users\\Tom-G\\.conda\\envs\\torchenv\\lib\\site-packages\\torch\\nn\\modules\\container.py:141: UserWarning: Implicit dimension choice for softmax has been deprecated. Change the call to include dim=X as an argument.\n",
      "  input = module(input)\n"
     ]
    },
    {
     "name": "stdout",
     "output_type": "stream",
     "text": [
      "Step [0/3]\t loss_instance: 8.139445304870605\t loss_cluster: 3.2958335876464844\n",
      "\n",
      "Epoch [226/500]\t Loss: 11.435279528299967 \n",
      "\n",
      "Step [0/1]\t Computing features...\n",
      "Features shape (1714,)\n",
      "14\n",
      "Test NMI = 0.3114 ARI = 0.2281 F = 0.4163 ACC = 0.4702\n",
      "================================================================\n",
      "\n"
     ]
    },
    {
     "name": "stderr",
     "output_type": "stream",
     "text": [
      "C:\\Users\\Tom-G\\.conda\\envs\\torchenv\\lib\\site-packages\\torch\\nn\\modules\\container.py:141: UserWarning: Implicit dimension choice for softmax has been deprecated. Change the call to include dim=X as an argument.\n",
      "  input = module(input)\n"
     ]
    },
    {
     "name": "stdout",
     "output_type": "stream",
     "text": [
      "Step [0/3]\t loss_instance: 8.139444351196289\t loss_cluster: 3.2958343029022217\n",
      "\n",
      "Epoch [227/500]\t Loss: 11.435276985168457 \n",
      "\n",
      "Step [0/1]\t Computing features...\n",
      "Features shape (1714,)\n",
      "14\n",
      "Test NMI = 0.3196 ARI = 0.2311 F = 0.4232 ACC = 0.4714\n",
      "================================================================\n",
      "\n"
     ]
    },
    {
     "name": "stderr",
     "output_type": "stream",
     "text": [
      "C:\\Users\\Tom-G\\.conda\\envs\\torchenv\\lib\\site-packages\\torch\\nn\\modules\\container.py:141: UserWarning: Implicit dimension choice for softmax has been deprecated. Change the call to include dim=X as an argument.\n",
      "  input = module(input)\n"
     ]
    },
    {
     "name": "stdout",
     "output_type": "stream",
     "text": [
      "Step [0/3]\t loss_instance: 8.139445304870605\t loss_cluster: 3.295832872390747\n",
      "\n",
      "Epoch [228/500]\t Loss: 11.435276667277018 \n",
      "\n",
      "Step [0/1]\t Computing features...\n",
      "Features shape (1714,)\n",
      "14\n",
      "Test NMI = 0.3184 ARI = 0.2290 F = 0.4217 ACC = 0.4627\n",
      "================================================================\n",
      "\n"
     ]
    },
    {
     "name": "stderr",
     "output_type": "stream",
     "text": [
      "C:\\Users\\Tom-G\\.conda\\envs\\torchenv\\lib\\site-packages\\torch\\nn\\modules\\container.py:141: UserWarning: Implicit dimension choice for softmax has been deprecated. Change the call to include dim=X as an argument.\n",
      "  input = module(input)\n"
     ]
    },
    {
     "name": "stdout",
     "output_type": "stream",
     "text": [
      "Step [0/3]\t loss_instance: 8.139444351196289\t loss_cluster: 3.2958333492279053\n",
      "\n",
      "Epoch [229/500]\t Loss: 11.435280164082846 \n",
      "\n",
      "Step [0/1]\t Computing features...\n",
      "Features shape (1714,)\n",
      "14\n",
      "Test NMI = 0.3203 ARI = 0.2308 F = 0.4261 ACC = 0.4597\n",
      "================================================================\n",
      "\n"
     ]
    },
    {
     "name": "stderr",
     "output_type": "stream",
     "text": [
      "C:\\Users\\Tom-G\\.conda\\envs\\torchenv\\lib\\site-packages\\torch\\nn\\modules\\container.py:141: UserWarning: Implicit dimension choice for softmax has been deprecated. Change the call to include dim=X as an argument.\n",
      "  input = module(input)\n"
     ]
    },
    {
     "name": "stdout",
     "output_type": "stream",
     "text": [
      "Step [0/3]\t loss_instance: 8.139445304870605\t loss_cluster: 3.295832395553589\n",
      "\n",
      "Epoch [230/500]\t Loss: 11.435278256734213 \n",
      "\n",
      "Step [0/1]\t Computing features...\n",
      "Features shape (1714,)\n",
      "14\n",
      "Test NMI = 0.3223 ARI = 0.2304 F = 0.4244 ACC = 0.4597\n",
      "================================================================\n",
      "\n"
     ]
    },
    {
     "name": "stderr",
     "output_type": "stream",
     "text": [
      "C:\\Users\\Tom-G\\.conda\\envs\\torchenv\\lib\\site-packages\\torch\\nn\\modules\\container.py:141: UserWarning: Implicit dimension choice for softmax has been deprecated. Change the call to include dim=X as an argument.\n",
      "  input = module(input)\n"
     ]
    },
    {
     "name": "stdout",
     "output_type": "stream",
     "text": [
      "Step [0/3]\t loss_instance: 8.139446258544922\t loss_cluster: 3.2958316802978516\n",
      "\n",
      "Epoch [231/500]\t Loss: 11.435275713602701 \n",
      "\n",
      "Step [0/1]\t Computing features...\n",
      "Features shape (1714,)\n",
      "14\n",
      "Test NMI = 0.3257 ARI = 0.2307 F = 0.4276 ACC = 0.4545\n",
      "================================================================\n",
      "\n"
     ]
    },
    {
     "name": "stderr",
     "output_type": "stream",
     "text": [
      "C:\\Users\\Tom-G\\.conda\\envs\\torchenv\\lib\\site-packages\\torch\\nn\\modules\\container.py:141: UserWarning: Implicit dimension choice for softmax has been deprecated. Change the call to include dim=X as an argument.\n",
      "  input = module(input)\n"
     ]
    },
    {
     "name": "stdout",
     "output_type": "stream",
     "text": [
      "Step [0/3]\t loss_instance: 8.139445304870605\t loss_cluster: 3.2958314418792725\n",
      "\n",
      "Epoch [232/500]\t Loss: 11.435276985168457 \n",
      "\n",
      "Step [0/1]\t Computing features...\n",
      "Features shape (1714,)\n",
      "14\n",
      "Test NMI = 0.3273 ARI = 0.2340 F = 0.4342 ACC = 0.4551\n",
      "================================================================\n",
      "\n"
     ]
    },
    {
     "name": "stderr",
     "output_type": "stream",
     "text": [
      "C:\\Users\\Tom-G\\.conda\\envs\\torchenv\\lib\\site-packages\\torch\\nn\\modules\\container.py:141: UserWarning: Implicit dimension choice for softmax has been deprecated. Change the call to include dim=X as an argument.\n",
      "  input = module(input)\n"
     ]
    },
    {
     "name": "stdout",
     "output_type": "stream",
     "text": [
      "Step [0/3]\t loss_instance: 8.139444351196289\t loss_cluster: 3.2958314418792725\n",
      "\n",
      "Epoch [233/500]\t Loss: 11.435277303059896 \n",
      "\n",
      "Step [0/1]\t Computing features...\n",
      "Features shape (1714,)\n",
      "14\n",
      "Test NMI = 0.3354 ARI = 0.2364 F = 0.4414 ACC = 0.4580\n",
      "================================================================\n",
      "\n"
     ]
    },
    {
     "name": "stderr",
     "output_type": "stream",
     "text": [
      "C:\\Users\\Tom-G\\.conda\\envs\\torchenv\\lib\\site-packages\\torch\\nn\\modules\\container.py:141: UserWarning: Implicit dimension choice for softmax has been deprecated. Change the call to include dim=X as an argument.\n",
      "  input = module(input)\n"
     ]
    },
    {
     "name": "stdout",
     "output_type": "stream",
     "text": [
      "Step [0/3]\t loss_instance: 8.139445304870605\t loss_cluster: 3.2958312034606934\n",
      "\n",
      "Epoch [234/500]\t Loss: 11.435275077819824 \n",
      "\n",
      "Step [0/1]\t Computing features...\n",
      "Features shape (1714,)\n",
      "14\n",
      "Test NMI = 0.3385 ARI = 0.2383 F = 0.4439 ACC = 0.4586\n",
      "================================================================\n",
      "\n"
     ]
    },
    {
     "name": "stderr",
     "output_type": "stream",
     "text": [
      "C:\\Users\\Tom-G\\.conda\\envs\\torchenv\\lib\\site-packages\\torch\\nn\\modules\\container.py:141: UserWarning: Implicit dimension choice for softmax has been deprecated. Change the call to include dim=X as an argument.\n",
      "  input = module(input)\n"
     ]
    },
    {
     "name": "stdout",
     "output_type": "stream",
     "text": [
      "Step [0/3]\t loss_instance: 8.139444351196289\t loss_cluster: 3.295830488204956\n",
      "\n",
      "Epoch [235/500]\t Loss: 11.43527348836263 \n",
      "\n",
      "Step [0/1]\t Computing features...\n",
      "Features shape (1714,)\n",
      "14\n",
      "Test NMI = 0.3474 ARI = 0.2418 F = 0.4522 ACC = 0.4644\n",
      "================================================================\n",
      "\n"
     ]
    },
    {
     "name": "stderr",
     "output_type": "stream",
     "text": [
      "C:\\Users\\Tom-G\\.conda\\envs\\torchenv\\lib\\site-packages\\torch\\nn\\modules\\container.py:141: UserWarning: Implicit dimension choice for softmax has been deprecated. Change the call to include dim=X as an argument.\n",
      "  input = module(input)\n"
     ]
    },
    {
     "name": "stdout",
     "output_type": "stream",
     "text": [
      "Step [0/3]\t loss_instance: 8.139445304870605\t loss_cluster: 3.295830488204956\n",
      "\n",
      "Epoch [236/500]\t Loss: 11.435274124145508 \n",
      "\n",
      "Step [0/1]\t Computing features...\n",
      "Features shape (1714,)\n",
      "14\n",
      "Test NMI = 0.3470 ARI = 0.2422 F = 0.4540 ACC = 0.4586\n",
      "================================================================\n",
      "\n"
     ]
    },
    {
     "name": "stderr",
     "output_type": "stream",
     "text": [
      "C:\\Users\\Tom-G\\.conda\\envs\\torchenv\\lib\\site-packages\\torch\\nn\\modules\\container.py:141: UserWarning: Implicit dimension choice for softmax has been deprecated. Change the call to include dim=X as an argument.\n",
      "  input = module(input)\n"
     ]
    },
    {
     "name": "stdout",
     "output_type": "stream",
     "text": [
      "Step [0/3]\t loss_instance: 8.139442443847656\t loss_cluster: 3.2958297729492188\n",
      "\n",
      "Epoch [237/500]\t Loss: 11.435274442036947 \n",
      "\n",
      "Step [0/1]\t Computing features...\n",
      "Features shape (1714,)\n",
      "14\n",
      "Test NMI = 0.3500 ARI = 0.2454 F = 0.4605 ACC = 0.4592\n",
      "================================================================\n",
      "\n"
     ]
    },
    {
     "name": "stderr",
     "output_type": "stream",
     "text": [
      "C:\\Users\\Tom-G\\.conda\\envs\\torchenv\\lib\\site-packages\\torch\\nn\\modules\\container.py:141: UserWarning: Implicit dimension choice for softmax has been deprecated. Change the call to include dim=X as an argument.\n",
      "  input = module(input)\n"
     ]
    },
    {
     "name": "stdout",
     "output_type": "stream",
     "text": [
      "Step [0/3]\t loss_instance: 8.139443397521973\t loss_cluster: 3.2958288192749023\n",
      "\n",
      "Epoch [238/500]\t Loss: 11.435274124145508 \n",
      "\n",
      "Step [0/1]\t Computing features...\n",
      "Features shape (1714,)\n",
      "14\n",
      "Test NMI = 0.3545 ARI = 0.2484 F = 0.4676 ACC = 0.4597\n",
      "================================================================\n",
      "\n"
     ]
    },
    {
     "name": "stderr",
     "output_type": "stream",
     "text": [
      "C:\\Users\\Tom-G\\.conda\\envs\\torchenv\\lib\\site-packages\\torch\\nn\\modules\\container.py:141: UserWarning: Implicit dimension choice for softmax has been deprecated. Change the call to include dim=X as an argument.\n",
      "  input = module(input)\n"
     ]
    },
    {
     "name": "stdout",
     "output_type": "stream",
     "text": [
      "Step [0/3]\t loss_instance: 8.139445304870605\t loss_cluster: 3.295827865600586\n",
      "\n",
      "Epoch [239/500]\t Loss: 11.435274442036947 \n",
      "\n",
      "Step [0/1]\t Computing features...\n",
      "Features shape (1714,)\n",
      "14\n",
      "Test NMI = 0.3576 ARI = 0.2505 F = 0.4695 ACC = 0.4562\n",
      "================================================================\n",
      "\n"
     ]
    },
    {
     "name": "stderr",
     "output_type": "stream",
     "text": [
      "C:\\Users\\Tom-G\\.conda\\envs\\torchenv\\lib\\site-packages\\torch\\nn\\modules\\container.py:141: UserWarning: Implicit dimension choice for softmax has been deprecated. Change the call to include dim=X as an argument.\n",
      "  input = module(input)\n"
     ]
    },
    {
     "name": "stdout",
     "output_type": "stream",
     "text": [
      "Step [0/3]\t loss_instance: 8.139445304870605\t loss_cluster: 3.295828104019165\n",
      "\n",
      "Epoch [240/500]\t Loss: 11.435276667277018 \n",
      "\n",
      "Step [0/1]\t Computing features...\n",
      "Features shape (1714,)\n",
      "14\n",
      "Test NMI = 0.3660 ARI = 0.2562 F = 0.4779 ACC = 0.4562\n",
      "================================================================\n",
      "\n"
     ]
    },
    {
     "name": "stderr",
     "output_type": "stream",
     "text": [
      "C:\\Users\\Tom-G\\.conda\\envs\\torchenv\\lib\\site-packages\\torch\\nn\\modules\\container.py:141: UserWarning: Implicit dimension choice for softmax has been deprecated. Change the call to include dim=X as an argument.\n",
      "  input = module(input)\n"
     ]
    },
    {
     "name": "stdout",
     "output_type": "stream",
     "text": [
      "Step [0/3]\t loss_instance: 8.13947582244873\t loss_cluster: 3.295827627182007\n",
      "\n",
      "Epoch [241/500]\t Loss: 11.435297012329102 \n",
      "\n",
      "Step [0/1]\t Computing features...\n",
      "Features shape (1714,)\n",
      "14\n",
      "Test NMI = 0.3695 ARI = 0.2573 F = 0.4786 ACC = 0.4510\n",
      "================================================================\n",
      "\n"
     ]
    },
    {
     "name": "stderr",
     "output_type": "stream",
     "text": [
      "C:\\Users\\Tom-G\\.conda\\envs\\torchenv\\lib\\site-packages\\torch\\nn\\modules\\container.py:141: UserWarning: Implicit dimension choice for softmax has been deprecated. Change the call to include dim=X as an argument.\n",
      "  input = module(input)\n"
     ]
    },
    {
     "name": "stdout",
     "output_type": "stream",
     "text": [
      "Step [0/3]\t loss_instance: 8.139450073242188\t loss_cluster: 3.295825242996216\n",
      "\n",
      "Epoch [242/500]\t Loss: 11.435275395711264 \n",
      "\n",
      "Step [0/1]\t Computing features...\n",
      "Features shape (1714,)\n",
      "14\n",
      "Test NMI = 0.3770 ARI = 0.2605 F = 0.4856 ACC = 0.4469\n",
      "================================================================\n",
      "\n"
     ]
    },
    {
     "name": "stderr",
     "output_type": "stream",
     "text": [
      "C:\\Users\\Tom-G\\.conda\\envs\\torchenv\\lib\\site-packages\\torch\\nn\\modules\\container.py:141: UserWarning: Implicit dimension choice for softmax has been deprecated. Change the call to include dim=X as an argument.\n",
      "  input = module(input)\n"
     ]
    },
    {
     "name": "stdout",
     "output_type": "stream",
     "text": [
      "Step [0/3]\t loss_instance: 8.139456748962402\t loss_cluster: 3.2958240509033203\n",
      "\n",
      "Epoch [243/500]\t Loss: 11.435277303059896 \n",
      "\n",
      "Step [0/1]\t Computing features...\n",
      "Features shape (1714,)\n",
      "14\n",
      "Test NMI = 0.3799 ARI = 0.2623 F = 0.4925 ACC = 0.4492\n",
      "================================================================\n",
      "\n"
     ]
    },
    {
     "name": "stderr",
     "output_type": "stream",
     "text": [
      "C:\\Users\\Tom-G\\.conda\\envs\\torchenv\\lib\\site-packages\\torch\\nn\\modules\\container.py:141: UserWarning: Implicit dimension choice for softmax has been deprecated. Change the call to include dim=X as an argument.\n",
      "  input = module(input)\n"
     ]
    },
    {
     "name": "stdout",
     "output_type": "stream",
     "text": [
      "Step [0/3]\t loss_instance: 8.1394624710083\t loss_cluster: 3.295823335647583\n",
      "\n",
      "Epoch [244/500]\t Loss: 11.435276667277018 \n",
      "\n",
      "Step [0/1]\t Computing features...\n",
      "Features shape (1714,)\n",
      "14\n",
      "Test NMI = 0.3797 ARI = 0.2631 F = 0.4961 ACC = 0.4446\n",
      "================================================================\n",
      "\n"
     ]
    },
    {
     "name": "stderr",
     "output_type": "stream",
     "text": [
      "C:\\Users\\Tom-G\\.conda\\envs\\torchenv\\lib\\site-packages\\torch\\nn\\modules\\container.py:141: UserWarning: Implicit dimension choice for softmax has been deprecated. Change the call to include dim=X as an argument.\n",
      "  input = module(input)\n"
     ]
    },
    {
     "name": "stdout",
     "output_type": "stream",
     "text": [
      "Step [0/3]\t loss_instance: 8.139452934265137\t loss_cluster: 3.2958216667175293\n",
      "\n",
      "Epoch [245/500]\t Loss: 11.435273170471191 \n",
      "\n",
      "Step [0/1]\t Computing features...\n",
      "Features shape (1714,)\n",
      "14\n",
      "Test NMI = 0.3854 ARI = 0.2674 F = 0.5007 ACC = 0.4481\n",
      "================================================================\n",
      "\n"
     ]
    },
    {
     "name": "stderr",
     "output_type": "stream",
     "text": [
      "C:\\Users\\Tom-G\\.conda\\envs\\torchenv\\lib\\site-packages\\torch\\nn\\modules\\container.py:141: UserWarning: Implicit dimension choice for softmax has been deprecated. Change the call to include dim=X as an argument.\n",
      "  input = module(input)\n"
     ]
    },
    {
     "name": "stdout",
     "output_type": "stream",
     "text": [
      "Step [0/3]\t loss_instance: 8.139450073242188\t loss_cluster: 3.295820474624634\n",
      "\n",
      "Epoch [246/500]\t Loss: 11.435269673665365 \n",
      "\n",
      "Step [0/1]\t Computing features...\n",
      "Features shape (1714,)\n",
      "14\n",
      "Test NMI = 0.3853 ARI = 0.2678 F = 0.5022 ACC = 0.4527\n",
      "================================================================\n",
      "\n"
     ]
    },
    {
     "name": "stderr",
     "output_type": "stream",
     "text": [
      "C:\\Users\\Tom-G\\.conda\\envs\\torchenv\\lib\\site-packages\\torch\\nn\\modules\\container.py:141: UserWarning: Implicit dimension choice for softmax has been deprecated. Change the call to include dim=X as an argument.\n",
      "  input = module(input)\n"
     ]
    },
    {
     "name": "stdout",
     "output_type": "stream",
     "text": [
      "Step [0/3]\t loss_instance: 8.13945198059082\t loss_cluster: 3.295819044113159\n",
      "\n",
      "Epoch [247/500]\t Loss: 11.435267766316732 \n",
      "\n",
      "Step [0/1]\t Computing features...\n",
      "Features shape (1714,)\n",
      "14\n",
      "Test NMI = 0.3922 ARI = 0.2717 F = 0.5065 ACC = 0.4586\n",
      "================================================================\n",
      "\n"
     ]
    },
    {
     "name": "stderr",
     "output_type": "stream",
     "text": [
      "C:\\Users\\Tom-G\\.conda\\envs\\torchenv\\lib\\site-packages\\torch\\nn\\modules\\container.py:141: UserWarning: Implicit dimension choice for softmax has been deprecated. Change the call to include dim=X as an argument.\n",
      "  input = module(input)\n"
     ]
    },
    {
     "name": "stdout",
     "output_type": "stream",
     "text": [
      "Step [0/3]\t loss_instance: 8.139447212219238\t loss_cluster: 3.29581618309021\n",
      "\n",
      "Epoch [248/500]\t Loss: 11.435261726379395 \n",
      "\n",
      "Step [0/1]\t Computing features...\n",
      "Features shape (1714,)\n",
      "14\n",
      "Test NMI = 0.3971 ARI = 0.2739 F = 0.5083 ACC = 0.4650\n",
      "================================================================\n",
      "\n"
     ]
    },
    {
     "name": "stderr",
     "output_type": "stream",
     "text": [
      "C:\\Users\\Tom-G\\.conda\\envs\\torchenv\\lib\\site-packages\\torch\\nn\\modules\\container.py:141: UserWarning: Implicit dimension choice for softmax has been deprecated. Change the call to include dim=X as an argument.\n",
      "  input = module(input)\n"
     ]
    },
    {
     "name": "stdout",
     "output_type": "stream",
     "text": [
      "Step [0/3]\t loss_instance: 8.139446258544922\t loss_cluster: 3.2958133220672607\n",
      "\n",
      "Epoch [249/500]\t Loss: 11.435260136922201 \n",
      "\n",
      "Step [0/1]\t Computing features...\n",
      "Features shape (1714,)\n",
      "14\n",
      "Test NMI = 0.4016 ARI = 0.2790 F = 0.5148 ACC = 0.1972\n",
      "================================================================\n",
      "\n"
     ]
    },
    {
     "name": "stderr",
     "output_type": "stream",
     "text": [
      "C:\\Users\\Tom-G\\.conda\\envs\\torchenv\\lib\\site-packages\\torch\\nn\\modules\\container.py:141: UserWarning: Implicit dimension choice for softmax has been deprecated. Change the call to include dim=X as an argument.\n",
      "  input = module(input)\n"
     ]
    },
    {
     "name": "stdout",
     "output_type": "stream",
     "text": [
      "Step [0/3]\t loss_instance: 8.139448165893555\t loss_cluster: 3.2958109378814697\n",
      "\n",
      "Epoch [250/500]\t Loss: 11.43525759379069 \n",
      "\n",
      "Step [0/1]\t Computing features...\n",
      "Features shape (1714,)\n",
      "14\n",
      "Test NMI = 0.4099 ARI = 0.2827 F = 0.5178 ACC = 0.2001\n",
      "================================================================\n",
      "\n"
     ]
    },
    {
     "name": "stderr",
     "output_type": "stream",
     "text": [
      "C:\\Users\\Tom-G\\.conda\\envs\\torchenv\\lib\\site-packages\\torch\\nn\\modules\\container.py:141: UserWarning: Implicit dimension choice for softmax has been deprecated. Change the call to include dim=X as an argument.\n",
      "  input = module(input)\n"
     ]
    },
    {
     "name": "stdout",
     "output_type": "stream",
     "text": [
      "Step [0/3]\t loss_instance: 8.139448165893555\t loss_cluster: 3.2958078384399414\n",
      "\n",
      "Epoch [251/500]\t Loss: 11.435254096984863 \n",
      "\n",
      "Step [0/1]\t Computing features...\n",
      "Features shape (1714,)\n",
      "14\n",
      "Test NMI = 0.4133 ARI = 0.2861 F = 0.5220 ACC = 0.2013\n",
      "================================================================\n",
      "\n"
     ]
    },
    {
     "name": "stderr",
     "output_type": "stream",
     "text": [
      "C:\\Users\\Tom-G\\.conda\\envs\\torchenv\\lib\\site-packages\\torch\\nn\\modules\\container.py:141: UserWarning: Implicit dimension choice for softmax has been deprecated. Change the call to include dim=X as an argument.\n",
      "  input = module(input)\n"
     ]
    },
    {
     "name": "stdout",
     "output_type": "stream",
     "text": [
      "Step [0/3]\t loss_instance: 8.139447212219238\t loss_cluster: 3.295804262161255\n",
      "\n",
      "Epoch [252/500]\t Loss: 11.435249964396158 \n",
      "\n",
      "Step [0/1]\t Computing features...\n",
      "Features shape (1714,)\n",
      "14\n",
      "Test NMI = 0.4148 ARI = 0.2879 F = 0.5242 ACC = 0.2054\n",
      "================================================================\n",
      "\n"
     ]
    },
    {
     "name": "stderr",
     "output_type": "stream",
     "text": [
      "C:\\Users\\Tom-G\\.conda\\envs\\torchenv\\lib\\site-packages\\torch\\nn\\modules\\container.py:141: UserWarning: Implicit dimension choice for softmax has been deprecated. Change the call to include dim=X as an argument.\n",
      "  input = module(input)\n"
     ]
    },
    {
     "name": "stdout",
     "output_type": "stream",
     "text": [
      "Step [0/3]\t loss_instance: 8.139451026916504\t loss_cluster: 3.2957985401153564\n",
      "\n",
      "Epoch [253/500]\t Loss: 11.435244878133139 \n",
      "\n",
      "Step [0/1]\t Computing features...\n",
      "Features shape (1714,)\n",
      "14\n",
      "Test NMI = 0.4172 ARI = 0.2932 F = 0.5261 ACC = 0.4749\n",
      "================================================================\n",
      "\n"
     ]
    },
    {
     "name": "stderr",
     "output_type": "stream",
     "text": [
      "C:\\Users\\Tom-G\\.conda\\envs\\torchenv\\lib\\site-packages\\torch\\nn\\modules\\container.py:141: UserWarning: Implicit dimension choice for softmax has been deprecated. Change the call to include dim=X as an argument.\n",
      "  input = module(input)\n"
     ]
    },
    {
     "name": "stdout",
     "output_type": "stream",
     "text": [
      "Step [0/3]\t loss_instance: 8.139447212219238\t loss_cluster: 3.2957961559295654\n",
      "\n",
      "Epoch [254/500]\t Loss: 11.435240427652994 \n",
      "\n",
      "Step [0/1]\t Computing features...\n",
      "Features shape (1714,)\n",
      "14\n",
      "Test NMI = 0.4227 ARI = 0.2984 F = 0.5275 ACC = 0.4778\n",
      "================================================================\n",
      "\n"
     ]
    },
    {
     "name": "stderr",
     "output_type": "stream",
     "text": [
      "C:\\Users\\Tom-G\\.conda\\envs\\torchenv\\lib\\site-packages\\torch\\nn\\modules\\container.py:141: UserWarning: Implicit dimension choice for softmax has been deprecated. Change the call to include dim=X as an argument.\n",
      "  input = module(input)\n"
     ]
    },
    {
     "name": "stdout",
     "output_type": "stream",
     "text": [
      "Step [0/3]\t loss_instance: 8.139452934265137\t loss_cluster: 3.2957863807678223\n",
      "\n",
      "Epoch [255/500]\t Loss: 11.435236612955729 \n",
      "\n",
      "Step [0/1]\t Computing features...\n",
      "Features shape (1714,)\n",
      "14\n",
      "Test NMI = 0.4304 ARI = 0.3043 F = 0.5266 ACC = 0.1972\n",
      "================================================================\n",
      "\n"
     ]
    },
    {
     "name": "stderr",
     "output_type": "stream",
     "text": [
      "C:\\Users\\Tom-G\\.conda\\envs\\torchenv\\lib\\site-packages\\torch\\nn\\modules\\container.py:141: UserWarning: Implicit dimension choice for softmax has been deprecated. Change the call to include dim=X as an argument.\n",
      "  input = module(input)\n"
     ]
    },
    {
     "name": "stdout",
     "output_type": "stream",
     "text": [
      "Step [0/3]\t loss_instance: 8.13945198059082\t loss_cluster: 3.2957816123962402\n",
      "\n",
      "Epoch [256/500]\t Loss: 11.435231844584147 \n",
      "\n",
      "Step [0/1]\t Computing features...\n",
      "Features shape (1714,)\n",
      "14\n",
      "Test NMI = 0.4277 ARI = 0.3057 F = 0.5261 ACC = 0.1960\n",
      "================================================================\n",
      "\n"
     ]
    },
    {
     "name": "stderr",
     "output_type": "stream",
     "text": [
      "C:\\Users\\Tom-G\\.conda\\envs\\torchenv\\lib\\site-packages\\torch\\nn\\modules\\container.py:141: UserWarning: Implicit dimension choice for softmax has been deprecated. Change the call to include dim=X as an argument.\n",
      "  input = module(input)\n"
     ]
    },
    {
     "name": "stdout",
     "output_type": "stream",
     "text": [
      "Step [0/3]\t loss_instance: 8.139451026916504\t loss_cluster: 3.2957725524902344\n",
      "\n",
      "Epoch [257/500]\t Loss: 11.435220718383789 \n",
      "\n",
      "Step [0/1]\t Computing features...\n",
      "Features shape (1714,)\n",
      "14\n",
      "Test NMI = 0.4285 ARI = 0.3070 F = 0.5252 ACC = 0.1954\n",
      "================================================================\n",
      "\n"
     ]
    },
    {
     "name": "stderr",
     "output_type": "stream",
     "text": [
      "C:\\Users\\Tom-G\\.conda\\envs\\torchenv\\lib\\site-packages\\torch\\nn\\modules\\container.py:141: UserWarning: Implicit dimension choice for softmax has been deprecated. Change the call to include dim=X as an argument.\n",
      "  input = module(input)\n"
     ]
    },
    {
     "name": "stdout",
     "output_type": "stream",
     "text": [
      "Step [0/3]\t loss_instance: 8.139447212219238\t loss_cluster: 3.2957656383514404\n",
      "\n",
      "Epoch [258/500]\t Loss: 11.435208638509115 \n",
      "\n",
      "Step [0/1]\t Computing features...\n",
      "Features shape (1714,)\n",
      "14\n",
      "Test NMI = 0.4323 ARI = 0.3097 F = 0.5261 ACC = 0.1978\n",
      "================================================================\n",
      "\n"
     ]
    },
    {
     "name": "stderr",
     "output_type": "stream",
     "text": [
      "C:\\Users\\Tom-G\\.conda\\envs\\torchenv\\lib\\site-packages\\torch\\nn\\modules\\container.py:141: UserWarning: Implicit dimension choice for softmax has been deprecated. Change the call to include dim=X as an argument.\n",
      "  input = module(input)\n"
     ]
    },
    {
     "name": "stdout",
     "output_type": "stream",
     "text": [
      "Step [0/3]\t loss_instance: 8.139458656311035\t loss_cluster: 3.295755624771118\n",
      "\n",
      "Epoch [259/500]\t Loss: 11.435205459594727 \n",
      "\n",
      "Step [0/1]\t Computing features...\n",
      "Features shape (1714,)\n",
      "14\n",
      "Test NMI = 0.4305 ARI = 0.3075 F = 0.5191 ACC = 0.0706\n",
      "================================================================\n",
      "\n"
     ]
    },
    {
     "name": "stderr",
     "output_type": "stream",
     "text": [
      "C:\\Users\\Tom-G\\.conda\\envs\\torchenv\\lib\\site-packages\\torch\\nn\\modules\\container.py:141: UserWarning: Implicit dimension choice for softmax has been deprecated. Change the call to include dim=X as an argument.\n",
      "  input = module(input)\n"
     ]
    },
    {
     "name": "stdout",
     "output_type": "stream",
     "text": [
      "Step [0/3]\t loss_instance: 8.13945484161377\t loss_cluster: 3.295741081237793\n",
      "\n",
      "Epoch [260/500]\t Loss: 11.435187339782715 \n",
      "\n",
      "Step [0/1]\t Computing features...\n",
      "Features shape (1714,)\n",
      "14\n",
      "Test NMI = 0.4229 ARI = 0.2973 F = 0.5030 ACC = 0.0712\n",
      "================================================================\n",
      "\n"
     ]
    },
    {
     "name": "stderr",
     "output_type": "stream",
     "text": [
      "C:\\Users\\Tom-G\\.conda\\envs\\torchenv\\lib\\site-packages\\torch\\nn\\modules\\container.py:141: UserWarning: Implicit dimension choice for softmax has been deprecated. Change the call to include dim=X as an argument.\n",
      "  input = module(input)\n"
     ]
    },
    {
     "name": "stdout",
     "output_type": "stream",
     "text": [
      "Step [0/3]\t loss_instance: 8.139451026916504\t loss_cluster: 3.2957277297973633\n",
      "\n",
      "Epoch [261/500]\t Loss: 11.435171763102213 \n",
      "\n",
      "Step [0/1]\t Computing features...\n",
      "Features shape (1714,)\n",
      "14\n",
      "Test NMI = 0.4111 ARI = 0.2810 F = 0.4807 ACC = 0.0753\n",
      "================================================================\n",
      "\n"
     ]
    },
    {
     "name": "stderr",
     "output_type": "stream",
     "text": [
      "C:\\Users\\Tom-G\\.conda\\envs\\torchenv\\lib\\site-packages\\torch\\nn\\modules\\container.py:141: UserWarning: Implicit dimension choice for softmax has been deprecated. Change the call to include dim=X as an argument.\n",
      "  input = module(input)\n"
     ]
    },
    {
     "name": "stdout",
     "output_type": "stream",
     "text": [
      "Step [0/3]\t loss_instance: 8.139452934265137\t loss_cluster: 3.295705556869507\n",
      "\n",
      "Epoch [262/500]\t Loss: 11.435151100158691 \n",
      "\n",
      "Step [0/1]\t Computing features...\n",
      "Features shape (1714,)\n",
      "14\n",
      "Test NMI = 0.3916 ARI = 0.2537 F = 0.4551 ACC = 0.0473\n",
      "================================================================\n",
      "\n"
     ]
    },
    {
     "name": "stderr",
     "output_type": "stream",
     "text": [
      "C:\\Users\\Tom-G\\.conda\\envs\\torchenv\\lib\\site-packages\\torch\\nn\\modules\\container.py:141: UserWarning: Implicit dimension choice for softmax has been deprecated. Change the call to include dim=X as an argument.\n",
      "  input = module(input)\n"
     ]
    },
    {
     "name": "stdout",
     "output_type": "stream",
     "text": [
      "Step [0/3]\t loss_instance: 8.13945198059082\t loss_cluster: 3.2956960201263428\n",
      "\n",
      "Epoch [263/500]\t Loss: 11.435133616129557 \n",
      "\n",
      "Step [0/1]\t Computing features...\n",
      "Features shape (1714,)\n",
      "14\n",
      "Test NMI = 0.3713 ARI = 0.2260 F = 0.4336 ACC = 0.0432\n",
      "================================================================\n",
      "\n"
     ]
    },
    {
     "name": "stderr",
     "output_type": "stream",
     "text": [
      "C:\\Users\\Tom-G\\.conda\\envs\\torchenv\\lib\\site-packages\\torch\\nn\\modules\\container.py:141: UserWarning: Implicit dimension choice for softmax has been deprecated. Change the call to include dim=X as an argument.\n",
      "  input = module(input)\n"
     ]
    },
    {
     "name": "stdout",
     "output_type": "stream",
     "text": [
      "Step [0/3]\t loss_instance: 8.139449119567871\t loss_cluster: 3.295667886734009\n",
      "\n",
      "Epoch [264/500]\t Loss: 11.435107549031576 \n",
      "\n",
      "Step [0/1]\t Computing features...\n",
      "Features shape (1714,)\n",
      "14\n",
      "Test NMI = 0.3489 ARI = 0.1840 F = 0.4111 ACC = 0.0373\n",
      "================================================================\n",
      "\n"
     ]
    },
    {
     "name": "stderr",
     "output_type": "stream",
     "text": [
      "C:\\Users\\Tom-G\\.conda\\envs\\torchenv\\lib\\site-packages\\torch\\nn\\modules\\container.py:141: UserWarning: Implicit dimension choice for softmax has been deprecated. Change the call to include dim=X as an argument.\n",
      "  input = module(input)\n"
     ]
    },
    {
     "name": "stdout",
     "output_type": "stream",
     "text": [
      "Step [0/3]\t loss_instance: 8.139457702636719\t loss_cluster: 3.295637845993042\n",
      "\n",
      "Epoch [265/500]\t Loss: 11.435085614522299 \n",
      "\n",
      "Step [0/1]\t Computing features...\n",
      "Features shape (1714,)\n",
      "14\n",
      "Test NMI = 0.3380 ARI = 0.1608 F = 0.4077 ACC = 0.0333\n",
      "================================================================\n",
      "\n"
     ]
    },
    {
     "name": "stderr",
     "output_type": "stream",
     "text": [
      "C:\\Users\\Tom-G\\.conda\\envs\\torchenv\\lib\\site-packages\\torch\\nn\\modules\\container.py:141: UserWarning: Implicit dimension choice for softmax has been deprecated. Change the call to include dim=X as an argument.\n",
      "  input = module(input)\n"
     ]
    },
    {
     "name": "stdout",
     "output_type": "stream",
     "text": [
      "Step [0/3]\t loss_instance: 8.139459609985352\t loss_cluster: 3.2956104278564453\n",
      "\n",
      "Epoch [266/500]\t Loss: 11.435059865315756 \n",
      "\n",
      "Step [0/1]\t Computing features...\n",
      "Features shape (1714,)\n",
      "14\n",
      "Test NMI = 0.3311 ARI = 0.1371 F = 0.4165 ACC = 0.0274\n",
      "================================================================\n",
      "\n"
     ]
    },
    {
     "name": "stderr",
     "output_type": "stream",
     "text": [
      "C:\\Users\\Tom-G\\.conda\\envs\\torchenv\\lib\\site-packages\\torch\\nn\\modules\\container.py:141: UserWarning: Implicit dimension choice for softmax has been deprecated. Change the call to include dim=X as an argument.\n",
      "  input = module(input)\n"
     ]
    },
    {
     "name": "stdout",
     "output_type": "stream",
     "text": [
      "Step [0/3]\t loss_instance: 8.139456748962402\t loss_cluster: 3.2955868244171143\n",
      "\n",
      "Epoch [267/500]\t Loss: 11.435035387674967 \n",
      "\n",
      "Step [0/1]\t Computing features...\n",
      "Features shape (1714,)\n",
      "14\n",
      "Test NMI = 0.3202 ARI = 0.1243 F = 0.4393 ACC = 0.0181\n",
      "================================================================\n",
      "\n"
     ]
    },
    {
     "name": "stderr",
     "output_type": "stream",
     "text": [
      "C:\\Users\\Tom-G\\.conda\\envs\\torchenv\\lib\\site-packages\\torch\\nn\\modules\\container.py:141: UserWarning: Implicit dimension choice for softmax has been deprecated. Change the call to include dim=X as an argument.\n",
      "  input = module(input)\n"
     ]
    },
    {
     "name": "stdout",
     "output_type": "stream",
     "text": [
      "Step [0/3]\t loss_instance: 8.139453887939453\t loss_cluster: 3.2955563068389893\n",
      "\n",
      "Epoch [268/500]\t Loss: 11.435003280639648 \n",
      "\n",
      "Step [0/1]\t Computing features...\n",
      "Features shape (1714,)\n",
      "14\n",
      "Test NMI = 0.3245 ARI = 0.1265 F = 0.4622 ACC = 0.0023\n",
      "================================================================\n",
      "\n"
     ]
    },
    {
     "name": "stderr",
     "output_type": "stream",
     "text": [
      "C:\\Users\\Tom-G\\.conda\\envs\\torchenv\\lib\\site-packages\\torch\\nn\\modules\\container.py:141: UserWarning: Implicit dimension choice for softmax has been deprecated. Change the call to include dim=X as an argument.\n",
      "  input = module(input)\n"
     ]
    },
    {
     "name": "stdout",
     "output_type": "stream",
     "text": [
      "Step [0/3]\t loss_instance: 8.139458656311035\t loss_cluster: 3.2955615520477295\n",
      "\n",
      "Epoch [269/500]\t Loss: 11.434991518656412 \n",
      "\n",
      "Step [0/1]\t Computing features...\n",
      "Features shape (1714,)\n",
      "14\n",
      "Test NMI = 0.3204 ARI = 0.1269 F = 0.4798 ACC = 0.0047\n",
      "================================================================\n",
      "\n"
     ]
    },
    {
     "name": "stderr",
     "output_type": "stream",
     "text": [
      "C:\\Users\\Tom-G\\.conda\\envs\\torchenv\\lib\\site-packages\\torch\\nn\\modules\\container.py:141: UserWarning: Implicit dimension choice for softmax has been deprecated. Change the call to include dim=X as an argument.\n",
      "  input = module(input)\n"
     ]
    },
    {
     "name": "stdout",
     "output_type": "stream",
     "text": [
      "Step [0/3]\t loss_instance: 8.139458656311035\t loss_cluster: 3.295525074005127\n",
      "\n",
      "Epoch [270/500]\t Loss: 11.434975624084473 \n",
      "\n",
      "Step [0/1]\t Computing features...\n",
      "Features shape (1714,)\n",
      "14\n",
      "Test NMI = 0.3174 ARI = 0.1255 F = 0.4847 ACC = 0.0193\n",
      "================================================================\n",
      "\n"
     ]
    },
    {
     "name": "stderr",
     "output_type": "stream",
     "text": [
      "C:\\Users\\Tom-G\\.conda\\envs\\torchenv\\lib\\site-packages\\torch\\nn\\modules\\container.py:141: UserWarning: Implicit dimension choice for softmax has been deprecated. Change the call to include dim=X as an argument.\n",
      "  input = module(input)\n"
     ]
    },
    {
     "name": "stdout",
     "output_type": "stream",
     "text": [
      "Step [0/3]\t loss_instance: 8.139453887939453\t loss_cluster: 3.2955055236816406\n",
      "\n",
      "Epoch [271/500]\t Loss: 11.434946060180664 \n",
      "\n",
      "Step [0/1]\t Computing features...\n",
      "Features shape (1714,)\n",
      "14\n",
      "Test NMI = 0.3205 ARI = 0.1269 F = 0.4863 ACC = 0.0082\n",
      "================================================================\n",
      "\n"
     ]
    },
    {
     "name": "stderr",
     "output_type": "stream",
     "text": [
      "C:\\Users\\Tom-G\\.conda\\envs\\torchenv\\lib\\site-packages\\torch\\nn\\modules\\container.py:141: UserWarning: Implicit dimension choice for softmax has been deprecated. Change the call to include dim=X as an argument.\n",
      "  input = module(input)\n"
     ]
    },
    {
     "name": "stdout",
     "output_type": "stream",
     "text": [
      "Step [0/3]\t loss_instance: 8.139456748962402\t loss_cluster: 3.295498847961426\n",
      "\n",
      "Epoch [272/500]\t Loss: 11.43494955698649 \n",
      "\n",
      "Step [0/1]\t Computing features...\n",
      "Features shape (1714,)\n",
      "14\n",
      "Test NMI = 0.3100 ARI = 0.1214 F = 0.4851 ACC = 0.0023\n",
      "================================================================\n",
      "\n"
     ]
    },
    {
     "name": "stderr",
     "output_type": "stream",
     "text": [
      "C:\\Users\\Tom-G\\.conda\\envs\\torchenv\\lib\\site-packages\\torch\\nn\\modules\\container.py:141: UserWarning: Implicit dimension choice for softmax has been deprecated. Change the call to include dim=X as an argument.\n",
      "  input = module(input)\n"
     ]
    },
    {
     "name": "stdout",
     "output_type": "stream",
     "text": [
      "Step [0/3]\t loss_instance: 8.139471054077148\t loss_cluster: 3.295473098754883\n",
      "\n",
      "Epoch [273/500]\t Loss: 11.434943199157715 \n",
      "\n",
      "Step [0/1]\t Computing features...\n",
      "Features shape (1714,)\n",
      "14\n",
      "Test NMI = 0.3040 ARI = 0.1190 F = 0.4844 ACC = 0.0187\n",
      "================================================================\n",
      "\n"
     ]
    },
    {
     "name": "stderr",
     "output_type": "stream",
     "text": [
      "C:\\Users\\Tom-G\\.conda\\envs\\torchenv\\lib\\site-packages\\torch\\nn\\modules\\container.py:141: UserWarning: Implicit dimension choice for softmax has been deprecated. Change the call to include dim=X as an argument.\n",
      "  input = module(input)\n"
     ]
    },
    {
     "name": "stdout",
     "output_type": "stream",
     "text": [
      "Step [0/3]\t loss_instance: 8.139472961425781\t loss_cluster: 3.2954695224761963\n",
      "\n",
      "Epoch [274/500]\t Loss: 11.434941927591959 \n",
      "\n",
      "Step [0/1]\t Computing features...\n",
      "Features shape (1714,)\n",
      "14\n",
      "Test NMI = 0.3044 ARI = 0.1191 F = 0.4842 ACC = 0.0023\n",
      "================================================================\n",
      "\n"
     ]
    },
    {
     "name": "stderr",
     "output_type": "stream",
     "text": [
      "C:\\Users\\Tom-G\\.conda\\envs\\torchenv\\lib\\site-packages\\torch\\nn\\modules\\container.py:141: UserWarning: Implicit dimension choice for softmax has been deprecated. Change the call to include dim=X as an argument.\n",
      "  input = module(input)\n"
     ]
    },
    {
     "name": "stdout",
     "output_type": "stream",
     "text": [
      "Step [0/3]\t loss_instance: 8.139466285705566\t loss_cluster: 3.2954599857330322\n",
      "\n",
      "Epoch [275/500]\t Loss: 11.43493938446045 \n",
      "\n",
      "Step [0/1]\t Computing features...\n",
      "Features shape (1714,)\n",
      "14\n",
      "Test NMI = 0.3030 ARI = 0.1200 F = 0.4836 ACC = 0.0041\n",
      "================================================================\n",
      "\n"
     ]
    },
    {
     "name": "stderr",
     "output_type": "stream",
     "text": [
      "C:\\Users\\Tom-G\\.conda\\envs\\torchenv\\lib\\site-packages\\torch\\nn\\modules\\container.py:141: UserWarning: Implicit dimension choice for softmax has been deprecated. Change the call to include dim=X as an argument.\n",
      "  input = module(input)\n"
     ]
    },
    {
     "name": "stdout",
     "output_type": "stream",
     "text": [
      "Step [0/3]\t loss_instance: 8.1394624710083\t loss_cluster: 3.295447826385498\n",
      "\n",
      "Epoch [276/500]\t Loss: 11.434909184773764 \n",
      "\n",
      "Step [0/1]\t Computing features...\n",
      "Features shape (1714,)\n",
      "14\n",
      "Test NMI = 0.3010 ARI = 0.1183 F = 0.4838 ACC = 0.0187\n",
      "================================================================\n",
      "\n"
     ]
    },
    {
     "name": "stderr",
     "output_type": "stream",
     "text": [
      "C:\\Users\\Tom-G\\.conda\\envs\\torchenv\\lib\\site-packages\\torch\\nn\\modules\\container.py:141: UserWarning: Implicit dimension choice for softmax has been deprecated. Change the call to include dim=X as an argument.\n",
      "  input = module(input)\n"
     ]
    },
    {
     "name": "stdout",
     "output_type": "stream",
     "text": [
      "Step [0/3]\t loss_instance: 8.139456748962402\t loss_cluster: 3.2954375743865967\n",
      "\n",
      "Epoch [277/500]\t Loss: 11.4348996480306 \n",
      "\n",
      "Step [0/1]\t Computing features...\n",
      "Features shape (1714,)\n",
      "14\n",
      "Test NMI = 0.3007 ARI = 0.1188 F = 0.4839 ACC = 0.0193\n",
      "================================================================\n",
      "\n"
     ]
    },
    {
     "name": "stderr",
     "output_type": "stream",
     "text": [
      "C:\\Users\\Tom-G\\.conda\\envs\\torchenv\\lib\\site-packages\\torch\\nn\\modules\\container.py:141: UserWarning: Implicit dimension choice for softmax has been deprecated. Change the call to include dim=X as an argument.\n",
      "  input = module(input)\n"
     ]
    },
    {
     "name": "stdout",
     "output_type": "stream",
     "text": [
      "Step [0/3]\t loss_instance: 8.139451026916504\t loss_cluster: 3.2954533100128174\n",
      "\n",
      "Epoch [278/500]\t Loss: 11.434893290201822 \n",
      "\n",
      "Step [0/1]\t Computing features...\n",
      "Features shape (1714,)\n",
      "14\n",
      "Test NMI = 0.2984 ARI = 0.1203 F = 0.4833 ACC = 0.0023\n",
      "================================================================\n",
      "\n"
     ]
    },
    {
     "name": "stderr",
     "output_type": "stream",
     "text": [
      "C:\\Users\\Tom-G\\.conda\\envs\\torchenv\\lib\\site-packages\\torch\\nn\\modules\\container.py:141: UserWarning: Implicit dimension choice for softmax has been deprecated. Change the call to include dim=X as an argument.\n",
      "  input = module(input)\n"
     ]
    },
    {
     "name": "stdout",
     "output_type": "stream",
     "text": [
      "Step [0/3]\t loss_instance: 8.139450073242188\t loss_cluster: 3.295433759689331\n",
      "\n",
      "Epoch [279/500]\t Loss: 11.434892336527506 \n",
      "\n",
      "Step [0/1]\t Computing features...\n",
      "Features shape (1714,)\n",
      "14\n",
      "Test NMI = 0.2961 ARI = 0.1204 F = 0.4816 ACC = 0.0105\n",
      "================================================================\n",
      "\n"
     ]
    },
    {
     "name": "stderr",
     "output_type": "stream",
     "text": [
      "C:\\Users\\Tom-G\\.conda\\envs\\torchenv\\lib\\site-packages\\torch\\nn\\modules\\container.py:141: UserWarning: Implicit dimension choice for softmax has been deprecated. Change the call to include dim=X as an argument.\n",
      "  input = module(input)\n"
     ]
    },
    {
     "name": "stdout",
     "output_type": "stream",
     "text": [
      "Step [0/3]\t loss_instance: 8.139472961425781\t loss_cluster: 3.2954251766204834\n",
      "\n",
      "Epoch [280/500]\t Loss: 11.434899965922037 \n",
      "\n",
      "Step [0/1]\t Computing features...\n",
      "Features shape (1714,)\n",
      "14\n",
      "Test NMI = 0.2956 ARI = 0.1197 F = 0.4794 ACC = 0.0053\n",
      "================================================================\n",
      "\n"
     ]
    },
    {
     "name": "stderr",
     "output_type": "stream",
     "text": [
      "C:\\Users\\Tom-G\\.conda\\envs\\torchenv\\lib\\site-packages\\torch\\nn\\modules\\container.py:141: UserWarning: Implicit dimension choice for softmax has been deprecated. Change the call to include dim=X as an argument.\n",
      "  input = module(input)\n"
     ]
    },
    {
     "name": "stdout",
     "output_type": "stream",
     "text": [
      "Step [0/3]\t loss_instance: 8.139450073242188\t loss_cluster: 3.295440435409546\n",
      "\n",
      "Epoch [281/500]\t Loss: 11.434879938761393 \n",
      "\n",
      "Step [0/1]\t Computing features...\n",
      "Features shape (1714,)\n",
      "14\n",
      "Test NMI = 0.2958 ARI = 0.1210 F = 0.4714 ACC = 0.0111\n",
      "================================================================\n",
      "\n"
     ]
    },
    {
     "name": "stderr",
     "output_type": "stream",
     "text": [
      "C:\\Users\\Tom-G\\.conda\\envs\\torchenv\\lib\\site-packages\\torch\\nn\\modules\\container.py:141: UserWarning: Implicit dimension choice for softmax has been deprecated. Change the call to include dim=X as an argument.\n",
      "  input = module(input)\n"
     ]
    },
    {
     "name": "stdout",
     "output_type": "stream",
     "text": [
      "Step [0/3]\t loss_instance: 8.139451026916504\t loss_cluster: 3.295430898666382\n",
      "\n",
      "Epoch [282/500]\t Loss: 11.434898376464844 \n",
      "\n",
      "Step [0/1]\t Computing features...\n",
      "Features shape (1714,)\n",
      "14\n",
      "Test NMI = 0.2915 ARI = 0.1187 F = 0.4611 ACC = 0.0053\n",
      "================================================================\n",
      "\n"
     ]
    },
    {
     "name": "stderr",
     "output_type": "stream",
     "text": [
      "C:\\Users\\Tom-G\\.conda\\envs\\torchenv\\lib\\site-packages\\torch\\nn\\modules\\container.py:141: UserWarning: Implicit dimension choice for softmax has been deprecated. Change the call to include dim=X as an argument.\n",
      "  input = module(input)\n"
     ]
    },
    {
     "name": "stdout",
     "output_type": "stream",
     "text": [
      "Step [0/3]\t loss_instance: 8.139450073242188\t loss_cluster: 3.295426607131958\n",
      "\n",
      "Epoch [283/500]\t Loss: 11.434876124064127 \n",
      "\n",
      "Step [0/1]\t Computing features...\n",
      "Features shape (1714,)\n",
      "14\n",
      "Test NMI = 0.2872 ARI = 0.1179 F = 0.4552 ACC = 0.4049\n",
      "================================================================\n",
      "\n"
     ]
    },
    {
     "name": "stderr",
     "output_type": "stream",
     "text": [
      "C:\\Users\\Tom-G\\.conda\\envs\\torchenv\\lib\\site-packages\\torch\\nn\\modules\\container.py:141: UserWarning: Implicit dimension choice for softmax has been deprecated. Change the call to include dim=X as an argument.\n",
      "  input = module(input)\n"
     ]
    },
    {
     "name": "stdout",
     "output_type": "stream",
     "text": [
      "Step [0/3]\t loss_instance: 8.139452934265137\t loss_cluster: 3.295414686203003\n",
      "\n",
      "Epoch [284/500]\t Loss: 11.43487517038981 \n",
      "\n",
      "Step [0/1]\t Computing features...\n",
      "Features shape (1714,)\n",
      "14\n",
      "Test NMI = 0.2847 ARI = 0.1199 F = 0.4497 ACC = 0.0566\n",
      "================================================================\n",
      "\n"
     ]
    },
    {
     "name": "stderr",
     "output_type": "stream",
     "text": [
      "C:\\Users\\Tom-G\\.conda\\envs\\torchenv\\lib\\site-packages\\torch\\nn\\modules\\container.py:141: UserWarning: Implicit dimension choice for softmax has been deprecated. Change the call to include dim=X as an argument.\n",
      "  input = module(input)\n"
     ]
    },
    {
     "name": "stdout",
     "output_type": "stream",
     "text": [
      "Step [0/3]\t loss_instance: 8.139445304870605\t loss_cluster: 3.2954366207122803\n",
      "\n",
      "Epoch [285/500]\t Loss: 11.434868176778158 \n",
      "\n",
      "Step [0/1]\t Computing features...\n",
      "Features shape (1714,)\n",
      "14\n",
      "Test NMI = 0.2827 ARI = 0.1188 F = 0.4347 ACC = 0.0146\n",
      "================================================================\n",
      "\n"
     ]
    },
    {
     "name": "stderr",
     "output_type": "stream",
     "text": [
      "C:\\Users\\Tom-G\\.conda\\envs\\torchenv\\lib\\site-packages\\torch\\nn\\modules\\container.py:141: UserWarning: Implicit dimension choice for softmax has been deprecated. Change the call to include dim=X as an argument.\n",
      "  input = module(input)\n"
     ]
    },
    {
     "name": "stdout",
     "output_type": "stream",
     "text": [
      "Step [0/3]\t loss_instance: 8.139451026916504\t loss_cluster: 3.2954115867614746\n",
      "\n",
      "Epoch [286/500]\t Loss: 11.434863090515137 \n",
      "\n",
      "Step [0/1]\t Computing features...\n",
      "Features shape (1714,)\n",
      "14\n",
      "Test NMI = 0.2796 ARI = 0.1150 F = 0.4142 ACC = 0.0181\n",
      "================================================================\n",
      "\n"
     ]
    },
    {
     "name": "stderr",
     "output_type": "stream",
     "text": [
      "C:\\Users\\Tom-G\\.conda\\envs\\torchenv\\lib\\site-packages\\torch\\nn\\modules\\container.py:141: UserWarning: Implicit dimension choice for softmax has been deprecated. Change the call to include dim=X as an argument.\n",
      "  input = module(input)\n"
     ]
    },
    {
     "name": "stdout",
     "output_type": "stream",
     "text": [
      "Step [0/3]\t loss_instance: 8.139445304870605\t loss_cluster: 3.2954180240631104\n",
      "\n",
      "Epoch [287/500]\t Loss: 11.434860547383627 \n",
      "\n",
      "Step [0/1]\t Computing features...\n",
      "Features shape (1714,)\n",
      "14\n",
      "Test NMI = 0.2744 ARI = 0.1189 F = 0.4023 ACC = 0.0309\n",
      "================================================================\n",
      "\n"
     ]
    },
    {
     "name": "stderr",
     "output_type": "stream",
     "text": [
      "C:\\Users\\Tom-G\\.conda\\envs\\torchenv\\lib\\site-packages\\torch\\nn\\modules\\container.py:141: UserWarning: Implicit dimension choice for softmax has been deprecated. Change the call to include dim=X as an argument.\n",
      "  input = module(input)\n"
     ]
    },
    {
     "name": "stdout",
     "output_type": "stream",
     "text": [
      "Step [0/3]\t loss_instance: 8.139445304870605\t loss_cluster: 3.295412302017212\n",
      "\n",
      "Epoch [288/500]\t Loss: 11.434858957926432 \n",
      "\n",
      "Step [0/1]\t Computing features...\n",
      "Features shape (1714,)\n",
      "14\n",
      "Test NMI = 0.2732 ARI = 0.1166 F = 0.3931 ACC = 0.0333\n",
      "================================================================\n",
      "\n"
     ]
    },
    {
     "name": "stderr",
     "output_type": "stream",
     "text": [
      "C:\\Users\\Tom-G\\.conda\\envs\\torchenv\\lib\\site-packages\\torch\\nn\\modules\\container.py:141: UserWarning: Implicit dimension choice for softmax has been deprecated. Change the call to include dim=X as an argument.\n",
      "  input = module(input)\n"
     ]
    },
    {
     "name": "stdout",
     "output_type": "stream",
     "text": [
      "Step [0/3]\t loss_instance: 8.139449119567871\t loss_cluster: 3.2954158782958984\n",
      "\n",
      "Epoch [289/500]\t Loss: 11.434857686360678 \n",
      "\n",
      "Step [0/1]\t Computing features...\n",
      "Features shape (1714,)\n",
      "14\n",
      "Test NMI = 0.2713 ARI = 0.1194 F = 0.3835 ACC = 0.0298\n",
      "================================================================\n",
      "\n"
     ]
    },
    {
     "name": "stderr",
     "output_type": "stream",
     "text": [
      "C:\\Users\\Tom-G\\.conda\\envs\\torchenv\\lib\\site-packages\\torch\\nn\\modules\\container.py:141: UserWarning: Implicit dimension choice for softmax has been deprecated. Change the call to include dim=X as an argument.\n",
      "  input = module(input)\n"
     ]
    },
    {
     "name": "stdout",
     "output_type": "stream",
     "text": [
      "Step [0/3]\t loss_instance: 8.139443397521973\t loss_cluster: 3.2954137325286865\n",
      "\n",
      "Epoch [290/500]\t Loss: 11.434853871663412 \n",
      "\n",
      "Step [0/1]\t Computing features...\n",
      "Features shape (1714,)\n",
      "14\n",
      "Test NMI = 0.2715 ARI = 0.1232 F = 0.3787 ACC = 0.0327\n",
      "================================================================\n",
      "\n"
     ]
    },
    {
     "name": "stderr",
     "output_type": "stream",
     "text": [
      "C:\\Users\\Tom-G\\.conda\\envs\\torchenv\\lib\\site-packages\\torch\\nn\\modules\\container.py:141: UserWarning: Implicit dimension choice for softmax has been deprecated. Change the call to include dim=X as an argument.\n",
      "  input = module(input)\n"
     ]
    },
    {
     "name": "stdout",
     "output_type": "stream",
     "text": [
      "Step [0/3]\t loss_instance: 8.139444351196289\t loss_cluster: 3.2954061031341553\n",
      "\n",
      "Epoch [291/500]\t Loss: 11.434857050577799 \n",
      "\n",
      "Step [0/1]\t Computing features...\n",
      "Features shape (1714,)\n",
      "14\n",
      "Test NMI = 0.2728 ARI = 0.1257 F = 0.3754 ACC = 0.0327\n",
      "================================================================\n",
      "\n"
     ]
    },
    {
     "name": "stderr",
     "output_type": "stream",
     "text": [
      "C:\\Users\\Tom-G\\.conda\\envs\\torchenv\\lib\\site-packages\\torch\\nn\\modules\\container.py:141: UserWarning: Implicit dimension choice for softmax has been deprecated. Change the call to include dim=X as an argument.\n",
      "  input = module(input)\n"
     ]
    },
    {
     "name": "stdout",
     "output_type": "stream",
     "text": [
      "Step [0/3]\t loss_instance: 8.139445304870605\t loss_cluster: 3.2954208850860596\n",
      "\n",
      "Epoch [292/500]\t Loss: 11.434850692749023 \n",
      "\n",
      "Step [0/1]\t Computing features...\n",
      "Features shape (1714,)\n",
      "14\n",
      "Test NMI = 0.2706 ARI = 0.1268 F = 0.3726 ACC = 0.0408\n",
      "================================================================\n",
      "\n"
     ]
    },
    {
     "name": "stderr",
     "output_type": "stream",
     "text": [
      "C:\\Users\\Tom-G\\.conda\\envs\\torchenv\\lib\\site-packages\\torch\\nn\\modules\\container.py:141: UserWarning: Implicit dimension choice for softmax has been deprecated. Change the call to include dim=X as an argument.\n",
      "  input = module(input)\n"
     ]
    },
    {
     "name": "stdout",
     "output_type": "stream",
     "text": [
      "Step [0/3]\t loss_instance: 8.139443397521973\t loss_cluster: 3.295417308807373\n",
      "\n",
      "Epoch [293/500]\t Loss: 11.434858957926432 \n",
      "\n",
      "Step [0/1]\t Computing features...\n",
      "Features shape (1714,)\n",
      "14\n",
      "Test NMI = 0.2725 ARI = 0.1281 F = 0.3702 ACC = 0.0350\n",
      "================================================================\n",
      "\n"
     ]
    },
    {
     "name": "stderr",
     "output_type": "stream",
     "text": [
      "C:\\Users\\Tom-G\\.conda\\envs\\torchenv\\lib\\site-packages\\torch\\nn\\modules\\container.py:141: UserWarning: Implicit dimension choice for softmax has been deprecated. Change the call to include dim=X as an argument.\n",
      "  input = module(input)\n"
     ]
    },
    {
     "name": "stdout",
     "output_type": "stream",
     "text": [
      "Step [0/3]\t loss_instance: 8.13944149017334\t loss_cluster: 3.2954087257385254\n",
      "\n",
      "Epoch [294/500]\t Loss: 11.434849739074707 \n",
      "\n",
      "Step [0/1]\t Computing features...\n",
      "Features shape (1714,)\n",
      "14\n",
      "Test NMI = 0.2713 ARI = 0.1276 F = 0.3701 ACC = 0.0373\n",
      "================================================================\n",
      "\n"
     ]
    },
    {
     "name": "stderr",
     "output_type": "stream",
     "text": [
      "C:\\Users\\Tom-G\\.conda\\envs\\torchenv\\lib\\site-packages\\torch\\nn\\modules\\container.py:141: UserWarning: Implicit dimension choice for softmax has been deprecated. Change the call to include dim=X as an argument.\n",
      "  input = module(input)\n"
     ]
    },
    {
     "name": "stdout",
     "output_type": "stream",
     "text": [
      "Step [0/3]\t loss_instance: 8.139442443847656\t loss_cluster: 3.2953996658325195\n",
      "\n",
      "Epoch [295/500]\t Loss: 11.434845924377441 \n",
      "\n",
      "Step [0/1]\t Computing features...\n",
      "Features shape (1714,)\n",
      "14\n",
      "Test NMI = 0.2744 ARI = 0.1302 F = 0.3706 ACC = 0.0053\n",
      "================================================================\n",
      "\n"
     ]
    },
    {
     "name": "stderr",
     "output_type": "stream",
     "text": [
      "C:\\Users\\Tom-G\\.conda\\envs\\torchenv\\lib\\site-packages\\torch\\nn\\modules\\container.py:141: UserWarning: Implicit dimension choice for softmax has been deprecated. Change the call to include dim=X as an argument.\n",
      "  input = module(input)\n"
     ]
    },
    {
     "name": "stdout",
     "output_type": "stream",
     "text": [
      "Step [0/3]\t loss_instance: 8.139442443847656\t loss_cluster: 3.2953970432281494\n",
      "\n",
      "Epoch [296/500]\t Loss: 11.434839884440104 \n",
      "\n",
      "Step [0/1]\t Computing features...\n",
      "Features shape (1714,)\n",
      "14\n",
      "Test NMI = 0.2724 ARI = 0.1322 F = 0.3697 ACC = 0.0041\n",
      "================================================================\n",
      "\n"
     ]
    },
    {
     "name": "stderr",
     "output_type": "stream",
     "text": [
      "C:\\Users\\Tom-G\\.conda\\envs\\torchenv\\lib\\site-packages\\torch\\nn\\modules\\container.py:141: UserWarning: Implicit dimension choice for softmax has been deprecated. Change the call to include dim=X as an argument.\n",
      "  input = module(input)\n"
     ]
    },
    {
     "name": "stdout",
     "output_type": "stream",
     "text": [
      "Step [0/3]\t loss_instance: 8.139444351196289\t loss_cluster: 3.2954108715057373\n",
      "\n",
      "Epoch [297/500]\t Loss: 11.434858640034994 \n",
      "\n",
      "Step [0/1]\t Computing features...\n",
      "Features shape (1714,)\n",
      "14\n",
      "Test NMI = 0.2723 ARI = 0.1357 F = 0.3698 ACC = 0.1803\n",
      "================================================================\n",
      "\n"
     ]
    },
    {
     "name": "stderr",
     "output_type": "stream",
     "text": [
      "C:\\Users\\Tom-G\\.conda\\envs\\torchenv\\lib\\site-packages\\torch\\nn\\modules\\container.py:141: UserWarning: Implicit dimension choice for softmax has been deprecated. Change the call to include dim=X as an argument.\n",
      "  input = module(input)\n"
     ]
    },
    {
     "name": "stdout",
     "output_type": "stream",
     "text": [
      "Step [0/3]\t loss_instance: 8.139447212219238\t loss_cluster: 3.2953977584838867\n",
      "\n",
      "Epoch [298/500]\t Loss: 11.434840202331543 \n",
      "\n",
      "Step [0/1]\t Computing features...\n",
      "Features shape (1714,)\n",
      "14\n",
      "Test NMI = 0.2710 ARI = 0.1348 F = 0.3682 ACC = 0.1809\n",
      "================================================================\n",
      "\n"
     ]
    },
    {
     "name": "stderr",
     "output_type": "stream",
     "text": [
      "C:\\Users\\Tom-G\\.conda\\envs\\torchenv\\lib\\site-packages\\torch\\nn\\modules\\container.py:141: UserWarning: Implicit dimension choice for softmax has been deprecated. Change the call to include dim=X as an argument.\n",
      "  input = module(input)\n"
     ]
    },
    {
     "name": "stdout",
     "output_type": "stream",
     "text": [
      "Step [0/3]\t loss_instance: 8.139442443847656\t loss_cluster: 3.2954068183898926\n",
      "\n",
      "Epoch [299/500]\t Loss: 11.434843381245932 \n",
      "\n",
      "Step [0/1]\t Computing features...\n",
      "Features shape (1714,)\n",
      "14\n",
      "Test NMI = 0.2750 ARI = 0.1389 F = 0.3712 ACC = 0.1861\n",
      "================================================================\n",
      "\n"
     ]
    },
    {
     "name": "stderr",
     "output_type": "stream",
     "text": [
      "C:\\Users\\Tom-G\\.conda\\envs\\torchenv\\lib\\site-packages\\torch\\nn\\modules\\container.py:141: UserWarning: Implicit dimension choice for softmax has been deprecated. Change the call to include dim=X as an argument.\n",
      "  input = module(input)\n"
     ]
    },
    {
     "name": "stdout",
     "output_type": "stream",
     "text": [
      "Step [0/3]\t loss_instance: 8.13944149017334\t loss_cluster: 3.295410394668579\n",
      "\n",
      "Epoch [300/500]\t Loss: 11.434865315755209 \n",
      "\n",
      "Step [0/1]\t Computing features...\n",
      "Features shape (1714,)\n",
      "14\n",
      "Test NMI = 0.2840 ARI = 0.1453 F = 0.3712 ACC = 0.1908\n",
      "================================================================\n",
      "\n"
     ]
    },
    {
     "name": "stderr",
     "output_type": "stream",
     "text": [
      "C:\\Users\\Tom-G\\.conda\\envs\\torchenv\\lib\\site-packages\\torch\\nn\\modules\\container.py:141: UserWarning: Implicit dimension choice for softmax has been deprecated. Change the call to include dim=X as an argument.\n",
      "  input = module(input)\n"
     ]
    },
    {
     "name": "stdout",
     "output_type": "stream",
     "text": [
      "Step [0/3]\t loss_instance: 8.13944149017334\t loss_cluster: 3.295398712158203\n",
      "\n",
      "Epoch [301/500]\t Loss: 11.434852282206217 \n",
      "\n",
      "Step [0/1]\t Computing features...\n",
      "Features shape (1714,)\n",
      "14\n",
      "Test NMI = 0.3034 ARI = 0.1559 F = 0.3752 ACC = 0.1931\n",
      "================================================================\n",
      "\n"
     ]
    },
    {
     "name": "stderr",
     "output_type": "stream",
     "text": [
      "C:\\Users\\Tom-G\\.conda\\envs\\torchenv\\lib\\site-packages\\torch\\nn\\modules\\container.py:141: UserWarning: Implicit dimension choice for softmax has been deprecated. Change the call to include dim=X as an argument.\n",
      "  input = module(input)\n"
     ]
    },
    {
     "name": "stdout",
     "output_type": "stream",
     "text": [
      "Step [0/3]\t loss_instance: 8.139443397521973\t loss_cluster: 3.2953948974609375\n",
      "\n",
      "Epoch [302/500]\t Loss: 11.434853871663412 \n",
      "\n",
      "Step [0/1]\t Computing features...\n",
      "Features shape (1714,)\n",
      "14\n",
      "Test NMI = 0.2969 ARI = 0.1540 F = 0.3777 ACC = 0.1960\n",
      "================================================================\n",
      "\n"
     ]
    },
    {
     "name": "stderr",
     "output_type": "stream",
     "text": [
      "C:\\Users\\Tom-G\\.conda\\envs\\torchenv\\lib\\site-packages\\torch\\nn\\modules\\container.py:141: UserWarning: Implicit dimension choice for softmax has been deprecated. Change the call to include dim=X as an argument.\n",
      "  input = module(input)\n"
     ]
    },
    {
     "name": "stdout",
     "output_type": "stream",
     "text": [
      "Step [0/3]\t loss_instance: 8.139444351196289\t loss_cluster: 3.295388698577881\n",
      "\n",
      "Epoch [303/500]\t Loss: 11.434841473897299 \n",
      "\n",
      "Step [0/1]\t Computing features...\n",
      "Features shape (1714,)\n",
      "14\n",
      "Test NMI = 0.3035 ARI = 0.1652 F = 0.3849 ACC = 0.2065\n",
      "================================================================\n",
      "\n"
     ]
    },
    {
     "name": "stderr",
     "output_type": "stream",
     "text": [
      "C:\\Users\\Tom-G\\.conda\\envs\\torchenv\\lib\\site-packages\\torch\\nn\\modules\\container.py:141: UserWarning: Implicit dimension choice for softmax has been deprecated. Change the call to include dim=X as an argument.\n",
      "  input = module(input)\n"
     ]
    },
    {
     "name": "stdout",
     "output_type": "stream",
     "text": [
      "Step [0/3]\t loss_instance: 8.139445304870605\t loss_cluster: 3.2954046726226807\n",
      "\n",
      "Epoch [304/500]\t Loss: 11.434867223103842 \n",
      "\n",
      "Step [0/1]\t Computing features...\n",
      "Features shape (1714,)\n",
      "14\n",
      "Test NMI = 0.3398 ARI = 0.1850 F = 0.3934 ACC = 0.4527\n",
      "================================================================\n",
      "\n"
     ]
    },
    {
     "name": "stderr",
     "output_type": "stream",
     "text": [
      "C:\\Users\\Tom-G\\.conda\\envs\\torchenv\\lib\\site-packages\\torch\\nn\\modules\\container.py:141: UserWarning: Implicit dimension choice for softmax has been deprecated. Change the call to include dim=X as an argument.\n",
      "  input = module(input)\n"
     ]
    },
    {
     "name": "stdout",
     "output_type": "stream",
     "text": [
      "Step [0/3]\t loss_instance: 8.139445304870605\t loss_cluster: 3.29539155960083\n",
      "\n",
      "Epoch [305/500]\t Loss: 11.434837659200033 \n",
      "\n",
      "Step [0/1]\t Computing features...\n",
      "Features shape (1714,)\n",
      "14\n",
      "Test NMI = 0.3425 ARI = 0.1834 F = 0.3861 ACC = 0.4609\n",
      "================================================================\n",
      "\n"
     ]
    },
    {
     "name": "stderr",
     "output_type": "stream",
     "text": [
      "C:\\Users\\Tom-G\\.conda\\envs\\torchenv\\lib\\site-packages\\torch\\nn\\modules\\container.py:141: UserWarning: Implicit dimension choice for softmax has been deprecated. Change the call to include dim=X as an argument.\n",
      "  input = module(input)\n"
     ]
    },
    {
     "name": "stdout",
     "output_type": "stream",
     "text": [
      "Step [0/3]\t loss_instance: 8.139445304870605\t loss_cluster: 3.2954115867614746\n",
      "\n",
      "Epoch [306/500]\t Loss: 11.434863726298014 \n",
      "\n",
      "Step [0/1]\t Computing features...\n",
      "Features shape (1714,)\n",
      "14\n",
      "Test NMI = 0.3488 ARI = 0.1921 F = 0.3877 ACC = 0.4872\n",
      "================================================================\n",
      "\n"
     ]
    },
    {
     "name": "stderr",
     "output_type": "stream",
     "text": [
      "C:\\Users\\Tom-G\\.conda\\envs\\torchenv\\lib\\site-packages\\torch\\nn\\modules\\container.py:141: UserWarning: Implicit dimension choice for softmax has been deprecated. Change the call to include dim=X as an argument.\n",
      "  input = module(input)\n"
     ]
    },
    {
     "name": "stdout",
     "output_type": "stream",
     "text": [
      "Step [0/3]\t loss_instance: 8.139446258544922\t loss_cluster: 3.2954318523406982\n",
      "\n",
      "Epoch [307/500]\t Loss: 11.434849739074707 \n",
      "\n",
      "Step [0/1]\t Computing features...\n",
      "Features shape (1714,)\n",
      "14\n",
      "Test NMI = 0.3350 ARI = 0.1834 F = 0.3933 ACC = 0.4726\n",
      "================================================================\n",
      "\n"
     ]
    },
    {
     "name": "stderr",
     "output_type": "stream",
     "text": [
      "C:\\Users\\Tom-G\\.conda\\envs\\torchenv\\lib\\site-packages\\torch\\nn\\modules\\container.py:141: UserWarning: Implicit dimension choice for softmax has been deprecated. Change the call to include dim=X as an argument.\n",
      "  input = module(input)\n"
     ]
    },
    {
     "name": "stdout",
     "output_type": "stream",
     "text": [
      "Step [0/3]\t loss_instance: 8.139442443847656\t loss_cluster: 3.295396327972412\n",
      "\n",
      "Epoch [308/500]\t Loss: 11.43484369913737 \n",
      "\n",
      "Step [0/1]\t Computing features...\n",
      "Features shape (1714,)\n",
      "14\n",
      "Test NMI = 0.3414 ARI = 0.1905 F = 0.4019 ACC = 0.4673\n",
      "================================================================\n",
      "\n"
     ]
    },
    {
     "name": "stderr",
     "output_type": "stream",
     "text": [
      "C:\\Users\\Tom-G\\.conda\\envs\\torchenv\\lib\\site-packages\\torch\\nn\\modules\\container.py:141: UserWarning: Implicit dimension choice for softmax has been deprecated. Change the call to include dim=X as an argument.\n",
      "  input = module(input)\n"
     ]
    },
    {
     "name": "stdout",
     "output_type": "stream",
     "text": [
      "Step [0/3]\t loss_instance: 8.139447212219238\t loss_cluster: 3.2953951358795166\n",
      "\n",
      "Epoch [309/500]\t Loss: 11.434837341308594 \n",
      "\n",
      "Step [0/1]\t Computing features...\n",
      "Features shape (1714,)\n",
      "14\n",
      "Test NMI = 0.3552 ARI = 0.2037 F = 0.4034 ACC = 0.4767\n",
      "================================================================\n",
      "\n"
     ]
    },
    {
     "name": "stderr",
     "output_type": "stream",
     "text": [
      "C:\\Users\\Tom-G\\.conda\\envs\\torchenv\\lib\\site-packages\\torch\\nn\\modules\\container.py:141: UserWarning: Implicit dimension choice for softmax has been deprecated. Change the call to include dim=X as an argument.\n",
      "  input = module(input)\n"
     ]
    },
    {
     "name": "stdout",
     "output_type": "stream",
     "text": [
      "Step [0/3]\t loss_instance: 8.139447212219238\t loss_cluster: 3.295416831970215\n",
      "\n",
      "Epoch [310/500]\t Loss: 11.434859911600748 \n",
      "\n",
      "Step [0/1]\t Computing features...\n",
      "Features shape (1714,)\n",
      "14\n",
      "Test NMI = 0.3570 ARI = 0.2071 F = 0.4022 ACC = 0.4848\n",
      "================================================================\n",
      "\n"
     ]
    },
    {
     "name": "stderr",
     "output_type": "stream",
     "text": [
      "C:\\Users\\Tom-G\\.conda\\envs\\torchenv\\lib\\site-packages\\torch\\nn\\modules\\container.py:141: UserWarning: Implicit dimension choice for softmax has been deprecated. Change the call to include dim=X as an argument.\n",
      "  input = module(input)\n"
     ]
    },
    {
     "name": "stdout",
     "output_type": "stream",
     "text": [
      "Step [0/3]\t loss_instance: 8.139445304870605\t loss_cluster: 3.295398473739624\n",
      "\n",
      "Epoch [311/500]\t Loss: 11.434858322143555 \n",
      "\n",
      "Step [0/1]\t Computing features...\n",
      "Features shape (1714,)\n",
      "14\n",
      "Test NMI = 0.3560 ARI = 0.2060 F = 0.4061 ACC = 0.4877\n",
      "================================================================\n",
      "\n"
     ]
    },
    {
     "name": "stderr",
     "output_type": "stream",
     "text": [
      "C:\\Users\\Tom-G\\.conda\\envs\\torchenv\\lib\\site-packages\\torch\\nn\\modules\\container.py:141: UserWarning: Implicit dimension choice for softmax has been deprecated. Change the call to include dim=X as an argument.\n",
      "  input = module(input)\n"
     ]
    },
    {
     "name": "stdout",
     "output_type": "stream",
     "text": [
      "Step [0/3]\t loss_instance: 8.139444351196289\t loss_cluster: 3.2953860759735107\n",
      "\n",
      "Epoch [312/500]\t Loss: 11.434837023417154 \n",
      "\n",
      "Step [0/1]\t Computing features...\n",
      "Features shape (1714,)\n",
      "14\n",
      "Test NMI = 0.3442 ARI = 0.1986 F = 0.4095 ACC = 0.4749\n",
      "================================================================\n",
      "\n"
     ]
    },
    {
     "name": "stderr",
     "output_type": "stream",
     "text": [
      "C:\\Users\\Tom-G\\.conda\\envs\\torchenv\\lib\\site-packages\\torch\\nn\\modules\\container.py:141: UserWarning: Implicit dimension choice for softmax has been deprecated. Change the call to include dim=X as an argument.\n",
      "  input = module(input)\n"
     ]
    },
    {
     "name": "stdout",
     "output_type": "stream",
     "text": [
      "Step [0/3]\t loss_instance: 8.139448165893555\t loss_cluster: 3.2953872680664062\n",
      "\n",
      "Epoch [313/500]\t Loss: 11.43483797709147 \n",
      "\n",
      "Step [0/1]\t Computing features...\n",
      "Features shape (1714,)\n",
      "14\n",
      "Test NMI = 0.3543 ARI = 0.2082 F = 0.4078 ACC = 0.4726\n",
      "================================================================\n",
      "\n"
     ]
    },
    {
     "name": "stderr",
     "output_type": "stream",
     "text": [
      "C:\\Users\\Tom-G\\.conda\\envs\\torchenv\\lib\\site-packages\\torch\\nn\\modules\\container.py:141: UserWarning: Implicit dimension choice for softmax has been deprecated. Change the call to include dim=X as an argument.\n",
      "  input = module(input)\n"
     ]
    },
    {
     "name": "stdout",
     "output_type": "stream",
     "text": [
      "Step [0/3]\t loss_instance: 8.139445304870605\t loss_cluster: 3.295386791229248\n",
      "\n",
      "Epoch [314/500]\t Loss: 11.434837023417154 \n",
      "\n",
      "Step [0/1]\t Computing features...\n",
      "Features shape (1714,)\n",
      "14\n",
      "Test NMI = 0.3585 ARI = 0.2139 F = 0.3927 ACC = 0.4720\n",
      "================================================================\n",
      "\n"
     ]
    },
    {
     "name": "stderr",
     "output_type": "stream",
     "text": [
      "C:\\Users\\Tom-G\\.conda\\envs\\torchenv\\lib\\site-packages\\torch\\nn\\modules\\container.py:141: UserWarning: Implicit dimension choice for softmax has been deprecated. Change the call to include dim=X as an argument.\n",
      "  input = module(input)\n"
     ]
    },
    {
     "name": "stdout",
     "output_type": "stream",
     "text": [
      "Step [0/3]\t loss_instance: 8.139447212219238\t loss_cluster: 3.2953903675079346\n",
      "\n",
      "Epoch [315/500]\t Loss: 11.43483797709147 \n",
      "\n",
      "Step [0/1]\t Computing features...\n",
      "Features shape (1714,)\n",
      "14\n",
      "Test NMI = 0.3562 ARI = 0.2151 F = 0.3912 ACC = 0.4662\n",
      "================================================================\n",
      "\n"
     ]
    },
    {
     "name": "stderr",
     "output_type": "stream",
     "text": [
      "C:\\Users\\Tom-G\\.conda\\envs\\torchenv\\lib\\site-packages\\torch\\nn\\modules\\container.py:141: UserWarning: Implicit dimension choice for softmax has been deprecated. Change the call to include dim=X as an argument.\n",
      "  input = module(input)\n"
     ]
    },
    {
     "name": "stdout",
     "output_type": "stream",
     "text": [
      "Step [0/3]\t loss_instance: 8.139444351196289\t loss_cluster: 3.295396089553833\n",
      "\n",
      "Epoch [316/500]\t Loss: 11.434844017028809 \n",
      "\n",
      "Step [0/1]\t Computing features...\n",
      "Features shape (1714,)\n",
      "14\n",
      "Test NMI = 0.3508 ARI = 0.2119 F = 0.3871 ACC = 0.4632\n",
      "================================================================\n",
      "\n"
     ]
    },
    {
     "name": "stderr",
     "output_type": "stream",
     "text": [
      "C:\\Users\\Tom-G\\.conda\\envs\\torchenv\\lib\\site-packages\\torch\\nn\\modules\\container.py:141: UserWarning: Implicit dimension choice for softmax has been deprecated. Change the call to include dim=X as an argument.\n",
      "  input = module(input)\n"
     ]
    },
    {
     "name": "stdout",
     "output_type": "stream",
     "text": [
      "Step [0/3]\t loss_instance: 8.139448165893555\t loss_cluster: 3.295400619506836\n",
      "\n",
      "Epoch [317/500]\t Loss: 11.43483797709147 \n",
      "\n",
      "Step [0/1]\t Computing features...\n",
      "Features shape (1714,)\n",
      "14\n",
      "Test NMI = 0.3477 ARI = 0.2113 F = 0.3906 ACC = 0.4650\n",
      "================================================================\n",
      "\n"
     ]
    },
    {
     "name": "stderr",
     "output_type": "stream",
     "text": [
      "C:\\Users\\Tom-G\\.conda\\envs\\torchenv\\lib\\site-packages\\torch\\nn\\modules\\container.py:141: UserWarning: Implicit dimension choice for softmax has been deprecated. Change the call to include dim=X as an argument.\n",
      "  input = module(input)\n"
     ]
    },
    {
     "name": "stdout",
     "output_type": "stream",
     "text": [
      "Step [0/3]\t loss_instance: 8.139444351196289\t loss_cluster: 3.2953872680664062\n",
      "\n",
      "Epoch [318/500]\t Loss: 11.434832255045572 \n",
      "\n",
      "Step [0/1]\t Computing features...\n",
      "Features shape (1714,)\n",
      "14\n",
      "Test NMI = 0.3500 ARI = 0.2122 F = 0.3908 ACC = 0.4650\n",
      "================================================================\n",
      "\n"
     ]
    },
    {
     "name": "stderr",
     "output_type": "stream",
     "text": [
      "C:\\Users\\Tom-G\\.conda\\envs\\torchenv\\lib\\site-packages\\torch\\nn\\modules\\container.py:141: UserWarning: Implicit dimension choice for softmax has been deprecated. Change the call to include dim=X as an argument.\n",
      "  input = module(input)\n"
     ]
    },
    {
     "name": "stdout",
     "output_type": "stream",
     "text": [
      "Step [0/3]\t loss_instance: 8.139445304870605\t loss_cluster: 3.2953896522521973\n",
      "\n",
      "Epoch [319/500]\t Loss: 11.434832255045572 \n",
      "\n",
      "Step [0/1]\t Computing features...\n",
      "Features shape (1714,)\n",
      "14\n",
      "Test NMI = 0.3495 ARI = 0.2112 F = 0.3886 ACC = 0.4638\n",
      "================================================================\n",
      "\n"
     ]
    },
    {
     "name": "stderr",
     "output_type": "stream",
     "text": [
      "C:\\Users\\Tom-G\\.conda\\envs\\torchenv\\lib\\site-packages\\torch\\nn\\modules\\container.py:141: UserWarning: Implicit dimension choice for softmax has been deprecated. Change the call to include dim=X as an argument.\n",
      "  input = module(input)\n"
     ]
    },
    {
     "name": "stdout",
     "output_type": "stream",
     "text": [
      "Step [0/3]\t loss_instance: 8.139444351196289\t loss_cluster: 3.2953951358795166\n",
      "\n",
      "Epoch [320/500]\t Loss: 11.434833526611328 \n",
      "\n",
      "Step [0/1]\t Computing features...\n",
      "Features shape (1714,)\n",
      "14\n",
      "Test NMI = 0.3525 ARI = 0.2139 F = 0.3893 ACC = 0.4667\n",
      "================================================================\n",
      "\n"
     ]
    },
    {
     "name": "stderr",
     "output_type": "stream",
     "text": [
      "C:\\Users\\Tom-G\\.conda\\envs\\torchenv\\lib\\site-packages\\torch\\nn\\modules\\container.py:141: UserWarning: Implicit dimension choice for softmax has been deprecated. Change the call to include dim=X as an argument.\n",
      "  input = module(input)\n"
     ]
    },
    {
     "name": "stdout",
     "output_type": "stream",
     "text": [
      "Step [0/3]\t loss_instance: 8.139442443847656\t loss_cluster: 3.295396566390991\n",
      "\n",
      "Epoch [321/500]\t Loss: 11.434837023417154 \n",
      "\n",
      "Step [0/1]\t Computing features...\n",
      "Features shape (1714,)\n",
      "14\n",
      "Test NMI = 0.3525 ARI = 0.2133 F = 0.3835 ACC = 0.4650\n",
      "================================================================\n",
      "\n"
     ]
    },
    {
     "name": "stderr",
     "output_type": "stream",
     "text": [
      "C:\\Users\\Tom-G\\.conda\\envs\\torchenv\\lib\\site-packages\\torch\\nn\\modules\\container.py:141: UserWarning: Implicit dimension choice for softmax has been deprecated. Change the call to include dim=X as an argument.\n",
      "  input = module(input)\n"
     ]
    },
    {
     "name": "stdout",
     "output_type": "stream",
     "text": [
      "Step [0/3]\t loss_instance: 8.139444351196289\t loss_cluster: 3.295388698577881\n",
      "\n",
      "Epoch [322/500]\t Loss: 11.434837023417154 \n",
      "\n",
      "Step [0/1]\t Computing features...\n",
      "Features shape (1714,)\n",
      "14\n",
      "Test NMI = 0.3480 ARI = 0.2088 F = 0.3774 ACC = 0.4580\n",
      "================================================================\n",
      "\n"
     ]
    },
    {
     "name": "stderr",
     "output_type": "stream",
     "text": [
      "C:\\Users\\Tom-G\\.conda\\envs\\torchenv\\lib\\site-packages\\torch\\nn\\modules\\container.py:141: UserWarning: Implicit dimension choice for softmax has been deprecated. Change the call to include dim=X as an argument.\n",
      "  input = module(input)\n"
     ]
    },
    {
     "name": "stdout",
     "output_type": "stream",
     "text": [
      "Step [0/3]\t loss_instance: 8.139443397521973\t loss_cluster: 3.2953948974609375\n",
      "\n",
      "Epoch [323/500]\t Loss: 11.434837341308594 \n",
      "\n",
      "Step [0/1]\t Computing features...\n",
      "Features shape (1714,)\n",
      "14\n",
      "Test NMI = 0.3498 ARI = 0.2101 F = 0.3791 ACC = 0.4592\n",
      "================================================================\n",
      "\n"
     ]
    },
    {
     "name": "stderr",
     "output_type": "stream",
     "text": [
      "C:\\Users\\Tom-G\\.conda\\envs\\torchenv\\lib\\site-packages\\torch\\nn\\modules\\container.py:141: UserWarning: Implicit dimension choice for softmax has been deprecated. Change the call to include dim=X as an argument.\n",
      "  input = module(input)\n"
     ]
    },
    {
     "name": "stdout",
     "output_type": "stream",
     "text": [
      "Step [0/3]\t loss_instance: 8.13944149017334\t loss_cluster: 3.2953920364379883\n",
      "\n",
      "Epoch [324/500]\t Loss: 11.43483829498291 \n",
      "\n",
      "Step [0/1]\t Computing features...\n",
      "Features shape (1714,)\n",
      "14\n",
      "Test NMI = 0.3506 ARI = 0.2061 F = 0.3783 ACC = 0.4586\n",
      "================================================================\n",
      "\n"
     ]
    },
    {
     "name": "stderr",
     "output_type": "stream",
     "text": [
      "C:\\Users\\Tom-G\\.conda\\envs\\torchenv\\lib\\site-packages\\torch\\nn\\modules\\container.py:141: UserWarning: Implicit dimension choice for softmax has been deprecated. Change the call to include dim=X as an argument.\n",
      "  input = module(input)\n"
     ]
    },
    {
     "name": "stdout",
     "output_type": "stream",
     "text": [
      "Step [0/3]\t loss_instance: 8.139443397521973\t loss_cluster: 3.295393705368042\n",
      "\n",
      "Epoch [325/500]\t Loss: 11.434832890828451 \n",
      "\n",
      "Step [0/1]\t Computing features...\n",
      "Features shape (1714,)\n",
      "14\n",
      "Test NMI = 0.3469 ARI = 0.2034 F = 0.3787 ACC = 0.4574\n",
      "================================================================\n",
      "\n"
     ]
    },
    {
     "name": "stderr",
     "output_type": "stream",
     "text": [
      "C:\\Users\\Tom-G\\.conda\\envs\\torchenv\\lib\\site-packages\\torch\\nn\\modules\\container.py:141: UserWarning: Implicit dimension choice for softmax has been deprecated. Change the call to include dim=X as an argument.\n",
      "  input = module(input)\n"
     ]
    },
    {
     "name": "stdout",
     "output_type": "stream",
     "text": [
      "Step [0/3]\t loss_instance: 8.139442443847656\t loss_cluster: 3.2953882217407227\n",
      "\n",
      "Epoch [326/500]\t Loss: 11.434832255045572 \n",
      "\n",
      "Step [0/1]\t Computing features...\n",
      "Features shape (1714,)\n",
      "14\n",
      "Test NMI = 0.3426 ARI = 0.1985 F = 0.3725 ACC = 0.4522\n",
      "================================================================\n",
      "\n"
     ]
    },
    {
     "name": "stderr",
     "output_type": "stream",
     "text": [
      "C:\\Users\\Tom-G\\.conda\\envs\\torchenv\\lib\\site-packages\\torch\\nn\\modules\\container.py:141: UserWarning: Implicit dimension choice for softmax has been deprecated. Change the call to include dim=X as an argument.\n",
      "  input = module(input)\n"
     ]
    },
    {
     "name": "stdout",
     "output_type": "stream",
     "text": [
      "Step [0/3]\t loss_instance: 8.139442443847656\t loss_cluster: 3.29538893699646\n",
      "\n",
      "Epoch [327/500]\t Loss: 11.434829711914062 \n",
      "\n",
      "Step [0/1]\t Computing features...\n",
      "Features shape (1714,)\n",
      "14\n",
      "Test NMI = 0.3392 ARI = 0.1977 F = 0.3705 ACC = 0.4487\n",
      "================================================================\n",
      "\n"
     ]
    },
    {
     "name": "stderr",
     "output_type": "stream",
     "text": [
      "C:\\Users\\Tom-G\\.conda\\envs\\torchenv\\lib\\site-packages\\torch\\nn\\modules\\container.py:141: UserWarning: Implicit dimension choice for softmax has been deprecated. Change the call to include dim=X as an argument.\n",
      "  input = module(input)\n"
     ]
    },
    {
     "name": "stdout",
     "output_type": "stream",
     "text": [
      "Step [0/3]\t loss_instance: 8.139444351196289\t loss_cluster: 3.295396566390991\n",
      "\n",
      "Epoch [328/500]\t Loss: 11.43483861287435 \n",
      "\n",
      "Step [0/1]\t Computing features...\n",
      "Features shape (1714,)\n",
      "14\n",
      "Test NMI = 0.3423 ARI = 0.1998 F = 0.3767 ACC = 0.4516\n",
      "================================================================\n",
      "\n"
     ]
    },
    {
     "name": "stderr",
     "output_type": "stream",
     "text": [
      "C:\\Users\\Tom-G\\.conda\\envs\\torchenv\\lib\\site-packages\\torch\\nn\\modules\\container.py:141: UserWarning: Implicit dimension choice for softmax has been deprecated. Change the call to include dim=X as an argument.\n",
      "  input = module(input)\n"
     ]
    },
    {
     "name": "stdout",
     "output_type": "stream",
     "text": [
      "Step [0/3]\t loss_instance: 8.13944149017334\t loss_cluster: 3.2953994274139404\n",
      "\n",
      "Epoch [329/500]\t Loss: 11.434833844502768 \n",
      "\n",
      "Step [0/1]\t Computing features...\n",
      "Features shape (1714,)\n",
      "14\n",
      "Test NMI = 0.3425 ARI = 0.1932 F = 0.3685 ACC = 0.4510\n",
      "================================================================\n",
      "\n"
     ]
    },
    {
     "name": "stderr",
     "output_type": "stream",
     "text": [
      "C:\\Users\\Tom-G\\.conda\\envs\\torchenv\\lib\\site-packages\\torch\\nn\\modules\\container.py:141: UserWarning: Implicit dimension choice for softmax has been deprecated. Change the call to include dim=X as an argument.\n",
      "  input = module(input)\n"
     ]
    },
    {
     "name": "stdout",
     "output_type": "stream",
     "text": [
      "Step [0/3]\t loss_instance: 8.139444351196289\t loss_cluster: 3.2953829765319824\n",
      "\n",
      "Epoch [330/500]\t Loss: 11.434832890828451 \n",
      "\n",
      "Step [0/1]\t Computing features...\n",
      "Features shape (1714,)\n",
      "14\n",
      "Test NMI = 0.3446 ARI = 0.1967 F = 0.3687 ACC = 0.4516\n",
      "================================================================\n",
      "\n"
     ]
    },
    {
     "name": "stderr",
     "output_type": "stream",
     "text": [
      "C:\\Users\\Tom-G\\.conda\\envs\\torchenv\\lib\\site-packages\\torch\\nn\\modules\\container.py:141: UserWarning: Implicit dimension choice for softmax has been deprecated. Change the call to include dim=X as an argument.\n",
      "  input = module(input)\n"
     ]
    },
    {
     "name": "stdout",
     "output_type": "stream",
     "text": [
      "Step [0/3]\t loss_instance: 8.139442443847656\t loss_cluster: 3.2954015731811523\n",
      "\n",
      "Epoch [331/500]\t Loss: 11.434846878051758 \n",
      "\n",
      "Step [0/1]\t Computing features...\n",
      "Features shape (1714,)\n",
      "14\n",
      "Test NMI = 0.3458 ARI = 0.2008 F = 0.3688 ACC = 0.4522\n",
      "================================================================\n",
      "\n"
     ]
    },
    {
     "name": "stderr",
     "output_type": "stream",
     "text": [
      "C:\\Users\\Tom-G\\.conda\\envs\\torchenv\\lib\\site-packages\\torch\\nn\\modules\\container.py:141: UserWarning: Implicit dimension choice for softmax has been deprecated. Change the call to include dim=X as an argument.\n",
      "  input = module(input)\n"
     ]
    },
    {
     "name": "stdout",
     "output_type": "stream",
     "text": [
      "Step [0/3]\t loss_instance: 8.139447212219238\t loss_cluster: 3.2953848838806152\n",
      "\n",
      "Epoch [332/500]\t Loss: 11.434830665588379 \n",
      "\n",
      "Step [0/1]\t Computing features...\n",
      "Features shape (1714,)\n",
      "14\n",
      "Test NMI = 0.3412 ARI = 0.1960 F = 0.3664 ACC = 0.4463\n",
      "================================================================\n",
      "\n"
     ]
    },
    {
     "name": "stderr",
     "output_type": "stream",
     "text": [
      "C:\\Users\\Tom-G\\.conda\\envs\\torchenv\\lib\\site-packages\\torch\\nn\\modules\\container.py:141: UserWarning: Implicit dimension choice for softmax has been deprecated. Change the call to include dim=X as an argument.\n",
      "  input = module(input)\n"
     ]
    },
    {
     "name": "stdout",
     "output_type": "stream",
     "text": [
      "Step [0/3]\t loss_instance: 8.139444351196289\t loss_cluster: 3.295395851135254\n",
      "\n",
      "Epoch [333/500]\t Loss: 11.4348357518514 \n",
      "\n",
      "Step [0/1]\t Computing features...\n",
      "Features shape (1714,)\n",
      "14\n",
      "Test NMI = 0.3351 ARI = 0.1896 F = 0.3634 ACC = 0.4399\n",
      "================================================================\n",
      "\n"
     ]
    },
    {
     "name": "stderr",
     "output_type": "stream",
     "text": [
      "C:\\Users\\Tom-G\\.conda\\envs\\torchenv\\lib\\site-packages\\torch\\nn\\modules\\container.py:141: UserWarning: Implicit dimension choice for softmax has been deprecated. Change the call to include dim=X as an argument.\n",
      "  input = module(input)\n"
     ]
    },
    {
     "name": "stdout",
     "output_type": "stream",
     "text": [
      "Step [0/3]\t loss_instance: 8.139446258544922\t loss_cluster: 3.2953941822052\n",
      "\n",
      "Epoch [334/500]\t Loss: 11.434844334920248 \n",
      "\n",
      "Step [0/1]\t Computing features...\n",
      "Features shape (1714,)\n",
      "14\n",
      "Test NMI = 0.3308 ARI = 0.1829 F = 0.3615 ACC = 0.4358\n",
      "================================================================\n",
      "\n"
     ]
    },
    {
     "name": "stderr",
     "output_type": "stream",
     "text": [
      "C:\\Users\\Tom-G\\.conda\\envs\\torchenv\\lib\\site-packages\\torch\\nn\\modules\\container.py:141: UserWarning: Implicit dimension choice for softmax has been deprecated. Change the call to include dim=X as an argument.\n",
      "  input = module(input)\n"
     ]
    },
    {
     "name": "stdout",
     "output_type": "stream",
     "text": [
      "Step [0/3]\t loss_instance: 8.139444351196289\t loss_cluster: 3.295396089553833\n",
      "\n",
      "Epoch [335/500]\t Loss: 11.434845606486002 \n",
      "\n",
      "Step [0/1]\t Computing features...\n",
      "Features shape (1714,)\n",
      "14\n",
      "Test NMI = 0.3294 ARI = 0.1821 F = 0.3625 ACC = 0.4335\n",
      "================================================================\n",
      "\n"
     ]
    },
    {
     "name": "stderr",
     "output_type": "stream",
     "text": [
      "C:\\Users\\Tom-G\\.conda\\envs\\torchenv\\lib\\site-packages\\torch\\nn\\modules\\container.py:141: UserWarning: Implicit dimension choice for softmax has been deprecated. Change the call to include dim=X as an argument.\n",
      "  input = module(input)\n"
     ]
    },
    {
     "name": "stdout",
     "output_type": "stream",
     "text": [
      "Step [0/3]\t loss_instance: 8.139444351196289\t loss_cluster: 3.2953901290893555\n",
      "\n",
      "Epoch [336/500]\t Loss: 11.434831301371256 \n",
      "\n",
      "Step [0/1]\t Computing features...\n",
      "Features shape (1714,)\n",
      "14\n",
      "Test NMI = 0.3289 ARI = 0.1793 F = 0.3580 ACC = 0.4306\n",
      "================================================================\n",
      "\n"
     ]
    },
    {
     "name": "stderr",
     "output_type": "stream",
     "text": [
      "C:\\Users\\Tom-G\\.conda\\envs\\torchenv\\lib\\site-packages\\torch\\nn\\modules\\container.py:141: UserWarning: Implicit dimension choice for softmax has been deprecated. Change the call to include dim=X as an argument.\n",
      "  input = module(input)\n"
     ]
    },
    {
     "name": "stdout",
     "output_type": "stream",
     "text": [
      "Step [0/3]\t loss_instance: 8.139443397521973\t loss_cluster: 3.295391082763672\n",
      "\n",
      "Epoch [337/500]\t Loss: 11.434838930765787 \n",
      "\n",
      "Step [0/1]\t Computing features...\n",
      "Features shape (1714,)\n",
      "14\n",
      "Test NMI = 0.3308 ARI = 0.1766 F = 0.3514 ACC = 0.4288\n",
      "================================================================\n",
      "\n"
     ]
    },
    {
     "name": "stderr",
     "output_type": "stream",
     "text": [
      "C:\\Users\\Tom-G\\.conda\\envs\\torchenv\\lib\\site-packages\\torch\\nn\\modules\\container.py:141: UserWarning: Implicit dimension choice for softmax has been deprecated. Change the call to include dim=X as an argument.\n",
      "  input = module(input)\n"
     ]
    },
    {
     "name": "stdout",
     "output_type": "stream",
     "text": [
      "Step [0/3]\t loss_instance: 8.139445304870605\t loss_cluster: 3.2954063415527344\n",
      "\n",
      "Epoch [338/500]\t Loss: 11.434835116068522 \n",
      "\n",
      "Step [0/1]\t Computing features...\n",
      "Features shape (1714,)\n",
      "14\n",
      "Test NMI = 0.3320 ARI = 0.1769 F = 0.3490 ACC = 0.4236\n",
      "================================================================\n",
      "\n"
     ]
    },
    {
     "name": "stderr",
     "output_type": "stream",
     "text": [
      "C:\\Users\\Tom-G\\.conda\\envs\\torchenv\\lib\\site-packages\\torch\\nn\\modules\\container.py:141: UserWarning: Implicit dimension choice for softmax has been deprecated. Change the call to include dim=X as an argument.\n",
      "  input = module(input)\n"
     ]
    },
    {
     "name": "stdout",
     "output_type": "stream",
     "text": [
      "Step [0/3]\t loss_instance: 8.13944149017334\t loss_cluster: 3.295382499694824\n",
      "\n",
      "Epoch [339/500]\t Loss: 11.434838930765787 \n",
      "\n",
      "Step [0/1]\t Computing features...\n",
      "Features shape (1714,)\n",
      "14\n",
      "Test NMI = 0.3353 ARI = 0.1762 F = 0.3445 ACC = 0.4242\n",
      "================================================================\n",
      "\n"
     ]
    },
    {
     "name": "stderr",
     "output_type": "stream",
     "text": [
      "C:\\Users\\Tom-G\\.conda\\envs\\torchenv\\lib\\site-packages\\torch\\nn\\modules\\container.py:141: UserWarning: Implicit dimension choice for softmax has been deprecated. Change the call to include dim=X as an argument.\n",
      "  input = module(input)\n"
     ]
    },
    {
     "name": "stdout",
     "output_type": "stream",
     "text": [
      "Step [0/3]\t loss_instance: 8.139445304870605\t loss_cluster: 3.2953991889953613\n",
      "\n",
      "Epoch [340/500]\t Loss: 11.434837341308594 \n",
      "\n",
      "Step [0/1]\t Computing features...\n",
      "Features shape (1714,)\n",
      "14\n",
      "Test NMI = 0.3280 ARI = 0.1699 F = 0.3395 ACC = 0.4072\n",
      "================================================================\n",
      "\n"
     ]
    },
    {
     "name": "stderr",
     "output_type": "stream",
     "text": [
      "C:\\Users\\Tom-G\\.conda\\envs\\torchenv\\lib\\site-packages\\torch\\nn\\modules\\container.py:141: UserWarning: Implicit dimension choice for softmax has been deprecated. Change the call to include dim=X as an argument.\n",
      "  input = module(input)\n"
     ]
    },
    {
     "name": "stdout",
     "output_type": "stream",
     "text": [
      "Step [0/3]\t loss_instance: 8.139442443847656\t loss_cluster: 3.2953927516937256\n",
      "\n",
      "Epoch [341/500]\t Loss: 11.434839884440104 \n",
      "\n",
      "Step [0/1]\t Computing features...\n",
      "Features shape (1714,)\n",
      "14\n",
      "Test NMI = 0.3272 ARI = 0.1709 F = 0.3385 ACC = 0.4084\n",
      "================================================================\n",
      "\n"
     ]
    },
    {
     "name": "stderr",
     "output_type": "stream",
     "text": [
      "C:\\Users\\Tom-G\\.conda\\envs\\torchenv\\lib\\site-packages\\torch\\nn\\modules\\container.py:141: UserWarning: Implicit dimension choice for softmax has been deprecated. Change the call to include dim=X as an argument.\n",
      "  input = module(input)\n"
     ]
    },
    {
     "name": "stdout",
     "output_type": "stream",
     "text": [
      "Step [0/3]\t loss_instance: 8.139444351196289\t loss_cluster: 3.2953929901123047\n",
      "\n",
      "Epoch [342/500]\t Loss: 11.434839248657227 \n",
      "\n",
      "Step [0/1]\t Computing features...\n",
      "Features shape (1714,)\n",
      "14\n",
      "Test NMI = 0.3275 ARI = 0.1706 F = 0.3402 ACC = 0.4113\n",
      "================================================================\n",
      "\n"
     ]
    },
    {
     "name": "stderr",
     "output_type": "stream",
     "text": [
      "C:\\Users\\Tom-G\\.conda\\envs\\torchenv\\lib\\site-packages\\torch\\nn\\modules\\container.py:141: UserWarning: Implicit dimension choice for softmax has been deprecated. Change the call to include dim=X as an argument.\n",
      "  input = module(input)\n"
     ]
    },
    {
     "name": "stdout",
     "output_type": "stream",
     "text": [
      "Step [0/3]\t loss_instance: 8.139443397521973\t loss_cluster: 3.2953953742980957\n",
      "\n",
      "Epoch [343/500]\t Loss: 11.434837659200033 \n",
      "\n",
      "Step [0/1]\t Computing features...\n",
      "Features shape (1714,)\n",
      "14\n",
      "Test NMI = 0.3306 ARI = 0.1717 F = 0.3427 ACC = 0.4119\n",
      "================================================================\n",
      "\n"
     ]
    },
    {
     "name": "stderr",
     "output_type": "stream",
     "text": [
      "C:\\Users\\Tom-G\\.conda\\envs\\torchenv\\lib\\site-packages\\torch\\nn\\modules\\container.py:141: UserWarning: Implicit dimension choice for softmax has been deprecated. Change the call to include dim=X as an argument.\n",
      "  input = module(input)\n"
     ]
    },
    {
     "name": "stdout",
     "output_type": "stream",
     "text": [
      "Step [0/3]\t loss_instance: 8.139445304870605\t loss_cluster: 3.2953834533691406\n",
      "\n",
      "Epoch [344/500]\t Loss: 11.434833208719889 \n",
      "\n",
      "Step [0/1]\t Computing features...\n",
      "Features shape (1714,)\n",
      "14\n",
      "Test NMI = 0.3260 ARI = 0.1660 F = 0.3315 ACC = 0.4037\n",
      "================================================================\n",
      "\n"
     ]
    },
    {
     "name": "stderr",
     "output_type": "stream",
     "text": [
      "C:\\Users\\Tom-G\\.conda\\envs\\torchenv\\lib\\site-packages\\torch\\nn\\modules\\container.py:141: UserWarning: Implicit dimension choice for softmax has been deprecated. Change the call to include dim=X as an argument.\n",
      "  input = module(input)\n"
     ]
    },
    {
     "name": "stdout",
     "output_type": "stream",
     "text": [
      "Step [0/3]\t loss_instance: 8.139444351196289\t loss_cluster: 3.29539155960083\n",
      "\n",
      "Epoch [345/500]\t Loss: 11.434841791788736 \n",
      "\n",
      "Step [0/1]\t Computing features...\n",
      "Features shape (1714,)\n",
      "14\n",
      "Test NMI = 0.3224 ARI = 0.1635 F = 0.3282 ACC = 0.3967\n",
      "================================================================\n",
      "\n"
     ]
    },
    {
     "name": "stderr",
     "output_type": "stream",
     "text": [
      "C:\\Users\\Tom-G\\.conda\\envs\\torchenv\\lib\\site-packages\\torch\\nn\\modules\\container.py:141: UserWarning: Implicit dimension choice for softmax has been deprecated. Change the call to include dim=X as an argument.\n",
      "  input = module(input)\n"
     ]
    },
    {
     "name": "stdout",
     "output_type": "stream",
     "text": [
      "Step [0/3]\t loss_instance: 8.139442443847656\t loss_cluster: 3.29538631439209\n",
      "\n",
      "Epoch [346/500]\t Loss: 11.434833208719889 \n",
      "\n",
      "Step [0/1]\t Computing features...\n",
      "Features shape (1714,)\n",
      "14\n",
      "Test NMI = 0.3210 ARI = 0.1641 F = 0.3278 ACC = 0.3926\n",
      "================================================================\n",
      "\n"
     ]
    },
    {
     "name": "stderr",
     "output_type": "stream",
     "text": [
      "C:\\Users\\Tom-G\\.conda\\envs\\torchenv\\lib\\site-packages\\torch\\nn\\modules\\container.py:141: UserWarning: Implicit dimension choice for softmax has been deprecated. Change the call to include dim=X as an argument.\n",
      "  input = module(input)\n"
     ]
    },
    {
     "name": "stdout",
     "output_type": "stream",
     "text": [
      "Step [0/3]\t loss_instance: 8.139445304870605\t loss_cluster: 3.2954158782958984\n",
      "\n",
      "Epoch [347/500]\t Loss: 11.434851010640463 \n",
      "\n",
      "Step [0/1]\t Computing features...\n",
      "Features shape (1714,)\n",
      "14\n",
      "Test NMI = 0.3256 ARI = 0.1640 F = 0.3269 ACC = 0.3932\n",
      "================================================================\n",
      "\n"
     ]
    },
    {
     "name": "stderr",
     "output_type": "stream",
     "text": [
      "C:\\Users\\Tom-G\\.conda\\envs\\torchenv\\lib\\site-packages\\torch\\nn\\modules\\container.py:141: UserWarning: Implicit dimension choice for softmax has been deprecated. Change the call to include dim=X as an argument.\n",
      "  input = module(input)\n"
     ]
    },
    {
     "name": "stdout",
     "output_type": "stream",
     "text": [
      "Step [0/3]\t loss_instance: 8.139443397521973\t loss_cluster: 3.295384407043457\n",
      "\n",
      "Epoch [348/500]\t Loss: 11.434854507446289 \n",
      "\n",
      "Step [0/1]\t Computing features...\n",
      "Features shape (1714,)\n",
      "14\n",
      "Test NMI = 0.3248 ARI = 0.1623 F = 0.3233 ACC = 0.3903\n",
      "================================================================\n",
      "\n"
     ]
    },
    {
     "name": "stderr",
     "output_type": "stream",
     "text": [
      "C:\\Users\\Tom-G\\.conda\\envs\\torchenv\\lib\\site-packages\\torch\\nn\\modules\\container.py:141: UserWarning: Implicit dimension choice for softmax has been deprecated. Change the call to include dim=X as an argument.\n",
      "  input = module(input)\n"
     ]
    },
    {
     "name": "stdout",
     "output_type": "stream",
     "text": [
      "Step [0/3]\t loss_instance: 8.139443397521973\t loss_cluster: 3.2953860759735107\n",
      "\n",
      "Epoch [349/500]\t Loss: 11.434841473897299 \n",
      "\n",
      "Step [0/1]\t Computing features...\n",
      "Features shape (1714,)\n",
      "14\n",
      "Test NMI = 0.3258 ARI = 0.1599 F = 0.3185 ACC = 0.3816\n",
      "================================================================\n",
      "\n"
     ]
    },
    {
     "name": "stderr",
     "output_type": "stream",
     "text": [
      "C:\\Users\\Tom-G\\.conda\\envs\\torchenv\\lib\\site-packages\\torch\\nn\\modules\\container.py:141: UserWarning: Implicit dimension choice for softmax has been deprecated. Change the call to include dim=X as an argument.\n",
      "  input = module(input)\n"
     ]
    },
    {
     "name": "stdout",
     "output_type": "stream",
     "text": [
      "Step [0/3]\t loss_instance: 8.139444351196289\t loss_cluster: 3.2953884601593018\n",
      "\n",
      "Epoch [350/500]\t Loss: 11.43484083811442 \n",
      "\n",
      "Step [0/1]\t Computing features...\n",
      "Features shape (1714,)\n",
      "14\n",
      "Test NMI = 0.3134 ARI = 0.1523 F = 0.3130 ACC = 0.3705\n",
      "================================================================\n",
      "\n"
     ]
    },
    {
     "name": "stderr",
     "output_type": "stream",
     "text": [
      "C:\\Users\\Tom-G\\.conda\\envs\\torchenv\\lib\\site-packages\\torch\\nn\\modules\\container.py:141: UserWarning: Implicit dimension choice for softmax has been deprecated. Change the call to include dim=X as an argument.\n",
      "  input = module(input)\n"
     ]
    },
    {
     "name": "stdout",
     "output_type": "stream",
     "text": [
      "Step [0/3]\t loss_instance: 8.139444351196289\t loss_cluster: 3.2953882217407227\n",
      "\n",
      "Epoch [351/500]\t Loss: 11.434847513834635 \n",
      "\n",
      "Step [0/1]\t Computing features...\n",
      "Features shape (1714,)\n",
      "14\n",
      "Test NMI = 0.3187 ARI = 0.1618 F = 0.3257 ACC = 0.3891\n",
      "================================================================\n",
      "\n"
     ]
    },
    {
     "name": "stderr",
     "output_type": "stream",
     "text": [
      "C:\\Users\\Tom-G\\.conda\\envs\\torchenv\\lib\\site-packages\\torch\\nn\\modules\\container.py:141: UserWarning: Implicit dimension choice for softmax has been deprecated. Change the call to include dim=X as an argument.\n",
      "  input = module(input)\n"
     ]
    },
    {
     "name": "stdout",
     "output_type": "stream",
     "text": [
      "Step [0/3]\t loss_instance: 8.139443397521973\t loss_cluster: 3.295387029647827\n",
      "\n",
      "Epoch [352/500]\t Loss: 11.43483829498291 \n",
      "\n",
      "Step [0/1]\t Computing features...\n",
      "Features shape (1714,)\n",
      "14\n",
      "Test NMI = 0.3251 ARI = 0.1644 F = 0.3323 ACC = 0.3932\n",
      "================================================================\n",
      "\n"
     ]
    },
    {
     "name": "stderr",
     "output_type": "stream",
     "text": [
      "C:\\Users\\Tom-G\\.conda\\envs\\torchenv\\lib\\site-packages\\torch\\nn\\modules\\container.py:141: UserWarning: Implicit dimension choice for softmax has been deprecated. Change the call to include dim=X as an argument.\n",
      "  input = module(input)\n"
     ]
    },
    {
     "name": "stdout",
     "output_type": "stream",
     "text": [
      "Step [0/3]\t loss_instance: 8.139445304870605\t loss_cluster: 3.295461416244507\n",
      "\n",
      "Epoch [353/500]\t Loss: 11.434871037801107 \n",
      "\n",
      "Step [0/1]\t Computing features...\n",
      "Features shape (1714,)\n",
      "14\n",
      "Test NMI = 0.3274 ARI = 0.1625 F = 0.3269 ACC = 0.3862\n",
      "================================================================\n",
      "\n"
     ]
    },
    {
     "name": "stderr",
     "output_type": "stream",
     "text": [
      "C:\\Users\\Tom-G\\.conda\\envs\\torchenv\\lib\\site-packages\\torch\\nn\\modules\\container.py:141: UserWarning: Implicit dimension choice for softmax has been deprecated. Change the call to include dim=X as an argument.\n",
      "  input = module(input)\n"
     ]
    },
    {
     "name": "stdout",
     "output_type": "stream",
     "text": [
      "Step [0/3]\t loss_instance: 8.139445304870605\t loss_cluster: 3.2953951358795166\n",
      "\n",
      "Epoch [354/500]\t Loss: 11.434835433959961 \n",
      "\n",
      "Step [0/1]\t Computing features...\n",
      "Features shape (1714,)\n",
      "14\n",
      "Test NMI = 0.3198 ARI = 0.1533 F = 0.3132 ACC = 0.3740\n",
      "================================================================\n",
      "\n"
     ]
    },
    {
     "name": "stderr",
     "output_type": "stream",
     "text": [
      "C:\\Users\\Tom-G\\.conda\\envs\\torchenv\\lib\\site-packages\\torch\\nn\\modules\\container.py:141: UserWarning: Implicit dimension choice for softmax has been deprecated. Change the call to include dim=X as an argument.\n",
      "  input = module(input)\n"
     ]
    },
    {
     "name": "stdout",
     "output_type": "stream",
     "text": [
      "Step [0/3]\t loss_instance: 8.139445304870605\t loss_cluster: 3.2953858375549316\n",
      "\n",
      "Epoch [355/500]\t Loss: 11.43484624226888 \n",
      "\n",
      "Step [0/1]\t Computing features...\n",
      "Features shape (1714,)\n",
      "14\n",
      "Test NMI = 0.3118 ARI = 0.1500 F = 0.3056 ACC = 0.3693\n",
      "================================================================\n",
      "\n"
     ]
    },
    {
     "name": "stderr",
     "output_type": "stream",
     "text": [
      "C:\\Users\\Tom-G\\.conda\\envs\\torchenv\\lib\\site-packages\\torch\\nn\\modules\\container.py:141: UserWarning: Implicit dimension choice for softmax has been deprecated. Change the call to include dim=X as an argument.\n",
      "  input = module(input)\n"
     ]
    },
    {
     "name": "stdout",
     "output_type": "stream",
     "text": [
      "Step [0/3]\t loss_instance: 8.139448165893555\t loss_cluster: 3.295414686203003\n",
      "\n",
      "Epoch [356/500]\t Loss: 11.434852600097656 \n",
      "\n",
      "Step [0/1]\t Computing features...\n",
      "Features shape (1714,)\n",
      "14\n",
      "Test NMI = 0.3210 ARI = 0.1578 F = 0.3159 ACC = 0.3740\n",
      "================================================================\n",
      "\n"
     ]
    },
    {
     "name": "stderr",
     "output_type": "stream",
     "text": [
      "C:\\Users\\Tom-G\\.conda\\envs\\torchenv\\lib\\site-packages\\torch\\nn\\modules\\container.py:141: UserWarning: Implicit dimension choice for softmax has been deprecated. Change the call to include dim=X as an argument.\n",
      "  input = module(input)\n"
     ]
    },
    {
     "name": "stdout",
     "output_type": "stream",
     "text": [
      "Step [0/3]\t loss_instance: 8.139448165893555\t loss_cluster: 3.295386791229248\n",
      "\n",
      "Epoch [357/500]\t Loss: 11.434843063354492 \n",
      "\n",
      "Step [0/1]\t Computing features...\n",
      "Features shape (1714,)\n",
      "14\n",
      "Test NMI = 0.3224 ARI = 0.1574 F = 0.3180 ACC = 0.3775\n",
      "================================================================\n",
      "\n"
     ]
    },
    {
     "name": "stderr",
     "output_type": "stream",
     "text": [
      "C:\\Users\\Tom-G\\.conda\\envs\\torchenv\\lib\\site-packages\\torch\\nn\\modules\\container.py:141: UserWarning: Implicit dimension choice for softmax has been deprecated. Change the call to include dim=X as an argument.\n",
      "  input = module(input)\n"
     ]
    },
    {
     "name": "stdout",
     "output_type": "stream",
     "text": [
      "Step [0/3]\t loss_instance: 8.139443397521973\t loss_cluster: 3.295387029647827\n",
      "\n",
      "Epoch [358/500]\t Loss: 11.434867223103842 \n",
      "\n",
      "Step [0/1]\t Computing features...\n",
      "Features shape (1714,)\n",
      "14\n",
      "Test NMI = 0.3267 ARI = 0.1541 F = 0.3095 ACC = 0.3635\n",
      "================================================================\n",
      "\n"
     ]
    },
    {
     "name": "stderr",
     "output_type": "stream",
     "text": [
      "C:\\Users\\Tom-G\\.conda\\envs\\torchenv\\lib\\site-packages\\torch\\nn\\modules\\container.py:141: UserWarning: Implicit dimension choice for softmax has been deprecated. Change the call to include dim=X as an argument.\n",
      "  input = module(input)\n"
     ]
    },
    {
     "name": "stdout",
     "output_type": "stream",
     "text": [
      "Step [0/3]\t loss_instance: 8.139447212219238\t loss_cluster: 3.295393466949463\n",
      "\n",
      "Epoch [359/500]\t Loss: 11.434834480285645 \n",
      "\n",
      "Step [0/1]\t Computing features...\n",
      "Features shape (1714,)\n",
      "14\n",
      "Test NMI = 0.3211 ARI = 0.1531 F = 0.3071 ACC = 0.3693\n",
      "================================================================\n",
      "\n"
     ]
    },
    {
     "name": "stderr",
     "output_type": "stream",
     "text": [
      "C:\\Users\\Tom-G\\.conda\\envs\\torchenv\\lib\\site-packages\\torch\\nn\\modules\\container.py:141: UserWarning: Implicit dimension choice for softmax has been deprecated. Change the call to include dim=X as an argument.\n",
      "  input = module(input)\n"
     ]
    },
    {
     "name": "stdout",
     "output_type": "stream",
     "text": [
      "Step [0/3]\t loss_instance: 8.139444351196289\t loss_cluster: 3.29540753364563\n",
      "\n",
      "Epoch [360/500]\t Loss: 11.434842745463053 \n",
      "\n",
      "Step [0/1]\t Computing features...\n",
      "Features shape (1714,)\n",
      "14\n",
      "Test NMI = 0.3236 ARI = 0.1586 F = 0.3139 ACC = 0.3687\n",
      "================================================================\n",
      "\n"
     ]
    },
    {
     "name": "stderr",
     "output_type": "stream",
     "text": [
      "C:\\Users\\Tom-G\\.conda\\envs\\torchenv\\lib\\site-packages\\torch\\nn\\modules\\container.py:141: UserWarning: Implicit dimension choice for softmax has been deprecated. Change the call to include dim=X as an argument.\n",
      "  input = module(input)\n"
     ]
    },
    {
     "name": "stdout",
     "output_type": "stream",
     "text": [
      "Step [0/3]\t loss_instance: 8.139444351196289\t loss_cluster: 3.2953925132751465\n",
      "\n",
      "Epoch [361/500]\t Loss: 11.434834480285645 \n",
      "\n",
      "Step [0/1]\t Computing features...\n",
      "Features shape (1714,)\n",
      "14\n",
      "Test NMI = 0.3224 ARI = 0.1557 F = 0.3134 ACC = 0.3711\n",
      "================================================================\n",
      "\n"
     ]
    },
    {
     "name": "stderr",
     "output_type": "stream",
     "text": [
      "C:\\Users\\Tom-G\\.conda\\envs\\torchenv\\lib\\site-packages\\torch\\nn\\modules\\container.py:141: UserWarning: Implicit dimension choice for softmax has been deprecated. Change the call to include dim=X as an argument.\n",
      "  input = module(input)\n"
     ]
    },
    {
     "name": "stdout",
     "output_type": "stream",
     "text": [
      "Step [0/3]\t loss_instance: 8.139444351196289\t loss_cluster: 3.2953925132751465\n",
      "\n",
      "Epoch [362/500]\t Loss: 11.43485418955485 \n",
      "\n",
      "Step [0/1]\t Computing features...\n",
      "Features shape (1714,)\n",
      "14\n",
      "Test NMI = 0.3227 ARI = 0.1543 F = 0.3105 ACC = 0.3705\n",
      "================================================================\n",
      "\n"
     ]
    },
    {
     "name": "stderr",
     "output_type": "stream",
     "text": [
      "C:\\Users\\Tom-G\\.conda\\envs\\torchenv\\lib\\site-packages\\torch\\nn\\modules\\container.py:141: UserWarning: Implicit dimension choice for softmax has been deprecated. Change the call to include dim=X as an argument.\n",
      "  input = module(input)\n"
     ]
    },
    {
     "name": "stdout",
     "output_type": "stream",
     "text": [
      "Step [0/3]\t loss_instance: 8.139447212219238\t loss_cluster: 3.2953872680664062\n",
      "\n",
      "Epoch [363/500]\t Loss: 11.434830665588379 \n",
      "\n",
      "Step [0/1]\t Computing features...\n",
      "Features shape (1714,)\n",
      "14\n",
      "Test NMI = 0.3165 ARI = 0.1515 F = 0.3016 ACC = 0.3635\n",
      "================================================================\n",
      "\n"
     ]
    },
    {
     "name": "stderr",
     "output_type": "stream",
     "text": [
      "C:\\Users\\Tom-G\\.conda\\envs\\torchenv\\lib\\site-packages\\torch\\nn\\modules\\container.py:141: UserWarning: Implicit dimension choice for softmax has been deprecated. Change the call to include dim=X as an argument.\n",
      "  input = module(input)\n"
     ]
    },
    {
     "name": "stdout",
     "output_type": "stream",
     "text": [
      "Step [0/3]\t loss_instance: 8.139444351196289\t loss_cluster: 3.2953884601593018\n",
      "\n",
      "Epoch [364/500]\t Loss: 11.434835116068522 \n",
      "\n",
      "Step [0/1]\t Computing features...\n",
      "Features shape (1714,)\n",
      "14\n",
      "Test NMI = 0.3224 ARI = 0.1540 F = 0.3050 ACC = 0.3629\n",
      "================================================================\n",
      "\n"
     ]
    },
    {
     "name": "stderr",
     "output_type": "stream",
     "text": [
      "C:\\Users\\Tom-G\\.conda\\envs\\torchenv\\lib\\site-packages\\torch\\nn\\modules\\container.py:141: UserWarning: Implicit dimension choice for softmax has been deprecated. Change the call to include dim=X as an argument.\n",
      "  input = module(input)\n"
     ]
    },
    {
     "name": "stdout",
     "output_type": "stream",
     "text": [
      "Step [0/3]\t loss_instance: 8.139446258544922\t loss_cluster: 3.2953882217407227\n",
      "\n",
      "Epoch [365/500]\t Loss: 11.434831619262695 \n",
      "\n",
      "Step [0/1]\t Computing features...\n",
      "Features shape (1714,)\n",
      "14\n",
      "Test NMI = 0.3204 ARI = 0.1536 F = 0.3050 ACC = 0.3623\n",
      "================================================================\n",
      "\n"
     ]
    },
    {
     "name": "stderr",
     "output_type": "stream",
     "text": [
      "C:\\Users\\Tom-G\\.conda\\envs\\torchenv\\lib\\site-packages\\torch\\nn\\modules\\container.py:141: UserWarning: Implicit dimension choice for softmax has been deprecated. Change the call to include dim=X as an argument.\n",
      "  input = module(input)\n"
     ]
    },
    {
     "name": "stdout",
     "output_type": "stream",
     "text": [
      "Step [0/3]\t loss_instance: 8.139446258544922\t loss_cluster: 3.2953884601593018\n",
      "\n",
      "Epoch [366/500]\t Loss: 11.434841473897299 \n",
      "\n",
      "Step [0/1]\t Computing features...\n",
      "Features shape (1714,)\n",
      "14\n",
      "Test NMI = 0.3217 ARI = 0.1556 F = 0.3051 ACC = 0.3646\n",
      "================================================================\n",
      "\n"
     ]
    },
    {
     "name": "stderr",
     "output_type": "stream",
     "text": [
      "C:\\Users\\Tom-G\\.conda\\envs\\torchenv\\lib\\site-packages\\torch\\nn\\modules\\container.py:141: UserWarning: Implicit dimension choice for softmax has been deprecated. Change the call to include dim=X as an argument.\n",
      "  input = module(input)\n"
     ]
    },
    {
     "name": "stdout",
     "output_type": "stream",
     "text": [
      "Step [0/3]\t loss_instance: 8.139446258544922\t loss_cluster: 3.295389413833618\n",
      "\n",
      "Epoch [367/500]\t Loss: 11.434831619262695 \n",
      "\n",
      "Step [0/1]\t Computing features...\n",
      "Features shape (1714,)\n",
      "14\n",
      "Test NMI = 0.3226 ARI = 0.1592 F = 0.3064 ACC = 0.3611\n",
      "================================================================\n",
      "\n"
     ]
    },
    {
     "name": "stderr",
     "output_type": "stream",
     "text": [
      "C:\\Users\\Tom-G\\.conda\\envs\\torchenv\\lib\\site-packages\\torch\\nn\\modules\\container.py:141: UserWarning: Implicit dimension choice for softmax has been deprecated. Change the call to include dim=X as an argument.\n",
      "  input = module(input)\n"
     ]
    },
    {
     "name": "stdout",
     "output_type": "stream",
     "text": [
      "Step [0/3]\t loss_instance: 8.139442443847656\t loss_cluster: 3.2953925132751465\n",
      "\n",
      "Epoch [368/500]\t Loss: 11.434829711914062 \n",
      "\n",
      "Step [0/1]\t Computing features...\n",
      "Features shape (1714,)\n",
      "14\n",
      "Test NMI = 0.3159 ARI = 0.1521 F = 0.3003 ACC = 0.3606\n",
      "================================================================\n",
      "\n"
     ]
    },
    {
     "name": "stderr",
     "output_type": "stream",
     "text": [
      "C:\\Users\\Tom-G\\.conda\\envs\\torchenv\\lib\\site-packages\\torch\\nn\\modules\\container.py:141: UserWarning: Implicit dimension choice for softmax has been deprecated. Change the call to include dim=X as an argument.\n",
      "  input = module(input)\n"
     ]
    },
    {
     "name": "stdout",
     "output_type": "stream",
     "text": [
      "Step [0/3]\t loss_instance: 8.139445304870605\t loss_cluster: 3.295391321182251\n",
      "\n",
      "Epoch [369/500]\t Loss: 11.434844334920248 \n",
      "\n",
      "Step [0/1]\t Computing features...\n",
      "Features shape (1714,)\n",
      "14\n",
      "Test NMI = 0.3146 ARI = 0.1486 F = 0.2975 ACC = 0.3582\n",
      "================================================================\n",
      "\n"
     ]
    },
    {
     "name": "stderr",
     "output_type": "stream",
     "text": [
      "C:\\Users\\Tom-G\\.conda\\envs\\torchenv\\lib\\site-packages\\torch\\nn\\modules\\container.py:141: UserWarning: Implicit dimension choice for softmax has been deprecated. Change the call to include dim=X as an argument.\n",
      "  input = module(input)\n"
     ]
    },
    {
     "name": "stdout",
     "output_type": "stream",
     "text": [
      "Step [0/3]\t loss_instance: 8.139445304870605\t loss_cluster: 3.2953879833221436\n",
      "\n",
      "Epoch [370/500]\t Loss: 11.434830983479818 \n",
      "\n",
      "Step [0/1]\t Computing features...\n",
      "Features shape (1714,)\n",
      "14\n",
      "Test NMI = 0.3208 ARI = 0.1506 F = 0.2991 ACC = 0.3536\n",
      "================================================================\n",
      "\n"
     ]
    },
    {
     "name": "stderr",
     "output_type": "stream",
     "text": [
      "C:\\Users\\Tom-G\\.conda\\envs\\torchenv\\lib\\site-packages\\torch\\nn\\modules\\container.py:141: UserWarning: Implicit dimension choice for softmax has been deprecated. Change the call to include dim=X as an argument.\n",
      "  input = module(input)\n"
     ]
    },
    {
     "name": "stdout",
     "output_type": "stream",
     "text": [
      "Step [0/3]\t loss_instance: 8.139442443847656\t loss_cluster: 3.2954154014587402\n",
      "\n",
      "Epoch [371/500]\t Loss: 11.434839884440104 \n",
      "\n",
      "Step [0/1]\t Computing features...\n",
      "Features shape (1714,)\n",
      "14\n",
      "Test NMI = 0.3193 ARI = 0.1493 F = 0.2978 ACC = 0.3512\n",
      "================================================================\n",
      "\n"
     ]
    },
    {
     "name": "stderr",
     "output_type": "stream",
     "text": [
      "C:\\Users\\Tom-G\\.conda\\envs\\torchenv\\lib\\site-packages\\torch\\nn\\modules\\container.py:141: UserWarning: Implicit dimension choice for softmax has been deprecated. Change the call to include dim=X as an argument.\n",
      "  input = module(input)\n"
     ]
    },
    {
     "name": "stdout",
     "output_type": "stream",
     "text": [
      "Step [0/3]\t loss_instance: 8.139442443847656\t loss_cluster: 3.295389175415039\n",
      "\n",
      "Epoch [372/500]\t Loss: 11.434831619262695 \n",
      "\n",
      "Step [0/1]\t Computing features...\n",
      "Features shape (1714,)\n",
      "14\n",
      "Test NMI = 0.3178 ARI = 0.1497 F = 0.2966 ACC = 0.3600\n",
      "================================================================\n",
      "\n"
     ]
    },
    {
     "name": "stderr",
     "output_type": "stream",
     "text": [
      "C:\\Users\\Tom-G\\.conda\\envs\\torchenv\\lib\\site-packages\\torch\\nn\\modules\\container.py:141: UserWarning: Implicit dimension choice for softmax has been deprecated. Change the call to include dim=X as an argument.\n",
      "  input = module(input)\n"
     ]
    },
    {
     "name": "stdout",
     "output_type": "stream",
     "text": [
      "Step [0/3]\t loss_instance: 8.139442443847656\t loss_cluster: 3.295383930206299\n",
      "\n",
      "Epoch [373/500]\t Loss: 11.434828440348307 \n",
      "\n",
      "Step [0/1]\t Computing features...\n",
      "Features shape (1714,)\n",
      "14\n",
      "Test NMI = 0.3134 ARI = 0.1443 F = 0.2920 ACC = 0.3576\n",
      "================================================================\n",
      "\n"
     ]
    },
    {
     "name": "stderr",
     "output_type": "stream",
     "text": [
      "C:\\Users\\Tom-G\\.conda\\envs\\torchenv\\lib\\site-packages\\torch\\nn\\modules\\container.py:141: UserWarning: Implicit dimension choice for softmax has been deprecated. Change the call to include dim=X as an argument.\n",
      "  input = module(input)\n"
     ]
    },
    {
     "name": "stdout",
     "output_type": "stream",
     "text": [
      "Step [0/3]\t loss_instance: 8.139443397521973\t loss_cluster: 3.2953920364379883\n",
      "\n",
      "Epoch [374/500]\t Loss: 11.434836069742838 \n",
      "\n",
      "Step [0/1]\t Computing features...\n",
      "Features shape (1714,)\n",
      "14\n",
      "Test NMI = 0.3124 ARI = 0.1407 F = 0.2895 ACC = 0.3541\n",
      "================================================================\n",
      "\n"
     ]
    },
    {
     "name": "stderr",
     "output_type": "stream",
     "text": [
      "C:\\Users\\Tom-G\\.conda\\envs\\torchenv\\lib\\site-packages\\torch\\nn\\modules\\container.py:141: UserWarning: Implicit dimension choice for softmax has been deprecated. Change the call to include dim=X as an argument.\n",
      "  input = module(input)\n"
     ]
    },
    {
     "name": "stdout",
     "output_type": "stream",
     "text": [
      "Step [0/3]\t loss_instance: 8.139442443847656\t loss_cluster: 3.2954046726226807\n",
      "\n",
      "Epoch [375/500]\t Loss: 11.434841473897299 \n",
      "\n",
      "Step [0/1]\t Computing features...\n",
      "Features shape (1714,)\n",
      "14\n",
      "Test NMI = 0.3104 ARI = 0.1371 F = 0.2881 ACC = 0.3495\n",
      "================================================================\n",
      "\n"
     ]
    },
    {
     "name": "stderr",
     "output_type": "stream",
     "text": [
      "C:\\Users\\Tom-G\\.conda\\envs\\torchenv\\lib\\site-packages\\torch\\nn\\modules\\container.py:141: UserWarning: Implicit dimension choice for softmax has been deprecated. Change the call to include dim=X as an argument.\n",
      "  input = module(input)\n"
     ]
    },
    {
     "name": "stdout",
     "output_type": "stream",
     "text": [
      "Step [0/3]\t loss_instance: 8.139445304870605\t loss_cluster: 3.295393705368042\n",
      "\n",
      "Epoch [376/500]\t Loss: 11.434835116068522 \n",
      "\n",
      "Step [0/1]\t Computing features...\n",
      "Features shape (1714,)\n",
      "14\n",
      "Test NMI = 0.3123 ARI = 0.1377 F = 0.2876 ACC = 0.3501\n",
      "================================================================\n",
      "\n"
     ]
    },
    {
     "name": "stderr",
     "output_type": "stream",
     "text": [
      "C:\\Users\\Tom-G\\.conda\\envs\\torchenv\\lib\\site-packages\\torch\\nn\\modules\\container.py:141: UserWarning: Implicit dimension choice for softmax has been deprecated. Change the call to include dim=X as an argument.\n",
      "  input = module(input)\n"
     ]
    },
    {
     "name": "stdout",
     "output_type": "stream",
     "text": [
      "Step [0/3]\t loss_instance: 8.139445304870605\t loss_cluster: 3.2953906059265137\n",
      "\n",
      "Epoch [377/500]\t Loss: 11.43485196431478 \n",
      "\n",
      "Step [0/1]\t Computing features...\n",
      "Features shape (1714,)\n",
      "14\n",
      "Test NMI = 0.3114 ARI = 0.1385 F = 0.2878 ACC = 0.3518\n",
      "================================================================\n",
      "\n"
     ]
    },
    {
     "name": "stderr",
     "output_type": "stream",
     "text": [
      "C:\\Users\\Tom-G\\.conda\\envs\\torchenv\\lib\\site-packages\\torch\\nn\\modules\\container.py:141: UserWarning: Implicit dimension choice for softmax has been deprecated. Change the call to include dim=X as an argument.\n",
      "  input = module(input)\n"
     ]
    },
    {
     "name": "stdout",
     "output_type": "stream",
     "text": [
      "Step [0/3]\t loss_instance: 8.139444351196289\t loss_cluster: 3.295379638671875\n",
      "\n",
      "Epoch [378/500]\t Loss: 11.434835433959961 \n",
      "\n",
      "Step [0/1]\t Computing features...\n",
      "Features shape (1714,)\n",
      "14\n",
      "Test NMI = 0.3143 ARI = 0.1427 F = 0.2910 ACC = 0.3530\n",
      "================================================================\n",
      "\n"
     ]
    },
    {
     "name": "stderr",
     "output_type": "stream",
     "text": [
      "C:\\Users\\Tom-G\\.conda\\envs\\torchenv\\lib\\site-packages\\torch\\nn\\modules\\container.py:141: UserWarning: Implicit dimension choice for softmax has been deprecated. Change the call to include dim=X as an argument.\n",
      "  input = module(input)\n"
     ]
    },
    {
     "name": "stdout",
     "output_type": "stream",
     "text": [
      "Step [0/3]\t loss_instance: 8.139442443847656\t loss_cluster: 3.295395851135254\n",
      "\n",
      "Epoch [379/500]\t Loss: 11.434835433959961 \n",
      "\n",
      "Step [0/1]\t Computing features...\n",
      "Features shape (1714,)\n",
      "14\n",
      "Test NMI = 0.3125 ARI = 0.1392 F = 0.2894 ACC = 0.3518\n",
      "================================================================\n",
      "\n"
     ]
    },
    {
     "name": "stderr",
     "output_type": "stream",
     "text": [
      "C:\\Users\\Tom-G\\.conda\\envs\\torchenv\\lib\\site-packages\\torch\\nn\\modules\\container.py:141: UserWarning: Implicit dimension choice for softmax has been deprecated. Change the call to include dim=X as an argument.\n",
      "  input = module(input)\n"
     ]
    },
    {
     "name": "stdout",
     "output_type": "stream",
     "text": [
      "Step [0/3]\t loss_instance: 8.139442443847656\t loss_cluster: 3.2953922748565674\n",
      "\n",
      "Epoch [380/500]\t Loss: 11.434843381245932 \n",
      "\n",
      "Step [0/1]\t Computing features...\n",
      "Features shape (1714,)\n",
      "14\n",
      "Test NMI = 0.3126 ARI = 0.1367 F = 0.2860 ACC = 0.3495\n",
      "================================================================\n",
      "\n"
     ]
    },
    {
     "name": "stderr",
     "output_type": "stream",
     "text": [
      "C:\\Users\\Tom-G\\.conda\\envs\\torchenv\\lib\\site-packages\\torch\\nn\\modules\\container.py:141: UserWarning: Implicit dimension choice for softmax has been deprecated. Change the call to include dim=X as an argument.\n",
      "  input = module(input)\n"
     ]
    },
    {
     "name": "stdout",
     "output_type": "stream",
     "text": [
      "Step [0/3]\t loss_instance: 8.139444351196289\t loss_cluster: 3.295384168624878\n",
      "\n",
      "Epoch [381/500]\t Loss: 11.434832255045572 \n",
      "\n",
      "Step [0/1]\t Computing features...\n",
      "Features shape (1714,)\n",
      "14\n",
      "Test NMI = 0.3131 ARI = 0.1352 F = 0.2842 ACC = 0.3506\n",
      "================================================================\n",
      "\n"
     ]
    },
    {
     "name": "stderr",
     "output_type": "stream",
     "text": [
      "C:\\Users\\Tom-G\\.conda\\envs\\torchenv\\lib\\site-packages\\torch\\nn\\modules\\container.py:141: UserWarning: Implicit dimension choice for softmax has been deprecated. Change the call to include dim=X as an argument.\n",
      "  input = module(input)\n"
     ]
    },
    {
     "name": "stdout",
     "output_type": "stream",
     "text": [
      "Step [0/3]\t loss_instance: 8.139445304870605\t loss_cluster: 3.2954165935516357\n",
      "\n",
      "Epoch [382/500]\t Loss: 11.434847831726074 \n",
      "\n",
      "Step [0/1]\t Computing features...\n",
      "Features shape (1714,)\n",
      "14\n",
      "Test NMI = 0.3039 ARI = 0.1264 F = 0.2772 ACC = 0.3454\n",
      "================================================================\n",
      "\n"
     ]
    },
    {
     "name": "stderr",
     "output_type": "stream",
     "text": [
      "C:\\Users\\Tom-G\\.conda\\envs\\torchenv\\lib\\site-packages\\torch\\nn\\modules\\container.py:141: UserWarning: Implicit dimension choice for softmax has been deprecated. Change the call to include dim=X as an argument.\n",
      "  input = module(input)\n"
     ]
    },
    {
     "name": "stdout",
     "output_type": "stream",
     "text": [
      "Step [0/3]\t loss_instance: 8.139444351196289\t loss_cluster: 3.2953855991363525\n",
      "\n",
      "Epoch [383/500]\t Loss: 11.434833526611328 \n",
      "\n",
      "Step [0/1]\t Computing features...\n",
      "Features shape (1714,)\n",
      "14\n",
      "Test NMI = 0.3082 ARI = 0.1272 F = 0.2772 ACC = 0.3396\n",
      "================================================================\n",
      "\n"
     ]
    },
    {
     "name": "stderr",
     "output_type": "stream",
     "text": [
      "C:\\Users\\Tom-G\\.conda\\envs\\torchenv\\lib\\site-packages\\torch\\nn\\modules\\container.py:141: UserWarning: Implicit dimension choice for softmax has been deprecated. Change the call to include dim=X as an argument.\n",
      "  input = module(input)\n"
     ]
    },
    {
     "name": "stdout",
     "output_type": "stream",
     "text": [
      "Step [0/3]\t loss_instance: 8.139442443847656\t loss_cluster: 3.295388698577881\n",
      "\n",
      "Epoch [384/500]\t Loss: 11.43483797709147 \n",
      "\n",
      "Step [0/1]\t Computing features...\n",
      "Features shape (1714,)\n",
      "14\n",
      "Test NMI = 0.3073 ARI = 0.1253 F = 0.2746 ACC = 0.3372\n",
      "================================================================\n",
      "\n"
     ]
    },
    {
     "name": "stderr",
     "output_type": "stream",
     "text": [
      "C:\\Users\\Tom-G\\.conda\\envs\\torchenv\\lib\\site-packages\\torch\\nn\\modules\\container.py:141: UserWarning: Implicit dimension choice for softmax has been deprecated. Change the call to include dim=X as an argument.\n",
      "  input = module(input)\n"
     ]
    },
    {
     "name": "stdout",
     "output_type": "stream",
     "text": [
      "Step [0/3]\t loss_instance: 8.139442443847656\t loss_cluster: 3.2954163551330566\n",
      "\n",
      "Epoch [385/500]\t Loss: 11.434842745463053 \n",
      "\n",
      "Step [0/1]\t Computing features...\n",
      "Features shape (1714,)\n",
      "14\n",
      "Test NMI = 0.3102 ARI = 0.1278 F = 0.2770 ACC = 0.3343\n",
      "================================================================\n",
      "\n"
     ]
    },
    {
     "name": "stderr",
     "output_type": "stream",
     "text": [
      "C:\\Users\\Tom-G\\.conda\\envs\\torchenv\\lib\\site-packages\\torch\\nn\\modules\\container.py:141: UserWarning: Implicit dimension choice for softmax has been deprecated. Change the call to include dim=X as an argument.\n",
      "  input = module(input)\n"
     ]
    },
    {
     "name": "stdout",
     "output_type": "stream",
     "text": [
      "Step [0/3]\t loss_instance: 8.139444351196289\t loss_cluster: 3.2953908443450928\n",
      "\n",
      "Epoch [386/500]\t Loss: 11.43485164642334 \n",
      "\n",
      "Step [0/1]\t Computing features...\n",
      "Features shape (1714,)\n",
      "14\n",
      "Test NMI = 0.3120 ARI = 0.1339 F = 0.2821 ACC = 0.3425\n",
      "================================================================\n",
      "\n"
     ]
    },
    {
     "name": "stderr",
     "output_type": "stream",
     "text": [
      "C:\\Users\\Tom-G\\.conda\\envs\\torchenv\\lib\\site-packages\\torch\\nn\\modules\\container.py:141: UserWarning: Implicit dimension choice for softmax has been deprecated. Change the call to include dim=X as an argument.\n",
      "  input = module(input)\n"
     ]
    },
    {
     "name": "stdout",
     "output_type": "stream",
     "text": [
      "Step [0/3]\t loss_instance: 8.139446258544922\t loss_cluster: 3.2953920364379883\n",
      "\n",
      "Epoch [387/500]\t Loss: 11.434837023417154 \n",
      "\n",
      "Step [0/1]\t Computing features...\n",
      "Features shape (1714,)\n",
      "14\n",
      "Test NMI = 0.3057 ARI = 0.1281 F = 0.2764 ACC = 0.3401\n",
      "================================================================\n",
      "\n"
     ]
    },
    {
     "name": "stderr",
     "output_type": "stream",
     "text": [
      "C:\\Users\\Tom-G\\.conda\\envs\\torchenv\\lib\\site-packages\\torch\\nn\\modules\\container.py:141: UserWarning: Implicit dimension choice for softmax has been deprecated. Change the call to include dim=X as an argument.\n",
      "  input = module(input)\n"
     ]
    },
    {
     "name": "stdout",
     "output_type": "stream",
     "text": [
      "Step [0/3]\t loss_instance: 8.139445304870605\t loss_cluster: 3.2953882217407227\n",
      "\n",
      "Epoch [388/500]\t Loss: 11.434837341308594 \n",
      "\n",
      "Step [0/1]\t Computing features...\n",
      "Features shape (1714,)\n",
      "14\n",
      "Test NMI = 0.3046 ARI = 0.1258 F = 0.2744 ACC = 0.3378\n",
      "================================================================\n",
      "\n"
     ]
    },
    {
     "name": "stderr",
     "output_type": "stream",
     "text": [
      "C:\\Users\\Tom-G\\.conda\\envs\\torchenv\\lib\\site-packages\\torch\\nn\\modules\\container.py:141: UserWarning: Implicit dimension choice for softmax has been deprecated. Change the call to include dim=X as an argument.\n",
      "  input = module(input)\n"
     ]
    },
    {
     "name": "stdout",
     "output_type": "stream",
     "text": [
      "Step [0/3]\t loss_instance: 8.139442443847656\t loss_cluster: 3.29538893699646\n",
      "\n",
      "Epoch [389/500]\t Loss: 11.43484083811442 \n",
      "\n",
      "Step [0/1]\t Computing features...\n",
      "Features shape (1714,)\n",
      "14\n",
      "Test NMI = 0.3081 ARI = 0.1265 F = 0.2754 ACC = 0.3326\n",
      "================================================================\n",
      "\n"
     ]
    },
    {
     "name": "stderr",
     "output_type": "stream",
     "text": [
      "C:\\Users\\Tom-G\\.conda\\envs\\torchenv\\lib\\site-packages\\torch\\nn\\modules\\container.py:141: UserWarning: Implicit dimension choice for softmax has been deprecated. Change the call to include dim=X as an argument.\n",
      "  input = module(input)\n"
     ]
    },
    {
     "name": "stdout",
     "output_type": "stream",
     "text": [
      "Step [0/3]\t loss_instance: 8.139442443847656\t loss_cluster: 3.2953920364379883\n",
      "\n",
      "Epoch [390/500]\t Loss: 11.434868494669596 \n",
      "\n",
      "Step [0/1]\t Computing features...\n",
      "Features shape (1714,)\n",
      "14\n",
      "Test NMI = 0.3077 ARI = 0.1237 F = 0.2745 ACC = 0.3221\n",
      "================================================================\n",
      "\n"
     ]
    },
    {
     "name": "stderr",
     "output_type": "stream",
     "text": [
      "C:\\Users\\Tom-G\\.conda\\envs\\torchenv\\lib\\site-packages\\torch\\nn\\modules\\container.py:141: UserWarning: Implicit dimension choice for softmax has been deprecated. Change the call to include dim=X as an argument.\n",
      "  input = module(input)\n"
     ]
    },
    {
     "name": "stdout",
     "output_type": "stream",
     "text": [
      "Step [0/3]\t loss_instance: 8.139448165893555\t loss_cluster: 3.2953898906707764\n",
      "\n",
      "Epoch [391/500]\t Loss: 11.43484369913737 \n",
      "\n",
      "Step [0/1]\t Computing features...\n",
      "Features shape (1714,)\n",
      "14\n",
      "Test NMI = 0.3037 ARI = 0.1229 F = 0.2725 ACC = 0.3326\n",
      "================================================================\n",
      "\n"
     ]
    },
    {
     "name": "stderr",
     "output_type": "stream",
     "text": [
      "C:\\Users\\Tom-G\\.conda\\envs\\torchenv\\lib\\site-packages\\torch\\nn\\modules\\container.py:141: UserWarning: Implicit dimension choice for softmax has been deprecated. Change the call to include dim=X as an argument.\n",
      "  input = module(input)\n"
     ]
    },
    {
     "name": "stdout",
     "output_type": "stream",
     "text": [
      "Step [0/3]\t loss_instance: 8.139442443847656\t loss_cluster: 3.2953872680664062\n",
      "\n",
      "Epoch [392/500]\t Loss: 11.43483797709147 \n",
      "\n",
      "Step [0/1]\t Computing features...\n",
      "Features shape (1714,)\n",
      "14\n",
      "Test NMI = 0.3002 ARI = 0.1226 F = 0.2716 ACC = 0.3366\n",
      "================================================================\n",
      "\n"
     ]
    },
    {
     "name": "stderr",
     "output_type": "stream",
     "text": [
      "C:\\Users\\Tom-G\\.conda\\envs\\torchenv\\lib\\site-packages\\torch\\nn\\modules\\container.py:141: UserWarning: Implicit dimension choice for softmax has been deprecated. Change the call to include dim=X as an argument.\n",
      "  input = module(input)\n"
     ]
    },
    {
     "name": "stdout",
     "output_type": "stream",
     "text": [
      "Step [0/3]\t loss_instance: 8.139443397521973\t loss_cluster: 3.2953948974609375\n",
      "\n",
      "Epoch [393/500]\t Loss: 11.434837023417154 \n",
      "\n",
      "Step [0/1]\t Computing features...\n",
      "Features shape (1714,)\n",
      "14\n",
      "Test NMI = 0.3045 ARI = 0.1227 F = 0.2712 ACC = 0.3320\n",
      "================================================================\n",
      "\n"
     ]
    },
    {
     "name": "stderr",
     "output_type": "stream",
     "text": [
      "C:\\Users\\Tom-G\\.conda\\envs\\torchenv\\lib\\site-packages\\torch\\nn\\modules\\container.py:141: UserWarning: Implicit dimension choice for softmax has been deprecated. Change the call to include dim=X as an argument.\n",
      "  input = module(input)\n"
     ]
    },
    {
     "name": "stdout",
     "output_type": "stream",
     "text": [
      "Step [0/3]\t loss_instance: 8.139442443847656\t loss_cluster: 3.295393466949463\n",
      "\n",
      "Epoch [394/500]\t Loss: 11.434850692749023 \n",
      "\n",
      "Step [0/1]\t Computing features...\n",
      "Features shape (1714,)\n",
      "14\n",
      "Test NMI = 0.3103 ARI = 0.1248 F = 0.2762 ACC = 0.3145\n",
      "================================================================\n",
      "\n"
     ]
    },
    {
     "name": "stderr",
     "output_type": "stream",
     "text": [
      "C:\\Users\\Tom-G\\.conda\\envs\\torchenv\\lib\\site-packages\\torch\\nn\\modules\\container.py:141: UserWarning: Implicit dimension choice for softmax has been deprecated. Change the call to include dim=X as an argument.\n",
      "  input = module(input)\n"
     ]
    },
    {
     "name": "stdout",
     "output_type": "stream",
     "text": [
      "Step [0/3]\t loss_instance: 8.13944149017334\t loss_cluster: 3.2953855991363525\n",
      "\n",
      "Epoch [395/500]\t Loss: 11.434844970703125 \n",
      "\n",
      "Step [0/1]\t Computing features...\n",
      "Features shape (1714,)\n",
      "14\n",
      "Test NMI = 0.3094 ARI = 0.1263 F = 0.2763 ACC = 0.3250\n",
      "================================================================\n",
      "\n"
     ]
    },
    {
     "name": "stderr",
     "output_type": "stream",
     "text": [
      "C:\\Users\\Tom-G\\.conda\\envs\\torchenv\\lib\\site-packages\\torch\\nn\\modules\\container.py:141: UserWarning: Implicit dimension choice for softmax has been deprecated. Change the call to include dim=X as an argument.\n",
      "  input = module(input)\n"
     ]
    },
    {
     "name": "stdout",
     "output_type": "stream",
     "text": [
      "Step [0/3]\t loss_instance: 8.139442443847656\t loss_cluster: 3.295391082763672\n",
      "\n",
      "Epoch [396/500]\t Loss: 11.434848467508951 \n",
      "\n",
      "Step [0/1]\t Computing features...\n",
      "Features shape (1714,)\n",
      "14\n",
      "Test NMI = 0.3085 ARI = 0.1281 F = 0.2785 ACC = 0.3372\n",
      "================================================================\n",
      "\n"
     ]
    },
    {
     "name": "stderr",
     "output_type": "stream",
     "text": [
      "C:\\Users\\Tom-G\\.conda\\envs\\torchenv\\lib\\site-packages\\torch\\nn\\modules\\container.py:141: UserWarning: Implicit dimension choice for softmax has been deprecated. Change the call to include dim=X as an argument.\n",
      "  input = module(input)\n"
     ]
    },
    {
     "name": "stdout",
     "output_type": "stream",
     "text": [
      "Step [0/3]\t loss_instance: 8.139447212219238\t loss_cluster: 3.2953925132751465\n",
      "\n",
      "Epoch [397/500]\t Loss: 11.434836705525717 \n",
      "\n",
      "Step [0/1]\t Computing features...\n",
      "Features shape (1714,)\n",
      "14\n",
      "Test NMI = 0.3033 ARI = 0.1240 F = 0.2760 ACC = 0.3372\n",
      "================================================================\n",
      "\n"
     ]
    },
    {
     "name": "stderr",
     "output_type": "stream",
     "text": [
      "C:\\Users\\Tom-G\\.conda\\envs\\torchenv\\lib\\site-packages\\torch\\nn\\modules\\container.py:141: UserWarning: Implicit dimension choice for softmax has been deprecated. Change the call to include dim=X as an argument.\n",
      "  input = module(input)\n"
     ]
    },
    {
     "name": "stdout",
     "output_type": "stream",
     "text": [
      "Step [0/3]\t loss_instance: 8.139448165893555\t loss_cluster: 3.295391321182251\n",
      "\n",
      "Epoch [398/500]\t Loss: 11.434840202331543 \n",
      "\n",
      "Step [0/1]\t Computing features...\n",
      "Features shape (1714,)\n",
      "14\n",
      "Test NMI = 0.3030 ARI = 0.1212 F = 0.2734 ACC = 0.3355\n",
      "================================================================\n",
      "\n"
     ]
    },
    {
     "name": "stderr",
     "output_type": "stream",
     "text": [
      "C:\\Users\\Tom-G\\.conda\\envs\\torchenv\\lib\\site-packages\\torch\\nn\\modules\\container.py:141: UserWarning: Implicit dimension choice for softmax has been deprecated. Change the call to include dim=X as an argument.\n",
      "  input = module(input)\n"
     ]
    },
    {
     "name": "stdout",
     "output_type": "stream",
     "text": [
      "Step [0/3]\t loss_instance: 8.139445304870605\t loss_cluster: 3.2953922748565674\n",
      "\n",
      "Epoch [399/500]\t Loss: 11.43484369913737 \n",
      "\n",
      "Step [0/1]\t Computing features...\n",
      "Features shape (1714,)\n",
      "14\n",
      "Test NMI = 0.3021 ARI = 0.1179 F = 0.2699 ACC = 0.3238\n",
      "================================================================\n",
      "\n"
     ]
    },
    {
     "name": "stderr",
     "output_type": "stream",
     "text": [
      "C:\\Users\\Tom-G\\.conda\\envs\\torchenv\\lib\\site-packages\\torch\\nn\\modules\\container.py:141: UserWarning: Implicit dimension choice for softmax has been deprecated. Change the call to include dim=X as an argument.\n",
      "  input = module(input)\n"
     ]
    },
    {
     "name": "stdout",
     "output_type": "stream",
     "text": [
      "Step [0/3]\t loss_instance: 8.139449119567871\t loss_cluster: 3.2953999042510986\n",
      "\n",
      "Epoch [400/500]\t Loss: 11.434845606486002 \n",
      "\n",
      "Step [0/1]\t Computing features...\n",
      "Features shape (1714,)\n",
      "14\n",
      "Test NMI = 0.3050 ARI = 0.1212 F = 0.2743 ACC = 0.3209\n",
      "================================================================\n",
      "\n"
     ]
    },
    {
     "name": "stderr",
     "output_type": "stream",
     "text": [
      "C:\\Users\\Tom-G\\.conda\\envs\\torchenv\\lib\\site-packages\\torch\\nn\\modules\\container.py:141: UserWarning: Implicit dimension choice for softmax has been deprecated. Change the call to include dim=X as an argument.\n",
      "  input = module(input)\n"
     ]
    },
    {
     "name": "stdout",
     "output_type": "stream",
     "text": [
      "Step [0/3]\t loss_instance: 8.139447212219238\t loss_cluster: 3.295388698577881\n",
      "\n",
      "Epoch [401/500]\t Loss: 11.434841473897299 \n",
      "\n",
      "Step [0/1]\t Computing features...\n",
      "Features shape (1714,)\n",
      "14\n",
      "Test NMI = 0.3044 ARI = 0.1177 F = 0.2722 ACC = 0.3226\n",
      "================================================================\n",
      "\n"
     ]
    },
    {
     "name": "stderr",
     "output_type": "stream",
     "text": [
      "C:\\Users\\Tom-G\\.conda\\envs\\torchenv\\lib\\site-packages\\torch\\nn\\modules\\container.py:141: UserWarning: Implicit dimension choice for softmax has been deprecated. Change the call to include dim=X as an argument.\n",
      "  input = module(input)\n"
     ]
    },
    {
     "name": "stdout",
     "output_type": "stream",
     "text": [
      "Step [0/3]\t loss_instance: 8.139446258544922\t loss_cluster: 3.2953884601593018\n",
      "\n",
      "Epoch [402/500]\t Loss: 11.434833526611328 \n",
      "\n",
      "Step [0/1]\t Computing features...\n",
      "Features shape (1714,)\n",
      "14\n",
      "Test NMI = 0.3032 ARI = 0.1207 F = 0.2742 ACC = 0.3331\n",
      "================================================================\n",
      "\n"
     ]
    },
    {
     "name": "stderr",
     "output_type": "stream",
     "text": [
      "C:\\Users\\Tom-G\\.conda\\envs\\torchenv\\lib\\site-packages\\torch\\nn\\modules\\container.py:141: UserWarning: Implicit dimension choice for softmax has been deprecated. Change the call to include dim=X as an argument.\n",
      "  input = module(input)\n"
     ]
    },
    {
     "name": "stdout",
     "output_type": "stream",
     "text": [
      "Step [0/3]\t loss_instance: 8.139446258544922\t loss_cluster: 3.2953920364379883\n",
      "\n",
      "Epoch [403/500]\t Loss: 11.434836069742838 \n",
      "\n",
      "Step [0/1]\t Computing features...\n",
      "Features shape (1714,)\n",
      "14\n",
      "Test NMI = 0.3029 ARI = 0.1223 F = 0.2719 ACC = 0.3314\n",
      "================================================================\n",
      "\n"
     ]
    },
    {
     "name": "stderr",
     "output_type": "stream",
     "text": [
      "C:\\Users\\Tom-G\\.conda\\envs\\torchenv\\lib\\site-packages\\torch\\nn\\modules\\container.py:141: UserWarning: Implicit dimension choice for softmax has been deprecated. Change the call to include dim=X as an argument.\n",
      "  input = module(input)\n"
     ]
    },
    {
     "name": "stdout",
     "output_type": "stream",
     "text": [
      "Step [0/3]\t loss_instance: 8.139451026916504\t loss_cluster: 3.295383930206299\n",
      "\n",
      "Epoch [404/500]\t Loss: 11.434842109680176 \n",
      "\n",
      "Step [0/1]\t Computing features...\n",
      "Features shape (1714,)\n",
      "14\n",
      "Test NMI = 0.3026 ARI = 0.1203 F = 0.2698 ACC = 0.3261\n",
      "================================================================\n",
      "\n"
     ]
    },
    {
     "name": "stderr",
     "output_type": "stream",
     "text": [
      "C:\\Users\\Tom-G\\.conda\\envs\\torchenv\\lib\\site-packages\\torch\\nn\\modules\\container.py:141: UserWarning: Implicit dimension choice for softmax has been deprecated. Change the call to include dim=X as an argument.\n",
      "  input = module(input)\n"
     ]
    },
    {
     "name": "stdout",
     "output_type": "stream",
     "text": [
      "Step [0/3]\t loss_instance: 8.139445304870605\t loss_cluster: 3.2953884601593018\n",
      "\n",
      "Epoch [405/500]\t Loss: 11.43483797709147 \n",
      "\n",
      "Step [0/1]\t Computing features...\n",
      "Features shape (1714,)\n",
      "14\n",
      "Test NMI = 0.3014 ARI = 0.1173 F = 0.2694 ACC = 0.3174\n",
      "================================================================\n",
      "\n"
     ]
    },
    {
     "name": "stderr",
     "output_type": "stream",
     "text": [
      "C:\\Users\\Tom-G\\.conda\\envs\\torchenv\\lib\\site-packages\\torch\\nn\\modules\\container.py:141: UserWarning: Implicit dimension choice for softmax has been deprecated. Change the call to include dim=X as an argument.\n",
      "  input = module(input)\n"
     ]
    },
    {
     "name": "stdout",
     "output_type": "stream",
     "text": [
      "Step [0/3]\t loss_instance: 8.139442443847656\t loss_cluster: 3.2953948974609375\n",
      "\n",
      "Epoch [406/500]\t Loss: 11.434832572937012 \n",
      "\n",
      "Step [0/1]\t Computing features...\n",
      "Features shape (1714,)\n",
      "14\n",
      "Test NMI = 0.3040 ARI = 0.1207 F = 0.2725 ACC = 0.3197\n",
      "================================================================\n",
      "\n"
     ]
    },
    {
     "name": "stderr",
     "output_type": "stream",
     "text": [
      "C:\\Users\\Tom-G\\.conda\\envs\\torchenv\\lib\\site-packages\\torch\\nn\\modules\\container.py:141: UserWarning: Implicit dimension choice for softmax has been deprecated. Change the call to include dim=X as an argument.\n",
      "  input = module(input)\n"
     ]
    },
    {
     "name": "stdout",
     "output_type": "stream",
     "text": [
      "Step [0/3]\t loss_instance: 8.139444351196289\t loss_cluster: 3.2953898906707764\n",
      "\n",
      "Epoch [407/500]\t Loss: 11.434833844502768 \n",
      "\n",
      "Step [0/1]\t Computing features...\n",
      "Features shape (1714,)\n",
      "14\n",
      "Test NMI = 0.3057 ARI = 0.1246 F = 0.2758 ACC = 0.3267\n",
      "================================================================\n",
      "\n"
     ]
    },
    {
     "name": "stderr",
     "output_type": "stream",
     "text": [
      "C:\\Users\\Tom-G\\.conda\\envs\\torchenv\\lib\\site-packages\\torch\\nn\\modules\\container.py:141: UserWarning: Implicit dimension choice for softmax has been deprecated. Change the call to include dim=X as an argument.\n",
      "  input = module(input)\n"
     ]
    },
    {
     "name": "stdout",
     "output_type": "stream",
     "text": [
      "Step [0/3]\t loss_instance: 8.139444351196289\t loss_cluster: 3.295417308807373\n",
      "\n",
      "Epoch [408/500]\t Loss: 11.434850374857584 \n",
      "\n",
      "Step [0/1]\t Computing features...\n",
      "Features shape (1714,)\n",
      "14\n",
      "Test NMI = 0.3008 ARI = 0.1217 F = 0.2750 ACC = 0.3244\n",
      "================================================================\n",
      "\n"
     ]
    },
    {
     "name": "stderr",
     "output_type": "stream",
     "text": [
      "C:\\Users\\Tom-G\\.conda\\envs\\torchenv\\lib\\site-packages\\torch\\nn\\modules\\container.py:141: UserWarning: Implicit dimension choice for softmax has been deprecated. Change the call to include dim=X as an argument.\n",
      "  input = module(input)\n"
     ]
    },
    {
     "name": "stdout",
     "output_type": "stream",
     "text": [
      "Step [0/3]\t loss_instance: 8.139445304870605\t loss_cluster: 3.2953920364379883\n",
      "\n",
      "Epoch [409/500]\t Loss: 11.434834480285645 \n",
      "\n",
      "Step [0/1]\t Computing features...\n",
      "Features shape (1714,)\n",
      "14\n",
      "Test NMI = 0.3040 ARI = 0.1242 F = 0.2743 ACC = 0.3331\n",
      "================================================================\n",
      "\n"
     ]
    },
    {
     "name": "stderr",
     "output_type": "stream",
     "text": [
      "C:\\Users\\Tom-G\\.conda\\envs\\torchenv\\lib\\site-packages\\torch\\nn\\modules\\container.py:141: UserWarning: Implicit dimension choice for softmax has been deprecated. Change the call to include dim=X as an argument.\n",
      "  input = module(input)\n"
     ]
    },
    {
     "name": "stdout",
     "output_type": "stream",
     "text": [
      "Step [0/3]\t loss_instance: 8.139449119567871\t loss_cluster: 3.295393466949463\n",
      "\n",
      "Epoch [410/500]\t Loss: 11.434839566548666 \n",
      "\n",
      "Step [0/1]\t Computing features...\n",
      "Features shape (1714,)\n",
      "14\n",
      "Test NMI = 0.3043 ARI = 0.1235 F = 0.2731 ACC = 0.3296\n",
      "================================================================\n",
      "\n"
     ]
    },
    {
     "name": "stderr",
     "output_type": "stream",
     "text": [
      "C:\\Users\\Tom-G\\.conda\\envs\\torchenv\\lib\\site-packages\\torch\\nn\\modules\\container.py:141: UserWarning: Implicit dimension choice for softmax has been deprecated. Change the call to include dim=X as an argument.\n",
      "  input = module(input)\n"
     ]
    },
    {
     "name": "stdout",
     "output_type": "stream",
     "text": [
      "Step [0/3]\t loss_instance: 8.139447212219238\t loss_cluster: 3.2953879833221436\n",
      "\n",
      "Epoch [411/500]\t Loss: 11.434829711914062 \n",
      "\n",
      "Step [0/1]\t Computing features...\n",
      "Features shape (1714,)\n",
      "14\n",
      "Test NMI = 0.3031 ARI = 0.1245 F = 0.2777 ACC = 0.3238\n",
      "================================================================\n",
      "\n"
     ]
    },
    {
     "name": "stderr",
     "output_type": "stream",
     "text": [
      "C:\\Users\\Tom-G\\.conda\\envs\\torchenv\\lib\\site-packages\\torch\\nn\\modules\\container.py:141: UserWarning: Implicit dimension choice for softmax has been deprecated. Change the call to include dim=X as an argument.\n",
      "  input = module(input)\n"
     ]
    },
    {
     "name": "stdout",
     "output_type": "stream",
     "text": [
      "Step [0/3]\t loss_instance: 8.139444351196289\t loss_cluster: 3.2954089641571045\n",
      "\n",
      "Epoch [412/500]\t Loss: 11.434839566548666 \n",
      "\n",
      "Step [0/1]\t Computing features...\n",
      "Features shape (1714,)\n",
      "14\n",
      "Test NMI = 0.3041 ARI = 0.1241 F = 0.2768 ACC = 0.3244\n",
      "================================================================\n",
      "\n"
     ]
    },
    {
     "name": "stderr",
     "output_type": "stream",
     "text": [
      "C:\\Users\\Tom-G\\.conda\\envs\\torchenv\\lib\\site-packages\\torch\\nn\\modules\\container.py:141: UserWarning: Implicit dimension choice for softmax has been deprecated. Change the call to include dim=X as an argument.\n",
      "  input = module(input)\n"
     ]
    },
    {
     "name": "stdout",
     "output_type": "stream",
     "text": [
      "Step [0/3]\t loss_instance: 8.139444351196289\t loss_cluster: 3.295403480529785\n",
      "\n",
      "Epoch [413/500]\t Loss: 11.434840520222982 \n",
      "\n",
      "Step [0/1]\t Computing features...\n",
      "Features shape (1714,)\n",
      "14\n",
      "Test NMI = 0.3000 ARI = 0.1218 F = 0.2751 ACC = 0.3267\n",
      "================================================================\n",
      "\n"
     ]
    },
    {
     "name": "stderr",
     "output_type": "stream",
     "text": [
      "C:\\Users\\Tom-G\\.conda\\envs\\torchenv\\lib\\site-packages\\torch\\nn\\modules\\container.py:141: UserWarning: Implicit dimension choice for softmax has been deprecated. Change the call to include dim=X as an argument.\n",
      "  input = module(input)\n"
     ]
    },
    {
     "name": "stdout",
     "output_type": "stream",
     "text": [
      "Step [0/3]\t loss_instance: 8.139442443847656\t loss_cluster: 3.295384645462036\n",
      "\n",
      "Epoch [414/500]\t Loss: 11.434833208719889 \n",
      "\n",
      "Step [0/1]\t Computing features...\n",
      "Features shape (1714,)\n",
      "14\n",
      "Test NMI = 0.3040 ARI = 0.1260 F = 0.2773 ACC = 0.3296\n",
      "================================================================\n",
      "\n"
     ]
    },
    {
     "name": "stderr",
     "output_type": "stream",
     "text": [
      "C:\\Users\\Tom-G\\.conda\\envs\\torchenv\\lib\\site-packages\\torch\\nn\\modules\\container.py:141: UserWarning: Implicit dimension choice for softmax has been deprecated. Change the call to include dim=X as an argument.\n",
      "  input = module(input)\n"
     ]
    },
    {
     "name": "stdout",
     "output_type": "stream",
     "text": [
      "Step [0/3]\t loss_instance: 8.13944149017334\t loss_cluster: 3.29538893699646\n",
      "\n",
      "Epoch [415/500]\t Loss: 11.434844652811686 \n",
      "\n",
      "Step [0/1]\t Computing features...\n",
      "Features shape (1714,)\n",
      "14\n",
      "Test NMI = 0.3037 ARI = 0.1244 F = 0.2757 ACC = 0.3221\n",
      "================================================================\n",
      "\n"
     ]
    },
    {
     "name": "stderr",
     "output_type": "stream",
     "text": [
      "C:\\Users\\Tom-G\\.conda\\envs\\torchenv\\lib\\site-packages\\torch\\nn\\modules\\container.py:141: UserWarning: Implicit dimension choice for softmax has been deprecated. Change the call to include dim=X as an argument.\n",
      "  input = module(input)\n"
     ]
    },
    {
     "name": "stdout",
     "output_type": "stream",
     "text": [
      "Step [0/3]\t loss_instance: 8.13944149017334\t loss_cluster: 3.295387029647827\n",
      "\n",
      "Epoch [416/500]\t Loss: 11.434828122456869 \n",
      "\n",
      "Step [0/1]\t Computing features...\n",
      "Features shape (1714,)\n",
      "14\n",
      "Test NMI = 0.3010 ARI = 0.1199 F = 0.2753 ACC = 0.3116\n",
      "================================================================\n",
      "\n"
     ]
    },
    {
     "name": "stderr",
     "output_type": "stream",
     "text": [
      "C:\\Users\\Tom-G\\.conda\\envs\\torchenv\\lib\\site-packages\\torch\\nn\\modules\\container.py:141: UserWarning: Implicit dimension choice for softmax has been deprecated. Change the call to include dim=X as an argument.\n",
      "  input = module(input)\n"
     ]
    },
    {
     "name": "stdout",
     "output_type": "stream",
     "text": [
      "Step [0/3]\t loss_instance: 8.139442443847656\t loss_cluster: 3.295391798019409\n",
      "\n",
      "Epoch [417/500]\t Loss: 11.434842745463053 \n",
      "\n",
      "Step [0/1]\t Computing features...\n",
      "Features shape (1714,)\n",
      "14\n",
      "Test NMI = 0.2984 ARI = 0.1179 F = 0.2729 ACC = 0.3069\n",
      "================================================================\n",
      "\n"
     ]
    },
    {
     "name": "stderr",
     "output_type": "stream",
     "text": [
      "C:\\Users\\Tom-G\\.conda\\envs\\torchenv\\lib\\site-packages\\torch\\nn\\modules\\container.py:141: UserWarning: Implicit dimension choice for softmax has been deprecated. Change the call to include dim=X as an argument.\n",
      "  input = module(input)\n"
     ]
    },
    {
     "name": "stdout",
     "output_type": "stream",
     "text": [
      "Step [0/3]\t loss_instance: 8.139443397521973\t loss_cluster: 3.2953927516937256\n",
      "\n",
      "Epoch [418/500]\t Loss: 11.434839566548666 \n",
      "\n",
      "Step [0/1]\t Computing features...\n",
      "Features shape (1714,)\n",
      "14\n",
      "Test NMI = 0.2980 ARI = 0.1194 F = 0.2733 ACC = 0.3139\n",
      "================================================================\n",
      "\n"
     ]
    },
    {
     "name": "stderr",
     "output_type": "stream",
     "text": [
      "C:\\Users\\Tom-G\\.conda\\envs\\torchenv\\lib\\site-packages\\torch\\nn\\modules\\container.py:141: UserWarning: Implicit dimension choice for softmax has been deprecated. Change the call to include dim=X as an argument.\n",
      "  input = module(input)\n"
     ]
    },
    {
     "name": "stdout",
     "output_type": "stream",
     "text": [
      "Step [0/3]\t loss_instance: 8.139444351196289\t loss_cluster: 3.2954001426696777\n",
      "\n",
      "Epoch [419/500]\t Loss: 11.434836705525717 \n",
      "\n",
      "Step [0/1]\t Computing features...\n",
      "Features shape (1714,)\n",
      "14\n",
      "Test NMI = 0.3022 ARI = 0.1208 F = 0.2750 ACC = 0.3086\n",
      "================================================================\n",
      "\n"
     ]
    },
    {
     "name": "stderr",
     "output_type": "stream",
     "text": [
      "C:\\Users\\Tom-G\\.conda\\envs\\torchenv\\lib\\site-packages\\torch\\nn\\modules\\container.py:141: UserWarning: Implicit dimension choice for softmax has been deprecated. Change the call to include dim=X as an argument.\n",
      "  input = module(input)\n"
     ]
    },
    {
     "name": "stdout",
     "output_type": "stream",
     "text": [
      "Step [0/3]\t loss_instance: 8.13944149017334\t loss_cluster: 3.2954609394073486\n",
      "\n",
      "Epoch [420/500]\t Loss: 11.434861501057943 \n",
      "\n",
      "Step [0/1]\t Computing features...\n",
      "Features shape (1714,)\n",
      "14\n",
      "Test NMI = 0.3045 ARI = 0.1253 F = 0.2789 ACC = 0.3186\n",
      "================================================================\n",
      "\n"
     ]
    },
    {
     "name": "stderr",
     "output_type": "stream",
     "text": [
      "C:\\Users\\Tom-G\\.conda\\envs\\torchenv\\lib\\site-packages\\torch\\nn\\modules\\container.py:141: UserWarning: Implicit dimension choice for softmax has been deprecated. Change the call to include dim=X as an argument.\n",
      "  input = module(input)\n"
     ]
    },
    {
     "name": "stdout",
     "output_type": "stream",
     "text": [
      "Step [0/3]\t loss_instance: 8.139443397521973\t loss_cluster: 3.2953875064849854\n",
      "\n",
      "Epoch [421/500]\t Loss: 11.434841473897299 \n",
      "\n",
      "Step [0/1]\t Computing features...\n",
      "Features shape (1714,)\n",
      "14\n",
      "Test NMI = 0.3090 ARI = 0.1291 F = 0.2819 ACC = 0.3238\n",
      "================================================================\n",
      "\n"
     ]
    },
    {
     "name": "stderr",
     "output_type": "stream",
     "text": [
      "C:\\Users\\Tom-G\\.conda\\envs\\torchenv\\lib\\site-packages\\torch\\nn\\modules\\container.py:141: UserWarning: Implicit dimension choice for softmax has been deprecated. Change the call to include dim=X as an argument.\n",
      "  input = module(input)\n"
     ]
    },
    {
     "name": "stdout",
     "output_type": "stream",
     "text": [
      "Step [0/3]\t loss_instance: 8.139442443847656\t loss_cluster: 3.2953944206237793\n",
      "\n",
      "Epoch [422/500]\t Loss: 11.434840520222982 \n",
      "\n",
      "Step [0/1]\t Computing features...\n",
      "Features shape (1714,)\n",
      "14\n",
      "Test NMI = 0.3045 ARI = 0.1266 F = 0.2802 ACC = 0.3168\n",
      "================================================================\n",
      "\n"
     ]
    },
    {
     "name": "stderr",
     "output_type": "stream",
     "text": [
      "C:\\Users\\Tom-G\\.conda\\envs\\torchenv\\lib\\site-packages\\torch\\nn\\modules\\container.py:141: UserWarning: Implicit dimension choice for softmax has been deprecated. Change the call to include dim=X as an argument.\n",
      "  input = module(input)\n"
     ]
    },
    {
     "name": "stdout",
     "output_type": "stream",
     "text": [
      "Step [0/3]\t loss_instance: 8.139442443847656\t loss_cluster: 3.2953972816467285\n",
      "\n",
      "Epoch [423/500]\t Loss: 11.434832572937012 \n",
      "\n",
      "Step [0/1]\t Computing features...\n",
      "Features shape (1714,)\n",
      "14\n",
      "Test NMI = 0.3036 ARI = 0.1263 F = 0.2782 ACC = 0.3116\n",
      "================================================================\n",
      "\n"
     ]
    },
    {
     "name": "stderr",
     "output_type": "stream",
     "text": [
      "C:\\Users\\Tom-G\\.conda\\envs\\torchenv\\lib\\site-packages\\torch\\nn\\modules\\container.py:141: UserWarning: Implicit dimension choice for softmax has been deprecated. Change the call to include dim=X as an argument.\n",
      "  input = module(input)\n"
     ]
    },
    {
     "name": "stdout",
     "output_type": "stream",
     "text": [
      "Step [0/3]\t loss_instance: 8.13944149017334\t loss_cluster: 3.295393705368042\n",
      "\n",
      "Epoch [424/500]\t Loss: 11.434841791788736 \n",
      "\n",
      "Step [0/1]\t Computing features...\n",
      "Features shape (1714,)\n",
      "14\n",
      "Test NMI = 0.3032 ARI = 0.1238 F = 0.2761 ACC = 0.3116\n",
      "================================================================\n",
      "\n"
     ]
    },
    {
     "name": "stderr",
     "output_type": "stream",
     "text": [
      "C:\\Users\\Tom-G\\.conda\\envs\\torchenv\\lib\\site-packages\\torch\\nn\\modules\\container.py:141: UserWarning: Implicit dimension choice for softmax has been deprecated. Change the call to include dim=X as an argument.\n",
      "  input = module(input)\n"
     ]
    },
    {
     "name": "stdout",
     "output_type": "stream",
     "text": [
      "Step [0/3]\t loss_instance: 8.139442443847656\t loss_cluster: 3.295384407043457\n",
      "\n",
      "Epoch [425/500]\t Loss: 11.434829076131185 \n",
      "\n",
      "Step [0/1]\t Computing features...\n",
      "Features shape (1714,)\n",
      "14\n",
      "Test NMI = 0.3051 ARI = 0.1263 F = 0.2783 ACC = 0.3238\n",
      "================================================================\n",
      "\n"
     ]
    },
    {
     "name": "stderr",
     "output_type": "stream",
     "text": [
      "C:\\Users\\Tom-G\\.conda\\envs\\torchenv\\lib\\site-packages\\torch\\nn\\modules\\container.py:141: UserWarning: Implicit dimension choice for softmax has been deprecated. Change the call to include dim=X as an argument.\n",
      "  input = module(input)\n"
     ]
    },
    {
     "name": "stdout",
     "output_type": "stream",
     "text": [
      "Step [0/3]\t loss_instance: 8.139443397521973\t loss_cluster: 3.295396327972412\n",
      "\n",
      "Epoch [426/500]\t Loss: 11.434858004252115 \n",
      "\n",
      "Step [0/1]\t Computing features...\n",
      "Features shape (1714,)\n",
      "14\n",
      "Test NMI = 0.3045 ARI = 0.1274 F = 0.2813 ACC = 0.3232\n",
      "================================================================\n",
      "\n"
     ]
    },
    {
     "name": "stderr",
     "output_type": "stream",
     "text": [
      "C:\\Users\\Tom-G\\.conda\\envs\\torchenv\\lib\\site-packages\\torch\\nn\\modules\\container.py:141: UserWarning: Implicit dimension choice for softmax has been deprecated. Change the call to include dim=X as an argument.\n",
      "  input = module(input)\n"
     ]
    },
    {
     "name": "stdout",
     "output_type": "stream",
     "text": [
      "Step [0/3]\t loss_instance: 8.139445304870605\t loss_cluster: 3.295389413833618\n",
      "\n",
      "Epoch [427/500]\t Loss: 11.4348357518514 \n",
      "\n",
      "Step [0/1]\t Computing features...\n",
      "Features shape (1714,)\n",
      "14\n",
      "Test NMI = 0.3040 ARI = 0.1267 F = 0.2818 ACC = 0.3156\n",
      "================================================================\n",
      "\n"
     ]
    },
    {
     "name": "stderr",
     "output_type": "stream",
     "text": [
      "C:\\Users\\Tom-G\\.conda\\envs\\torchenv\\lib\\site-packages\\torch\\nn\\modules\\container.py:141: UserWarning: Implicit dimension choice for softmax has been deprecated. Change the call to include dim=X as an argument.\n",
      "  input = module(input)\n"
     ]
    },
    {
     "name": "stdout",
     "output_type": "stream",
     "text": [
      "Step [0/3]\t loss_instance: 8.139442443847656\t loss_cluster: 3.2954113483428955\n",
      "\n",
      "Epoch [428/500]\t Loss: 11.434849739074707 \n",
      "\n",
      "Step [0/1]\t Computing features...\n",
      "Features shape (1714,)\n",
      "14\n",
      "Test NMI = 0.3072 ARI = 0.1315 F = 0.2820 ACC = 0.3232\n",
      "================================================================\n",
      "\n"
     ]
    },
    {
     "name": "stderr",
     "output_type": "stream",
     "text": [
      "C:\\Users\\Tom-G\\.conda\\envs\\torchenv\\lib\\site-packages\\torch\\nn\\modules\\container.py:141: UserWarning: Implicit dimension choice for softmax has been deprecated. Change the call to include dim=X as an argument.\n",
      "  input = module(input)\n"
     ]
    },
    {
     "name": "stdout",
     "output_type": "stream",
     "text": [
      "Step [0/3]\t loss_instance: 8.139443397521973\t loss_cluster: 3.2953906059265137\n",
      "\n",
      "Epoch [429/500]\t Loss: 11.434837023417154 \n",
      "\n",
      "Step [0/1]\t Computing features...\n",
      "Features shape (1714,)\n",
      "14\n",
      "Test NMI = 0.3068 ARI = 0.1293 F = 0.2802 ACC = 0.3197\n",
      "================================================================\n",
      "\n"
     ]
    },
    {
     "name": "stderr",
     "output_type": "stream",
     "text": [
      "C:\\Users\\Tom-G\\.conda\\envs\\torchenv\\lib\\site-packages\\torch\\nn\\modules\\container.py:141: UserWarning: Implicit dimension choice for softmax has been deprecated. Change the call to include dim=X as an argument.\n",
      "  input = module(input)\n"
     ]
    },
    {
     "name": "stdout",
     "output_type": "stream",
     "text": [
      "Step [0/3]\t loss_instance: 8.139443397521973\t loss_cluster: 3.295393705368042\n",
      "\n",
      "Epoch [430/500]\t Loss: 11.43483797709147 \n",
      "\n",
      "Step [0/1]\t Computing features...\n",
      "Features shape (1714,)\n",
      "14\n",
      "Test NMI = 0.3018 ARI = 0.1220 F = 0.2761 ACC = 0.3069\n",
      "================================================================\n",
      "\n"
     ]
    },
    {
     "name": "stderr",
     "output_type": "stream",
     "text": [
      "C:\\Users\\Tom-G\\.conda\\envs\\torchenv\\lib\\site-packages\\torch\\nn\\modules\\container.py:141: UserWarning: Implicit dimension choice for softmax has been deprecated. Change the call to include dim=X as an argument.\n",
      "  input = module(input)\n"
     ]
    },
    {
     "name": "stdout",
     "output_type": "stream",
     "text": [
      "Step [0/3]\t loss_instance: 8.139445304870605\t loss_cluster: 3.2953908443450928\n",
      "\n",
      "Epoch [431/500]\t Loss: 11.43484083811442 \n",
      "\n",
      "Step [0/1]\t Computing features...\n",
      "Features shape (1714,)\n",
      "14\n",
      "Test NMI = 0.3026 ARI = 0.1238 F = 0.2776 ACC = 0.3081\n",
      "================================================================\n",
      "\n"
     ]
    },
    {
     "name": "stderr",
     "output_type": "stream",
     "text": [
      "C:\\Users\\Tom-G\\.conda\\envs\\torchenv\\lib\\site-packages\\torch\\nn\\modules\\container.py:141: UserWarning: Implicit dimension choice for softmax has been deprecated. Change the call to include dim=X as an argument.\n",
      "  input = module(input)\n"
     ]
    },
    {
     "name": "stdout",
     "output_type": "stream",
     "text": [
      "Step [0/3]\t loss_instance: 8.139442443847656\t loss_cluster: 3.29538631439209\n",
      "\n",
      "Epoch [432/500]\t Loss: 11.434832572937012 \n",
      "\n",
      "Step [0/1]\t Computing features...\n",
      "Features shape (1714,)\n",
      "14\n",
      "Test NMI = 0.3053 ARI = 0.1267 F = 0.2785 ACC = 0.3162\n",
      "================================================================\n",
      "\n"
     ]
    },
    {
     "name": "stderr",
     "output_type": "stream",
     "text": [
      "C:\\Users\\Tom-G\\.conda\\envs\\torchenv\\lib\\site-packages\\torch\\nn\\modules\\container.py:141: UserWarning: Implicit dimension choice for softmax has been deprecated. Change the call to include dim=X as an argument.\n",
      "  input = module(input)\n"
     ]
    },
    {
     "name": "stdout",
     "output_type": "stream",
     "text": [
      "Step [0/3]\t loss_instance: 8.13944149017334\t loss_cluster: 3.29538893699646\n",
      "\n",
      "Epoch [433/500]\t Loss: 11.434844334920248 \n",
      "\n",
      "Step [0/1]\t Computing features...\n",
      "Features shape (1714,)\n",
      "14\n",
      "Test NMI = 0.3033 ARI = 0.1249 F = 0.2782 ACC = 0.3104\n",
      "================================================================\n",
      "\n"
     ]
    },
    {
     "name": "stderr",
     "output_type": "stream",
     "text": [
      "C:\\Users\\Tom-G\\.conda\\envs\\torchenv\\lib\\site-packages\\torch\\nn\\modules\\container.py:141: UserWarning: Implicit dimension choice for softmax has been deprecated. Change the call to include dim=X as an argument.\n",
      "  input = module(input)\n"
     ]
    },
    {
     "name": "stdout",
     "output_type": "stream",
     "text": [
      "Step [0/3]\t loss_instance: 8.139442443847656\t loss_cluster: 3.295386552810669\n",
      "\n",
      "Epoch [434/500]\t Loss: 11.434828122456869 \n",
      "\n",
      "Step [0/1]\t Computing features...\n",
      "Features shape (1714,)\n",
      "14\n",
      "Test NMI = 0.3024 ARI = 0.1240 F = 0.2801 ACC = 0.3133\n",
      "================================================================\n",
      "\n"
     ]
    },
    {
     "name": "stderr",
     "output_type": "stream",
     "text": [
      "C:\\Users\\Tom-G\\.conda\\envs\\torchenv\\lib\\site-packages\\torch\\nn\\modules\\container.py:141: UserWarning: Implicit dimension choice for softmax has been deprecated. Change the call to include dim=X as an argument.\n",
      "  input = module(input)\n"
     ]
    },
    {
     "name": "stdout",
     "output_type": "stream",
     "text": [
      "Step [0/3]\t loss_instance: 8.139442443847656\t loss_cluster: 3.2953855991363525\n",
      "\n",
      "Epoch [435/500]\t Loss: 11.434832890828451 \n",
      "\n",
      "Step [0/1]\t Computing features...\n",
      "Features shape (1714,)\n",
      "14\n",
      "Test NMI = 0.3029 ARI = 0.1254 F = 0.2792 ACC = 0.3098\n",
      "================================================================\n",
      "\n"
     ]
    },
    {
     "name": "stderr",
     "output_type": "stream",
     "text": [
      "C:\\Users\\Tom-G\\.conda\\envs\\torchenv\\lib\\site-packages\\torch\\nn\\modules\\container.py:141: UserWarning: Implicit dimension choice for softmax has been deprecated. Change the call to include dim=X as an argument.\n",
      "  input = module(input)\n"
     ]
    },
    {
     "name": "stdout",
     "output_type": "stream",
     "text": [
      "Step [0/3]\t loss_instance: 8.139443397521973\t loss_cluster: 3.295386552810669\n",
      "\n",
      "Epoch [436/500]\t Loss: 11.434833208719889 \n",
      "\n",
      "Step [0/1]\t Computing features...\n",
      "Features shape (1714,)\n",
      "14\n",
      "Test NMI = 0.3060 ARI = 0.1290 F = 0.2810 ACC = 0.3133\n",
      "================================================================\n",
      "\n"
     ]
    },
    {
     "name": "stderr",
     "output_type": "stream",
     "text": [
      "C:\\Users\\Tom-G\\.conda\\envs\\torchenv\\lib\\site-packages\\torch\\nn\\modules\\container.py:141: UserWarning: Implicit dimension choice for softmax has been deprecated. Change the call to include dim=X as an argument.\n",
      "  input = module(input)\n"
     ]
    },
    {
     "name": "stdout",
     "output_type": "stream",
     "text": [
      "Step [0/3]\t loss_instance: 8.139443397521973\t loss_cluster: 3.2953925132751465\n",
      "\n",
      "Epoch [437/500]\t Loss: 11.434836069742838 \n",
      "\n",
      "Step [0/1]\t Computing features...\n",
      "Features shape (1714,)\n",
      "14\n",
      "Test NMI = 0.3068 ARI = 0.1295 F = 0.2803 ACC = 0.3145\n",
      "================================================================\n",
      "\n"
     ]
    },
    {
     "name": "stderr",
     "output_type": "stream",
     "text": [
      "C:\\Users\\Tom-G\\.conda\\envs\\torchenv\\lib\\site-packages\\torch\\nn\\modules\\container.py:141: UserWarning: Implicit dimension choice for softmax has been deprecated. Change the call to include dim=X as an argument.\n",
      "  input = module(input)\n"
     ]
    },
    {
     "name": "stdout",
     "output_type": "stream",
     "text": [
      "Step [0/3]\t loss_instance: 8.13944149017334\t loss_cluster: 3.295386552810669\n",
      "\n",
      "Epoch [438/500]\t Loss: 11.434841791788736 \n",
      "\n",
      "Step [0/1]\t Computing features...\n",
      "Features shape (1714,)\n",
      "14\n",
      "Test NMI = 0.3083 ARI = 0.1336 F = 0.2848 ACC = 0.3139\n",
      "================================================================\n",
      "\n"
     ]
    },
    {
     "name": "stderr",
     "output_type": "stream",
     "text": [
      "C:\\Users\\Tom-G\\.conda\\envs\\torchenv\\lib\\site-packages\\torch\\nn\\modules\\container.py:141: UserWarning: Implicit dimension choice for softmax has been deprecated. Change the call to include dim=X as an argument.\n",
      "  input = module(input)\n"
     ]
    },
    {
     "name": "stdout",
     "output_type": "stream",
     "text": [
      "Step [0/3]\t loss_instance: 8.139442443847656\t loss_cluster: 3.2953989505767822\n",
      "\n",
      "Epoch [439/500]\t Loss: 11.434844652811686 \n",
      "\n",
      "Step [0/1]\t Computing features...\n",
      "Features shape (1714,)\n",
      "14\n",
      "Test NMI = 0.3099 ARI = 0.1354 F = 0.2856 ACC = 0.3232\n",
      "================================================================\n",
      "\n"
     ]
    },
    {
     "name": "stderr",
     "output_type": "stream",
     "text": [
      "C:\\Users\\Tom-G\\.conda\\envs\\torchenv\\lib\\site-packages\\torch\\nn\\modules\\container.py:141: UserWarning: Implicit dimension choice for softmax has been deprecated. Change the call to include dim=X as an argument.\n",
      "  input = module(input)\n"
     ]
    },
    {
     "name": "stdout",
     "output_type": "stream",
     "text": [
      "Step [0/3]\t loss_instance: 8.139442443847656\t loss_cluster: 3.295405626296997\n",
      "\n",
      "Epoch [440/500]\t Loss: 11.434836069742838 \n",
      "\n",
      "Step [0/1]\t Computing features...\n",
      "Features shape (1714,)\n",
      "14\n",
      "Test NMI = 0.3077 ARI = 0.1322 F = 0.2827 ACC = 0.3145\n",
      "================================================================\n",
      "\n"
     ]
    },
    {
     "name": "stderr",
     "output_type": "stream",
     "text": [
      "C:\\Users\\Tom-G\\.conda\\envs\\torchenv\\lib\\site-packages\\torch\\nn\\modules\\container.py:141: UserWarning: Implicit dimension choice for softmax has been deprecated. Change the call to include dim=X as an argument.\n",
      "  input = module(input)\n"
     ]
    },
    {
     "name": "stdout",
     "output_type": "stream",
     "text": [
      "Step [0/3]\t loss_instance: 8.139448165893555\t loss_cluster: 3.2953875064849854\n",
      "\n",
      "Epoch [441/500]\t Loss: 11.434834162394205 \n",
      "\n",
      "Step [0/1]\t Computing features...\n",
      "Features shape (1714,)\n",
      "14\n",
      "Test NMI = 0.3086 ARI = 0.1325 F = 0.2826 ACC = 0.3215\n",
      "================================================================\n",
      "\n"
     ]
    },
    {
     "name": "stderr",
     "output_type": "stream",
     "text": [
      "C:\\Users\\Tom-G\\.conda\\envs\\torchenv\\lib\\site-packages\\torch\\nn\\modules\\container.py:141: UserWarning: Implicit dimension choice for softmax has been deprecated. Change the call to include dim=X as an argument.\n",
      "  input = module(input)\n"
     ]
    },
    {
     "name": "stdout",
     "output_type": "stream",
     "text": [
      "Step [0/3]\t loss_instance: 8.139444351196289\t loss_cluster: 3.295389175415039\n",
      "\n",
      "Epoch [442/500]\t Loss: 11.434834480285645 \n",
      "\n",
      "Step [0/1]\t Computing features...\n",
      "Features shape (1714,)\n",
      "14\n",
      "Test NMI = 0.3088 ARI = 0.1306 F = 0.2809 ACC = 0.3191\n",
      "================================================================\n",
      "\n"
     ]
    },
    {
     "name": "stderr",
     "output_type": "stream",
     "text": [
      "C:\\Users\\Tom-G\\.conda\\envs\\torchenv\\lib\\site-packages\\torch\\nn\\modules\\container.py:141: UserWarning: Implicit dimension choice for softmax has been deprecated. Change the call to include dim=X as an argument.\n",
      "  input = module(input)\n"
     ]
    },
    {
     "name": "stdout",
     "output_type": "stream",
     "text": [
      "Step [0/3]\t loss_instance: 8.139444351196289\t loss_cluster: 3.2953872680664062\n",
      "\n",
      "Epoch [443/500]\t Loss: 11.43483861287435 \n",
      "\n",
      "Step [0/1]\t Computing features...\n",
      "Features shape (1714,)\n",
      "14\n",
      "Test NMI = 0.3070 ARI = 0.1294 F = 0.2815 ACC = 0.3221\n",
      "================================================================\n",
      "\n"
     ]
    },
    {
     "name": "stderr",
     "output_type": "stream",
     "text": [
      "C:\\Users\\Tom-G\\.conda\\envs\\torchenv\\lib\\site-packages\\torch\\nn\\modules\\container.py:141: UserWarning: Implicit dimension choice for softmax has been deprecated. Change the call to include dim=X as an argument.\n",
      "  input = module(input)\n"
     ]
    },
    {
     "name": "stdout",
     "output_type": "stream",
     "text": [
      "Step [0/3]\t loss_instance: 8.139444351196289\t loss_cluster: 3.2953941822052\n",
      "\n",
      "Epoch [444/500]\t Loss: 11.434846560160318 \n",
      "\n",
      "Step [0/1]\t Computing features...\n",
      "Features shape (1714,)\n",
      "14\n",
      "Test NMI = 0.3079 ARI = 0.1298 F = 0.2821 ACC = 0.3238\n",
      "================================================================\n",
      "\n"
     ]
    },
    {
     "name": "stderr",
     "output_type": "stream",
     "text": [
      "C:\\Users\\Tom-G\\.conda\\envs\\torchenv\\lib\\site-packages\\torch\\nn\\modules\\container.py:141: UserWarning: Implicit dimension choice for softmax has been deprecated. Change the call to include dim=X as an argument.\n",
      "  input = module(input)\n"
     ]
    },
    {
     "name": "stdout",
     "output_type": "stream",
     "text": [
      "Step [0/3]\t loss_instance: 8.139444351196289\t loss_cluster: 3.2953970432281494\n",
      "\n",
      "Epoch [445/500]\t Loss: 11.434841473897299 \n",
      "\n",
      "Step [0/1]\t Computing features...\n",
      "Features shape (1714,)\n",
      "14\n",
      "Test NMI = 0.3108 ARI = 0.1344 F = 0.2851 ACC = 0.3261\n",
      "================================================================\n",
      "\n"
     ]
    },
    {
     "name": "stderr",
     "output_type": "stream",
     "text": [
      "C:\\Users\\Tom-G\\.conda\\envs\\torchenv\\lib\\site-packages\\torch\\nn\\modules\\container.py:141: UserWarning: Implicit dimension choice for softmax has been deprecated. Change the call to include dim=X as an argument.\n",
      "  input = module(input)\n"
     ]
    },
    {
     "name": "stdout",
     "output_type": "stream",
     "text": [
      "Step [0/3]\t loss_instance: 8.139442443847656\t loss_cluster: 3.2953975200653076\n",
      "\n",
      "Epoch [446/500]\t Loss: 11.434832890828451 \n",
      "\n",
      "Step [0/1]\t Computing features...\n",
      "Features shape (1714,)\n",
      "14\n",
      "Test NMI = 0.3075 ARI = 0.1315 F = 0.2827 ACC = 0.3221\n",
      "================================================================\n",
      "\n"
     ]
    },
    {
     "name": "stderr",
     "output_type": "stream",
     "text": [
      "C:\\Users\\Tom-G\\.conda\\envs\\torchenv\\lib\\site-packages\\torch\\nn\\modules\\container.py:141: UserWarning: Implicit dimension choice for softmax has been deprecated. Change the call to include dim=X as an argument.\n",
      "  input = module(input)\n"
     ]
    },
    {
     "name": "stdout",
     "output_type": "stream",
     "text": [
      "Step [0/3]\t loss_instance: 8.139442443847656\t loss_cluster: 3.2953882217407227\n",
      "\n",
      "Epoch [447/500]\t Loss: 11.434832255045572 \n",
      "\n",
      "Step [0/1]\t Computing features...\n",
      "Features shape (1714,)\n",
      "14\n",
      "Test NMI = 0.3069 ARI = 0.1315 F = 0.2826 ACC = 0.3139\n",
      "================================================================\n",
      "\n"
     ]
    },
    {
     "name": "stderr",
     "output_type": "stream",
     "text": [
      "C:\\Users\\Tom-G\\.conda\\envs\\torchenv\\lib\\site-packages\\torch\\nn\\modules\\container.py:141: UserWarning: Implicit dimension choice for softmax has been deprecated. Change the call to include dim=X as an argument.\n",
      "  input = module(input)\n"
     ]
    },
    {
     "name": "stdout",
     "output_type": "stream",
     "text": [
      "Step [0/3]\t loss_instance: 8.13944149017334\t loss_cluster: 3.29539155960083\n",
      "\n",
      "Epoch [448/500]\t Loss: 11.434832572937012 \n",
      "\n",
      "Step [0/1]\t Computing features...\n",
      "Features shape (1714,)\n",
      "14\n",
      "Test NMI = 0.3069 ARI = 0.1337 F = 0.2851 ACC = 0.3139\n",
      "================================================================\n",
      "\n"
     ]
    },
    {
     "name": "stderr",
     "output_type": "stream",
     "text": [
      "C:\\Users\\Tom-G\\.conda\\envs\\torchenv\\lib\\site-packages\\torch\\nn\\modules\\container.py:141: UserWarning: Implicit dimension choice for softmax has been deprecated. Change the call to include dim=X as an argument.\n",
      "  input = module(input)\n"
     ]
    },
    {
     "name": "stdout",
     "output_type": "stream",
     "text": [
      "Step [0/3]\t loss_instance: 8.139443397521973\t loss_cluster: 3.2953977584838867\n",
      "\n",
      "Epoch [449/500]\t Loss: 11.434834480285645 \n",
      "\n",
      "Step [0/1]\t Computing features...\n",
      "Features shape (1714,)\n",
      "14\n",
      "Test NMI = 0.3076 ARI = 0.1326 F = 0.2844 ACC = 0.3145\n",
      "================================================================\n",
      "\n"
     ]
    },
    {
     "name": "stderr",
     "output_type": "stream",
     "text": [
      "C:\\Users\\Tom-G\\.conda\\envs\\torchenv\\lib\\site-packages\\torch\\nn\\modules\\container.py:141: UserWarning: Implicit dimension choice for softmax has been deprecated. Change the call to include dim=X as an argument.\n",
      "  input = module(input)\n"
     ]
    },
    {
     "name": "stdout",
     "output_type": "stream",
     "text": [
      "Step [0/3]\t loss_instance: 8.139440536499023\t loss_cluster: 3.29538631439209\n",
      "\n",
      "Epoch [450/500]\t Loss: 11.434833208719889 \n",
      "\n",
      "Step [0/1]\t Computing features...\n",
      "Features shape (1714,)\n",
      "14\n",
      "Test NMI = 0.3089 ARI = 0.1331 F = 0.2856 ACC = 0.3127\n",
      "================================================================\n",
      "\n"
     ]
    },
    {
     "name": "stderr",
     "output_type": "stream",
     "text": [
      "C:\\Users\\Tom-G\\.conda\\envs\\torchenv\\lib\\site-packages\\torch\\nn\\modules\\container.py:141: UserWarning: Implicit dimension choice for softmax has been deprecated. Change the call to include dim=X as an argument.\n",
      "  input = module(input)\n"
     ]
    },
    {
     "name": "stdout",
     "output_type": "stream",
     "text": [
      "Step [0/3]\t loss_instance: 8.139442443847656\t loss_cluster: 3.2953860759735107\n",
      "\n",
      "Epoch [451/500]\t Loss: 11.434839248657227 \n",
      "\n",
      "Step [0/1]\t Computing features...\n",
      "Features shape (1714,)\n",
      "14\n",
      "Test NMI = 0.3096 ARI = 0.1330 F = 0.2850 ACC = 0.3121\n",
      "================================================================\n",
      "\n"
     ]
    },
    {
     "name": "stderr",
     "output_type": "stream",
     "text": [
      "C:\\Users\\Tom-G\\.conda\\envs\\torchenv\\lib\\site-packages\\torch\\nn\\modules\\container.py:141: UserWarning: Implicit dimension choice for softmax has been deprecated. Change the call to include dim=X as an argument.\n",
      "  input = module(input)\n"
     ]
    },
    {
     "name": "stdout",
     "output_type": "stream",
     "text": [
      "Step [0/3]\t loss_instance: 8.139442443847656\t loss_cluster: 3.295400381088257\n",
      "\n",
      "Epoch [452/500]\t Loss: 11.434847831726074 \n",
      "\n",
      "Step [0/1]\t Computing features...\n",
      "Features shape (1714,)\n",
      "14\n",
      "Test NMI = 0.3096 ARI = 0.1378 F = 0.2880 ACC = 0.3267\n",
      "================================================================\n",
      "\n"
     ]
    },
    {
     "name": "stderr",
     "output_type": "stream",
     "text": [
      "C:\\Users\\Tom-G\\.conda\\envs\\torchenv\\lib\\site-packages\\torch\\nn\\modules\\container.py:141: UserWarning: Implicit dimension choice for softmax has been deprecated. Change the call to include dim=X as an argument.\n",
      "  input = module(input)\n"
     ]
    },
    {
     "name": "stdout",
     "output_type": "stream",
     "text": [
      "Step [0/3]\t loss_instance: 8.139444351196289\t loss_cluster: 3.2953927516937256\n",
      "\n",
      "Epoch [453/500]\t Loss: 11.434844970703125 \n",
      "\n",
      "Step [0/1]\t Computing features...\n",
      "Features shape (1714,)\n",
      "14\n",
      "Test NMI = 0.3099 ARI = 0.1378 F = 0.2889 ACC = 0.3191\n",
      "================================================================\n",
      "\n"
     ]
    },
    {
     "name": "stderr",
     "output_type": "stream",
     "text": [
      "C:\\Users\\Tom-G\\.conda\\envs\\torchenv\\lib\\site-packages\\torch\\nn\\modules\\container.py:141: UserWarning: Implicit dimension choice for softmax has been deprecated. Change the call to include dim=X as an argument.\n",
      "  input = module(input)\n"
     ]
    },
    {
     "name": "stdout",
     "output_type": "stream",
     "text": [
      "Step [0/3]\t loss_instance: 8.139442443847656\t loss_cluster: 3.2953975200653076\n",
      "\n",
      "Epoch [454/500]\t Loss: 11.434838930765787 \n",
      "\n",
      "Step [0/1]\t Computing features...\n",
      "Features shape (1714,)\n",
      "14\n",
      "Test NMI = 0.3068 ARI = 0.1327 F = 0.2870 ACC = 0.3098\n",
      "================================================================\n",
      "\n"
     ]
    },
    {
     "name": "stderr",
     "output_type": "stream",
     "text": [
      "C:\\Users\\Tom-G\\.conda\\envs\\torchenv\\lib\\site-packages\\torch\\nn\\modules\\container.py:141: UserWarning: Implicit dimension choice for softmax has been deprecated. Change the call to include dim=X as an argument.\n",
      "  input = module(input)\n"
     ]
    },
    {
     "name": "stdout",
     "output_type": "stream",
     "text": [
      "Step [0/3]\t loss_instance: 8.139444351196289\t loss_cluster: 3.295440673828125\n",
      "\n",
      "Epoch [455/500]\t Loss: 11.434853553771973 \n",
      "\n",
      "Step [0/1]\t Computing features...\n",
      "Features shape (1714,)\n",
      "14\n",
      "Test NMI = 0.3087 ARI = 0.1333 F = 0.2833 ACC = 0.3092\n",
      "================================================================\n",
      "\n"
     ]
    },
    {
     "name": "stderr",
     "output_type": "stream",
     "text": [
      "C:\\Users\\Tom-G\\.conda\\envs\\torchenv\\lib\\site-packages\\torch\\nn\\modules\\container.py:141: UserWarning: Implicit dimension choice for softmax has been deprecated. Change the call to include dim=X as an argument.\n",
      "  input = module(input)\n"
     ]
    },
    {
     "name": "stdout",
     "output_type": "stream",
     "text": [
      "Step [0/3]\t loss_instance: 8.139443397521973\t loss_cluster: 3.2953884601593018\n",
      "\n",
      "Epoch [456/500]\t Loss: 11.434836387634277 \n",
      "\n",
      "Step [0/1]\t Computing features...\n",
      "Features shape (1714,)\n",
      "14\n",
      "Test NMI = 0.3117 ARI = 0.1323 F = 0.2828 ACC = 0.3215\n",
      "================================================================\n",
      "\n"
     ]
    },
    {
     "name": "stderr",
     "output_type": "stream",
     "text": [
      "C:\\Users\\Tom-G\\.conda\\envs\\torchenv\\lib\\site-packages\\torch\\nn\\modules\\container.py:141: UserWarning: Implicit dimension choice for softmax has been deprecated. Change the call to include dim=X as an argument.\n",
      "  input = module(input)\n"
     ]
    },
    {
     "name": "stdout",
     "output_type": "stream",
     "text": [
      "Step [0/3]\t loss_instance: 8.139442443847656\t loss_cluster: 3.295379161834717\n",
      "\n",
      "Epoch [457/500]\t Loss: 11.434829394022623 \n",
      "\n",
      "Step [0/1]\t Computing features...\n",
      "Features shape (1714,)\n",
      "14\n",
      "Test NMI = 0.3092 ARI = 0.1301 F = 0.2853 ACC = 0.3349\n",
      "================================================================\n",
      "\n"
     ]
    },
    {
     "name": "stderr",
     "output_type": "stream",
     "text": [
      "C:\\Users\\Tom-G\\.conda\\envs\\torchenv\\lib\\site-packages\\torch\\nn\\modules\\container.py:141: UserWarning: Implicit dimension choice for softmax has been deprecated. Change the call to include dim=X as an argument.\n",
      "  input = module(input)\n"
     ]
    },
    {
     "name": "stdout",
     "output_type": "stream",
     "text": [
      "Step [0/3]\t loss_instance: 8.139443397521973\t loss_cluster: 3.2953948974609375\n",
      "\n",
      "Epoch [458/500]\t Loss: 11.434837341308594 \n",
      "\n",
      "Step [0/1]\t Computing features...\n",
      "Features shape (1714,)\n",
      "14\n",
      "Test NMI = 0.3088 ARI = 0.1314 F = 0.2846 ACC = 0.3186\n",
      "================================================================\n",
      "\n"
     ]
    },
    {
     "name": "stderr",
     "output_type": "stream",
     "text": [
      "C:\\Users\\Tom-G\\.conda\\envs\\torchenv\\lib\\site-packages\\torch\\nn\\modules\\container.py:141: UserWarning: Implicit dimension choice for softmax has been deprecated. Change the call to include dim=X as an argument.\n",
      "  input = module(input)\n"
     ]
    },
    {
     "name": "stdout",
     "output_type": "stream",
     "text": [
      "Step [0/3]\t loss_instance: 8.139442443847656\t loss_cluster: 3.2953810691833496\n",
      "\n",
      "Epoch [459/500]\t Loss: 11.434830029805502 \n",
      "\n",
      "Step [0/1]\t Computing features...\n",
      "Features shape (1714,)\n",
      "14\n",
      "Test NMI = 0.3103 ARI = 0.1357 F = 0.2879 ACC = 0.3238\n",
      "================================================================\n",
      "\n"
     ]
    },
    {
     "name": "stderr",
     "output_type": "stream",
     "text": [
      "C:\\Users\\Tom-G\\.conda\\envs\\torchenv\\lib\\site-packages\\torch\\nn\\modules\\container.py:141: UserWarning: Implicit dimension choice for softmax has been deprecated. Change the call to include dim=X as an argument.\n",
      "  input = module(input)\n"
     ]
    },
    {
     "name": "stdout",
     "output_type": "stream",
     "text": [
      "Step [0/3]\t loss_instance: 8.139443397521973\t loss_cluster: 3.295382499694824\n",
      "\n",
      "Epoch [460/500]\t Loss: 11.434834480285645 \n",
      "\n",
      "Step [0/1]\t Computing features...\n",
      "Features shape (1714,)\n",
      "14\n",
      "Test NMI = 0.3132 ARI = 0.1372 F = 0.2871 ACC = 0.3226\n",
      "================================================================\n",
      "\n"
     ]
    },
    {
     "name": "stderr",
     "output_type": "stream",
     "text": [
      "C:\\Users\\Tom-G\\.conda\\envs\\torchenv\\lib\\site-packages\\torch\\nn\\modules\\container.py:141: UserWarning: Implicit dimension choice for softmax has been deprecated. Change the call to include dim=X as an argument.\n",
      "  input = module(input)\n"
     ]
    },
    {
     "name": "stdout",
     "output_type": "stream",
     "text": [
      "Step [0/3]\t loss_instance: 8.139444351196289\t loss_cluster: 3.2954084873199463\n",
      "\n",
      "Epoch [461/500]\t Loss: 11.434842109680176 \n",
      "\n",
      "Step [0/1]\t Computing features...\n",
      "Features shape (1714,)\n",
      "14\n",
      "Test NMI = 0.3121 ARI = 0.1337 F = 0.2844 ACC = 0.3133\n",
      "================================================================\n",
      "\n"
     ]
    },
    {
     "name": "stderr",
     "output_type": "stream",
     "text": [
      "C:\\Users\\Tom-G\\.conda\\envs\\torchenv\\lib\\site-packages\\torch\\nn\\modules\\container.py:141: UserWarning: Implicit dimension choice for softmax has been deprecated. Change the call to include dim=X as an argument.\n",
      "  input = module(input)\n"
     ]
    },
    {
     "name": "stdout",
     "output_type": "stream",
     "text": [
      "Step [0/3]\t loss_instance: 8.139444351196289\t loss_cluster: 3.2953853607177734\n",
      "\n",
      "Epoch [462/500]\t Loss: 11.434830029805502 \n",
      "\n",
      "Step [0/1]\t Computing features...\n",
      "Features shape (1714,)\n",
      "14\n",
      "Test NMI = 0.3112 ARI = 0.1329 F = 0.2844 ACC = 0.3121\n",
      "================================================================\n",
      "\n"
     ]
    },
    {
     "name": "stderr",
     "output_type": "stream",
     "text": [
      "C:\\Users\\Tom-G\\.conda\\envs\\torchenv\\lib\\site-packages\\torch\\nn\\modules\\container.py:141: UserWarning: Implicit dimension choice for softmax has been deprecated. Change the call to include dim=X as an argument.\n",
      "  input = module(input)\n"
     ]
    },
    {
     "name": "stdout",
     "output_type": "stream",
     "text": [
      "Step [0/3]\t loss_instance: 8.139442443847656\t loss_cluster: 3.295427083969116\n",
      "\n",
      "Epoch [463/500]\t Loss: 11.434845606486002 \n",
      "\n",
      "Step [0/1]\t Computing features...\n",
      "Features shape (1714,)\n",
      "14\n",
      "Test NMI = 0.3121 ARI = 0.1354 F = 0.2869 ACC = 0.3267\n",
      "================================================================\n",
      "\n"
     ]
    },
    {
     "name": "stderr",
     "output_type": "stream",
     "text": [
      "C:\\Users\\Tom-G\\.conda\\envs\\torchenv\\lib\\site-packages\\torch\\nn\\modules\\container.py:141: UserWarning: Implicit dimension choice for softmax has been deprecated. Change the call to include dim=X as an argument.\n",
      "  input = module(input)\n"
     ]
    },
    {
     "name": "stdout",
     "output_type": "stream",
     "text": [
      "Step [0/3]\t loss_instance: 8.139442443847656\t loss_cluster: 3.2953836917877197\n",
      "\n",
      "Epoch [464/500]\t Loss: 11.434831937154135 \n",
      "\n",
      "Step [0/1]\t Computing features...\n",
      "Features shape (1714,)\n",
      "14\n",
      "Test NMI = 0.3110 ARI = 0.1363 F = 0.2884 ACC = 0.3267\n",
      "================================================================\n",
      "\n"
     ]
    },
    {
     "name": "stderr",
     "output_type": "stream",
     "text": [
      "C:\\Users\\Tom-G\\.conda\\envs\\torchenv\\lib\\site-packages\\torch\\nn\\modules\\container.py:141: UserWarning: Implicit dimension choice for softmax has been deprecated. Change the call to include dim=X as an argument.\n",
      "  input = module(input)\n"
     ]
    },
    {
     "name": "stdout",
     "output_type": "stream",
     "text": [
      "Step [0/3]\t loss_instance: 8.139442443847656\t loss_cluster: 3.2953827381134033\n",
      "\n",
      "Epoch [465/500]\t Loss: 11.434830983479818 \n",
      "\n",
      "Step [0/1]\t Computing features...\n",
      "Features shape (1714,)\n",
      "14\n",
      "Test NMI = 0.3120 ARI = 0.1381 F = 0.2906 ACC = 0.3203\n",
      "================================================================\n",
      "\n"
     ]
    },
    {
     "name": "stderr",
     "output_type": "stream",
     "text": [
      "C:\\Users\\Tom-G\\.conda\\envs\\torchenv\\lib\\site-packages\\torch\\nn\\modules\\container.py:141: UserWarning: Implicit dimension choice for softmax has been deprecated. Change the call to include dim=X as an argument.\n",
      "  input = module(input)\n"
     ]
    },
    {
     "name": "stdout",
     "output_type": "stream",
     "text": [
      "Step [0/3]\t loss_instance: 8.139440536499023\t loss_cluster: 3.2953872680664062\n",
      "\n",
      "Epoch [466/500]\t Loss: 11.43483829498291 \n",
      "\n",
      "Step [0/1]\t Computing features...\n",
      "Features shape (1714,)\n",
      "14\n",
      "Test NMI = 0.3084 ARI = 0.1334 F = 0.2881 ACC = 0.3151\n",
      "================================================================\n",
      "\n"
     ]
    },
    {
     "name": "stderr",
     "output_type": "stream",
     "text": [
      "C:\\Users\\Tom-G\\.conda\\envs\\torchenv\\lib\\site-packages\\torch\\nn\\modules\\container.py:141: UserWarning: Implicit dimension choice for softmax has been deprecated. Change the call to include dim=X as an argument.\n",
      "  input = module(input)\n"
     ]
    },
    {
     "name": "stdout",
     "output_type": "stream",
     "text": [
      "Step [0/3]\t loss_instance: 8.13944149017334\t loss_cluster: 3.2953875064849854\n",
      "\n",
      "Epoch [467/500]\t Loss: 11.434831619262695 \n",
      "\n",
      "Step [0/1]\t Computing features...\n",
      "Features shape (1714,)\n",
      "14\n",
      "Test NMI = 0.3068 ARI = 0.1318 F = 0.2847 ACC = 0.3110\n",
      "================================================================\n",
      "\n"
     ]
    },
    {
     "name": "stderr",
     "output_type": "stream",
     "text": [
      "C:\\Users\\Tom-G\\.conda\\envs\\torchenv\\lib\\site-packages\\torch\\nn\\modules\\container.py:141: UserWarning: Implicit dimension choice for softmax has been deprecated. Change the call to include dim=X as an argument.\n",
      "  input = module(input)\n"
     ]
    },
    {
     "name": "stdout",
     "output_type": "stream",
     "text": [
      "Step [0/3]\t loss_instance: 8.139442443847656\t loss_cluster: 3.2953920364379883\n",
      "\n",
      "Epoch [468/500]\t Loss: 11.434830665588379 \n",
      "\n",
      "Step [0/1]\t Computing features...\n",
      "Features shape (1714,)\n",
      "14\n",
      "Test NMI = 0.3100 ARI = 0.1330 F = 0.2847 ACC = 0.3098\n",
      "================================================================\n",
      "\n"
     ]
    },
    {
     "name": "stderr",
     "output_type": "stream",
     "text": [
      "C:\\Users\\Tom-G\\.conda\\envs\\torchenv\\lib\\site-packages\\torch\\nn\\modules\\container.py:141: UserWarning: Implicit dimension choice for softmax has been deprecated. Change the call to include dim=X as an argument.\n",
      "  input = module(input)\n"
     ]
    },
    {
     "name": "stdout",
     "output_type": "stream",
     "text": [
      "Step [0/3]\t loss_instance: 8.139442443847656\t loss_cluster: 3.2953927516937256\n",
      "\n",
      "Epoch [469/500]\t Loss: 11.434833208719889 \n",
      "\n",
      "Step [0/1]\t Computing features...\n",
      "Features shape (1714,)\n",
      "14\n",
      "Test NMI = 0.3101 ARI = 0.1341 F = 0.2867 ACC = 0.3209\n",
      "================================================================\n",
      "\n"
     ]
    },
    {
     "name": "stderr",
     "output_type": "stream",
     "text": [
      "C:\\Users\\Tom-G\\.conda\\envs\\torchenv\\lib\\site-packages\\torch\\nn\\modules\\container.py:141: UserWarning: Implicit dimension choice for softmax has been deprecated. Change the call to include dim=X as an argument.\n",
      "  input = module(input)\n"
     ]
    },
    {
     "name": "stdout",
     "output_type": "stream",
     "text": [
      "Step [0/3]\t loss_instance: 8.13944149017334\t loss_cluster: 3.295391082763672\n",
      "\n",
      "Epoch [470/500]\t Loss: 11.434849421183268 \n",
      "\n",
      "Step [0/1]\t Computing features...\n",
      "Features shape (1714,)\n",
      "14\n",
      "Test NMI = 0.3124 ARI = 0.1370 F = 0.2894 ACC = 0.3267\n",
      "================================================================\n",
      "\n"
     ]
    },
    {
     "name": "stderr",
     "output_type": "stream",
     "text": [
      "C:\\Users\\Tom-G\\.conda\\envs\\torchenv\\lib\\site-packages\\torch\\nn\\modules\\container.py:141: UserWarning: Implicit dimension choice for softmax has been deprecated. Change the call to include dim=X as an argument.\n",
      "  input = module(input)\n"
     ]
    },
    {
     "name": "stdout",
     "output_type": "stream",
     "text": [
      "Step [0/3]\t loss_instance: 8.13944149017334\t loss_cluster: 3.295433759689331\n",
      "\n",
      "Epoch [471/500]\t Loss: 11.43484878540039 \n",
      "\n",
      "Step [0/1]\t Computing features...\n",
      "Features shape (1714,)\n",
      "14\n",
      "Test NMI = 0.3119 ARI = 0.1381 F = 0.2927 ACC = 0.3174\n",
      "================================================================\n",
      "\n"
     ]
    },
    {
     "name": "stderr",
     "output_type": "stream",
     "text": [
      "C:\\Users\\Tom-G\\.conda\\envs\\torchenv\\lib\\site-packages\\torch\\nn\\modules\\container.py:141: UserWarning: Implicit dimension choice for softmax has been deprecated. Change the call to include dim=X as an argument.\n",
      "  input = module(input)\n"
     ]
    },
    {
     "name": "stdout",
     "output_type": "stream",
     "text": [
      "Step [0/3]\t loss_instance: 8.139440536499023\t loss_cluster: 3.29540753364563\n",
      "\n",
      "Epoch [472/500]\t Loss: 11.434835433959961 \n",
      "\n",
      "Step [0/1]\t Computing features...\n",
      "Features shape (1714,)\n",
      "14\n",
      "Test NMI = 0.3141 ARI = 0.1409 F = 0.2923 ACC = 0.3221\n",
      "================================================================\n",
      "\n"
     ]
    },
    {
     "name": "stderr",
     "output_type": "stream",
     "text": [
      "C:\\Users\\Tom-G\\.conda\\envs\\torchenv\\lib\\site-packages\\torch\\nn\\modules\\container.py:141: UserWarning: Implicit dimension choice for softmax has been deprecated. Change the call to include dim=X as an argument.\n",
      "  input = module(input)\n"
     ]
    },
    {
     "name": "stdout",
     "output_type": "stream",
     "text": [
      "Step [0/3]\t loss_instance: 8.139443397521973\t loss_cluster: 3.295384168624878\n",
      "\n",
      "Epoch [473/500]\t Loss: 11.434833844502768 \n",
      "\n",
      "Step [0/1]\t Computing features...\n",
      "Features shape (1714,)\n",
      "14\n",
      "Test NMI = 0.3171 ARI = 0.1421 F = 0.2919 ACC = 0.3285\n",
      "================================================================\n",
      "\n"
     ]
    },
    {
     "name": "stderr",
     "output_type": "stream",
     "text": [
      "C:\\Users\\Tom-G\\.conda\\envs\\torchenv\\lib\\site-packages\\torch\\nn\\modules\\container.py:141: UserWarning: Implicit dimension choice for softmax has been deprecated. Change the call to include dim=X as an argument.\n",
      "  input = module(input)\n"
     ]
    },
    {
     "name": "stdout",
     "output_type": "stream",
     "text": [
      "Step [0/3]\t loss_instance: 8.139443397521973\t loss_cluster: 3.295401096343994\n",
      "\n",
      "Epoch [474/500]\t Loss: 11.434845924377441 \n",
      "\n",
      "Step [0/1]\t Computing features...\n",
      "Features shape (1714,)\n",
      "14\n",
      "Test NMI = 0.3142 ARI = 0.1368 F = 0.2905 ACC = 0.3296\n",
      "================================================================\n",
      "\n"
     ]
    },
    {
     "name": "stderr",
     "output_type": "stream",
     "text": [
      "C:\\Users\\Tom-G\\.conda\\envs\\torchenv\\lib\\site-packages\\torch\\nn\\modules\\container.py:141: UserWarning: Implicit dimension choice for softmax has been deprecated. Change the call to include dim=X as an argument.\n",
      "  input = module(input)\n"
     ]
    },
    {
     "name": "stdout",
     "output_type": "stream",
     "text": [
      "Step [0/3]\t loss_instance: 8.139442443847656\t loss_cluster: 3.2953860759735107\n",
      "\n",
      "Epoch [475/500]\t Loss: 11.434833844502768 \n",
      "\n",
      "Step [0/1]\t Computing features...\n",
      "Features shape (1714,)\n",
      "14\n",
      "Test NMI = 0.3164 ARI = 0.1401 F = 0.2920 ACC = 0.3331\n",
      "================================================================\n",
      "\n"
     ]
    },
    {
     "name": "stderr",
     "output_type": "stream",
     "text": [
      "C:\\Users\\Tom-G\\.conda\\envs\\torchenv\\lib\\site-packages\\torch\\nn\\modules\\container.py:141: UserWarning: Implicit dimension choice for softmax has been deprecated. Change the call to include dim=X as an argument.\n",
      "  input = module(input)\n"
     ]
    },
    {
     "name": "stdout",
     "output_type": "stream",
     "text": [
      "Step [0/3]\t loss_instance: 8.13944149017334\t loss_cluster: 3.2954013347625732\n",
      "\n",
      "Epoch [476/500]\t Loss: 11.434842109680176 \n",
      "\n",
      "Step [0/1]\t Computing features...\n",
      "Features shape (1714,)\n",
      "14\n",
      "Test NMI = 0.3198 ARI = 0.1429 F = 0.2931 ACC = 0.3384\n",
      "================================================================\n",
      "\n"
     ]
    },
    {
     "name": "stderr",
     "output_type": "stream",
     "text": [
      "C:\\Users\\Tom-G\\.conda\\envs\\torchenv\\lib\\site-packages\\torch\\nn\\modules\\container.py:141: UserWarning: Implicit dimension choice for softmax has been deprecated. Change the call to include dim=X as an argument.\n",
      "  input = module(input)\n"
     ]
    },
    {
     "name": "stdout",
     "output_type": "stream",
     "text": [
      "Step [0/3]\t loss_instance: 8.139442443847656\t loss_cluster: 3.2953875064849854\n",
      "\n",
      "Epoch [477/500]\t Loss: 11.434834480285645 \n",
      "\n",
      "Step [0/1]\t Computing features...\n",
      "Features shape (1714,)\n",
      "14\n",
      "Test NMI = 0.3174 ARI = 0.1444 F = 0.2955 ACC = 0.3378\n",
      "================================================================\n",
      "\n"
     ]
    },
    {
     "name": "stderr",
     "output_type": "stream",
     "text": [
      "C:\\Users\\Tom-G\\.conda\\envs\\torchenv\\lib\\site-packages\\torch\\nn\\modules\\container.py:141: UserWarning: Implicit dimension choice for softmax has been deprecated. Change the call to include dim=X as an argument.\n",
      "  input = module(input)\n"
     ]
    },
    {
     "name": "stdout",
     "output_type": "stream",
     "text": [
      "Step [0/3]\t loss_instance: 8.13944149017334\t loss_cluster: 3.2953872680664062\n",
      "\n",
      "Epoch [478/500]\t Loss: 11.434828758239746 \n",
      "\n",
      "Step [0/1]\t Computing features...\n",
      "Features shape (1714,)\n",
      "14\n",
      "Test NMI = 0.3134 ARI = 0.1384 F = 0.2925 ACC = 0.3256\n",
      "================================================================\n",
      "\n"
     ]
    },
    {
     "name": "stderr",
     "output_type": "stream",
     "text": [
      "C:\\Users\\Tom-G\\.conda\\envs\\torchenv\\lib\\site-packages\\torch\\nn\\modules\\container.py:141: UserWarning: Implicit dimension choice for softmax has been deprecated. Change the call to include dim=X as an argument.\n",
      "  input = module(input)\n"
     ]
    },
    {
     "name": "stdout",
     "output_type": "stream",
     "text": [
      "Step [0/3]\t loss_instance: 8.139442443847656\t loss_cluster: 3.2953879833221436\n",
      "\n",
      "Epoch [479/500]\t Loss: 11.434834480285645 \n",
      "\n",
      "Step [0/1]\t Computing features...\n",
      "Features shape (1714,)\n",
      "14\n",
      "Test NMI = 0.3091 ARI = 0.1324 F = 0.2873 ACC = 0.3145\n",
      "================================================================\n",
      "\n"
     ]
    },
    {
     "name": "stderr",
     "output_type": "stream",
     "text": [
      "C:\\Users\\Tom-G\\.conda\\envs\\torchenv\\lib\\site-packages\\torch\\nn\\modules\\container.py:141: UserWarning: Implicit dimension choice for softmax has been deprecated. Change the call to include dim=X as an argument.\n",
      "  input = module(input)\n"
     ]
    },
    {
     "name": "stdout",
     "output_type": "stream",
     "text": [
      "Step [0/3]\t loss_instance: 8.139442443847656\t loss_cluster: 3.2954185009002686\n",
      "\n",
      "Epoch [480/500]\t Loss: 11.434843381245932 \n",
      "\n",
      "Step [0/1]\t Computing features...\n",
      "Features shape (1714,)\n",
      "14\n",
      "Test NMI = 0.3155 ARI = 0.1383 F = 0.2895 ACC = 0.3244\n",
      "================================================================\n",
      "\n"
     ]
    },
    {
     "name": "stderr",
     "output_type": "stream",
     "text": [
      "C:\\Users\\Tom-G\\.conda\\envs\\torchenv\\lib\\site-packages\\torch\\nn\\modules\\container.py:141: UserWarning: Implicit dimension choice for softmax has been deprecated. Change the call to include dim=X as an argument.\n",
      "  input = module(input)\n"
     ]
    },
    {
     "name": "stdout",
     "output_type": "stream",
     "text": [
      "Step [0/3]\t loss_instance: 8.139442443847656\t loss_cluster: 3.295386552810669\n",
      "\n",
      "Epoch [481/500]\t Loss: 11.434833844502768 \n",
      "\n",
      "Step [0/1]\t Computing features...\n",
      "Features shape (1714,)\n",
      "14\n",
      "Test NMI = 0.3146 ARI = 0.1369 F = 0.2894 ACC = 0.3314\n",
      "================================================================\n",
      "\n"
     ]
    },
    {
     "name": "stderr",
     "output_type": "stream",
     "text": [
      "C:\\Users\\Tom-G\\.conda\\envs\\torchenv\\lib\\site-packages\\torch\\nn\\modules\\container.py:141: UserWarning: Implicit dimension choice for softmax has been deprecated. Change the call to include dim=X as an argument.\n",
      "  input = module(input)\n"
     ]
    },
    {
     "name": "stdout",
     "output_type": "stream",
     "text": [
      "Step [0/3]\t loss_instance: 8.139443397521973\t loss_cluster: 3.2953975200653076\n",
      "\n",
      "Epoch [482/500]\t Loss: 11.434832890828451 \n",
      "\n",
      "Step [0/1]\t Computing features...\n",
      "Features shape (1714,)\n",
      "14\n",
      "Test NMI = 0.3111 ARI = 0.1361 F = 0.2904 ACC = 0.3296\n",
      "================================================================\n",
      "\n"
     ]
    },
    {
     "name": "stderr",
     "output_type": "stream",
     "text": [
      "C:\\Users\\Tom-G\\.conda\\envs\\torchenv\\lib\\site-packages\\torch\\nn\\modules\\container.py:141: UserWarning: Implicit dimension choice for softmax has been deprecated. Change the call to include dim=X as an argument.\n",
      "  input = module(input)\n"
     ]
    },
    {
     "name": "stdout",
     "output_type": "stream",
     "text": [
      "Step [0/3]\t loss_instance: 8.139442443847656\t loss_cluster: 3.295389175415039\n",
      "\n",
      "Epoch [483/500]\t Loss: 11.434846878051758 \n",
      "\n",
      "Step [0/1]\t Computing features...\n",
      "Features shape (1714,)\n",
      "14\n",
      "Test NMI = 0.3136 ARI = 0.1402 F = 0.2932 ACC = 0.3186\n",
      "================================================================\n",
      "\n"
     ]
    },
    {
     "name": "stderr",
     "output_type": "stream",
     "text": [
      "C:\\Users\\Tom-G\\.conda\\envs\\torchenv\\lib\\site-packages\\torch\\nn\\modules\\container.py:141: UserWarning: Implicit dimension choice for softmax has been deprecated. Change the call to include dim=X as an argument.\n",
      "  input = module(input)\n"
     ]
    },
    {
     "name": "stdout",
     "output_type": "stream",
     "text": [
      "Step [0/3]\t loss_instance: 8.139442443847656\t loss_cluster: 3.295397996902466\n",
      "\n",
      "Epoch [484/500]\t Loss: 11.434836705525717 \n",
      "\n",
      "Step [0/1]\t Computing features...\n",
      "Features shape (1714,)\n",
      "14\n",
      "Test NMI = 0.3140 ARI = 0.1425 F = 0.2942 ACC = 0.3256\n",
      "================================================================\n",
      "\n"
     ]
    },
    {
     "name": "stderr",
     "output_type": "stream",
     "text": [
      "C:\\Users\\Tom-G\\.conda\\envs\\torchenv\\lib\\site-packages\\torch\\nn\\modules\\container.py:141: UserWarning: Implicit dimension choice for softmax has been deprecated. Change the call to include dim=X as an argument.\n",
      "  input = module(input)\n"
     ]
    },
    {
     "name": "stdout",
     "output_type": "stream",
     "text": [
      "Step [0/3]\t loss_instance: 8.139444351196289\t loss_cluster: 3.2954115867614746\n",
      "\n",
      "Epoch [485/500]\t Loss: 11.4348513285319 \n",
      "\n",
      "Step [0/1]\t Computing features...\n",
      "Features shape (1714,)\n",
      "14\n",
      "Test NMI = 0.3148 ARI = 0.1410 F = 0.2920 ACC = 0.3261\n",
      "================================================================\n",
      "\n"
     ]
    },
    {
     "name": "stderr",
     "output_type": "stream",
     "text": [
      "C:\\Users\\Tom-G\\.conda\\envs\\torchenv\\lib\\site-packages\\torch\\nn\\modules\\container.py:141: UserWarning: Implicit dimension choice for softmax has been deprecated. Change the call to include dim=X as an argument.\n",
      "  input = module(input)\n"
     ]
    },
    {
     "name": "stdout",
     "output_type": "stream",
     "text": [
      "Step [0/3]\t loss_instance: 8.139442443847656\t loss_cluster: 3.2953944206237793\n",
      "\n",
      "Epoch [486/500]\t Loss: 11.434832255045572 \n",
      "\n",
      "Step [0/1]\t Computing features...\n",
      "Features shape (1714,)\n",
      "14\n",
      "Test NMI = 0.3203 ARI = 0.1482 F = 0.2971 ACC = 0.3384\n",
      "================================================================\n",
      "\n"
     ]
    },
    {
     "name": "stderr",
     "output_type": "stream",
     "text": [
      "C:\\Users\\Tom-G\\.conda\\envs\\torchenv\\lib\\site-packages\\torch\\nn\\modules\\container.py:141: UserWarning: Implicit dimension choice for softmax has been deprecated. Change the call to include dim=X as an argument.\n",
      "  input = module(input)\n"
     ]
    },
    {
     "name": "stdout",
     "output_type": "stream",
     "text": [
      "Step [0/3]\t loss_instance: 8.139442443847656\t loss_cluster: 3.2953941822052\n",
      "\n",
      "Epoch [487/500]\t Loss: 11.43484083811442 \n",
      "\n",
      "Step [0/1]\t Computing features...\n",
      "Features shape (1714,)\n",
      "14\n",
      "Test NMI = 0.3182 ARI = 0.1442 F = 0.2947 ACC = 0.3308\n",
      "================================================================\n",
      "\n"
     ]
    },
    {
     "name": "stderr",
     "output_type": "stream",
     "text": [
      "C:\\Users\\Tom-G\\.conda\\envs\\torchenv\\lib\\site-packages\\torch\\nn\\modules\\container.py:141: UserWarning: Implicit dimension choice for softmax has been deprecated. Change the call to include dim=X as an argument.\n",
      "  input = module(input)\n"
     ]
    },
    {
     "name": "stdout",
     "output_type": "stream",
     "text": [
      "Step [0/3]\t loss_instance: 8.139444351196289\t loss_cluster: 3.2953855991363525\n",
      "\n",
      "Epoch [488/500]\t Loss: 11.434835116068522 \n",
      "\n",
      "Step [0/1]\t Computing features...\n",
      "Features shape (1714,)\n",
      "14\n",
      "Test NMI = 0.3156 ARI = 0.1419 F = 0.2954 ACC = 0.3238\n",
      "================================================================\n",
      "\n"
     ]
    },
    {
     "name": "stderr",
     "output_type": "stream",
     "text": [
      "C:\\Users\\Tom-G\\.conda\\envs\\torchenv\\lib\\site-packages\\torch\\nn\\modules\\container.py:141: UserWarning: Implicit dimension choice for softmax has been deprecated. Change the call to include dim=X as an argument.\n",
      "  input = module(input)\n"
     ]
    },
    {
     "name": "stdout",
     "output_type": "stream",
     "text": [
      "Step [0/3]\t loss_instance: 8.139444351196289\t loss_cluster: 3.29540753364563\n",
      "\n",
      "Epoch [489/500]\t Loss: 11.434874534606934 \n",
      "\n",
      "Step [0/1]\t Computing features...\n",
      "Features shape (1714,)\n",
      "14\n",
      "Test NMI = 0.3118 ARI = 0.1355 F = 0.2886 ACC = 0.3162\n",
      "================================================================\n",
      "\n"
     ]
    },
    {
     "name": "stderr",
     "output_type": "stream",
     "text": [
      "C:\\Users\\Tom-G\\.conda\\envs\\torchenv\\lib\\site-packages\\torch\\nn\\modules\\container.py:141: UserWarning: Implicit dimension choice for softmax has been deprecated. Change the call to include dim=X as an argument.\n",
      "  input = module(input)\n"
     ]
    },
    {
     "name": "stdout",
     "output_type": "stream",
     "text": [
      "Step [0/3]\t loss_instance: 8.139444351196289\t loss_cluster: 3.2953879833221436\n",
      "\n",
      "Epoch [490/500]\t Loss: 11.434832572937012 \n",
      "\n",
      "Step [0/1]\t Computing features...\n",
      "Features shape (1714,)\n",
      "14\n",
      "Test NMI = 0.3186 ARI = 0.1408 F = 0.2909 ACC = 0.3279\n",
      "================================================================\n",
      "\n"
     ]
    },
    {
     "name": "stderr",
     "output_type": "stream",
     "text": [
      "C:\\Users\\Tom-G\\.conda\\envs\\torchenv\\lib\\site-packages\\torch\\nn\\modules\\container.py:141: UserWarning: Implicit dimension choice for softmax has been deprecated. Change the call to include dim=X as an argument.\n",
      "  input = module(input)\n"
     ]
    },
    {
     "name": "stdout",
     "output_type": "stream",
     "text": [
      "Step [0/3]\t loss_instance: 8.139444351196289\t loss_cluster: 3.295396089553833\n",
      "\n",
      "Epoch [491/500]\t Loss: 11.434835116068522 \n",
      "\n",
      "Step [0/1]\t Computing features...\n",
      "Features shape (1714,)\n",
      "14\n",
      "Test NMI = 0.3231 ARI = 0.1455 F = 0.2965 ACC = 0.3460\n",
      "================================================================\n",
      "\n"
     ]
    },
    {
     "name": "stderr",
     "output_type": "stream",
     "text": [
      "C:\\Users\\Tom-G\\.conda\\envs\\torchenv\\lib\\site-packages\\torch\\nn\\modules\\container.py:141: UserWarning: Implicit dimension choice for softmax has been deprecated. Change the call to include dim=X as an argument.\n",
      "  input = module(input)\n"
     ]
    },
    {
     "name": "stdout",
     "output_type": "stream",
     "text": [
      "Step [0/3]\t loss_instance: 8.139442443847656\t loss_cluster: 3.295395851135254\n",
      "\n",
      "Epoch [492/500]\t Loss: 11.434834162394205 \n",
      "\n",
      "Step [0/1]\t Computing features...\n",
      "Features shape (1714,)\n",
      "14\n",
      "Test NMI = 0.3215 ARI = 0.1492 F = 0.3011 ACC = 0.3565\n",
      "================================================================\n",
      "\n"
     ]
    },
    {
     "name": "stderr",
     "output_type": "stream",
     "text": [
      "C:\\Users\\Tom-G\\.conda\\envs\\torchenv\\lib\\site-packages\\torch\\nn\\modules\\container.py:141: UserWarning: Implicit dimension choice for softmax has been deprecated. Change the call to include dim=X as an argument.\n",
      "  input = module(input)\n"
     ]
    },
    {
     "name": "stdout",
     "output_type": "stream",
     "text": [
      "Step [0/3]\t loss_instance: 8.139444351196289\t loss_cluster: 3.295410394668579\n",
      "\n",
      "Epoch [493/500]\t Loss: 11.434840520222982 \n",
      "\n",
      "Step [0/1]\t Computing features...\n",
      "Features shape (1714,)\n",
      "14\n",
      "Test NMI = 0.3162 ARI = 0.1464 F = 0.3006 ACC = 0.3355\n",
      "================================================================\n",
      "\n"
     ]
    },
    {
     "name": "stderr",
     "output_type": "stream",
     "text": [
      "C:\\Users\\Tom-G\\.conda\\envs\\torchenv\\lib\\site-packages\\torch\\nn\\modules\\container.py:141: UserWarning: Implicit dimension choice for softmax has been deprecated. Change the call to include dim=X as an argument.\n",
      "  input = module(input)\n"
     ]
    },
    {
     "name": "stdout",
     "output_type": "stream",
     "text": [
      "Step [0/3]\t loss_instance: 8.139442443847656\t loss_cluster: 3.2953872680664062\n",
      "\n",
      "Epoch [494/500]\t Loss: 11.434834480285645 \n",
      "\n",
      "Step [0/1]\t Computing features...\n",
      "Features shape (1714,)\n",
      "14\n",
      "Test NMI = 0.3176 ARI = 0.1436 F = 0.2982 ACC = 0.3244\n",
      "================================================================\n",
      "\n"
     ]
    },
    {
     "name": "stderr",
     "output_type": "stream",
     "text": [
      "C:\\Users\\Tom-G\\.conda\\envs\\torchenv\\lib\\site-packages\\torch\\nn\\modules\\container.py:141: UserWarning: Implicit dimension choice for softmax has been deprecated. Change the call to include dim=X as an argument.\n",
      "  input = module(input)\n"
     ]
    },
    {
     "name": "stdout",
     "output_type": "stream",
     "text": [
      "Step [0/3]\t loss_instance: 8.139444351196289\t loss_cluster: 3.295393466949463\n",
      "\n",
      "Epoch [495/500]\t Loss: 11.434838930765787 \n",
      "\n",
      "Step [0/1]\t Computing features...\n",
      "Features shape (1714,)\n",
      "14\n",
      "Test NMI = 0.3202 ARI = 0.1441 F = 0.2938 ACC = 0.3226\n",
      "================================================================\n",
      "\n"
     ]
    },
    {
     "name": "stderr",
     "output_type": "stream",
     "text": [
      "C:\\Users\\Tom-G\\.conda\\envs\\torchenv\\lib\\site-packages\\torch\\nn\\modules\\container.py:141: UserWarning: Implicit dimension choice for softmax has been deprecated. Change the call to include dim=X as an argument.\n",
      "  input = module(input)\n"
     ]
    },
    {
     "name": "stdout",
     "output_type": "stream",
     "text": [
      "Step [0/3]\t loss_instance: 8.139444351196289\t loss_cluster: 3.295384168624878\n",
      "\n",
      "Epoch [496/500]\t Loss: 11.434829394022623 \n",
      "\n",
      "Step [0/1]\t Computing features...\n",
      "Features shape (1714,)\n",
      "14\n",
      "Test NMI = 0.3211 ARI = 0.1454 F = 0.2943 ACC = 0.3326\n",
      "================================================================\n",
      "\n"
     ]
    },
    {
     "name": "stderr",
     "output_type": "stream",
     "text": [
      "C:\\Users\\Tom-G\\.conda\\envs\\torchenv\\lib\\site-packages\\torch\\nn\\modules\\container.py:141: UserWarning: Implicit dimension choice for softmax has been deprecated. Change the call to include dim=X as an argument.\n",
      "  input = module(input)\n"
     ]
    },
    {
     "name": "stdout",
     "output_type": "stream",
     "text": [
      "Step [0/3]\t loss_instance: 8.139442443847656\t loss_cluster: 3.2953877449035645\n",
      "\n",
      "Epoch [497/500]\t Loss: 11.434843381245932 \n",
      "\n",
      "Step [0/1]\t Computing features...\n",
      "Features shape (1714,)\n",
      "14\n",
      "Test NMI = 0.3217 ARI = 0.1487 F = 0.2999 ACC = 0.3407\n",
      "================================================================\n",
      "\n"
     ]
    },
    {
     "name": "stderr",
     "output_type": "stream",
     "text": [
      "C:\\Users\\Tom-G\\.conda\\envs\\torchenv\\lib\\site-packages\\torch\\nn\\modules\\container.py:141: UserWarning: Implicit dimension choice for softmax has been deprecated. Change the call to include dim=X as an argument.\n",
      "  input = module(input)\n"
     ]
    },
    {
     "name": "stdout",
     "output_type": "stream",
     "text": [
      "Step [0/3]\t loss_instance: 8.139442443847656\t loss_cluster: 3.2953970432281494\n",
      "\n",
      "Epoch [498/500]\t Loss: 11.43483797709147 \n",
      "\n",
      "Step [0/1]\t Computing features...\n",
      "Features shape (1714,)\n",
      "14\n",
      "Test NMI = 0.3182 ARI = 0.1488 F = 0.3038 ACC = 0.3337\n",
      "================================================================\n",
      "\n"
     ]
    },
    {
     "name": "stderr",
     "output_type": "stream",
     "text": [
      "C:\\Users\\Tom-G\\.conda\\envs\\torchenv\\lib\\site-packages\\torch\\nn\\modules\\container.py:141: UserWarning: Implicit dimension choice for softmax has been deprecated. Change the call to include dim=X as an argument.\n",
      "  input = module(input)\n"
     ]
    },
    {
     "name": "stdout",
     "output_type": "stream",
     "text": [
      "Step [0/3]\t loss_instance: 8.13944149017334\t loss_cluster: 3.2953908443450928\n",
      "\n",
      "Epoch [499/500]\t Loss: 11.434836387634277 \n",
      "\n",
      "Step [0/1]\t Computing features...\n",
      "Features shape (1714,)\n",
      "14\n",
      "Test NMI = 0.3210 ARI = 0.1538 F = 0.3086 ACC = 0.3296\n",
      "================================================================\n",
      "\n"
     ]
    }
   ],
   "source": [
    "loss_device=torch.device('cuda')\n",
    "instance_loss=InstanceLoss(batch_size=args.batch_size,temperature=0.5,device=loss_device)\n",
    "cluster_loss=ClusterLoss(class_num=class_num,temperature=0.5,device=loss_device)\n",
    "accs=[]\n",
    "losses=[]\n",
    "for epoch in range(args.start_epoch, args.epochs):\n",
    "    lr = optimizer.param_groups[0][\"lr\"]\n",
    "    loss_epoch = train(instance_loss,cluster_loss)\n",
    "    losses.append(loss_epoch/len(scTrainDataLoader))\n",
    "    if epoch % 10 == 0:\n",
    "        save_model(args, model, optimizer, epoch)\n",
    "    print(f\"\\nEpoch [{epoch}/{args.epochs}]\\t Loss: {loss_epoch / len(scTrainDataLoader)} \\n\")\n",
    "    nmi, ari, f, acc = test()\n",
    "    accs.append(acc)\n",
    "    print('Test NMI = {:.4f} ARI = {:.4f} F = {:.4f} ACC = {:.4f}'.format(nmi, ari, f, acc))\n",
    "    print('========'*8+'\\n')"
   ]
  },
  {
   "cell_type": "code",
   "execution_count": 12,
   "metadata": {
    "collapsed": false,
    "pycharm": {
     "name": "#%%\n"
    }
   },
   "outputs": [
    {
     "data": {
      "image/png": "[encoded data removed]",
      "text/plain": [
       "<Figure size 864x288 with 2 Axes>"
      ]
     },
     "metadata": {
      "needs_background": "light"
     },
     "output_type": "display_data"
    }
   ],
   "source": [
    "from matplotlib import pyplot as plt\n",
    "\n",
    "f, ax = plt.subplots(nrows=1, ncols=2, figsize=(12, 4))\n",
    "ax[0].plot(accs)\n",
    "ax[0].set_title('Accuracy during Validation')\n",
    "ax[1].plot(losses)\n",
    "ax[1].set_title('Loss during Training')\n",
    "\n",
    "plt.subplots_adjust(top=0.85)\n",
    "plt.suptitle('Result')\n",
    "plt.show()"
   ]
  },
  {
   "cell_type": "code",
   "execution_count": null,
   "metadata": {},
   "outputs": [],
   "source": []
  }
 ],
 "metadata": {
  "kernelspec": {
   "display_name": "Python 3",
   "language": "python",
   "name": "python3"
  },
  "language_info": {
   "codemirror_mode": {
    "name": "ipython",
    "version": 3
   },
   "file_extension": ".py",
   "mimetype": "text/x-python",
   "name": "python",
   "nbconvert_exporter": "python",
   "pygments_lexer": "ipython3",
   "version": "3.8.12"
  }
 },
 "nbformat": 4,
 "nbformat_minor": 0
}
