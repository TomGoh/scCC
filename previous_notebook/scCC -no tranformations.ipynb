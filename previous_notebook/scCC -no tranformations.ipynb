{
 "cells": [
  {
   "cell_type": "code",
   "execution_count": 1,
   "metadata": {
    "collapsed": false,
    "pycharm": {
     "name": "#%%\n"
    }
   },
   "outputs": [],
   "source": [
    "from torch import nn\n",
    "import torch\n",
    "import argparse\n",
    "import numpy as np\n",
    "import pandas as pd\n",
    "import scanpy as sc\n",
    "import os\n",
    "import anndata\n",
    "import math\n",
    "\n",
    "# import warnings\n",
    "# warnings.filterwarnings(\"ignore\", category=UserWarning)"
   ]
  },
  {
   "cell_type": "code",
   "execution_count": 2,
   "metadata": {
    "collapsed": false,
    "pycharm": {
     "name": "#%%\n"
    }
   },
   "outputs": [],
   "source": [
    "from modules import network,mlp\n",
    "from utils import yaml_config_hook,save_model\n",
    "\n",
    "parser = argparse.ArgumentParser()\n",
    "config = yaml_config_hook(\"config/config.yaml\")\n",
    "for k, v in config.items():\n",
    "    parser.add_argument(f\"--{k}\", default=v, type=type(v))\n",
    "args = parser.parse_args([])\n",
    "if not os.path.exists(args.model_path):\n",
    "    os.makedirs(args.model_path)\n",
    "\n",
    "# torch.manual_seed(args.seed)\n",
    "# torch.cuda.manual_seed_all(args.seed)\n",
    "# torch.cuda.manual_seed(args.seed)\n",
    "# np.random.seed(args.seed)\n",
    "class_num = args.classnum"
   ]
  },
  {
   "cell_type": "code",
   "execution_count": 3,
   "metadata": {
    "collapsed": false,
    "pycharm": {
     "name": "#%%\n"
    }
   },
   "outputs": [
    {
     "name": "stderr",
     "output_type": "stream",
     "text": [
      "C:\\Users\\Tom-G\\.conda\\envs\\torchenv\\lib\\site-packages\\anndata\\_core\\anndata.py:107: FutureWarning: elementwise comparison failed; returning scalar instead, but in the future will perform elementwise comparison\n",
      "  if index_name in anno:\n"
     ]
    },
    {
     "name": "stdout",
     "output_type": "stream",
     "text": [
      "(8569, 6000) (8569, 1)\n"
     ]
    },
    {
     "data": {
      "text/html": [
       "<div>\n",
       "<style scoped>\n",
       "    .dataframe tbody tr th:only-of-type {\n",
       "        vertical-align: middle;\n",
       "    }\n",
       "\n",
       "    .dataframe tbody tr th {\n",
       "        vertical-align: top;\n",
       "    }\n",
       "\n",
       "    .dataframe thead th {\n",
       "        text-align: right;\n",
       "    }\n",
       "</style>\n",
       "<table border=\"1\" class=\"dataframe\">\n",
       "  <thead>\n",
       "    <tr style=\"text-align: right;\">\n",
       "      <th></th>\n",
       "      <th>1</th>\n",
       "      <th>2</th>\n",
       "      <th>4</th>\n",
       "      <th>7</th>\n",
       "      <th>10</th>\n",
       "      <th>13</th>\n",
       "      <th>26</th>\n",
       "      <th>31</th>\n",
       "      <th>32</th>\n",
       "      <th>33</th>\n",
       "      <th>...</th>\n",
       "      <th>20104</th>\n",
       "      <th>20105</th>\n",
       "      <th>20108</th>\n",
       "      <th>20109</th>\n",
       "      <th>20115</th>\n",
       "      <th>20118</th>\n",
       "      <th>20121</th>\n",
       "      <th>20122</th>\n",
       "      <th>20123</th>\n",
       "      <th>20124</th>\n",
       "    </tr>\n",
       "  </thead>\n",
       "  <tbody>\n",
       "    <tr>\n",
       "      <th>0</th>\n",
       "      <td>1.024218</td>\n",
       "      <td>0.0</td>\n",
       "      <td>0.0</td>\n",
       "      <td>0.0000</td>\n",
       "      <td>1.302199</td>\n",
       "      <td>0.0</td>\n",
       "      <td>0.0</td>\n",
       "      <td>0.0</td>\n",
       "      <td>0.637877</td>\n",
       "      <td>0.0</td>\n",
       "      <td>...</td>\n",
       "      <td>0.0000</td>\n",
       "      <td>0.0</td>\n",
       "      <td>0.36896</td>\n",
       "      <td>0.0</td>\n",
       "      <td>0.0000</td>\n",
       "      <td>0.0</td>\n",
       "      <td>0.637877</td>\n",
       "      <td>0.0000</td>\n",
       "      <td>0.000000</td>\n",
       "      <td>0.368960</td>\n",
       "    </tr>\n",
       "    <tr>\n",
       "      <th>1</th>\n",
       "      <td>0.000000</td>\n",
       "      <td>0.0</td>\n",
       "      <td>0.0</td>\n",
       "      <td>0.0000</td>\n",
       "      <td>1.351171</td>\n",
       "      <td>0.0</td>\n",
       "      <td>0.0</td>\n",
       "      <td>0.0</td>\n",
       "      <td>0.000000</td>\n",
       "      <td>0.0</td>\n",
       "      <td>...</td>\n",
       "      <td>0.0000</td>\n",
       "      <td>0.0</td>\n",
       "      <td>0.00000</td>\n",
       "      <td>0.0</td>\n",
       "      <td>0.0000</td>\n",
       "      <td>0.0</td>\n",
       "      <td>0.888292</td>\n",
       "      <td>0.0000</td>\n",
       "      <td>0.305824</td>\n",
       "      <td>0.000000</td>\n",
       "    </tr>\n",
       "    <tr>\n",
       "      <th>2</th>\n",
       "      <td>0.000000</td>\n",
       "      <td>0.0</td>\n",
       "      <td>0.0</td>\n",
       "      <td>0.0000</td>\n",
       "      <td>0.000000</td>\n",
       "      <td>0.0</td>\n",
       "      <td>0.0</td>\n",
       "      <td>0.0</td>\n",
       "      <td>0.000000</td>\n",
       "      <td>0.0</td>\n",
       "      <td>...</td>\n",
       "      <td>0.0000</td>\n",
       "      <td>0.0</td>\n",
       "      <td>0.00000</td>\n",
       "      <td>0.0</td>\n",
       "      <td>0.0000</td>\n",
       "      <td>0.0</td>\n",
       "      <td>0.000000</td>\n",
       "      <td>0.0000</td>\n",
       "      <td>0.000000</td>\n",
       "      <td>0.000000</td>\n",
       "    </tr>\n",
       "    <tr>\n",
       "      <th>3</th>\n",
       "      <td>0.000000</td>\n",
       "      <td>0.0</td>\n",
       "      <td>0.0</td>\n",
       "      <td>0.4175</td>\n",
       "      <td>0.000000</td>\n",
       "      <td>0.0</td>\n",
       "      <td>0.0</td>\n",
       "      <td>0.0</td>\n",
       "      <td>0.000000</td>\n",
       "      <td>0.0</td>\n",
       "      <td>...</td>\n",
       "      <td>0.4175</td>\n",
       "      <td>0.0</td>\n",
       "      <td>0.00000</td>\n",
       "      <td>0.0</td>\n",
       "      <td>0.4175</td>\n",
       "      <td>0.0</td>\n",
       "      <td>0.937850</td>\n",
       "      <td>0.4175</td>\n",
       "      <td>0.000000</td>\n",
       "      <td>0.000000</td>\n",
       "    </tr>\n",
       "    <tr>\n",
       "      <th>4</th>\n",
       "      <td>0.000000</td>\n",
       "      <td>0.0</td>\n",
       "      <td>0.0</td>\n",
       "      <td>0.0000</td>\n",
       "      <td>0.000000</td>\n",
       "      <td>0.0</td>\n",
       "      <td>0.0</td>\n",
       "      <td>0.0</td>\n",
       "      <td>0.000000</td>\n",
       "      <td>0.0</td>\n",
       "      <td>...</td>\n",
       "      <td>0.0000</td>\n",
       "      <td>0.0</td>\n",
       "      <td>0.00000</td>\n",
       "      <td>0.0</td>\n",
       "      <td>0.0000</td>\n",
       "      <td>0.0</td>\n",
       "      <td>0.509045</td>\n",
       "      <td>0.0000</td>\n",
       "      <td>0.000000</td>\n",
       "      <td>0.509045</td>\n",
       "    </tr>\n",
       "  </tbody>\n",
       "</table>\n",
       "<p>5 rows × 6000 columns</p>\n",
       "</div>"
      ],
      "text/plain": [
       "          1    2    4       7        10   13   26   31        32   33  ...  \\\n",
       "0  1.024218  0.0  0.0  0.0000  1.302199  0.0  0.0  0.0  0.637877  0.0  ...   \n",
       "1  0.000000  0.0  0.0  0.0000  1.351171  0.0  0.0  0.0  0.000000  0.0  ...   \n",
       "2  0.000000  0.0  0.0  0.0000  0.000000  0.0  0.0  0.0  0.000000  0.0  ...   \n",
       "3  0.000000  0.0  0.0  0.4175  0.000000  0.0  0.0  0.0  0.000000  0.0  ...   \n",
       "4  0.000000  0.0  0.0  0.0000  0.000000  0.0  0.0  0.0  0.000000  0.0  ...   \n",
       "\n",
       "    20104  20105    20108  20109   20115  20118     20121   20122     20123  \\\n",
       "0  0.0000    0.0  0.36896    0.0  0.0000    0.0  0.637877  0.0000  0.000000   \n",
       "1  0.0000    0.0  0.00000    0.0  0.0000    0.0  0.888292  0.0000  0.305824   \n",
       "2  0.0000    0.0  0.00000    0.0  0.0000    0.0  0.000000  0.0000  0.000000   \n",
       "3  0.4175    0.0  0.00000    0.0  0.4175    0.0  0.937850  0.4175  0.000000   \n",
       "4  0.0000    0.0  0.00000    0.0  0.0000    0.0  0.509045  0.0000  0.000000   \n",
       "\n",
       "      20124  \n",
       "0  0.368960  \n",
       "1  0.000000  \n",
       "2  0.000000  \n",
       "3  0.000000  \n",
       "4  0.509045  \n",
       "\n",
       "[5 rows x 6000 columns]"
      ]
     },
     "execution_count": 3,
     "metadata": {},
     "output_type": "execute_result"
    }
   ],
   "source": [
    "import scipy.sparse\n",
    "sparse_X = scipy.sparse.load_npz('data/filtered_Counts.npz')\n",
    "annoData = pd.read_table('data/annoData.txt')\n",
    "y = annoData[\"cellIden\"].to_numpy()\n",
    "high_var_gene = args.num_genes\n",
    "# normlization and feature selection\n",
    "adataSC = anndata.AnnData(X=sparse_X, obs=np.arange(sparse_X.shape[0]), var=np.arange(sparse_X.shape[1]))\n",
    "sc.pp.filter_genes(adataSC, min_cells=10)\n",
    "adataSC.raw = adataSC\n",
    "sc.pp.highly_variable_genes(adataSC, n_top_genes=high_var_gene, flavor='seurat_v3')\n",
    "sc.pp.normalize_total(adataSC, target_sum=1e4)\n",
    "sc.pp.log1p(adataSC)\n",
    "\n",
    "adataNorm = adataSC[:, adataSC.var.highly_variable]\n",
    "dataframe = adataNorm.to_df()\n",
    "x_ndarray = dataframe.values.squeeze()\n",
    "y_ndarray = np.expand_dims(y, axis=1)\n",
    "print(x_ndarray.shape,y_ndarray.shape)\n",
    "dataframe.head()"
   ]
  },
  {
   "cell_type": "code",
   "execution_count": 4,
   "metadata": {
    "collapsed": false,
    "pycharm": {
     "name": "#%%\n"
    }
   },
   "outputs": [
    {
     "name": "stdout",
     "output_type": "stream",
     "text": [
      "6000\n",
      "1714\n",
      "1714\n"
     ]
    }
   ],
   "source": [
    "from torch.utils.data import DataLoader,random_split,TensorDataset\n",
    "scDataset = TensorDataset(torch.tensor(x_ndarray, dtype=torch.float32),\n",
    "                              torch.tensor(y_ndarray, dtype=torch.float32))\n",
    "\n",
    "scTrainLength = int(len(scDataset) * 0.8)\n",
    "scValidLength = len(scDataset) - scTrainLength\n",
    "scTrain, scValid = random_split(scDataset, [scTrainLength, scValidLength])\n",
    "# print(scValidLength)\n",
    "scTrainDataLoader = DataLoader(scTrain, shuffle=True, batch_size=args.batch_size,drop_last=True)\n",
    "scValidDataLoader = DataLoader(scValid, shuffle=True, batch_size=args.batch_size,drop_last=False)\n",
    "\n",
    "for features, labels in scTrainDataLoader:\n",
    "    print(len(features[-1]))\n",
    "    print(len(features))\n",
    "    print(len(labels))\n",
    "    break"
   ]
  },
  {
   "cell_type": "code",
   "execution_count": 5,
   "metadata": {
    "collapsed": false,
    "pycharm": {
     "name": "#%%\n"
    }
   },
   "outputs": [],
   "source": [
    "# initialize model\n",
    "mlp = mlp.MLP(num_genes=args.num_genes)\n",
    "model = network.Network(mlp, args.feature_dim, args.classnum)\n",
    "model = model.to('cuda')\n",
    "# optimizer / loss\n",
    "optimizer = torch.optim.Adam(model.parameters(), lr=args.learning_rate, weight_decay=args.weight_decay)"
   ]
  },
  {
   "cell_type": "code",
   "execution_count": 6,
   "metadata": {
    "collapsed": false,
    "pycharm": {
     "name": "#%%\n"
    }
   },
   "outputs": [],
   "source": [
    "class InstanceLoss(nn.Module):\n",
    "\n",
    "    def __init__(self,batch_size,temperature,device):\n",
    "        super(InstanceLoss,self).__init__()\n",
    "        self.batch_size=batch_size\n",
    "        self.temperature=temperature\n",
    "        self.device=device\n",
    "\n",
    "        self.mask=self.mask_correlated_samples(batch_size)\n",
    "        self.criterion = nn.CrossEntropyLoss(reduction=\"sum\")\n",
    "\n",
    "\n",
    "    def mask_correlated_samples(self,batch_size):\n",
    "        N=2*batch_size\n",
    "        mask=torch.ones(N,N)\n",
    "        mask=mask.fill_diagonal_(0)\n",
    "        for i in range(batch_size):\n",
    "            mask[i,batch_size+1]=0\n",
    "            mask[batch_size+i,i]=0\n",
    "        mask=mask.bool()\n",
    "        return mask\n",
    "\n",
    "    def forward(self,z_i,z_j):\n",
    "        N=2*self.batch_size\n",
    "        z=torch.cat((z_i,z_j),dim=0)\n",
    "\n",
    "        sim=torch.matmul(z,z.T)/self.temperature\n",
    "        sim_i_j=torch.diag(sim,self.batch_size)\n",
    "        sim_j_i=torch.diag(sim,-self.batch_size)\n",
    "\n",
    "        positive_samples= torch.cat((sim_i_j,sim_j_i),dim=0).reshape(N,1)\n",
    "        negative_samples=sim[self.mask].reshape(N,-1)\n",
    "\n",
    "        labels = torch.zeros(N).to(positive_samples.device).long()\n",
    "        logits = torch.cat((positive_samples, negative_samples), dim=1)\n",
    "        loss = self.criterion(logits, labels)\n",
    "        loss /= N\n",
    "\n",
    "        return loss"
   ]
  },
  {
   "cell_type": "code",
   "execution_count": 7,
   "metadata": {
    "collapsed": false,
    "pycharm": {
     "name": "#%%\n"
    }
   },
   "outputs": [],
   "source": [
    "class ClusterLoss(nn.Module):\n",
    "    def __init__(self, class_num, temperature, device):\n",
    "        super(ClusterLoss, self).__init__()\n",
    "        self.class_num = class_num\n",
    "        self.temperature = temperature\n",
    "        self.device = device\n",
    "\n",
    "        self.mask = self.mask_correlated_clusters(class_num)\n",
    "        self.criterion = nn.CrossEntropyLoss(reduction=\"sum\")\n",
    "        self.similarity_f = nn.CosineSimilarity(dim=2)\n",
    "\n",
    "    def mask_correlated_clusters(self, class_num):\n",
    "        N = 2 * class_num\n",
    "        mask = torch.ones((N, N))\n",
    "        mask = mask.fill_diagonal_(0)\n",
    "        for i in range(class_num):\n",
    "            mask[i, class_num + i] = 0\n",
    "            mask[class_num + i, i] = 0\n",
    "        mask = mask.bool()\n",
    "        return mask\n",
    "\n",
    "    def forward(self, c_i, c_j):\n",
    "        p_i = c_i.sum(0).view(-1)\n",
    "        p_i /= p_i.sum()\n",
    "        ne_i = math.log(p_i.size(0)) + (p_i * torch.log(p_i)).sum()\n",
    "        p_j = c_j.sum(0).view(-1)\n",
    "        p_j /= p_j.sum()\n",
    "        ne_j = math.log(p_j.size(0)) + (p_j * torch.log(p_j)).sum()\n",
    "        ne_loss = ne_i + ne_j\n",
    "\n",
    "        c_i = c_i.t()\n",
    "        c_j = c_j.t()\n",
    "        N = 2 * self.class_num\n",
    "        c = torch.cat((c_i, c_j), dim=0)\n",
    "\n",
    "        sim = self.similarity_f(c.unsqueeze(1), c.unsqueeze(0)) / self.temperature\n",
    "        sim_i_j = torch.diag(sim, self.class_num)\n",
    "        sim_j_i = torch.diag(sim, -self.class_num)\n",
    "\n",
    "        positive_clusters = torch.cat((sim_i_j, sim_j_i), dim=0).reshape(N, 1)\n",
    "        negative_clusters = sim[self.mask].reshape(N, -1)\n",
    "\n",
    "        labels = torch.zeros(N).to(positive_clusters.device).long()\n",
    "        logits = torch.cat((positive_clusters, negative_clusters), dim=1)\n",
    "        loss = self.criterion(logits, labels)\n",
    "        loss /= N\n",
    "\n",
    "        return loss + ne_loss\n"
   ]
  },
  {
   "cell_type": "code",
   "execution_count": 8,
   "metadata": {
    "collapsed": false,
    "pycharm": {
     "name": "#%%\n"
    }
   },
   "outputs": [],
   "source": [
    "from preprocessing import transformation\n",
    "def train(instance_loss,cluster_loss):\n",
    "    loss_epoch = 0\n",
    "    for step, (data,label) in enumerate(scTrainDataLoader):\n",
    "        optimizer.zero_grad()\n",
    "        \n",
    "        # x_i=data.clone()\n",
    "        # x_j=transformation.transformation(x_i).clone()\n",
    "        # if x_j is not None:\n",
    "        #     x_j=x_j.to('cuda')\n",
    "        # else:\n",
    "        #     x_j=x_i.clone().to('cuda')\n",
    "        # x_i=x_i.to('cuda')\n",
    "\n",
    "        x_i=data.clone().to('cuda')\n",
    "        x_j=data.clone().to('cuda')\n",
    "        \n",
    "        z_i,z_j,c_i,c_j=model(x_i,x_j)\n",
    "        loss_instance=instance_loss(z_i,z_j)\n",
    "        loss_cluster=cluster_loss(c_i,c_j)\n",
    "        loss = loss_instance + loss_cluster\n",
    "        loss.backward()\n",
    "        optimizer.step()\n",
    "        if step % 10 == 0:\n",
    "            print(\n",
    "                f\"Step [{step}/{len(scTrainDataLoader)}]\\t loss_instance: {loss_instance.item()}\\t loss_cluster: {loss_cluster.item()}\")\n",
    "        loss_epoch += loss.item()\n",
    "    return loss_epoch\n"
   ]
  },
  {
   "cell_type": "code",
   "execution_count": 9,
   "metadata": {
    "collapsed": false,
    "pycharm": {
     "name": "#%%\n"
    }
   },
   "outputs": [],
   "source": [
    "def inference(loader, model, device):\n",
    "    model.eval()\n",
    "    feature_vector = []\n",
    "    labels_vector = []\n",
    "    for step, (x, y) in enumerate(loader):\n",
    "        x = x.to(device)\n",
    "        with torch.no_grad():\n",
    "            c = model.forward_cluster(x)\n",
    "        c = c.detach()\n",
    "        feature_vector.extend(c.cpu().detach().numpy())\n",
    "        labels_vector.extend(y.numpy())\n",
    "        if step % 20 == 0:\n",
    "            print(f\"Step [{step}/{len(loader)}]\\t Computing features...\")\n",
    "    feature_vector = np.array(feature_vector)\n",
    "    labels_vector = np.array(labels_vector)\n",
    "    print(\"Features shape {}\".format(feature_vector.shape))\n",
    "    # print(feature_vector.shape, labels_vector.shape)\n",
    "    return feature_vector, labels_vector"
   ]
  },
  {
   "cell_type": "code",
   "execution_count": 10,
   "metadata": {
    "collapsed": false,
    "pycharm": {
     "name": "#%%\n"
    }
   },
   "outputs": [],
   "source": [
    "from evaluation import evaluation\n",
    "def test():\n",
    "    device = torch.device(\"cuda\" if torch.cuda.is_available() else \"cpu\")\n",
    "    X, Y = inference(scValidDataLoader, model, device)\n",
    "    # print(X.shape,Y.shape)\n",
    "    nmi, ari, f, acc = evaluation.evaluate(Y.reshape(-1), X)\n",
    "    # print('NMI = {:.4f} ARI = {:.4f} F = {:.4f} ACC = {:.4f}'.format(nmi, ari, f, acc))\n",
    "    return nmi, ari, f, acc"
   ]
  },
  {
   "cell_type": "code",
   "execution_count": 11,
   "metadata": {
    "collapsed": false,
    "pycharm": {
     "name": "#%%\n"
    }
   },
   "outputs": [
    {
     "name": "stderr",
     "output_type": "stream",
     "text": [
      "C:\\Users\\Tom-G\\.conda\\envs\\torchenv\\lib\\site-packages\\torch\\nn\\modules\\container.py:141: UserWarning: Implicit dimension choice for softmax has been deprecated. Change the call to include dim=X as an argument.\n",
      "  input = module(input)\n"
     ]
    },
    {
     "name": "stdout",
     "output_type": "stream",
     "text": [
      "Step [0/3]\t loss_instance: 8.138285636901855\t loss_cluster: 3.298346519470215\n",
      "\n",
      "Epoch [0/500]\t Loss: 11.432246843973795 \n",
      "\n",
      "Step [0/1]\t Computing features...\n",
      "Features shape (1714,)\n",
      "14\n",
      "Test NMI = 0.0000 ARI = 0.0000 F = 0.4426 ACC = 0.0000\n",
      "================================================================\n",
      "\n"
     ]
    },
    {
     "name": "stderr",
     "output_type": "stream",
     "text": [
      "C:\\Users\\Tom-G\\.conda\\envs\\torchenv\\lib\\site-packages\\torch\\nn\\modules\\container.py:141: UserWarning: Implicit dimension choice for softmax has been deprecated. Change the call to include dim=X as an argument.\n",
      "  input = module(input)\n"
     ]
    },
    {
     "name": "stdout",
     "output_type": "stream",
     "text": [
      "Step [0/3]\t loss_instance: 8.112051010131836\t loss_cluster: 3.29799747467041\n",
      "\n",
      "Epoch [1/500]\t Loss: 11.384344100952148 \n",
      "\n",
      "Step [0/1]\t Computing features...\n",
      "Features shape (1714,)\n",
      "14\n",
      "Test NMI = 0.0000 ARI = 0.0000 F = 0.4426 ACC = 0.0000\n",
      "================================================================\n",
      "\n"
     ]
    },
    {
     "name": "stderr",
     "output_type": "stream",
     "text": [
      "C:\\Users\\Tom-G\\.conda\\envs\\torchenv\\lib\\site-packages\\torch\\nn\\modules\\container.py:141: UserWarning: Implicit dimension choice for softmax has been deprecated. Change the call to include dim=X as an argument.\n",
      "  input = module(input)\n"
     ]
    },
    {
     "name": "stdout",
     "output_type": "stream",
     "text": [
      "Step [0/3]\t loss_instance: 8.008941650390625\t loss_cluster: 3.2976629734039307\n",
      "\n",
      "Epoch [2/500]\t Loss: 11.256099065144857 \n",
      "\n",
      "Step [0/1]\t Computing features...\n",
      "Features shape (1714,)\n",
      "14\n",
      "Test NMI = 0.0034 ARI = 0.0009 F = 0.4426 ACC = 0.0006\n",
      "================================================================\n",
      "\n"
     ]
    },
    {
     "name": "stderr",
     "output_type": "stream",
     "text": [
      "C:\\Users\\Tom-G\\.conda\\envs\\torchenv\\lib\\site-packages\\torch\\nn\\modules\\container.py:141: UserWarning: Implicit dimension choice for softmax has been deprecated. Change the call to include dim=X as an argument.\n",
      "  input = module(input)\n"
     ]
    },
    {
     "name": "stdout",
     "output_type": "stream",
     "text": [
      "Step [0/3]\t loss_instance: 7.835224628448486\t loss_cluster: 3.2973203659057617\n",
      "\n",
      "Epoch [3/500]\t Loss: 11.068250020345053 \n",
      "\n",
      "Step [0/1]\t Computing features...\n",
      "Features shape (1714,)\n",
      "14\n",
      "Test NMI = 0.3041 ARI = 0.1646 F = 0.5109 ACC = 0.0338\n",
      "================================================================\n",
      "\n"
     ]
    },
    {
     "name": "stderr",
     "output_type": "stream",
     "text": [
      "C:\\Users\\Tom-G\\.conda\\envs\\torchenv\\lib\\site-packages\\torch\\nn\\modules\\container.py:141: UserWarning: Implicit dimension choice for softmax has been deprecated. Change the call to include dim=X as an argument.\n",
      "  input = module(input)\n"
     ]
    },
    {
     "name": "stdout",
     "output_type": "stream",
     "text": [
      "Step [0/3]\t loss_instance: 7.657251358032227\t loss_cluster: 3.2966880798339844\n",
      "\n",
      "Epoch [4/500]\t Loss: 10.91833241780599 \n",
      "\n",
      "Step [0/1]\t Computing features...\n",
      "Features shape (1714,)\n",
      "14\n",
      "Test NMI = 0.3905 ARI = 0.2599 F = 0.5530 ACC = 0.0344\n",
      "================================================================\n",
      "\n"
     ]
    },
    {
     "name": "stderr",
     "output_type": "stream",
     "text": [
      "C:\\Users\\Tom-G\\.conda\\envs\\torchenv\\lib\\site-packages\\torch\\nn\\modules\\container.py:141: UserWarning: Implicit dimension choice for softmax has been deprecated. Change the call to include dim=X as an argument.\n",
      "  input = module(input)\n"
     ]
    },
    {
     "name": "stdout",
     "output_type": "stream",
     "text": [
      "Step [0/3]\t loss_instance: 7.556729793548584\t loss_cluster: 3.295670747756958\n",
      "\n",
      "Epoch [5/500]\t Loss: 10.837114016215006 \n",
      "\n",
      "Step [0/1]\t Computing features...\n",
      "Features shape (1714,)\n",
      "14\n",
      "Test NMI = 0.4134 ARI = 0.2920 F = 0.5604 ACC = 0.0350\n",
      "================================================================\n",
      "\n"
     ]
    },
    {
     "name": "stderr",
     "output_type": "stream",
     "text": [
      "C:\\Users\\Tom-G\\.conda\\envs\\torchenv\\lib\\site-packages\\torch\\nn\\modules\\container.py:141: UserWarning: Implicit dimension choice for softmax has been deprecated. Change the call to include dim=X as an argument.\n",
      "  input = module(input)\n"
     ]
    },
    {
     "name": "stdout",
     "output_type": "stream",
     "text": [
      "Step [0/3]\t loss_instance: 7.509462356567383\t loss_cluster: 3.2937498092651367\n",
      "\n",
      "Epoch [6/500]\t Loss: 10.76270834604899 \n",
      "\n",
      "Step [0/1]\t Computing features...\n",
      "Features shape (1714,)\n",
      "14\n",
      "Test NMI = 0.2278 ARI = 0.0839 F = 0.3561 ACC = 0.0000\n",
      "================================================================\n",
      "\n"
     ]
    },
    {
     "name": "stderr",
     "output_type": "stream",
     "text": [
      "C:\\Users\\Tom-G\\.conda\\envs\\torchenv\\lib\\site-packages\\torch\\nn\\modules\\container.py:141: UserWarning: Implicit dimension choice for softmax has been deprecated. Change the call to include dim=X as an argument.\n",
      "  input = module(input)\n"
     ]
    },
    {
     "name": "stdout",
     "output_type": "stream",
     "text": [
      "Step [0/3]\t loss_instance: 7.4212422370910645\t loss_cluster: 3.2906196117401123\n",
      "\n",
      "Epoch [7/500]\t Loss: 10.676271120707193 \n",
      "\n",
      "Step [0/1]\t Computing features...\n",
      "Features shape (1714,)\n",
      "14\n",
      "Test NMI = 0.2842 ARI = 0.1205 F = 0.3524 ACC = 0.0350\n",
      "================================================================\n",
      "\n"
     ]
    },
    {
     "name": "stderr",
     "output_type": "stream",
     "text": [
      "C:\\Users\\Tom-G\\.conda\\envs\\torchenv\\lib\\site-packages\\torch\\nn\\modules\\container.py:141: UserWarning: Implicit dimension choice for softmax has been deprecated. Change the call to include dim=X as an argument.\n",
      "  input = module(input)\n"
     ]
    },
    {
     "name": "stdout",
     "output_type": "stream",
     "text": [
      "Step [0/3]\t loss_instance: 7.344799995422363\t loss_cluster: 3.2836403846740723\n",
      "\n",
      "Epoch [8/500]\t Loss: 10.604819615681967 \n",
      "\n",
      "Step [0/1]\t Computing features...\n",
      "Features shape (1714,)\n",
      "14\n",
      "Test NMI = 0.3330 ARI = 0.1994 F = 0.3766 ACC = 0.0729\n",
      "================================================================\n",
      "\n"
     ]
    },
    {
     "name": "stderr",
     "output_type": "stream",
     "text": [
      "C:\\Users\\Tom-G\\.conda\\envs\\torchenv\\lib\\site-packages\\torch\\nn\\modules\\container.py:141: UserWarning: Implicit dimension choice for softmax has been deprecated. Change the call to include dim=X as an argument.\n",
      "  input = module(input)\n"
     ]
    },
    {
     "name": "stdout",
     "output_type": "stream",
     "text": [
      "Step [0/3]\t loss_instance: 7.277825355529785\t loss_cluster: 3.275817394256592\n",
      "\n",
      "Epoch [9/500]\t Loss: 10.5361909866333 \n",
      "\n",
      "Step [0/1]\t Computing features...\n",
      "Features shape (1714,)\n",
      "14\n",
      "Test NMI = 0.3923 ARI = 0.2416 F = 0.4238 ACC = 0.1435\n",
      "================================================================\n",
      "\n"
     ]
    },
    {
     "name": "stderr",
     "output_type": "stream",
     "text": [
      "C:\\Users\\Tom-G\\.conda\\envs\\torchenv\\lib\\site-packages\\torch\\nn\\modules\\container.py:141: UserWarning: Implicit dimension choice for softmax has been deprecated. Change the call to include dim=X as an argument.\n",
      "  input = module(input)\n"
     ]
    },
    {
     "name": "stdout",
     "output_type": "stream",
     "text": [
      "Step [0/3]\t loss_instance: 7.22759485244751\t loss_cluster: 3.264773368835449\n",
      "\n",
      "Epoch [10/500]\t Loss: 10.468593915303549 \n",
      "\n",
      "Step [0/1]\t Computing features...\n",
      "Features shape (1714,)\n",
      "14\n",
      "Test NMI = 0.3930 ARI = 0.2115 F = 0.3949 ACC = 0.1179\n",
      "================================================================\n",
      "\n"
     ]
    },
    {
     "name": "stderr",
     "output_type": "stream",
     "text": [
      "C:\\Users\\Tom-G\\.conda\\envs\\torchenv\\lib\\site-packages\\torch\\nn\\modules\\container.py:141: UserWarning: Implicit dimension choice for softmax has been deprecated. Change the call to include dim=X as an argument.\n",
      "  input = module(input)\n"
     ]
    },
    {
     "name": "stdout",
     "output_type": "stream",
     "text": [
      "Step [0/3]\t loss_instance: 7.164942264556885\t loss_cluster: 3.2505855560302734\n",
      "\n",
      "Epoch [11/500]\t Loss: 10.388299624125162 \n",
      "\n",
      "Step [0/1]\t Computing features...\n",
      "Features shape (1714,)\n",
      "14\n",
      "Test NMI = 0.3999 ARI = 0.2402 F = 0.4152 ACC = 0.0414\n",
      "================================================================\n",
      "\n"
     ]
    },
    {
     "name": "stderr",
     "output_type": "stream",
     "text": [
      "C:\\Users\\Tom-G\\.conda\\envs\\torchenv\\lib\\site-packages\\torch\\nn\\modules\\container.py:141: UserWarning: Implicit dimension choice for softmax has been deprecated. Change the call to include dim=X as an argument.\n",
      "  input = module(input)\n"
     ]
    },
    {
     "name": "stdout",
     "output_type": "stream",
     "text": [
      "Step [0/3]\t loss_instance: 7.088849067687988\t loss_cluster: 3.2331807613372803\n",
      "\n",
      "Epoch [12/500]\t Loss: 10.28714402516683 \n",
      "\n",
      "Step [0/1]\t Computing features...\n",
      "Features shape (1714,)\n",
      "14\n",
      "Test NMI = 0.4464 ARI = 0.3067 F = 0.4639 ACC = 0.0589\n",
      "================================================================\n",
      "\n"
     ]
    },
    {
     "name": "stderr",
     "output_type": "stream",
     "text": [
      "C:\\Users\\Tom-G\\.conda\\envs\\torchenv\\lib\\site-packages\\torch\\nn\\modules\\container.py:141: UserWarning: Implicit dimension choice for softmax has been deprecated. Change the call to include dim=X as an argument.\n",
      "  input = module(input)\n"
     ]
    },
    {
     "name": "stdout",
     "output_type": "stream",
     "text": [
      "Step [0/3]\t loss_instance: 6.98844051361084\t loss_cluster: 3.2106404304504395\n",
      "\n",
      "Epoch [13/500]\t Loss: 10.165356953938803 \n",
      "\n",
      "Step [0/1]\t Computing features...\n",
      "Features shape (1714,)\n",
      "14\n",
      "Test NMI = 0.5127 ARI = 0.3724 F = 0.5053 ACC = 0.0642\n",
      "================================================================\n",
      "\n"
     ]
    },
    {
     "name": "stderr",
     "output_type": "stream",
     "text": [
      "C:\\Users\\Tom-G\\.conda\\envs\\torchenv\\lib\\site-packages\\torch\\nn\\modules\\container.py:141: UserWarning: Implicit dimension choice for softmax has been deprecated. Change the call to include dim=X as an argument.\n",
      "  input = module(input)\n"
     ]
    },
    {
     "name": "stdout",
     "output_type": "stream",
     "text": [
      "Step [0/3]\t loss_instance: 6.89402437210083\t loss_cluster: 3.190211057662964\n",
      "\n",
      "Epoch [14/500]\t Loss: 10.060365358988443 \n",
      "\n",
      "Step [0/1]\t Computing features...\n",
      "Features shape (1714,)\n",
      "14\n",
      "Test NMI = 0.5411 ARI = 0.3706 F = 0.4987 ACC = 0.4877\n",
      "================================================================\n",
      "\n"
     ]
    },
    {
     "name": "stderr",
     "output_type": "stream",
     "text": [
      "C:\\Users\\Tom-G\\.conda\\envs\\torchenv\\lib\\site-packages\\torch\\nn\\modules\\container.py:141: UserWarning: Implicit dimension choice for softmax has been deprecated. Change the call to include dim=X as an argument.\n",
      "  input = module(input)\n"
     ]
    },
    {
     "name": "stdout",
     "output_type": "stream",
     "text": [
      "Step [0/3]\t loss_instance: 6.849254131317139\t loss_cluster: 3.1629862785339355\n",
      "\n",
      "Epoch [15/500]\t Loss: 9.983382860819498 \n",
      "\n",
      "Step [0/1]\t Computing features...\n",
      "Features shape (1714,)\n",
      "14\n",
      "Test NMI = 0.5479 ARI = 0.3747 F = 0.4986 ACC = 0.4819\n",
      "================================================================\n",
      "\n"
     ]
    },
    {
     "name": "stderr",
     "output_type": "stream",
     "text": [
      "C:\\Users\\Tom-G\\.conda\\envs\\torchenv\\lib\\site-packages\\torch\\nn\\modules\\container.py:141: UserWarning: Implicit dimension choice for softmax has been deprecated. Change the call to include dim=X as an argument.\n",
      "  input = module(input)\n"
     ]
    },
    {
     "name": "stdout",
     "output_type": "stream",
     "text": [
      "Step [0/3]\t loss_instance: 6.807161331176758\t loss_cluster: 3.123974084854126\n",
      "\n",
      "Epoch [16/500]\t Loss: 9.90987777709961 \n",
      "\n",
      "Step [0/1]\t Computing features...\n",
      "Features shape (1714,)\n",
      "14\n",
      "Test NMI = 0.5336 ARI = 0.4222 F = 0.5291 ACC = 0.5642\n",
      "================================================================\n",
      "\n"
     ]
    },
    {
     "name": "stderr",
     "output_type": "stream",
     "text": [
      "C:\\Users\\Tom-G\\.conda\\envs\\torchenv\\lib\\site-packages\\torch\\nn\\modules\\container.py:141: UserWarning: Implicit dimension choice for softmax has been deprecated. Change the call to include dim=X as an argument.\n",
      "  input = module(input)\n"
     ]
    },
    {
     "name": "stdout",
     "output_type": "stream",
     "text": [
      "Step [0/3]\t loss_instance: 6.777527332305908\t loss_cluster: 3.085998296737671\n",
      "\n",
      "Epoch [17/500]\t Loss: 9.839334487915039 \n",
      "\n",
      "Step [0/1]\t Computing features...\n",
      "Features shape (1714,)\n",
      "14\n",
      "Test NMI = 0.5853 ARI = 0.5044 F = 0.5940 ACC = 0.6249\n",
      "================================================================\n",
      "\n"
     ]
    },
    {
     "name": "stderr",
     "output_type": "stream",
     "text": [
      "C:\\Users\\Tom-G\\.conda\\envs\\torchenv\\lib\\site-packages\\torch\\nn\\modules\\container.py:141: UserWarning: Implicit dimension choice for softmax has been deprecated. Change the call to include dim=X as an argument.\n",
      "  input = module(input)\n"
     ]
    },
    {
     "name": "stdout",
     "output_type": "stream",
     "text": [
      "Step [0/3]\t loss_instance: 6.754981517791748\t loss_cluster: 3.0455801486968994\n",
      "\n",
      "Epoch [18/500]\t Loss: 9.77834701538086 \n",
      "\n",
      "Step [0/1]\t Computing features...\n",
      "Features shape (1714,)\n",
      "14\n",
      "Test NMI = 0.5882 ARI = 0.4809 F = 0.5758 ACC = 0.6132\n",
      "================================================================\n",
      "\n"
     ]
    },
    {
     "name": "stderr",
     "output_type": "stream",
     "text": [
      "C:\\Users\\Tom-G\\.conda\\envs\\torchenv\\lib\\site-packages\\torch\\nn\\modules\\container.py:141: UserWarning: Implicit dimension choice for softmax has been deprecated. Change the call to include dim=X as an argument.\n",
      "  input = module(input)\n"
     ]
    },
    {
     "name": "stdout",
     "output_type": "stream",
     "text": [
      "Step [0/3]\t loss_instance: 6.734035491943359\t loss_cluster: 3.0019824504852295\n",
      "\n",
      "Epoch [19/500]\t Loss: 9.714053471883139 \n",
      "\n",
      "Step [0/1]\t Computing features...\n",
      "Features shape (1714,)\n",
      "14\n",
      "Test NMI = 0.5913 ARI = 0.4715 F = 0.5676 ACC = 0.5858\n",
      "================================================================\n",
      "\n"
     ]
    },
    {
     "name": "stderr",
     "output_type": "stream",
     "text": [
      "C:\\Users\\Tom-G\\.conda\\envs\\torchenv\\lib\\site-packages\\torch\\nn\\modules\\container.py:141: UserWarning: Implicit dimension choice for softmax has been deprecated. Change the call to include dim=X as an argument.\n",
      "  input = module(input)\n"
     ]
    },
    {
     "name": "stdout",
     "output_type": "stream",
     "text": [
      "Step [0/3]\t loss_instance: 6.717054843902588\t loss_cluster: 2.953761339187622\n",
      "\n",
      "Epoch [20/500]\t Loss: 9.647319793701172 \n",
      "\n",
      "Step [0/1]\t Computing features...\n",
      "Features shape (1714,)\n",
      "14\n",
      "Test NMI = 0.6063 ARI = 0.5059 F = 0.5971 ACC = 0.6237\n",
      "================================================================\n",
      "\n"
     ]
    },
    {
     "name": "stderr",
     "output_type": "stream",
     "text": [
      "C:\\Users\\Tom-G\\.conda\\envs\\torchenv\\lib\\site-packages\\torch\\nn\\modules\\container.py:141: UserWarning: Implicit dimension choice for softmax has been deprecated. Change the call to include dim=X as an argument.\n",
      "  input = module(input)\n"
     ]
    },
    {
     "name": "stdout",
     "output_type": "stream",
     "text": [
      "Step [0/3]\t loss_instance: 6.701971530914307\t loss_cluster: 2.9015581607818604\n",
      "\n",
      "Epoch [21/500]\t Loss: 9.580009778340658 \n",
      "\n",
      "Step [0/1]\t Computing features...\n",
      "Features shape (1714,)\n",
      "14\n",
      "Test NMI = 0.5881 ARI = 0.4788 F = 0.5741 ACC = 0.5992\n",
      "================================================================\n",
      "\n"
     ]
    },
    {
     "name": "stderr",
     "output_type": "stream",
     "text": [
      "C:\\Users\\Tom-G\\.conda\\envs\\torchenv\\lib\\site-packages\\torch\\nn\\modules\\container.py:141: UserWarning: Implicit dimension choice for softmax has been deprecated. Change the call to include dim=X as an argument.\n",
      "  input = module(input)\n"
     ]
    },
    {
     "name": "stdout",
     "output_type": "stream",
     "text": [
      "Step [0/3]\t loss_instance: 6.689476490020752\t loss_cluster: 2.8441078662872314\n",
      "\n",
      "Epoch [22/500]\t Loss: 9.507547696431478 \n",
      "\n",
      "Step [0/1]\t Computing features...\n",
      "Features shape (1714,)\n",
      "14\n",
      "Test NMI = 0.5940 ARI = 0.4634 F = 0.5622 ACC = 0.6120\n",
      "================================================================\n",
      "\n"
     ]
    },
    {
     "name": "stderr",
     "output_type": "stream",
     "text": [
      "C:\\Users\\Tom-G\\.conda\\envs\\torchenv\\lib\\site-packages\\torch\\nn\\modules\\container.py:141: UserWarning: Implicit dimension choice for softmax has been deprecated. Change the call to include dim=X as an argument.\n",
      "  input = module(input)\n"
     ]
    },
    {
     "name": "stdout",
     "output_type": "stream",
     "text": [
      "Step [0/3]\t loss_instance: 6.66716194152832\t loss_cluster: 2.785799264907837\n",
      "\n",
      "Epoch [23/500]\t Loss: 9.433908462524414 \n",
      "\n",
      "Step [0/1]\t Computing features...\n",
      "Features shape (1714,)\n",
      "14\n",
      "Test NMI = 0.5619 ARI = 0.3967 F = 0.5072 ACC = 0.5257\n",
      "================================================================\n",
      "\n"
     ]
    },
    {
     "name": "stderr",
     "output_type": "stream",
     "text": [
      "C:\\Users\\Tom-G\\.conda\\envs\\torchenv\\lib\\site-packages\\torch\\nn\\modules\\container.py:141: UserWarning: Implicit dimension choice for softmax has been deprecated. Change the call to include dim=X as an argument.\n",
      "  input = module(input)\n"
     ]
    },
    {
     "name": "stdout",
     "output_type": "stream",
     "text": [
      "Step [0/3]\t loss_instance: 6.649311542510986\t loss_cluster: 2.7303049564361572\n",
      "\n",
      "Epoch [24/500]\t Loss: 9.356523513793945 \n",
      "\n",
      "Step [0/1]\t Computing features...\n",
      "Features shape (1714,)\n",
      "14\n",
      "Test NMI = 0.5422 ARI = 0.3416 F = 0.4635 ACC = 0.5111\n",
      "================================================================\n",
      "\n"
     ]
    },
    {
     "name": "stderr",
     "output_type": "stream",
     "text": [
      "C:\\Users\\Tom-G\\.conda\\envs\\torchenv\\lib\\site-packages\\torch\\nn\\modules\\container.py:141: UserWarning: Implicit dimension choice for softmax has been deprecated. Change the call to include dim=X as an argument.\n",
      "  input = module(input)\n"
     ]
    },
    {
     "name": "stdout",
     "output_type": "stream",
     "text": [
      "Step [0/3]\t loss_instance: 6.633592128753662\t loss_cluster: 2.674133539199829\n",
      "\n",
      "Epoch [25/500]\t Loss: 9.28296152750651 \n",
      "\n",
      "Step [0/1]\t Computing features...\n",
      "Features shape (1714,)\n",
      "14\n",
      "Test NMI = 0.5370 ARI = 0.3438 F = 0.4637 ACC = 0.5443\n",
      "================================================================\n",
      "\n"
     ]
    },
    {
     "name": "stderr",
     "output_type": "stream",
     "text": [
      "C:\\Users\\Tom-G\\.conda\\envs\\torchenv\\lib\\site-packages\\torch\\nn\\modules\\container.py:141: UserWarning: Implicit dimension choice for softmax has been deprecated. Change the call to include dim=X as an argument.\n",
      "  input = module(input)\n"
     ]
    },
    {
     "name": "stdout",
     "output_type": "stream",
     "text": [
      "Step [0/3]\t loss_instance: 6.607667446136475\t loss_cluster: 2.6271016597747803\n",
      "\n",
      "Epoch [26/500]\t Loss: 9.221491813659668 \n",
      "\n",
      "Step [0/1]\t Computing features...\n",
      "Features shape (1714,)\n",
      "14\n",
      "Test NMI = 0.5404 ARI = 0.3270 F = 0.4465 ACC = 0.5064\n",
      "================================================================\n",
      "\n"
     ]
    },
    {
     "name": "stderr",
     "output_type": "stream",
     "text": [
      "C:\\Users\\Tom-G\\.conda\\envs\\torchenv\\lib\\site-packages\\torch\\nn\\modules\\container.py:141: UserWarning: Implicit dimension choice for softmax has been deprecated. Change the call to include dim=X as an argument.\n",
      "  input = module(input)\n"
     ]
    },
    {
     "name": "stdout",
     "output_type": "stream",
     "text": [
      "Step [0/3]\t loss_instance: 6.600831508636475\t loss_cluster: 2.5815277099609375\n",
      "\n",
      "Epoch [27/500]\t Loss: 9.164512634277344 \n",
      "\n",
      "Step [0/1]\t Computing features...\n",
      "Features shape (1714,)\n",
      "14\n",
      "Test NMI = 0.5358 ARI = 0.3256 F = 0.4409 ACC = 0.4930\n",
      "================================================================\n",
      "\n"
     ]
    },
    {
     "name": "stderr",
     "output_type": "stream",
     "text": [
      "C:\\Users\\Tom-G\\.conda\\envs\\torchenv\\lib\\site-packages\\torch\\nn\\modules\\container.py:141: UserWarning: Implicit dimension choice for softmax has been deprecated. Change the call to include dim=X as an argument.\n",
      "  input = module(input)\n"
     ]
    },
    {
     "name": "stdout",
     "output_type": "stream",
     "text": [
      "Step [0/3]\t loss_instance: 6.576075077056885\t loss_cluster: 2.547769546508789\n",
      "\n",
      "Epoch [28/500]\t Loss: 9.105333964029947 \n",
      "\n",
      "Step [0/1]\t Computing features...\n",
      "Features shape (1714,)\n",
      "14\n",
      "Test NMI = 0.5302 ARI = 0.3254 F = 0.4383 ACC = 0.4889\n",
      "================================================================\n",
      "\n"
     ]
    },
    {
     "name": "stderr",
     "output_type": "stream",
     "text": [
      "C:\\Users\\Tom-G\\.conda\\envs\\torchenv\\lib\\site-packages\\torch\\nn\\modules\\container.py:141: UserWarning: Implicit dimension choice for softmax has been deprecated. Change the call to include dim=X as an argument.\n",
      "  input = module(input)\n"
     ]
    },
    {
     "name": "stdout",
     "output_type": "stream",
     "text": [
      "Step [0/3]\t loss_instance: 6.571784973144531\t loss_cluster: 2.492814779281616\n",
      "\n",
      "Epoch [29/500]\t Loss: 9.046844482421875 \n",
      "\n",
      "Step [0/1]\t Computing features...\n",
      "Features shape (1714,)\n",
      "14\n",
      "Test NMI = 0.5216 ARI = 0.3251 F = 0.4394 ACC = 0.4977\n",
      "================================================================\n",
      "\n"
     ]
    },
    {
     "name": "stderr",
     "output_type": "stream",
     "text": [
      "C:\\Users\\Tom-G\\.conda\\envs\\torchenv\\lib\\site-packages\\torch\\nn\\modules\\container.py:141: UserWarning: Implicit dimension choice for softmax has been deprecated. Change the call to include dim=X as an argument.\n",
      "  input = module(input)\n"
     ]
    },
    {
     "name": "stdout",
     "output_type": "stream",
     "text": [
      "Step [0/3]\t loss_instance: 6.56658935546875\t loss_cluster: 2.441329002380371\n",
      "\n",
      "Epoch [30/500]\t Loss: 8.986480077107748 \n",
      "\n",
      "Step [0/1]\t Computing features...\n",
      "Features shape (1714,)\n",
      "14\n",
      "Test NMI = 0.5179 ARI = 0.3289 F = 0.4422 ACC = 0.5047\n",
      "================================================================\n",
      "\n"
     ]
    },
    {
     "name": "stderr",
     "output_type": "stream",
     "text": [
      "C:\\Users\\Tom-G\\.conda\\envs\\torchenv\\lib\\site-packages\\torch\\nn\\modules\\container.py:141: UserWarning: Implicit dimension choice for softmax has been deprecated. Change the call to include dim=X as an argument.\n",
      "  input = module(input)\n"
     ]
    },
    {
     "name": "stdout",
     "output_type": "stream",
     "text": [
      "Step [0/3]\t loss_instance: 6.552754878997803\t loss_cluster: 2.392758369445801\n",
      "\n",
      "Epoch [31/500]\t Loss: 8.92220401763916 \n",
      "\n",
      "Step [0/1]\t Computing features...\n",
      "Features shape (1714,)\n",
      "14\n",
      "Test NMI = 0.5225 ARI = 0.3317 F = 0.4438 ACC = 0.5082\n",
      "================================================================\n",
      "\n"
     ]
    },
    {
     "name": "stderr",
     "output_type": "stream",
     "text": [
      "C:\\Users\\Tom-G\\.conda\\envs\\torchenv\\lib\\site-packages\\torch\\nn\\modules\\container.py:141: UserWarning: Implicit dimension choice for softmax has been deprecated. Change the call to include dim=X as an argument.\n",
      "  input = module(input)\n"
     ]
    },
    {
     "name": "stdout",
     "output_type": "stream",
     "text": [
      "Step [0/3]\t loss_instance: 6.544404029846191\t loss_cluster: 2.3424429893493652\n",
      "\n",
      "Epoch [32/500]\t Loss: 8.877630233764648 \n",
      "\n",
      "Step [0/1]\t Computing features...\n",
      "Features shape (1714,)\n",
      "14\n",
      "Test NMI = 0.5084 ARI = 0.3041 F = 0.4190 ACC = 0.4697\n",
      "================================================================\n",
      "\n"
     ]
    },
    {
     "name": "stderr",
     "output_type": "stream",
     "text": [
      "C:\\Users\\Tom-G\\.conda\\envs\\torchenv\\lib\\site-packages\\torch\\nn\\modules\\container.py:141: UserWarning: Implicit dimension choice for softmax has been deprecated. Change the call to include dim=X as an argument.\n",
      "  input = module(input)\n"
     ]
    },
    {
     "name": "stdout",
     "output_type": "stream",
     "text": [
      "Step [0/3]\t loss_instance: 6.531409740447998\t loss_cluster: 2.2991204261779785\n",
      "\n",
      "Epoch [33/500]\t Loss: 8.820380528767904 \n",
      "\n",
      "Step [0/1]\t Computing features...\n",
      "Features shape (1714,)\n",
      "14\n",
      "Test NMI = 0.5014 ARI = 0.2977 F = 0.4135 ACC = 0.4662\n",
      "================================================================\n",
      "\n"
     ]
    },
    {
     "name": "stderr",
     "output_type": "stream",
     "text": [
      "C:\\Users\\Tom-G\\.conda\\envs\\torchenv\\lib\\site-packages\\torch\\nn\\modules\\container.py:141: UserWarning: Implicit dimension choice for softmax has been deprecated. Change the call to include dim=X as an argument.\n",
      "  input = module(input)\n"
     ]
    },
    {
     "name": "stdout",
     "output_type": "stream",
     "text": [
      "Step [0/3]\t loss_instance: 6.5164642333984375\t loss_cluster: 2.2699966430664062\n",
      "\n",
      "Epoch [34/500]\t Loss: 8.77100912729899 \n",
      "\n",
      "Step [0/1]\t Computing features...\n",
      "Features shape (1714,)\n",
      "14\n",
      "Test NMI = 0.4905 ARI = 0.2703 F = 0.3892 ACC = 0.4265\n",
      "================================================================\n",
      "\n"
     ]
    },
    {
     "name": "stderr",
     "output_type": "stream",
     "text": [
      "C:\\Users\\Tom-G\\.conda\\envs\\torchenv\\lib\\site-packages\\torch\\nn\\modules\\container.py:141: UserWarning: Implicit dimension choice for softmax has been deprecated. Change the call to include dim=X as an argument.\n",
      "  input = module(input)\n"
     ]
    },
    {
     "name": "stdout",
     "output_type": "stream",
     "text": [
      "Step [0/3]\t loss_instance: 6.509838104248047\t loss_cluster: 2.220935821533203\n",
      "\n",
      "Epoch [35/500]\t Loss: 8.720510482788086 \n",
      "\n",
      "Step [0/1]\t Computing features...\n",
      "Features shape (1714,)\n",
      "14\n",
      "Test NMI = 0.4932 ARI = 0.2699 F = 0.3889 ACC = 0.4119\n",
      "================================================================\n",
      "\n"
     ]
    },
    {
     "name": "stderr",
     "output_type": "stream",
     "text": [
      "C:\\Users\\Tom-G\\.conda\\envs\\torchenv\\lib\\site-packages\\torch\\nn\\modules\\container.py:141: UserWarning: Implicit dimension choice for softmax has been deprecated. Change the call to include dim=X as an argument.\n",
      "  input = module(input)\n"
     ]
    },
    {
     "name": "stdout",
     "output_type": "stream",
     "text": [
      "Step [0/3]\t loss_instance: 6.509696960449219\t loss_cluster: 2.18266224861145\n",
      "\n",
      "Epoch [36/500]\t Loss: 8.680486679077148 \n",
      "\n",
      "Step [0/1]\t Computing features...\n",
      "Features shape (1714,)\n",
      "14\n",
      "Test NMI = 0.4852 ARI = 0.2510 F = 0.3709 ACC = 0.3950\n",
      "================================================================\n",
      "\n"
     ]
    },
    {
     "name": "stderr",
     "output_type": "stream",
     "text": [
      "C:\\Users\\Tom-G\\.conda\\envs\\torchenv\\lib\\site-packages\\torch\\nn\\modules\\container.py:141: UserWarning: Implicit dimension choice for softmax has been deprecated. Change the call to include dim=X as an argument.\n",
      "  input = module(input)\n"
     ]
    },
    {
     "name": "stdout",
     "output_type": "stream",
     "text": [
      "Step [0/3]\t loss_instance: 6.502472400665283\t loss_cluster: 2.147146224975586\n",
      "\n",
      "Epoch [37/500]\t Loss: 8.637221972147623 \n",
      "\n",
      "Step [0/1]\t Computing features...\n",
      "Features shape (1714,)\n",
      "14\n",
      "Test NMI = 0.4812 ARI = 0.2413 F = 0.3613 ACC = 0.3926\n",
      "================================================================\n",
      "\n"
     ]
    },
    {
     "name": "stderr",
     "output_type": "stream",
     "text": [
      "C:\\Users\\Tom-G\\.conda\\envs\\torchenv\\lib\\site-packages\\torch\\nn\\modules\\container.py:141: UserWarning: Implicit dimension choice for softmax has been deprecated. Change the call to include dim=X as an argument.\n",
      "  input = module(input)\n"
     ]
    },
    {
     "name": "stdout",
     "output_type": "stream",
     "text": [
      "Step [0/3]\t loss_instance: 6.500006675720215\t loss_cluster: 2.111304759979248\n",
      "\n",
      "Epoch [38/500]\t Loss: 8.59770933787028 \n",
      "\n",
      "Step [0/1]\t Computing features...\n",
      "Features shape (1714,)\n",
      "14\n",
      "Test NMI = 0.4774 ARI = 0.2358 F = 0.3560 ACC = 0.3781\n",
      "================================================================\n",
      "\n"
     ]
    },
    {
     "name": "stderr",
     "output_type": "stream",
     "text": [
      "C:\\Users\\Tom-G\\.conda\\envs\\torchenv\\lib\\site-packages\\torch\\nn\\modules\\container.py:141: UserWarning: Implicit dimension choice for softmax has been deprecated. Change the call to include dim=X as an argument.\n",
      "  input = module(input)\n"
     ]
    },
    {
     "name": "stdout",
     "output_type": "stream",
     "text": [
      "Step [0/3]\t loss_instance: 6.4902424812316895\t loss_cluster: 2.0643043518066406\n",
      "\n",
      "Epoch [39/500]\t Loss: 8.551016489664713 \n",
      "\n",
      "Step [0/1]\t Computing features...\n",
      "Features shape (1714,)\n",
      "14\n",
      "Test NMI = 0.4740 ARI = 0.2272 F = 0.3475 ACC = 0.3670\n",
      "================================================================\n",
      "\n"
     ]
    },
    {
     "name": "stderr",
     "output_type": "stream",
     "text": [
      "C:\\Users\\Tom-G\\.conda\\envs\\torchenv\\lib\\site-packages\\torch\\nn\\modules\\container.py:141: UserWarning: Implicit dimension choice for softmax has been deprecated. Change the call to include dim=X as an argument.\n",
      "  input = module(input)\n"
     ]
    },
    {
     "name": "stdout",
     "output_type": "stream",
     "text": [
      "Step [0/3]\t loss_instance: 6.48687219619751\t loss_cluster: 2.032360076904297\n",
      "\n",
      "Epoch [40/500]\t Loss: 8.510253270467123 \n",
      "\n",
      "Step [0/1]\t Computing features...\n",
      "Features shape (1714,)\n",
      "14\n",
      "Test NMI = 0.4713 ARI = 0.2276 F = 0.3479 ACC = 0.3711\n",
      "================================================================\n",
      "\n"
     ]
    },
    {
     "name": "stderr",
     "output_type": "stream",
     "text": [
      "C:\\Users\\Tom-G\\.conda\\envs\\torchenv\\lib\\site-packages\\torch\\nn\\modules\\container.py:141: UserWarning: Implicit dimension choice for softmax has been deprecated. Change the call to include dim=X as an argument.\n",
      "  input = module(input)\n"
     ]
    },
    {
     "name": "stdout",
     "output_type": "stream",
     "text": [
      "Step [0/3]\t loss_instance: 6.4800238609313965\t loss_cluster: 2.001361846923828\n",
      "\n",
      "Epoch [41/500]\t Loss: 8.472336451212565 \n",
      "\n",
      "Step [0/1]\t Computing features...\n",
      "Features shape (1714,)\n",
      "14\n",
      "Test NMI = 0.4699 ARI = 0.2204 F = 0.3408 ACC = 0.3536\n",
      "================================================================\n",
      "\n"
     ]
    },
    {
     "name": "stderr",
     "output_type": "stream",
     "text": [
      "C:\\Users\\Tom-G\\.conda\\envs\\torchenv\\lib\\site-packages\\torch\\nn\\modules\\container.py:141: UserWarning: Implicit dimension choice for softmax has been deprecated. Change the call to include dim=X as an argument.\n",
      "  input = module(input)\n"
     ]
    },
    {
     "name": "stdout",
     "output_type": "stream",
     "text": [
      "Step [0/3]\t loss_instance: 6.470112323760986\t loss_cluster: 1.9687200784683228\n",
      "\n",
      "Epoch [42/500]\t Loss: 8.428564071655273 \n",
      "\n",
      "Step [0/1]\t Computing features...\n",
      "Features shape (1714,)\n",
      "14\n",
      "Test NMI = 0.4703 ARI = 0.2185 F = 0.3387 ACC = 0.3448\n",
      "================================================================\n",
      "\n"
     ]
    },
    {
     "name": "stderr",
     "output_type": "stream",
     "text": [
      "C:\\Users\\Tom-G\\.conda\\envs\\torchenv\\lib\\site-packages\\torch\\nn\\modules\\container.py:141: UserWarning: Implicit dimension choice for softmax has been deprecated. Change the call to include dim=X as an argument.\n",
      "  input = module(input)\n"
     ]
    },
    {
     "name": "stdout",
     "output_type": "stream",
     "text": [
      "Step [0/3]\t loss_instance: 6.465782642364502\t loss_cluster: 1.9287660121917725\n",
      "\n",
      "Epoch [43/500]\t Loss: 8.392467180887857 \n",
      "\n",
      "Step [0/1]\t Computing features...\n",
      "Features shape (1714,)\n",
      "14\n",
      "Test NMI = 0.4698 ARI = 0.2186 F = 0.3390 ACC = 0.3582\n",
      "================================================================\n",
      "\n"
     ]
    },
    {
     "name": "stderr",
     "output_type": "stream",
     "text": [
      "C:\\Users\\Tom-G\\.conda\\envs\\torchenv\\lib\\site-packages\\torch\\nn\\modules\\container.py:141: UserWarning: Implicit dimension choice for softmax has been deprecated. Change the call to include dim=X as an argument.\n",
      "  input = module(input)\n"
     ]
    },
    {
     "name": "stdout",
     "output_type": "stream",
     "text": [
      "Step [0/3]\t loss_instance: 6.469550132751465\t loss_cluster: 1.8994169235229492\n",
      "\n",
      "Epoch [44/500]\t Loss: 8.361622174580893 \n",
      "\n",
      "Step [0/1]\t Computing features...\n",
      "Features shape (1714,)\n",
      "14\n",
      "Test NMI = 0.4688 ARI = 0.2156 F = 0.3360 ACC = 0.3419\n",
      "================================================================\n",
      "\n"
     ]
    },
    {
     "name": "stderr",
     "output_type": "stream",
     "text": [
      "C:\\Users\\Tom-G\\.conda\\envs\\torchenv\\lib\\site-packages\\torch\\nn\\modules\\container.py:141: UserWarning: Implicit dimension choice for softmax has been deprecated. Change the call to include dim=X as an argument.\n",
      "  input = module(input)\n"
     ]
    },
    {
     "name": "stdout",
     "output_type": "stream",
     "text": [
      "Step [0/3]\t loss_instance: 6.45552921295166\t loss_cluster: 1.8731892108917236\n",
      "\n",
      "Epoch [45/500]\t Loss: 8.322311083475748 \n",
      "\n",
      "Step [0/1]\t Computing features...\n",
      "Features shape (1714,)\n",
      "14\n",
      "Test NMI = 0.4655 ARI = 0.2110 F = 0.3315 ACC = 0.3366\n",
      "================================================================\n",
      "\n"
     ]
    },
    {
     "name": "stderr",
     "output_type": "stream",
     "text": [
      "C:\\Users\\Tom-G\\.conda\\envs\\torchenv\\lib\\site-packages\\torch\\nn\\modules\\container.py:141: UserWarning: Implicit dimension choice for softmax has been deprecated. Change the call to include dim=X as an argument.\n",
      "  input = module(input)\n"
     ]
    },
    {
     "name": "stdout",
     "output_type": "stream",
     "text": [
      "Step [0/3]\t loss_instance: 6.458926677703857\t loss_cluster: 1.8422478437423706\n",
      "\n",
      "Epoch [46/500]\t Loss: 8.291908582051596 \n",
      "\n",
      "Step [0/1]\t Computing features...\n",
      "Features shape (1714,)\n",
      "14\n",
      "Test NMI = 0.4683 ARI = 0.2107 F = 0.3312 ACC = 0.3436\n",
      "================================================================\n",
      "\n"
     ]
    },
    {
     "name": "stderr",
     "output_type": "stream",
     "text": [
      "C:\\Users\\Tom-G\\.conda\\envs\\torchenv\\lib\\site-packages\\torch\\nn\\modules\\container.py:141: UserWarning: Implicit dimension choice for softmax has been deprecated. Change the call to include dim=X as an argument.\n",
      "  input = module(input)\n"
     ]
    },
    {
     "name": "stdout",
     "output_type": "stream",
     "text": [
      "Step [0/3]\t loss_instance: 6.45032262802124\t loss_cluster: 1.8204727172851562\n",
      "\n",
      "Epoch [47/500]\t Loss: 8.260270754496256 \n",
      "\n",
      "Step [0/1]\t Computing features...\n",
      "Features shape (1714,)\n",
      "14\n",
      "Test NMI = 0.4690 ARI = 0.2134 F = 0.3338 ACC = 0.3407\n",
      "================================================================\n",
      "\n"
     ]
    },
    {
     "name": "stderr",
     "output_type": "stream",
     "text": [
      "C:\\Users\\Tom-G\\.conda\\envs\\torchenv\\lib\\site-packages\\torch\\nn\\modules\\container.py:141: UserWarning: Implicit dimension choice for softmax has been deprecated. Change the call to include dim=X as an argument.\n",
      "  input = module(input)\n"
     ]
    },
    {
     "name": "stdout",
     "output_type": "stream",
     "text": [
      "Step [0/3]\t loss_instance: 6.442298412322998\t loss_cluster: 1.7961946725845337\n",
      "\n",
      "Epoch [48/500]\t Loss: 8.233274459838867 \n",
      "\n",
      "Step [0/1]\t Computing features...\n",
      "Features shape (1714,)\n",
      "14\n",
      "Test NMI = 0.4642 ARI = 0.2079 F = 0.3284 ACC = 0.3378\n",
      "================================================================\n",
      "\n"
     ]
    },
    {
     "name": "stderr",
     "output_type": "stream",
     "text": [
      "C:\\Users\\Tom-G\\.conda\\envs\\torchenv\\lib\\site-packages\\torch\\nn\\modules\\container.py:141: UserWarning: Implicit dimension choice for softmax has been deprecated. Change the call to include dim=X as an argument.\n",
      "  input = module(input)\n"
     ]
    },
    {
     "name": "stdout",
     "output_type": "stream",
     "text": [
      "Step [0/3]\t loss_instance: 6.440739154815674\t loss_cluster: 1.7745882272720337\n",
      "\n",
      "Epoch [49/500]\t Loss: 8.206064860026041 \n",
      "\n",
      "Step [0/1]\t Computing features...\n",
      "Features shape (1714,)\n",
      "14\n",
      "Test NMI = 0.4629 ARI = 0.2106 F = 0.3310 ACC = 0.3407\n",
      "================================================================\n",
      "\n"
     ]
    },
    {
     "name": "stderr",
     "output_type": "stream",
     "text": [
      "C:\\Users\\Tom-G\\.conda\\envs\\torchenv\\lib\\site-packages\\torch\\nn\\modules\\container.py:141: UserWarning: Implicit dimension choice for softmax has been deprecated. Change the call to include dim=X as an argument.\n",
      "  input = module(input)\n"
     ]
    },
    {
     "name": "stdout",
     "output_type": "stream",
     "text": [
      "Step [0/3]\t loss_instance: 6.437754154205322\t loss_cluster: 1.7619762420654297\n",
      "\n",
      "Epoch [50/500]\t Loss: 8.187321980794271 \n",
      "\n",
      "Step [0/1]\t Computing features...\n",
      "Features shape (1714,)\n",
      "14\n",
      "Test NMI = 0.4653 ARI = 0.2140 F = 0.3344 ACC = 0.3425\n",
      "================================================================\n",
      "\n"
     ]
    },
    {
     "name": "stderr",
     "output_type": "stream",
     "text": [
      "C:\\Users\\Tom-G\\.conda\\envs\\torchenv\\lib\\site-packages\\torch\\nn\\modules\\container.py:141: UserWarning: Implicit dimension choice for softmax has been deprecated. Change the call to include dim=X as an argument.\n",
      "  input = module(input)\n"
     ]
    },
    {
     "name": "stdout",
     "output_type": "stream",
     "text": [
      "Step [0/3]\t loss_instance: 6.439340591430664\t loss_cluster: 1.7268261909484863\n",
      "\n",
      "Epoch [51/500]\t Loss: 8.167662938435873 \n",
      "\n",
      "Step [0/1]\t Computing features...\n",
      "Features shape (1714,)\n",
      "14\n",
      "Test NMI = 0.4689 ARI = 0.2154 F = 0.3358 ACC = 0.3495\n",
      "================================================================\n",
      "\n"
     ]
    },
    {
     "name": "stderr",
     "output_type": "stream",
     "text": [
      "C:\\Users\\Tom-G\\.conda\\envs\\torchenv\\lib\\site-packages\\torch\\nn\\modules\\container.py:141: UserWarning: Implicit dimension choice for softmax has been deprecated. Change the call to include dim=X as an argument.\n",
      "  input = module(input)\n"
     ]
    },
    {
     "name": "stdout",
     "output_type": "stream",
     "text": [
      "Step [0/3]\t loss_instance: 6.427540302276611\t loss_cluster: 1.7131544351577759\n",
      "\n",
      "Epoch [52/500]\t Loss: 8.140472094217936 \n",
      "\n",
      "Step [0/1]\t Computing features...\n",
      "Features shape (1714,)\n",
      "14\n",
      "Test NMI = 0.4591 ARI = 0.2084 F = 0.3289 ACC = 0.3331\n",
      "================================================================\n",
      "\n"
     ]
    },
    {
     "name": "stderr",
     "output_type": "stream",
     "text": [
      "C:\\Users\\Tom-G\\.conda\\envs\\torchenv\\lib\\site-packages\\torch\\nn\\modules\\container.py:141: UserWarning: Implicit dimension choice for softmax has been deprecated. Change the call to include dim=X as an argument.\n",
      "  input = module(input)\n"
     ]
    },
    {
     "name": "stdout",
     "output_type": "stream",
     "text": [
      "Step [0/3]\t loss_instance: 6.422802448272705\t loss_cluster: 1.6995279788970947\n",
      "\n",
      "Epoch [53/500]\t Loss: 8.120608965555826 \n",
      "\n",
      "Step [0/1]\t Computing features...\n",
      "Features shape (1714,)\n",
      "14\n",
      "Test NMI = 0.4588 ARI = 0.2091 F = 0.3296 ACC = 0.3466\n",
      "================================================================\n",
      "\n"
     ]
    },
    {
     "name": "stderr",
     "output_type": "stream",
     "text": [
      "C:\\Users\\Tom-G\\.conda\\envs\\torchenv\\lib\\site-packages\\torch\\nn\\modules\\container.py:141: UserWarning: Implicit dimension choice for softmax has been deprecated. Change the call to include dim=X as an argument.\n",
      "  input = module(input)\n"
     ]
    },
    {
     "name": "stdout",
     "output_type": "stream",
     "text": [
      "Step [0/3]\t loss_instance: 6.428864479064941\t loss_cluster: 1.6778314113616943\n",
      "\n",
      "Epoch [54/500]\t Loss: 8.106592496236166 \n",
      "\n",
      "Step [0/1]\t Computing features...\n",
      "Features shape (1714,)\n",
      "14\n",
      "Test NMI = 0.4606 ARI = 0.2153 F = 0.3357 ACC = 0.3530\n",
      "================================================================\n",
      "\n"
     ]
    },
    {
     "name": "stderr",
     "output_type": "stream",
     "text": [
      "C:\\Users\\Tom-G\\.conda\\envs\\torchenv\\lib\\site-packages\\torch\\nn\\modules\\container.py:141: UserWarning: Implicit dimension choice for softmax has been deprecated. Change the call to include dim=X as an argument.\n",
      "  input = module(input)\n"
     ]
    },
    {
     "name": "stdout",
     "output_type": "stream",
     "text": [
      "Step [0/3]\t loss_instance: 6.422461986541748\t loss_cluster: 1.6752897500991821\n",
      "\n",
      "Epoch [55/500]\t Loss: 8.094646453857422 \n",
      "\n",
      "Step [0/1]\t Computing features...\n",
      "Features shape (1714,)\n",
      "14\n",
      "Test NMI = 0.4596 ARI = 0.2120 F = 0.3325 ACC = 0.3477\n",
      "================================================================\n",
      "\n"
     ]
    },
    {
     "name": "stderr",
     "output_type": "stream",
     "text": [
      "C:\\Users\\Tom-G\\.conda\\envs\\torchenv\\lib\\site-packages\\torch\\nn\\modules\\container.py:141: UserWarning: Implicit dimension choice for softmax has been deprecated. Change the call to include dim=X as an argument.\n",
      "  input = module(input)\n"
     ]
    },
    {
     "name": "stdout",
     "output_type": "stream",
     "text": [
      "Step [0/3]\t loss_instance: 6.411567211151123\t loss_cluster: 1.6708184480667114\n",
      "\n",
      "Epoch [56/500]\t Loss: 8.078630129496256 \n",
      "\n",
      "Step [0/1]\t Computing features...\n",
      "Features shape (1714,)\n",
      "14\n",
      "Test NMI = 0.4585 ARI = 0.2117 F = 0.3322 ACC = 0.3506\n",
      "================================================================\n",
      "\n"
     ]
    },
    {
     "name": "stderr",
     "output_type": "stream",
     "text": [
      "C:\\Users\\Tom-G\\.conda\\envs\\torchenv\\lib\\site-packages\\torch\\nn\\modules\\container.py:141: UserWarning: Implicit dimension choice for softmax has been deprecated. Change the call to include dim=X as an argument.\n",
      "  input = module(input)\n"
     ]
    },
    {
     "name": "stdout",
     "output_type": "stream",
     "text": [
      "Step [0/3]\t loss_instance: 6.415464401245117\t loss_cluster: 1.6487418413162231\n",
      "\n",
      "Epoch [57/500]\t Loss: 8.064990361531576 \n",
      "\n",
      "Step [0/1]\t Computing features...\n",
      "Features shape (1714,)\n",
      "14\n",
      "Test NMI = 0.4609 ARI = 0.2142 F = 0.3347 ACC = 0.3536\n",
      "================================================================\n",
      "\n"
     ]
    },
    {
     "name": "stderr",
     "output_type": "stream",
     "text": [
      "C:\\Users\\Tom-G\\.conda\\envs\\torchenv\\lib\\site-packages\\torch\\nn\\modules\\container.py:141: UserWarning: Implicit dimension choice for softmax has been deprecated. Change the call to include dim=X as an argument.\n",
      "  input = module(input)\n"
     ]
    },
    {
     "name": "stdout",
     "output_type": "stream",
     "text": [
      "Step [0/3]\t loss_instance: 6.415055274963379\t loss_cluster: 1.6440002918243408\n",
      "\n",
      "Epoch [58/500]\t Loss: 8.058220863342285 \n",
      "\n",
      "Step [0/1]\t Computing features...\n",
      "Features shape (1714,)\n",
      "14\n",
      "Test NMI = 0.4554 ARI = 0.2069 F = 0.3274 ACC = 0.3407\n",
      "================================================================\n",
      "\n"
     ]
    },
    {
     "name": "stderr",
     "output_type": "stream",
     "text": [
      "C:\\Users\\Tom-G\\.conda\\envs\\torchenv\\lib\\site-packages\\torch\\nn\\modules\\container.py:141: UserWarning: Implicit dimension choice for softmax has been deprecated. Change the call to include dim=X as an argument.\n",
      "  input = module(input)\n"
     ]
    },
    {
     "name": "stdout",
     "output_type": "stream",
     "text": [
      "Step [0/3]\t loss_instance: 6.401360988616943\t loss_cluster: 1.6506106853485107\n",
      "\n",
      "Epoch [59/500]\t Loss: 8.051766077677408 \n",
      "\n",
      "Step [0/1]\t Computing features...\n",
      "Features shape (1714,)\n",
      "14\n",
      "Test NMI = 0.4613 ARI = 0.2154 F = 0.3359 ACC = 0.3559\n",
      "================================================================\n",
      "\n"
     ]
    },
    {
     "name": "stderr",
     "output_type": "stream",
     "text": [
      "C:\\Users\\Tom-G\\.conda\\envs\\torchenv\\lib\\site-packages\\torch\\nn\\modules\\container.py:141: UserWarning: Implicit dimension choice for softmax has been deprecated. Change the call to include dim=X as an argument.\n",
      "  input = module(input)\n"
     ]
    },
    {
     "name": "stdout",
     "output_type": "stream",
     "text": [
      "Step [0/3]\t loss_instance: 6.41133451461792\t loss_cluster: 1.633429765701294\n",
      "\n",
      "Epoch [60/500]\t Loss: 8.042781194051107 \n",
      "\n",
      "Step [0/1]\t Computing features...\n",
      "Features shape (1714,)\n",
      "14\n",
      "Test NMI = 0.4600 ARI = 0.2128 F = 0.3334 ACC = 0.3518\n",
      "================================================================\n",
      "\n"
     ]
    },
    {
     "name": "stderr",
     "output_type": "stream",
     "text": [
      "C:\\Users\\Tom-G\\.conda\\envs\\torchenv\\lib\\site-packages\\torch\\nn\\modules\\container.py:141: UserWarning: Implicit dimension choice for softmax has been deprecated. Change the call to include dim=X as an argument.\n",
      "  input = module(input)\n"
     ]
    },
    {
     "name": "stdout",
     "output_type": "stream",
     "text": [
      "Step [0/3]\t loss_instance: 6.397369384765625\t loss_cluster: 1.6267292499542236\n",
      "\n",
      "Epoch [61/500]\t Loss: 8.025902112325033 \n",
      "\n",
      "Step [0/1]\t Computing features...\n",
      "Features shape (1714,)\n",
      "14\n",
      "Test NMI = 0.4555 ARI = 0.2082 F = 0.3288 ACC = 0.3419\n",
      "================================================================\n",
      "\n"
     ]
    },
    {
     "name": "stderr",
     "output_type": "stream",
     "text": [
      "C:\\Users\\Tom-G\\.conda\\envs\\torchenv\\lib\\site-packages\\torch\\nn\\modules\\container.py:141: UserWarning: Implicit dimension choice for softmax has been deprecated. Change the call to include dim=X as an argument.\n",
      "  input = module(input)\n"
     ]
    },
    {
     "name": "stdout",
     "output_type": "stream",
     "text": [
      "Step [0/3]\t loss_instance: 6.406062602996826\t loss_cluster: 1.6176806688308716\n",
      "\n",
      "Epoch [62/500]\t Loss: 8.026753107706705 \n",
      "\n",
      "Step [0/1]\t Computing features...\n",
      "Features shape (1714,)\n",
      "14\n",
      "Test NMI = 0.4631 ARI = 0.2156 F = 0.3362 ACC = 0.3571\n",
      "================================================================\n",
      "\n"
     ]
    },
    {
     "name": "stderr",
     "output_type": "stream",
     "text": [
      "C:\\Users\\Tom-G\\.conda\\envs\\torchenv\\lib\\site-packages\\torch\\nn\\modules\\container.py:141: UserWarning: Implicit dimension choice for softmax has been deprecated. Change the call to include dim=X as an argument.\n",
      "  input = module(input)\n"
     ]
    },
    {
     "name": "stdout",
     "output_type": "stream",
     "text": [
      "Step [0/3]\t loss_instance: 6.393877983093262\t loss_cluster: 1.6180338859558105\n",
      "\n",
      "Epoch [63/500]\t Loss: 8.008475621541342 \n",
      "\n",
      "Step [0/1]\t Computing features...\n",
      "Features shape (1714,)\n",
      "14\n",
      "Test NMI = 0.4594 ARI = 0.2110 F = 0.3315 ACC = 0.3501\n",
      "================================================================\n",
      "\n"
     ]
    },
    {
     "name": "stderr",
     "output_type": "stream",
     "text": [
      "C:\\Users\\Tom-G\\.conda\\envs\\torchenv\\lib\\site-packages\\torch\\nn\\modules\\container.py:141: UserWarning: Implicit dimension choice for softmax has been deprecated. Change the call to include dim=X as an argument.\n",
      "  input = module(input)\n"
     ]
    },
    {
     "name": "stdout",
     "output_type": "stream",
     "text": [
      "Step [0/3]\t loss_instance: 6.392161846160889\t loss_cluster: 1.6171348094940186\n",
      "\n",
      "Epoch [64/500]\t Loss: 8.005949974060059 \n",
      "\n",
      "Step [0/1]\t Computing features...\n",
      "Features shape (1714,)\n",
      "14\n",
      "Test NMI = 0.4584 ARI = 0.2092 F = 0.3298 ACC = 0.3419\n",
      "================================================================\n",
      "\n"
     ]
    },
    {
     "name": "stderr",
     "output_type": "stream",
     "text": [
      "C:\\Users\\Tom-G\\.conda\\envs\\torchenv\\lib\\site-packages\\torch\\nn\\modules\\container.py:141: UserWarning: Implicit dimension choice for softmax has been deprecated. Change the call to include dim=X as an argument.\n",
      "  input = module(input)\n"
     ]
    },
    {
     "name": "stdout",
     "output_type": "stream",
     "text": [
      "Step [0/3]\t loss_instance: 6.383903980255127\t loss_cluster: 1.6184769868850708\n",
      "\n",
      "Epoch [65/500]\t Loss: 7.998434225718181 \n",
      "\n",
      "Step [0/1]\t Computing features...\n",
      "Features shape (1714,)\n",
      "14\n",
      "Test NMI = 0.4534 ARI = 0.2048 F = 0.3254 ACC = 0.3390\n",
      "================================================================\n",
      "\n"
     ]
    },
    {
     "name": "stderr",
     "output_type": "stream",
     "text": [
      "C:\\Users\\Tom-G\\.conda\\envs\\torchenv\\lib\\site-packages\\torch\\nn\\modules\\container.py:141: UserWarning: Implicit dimension choice for softmax has been deprecated. Change the call to include dim=X as an argument.\n",
      "  input = module(input)\n"
     ]
    },
    {
     "name": "stdout",
     "output_type": "stream",
     "text": [
      "Step [0/3]\t loss_instance: 6.381115913391113\t loss_cluster: 1.6092579364776611\n",
      "\n",
      "Epoch [66/500]\t Loss: 7.990001678466797 \n",
      "\n",
      "Step [0/1]\t Computing features...\n",
      "Features shape (1714,)\n",
      "14\n",
      "Test NMI = 0.4561 ARI = 0.2091 F = 0.3297 ACC = 0.3477\n",
      "================================================================\n",
      "\n"
     ]
    },
    {
     "name": "stderr",
     "output_type": "stream",
     "text": [
      "C:\\Users\\Tom-G\\.conda\\envs\\torchenv\\lib\\site-packages\\torch\\nn\\modules\\container.py:141: UserWarning: Implicit dimension choice for softmax has been deprecated. Change the call to include dim=X as an argument.\n",
      "  input = module(input)\n"
     ]
    },
    {
     "name": "stdout",
     "output_type": "stream",
     "text": [
      "Step [0/3]\t loss_instance: 6.3786702156066895\t loss_cluster: 1.6128419637680054\n",
      "\n",
      "Epoch [67/500]\t Loss: 7.985882759094238 \n",
      "\n",
      "Step [0/1]\t Computing features...\n",
      "Features shape (1714,)\n",
      "14\n",
      "Test NMI = 0.4499 ARI = 0.2037 F = 0.3243 ACC = 0.3413\n",
      "================================================================\n",
      "\n"
     ]
    },
    {
     "name": "stderr",
     "output_type": "stream",
     "text": [
      "C:\\Users\\Tom-G\\.conda\\envs\\torchenv\\lib\\site-packages\\torch\\nn\\modules\\container.py:141: UserWarning: Implicit dimension choice for softmax has been deprecated. Change the call to include dim=X as an argument.\n",
      "  input = module(input)\n"
     ]
    },
    {
     "name": "stdout",
     "output_type": "stream",
     "text": [
      "Step [0/3]\t loss_instance: 6.37822961807251\t loss_cluster: 1.6064374446868896\n",
      "\n",
      "Epoch [68/500]\t Loss: 7.9783603350321455 \n",
      "\n",
      "Step [0/1]\t Computing features...\n",
      "Features shape (1714,)\n",
      "14\n",
      "Test NMI = 0.4508 ARI = 0.2041 F = 0.3247 ACC = 0.3413\n",
      "================================================================\n",
      "\n"
     ]
    },
    {
     "name": "stderr",
     "output_type": "stream",
     "text": [
      "C:\\Users\\Tom-G\\.conda\\envs\\torchenv\\lib\\site-packages\\torch\\nn\\modules\\container.py:141: UserWarning: Implicit dimension choice for softmax has been deprecated. Change the call to include dim=X as an argument.\n",
      "  input = module(input)\n"
     ]
    },
    {
     "name": "stdout",
     "output_type": "stream",
     "text": [
      "Step [0/3]\t loss_instance: 6.372365474700928\t loss_cluster: 1.5972954034805298\n",
      "\n",
      "Epoch [69/500]\t Loss: 7.9704664548238116 \n",
      "\n",
      "Step [0/1]\t Computing features...\n",
      "Features shape (1714,)\n",
      "14\n",
      "Test NMI = 0.4473 ARI = 0.2012 F = 0.3218 ACC = 0.3384\n",
      "================================================================\n",
      "\n"
     ]
    },
    {
     "name": "stderr",
     "output_type": "stream",
     "text": [
      "C:\\Users\\Tom-G\\.conda\\envs\\torchenv\\lib\\site-packages\\torch\\nn\\modules\\container.py:141: UserWarning: Implicit dimension choice for softmax has been deprecated. Change the call to include dim=X as an argument.\n",
      "  input = module(input)\n"
     ]
    },
    {
     "name": "stdout",
     "output_type": "stream",
     "text": [
      "Step [0/3]\t loss_instance: 6.365616321563721\t loss_cluster: 1.6074802875518799\n",
      "\n",
      "Epoch [70/500]\t Loss: 7.967050711313884 \n",
      "\n",
      "Step [0/1]\t Computing features...\n",
      "Features shape (1714,)\n",
      "14\n",
      "Test NMI = 0.4466 ARI = 0.1989 F = 0.3195 ACC = 0.3331\n",
      "================================================================\n",
      "\n"
     ]
    },
    {
     "name": "stderr",
     "output_type": "stream",
     "text": [
      "C:\\Users\\Tom-G\\.conda\\envs\\torchenv\\lib\\site-packages\\torch\\nn\\modules\\container.py:141: UserWarning: Implicit dimension choice for softmax has been deprecated. Change the call to include dim=X as an argument.\n",
      "  input = module(input)\n"
     ]
    },
    {
     "name": "stdout",
     "output_type": "stream",
     "text": [
      "Step [0/3]\t loss_instance: 6.363743305206299\t loss_cluster: 1.6049607992172241\n",
      "\n",
      "Epoch [71/500]\t Loss: 7.965998649597168 \n",
      "\n",
      "Step [0/1]\t Computing features...\n",
      "Features shape (1714,)\n",
      "14\n",
      "Test NMI = 0.4451 ARI = 0.1991 F = 0.3197 ACC = 0.3361\n",
      "================================================================\n",
      "\n"
     ]
    },
    {
     "name": "stderr",
     "output_type": "stream",
     "text": [
      "C:\\Users\\Tom-G\\.conda\\envs\\torchenv\\lib\\site-packages\\torch\\nn\\modules\\container.py:141: UserWarning: Implicit dimension choice for softmax has been deprecated. Change the call to include dim=X as an argument.\n",
      "  input = module(input)\n"
     ]
    },
    {
     "name": "stdout",
     "output_type": "stream",
     "text": [
      "Step [0/3]\t loss_instance: 6.363248825073242\t loss_cluster: 1.593764305114746\n",
      "\n",
      "Epoch [72/500]\t Loss: 7.954272905985515 \n",
      "\n",
      "Step [0/1]\t Computing features...\n",
      "Features shape (1714,)\n",
      "14\n",
      "Test NMI = 0.4461 ARI = 0.1983 F = 0.3188 ACC = 0.3384\n",
      "================================================================\n",
      "\n"
     ]
    },
    {
     "name": "stderr",
     "output_type": "stream",
     "text": [
      "C:\\Users\\Tom-G\\.conda\\envs\\torchenv\\lib\\site-packages\\torch\\nn\\modules\\container.py:141: UserWarning: Implicit dimension choice for softmax has been deprecated. Change the call to include dim=X as an argument.\n",
      "  input = module(input)\n"
     ]
    },
    {
     "name": "stdout",
     "output_type": "stream",
     "text": [
      "Step [0/3]\t loss_instance: 6.358094215393066\t loss_cluster: 1.5985146760940552\n",
      "\n",
      "Epoch [73/500]\t Loss: 7.957623640696208 \n",
      "\n",
      "Step [0/1]\t Computing features...\n",
      "Features shape (1714,)\n",
      "14\n",
      "Test NMI = 0.4410 ARI = 0.1958 F = 0.3164 ACC = 0.3372\n",
      "================================================================\n",
      "\n"
     ]
    },
    {
     "name": "stderr",
     "output_type": "stream",
     "text": [
      "C:\\Users\\Tom-G\\.conda\\envs\\torchenv\\lib\\site-packages\\torch\\nn\\modules\\container.py:141: UserWarning: Implicit dimension choice for softmax has been deprecated. Change the call to include dim=X as an argument.\n",
      "  input = module(input)\n"
     ]
    },
    {
     "name": "stdout",
     "output_type": "stream",
     "text": [
      "Step [0/3]\t loss_instance: 6.356331825256348\t loss_cluster: 1.590894341468811\n",
      "\n",
      "Epoch [74/500]\t Loss: 7.946243127187093 \n",
      "\n",
      "Step [0/1]\t Computing features...\n",
      "Features shape (1714,)\n",
      "14\n",
      "Test NMI = 0.4413 ARI = 0.1944 F = 0.3149 ACC = 0.3337\n",
      "================================================================\n",
      "\n"
     ]
    },
    {
     "name": "stderr",
     "output_type": "stream",
     "text": [
      "C:\\Users\\Tom-G\\.conda\\envs\\torchenv\\lib\\site-packages\\torch\\nn\\modules\\container.py:141: UserWarning: Implicit dimension choice for softmax has been deprecated. Change the call to include dim=X as an argument.\n",
      "  input = module(input)\n"
     ]
    },
    {
     "name": "stdout",
     "output_type": "stream",
     "text": [
      "Step [0/3]\t loss_instance: 6.355705738067627\t loss_cluster: 1.5855580568313599\n",
      "\n",
      "Epoch [75/500]\t Loss: 7.941686789194743 \n",
      "\n",
      "Step [0/1]\t Computing features...\n",
      "Features shape (1714,)\n",
      "14\n",
      "Test NMI = 0.4435 ARI = 0.1966 F = 0.3172 ACC = 0.3314\n",
      "================================================================\n",
      "\n"
     ]
    },
    {
     "name": "stderr",
     "output_type": "stream",
     "text": [
      "C:\\Users\\Tom-G\\.conda\\envs\\torchenv\\lib\\site-packages\\torch\\nn\\modules\\container.py:141: UserWarning: Implicit dimension choice for softmax has been deprecated. Change the call to include dim=X as an argument.\n",
      "  input = module(input)\n"
     ]
    },
    {
     "name": "stdout",
     "output_type": "stream",
     "text": [
      "Step [0/3]\t loss_instance: 6.35482120513916\t loss_cluster: 1.5848770141601562\n",
      "\n",
      "Epoch [76/500]\t Loss: 7.9386887550354 \n",
      "\n",
      "Step [0/1]\t Computing features...\n",
      "Features shape (1714,)\n",
      "14\n",
      "Test NMI = 0.4441 ARI = 0.1956 F = 0.3162 ACC = 0.3296\n",
      "================================================================\n",
      "\n"
     ]
    },
    {
     "name": "stderr",
     "output_type": "stream",
     "text": [
      "C:\\Users\\Tom-G\\.conda\\envs\\torchenv\\lib\\site-packages\\torch\\nn\\modules\\container.py:141: UserWarning: Implicit dimension choice for softmax has been deprecated. Change the call to include dim=X as an argument.\n",
      "  input = module(input)\n"
     ]
    },
    {
     "name": "stdout",
     "output_type": "stream",
     "text": [
      "Step [0/3]\t loss_instance: 6.348219394683838\t loss_cluster: 1.5877286195755005\n",
      "\n",
      "Epoch [77/500]\t Loss: 7.93522850672404 \n",
      "\n",
      "Step [0/1]\t Computing features...\n",
      "Features shape (1714,)\n",
      "14\n",
      "Test NMI = 0.4363 ARI = 0.1909 F = 0.3114 ACC = 0.3279\n",
      "================================================================\n",
      "\n"
     ]
    },
    {
     "name": "stderr",
     "output_type": "stream",
     "text": [
      "C:\\Users\\Tom-G\\.conda\\envs\\torchenv\\lib\\site-packages\\torch\\nn\\modules\\container.py:141: UserWarning: Implicit dimension choice for softmax has been deprecated. Change the call to include dim=X as an argument.\n",
      "  input = module(input)\n"
     ]
    },
    {
     "name": "stdout",
     "output_type": "stream",
     "text": [
      "Step [0/3]\t loss_instance: 6.353872299194336\t loss_cluster: 1.5808370113372803\n",
      "\n",
      "Epoch [78/500]\t Loss: 7.9326713879903155 \n",
      "\n",
      "Step [0/1]\t Computing features...\n",
      "Features shape (1714,)\n",
      "14\n",
      "Test NMI = 0.4373 ARI = 0.1930 F = 0.3135 ACC = 0.3326\n",
      "================================================================\n",
      "\n"
     ]
    },
    {
     "name": "stderr",
     "output_type": "stream",
     "text": [
      "C:\\Users\\Tom-G\\.conda\\envs\\torchenv\\lib\\site-packages\\torch\\nn\\modules\\container.py:141: UserWarning: Implicit dimension choice for softmax has been deprecated. Change the call to include dim=X as an argument.\n",
      "  input = module(input)\n"
     ]
    },
    {
     "name": "stdout",
     "output_type": "stream",
     "text": [
      "Step [0/3]\t loss_instance: 6.352901935577393\t loss_cluster: 1.5741318464279175\n",
      "\n",
      "Epoch [79/500]\t Loss: 7.927002906799316 \n",
      "\n",
      "Step [0/1]\t Computing features...\n",
      "Features shape (1714,)\n",
      "14\n",
      "Test NMI = 0.4357 ARI = 0.1905 F = 0.3110 ACC = 0.3285\n",
      "================================================================\n",
      "\n"
     ]
    },
    {
     "name": "stderr",
     "output_type": "stream",
     "text": [
      "C:\\Users\\Tom-G\\.conda\\envs\\torchenv\\lib\\site-packages\\torch\\nn\\modules\\container.py:141: UserWarning: Implicit dimension choice for softmax has been deprecated. Change the call to include dim=X as an argument.\n",
      "  input = module(input)\n"
     ]
    },
    {
     "name": "stdout",
     "output_type": "stream",
     "text": [
      "Step [0/3]\t loss_instance: 6.3468217849731445\t loss_cluster: 1.5791929960250854\n",
      "\n",
      "Epoch [80/500]\t Loss: 7.923372904459636 \n",
      "\n",
      "Step [0/1]\t Computing features...\n",
      "Features shape (1714,)\n",
      "14\n",
      "Test NMI = 0.4329 ARI = 0.1872 F = 0.3077 ACC = 0.3215\n",
      "================================================================\n",
      "\n"
     ]
    },
    {
     "name": "stderr",
     "output_type": "stream",
     "text": [
      "C:\\Users\\Tom-G\\.conda\\envs\\torchenv\\lib\\site-packages\\torch\\nn\\modules\\container.py:141: UserWarning: Implicit dimension choice for softmax has been deprecated. Change the call to include dim=X as an argument.\n",
      "  input = module(input)\n"
     ]
    },
    {
     "name": "stdout",
     "output_type": "stream",
     "text": [
      "Step [0/3]\t loss_instance: 6.33627462387085\t loss_cluster: 1.5849395990371704\n",
      "\n",
      "Epoch [81/500]\t Loss: 7.920345624287923 \n",
      "\n",
      "Step [0/1]\t Computing features...\n",
      "Features shape (1714,)\n",
      "14\n",
      "Test NMI = 0.4347 ARI = 0.1894 F = 0.3098 ACC = 0.3267\n",
      "================================================================\n",
      "\n"
     ]
    },
    {
     "name": "stderr",
     "output_type": "stream",
     "text": [
      "C:\\Users\\Tom-G\\.conda\\envs\\torchenv\\lib\\site-packages\\torch\\nn\\modules\\container.py:141: UserWarning: Implicit dimension choice for softmax has been deprecated. Change the call to include dim=X as an argument.\n",
      "  input = module(input)\n"
     ]
    },
    {
     "name": "stdout",
     "output_type": "stream",
     "text": [
      "Step [0/3]\t loss_instance: 6.343567371368408\t loss_cluster: 1.5746856927871704\n",
      "\n",
      "Epoch [82/500]\t Loss: 7.919174830118815 \n",
      "\n",
      "Step [0/1]\t Computing features...\n",
      "Features shape (1714,)\n",
      "14\n",
      "Test NMI = 0.4354 ARI = 0.1887 F = 0.3092 ACC = 0.3267\n",
      "================================================================\n",
      "\n"
     ]
    },
    {
     "name": "stderr",
     "output_type": "stream",
     "text": [
      "C:\\Users\\Tom-G\\.conda\\envs\\torchenv\\lib\\site-packages\\torch\\nn\\modules\\container.py:141: UserWarning: Implicit dimension choice for softmax has been deprecated. Change the call to include dim=X as an argument.\n",
      "  input = module(input)\n"
     ]
    },
    {
     "name": "stdout",
     "output_type": "stream",
     "text": [
      "Step [0/3]\t loss_instance: 6.341717720031738\t loss_cluster: 1.5771714448928833\n",
      "\n",
      "Epoch [83/500]\t Loss: 7.91825517018636 \n",
      "\n",
      "Step [0/1]\t Computing features...\n",
      "Features shape (1714,)\n",
      "14\n",
      "Test NMI = 0.4330 ARI = 0.1866 F = 0.3071 ACC = 0.3191\n",
      "================================================================\n",
      "\n"
     ]
    },
    {
     "name": "stderr",
     "output_type": "stream",
     "text": [
      "C:\\Users\\Tom-G\\.conda\\envs\\torchenv\\lib\\site-packages\\torch\\nn\\modules\\container.py:141: UserWarning: Implicit dimension choice for softmax has been deprecated. Change the call to include dim=X as an argument.\n",
      "  input = module(input)\n"
     ]
    },
    {
     "name": "stdout",
     "output_type": "stream",
     "text": [
      "Step [0/3]\t loss_instance: 6.337597370147705\t loss_cluster: 1.5729737281799316\n",
      "\n",
      "Epoch [84/500]\t Loss: 7.908551375071208 \n",
      "\n",
      "Step [0/1]\t Computing features...\n",
      "Features shape (1714,)\n",
      "14\n",
      "Test NMI = 0.4326 ARI = 0.1860 F = 0.3065 ACC = 0.3221\n",
      "================================================================\n",
      "\n"
     ]
    },
    {
     "name": "stderr",
     "output_type": "stream",
     "text": [
      "C:\\Users\\Tom-G\\.conda\\envs\\torchenv\\lib\\site-packages\\torch\\nn\\modules\\container.py:141: UserWarning: Implicit dimension choice for softmax has been deprecated. Change the call to include dim=X as an argument.\n",
      "  input = module(input)\n"
     ]
    },
    {
     "name": "stdout",
     "output_type": "stream",
     "text": [
      "Step [0/3]\t loss_instance: 6.3351731300354\t loss_cluster: 1.5768705606460571\n",
      "\n",
      "Epoch [85/500]\t Loss: 7.906789143880208 \n",
      "\n",
      "Step [0/1]\t Computing features...\n",
      "Features shape (1714,)\n",
      "14\n",
      "Test NMI = 0.4373 ARI = 0.1915 F = 0.3120 ACC = 0.3302\n",
      "================================================================\n",
      "\n"
     ]
    },
    {
     "name": "stderr",
     "output_type": "stream",
     "text": [
      "C:\\Users\\Tom-G\\.conda\\envs\\torchenv\\lib\\site-packages\\torch\\nn\\modules\\container.py:141: UserWarning: Implicit dimension choice for softmax has been deprecated. Change the call to include dim=X as an argument.\n",
      "  input = module(input)\n"
     ]
    },
    {
     "name": "stdout",
     "output_type": "stream",
     "text": [
      "Step [0/3]\t loss_instance: 6.339439392089844\t loss_cluster: 1.5746115446090698\n",
      "\n",
      "Epoch [86/500]\t Loss: 7.909486770629883 \n",
      "\n",
      "Step [0/1]\t Computing features...\n",
      "Features shape (1714,)\n",
      "14\n",
      "Test NMI = 0.4357 ARI = 0.1880 F = 0.3085 ACC = 0.3244\n",
      "================================================================\n",
      "\n"
     ]
    },
    {
     "name": "stderr",
     "output_type": "stream",
     "text": [
      "C:\\Users\\Tom-G\\.conda\\envs\\torchenv\\lib\\site-packages\\torch\\nn\\modules\\container.py:141: UserWarning: Implicit dimension choice for softmax has been deprecated. Change the call to include dim=X as an argument.\n",
      "  input = module(input)\n"
     ]
    },
    {
     "name": "stdout",
     "output_type": "stream",
     "text": [
      "Step [0/3]\t loss_instance: 6.327723503112793\t loss_cluster: 1.5731747150421143\n",
      "\n",
      "Epoch [87/500]\t Loss: 7.908482074737549 \n",
      "\n",
      "Step [0/1]\t Computing features...\n",
      "Features shape (1714,)\n",
      "14\n",
      "Test NMI = 0.4324 ARI = 0.1851 F = 0.3056 ACC = 0.3191\n",
      "================================================================\n",
      "\n"
     ]
    },
    {
     "name": "stderr",
     "output_type": "stream",
     "text": [
      "C:\\Users\\Tom-G\\.conda\\envs\\torchenv\\lib\\site-packages\\torch\\nn\\modules\\container.py:141: UserWarning: Implicit dimension choice for softmax has been deprecated. Change the call to include dim=X as an argument.\n",
      "  input = module(input)\n"
     ]
    },
    {
     "name": "stdout",
     "output_type": "stream",
     "text": [
      "Step [0/3]\t loss_instance: 6.332561016082764\t loss_cluster: 1.5668929815292358\n",
      "\n",
      "Epoch [88/500]\t Loss: 7.899201075236003 \n",
      "\n",
      "Step [0/1]\t Computing features...\n",
      "Features shape (1714,)\n",
      "14\n",
      "Test NMI = 0.4339 ARI = 0.1847 F = 0.3051 ACC = 0.3156\n",
      "================================================================\n",
      "\n"
     ]
    },
    {
     "name": "stderr",
     "output_type": "stream",
     "text": [
      "C:\\Users\\Tom-G\\.conda\\envs\\torchenv\\lib\\site-packages\\torch\\nn\\modules\\container.py:141: UserWarning: Implicit dimension choice for softmax has been deprecated. Change the call to include dim=X as an argument.\n",
      "  input = module(input)\n"
     ]
    },
    {
     "name": "stdout",
     "output_type": "stream",
     "text": [
      "Step [0/3]\t loss_instance: 6.336885452270508\t loss_cluster: 1.560570478439331\n",
      "\n",
      "Epoch [89/500]\t Loss: 7.898544947306315 \n",
      "\n",
      "Step [0/1]\t Computing features...\n",
      "Features shape (1714,)\n",
      "14\n",
      "Test NMI = 0.4324 ARI = 0.1860 F = 0.3065 ACC = 0.3244\n",
      "================================================================\n",
      "\n"
     ]
    },
    {
     "name": "stderr",
     "output_type": "stream",
     "text": [
      "C:\\Users\\Tom-G\\.conda\\envs\\torchenv\\lib\\site-packages\\torch\\nn\\modules\\container.py:141: UserWarning: Implicit dimension choice for softmax has been deprecated. Change the call to include dim=X as an argument.\n",
      "  input = module(input)\n"
     ]
    },
    {
     "name": "stdout",
     "output_type": "stream",
     "text": [
      "Step [0/3]\t loss_instance: 6.329968452453613\t loss_cluster: 1.5596520900726318\n",
      "\n",
      "Epoch [90/500]\t Loss: 7.896742343902588 \n",
      "\n",
      "Step [0/1]\t Computing features...\n",
      "Features shape (1714,)\n",
      "14\n",
      "Test NMI = 0.4332 ARI = 0.1864 F = 0.3069 ACC = 0.3209\n",
      "================================================================\n",
      "\n"
     ]
    },
    {
     "name": "stderr",
     "output_type": "stream",
     "text": [
      "C:\\Users\\Tom-G\\.conda\\envs\\torchenv\\lib\\site-packages\\torch\\nn\\modules\\container.py:141: UserWarning: Implicit dimension choice for softmax has been deprecated. Change the call to include dim=X as an argument.\n",
      "  input = module(input)\n"
     ]
    },
    {
     "name": "stdout",
     "output_type": "stream",
     "text": [
      "Step [0/3]\t loss_instance: 6.329960346221924\t loss_cluster: 1.5673073530197144\n",
      "\n",
      "Epoch [91/500]\t Loss: 7.892976442972819 \n",
      "\n",
      "Step [0/1]\t Computing features...\n",
      "Features shape (1714,)\n",
      "14\n",
      "Test NMI = 0.4347 ARI = 0.1892 F = 0.3096 ACC = 0.3250\n",
      "================================================================\n",
      "\n"
     ]
    },
    {
     "name": "stderr",
     "output_type": "stream",
     "text": [
      "C:\\Users\\Tom-G\\.conda\\envs\\torchenv\\lib\\site-packages\\torch\\nn\\modules\\container.py:141: UserWarning: Implicit dimension choice for softmax has been deprecated. Change the call to include dim=X as an argument.\n",
      "  input = module(input)\n"
     ]
    },
    {
     "name": "stdout",
     "output_type": "stream",
     "text": [
      "Step [0/3]\t loss_instance: 6.330598831176758\t loss_cluster: 1.5641905069351196\n",
      "\n",
      "Epoch [92/500]\t Loss: 7.8899186452229815 \n",
      "\n",
      "Step [0/1]\t Computing features...\n",
      "Features shape (1714,)\n",
      "14\n",
      "Test NMI = 0.4317 ARI = 0.1839 F = 0.3043 ACC = 0.3162\n",
      "================================================================\n",
      "\n"
     ]
    },
    {
     "name": "stderr",
     "output_type": "stream",
     "text": [
      "C:\\Users\\Tom-G\\.conda\\envs\\torchenv\\lib\\site-packages\\torch\\nn\\modules\\container.py:141: UserWarning: Implicit dimension choice for softmax has been deprecated. Change the call to include dim=X as an argument.\n",
      "  input = module(input)\n"
     ]
    },
    {
     "name": "stdout",
     "output_type": "stream",
     "text": [
      "Step [0/3]\t loss_instance: 6.3261308670043945\t loss_cluster: 1.563544511795044\n",
      "\n",
      "Epoch [93/500]\t Loss: 7.889295895894368 \n",
      "\n",
      "Step [0/1]\t Computing features...\n",
      "Features shape (1714,)\n",
      "14\n",
      "Test NMI = 0.4339 ARI = 0.1881 F = 0.3086 ACC = 0.3267\n",
      "================================================================\n",
      "\n"
     ]
    },
    {
     "name": "stderr",
     "output_type": "stream",
     "text": [
      "C:\\Users\\Tom-G\\.conda\\envs\\torchenv\\lib\\site-packages\\torch\\nn\\modules\\container.py:141: UserWarning: Implicit dimension choice for softmax has been deprecated. Change the call to include dim=X as an argument.\n",
      "  input = module(input)\n"
     ]
    },
    {
     "name": "stdout",
     "output_type": "stream",
     "text": [
      "Step [0/3]\t loss_instance: 6.327678203582764\t loss_cluster: 1.5595089197158813\n",
      "\n",
      "Epoch [94/500]\t Loss: 7.88738997777303 \n",
      "\n",
      "Step [0/1]\t Computing features...\n",
      "Features shape (1714,)\n",
      "14\n",
      "Test NMI = 0.4350 ARI = 0.1894 F = 0.3099 ACC = 0.3279\n",
      "================================================================\n",
      "\n"
     ]
    },
    {
     "name": "stderr",
     "output_type": "stream",
     "text": [
      "C:\\Users\\Tom-G\\.conda\\envs\\torchenv\\lib\\site-packages\\torch\\nn\\modules\\container.py:141: UserWarning: Implicit dimension choice for softmax has been deprecated. Change the call to include dim=X as an argument.\n",
      "  input = module(input)\n"
     ]
    },
    {
     "name": "stdout",
     "output_type": "stream",
     "text": [
      "Step [0/3]\t loss_instance: 6.326725959777832\t loss_cluster: 1.5618765354156494\n",
      "\n",
      "Epoch [95/500]\t Loss: 7.890155792236328 \n",
      "\n",
      "Step [0/1]\t Computing features...\n",
      "Features shape (1714,)\n",
      "14\n",
      "Test NMI = 0.4329 ARI = 0.1854 F = 0.3059 ACC = 0.3197\n",
      "================================================================\n",
      "\n"
     ]
    },
    {
     "name": "stderr",
     "output_type": "stream",
     "text": [
      "C:\\Users\\Tom-G\\.conda\\envs\\torchenv\\lib\\site-packages\\torch\\nn\\modules\\container.py:141: UserWarning: Implicit dimension choice for softmax has been deprecated. Change the call to include dim=X as an argument.\n",
      "  input = module(input)\n"
     ]
    },
    {
     "name": "stdout",
     "output_type": "stream",
     "text": [
      "Step [0/3]\t loss_instance: 6.331743240356445\t loss_cluster: 1.558559775352478\n",
      "\n",
      "Epoch [96/500]\t Loss: 7.888213316599528 \n",
      "\n",
      "Step [0/1]\t Computing features...\n",
      "Features shape (1714,)\n",
      "14\n",
      "Test NMI = 0.4364 ARI = 0.1882 F = 0.3087 ACC = 0.3226\n",
      "================================================================\n",
      "\n"
     ]
    },
    {
     "name": "stderr",
     "output_type": "stream",
     "text": [
      "C:\\Users\\Tom-G\\.conda\\envs\\torchenv\\lib\\site-packages\\torch\\nn\\modules\\container.py:141: UserWarning: Implicit dimension choice for softmax has been deprecated. Change the call to include dim=X as an argument.\n",
      "  input = module(input)\n"
     ]
    },
    {
     "name": "stdout",
     "output_type": "stream",
     "text": [
      "Step [0/3]\t loss_instance: 6.33334493637085\t loss_cluster: 1.5543739795684814\n",
      "\n",
      "Epoch [97/500]\t Loss: 7.888050715128581 \n",
      "\n",
      "Step [0/1]\t Computing features...\n",
      "Features shape (1714,)\n",
      "14\n",
      "Test NMI = 0.4325 ARI = 0.1863 F = 0.3067 ACC = 0.3238\n",
      "================================================================\n",
      "\n"
     ]
    },
    {
     "name": "stderr",
     "output_type": "stream",
     "text": [
      "C:\\Users\\Tom-G\\.conda\\envs\\torchenv\\lib\\site-packages\\torch\\nn\\modules\\container.py:141: UserWarning: Implicit dimension choice for softmax has been deprecated. Change the call to include dim=X as an argument.\n",
      "  input = module(input)\n"
     ]
    },
    {
     "name": "stdout",
     "output_type": "stream",
     "text": [
      "Step [0/3]\t loss_instance: 6.327287673950195\t loss_cluster: 1.5593003034591675\n",
      "\n",
      "Epoch [98/500]\t Loss: 7.887120087941487 \n",
      "\n",
      "Step [0/1]\t Computing features...\n",
      "Features shape (1714,)\n",
      "14\n",
      "Test NMI = 0.4335 ARI = 0.1867 F = 0.3072 ACC = 0.3209\n",
      "================================================================\n",
      "\n"
     ]
    },
    {
     "name": "stderr",
     "output_type": "stream",
     "text": [
      "C:\\Users\\Tom-G\\.conda\\envs\\torchenv\\lib\\site-packages\\torch\\nn\\modules\\container.py:141: UserWarning: Implicit dimension choice for softmax has been deprecated. Change the call to include dim=X as an argument.\n",
      "  input = module(input)\n"
     ]
    },
    {
     "name": "stdout",
     "output_type": "stream",
     "text": [
      "Step [0/3]\t loss_instance: 6.32258939743042\t loss_cluster: 1.5579040050506592\n",
      "\n",
      "Epoch [99/500]\t Loss: 7.883330186208089 \n",
      "\n",
      "Step [0/1]\t Computing features...\n",
      "Features shape (1714,)\n",
      "14\n",
      "Test NMI = 0.4323 ARI = 0.1863 F = 0.3068 ACC = 0.3226\n",
      "================================================================\n",
      "\n"
     ]
    },
    {
     "name": "stderr",
     "output_type": "stream",
     "text": [
      "C:\\Users\\Tom-G\\.conda\\envs\\torchenv\\lib\\site-packages\\torch\\nn\\modules\\container.py:141: UserWarning: Implicit dimension choice for softmax has been deprecated. Change the call to include dim=X as an argument.\n",
      "  input = module(input)\n"
     ]
    },
    {
     "name": "stdout",
     "output_type": "stream",
     "text": [
      "Step [0/3]\t loss_instance: 6.314828872680664\t loss_cluster: 1.5608015060424805\n",
      "\n",
      "Epoch [100/500]\t Loss: 7.8729783693949384 \n",
      "\n",
      "Step [0/1]\t Computing features...\n",
      "Features shape (1714,)\n",
      "14\n",
      "Test NMI = 0.4340 ARI = 0.1837 F = 0.3041 ACC = 0.3145\n",
      "================================================================\n",
      "\n"
     ]
    },
    {
     "name": "stderr",
     "output_type": "stream",
     "text": [
      "C:\\Users\\Tom-G\\.conda\\envs\\torchenv\\lib\\site-packages\\torch\\nn\\modules\\container.py:141: UserWarning: Implicit dimension choice for softmax has been deprecated. Change the call to include dim=X as an argument.\n",
      "  input = module(input)\n"
     ]
    },
    {
     "name": "stdout",
     "output_type": "stream",
     "text": [
      "Step [0/3]\t loss_instance: 6.322741508483887\t loss_cluster: 1.5570316314697266\n",
      "\n",
      "Epoch [101/500]\t Loss: 7.876311620076497 \n",
      "\n",
      "Step [0/1]\t Computing features...\n",
      "Features shape (1714,)\n",
      "14\n",
      "Test NMI = 0.4357 ARI = 0.1863 F = 0.3068 ACC = 0.3215\n",
      "================================================================\n",
      "\n"
     ]
    },
    {
     "name": "stderr",
     "output_type": "stream",
     "text": [
      "C:\\Users\\Tom-G\\.conda\\envs\\torchenv\\lib\\site-packages\\torch\\nn\\modules\\container.py:141: UserWarning: Implicit dimension choice for softmax has been deprecated. Change the call to include dim=X as an argument.\n",
      "  input = module(input)\n"
     ]
    },
    {
     "name": "stdout",
     "output_type": "stream",
     "text": [
      "Step [0/3]\t loss_instance: 6.3139214515686035\t loss_cluster: 1.5538612604141235\n",
      "\n",
      "Epoch [102/500]\t Loss: 7.870003382364909 \n",
      "\n",
      "Step [0/1]\t Computing features...\n",
      "Features shape (1714,)\n",
      "14\n",
      "Test NMI = 0.4350 ARI = 0.1859 F = 0.3063 ACC = 0.3215\n",
      "================================================================\n",
      "\n"
     ]
    },
    {
     "name": "stderr",
     "output_type": "stream",
     "text": [
      "C:\\Users\\Tom-G\\.conda\\envs\\torchenv\\lib\\site-packages\\torch\\nn\\modules\\container.py:141: UserWarning: Implicit dimension choice for softmax has been deprecated. Change the call to include dim=X as an argument.\n",
      "  input = module(input)\n"
     ]
    },
    {
     "name": "stdout",
     "output_type": "stream",
     "text": [
      "Step [0/3]\t loss_instance: 6.318746089935303\t loss_cluster: 1.5541877746582031\n",
      "\n",
      "Epoch [103/500]\t Loss: 7.871018250783284 \n",
      "\n",
      "Step [0/1]\t Computing features...\n",
      "Features shape (1714,)\n",
      "14\n",
      "Test NMI = 0.4352 ARI = 0.1864 F = 0.3069 ACC = 0.3215\n",
      "================================================================\n",
      "\n"
     ]
    },
    {
     "name": "stderr",
     "output_type": "stream",
     "text": [
      "C:\\Users\\Tom-G\\.conda\\envs\\torchenv\\lib\\site-packages\\torch\\nn\\modules\\container.py:141: UserWarning: Implicit dimension choice for softmax has been deprecated. Change the call to include dim=X as an argument.\n",
      "  input = module(input)\n"
     ]
    },
    {
     "name": "stdout",
     "output_type": "stream",
     "text": [
      "Step [0/3]\t loss_instance: 6.312745094299316\t loss_cluster: 1.5534694194793701\n",
      "\n",
      "Epoch [104/500]\t Loss: 7.869408130645752 \n",
      "\n",
      "Step [0/1]\t Computing features...\n",
      "Features shape (1714,)\n",
      "14\n",
      "Test NMI = 0.4343 ARI = 0.1848 F = 0.3053 ACC = 0.3186\n",
      "================================================================\n",
      "\n"
     ]
    },
    {
     "name": "stderr",
     "output_type": "stream",
     "text": [
      "C:\\Users\\Tom-G\\.conda\\envs\\torchenv\\lib\\site-packages\\torch\\nn\\modules\\container.py:141: UserWarning: Implicit dimension choice for softmax has been deprecated. Change the call to include dim=X as an argument.\n",
      "  input = module(input)\n"
     ]
    },
    {
     "name": "stdout",
     "output_type": "stream",
     "text": [
      "Step [0/3]\t loss_instance: 6.318676948547363\t loss_cluster: 1.5539568662643433\n",
      "\n",
      "Epoch [105/500]\t Loss: 7.8680369059244795 \n",
      "\n",
      "Step [0/1]\t Computing features...\n",
      "Features shape (1714,)\n",
      "14\n",
      "Test NMI = 0.4323 ARI = 0.1836 F = 0.3041 ACC = 0.3191\n",
      "================================================================\n",
      "\n"
     ]
    },
    {
     "name": "stderr",
     "output_type": "stream",
     "text": [
      "C:\\Users\\Tom-G\\.conda\\envs\\torchenv\\lib\\site-packages\\torch\\nn\\modules\\container.py:141: UserWarning: Implicit dimension choice for softmax has been deprecated. Change the call to include dim=X as an argument.\n",
      "  input = module(input)\n"
     ]
    },
    {
     "name": "stdout",
     "output_type": "stream",
     "text": [
      "Step [0/3]\t loss_instance: 6.314698219299316\t loss_cluster: 1.5557267665863037\n",
      "\n",
      "Epoch [106/500]\t Loss: 7.866063753763835 \n",
      "\n",
      "Step [0/1]\t Computing features...\n",
      "Features shape (1714,)\n",
      "14\n",
      "Test NMI = 0.4302 ARI = 0.1818 F = 0.3022 ACC = 0.3127\n",
      "================================================================\n",
      "\n"
     ]
    },
    {
     "name": "stderr",
     "output_type": "stream",
     "text": [
      "C:\\Users\\Tom-G\\.conda\\envs\\torchenv\\lib\\site-packages\\torch\\nn\\modules\\container.py:141: UserWarning: Implicit dimension choice for softmax has been deprecated. Change the call to include dim=X as an argument.\n",
      "  input = module(input)\n"
     ]
    },
    {
     "name": "stdout",
     "output_type": "stream",
     "text": [
      "Step [0/3]\t loss_instance: 6.30873441696167\t loss_cluster: 1.5534154176712036\n",
      "\n",
      "Epoch [107/500]\t Loss: 7.861128012339274 \n",
      "\n",
      "Step [0/1]\t Computing features...\n",
      "Features shape (1714,)\n",
      "14\n",
      "Test NMI = 0.4323 ARI = 0.1843 F = 0.3048 ACC = 0.3174\n",
      "================================================================\n",
      "\n"
     ]
    },
    {
     "name": "stderr",
     "output_type": "stream",
     "text": [
      "C:\\Users\\Tom-G\\.conda\\envs\\torchenv\\lib\\site-packages\\torch\\nn\\modules\\container.py:141: UserWarning: Implicit dimension choice for softmax has been deprecated. Change the call to include dim=X as an argument.\n",
      "  input = module(input)\n"
     ]
    },
    {
     "name": "stdout",
     "output_type": "stream",
     "text": [
      "Step [0/3]\t loss_instance: 6.3082661628723145\t loss_cluster: 1.552242636680603\n",
      "\n",
      "Epoch [108/500]\t Loss: 7.862496852874756 \n",
      "\n",
      "Step [0/1]\t Computing features...\n",
      "Features shape (1714,)\n",
      "14\n",
      "Test NMI = 0.4349 ARI = 0.1852 F = 0.3056 ACC = 0.3197\n",
      "================================================================\n",
      "\n"
     ]
    },
    {
     "name": "stderr",
     "output_type": "stream",
     "text": [
      "C:\\Users\\Tom-G\\.conda\\envs\\torchenv\\lib\\site-packages\\torch\\nn\\modules\\container.py:141: UserWarning: Implicit dimension choice for softmax has been deprecated. Change the call to include dim=X as an argument.\n",
      "  input = module(input)\n"
     ]
    },
    {
     "name": "stdout",
     "output_type": "stream",
     "text": [
      "Step [0/3]\t loss_instance: 6.307661056518555\t loss_cluster: 1.5554659366607666\n",
      "\n",
      "Epoch [109/500]\t Loss: 7.862904071807861 \n",
      "\n",
      "Step [0/1]\t Computing features...\n",
      "Features shape (1714,)\n",
      "14\n",
      "Test NMI = 0.4337 ARI = 0.1855 F = 0.3059 ACC = 0.3209\n",
      "================================================================\n",
      "\n"
     ]
    },
    {
     "name": "stderr",
     "output_type": "stream",
     "text": [
      "C:\\Users\\Tom-G\\.conda\\envs\\torchenv\\lib\\site-packages\\torch\\nn\\modules\\container.py:141: UserWarning: Implicit dimension choice for softmax has been deprecated. Change the call to include dim=X as an argument.\n",
      "  input = module(input)\n"
     ]
    },
    {
     "name": "stdout",
     "output_type": "stream",
     "text": [
      "Step [0/3]\t loss_instance: 6.309055328369141\t loss_cluster: 1.5537258386611938\n",
      "\n",
      "Epoch [110/500]\t Loss: 7.863826910654704 \n",
      "\n",
      "Step [0/1]\t Computing features...\n",
      "Features shape (1714,)\n",
      "14\n",
      "Test NMI = 0.4328 ARI = 0.1845 F = 0.3049 ACC = 0.3221\n",
      "================================================================\n",
      "\n"
     ]
    },
    {
     "name": "stderr",
     "output_type": "stream",
     "text": [
      "C:\\Users\\Tom-G\\.conda\\envs\\torchenv\\lib\\site-packages\\torch\\nn\\modules\\container.py:141: UserWarning: Implicit dimension choice for softmax has been deprecated. Change the call to include dim=X as an argument.\n",
      "  input = module(input)\n"
     ]
    },
    {
     "name": "stdout",
     "output_type": "stream",
     "text": [
      "Step [0/3]\t loss_instance: 6.310078144073486\t loss_cluster: 1.5568674802780151\n",
      "\n",
      "Epoch [111/500]\t Loss: 7.863633473714192 \n",
      "\n",
      "Step [0/1]\t Computing features...\n",
      "Features shape (1714,)\n",
      "14\n",
      "Test NMI = 0.4347 ARI = 0.1828 F = 0.3032 ACC = 0.3133\n",
      "================================================================\n",
      "\n"
     ]
    },
    {
     "name": "stderr",
     "output_type": "stream",
     "text": [
      "C:\\Users\\Tom-G\\.conda\\envs\\torchenv\\lib\\site-packages\\torch\\nn\\modules\\container.py:141: UserWarning: Implicit dimension choice for softmax has been deprecated. Change the call to include dim=X as an argument.\n",
      "  input = module(input)\n"
     ]
    },
    {
     "name": "stdout",
     "output_type": "stream",
     "text": [
      "Step [0/3]\t loss_instance: 6.311000823974609\t loss_cluster: 1.550519347190857\n",
      "\n",
      "Epoch [112/500]\t Loss: 7.860096613566081 \n",
      "\n",
      "Step [0/1]\t Computing features...\n",
      "Features shape (1714,)\n",
      "14\n",
      "Test NMI = 0.4336 ARI = 0.1834 F = 0.3039 ACC = 0.3145\n",
      "================================================================\n",
      "\n"
     ]
    },
    {
     "name": "stderr",
     "output_type": "stream",
     "text": [
      "C:\\Users\\Tom-G\\.conda\\envs\\torchenv\\lib\\site-packages\\torch\\nn\\modules\\container.py:141: UserWarning: Implicit dimension choice for softmax has been deprecated. Change the call to include dim=X as an argument.\n",
      "  input = module(input)\n"
     ]
    },
    {
     "name": "stdout",
     "output_type": "stream",
     "text": [
      "Step [0/3]\t loss_instance: 6.306433200836182\t loss_cluster: 1.550440788269043\n",
      "\n",
      "Epoch [113/500]\t Loss: 7.854548613230388 \n",
      "\n",
      "Step [0/1]\t Computing features...\n",
      "Features shape (1714,)\n",
      "14\n",
      "Test NMI = 0.4327 ARI = 0.1842 F = 0.3046 ACC = 0.3180\n",
      "================================================================\n",
      "\n"
     ]
    },
    {
     "name": "stderr",
     "output_type": "stream",
     "text": [
      "C:\\Users\\Tom-G\\.conda\\envs\\torchenv\\lib\\site-packages\\torch\\nn\\modules\\container.py:141: UserWarning: Implicit dimension choice for softmax has been deprecated. Change the call to include dim=X as an argument.\n",
      "  input = module(input)\n"
     ]
    },
    {
     "name": "stdout",
     "output_type": "stream",
     "text": [
      "Step [0/3]\t loss_instance: 6.304862022399902\t loss_cluster: 1.5456150770187378\n",
      "\n",
      "Epoch [114/500]\t Loss: 7.851587454477946 \n",
      "\n",
      "Step [0/1]\t Computing features...\n",
      "Features shape (1714,)\n",
      "14\n",
      "Test NMI = 0.4313 ARI = 0.1840 F = 0.3044 ACC = 0.3203\n",
      "================================================================\n",
      "\n"
     ]
    },
    {
     "name": "stderr",
     "output_type": "stream",
     "text": [
      "C:\\Users\\Tom-G\\.conda\\envs\\torchenv\\lib\\site-packages\\torch\\nn\\modules\\container.py:141: UserWarning: Implicit dimension choice for softmax has been deprecated. Change the call to include dim=X as an argument.\n",
      "  input = module(input)\n"
     ]
    },
    {
     "name": "stdout",
     "output_type": "stream",
     "text": [
      "Step [0/3]\t loss_instance: 6.307204246520996\t loss_cluster: 1.5448116064071655\n",
      "\n",
      "Epoch [115/500]\t Loss: 7.851974646250407 \n",
      "\n",
      "Step [0/1]\t Computing features...\n",
      "Features shape (1714,)\n",
      "14\n",
      "Test NMI = 0.4294 ARI = 0.1809 F = 0.3013 ACC = 0.3139\n",
      "================================================================\n",
      "\n"
     ]
    },
    {
     "name": "stderr",
     "output_type": "stream",
     "text": [
      "C:\\Users\\Tom-G\\.conda\\envs\\torchenv\\lib\\site-packages\\torch\\nn\\modules\\container.py:141: UserWarning: Implicit dimension choice for softmax has been deprecated. Change the call to include dim=X as an argument.\n",
      "  input = module(input)\n"
     ]
    },
    {
     "name": "stdout",
     "output_type": "stream",
     "text": [
      "Step [0/3]\t loss_instance: 6.301540374755859\t loss_cluster: 1.5454622507095337\n",
      "\n",
      "Epoch [116/500]\t Loss: 7.849829037984212 \n",
      "\n",
      "Step [0/1]\t Computing features...\n",
      "Features shape (1714,)\n",
      "14\n",
      "Test NMI = 0.4312 ARI = 0.1803 F = 0.3007 ACC = 0.3075\n",
      "================================================================\n",
      "\n"
     ]
    },
    {
     "name": "stderr",
     "output_type": "stream",
     "text": [
      "C:\\Users\\Tom-G\\.conda\\envs\\torchenv\\lib\\site-packages\\torch\\nn\\modules\\container.py:141: UserWarning: Implicit dimension choice for softmax has been deprecated. Change the call to include dim=X as an argument.\n",
      "  input = module(input)\n"
     ]
    },
    {
     "name": "stdout",
     "output_type": "stream",
     "text": [
      "Step [0/3]\t loss_instance: 6.300961017608643\t loss_cluster: 1.5501881837844849\n",
      "\n",
      "Epoch [117/500]\t Loss: 7.852203845977783 \n",
      "\n",
      "Step [0/1]\t Computing features...\n",
      "Features shape (1714,)\n",
      "14\n",
      "Test NMI = 0.4340 ARI = 0.1858 F = 0.3062 ACC = 0.3168\n",
      "================================================================\n",
      "\n"
     ]
    },
    {
     "name": "stderr",
     "output_type": "stream",
     "text": [
      "C:\\Users\\Tom-G\\.conda\\envs\\torchenv\\lib\\site-packages\\torch\\nn\\modules\\container.py:141: UserWarning: Implicit dimension choice for softmax has been deprecated. Change the call to include dim=X as an argument.\n",
      "  input = module(input)\n"
     ]
    },
    {
     "name": "stdout",
     "output_type": "stream",
     "text": [
      "Step [0/3]\t loss_instance: 6.30109167098999\t loss_cluster: 1.5527011156082153\n",
      "\n",
      "Epoch [118/500]\t Loss: 7.854167779286702 \n",
      "\n",
      "Step [0/1]\t Computing features...\n",
      "Features shape (1714,)\n",
      "14\n",
      "Test NMI = 0.4353 ARI = 0.1882 F = 0.3087 ACC = 0.3221\n",
      "================================================================\n",
      "\n"
     ]
    },
    {
     "name": "stderr",
     "output_type": "stream",
     "text": [
      "C:\\Users\\Tom-G\\.conda\\envs\\torchenv\\lib\\site-packages\\torch\\nn\\modules\\container.py:141: UserWarning: Implicit dimension choice for softmax has been deprecated. Change the call to include dim=X as an argument.\n",
      "  input = module(input)\n"
     ]
    },
    {
     "name": "stdout",
     "output_type": "stream",
     "text": [
      "Step [0/3]\t loss_instance: 6.2987565994262695\t loss_cluster: 1.547028660774231\n",
      "\n",
      "Epoch [119/500]\t Loss: 7.847139676411946 \n",
      "\n",
      "Step [0/1]\t Computing features...\n",
      "Features shape (1714,)\n",
      "14\n",
      "Test NMI = 0.4327 ARI = 0.1855 F = 0.3060 ACC = 0.3215\n",
      "================================================================\n",
      "\n"
     ]
    },
    {
     "name": "stderr",
     "output_type": "stream",
     "text": [
      "C:\\Users\\Tom-G\\.conda\\envs\\torchenv\\lib\\site-packages\\torch\\nn\\modules\\container.py:141: UserWarning: Implicit dimension choice for softmax has been deprecated. Change the call to include dim=X as an argument.\n",
      "  input = module(input)\n"
     ]
    },
    {
     "name": "stdout",
     "output_type": "stream",
     "text": [
      "Step [0/3]\t loss_instance: 6.301189422607422\t loss_cluster: 1.5475270748138428\n",
      "\n",
      "Epoch [120/500]\t Loss: 7.848945617675781 \n",
      "\n",
      "Step [0/1]\t Computing features...\n",
      "Features shape (1714,)\n",
      "14\n",
      "Test NMI = 0.4289 ARI = 0.1805 F = 0.3009 ACC = 0.3156\n",
      "================================================================\n",
      "\n"
     ]
    },
    {
     "name": "stderr",
     "output_type": "stream",
     "text": [
      "C:\\Users\\Tom-G\\.conda\\envs\\torchenv\\lib\\site-packages\\torch\\nn\\modules\\container.py:141: UserWarning: Implicit dimension choice for softmax has been deprecated. Change the call to include dim=X as an argument.\n",
      "  input = module(input)\n"
     ]
    },
    {
     "name": "stdout",
     "output_type": "stream",
     "text": [
      "Step [0/3]\t loss_instance: 6.300342559814453\t loss_cluster: 1.5465800762176514\n",
      "\n",
      "Epoch [121/500]\t Loss: 7.846237341562907 \n",
      "\n",
      "Step [0/1]\t Computing features...\n",
      "Features shape (1714,)\n",
      "14\n",
      "Test NMI = 0.4298 ARI = 0.1816 F = 0.3020 ACC = 0.3121\n",
      "================================================================\n",
      "\n"
     ]
    },
    {
     "name": "stderr",
     "output_type": "stream",
     "text": [
      "C:\\Users\\Tom-G\\.conda\\envs\\torchenv\\lib\\site-packages\\torch\\nn\\modules\\container.py:141: UserWarning: Implicit dimension choice for softmax has been deprecated. Change the call to include dim=X as an argument.\n",
      "  input = module(input)\n"
     ]
    },
    {
     "name": "stdout",
     "output_type": "stream",
     "text": [
      "Step [0/3]\t loss_instance: 6.301234722137451\t loss_cluster: 1.543968677520752\n",
      "\n",
      "Epoch [122/500]\t Loss: 7.847447872161865 \n",
      "\n",
      "Step [0/1]\t Computing features...\n",
      "Features shape (1714,)\n",
      "14\n",
      "Test NMI = 0.4316 ARI = 0.1818 F = 0.3022 ACC = 0.3104\n",
      "================================================================\n",
      "\n"
     ]
    },
    {
     "name": "stderr",
     "output_type": "stream",
     "text": [
      "C:\\Users\\Tom-G\\.conda\\envs\\torchenv\\lib\\site-packages\\torch\\nn\\modules\\container.py:141: UserWarning: Implicit dimension choice for softmax has been deprecated. Change the call to include dim=X as an argument.\n",
      "  input = module(input)\n"
     ]
    },
    {
     "name": "stdout",
     "output_type": "stream",
     "text": [
      "Step [0/3]\t loss_instance: 6.300380706787109\t loss_cluster: 1.5453993082046509\n",
      "\n",
      "Epoch [123/500]\t Loss: 7.8455244700113935 \n",
      "\n",
      "Step [0/1]\t Computing features...\n",
      "Features shape (1714,)\n",
      "14\n",
      "Test NMI = 0.4294 ARI = 0.1806 F = 0.3010 ACC = 0.3151\n",
      "================================================================\n",
      "\n"
     ]
    },
    {
     "name": "stderr",
     "output_type": "stream",
     "text": [
      "C:\\Users\\Tom-G\\.conda\\envs\\torchenv\\lib\\site-packages\\torch\\nn\\modules\\container.py:141: UserWarning: Implicit dimension choice for softmax has been deprecated. Change the call to include dim=X as an argument.\n",
      "  input = module(input)\n"
     ]
    },
    {
     "name": "stdout",
     "output_type": "stream",
     "text": [
      "Step [0/3]\t loss_instance: 6.298709869384766\t loss_cluster: 1.5441962480545044\n",
      "\n",
      "Epoch [124/500]\t Loss: 7.842597484588623 \n",
      "\n",
      "Step [0/1]\t Computing features...\n",
      "Features shape (1714,)\n",
      "14\n",
      "Test NMI = 0.4297 ARI = 0.1808 F = 0.3012 ACC = 0.3174\n",
      "================================================================\n",
      "\n"
     ]
    },
    {
     "name": "stderr",
     "output_type": "stream",
     "text": [
      "C:\\Users\\Tom-G\\.conda\\envs\\torchenv\\lib\\site-packages\\torch\\nn\\modules\\container.py:141: UserWarning: Implicit dimension choice for softmax has been deprecated. Change the call to include dim=X as an argument.\n",
      "  input = module(input)\n"
     ]
    },
    {
     "name": "stdout",
     "output_type": "stream",
     "text": [
      "Step [0/3]\t loss_instance: 6.297111988067627\t loss_cluster: 1.5447635650634766\n",
      "\n",
      "Epoch [125/500]\t Loss: 7.840580145517985 \n",
      "\n",
      "Step [0/1]\t Computing features...\n",
      "Features shape (1714,)\n",
      "14\n",
      "Test NMI = 0.4294 ARI = 0.1807 F = 0.3012 ACC = 0.3162\n",
      "================================================================\n",
      "\n"
     ]
    },
    {
     "name": "stderr",
     "output_type": "stream",
     "text": [
      "C:\\Users\\Tom-G\\.conda\\envs\\torchenv\\lib\\site-packages\\torch\\nn\\modules\\container.py:141: UserWarning: Implicit dimension choice for softmax has been deprecated. Change the call to include dim=X as an argument.\n",
      "  input = module(input)\n"
     ]
    },
    {
     "name": "stdout",
     "output_type": "stream",
     "text": [
      "Step [0/3]\t loss_instance: 6.29545783996582\t loss_cluster: 1.5423649549484253\n",
      "\n",
      "Epoch [126/500]\t Loss: 7.838866551717122 \n",
      "\n",
      "Step [0/1]\t Computing features...\n",
      "Features shape (1714,)\n",
      "14\n",
      "Test NMI = 0.4315 ARI = 0.1838 F = 0.3043 ACC = 0.3174\n",
      "================================================================\n",
      "\n"
     ]
    },
    {
     "name": "stderr",
     "output_type": "stream",
     "text": [
      "C:\\Users\\Tom-G\\.conda\\envs\\torchenv\\lib\\site-packages\\torch\\nn\\modules\\container.py:141: UserWarning: Implicit dimension choice for softmax has been deprecated. Change the call to include dim=X as an argument.\n",
      "  input = module(input)\n"
     ]
    },
    {
     "name": "stdout",
     "output_type": "stream",
     "text": [
      "Step [0/3]\t loss_instance: 6.29689884185791\t loss_cluster: 1.5414289236068726\n",
      "\n",
      "Epoch [127/500]\t Loss: 7.837996482849121 \n",
      "\n",
      "Step [0/1]\t Computing features...\n",
      "Features shape (1714,)\n",
      "14\n",
      "Test NMI = 0.4321 ARI = 0.1825 F = 0.3029 ACC = 0.3127\n",
      "================================================================\n",
      "\n"
     ]
    },
    {
     "name": "stderr",
     "output_type": "stream",
     "text": [
      "C:\\Users\\Tom-G\\.conda\\envs\\torchenv\\lib\\site-packages\\torch\\nn\\modules\\container.py:141: UserWarning: Implicit dimension choice for softmax has been deprecated. Change the call to include dim=X as an argument.\n",
      "  input = module(input)\n"
     ]
    },
    {
     "name": "stdout",
     "output_type": "stream",
     "text": [
      "Step [0/3]\t loss_instance: 6.304952621459961\t loss_cluster: 1.542967438697815\n",
      "\n",
      "Epoch [128/500]\t Loss: 7.84654442469279 \n",
      "\n",
      "Step [0/1]\t Computing features...\n",
      "Features shape (1714,)\n",
      "14\n",
      "Test NMI = 0.4306 ARI = 0.1807 F = 0.3011 ACC = 0.3075\n",
      "================================================================\n",
      "\n"
     ]
    },
    {
     "name": "stderr",
     "output_type": "stream",
     "text": [
      "C:\\Users\\Tom-G\\.conda\\envs\\torchenv\\lib\\site-packages\\torch\\nn\\modules\\container.py:141: UserWarning: Implicit dimension choice for softmax has been deprecated. Change the call to include dim=X as an argument.\n",
      "  input = module(input)\n"
     ]
    },
    {
     "name": "stdout",
     "output_type": "stream",
     "text": [
      "Step [0/3]\t loss_instance: 6.300087928771973\t loss_cluster: 1.5439270734786987\n",
      "\n",
      "Epoch [129/500]\t Loss: 7.843135039011638 \n",
      "\n",
      "Step [0/1]\t Computing features...\n",
      "Features shape (1714,)\n",
      "14\n",
      "Test NMI = 0.4310 ARI = 0.1826 F = 0.3031 ACC = 0.3180\n",
      "================================================================\n",
      "\n"
     ]
    },
    {
     "name": "stderr",
     "output_type": "stream",
     "text": [
      "C:\\Users\\Tom-G\\.conda\\envs\\torchenv\\lib\\site-packages\\torch\\nn\\modules\\container.py:141: UserWarning: Implicit dimension choice for softmax has been deprecated. Change the call to include dim=X as an argument.\n",
      "  input = module(input)\n"
     ]
    },
    {
     "name": "stdout",
     "output_type": "stream",
     "text": [
      "Step [0/3]\t loss_instance: 6.2985053062438965\t loss_cluster: 1.5445054769515991\n",
      "\n",
      "Epoch [130/500]\t Loss: 7.839791615804036 \n",
      "\n",
      "Step [0/1]\t Computing features...\n",
      "Features shape (1714,)\n",
      "14\n",
      "Test NMI = 0.4326 ARI = 0.1849 F = 0.3054 ACC = 0.3226\n",
      "================================================================\n",
      "\n"
     ]
    },
    {
     "name": "stderr",
     "output_type": "stream",
     "text": [
      "C:\\Users\\Tom-G\\.conda\\envs\\torchenv\\lib\\site-packages\\torch\\nn\\modules\\container.py:141: UserWarning: Implicit dimension choice for softmax has been deprecated. Change the call to include dim=X as an argument.\n",
      "  input = module(input)\n"
     ]
    },
    {
     "name": "stdout",
     "output_type": "stream",
     "text": [
      "Step [0/3]\t loss_instance: 6.294074058532715\t loss_cluster: 1.54937744140625\n",
      "\n",
      "Epoch [131/500]\t Loss: 7.839876015981038 \n",
      "\n",
      "Step [0/1]\t Computing features...\n",
      "Features shape (1714,)\n",
      "14\n",
      "Test NMI = 0.4301 ARI = 0.1825 F = 0.3029 ACC = 0.3197\n",
      "================================================================\n",
      "\n"
     ]
    },
    {
     "name": "stderr",
     "output_type": "stream",
     "text": [
      "C:\\Users\\Tom-G\\.conda\\envs\\torchenv\\lib\\site-packages\\torch\\nn\\modules\\container.py:141: UserWarning: Implicit dimension choice for softmax has been deprecated. Change the call to include dim=X as an argument.\n",
      "  input = module(input)\n"
     ]
    },
    {
     "name": "stdout",
     "output_type": "stream",
     "text": [
      "Step [0/3]\t loss_instance: 6.291447162628174\t loss_cluster: 1.5435017347335815\n",
      "\n",
      "Epoch [132/500]\t Loss: 7.83787743250529 \n",
      "\n",
      "Step [0/1]\t Computing features...\n",
      "Features shape (1714,)\n",
      "14\n",
      "Test NMI = 0.4285 ARI = 0.1812 F = 0.3016 ACC = 0.3174\n",
      "================================================================\n",
      "\n"
     ]
    },
    {
     "name": "stderr",
     "output_type": "stream",
     "text": [
      "C:\\Users\\Tom-G\\.conda\\envs\\torchenv\\lib\\site-packages\\torch\\nn\\modules\\container.py:141: UserWarning: Implicit dimension choice for softmax has been deprecated. Change the call to include dim=X as an argument.\n",
      "  input = module(input)\n"
     ]
    },
    {
     "name": "stdout",
     "output_type": "stream",
     "text": [
      "Step [0/3]\t loss_instance: 6.295750141143799\t loss_cluster: 1.5394881963729858\n",
      "\n",
      "Epoch [133/500]\t Loss: 7.834619045257568 \n",
      "\n",
      "Step [0/1]\t Computing features...\n",
      "Features shape (1714,)\n",
      "14\n",
      "Test NMI = 0.4294 ARI = 0.1826 F = 0.3030 ACC = 0.3197\n",
      "================================================================\n",
      "\n"
     ]
    },
    {
     "name": "stderr",
     "output_type": "stream",
     "text": [
      "C:\\Users\\Tom-G\\.conda\\envs\\torchenv\\lib\\site-packages\\torch\\nn\\modules\\container.py:141: UserWarning: Implicit dimension choice for softmax has been deprecated. Change the call to include dim=X as an argument.\n",
      "  input = module(input)\n"
     ]
    },
    {
     "name": "stdout",
     "output_type": "stream",
     "text": [
      "Step [0/3]\t loss_instance: 6.295036315917969\t loss_cluster: 1.5422983169555664\n",
      "\n",
      "Epoch [134/500]\t Loss: 7.836106459299724 \n",
      "\n",
      "Step [0/1]\t Computing features...\n",
      "Features shape (1714,)\n",
      "14\n",
      "Test NMI = 0.4314 ARI = 0.1843 F = 0.3047 ACC = 0.3191\n",
      "================================================================\n",
      "\n"
     ]
    },
    {
     "name": "stderr",
     "output_type": "stream",
     "text": [
      "C:\\Users\\Tom-G\\.conda\\envs\\torchenv\\lib\\site-packages\\torch\\nn\\modules\\container.py:141: UserWarning: Implicit dimension choice for softmax has been deprecated. Change the call to include dim=X as an argument.\n",
      "  input = module(input)\n"
     ]
    },
    {
     "name": "stdout",
     "output_type": "stream",
     "text": [
      "Step [0/3]\t loss_instance: 6.294558048248291\t loss_cluster: 1.540010690689087\n",
      "\n",
      "Epoch [135/500]\t Loss: 7.837468942006429 \n",
      "\n",
      "Step [0/1]\t Computing features...\n",
      "Features shape (1714,)\n",
      "14\n",
      "Test NMI = 0.4304 ARI = 0.1835 F = 0.3039 ACC = 0.3180\n",
      "================================================================\n",
      "\n"
     ]
    },
    {
     "name": "stderr",
     "output_type": "stream",
     "text": [
      "C:\\Users\\Tom-G\\.conda\\envs\\torchenv\\lib\\site-packages\\torch\\nn\\modules\\container.py:141: UserWarning: Implicit dimension choice for softmax has been deprecated. Change the call to include dim=X as an argument.\n",
      "  input = module(input)\n"
     ]
    },
    {
     "name": "stdout",
     "output_type": "stream",
     "text": [
      "Step [0/3]\t loss_instance: 6.294243812561035\t loss_cluster: 1.54850172996521\n",
      "\n",
      "Epoch [136/500]\t Loss: 7.839312394460042 \n",
      "\n",
      "Step [0/1]\t Computing features...\n",
      "Features shape (1714,)\n",
      "14\n",
      "Test NMI = 0.4280 ARI = 0.1797 F = 0.3001 ACC = 0.3086\n",
      "================================================================\n",
      "\n"
     ]
    },
    {
     "name": "stderr",
     "output_type": "stream",
     "text": [
      "C:\\Users\\Tom-G\\.conda\\envs\\torchenv\\lib\\site-packages\\torch\\nn\\modules\\container.py:141: UserWarning: Implicit dimension choice for softmax has been deprecated. Change the call to include dim=X as an argument.\n",
      "  input = module(input)\n"
     ]
    },
    {
     "name": "stdout",
     "output_type": "stream",
     "text": [
      "Step [0/3]\t loss_instance: 6.300549030303955\t loss_cluster: 1.5384080410003662\n",
      "\n",
      "Epoch [137/500]\t Loss: 7.839850266774495 \n",
      "\n",
      "Step [0/1]\t Computing features...\n",
      "Features shape (1714,)\n",
      "14\n",
      "Test NMI = 0.4277 ARI = 0.1798 F = 0.3002 ACC = 0.3133\n",
      "================================================================\n",
      "\n"
     ]
    },
    {
     "name": "stderr",
     "output_type": "stream",
     "text": [
      "C:\\Users\\Tom-G\\.conda\\envs\\torchenv\\lib\\site-packages\\torch\\nn\\modules\\container.py:141: UserWarning: Implicit dimension choice for softmax has been deprecated. Change the call to include dim=X as an argument.\n",
      "  input = module(input)\n"
     ]
    },
    {
     "name": "stdout",
     "output_type": "stream",
     "text": [
      "Step [0/3]\t loss_instance: 6.290260314941406\t loss_cluster: 1.541393518447876\n",
      "\n",
      "Epoch [138/500]\t Loss: 7.8323737780253095 \n",
      "\n",
      "Step [0/1]\t Computing features...\n",
      "Features shape (1714,)\n",
      "14\n",
      "Test NMI = 0.4282 ARI = 0.1802 F = 0.3006 ACC = 0.3127\n",
      "================================================================\n",
      "\n"
     ]
    },
    {
     "name": "stderr",
     "output_type": "stream",
     "text": [
      "C:\\Users\\Tom-G\\.conda\\envs\\torchenv\\lib\\site-packages\\torch\\nn\\modules\\container.py:141: UserWarning: Implicit dimension choice for softmax has been deprecated. Change the call to include dim=X as an argument.\n",
      "  input = module(input)\n"
     ]
    },
    {
     "name": "stdout",
     "output_type": "stream",
     "text": [
      "Step [0/3]\t loss_instance: 6.2915191650390625\t loss_cluster: 1.5396101474761963\n",
      "\n",
      "Epoch [139/500]\t Loss: 7.833264509836833 \n",
      "\n",
      "Step [0/1]\t Computing features...\n",
      "Features shape (1714,)\n",
      "14\n",
      "Test NMI = 0.4292 ARI = 0.1818 F = 0.3022 ACC = 0.3151\n",
      "================================================================\n",
      "\n"
     ]
    },
    {
     "name": "stderr",
     "output_type": "stream",
     "text": [
      "C:\\Users\\Tom-G\\.conda\\envs\\torchenv\\lib\\site-packages\\torch\\nn\\modules\\container.py:141: UserWarning: Implicit dimension choice for softmax has been deprecated. Change the call to include dim=X as an argument.\n",
      "  input = module(input)\n"
     ]
    },
    {
     "name": "stdout",
     "output_type": "stream",
     "text": [
      "Step [0/3]\t loss_instance: 6.287966251373291\t loss_cluster: 1.540191888809204\n",
      "\n",
      "Epoch [140/500]\t Loss: 7.829489390055339 \n",
      "\n",
      "Step [0/1]\t Computing features...\n",
      "Features shape (1714,)\n",
      "14\n",
      "Test NMI = 0.4291 ARI = 0.1809 F = 0.3013 ACC = 0.3139\n",
      "================================================================\n",
      "\n"
     ]
    },
    {
     "name": "stderr",
     "output_type": "stream",
     "text": [
      "C:\\Users\\Tom-G\\.conda\\envs\\torchenv\\lib\\site-packages\\torch\\nn\\modules\\container.py:141: UserWarning: Implicit dimension choice for softmax has been deprecated. Change the call to include dim=X as an argument.\n",
      "  input = module(input)\n"
     ]
    },
    {
     "name": "stdout",
     "output_type": "stream",
     "text": [
      "Step [0/3]\t loss_instance: 6.2956719398498535\t loss_cluster: 1.5399892330169678\n",
      "\n",
      "Epoch [141/500]\t Loss: 7.832327683766683 \n",
      "\n",
      "Step [0/1]\t Computing features...\n",
      "Features shape (1714,)\n",
      "14\n",
      "Test NMI = 0.4292 ARI = 0.1806 F = 0.3010 ACC = 0.3174\n",
      "================================================================\n",
      "\n"
     ]
    },
    {
     "name": "stderr",
     "output_type": "stream",
     "text": [
      "C:\\Users\\Tom-G\\.conda\\envs\\torchenv\\lib\\site-packages\\torch\\nn\\modules\\container.py:141: UserWarning: Implicit dimension choice for softmax has been deprecated. Change the call to include dim=X as an argument.\n",
      "  input = module(input)\n"
     ]
    },
    {
     "name": "stdout",
     "output_type": "stream",
     "text": [
      "Step [0/3]\t loss_instance: 6.289149284362793\t loss_cluster: 1.5403907299041748\n",
      "\n",
      "Epoch [142/500]\t Loss: 7.830075740814209 \n",
      "\n",
      "Step [0/1]\t Computing features...\n",
      "Features shape (1714,)\n",
      "14\n",
      "Test NMI = 0.4292 ARI = 0.1832 F = 0.3036 ACC = 0.3226\n",
      "================================================================\n",
      "\n"
     ]
    },
    {
     "name": "stderr",
     "output_type": "stream",
     "text": [
      "C:\\Users\\Tom-G\\.conda\\envs\\torchenv\\lib\\site-packages\\torch\\nn\\modules\\container.py:141: UserWarning: Implicit dimension choice for softmax has been deprecated. Change the call to include dim=X as an argument.\n",
      "  input = module(input)\n"
     ]
    },
    {
     "name": "stdout",
     "output_type": "stream",
     "text": [
      "Step [0/3]\t loss_instance: 6.289409637451172\t loss_cluster: 1.5423134565353394\n",
      "\n",
      "Epoch [143/500]\t Loss: 7.828769048055013 \n",
      "\n",
      "Step [0/1]\t Computing features...\n",
      "Features shape (1714,)\n",
      "14\n",
      "Test NMI = 0.4291 ARI = 0.1845 F = 0.3050 ACC = 0.3226\n",
      "================================================================\n",
      "\n"
     ]
    },
    {
     "name": "stderr",
     "output_type": "stream",
     "text": [
      "C:\\Users\\Tom-G\\.conda\\envs\\torchenv\\lib\\site-packages\\torch\\nn\\modules\\container.py:141: UserWarning: Implicit dimension choice for softmax has been deprecated. Change the call to include dim=X as an argument.\n",
      "  input = module(input)\n"
     ]
    },
    {
     "name": "stdout",
     "output_type": "stream",
     "text": [
      "Step [0/3]\t loss_instance: 6.286799907684326\t loss_cluster: 1.5451472997665405\n",
      "\n",
      "Epoch [144/500]\t Loss: 7.827332337697347 \n",
      "\n",
      "Step [0/1]\t Computing features...\n",
      "Features shape (1714,)\n",
      "14\n",
      "Test NMI = 0.4321 ARI = 0.1854 F = 0.3059 ACC = 0.3203\n",
      "================================================================\n",
      "\n"
     ]
    },
    {
     "name": "stderr",
     "output_type": "stream",
     "text": [
      "C:\\Users\\Tom-G\\.conda\\envs\\torchenv\\lib\\site-packages\\torch\\nn\\modules\\container.py:141: UserWarning: Implicit dimension choice for softmax has been deprecated. Change the call to include dim=X as an argument.\n",
      "  input = module(input)\n"
     ]
    },
    {
     "name": "stdout",
     "output_type": "stream",
     "text": [
      "Step [0/3]\t loss_instance: 6.291979789733887\t loss_cluster: 1.5396599769592285\n",
      "\n",
      "Epoch [145/500]\t Loss: 7.826256116231282 \n",
      "\n",
      "Step [0/1]\t Computing features...\n",
      "Features shape (1714,)\n",
      "14\n",
      "Test NMI = 0.4286 ARI = 0.1833 F = 0.3037 ACC = 0.3180\n",
      "================================================================\n",
      "\n"
     ]
    },
    {
     "name": "stderr",
     "output_type": "stream",
     "text": [
      "C:\\Users\\Tom-G\\.conda\\envs\\torchenv\\lib\\site-packages\\torch\\nn\\modules\\container.py:141: UserWarning: Implicit dimension choice for softmax has been deprecated. Change the call to include dim=X as an argument.\n",
      "  input = module(input)\n"
     ]
    },
    {
     "name": "stdout",
     "output_type": "stream",
     "text": [
      "Step [0/3]\t loss_instance: 6.288854122161865\t loss_cluster: 1.5346566438674927\n",
      "\n",
      "Epoch [146/500]\t Loss: 7.827833493550618 \n",
      "\n",
      "Step [0/1]\t Computing features...\n",
      "Features shape (1714,)\n",
      "14\n",
      "Test NMI = 0.4283 ARI = 0.1815 F = 0.3019 ACC = 0.3156\n",
      "================================================================\n",
      "\n"
     ]
    },
    {
     "name": "stderr",
     "output_type": "stream",
     "text": [
      "C:\\Users\\Tom-G\\.conda\\envs\\torchenv\\lib\\site-packages\\torch\\nn\\modules\\container.py:141: UserWarning: Implicit dimension choice for softmax has been deprecated. Change the call to include dim=X as an argument.\n",
      "  input = module(input)\n"
     ]
    },
    {
     "name": "stdout",
     "output_type": "stream",
     "text": [
      "Step [0/3]\t loss_instance: 6.290351867675781\t loss_cluster: 1.5398327112197876\n",
      "\n",
      "Epoch [147/500]\t Loss: 7.825109958648682 \n",
      "\n",
      "Step [0/1]\t Computing features...\n",
      "Features shape (1714,)\n",
      "14\n",
      "Test NMI = 0.4284 ARI = 0.1814 F = 0.3019 ACC = 0.3174\n",
      "================================================================\n",
      "\n"
     ]
    },
    {
     "name": "stderr",
     "output_type": "stream",
     "text": [
      "C:\\Users\\Tom-G\\.conda\\envs\\torchenv\\lib\\site-packages\\torch\\nn\\modules\\container.py:141: UserWarning: Implicit dimension choice for softmax has been deprecated. Change the call to include dim=X as an argument.\n",
      "  input = module(input)\n"
     ]
    },
    {
     "name": "stdout",
     "output_type": "stream",
     "text": [
      "Step [0/3]\t loss_instance: 6.287229537963867\t loss_cluster: 1.5445477962493896\n",
      "\n",
      "Epoch [148/500]\t Loss: 7.828671455383301 \n",
      "\n",
      "Step [0/1]\t Computing features...\n",
      "Features shape (1714,)\n",
      "14\n",
      "Test NMI = 0.4271 ARI = 0.1798 F = 0.3002 ACC = 0.3145\n",
      "================================================================\n",
      "\n"
     ]
    },
    {
     "name": "stderr",
     "output_type": "stream",
     "text": [
      "C:\\Users\\Tom-G\\.conda\\envs\\torchenv\\lib\\site-packages\\torch\\nn\\modules\\container.py:141: UserWarning: Implicit dimension choice for softmax has been deprecated. Change the call to include dim=X as an argument.\n",
      "  input = module(input)\n"
     ]
    },
    {
     "name": "stdout",
     "output_type": "stream",
     "text": [
      "Step [0/3]\t loss_instance: 6.285593509674072\t loss_cluster: 1.5356013774871826\n",
      "\n",
      "Epoch [149/500]\t Loss: 7.822730541229248 \n",
      "\n",
      "Step [0/1]\t Computing features...\n",
      "Features shape (1714,)\n",
      "14\n",
      "Test NMI = 0.4291 ARI = 0.1822 F = 0.3026 ACC = 0.3180\n",
      "================================================================\n",
      "\n"
     ]
    },
    {
     "name": "stderr",
     "output_type": "stream",
     "text": [
      "C:\\Users\\Tom-G\\.conda\\envs\\torchenv\\lib\\site-packages\\torch\\nn\\modules\\container.py:141: UserWarning: Implicit dimension choice for softmax has been deprecated. Change the call to include dim=X as an argument.\n",
      "  input = module(input)\n"
     ]
    },
    {
     "name": "stdout",
     "output_type": "stream",
     "text": [
      "Step [0/3]\t loss_instance: 6.2901387214660645\t loss_cluster: 1.5348843336105347\n",
      "\n",
      "Epoch [150/500]\t Loss: 7.823465506235759 \n",
      "\n",
      "Step [0/1]\t Computing features...\n",
      "Features shape (1714,)\n",
      "14\n",
      "Test NMI = 0.4304 ARI = 0.1835 F = 0.3040 ACC = 0.3168\n",
      "================================================================\n",
      "\n"
     ]
    },
    {
     "name": "stderr",
     "output_type": "stream",
     "text": [
      "C:\\Users\\Tom-G\\.conda\\envs\\torchenv\\lib\\site-packages\\torch\\nn\\modules\\container.py:141: UserWarning: Implicit dimension choice for softmax has been deprecated. Change the call to include dim=X as an argument.\n",
      "  input = module(input)\n"
     ]
    },
    {
     "name": "stdout",
     "output_type": "stream",
     "text": [
      "Step [0/3]\t loss_instance: 6.296755790710449\t loss_cluster: 1.5339792966842651\n",
      "\n",
      "Epoch [151/500]\t Loss: 7.8277614911397295 \n",
      "\n",
      "Step [0/1]\t Computing features...\n",
      "Features shape (1714,)\n",
      "14\n",
      "Test NMI = 0.4287 ARI = 0.1834 F = 0.3038 ACC = 0.3191\n",
      "================================================================\n",
      "\n"
     ]
    },
    {
     "name": "stderr",
     "output_type": "stream",
     "text": [
      "C:\\Users\\Tom-G\\.conda\\envs\\torchenv\\lib\\site-packages\\torch\\nn\\modules\\container.py:141: UserWarning: Implicit dimension choice for softmax has been deprecated. Change the call to include dim=X as an argument.\n",
      "  input = module(input)\n"
     ]
    },
    {
     "name": "stdout",
     "output_type": "stream",
     "text": [
      "Step [0/3]\t loss_instance: 6.289278984069824\t loss_cluster: 1.536116361618042\n",
      "\n",
      "Epoch [152/500]\t Loss: 7.821711381276448 \n",
      "\n",
      "Step [0/1]\t Computing features...\n",
      "Features shape (1714,)\n",
      "14\n",
      "Test NMI = 0.4276 ARI = 0.1805 F = 0.3009 ACC = 0.3156\n",
      "================================================================\n",
      "\n"
     ]
    },
    {
     "name": "stderr",
     "output_type": "stream",
     "text": [
      "C:\\Users\\Tom-G\\.conda\\envs\\torchenv\\lib\\site-packages\\torch\\nn\\modules\\container.py:141: UserWarning: Implicit dimension choice for softmax has been deprecated. Change the call to include dim=X as an argument.\n",
      "  input = module(input)\n"
     ]
    },
    {
     "name": "stdout",
     "output_type": "stream",
     "text": [
      "Step [0/3]\t loss_instance: 6.288519382476807\t loss_cluster: 1.5402573347091675\n",
      "\n",
      "Epoch [153/500]\t Loss: 7.827034155527751 \n",
      "\n",
      "Step [0/1]\t Computing features...\n",
      "Features shape (1714,)\n",
      "14\n",
      "Test NMI = 0.4264 ARI = 0.1803 F = 0.3007 ACC = 0.3151\n",
      "================================================================\n",
      "\n"
     ]
    },
    {
     "name": "stderr",
     "output_type": "stream",
     "text": [
      "C:\\Users\\Tom-G\\.conda\\envs\\torchenv\\lib\\site-packages\\torch\\nn\\modules\\container.py:141: UserWarning: Implicit dimension choice for softmax has been deprecated. Change the call to include dim=X as an argument.\n",
      "  input = module(input)\n"
     ]
    },
    {
     "name": "stdout",
     "output_type": "stream",
     "text": [
      "Step [0/3]\t loss_instance: 6.285849094390869\t loss_cluster: 1.5329257249832153\n",
      "\n",
      "Epoch [154/500]\t Loss: 7.82170565923055 \n",
      "\n",
      "Step [0/1]\t Computing features...\n",
      "Features shape (1714,)\n",
      "14\n",
      "Test NMI = 0.4281 ARI = 0.1821 F = 0.3025 ACC = 0.3168\n",
      "================================================================\n",
      "\n"
     ]
    },
    {
     "name": "stderr",
     "output_type": "stream",
     "text": [
      "C:\\Users\\Tom-G\\.conda\\envs\\torchenv\\lib\\site-packages\\torch\\nn\\modules\\container.py:141: UserWarning: Implicit dimension choice for softmax has been deprecated. Change the call to include dim=X as an argument.\n",
      "  input = module(input)\n"
     ]
    },
    {
     "name": "stdout",
     "output_type": "stream",
     "text": [
      "Step [0/3]\t loss_instance: 6.2885847091674805\t loss_cluster: 1.5335782766342163\n",
      "\n",
      "Epoch [155/500]\t Loss: 7.818467458089192 \n",
      "\n",
      "Step [0/1]\t Computing features...\n",
      "Features shape (1714,)\n",
      "14\n",
      "Test NMI = 0.4280 ARI = 0.1817 F = 0.3021 ACC = 0.3162\n",
      "================================================================\n",
      "\n"
     ]
    },
    {
     "name": "stderr",
     "output_type": "stream",
     "text": [
      "C:\\Users\\Tom-G\\.conda\\envs\\torchenv\\lib\\site-packages\\torch\\nn\\modules\\container.py:141: UserWarning: Implicit dimension choice for softmax has been deprecated. Change the call to include dim=X as an argument.\n",
      "  input = module(input)\n"
     ]
    },
    {
     "name": "stdout",
     "output_type": "stream",
     "text": [
      "Step [0/3]\t loss_instance: 6.287460803985596\t loss_cluster: 1.5350524187088013\n",
      "\n",
      "Epoch [156/500]\t Loss: 7.819622039794922 \n",
      "\n",
      "Step [0/1]\t Computing features...\n",
      "Features shape (1714,)\n",
      "14\n",
      "Test NMI = 0.4273 ARI = 0.1820 F = 0.3024 ACC = 0.3168\n",
      "================================================================\n",
      "\n"
     ]
    },
    {
     "name": "stderr",
     "output_type": "stream",
     "text": [
      "C:\\Users\\Tom-G\\.conda\\envs\\torchenv\\lib\\site-packages\\torch\\nn\\modules\\container.py:141: UserWarning: Implicit dimension choice for softmax has been deprecated. Change the call to include dim=X as an argument.\n",
      "  input = module(input)\n"
     ]
    },
    {
     "name": "stdout",
     "output_type": "stream",
     "text": [
      "Step [0/3]\t loss_instance: 6.284421443939209\t loss_cluster: 1.5351951122283936\n",
      "\n",
      "Epoch [157/500]\t Loss: 7.827381769816081 \n",
      "\n",
      "Step [0/1]\t Computing features...\n",
      "Features shape (1714,)\n",
      "14\n",
      "Test NMI = 0.4296 ARI = 0.1824 F = 0.3028 ACC = 0.3180\n",
      "================================================================\n",
      "\n"
     ]
    },
    {
     "name": "stderr",
     "output_type": "stream",
     "text": [
      "C:\\Users\\Tom-G\\.conda\\envs\\torchenv\\lib\\site-packages\\torch\\nn\\modules\\container.py:141: UserWarning: Implicit dimension choice for softmax has been deprecated. Change the call to include dim=X as an argument.\n",
      "  input = module(input)\n"
     ]
    },
    {
     "name": "stdout",
     "output_type": "stream",
     "text": [
      "Step [0/3]\t loss_instance: 6.281610012054443\t loss_cluster: 1.5318942070007324\n",
      "\n",
      "Epoch [158/500]\t Loss: 7.823359648386638 \n",
      "\n",
      "Step [0/1]\t Computing features...\n",
      "Features shape (1714,)\n",
      "14\n",
      "Test NMI = 0.4293 ARI = 0.1818 F = 0.3022 ACC = 0.3156\n",
      "================================================================\n",
      "\n"
     ]
    },
    {
     "name": "stderr",
     "output_type": "stream",
     "text": [
      "C:\\Users\\Tom-G\\.conda\\envs\\torchenv\\lib\\site-packages\\torch\\nn\\modules\\container.py:141: UserWarning: Implicit dimension choice for softmax has been deprecated. Change the call to include dim=X as an argument.\n",
      "  input = module(input)\n"
     ]
    },
    {
     "name": "stdout",
     "output_type": "stream",
     "text": [
      "Step [0/3]\t loss_instance: 6.284307956695557\t loss_cluster: 1.5346442461013794\n",
      "\n",
      "Epoch [159/500]\t Loss: 7.81734561920166 \n",
      "\n",
      "Step [0/1]\t Computing features...\n",
      "Features shape (1714,)\n",
      "14\n",
      "Test NMI = 0.4281 ARI = 0.1797 F = 0.3001 ACC = 0.3133\n",
      "================================================================\n",
      "\n"
     ]
    },
    {
     "name": "stderr",
     "output_type": "stream",
     "text": [
      "C:\\Users\\Tom-G\\.conda\\envs\\torchenv\\lib\\site-packages\\torch\\nn\\modules\\container.py:141: UserWarning: Implicit dimension choice for softmax has been deprecated. Change the call to include dim=X as an argument.\n",
      "  input = module(input)\n"
     ]
    },
    {
     "name": "stdout",
     "output_type": "stream",
     "text": [
      "Step [0/3]\t loss_instance: 6.283024311065674\t loss_cluster: 1.5303720235824585\n",
      "\n",
      "Epoch [160/500]\t Loss: 7.815817038218181 \n",
      "\n",
      "Step [0/1]\t Computing features...\n",
      "Features shape (1714,)\n",
      "14\n",
      "Test NMI = 0.4265 ARI = 0.1790 F = 0.2993 ACC = 0.3121\n",
      "================================================================\n",
      "\n"
     ]
    },
    {
     "name": "stderr",
     "output_type": "stream",
     "text": [
      "C:\\Users\\Tom-G\\.conda\\envs\\torchenv\\lib\\site-packages\\torch\\nn\\modules\\container.py:141: UserWarning: Implicit dimension choice for softmax has been deprecated. Change the call to include dim=X as an argument.\n",
      "  input = module(input)\n"
     ]
    },
    {
     "name": "stdout",
     "output_type": "stream",
     "text": [
      "Step [0/3]\t loss_instance: 6.285021781921387\t loss_cluster: 1.53471839427948\n",
      "\n",
      "Epoch [161/500]\t Loss: 7.8160780270894366 \n",
      "\n",
      "Step [0/1]\t Computing features...\n",
      "Features shape (1714,)\n",
      "14\n",
      "Test NMI = 0.4252 ARI = 0.1799 F = 0.3003 ACC = 0.3174\n",
      "================================================================\n",
      "\n"
     ]
    },
    {
     "name": "stderr",
     "output_type": "stream",
     "text": [
      "C:\\Users\\Tom-G\\.conda\\envs\\torchenv\\lib\\site-packages\\torch\\nn\\modules\\container.py:141: UserWarning: Implicit dimension choice for softmax has been deprecated. Change the call to include dim=X as an argument.\n",
      "  input = module(input)\n"
     ]
    },
    {
     "name": "stdout",
     "output_type": "stream",
     "text": [
      "Step [0/3]\t loss_instance: 6.284868240356445\t loss_cluster: 1.5362402200698853\n",
      "\n",
      "Epoch [162/500]\t Loss: 7.815281232198079 \n",
      "\n",
      "Step [0/1]\t Computing features...\n",
      "Features shape (1714,)\n",
      "14\n",
      "Test NMI = 0.4277 ARI = 0.1814 F = 0.3018 ACC = 0.3197\n",
      "================================================================\n",
      "\n"
     ]
    },
    {
     "name": "stderr",
     "output_type": "stream",
     "text": [
      "C:\\Users\\Tom-G\\.conda\\envs\\torchenv\\lib\\site-packages\\torch\\nn\\modules\\container.py:141: UserWarning: Implicit dimension choice for softmax has been deprecated. Change the call to include dim=X as an argument.\n",
      "  input = module(input)\n"
     ]
    },
    {
     "name": "stdout",
     "output_type": "stream",
     "text": [
      "Step [0/3]\t loss_instance: 6.279682636260986\t loss_cluster: 1.5322240591049194\n",
      "\n",
      "Epoch [163/500]\t Loss: 7.819431304931641 \n",
      "\n",
      "Step [0/1]\t Computing features...\n",
      "Features shape (1714,)\n",
      "14\n",
      "Test NMI = 0.4290 ARI = 0.1814 F = 0.3018 ACC = 0.3145\n",
      "================================================================\n",
      "\n"
     ]
    },
    {
     "name": "stderr",
     "output_type": "stream",
     "text": [
      "C:\\Users\\Tom-G\\.conda\\envs\\torchenv\\lib\\site-packages\\torch\\nn\\modules\\container.py:141: UserWarning: Implicit dimension choice for softmax has been deprecated. Change the call to include dim=X as an argument.\n",
      "  input = module(input)\n"
     ]
    },
    {
     "name": "stdout",
     "output_type": "stream",
     "text": [
      "Step [0/3]\t loss_instance: 6.279792785644531\t loss_cluster: 1.5338575839996338\n",
      "\n",
      "Epoch [164/500]\t Loss: 7.816769123077393 \n",
      "\n",
      "Step [0/1]\t Computing features...\n",
      "Features shape (1714,)\n",
      "14\n",
      "Test NMI = 0.4293 ARI = 0.1809 F = 0.3013 ACC = 0.3121\n",
      "================================================================\n",
      "\n"
     ]
    },
    {
     "name": "stderr",
     "output_type": "stream",
     "text": [
      "C:\\Users\\Tom-G\\.conda\\envs\\torchenv\\lib\\site-packages\\torch\\nn\\modules\\container.py:141: UserWarning: Implicit dimension choice for softmax has been deprecated. Change the call to include dim=X as an argument.\n",
      "  input = module(input)\n"
     ]
    },
    {
     "name": "stdout",
     "output_type": "stream",
     "text": [
      "Step [0/3]\t loss_instance: 6.2844743728637695\t loss_cluster: 1.5377161502838135\n",
      "\n",
      "Epoch [165/500]\t Loss: 7.8223849932352705 \n",
      "\n",
      "Step [0/1]\t Computing features...\n",
      "Features shape (1714,)\n",
      "14\n",
      "Test NMI = 0.4288 ARI = 0.1802 F = 0.3006 ACC = 0.3133\n",
      "================================================================\n",
      "\n"
     ]
    },
    {
     "name": "stderr",
     "output_type": "stream",
     "text": [
      "C:\\Users\\Tom-G\\.conda\\envs\\torchenv\\lib\\site-packages\\torch\\nn\\modules\\container.py:141: UserWarning: Implicit dimension choice for softmax has been deprecated. Change the call to include dim=X as an argument.\n",
      "  input = module(input)\n"
     ]
    },
    {
     "name": "stdout",
     "output_type": "stream",
     "text": [
      "Step [0/3]\t loss_instance: 6.291523456573486\t loss_cluster: 1.5288236141204834\n",
      "\n",
      "Epoch [166/500]\t Loss: 7.815762360890706 \n",
      "\n",
      "Step [0/1]\t Computing features...\n",
      "Features shape (1714,)\n",
      "14\n",
      "Test NMI = 0.4266 ARI = 0.1796 F = 0.3000 ACC = 0.3121\n",
      "================================================================\n",
      "\n"
     ]
    },
    {
     "name": "stderr",
     "output_type": "stream",
     "text": [
      "C:\\Users\\Tom-G\\.conda\\envs\\torchenv\\lib\\site-packages\\torch\\nn\\modules\\container.py:141: UserWarning: Implicit dimension choice for softmax has been deprecated. Change the call to include dim=X as an argument.\n",
      "  input = module(input)\n"
     ]
    },
    {
     "name": "stdout",
     "output_type": "stream",
     "text": [
      "Step [0/3]\t loss_instance: 6.280813694000244\t loss_cluster: 1.5331612825393677\n",
      "\n",
      "Epoch [167/500]\t Loss: 7.8109660148620605 \n",
      "\n",
      "Step [0/1]\t Computing features...\n",
      "Features shape (1714,)\n",
      "14\n",
      "Test NMI = 0.4270 ARI = 0.1811 F = 0.3015 ACC = 0.3151\n",
      "================================================================\n",
      "\n"
     ]
    },
    {
     "name": "stderr",
     "output_type": "stream",
     "text": [
      "C:\\Users\\Tom-G\\.conda\\envs\\torchenv\\lib\\site-packages\\torch\\nn\\modules\\container.py:141: UserWarning: Implicit dimension choice for softmax has been deprecated. Change the call to include dim=X as an argument.\n",
      "  input = module(input)\n"
     ]
    },
    {
     "name": "stdout",
     "output_type": "stream",
     "text": [
      "Step [0/3]\t loss_instance: 6.279990196228027\t loss_cluster: 1.537333369255066\n",
      "\n",
      "Epoch [168/500]\t Loss: 7.810348192850749 \n",
      "\n",
      "Step [0/1]\t Computing features...\n",
      "Features shape (1714,)\n",
      "14\n",
      "Test NMI = 0.4279 ARI = 0.1812 F = 0.3016 ACC = 0.3145\n",
      "================================================================\n",
      "\n"
     ]
    },
    {
     "name": "stderr",
     "output_type": "stream",
     "text": [
      "C:\\Users\\Tom-G\\.conda\\envs\\torchenv\\lib\\site-packages\\torch\\nn\\modules\\container.py:141: UserWarning: Implicit dimension choice for softmax has been deprecated. Change the call to include dim=X as an argument.\n",
      "  input = module(input)\n"
     ]
    },
    {
     "name": "stdout",
     "output_type": "stream",
     "text": [
      "Step [0/3]\t loss_instance: 6.275636196136475\t loss_cluster: 1.5344576835632324\n",
      "\n",
      "Epoch [169/500]\t Loss: 7.8075822194417315 \n",
      "\n",
      "Step [0/1]\t Computing features...\n",
      "Features shape (1714,)\n",
      "14\n",
      "Test NMI = 0.4278 ARI = 0.1809 F = 0.3013 ACC = 0.3121\n",
      "================================================================\n",
      "\n"
     ]
    },
    {
     "name": "stderr",
     "output_type": "stream",
     "text": [
      "C:\\Users\\Tom-G\\.conda\\envs\\torchenv\\lib\\site-packages\\torch\\nn\\modules\\container.py:141: UserWarning: Implicit dimension choice for softmax has been deprecated. Change the call to include dim=X as an argument.\n",
      "  input = module(input)\n"
     ]
    },
    {
     "name": "stdout",
     "output_type": "stream",
     "text": [
      "Step [0/3]\t loss_instance: 6.273894309997559\t loss_cluster: 1.534059762954712\n",
      "\n",
      "Epoch [170/500]\t Loss: 7.806914170583089 \n",
      "\n",
      "Step [0/1]\t Computing features...\n",
      "Features shape (1714,)\n",
      "14\n",
      "Test NMI = 0.4276 ARI = 0.1803 F = 0.3007 ACC = 0.3092\n",
      "================================================================\n",
      "\n"
     ]
    },
    {
     "name": "stderr",
     "output_type": "stream",
     "text": [
      "C:\\Users\\Tom-G\\.conda\\envs\\torchenv\\lib\\site-packages\\torch\\nn\\modules\\container.py:141: UserWarning: Implicit dimension choice for softmax has been deprecated. Change the call to include dim=X as an argument.\n",
      "  input = module(input)\n"
     ]
    },
    {
     "name": "stdout",
     "output_type": "stream",
     "text": [
      "Step [0/3]\t loss_instance: 6.274700164794922\t loss_cluster: 1.536421537399292\n",
      "\n",
      "Epoch [171/500]\t Loss: 7.806768417358398 \n",
      "\n",
      "Step [0/1]\t Computing features...\n",
      "Features shape (1714,)\n",
      "14\n",
      "Test NMI = 0.4287 ARI = 0.1811 F = 0.3016 ACC = 0.3127\n",
      "================================================================\n",
      "\n"
     ]
    },
    {
     "name": "stderr",
     "output_type": "stream",
     "text": [
      "C:\\Users\\Tom-G\\.conda\\envs\\torchenv\\lib\\site-packages\\torch\\nn\\modules\\container.py:141: UserWarning: Implicit dimension choice for softmax has been deprecated. Change the call to include dim=X as an argument.\n",
      "  input = module(input)\n"
     ]
    },
    {
     "name": "stdout",
     "output_type": "stream",
     "text": [
      "Step [0/3]\t loss_instance: 6.273888111114502\t loss_cluster: 1.5325790643692017\n",
      "\n",
      "Epoch [172/500]\t Loss: 7.808653195699056 \n",
      "\n",
      "Step [0/1]\t Computing features...\n",
      "Features shape (1714,)\n",
      "14\n",
      "Test NMI = 0.4255 ARI = 0.1793 F = 0.2997 ACC = 0.3156\n",
      "================================================================\n",
      "\n"
     ]
    },
    {
     "name": "stderr",
     "output_type": "stream",
     "text": [
      "C:\\Users\\Tom-G\\.conda\\envs\\torchenv\\lib\\site-packages\\torch\\nn\\modules\\container.py:141: UserWarning: Implicit dimension choice for softmax has been deprecated. Change the call to include dim=X as an argument.\n",
      "  input = module(input)\n"
     ]
    },
    {
     "name": "stdout",
     "output_type": "stream",
     "text": [
      "Step [0/3]\t loss_instance: 6.273871898651123\t loss_cluster: 1.5267328023910522\n",
      "\n",
      "Epoch [173/500]\t Loss: 7.804055690765381 \n",
      "\n",
      "Step [0/1]\t Computing features...\n",
      "Features shape (1714,)\n",
      "14\n",
      "Test NMI = 0.4267 ARI = 0.1800 F = 0.3004 ACC = 0.3156\n",
      "================================================================\n",
      "\n"
     ]
    },
    {
     "name": "stderr",
     "output_type": "stream",
     "text": [
      "C:\\Users\\Tom-G\\.conda\\envs\\torchenv\\lib\\site-packages\\torch\\nn\\modules\\container.py:141: UserWarning: Implicit dimension choice for softmax has been deprecated. Change the call to include dim=X as an argument.\n",
      "  input = module(input)\n"
     ]
    },
    {
     "name": "stdout",
     "output_type": "stream",
     "text": [
      "Step [0/3]\t loss_instance: 6.275638103485107\t loss_cluster: 1.5313597917556763\n",
      "\n",
      "Epoch [174/500]\t Loss: 7.807705084482829 \n",
      "\n",
      "Step [0/1]\t Computing features...\n",
      "Features shape (1714,)\n",
      "14\n",
      "Test NMI = 0.4264 ARI = 0.1798 F = 0.3002 ACC = 0.3151\n",
      "================================================================\n",
      "\n"
     ]
    },
    {
     "name": "stderr",
     "output_type": "stream",
     "text": [
      "C:\\Users\\Tom-G\\.conda\\envs\\torchenv\\lib\\site-packages\\torch\\nn\\modules\\container.py:141: UserWarning: Implicit dimension choice for softmax has been deprecated. Change the call to include dim=X as an argument.\n",
      "  input = module(input)\n"
     ]
    },
    {
     "name": "stdout",
     "output_type": "stream",
     "text": [
      "Step [0/3]\t loss_instance: 6.273177623748779\t loss_cluster: 1.5328642129898071\n",
      "\n",
      "Epoch [175/500]\t Loss: 7.809105555216472 \n",
      "\n",
      "Step [0/1]\t Computing features...\n",
      "Features shape (1714,)\n",
      "14\n",
      "Test NMI = 0.4272 ARI = 0.1808 F = 0.3012 ACC = 0.3145\n",
      "================================================================\n",
      "\n"
     ]
    },
    {
     "name": "stderr",
     "output_type": "stream",
     "text": [
      "C:\\Users\\Tom-G\\.conda\\envs\\torchenv\\lib\\site-packages\\torch\\nn\\modules\\container.py:141: UserWarning: Implicit dimension choice for softmax has been deprecated. Change the call to include dim=X as an argument.\n",
      "  input = module(input)\n"
     ]
    },
    {
     "name": "stdout",
     "output_type": "stream",
     "text": [
      "Step [0/3]\t loss_instance: 6.272150993347168\t loss_cluster: 1.5308964252471924\n",
      "\n",
      "Epoch [176/500]\t Loss: 7.807485103607178 \n",
      "\n",
      "Step [0/1]\t Computing features...\n",
      "Features shape (1714,)\n",
      "14\n",
      "Test NMI = 0.4278 ARI = 0.1810 F = 0.3014 ACC = 0.3110\n",
      "================================================================\n",
      "\n"
     ]
    },
    {
     "name": "stderr",
     "output_type": "stream",
     "text": [
      "C:\\Users\\Tom-G\\.conda\\envs\\torchenv\\lib\\site-packages\\torch\\nn\\modules\\container.py:141: UserWarning: Implicit dimension choice for softmax has been deprecated. Change the call to include dim=X as an argument.\n",
      "  input = module(input)\n"
     ]
    },
    {
     "name": "stdout",
     "output_type": "stream",
     "text": [
      "Step [0/3]\t loss_instance: 6.275989055633545\t loss_cluster: 1.5329285860061646\n",
      "\n",
      "Epoch [177/500]\t Loss: 7.807507514953613 \n",
      "\n",
      "Step [0/1]\t Computing features...\n",
      "Features shape (1714,)\n",
      "14\n",
      "Test NMI = 0.4271 ARI = 0.1796 F = 0.3000 ACC = 0.3110\n",
      "================================================================\n",
      "\n"
     ]
    },
    {
     "name": "stderr",
     "output_type": "stream",
     "text": [
      "C:\\Users\\Tom-G\\.conda\\envs\\torchenv\\lib\\site-packages\\torch\\nn\\modules\\container.py:141: UserWarning: Implicit dimension choice for softmax has been deprecated. Change the call to include dim=X as an argument.\n",
      "  input = module(input)\n"
     ]
    },
    {
     "name": "stdout",
     "output_type": "stream",
     "text": [
      "Step [0/3]\t loss_instance: 6.276237964630127\t loss_cluster: 1.5321277379989624\n",
      "\n",
      "Epoch [178/500]\t Loss: 7.805553277333577 \n",
      "\n",
      "Step [0/1]\t Computing features...\n",
      "Features shape (1714,)\n",
      "14\n",
      "Test NMI = 0.4257 ARI = 0.1794 F = 0.2998 ACC = 0.3127\n",
      "================================================================\n",
      "\n"
     ]
    },
    {
     "name": "stderr",
     "output_type": "stream",
     "text": [
      "C:\\Users\\Tom-G\\.conda\\envs\\torchenv\\lib\\site-packages\\torch\\nn\\modules\\container.py:141: UserWarning: Implicit dimension choice for softmax has been deprecated. Change the call to include dim=X as an argument.\n",
      "  input = module(input)\n"
     ]
    },
    {
     "name": "stdout",
     "output_type": "stream",
     "text": [
      "Step [0/3]\t loss_instance: 6.271869659423828\t loss_cluster: 1.5387804508209229\n",
      "\n",
      "Epoch [179/500]\t Loss: 7.809263706207275 \n",
      "\n",
      "Step [0/1]\t Computing features...\n",
      "Features shape (1714,)\n",
      "14\n",
      "Test NMI = 0.4231 ARI = 0.1770 F = 0.2974 ACC = 0.3092\n",
      "================================================================\n",
      "\n"
     ]
    },
    {
     "name": "stderr",
     "output_type": "stream",
     "text": [
      "C:\\Users\\Tom-G\\.conda\\envs\\torchenv\\lib\\site-packages\\torch\\nn\\modules\\container.py:141: UserWarning: Implicit dimension choice for softmax has been deprecated. Change the call to include dim=X as an argument.\n",
      "  input = module(input)\n"
     ]
    },
    {
     "name": "stdout",
     "output_type": "stream",
     "text": [
      "Step [0/3]\t loss_instance: 6.27042293548584\t loss_cluster: 1.5325769186019897\n",
      "\n",
      "Epoch [180/500]\t Loss: 7.80247147878011 \n",
      "\n",
      "Step [0/1]\t Computing features...\n",
      "Features shape (1714,)\n",
      "14\n",
      "Test NMI = 0.4238 ARI = 0.1777 F = 0.2981 ACC = 0.3098\n",
      "================================================================\n",
      "\n"
     ]
    },
    {
     "name": "stderr",
     "output_type": "stream",
     "text": [
      "C:\\Users\\Tom-G\\.conda\\envs\\torchenv\\lib\\site-packages\\torch\\nn\\modules\\container.py:141: UserWarning: Implicit dimension choice for softmax has been deprecated. Change the call to include dim=X as an argument.\n",
      "  input = module(input)\n"
     ]
    },
    {
     "name": "stdout",
     "output_type": "stream",
     "text": [
      "Step [0/3]\t loss_instance: 6.274158477783203\t loss_cluster: 1.5309817790985107\n",
      "\n",
      "Epoch [181/500]\t Loss: 7.804215431213379 \n",
      "\n",
      "Step [0/1]\t Computing features...\n",
      "Features shape (1714,)\n",
      "14\n",
      "Test NMI = 0.4258 ARI = 0.1792 F = 0.2996 ACC = 0.3121\n",
      "================================================================\n",
      "\n"
     ]
    },
    {
     "name": "stderr",
     "output_type": "stream",
     "text": [
      "C:\\Users\\Tom-G\\.conda\\envs\\torchenv\\lib\\site-packages\\torch\\nn\\modules\\container.py:141: UserWarning: Implicit dimension choice for softmax has been deprecated. Change the call to include dim=X as an argument.\n",
      "  input = module(input)\n"
     ]
    },
    {
     "name": "stdout",
     "output_type": "stream",
     "text": [
      "Step [0/3]\t loss_instance: 6.271409034729004\t loss_cluster: 1.5316202640533447\n",
      "\n",
      "Epoch [182/500]\t Loss: 7.803363800048828 \n",
      "\n",
      "Step [0/1]\t Computing features...\n",
      "Features shape (1714,)\n",
      "14\n",
      "Test NMI = 0.4284 ARI = 0.1820 F = 0.3024 ACC = 0.3197\n",
      "================================================================\n",
      "\n"
     ]
    },
    {
     "name": "stderr",
     "output_type": "stream",
     "text": [
      "C:\\Users\\Tom-G\\.conda\\envs\\torchenv\\lib\\site-packages\\torch\\nn\\modules\\container.py:141: UserWarning: Implicit dimension choice for softmax has been deprecated. Change the call to include dim=X as an argument.\n",
      "  input = module(input)\n"
     ]
    },
    {
     "name": "stdout",
     "output_type": "stream",
     "text": [
      "Step [0/3]\t loss_instance: 6.2801008224487305\t loss_cluster: 1.5290966033935547\n",
      "\n",
      "Epoch [183/500]\t Loss: 7.810140609741211 \n",
      "\n",
      "Step [0/1]\t Computing features...\n",
      "Features shape (1714,)\n",
      "14\n",
      "Test NMI = 0.4243 ARI = 0.1776 F = 0.2979 ACC = 0.3127\n",
      "================================================================\n",
      "\n"
     ]
    },
    {
     "name": "stderr",
     "output_type": "stream",
     "text": [
      "C:\\Users\\Tom-G\\.conda\\envs\\torchenv\\lib\\site-packages\\torch\\nn\\modules\\container.py:141: UserWarning: Implicit dimension choice for softmax has been deprecated. Change the call to include dim=X as an argument.\n",
      "  input = module(input)\n"
     ]
    },
    {
     "name": "stdout",
     "output_type": "stream",
     "text": [
      "Step [0/3]\t loss_instance: 6.279269218444824\t loss_cluster: 1.5259239673614502\n",
      "\n",
      "Epoch [184/500]\t Loss: 7.806954065958659 \n",
      "\n",
      "Step [0/1]\t Computing features...\n",
      "Features shape (1714,)\n",
      "14\n",
      "Test NMI = 0.4234 ARI = 0.1781 F = 0.2985 ACC = 0.3139\n",
      "================================================================\n",
      "\n"
     ]
    },
    {
     "name": "stderr",
     "output_type": "stream",
     "text": [
      "C:\\Users\\Tom-G\\.conda\\envs\\torchenv\\lib\\site-packages\\torch\\nn\\modules\\container.py:141: UserWarning: Implicit dimension choice for softmax has been deprecated. Change the call to include dim=X as an argument.\n",
      "  input = module(input)\n"
     ]
    },
    {
     "name": "stdout",
     "output_type": "stream",
     "text": [
      "Step [0/3]\t loss_instance: 6.27957820892334\t loss_cluster: 1.5357630252838135\n",
      "\n",
      "Epoch [185/500]\t Loss: 7.808038552602132 \n",
      "\n",
      "Step [0/1]\t Computing features...\n",
      "Features shape (1714,)\n",
      "14\n",
      "Test NMI = 0.4256 ARI = 0.1796 F = 0.3000 ACC = 0.3151\n",
      "================================================================\n",
      "\n"
     ]
    },
    {
     "name": "stderr",
     "output_type": "stream",
     "text": [
      "C:\\Users\\Tom-G\\.conda\\envs\\torchenv\\lib\\site-packages\\torch\\nn\\modules\\container.py:141: UserWarning: Implicit dimension choice for softmax has been deprecated. Change the call to include dim=X as an argument.\n",
      "  input = module(input)\n"
     ]
    },
    {
     "name": "stdout",
     "output_type": "stream",
     "text": [
      "Step [0/3]\t loss_instance: 6.27431058883667\t loss_cluster: 1.5308301448822021\n",
      "\n",
      "Epoch [186/500]\t Loss: 7.8097764650980634 \n",
      "\n",
      "Step [0/1]\t Computing features...\n",
      "Features shape (1714,)\n",
      "14\n",
      "Test NMI = 0.4254 ARI = 0.1795 F = 0.2998 ACC = 0.3139\n",
      "================================================================\n",
      "\n"
     ]
    },
    {
     "name": "stderr",
     "output_type": "stream",
     "text": [
      "C:\\Users\\Tom-G\\.conda\\envs\\torchenv\\lib\\site-packages\\torch\\nn\\modules\\container.py:141: UserWarning: Implicit dimension choice for softmax has been deprecated. Change the call to include dim=X as an argument.\n",
      "  input = module(input)\n"
     ]
    },
    {
     "name": "stdout",
     "output_type": "stream",
     "text": [
      "Step [0/3]\t loss_instance: 6.275943756103516\t loss_cluster: 1.526047706604004\n",
      "\n",
      "Epoch [187/500]\t Loss: 7.801502704620361 \n",
      "\n",
      "Step [0/1]\t Computing features...\n",
      "Features shape (1714,)\n",
      "14\n",
      "Test NMI = 0.4256 ARI = 0.1797 F = 0.3001 ACC = 0.3121\n",
      "================================================================\n",
      "\n"
     ]
    },
    {
     "name": "stderr",
     "output_type": "stream",
     "text": [
      "C:\\Users\\Tom-G\\.conda\\envs\\torchenv\\lib\\site-packages\\torch\\nn\\modules\\container.py:141: UserWarning: Implicit dimension choice for softmax has been deprecated. Change the call to include dim=X as an argument.\n",
      "  input = module(input)\n"
     ]
    },
    {
     "name": "stdout",
     "output_type": "stream",
     "text": [
      "Step [0/3]\t loss_instance: 6.269657135009766\t loss_cluster: 1.5272908210754395\n",
      "\n",
      "Epoch [188/500]\t Loss: 7.798393726348877 \n",
      "\n",
      "Step [0/1]\t Computing features...\n",
      "Features shape (1714,)\n",
      "14\n",
      "Test NMI = 0.4270 ARI = 0.1806 F = 0.3010 ACC = 0.3116\n",
      "================================================================\n",
      "\n"
     ]
    },
    {
     "name": "stderr",
     "output_type": "stream",
     "text": [
      "C:\\Users\\Tom-G\\.conda\\envs\\torchenv\\lib\\site-packages\\torch\\nn\\modules\\container.py:141: UserWarning: Implicit dimension choice for softmax has been deprecated. Change the call to include dim=X as an argument.\n",
      "  input = module(input)\n"
     ]
    },
    {
     "name": "stdout",
     "output_type": "stream",
     "text": [
      "Step [0/3]\t loss_instance: 6.2694830894470215\t loss_cluster: 1.5295722484588623\n",
      "\n",
      "Epoch [189/500]\t Loss: 7.798096974690755 \n",
      "\n",
      "Step [0/1]\t Computing features...\n",
      "Features shape (1714,)\n",
      "14\n",
      "Test NMI = 0.4241 ARI = 0.1789 F = 0.2993 ACC = 0.3104\n",
      "================================================================\n",
      "\n"
     ]
    },
    {
     "name": "stderr",
     "output_type": "stream",
     "text": [
      "C:\\Users\\Tom-G\\.conda\\envs\\torchenv\\lib\\site-packages\\torch\\nn\\modules\\container.py:141: UserWarning: Implicit dimension choice for softmax has been deprecated. Change the call to include dim=X as an argument.\n",
      "  input = module(input)\n"
     ]
    },
    {
     "name": "stdout",
     "output_type": "stream",
     "text": [
      "Step [0/3]\t loss_instance: 6.265377998352051\t loss_cluster: 1.5257972478866577\n",
      "\n",
      "Epoch [190/500]\t Loss: 7.796276251475017 \n",
      "\n",
      "Step [0/1]\t Computing features...\n",
      "Features shape (1714,)\n",
      "14\n",
      "Test NMI = 0.4229 ARI = 0.1782 F = 0.2985 ACC = 0.3133\n",
      "================================================================\n",
      "\n"
     ]
    },
    {
     "name": "stderr",
     "output_type": "stream",
     "text": [
      "C:\\Users\\Tom-G\\.conda\\envs\\torchenv\\lib\\site-packages\\torch\\nn\\modules\\container.py:141: UserWarning: Implicit dimension choice for softmax has been deprecated. Change the call to include dim=X as an argument.\n",
      "  input = module(input)\n"
     ]
    },
    {
     "name": "stdout",
     "output_type": "stream",
     "text": [
      "Step [0/3]\t loss_instance: 6.268953800201416\t loss_cluster: 1.5274230241775513\n",
      "\n",
      "Epoch [191/500]\t Loss: 7.800753911336263 \n",
      "\n",
      "Step [0/1]\t Computing features...\n",
      "Features shape (1714,)\n",
      "14\n",
      "Test NMI = 0.4257 ARI = 0.1806 F = 0.3010 ACC = 0.3162\n",
      "================================================================\n",
      "\n"
     ]
    },
    {
     "name": "stderr",
     "output_type": "stream",
     "text": [
      "C:\\Users\\Tom-G\\.conda\\envs\\torchenv\\lib\\site-packages\\torch\\nn\\modules\\container.py:141: UserWarning: Implicit dimension choice for softmax has been deprecated. Change the call to include dim=X as an argument.\n",
      "  input = module(input)\n"
     ]
    },
    {
     "name": "stdout",
     "output_type": "stream",
     "text": [
      "Step [0/3]\t loss_instance: 6.26993465423584\t loss_cluster: 1.5306260585784912\n",
      "\n",
      "Epoch [192/500]\t Loss: 7.7980631192525225 \n",
      "\n",
      "Step [0/1]\t Computing features...\n",
      "Features shape (1714,)\n",
      "14\n",
      "Test NMI = 0.4263 ARI = 0.1812 F = 0.3016 ACC = 0.3203\n",
      "================================================================\n",
      "\n"
     ]
    },
    {
     "name": "stderr",
     "output_type": "stream",
     "text": [
      "C:\\Users\\Tom-G\\.conda\\envs\\torchenv\\lib\\site-packages\\torch\\nn\\modules\\container.py:141: UserWarning: Implicit dimension choice for softmax has been deprecated. Change the call to include dim=X as an argument.\n",
      "  input = module(input)\n"
     ]
    },
    {
     "name": "stdout",
     "output_type": "stream",
     "text": [
      "Step [0/3]\t loss_instance: 6.268882751464844\t loss_cluster: 1.5312273502349854\n",
      "\n",
      "Epoch [193/500]\t Loss: 7.800713221232097 \n",
      "\n",
      "Step [0/1]\t Computing features...\n",
      "Features shape (1714,)\n",
      "14\n",
      "Test NMI = 0.4253 ARI = 0.1784 F = 0.2988 ACC = 0.3121\n",
      "================================================================\n",
      "\n"
     ]
    },
    {
     "name": "stderr",
     "output_type": "stream",
     "text": [
      "C:\\Users\\Tom-G\\.conda\\envs\\torchenv\\lib\\site-packages\\torch\\nn\\modules\\container.py:141: UserWarning: Implicit dimension choice for softmax has been deprecated. Change the call to include dim=X as an argument.\n",
      "  input = module(input)\n"
     ]
    },
    {
     "name": "stdout",
     "output_type": "stream",
     "text": [
      "Step [0/3]\t loss_instance: 6.272017002105713\t loss_cluster: 1.5244649648666382\n",
      "\n",
      "Epoch [194/500]\t Loss: 7.796701113382976 \n",
      "\n",
      "Step [0/1]\t Computing features...\n",
      "Features shape (1714,)\n",
      "14\n",
      "Test NMI = 0.4258 ARI = 0.1792 F = 0.2996 ACC = 0.3121\n",
      "================================================================\n",
      "\n"
     ]
    },
    {
     "name": "stderr",
     "output_type": "stream",
     "text": [
      "C:\\Users\\Tom-G\\.conda\\envs\\torchenv\\lib\\site-packages\\torch\\nn\\modules\\container.py:141: UserWarning: Implicit dimension choice for softmax has been deprecated. Change the call to include dim=X as an argument.\n",
      "  input = module(input)\n"
     ]
    },
    {
     "name": "stdout",
     "output_type": "stream",
     "text": [
      "Step [0/3]\t loss_instance: 6.271030902862549\t loss_cluster: 1.529160737991333\n",
      "\n",
      "Epoch [195/500]\t Loss: 7.798329671223958 \n",
      "\n",
      "Step [0/1]\t Computing features...\n",
      "Features shape (1714,)\n",
      "14\n",
      "Test NMI = 0.4264 ARI = 0.1796 F = 0.3000 ACC = 0.3127\n",
      "================================================================\n",
      "\n"
     ]
    },
    {
     "name": "stderr",
     "output_type": "stream",
     "text": [
      "C:\\Users\\Tom-G\\.conda\\envs\\torchenv\\lib\\site-packages\\torch\\nn\\modules\\container.py:141: UserWarning: Implicit dimension choice for softmax has been deprecated. Change the call to include dim=X as an argument.\n",
      "  input = module(input)\n"
     ]
    },
    {
     "name": "stdout",
     "output_type": "stream",
     "text": [
      "Step [0/3]\t loss_instance: 6.2692437171936035\t loss_cluster: 1.5307778120040894\n",
      "\n",
      "Epoch [196/500]\t Loss: 7.798360029856364 \n",
      "\n",
      "Step [0/1]\t Computing features...\n",
      "Features shape (1714,)\n",
      "14\n",
      "Test NMI = 0.4273 ARI = 0.1802 F = 0.3006 ACC = 0.3121\n",
      "================================================================\n",
      "\n"
     ]
    },
    {
     "name": "stderr",
     "output_type": "stream",
     "text": [
      "C:\\Users\\Tom-G\\.conda\\envs\\torchenv\\lib\\site-packages\\torch\\nn\\modules\\container.py:141: UserWarning: Implicit dimension choice for softmax has been deprecated. Change the call to include dim=X as an argument.\n",
      "  input = module(input)\n"
     ]
    },
    {
     "name": "stdout",
     "output_type": "stream",
     "text": [
      "Step [0/3]\t loss_instance: 6.270045757293701\t loss_cluster: 1.5281614065170288\n",
      "\n",
      "Epoch [197/500]\t Loss: 7.7961381276448565 \n",
      "\n",
      "Step [0/1]\t Computing features...\n",
      "Features shape (1714,)\n",
      "14\n",
      "Test NMI = 0.4261 ARI = 0.1794 F = 0.2998 ACC = 0.3145\n",
      "================================================================\n",
      "\n"
     ]
    },
    {
     "name": "stderr",
     "output_type": "stream",
     "text": [
      "C:\\Users\\Tom-G\\.conda\\envs\\torchenv\\lib\\site-packages\\torch\\nn\\modules\\container.py:141: UserWarning: Implicit dimension choice for softmax has been deprecated. Change the call to include dim=X as an argument.\n",
      "  input = module(input)\n"
     ]
    },
    {
     "name": "stdout",
     "output_type": "stream",
     "text": [
      "Step [0/3]\t loss_instance: 6.276281356811523\t loss_cluster: 1.534441351890564\n",
      "\n",
      "Epoch [198/500]\t Loss: 7.802720864613851 \n",
      "\n",
      "Step [0/1]\t Computing features...\n",
      "Features shape (1714,)\n",
      "14\n",
      "Test NMI = 0.4236 ARI = 0.1794 F = 0.2997 ACC = 0.3191\n",
      "================================================================\n",
      "\n"
     ]
    },
    {
     "name": "stderr",
     "output_type": "stream",
     "text": [
      "C:\\Users\\Tom-G\\.conda\\envs\\torchenv\\lib\\site-packages\\torch\\nn\\modules\\container.py:141: UserWarning: Implicit dimension choice for softmax has been deprecated. Change the call to include dim=X as an argument.\n",
      "  input = module(input)\n"
     ]
    },
    {
     "name": "stdout",
     "output_type": "stream",
     "text": [
      "Step [0/3]\t loss_instance: 6.281166076660156\t loss_cluster: 1.525887131690979\n",
      "\n",
      "Epoch [199/500]\t Loss: 7.802714506785075 \n",
      "\n",
      "Step [0/1]\t Computing features...\n",
      "Features shape (1714,)\n",
      "14\n",
      "Test NMI = 0.4239 ARI = 0.1787 F = 0.2991 ACC = 0.3168\n",
      "================================================================\n",
      "\n"
     ]
    },
    {
     "name": "stderr",
     "output_type": "stream",
     "text": [
      "C:\\Users\\Tom-G\\.conda\\envs\\torchenv\\lib\\site-packages\\torch\\nn\\modules\\container.py:141: UserWarning: Implicit dimension choice for softmax has been deprecated. Change the call to include dim=X as an argument.\n",
      "  input = module(input)\n"
     ]
    },
    {
     "name": "stdout",
     "output_type": "stream",
     "text": [
      "Step [0/3]\t loss_instance: 6.273247718811035\t loss_cluster: 1.5303916931152344\n",
      "\n",
      "Epoch [200/500]\t Loss: 7.7996493975321455 \n",
      "\n",
      "Step [0/1]\t Computing features...\n",
      "Features shape (1714,)\n",
      "14\n",
      "Test NMI = 0.4246 ARI = 0.1799 F = 0.3003 ACC = 0.3151\n",
      "================================================================\n",
      "\n"
     ]
    },
    {
     "name": "stderr",
     "output_type": "stream",
     "text": [
      "C:\\Users\\Tom-G\\.conda\\envs\\torchenv\\lib\\site-packages\\torch\\nn\\modules\\container.py:141: UserWarning: Implicit dimension choice for softmax has been deprecated. Change the call to include dim=X as an argument.\n",
      "  input = module(input)\n"
     ]
    },
    {
     "name": "stdout",
     "output_type": "stream",
     "text": [
      "Step [0/3]\t loss_instance: 6.270977973937988\t loss_cluster: 1.526310682296753\n",
      "\n",
      "Epoch [201/500]\t Loss: 7.794993082682292 \n",
      "\n",
      "Step [0/1]\t Computing features...\n",
      "Features shape (1714,)\n",
      "14\n",
      "Test NMI = 0.4248 ARI = 0.1796 F = 0.3000 ACC = 0.3116\n",
      "================================================================\n",
      "\n"
     ]
    },
    {
     "name": "stderr",
     "output_type": "stream",
     "text": [
      "C:\\Users\\Tom-G\\.conda\\envs\\torchenv\\lib\\site-packages\\torch\\nn\\modules\\container.py:141: UserWarning: Implicit dimension choice for softmax has been deprecated. Change the call to include dim=X as an argument.\n",
      "  input = module(input)\n"
     ]
    },
    {
     "name": "stdout",
     "output_type": "stream",
     "text": [
      "Step [0/3]\t loss_instance: 6.268109321594238\t loss_cluster: 1.5280853509902954\n",
      "\n",
      "Epoch [202/500]\t Loss: 7.796650250752767 \n",
      "\n",
      "Step [0/1]\t Computing features...\n",
      "Features shape (1714,)\n",
      "14\n",
      "Test NMI = 0.4249 ARI = 0.1797 F = 0.3001 ACC = 0.3110\n",
      "================================================================\n",
      "\n"
     ]
    },
    {
     "name": "stderr",
     "output_type": "stream",
     "text": [
      "C:\\Users\\Tom-G\\.conda\\envs\\torchenv\\lib\\site-packages\\torch\\nn\\modules\\container.py:141: UserWarning: Implicit dimension choice for softmax has been deprecated. Change the call to include dim=X as an argument.\n",
      "  input = module(input)\n"
     ]
    },
    {
     "name": "stdout",
     "output_type": "stream",
     "text": [
      "Step [0/3]\t loss_instance: 6.268463134765625\t loss_cluster: 1.5268268585205078\n",
      "\n",
      "Epoch [203/500]\t Loss: 7.7964582443237305 \n",
      "\n",
      "Step [0/1]\t Computing features...\n",
      "Features shape (1714,)\n",
      "14\n",
      "Test NMI = 0.4241 ARI = 0.1797 F = 0.3001 ACC = 0.3162\n",
      "================================================================\n",
      "\n"
     ]
    },
    {
     "name": "stderr",
     "output_type": "stream",
     "text": [
      "C:\\Users\\Tom-G\\.conda\\envs\\torchenv\\lib\\site-packages\\torch\\nn\\modules\\container.py:141: UserWarning: Implicit dimension choice for softmax has been deprecated. Change the call to include dim=X as an argument.\n",
      "  input = module(input)\n"
     ]
    },
    {
     "name": "stdout",
     "output_type": "stream",
     "text": [
      "Step [0/3]\t loss_instance: 6.267367362976074\t loss_cluster: 1.5277698040008545\n",
      "\n",
      "Epoch [204/500]\t Loss: 7.795208930969238 \n",
      "\n",
      "Step [0/1]\t Computing features...\n",
      "Features shape (1714,)\n",
      "14\n",
      "Test NMI = 0.4246 ARI = 0.1799 F = 0.3003 ACC = 0.3191\n",
      "================================================================\n",
      "\n"
     ]
    },
    {
     "name": "stderr",
     "output_type": "stream",
     "text": [
      "C:\\Users\\Tom-G\\.conda\\envs\\torchenv\\lib\\site-packages\\torch\\nn\\modules\\container.py:141: UserWarning: Implicit dimension choice for softmax has been deprecated. Change the call to include dim=X as an argument.\n",
      "  input = module(input)\n"
     ]
    },
    {
     "name": "stdout",
     "output_type": "stream",
     "text": [
      "Step [0/3]\t loss_instance: 6.272574424743652\t loss_cluster: 1.5258392095565796\n",
      "\n",
      "Epoch [205/500]\t Loss: 7.79716952641805 \n",
      "\n",
      "Step [0/1]\t Computing features...\n",
      "Features shape (1714,)\n",
      "14\n",
      "Test NMI = 0.4234 ARI = 0.1776 F = 0.2980 ACC = 0.3110\n",
      "================================================================\n",
      "\n"
     ]
    },
    {
     "name": "stderr",
     "output_type": "stream",
     "text": [
      "C:\\Users\\Tom-G\\.conda\\envs\\torchenv\\lib\\site-packages\\torch\\nn\\modules\\container.py:141: UserWarning: Implicit dimension choice for softmax has been deprecated. Change the call to include dim=X as an argument.\n",
      "  input = module(input)\n"
     ]
    },
    {
     "name": "stdout",
     "output_type": "stream",
     "text": [
      "Step [0/3]\t loss_instance: 6.2674174308776855\t loss_cluster: 1.526435375213623\n",
      "\n",
      "Epoch [206/500]\t Loss: 7.795425256093343 \n",
      "\n",
      "Step [0/1]\t Computing features...\n",
      "Features shape (1714,)\n",
      "14\n",
      "Test NMI = 0.4245 ARI = 0.1784 F = 0.2988 ACC = 0.3116\n",
      "================================================================\n",
      "\n"
     ]
    },
    {
     "name": "stderr",
     "output_type": "stream",
     "text": [
      "C:\\Users\\Tom-G\\.conda\\envs\\torchenv\\lib\\site-packages\\torch\\nn\\modules\\container.py:141: UserWarning: Implicit dimension choice for softmax has been deprecated. Change the call to include dim=X as an argument.\n",
      "  input = module(input)\n"
     ]
    },
    {
     "name": "stdout",
     "output_type": "stream",
     "text": [
      "Step [0/3]\t loss_instance: 6.265880107879639\t loss_cluster: 1.5268313884735107\n",
      "\n",
      "Epoch [207/500]\t Loss: 7.791748682657878 \n",
      "\n",
      "Step [0/1]\t Computing features...\n",
      "Features shape (1714,)\n",
      "14\n",
      "Test NMI = 0.4243 ARI = 0.1782 F = 0.2985 ACC = 0.3121\n",
      "================================================================\n",
      "\n"
     ]
    },
    {
     "name": "stderr",
     "output_type": "stream",
     "text": [
      "C:\\Users\\Tom-G\\.conda\\envs\\torchenv\\lib\\site-packages\\torch\\nn\\modules\\container.py:141: UserWarning: Implicit dimension choice for softmax has been deprecated. Change the call to include dim=X as an argument.\n",
      "  input = module(input)\n"
     ]
    },
    {
     "name": "stdout",
     "output_type": "stream",
     "text": [
      "Step [0/3]\t loss_instance: 6.262876987457275\t loss_cluster: 1.526755690574646\n",
      "\n",
      "Epoch [208/500]\t Loss: 7.790437380472819 \n",
      "\n",
      "Step [0/1]\t Computing features...\n",
      "Features shape (1714,)\n",
      "14\n",
      "Test NMI = 0.4258 ARI = 0.1793 F = 0.2997 ACC = 0.3121\n",
      "================================================================\n",
      "\n"
     ]
    },
    {
     "name": "stderr",
     "output_type": "stream",
     "text": [
      "C:\\Users\\Tom-G\\.conda\\envs\\torchenv\\lib\\site-packages\\torch\\nn\\modules\\container.py:141: UserWarning: Implicit dimension choice for softmax has been deprecated. Change the call to include dim=X as an argument.\n",
      "  input = module(input)\n"
     ]
    },
    {
     "name": "stdout",
     "output_type": "stream",
     "text": [
      "Step [0/3]\t loss_instance: 6.265831470489502\t loss_cluster: 1.5294303894042969\n",
      "\n",
      "Epoch [209/500]\t Loss: 7.793307781219482 \n",
      "\n",
      "Step [0/1]\t Computing features...\n",
      "Features shape (1714,)\n",
      "14\n",
      "Test NMI = 0.4246 ARI = 0.1789 F = 0.2993 ACC = 0.3168\n",
      "================================================================\n",
      "\n"
     ]
    },
    {
     "name": "stderr",
     "output_type": "stream",
     "text": [
      "C:\\Users\\Tom-G\\.conda\\envs\\torchenv\\lib\\site-packages\\torch\\nn\\modules\\container.py:141: UserWarning: Implicit dimension choice for softmax has been deprecated. Change the call to include dim=X as an argument.\n",
      "  input = module(input)\n"
     ]
    },
    {
     "name": "stdout",
     "output_type": "stream",
     "text": [
      "Step [0/3]\t loss_instance: 6.263801097869873\t loss_cluster: 1.5250542163848877\n",
      "\n",
      "Epoch [210/500]\t Loss: 7.791975975036621 \n",
      "\n",
      "Step [0/1]\t Computing features...\n",
      "Features shape (1714,)\n",
      "14\n",
      "Test NMI = 0.4244 ARI = 0.1799 F = 0.3003 ACC = 0.3197\n",
      "================================================================\n",
      "\n"
     ]
    },
    {
     "name": "stderr",
     "output_type": "stream",
     "text": [
      "C:\\Users\\Tom-G\\.conda\\envs\\torchenv\\lib\\site-packages\\torch\\nn\\modules\\container.py:141: UserWarning: Implicit dimension choice for softmax has been deprecated. Change the call to include dim=X as an argument.\n",
      "  input = module(input)\n"
     ]
    },
    {
     "name": "stdout",
     "output_type": "stream",
     "text": [
      "Step [0/3]\t loss_instance: 6.263400077819824\t loss_cluster: 1.526904821395874\n",
      "\n",
      "Epoch [211/500]\t Loss: 7.790370941162109 \n",
      "\n",
      "Step [0/1]\t Computing features...\n",
      "Features shape (1714,)\n",
      "14\n",
      "Test NMI = 0.4227 ARI = 0.1781 F = 0.2984 ACC = 0.3133\n",
      "================================================================\n",
      "\n"
     ]
    },
    {
     "name": "stderr",
     "output_type": "stream",
     "text": [
      "C:\\Users\\Tom-G\\.conda\\envs\\torchenv\\lib\\site-packages\\torch\\nn\\modules\\container.py:141: UserWarning: Implicit dimension choice for softmax has been deprecated. Change the call to include dim=X as an argument.\n",
      "  input = module(input)\n"
     ]
    },
    {
     "name": "stdout",
     "output_type": "stream",
     "text": [
      "Step [0/3]\t loss_instance: 6.26516056060791\t loss_cluster: 1.5226258039474487\n",
      "\n",
      "Epoch [212/500]\t Loss: 7.7913665771484375 \n",
      "\n",
      "Step [0/1]\t Computing features...\n",
      "Features shape (1714,)\n",
      "14\n",
      "Test NMI = 0.4217 ARI = 0.1788 F = 0.2992 ACC = 0.3116\n",
      "================================================================\n",
      "\n"
     ]
    },
    {
     "name": "stderr",
     "output_type": "stream",
     "text": [
      "C:\\Users\\Tom-G\\.conda\\envs\\torchenv\\lib\\site-packages\\torch\\nn\\modules\\container.py:141: UserWarning: Implicit dimension choice for softmax has been deprecated. Change the call to include dim=X as an argument.\n",
      "  input = module(input)\n"
     ]
    },
    {
     "name": "stdout",
     "output_type": "stream",
     "text": [
      "Step [0/3]\t loss_instance: 6.2665510177612305\t loss_cluster: 1.526564121246338\n",
      "\n",
      "Epoch [213/500]\t Loss: 7.791177431742351 \n",
      "\n",
      "Step [0/1]\t Computing features...\n",
      "Features shape (1714,)\n",
      "14\n",
      "Test NMI = 0.4218 ARI = 0.1772 F = 0.2976 ACC = 0.3086\n",
      "================================================================\n",
      "\n"
     ]
    },
    {
     "name": "stderr",
     "output_type": "stream",
     "text": [
      "C:\\Users\\Tom-G\\.conda\\envs\\torchenv\\lib\\site-packages\\torch\\nn\\modules\\container.py:141: UserWarning: Implicit dimension choice for softmax has been deprecated. Change the call to include dim=X as an argument.\n",
      "  input = module(input)\n"
     ]
    },
    {
     "name": "stdout",
     "output_type": "stream",
     "text": [
      "Step [0/3]\t loss_instance: 6.262243747711182\t loss_cluster: 1.5230897665023804\n",
      "\n",
      "Epoch [214/500]\t Loss: 7.790564854939778 \n",
      "\n",
      "Step [0/1]\t Computing features...\n",
      "Features shape (1714,)\n",
      "14\n",
      "Test NMI = 0.4218 ARI = 0.1772 F = 0.2975 ACC = 0.3098\n",
      "================================================================\n",
      "\n"
     ]
    },
    {
     "name": "stderr",
     "output_type": "stream",
     "text": [
      "C:\\Users\\Tom-G\\.conda\\envs\\torchenv\\lib\\site-packages\\torch\\nn\\modules\\container.py:141: UserWarning: Implicit dimension choice for softmax has been deprecated. Change the call to include dim=X as an argument.\n",
      "  input = module(input)\n"
     ]
    },
    {
     "name": "stdout",
     "output_type": "stream",
     "text": [
      "Step [0/3]\t loss_instance: 6.26282262802124\t loss_cluster: 1.5256751775741577\n",
      "\n",
      "Epoch [215/500]\t Loss: 7.791418393452962 \n",
      "\n",
      "Step [0/1]\t Computing features...\n",
      "Features shape (1714,)\n",
      "14\n",
      "Test NMI = 0.4246 ARI = 0.1786 F = 0.2990 ACC = 0.3081\n",
      "================================================================\n",
      "\n"
     ]
    },
    {
     "name": "stderr",
     "output_type": "stream",
     "text": [
      "C:\\Users\\Tom-G\\.conda\\envs\\torchenv\\lib\\site-packages\\torch\\nn\\modules\\container.py:141: UserWarning: Implicit dimension choice for softmax has been deprecated. Change the call to include dim=X as an argument.\n",
      "  input = module(input)\n"
     ]
    },
    {
     "name": "stdout",
     "output_type": "stream",
     "text": [
      "Step [0/3]\t loss_instance: 6.266288757324219\t loss_cluster: 1.525054693222046\n",
      "\n",
      "Epoch [216/500]\t Loss: 7.791129430135091 \n",
      "\n",
      "Step [0/1]\t Computing features...\n",
      "Features shape (1714,)\n",
      "14\n",
      "Test NMI = 0.4231 ARI = 0.1771 F = 0.2975 ACC = 0.3098\n",
      "================================================================\n",
      "\n"
     ]
    },
    {
     "name": "stderr",
     "output_type": "stream",
     "text": [
      "C:\\Users\\Tom-G\\.conda\\envs\\torchenv\\lib\\site-packages\\torch\\nn\\modules\\container.py:141: UserWarning: Implicit dimension choice for softmax has been deprecated. Change the call to include dim=X as an argument.\n",
      "  input = module(input)\n"
     ]
    },
    {
     "name": "stdout",
     "output_type": "stream",
     "text": [
      "Step [0/3]\t loss_instance: 6.260725498199463\t loss_cluster: 1.5267943143844604\n",
      "\n",
      "Epoch [217/500]\t Loss: 7.786961396535237 \n",
      "\n",
      "Step [0/1]\t Computing features...\n",
      "Features shape (1714,)\n",
      "14\n",
      "Test NMI = 0.4249 ARI = 0.1792 F = 0.2996 ACC = 0.3168\n",
      "================================================================\n",
      "\n"
     ]
    },
    {
     "name": "stderr",
     "output_type": "stream",
     "text": [
      "C:\\Users\\Tom-G\\.conda\\envs\\torchenv\\lib\\site-packages\\torch\\nn\\modules\\container.py:141: UserWarning: Implicit dimension choice for softmax has been deprecated. Change the call to include dim=X as an argument.\n",
      "  input = module(input)\n"
     ]
    },
    {
     "name": "stdout",
     "output_type": "stream",
     "text": [
      "Step [0/3]\t loss_instance: 6.266188144683838\t loss_cluster: 1.5257222652435303\n",
      "\n",
      "Epoch [218/500]\t Loss: 7.78894058863322 \n",
      "\n",
      "Step [0/1]\t Computing features...\n",
      "Features shape (1714,)\n",
      "14\n",
      "Test NMI = 0.4251 ARI = 0.1803 F = 0.3007 ACC = 0.3215\n",
      "================================================================\n",
      "\n"
     ]
    },
    {
     "name": "stderr",
     "output_type": "stream",
     "text": [
      "C:\\Users\\Tom-G\\.conda\\envs\\torchenv\\lib\\site-packages\\torch\\nn\\modules\\container.py:141: UserWarning: Implicit dimension choice for softmax has been deprecated. Change the call to include dim=X as an argument.\n",
      "  input = module(input)\n"
     ]
    },
    {
     "name": "stdout",
     "output_type": "stream",
     "text": [
      "Step [0/3]\t loss_instance: 6.263425827026367\t loss_cluster: 1.5258018970489502\n",
      "\n",
      "Epoch [219/500]\t Loss: 7.787302017211914 \n",
      "\n",
      "Step [0/1]\t Computing features...\n",
      "Features shape (1714,)\n",
      "14\n",
      "Test NMI = 0.4239 ARI = 0.1788 F = 0.2992 ACC = 0.3168\n",
      "================================================================\n",
      "\n"
     ]
    },
    {
     "name": "stderr",
     "output_type": "stream",
     "text": [
      "C:\\Users\\Tom-G\\.conda\\envs\\torchenv\\lib\\site-packages\\torch\\nn\\modules\\container.py:141: UserWarning: Implicit dimension choice for softmax has been deprecated. Change the call to include dim=X as an argument.\n",
      "  input = module(input)\n"
     ]
    },
    {
     "name": "stdout",
     "output_type": "stream",
     "text": [
      "Step [0/3]\t loss_instance: 6.264069080352783\t loss_cluster: 1.5224908590316772\n",
      "\n",
      "Epoch [220/500]\t Loss: 7.7869307200113935 \n",
      "\n",
      "Step [0/1]\t Computing features...\n",
      "Features shape (1714,)\n",
      "14\n",
      "Test NMI = 0.4238 ARI = 0.1791 F = 0.2995 ACC = 0.3168\n",
      "================================================================\n",
      "\n"
     ]
    },
    {
     "name": "stderr",
     "output_type": "stream",
     "text": [
      "C:\\Users\\Tom-G\\.conda\\envs\\torchenv\\lib\\site-packages\\torch\\nn\\modules\\container.py:141: UserWarning: Implicit dimension choice for softmax has been deprecated. Change the call to include dim=X as an argument.\n",
      "  input = module(input)\n"
     ]
    },
    {
     "name": "stdout",
     "output_type": "stream",
     "text": [
      "Step [0/3]\t loss_instance: 6.261183738708496\t loss_cluster: 1.5218405723571777\n",
      "\n",
      "Epoch [221/500]\t Loss: 7.786617120107015 \n",
      "\n",
      "Step [0/1]\t Computing features...\n",
      "Features shape (1714,)\n",
      "14\n",
      "Test NMI = 0.4237 ARI = 0.1787 F = 0.2990 ACC = 0.3133\n",
      "================================================================\n",
      "\n"
     ]
    },
    {
     "name": "stderr",
     "output_type": "stream",
     "text": [
      "C:\\Users\\Tom-G\\.conda\\envs\\torchenv\\lib\\site-packages\\torch\\nn\\modules\\container.py:141: UserWarning: Implicit dimension choice for softmax has been deprecated. Change the call to include dim=X as an argument.\n",
      "  input = module(input)\n"
     ]
    },
    {
     "name": "stdout",
     "output_type": "stream",
     "text": [
      "Step [0/3]\t loss_instance: 6.265276908874512\t loss_cluster: 1.5228902101516724\n",
      "\n",
      "Epoch [222/500]\t Loss: 7.7878438631693525 \n",
      "\n",
      "Step [0/1]\t Computing features...\n",
      "Features shape (1714,)\n",
      "14\n",
      "Test NMI = 0.4230 ARI = 0.1788 F = 0.2992 ACC = 0.3121\n",
      "================================================================\n",
      "\n"
     ]
    },
    {
     "name": "stderr",
     "output_type": "stream",
     "text": [
      "C:\\Users\\Tom-G\\.conda\\envs\\torchenv\\lib\\site-packages\\torch\\nn\\modules\\container.py:141: UserWarning: Implicit dimension choice for softmax has been deprecated. Change the call to include dim=X as an argument.\n",
      "  input = module(input)\n"
     ]
    },
    {
     "name": "stdout",
     "output_type": "stream",
     "text": [
      "Step [0/3]\t loss_instance: 6.2646589279174805\t loss_cluster: 1.5295920372009277\n",
      "\n",
      "Epoch [223/500]\t Loss: 7.788580735524495 \n",
      "\n",
      "Step [0/1]\t Computing features...\n",
      "Features shape (1714,)\n",
      "14\n",
      "Test NMI = 0.4241 ARI = 0.1797 F = 0.3001 ACC = 0.3139\n",
      "================================================================\n",
      "\n"
     ]
    },
    {
     "name": "stderr",
     "output_type": "stream",
     "text": [
      "C:\\Users\\Tom-G\\.conda\\envs\\torchenv\\lib\\site-packages\\torch\\nn\\modules\\container.py:141: UserWarning: Implicit dimension choice for softmax has been deprecated. Change the call to include dim=X as an argument.\n",
      "  input = module(input)\n"
     ]
    },
    {
     "name": "stdout",
     "output_type": "stream",
     "text": [
      "Step [0/3]\t loss_instance: 6.261143207550049\t loss_cluster: 1.525136947631836\n",
      "\n",
      "Epoch [224/500]\t Loss: 7.787102222442627 \n",
      "\n",
      "Step [0/1]\t Computing features...\n",
      "Features shape (1714,)\n",
      "14\n",
      "Test NMI = 0.4237 ARI = 0.1787 F = 0.2991 ACC = 0.3133\n",
      "================================================================\n",
      "\n"
     ]
    },
    {
     "name": "stderr",
     "output_type": "stream",
     "text": [
      "C:\\Users\\Tom-G\\.conda\\envs\\torchenv\\lib\\site-packages\\torch\\nn\\modules\\container.py:141: UserWarning: Implicit dimension choice for softmax has been deprecated. Change the call to include dim=X as an argument.\n",
      "  input = module(input)\n"
     ]
    },
    {
     "name": "stdout",
     "output_type": "stream",
     "text": [
      "Step [0/3]\t loss_instance: 6.26231575012207\t loss_cluster: 1.5216903686523438\n",
      "\n",
      "Epoch [225/500]\t Loss: 7.790371735890706 \n",
      "\n",
      "Step [0/1]\t Computing features...\n",
      "Features shape (1714,)\n",
      "14\n",
      "Test NMI = 0.4234 ARI = 0.1778 F = 0.2981 ACC = 0.3145\n",
      "================================================================\n",
      "\n"
     ]
    },
    {
     "name": "stderr",
     "output_type": "stream",
     "text": [
      "C:\\Users\\Tom-G\\.conda\\envs\\torchenv\\lib\\site-packages\\torch\\nn\\modules\\container.py:141: UserWarning: Implicit dimension choice for softmax has been deprecated. Change the call to include dim=X as an argument.\n",
      "  input = module(input)\n"
     ]
    },
    {
     "name": "stdout",
     "output_type": "stream",
     "text": [
      "Step [0/3]\t loss_instance: 6.259293556213379\t loss_cluster: 1.525441288948059\n",
      "\n",
      "Epoch [226/500]\t Loss: 7.785353024800618 \n",
      "\n",
      "Step [0/1]\t Computing features...\n",
      "Features shape (1714,)\n",
      "14\n",
      "Test NMI = 0.4244 ARI = 0.1786 F = 0.2990 ACC = 0.3168\n",
      "================================================================\n",
      "\n"
     ]
    },
    {
     "name": "stderr",
     "output_type": "stream",
     "text": [
      "C:\\Users\\Tom-G\\.conda\\envs\\torchenv\\lib\\site-packages\\torch\\nn\\modules\\container.py:141: UserWarning: Implicit dimension choice for softmax has been deprecated. Change the call to include dim=X as an argument.\n",
      "  input = module(input)\n"
     ]
    },
    {
     "name": "stdout",
     "output_type": "stream",
     "text": [
      "Step [0/3]\t loss_instance: 6.262659549713135\t loss_cluster: 1.5248066186904907\n",
      "\n",
      "Epoch [227/500]\t Loss: 7.7867255210876465 \n",
      "\n",
      "Step [0/1]\t Computing features...\n",
      "Features shape (1714,)\n",
      "14\n",
      "Test NMI = 0.4251 ARI = 0.1793 F = 0.2997 ACC = 0.3145\n",
      "================================================================\n",
      "\n"
     ]
    },
    {
     "name": "stderr",
     "output_type": "stream",
     "text": [
      "C:\\Users\\Tom-G\\.conda\\envs\\torchenv\\lib\\site-packages\\torch\\nn\\modules\\container.py:141: UserWarning: Implicit dimension choice for softmax has been deprecated. Change the call to include dim=X as an argument.\n",
      "  input = module(input)\n"
     ]
    },
    {
     "name": "stdout",
     "output_type": "stream",
     "text": [
      "Step [0/3]\t loss_instance: 6.2632293701171875\t loss_cluster: 1.5254342555999756\n",
      "\n",
      "Epoch [228/500]\t Loss: 7.787384668986003 \n",
      "\n",
      "Step [0/1]\t Computing features...\n",
      "Features shape (1714,)\n",
      "14\n",
      "Test NMI = 0.4268 ARI = 0.1821 F = 0.3025 ACC = 0.3186\n",
      "================================================================\n",
      "\n"
     ]
    },
    {
     "name": "stderr",
     "output_type": "stream",
     "text": [
      "C:\\Users\\Tom-G\\.conda\\envs\\torchenv\\lib\\site-packages\\torch\\nn\\modules\\container.py:141: UserWarning: Implicit dimension choice for softmax has been deprecated. Change the call to include dim=X as an argument.\n",
      "  input = module(input)\n"
     ]
    },
    {
     "name": "stdout",
     "output_type": "stream",
     "text": [
      "Step [0/3]\t loss_instance: 6.26490592956543\t loss_cluster: 1.5245956182479858\n",
      "\n",
      "Epoch [229/500]\t Loss: 7.789746602376302 \n",
      "\n",
      "Step [0/1]\t Computing features...\n",
      "Features shape (1714,)\n",
      "14\n",
      "Test NMI = 0.4273 ARI = 0.1819 F = 0.3023 ACC = 0.3174\n",
      "================================================================\n",
      "\n"
     ]
    },
    {
     "name": "stderr",
     "output_type": "stream",
     "text": [
      "C:\\Users\\Tom-G\\.conda\\envs\\torchenv\\lib\\site-packages\\torch\\nn\\modules\\container.py:141: UserWarning: Implicit dimension choice for softmax has been deprecated. Change the call to include dim=X as an argument.\n",
      "  input = module(input)\n"
     ]
    },
    {
     "name": "stdout",
     "output_type": "stream",
     "text": [
      "Step [0/3]\t loss_instance: 6.262241363525391\t loss_cluster: 1.5274840593338013\n",
      "\n",
      "Epoch [230/500]\t Loss: 7.787318070729573 \n",
      "\n",
      "Step [0/1]\t Computing features...\n",
      "Features shape (1714,)\n",
      "14\n",
      "Test NMI = 0.4253 ARI = 0.1798 F = 0.3002 ACC = 0.3156\n",
      "================================================================\n",
      "\n"
     ]
    },
    {
     "name": "stderr",
     "output_type": "stream",
     "text": [
      "C:\\Users\\Tom-G\\.conda\\envs\\torchenv\\lib\\site-packages\\torch\\nn\\modules\\container.py:141: UserWarning: Implicit dimension choice for softmax has been deprecated. Change the call to include dim=X as an argument.\n",
      "  input = module(input)\n"
     ]
    },
    {
     "name": "stdout",
     "output_type": "stream",
     "text": [
      "Step [0/3]\t loss_instance: 6.259101867675781\t loss_cluster: 1.5289119482040405\n",
      "\n",
      "Epoch [231/500]\t Loss: 7.786064147949219 \n",
      "\n",
      "Step [0/1]\t Computing features...\n",
      "Features shape (1714,)\n",
      "14\n",
      "Test NMI = 0.4241 ARI = 0.1792 F = 0.2996 ACC = 0.3139\n",
      "================================================================\n",
      "\n"
     ]
    },
    {
     "name": "stderr",
     "output_type": "stream",
     "text": [
      "C:\\Users\\Tom-G\\.conda\\envs\\torchenv\\lib\\site-packages\\torch\\nn\\modules\\container.py:141: UserWarning: Implicit dimension choice for softmax has been deprecated. Change the call to include dim=X as an argument.\n",
      "  input = module(input)\n"
     ]
    },
    {
     "name": "stdout",
     "output_type": "stream",
     "text": [
      "Step [0/3]\t loss_instance: 6.259954452514648\t loss_cluster: 1.5274146795272827\n",
      "\n",
      "Epoch [232/500]\t Loss: 7.785919189453125 \n",
      "\n",
      "Step [0/1]\t Computing features...\n",
      "Features shape (1714,)\n",
      "14\n",
      "Test NMI = 0.4233 ARI = 0.1778 F = 0.2982 ACC = 0.3121\n",
      "================================================================\n",
      "\n"
     ]
    },
    {
     "name": "stderr",
     "output_type": "stream",
     "text": [
      "C:\\Users\\Tom-G\\.conda\\envs\\torchenv\\lib\\site-packages\\torch\\nn\\modules\\container.py:141: UserWarning: Implicit dimension choice for softmax has been deprecated. Change the call to include dim=X as an argument.\n",
      "  input = module(input)\n"
     ]
    },
    {
     "name": "stdout",
     "output_type": "stream",
     "text": [
      "Step [0/3]\t loss_instance: 6.2622528076171875\t loss_cluster: 1.5250874757766724\n",
      "\n",
      "Epoch [233/500]\t Loss: 7.781961441040039 \n",
      "\n",
      "Step [0/1]\t Computing features...\n",
      "Features shape (1714,)\n",
      "14\n",
      "Test NMI = 0.4212 ARI = 0.1767 F = 0.2971 ACC = 0.3133\n",
      "================================================================\n",
      "\n"
     ]
    },
    {
     "name": "stderr",
     "output_type": "stream",
     "text": [
      "C:\\Users\\Tom-G\\.conda\\envs\\torchenv\\lib\\site-packages\\torch\\nn\\modules\\container.py:141: UserWarning: Implicit dimension choice for softmax has been deprecated. Change the call to include dim=X as an argument.\n",
      "  input = module(input)\n"
     ]
    },
    {
     "name": "stdout",
     "output_type": "stream",
     "text": [
      "Step [0/3]\t loss_instance: 6.259721279144287\t loss_cluster: 1.5220338106155396\n",
      "\n",
      "Epoch [234/500]\t Loss: 7.783217430114746 \n",
      "\n",
      "Step [0/1]\t Computing features...\n",
      "Features shape (1714,)\n",
      "14\n",
      "Test NMI = 0.4216 ARI = 0.1772 F = 0.2976 ACC = 0.3151\n",
      "================================================================\n",
      "\n"
     ]
    },
    {
     "name": "stderr",
     "output_type": "stream",
     "text": [
      "C:\\Users\\Tom-G\\.conda\\envs\\torchenv\\lib\\site-packages\\torch\\nn\\modules\\container.py:141: UserWarning: Implicit dimension choice for softmax has been deprecated. Change the call to include dim=X as an argument.\n",
      "  input = module(input)\n"
     ]
    },
    {
     "name": "stdout",
     "output_type": "stream",
     "text": [
      "Step [0/3]\t loss_instance: 6.258902072906494\t loss_cluster: 1.521680235862732\n",
      "\n",
      "Epoch [235/500]\t Loss: 7.785184542338054 \n",
      "\n",
      "Step [0/1]\t Computing features...\n",
      "Features shape (1714,)\n",
      "14\n",
      "Test NMI = 0.4235 ARI = 0.1776 F = 0.2980 ACC = 0.3151\n",
      "================================================================\n",
      "\n"
     ]
    },
    {
     "name": "stderr",
     "output_type": "stream",
     "text": [
      "C:\\Users\\Tom-G\\.conda\\envs\\torchenv\\lib\\site-packages\\torch\\nn\\modules\\container.py:141: UserWarning: Implicit dimension choice for softmax has been deprecated. Change the call to include dim=X as an argument.\n",
      "  input = module(input)\n"
     ]
    },
    {
     "name": "stdout",
     "output_type": "stream",
     "text": [
      "Step [0/3]\t loss_instance: 6.262697696685791\t loss_cluster: 1.527591586112976\n",
      "\n",
      "Epoch [236/500]\t Loss: 7.786651770273845 \n",
      "\n",
      "Step [0/1]\t Computing features...\n",
      "Features shape (1714,)\n",
      "14\n",
      "Test NMI = 0.4234 ARI = 0.1774 F = 0.2977 ACC = 0.3116\n",
      "================================================================\n",
      "\n"
     ]
    },
    {
     "name": "stderr",
     "output_type": "stream",
     "text": [
      "C:\\Users\\Tom-G\\.conda\\envs\\torchenv\\lib\\site-packages\\torch\\nn\\modules\\container.py:141: UserWarning: Implicit dimension choice for softmax has been deprecated. Change the call to include dim=X as an argument.\n",
      "  input = module(input)\n"
     ]
    },
    {
     "name": "stdout",
     "output_type": "stream",
     "text": [
      "Step [0/3]\t loss_instance: 6.263980865478516\t loss_cluster: 1.5238091945648193\n",
      "\n",
      "Epoch [237/500]\t Loss: 7.783812363942464 \n",
      "\n",
      "Step [0/1]\t Computing features...\n",
      "Features shape (1714,)\n",
      "14\n",
      "Test NMI = 0.4253 ARI = 0.1794 F = 0.2998 ACC = 0.3116\n",
      "================================================================\n",
      "\n"
     ]
    },
    {
     "name": "stderr",
     "output_type": "stream",
     "text": [
      "C:\\Users\\Tom-G\\.conda\\envs\\torchenv\\lib\\site-packages\\torch\\nn\\modules\\container.py:141: UserWarning: Implicit dimension choice for softmax has been deprecated. Change the call to include dim=X as an argument.\n",
      "  input = module(input)\n"
     ]
    },
    {
     "name": "stdout",
     "output_type": "stream",
     "text": [
      "Step [0/3]\t loss_instance: 6.258526802062988\t loss_cluster: 1.525630235671997\n",
      "\n",
      "Epoch [238/500]\t Loss: 7.780112425486247 \n",
      "\n",
      "Step [0/1]\t Computing features...\n",
      "Features shape (1714,)\n",
      "14\n",
      "Test NMI = 0.4259 ARI = 0.1804 F = 0.3008 ACC = 0.3133\n",
      "================================================================\n",
      "\n"
     ]
    },
    {
     "name": "stderr",
     "output_type": "stream",
     "text": [
      "C:\\Users\\Tom-G\\.conda\\envs\\torchenv\\lib\\site-packages\\torch\\nn\\modules\\container.py:141: UserWarning: Implicit dimension choice for softmax has been deprecated. Change the call to include dim=X as an argument.\n",
      "  input = module(input)\n"
     ]
    },
    {
     "name": "stdout",
     "output_type": "stream",
     "text": [
      "Step [0/3]\t loss_instance: 6.258545875549316\t loss_cluster: 1.5227056741714478\n",
      "\n",
      "Epoch [239/500]\t Loss: 7.780812899271647 \n",
      "\n",
      "Step [0/1]\t Computing features...\n",
      "Features shape (1714,)\n",
      "14\n",
      "Test NMI = 0.4258 ARI = 0.1812 F = 0.3016 ACC = 0.3174\n",
      "================================================================\n",
      "\n"
     ]
    },
    {
     "name": "stderr",
     "output_type": "stream",
     "text": [
      "C:\\Users\\Tom-G\\.conda\\envs\\torchenv\\lib\\site-packages\\torch\\nn\\modules\\container.py:141: UserWarning: Implicit dimension choice for softmax has been deprecated. Change the call to include dim=X as an argument.\n",
      "  input = module(input)\n"
     ]
    },
    {
     "name": "stdout",
     "output_type": "stream",
     "text": [
      "Step [0/3]\t loss_instance: 6.259909629821777\t loss_cluster: 1.5198131799697876\n",
      "\n",
      "Epoch [240/500]\t Loss: 7.782172838846843 \n",
      "\n",
      "Step [0/1]\t Computing features...\n",
      "Features shape (1714,)\n",
      "14\n",
      "Test NMI = 0.4231 ARI = 0.1786 F = 0.2989 ACC = 0.3139\n",
      "================================================================\n",
      "\n"
     ]
    },
    {
     "name": "stderr",
     "output_type": "stream",
     "text": [
      "C:\\Users\\Tom-G\\.conda\\envs\\torchenv\\lib\\site-packages\\torch\\nn\\modules\\container.py:141: UserWarning: Implicit dimension choice for softmax has been deprecated. Change the call to include dim=X as an argument.\n",
      "  input = module(input)\n"
     ]
    },
    {
     "name": "stdout",
     "output_type": "stream",
     "text": [
      "Step [0/3]\t loss_instance: 6.256716728210449\t loss_cluster: 1.520885705947876\n",
      "\n",
      "Epoch [241/500]\t Loss: 7.779074350992839 \n",
      "\n",
      "Step [0/1]\t Computing features...\n",
      "Features shape (1714,)\n",
      "14\n",
      "Test NMI = 0.4237 ARI = 0.1781 F = 0.2985 ACC = 0.3116\n",
      "================================================================\n",
      "\n"
     ]
    },
    {
     "name": "stderr",
     "output_type": "stream",
     "text": [
      "C:\\Users\\Tom-G\\.conda\\envs\\torchenv\\lib\\site-packages\\torch\\nn\\modules\\container.py:141: UserWarning: Implicit dimension choice for softmax has been deprecated. Change the call to include dim=X as an argument.\n",
      "  input = module(input)\n"
     ]
    },
    {
     "name": "stdout",
     "output_type": "stream",
     "text": [
      "Step [0/3]\t loss_instance: 6.256113529205322\t loss_cluster: 1.5255794525146484\n",
      "\n",
      "Epoch [242/500]\t Loss: 7.782043933868408 \n",
      "\n",
      "Step [0/1]\t Computing features...\n",
      "Features shape (1714,)\n",
      "14\n",
      "Test NMI = 0.4245 ARI = 0.1785 F = 0.2989 ACC = 0.3139\n",
      "================================================================\n",
      "\n"
     ]
    },
    {
     "name": "stderr",
     "output_type": "stream",
     "text": [
      "C:\\Users\\Tom-G\\.conda\\envs\\torchenv\\lib\\site-packages\\torch\\nn\\modules\\container.py:141: UserWarning: Implicit dimension choice for softmax has been deprecated. Change the call to include dim=X as an argument.\n",
      "  input = module(input)\n"
     ]
    },
    {
     "name": "stdout",
     "output_type": "stream",
     "text": [
      "Step [0/3]\t loss_instance: 6.2570672035217285\t loss_cluster: 1.5257214307785034\n",
      "\n",
      "Epoch [243/500]\t Loss: 7.780748208363851 \n",
      "\n",
      "Step [0/1]\t Computing features...\n",
      "Features shape (1714,)\n",
      "14\n",
      "Test NMI = 0.4249 ARI = 0.1812 F = 0.3016 ACC = 0.3191\n",
      "================================================================\n",
      "\n"
     ]
    },
    {
     "name": "stderr",
     "output_type": "stream",
     "text": [
      "C:\\Users\\Tom-G\\.conda\\envs\\torchenv\\lib\\site-packages\\torch\\nn\\modules\\container.py:141: UserWarning: Implicit dimension choice for softmax has been deprecated. Change the call to include dim=X as an argument.\n",
      "  input = module(input)\n"
     ]
    },
    {
     "name": "stdout",
     "output_type": "stream",
     "text": [
      "Step [0/3]\t loss_instance: 6.253874778747559\t loss_cluster: 1.5284101963043213\n",
      "\n",
      "Epoch [244/500]\t Loss: 7.782613595326741 \n",
      "\n",
      "Step [0/1]\t Computing features...\n",
      "Features shape (1714,)\n",
      "14\n",
      "Test NMI = 0.4232 ARI = 0.1790 F = 0.2994 ACC = 0.3162\n",
      "================================================================\n",
      "\n"
     ]
    },
    {
     "name": "stderr",
     "output_type": "stream",
     "text": [
      "C:\\Users\\Tom-G\\.conda\\envs\\torchenv\\lib\\site-packages\\torch\\nn\\modules\\container.py:141: UserWarning: Implicit dimension choice for softmax has been deprecated. Change the call to include dim=X as an argument.\n",
      "  input = module(input)\n"
     ]
    },
    {
     "name": "stdout",
     "output_type": "stream",
     "text": [
      "Step [0/3]\t loss_instance: 6.254109859466553\t loss_cluster: 1.5226421356201172\n",
      "\n",
      "Epoch [245/500]\t Loss: 7.78193457921346 \n",
      "\n",
      "Step [0/1]\t Computing features...\n",
      "Features shape (1714,)\n",
      "14\n",
      "Test NMI = 0.4241 ARI = 0.1789 F = 0.2993 ACC = 0.3145\n",
      "================================================================\n",
      "\n"
     ]
    },
    {
     "name": "stderr",
     "output_type": "stream",
     "text": [
      "C:\\Users\\Tom-G\\.conda\\envs\\torchenv\\lib\\site-packages\\torch\\nn\\modules\\container.py:141: UserWarning: Implicit dimension choice for softmax has been deprecated. Change the call to include dim=X as an argument.\n",
      "  input = module(input)\n"
     ]
    },
    {
     "name": "stdout",
     "output_type": "stream",
     "text": [
      "Step [0/3]\t loss_instance: 6.253479480743408\t loss_cluster: 1.5240528583526611\n",
      "\n",
      "Epoch [246/500]\t Loss: 7.778757731119792 \n",
      "\n",
      "Step [0/1]\t Computing features...\n",
      "Features shape (1714,)\n",
      "14\n",
      "Test NMI = 0.4242 ARI = 0.1792 F = 0.2996 ACC = 0.3151\n",
      "================================================================\n",
      "\n"
     ]
    },
    {
     "name": "stderr",
     "output_type": "stream",
     "text": [
      "C:\\Users\\Tom-G\\.conda\\envs\\torchenv\\lib\\site-packages\\torch\\nn\\modules\\container.py:141: UserWarning: Implicit dimension choice for softmax has been deprecated. Change the call to include dim=X as an argument.\n",
      "  input = module(input)\n"
     ]
    },
    {
     "name": "stdout",
     "output_type": "stream",
     "text": [
      "Step [0/3]\t loss_instance: 6.253346920013428\t loss_cluster: 1.5225821733474731\n",
      "\n",
      "Epoch [247/500]\t Loss: 7.778149445851644 \n",
      "\n",
      "Step [0/1]\t Computing features...\n",
      "Features shape (1714,)\n",
      "14\n",
      "Test NMI = 0.4233 ARI = 0.1788 F = 0.2992 ACC = 0.3162\n",
      "================================================================\n",
      "\n"
     ]
    },
    {
     "name": "stderr",
     "output_type": "stream",
     "text": [
      "C:\\Users\\Tom-G\\.conda\\envs\\torchenv\\lib\\site-packages\\torch\\nn\\modules\\container.py:141: UserWarning: Implicit dimension choice for softmax has been deprecated. Change the call to include dim=X as an argument.\n",
      "  input = module(input)\n"
     ]
    },
    {
     "name": "stdout",
     "output_type": "stream",
     "text": [
      "Step [0/3]\t loss_instance: 6.25377082824707\t loss_cluster: 1.5246970653533936\n",
      "\n",
      "Epoch [248/500]\t Loss: 7.77960205078125 \n",
      "\n",
      "Step [0/1]\t Computing features...\n",
      "Features shape (1714,)\n",
      "14\n",
      "Test NMI = 0.4219 ARI = 0.1772 F = 0.2975 ACC = 0.3145\n",
      "================================================================\n",
      "\n"
     ]
    },
    {
     "name": "stderr",
     "output_type": "stream",
     "text": [
      "C:\\Users\\Tom-G\\.conda\\envs\\torchenv\\lib\\site-packages\\torch\\nn\\modules\\container.py:141: UserWarning: Implicit dimension choice for softmax has been deprecated. Change the call to include dim=X as an argument.\n",
      "  input = module(input)\n"
     ]
    },
    {
     "name": "stdout",
     "output_type": "stream",
     "text": [
      "Step [0/3]\t loss_instance: 6.26405668258667\t loss_cluster: 1.5249813795089722\n",
      "\n",
      "Epoch [249/500]\t Loss: 7.786312580108643 \n",
      "\n",
      "Step [0/1]\t Computing features...\n",
      "Features shape (1714,)\n",
      "14\n",
      "Test NMI = 0.4228 ARI = 0.1776 F = 0.2980 ACC = 0.3145\n",
      "================================================================\n",
      "\n"
     ]
    },
    {
     "name": "stderr",
     "output_type": "stream",
     "text": [
      "C:\\Users\\Tom-G\\.conda\\envs\\torchenv\\lib\\site-packages\\torch\\nn\\modules\\container.py:141: UserWarning: Implicit dimension choice for softmax has been deprecated. Change the call to include dim=X as an argument.\n",
      "  input = module(input)\n"
     ]
    },
    {
     "name": "stdout",
     "output_type": "stream",
     "text": [
      "Step [0/3]\t loss_instance: 6.267563343048096\t loss_cluster: 1.524513602256775\n",
      "\n",
      "Epoch [250/500]\t Loss: 7.78174368540446 \n",
      "\n",
      "Step [0/1]\t Computing features...\n",
      "Features shape (1714,)\n",
      "14\n",
      "Test NMI = 0.4258 ARI = 0.1800 F = 0.3004 ACC = 0.3156\n",
      "================================================================\n",
      "\n"
     ]
    },
    {
     "name": "stderr",
     "output_type": "stream",
     "text": [
      "C:\\Users\\Tom-G\\.conda\\envs\\torchenv\\lib\\site-packages\\torch\\nn\\modules\\container.py:141: UserWarning: Implicit dimension choice for softmax has been deprecated. Change the call to include dim=X as an argument.\n",
      "  input = module(input)\n"
     ]
    },
    {
     "name": "stdout",
     "output_type": "stream",
     "text": [
      "Step [0/3]\t loss_instance: 6.2612528800964355\t loss_cluster: 1.5254380702972412\n",
      "\n",
      "Epoch [251/500]\t Loss: 7.786508560180664 \n",
      "\n",
      "Step [0/1]\t Computing features...\n",
      "Features shape (1714,)\n",
      "14\n",
      "Test NMI = 0.4258 ARI = 0.1786 F = 0.2990 ACC = 0.3121\n",
      "================================================================\n",
      "\n"
     ]
    },
    {
     "name": "stderr",
     "output_type": "stream",
     "text": [
      "C:\\Users\\Tom-G\\.conda\\envs\\torchenv\\lib\\site-packages\\torch\\nn\\modules\\container.py:141: UserWarning: Implicit dimension choice for softmax has been deprecated. Change the call to include dim=X as an argument.\n",
      "  input = module(input)\n"
     ]
    },
    {
     "name": "stdout",
     "output_type": "stream",
     "text": [
      "Step [0/3]\t loss_instance: 6.2587971687316895\t loss_cluster: 1.52341628074646\n",
      "\n",
      "Epoch [252/500]\t Loss: 7.789060274759929 \n",
      "\n",
      "Step [0/1]\t Computing features...\n",
      "Features shape (1714,)\n",
      "14\n",
      "Test NMI = 0.4231 ARI = 0.1773 F = 0.2977 ACC = 0.3110\n",
      "================================================================\n",
      "\n"
     ]
    },
    {
     "name": "stderr",
     "output_type": "stream",
     "text": [
      "C:\\Users\\Tom-G\\.conda\\envs\\torchenv\\lib\\site-packages\\torch\\nn\\modules\\container.py:141: UserWarning: Implicit dimension choice for softmax has been deprecated. Change the call to include dim=X as an argument.\n",
      "  input = module(input)\n"
     ]
    },
    {
     "name": "stdout",
     "output_type": "stream",
     "text": [
      "Step [0/3]\t loss_instance: 6.25741720199585\t loss_cluster: 1.5285509824752808\n",
      "\n",
      "Epoch [253/500]\t Loss: 7.782706419626872 \n",
      "\n",
      "Step [0/1]\t Computing features...\n",
      "Features shape (1714,)\n",
      "14\n",
      "Test NMI = 0.4246 ARI = 0.1792 F = 0.2996 ACC = 0.3133\n",
      "================================================================\n",
      "\n"
     ]
    },
    {
     "name": "stderr",
     "output_type": "stream",
     "text": [
      "C:\\Users\\Tom-G\\.conda\\envs\\torchenv\\lib\\site-packages\\torch\\nn\\modules\\container.py:141: UserWarning: Implicit dimension choice for softmax has been deprecated. Change the call to include dim=X as an argument.\n",
      "  input = module(input)\n"
     ]
    },
    {
     "name": "stdout",
     "output_type": "stream",
     "text": [
      "Step [0/3]\t loss_instance: 6.2596282958984375\t loss_cluster: 1.5215052366256714\n",
      "\n",
      "Epoch [254/500]\t Loss: 7.783790906270345 \n",
      "\n",
      "Step [0/1]\t Computing features...\n",
      "Features shape (1714,)\n",
      "14\n",
      "Test NMI = 0.4232 ARI = 0.1782 F = 0.2986 ACC = 0.3121\n",
      "================================================================\n",
      "\n"
     ]
    },
    {
     "name": "stderr",
     "output_type": "stream",
     "text": [
      "C:\\Users\\Tom-G\\.conda\\envs\\torchenv\\lib\\site-packages\\torch\\nn\\modules\\container.py:141: UserWarning: Implicit dimension choice for softmax has been deprecated. Change the call to include dim=X as an argument.\n",
      "  input = module(input)\n"
     ]
    },
    {
     "name": "stdout",
     "output_type": "stream",
     "text": [
      "Step [0/3]\t loss_instance: 6.261964321136475\t loss_cluster: 1.5229216814041138\n",
      "\n",
      "Epoch [255/500]\t Loss: 7.783097267150879 \n",
      "\n",
      "Step [0/1]\t Computing features...\n",
      "Features shape (1714,)\n",
      "14\n",
      "Test NMI = 0.4239 ARI = 0.1787 F = 0.2991 ACC = 0.3133\n",
      "================================================================\n",
      "\n"
     ]
    },
    {
     "name": "stderr",
     "output_type": "stream",
     "text": [
      "C:\\Users\\Tom-G\\.conda\\envs\\torchenv\\lib\\site-packages\\torch\\nn\\modules\\container.py:141: UserWarning: Implicit dimension choice for softmax has been deprecated. Change the call to include dim=X as an argument.\n",
      "  input = module(input)\n"
     ]
    },
    {
     "name": "stdout",
     "output_type": "stream",
     "text": [
      "Step [0/3]\t loss_instance: 6.27097749710083\t loss_cluster: 1.5216885805130005\n",
      "\n",
      "Epoch [256/500]\t Loss: 7.784436225891113 \n",
      "\n",
      "Step [0/1]\t Computing features...\n",
      "Features shape (1714,)\n",
      "14\n",
      "Test NMI = 0.4245 ARI = 0.1788 F = 0.2991 ACC = 0.3133\n",
      "================================================================\n",
      "\n"
     ]
    },
    {
     "name": "stderr",
     "output_type": "stream",
     "text": [
      "C:\\Users\\Tom-G\\.conda\\envs\\torchenv\\lib\\site-packages\\torch\\nn\\modules\\container.py:141: UserWarning: Implicit dimension choice for softmax has been deprecated. Change the call to include dim=X as an argument.\n",
      "  input = module(input)\n"
     ]
    },
    {
     "name": "stdout",
     "output_type": "stream",
     "text": [
      "Step [0/3]\t loss_instance: 6.25497579574585\t loss_cluster: 1.5229978561401367\n",
      "\n",
      "Epoch [257/500]\t Loss: 7.781785170237224 \n",
      "\n",
      "Step [0/1]\t Computing features...\n",
      "Features shape (1714,)\n",
      "14\n",
      "Test NMI = 0.4253 ARI = 0.1800 F = 0.3003 ACC = 0.3186\n",
      "================================================================\n",
      "\n"
     ]
    },
    {
     "name": "stderr",
     "output_type": "stream",
     "text": [
      "C:\\Users\\Tom-G\\.conda\\envs\\torchenv\\lib\\site-packages\\torch\\nn\\modules\\container.py:141: UserWarning: Implicit dimension choice for softmax has been deprecated. Change the call to include dim=X as an argument.\n",
      "  input = module(input)\n"
     ]
    },
    {
     "name": "stdout",
     "output_type": "stream",
     "text": [
      "Step [0/3]\t loss_instance: 6.255069732666016\t loss_cluster: 1.5228148698806763\n",
      "\n",
      "Epoch [258/500]\t Loss: 7.77772839864095 \n",
      "\n",
      "Step [0/1]\t Computing features...\n",
      "Features shape (1714,)\n",
      "14\n",
      "Test NMI = 0.4253 ARI = 0.1798 F = 0.3002 ACC = 0.3186\n",
      "================================================================\n",
      "\n"
     ]
    },
    {
     "name": "stderr",
     "output_type": "stream",
     "text": [
      "C:\\Users\\Tom-G\\.conda\\envs\\torchenv\\lib\\site-packages\\torch\\nn\\modules\\container.py:141: UserWarning: Implicit dimension choice for softmax has been deprecated. Change the call to include dim=X as an argument.\n",
      "  input = module(input)\n"
     ]
    },
    {
     "name": "stdout",
     "output_type": "stream",
     "text": [
      "Step [0/3]\t loss_instance: 6.253333568572998\t loss_cluster: 1.5207525491714478\n",
      "\n",
      "Epoch [259/500]\t Loss: 7.776167074839274 \n",
      "\n",
      "Step [0/1]\t Computing features...\n",
      "Features shape (1714,)\n",
      "14\n",
      "Test NMI = 0.4266 ARI = 0.1801 F = 0.3005 ACC = 0.3197\n",
      "================================================================\n",
      "\n"
     ]
    },
    {
     "name": "stderr",
     "output_type": "stream",
     "text": [
      "C:\\Users\\Tom-G\\.conda\\envs\\torchenv\\lib\\site-packages\\torch\\nn\\modules\\container.py:141: UserWarning: Implicit dimension choice for softmax has been deprecated. Change the call to include dim=X as an argument.\n",
      "  input = module(input)\n"
     ]
    },
    {
     "name": "stdout",
     "output_type": "stream",
     "text": [
      "Step [0/3]\t loss_instance: 6.255776405334473\t loss_cluster: 1.5212092399597168\n",
      "\n",
      "Epoch [260/500]\t Loss: 7.776080290476481 \n",
      "\n",
      "Step [0/1]\t Computing features...\n",
      "Features shape (1714,)\n",
      "14\n",
      "Test NMI = 0.4213 ARI = 0.1764 F = 0.2968 ACC = 0.3145\n",
      "================================================================\n",
      "\n"
     ]
    },
    {
     "name": "stderr",
     "output_type": "stream",
     "text": [
      "C:\\Users\\Tom-G\\.conda\\envs\\torchenv\\lib\\site-packages\\torch\\nn\\modules\\container.py:141: UserWarning: Implicit dimension choice for softmax has been deprecated. Change the call to include dim=X as an argument.\n",
      "  input = module(input)\n"
     ]
    },
    {
     "name": "stdout",
     "output_type": "stream",
     "text": [
      "Step [0/3]\t loss_instance: 6.252203941345215\t loss_cluster: 1.5234689712524414\n",
      "\n",
      "Epoch [261/500]\t Loss: 7.775526205698649 \n",
      "\n",
      "Step [0/1]\t Computing features...\n",
      "Features shape (1714,)\n",
      "14\n",
      "Test NMI = 0.4238 ARI = 0.1784 F = 0.2988 ACC = 0.3151\n",
      "================================================================\n",
      "\n"
     ]
    },
    {
     "name": "stderr",
     "output_type": "stream",
     "text": [
      "C:\\Users\\Tom-G\\.conda\\envs\\torchenv\\lib\\site-packages\\torch\\nn\\modules\\container.py:141: UserWarning: Implicit dimension choice for softmax has been deprecated. Change the call to include dim=X as an argument.\n",
      "  input = module(input)\n"
     ]
    },
    {
     "name": "stdout",
     "output_type": "stream",
     "text": [
      "Step [0/3]\t loss_instance: 6.250131130218506\t loss_cluster: 1.5268185138702393\n",
      "\n",
      "Epoch [262/500]\t Loss: 7.779377301534017 \n",
      "\n",
      "Step [0/1]\t Computing features...\n",
      "Features shape (1714,)\n",
      "14\n",
      "Test NMI = 0.4258 ARI = 0.1802 F = 0.3006 ACC = 0.3156\n",
      "================================================================\n",
      "\n"
     ]
    },
    {
     "name": "stderr",
     "output_type": "stream",
     "text": [
      "C:\\Users\\Tom-G\\.conda\\envs\\torchenv\\lib\\site-packages\\torch\\nn\\modules\\container.py:141: UserWarning: Implicit dimension choice for softmax has been deprecated. Change the call to include dim=X as an argument.\n",
      "  input = module(input)\n"
     ]
    },
    {
     "name": "stdout",
     "output_type": "stream",
     "text": [
      "Step [0/3]\t loss_instance: 6.254563331604004\t loss_cluster: 1.5280802249908447\n",
      "\n",
      "Epoch [263/500]\t Loss: 7.775414943695068 \n",
      "\n",
      "Step [0/1]\t Computing features...\n",
      "Features shape (1714,)\n",
      "14\n",
      "Test NMI = 0.4264 ARI = 0.1814 F = 0.3018 ACC = 0.3162\n",
      "================================================================\n",
      "\n"
     ]
    },
    {
     "name": "stderr",
     "output_type": "stream",
     "text": [
      "C:\\Users\\Tom-G\\.conda\\envs\\torchenv\\lib\\site-packages\\torch\\nn\\modules\\container.py:141: UserWarning: Implicit dimension choice for softmax has been deprecated. Change the call to include dim=X as an argument.\n",
      "  input = module(input)\n"
     ]
    },
    {
     "name": "stdout",
     "output_type": "stream",
     "text": [
      "Step [0/3]\t loss_instance: 6.253942012786865\t loss_cluster: 1.5219876766204834\n",
      "\n",
      "Epoch [264/500]\t Loss: 7.773934364318848 \n",
      "\n",
      "Step [0/1]\t Computing features...\n",
      "Features shape (1714,)\n",
      "14\n",
      "Test NMI = 0.4247 ARI = 0.1795 F = 0.2999 ACC = 0.3145\n",
      "================================================================\n",
      "\n"
     ]
    },
    {
     "name": "stderr",
     "output_type": "stream",
     "text": [
      "C:\\Users\\Tom-G\\.conda\\envs\\torchenv\\lib\\site-packages\\torch\\nn\\modules\\container.py:141: UserWarning: Implicit dimension choice for softmax has been deprecated. Change the call to include dim=X as an argument.\n",
      "  input = module(input)\n"
     ]
    },
    {
     "name": "stdout",
     "output_type": "stream",
     "text": [
      "Step [0/3]\t loss_instance: 6.252523422241211\t loss_cluster: 1.5231343507766724\n",
      "\n",
      "Epoch [265/500]\t Loss: 7.776283264160156 \n",
      "\n",
      "Step [0/1]\t Computing features...\n",
      "Features shape (1714,)\n",
      "14\n",
      "Test NMI = 0.4241 ARI = 0.1791 F = 0.2995 ACC = 0.3139\n",
      "================================================================\n",
      "\n"
     ]
    },
    {
     "name": "stderr",
     "output_type": "stream",
     "text": [
      "C:\\Users\\Tom-G\\.conda\\envs\\torchenv\\lib\\site-packages\\torch\\nn\\modules\\container.py:141: UserWarning: Implicit dimension choice for softmax has been deprecated. Change the call to include dim=X as an argument.\n",
      "  input = module(input)\n"
     ]
    },
    {
     "name": "stdout",
     "output_type": "stream",
     "text": [
      "Step [0/3]\t loss_instance: 6.258853912353516\t loss_cluster: 1.5256626605987549\n",
      "\n",
      "Epoch [266/500]\t Loss: 7.778626124064128 \n",
      "\n",
      "Step [0/1]\t Computing features...\n",
      "Features shape (1714,)\n",
      "14\n",
      "Test NMI = 0.4249 ARI = 0.1793 F = 0.2997 ACC = 0.3139\n",
      "================================================================\n",
      "\n"
     ]
    },
    {
     "name": "stderr",
     "output_type": "stream",
     "text": [
      "C:\\Users\\Tom-G\\.conda\\envs\\torchenv\\lib\\site-packages\\torch\\nn\\modules\\container.py:141: UserWarning: Implicit dimension choice for softmax has been deprecated. Change the call to include dim=X as an argument.\n",
      "  input = module(input)\n"
     ]
    },
    {
     "name": "stdout",
     "output_type": "stream",
     "text": [
      "Step [0/3]\t loss_instance: 6.2574615478515625\t loss_cluster: 1.5265090465545654\n",
      "\n",
      "Epoch [267/500]\t Loss: 7.779446919759114 \n",
      "\n",
      "Step [0/1]\t Computing features...\n",
      "Features shape (1714,)\n",
      "14\n",
      "Test NMI = 0.4252 ARI = 0.1798 F = 0.3002 ACC = 0.3127\n",
      "================================================================\n",
      "\n"
     ]
    },
    {
     "name": "stderr",
     "output_type": "stream",
     "text": [
      "C:\\Users\\Tom-G\\.conda\\envs\\torchenv\\lib\\site-packages\\torch\\nn\\modules\\container.py:141: UserWarning: Implicit dimension choice for softmax has been deprecated. Change the call to include dim=X as an argument.\n",
      "  input = module(input)\n"
     ]
    },
    {
     "name": "stdout",
     "output_type": "stream",
     "text": [
      "Step [0/3]\t loss_instance: 6.25982666015625\t loss_cluster: 1.5213543176651\n",
      "\n",
      "Epoch [268/500]\t Loss: 7.77844254175822 \n",
      "\n",
      "Step [0/1]\t Computing features...\n",
      "Features shape (1714,)\n",
      "14\n",
      "Test NMI = 0.4236 ARI = 0.1781 F = 0.2984 ACC = 0.3121\n",
      "================================================================\n",
      "\n"
     ]
    },
    {
     "name": "stderr",
     "output_type": "stream",
     "text": [
      "C:\\Users\\Tom-G\\.conda\\envs\\torchenv\\lib\\site-packages\\torch\\nn\\modules\\container.py:141: UserWarning: Implicit dimension choice for softmax has been deprecated. Change the call to include dim=X as an argument.\n",
      "  input = module(input)\n"
     ]
    },
    {
     "name": "stdout",
     "output_type": "stream",
     "text": [
      "Step [0/3]\t loss_instance: 6.250675678253174\t loss_cluster: 1.5263073444366455\n",
      "\n",
      "Epoch [269/500]\t Loss: 7.778255939483643 \n",
      "\n",
      "Step [0/1]\t Computing features...\n",
      "Features shape (1714,)\n",
      "14\n",
      "Test NMI = 0.4241 ARI = 0.1787 F = 0.2991 ACC = 0.3139\n",
      "================================================================\n",
      "\n"
     ]
    },
    {
     "name": "stderr",
     "output_type": "stream",
     "text": [
      "C:\\Users\\Tom-G\\.conda\\envs\\torchenv\\lib\\site-packages\\torch\\nn\\modules\\container.py:141: UserWarning: Implicit dimension choice for softmax has been deprecated. Change the call to include dim=X as an argument.\n",
      "  input = module(input)\n"
     ]
    },
    {
     "name": "stdout",
     "output_type": "stream",
     "text": [
      "Step [0/3]\t loss_instance: 6.249388694763184\t loss_cluster: 1.522306203842163\n",
      "\n",
      "Epoch [270/500]\t Loss: 7.774195671081543 \n",
      "\n",
      "Step [0/1]\t Computing features...\n",
      "Features shape (1714,)\n",
      "14\n",
      "Test NMI = 0.4253 ARI = 0.1798 F = 0.3002 ACC = 0.3162\n",
      "================================================================\n",
      "\n"
     ]
    },
    {
     "name": "stderr",
     "output_type": "stream",
     "text": [
      "C:\\Users\\Tom-G\\.conda\\envs\\torchenv\\lib\\site-packages\\torch\\nn\\modules\\container.py:141: UserWarning: Implicit dimension choice for softmax has been deprecated. Change the call to include dim=X as an argument.\n",
      "  input = module(input)\n"
     ]
    },
    {
     "name": "stdout",
     "output_type": "stream",
     "text": [
      "Step [0/3]\t loss_instance: 6.25390100479126\t loss_cluster: 1.520551085472107\n",
      "\n",
      "Epoch [271/500]\t Loss: 7.7742336591084795 \n",
      "\n",
      "Step [0/1]\t Computing features...\n",
      "Features shape (1714,)\n",
      "14\n",
      "Test NMI = 0.4253 ARI = 0.1797 F = 0.3001 ACC = 0.3139\n",
      "================================================================\n",
      "\n"
     ]
    },
    {
     "name": "stderr",
     "output_type": "stream",
     "text": [
      "C:\\Users\\Tom-G\\.conda\\envs\\torchenv\\lib\\site-packages\\torch\\nn\\modules\\container.py:141: UserWarning: Implicit dimension choice for softmax has been deprecated. Change the call to include dim=X as an argument.\n",
      "  input = module(input)\n"
     ]
    },
    {
     "name": "stdout",
     "output_type": "stream",
     "text": [
      "Step [0/3]\t loss_instance: 6.262759208679199\t loss_cluster: 1.5226079225540161\n",
      "\n",
      "Epoch [272/500]\t Loss: 7.783269882202148 \n",
      "\n",
      "Step [0/1]\t Computing features...\n",
      "Features shape (1714,)\n",
      "14\n",
      "Test NMI = 0.4243 ARI = 0.1794 F = 0.2998 ACC = 0.3145\n",
      "================================================================\n",
      "\n"
     ]
    },
    {
     "name": "stderr",
     "output_type": "stream",
     "text": [
      "C:\\Users\\Tom-G\\.conda\\envs\\torchenv\\lib\\site-packages\\torch\\nn\\modules\\container.py:141: UserWarning: Implicit dimension choice for softmax has been deprecated. Change the call to include dim=X as an argument.\n",
      "  input = module(input)\n"
     ]
    },
    {
     "name": "stdout",
     "output_type": "stream",
     "text": [
      "Step [0/3]\t loss_instance: 6.254499912261963\t loss_cluster: 1.5183242559432983\n",
      "\n",
      "Epoch [273/500]\t Loss: 7.774272759755452 \n",
      "\n",
      "Step [0/1]\t Computing features...\n",
      "Features shape (1714,)\n",
      "14\n",
      "Test NMI = 0.4244 ARI = 0.1797 F = 0.3001 ACC = 0.3145\n",
      "================================================================\n",
      "\n"
     ]
    },
    {
     "name": "stderr",
     "output_type": "stream",
     "text": [
      "C:\\Users\\Tom-G\\.conda\\envs\\torchenv\\lib\\site-packages\\torch\\nn\\modules\\container.py:141: UserWarning: Implicit dimension choice for softmax has been deprecated. Change the call to include dim=X as an argument.\n",
      "  input = module(input)\n"
     ]
    },
    {
     "name": "stdout",
     "output_type": "stream",
     "text": [
      "Step [0/3]\t loss_instance: 6.251102447509766\t loss_cluster: 1.519456148147583\n",
      "\n",
      "Epoch [274/500]\t Loss: 7.775073846181233 \n",
      "\n",
      "Step [0/1]\t Computing features...\n",
      "Features shape (1714,)\n",
      "14\n",
      "Test NMI = 0.4244 ARI = 0.1800 F = 0.3004 ACC = 0.3151\n",
      "================================================================\n",
      "\n"
     ]
    },
    {
     "name": "stderr",
     "output_type": "stream",
     "text": [
      "C:\\Users\\Tom-G\\.conda\\envs\\torchenv\\lib\\site-packages\\torch\\nn\\modules\\container.py:141: UserWarning: Implicit dimension choice for softmax has been deprecated. Change the call to include dim=X as an argument.\n",
      "  input = module(input)\n"
     ]
    },
    {
     "name": "stdout",
     "output_type": "stream",
     "text": [
      "Step [0/3]\t loss_instance: 6.250647068023682\t loss_cluster: 1.5234590768814087\n",
      "\n",
      "Epoch [275/500]\t Loss: 7.777281284332275 \n",
      "\n",
      "Step [0/1]\t Computing features...\n",
      "Features shape (1714,)\n",
      "14\n",
      "Test NMI = 0.4240 ARI = 0.1806 F = 0.3010 ACC = 0.3151\n",
      "================================================================\n",
      "\n"
     ]
    },
    {
     "name": "stderr",
     "output_type": "stream",
     "text": [
      "C:\\Users\\Tom-G\\.conda\\envs\\torchenv\\lib\\site-packages\\torch\\nn\\modules\\container.py:141: UserWarning: Implicit dimension choice for softmax has been deprecated. Change the call to include dim=X as an argument.\n",
      "  input = module(input)\n"
     ]
    },
    {
     "name": "stdout",
     "output_type": "stream",
     "text": [
      "Step [0/3]\t loss_instance: 6.251412391662598\t loss_cluster: 1.519610047340393\n",
      "\n",
      "Epoch [276/500]\t Loss: 7.775375525156657 \n",
      "\n",
      "Step [0/1]\t Computing features...\n",
      "Features shape (1714,)\n",
      "14\n",
      "Test NMI = 0.4246 ARI = 0.1803 F = 0.3007 ACC = 0.3156\n",
      "================================================================\n",
      "\n"
     ]
    },
    {
     "name": "stderr",
     "output_type": "stream",
     "text": [
      "C:\\Users\\Tom-G\\.conda\\envs\\torchenv\\lib\\site-packages\\torch\\nn\\modules\\container.py:141: UserWarning: Implicit dimension choice for softmax has been deprecated. Change the call to include dim=X as an argument.\n",
      "  input = module(input)\n"
     ]
    },
    {
     "name": "stdout",
     "output_type": "stream",
     "text": [
      "Step [0/3]\t loss_instance: 6.250114440917969\t loss_cluster: 1.5204473733901978\n",
      "\n",
      "Epoch [277/500]\t Loss: 7.7712758382161455 \n",
      "\n",
      "Step [0/1]\t Computing features...\n",
      "Features shape (1714,)\n",
      "14\n",
      "Test NMI = 0.4255 ARI = 0.1802 F = 0.3006 ACC = 0.3151\n",
      "================================================================\n",
      "\n"
     ]
    },
    {
     "name": "stderr",
     "output_type": "stream",
     "text": [
      "C:\\Users\\Tom-G\\.conda\\envs\\torchenv\\lib\\site-packages\\torch\\nn\\modules\\container.py:141: UserWarning: Implicit dimension choice for softmax has been deprecated. Change the call to include dim=X as an argument.\n",
      "  input = module(input)\n"
     ]
    },
    {
     "name": "stdout",
     "output_type": "stream",
     "text": [
      "Step [0/3]\t loss_instance: 6.254200458526611\t loss_cluster: 1.5199148654937744\n",
      "\n",
      "Epoch [278/500]\t Loss: 7.77299149831136 \n",
      "\n",
      "Step [0/1]\t Computing features...\n",
      "Features shape (1714,)\n",
      "14\n",
      "Test NMI = 0.4275 ARI = 0.1820 F = 0.3024 ACC = 0.3162\n",
      "================================================================\n",
      "\n"
     ]
    },
    {
     "name": "stderr",
     "output_type": "stream",
     "text": [
      "C:\\Users\\Tom-G\\.conda\\envs\\torchenv\\lib\\site-packages\\torch\\nn\\modules\\container.py:141: UserWarning: Implicit dimension choice for softmax has been deprecated. Change the call to include dim=X as an argument.\n",
      "  input = module(input)\n"
     ]
    },
    {
     "name": "stdout",
     "output_type": "stream",
     "text": [
      "Step [0/3]\t loss_instance: 6.252928733825684\t loss_cluster: 1.526945948600769\n",
      "\n",
      "Epoch [279/500]\t Loss: 7.775497277577718 \n",
      "\n",
      "Step [0/1]\t Computing features...\n",
      "Features shape (1714,)\n",
      "14\n",
      "Test NMI = 0.4281 ARI = 0.1814 F = 0.3018 ACC = 0.3156\n",
      "================================================================\n",
      "\n"
     ]
    },
    {
     "name": "stderr",
     "output_type": "stream",
     "text": [
      "C:\\Users\\Tom-G\\.conda\\envs\\torchenv\\lib\\site-packages\\torch\\nn\\modules\\container.py:141: UserWarning: Implicit dimension choice for softmax has been deprecated. Change the call to include dim=X as an argument.\n",
      "  input = module(input)\n"
     ]
    },
    {
     "name": "stdout",
     "output_type": "stream",
     "text": [
      "Step [0/3]\t loss_instance: 6.251632213592529\t loss_cluster: 1.5196282863616943\n",
      "\n",
      "Epoch [280/500]\t Loss: 7.7726664543151855 \n",
      "\n",
      "Step [0/1]\t Computing features...\n",
      "Features shape (1714,)\n",
      "14\n",
      "Test NMI = 0.4280 ARI = 0.1825 F = 0.3029 ACC = 0.3186\n",
      "================================================================\n",
      "\n"
     ]
    },
    {
     "name": "stderr",
     "output_type": "stream",
     "text": [
      "C:\\Users\\Tom-G\\.conda\\envs\\torchenv\\lib\\site-packages\\torch\\nn\\modules\\container.py:141: UserWarning: Implicit dimension choice for softmax has been deprecated. Change the call to include dim=X as an argument.\n",
      "  input = module(input)\n"
     ]
    },
    {
     "name": "stdout",
     "output_type": "stream",
     "text": [
      "Step [0/3]\t loss_instance: 6.2508158683776855\t loss_cluster: 1.5226314067840576\n",
      "\n",
      "Epoch [281/500]\t Loss: 7.769993940989177 \n",
      "\n",
      "Step [0/1]\t Computing features...\n",
      "Features shape (1714,)\n",
      "14\n",
      "Test NMI = 0.4258 ARI = 0.1802 F = 0.3006 ACC = 0.3156\n",
      "================================================================\n",
      "\n"
     ]
    },
    {
     "name": "stderr",
     "output_type": "stream",
     "text": [
      "C:\\Users\\Tom-G\\.conda\\envs\\torchenv\\lib\\site-packages\\torch\\nn\\modules\\container.py:141: UserWarning: Implicit dimension choice for softmax has been deprecated. Change the call to include dim=X as an argument.\n",
      "  input = module(input)\n"
     ]
    },
    {
     "name": "stdout",
     "output_type": "stream",
     "text": [
      "Step [0/3]\t loss_instance: 6.249651908874512\t loss_cluster: 1.5204440355300903\n",
      "\n",
      "Epoch [282/500]\t Loss: 7.769251664479573 \n",
      "\n",
      "Step [0/1]\t Computing features...\n",
      "Features shape (1714,)\n",
      "14\n",
      "Test NMI = 0.4248 ARI = 0.1798 F = 0.3002 ACC = 0.3156\n",
      "================================================================\n",
      "\n"
     ]
    },
    {
     "name": "stderr",
     "output_type": "stream",
     "text": [
      "C:\\Users\\Tom-G\\.conda\\envs\\torchenv\\lib\\site-packages\\torch\\nn\\modules\\container.py:141: UserWarning: Implicit dimension choice for softmax has been deprecated. Change the call to include dim=X as an argument.\n",
      "  input = module(input)\n"
     ]
    },
    {
     "name": "stdout",
     "output_type": "stream",
     "text": [
      "Step [0/3]\t loss_instance: 6.247963905334473\t loss_cluster: 1.522053837776184\n",
      "\n",
      "Epoch [283/500]\t Loss: 7.7714619636535645 \n",
      "\n",
      "Step [0/1]\t Computing features...\n",
      "Features shape (1714,)\n",
      "14\n",
      "Test NMI = 0.4264 ARI = 0.1811 F = 0.3015 ACC = 0.3156\n",
      "================================================================\n",
      "\n"
     ]
    },
    {
     "name": "stderr",
     "output_type": "stream",
     "text": [
      "C:\\Users\\Tom-G\\.conda\\envs\\torchenv\\lib\\site-packages\\torch\\nn\\modules\\container.py:141: UserWarning: Implicit dimension choice for softmax has been deprecated. Change the call to include dim=X as an argument.\n",
      "  input = module(input)\n"
     ]
    },
    {
     "name": "stdout",
     "output_type": "stream",
     "text": [
      "Step [0/3]\t loss_instance: 6.249392032623291\t loss_cluster: 1.5203019380569458\n",
      "\n",
      "Epoch [284/500]\t Loss: 7.770023663838704 \n",
      "\n",
      "Step [0/1]\t Computing features...\n",
      "Features shape (1714,)\n",
      "14\n",
      "Test NMI = 0.4255 ARI = 0.1802 F = 0.3006 ACC = 0.3145\n",
      "================================================================\n",
      "\n"
     ]
    },
    {
     "name": "stderr",
     "output_type": "stream",
     "text": [
      "C:\\Users\\Tom-G\\.conda\\envs\\torchenv\\lib\\site-packages\\torch\\nn\\modules\\container.py:141: UserWarning: Implicit dimension choice for softmax has been deprecated. Change the call to include dim=X as an argument.\n",
      "  input = module(input)\n"
     ]
    },
    {
     "name": "stdout",
     "output_type": "stream",
     "text": [
      "Step [0/3]\t loss_instance: 6.251623630523682\t loss_cluster: 1.520033836364746\n",
      "\n",
      "Epoch [285/500]\t Loss: 7.771441300710042 \n",
      "\n",
      "Step [0/1]\t Computing features...\n",
      "Features shape (1714,)\n",
      "14\n",
      "Test NMI = 0.4246 ARI = 0.1788 F = 0.2992 ACC = 0.3121\n",
      "================================================================\n",
      "\n"
     ]
    },
    {
     "name": "stderr",
     "output_type": "stream",
     "text": [
      "C:\\Users\\Tom-G\\.conda\\envs\\torchenv\\lib\\site-packages\\torch\\nn\\modules\\container.py:141: UserWarning: Implicit dimension choice for softmax has been deprecated. Change the call to include dim=X as an argument.\n",
      "  input = module(input)\n"
     ]
    },
    {
     "name": "stdout",
     "output_type": "stream",
     "text": [
      "Step [0/3]\t loss_instance: 6.248600959777832\t loss_cluster: 1.5260618925094604\n",
      "\n",
      "Epoch [286/500]\t Loss: 7.772581418355306 \n",
      "\n",
      "Step [0/1]\t Computing features...\n",
      "Features shape (1714,)\n",
      "14\n",
      "Test NMI = 0.4248 ARI = 0.1788 F = 0.2991 ACC = 0.3104\n",
      "================================================================\n",
      "\n"
     ]
    },
    {
     "name": "stderr",
     "output_type": "stream",
     "text": [
      "C:\\Users\\Tom-G\\.conda\\envs\\torchenv\\lib\\site-packages\\torch\\nn\\modules\\container.py:141: UserWarning: Implicit dimension choice for softmax has been deprecated. Change the call to include dim=X as an argument.\n",
      "  input = module(input)\n"
     ]
    },
    {
     "name": "stdout",
     "output_type": "stream",
     "text": [
      "Step [0/3]\t loss_instance: 6.246527194976807\t loss_cluster: 1.5228803157806396\n",
      "\n",
      "Epoch [287/500]\t Loss: 7.770358721415202 \n",
      "\n",
      "Step [0/1]\t Computing features...\n",
      "Features shape (1714,)\n",
      "14\n",
      "Test NMI = 0.4241 ARI = 0.1779 F = 0.2983 ACC = 0.3092\n",
      "================================================================\n",
      "\n"
     ]
    },
    {
     "name": "stderr",
     "output_type": "stream",
     "text": [
      "C:\\Users\\Tom-G\\.conda\\envs\\torchenv\\lib\\site-packages\\torch\\nn\\modules\\container.py:141: UserWarning: Implicit dimension choice for softmax has been deprecated. Change the call to include dim=X as an argument.\n",
      "  input = module(input)\n"
     ]
    },
    {
     "name": "stdout",
     "output_type": "stream",
     "text": [
      "Step [0/3]\t loss_instance: 6.24700927734375\t loss_cluster: 1.5205332040786743\n",
      "\n",
      "Epoch [288/500]\t Loss: 7.771601676940918 \n",
      "\n",
      "Step [0/1]\t Computing features...\n",
      "Features shape (1714,)\n",
      "14\n",
      "Test NMI = 0.4251 ARI = 0.1799 F = 0.3003 ACC = 0.3139\n",
      "================================================================\n",
      "\n"
     ]
    },
    {
     "name": "stderr",
     "output_type": "stream",
     "text": [
      "C:\\Users\\Tom-G\\.conda\\envs\\torchenv\\lib\\site-packages\\torch\\nn\\modules\\container.py:141: UserWarning: Implicit dimension choice for softmax has been deprecated. Change the call to include dim=X as an argument.\n",
      "  input = module(input)\n"
     ]
    },
    {
     "name": "stdout",
     "output_type": "stream",
     "text": [
      "Step [0/3]\t loss_instance: 6.246083736419678\t loss_cluster: 1.5217820405960083\n",
      "\n",
      "Epoch [289/500]\t Loss: 7.770603020985921 \n",
      "\n",
      "Step [0/1]\t Computing features...\n",
      "Features shape (1714,)\n",
      "14\n",
      "Test NMI = 0.4244 ARI = 0.1795 F = 0.2998 ACC = 0.3127\n",
      "================================================================\n",
      "\n"
     ]
    },
    {
     "name": "stderr",
     "output_type": "stream",
     "text": [
      "C:\\Users\\Tom-G\\.conda\\envs\\torchenv\\lib\\site-packages\\torch\\nn\\modules\\container.py:141: UserWarning: Implicit dimension choice for softmax has been deprecated. Change the call to include dim=X as an argument.\n",
      "  input = module(input)\n"
     ]
    },
    {
     "name": "stdout",
     "output_type": "stream",
     "text": [
      "Step [0/3]\t loss_instance: 6.245739459991455\t loss_cluster: 1.5181289911270142\n",
      "\n",
      "Epoch [290/500]\t Loss: 7.77047077814738 \n",
      "\n",
      "Step [0/1]\t Computing features...\n",
      "Features shape (1714,)\n",
      "14\n",
      "Test NMI = 0.4245 ARI = 0.1790 F = 0.2994 ACC = 0.3127\n",
      "================================================================\n",
      "\n"
     ]
    },
    {
     "name": "stderr",
     "output_type": "stream",
     "text": [
      "C:\\Users\\Tom-G\\.conda\\envs\\torchenv\\lib\\site-packages\\torch\\nn\\modules\\container.py:141: UserWarning: Implicit dimension choice for softmax has been deprecated. Change the call to include dim=X as an argument.\n",
      "  input = module(input)\n"
     ]
    },
    {
     "name": "stdout",
     "output_type": "stream",
     "text": [
      "Step [0/3]\t loss_instance: 6.251890659332275\t loss_cluster: 1.5236281156539917\n",
      "\n",
      "Epoch [291/500]\t Loss: 7.774036566416423 \n",
      "\n",
      "Step [0/1]\t Computing features...\n",
      "Features shape (1714,)\n",
      "14\n",
      "Test NMI = 0.4260 ARI = 0.1805 F = 0.3009 ACC = 0.3145\n",
      "================================================================\n",
      "\n"
     ]
    },
    {
     "name": "stderr",
     "output_type": "stream",
     "text": [
      "C:\\Users\\Tom-G\\.conda\\envs\\torchenv\\lib\\site-packages\\torch\\nn\\modules\\container.py:141: UserWarning: Implicit dimension choice for softmax has been deprecated. Change the call to include dim=X as an argument.\n",
      "  input = module(input)\n"
     ]
    },
    {
     "name": "stdout",
     "output_type": "stream",
     "text": [
      "Step [0/3]\t loss_instance: 6.245415687561035\t loss_cluster: 1.523908257484436\n",
      "\n",
      "Epoch [292/500]\t Loss: 7.7700808842976885 \n",
      "\n",
      "Step [0/1]\t Computing features...\n",
      "Features shape (1714,)\n",
      "14\n",
      "Test NMI = 0.4259 ARI = 0.1803 F = 0.3007 ACC = 0.3133\n",
      "================================================================\n",
      "\n"
     ]
    },
    {
     "name": "stderr",
     "output_type": "stream",
     "text": [
      "C:\\Users\\Tom-G\\.conda\\envs\\torchenv\\lib\\site-packages\\torch\\nn\\modules\\container.py:141: UserWarning: Implicit dimension choice for softmax has been deprecated. Change the call to include dim=X as an argument.\n",
      "  input = module(input)\n"
     ]
    },
    {
     "name": "stdout",
     "output_type": "stream",
     "text": [
      "Step [0/3]\t loss_instance: 6.24668025970459\t loss_cluster: 1.5177466869354248\n",
      "\n",
      "Epoch [293/500]\t Loss: 7.768914540608724 \n",
      "\n",
      "Step [0/1]\t Computing features...\n",
      "Features shape (1714,)\n",
      "14\n",
      "Test NMI = 0.4255 ARI = 0.1796 F = 0.3000 ACC = 0.3133\n",
      "================================================================\n",
      "\n"
     ]
    },
    {
     "name": "stderr",
     "output_type": "stream",
     "text": [
      "C:\\Users\\Tom-G\\.conda\\envs\\torchenv\\lib\\site-packages\\torch\\nn\\modules\\container.py:141: UserWarning: Implicit dimension choice for softmax has been deprecated. Change the call to include dim=X as an argument.\n",
      "  input = module(input)\n"
     ]
    },
    {
     "name": "stdout",
     "output_type": "stream",
     "text": [
      "Step [0/3]\t loss_instance: 6.2486395835876465\t loss_cluster: 1.5199393033981323\n",
      "\n",
      "Epoch [294/500]\t Loss: 7.770924091339111 \n",
      "\n",
      "Step [0/1]\t Computing features...\n",
      "Features shape (1714,)\n",
      "14\n",
      "Test NMI = 0.4263 ARI = 0.1803 F = 0.3007 ACC = 0.3156\n",
      "================================================================\n",
      "\n"
     ]
    },
    {
     "name": "stderr",
     "output_type": "stream",
     "text": [
      "C:\\Users\\Tom-G\\.conda\\envs\\torchenv\\lib\\site-packages\\torch\\nn\\modules\\container.py:141: UserWarning: Implicit dimension choice for softmax has been deprecated. Change the call to include dim=X as an argument.\n",
      "  input = module(input)\n"
     ]
    },
    {
     "name": "stdout",
     "output_type": "stream",
     "text": [
      "Step [0/3]\t loss_instance: 6.246106147766113\t loss_cluster: 1.5206056833267212\n",
      "\n",
      "Epoch [295/500]\t Loss: 7.769492944081624 \n",
      "\n",
      "Step [0/1]\t Computing features...\n",
      "Features shape (1714,)\n",
      "14\n",
      "Test NMI = 0.4254 ARI = 0.1802 F = 0.3005 ACC = 0.3162\n",
      "================================================================\n",
      "\n"
     ]
    },
    {
     "name": "stderr",
     "output_type": "stream",
     "text": [
      "C:\\Users\\Tom-G\\.conda\\envs\\torchenv\\lib\\site-packages\\torch\\nn\\modules\\container.py:141: UserWarning: Implicit dimension choice for softmax has been deprecated. Change the call to include dim=X as an argument.\n",
      "  input = module(input)\n"
     ]
    },
    {
     "name": "stdout",
     "output_type": "stream",
     "text": [
      "Step [0/3]\t loss_instance: 6.24830961227417\t loss_cluster: 1.5213854312896729\n",
      "\n",
      "Epoch [296/500]\t Loss: 7.770678997039795 \n",
      "\n",
      "Step [0/1]\t Computing features...\n",
      "Features shape (1714,)\n",
      "14\n",
      "Test NMI = 0.4234 ARI = 0.1807 F = 0.3011 ACC = 0.3162\n",
      "================================================================\n",
      "\n"
     ]
    },
    {
     "name": "stderr",
     "output_type": "stream",
     "text": [
      "C:\\Users\\Tom-G\\.conda\\envs\\torchenv\\lib\\site-packages\\torch\\nn\\modules\\container.py:141: UserWarning: Implicit dimension choice for softmax has been deprecated. Change the call to include dim=X as an argument.\n",
      "  input = module(input)\n"
     ]
    },
    {
     "name": "stdout",
     "output_type": "stream",
     "text": [
      "Step [0/3]\t loss_instance: 6.248738765716553\t loss_cluster: 1.5207618474960327\n",
      "\n",
      "Epoch [297/500]\t Loss: 7.772303740183513 \n",
      "\n",
      "Step [0/1]\t Computing features...\n",
      "Features shape (1714,)\n",
      "14\n",
      "Test NMI = 0.4248 ARI = 0.1809 F = 0.3013 ACC = 0.3162\n",
      "================================================================\n",
      "\n"
     ]
    },
    {
     "name": "stderr",
     "output_type": "stream",
     "text": [
      "C:\\Users\\Tom-G\\.conda\\envs\\torchenv\\lib\\site-packages\\torch\\nn\\modules\\container.py:141: UserWarning: Implicit dimension choice for softmax has been deprecated. Change the call to include dim=X as an argument.\n",
      "  input = module(input)\n"
     ]
    },
    {
     "name": "stdout",
     "output_type": "stream",
     "text": [
      "Step [0/3]\t loss_instance: 6.252575397491455\t loss_cluster: 1.5229617357254028\n",
      "\n",
      "Epoch [298/500]\t Loss: 7.7698845863342285 \n",
      "\n",
      "Step [0/1]\t Computing features...\n",
      "Features shape (1714,)\n",
      "14\n",
      "Test NMI = 0.4257 ARI = 0.1813 F = 0.3017 ACC = 0.3151\n",
      "================================================================\n",
      "\n"
     ]
    },
    {
     "name": "stderr",
     "output_type": "stream",
     "text": [
      "C:\\Users\\Tom-G\\.conda\\envs\\torchenv\\lib\\site-packages\\torch\\nn\\modules\\container.py:141: UserWarning: Implicit dimension choice for softmax has been deprecated. Change the call to include dim=X as an argument.\n",
      "  input = module(input)\n"
     ]
    },
    {
     "name": "stdout",
     "output_type": "stream",
     "text": [
      "Step [0/3]\t loss_instance: 6.255855560302734\t loss_cluster: 1.5206859111785889\n",
      "\n",
      "Epoch [299/500]\t Loss: 7.7740888595581055 \n",
      "\n",
      "Step [0/1]\t Computing features...\n",
      "Features shape (1714,)\n",
      "14\n",
      "Test NMI = 0.4260 ARI = 0.1817 F = 0.3021 ACC = 0.3162\n",
      "================================================================\n",
      "\n"
     ]
    },
    {
     "name": "stderr",
     "output_type": "stream",
     "text": [
      "C:\\Users\\Tom-G\\.conda\\envs\\torchenv\\lib\\site-packages\\torch\\nn\\modules\\container.py:141: UserWarning: Implicit dimension choice for softmax has been deprecated. Change the call to include dim=X as an argument.\n",
      "  input = module(input)\n"
     ]
    },
    {
     "name": "stdout",
     "output_type": "stream",
     "text": [
      "Step [0/3]\t loss_instance: 6.250080585479736\t loss_cluster: 1.52329421043396\n",
      "\n",
      "Epoch [300/500]\t Loss: 7.771285692850749 \n",
      "\n",
      "Step [0/1]\t Computing features...\n",
      "Features shape (1714,)\n",
      "14\n",
      "Test NMI = 0.4256 ARI = 0.1812 F = 0.3016 ACC = 0.3156\n",
      "================================================================\n",
      "\n"
     ]
    },
    {
     "name": "stderr",
     "output_type": "stream",
     "text": [
      "C:\\Users\\Tom-G\\.conda\\envs\\torchenv\\lib\\site-packages\\torch\\nn\\modules\\container.py:141: UserWarning: Implicit dimension choice for softmax has been deprecated. Change the call to include dim=X as an argument.\n",
      "  input = module(input)\n"
     ]
    },
    {
     "name": "stdout",
     "output_type": "stream",
     "text": [
      "Step [0/3]\t loss_instance: 6.250972747802734\t loss_cluster: 1.5189043283462524\n",
      "\n",
      "Epoch [301/500]\t Loss: 7.771049499511719 \n",
      "\n",
      "Step [0/1]\t Computing features...\n",
      "Features shape (1714,)\n",
      "14\n",
      "Test NMI = 0.4265 ARI = 0.1816 F = 0.3020 ACC = 0.3168\n",
      "================================================================\n",
      "\n"
     ]
    },
    {
     "name": "stderr",
     "output_type": "stream",
     "text": [
      "C:\\Users\\Tom-G\\.conda\\envs\\torchenv\\lib\\site-packages\\torch\\nn\\modules\\container.py:141: UserWarning: Implicit dimension choice for softmax has been deprecated. Change the call to include dim=X as an argument.\n",
      "  input = module(input)\n"
     ]
    },
    {
     "name": "stdout",
     "output_type": "stream",
     "text": [
      "Step [0/3]\t loss_instance: 6.247424125671387\t loss_cluster: 1.520905613899231\n",
      "\n",
      "Epoch [302/500]\t Loss: 7.767199357350667 \n",
      "\n",
      "Step [0/1]\t Computing features...\n",
      "Features shape (1714,)\n",
      "14\n",
      "Test NMI = 0.4257 ARI = 0.1798 F = 0.3002 ACC = 0.3127\n",
      "================================================================\n",
      "\n"
     ]
    },
    {
     "name": "stderr",
     "output_type": "stream",
     "text": [
      "C:\\Users\\Tom-G\\.conda\\envs\\torchenv\\lib\\site-packages\\torch\\nn\\modules\\container.py:141: UserWarning: Implicit dimension choice for softmax has been deprecated. Change the call to include dim=X as an argument.\n",
      "  input = module(input)\n"
     ]
    },
    {
     "name": "stdout",
     "output_type": "stream",
     "text": [
      "Step [0/3]\t loss_instance: 6.243921756744385\t loss_cluster: 1.5189400911331177\n",
      "\n",
      "Epoch [303/500]\t Loss: 7.767103672027588 \n",
      "\n",
      "Step [0/1]\t Computing features...\n",
      "Features shape (1714,)\n",
      "14\n",
      "Test NMI = 0.4253 ARI = 0.1787 F = 0.2991 ACC = 0.3133\n",
      "================================================================\n",
      "\n"
     ]
    },
    {
     "name": "stderr",
     "output_type": "stream",
     "text": [
      "C:\\Users\\Tom-G\\.conda\\envs\\torchenv\\lib\\site-packages\\torch\\nn\\modules\\container.py:141: UserWarning: Implicit dimension choice for softmax has been deprecated. Change the call to include dim=X as an argument.\n",
      "  input = module(input)\n"
     ]
    },
    {
     "name": "stdout",
     "output_type": "stream",
     "text": [
      "Step [0/3]\t loss_instance: 6.242400169372559\t loss_cluster: 1.5199013948440552\n",
      "\n",
      "Epoch [304/500]\t Loss: 7.76977523167928 \n",
      "\n",
      "Step [0/1]\t Computing features...\n",
      "Features shape (1714,)\n",
      "14\n",
      "Test NMI = 0.4239 ARI = 0.1787 F = 0.2991 ACC = 0.3133\n",
      "================================================================\n",
      "\n"
     ]
    },
    {
     "name": "stderr",
     "output_type": "stream",
     "text": [
      "C:\\Users\\Tom-G\\.conda\\envs\\torchenv\\lib\\site-packages\\torch\\nn\\modules\\container.py:141: UserWarning: Implicit dimension choice for softmax has been deprecated. Change the call to include dim=X as an argument.\n",
      "  input = module(input)\n"
     ]
    },
    {
     "name": "stdout",
     "output_type": "stream",
     "text": [
      "Step [0/3]\t loss_instance: 6.249423503875732\t loss_cluster: 1.5181111097335815\n",
      "\n",
      "Epoch [305/500]\t Loss: 7.767869631449382 \n",
      "\n",
      "Step [0/1]\t Computing features...\n",
      "Features shape (1714,)\n",
      "14\n",
      "Test NMI = 0.4252 ARI = 0.1800 F = 0.3004 ACC = 0.3156\n",
      "================================================================\n",
      "\n"
     ]
    },
    {
     "name": "stderr",
     "output_type": "stream",
     "text": [
      "C:\\Users\\Tom-G\\.conda\\envs\\torchenv\\lib\\site-packages\\torch\\nn\\modules\\container.py:141: UserWarning: Implicit dimension choice for softmax has been deprecated. Change the call to include dim=X as an argument.\n",
      "  input = module(input)\n"
     ]
    },
    {
     "name": "stdout",
     "output_type": "stream",
     "text": [
      "Step [0/3]\t loss_instance: 6.24507474899292\t loss_cluster: 1.5222781896591187\n",
      "\n",
      "Epoch [306/500]\t Loss: 7.766279856363933 \n",
      "\n",
      "Step [0/1]\t Computing features...\n",
      "Features shape (1714,)\n",
      "14\n",
      "Test NMI = 0.4259 ARI = 0.1798 F = 0.3002 ACC = 0.3156\n",
      "================================================================\n",
      "\n"
     ]
    },
    {
     "name": "stderr",
     "output_type": "stream",
     "text": [
      "C:\\Users\\Tom-G\\.conda\\envs\\torchenv\\lib\\site-packages\\torch\\nn\\modules\\container.py:141: UserWarning: Implicit dimension choice for softmax has been deprecated. Change the call to include dim=X as an argument.\n",
      "  input = module(input)\n"
     ]
    },
    {
     "name": "stdout",
     "output_type": "stream",
     "text": [
      "Step [0/3]\t loss_instance: 6.250885486602783\t loss_cluster: 1.5201455354690552\n",
      "\n",
      "Epoch [307/500]\t Loss: 7.769916534423828 \n",
      "\n",
      "Step [0/1]\t Computing features...\n",
      "Features shape (1714,)\n",
      "14\n",
      "Test NMI = 0.4264 ARI = 0.1801 F = 0.3005 ACC = 0.3145\n",
      "================================================================\n",
      "\n"
     ]
    },
    {
     "name": "stderr",
     "output_type": "stream",
     "text": [
      "C:\\Users\\Tom-G\\.conda\\envs\\torchenv\\lib\\site-packages\\torch\\nn\\modules\\container.py:141: UserWarning: Implicit dimension choice for softmax has been deprecated. Change the call to include dim=X as an argument.\n",
      "  input = module(input)\n"
     ]
    },
    {
     "name": "stdout",
     "output_type": "stream",
     "text": [
      "Step [0/3]\t loss_instance: 6.246060371398926\t loss_cluster: 1.5208728313446045\n",
      "\n",
      "Epoch [308/500]\t Loss: 7.767488320668538 \n",
      "\n",
      "Step [0/1]\t Computing features...\n",
      "Features shape (1714,)\n",
      "14\n",
      "Test NMI = 0.4258 ARI = 0.1802 F = 0.3006 ACC = 0.3139\n",
      "================================================================\n",
      "\n"
     ]
    },
    {
     "name": "stderr",
     "output_type": "stream",
     "text": [
      "C:\\Users\\Tom-G\\.conda\\envs\\torchenv\\lib\\site-packages\\torch\\nn\\modules\\container.py:141: UserWarning: Implicit dimension choice for softmax has been deprecated. Change the call to include dim=X as an argument.\n",
      "  input = module(input)\n"
     ]
    },
    {
     "name": "stdout",
     "output_type": "stream",
     "text": [
      "Step [0/3]\t loss_instance: 6.2462310791015625\t loss_cluster: 1.5210447311401367\n",
      "\n",
      "Epoch [309/500]\t Loss: 7.765597502390544 \n",
      "\n",
      "Step [0/1]\t Computing features...\n",
      "Features shape (1714,)\n",
      "14\n",
      "Test NMI = 0.4257 ARI = 0.1803 F = 0.3007 ACC = 0.3139\n",
      "================================================================\n",
      "\n"
     ]
    },
    {
     "name": "stderr",
     "output_type": "stream",
     "text": [
      "C:\\Users\\Tom-G\\.conda\\envs\\torchenv\\lib\\site-packages\\torch\\nn\\modules\\container.py:141: UserWarning: Implicit dimension choice for softmax has been deprecated. Change the call to include dim=X as an argument.\n",
      "  input = module(input)\n"
     ]
    },
    {
     "name": "stdout",
     "output_type": "stream",
     "text": [
      "Step [0/3]\t loss_instance: 6.249814510345459\t loss_cluster: 1.5232049226760864\n",
      "\n",
      "Epoch [310/500]\t Loss: 7.768038908640544 \n",
      "\n",
      "Step [0/1]\t Computing features...\n",
      "Features shape (1714,)\n",
      "14\n",
      "Test NMI = 0.4254 ARI = 0.1811 F = 0.3015 ACC = 0.3151\n",
      "================================================================\n",
      "\n"
     ]
    },
    {
     "name": "stderr",
     "output_type": "stream",
     "text": [
      "C:\\Users\\Tom-G\\.conda\\envs\\torchenv\\lib\\site-packages\\torch\\nn\\modules\\container.py:141: UserWarning: Implicit dimension choice for softmax has been deprecated. Change the call to include dim=X as an argument.\n",
      "  input = module(input)\n"
     ]
    },
    {
     "name": "stdout",
     "output_type": "stream",
     "text": [
      "Step [0/3]\t loss_instance: 6.2431745529174805\t loss_cluster: 1.5249418020248413\n",
      "\n",
      "Epoch [311/500]\t Loss: 7.768334865570068 \n",
      "\n",
      "Step [0/1]\t Computing features...\n",
      "Features shape (1714,)\n",
      "14\n",
      "Test NMI = 0.4256 ARI = 0.1815 F = 0.3019 ACC = 0.3151\n",
      "================================================================\n",
      "\n"
     ]
    },
    {
     "name": "stderr",
     "output_type": "stream",
     "text": [
      "C:\\Users\\Tom-G\\.conda\\envs\\torchenv\\lib\\site-packages\\torch\\nn\\modules\\container.py:141: UserWarning: Implicit dimension choice for softmax has been deprecated. Change the call to include dim=X as an argument.\n",
      "  input = module(input)\n"
     ]
    },
    {
     "name": "stdout",
     "output_type": "stream",
     "text": [
      "Step [0/3]\t loss_instance: 6.2443013191223145\t loss_cluster: 1.5182946920394897\n",
      "\n",
      "Epoch [312/500]\t Loss: 7.765415668487549 \n",
      "\n",
      "Step [0/1]\t Computing features...\n",
      "Features shape (1714,)\n",
      "14\n",
      "Test NMI = 0.4241 ARI = 0.1803 F = 0.3007 ACC = 0.3139\n",
      "================================================================\n",
      "\n"
     ]
    },
    {
     "name": "stderr",
     "output_type": "stream",
     "text": [
      "C:\\Users\\Tom-G\\.conda\\envs\\torchenv\\lib\\site-packages\\torch\\nn\\modules\\container.py:141: UserWarning: Implicit dimension choice for softmax has been deprecated. Change the call to include dim=X as an argument.\n",
      "  input = module(input)\n"
     ]
    },
    {
     "name": "stdout",
     "output_type": "stream",
     "text": [
      "Step [0/3]\t loss_instance: 6.244810104370117\t loss_cluster: 1.521828293800354\n",
      "\n",
      "Epoch [313/500]\t Loss: 7.767022291819255 \n",
      "\n",
      "Step [0/1]\t Computing features...\n",
      "Features shape (1714,)\n",
      "14\n",
      "Test NMI = 0.4241 ARI = 0.1804 F = 0.3007 ACC = 0.3145\n",
      "================================================================\n",
      "\n"
     ]
    },
    {
     "name": "stderr",
     "output_type": "stream",
     "text": [
      "C:\\Users\\Tom-G\\.conda\\envs\\torchenv\\lib\\site-packages\\torch\\nn\\modules\\container.py:141: UserWarning: Implicit dimension choice for softmax has been deprecated. Change the call to include dim=X as an argument.\n",
      "  input = module(input)\n"
     ]
    },
    {
     "name": "stdout",
     "output_type": "stream",
     "text": [
      "Step [0/3]\t loss_instance: 6.245932102203369\t loss_cluster: 1.519067406654358\n",
      "\n",
      "Epoch [314/500]\t Loss: 7.767563343048096 \n",
      "\n",
      "Step [0/1]\t Computing features...\n",
      "Features shape (1714,)\n",
      "14\n",
      "Test NMI = 0.4257 ARI = 0.1812 F = 0.3017 ACC = 0.3145\n",
      "================================================================\n",
      "\n"
     ]
    },
    {
     "name": "stderr",
     "output_type": "stream",
     "text": [
      "C:\\Users\\Tom-G\\.conda\\envs\\torchenv\\lib\\site-packages\\torch\\nn\\modules\\container.py:141: UserWarning: Implicit dimension choice for softmax has been deprecated. Change the call to include dim=X as an argument.\n",
      "  input = module(input)\n"
     ]
    },
    {
     "name": "stdout",
     "output_type": "stream",
     "text": [
      "Step [0/3]\t loss_instance: 6.244784355163574\t loss_cluster: 1.516183614730835\n",
      "\n",
      "Epoch [315/500]\t Loss: 7.768438339233398 \n",
      "\n",
      "Step [0/1]\t Computing features...\n",
      "Features shape (1714,)\n",
      "14\n",
      "Test NMI = 0.4246 ARI = 0.1801 F = 0.3005 ACC = 0.3127\n",
      "================================================================\n",
      "\n"
     ]
    },
    {
     "name": "stderr",
     "output_type": "stream",
     "text": [
      "C:\\Users\\Tom-G\\.conda\\envs\\torchenv\\lib\\site-packages\\torch\\nn\\modules\\container.py:141: UserWarning: Implicit dimension choice for softmax has been deprecated. Change the call to include dim=X as an argument.\n",
      "  input = module(input)\n"
     ]
    },
    {
     "name": "stdout",
     "output_type": "stream",
     "text": [
      "Step [0/3]\t loss_instance: 6.244210243225098\t loss_cluster: 1.5208005905151367\n",
      "\n",
      "Epoch [316/500]\t Loss: 7.770971298217773 \n",
      "\n",
      "Step [0/1]\t Computing features...\n",
      "Features shape (1714,)\n",
      "14\n",
      "Test NMI = 0.4248 ARI = 0.1804 F = 0.3008 ACC = 0.3133\n",
      "================================================================\n",
      "\n"
     ]
    },
    {
     "name": "stderr",
     "output_type": "stream",
     "text": [
      "C:\\Users\\Tom-G\\.conda\\envs\\torchenv\\lib\\site-packages\\torch\\nn\\modules\\container.py:141: UserWarning: Implicit dimension choice for softmax has been deprecated. Change the call to include dim=X as an argument.\n",
      "  input = module(input)\n"
     ]
    },
    {
     "name": "stdout",
     "output_type": "stream",
     "text": [
      "Step [0/3]\t loss_instance: 6.247777462005615\t loss_cluster: 1.51810622215271\n",
      "\n",
      "Epoch [317/500]\t Loss: 7.769031365712483 \n",
      "\n",
      "Step [0/1]\t Computing features...\n",
      "Features shape (1714,)\n",
      "14\n",
      "Test NMI = 0.4250 ARI = 0.1792 F = 0.2996 ACC = 0.3133\n",
      "================================================================\n",
      "\n"
     ]
    },
    {
     "name": "stderr",
     "output_type": "stream",
     "text": [
      "C:\\Users\\Tom-G\\.conda\\envs\\torchenv\\lib\\site-packages\\torch\\nn\\modules\\container.py:141: UserWarning: Implicit dimension choice for softmax has been deprecated. Change the call to include dim=X as an argument.\n",
      "  input = module(input)\n"
     ]
    },
    {
     "name": "stdout",
     "output_type": "stream",
     "text": [
      "Step [0/3]\t loss_instance: 6.251031398773193\t loss_cluster: 1.5184881687164307\n",
      "\n",
      "Epoch [318/500]\t Loss: 7.772385438283284 \n",
      "\n",
      "Step [0/1]\t Computing features...\n",
      "Features shape (1714,)\n",
      "14\n",
      "Test NMI = 0.4246 ARI = 0.1790 F = 0.2994 ACC = 0.3127\n",
      "================================================================\n",
      "\n"
     ]
    },
    {
     "name": "stderr",
     "output_type": "stream",
     "text": [
      "C:\\Users\\Tom-G\\.conda\\envs\\torchenv\\lib\\site-packages\\torch\\nn\\modules\\container.py:141: UserWarning: Implicit dimension choice for softmax has been deprecated. Change the call to include dim=X as an argument.\n",
      "  input = module(input)\n"
     ]
    },
    {
     "name": "stdout",
     "output_type": "stream",
     "text": [
      "Step [0/3]\t loss_instance: 6.248201370239258\t loss_cluster: 1.5220396518707275\n",
      "\n",
      "Epoch [319/500]\t Loss: 7.766056537628174 \n",
      "\n",
      "Step [0/1]\t Computing features...\n",
      "Features shape (1714,)\n",
      "14\n",
      "Test NMI = 0.4240 ARI = 0.1788 F = 0.2991 ACC = 0.3121\n",
      "================================================================\n",
      "\n"
     ]
    },
    {
     "name": "stderr",
     "output_type": "stream",
     "text": [
      "C:\\Users\\Tom-G\\.conda\\envs\\torchenv\\lib\\site-packages\\torch\\nn\\modules\\container.py:141: UserWarning: Implicit dimension choice for softmax has been deprecated. Change the call to include dim=X as an argument.\n",
      "  input = module(input)\n"
     ]
    },
    {
     "name": "stdout",
     "output_type": "stream",
     "text": [
      "Step [0/3]\t loss_instance: 6.242245197296143\t loss_cluster: 1.5166409015655518\n",
      "\n",
      "Epoch [320/500]\t Loss: 7.761893272399902 \n",
      "\n",
      "Step [0/1]\t Computing features...\n",
      "Features shape (1714,)\n",
      "14\n",
      "Test NMI = 0.4250 ARI = 0.1788 F = 0.2991 ACC = 0.3116\n",
      "================================================================\n",
      "\n"
     ]
    },
    {
     "name": "stderr",
     "output_type": "stream",
     "text": [
      "C:\\Users\\Tom-G\\.conda\\envs\\torchenv\\lib\\site-packages\\torch\\nn\\modules\\container.py:141: UserWarning: Implicit dimension choice for softmax has been deprecated. Change the call to include dim=X as an argument.\n",
      "  input = module(input)\n"
     ]
    },
    {
     "name": "stdout",
     "output_type": "stream",
     "text": [
      "Step [0/3]\t loss_instance: 6.2433342933654785\t loss_cluster: 1.5215312242507935\n",
      "\n",
      "Epoch [321/500]\t Loss: 7.764217853546143 \n",
      "\n",
      "Step [0/1]\t Computing features...\n",
      "Features shape (1714,)\n",
      "14\n",
      "Test NMI = 0.4264 ARI = 0.1812 F = 0.3016 ACC = 0.3145\n",
      "================================================================\n",
      "\n"
     ]
    },
    {
     "name": "stderr",
     "output_type": "stream",
     "text": [
      "C:\\Users\\Tom-G\\.conda\\envs\\torchenv\\lib\\site-packages\\torch\\nn\\modules\\container.py:141: UserWarning: Implicit dimension choice for softmax has been deprecated. Change the call to include dim=X as an argument.\n",
      "  input = module(input)\n"
     ]
    },
    {
     "name": "stdout",
     "output_type": "stream",
     "text": [
      "Step [0/3]\t loss_instance: 6.244319438934326\t loss_cluster: 1.5228010416030884\n",
      "\n",
      "Epoch [322/500]\t Loss: 7.765282154083252 \n",
      "\n",
      "Step [0/1]\t Computing features...\n",
      "Features shape (1714,)\n",
      "14\n",
      "Test NMI = 0.4258 ARI = 0.1804 F = 0.3008 ACC = 0.3127\n",
      "================================================================\n",
      "\n"
     ]
    },
    {
     "name": "stderr",
     "output_type": "stream",
     "text": [
      "C:\\Users\\Tom-G\\.conda\\envs\\torchenv\\lib\\site-packages\\torch\\nn\\modules\\container.py:141: UserWarning: Implicit dimension choice for softmax has been deprecated. Change the call to include dim=X as an argument.\n",
      "  input = module(input)\n"
     ]
    },
    {
     "name": "stdout",
     "output_type": "stream",
     "text": [
      "Step [0/3]\t loss_instance: 6.242290019989014\t loss_cluster: 1.5213855504989624\n",
      "\n",
      "Epoch [323/500]\t Loss: 7.762759208679199 \n",
      "\n",
      "Step [0/1]\t Computing features...\n",
      "Features shape (1714,)\n",
      "14\n",
      "Test NMI = 0.4261 ARI = 0.1807 F = 0.3011 ACC = 0.3127\n",
      "================================================================\n",
      "\n"
     ]
    },
    {
     "name": "stderr",
     "output_type": "stream",
     "text": [
      "C:\\Users\\Tom-G\\.conda\\envs\\torchenv\\lib\\site-packages\\torch\\nn\\modules\\container.py:141: UserWarning: Implicit dimension choice for softmax has been deprecated. Change the call to include dim=X as an argument.\n",
      "  input = module(input)\n"
     ]
    },
    {
     "name": "stdout",
     "output_type": "stream",
     "text": [
      "Step [0/3]\t loss_instance: 6.246167182922363\t loss_cluster: 1.5229543447494507\n",
      "\n",
      "Epoch [324/500]\t Loss: 7.765215873718262 \n",
      "\n",
      "Step [0/1]\t Computing features...\n",
      "Features shape (1714,)\n",
      "14\n",
      "Test NMI = 0.4267 ARI = 0.1815 F = 0.3019 ACC = 0.3156\n",
      "================================================================\n",
      "\n"
     ]
    },
    {
     "name": "stderr",
     "output_type": "stream",
     "text": [
      "C:\\Users\\Tom-G\\.conda\\envs\\torchenv\\lib\\site-packages\\torch\\nn\\modules\\container.py:141: UserWarning: Implicit dimension choice for softmax has been deprecated. Change the call to include dim=X as an argument.\n",
      "  input = module(input)\n"
     ]
    },
    {
     "name": "stdout",
     "output_type": "stream",
     "text": [
      "Step [0/3]\t loss_instance: 6.240058422088623\t loss_cluster: 1.5208523273468018\n",
      "\n",
      "Epoch [325/500]\t Loss: 7.760520140329997 \n",
      "\n",
      "Step [0/1]\t Computing features...\n",
      "Features shape (1714,)\n",
      "14\n",
      "Test NMI = 0.4263 ARI = 0.1811 F = 0.3015 ACC = 0.3145\n",
      "================================================================\n",
      "\n"
     ]
    },
    {
     "name": "stderr",
     "output_type": "stream",
     "text": [
      "C:\\Users\\Tom-G\\.conda\\envs\\torchenv\\lib\\site-packages\\torch\\nn\\modules\\container.py:141: UserWarning: Implicit dimension choice for softmax has been deprecated. Change the call to include dim=X as an argument.\n",
      "  input = module(input)\n"
     ]
    },
    {
     "name": "stdout",
     "output_type": "stream",
     "text": [
      "Step [0/3]\t loss_instance: 6.242188930511475\t loss_cluster: 1.5221004486083984\n",
      "\n",
      "Epoch [326/500]\t Loss: 7.7647013664245605 \n",
      "\n",
      "Step [0/1]\t Computing features...\n",
      "Features shape (1714,)\n",
      "14\n",
      "Test NMI = 0.4261 ARI = 0.1805 F = 0.3009 ACC = 0.3151\n",
      "================================================================\n",
      "\n"
     ]
    },
    {
     "name": "stderr",
     "output_type": "stream",
     "text": [
      "C:\\Users\\Tom-G\\.conda\\envs\\torchenv\\lib\\site-packages\\torch\\nn\\modules\\container.py:141: UserWarning: Implicit dimension choice for softmax has been deprecated. Change the call to include dim=X as an argument.\n",
      "  input = module(input)\n"
     ]
    },
    {
     "name": "stdout",
     "output_type": "stream",
     "text": [
      "Step [0/3]\t loss_instance: 6.24747896194458\t loss_cluster: 1.5194586515426636\n",
      "\n",
      "Epoch [327/500]\t Loss: 7.763474623362224 \n",
      "\n",
      "Step [0/1]\t Computing features...\n",
      "Features shape (1714,)\n",
      "14\n",
      "Test NMI = 0.4260 ARI = 0.1810 F = 0.3014 ACC = 0.3156\n",
      "================================================================\n",
      "\n"
     ]
    },
    {
     "name": "stderr",
     "output_type": "stream",
     "text": [
      "C:\\Users\\Tom-G\\.conda\\envs\\torchenv\\lib\\site-packages\\torch\\nn\\modules\\container.py:141: UserWarning: Implicit dimension choice for softmax has been deprecated. Change the call to include dim=X as an argument.\n",
      "  input = module(input)\n"
     ]
    },
    {
     "name": "stdout",
     "output_type": "stream",
     "text": [
      "Step [0/3]\t loss_instance: 6.242258071899414\t loss_cluster: 1.5202394723892212\n",
      "\n",
      "Epoch [328/500]\t Loss: 7.76516596476237 \n",
      "\n",
      "Step [0/1]\t Computing features...\n",
      "Features shape (1714,)\n",
      "14\n",
      "Test NMI = 0.4257 ARI = 0.1806 F = 0.3010 ACC = 0.3151\n",
      "================================================================\n",
      "\n"
     ]
    },
    {
     "name": "stderr",
     "output_type": "stream",
     "text": [
      "C:\\Users\\Tom-G\\.conda\\envs\\torchenv\\lib\\site-packages\\torch\\nn\\modules\\container.py:141: UserWarning: Implicit dimension choice for softmax has been deprecated. Change the call to include dim=X as an argument.\n",
      "  input = module(input)\n"
     ]
    },
    {
     "name": "stdout",
     "output_type": "stream",
     "text": [
      "Step [0/3]\t loss_instance: 6.245302200317383\t loss_cluster: 1.520463228225708\n",
      "\n",
      "Epoch [329/500]\t Loss: 7.764871279398601 \n",
      "\n",
      "Step [0/1]\t Computing features...\n",
      "Features shape (1714,)\n",
      "14\n",
      "Test NMI = 0.4257 ARI = 0.1807 F = 0.3011 ACC = 0.3151\n",
      "================================================================\n",
      "\n"
     ]
    },
    {
     "name": "stderr",
     "output_type": "stream",
     "text": [
      "C:\\Users\\Tom-G\\.conda\\envs\\torchenv\\lib\\site-packages\\torch\\nn\\modules\\container.py:141: UserWarning: Implicit dimension choice for softmax has been deprecated. Change the call to include dim=X as an argument.\n",
      "  input = module(input)\n"
     ]
    },
    {
     "name": "stdout",
     "output_type": "stream",
     "text": [
      "Step [0/3]\t loss_instance: 6.245151042938232\t loss_cluster: 1.5222320556640625\n",
      "\n",
      "Epoch [330/500]\t Loss: 7.767384688059489 \n",
      "\n",
      "Step [0/1]\t Computing features...\n",
      "Features shape (1714,)\n",
      "14\n",
      "Test NMI = 0.4259 ARI = 0.1807 F = 0.3011 ACC = 0.3162\n",
      "================================================================\n",
      "\n"
     ]
    },
    {
     "name": "stderr",
     "output_type": "stream",
     "text": [
      "C:\\Users\\Tom-G\\.conda\\envs\\torchenv\\lib\\site-packages\\torch\\nn\\modules\\container.py:141: UserWarning: Implicit dimension choice for softmax has been deprecated. Change the call to include dim=X as an argument.\n",
      "  input = module(input)\n"
     ]
    },
    {
     "name": "stdout",
     "output_type": "stream",
     "text": [
      "Step [0/3]\t loss_instance: 6.243952751159668\t loss_cluster: 1.522601842880249\n",
      "\n",
      "Epoch [331/500]\t Loss: 7.770020484924316 \n",
      "\n",
      "Step [0/1]\t Computing features...\n",
      "Features shape (1714,)\n",
      "14\n",
      "Test NMI = 0.4263 ARI = 0.1805 F = 0.3009 ACC = 0.3156\n",
      "================================================================\n",
      "\n"
     ]
    },
    {
     "name": "stderr",
     "output_type": "stream",
     "text": [
      "C:\\Users\\Tom-G\\.conda\\envs\\torchenv\\lib\\site-packages\\torch\\nn\\modules\\container.py:141: UserWarning: Implicit dimension choice for softmax has been deprecated. Change the call to include dim=X as an argument.\n",
      "  input = module(input)\n"
     ]
    },
    {
     "name": "stdout",
     "output_type": "stream",
     "text": [
      "Step [0/3]\t loss_instance: 6.246052265167236\t loss_cluster: 1.5258402824401855\n",
      "\n",
      "Epoch [332/500]\t Loss: 7.772940317789714 \n",
      "\n",
      "Step [0/1]\t Computing features...\n",
      "Features shape (1714,)\n",
      "14\n",
      "Test NMI = 0.4264 ARI = 0.1817 F = 0.3021 ACC = 0.3174\n",
      "================================================================\n",
      "\n"
     ]
    },
    {
     "name": "stderr",
     "output_type": "stream",
     "text": [
      "C:\\Users\\Tom-G\\.conda\\envs\\torchenv\\lib\\site-packages\\torch\\nn\\modules\\container.py:141: UserWarning: Implicit dimension choice for softmax has been deprecated. Change the call to include dim=X as an argument.\n",
      "  input = module(input)\n"
     ]
    },
    {
     "name": "stdout",
     "output_type": "stream",
     "text": [
      "Step [0/3]\t loss_instance: 6.2396440505981445\t loss_cluster: 1.5214335918426514\n",
      "\n",
      "Epoch [333/500]\t Loss: 7.769917805989583 \n",
      "\n",
      "Step [0/1]\t Computing features...\n",
      "Features shape (1714,)\n",
      "14\n",
      "Test NMI = 0.4256 ARI = 0.1813 F = 0.3017 ACC = 0.3174\n",
      "================================================================\n",
      "\n"
     ]
    },
    {
     "name": "stderr",
     "output_type": "stream",
     "text": [
      "C:\\Users\\Tom-G\\.conda\\envs\\torchenv\\lib\\site-packages\\torch\\nn\\modules\\container.py:141: UserWarning: Implicit dimension choice for softmax has been deprecated. Change the call to include dim=X as an argument.\n",
      "  input = module(input)\n"
     ]
    },
    {
     "name": "stdout",
     "output_type": "stream",
     "text": [
      "Step [0/3]\t loss_instance: 6.248761177062988\t loss_cluster: 1.5220987796783447\n",
      "\n",
      "Epoch [334/500]\t Loss: 7.7685004870096845 \n",
      "\n",
      "Step [0/1]\t Computing features...\n",
      "Features shape (1714,)\n",
      "14\n",
      "Test NMI = 0.4260 ARI = 0.1818 F = 0.3022 ACC = 0.3197\n",
      "================================================================\n",
      "\n"
     ]
    },
    {
     "name": "stderr",
     "output_type": "stream",
     "text": [
      "C:\\Users\\Tom-G\\.conda\\envs\\torchenv\\lib\\site-packages\\torch\\nn\\modules\\container.py:141: UserWarning: Implicit dimension choice for softmax has been deprecated. Change the call to include dim=X as an argument.\n",
      "  input = module(input)\n"
     ]
    },
    {
     "name": "stdout",
     "output_type": "stream",
     "text": [
      "Step [0/3]\t loss_instance: 6.246203422546387\t loss_cluster: 1.52121102809906\n",
      "\n",
      "Epoch [335/500]\t Loss: 7.768158435821533 \n",
      "\n",
      "Step [0/1]\t Computing features...\n",
      "Features shape (1714,)\n",
      "14\n",
      "Test NMI = 0.4244 ARI = 0.1804 F = 0.3008 ACC = 0.3156\n",
      "================================================================\n",
      "\n"
     ]
    },
    {
     "name": "stderr",
     "output_type": "stream",
     "text": [
      "C:\\Users\\Tom-G\\.conda\\envs\\torchenv\\lib\\site-packages\\torch\\nn\\modules\\container.py:141: UserWarning: Implicit dimension choice for softmax has been deprecated. Change the call to include dim=X as an argument.\n",
      "  input = module(input)\n"
     ]
    },
    {
     "name": "stdout",
     "output_type": "stream",
     "text": [
      "Step [0/3]\t loss_instance: 6.256969928741455\t loss_cluster: 1.522849202156067\n",
      "\n",
      "Epoch [336/500]\t Loss: 7.772364775339763 \n",
      "\n",
      "Step [0/1]\t Computing features...\n",
      "Features shape (1714,)\n",
      "14\n",
      "Test NMI = 0.4246 ARI = 0.1801 F = 0.3005 ACC = 0.3151\n",
      "================================================================\n",
      "\n"
     ]
    },
    {
     "name": "stderr",
     "output_type": "stream",
     "text": [
      "C:\\Users\\Tom-G\\.conda\\envs\\torchenv\\lib\\site-packages\\torch\\nn\\modules\\container.py:141: UserWarning: Implicit dimension choice for softmax has been deprecated. Change the call to include dim=X as an argument.\n",
      "  input = module(input)\n"
     ]
    },
    {
     "name": "stdout",
     "output_type": "stream",
     "text": [
      "Step [0/3]\t loss_instance: 6.249615669250488\t loss_cluster: 1.5202679634094238\n",
      "\n",
      "Epoch [337/500]\t Loss: 7.766726811726888 \n",
      "\n",
      "Step [0/1]\t Computing features...\n",
      "Features shape (1714,)\n",
      "14\n",
      "Test NMI = 0.4260 ARI = 0.1809 F = 0.3013 ACC = 0.3156\n",
      "================================================================\n",
      "\n"
     ]
    },
    {
     "name": "stderr",
     "output_type": "stream",
     "text": [
      "C:\\Users\\Tom-G\\.conda\\envs\\torchenv\\lib\\site-packages\\torch\\nn\\modules\\container.py:141: UserWarning: Implicit dimension choice for softmax has been deprecated. Change the call to include dim=X as an argument.\n",
      "  input = module(input)\n"
     ]
    },
    {
     "name": "stdout",
     "output_type": "stream",
     "text": [
      "Step [0/3]\t loss_instance: 6.244714260101318\t loss_cluster: 1.5193976163864136\n",
      "\n",
      "Epoch [338/500]\t Loss: 7.761607646942139 \n",
      "\n",
      "Step [0/1]\t Computing features...\n",
      "Features shape (1714,)\n",
      "14\n",
      "Test NMI = 0.4274 ARI = 0.1813 F = 0.3017 ACC = 0.3151\n",
      "================================================================\n",
      "\n"
     ]
    },
    {
     "name": "stderr",
     "output_type": "stream",
     "text": [
      "C:\\Users\\Tom-G\\.conda\\envs\\torchenv\\lib\\site-packages\\torch\\nn\\modules\\container.py:141: UserWarning: Implicit dimension choice for softmax has been deprecated. Change the call to include dim=X as an argument.\n",
      "  input = module(input)\n"
     ]
    },
    {
     "name": "stdout",
     "output_type": "stream",
     "text": [
      "Step [0/3]\t loss_instance: 6.241643905639648\t loss_cluster: 1.5210943222045898\n",
      "\n",
      "Epoch [339/500]\t Loss: 7.765598138173421 \n",
      "\n",
      "Step [0/1]\t Computing features...\n",
      "Features shape (1714,)\n",
      "14\n",
      "Test NMI = 0.4267 ARI = 0.1819 F = 0.3023 ACC = 0.3162\n",
      "================================================================\n",
      "\n"
     ]
    },
    {
     "name": "stderr",
     "output_type": "stream",
     "text": [
      "C:\\Users\\Tom-G\\.conda\\envs\\torchenv\\lib\\site-packages\\torch\\nn\\modules\\container.py:141: UserWarning: Implicit dimension choice for softmax has been deprecated. Change the call to include dim=X as an argument.\n",
      "  input = module(input)\n"
     ]
    },
    {
     "name": "stdout",
     "output_type": "stream",
     "text": [
      "Step [0/3]\t loss_instance: 6.241308212280273\t loss_cluster: 1.5180798768997192\n",
      "\n",
      "Epoch [340/500]\t Loss: 7.761104583740234 \n",
      "\n",
      "Step [0/1]\t Computing features...\n",
      "Features shape (1714,)\n",
      "14\n",
      "Test NMI = 0.4262 ARI = 0.1802 F = 0.3005 ACC = 0.3139\n",
      "================================================================\n",
      "\n"
     ]
    },
    {
     "name": "stderr",
     "output_type": "stream",
     "text": [
      "C:\\Users\\Tom-G\\.conda\\envs\\torchenv\\lib\\site-packages\\torch\\nn\\modules\\container.py:141: UserWarning: Implicit dimension choice for softmax has been deprecated. Change the call to include dim=X as an argument.\n",
      "  input = module(input)\n"
     ]
    },
    {
     "name": "stdout",
     "output_type": "stream",
     "text": [
      "Step [0/3]\t loss_instance: 6.24411153793335\t loss_cluster: 1.520735502243042\n",
      "\n",
      "Epoch [341/500]\t Loss: 7.764383474985759 \n",
      "\n",
      "Step [0/1]\t Computing features...\n",
      "Features shape (1714,)\n",
      "14\n",
      "Test NMI = 0.4260 ARI = 0.1802 F = 0.3006 ACC = 0.3162\n",
      "================================================================\n",
      "\n"
     ]
    },
    {
     "name": "stderr",
     "output_type": "stream",
     "text": [
      "C:\\Users\\Tom-G\\.conda\\envs\\torchenv\\lib\\site-packages\\torch\\nn\\modules\\container.py:141: UserWarning: Implicit dimension choice for softmax has been deprecated. Change the call to include dim=X as an argument.\n",
      "  input = module(input)\n"
     ]
    },
    {
     "name": "stdout",
     "output_type": "stream",
     "text": [
      "Step [0/3]\t loss_instance: 6.241698741912842\t loss_cluster: 1.5202420949935913\n",
      "\n",
      "Epoch [342/500]\t Loss: 7.763117790222168 \n",
      "\n",
      "Step [0/1]\t Computing features...\n",
      "Features shape (1714,)\n",
      "14\n",
      "Test NMI = 0.4263 ARI = 0.1807 F = 0.3011 ACC = 0.3180\n",
      "================================================================\n",
      "\n"
     ]
    },
    {
     "name": "stderr",
     "output_type": "stream",
     "text": [
      "C:\\Users\\Tom-G\\.conda\\envs\\torchenv\\lib\\site-packages\\torch\\nn\\modules\\container.py:141: UserWarning: Implicit dimension choice for softmax has been deprecated. Change the call to include dim=X as an argument.\n",
      "  input = module(input)\n"
     ]
    },
    {
     "name": "stdout",
     "output_type": "stream",
     "text": [
      "Step [0/3]\t loss_instance: 6.243022441864014\t loss_cluster: 1.5214958190917969\n",
      "\n",
      "Epoch [343/500]\t Loss: 7.762336254119873 \n",
      "\n",
      "Step [0/1]\t Computing features...\n",
      "Features shape (1714,)\n",
      "14\n",
      "Test NMI = 0.4256 ARI = 0.1804 F = 0.3008 ACC = 0.3186\n",
      "================================================================\n",
      "\n"
     ]
    },
    {
     "name": "stderr",
     "output_type": "stream",
     "text": [
      "C:\\Users\\Tom-G\\.conda\\envs\\torchenv\\lib\\site-packages\\torch\\nn\\modules\\container.py:141: UserWarning: Implicit dimension choice for softmax has been deprecated. Change the call to include dim=X as an argument.\n",
      "  input = module(input)\n"
     ]
    },
    {
     "name": "stdout",
     "output_type": "stream",
     "text": [
      "Step [0/3]\t loss_instance: 6.243471145629883\t loss_cluster: 1.515998125076294\n",
      "\n",
      "Epoch [344/500]\t Loss: 7.767110506693522 \n",
      "\n",
      "Step [0/1]\t Computing features...\n",
      "Features shape (1714,)\n",
      "14\n",
      "Test NMI = 0.4258 ARI = 0.1813 F = 0.3017 ACC = 0.3186\n",
      "================================================================\n",
      "\n"
     ]
    },
    {
     "name": "stderr",
     "output_type": "stream",
     "text": [
      "C:\\Users\\Tom-G\\.conda\\envs\\torchenv\\lib\\site-packages\\torch\\nn\\modules\\container.py:141: UserWarning: Implicit dimension choice for softmax has been deprecated. Change the call to include dim=X as an argument.\n",
      "  input = module(input)\n"
     ]
    },
    {
     "name": "stdout",
     "output_type": "stream",
     "text": [
      "Step [0/3]\t loss_instance: 6.241028785705566\t loss_cluster: 1.5216926336288452\n",
      "\n",
      "Epoch [345/500]\t Loss: 7.7650556564331055 \n",
      "\n",
      "Step [0/1]\t Computing features...\n",
      "Features shape (1714,)\n",
      "14\n",
      "Test NMI = 0.4248 ARI = 0.1810 F = 0.3014 ACC = 0.3168\n",
      "================================================================\n",
      "\n"
     ]
    },
    {
     "name": "stderr",
     "output_type": "stream",
     "text": [
      "C:\\Users\\Tom-G\\.conda\\envs\\torchenv\\lib\\site-packages\\torch\\nn\\modules\\container.py:141: UserWarning: Implicit dimension choice for softmax has been deprecated. Change the call to include dim=X as an argument.\n",
      "  input = module(input)\n"
     ]
    },
    {
     "name": "stdout",
     "output_type": "stream",
     "text": [
      "Step [0/3]\t loss_instance: 6.246085166931152\t loss_cluster: 1.5182725191116333\n",
      "\n",
      "Epoch [346/500]\t Loss: 7.767597357432048 \n",
      "\n",
      "Step [0/1]\t Computing features...\n",
      "Features shape (1714,)\n",
      "14\n",
      "Test NMI = 0.4252 ARI = 0.1820 F = 0.3024 ACC = 0.3174\n",
      "================================================================\n",
      "\n"
     ]
    },
    {
     "name": "stderr",
     "output_type": "stream",
     "text": [
      "C:\\Users\\Tom-G\\.conda\\envs\\torchenv\\lib\\site-packages\\torch\\nn\\modules\\container.py:141: UserWarning: Implicit dimension choice for softmax has been deprecated. Change the call to include dim=X as an argument.\n",
      "  input = module(input)\n"
     ]
    },
    {
     "name": "stdout",
     "output_type": "stream",
     "text": [
      "Step [0/3]\t loss_instance: 6.261714935302734\t loss_cluster: 1.5193299055099487\n",
      "\n",
      "Epoch [347/500]\t Loss: 7.773570696512858 \n",
      "\n",
      "Step [0/1]\t Computing features...\n",
      "Features shape (1714,)\n",
      "14\n",
      "Test NMI = 0.4250 ARI = 0.1813 F = 0.3017 ACC = 0.3156\n",
      "================================================================\n",
      "\n"
     ]
    },
    {
     "name": "stderr",
     "output_type": "stream",
     "text": [
      "C:\\Users\\Tom-G\\.conda\\envs\\torchenv\\lib\\site-packages\\torch\\nn\\modules\\container.py:141: UserWarning: Implicit dimension choice for softmax has been deprecated. Change the call to include dim=X as an argument.\n",
      "  input = module(input)\n"
     ]
    },
    {
     "name": "stdout",
     "output_type": "stream",
     "text": [
      "Step [0/3]\t loss_instance: 6.251064300537109\t loss_cluster: 1.5238754749298096\n",
      "\n",
      "Epoch [348/500]\t Loss: 7.766278902689616 \n",
      "\n",
      "Step [0/1]\t Computing features...\n",
      "Features shape (1714,)\n",
      "14\n",
      "Test NMI = 0.4252 ARI = 0.1808 F = 0.3012 ACC = 0.3156\n",
      "================================================================\n",
      "\n"
     ]
    },
    {
     "name": "stderr",
     "output_type": "stream",
     "text": [
      "C:\\Users\\Tom-G\\.conda\\envs\\torchenv\\lib\\site-packages\\torch\\nn\\modules\\container.py:141: UserWarning: Implicit dimension choice for softmax has been deprecated. Change the call to include dim=X as an argument.\n",
      "  input = module(input)\n"
     ]
    },
    {
     "name": "stdout",
     "output_type": "stream",
     "text": [
      "Step [0/3]\t loss_instance: 6.241484642028809\t loss_cluster: 1.5187361240386963\n",
      "\n",
      "Epoch [349/500]\t Loss: 7.762352307637532 \n",
      "\n",
      "Step [0/1]\t Computing features...\n",
      "Features shape (1714,)\n",
      "14\n",
      "Test NMI = 0.4258 ARI = 0.1818 F = 0.3022 ACC = 0.3162\n",
      "================================================================\n",
      "\n"
     ]
    },
    {
     "name": "stderr",
     "output_type": "stream",
     "text": [
      "C:\\Users\\Tom-G\\.conda\\envs\\torchenv\\lib\\site-packages\\torch\\nn\\modules\\container.py:141: UserWarning: Implicit dimension choice for softmax has been deprecated. Change the call to include dim=X as an argument.\n",
      "  input = module(input)\n"
     ]
    },
    {
     "name": "stdout",
     "output_type": "stream",
     "text": [
      "Step [0/3]\t loss_instance: 6.241957187652588\t loss_cluster: 1.5227385759353638\n",
      "\n",
      "Epoch [350/500]\t Loss: 7.7628170649210615 \n",
      "\n",
      "Step [0/1]\t Computing features...\n",
      "Features shape (1714,)\n",
      "14\n",
      "Test NMI = 0.4257 ARI = 0.1816 F = 0.3020 ACC = 0.3162\n",
      "================================================================\n",
      "\n"
     ]
    },
    {
     "name": "stderr",
     "output_type": "stream",
     "text": [
      "C:\\Users\\Tom-G\\.conda\\envs\\torchenv\\lib\\site-packages\\torch\\nn\\modules\\container.py:141: UserWarning: Implicit dimension choice for softmax has been deprecated. Change the call to include dim=X as an argument.\n",
      "  input = module(input)\n"
     ]
    },
    {
     "name": "stdout",
     "output_type": "stream",
     "text": [
      "Step [0/3]\t loss_instance: 6.242186546325684\t loss_cluster: 1.521052598953247\n",
      "\n",
      "Epoch [351/500]\t Loss: 7.760813395182292 \n",
      "\n",
      "Step [0/1]\t Computing features...\n",
      "Features shape (1714,)\n",
      "14\n",
      "Test NMI = 0.4246 ARI = 0.1806 F = 0.3010 ACC = 0.3151\n",
      "================================================================\n",
      "\n"
     ]
    },
    {
     "name": "stderr",
     "output_type": "stream",
     "text": [
      "C:\\Users\\Tom-G\\.conda\\envs\\torchenv\\lib\\site-packages\\torch\\nn\\modules\\container.py:141: UserWarning: Implicit dimension choice for softmax has been deprecated. Change the call to include dim=X as an argument.\n",
      "  input = module(input)\n"
     ]
    },
    {
     "name": "stdout",
     "output_type": "stream",
     "text": [
      "Step [0/3]\t loss_instance: 6.2427287101745605\t loss_cluster: 1.5177816152572632\n",
      "\n",
      "Epoch [352/500]\t Loss: 7.757871786753337 \n",
      "\n",
      "Step [0/1]\t Computing features...\n",
      "Features shape (1714,)\n",
      "14\n",
      "Test NMI = 0.4249 ARI = 0.1807 F = 0.3011 ACC = 0.3156\n",
      "================================================================\n",
      "\n"
     ]
    },
    {
     "name": "stderr",
     "output_type": "stream",
     "text": [
      "C:\\Users\\Tom-G\\.conda\\envs\\torchenv\\lib\\site-packages\\torch\\nn\\modules\\container.py:141: UserWarning: Implicit dimension choice for softmax has been deprecated. Change the call to include dim=X as an argument.\n",
      "  input = module(input)\n"
     ]
    },
    {
     "name": "stdout",
     "output_type": "stream",
     "text": [
      "Step [0/3]\t loss_instance: 6.240114212036133\t loss_cluster: 1.5175302028656006\n",
      "\n",
      "Epoch [353/500]\t Loss: 7.758823871612549 \n",
      "\n",
      "Step [0/1]\t Computing features...\n",
      "Features shape (1714,)\n",
      "14\n",
      "Test NMI = 0.4260 ARI = 0.1807 F = 0.3011 ACC = 0.3139\n",
      "================================================================\n",
      "\n"
     ]
    },
    {
     "name": "stderr",
     "output_type": "stream",
     "text": [
      "C:\\Users\\Tom-G\\.conda\\envs\\torchenv\\lib\\site-packages\\torch\\nn\\modules\\container.py:141: UserWarning: Implicit dimension choice for softmax has been deprecated. Change the call to include dim=X as an argument.\n",
      "  input = module(input)\n"
     ]
    },
    {
     "name": "stdout",
     "output_type": "stream",
     "text": [
      "Step [0/3]\t loss_instance: 6.239381313323975\t loss_cluster: 1.5238635540008545\n",
      "\n",
      "Epoch [354/500]\t Loss: 7.762767950693767 \n",
      "\n",
      "Step [0/1]\t Computing features...\n",
      "Features shape (1714,)\n",
      "14\n",
      "Test NMI = 0.4262 ARI = 0.1806 F = 0.3010 ACC = 0.3139\n",
      "================================================================\n",
      "\n"
     ]
    },
    {
     "name": "stderr",
     "output_type": "stream",
     "text": [
      "C:\\Users\\Tom-G\\.conda\\envs\\torchenv\\lib\\site-packages\\torch\\nn\\modules\\container.py:141: UserWarning: Implicit dimension choice for softmax has been deprecated. Change the call to include dim=X as an argument.\n",
      "  input = module(input)\n"
     ]
    },
    {
     "name": "stdout",
     "output_type": "stream",
     "text": [
      "Step [0/3]\t loss_instance: 6.244070053100586\t loss_cluster: 1.5183354616165161\n",
      "\n",
      "Epoch [355/500]\t Loss: 7.76306676864624 \n",
      "\n",
      "Step [0/1]\t Computing features...\n",
      "Features shape (1714,)\n",
      "14\n",
      "Test NMI = 0.4260 ARI = 0.1809 F = 0.3013 ACC = 0.3139\n",
      "================================================================\n",
      "\n"
     ]
    },
    {
     "name": "stderr",
     "output_type": "stream",
     "text": [
      "C:\\Users\\Tom-G\\.conda\\envs\\torchenv\\lib\\site-packages\\torch\\nn\\modules\\container.py:141: UserWarning: Implicit dimension choice for softmax has been deprecated. Change the call to include dim=X as an argument.\n",
      "  input = module(input)\n"
     ]
    },
    {
     "name": "stdout",
     "output_type": "stream",
     "text": [
      "Step [0/3]\t loss_instance: 6.246359348297119\t loss_cluster: 1.5178916454315186\n",
      "\n",
      "Epoch [356/500]\t Loss: 7.762502670288086 \n",
      "\n",
      "Step [0/1]\t Computing features...\n",
      "Features shape (1714,)\n",
      "14\n",
      "Test NMI = 0.4268 ARI = 0.1811 F = 0.3015 ACC = 0.3145\n",
      "================================================================\n",
      "\n"
     ]
    },
    {
     "name": "stderr",
     "output_type": "stream",
     "text": [
      "C:\\Users\\Tom-G\\.conda\\envs\\torchenv\\lib\\site-packages\\torch\\nn\\modules\\container.py:141: UserWarning: Implicit dimension choice for softmax has been deprecated. Change the call to include dim=X as an argument.\n",
      "  input = module(input)\n"
     ]
    },
    {
     "name": "stdout",
     "output_type": "stream",
     "text": [
      "Step [0/3]\t loss_instance: 6.250945091247559\t loss_cluster: 1.5247690677642822\n",
      "\n",
      "Epoch [357/500]\t Loss: 7.767468452453613 \n",
      "\n",
      "Step [0/1]\t Computing features...\n",
      "Features shape (1714,)\n",
      "14\n",
      "Test NMI = 0.4274 ARI = 0.1817 F = 0.3021 ACC = 0.3145\n",
      "================================================================\n",
      "\n"
     ]
    },
    {
     "name": "stderr",
     "output_type": "stream",
     "text": [
      "C:\\Users\\Tom-G\\.conda\\envs\\torchenv\\lib\\site-packages\\torch\\nn\\modules\\container.py:141: UserWarning: Implicit dimension choice for softmax has been deprecated. Change the call to include dim=X as an argument.\n",
      "  input = module(input)\n"
     ]
    },
    {
     "name": "stdout",
     "output_type": "stream",
     "text": [
      "Step [0/3]\t loss_instance: 6.244356155395508\t loss_cluster: 1.5193934440612793\n",
      "\n",
      "Epoch [358/500]\t Loss: 7.7613803545633955 \n",
      "\n",
      "Step [0/1]\t Computing features...\n",
      "Features shape (1714,)\n",
      "14\n",
      "Test NMI = 0.4268 ARI = 0.1811 F = 0.3015 ACC = 0.3145\n",
      "================================================================\n",
      "\n"
     ]
    },
    {
     "name": "stderr",
     "output_type": "stream",
     "text": [
      "C:\\Users\\Tom-G\\.conda\\envs\\torchenv\\lib\\site-packages\\torch\\nn\\modules\\container.py:141: UserWarning: Implicit dimension choice for softmax has been deprecated. Change the call to include dim=X as an argument.\n",
      "  input = module(input)\n"
     ]
    },
    {
     "name": "stdout",
     "output_type": "stream",
     "text": [
      "Step [0/3]\t loss_instance: 6.237504005432129\t loss_cluster: 1.5161153078079224\n",
      "\n",
      "Epoch [359/500]\t Loss: 7.758400758107503 \n",
      "\n",
      "Step [0/1]\t Computing features...\n",
      "Features shape (1714,)\n",
      "14\n",
      "Test NMI = 0.4260 ARI = 0.1801 F = 0.3005 ACC = 0.3139\n",
      "================================================================\n",
      "\n"
     ]
    },
    {
     "name": "stderr",
     "output_type": "stream",
     "text": [
      "C:\\Users\\Tom-G\\.conda\\envs\\torchenv\\lib\\site-packages\\torch\\nn\\modules\\container.py:141: UserWarning: Implicit dimension choice for softmax has been deprecated. Change the call to include dim=X as an argument.\n",
      "  input = module(input)\n"
     ]
    },
    {
     "name": "stdout",
     "output_type": "stream",
     "text": [
      "Step [0/3]\t loss_instance: 6.23911714553833\t loss_cluster: 1.5213500261306763\n",
      "\n",
      "Epoch [360/500]\t Loss: 7.762132008870442 \n",
      "\n",
      "Step [0/1]\t Computing features...\n",
      "Features shape (1714,)\n",
      "14\n",
      "Test NMI = 0.4265 ARI = 0.1805 F = 0.3009 ACC = 0.3156\n",
      "================================================================\n",
      "\n"
     ]
    },
    {
     "name": "stderr",
     "output_type": "stream",
     "text": [
      "C:\\Users\\Tom-G\\.conda\\envs\\torchenv\\lib\\site-packages\\torch\\nn\\modules\\container.py:141: UserWarning: Implicit dimension choice for softmax has been deprecated. Change the call to include dim=X as an argument.\n",
      "  input = module(input)\n"
     ]
    },
    {
     "name": "stdout",
     "output_type": "stream",
     "text": [
      "Step [0/3]\t loss_instance: 6.242029190063477\t loss_cluster: 1.517451524734497\n",
      "\n",
      "Epoch [361/500]\t Loss: 7.761654853820801 \n",
      "\n",
      "Step [0/1]\t Computing features...\n",
      "Features shape (1714,)\n",
      "14\n",
      "Test NMI = 0.4267 ARI = 0.1807 F = 0.3011 ACC = 0.3156\n",
      "================================================================\n",
      "\n"
     ]
    },
    {
     "name": "stderr",
     "output_type": "stream",
     "text": [
      "C:\\Users\\Tom-G\\.conda\\envs\\torchenv\\lib\\site-packages\\torch\\nn\\modules\\container.py:141: UserWarning: Implicit dimension choice for softmax has been deprecated. Change the call to include dim=X as an argument.\n",
      "  input = module(input)\n"
     ]
    },
    {
     "name": "stdout",
     "output_type": "stream",
     "text": [
      "Step [0/3]\t loss_instance: 6.2412543296813965\t loss_cluster: 1.5160315036773682\n",
      "\n",
      "Epoch [362/500]\t Loss: 7.757483164469401 \n",
      "\n",
      "Step [0/1]\t Computing features...\n",
      "Features shape (1714,)\n",
      "14\n",
      "Test NMI = 0.4273 ARI = 0.1812 F = 0.3017 ACC = 0.3174\n",
      "================================================================\n",
      "\n"
     ]
    },
    {
     "name": "stderr",
     "output_type": "stream",
     "text": [
      "C:\\Users\\Tom-G\\.conda\\envs\\torchenv\\lib\\site-packages\\torch\\nn\\modules\\container.py:141: UserWarning: Implicit dimension choice for softmax has been deprecated. Change the call to include dim=X as an argument.\n",
      "  input = module(input)\n"
     ]
    },
    {
     "name": "stdout",
     "output_type": "stream",
     "text": [
      "Step [0/3]\t loss_instance: 6.238226413726807\t loss_cluster: 1.5175493955612183\n",
      "\n",
      "Epoch [363/500]\t Loss: 7.758285045623779 \n",
      "\n",
      "Step [0/1]\t Computing features...\n",
      "Features shape (1714,)\n",
      "14\n",
      "Test NMI = 0.4277 ARI = 0.1819 F = 0.3023 ACC = 0.3191\n",
      "================================================================\n",
      "\n"
     ]
    },
    {
     "name": "stderr",
     "output_type": "stream",
     "text": [
      "C:\\Users\\Tom-G\\.conda\\envs\\torchenv\\lib\\site-packages\\torch\\nn\\modules\\container.py:141: UserWarning: Implicit dimension choice for softmax has been deprecated. Change the call to include dim=X as an argument.\n",
      "  input = module(input)\n"
     ]
    },
    {
     "name": "stdout",
     "output_type": "stream",
     "text": [
      "Step [0/3]\t loss_instance: 6.2458109855651855\t loss_cluster: 1.5182946920394897\n",
      "\n",
      "Epoch [364/500]\t Loss: 7.761211395263672 \n",
      "\n",
      "Step [0/1]\t Computing features...\n",
      "Features shape (1714,)\n",
      "14\n",
      "Test NMI = 0.4256 ARI = 0.1814 F = 0.3018 ACC = 0.3180\n",
      "================================================================\n",
      "\n"
     ]
    },
    {
     "name": "stderr",
     "output_type": "stream",
     "text": [
      "C:\\Users\\Tom-G\\.conda\\envs\\torchenv\\lib\\site-packages\\torch\\nn\\modules\\container.py:141: UserWarning: Implicit dimension choice for softmax has been deprecated. Change the call to include dim=X as an argument.\n",
      "  input = module(input)\n"
     ]
    },
    {
     "name": "stdout",
     "output_type": "stream",
     "text": [
      "Step [0/3]\t loss_instance: 6.248813629150391\t loss_cluster: 1.5215133428573608\n",
      "\n",
      "Epoch [365/500]\t Loss: 7.76472266515096 \n",
      "\n",
      "Step [0/1]\t Computing features...\n",
      "Features shape (1714,)\n",
      "14\n",
      "Test NMI = 0.4269 ARI = 0.1815 F = 0.3019 ACC = 0.3197\n",
      "================================================================\n",
      "\n"
     ]
    },
    {
     "name": "stderr",
     "output_type": "stream",
     "text": [
      "C:\\Users\\Tom-G\\.conda\\envs\\torchenv\\lib\\site-packages\\torch\\nn\\modules\\container.py:141: UserWarning: Implicit dimension choice for softmax has been deprecated. Change the call to include dim=X as an argument.\n",
      "  input = module(input)\n"
     ]
    },
    {
     "name": "stdout",
     "output_type": "stream",
     "text": [
      "Step [0/3]\t loss_instance: 6.239666938781738\t loss_cluster: 1.514730453491211\n",
      "\n",
      "Epoch [366/500]\t Loss: 7.754339853922526 \n",
      "\n",
      "Step [0/1]\t Computing features...\n",
      "Features shape (1714,)\n",
      "14\n",
      "Test NMI = 0.4273 ARI = 0.1822 F = 0.3026 ACC = 0.3203\n",
      "================================================================\n",
      "\n"
     ]
    },
    {
     "name": "stderr",
     "output_type": "stream",
     "text": [
      "C:\\Users\\Tom-G\\.conda\\envs\\torchenv\\lib\\site-packages\\torch\\nn\\modules\\container.py:141: UserWarning: Implicit dimension choice for softmax has been deprecated. Change the call to include dim=X as an argument.\n",
      "  input = module(input)\n"
     ]
    },
    {
     "name": "stdout",
     "output_type": "stream",
     "text": [
      "Step [0/3]\t loss_instance: 6.236344337463379\t loss_cluster: 1.5208631753921509\n",
      "\n",
      "Epoch [367/500]\t Loss: 7.757572650909424 \n",
      "\n",
      "Step [0/1]\t Computing features...\n",
      "Features shape (1714,)\n",
      "14\n",
      "Test NMI = 0.4266 ARI = 0.1819 F = 0.3023 ACC = 0.3197\n",
      "================================================================\n",
      "\n"
     ]
    },
    {
     "name": "stderr",
     "output_type": "stream",
     "text": [
      "C:\\Users\\Tom-G\\.conda\\envs\\torchenv\\lib\\site-packages\\torch\\nn\\modules\\container.py:141: UserWarning: Implicit dimension choice for softmax has been deprecated. Change the call to include dim=X as an argument.\n",
      "  input = module(input)\n"
     ]
    },
    {
     "name": "stdout",
     "output_type": "stream",
     "text": [
      "Step [0/3]\t loss_instance: 6.235046863555908\t loss_cluster: 1.5202155113220215\n",
      "\n",
      "Epoch [368/500]\t Loss: 7.757957776387532 \n",
      "\n",
      "Step [0/1]\t Computing features...\n",
      "Features shape (1714,)\n",
      "14\n",
      "Test NMI = 0.4260 ARI = 0.1812 F = 0.3016 ACC = 0.3180\n",
      "================================================================\n",
      "\n"
     ]
    },
    {
     "name": "stderr",
     "output_type": "stream",
     "text": [
      "C:\\Users\\Tom-G\\.conda\\envs\\torchenv\\lib\\site-packages\\torch\\nn\\modules\\container.py:141: UserWarning: Implicit dimension choice for softmax has been deprecated. Change the call to include dim=X as an argument.\n",
      "  input = module(input)\n"
     ]
    },
    {
     "name": "stdout",
     "output_type": "stream",
     "text": [
      "Step [0/3]\t loss_instance: 6.238941192626953\t loss_cluster: 1.5190562009811401\n",
      "\n",
      "Epoch [369/500]\t Loss: 7.758761088053386 \n",
      "\n",
      "Step [0/1]\t Computing features...\n",
      "Features shape (1714,)\n",
      "14\n",
      "Test NMI = 0.4283 ARI = 0.1828 F = 0.3033 ACC = 0.3197\n",
      "================================================================\n",
      "\n"
     ]
    },
    {
     "name": "stderr",
     "output_type": "stream",
     "text": [
      "C:\\Users\\Tom-G\\.conda\\envs\\torchenv\\lib\\site-packages\\torch\\nn\\modules\\container.py:141: UserWarning: Implicit dimension choice for softmax has been deprecated. Change the call to include dim=X as an argument.\n",
      "  input = module(input)\n"
     ]
    },
    {
     "name": "stdout",
     "output_type": "stream",
     "text": [
      "Step [0/3]\t loss_instance: 6.241662979125977\t loss_cluster: 1.5180000066757202\n",
      "\n",
      "Epoch [370/500]\t Loss: 7.757668495178223 \n",
      "\n",
      "Step [0/1]\t Computing features...\n",
      "Features shape (1714,)\n",
      "14\n",
      "Test NMI = 0.4271 ARI = 0.1825 F = 0.3029 ACC = 0.3174\n",
      "================================================================\n",
      "\n"
     ]
    },
    {
     "name": "stderr",
     "output_type": "stream",
     "text": [
      "C:\\Users\\Tom-G\\.conda\\envs\\torchenv\\lib\\site-packages\\torch\\nn\\modules\\container.py:141: UserWarning: Implicit dimension choice for softmax has been deprecated. Change the call to include dim=X as an argument.\n",
      "  input = module(input)\n"
     ]
    },
    {
     "name": "stdout",
     "output_type": "stream",
     "text": [
      "Step [0/3]\t loss_instance: 6.2391438484191895\t loss_cluster: 1.5157358646392822\n",
      "\n",
      "Epoch [371/500]\t Loss: 7.755784511566162 \n",
      "\n",
      "Step [0/1]\t Computing features...\n",
      "Features shape (1714,)\n",
      "14\n",
      "Test NMI = 0.4257 ARI = 0.1810 F = 0.3014 ACC = 0.3145\n",
      "================================================================\n",
      "\n"
     ]
    },
    {
     "name": "stderr",
     "output_type": "stream",
     "text": [
      "C:\\Users\\Tom-G\\.conda\\envs\\torchenv\\lib\\site-packages\\torch\\nn\\modules\\container.py:141: UserWarning: Implicit dimension choice for softmax has been deprecated. Change the call to include dim=X as an argument.\n",
      "  input = module(input)\n"
     ]
    },
    {
     "name": "stdout",
     "output_type": "stream",
     "text": [
      "Step [0/3]\t loss_instance: 6.23741340637207\t loss_cluster: 1.517944097518921\n",
      "\n",
      "Epoch [372/500]\t Loss: 7.759199460347493 \n",
      "\n",
      "Step [0/1]\t Computing features...\n",
      "Features shape (1714,)\n",
      "14\n",
      "Test NMI = 0.4268 ARI = 0.1820 F = 0.3024 ACC = 0.3162\n",
      "================================================================\n",
      "\n"
     ]
    },
    {
     "name": "stderr",
     "output_type": "stream",
     "text": [
      "C:\\Users\\Tom-G\\.conda\\envs\\torchenv\\lib\\site-packages\\torch\\nn\\modules\\container.py:141: UserWarning: Implicit dimension choice for softmax has been deprecated. Change the call to include dim=X as an argument.\n",
      "  input = module(input)\n"
     ]
    },
    {
     "name": "stdout",
     "output_type": "stream",
     "text": [
      "Step [0/3]\t loss_instance: 6.235896110534668\t loss_cluster: 1.5235421657562256\n",
      "\n",
      "Epoch [373/500]\t Loss: 7.757565816243489 \n",
      "\n",
      "Step [0/1]\t Computing features...\n",
      "Features shape (1714,)\n",
      "14\n",
      "Test NMI = 0.4259 ARI = 0.1815 F = 0.3019 ACC = 0.3156\n",
      "================================================================\n",
      "\n"
     ]
    },
    {
     "name": "stderr",
     "output_type": "stream",
     "text": [
      "C:\\Users\\Tom-G\\.conda\\envs\\torchenv\\lib\\site-packages\\torch\\nn\\modules\\container.py:141: UserWarning: Implicit dimension choice for softmax has been deprecated. Change the call to include dim=X as an argument.\n",
      "  input = module(input)\n"
     ]
    },
    {
     "name": "stdout",
     "output_type": "stream",
     "text": [
      "Step [0/3]\t loss_instance: 6.240086078643799\t loss_cluster: 1.5155115127563477\n",
      "\n",
      "Epoch [374/500]\t Loss: 7.756175994873047 \n",
      "\n",
      "Step [0/1]\t Computing features...\n",
      "Features shape (1714,)\n",
      "14\n",
      "Test NMI = 0.4267 ARI = 0.1814 F = 0.3018 ACC = 0.3156\n",
      "================================================================\n",
      "\n"
     ]
    },
    {
     "name": "stderr",
     "output_type": "stream",
     "text": [
      "C:\\Users\\Tom-G\\.conda\\envs\\torchenv\\lib\\site-packages\\torch\\nn\\modules\\container.py:141: UserWarning: Implicit dimension choice for softmax has been deprecated. Change the call to include dim=X as an argument.\n",
      "  input = module(input)\n"
     ]
    },
    {
     "name": "stdout",
     "output_type": "stream",
     "text": [
      "Step [0/3]\t loss_instance: 6.241245269775391\t loss_cluster: 1.5197068452835083\n",
      "\n",
      "Epoch [375/500]\t Loss: 7.759548187255859 \n",
      "\n",
      "Step [0/1]\t Computing features...\n",
      "Features shape (1714,)\n",
      "14\n",
      "Test NMI = 0.4262 ARI = 0.1809 F = 0.3013 ACC = 0.3145\n",
      "================================================================\n",
      "\n"
     ]
    },
    {
     "name": "stderr",
     "output_type": "stream",
     "text": [
      "C:\\Users\\Tom-G\\.conda\\envs\\torchenv\\lib\\site-packages\\torch\\nn\\modules\\container.py:141: UserWarning: Implicit dimension choice for softmax has been deprecated. Change the call to include dim=X as an argument.\n",
      "  input = module(input)\n"
     ]
    },
    {
     "name": "stdout",
     "output_type": "stream",
     "text": [
      "Step [0/3]\t loss_instance: 6.236734867095947\t loss_cluster: 1.5160558223724365\n",
      "\n",
      "Epoch [376/500]\t Loss: 7.760042508443196 \n",
      "\n",
      "Step [0/1]\t Computing features...\n",
      "Features shape (1714,)\n",
      "14\n",
      "Test NMI = 0.4257 ARI = 0.1806 F = 0.3010 ACC = 0.3139\n",
      "================================================================\n",
      "\n"
     ]
    },
    {
     "name": "stderr",
     "output_type": "stream",
     "text": [
      "C:\\Users\\Tom-G\\.conda\\envs\\torchenv\\lib\\site-packages\\torch\\nn\\modules\\container.py:141: UserWarning: Implicit dimension choice for softmax has been deprecated. Change the call to include dim=X as an argument.\n",
      "  input = module(input)\n"
     ]
    },
    {
     "name": "stdout",
     "output_type": "stream",
     "text": [
      "Step [0/3]\t loss_instance: 6.237911701202393\t loss_cluster: 1.520557165145874\n",
      "\n",
      "Epoch [377/500]\t Loss: 7.757164637247722 \n",
      "\n",
      "Step [0/1]\t Computing features...\n",
      "Features shape (1714,)\n",
      "14\n",
      "Test NMI = 0.4249 ARI = 0.1811 F = 0.3015 ACC = 0.3139\n",
      "================================================================\n",
      "\n"
     ]
    },
    {
     "name": "stderr",
     "output_type": "stream",
     "text": [
      "C:\\Users\\Tom-G\\.conda\\envs\\torchenv\\lib\\site-packages\\torch\\nn\\modules\\container.py:141: UserWarning: Implicit dimension choice for softmax has been deprecated. Change the call to include dim=X as an argument.\n",
      "  input = module(input)\n"
     ]
    },
    {
     "name": "stdout",
     "output_type": "stream",
     "text": [
      "Step [0/3]\t loss_instance: 6.243424892425537\t loss_cluster: 1.5187932252883911\n",
      "\n",
      "Epoch [378/500]\t Loss: 7.762538115183513 \n",
      "\n",
      "Step [0/1]\t Computing features...\n",
      "Features shape (1714,)\n",
      "14\n",
      "Test NMI = 0.4257 ARI = 0.1826 F = 0.3030 ACC = 0.3151\n",
      "================================================================\n",
      "\n"
     ]
    },
    {
     "name": "stderr",
     "output_type": "stream",
     "text": [
      "C:\\Users\\Tom-G\\.conda\\envs\\torchenv\\lib\\site-packages\\torch\\nn\\modules\\container.py:141: UserWarning: Implicit dimension choice for softmax has been deprecated. Change the call to include dim=X as an argument.\n",
      "  input = module(input)\n"
     ]
    },
    {
     "name": "stdout",
     "output_type": "stream",
     "text": [
      "Step [0/3]\t loss_instance: 6.241551876068115\t loss_cluster: 1.5165890455245972\n",
      "\n",
      "Epoch [379/500]\t Loss: 7.762383460998535 \n",
      "\n",
      "Step [0/1]\t Computing features...\n",
      "Features shape (1714,)\n",
      "14\n",
      "Test NMI = 0.4251 ARI = 0.1813 F = 0.3017 ACC = 0.3145\n",
      "================================================================\n",
      "\n"
     ]
    },
    {
     "name": "stderr",
     "output_type": "stream",
     "text": [
      "C:\\Users\\Tom-G\\.conda\\envs\\torchenv\\lib\\site-packages\\torch\\nn\\modules\\container.py:141: UserWarning: Implicit dimension choice for softmax has been deprecated. Change the call to include dim=X as an argument.\n",
      "  input = module(input)\n"
     ]
    },
    {
     "name": "stdout",
     "output_type": "stream",
     "text": [
      "Step [0/3]\t loss_instance: 6.236420154571533\t loss_cluster: 1.5171842575073242\n",
      "\n",
      "Epoch [380/500]\t Loss: 7.7572706540425616 \n",
      "\n",
      "Step [0/1]\t Computing features...\n",
      "Features shape (1714,)\n",
      "14\n",
      "Test NMI = 0.4245 ARI = 0.1808 F = 0.3012 ACC = 0.3151\n",
      "================================================================\n",
      "\n"
     ]
    },
    {
     "name": "stderr",
     "output_type": "stream",
     "text": [
      "C:\\Users\\Tom-G\\.conda\\envs\\torchenv\\lib\\site-packages\\torch\\nn\\modules\\container.py:141: UserWarning: Implicit dimension choice for softmax has been deprecated. Change the call to include dim=X as an argument.\n",
      "  input = module(input)\n"
     ]
    },
    {
     "name": "stdout",
     "output_type": "stream",
     "text": [
      "Step [0/3]\t loss_instance: 6.2383551597595215\t loss_cluster: 1.523566484451294\n",
      "\n",
      "Epoch [381/500]\t Loss: 7.759815851847331 \n",
      "\n",
      "Step [0/1]\t Computing features...\n",
      "Features shape (1714,)\n",
      "14\n",
      "Test NMI = 0.4266 ARI = 0.1807 F = 0.3011 ACC = 0.3151\n",
      "================================================================\n",
      "\n"
     ]
    },
    {
     "name": "stderr",
     "output_type": "stream",
     "text": [
      "C:\\Users\\Tom-G\\.conda\\envs\\torchenv\\lib\\site-packages\\torch\\nn\\modules\\container.py:141: UserWarning: Implicit dimension choice for softmax has been deprecated. Change the call to include dim=X as an argument.\n",
      "  input = module(input)\n"
     ]
    },
    {
     "name": "stdout",
     "output_type": "stream",
     "text": [
      "Step [0/3]\t loss_instance: 6.239490509033203\t loss_cluster: 1.5154767036437988\n",
      "\n",
      "Epoch [382/500]\t Loss: 7.758074124654134 \n",
      "\n",
      "Step [0/1]\t Computing features...\n",
      "Features shape (1714,)\n",
      "14\n",
      "Test NMI = 0.4264 ARI = 0.1805 F = 0.3009 ACC = 0.3139\n",
      "================================================================\n",
      "\n"
     ]
    },
    {
     "name": "stderr",
     "output_type": "stream",
     "text": [
      "C:\\Users\\Tom-G\\.conda\\envs\\torchenv\\lib\\site-packages\\torch\\nn\\modules\\container.py:141: UserWarning: Implicit dimension choice for softmax has been deprecated. Change the call to include dim=X as an argument.\n",
      "  input = module(input)\n"
     ]
    },
    {
     "name": "stdout",
     "output_type": "stream",
     "text": [
      "Step [0/3]\t loss_instance: 6.237020492553711\t loss_cluster: 1.5173312425613403\n",
      "\n",
      "Epoch [383/500]\t Loss: 7.758201281229655 \n",
      "\n",
      "Step [0/1]\t Computing features...\n",
      "Features shape (1714,)\n",
      "14\n",
      "Test NMI = 0.4265 ARI = 0.1803 F = 0.3007 ACC = 0.3139\n",
      "================================================================\n",
      "\n"
     ]
    },
    {
     "name": "stderr",
     "output_type": "stream",
     "text": [
      "C:\\Users\\Tom-G\\.conda\\envs\\torchenv\\lib\\site-packages\\torch\\nn\\modules\\container.py:141: UserWarning: Implicit dimension choice for softmax has been deprecated. Change the call to include dim=X as an argument.\n",
      "  input = module(input)\n"
     ]
    },
    {
     "name": "stdout",
     "output_type": "stream",
     "text": [
      "Step [0/3]\t loss_instance: 6.232077121734619\t loss_cluster: 1.520241618156433\n",
      "\n",
      "Epoch [384/500]\t Loss: 7.755861759185791 \n",
      "\n",
      "Step [0/1]\t Computing features...\n",
      "Features shape (1714,)\n",
      "14\n",
      "Test NMI = 0.4271 ARI = 0.1808 F = 0.3012 ACC = 0.3127\n",
      "================================================================\n",
      "\n"
     ]
    },
    {
     "name": "stderr",
     "output_type": "stream",
     "text": [
      "C:\\Users\\Tom-G\\.conda\\envs\\torchenv\\lib\\site-packages\\torch\\nn\\modules\\container.py:141: UserWarning: Implicit dimension choice for softmax has been deprecated. Change the call to include dim=X as an argument.\n",
      "  input = module(input)\n"
     ]
    },
    {
     "name": "stdout",
     "output_type": "stream",
     "text": [
      "Step [0/3]\t loss_instance: 6.2359161376953125\t loss_cluster: 1.515093207359314\n",
      "\n",
      "Epoch [385/500]\t Loss: 7.752629121144612 \n",
      "\n",
      "Step [0/1]\t Computing features...\n",
      "Features shape (1714,)\n",
      "14\n",
      "Test NMI = 0.4276 ARI = 0.1816 F = 0.3020 ACC = 0.3133\n",
      "================================================================\n",
      "\n"
     ]
    },
    {
     "name": "stderr",
     "output_type": "stream",
     "text": [
      "C:\\Users\\Tom-G\\.conda\\envs\\torchenv\\lib\\site-packages\\torch\\nn\\modules\\container.py:141: UserWarning: Implicit dimension choice for softmax has been deprecated. Change the call to include dim=X as an argument.\n",
      "  input = module(input)\n"
     ]
    },
    {
     "name": "stdout",
     "output_type": "stream",
     "text": [
      "Step [0/3]\t loss_instance: 6.236113548278809\t loss_cluster: 1.5165010690689087\n",
      "\n",
      "Epoch [386/500]\t Loss: 7.75302521387736 \n",
      "\n",
      "Step [0/1]\t Computing features...\n",
      "Features shape (1714,)\n",
      "14\n",
      "Test NMI = 0.4277 ARI = 0.1815 F = 0.3020 ACC = 0.3151\n",
      "================================================================\n",
      "\n"
     ]
    },
    {
     "name": "stderr",
     "output_type": "stream",
     "text": [
      "C:\\Users\\Tom-G\\.conda\\envs\\torchenv\\lib\\site-packages\\torch\\nn\\modules\\container.py:141: UserWarning: Implicit dimension choice for softmax has been deprecated. Change the call to include dim=X as an argument.\n",
      "  input = module(input)\n"
     ]
    },
    {
     "name": "stdout",
     "output_type": "stream",
     "text": [
      "Step [0/3]\t loss_instance: 6.239064693450928\t loss_cluster: 1.5209060907363892\n",
      "\n",
      "Epoch [387/500]\t Loss: 7.758843580881755 \n",
      "\n",
      "Step [0/1]\t Computing features...\n",
      "Features shape (1714,)\n",
      "14\n",
      "Test NMI = 0.4278 ARI = 0.1820 F = 0.3024 ACC = 0.3151\n",
      "================================================================\n",
      "\n"
     ]
    },
    {
     "name": "stderr",
     "output_type": "stream",
     "text": [
      "C:\\Users\\Tom-G\\.conda\\envs\\torchenv\\lib\\site-packages\\torch\\nn\\modules\\container.py:141: UserWarning: Implicit dimension choice for softmax has been deprecated. Change the call to include dim=X as an argument.\n",
      "  input = module(input)\n"
     ]
    },
    {
     "name": "stdout",
     "output_type": "stream",
     "text": [
      "Step [0/3]\t loss_instance: 6.234560012817383\t loss_cluster: 1.517371416091919\n",
      "\n",
      "Epoch [388/500]\t Loss: 7.7550021807352705 \n",
      "\n",
      "Step [0/1]\t Computing features...\n",
      "Features shape (1714,)\n",
      "14\n",
      "Test NMI = 0.4258 ARI = 0.1816 F = 0.3020 ACC = 0.3156\n",
      "================================================================\n",
      "\n"
     ]
    },
    {
     "name": "stderr",
     "output_type": "stream",
     "text": [
      "C:\\Users\\Tom-G\\.conda\\envs\\torchenv\\lib\\site-packages\\torch\\nn\\modules\\container.py:141: UserWarning: Implicit dimension choice for softmax has been deprecated. Change the call to include dim=X as an argument.\n",
      "  input = module(input)\n"
     ]
    },
    {
     "name": "stdout",
     "output_type": "stream",
     "text": [
      "Step [0/3]\t loss_instance: 6.237067222595215\t loss_cluster: 1.5172849893569946\n",
      "\n",
      "Epoch [389/500]\t Loss: 7.753238360087077 \n",
      "\n",
      "Step [0/1]\t Computing features...\n",
      "Features shape (1714,)\n",
      "14\n",
      "Test NMI = 0.4255 ARI = 0.1812 F = 0.3016 ACC = 0.3156\n",
      "================================================================\n",
      "\n"
     ]
    },
    {
     "name": "stderr",
     "output_type": "stream",
     "text": [
      "C:\\Users\\Tom-G\\.conda\\envs\\torchenv\\lib\\site-packages\\torch\\nn\\modules\\container.py:141: UserWarning: Implicit dimension choice for softmax has been deprecated. Change the call to include dim=X as an argument.\n",
      "  input = module(input)\n"
     ]
    },
    {
     "name": "stdout",
     "output_type": "stream",
     "text": [
      "Step [0/3]\t loss_instance: 6.238943576812744\t loss_cluster: 1.5233150720596313\n",
      "\n",
      "Epoch [390/500]\t Loss: 7.755431493123372 \n",
      "\n",
      "Step [0/1]\t Computing features...\n",
      "Features shape (1714,)\n",
      "14\n",
      "Test NMI = 0.4246 ARI = 0.1800 F = 0.3004 ACC = 0.3133\n",
      "================================================================\n",
      "\n"
     ]
    },
    {
     "name": "stderr",
     "output_type": "stream",
     "text": [
      "C:\\Users\\Tom-G\\.conda\\envs\\torchenv\\lib\\site-packages\\torch\\nn\\modules\\container.py:141: UserWarning: Implicit dimension choice for softmax has been deprecated. Change the call to include dim=X as an argument.\n",
      "  input = module(input)\n"
     ]
    },
    {
     "name": "stdout",
     "output_type": "stream",
     "text": [
      "Step [0/3]\t loss_instance: 6.235790252685547\t loss_cluster: 1.5227864980697632\n",
      "\n",
      "Epoch [391/500]\t Loss: 7.75704304377238 \n",
      "\n",
      "Step [0/1]\t Computing features...\n",
      "Features shape (1714,)\n",
      "14\n",
      "Test NMI = 0.4251 ARI = 0.1806 F = 0.3010 ACC = 0.3145\n",
      "================================================================\n",
      "\n"
     ]
    },
    {
     "name": "stderr",
     "output_type": "stream",
     "text": [
      "C:\\Users\\Tom-G\\.conda\\envs\\torchenv\\lib\\site-packages\\torch\\nn\\modules\\container.py:141: UserWarning: Implicit dimension choice for softmax has been deprecated. Change the call to include dim=X as an argument.\n",
      "  input = module(input)\n"
     ]
    },
    {
     "name": "stdout",
     "output_type": "stream",
     "text": [
      "Step [0/3]\t loss_instance: 6.233702182769775\t loss_cluster: 1.517507553100586\n",
      "\n",
      "Epoch [392/500]\t Loss: 7.754265149434407 \n",
      "\n",
      "Step [0/1]\t Computing features...\n",
      "Features shape (1714,)\n",
      "14\n",
      "Test NMI = 0.4250 ARI = 0.1811 F = 0.3015 ACC = 0.3151\n",
      "================================================================\n",
      "\n"
     ]
    },
    {
     "name": "stderr",
     "output_type": "stream",
     "text": [
      "C:\\Users\\Tom-G\\.conda\\envs\\torchenv\\lib\\site-packages\\torch\\nn\\modules\\container.py:141: UserWarning: Implicit dimension choice for softmax has been deprecated. Change the call to include dim=X as an argument.\n",
      "  input = module(input)\n"
     ]
    },
    {
     "name": "stdout",
     "output_type": "stream",
     "text": [
      "Step [0/3]\t loss_instance: 6.234035968780518\t loss_cluster: 1.522855520248413\n",
      "\n",
      "Epoch [393/500]\t Loss: 7.754006067911784 \n",
      "\n",
      "Step [0/1]\t Computing features...\n",
      "Features shape (1714,)\n",
      "14\n",
      "Test NMI = 0.4240 ARI = 0.1810 F = 0.3014 ACC = 0.3145\n",
      "================================================================\n",
      "\n"
     ]
    },
    {
     "name": "stderr",
     "output_type": "stream",
     "text": [
      "C:\\Users\\Tom-G\\.conda\\envs\\torchenv\\lib\\site-packages\\torch\\nn\\modules\\container.py:141: UserWarning: Implicit dimension choice for softmax has been deprecated. Change the call to include dim=X as an argument.\n",
      "  input = module(input)\n"
     ]
    },
    {
     "name": "stdout",
     "output_type": "stream",
     "text": [
      "Step [0/3]\t loss_instance: 6.234361171722412\t loss_cluster: 1.5171555280685425\n",
      "\n",
      "Epoch [394/500]\t Loss: 7.756127834320068 \n",
      "\n",
      "Step [0/1]\t Computing features...\n",
      "Features shape (1714,)\n",
      "14\n",
      "Test NMI = 0.4252 ARI = 0.1818 F = 0.3022 ACC = 0.3162\n",
      "================================================================\n",
      "\n"
     ]
    },
    {
     "name": "stderr",
     "output_type": "stream",
     "text": [
      "C:\\Users\\Tom-G\\.conda\\envs\\torchenv\\lib\\site-packages\\torch\\nn\\modules\\container.py:141: UserWarning: Implicit dimension choice for softmax has been deprecated. Change the call to include dim=X as an argument.\n",
      "  input = module(input)\n"
     ]
    },
    {
     "name": "stdout",
     "output_type": "stream",
     "text": [
      "Step [0/3]\t loss_instance: 6.236425399780273\t loss_cluster: 1.5167343616485596\n",
      "\n",
      "Epoch [395/500]\t Loss: 7.7530473073323565 \n",
      "\n",
      "Step [0/1]\t Computing features...\n",
      "Features shape (1714,)\n",
      "14\n",
      "Test NMI = 0.4258 ARI = 0.1807 F = 0.3011 ACC = 0.3162\n",
      "================================================================\n",
      "\n"
     ]
    },
    {
     "name": "stderr",
     "output_type": "stream",
     "text": [
      "C:\\Users\\Tom-G\\.conda\\envs\\torchenv\\lib\\site-packages\\torch\\nn\\modules\\container.py:141: UserWarning: Implicit dimension choice for softmax has been deprecated. Change the call to include dim=X as an argument.\n",
      "  input = module(input)\n"
     ]
    },
    {
     "name": "stdout",
     "output_type": "stream",
     "text": [
      "Step [0/3]\t loss_instance: 6.235260009765625\t loss_cluster: 1.5166618824005127\n",
      "\n",
      "Epoch [396/500]\t Loss: 7.755382378896077 \n",
      "\n",
      "Step [0/1]\t Computing features...\n",
      "Features shape (1714,)\n",
      "14\n",
      "Test NMI = 0.4250 ARI = 0.1801 F = 0.3005 ACC = 0.3162\n",
      "================================================================\n",
      "\n"
     ]
    },
    {
     "name": "stderr",
     "output_type": "stream",
     "text": [
      "C:\\Users\\Tom-G\\.conda\\envs\\torchenv\\lib\\site-packages\\torch\\nn\\modules\\container.py:141: UserWarning: Implicit dimension choice for softmax has been deprecated. Change the call to include dim=X as an argument.\n",
      "  input = module(input)\n"
     ]
    },
    {
     "name": "stdout",
     "output_type": "stream",
     "text": [
      "Step [0/3]\t loss_instance: 6.240135192871094\t loss_cluster: 1.520426630973816\n",
      "\n",
      "Epoch [397/500]\t Loss: 7.755767663319905 \n",
      "\n",
      "Step [0/1]\t Computing features...\n",
      "Features shape (1714,)\n",
      "14\n",
      "Test NMI = 0.4241 ARI = 0.1805 F = 0.3009 ACC = 0.3180\n",
      "================================================================\n",
      "\n"
     ]
    },
    {
     "name": "stderr",
     "output_type": "stream",
     "text": [
      "C:\\Users\\Tom-G\\.conda\\envs\\torchenv\\lib\\site-packages\\torch\\nn\\modules\\container.py:141: UserWarning: Implicit dimension choice for softmax has been deprecated. Change the call to include dim=X as an argument.\n",
      "  input = module(input)\n"
     ]
    },
    {
     "name": "stdout",
     "output_type": "stream",
     "text": [
      "Step [0/3]\t loss_instance: 6.233482837677002\t loss_cluster: 1.521409034729004\n",
      "\n",
      "Epoch [398/500]\t Loss: 7.755378882090251 \n",
      "\n",
      "Step [0/1]\t Computing features...\n",
      "Features shape (1714,)\n",
      "14\n",
      "Test NMI = 0.4237 ARI = 0.1806 F = 0.3010 ACC = 0.3168\n",
      "================================================================\n",
      "\n"
     ]
    },
    {
     "name": "stderr",
     "output_type": "stream",
     "text": [
      "C:\\Users\\Tom-G\\.conda\\envs\\torchenv\\lib\\site-packages\\torch\\nn\\modules\\container.py:141: UserWarning: Implicit dimension choice for softmax has been deprecated. Change the call to include dim=X as an argument.\n",
      "  input = module(input)\n"
     ]
    },
    {
     "name": "stdout",
     "output_type": "stream",
     "text": [
      "Step [0/3]\t loss_instance: 6.233455657958984\t loss_cluster: 1.5184752941131592\n",
      "\n",
      "Epoch [399/500]\t Loss: 7.751195430755615 \n",
      "\n",
      "Step [0/1]\t Computing features...\n",
      "Features shape (1714,)\n",
      "14\n",
      "Test NMI = 0.4256 ARI = 0.1827 F = 0.3031 ACC = 0.3180\n",
      "================================================================\n",
      "\n"
     ]
    },
    {
     "name": "stderr",
     "output_type": "stream",
     "text": [
      "C:\\Users\\Tom-G\\.conda\\envs\\torchenv\\lib\\site-packages\\torch\\nn\\modules\\container.py:141: UserWarning: Implicit dimension choice for softmax has been deprecated. Change the call to include dim=X as an argument.\n",
      "  input = module(input)\n"
     ]
    },
    {
     "name": "stdout",
     "output_type": "stream",
     "text": [
      "Step [0/3]\t loss_instance: 6.233088970184326\t loss_cluster: 1.517344355583191\n",
      "\n",
      "Epoch [400/500]\t Loss: 7.752431392669678 \n",
      "\n",
      "Step [0/1]\t Computing features...\n",
      "Features shape (1714,)\n",
      "14\n",
      "Test NMI = 0.4250 ARI = 0.1818 F = 0.3022 ACC = 0.3168\n",
      "================================================================\n",
      "\n"
     ]
    },
    {
     "name": "stderr",
     "output_type": "stream",
     "text": [
      "C:\\Users\\Tom-G\\.conda\\envs\\torchenv\\lib\\site-packages\\torch\\nn\\modules\\container.py:141: UserWarning: Implicit dimension choice for softmax has been deprecated. Change the call to include dim=X as an argument.\n",
      "  input = module(input)\n"
     ]
    },
    {
     "name": "stdout",
     "output_type": "stream",
     "text": [
      "Step [0/3]\t loss_instance: 6.239880084991455\t loss_cluster: 1.5168687105178833\n",
      "\n",
      "Epoch [401/500]\t Loss: 7.754072507222493 \n",
      "\n",
      "Step [0/1]\t Computing features...\n",
      "Features shape (1714,)\n",
      "14\n",
      "Test NMI = 0.4232 ARI = 0.1800 F = 0.3004 ACC = 0.3162\n",
      "================================================================\n",
      "\n"
     ]
    },
    {
     "name": "stderr",
     "output_type": "stream",
     "text": [
      "C:\\Users\\Tom-G\\.conda\\envs\\torchenv\\lib\\site-packages\\torch\\nn\\modules\\container.py:141: UserWarning: Implicit dimension choice for softmax has been deprecated. Change the call to include dim=X as an argument.\n",
      "  input = module(input)\n"
     ]
    },
    {
     "name": "stdout",
     "output_type": "stream",
     "text": [
      "Step [0/3]\t loss_instance: 6.232534408569336\t loss_cluster: 1.5159484148025513\n",
      "\n",
      "Epoch [402/500]\t Loss: 7.750984191894531 \n",
      "\n",
      "Step [0/1]\t Computing features...\n",
      "Features shape (1714,)\n",
      "14\n",
      "Test NMI = 0.4229 ARI = 0.1794 F = 0.2998 ACC = 0.3162\n",
      "================================================================\n",
      "\n"
     ]
    },
    {
     "name": "stderr",
     "output_type": "stream",
     "text": [
      "C:\\Users\\Tom-G\\.conda\\envs\\torchenv\\lib\\site-packages\\torch\\nn\\modules\\container.py:141: UserWarning: Implicit dimension choice for softmax has been deprecated. Change the call to include dim=X as an argument.\n",
      "  input = module(input)\n"
     ]
    },
    {
     "name": "stdout",
     "output_type": "stream",
     "text": [
      "Step [0/3]\t loss_instance: 6.233109474182129\t loss_cluster: 1.521006464958191\n",
      "\n",
      "Epoch [403/500]\t Loss: 7.754143238067627 \n",
      "\n",
      "Step [0/1]\t Computing features...\n",
      "Features shape (1714,)\n",
      "14\n",
      "Test NMI = 0.4265 ARI = 0.1809 F = 0.3013 ACC = 0.3174\n",
      "================================================================\n",
      "\n"
     ]
    },
    {
     "name": "stderr",
     "output_type": "stream",
     "text": [
      "C:\\Users\\Tom-G\\.conda\\envs\\torchenv\\lib\\site-packages\\torch\\nn\\modules\\container.py:141: UserWarning: Implicit dimension choice for softmax has been deprecated. Change the call to include dim=X as an argument.\n",
      "  input = module(input)\n"
     ]
    },
    {
     "name": "stdout",
     "output_type": "stream",
     "text": [
      "Step [0/3]\t loss_instance: 6.236215591430664\t loss_cluster: 1.5200526714324951\n",
      "\n",
      "Epoch [404/500]\t Loss: 7.754537900288899 \n",
      "\n",
      "Step [0/1]\t Computing features...\n",
      "Features shape (1714,)\n",
      "14\n",
      "Test NMI = 0.4238 ARI = 0.1801 F = 0.3005 ACC = 0.3151\n",
      "================================================================\n",
      "\n"
     ]
    },
    {
     "name": "stderr",
     "output_type": "stream",
     "text": [
      "C:\\Users\\Tom-G\\.conda\\envs\\torchenv\\lib\\site-packages\\torch\\nn\\modules\\container.py:141: UserWarning: Implicit dimension choice for softmax has been deprecated. Change the call to include dim=X as an argument.\n",
      "  input = module(input)\n"
     ]
    },
    {
     "name": "stdout",
     "output_type": "stream",
     "text": [
      "Step [0/3]\t loss_instance: 6.233338832855225\t loss_cluster: 1.517730474472046\n",
      "\n",
      "Epoch [405/500]\t Loss: 7.750194390614827 \n",
      "\n",
      "Step [0/1]\t Computing features...\n",
      "Features shape (1714,)\n",
      "14\n",
      "Test NMI = 0.4244 ARI = 0.1807 F = 0.3011 ACC = 0.3151\n",
      "================================================================\n",
      "\n"
     ]
    },
    {
     "name": "stderr",
     "output_type": "stream",
     "text": [
      "C:\\Users\\Tom-G\\.conda\\envs\\torchenv\\lib\\site-packages\\torch\\nn\\modules\\container.py:141: UserWarning: Implicit dimension choice for softmax has been deprecated. Change the call to include dim=X as an argument.\n",
      "  input = module(input)\n"
     ]
    },
    {
     "name": "stdout",
     "output_type": "stream",
     "text": [
      "Step [0/3]\t loss_instance: 6.240975856781006\t loss_cluster: 1.5171257257461548\n",
      "\n",
      "Epoch [406/500]\t Loss: 7.755581378936768 \n",
      "\n",
      "Step [0/1]\t Computing features...\n",
      "Features shape (1714,)\n",
      "14\n",
      "Test NMI = 0.4265 ARI = 0.1820 F = 0.3024 ACC = 0.3156\n",
      "================================================================\n",
      "\n"
     ]
    },
    {
     "name": "stderr",
     "output_type": "stream",
     "text": [
      "C:\\Users\\Tom-G\\.conda\\envs\\torchenv\\lib\\site-packages\\torch\\nn\\modules\\container.py:141: UserWarning: Implicit dimension choice for softmax has been deprecated. Change the call to include dim=X as an argument.\n",
      "  input = module(input)\n"
     ]
    },
    {
     "name": "stdout",
     "output_type": "stream",
     "text": [
      "Step [0/3]\t loss_instance: 6.2389302253723145\t loss_cluster: 1.5193614959716797\n",
      "\n",
      "Epoch [407/500]\t Loss: 7.754440148671468 \n",
      "\n",
      "Step [0/1]\t Computing features...\n",
      "Features shape (1714,)\n",
      "14\n",
      "Test NMI = 0.4259 ARI = 0.1812 F = 0.3016 ACC = 0.3168\n",
      "================================================================\n",
      "\n"
     ]
    },
    {
     "name": "stderr",
     "output_type": "stream",
     "text": [
      "C:\\Users\\Tom-G\\.conda\\envs\\torchenv\\lib\\site-packages\\torch\\nn\\modules\\container.py:141: UserWarning: Implicit dimension choice for softmax has been deprecated. Change the call to include dim=X as an argument.\n",
      "  input = module(input)\n"
     ]
    },
    {
     "name": "stdout",
     "output_type": "stream",
     "text": [
      "Step [0/3]\t loss_instance: 6.236070156097412\t loss_cluster: 1.5174044370651245\n",
      "\n",
      "Epoch [408/500]\t Loss: 7.75220251083374 \n",
      "\n",
      "Step [0/1]\t Computing features...\n",
      "Features shape (1714,)\n",
      "14\n",
      "Test NMI = 0.4252 ARI = 0.1802 F = 0.3006 ACC = 0.3156\n",
      "================================================================\n",
      "\n"
     ]
    },
    {
     "name": "stderr",
     "output_type": "stream",
     "text": [
      "C:\\Users\\Tom-G\\.conda\\envs\\torchenv\\lib\\site-packages\\torch\\nn\\modules\\container.py:141: UserWarning: Implicit dimension choice for softmax has been deprecated. Change the call to include dim=X as an argument.\n",
      "  input = module(input)\n"
     ]
    },
    {
     "name": "stdout",
     "output_type": "stream",
     "text": [
      "Step [0/3]\t loss_instance: 6.2318315505981445\t loss_cluster: 1.5184352397918701\n",
      "\n",
      "Epoch [409/500]\t Loss: 7.7539933522542315 \n",
      "\n",
      "Step [0/1]\t Computing features...\n",
      "Features shape (1714,)\n",
      "14\n",
      "Test NMI = 0.4248 ARI = 0.1798 F = 0.3002 ACC = 0.3151\n",
      "================================================================\n",
      "\n"
     ]
    },
    {
     "name": "stderr",
     "output_type": "stream",
     "text": [
      "C:\\Users\\Tom-G\\.conda\\envs\\torchenv\\lib\\site-packages\\torch\\nn\\modules\\container.py:141: UserWarning: Implicit dimension choice for softmax has been deprecated. Change the call to include dim=X as an argument.\n",
      "  input = module(input)\n"
     ]
    },
    {
     "name": "stdout",
     "output_type": "stream",
     "text": [
      "Step [0/3]\t loss_instance: 6.230900764465332\t loss_cluster: 1.5189638137817383\n",
      "\n",
      "Epoch [410/500]\t Loss: 7.758469899495442 \n",
      "\n",
      "Step [0/1]\t Computing features...\n",
      "Features shape (1714,)\n",
      "14\n",
      "Test NMI = 0.4248 ARI = 0.1797 F = 0.3001 ACC = 0.3151\n",
      "================================================================\n",
      "\n"
     ]
    },
    {
     "name": "stderr",
     "output_type": "stream",
     "text": [
      "C:\\Users\\Tom-G\\.conda\\envs\\torchenv\\lib\\site-packages\\torch\\nn\\modules\\container.py:141: UserWarning: Implicit dimension choice for softmax has been deprecated. Change the call to include dim=X as an argument.\n",
      "  input = module(input)\n"
     ]
    },
    {
     "name": "stdout",
     "output_type": "stream",
     "text": [
      "Step [0/3]\t loss_instance: 6.238224983215332\t loss_cluster: 1.5151832103729248\n",
      "\n",
      "Epoch [411/500]\t Loss: 7.7557376225789385 \n",
      "\n",
      "Step [0/1]\t Computing features...\n",
      "Features shape (1714,)\n",
      "14\n",
      "Test NMI = 0.4243 ARI = 0.1804 F = 0.3008 ACC = 0.3139\n",
      "================================================================\n",
      "\n"
     ]
    },
    {
     "name": "stderr",
     "output_type": "stream",
     "text": [
      "C:\\Users\\Tom-G\\.conda\\envs\\torchenv\\lib\\site-packages\\torch\\nn\\modules\\container.py:141: UserWarning: Implicit dimension choice for softmax has been deprecated. Change the call to include dim=X as an argument.\n",
      "  input = module(input)\n"
     ]
    },
    {
     "name": "stdout",
     "output_type": "stream",
     "text": [
      "Step [0/3]\t loss_instance: 6.249881744384766\t loss_cluster: 1.5215541124343872\n",
      "\n",
      "Epoch [412/500]\t Loss: 7.762281099955241 \n",
      "\n",
      "Step [0/1]\t Computing features...\n",
      "Features shape (1714,)\n",
      "14\n",
      "Test NMI = 0.4227 ARI = 0.1792 F = 0.2995 ACC = 0.3127\n",
      "================================================================\n",
      "\n"
     ]
    },
    {
     "name": "stderr",
     "output_type": "stream",
     "text": [
      "C:\\Users\\Tom-G\\.conda\\envs\\torchenv\\lib\\site-packages\\torch\\nn\\modules\\container.py:141: UserWarning: Implicit dimension choice for softmax has been deprecated. Change the call to include dim=X as an argument.\n",
      "  input = module(input)\n"
     ]
    },
    {
     "name": "stdout",
     "output_type": "stream",
     "text": [
      "Step [0/3]\t loss_instance: 6.233253002166748\t loss_cluster: 1.5229371786117554\n",
      "\n",
      "Epoch [413/500]\t Loss: 7.755961894989014 \n",
      "\n",
      "Step [0/1]\t Computing features...\n",
      "Features shape (1714,)\n",
      "14\n",
      "Test NMI = 0.4235 ARI = 0.1793 F = 0.2997 ACC = 0.3133\n",
      "================================================================\n",
      "\n"
     ]
    },
    {
     "name": "stderr",
     "output_type": "stream",
     "text": [
      "C:\\Users\\Tom-G\\.conda\\envs\\torchenv\\lib\\site-packages\\torch\\nn\\modules\\container.py:141: UserWarning: Implicit dimension choice for softmax has been deprecated. Change the call to include dim=X as an argument.\n",
      "  input = module(input)\n"
     ]
    },
    {
     "name": "stdout",
     "output_type": "stream",
     "text": [
      "Step [0/3]\t loss_instance: 6.2366485595703125\t loss_cluster: 1.5139638185501099\n",
      "\n",
      "Epoch [414/500]\t Loss: 7.755050182342529 \n",
      "\n",
      "Step [0/1]\t Computing features...\n",
      "Features shape (1714,)\n",
      "14\n",
      "Test NMI = 0.4245 ARI = 0.1794 F = 0.2998 ACC = 0.3151\n",
      "================================================================\n",
      "\n"
     ]
    },
    {
     "name": "stderr",
     "output_type": "stream",
     "text": [
      "C:\\Users\\Tom-G\\.conda\\envs\\torchenv\\lib\\site-packages\\torch\\nn\\modules\\container.py:141: UserWarning: Implicit dimension choice for softmax has been deprecated. Change the call to include dim=X as an argument.\n",
      "  input = module(input)\n"
     ]
    },
    {
     "name": "stdout",
     "output_type": "stream",
     "text": [
      "Step [0/3]\t loss_instance: 6.240137577056885\t loss_cluster: 1.5139280557632446\n",
      "\n",
      "Epoch [415/500]\t Loss: 7.753620624542236 \n",
      "\n",
      "Step [0/1]\t Computing features...\n",
      "Features shape (1714,)\n",
      "14\n",
      "Test NMI = 0.4244 ARI = 0.1794 F = 0.2998 ACC = 0.3145\n",
      "================================================================\n",
      "\n"
     ]
    },
    {
     "name": "stderr",
     "output_type": "stream",
     "text": [
      "C:\\Users\\Tom-G\\.conda\\envs\\torchenv\\lib\\site-packages\\torch\\nn\\modules\\container.py:141: UserWarning: Implicit dimension choice for softmax has been deprecated. Change the call to include dim=X as an argument.\n",
      "  input = module(input)\n"
     ]
    },
    {
     "name": "stdout",
     "output_type": "stream",
     "text": [
      "Step [0/3]\t loss_instance: 6.234856128692627\t loss_cluster: 1.516076922416687\n",
      "\n",
      "Epoch [416/500]\t Loss: 7.751349925994873 \n",
      "\n",
      "Step [0/1]\t Computing features...\n",
      "Features shape (1714,)\n",
      "14\n",
      "Test NMI = 0.4242 ARI = 0.1787 F = 0.2991 ACC = 0.3127\n",
      "================================================================\n",
      "\n"
     ]
    },
    {
     "name": "stderr",
     "output_type": "stream",
     "text": [
      "C:\\Users\\Tom-G\\.conda\\envs\\torchenv\\lib\\site-packages\\torch\\nn\\modules\\container.py:141: UserWarning: Implicit dimension choice for softmax has been deprecated. Change the call to include dim=X as an argument.\n",
      "  input = module(input)\n"
     ]
    },
    {
     "name": "stdout",
     "output_type": "stream",
     "text": [
      "Step [0/3]\t loss_instance: 6.237771987915039\t loss_cluster: 1.522110104560852\n",
      "\n",
      "Epoch [417/500]\t Loss: 7.758004029591878 \n",
      "\n",
      "Step [0/1]\t Computing features...\n",
      "Features shape (1714,)\n",
      "14\n",
      "Test NMI = 0.4245 ARI = 0.1803 F = 0.3007 ACC = 0.3151\n",
      "================================================================\n",
      "\n"
     ]
    },
    {
     "name": "stderr",
     "output_type": "stream",
     "text": [
      "C:\\Users\\Tom-G\\.conda\\envs\\torchenv\\lib\\site-packages\\torch\\nn\\modules\\container.py:141: UserWarning: Implicit dimension choice for softmax has been deprecated. Change the call to include dim=X as an argument.\n",
      "  input = module(input)\n"
     ]
    },
    {
     "name": "stdout",
     "output_type": "stream",
     "text": [
      "Step [0/3]\t loss_instance: 6.237231731414795\t loss_cluster: 1.5215156078338623\n",
      "\n",
      "Epoch [418/500]\t Loss: 7.75605837504069 \n",
      "\n",
      "Step [0/1]\t Computing features...\n",
      "Features shape (1714,)\n",
      "14\n",
      "Test NMI = 0.4244 ARI = 0.1793 F = 0.2997 ACC = 0.3133\n",
      "================================================================\n",
      "\n"
     ]
    },
    {
     "name": "stderr",
     "output_type": "stream",
     "text": [
      "C:\\Users\\Tom-G\\.conda\\envs\\torchenv\\lib\\site-packages\\torch\\nn\\modules\\container.py:141: UserWarning: Implicit dimension choice for softmax has been deprecated. Change the call to include dim=X as an argument.\n",
      "  input = module(input)\n"
     ]
    },
    {
     "name": "stdout",
     "output_type": "stream",
     "text": [
      "Step [0/3]\t loss_instance: 6.2443766593933105\t loss_cluster: 1.5173577070236206\n",
      "\n",
      "Epoch [419/500]\t Loss: 7.759835720062256 \n",
      "\n",
      "Step [0/1]\t Computing features...\n",
      "Features shape (1714,)\n",
      "14\n",
      "Test NMI = 0.4236 ARI = 0.1798 F = 0.3002 ACC = 0.3133\n",
      "================================================================\n",
      "\n"
     ]
    },
    {
     "name": "stderr",
     "output_type": "stream",
     "text": [
      "C:\\Users\\Tom-G\\.conda\\envs\\torchenv\\lib\\site-packages\\torch\\nn\\modules\\container.py:141: UserWarning: Implicit dimension choice for softmax has been deprecated. Change the call to include dim=X as an argument.\n",
      "  input = module(input)\n"
     ]
    },
    {
     "name": "stdout",
     "output_type": "stream",
     "text": [
      "Step [0/3]\t loss_instance: 6.2334418296813965\t loss_cluster: 1.519942283630371\n",
      "\n",
      "Epoch [420/500]\t Loss: 7.753830909729004 \n",
      "\n",
      "Step [0/1]\t Computing features...\n",
      "Features shape (1714,)\n",
      "14\n",
      "Test NMI = 0.4236 ARI = 0.1803 F = 0.3007 ACC = 0.3151\n",
      "================================================================\n",
      "\n"
     ]
    },
    {
     "name": "stderr",
     "output_type": "stream",
     "text": [
      "C:\\Users\\Tom-G\\.conda\\envs\\torchenv\\lib\\site-packages\\torch\\nn\\modules\\container.py:141: UserWarning: Implicit dimension choice for softmax has been deprecated. Change the call to include dim=X as an argument.\n",
      "  input = module(input)\n"
     ]
    },
    {
     "name": "stdout",
     "output_type": "stream",
     "text": [
      "Step [0/3]\t loss_instance: 6.233227729797363\t loss_cluster: 1.516257405281067\n",
      "\n",
      "Epoch [421/500]\t Loss: 7.752037366231282 \n",
      "\n",
      "Step [0/1]\t Computing features...\n",
      "Features shape (1714,)\n",
      "14\n",
      "Test NMI = 0.4237 ARI = 0.1798 F = 0.3002 ACC = 0.3139\n",
      "================================================================\n",
      "\n"
     ]
    },
    {
     "name": "stderr",
     "output_type": "stream",
     "text": [
      "C:\\Users\\Tom-G\\.conda\\envs\\torchenv\\lib\\site-packages\\torch\\nn\\modules\\container.py:141: UserWarning: Implicit dimension choice for softmax has been deprecated. Change the call to include dim=X as an argument.\n",
      "  input = module(input)\n"
     ]
    },
    {
     "name": "stdout",
     "output_type": "stream",
     "text": [
      "Step [0/3]\t loss_instance: 6.230452060699463\t loss_cluster: 1.5211920738220215\n",
      "\n",
      "Epoch [422/500]\t Loss: 7.751120249430339 \n",
      "\n",
      "Step [0/1]\t Computing features...\n",
      "Features shape (1714,)\n",
      "14\n",
      "Test NMI = 0.4245 ARI = 0.1807 F = 0.3011 ACC = 0.3162\n",
      "================================================================\n",
      "\n"
     ]
    },
    {
     "name": "stderr",
     "output_type": "stream",
     "text": [
      "C:\\Users\\Tom-G\\.conda\\envs\\torchenv\\lib\\site-packages\\torch\\nn\\modules\\container.py:141: UserWarning: Implicit dimension choice for softmax has been deprecated. Change the call to include dim=X as an argument.\n",
      "  input = module(input)\n"
     ]
    },
    {
     "name": "stdout",
     "output_type": "stream",
     "text": [
      "Step [0/3]\t loss_instance: 6.233646392822266\t loss_cluster: 1.5159224271774292\n",
      "\n",
      "Epoch [423/500]\t Loss: 7.751920223236084 \n",
      "\n",
      "Step [0/1]\t Computing features...\n",
      "Features shape (1714,)\n",
      "14\n",
      "Test NMI = 0.4246 ARI = 0.1806 F = 0.3010 ACC = 0.3156\n",
      "================================================================\n",
      "\n"
     ]
    },
    {
     "name": "stderr",
     "output_type": "stream",
     "text": [
      "C:\\Users\\Tom-G\\.conda\\envs\\torchenv\\lib\\site-packages\\torch\\nn\\modules\\container.py:141: UserWarning: Implicit dimension choice for softmax has been deprecated. Change the call to include dim=X as an argument.\n",
      "  input = module(input)\n"
     ]
    },
    {
     "name": "stdout",
     "output_type": "stream",
     "text": [
      "Step [0/3]\t loss_instance: 6.231105327606201\t loss_cluster: 1.5181159973144531\n",
      "\n",
      "Epoch [424/500]\t Loss: 7.751748561859131 \n",
      "\n",
      "Step [0/1]\t Computing features...\n",
      "Features shape (1714,)\n",
      "14\n",
      "Test NMI = 0.4246 ARI = 0.1803 F = 0.3007 ACC = 0.3156\n",
      "================================================================\n",
      "\n"
     ]
    },
    {
     "name": "stderr",
     "output_type": "stream",
     "text": [
      "C:\\Users\\Tom-G\\.conda\\envs\\torchenv\\lib\\site-packages\\torch\\nn\\modules\\container.py:141: UserWarning: Implicit dimension choice for softmax has been deprecated. Change the call to include dim=X as an argument.\n",
      "  input = module(input)\n"
     ]
    },
    {
     "name": "stdout",
     "output_type": "stream",
     "text": [
      "Step [0/3]\t loss_instance: 6.239222049713135\t loss_cluster: 1.5175800323486328\n",
      "\n",
      "Epoch [425/500]\t Loss: 7.75437863667806 \n",
      "\n",
      "Step [0/1]\t Computing features...\n",
      "Features shape (1714,)\n",
      "14\n",
      "Test NMI = 0.4245 ARI = 0.1802 F = 0.3006 ACC = 0.3145\n",
      "================================================================\n",
      "\n"
     ]
    },
    {
     "name": "stderr",
     "output_type": "stream",
     "text": [
      "C:\\Users\\Tom-G\\.conda\\envs\\torchenv\\lib\\site-packages\\torch\\nn\\modules\\container.py:141: UserWarning: Implicit dimension choice for softmax has been deprecated. Change the call to include dim=X as an argument.\n",
      "  input = module(input)\n"
     ]
    },
    {
     "name": "stdout",
     "output_type": "stream",
     "text": [
      "Step [0/3]\t loss_instance: 6.234106063842773\t loss_cluster: 1.5254465341567993\n",
      "\n",
      "Epoch [426/500]\t Loss: 7.754393259684245 \n",
      "\n",
      "Step [0/1]\t Computing features...\n",
      "Features shape (1714,)\n",
      "14\n",
      "Test NMI = 0.4255 ARI = 0.1813 F = 0.3017 ACC = 0.3151\n",
      "================================================================\n",
      "\n"
     ]
    },
    {
     "name": "stderr",
     "output_type": "stream",
     "text": [
      "C:\\Users\\Tom-G\\.conda\\envs\\torchenv\\lib\\site-packages\\torch\\nn\\modules\\container.py:141: UserWarning: Implicit dimension choice for softmax has been deprecated. Change the call to include dim=X as an argument.\n",
      "  input = module(input)\n"
     ]
    },
    {
     "name": "stdout",
     "output_type": "stream",
     "text": [
      "Step [0/3]\t loss_instance: 6.23515510559082\t loss_cluster: 1.5176799297332764\n",
      "\n",
      "Epoch [427/500]\t Loss: 7.751425266265869 \n",
      "\n",
      "Step [0/1]\t Computing features...\n",
      "Features shape (1714,)\n",
      "14\n",
      "Test NMI = 0.4235 ARI = 0.1803 F = 0.3007 ACC = 0.3139\n",
      "================================================================\n",
      "\n"
     ]
    },
    {
     "name": "stderr",
     "output_type": "stream",
     "text": [
      "C:\\Users\\Tom-G\\.conda\\envs\\torchenv\\lib\\site-packages\\torch\\nn\\modules\\container.py:141: UserWarning: Implicit dimension choice for softmax has been deprecated. Change the call to include dim=X as an argument.\n",
      "  input = module(input)\n"
     ]
    },
    {
     "name": "stdout",
     "output_type": "stream",
     "text": [
      "Step [0/3]\t loss_instance: 6.231079578399658\t loss_cluster: 1.517352819442749\n",
      "\n",
      "Epoch [428/500]\t Loss: 7.7519205411275225 \n",
      "\n",
      "Step [0/1]\t Computing features...\n",
      "Features shape (1714,)\n",
      "14\n",
      "Test NMI = 0.4236 ARI = 0.1809 F = 0.3013 ACC = 0.3139\n",
      "================================================================\n",
      "\n"
     ]
    },
    {
     "name": "stderr",
     "output_type": "stream",
     "text": [
      "C:\\Users\\Tom-G\\.conda\\envs\\torchenv\\lib\\site-packages\\torch\\nn\\modules\\container.py:141: UserWarning: Implicit dimension choice for softmax has been deprecated. Change the call to include dim=X as an argument.\n",
      "  input = module(input)\n"
     ]
    },
    {
     "name": "stdout",
     "output_type": "stream",
     "text": [
      "Step [0/3]\t loss_instance: 6.2304253578186035\t loss_cluster: 1.517011284828186\n",
      "\n",
      "Epoch [429/500]\t Loss: 7.7492977778116865 \n",
      "\n",
      "Step [0/1]\t Computing features...\n",
      "Features shape (1714,)\n",
      "14\n",
      "Test NMI = 0.4243 ARI = 0.1810 F = 0.3014 ACC = 0.3139\n",
      "================================================================\n",
      "\n"
     ]
    },
    {
     "name": "stderr",
     "output_type": "stream",
     "text": [
      "C:\\Users\\Tom-G\\.conda\\envs\\torchenv\\lib\\site-packages\\torch\\nn\\modules\\container.py:141: UserWarning: Implicit dimension choice for softmax has been deprecated. Change the call to include dim=X as an argument.\n",
      "  input = module(input)\n"
     ]
    },
    {
     "name": "stdout",
     "output_type": "stream",
     "text": [
      "Step [0/3]\t loss_instance: 6.228393077850342\t loss_cluster: 1.520616054534912\n",
      "\n",
      "Epoch [430/500]\t Loss: 7.746632893880208 \n",
      "\n",
      "Step [0/1]\t Computing features...\n",
      "Features shape (1714,)\n",
      "14\n",
      "Test NMI = 0.4246 ARI = 0.1818 F = 0.3022 ACC = 0.3145\n",
      "================================================================\n",
      "\n"
     ]
    },
    {
     "name": "stderr",
     "output_type": "stream",
     "text": [
      "C:\\Users\\Tom-G\\.conda\\envs\\torchenv\\lib\\site-packages\\torch\\nn\\modules\\container.py:141: UserWarning: Implicit dimension choice for softmax has been deprecated. Change the call to include dim=X as an argument.\n",
      "  input = module(input)\n"
     ]
    },
    {
     "name": "stdout",
     "output_type": "stream",
     "text": [
      "Step [0/3]\t loss_instance: 6.228944301605225\t loss_cluster: 1.51923406124115\n",
      "\n",
      "Epoch [431/500]\t Loss: 7.752384026845296 \n",
      "\n",
      "Step [0/1]\t Computing features...\n",
      "Features shape (1714,)\n",
      "14\n",
      "Test NMI = 0.4237 ARI = 0.1808 F = 0.3012 ACC = 0.3145\n",
      "================================================================\n",
      "\n"
     ]
    },
    {
     "name": "stderr",
     "output_type": "stream",
     "text": [
      "C:\\Users\\Tom-G\\.conda\\envs\\torchenv\\lib\\site-packages\\torch\\nn\\modules\\container.py:141: UserWarning: Implicit dimension choice for softmax has been deprecated. Change the call to include dim=X as an argument.\n",
      "  input = module(input)\n"
     ]
    },
    {
     "name": "stdout",
     "output_type": "stream",
     "text": [
      "Step [0/3]\t loss_instance: 6.2326788902282715\t loss_cluster: 1.5187355279922485\n",
      "\n",
      "Epoch [432/500]\t Loss: 7.749291102091472 \n",
      "\n",
      "Step [0/1]\t Computing features...\n",
      "Features shape (1714,)\n",
      "14\n",
      "Test NMI = 0.4251 ARI = 0.1817 F = 0.3021 ACC = 0.3156\n",
      "================================================================\n",
      "\n"
     ]
    },
    {
     "name": "stderr",
     "output_type": "stream",
     "text": [
      "C:\\Users\\Tom-G\\.conda\\envs\\torchenv\\lib\\site-packages\\torch\\nn\\modules\\container.py:141: UserWarning: Implicit dimension choice for softmax has been deprecated. Change the call to include dim=X as an argument.\n",
      "  input = module(input)\n"
     ]
    },
    {
     "name": "stdout",
     "output_type": "stream",
     "text": [
      "Step [0/3]\t loss_instance: 6.230264663696289\t loss_cluster: 1.5161439180374146\n",
      "\n",
      "Epoch [433/500]\t Loss: 7.74752680460612 \n",
      "\n",
      "Step [0/1]\t Computing features...\n",
      "Features shape (1714,)\n",
      "14\n",
      "Test NMI = 0.4238 ARI = 0.1805 F = 0.3009 ACC = 0.3156\n",
      "================================================================\n",
      "\n"
     ]
    },
    {
     "name": "stderr",
     "output_type": "stream",
     "text": [
      "C:\\Users\\Tom-G\\.conda\\envs\\torchenv\\lib\\site-packages\\torch\\nn\\modules\\container.py:141: UserWarning: Implicit dimension choice for softmax has been deprecated. Change the call to include dim=X as an argument.\n",
      "  input = module(input)\n"
     ]
    },
    {
     "name": "stdout",
     "output_type": "stream",
     "text": [
      "Step [0/3]\t loss_instance: 6.232516288757324\t loss_cluster: 1.5142074823379517\n",
      "\n",
      "Epoch [434/500]\t Loss: 7.747811635335286 \n",
      "\n",
      "Step [0/1]\t Computing features...\n",
      "Features shape (1714,)\n",
      "14\n",
      "Test NMI = 0.4238 ARI = 0.1810 F = 0.3014 ACC = 0.3156\n",
      "================================================================\n",
      "\n"
     ]
    },
    {
     "name": "stderr",
     "output_type": "stream",
     "text": [
      "C:\\Users\\Tom-G\\.conda\\envs\\torchenv\\lib\\site-packages\\torch\\nn\\modules\\container.py:141: UserWarning: Implicit dimension choice for softmax has been deprecated. Change the call to include dim=X as an argument.\n",
      "  input = module(input)\n"
     ]
    },
    {
     "name": "stdout",
     "output_type": "stream",
     "text": [
      "Step [0/3]\t loss_instance: 6.230491638183594\t loss_cluster: 1.514724612236023\n",
      "\n",
      "Epoch [435/500]\t Loss: 7.749987443288167 \n",
      "\n",
      "Step [0/1]\t Computing features...\n",
      "Features shape (1714,)\n",
      "14\n",
      "Test NMI = 0.4235 ARI = 0.1810 F = 0.3014 ACC = 0.3162\n",
      "================================================================\n",
      "\n"
     ]
    },
    {
     "name": "stderr",
     "output_type": "stream",
     "text": [
      "C:\\Users\\Tom-G\\.conda\\envs\\torchenv\\lib\\site-packages\\torch\\nn\\modules\\container.py:141: UserWarning: Implicit dimension choice for softmax has been deprecated. Change the call to include dim=X as an argument.\n",
      "  input = module(input)\n"
     ]
    },
    {
     "name": "stdout",
     "output_type": "stream",
     "text": [
      "Step [0/3]\t loss_instance: 6.228061676025391\t loss_cluster: 1.5202447175979614\n",
      "\n",
      "Epoch [436/500]\t Loss: 7.75177542368571 \n",
      "\n",
      "Step [0/1]\t Computing features...\n",
      "Features shape (1714,)\n",
      "14\n",
      "Test NMI = 0.4239 ARI = 0.1803 F = 0.3007 ACC = 0.3162\n",
      "================================================================\n",
      "\n"
     ]
    },
    {
     "name": "stderr",
     "output_type": "stream",
     "text": [
      "C:\\Users\\Tom-G\\.conda\\envs\\torchenv\\lib\\site-packages\\torch\\nn\\modules\\container.py:141: UserWarning: Implicit dimension choice for softmax has been deprecated. Change the call to include dim=X as an argument.\n",
      "  input = module(input)\n"
     ]
    },
    {
     "name": "stdout",
     "output_type": "stream",
     "text": [
      "Step [0/3]\t loss_instance: 6.232991695404053\t loss_cluster: 1.5160006284713745\n",
      "\n",
      "Epoch [437/500]\t Loss: 7.75505797068278 \n",
      "\n",
      "Step [0/1]\t Computing features...\n",
      "Features shape (1714,)\n",
      "14\n",
      "Test NMI = 0.4241 ARI = 0.1806 F = 0.3010 ACC = 0.3168\n",
      "================================================================\n",
      "\n"
     ]
    },
    {
     "name": "stderr",
     "output_type": "stream",
     "text": [
      "C:\\Users\\Tom-G\\.conda\\envs\\torchenv\\lib\\site-packages\\torch\\nn\\modules\\container.py:141: UserWarning: Implicit dimension choice for softmax has been deprecated. Change the call to include dim=X as an argument.\n",
      "  input = module(input)\n"
     ]
    },
    {
     "name": "stdout",
     "output_type": "stream",
     "text": [
      "Step [0/3]\t loss_instance: 6.229966640472412\t loss_cluster: 1.518558382987976\n",
      "\n",
      "Epoch [438/500]\t Loss: 7.7500332196553545 \n",
      "\n",
      "Step [0/1]\t Computing features...\n",
      "Features shape (1714,)\n",
      "14\n",
      "Test NMI = 0.4238 ARI = 0.1807 F = 0.3011 ACC = 0.3174\n",
      "================================================================\n",
      "\n"
     ]
    },
    {
     "name": "stderr",
     "output_type": "stream",
     "text": [
      "C:\\Users\\Tom-G\\.conda\\envs\\torchenv\\lib\\site-packages\\torch\\nn\\modules\\container.py:141: UserWarning: Implicit dimension choice for softmax has been deprecated. Change the call to include dim=X as an argument.\n",
      "  input = module(input)\n"
     ]
    },
    {
     "name": "stdout",
     "output_type": "stream",
     "text": [
      "Step [0/3]\t loss_instance: 6.230077743530273\t loss_cluster: 1.5202440023422241\n",
      "\n",
      "Epoch [439/500]\t Loss: 7.750116348266602 \n",
      "\n",
      "Step [0/1]\t Computing features...\n",
      "Features shape (1714,)\n",
      "14\n",
      "Test NMI = 0.4218 ARI = 0.1803 F = 0.3007 ACC = 0.3174\n",
      "================================================================\n",
      "\n"
     ]
    },
    {
     "name": "stderr",
     "output_type": "stream",
     "text": [
      "C:\\Users\\Tom-G\\.conda\\envs\\torchenv\\lib\\site-packages\\torch\\nn\\modules\\container.py:141: UserWarning: Implicit dimension choice for softmax has been deprecated. Change the call to include dim=X as an argument.\n",
      "  input = module(input)\n"
     ]
    },
    {
     "name": "stdout",
     "output_type": "stream",
     "text": [
      "Step [0/3]\t loss_instance: 6.229807376861572\t loss_cluster: 1.5154094696044922\n",
      "\n",
      "Epoch [440/500]\t Loss: 7.746488889058431 \n",
      "\n",
      "Step [0/1]\t Computing features...\n",
      "Features shape (1714,)\n",
      "14\n",
      "Test NMI = 0.4222 ARI = 0.1807 F = 0.3011 ACC = 0.3174\n",
      "================================================================\n",
      "\n"
     ]
    },
    {
     "name": "stderr",
     "output_type": "stream",
     "text": [
      "C:\\Users\\Tom-G\\.conda\\envs\\torchenv\\lib\\site-packages\\torch\\nn\\modules\\container.py:141: UserWarning: Implicit dimension choice for softmax has been deprecated. Change the call to include dim=X as an argument.\n",
      "  input = module(input)\n"
     ]
    },
    {
     "name": "stdout",
     "output_type": "stream",
     "text": [
      "Step [0/3]\t loss_instance: 6.229840278625488\t loss_cluster: 1.5194096565246582\n",
      "\n",
      "Epoch [441/500]\t Loss: 7.750765323638916 \n",
      "\n",
      "Step [0/1]\t Computing features...\n",
      "Features shape (1714,)\n",
      "14\n",
      "Test NMI = 0.4236 ARI = 0.1798 F = 0.3002 ACC = 0.3162\n",
      "================================================================\n",
      "\n"
     ]
    },
    {
     "name": "stderr",
     "output_type": "stream",
     "text": [
      "C:\\Users\\Tom-G\\.conda\\envs\\torchenv\\lib\\site-packages\\torch\\nn\\modules\\container.py:141: UserWarning: Implicit dimension choice for softmax has been deprecated. Change the call to include dim=X as an argument.\n",
      "  input = module(input)\n"
     ]
    },
    {
     "name": "stdout",
     "output_type": "stream",
     "text": [
      "Step [0/3]\t loss_instance: 6.233207702636719\t loss_cluster: 1.516112208366394\n",
      "\n",
      "Epoch [442/500]\t Loss: 7.7515285809834795 \n",
      "\n",
      "Step [0/1]\t Computing features...\n",
      "Features shape (1714,)\n",
      "14\n",
      "Test NMI = 0.4250 ARI = 0.1797 F = 0.3001 ACC = 0.3145\n",
      "================================================================\n",
      "\n"
     ]
    },
    {
     "name": "stderr",
     "output_type": "stream",
     "text": [
      "C:\\Users\\Tom-G\\.conda\\envs\\torchenv\\lib\\site-packages\\torch\\nn\\modules\\container.py:141: UserWarning: Implicit dimension choice for softmax has been deprecated. Change the call to include dim=X as an argument.\n",
      "  input = module(input)\n"
     ]
    },
    {
     "name": "stdout",
     "output_type": "stream",
     "text": [
      "Step [0/3]\t loss_instance: 6.2295732498168945\t loss_cluster: 1.518233060836792\n",
      "\n",
      "Epoch [443/500]\t Loss: 7.750775655110677 \n",
      "\n",
      "Step [0/1]\t Computing features...\n",
      "Features shape (1714,)\n",
      "14\n",
      "Test NMI = 0.4237 ARI = 0.1805 F = 0.3009 ACC = 0.3139\n",
      "================================================================\n",
      "\n"
     ]
    },
    {
     "name": "stderr",
     "output_type": "stream",
     "text": [
      "C:\\Users\\Tom-G\\.conda\\envs\\torchenv\\lib\\site-packages\\torch\\nn\\modules\\container.py:141: UserWarning: Implicit dimension choice for softmax has been deprecated. Change the call to include dim=X as an argument.\n",
      "  input = module(input)\n"
     ]
    },
    {
     "name": "stdout",
     "output_type": "stream",
     "text": [
      "Step [0/3]\t loss_instance: 6.233711242675781\t loss_cluster: 1.5261732339859009\n",
      "\n",
      "Epoch [444/500]\t Loss: 7.755437056223552 \n",
      "\n",
      "Step [0/1]\t Computing features...\n",
      "Features shape (1714,)\n",
      "14\n",
      "Test NMI = 0.4255 ARI = 0.1816 F = 0.3020 ACC = 0.3162\n",
      "================================================================\n",
      "\n"
     ]
    },
    {
     "name": "stderr",
     "output_type": "stream",
     "text": [
      "C:\\Users\\Tom-G\\.conda\\envs\\torchenv\\lib\\site-packages\\torch\\nn\\modules\\container.py:141: UserWarning: Implicit dimension choice for softmax has been deprecated. Change the call to include dim=X as an argument.\n",
      "  input = module(input)\n"
     ]
    },
    {
     "name": "stdout",
     "output_type": "stream",
     "text": [
      "Step [0/3]\t loss_instance: 6.231600761413574\t loss_cluster: 1.5190011262893677\n",
      "\n",
      "Epoch [445/500]\t Loss: 7.749250094095866 \n",
      "\n",
      "Step [0/1]\t Computing features...\n",
      "Features shape (1714,)\n",
      "14\n",
      "Test NMI = 0.4256 ARI = 0.1808 F = 0.3012 ACC = 0.3156\n",
      "================================================================\n",
      "\n"
     ]
    },
    {
     "name": "stderr",
     "output_type": "stream",
     "text": [
      "C:\\Users\\Tom-G\\.conda\\envs\\torchenv\\lib\\site-packages\\torch\\nn\\modules\\container.py:141: UserWarning: Implicit dimension choice for softmax has been deprecated. Change the call to include dim=X as an argument.\n",
      "  input = module(input)\n"
     ]
    },
    {
     "name": "stdout",
     "output_type": "stream",
     "text": [
      "Step [0/3]\t loss_instance: 6.2292609214782715\t loss_cluster: 1.517508625984192\n",
      "\n",
      "Epoch [446/500]\t Loss: 7.750683625539144 \n",
      "\n",
      "Step [0/1]\t Computing features...\n",
      "Features shape (1714,)\n",
      "14\n",
      "Test NMI = 0.4235 ARI = 0.1797 F = 0.3001 ACC = 0.3121\n",
      "================================================================\n",
      "\n"
     ]
    },
    {
     "name": "stderr",
     "output_type": "stream",
     "text": [
      "C:\\Users\\Tom-G\\.conda\\envs\\torchenv\\lib\\site-packages\\torch\\nn\\modules\\container.py:141: UserWarning: Implicit dimension choice for softmax has been deprecated. Change the call to include dim=X as an argument.\n",
      "  input = module(input)\n"
     ]
    },
    {
     "name": "stdout",
     "output_type": "stream",
     "text": [
      "Step [0/3]\t loss_instance: 6.231555461883545\t loss_cluster: 1.5192416906356812\n",
      "\n",
      "Epoch [447/500]\t Loss: 7.750402291615804 \n",
      "\n",
      "Step [0/1]\t Computing features...\n",
      "Features shape (1714,)\n",
      "14\n",
      "Test NMI = 0.4239 ARI = 0.1793 F = 0.2997 ACC = 0.3121\n",
      "================================================================\n",
      "\n"
     ]
    },
    {
     "name": "stderr",
     "output_type": "stream",
     "text": [
      "C:\\Users\\Tom-G\\.conda\\envs\\torchenv\\lib\\site-packages\\torch\\nn\\modules\\container.py:141: UserWarning: Implicit dimension choice for softmax has been deprecated. Change the call to include dim=X as an argument.\n",
      "  input = module(input)\n"
     ]
    },
    {
     "name": "stdout",
     "output_type": "stream",
     "text": [
      "Step [0/3]\t loss_instance: 6.237021446228027\t loss_cluster: 1.518341064453125\n",
      "\n",
      "Epoch [448/500]\t Loss: 7.75611686706543 \n",
      "\n",
      "Step [0/1]\t Computing features...\n",
      "Features shape (1714,)\n",
      "14\n",
      "Test NMI = 0.4242 ARI = 0.1803 F = 0.3007 ACC = 0.3139\n",
      "================================================================\n",
      "\n"
     ]
    },
    {
     "name": "stderr",
     "output_type": "stream",
     "text": [
      "C:\\Users\\Tom-G\\.conda\\envs\\torchenv\\lib\\site-packages\\torch\\nn\\modules\\container.py:141: UserWarning: Implicit dimension choice for softmax has been deprecated. Change the call to include dim=X as an argument.\n",
      "  input = module(input)\n"
     ]
    },
    {
     "name": "stdout",
     "output_type": "stream",
     "text": [
      "Step [0/3]\t loss_instance: 6.234701633453369\t loss_cluster: 1.519694209098816\n",
      "\n",
      "Epoch [449/500]\t Loss: 7.752063910166423 \n",
      "\n",
      "Step [0/1]\t Computing features...\n",
      "Features shape (1714,)\n",
      "14\n",
      "Test NMI = 0.4231 ARI = 0.1800 F = 0.3004 ACC = 0.3127\n",
      "================================================================\n",
      "\n"
     ]
    },
    {
     "name": "stderr",
     "output_type": "stream",
     "text": [
      "C:\\Users\\Tom-G\\.conda\\envs\\torchenv\\lib\\site-packages\\torch\\nn\\modules\\container.py:141: UserWarning: Implicit dimension choice for softmax has been deprecated. Change the call to include dim=X as an argument.\n",
      "  input = module(input)\n"
     ]
    },
    {
     "name": "stdout",
     "output_type": "stream",
     "text": [
      "Step [0/3]\t loss_instance: 6.232725143432617\t loss_cluster: 1.521571159362793\n",
      "\n",
      "Epoch [450/500]\t Loss: 7.754188060760498 \n",
      "\n",
      "Step [0/1]\t Computing features...\n",
      "Features shape (1714,)\n",
      "14\n",
      "Test NMI = 0.4228 ARI = 0.1795 F = 0.2998 ACC = 0.3133\n",
      "================================================================\n",
      "\n"
     ]
    },
    {
     "name": "stderr",
     "output_type": "stream",
     "text": [
      "C:\\Users\\Tom-G\\.conda\\envs\\torchenv\\lib\\site-packages\\torch\\nn\\modules\\container.py:141: UserWarning: Implicit dimension choice for softmax has been deprecated. Change the call to include dim=X as an argument.\n",
      "  input = module(input)\n"
     ]
    },
    {
     "name": "stdout",
     "output_type": "stream",
     "text": [
      "Step [0/3]\t loss_instance: 6.235051155090332\t loss_cluster: 1.5228660106658936\n",
      "\n",
      "Epoch [451/500]\t Loss: 7.753400961558024 \n",
      "\n",
      "Step [0/1]\t Computing features...\n",
      "Features shape (1714,)\n",
      "14\n",
      "Test NMI = 0.4213 ARI = 0.1784 F = 0.2988 ACC = 0.3127\n",
      "================================================================\n",
      "\n"
     ]
    },
    {
     "name": "stderr",
     "output_type": "stream",
     "text": [
      "C:\\Users\\Tom-G\\.conda\\envs\\torchenv\\lib\\site-packages\\torch\\nn\\modules\\container.py:141: UserWarning: Implicit dimension choice for softmax has been deprecated. Change the call to include dim=X as an argument.\n",
      "  input = module(input)\n"
     ]
    },
    {
     "name": "stdout",
     "output_type": "stream",
     "text": [
      "Step [0/3]\t loss_instance: 6.231537342071533\t loss_cluster: 1.5185145139694214\n",
      "\n",
      "Epoch [452/500]\t Loss: 7.752318700154622 \n",
      "\n",
      "Step [0/1]\t Computing features...\n",
      "Features shape (1714,)\n",
      "14\n",
      "Test NMI = 0.4235 ARI = 0.1810 F = 0.3014 ACC = 0.3151\n",
      "================================================================\n",
      "\n"
     ]
    },
    {
     "name": "stderr",
     "output_type": "stream",
     "text": [
      "C:\\Users\\Tom-G\\.conda\\envs\\torchenv\\lib\\site-packages\\torch\\nn\\modules\\container.py:141: UserWarning: Implicit dimension choice for softmax has been deprecated. Change the call to include dim=X as an argument.\n",
      "  input = module(input)\n"
     ]
    },
    {
     "name": "stdout",
     "output_type": "stream",
     "text": [
      "Step [0/3]\t loss_instance: 6.232874393463135\t loss_cluster: 1.516074776649475\n",
      "\n",
      "Epoch [453/500]\t Loss: 7.7498710950215655 \n",
      "\n",
      "Step [0/1]\t Computing features...\n",
      "Features shape (1714,)\n",
      "14\n",
      "Test NMI = 0.4242 ARI = 0.1817 F = 0.3021 ACC = 0.3151\n",
      "================================================================\n",
      "\n"
     ]
    },
    {
     "name": "stderr",
     "output_type": "stream",
     "text": [
      "C:\\Users\\Tom-G\\.conda\\envs\\torchenv\\lib\\site-packages\\torch\\nn\\modules\\container.py:141: UserWarning: Implicit dimension choice for softmax has been deprecated. Change the call to include dim=X as an argument.\n",
      "  input = module(input)\n"
     ]
    },
    {
     "name": "stdout",
     "output_type": "stream",
     "text": [
      "Step [0/3]\t loss_instance: 6.228587627410889\t loss_cluster: 1.517022967338562\n",
      "\n",
      "Epoch [454/500]\t Loss: 7.747307777404785 \n",
      "\n",
      "Step [0/1]\t Computing features...\n",
      "Features shape (1714,)\n",
      "14\n",
      "Test NMI = 0.4234 ARI = 0.1808 F = 0.3012 ACC = 0.3151\n",
      "================================================================\n",
      "\n"
     ]
    },
    {
     "name": "stderr",
     "output_type": "stream",
     "text": [
      "C:\\Users\\Tom-G\\.conda\\envs\\torchenv\\lib\\site-packages\\torch\\nn\\modules\\container.py:141: UserWarning: Implicit dimension choice for softmax has been deprecated. Change the call to include dim=X as an argument.\n",
      "  input = module(input)\n"
     ]
    },
    {
     "name": "stdout",
     "output_type": "stream",
     "text": [
      "Step [0/3]\t loss_instance: 6.229509353637695\t loss_cluster: 1.517885446548462\n",
      "\n",
      "Epoch [455/500]\t Loss: 7.747735500335693 \n",
      "\n",
      "Step [0/1]\t Computing features...\n",
      "Features shape (1714,)\n",
      "14\n",
      "Test NMI = 0.4243 ARI = 0.1805 F = 0.3009 ACC = 0.3139\n",
      "================================================================\n",
      "\n"
     ]
    },
    {
     "name": "stderr",
     "output_type": "stream",
     "text": [
      "C:\\Users\\Tom-G\\.conda\\envs\\torchenv\\lib\\site-packages\\torch\\nn\\modules\\container.py:141: UserWarning: Implicit dimension choice for softmax has been deprecated. Change the call to include dim=X as an argument.\n",
      "  input = module(input)\n"
     ]
    },
    {
     "name": "stdout",
     "output_type": "stream",
     "text": [
      "Step [0/3]\t loss_instance: 6.231751918792725\t loss_cluster: 1.5153563022613525\n",
      "\n",
      "Epoch [456/500]\t Loss: 7.746362050374349 \n",
      "\n",
      "Step [0/1]\t Computing features...\n",
      "Features shape (1714,)\n",
      "14\n",
      "Test NMI = 0.4246 ARI = 0.1798 F = 0.3002 ACC = 0.3145\n",
      "================================================================\n",
      "\n"
     ]
    },
    {
     "name": "stderr",
     "output_type": "stream",
     "text": [
      "C:\\Users\\Tom-G\\.conda\\envs\\torchenv\\lib\\site-packages\\torch\\nn\\modules\\container.py:141: UserWarning: Implicit dimension choice for softmax has been deprecated. Change the call to include dim=X as an argument.\n",
      "  input = module(input)\n"
     ]
    },
    {
     "name": "stdout",
     "output_type": "stream",
     "text": [
      "Step [0/3]\t loss_instance: 6.2265238761901855\t loss_cluster: 1.5212371349334717\n",
      "\n",
      "Epoch [457/500]\t Loss: 7.748641173044841 \n",
      "\n",
      "Step [0/1]\t Computing features...\n",
      "Features shape (1714,)\n",
      "14\n",
      "Test NMI = 0.4250 ARI = 0.1801 F = 0.3004 ACC = 0.3151\n",
      "================================================================\n",
      "\n"
     ]
    },
    {
     "name": "stderr",
     "output_type": "stream",
     "text": [
      "C:\\Users\\Tom-G\\.conda\\envs\\torchenv\\lib\\site-packages\\torch\\nn\\modules\\container.py:141: UserWarning: Implicit dimension choice for softmax has been deprecated. Change the call to include dim=X as an argument.\n",
      "  input = module(input)\n"
     ]
    },
    {
     "name": "stdout",
     "output_type": "stream",
     "text": [
      "Step [0/3]\t loss_instance: 6.228731155395508\t loss_cluster: 1.5225918292999268\n",
      "\n",
      "Epoch [458/500]\t Loss: 7.747051397959392 \n",
      "\n",
      "Step [0/1]\t Computing features...\n",
      "Features shape (1714,)\n",
      "14\n",
      "Test NMI = 0.4249 ARI = 0.1802 F = 0.3006 ACC = 0.3145\n",
      "================================================================\n",
      "\n"
     ]
    },
    {
     "name": "stderr",
     "output_type": "stream",
     "text": [
      "C:\\Users\\Tom-G\\.conda\\envs\\torchenv\\lib\\site-packages\\torch\\nn\\modules\\container.py:141: UserWarning: Implicit dimension choice for softmax has been deprecated. Change the call to include dim=X as an argument.\n",
      "  input = module(input)\n"
     ]
    },
    {
     "name": "stdout",
     "output_type": "stream",
     "text": [
      "Step [0/3]\t loss_instance: 6.229257583618164\t loss_cluster: 1.515613317489624\n",
      "\n",
      "Epoch [459/500]\t Loss: 7.746211846669515 \n",
      "\n",
      "Step [0/1]\t Computing features...\n",
      "Features shape (1714,)\n",
      "14\n",
      "Test NMI = 0.4240 ARI = 0.1795 F = 0.2999 ACC = 0.3133\n",
      "================================================================\n",
      "\n"
     ]
    },
    {
     "name": "stderr",
     "output_type": "stream",
     "text": [
      "C:\\Users\\Tom-G\\.conda\\envs\\torchenv\\lib\\site-packages\\torch\\nn\\modules\\container.py:141: UserWarning: Implicit dimension choice for softmax has been deprecated. Change the call to include dim=X as an argument.\n",
      "  input = module(input)\n"
     ]
    },
    {
     "name": "stdout",
     "output_type": "stream",
     "text": [
      "Step [0/3]\t loss_instance: 6.228089332580566\t loss_cluster: 1.5160902738571167\n",
      "\n",
      "Epoch [460/500]\t Loss: 7.743801275889079 \n",
      "\n",
      "Step [0/1]\t Computing features...\n",
      "Features shape (1714,)\n",
      "14\n",
      "Test NMI = 0.4240 ARI = 0.1795 F = 0.2998 ACC = 0.3133\n",
      "================================================================\n",
      "\n"
     ]
    },
    {
     "name": "stderr",
     "output_type": "stream",
     "text": [
      "C:\\Users\\Tom-G\\.conda\\envs\\torchenv\\lib\\site-packages\\torch\\nn\\modules\\container.py:141: UserWarning: Implicit dimension choice for softmax has been deprecated. Change the call to include dim=X as an argument.\n",
      "  input = module(input)\n"
     ]
    },
    {
     "name": "stdout",
     "output_type": "stream",
     "text": [
      "Step [0/3]\t loss_instance: 6.225419044494629\t loss_cluster: 1.5143154859542847\n",
      "\n",
      "Epoch [461/500]\t Loss: 7.7410569190979 \n",
      "\n",
      "Step [0/1]\t Computing features...\n",
      "Features shape (1714,)\n",
      "14\n",
      "Test NMI = 0.4241 ARI = 0.1797 F = 0.3001 ACC = 0.3139\n",
      "================================================================\n",
      "\n"
     ]
    },
    {
     "name": "stderr",
     "output_type": "stream",
     "text": [
      "C:\\Users\\Tom-G\\.conda\\envs\\torchenv\\lib\\site-packages\\torch\\nn\\modules\\container.py:141: UserWarning: Implicit dimension choice for softmax has been deprecated. Change the call to include dim=X as an argument.\n",
      "  input = module(input)\n"
     ]
    },
    {
     "name": "stdout",
     "output_type": "stream",
     "text": [
      "Step [0/3]\t loss_instance: 6.227669715881348\t loss_cluster: 1.5208667516708374\n",
      "\n",
      "Epoch [462/500]\t Loss: 7.746278444925944 \n",
      "\n",
      "Step [0/1]\t Computing features...\n",
      "Features shape (1714,)\n",
      "14\n",
      "Test NMI = 0.4239 ARI = 0.1807 F = 0.3011 ACC = 0.3156\n",
      "================================================================\n",
      "\n"
     ]
    },
    {
     "name": "stderr",
     "output_type": "stream",
     "text": [
      "C:\\Users\\Tom-G\\.conda\\envs\\torchenv\\lib\\site-packages\\torch\\nn\\modules\\container.py:141: UserWarning: Implicit dimension choice for softmax has been deprecated. Change the call to include dim=X as an argument.\n",
      "  input = module(input)\n"
     ]
    },
    {
     "name": "stdout",
     "output_type": "stream",
     "text": [
      "Step [0/3]\t loss_instance: 6.22724723815918\t loss_cluster: 1.5226510763168335\n",
      "\n",
      "Epoch [463/500]\t Loss: 7.747868061065674 \n",
      "\n",
      "Step [0/1]\t Computing features...\n",
      "Features shape (1714,)\n",
      "14\n",
      "Test NMI = 0.4245 ARI = 0.1812 F = 0.3016 ACC = 0.3162\n",
      "================================================================\n",
      "\n"
     ]
    },
    {
     "name": "stderr",
     "output_type": "stream",
     "text": [
      "C:\\Users\\Tom-G\\.conda\\envs\\torchenv\\lib\\site-packages\\torch\\nn\\modules\\container.py:141: UserWarning: Implicit dimension choice for softmax has been deprecated. Change the call to include dim=X as an argument.\n",
      "  input = module(input)\n"
     ]
    },
    {
     "name": "stdout",
     "output_type": "stream",
     "text": [
      "Step [0/3]\t loss_instance: 6.225660800933838\t loss_cluster: 1.5137864351272583\n",
      "\n",
      "Epoch [464/500]\t Loss: 7.744683901468913 \n",
      "\n",
      "Step [0/1]\t Computing features...\n",
      "Features shape (1714,)\n",
      "14\n",
      "Test NMI = 0.4237 ARI = 0.1801 F = 0.3005 ACC = 0.3139\n",
      "================================================================\n",
      "\n"
     ]
    },
    {
     "name": "stderr",
     "output_type": "stream",
     "text": [
      "C:\\Users\\Tom-G\\.conda\\envs\\torchenv\\lib\\site-packages\\torch\\nn\\modules\\container.py:141: UserWarning: Implicit dimension choice for softmax has been deprecated. Change the call to include dim=X as an argument.\n",
      "  input = module(input)\n"
     ]
    },
    {
     "name": "stdout",
     "output_type": "stream",
     "text": [
      "Step [0/3]\t loss_instance: 6.225440502166748\t loss_cluster: 1.5149815082550049\n",
      "\n",
      "Epoch [465/500]\t Loss: 7.743390719095866 \n",
      "\n",
      "Step [0/1]\t Computing features...\n",
      "Features shape (1714,)\n",
      "14\n",
      "Test NMI = 0.4240 ARI = 0.1810 F = 0.3014 ACC = 0.3151\n",
      "================================================================\n",
      "\n"
     ]
    },
    {
     "name": "stderr",
     "output_type": "stream",
     "text": [
      "C:\\Users\\Tom-G\\.conda\\envs\\torchenv\\lib\\site-packages\\torch\\nn\\modules\\container.py:141: UserWarning: Implicit dimension choice for softmax has been deprecated. Change the call to include dim=X as an argument.\n",
      "  input = module(input)\n"
     ]
    },
    {
     "name": "stdout",
     "output_type": "stream",
     "text": [
      "Step [0/3]\t loss_instance: 6.226273536682129\t loss_cluster: 1.517511010169983\n",
      "\n",
      "Epoch [466/500]\t Loss: 7.7458726565043134 \n",
      "\n",
      "Step [0/1]\t Computing features...\n",
      "Features shape (1714,)\n",
      "14\n",
      "Test NMI = 0.4241 ARI = 0.1813 F = 0.3017 ACC = 0.3156\n",
      "================================================================\n",
      "\n"
     ]
    },
    {
     "name": "stderr",
     "output_type": "stream",
     "text": [
      "C:\\Users\\Tom-G\\.conda\\envs\\torchenv\\lib\\site-packages\\torch\\nn\\modules\\container.py:141: UserWarning: Implicit dimension choice for softmax has been deprecated. Change the call to include dim=X as an argument.\n",
      "  input = module(input)\n"
     ]
    },
    {
     "name": "stdout",
     "output_type": "stream",
     "text": [
      "Step [0/3]\t loss_instance: 6.229091644287109\t loss_cluster: 1.5270057916641235\n",
      "\n",
      "Epoch [467/500]\t Loss: 7.751827398935954 \n",
      "\n",
      "Step [0/1]\t Computing features...\n",
      "Features shape (1714,)\n",
      "14\n",
      "Test NMI = 0.4234 ARI = 0.1802 F = 0.3005 ACC = 0.3151\n",
      "================================================================\n",
      "\n"
     ]
    },
    {
     "name": "stderr",
     "output_type": "stream",
     "text": [
      "C:\\Users\\Tom-G\\.conda\\envs\\torchenv\\lib\\site-packages\\torch\\nn\\modules\\container.py:141: UserWarning: Implicit dimension choice for softmax has been deprecated. Change the call to include dim=X as an argument.\n",
      "  input = module(input)\n"
     ]
    },
    {
     "name": "stdout",
     "output_type": "stream",
     "text": [
      "Step [0/3]\t loss_instance: 6.231716156005859\t loss_cluster: 1.516781210899353\n",
      "\n",
      "Epoch [468/500]\t Loss: 7.7522891362508135 \n",
      "\n",
      "Step [0/1]\t Computing features...\n",
      "Features shape (1714,)\n",
      "14\n",
      "Test NMI = 0.4233 ARI = 0.1801 F = 0.3004 ACC = 0.3133\n",
      "================================================================\n",
      "\n"
     ]
    },
    {
     "name": "stderr",
     "output_type": "stream",
     "text": [
      "C:\\Users\\Tom-G\\.conda\\envs\\torchenv\\lib\\site-packages\\torch\\nn\\modules\\container.py:141: UserWarning: Implicit dimension choice for softmax has been deprecated. Change the call to include dim=X as an argument.\n",
      "  input = module(input)\n"
     ]
    },
    {
     "name": "stdout",
     "output_type": "stream",
     "text": [
      "Step [0/3]\t loss_instance: 6.2324652671813965\t loss_cluster: 1.5138131380081177\n",
      "\n",
      "Epoch [469/500]\t Loss: 7.74998664855957 \n",
      "\n",
      "Step [0/1]\t Computing features...\n",
      "Features shape (1714,)\n",
      "14\n",
      "Test NMI = 0.4229 ARI = 0.1791 F = 0.2995 ACC = 0.3145\n",
      "================================================================\n",
      "\n"
     ]
    },
    {
     "name": "stderr",
     "output_type": "stream",
     "text": [
      "C:\\Users\\Tom-G\\.conda\\envs\\torchenv\\lib\\site-packages\\torch\\nn\\modules\\container.py:141: UserWarning: Implicit dimension choice for softmax has been deprecated. Change the call to include dim=X as an argument.\n",
      "  input = module(input)\n"
     ]
    },
    {
     "name": "stdout",
     "output_type": "stream",
     "text": [
      "Step [0/3]\t loss_instance: 6.2326436042785645\t loss_cluster: 1.5178277492523193\n",
      "\n",
      "Epoch [470/500]\t Loss: 7.755196412404378 \n",
      "\n",
      "Step [0/1]\t Computing features...\n",
      "Features shape (1714,)\n",
      "14\n",
      "Test NMI = 0.4249 ARI = 0.1802 F = 0.3006 ACC = 0.3151\n",
      "================================================================\n",
      "\n"
     ]
    },
    {
     "name": "stderr",
     "output_type": "stream",
     "text": [
      "C:\\Users\\Tom-G\\.conda\\envs\\torchenv\\lib\\site-packages\\torch\\nn\\modules\\container.py:141: UserWarning: Implicit dimension choice for softmax has been deprecated. Change the call to include dim=X as an argument.\n",
      "  input = module(input)\n"
     ]
    },
    {
     "name": "stdout",
     "output_type": "stream",
     "text": [
      "Step [0/3]\t loss_instance: 6.233450412750244\t loss_cluster: 1.518702745437622\n",
      "\n",
      "Epoch [471/500]\t Loss: 7.748960653940837 \n",
      "\n",
      "Step [0/1]\t Computing features...\n",
      "Features shape (1714,)\n",
      "14\n",
      "Test NMI = 0.4235 ARI = 0.1799 F = 0.3003 ACC = 0.3139\n",
      "================================================================\n",
      "\n"
     ]
    },
    {
     "name": "stderr",
     "output_type": "stream",
     "text": [
      "C:\\Users\\Tom-G\\.conda\\envs\\torchenv\\lib\\site-packages\\torch\\nn\\modules\\container.py:141: UserWarning: Implicit dimension choice for softmax has been deprecated. Change the call to include dim=X as an argument.\n",
      "  input = module(input)\n"
     ]
    },
    {
     "name": "stdout",
     "output_type": "stream",
     "text": [
      "Step [0/3]\t loss_instance: 6.231741428375244\t loss_cluster: 1.5189675092697144\n",
      "\n",
      "Epoch [472/500]\t Loss: 7.750053405761719 \n",
      "\n",
      "Step [0/1]\t Computing features...\n",
      "Features shape (1714,)\n",
      "14\n",
      "Test NMI = 0.4229 ARI = 0.1796 F = 0.3000 ACC = 0.3133\n",
      "================================================================\n",
      "\n"
     ]
    },
    {
     "name": "stderr",
     "output_type": "stream",
     "text": [
      "C:\\Users\\Tom-G\\.conda\\envs\\torchenv\\lib\\site-packages\\torch\\nn\\modules\\container.py:141: UserWarning: Implicit dimension choice for softmax has been deprecated. Change the call to include dim=X as an argument.\n",
      "  input = module(input)\n"
     ]
    },
    {
     "name": "stdout",
     "output_type": "stream",
     "text": [
      "Step [0/3]\t loss_instance: 6.234613418579102\t loss_cluster: 1.515602707862854\n",
      "\n",
      "Epoch [473/500]\t Loss: 7.749406019846599 \n",
      "\n",
      "Step [0/1]\t Computing features...\n",
      "Features shape (1714,)\n",
      "14\n",
      "Test NMI = 0.4226 ARI = 0.1794 F = 0.2998 ACC = 0.3127\n",
      "================================================================\n",
      "\n"
     ]
    },
    {
     "name": "stderr",
     "output_type": "stream",
     "text": [
      "C:\\Users\\Tom-G\\.conda\\envs\\torchenv\\lib\\site-packages\\torch\\nn\\modules\\container.py:141: UserWarning: Implicit dimension choice for softmax has been deprecated. Change the call to include dim=X as an argument.\n",
      "  input = module(input)\n"
     ]
    },
    {
     "name": "stdout",
     "output_type": "stream",
     "text": [
      "Step [0/3]\t loss_instance: 6.235042095184326\t loss_cluster: 1.5194791555404663\n",
      "\n",
      "Epoch [474/500]\t Loss: 7.749233563741048 \n",
      "\n",
      "Step [0/1]\t Computing features...\n",
      "Features shape (1714,)\n",
      "14\n",
      "Test NMI = 0.4223 ARI = 0.1790 F = 0.2993 ACC = 0.3121\n",
      "================================================================\n",
      "\n"
     ]
    },
    {
     "name": "stderr",
     "output_type": "stream",
     "text": [
      "C:\\Users\\Tom-G\\.conda\\envs\\torchenv\\lib\\site-packages\\torch\\nn\\modules\\container.py:141: UserWarning: Implicit dimension choice for softmax has been deprecated. Change the call to include dim=X as an argument.\n",
      "  input = module(input)\n"
     ]
    },
    {
     "name": "stdout",
     "output_type": "stream",
     "text": [
      "Step [0/3]\t loss_instance: 6.226290225982666\t loss_cluster: 1.517586588859558\n",
      "\n",
      "Epoch [475/500]\t Loss: 7.747699896494548 \n",
      "\n",
      "Step [0/1]\t Computing features...\n",
      "Features shape (1714,)\n",
      "14\n",
      "Test NMI = 0.4239 ARI = 0.1807 F = 0.3011 ACC = 0.3145\n",
      "================================================================\n",
      "\n"
     ]
    },
    {
     "name": "stderr",
     "output_type": "stream",
     "text": [
      "C:\\Users\\Tom-G\\.conda\\envs\\torchenv\\lib\\site-packages\\torch\\nn\\modules\\container.py:141: UserWarning: Implicit dimension choice for softmax has been deprecated. Change the call to include dim=X as an argument.\n",
      "  input = module(input)\n"
     ]
    },
    {
     "name": "stdout",
     "output_type": "stream",
     "text": [
      "Step [0/3]\t loss_instance: 6.234638214111328\t loss_cluster: 1.5189430713653564\n",
      "\n",
      "Epoch [476/500]\t Loss: 7.747591972351074 \n",
      "\n",
      "Step [0/1]\t Computing features...\n",
      "Features shape (1714,)\n",
      "14\n",
      "Test NMI = 0.4237 ARI = 0.1806 F = 0.3009 ACC = 0.3145\n",
      "================================================================\n",
      "\n"
     ]
    },
    {
     "name": "stderr",
     "output_type": "stream",
     "text": [
      "C:\\Users\\Tom-G\\.conda\\envs\\torchenv\\lib\\site-packages\\torch\\nn\\modules\\container.py:141: UserWarning: Implicit dimension choice for softmax has been deprecated. Change the call to include dim=X as an argument.\n",
      "  input = module(input)\n"
     ]
    },
    {
     "name": "stdout",
     "output_type": "stream",
     "text": [
      "Step [0/3]\t loss_instance: 6.230505466461182\t loss_cluster: 1.5155842304229736\n",
      "\n",
      "Epoch [477/500]\t Loss: 7.7492249806722 \n",
      "\n",
      "Step [0/1]\t Computing features...\n",
      "Features shape (1714,)\n",
      "14\n",
      "Test NMI = 0.4239 ARI = 0.1806 F = 0.3010 ACC = 0.3145\n",
      "================================================================\n",
      "\n"
     ]
    },
    {
     "name": "stderr",
     "output_type": "stream",
     "text": [
      "C:\\Users\\Tom-G\\.conda\\envs\\torchenv\\lib\\site-packages\\torch\\nn\\modules\\container.py:141: UserWarning: Implicit dimension choice for softmax has been deprecated. Change the call to include dim=X as an argument.\n",
      "  input = module(input)\n"
     ]
    },
    {
     "name": "stdout",
     "output_type": "stream",
     "text": [
      "Step [0/3]\t loss_instance: 6.232593059539795\t loss_cluster: 1.5191962718963623\n",
      "\n",
      "Epoch [478/500]\t Loss: 7.749190012613933 \n",
      "\n",
      "Step [0/1]\t Computing features...\n",
      "Features shape (1714,)\n",
      "14\n",
      "Test NMI = 0.4244 ARI = 0.1812 F = 0.3016 ACC = 0.3174\n",
      "================================================================\n",
      "\n"
     ]
    },
    {
     "name": "stderr",
     "output_type": "stream",
     "text": [
      "C:\\Users\\Tom-G\\.conda\\envs\\torchenv\\lib\\site-packages\\torch\\nn\\modules\\container.py:141: UserWarning: Implicit dimension choice for softmax has been deprecated. Change the call to include dim=X as an argument.\n",
      "  input = module(input)\n"
     ]
    },
    {
     "name": "stdout",
     "output_type": "stream",
     "text": [
      "Step [0/3]\t loss_instance: 6.231965065002441\t loss_cluster: 1.5174349546432495\n",
      "\n",
      "Epoch [479/500]\t Loss: 7.749194463094075 \n",
      "\n",
      "Step [0/1]\t Computing features...\n",
      "Features shape (1714,)\n",
      "14\n",
      "Test NMI = 0.4238 ARI = 0.1808 F = 0.3012 ACC = 0.3151\n",
      "================================================================\n",
      "\n"
     ]
    },
    {
     "name": "stderr",
     "output_type": "stream",
     "text": [
      "C:\\Users\\Tom-G\\.conda\\envs\\torchenv\\lib\\site-packages\\torch\\nn\\modules\\container.py:141: UserWarning: Implicit dimension choice for softmax has been deprecated. Change the call to include dim=X as an argument.\n",
      "  input = module(input)\n"
     ]
    },
    {
     "name": "stdout",
     "output_type": "stream",
     "text": [
      "Step [0/3]\t loss_instance: 6.230958938598633\t loss_cluster: 1.515012502670288\n",
      "\n",
      "Epoch [480/500]\t Loss: 7.744608402252197 \n",
      "\n",
      "Step [0/1]\t Computing features...\n",
      "Features shape (1714,)\n",
      "14\n",
      "Test NMI = 0.4235 ARI = 0.1803 F = 0.3007 ACC = 0.3162\n",
      "================================================================\n",
      "\n"
     ]
    },
    {
     "name": "stderr",
     "output_type": "stream",
     "text": [
      "C:\\Users\\Tom-G\\.conda\\envs\\torchenv\\lib\\site-packages\\torch\\nn\\modules\\container.py:141: UserWarning: Implicit dimension choice for softmax has been deprecated. Change the call to include dim=X as an argument.\n",
      "  input = module(input)\n"
     ]
    },
    {
     "name": "stdout",
     "output_type": "stream",
     "text": [
      "Step [0/3]\t loss_instance: 6.227385520935059\t loss_cluster: 1.5156620740890503\n",
      "\n",
      "Epoch [481/500]\t Loss: 7.745130697886149 \n",
      "\n",
      "Step [0/1]\t Computing features...\n",
      "Features shape (1714,)\n",
      "14\n",
      "Test NMI = 0.4229 ARI = 0.1795 F = 0.2999 ACC = 0.3145\n",
      "================================================================\n",
      "\n"
     ]
    },
    {
     "name": "stderr",
     "output_type": "stream",
     "text": [
      "C:\\Users\\Tom-G\\.conda\\envs\\torchenv\\lib\\site-packages\\torch\\nn\\modules\\container.py:141: UserWarning: Implicit dimension choice for softmax has been deprecated. Change the call to include dim=X as an argument.\n",
      "  input = module(input)\n"
     ]
    },
    {
     "name": "stdout",
     "output_type": "stream",
     "text": [
      "Step [0/3]\t loss_instance: 6.225285053253174\t loss_cluster: 1.5193262100219727\n",
      "\n",
      "Epoch [482/500]\t Loss: 7.744986057281494 \n",
      "\n",
      "Step [0/1]\t Computing features...\n",
      "Features shape (1714,)\n",
      "14\n",
      "Test NMI = 0.4238 ARI = 0.1807 F = 0.3011 ACC = 0.3162\n",
      "================================================================\n",
      "\n"
     ]
    },
    {
     "name": "stderr",
     "output_type": "stream",
     "text": [
      "C:\\Users\\Tom-G\\.conda\\envs\\torchenv\\lib\\site-packages\\torch\\nn\\modules\\container.py:141: UserWarning: Implicit dimension choice for softmax has been deprecated. Change the call to include dim=X as an argument.\n",
      "  input = module(input)\n"
     ]
    },
    {
     "name": "stdout",
     "output_type": "stream",
     "text": [
      "Step [0/3]\t loss_instance: 6.225290775299072\t loss_cluster: 1.518217921257019\n",
      "\n",
      "Epoch [483/500]\t Loss: 7.746484438578288 \n",
      "\n",
      "Step [0/1]\t Computing features...\n",
      "Features shape (1714,)\n",
      "14\n",
      "Test NMI = 0.4243 ARI = 0.1811 F = 0.3015 ACC = 0.3162\n",
      "================================================================\n",
      "\n"
     ]
    },
    {
     "name": "stderr",
     "output_type": "stream",
     "text": [
      "C:\\Users\\Tom-G\\.conda\\envs\\torchenv\\lib\\site-packages\\torch\\nn\\modules\\container.py:141: UserWarning: Implicit dimension choice for softmax has been deprecated. Change the call to include dim=X as an argument.\n",
      "  input = module(input)\n"
     ]
    },
    {
     "name": "stdout",
     "output_type": "stream",
     "text": [
      "Step [0/3]\t loss_instance: 6.22721529006958\t loss_cluster: 1.5187311172485352\n",
      "\n",
      "Epoch [484/500]\t Loss: 7.748047987620036 \n",
      "\n",
      "Step [0/1]\t Computing features...\n",
      "Features shape (1714,)\n",
      "14\n",
      "Test NMI = 0.4236 ARI = 0.1808 F = 0.3012 ACC = 0.3162\n",
      "================================================================\n",
      "\n"
     ]
    },
    {
     "name": "stderr",
     "output_type": "stream",
     "text": [
      "C:\\Users\\Tom-G\\.conda\\envs\\torchenv\\lib\\site-packages\\torch\\nn\\modules\\container.py:141: UserWarning: Implicit dimension choice for softmax has been deprecated. Change the call to include dim=X as an argument.\n",
      "  input = module(input)\n"
     ]
    },
    {
     "name": "stdout",
     "output_type": "stream",
     "text": [
      "Step [0/3]\t loss_instance: 6.225783348083496\t loss_cluster: 1.5234087705612183\n",
      "\n",
      "Epoch [485/500]\t Loss: 7.745855331420898 \n",
      "\n",
      "Step [0/1]\t Computing features...\n",
      "Features shape (1714,)\n",
      "14\n",
      "Test NMI = 0.4234 ARI = 0.1805 F = 0.3009 ACC = 0.3151\n",
      "================================================================\n",
      "\n"
     ]
    },
    {
     "name": "stderr",
     "output_type": "stream",
     "text": [
      "C:\\Users\\Tom-G\\.conda\\envs\\torchenv\\lib\\site-packages\\torch\\nn\\modules\\container.py:141: UserWarning: Implicit dimension choice for softmax has been deprecated. Change the call to include dim=X as an argument.\n",
      "  input = module(input)\n"
     ]
    },
    {
     "name": "stdout",
     "output_type": "stream",
     "text": [
      "Step [0/3]\t loss_instance: 6.228211879730225\t loss_cluster: 1.5202687978744507\n",
      "\n",
      "Epoch [486/500]\t Loss: 7.746737798055013 \n",
      "\n",
      "Step [0/1]\t Computing features...\n",
      "Features shape (1714,)\n",
      "14\n",
      "Test NMI = 0.4237 ARI = 0.1804 F = 0.3008 ACC = 0.3151\n",
      "================================================================\n",
      "\n"
     ]
    },
    {
     "name": "stderr",
     "output_type": "stream",
     "text": [
      "C:\\Users\\Tom-G\\.conda\\envs\\torchenv\\lib\\site-packages\\torch\\nn\\modules\\container.py:141: UserWarning: Implicit dimension choice for softmax has been deprecated. Change the call to include dim=X as an argument.\n",
      "  input = module(input)\n"
     ]
    },
    {
     "name": "stdout",
     "output_type": "stream",
     "text": [
      "Step [0/3]\t loss_instance: 6.225032329559326\t loss_cluster: 1.5237035751342773\n",
      "\n",
      "Epoch [487/500]\t Loss: 7.747377872467041 \n",
      "\n",
      "Step [0/1]\t Computing features...\n",
      "Features shape (1714,)\n",
      "14\n",
      "Test NMI = 0.4215 ARI = 0.1794 F = 0.2998 ACC = 0.3127\n",
      "================================================================\n",
      "\n"
     ]
    },
    {
     "name": "stderr",
     "output_type": "stream",
     "text": [
      "C:\\Users\\Tom-G\\.conda\\envs\\torchenv\\lib\\site-packages\\torch\\nn\\modules\\container.py:141: UserWarning: Implicit dimension choice for softmax has been deprecated. Change the call to include dim=X as an argument.\n",
      "  input = module(input)\n"
     ]
    },
    {
     "name": "stdout",
     "output_type": "stream",
     "text": [
      "Step [0/3]\t loss_instance: 6.228778839111328\t loss_cluster: 1.51619553565979\n",
      "\n",
      "Epoch [488/500]\t Loss: 7.7427419026692705 \n",
      "\n",
      "Step [0/1]\t Computing features...\n",
      "Features shape (1714,)\n",
      "14\n",
      "Test NMI = 0.4214 ARI = 0.1793 F = 0.2996 ACC = 0.3116\n",
      "================================================================\n",
      "\n"
     ]
    },
    {
     "name": "stderr",
     "output_type": "stream",
     "text": [
      "C:\\Users\\Tom-G\\.conda\\envs\\torchenv\\lib\\site-packages\\torch\\nn\\modules\\container.py:141: UserWarning: Implicit dimension choice for softmax has been deprecated. Change the call to include dim=X as an argument.\n",
      "  input = module(input)\n"
     ]
    },
    {
     "name": "stdout",
     "output_type": "stream",
     "text": [
      "Step [0/3]\t loss_instance: 6.228973388671875\t loss_cluster: 1.528123140335083\n",
      "\n",
      "Epoch [489/500]\t Loss: 7.747003714243571 \n",
      "\n",
      "Step [0/1]\t Computing features...\n",
      "Features shape (1714,)\n",
      "14\n",
      "Test NMI = 0.4226 ARI = 0.1794 F = 0.2998 ACC = 0.3121\n",
      "================================================================\n",
      "\n"
     ]
    },
    {
     "name": "stderr",
     "output_type": "stream",
     "text": [
      "C:\\Users\\Tom-G\\.conda\\envs\\torchenv\\lib\\site-packages\\torch\\nn\\modules\\container.py:141: UserWarning: Implicit dimension choice for softmax has been deprecated. Change the call to include dim=X as an argument.\n",
      "  input = module(input)\n"
     ]
    },
    {
     "name": "stdout",
     "output_type": "stream",
     "text": [
      "Step [0/3]\t loss_instance: 6.230891227722168\t loss_cluster: 1.519623875617981\n",
      "\n",
      "Epoch [490/500]\t Loss: 7.749189853668213 \n",
      "\n",
      "Step [0/1]\t Computing features...\n",
      "Features shape (1714,)\n",
      "14\n",
      "Test NMI = 0.4219 ARI = 0.1798 F = 0.3002 ACC = 0.3133\n",
      "================================================================\n",
      "\n"
     ]
    },
    {
     "name": "stderr",
     "output_type": "stream",
     "text": [
      "C:\\Users\\Tom-G\\.conda\\envs\\torchenv\\lib\\site-packages\\torch\\nn\\modules\\container.py:141: UserWarning: Implicit dimension choice for softmax has been deprecated. Change the call to include dim=X as an argument.\n",
      "  input = module(input)\n"
     ]
    },
    {
     "name": "stdout",
     "output_type": "stream",
     "text": [
      "Step [0/3]\t loss_instance: 6.229894638061523\t loss_cluster: 1.5180776119232178\n",
      "\n",
      "Epoch [491/500]\t Loss: 7.747576713562012 \n",
      "\n",
      "Step [0/1]\t Computing features...\n",
      "Features shape (1714,)\n",
      "14\n",
      "Test NMI = 0.4220 ARI = 0.1800 F = 0.3004 ACC = 0.3145\n",
      "================================================================\n",
      "\n"
     ]
    },
    {
     "name": "stderr",
     "output_type": "stream",
     "text": [
      "C:\\Users\\Tom-G\\.conda\\envs\\torchenv\\lib\\site-packages\\torch\\nn\\modules\\container.py:141: UserWarning: Implicit dimension choice for softmax has been deprecated. Change the call to include dim=X as an argument.\n",
      "  input = module(input)\n"
     ]
    },
    {
     "name": "stdout",
     "output_type": "stream",
     "text": [
      "Step [0/3]\t loss_instance: 6.226916313171387\t loss_cluster: 1.5169626474380493\n",
      "\n",
      "Epoch [492/500]\t Loss: 7.748813629150391 \n",
      "\n",
      "Step [0/1]\t Computing features...\n",
      "Features shape (1714,)\n",
      "14\n",
      "Test NMI = 0.4216 ARI = 0.1791 F = 0.2995 ACC = 0.3127\n",
      "================================================================\n",
      "\n"
     ]
    },
    {
     "name": "stderr",
     "output_type": "stream",
     "text": [
      "C:\\Users\\Tom-G\\.conda\\envs\\torchenv\\lib\\site-packages\\torch\\nn\\modules\\container.py:141: UserWarning: Implicit dimension choice for softmax has been deprecated. Change the call to include dim=X as an argument.\n",
      "  input = module(input)\n"
     ]
    },
    {
     "name": "stdout",
     "output_type": "stream",
     "text": [
      "Step [0/3]\t loss_instance: 6.225428581237793\t loss_cluster: 1.5148676633834839\n",
      "\n",
      "Epoch [493/500]\t Loss: 7.74287207921346 \n",
      "\n",
      "Step [0/1]\t Computing features...\n",
      "Features shape (1714,)\n",
      "14\n",
      "Test NMI = 0.4223 ARI = 0.1799 F = 0.3003 ACC = 0.3139\n",
      "================================================================\n",
      "\n"
     ]
    },
    {
     "name": "stderr",
     "output_type": "stream",
     "text": [
      "C:\\Users\\Tom-G\\.conda\\envs\\torchenv\\lib\\site-packages\\torch\\nn\\modules\\container.py:141: UserWarning: Implicit dimension choice for softmax has been deprecated. Change the call to include dim=X as an argument.\n",
      "  input = module(input)\n"
     ]
    },
    {
     "name": "stdout",
     "output_type": "stream",
     "text": [
      "Step [0/3]\t loss_instance: 6.225421905517578\t loss_cluster: 1.5145220756530762\n",
      "\n",
      "Epoch [494/500]\t Loss: 7.740981419881185 \n",
      "\n",
      "Step [0/1]\t Computing features...\n",
      "Features shape (1714,)\n",
      "14\n",
      "Test NMI = 0.4236 ARI = 0.1801 F = 0.3005 ACC = 0.3139\n",
      "================================================================\n",
      "\n"
     ]
    },
    {
     "name": "stderr",
     "output_type": "stream",
     "text": [
      "C:\\Users\\Tom-G\\.conda\\envs\\torchenv\\lib\\site-packages\\torch\\nn\\modules\\container.py:141: UserWarning: Implicit dimension choice for softmax has been deprecated. Change the call to include dim=X as an argument.\n",
      "  input = module(input)\n"
     ]
    },
    {
     "name": "stdout",
     "output_type": "stream",
     "text": [
      "Step [0/3]\t loss_instance: 6.225392818450928\t loss_cluster: 1.5165659189224243\n",
      "\n",
      "Epoch [495/500]\t Loss: 7.742728233337402 \n",
      "\n",
      "Step [0/1]\t Computing features...\n",
      "Features shape (1714,)\n",
      "14\n",
      "Test NMI = 0.4231 ARI = 0.1800 F = 0.3004 ACC = 0.3139\n",
      "================================================================\n",
      "\n"
     ]
    },
    {
     "name": "stderr",
     "output_type": "stream",
     "text": [
      "C:\\Users\\Tom-G\\.conda\\envs\\torchenv\\lib\\site-packages\\torch\\nn\\modules\\container.py:141: UserWarning: Implicit dimension choice for softmax has been deprecated. Change the call to include dim=X as an argument.\n",
      "  input = module(input)\n"
     ]
    },
    {
     "name": "stdout",
     "output_type": "stream",
     "text": [
      "Step [0/3]\t loss_instance: 6.223387241363525\t loss_cluster: 1.514754056930542\n",
      "\n",
      "Epoch [496/500]\t Loss: 7.745359897613525 \n",
      "\n",
      "Step [0/1]\t Computing features...\n",
      "Features shape (1714,)\n",
      "14\n",
      "Test NMI = 0.4216 ARI = 0.1798 F = 0.3002 ACC = 0.3133\n",
      "================================================================\n",
      "\n"
     ]
    },
    {
     "name": "stderr",
     "output_type": "stream",
     "text": [
      "C:\\Users\\Tom-G\\.conda\\envs\\torchenv\\lib\\site-packages\\torch\\nn\\modules\\container.py:141: UserWarning: Implicit dimension choice for softmax has been deprecated. Change the call to include dim=X as an argument.\n",
      "  input = module(input)\n"
     ]
    },
    {
     "name": "stdout",
     "output_type": "stream",
     "text": [
      "Step [0/3]\t loss_instance: 6.227541446685791\t loss_cluster: 1.5145251750946045\n",
      "\n",
      "Epoch [497/500]\t Loss: 7.74341344833374 \n",
      "\n",
      "Step [0/1]\t Computing features...\n",
      "Features shape (1714,)\n",
      "14\n",
      "Test NMI = 0.4217 ARI = 0.1799 F = 0.3002 ACC = 0.3133\n",
      "================================================================\n",
      "\n"
     ]
    },
    {
     "name": "stderr",
     "output_type": "stream",
     "text": [
      "C:\\Users\\Tom-G\\.conda\\envs\\torchenv\\lib\\site-packages\\torch\\nn\\modules\\container.py:141: UserWarning: Implicit dimension choice for softmax has been deprecated. Change the call to include dim=X as an argument.\n",
      "  input = module(input)\n"
     ]
    },
    {
     "name": "stdout",
     "output_type": "stream",
     "text": [
      "Step [0/3]\t loss_instance: 6.228634834289551\t loss_cluster: 1.5168907642364502\n",
      "\n",
      "Epoch [498/500]\t Loss: 7.747138500213623 \n",
      "\n",
      "Step [0/1]\t Computing features...\n",
      "Features shape (1714,)\n",
      "14\n",
      "Test NMI = 0.4230 ARI = 0.1796 F = 0.3000 ACC = 0.3139\n",
      "================================================================\n",
      "\n"
     ]
    },
    {
     "name": "stderr",
     "output_type": "stream",
     "text": [
      "C:\\Users\\Tom-G\\.conda\\envs\\torchenv\\lib\\site-packages\\torch\\nn\\modules\\container.py:141: UserWarning: Implicit dimension choice for softmax has been deprecated. Change the call to include dim=X as an argument.\n",
      "  input = module(input)\n"
     ]
    },
    {
     "name": "stdout",
     "output_type": "stream",
     "text": [
      "Step [0/3]\t loss_instance: 6.225635528564453\t loss_cluster: 1.51859450340271\n",
      "\n",
      "Epoch [499/500]\t Loss: 7.74324893951416 \n",
      "\n",
      "Step [0/1]\t Computing features...\n",
      "Features shape (1714,)\n",
      "14\n",
      "Test NMI = 0.4216 ARI = 0.1792 F = 0.2996 ACC = 0.3139\n",
      "================================================================\n",
      "\n"
     ]
    }
   ],
   "source": [
    "loss_device=torch.device('cuda')\n",
    "instance_loss=InstanceLoss(batch_size=args.batch_size,temperature=0.5,device=loss_device)\n",
    "cluster_loss=ClusterLoss(class_num=class_num,temperature=0.5,device=loss_device)\n",
    "accs=[]\n",
    "losses=[]\n",
    "for epoch in range(args.start_epoch, args.epochs):\n",
    "    lr = optimizer.param_groups[0][\"lr\"]\n",
    "    loss_epoch = train(instance_loss,cluster_loss)\n",
    "    losses.append(loss_epoch/len(scTrainDataLoader))\n",
    "    if epoch % 10 == 0:\n",
    "        save_model(args, model, optimizer, epoch)\n",
    "    print(f\"\\nEpoch [{epoch}/{args.epochs}]\\t Loss: {loss_epoch / len(scTrainDataLoader)} \\n\")\n",
    "    nmi, ari, f, acc = test()\n",
    "    accs.append(acc)\n",
    "    print('Test NMI = {:.4f} ARI = {:.4f} F = {:.4f} ACC = {:.4f}'.format(nmi, ari, f, acc))\n",
    "    print('========'*8+'\\n')"
   ]
  },
  {
   "cell_type": "code",
   "execution_count": 12,
   "metadata": {
    "collapsed": false,
    "pycharm": {
     "name": "#%%\n"
    }
   },
   "outputs": [
    {
     "data": {
      "image/png": "[encoded data removed]",
      "text/plain": [
       "<Figure size 864x288 with 2 Axes>"
      ]
     },
     "metadata": {
      "needs_background": "light"
     },
     "output_type": "display_data"
    }
   ],
   "source": [
    "from matplotlib import pyplot as plt\n",
    "\n",
    "f, ax = plt.subplots(nrows=1, ncols=2, figsize=(12, 4))\n",
    "ax[0].plot(accs)\n",
    "ax[0].set_title('Accuracy during Validation')\n",
    "ax[1].plot(losses)\n",
    "ax[1].set_title('Loss during Training')\n",
    "\n",
    "plt.subplots_adjust(top=0.85)\n",
    "plt.suptitle('Result')\n",
    "plt.show()"
   ]
  },
  {
   "cell_type": "code",
   "execution_count": null,
   "metadata": {},
   "outputs": [],
   "source": []
  }
 ],
 "metadata": {
  "kernelspec": {
   "display_name": "Python 3",
   "language": "python",
   "name": "python3"
  },
  "language_info": {
   "codemirror_mode": {
    "name": "ipython",
    "version": 3
   },
   "file_extension": ".py",
   "mimetype": "text/x-python",
   "name": "python",
   "nbconvert_exporter": "python",
   "pygments_lexer": "ipython3",
   "version": "3.8.12"
  }
 },
 "nbformat": 4,
 "nbformat_minor": 0
}
