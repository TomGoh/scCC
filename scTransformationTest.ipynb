{
 "cells": [
  {
   "cell_type": "code",
   "execution_count": 1,
   "metadata": {
    "collapsed": true
   },
   "outputs": [],
   "source": [
    "import torch\n",
    "import numpy as np\n",
    "import pandas as pd\n",
    "import scanpy as sc\n",
    "import anndata"
   ]
  },
  {
   "cell_type": "code",
   "execution_count": 2,
   "outputs": [
    {
     "name": "stderr",
     "output_type": "stream",
     "text": [
      "D:\\Environment\\Conda\\envs\\torchenv\\lib\\site-packages\\anndata\\_core\\anndata.py:107: FutureWarning: elementwise comparison failed; returning scalar instead, but in the future will perform elementwise comparison\n",
      "  if index_name in anno:\n"
     ]
    },
    {
     "name": "stdout",
     "output_type": "stream",
     "text": [
      "(8569, 6000) (8569, 1)\n"
     ]
    },
    {
     "data": {
      "text/plain": "          1    2    4       7        10   13   26   31        32   33  ...  \\\n0  1.024218  0.0  0.0  0.0000  1.302199  0.0  0.0  0.0  0.637877  0.0  ...   \n1  0.000000  0.0  0.0  0.0000  1.351171  0.0  0.0  0.0  0.000000  0.0  ...   \n2  0.000000  0.0  0.0  0.0000  0.000000  0.0  0.0  0.0  0.000000  0.0  ...   \n3  0.000000  0.0  0.0  0.4175  0.000000  0.0  0.0  0.0  0.000000  0.0  ...   \n4  0.000000  0.0  0.0  0.0000  0.000000  0.0  0.0  0.0  0.000000  0.0  ...   \n\n    20104  20105    20108  20109   20115  20118     20121   20122     20123  \\\n0  0.0000    0.0  0.36896    0.0  0.0000    0.0  0.637877  0.0000  0.000000   \n1  0.0000    0.0  0.00000    0.0  0.0000    0.0  0.888292  0.0000  0.305824   \n2  0.0000    0.0  0.00000    0.0  0.0000    0.0  0.000000  0.0000  0.000000   \n3  0.4175    0.0  0.00000    0.0  0.4175    0.0  0.937850  0.4175  0.000000   \n4  0.0000    0.0  0.00000    0.0  0.0000    0.0  0.509045  0.0000  0.000000   \n\n      20124  \n0  0.368960  \n1  0.000000  \n2  0.000000  \n3  0.000000  \n4  0.509045  \n\n[5 rows x 6000 columns]",
      "text/html": "<div>\n<style scoped>\n    .dataframe tbody tr th:only-of-type {\n        vertical-align: middle;\n    }\n\n    .dataframe tbody tr th {\n        vertical-align: top;\n    }\n\n    .dataframe thead th {\n        text-align: right;\n    }\n</style>\n<table border=\"1\" class=\"dataframe\">\n  <thead>\n    <tr style=\"text-align: right;\">\n      <th></th>\n      <th>1</th>\n      <th>2</th>\n      <th>4</th>\n      <th>7</th>\n      <th>10</th>\n      <th>13</th>\n      <th>26</th>\n      <th>31</th>\n      <th>32</th>\n      <th>33</th>\n      <th>...</th>\n      <th>20104</th>\n      <th>20105</th>\n      <th>20108</th>\n      <th>20109</th>\n      <th>20115</th>\n      <th>20118</th>\n      <th>20121</th>\n      <th>20122</th>\n      <th>20123</th>\n      <th>20124</th>\n    </tr>\n  </thead>\n  <tbody>\n    <tr>\n      <th>0</th>\n      <td>1.024218</td>\n      <td>0.0</td>\n      <td>0.0</td>\n      <td>0.0000</td>\n      <td>1.302199</td>\n      <td>0.0</td>\n      <td>0.0</td>\n      <td>0.0</td>\n      <td>0.637877</td>\n      <td>0.0</td>\n      <td>...</td>\n      <td>0.0000</td>\n      <td>0.0</td>\n      <td>0.36896</td>\n      <td>0.0</td>\n      <td>0.0000</td>\n      <td>0.0</td>\n      <td>0.637877</td>\n      <td>0.0000</td>\n      <td>0.000000</td>\n      <td>0.368960</td>\n    </tr>\n    <tr>\n      <th>1</th>\n      <td>0.000000</td>\n      <td>0.0</td>\n      <td>0.0</td>\n      <td>0.0000</td>\n      <td>1.351171</td>\n      <td>0.0</td>\n      <td>0.0</td>\n      <td>0.0</td>\n      <td>0.000000</td>\n      <td>0.0</td>\n      <td>...</td>\n      <td>0.0000</td>\n      <td>0.0</td>\n      <td>0.00000</td>\n      <td>0.0</td>\n      <td>0.0000</td>\n      <td>0.0</td>\n      <td>0.888292</td>\n      <td>0.0000</td>\n      <td>0.305824</td>\n      <td>0.000000</td>\n    </tr>\n    <tr>\n      <th>2</th>\n      <td>0.000000</td>\n      <td>0.0</td>\n      <td>0.0</td>\n      <td>0.0000</td>\n      <td>0.000000</td>\n      <td>0.0</td>\n      <td>0.0</td>\n      <td>0.0</td>\n      <td>0.000000</td>\n      <td>0.0</td>\n      <td>...</td>\n      <td>0.0000</td>\n      <td>0.0</td>\n      <td>0.00000</td>\n      <td>0.0</td>\n      <td>0.0000</td>\n      <td>0.0</td>\n      <td>0.000000</td>\n      <td>0.0000</td>\n      <td>0.000000</td>\n      <td>0.000000</td>\n    </tr>\n    <tr>\n      <th>3</th>\n      <td>0.000000</td>\n      <td>0.0</td>\n      <td>0.0</td>\n      <td>0.4175</td>\n      <td>0.000000</td>\n      <td>0.0</td>\n      <td>0.0</td>\n      <td>0.0</td>\n      <td>0.000000</td>\n      <td>0.0</td>\n      <td>...</td>\n      <td>0.4175</td>\n      <td>0.0</td>\n      <td>0.00000</td>\n      <td>0.0</td>\n      <td>0.4175</td>\n      <td>0.0</td>\n      <td>0.937850</td>\n      <td>0.4175</td>\n      <td>0.000000</td>\n      <td>0.000000</td>\n    </tr>\n    <tr>\n      <th>4</th>\n      <td>0.000000</td>\n      <td>0.0</td>\n      <td>0.0</td>\n      <td>0.0000</td>\n      <td>0.000000</td>\n      <td>0.0</td>\n      <td>0.0</td>\n      <td>0.0</td>\n      <td>0.000000</td>\n      <td>0.0</td>\n      <td>...</td>\n      <td>0.0000</td>\n      <td>0.0</td>\n      <td>0.00000</td>\n      <td>0.0</td>\n      <td>0.0000</td>\n      <td>0.0</td>\n      <td>0.509045</td>\n      <td>0.0000</td>\n      <td>0.000000</td>\n      <td>0.509045</td>\n    </tr>\n  </tbody>\n</table>\n<p>5 rows × 6000 columns</p>\n</div>"
     },
     "execution_count": 2,
     "metadata": {},
     "output_type": "execute_result"
    }
   ],
   "source": [
    "import scipy.sparse\n",
    "sparse_X = scipy.sparse.load_npz('data/filtered_Counts.npz')\n",
    "annoData = pd.read_table('data/annoData.txt')\n",
    "y = annoData[\"cellIden\"].to_numpy()\n",
    "high_var_gene = 6000\n",
    "# normlization and feature selection\n",
    "adataSC = anndata.AnnData(X=sparse_X, obs=np.arange(sparse_X.shape[0]), var=np.arange(sparse_X.shape[1]))\n",
    "sc.pp.filter_genes(adataSC, min_cells=10)\n",
    "adataSC.raw = adataSC\n",
    "sc.pp.highly_variable_genes(adataSC, n_top_genes=high_var_gene, flavor='seurat_v3')\n",
    "sc.pp.normalize_total(adataSC, target_sum=1e4)\n",
    "sc.pp.log1p(adataSC)\n",
    "\n",
    "adataNorm = adataSC[:, adataSC.var.highly_variable]\n",
    "dataframe = adataNorm.to_df()\n",
    "x_ndarray = dataframe.values.squeeze()\n",
    "y_ndarray = np.expand_dims(y, axis=1)\n",
    "print(x_ndarray.shape,y_ndarray.shape)\n",
    "dataframe.head()"
   ],
   "metadata": {
    "collapsed": false,
    "pycharm": {
     "name": "#%%\n"
    }
   }
  },
  {
   "cell_type": "code",
   "execution_count": 3,
   "outputs": [
    {
     "name": "stdout",
     "output_type": "stream",
     "text": [
      "6000\n",
      "256\n",
      "256\n"
     ]
    }
   ],
   "source": [
    "from torch.utils.data import DataLoader,random_split,TensorDataset\n",
    "scDataset = TensorDataset(torch.tensor(x_ndarray, dtype=torch.float32),\n",
    "                              torch.tensor(y_ndarray, dtype=torch.float32))\n",
    "\n",
    "scTrainLength = int(len(scDataset) * 0.8)\n",
    "scValidLength = len(scDataset) - scTrainLength\n",
    "scTrain, scValid = random_split(scDataset, [scTrainLength, scValidLength])\n",
    "\n",
    "scTrainDataLoader = DataLoader(scTrain, shuffle=True, batch_size=256,drop_last=True)\n",
    "scValidDataLoader = DataLoader(scValid, shuffle=True, batch_size=256,drop_last=True)\n",
    "\n",
    "for features, labels in scTrainDataLoader:\n",
    "    print(len(features[-1]))\n",
    "    print(len(features))\n",
    "    print(len(labels))\n",
    "    break"
   ],
   "metadata": {
    "collapsed": false,
    "pycharm": {
     "name": "#%%\n"
    }
   }
  },
  {
   "cell_type": "code",
   "execution_count": 4,
   "outputs": [],
   "source": [
    "def gaussian_noise(original):\n",
    "    cellShape=original.shape\n",
    "    # print(original.device)\n",
    "    noise=0.1*torch.randn(size=cellShape)\n",
    "    return original+noise"
   ],
   "metadata": {
    "collapsed": false,
    "pycharm": {
     "name": "#%%\n"
    }
   }
  },
  {
   "cell_type": "code",
   "execution_count": 5,
   "outputs": [
    {
     "name": "stdout",
     "output_type": "stream",
     "text": [
      "torch.Size([256, 6000])\n",
      "cuda:0\n",
      "tensor([-0.0070, -0.0354, -0.0331,  ..., -0.0785,  0.1530,  0.0013],\n",
      "       device='cuda:0')\n",
      "tensor([0., 0., 0.,  ..., 0., 0., 0.])\n"
     ]
    }
   ],
   "source": [
    "for features, labels in scTrainDataLoader:\n",
    "    print(features.shape)\n",
    "    testData=gaussian_noise(features).cuda()\n",
    "    print(testData.device)\n",
    "    print(testData[0])\n",
    "    print(features[0])\n",
    "    break"
   ],
   "metadata": {
    "collapsed": false,
    "pycharm": {
     "name": "#%%\n"
    }
   }
  },
  {
   "cell_type": "code",
   "execution_count": 9,
   "outputs": [],
   "source": [
    "def chiasma(original,prob,percentage):\n",
    "    geneCount=original.shape[1]\n",
    "    s=np.random.uniform(0,1)\n",
    "    if s<prob:\n",
    "        chiasma_instance=int(geneCount*percentage/2)\n",
    "        chiasma_pair=np.random.randint(geneCount,size=(chiasma_instance,2))\n",
    "        # print(chiasma_pair)\n",
    "        copy=original.clone()\n",
    "        copy[:,chiasma_pair[:,0]],copy[:,chiasma_pair[:,1]]=copy[:,chiasma_pair[:,1]],copy[:,chiasma_pair[:,0]]\n",
    "        return copy"
   ],
   "metadata": {
    "collapsed": false,
    "pycharm": {
     "name": "#%%\n"
    }
   }
  },
  {
   "cell_type": "code",
   "execution_count": 23,
   "outputs": [
    {
     "name": "stdout",
     "output_type": "stream",
     "text": [
      "tensor([0., 0., 0.,  ..., 0., 0., 0.])\n",
      "tensor([0., 0., 0.,  ..., 0., 0., 0.])\n",
      "tensor(-1.9294)\n"
     ]
    }
   ],
   "source": [
    "for features, labels in scTrainDataLoader:\n",
    "    # print(features.shape)\n",
    "    testData=chiasma(features,0.5,0.1)\n",
    "    # print(testData.device)\n",
    "    if testData!=None:\n",
    "        print(testData[0])\n",
    "        print(features[0])\n",
    "        print((testData[0]-features[0]).sum())\n",
    "    break"
   ],
   "metadata": {
    "collapsed": false,
    "pycharm": {
     "name": "#%%\n"
    }
   }
  },
  {
   "cell_type": "code",
   "execution_count": 43,
   "outputs": [],
   "source": [
    "def random_mask(original,prob,percentage):\n",
    "    cellCount,geneCount=original.shape\n",
    "    s=np.random.uniform(0,1)\n",
    "    print(s)\n",
    "    if s<prob:\n",
    "        mask=np.concatenate([np.ones(int(geneCount*percentage),dtype=bool),np.zeros(geneCount-int(geneCount*percentage),dtype=bool)])\n",
    "        np.random.shuffle(mask)\n",
    "        copy=original.clone()\n",
    "        copy[:,mask]=0\n",
    "        return copy\n"
   ],
   "metadata": {
    "collapsed": false,
    "pycharm": {
     "name": "#%%\n"
    }
   }
  },
  {
   "cell_type": "code",
   "execution_count": 47,
   "outputs": [
    {
     "name": "stdout",
     "output_type": "stream",
     "text": [
      "0.4474919526869785\n",
      "tensor(773.4749)\n",
      "tensor(915.6711)\n",
      "tensor(-142.1962)\n"
     ]
    }
   ],
   "source": [
    "for features, labels in scTrainDataLoader:\n",
    "    # print(features.shape)\n",
    "    testData=random_mask(features,0.5,0.15)\n",
    "    # print(testData.device)\n",
    "    if testData!=None:\n",
    "        print(testData[0].sum())\n",
    "        print(features[0].sum())\n",
    "\n",
    "        print((testData[0]-features[0]).sum())\n",
    "    break"
   ],
   "metadata": {
    "collapsed": false,
    "pycharm": {
     "name": "#%%\n"
    }
   }
  },
  {
   "cell_type": "code",
   "execution_count": 47,
   "outputs": [],
   "source": [],
   "metadata": {
    "collapsed": false,
    "pycharm": {
     "name": "#%%\n"
    }
   }
  },
  {
   "cell_type": "code",
   "execution_count": null,
   "outputs": [],
   "source": [],
   "metadata": {
    "collapsed": false,
    "pycharm": {
     "name": "#%%\n"
    }
   }
  }
 ],
 "metadata": {
  "kernelspec": {
   "display_name": "Python 3",
   "language": "python",
   "name": "python3"
  },
  "language_info": {
   "codemirror_mode": {
    "name": "ipython",
    "version": 2
   },
   "file_extension": ".py",
   "mimetype": "text/x-python",
   "name": "python",
   "nbconvert_exporter": "python",
   "pygments_lexer": "ipython2",
   "version": "2.7.6"
  }
 },
 "nbformat": 4,
 "nbformat_minor": 0
}