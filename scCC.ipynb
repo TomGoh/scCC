{
 "cells": [
  {
   "cell_type": "code",
   "execution_count": 52,
   "outputs": [],
   "source": [
    "from torch import nn\n",
    "import torch\n",
    "import argparse\n",
    "import numpy as np\n",
    "import pandas as pd\n",
    "import scanpy as sc\n",
    "import os\n",
    "import anndata\n",
    "import math"
   ],
   "metadata": {
    "collapsed": false,
    "pycharm": {
     "name": "#%%\n"
    }
   }
  },
  {
   "cell_type": "code",
   "execution_count": 53,
   "outputs": [],
   "source": [
    "from modules import network,mlp\n",
    "from utils import yaml_config_hook,save_model\n",
    "\n",
    "parser = argparse.ArgumentParser()\n",
    "config = yaml_config_hook(\"config/config.yaml\")\n",
    "for k, v in config.items():\n",
    "    parser.add_argument(f\"--{k}\", default=v, type=type(v))\n",
    "args = parser.parse_args([])\n",
    "if not os.path.exists(args.model_path):\n",
    "    os.makedirs(args.model_path)\n",
    "\n",
    "torch.manual_seed(args.seed)\n",
    "torch.cuda.manual_seed_all(args.seed)\n",
    "torch.cuda.manual_seed(args.seed)\n",
    "np.random.seed(args.seed)\n",
    "class_num = args.classnum"
   ],
   "metadata": {
    "collapsed": false,
    "pycharm": {
     "name": "#%%\n"
    }
   }
  },
  {
   "cell_type": "code",
   "execution_count": 54,
   "outputs": [
    {
     "name": "stderr",
     "output_type": "stream",
     "text": [
      "D:\\Environment\\Conda\\envs\\torchenv\\lib\\site-packages\\anndata\\_core\\anndata.py:107: FutureWarning: elementwise comparison failed; returning scalar instead, but in the future will perform elementwise comparison\n",
      "  if index_name in anno:\n"
     ]
    },
    {
     "name": "stdout",
     "output_type": "stream",
     "text": [
      "(8569, 6000) (8569, 1)\n"
     ]
    },
    {
     "data": {
      "text/plain": "          1    2    4       7        10   13   26   31        32   33  ...  \\\n0  1.024218  0.0  0.0  0.0000  1.302199  0.0  0.0  0.0  0.637877  0.0  ...   \n1  0.000000  0.0  0.0  0.0000  1.351171  0.0  0.0  0.0  0.000000  0.0  ...   \n2  0.000000  0.0  0.0  0.0000  0.000000  0.0  0.0  0.0  0.000000  0.0  ...   \n3  0.000000  0.0  0.0  0.4175  0.000000  0.0  0.0  0.0  0.000000  0.0  ...   \n4  0.000000  0.0  0.0  0.0000  0.000000  0.0  0.0  0.0  0.000000  0.0  ...   \n\n    20104  20105    20108  20109   20115  20118     20121   20122     20123  \\\n0  0.0000    0.0  0.36896    0.0  0.0000    0.0  0.637877  0.0000  0.000000   \n1  0.0000    0.0  0.00000    0.0  0.0000    0.0  0.888292  0.0000  0.305824   \n2  0.0000    0.0  0.00000    0.0  0.0000    0.0  0.000000  0.0000  0.000000   \n3  0.4175    0.0  0.00000    0.0  0.4175    0.0  0.937850  0.4175  0.000000   \n4  0.0000    0.0  0.00000    0.0  0.0000    0.0  0.509045  0.0000  0.000000   \n\n      20124  \n0  0.368960  \n1  0.000000  \n2  0.000000  \n3  0.000000  \n4  0.509045  \n\n[5 rows x 6000 columns]",
      "text/html": "<div>\n<style scoped>\n    .dataframe tbody tr th:only-of-type {\n        vertical-align: middle;\n    }\n\n    .dataframe tbody tr th {\n        vertical-align: top;\n    }\n\n    .dataframe thead th {\n        text-align: right;\n    }\n</style>\n<table border=\"1\" class=\"dataframe\">\n  <thead>\n    <tr style=\"text-align: right;\">\n      <th></th>\n      <th>1</th>\n      <th>2</th>\n      <th>4</th>\n      <th>7</th>\n      <th>10</th>\n      <th>13</th>\n      <th>26</th>\n      <th>31</th>\n      <th>32</th>\n      <th>33</th>\n      <th>...</th>\n      <th>20104</th>\n      <th>20105</th>\n      <th>20108</th>\n      <th>20109</th>\n      <th>20115</th>\n      <th>20118</th>\n      <th>20121</th>\n      <th>20122</th>\n      <th>20123</th>\n      <th>20124</th>\n    </tr>\n  </thead>\n  <tbody>\n    <tr>\n      <th>0</th>\n      <td>1.024218</td>\n      <td>0.0</td>\n      <td>0.0</td>\n      <td>0.0000</td>\n      <td>1.302199</td>\n      <td>0.0</td>\n      <td>0.0</td>\n      <td>0.0</td>\n      <td>0.637877</td>\n      <td>0.0</td>\n      <td>...</td>\n      <td>0.0000</td>\n      <td>0.0</td>\n      <td>0.36896</td>\n      <td>0.0</td>\n      <td>0.0000</td>\n      <td>0.0</td>\n      <td>0.637877</td>\n      <td>0.0000</td>\n      <td>0.000000</td>\n      <td>0.368960</td>\n    </tr>\n    <tr>\n      <th>1</th>\n      <td>0.000000</td>\n      <td>0.0</td>\n      <td>0.0</td>\n      <td>0.0000</td>\n      <td>1.351171</td>\n      <td>0.0</td>\n      <td>0.0</td>\n      <td>0.0</td>\n      <td>0.000000</td>\n      <td>0.0</td>\n      <td>...</td>\n      <td>0.0000</td>\n      <td>0.0</td>\n      <td>0.00000</td>\n      <td>0.0</td>\n      <td>0.0000</td>\n      <td>0.0</td>\n      <td>0.888292</td>\n      <td>0.0000</td>\n      <td>0.305824</td>\n      <td>0.000000</td>\n    </tr>\n    <tr>\n      <th>2</th>\n      <td>0.000000</td>\n      <td>0.0</td>\n      <td>0.0</td>\n      <td>0.0000</td>\n      <td>0.000000</td>\n      <td>0.0</td>\n      <td>0.0</td>\n      <td>0.0</td>\n      <td>0.000000</td>\n      <td>0.0</td>\n      <td>...</td>\n      <td>0.0000</td>\n      <td>0.0</td>\n      <td>0.00000</td>\n      <td>0.0</td>\n      <td>0.0000</td>\n      <td>0.0</td>\n      <td>0.000000</td>\n      <td>0.0000</td>\n      <td>0.000000</td>\n      <td>0.000000</td>\n    </tr>\n    <tr>\n      <th>3</th>\n      <td>0.000000</td>\n      <td>0.0</td>\n      <td>0.0</td>\n      <td>0.4175</td>\n      <td>0.000000</td>\n      <td>0.0</td>\n      <td>0.0</td>\n      <td>0.0</td>\n      <td>0.000000</td>\n      <td>0.0</td>\n      <td>...</td>\n      <td>0.4175</td>\n      <td>0.0</td>\n      <td>0.00000</td>\n      <td>0.0</td>\n      <td>0.4175</td>\n      <td>0.0</td>\n      <td>0.937850</td>\n      <td>0.4175</td>\n      <td>0.000000</td>\n      <td>0.000000</td>\n    </tr>\n    <tr>\n      <th>4</th>\n      <td>0.000000</td>\n      <td>0.0</td>\n      <td>0.0</td>\n      <td>0.0000</td>\n      <td>0.000000</td>\n      <td>0.0</td>\n      <td>0.0</td>\n      <td>0.0</td>\n      <td>0.000000</td>\n      <td>0.0</td>\n      <td>...</td>\n      <td>0.0000</td>\n      <td>0.0</td>\n      <td>0.00000</td>\n      <td>0.0</td>\n      <td>0.0000</td>\n      <td>0.0</td>\n      <td>0.509045</td>\n      <td>0.0000</td>\n      <td>0.000000</td>\n      <td>0.509045</td>\n    </tr>\n  </tbody>\n</table>\n<p>5 rows × 6000 columns</p>\n</div>"
     },
     "execution_count": 54,
     "metadata": {},
     "output_type": "execute_result"
    }
   ],
   "source": [
    "import scipy.sparse\n",
    "sparse_X = scipy.sparse.load_npz('data/filtered_Counts.npz')\n",
    "annoData = pd.read_table('data/annoData.txt')\n",
    "y = annoData[\"cellIden\"].to_numpy()\n",
    "high_var_gene = 6000\n",
    "# normlization and feature selection\n",
    "adataSC = anndata.AnnData(X=sparse_X, obs=np.arange(sparse_X.shape[0]), var=np.arange(sparse_X.shape[1]))\n",
    "sc.pp.filter_genes(adataSC, min_cells=10)\n",
    "adataSC.raw = adataSC\n",
    "sc.pp.highly_variable_genes(adataSC, n_top_genes=high_var_gene, flavor='seurat_v3')\n",
    "sc.pp.normalize_total(adataSC, target_sum=1e4)\n",
    "sc.pp.log1p(adataSC)\n",
    "\n",
    "adataNorm = adataSC[:, adataSC.var.highly_variable]\n",
    "dataframe = adataNorm.to_df()\n",
    "x_ndarray = dataframe.values.squeeze()\n",
    "y_ndarray = np.expand_dims(y, axis=1)\n",
    "print(x_ndarray.shape,y_ndarray.shape)\n",
    "dataframe.head()"
   ],
   "metadata": {
    "collapsed": false,
    "pycharm": {
     "name": "#%%\n"
    }
   }
  },
  {
   "cell_type": "code",
   "execution_count": 55,
   "outputs": [
    {
     "name": "stdout",
     "output_type": "stream",
     "text": [
      "6000\n",
      "256\n",
      "256\n"
     ]
    }
   ],
   "source": [
    "from torch.utils.data import DataLoader,random_split,TensorDataset\n",
    "scDataset = TensorDataset(torch.tensor(x_ndarray, dtype=torch.float32),\n",
    "                              torch.tensor(y_ndarray, dtype=torch.float32))\n",
    "\n",
    "scTrainLength = int(len(scDataset) * 0.8)\n",
    "scValidLength = len(scDataset) - scTrainLength\n",
    "scTrain, scValid = random_split(scDataset, [scTrainLength, scValidLength])\n",
    "\n",
    "scTrainDataLoader = DataLoader(scTrain, shuffle=True, batch_size=args.batch_size,drop_last=True)\n",
    "scValidDataLoader = DataLoader(scValid, shuffle=True, batch_size=args.batch_size,drop_last=True)\n",
    "\n",
    "for features, labels in scTrainDataLoader:\n",
    "    print(len(features[-1]))\n",
    "    print(len(features))\n",
    "    print(len(labels))\n",
    "    break"
   ],
   "metadata": {
    "collapsed": false,
    "pycharm": {
     "name": "#%%\n"
    }
   }
  },
  {
   "cell_type": "code",
   "execution_count": 56,
   "outputs": [],
   "source": [
    "# initialize model\n",
    "mlp = mlp.MLP(num_genes=args.num_genes)\n",
    "model = network.Network(mlp, args.feature_dim, args.classnum)\n",
    "model = model.to('cuda')\n",
    "# optimizer / loss\n",
    "optimizer = torch.optim.Adam(model.parameters(), lr=args.learning_rate, weight_decay=args.weight_decay)"
   ],
   "metadata": {
    "collapsed": false,
    "pycharm": {
     "name": "#%%\n"
    }
   }
  },
  {
   "cell_type": "code",
   "execution_count": 57,
   "outputs": [],
   "source": [
    "class InstanceLoss(nn.Module):\n",
    "\n",
    "    def __init__(self,batch_size,temperature,device):\n",
    "        super(InstanceLoss,self).__init__()\n",
    "        self.batch_size=batch_size\n",
    "        self.temperature=temperature\n",
    "        self.device=device\n",
    "\n",
    "        self.mask=self.mask_correlated_samples(batch_size)\n",
    "        self.criterion = nn.CrossEntropyLoss(reduction=\"sum\")\n",
    "\n",
    "\n",
    "    def mask_correlated_samples(self,batch_size):\n",
    "        N=2*batch_size\n",
    "        mask=torch.ones(N,N)\n",
    "        mask=mask.fill_diagonal_(0)\n",
    "        for i in range(batch_size):\n",
    "            mask[i,batch_size+1]=0\n",
    "            mask[batch_size+i,i]=0\n",
    "        mask=mask.bool()\n",
    "        return mask\n",
    "\n",
    "    def forward(self,z_i,z_j):\n",
    "        N=2*self.batch_size\n",
    "        z=torch.cat((z_i,z_j),dim=0)\n",
    "\n",
    "        sim=torch.matmul(z,z.T)/self.temperature\n",
    "        sim_i_j=torch.diag(sim,self.batch_size)\n",
    "        sim_j_i=torch.diag(sim,-self.batch_size)\n",
    "\n",
    "        positive_samples= torch.cat((sim_i_j,sim_j_i),dim=0).reshape(N,1)\n",
    "        negative_samples=sim[self.mask].reshape(N,-1)\n",
    "\n",
    "        labels = torch.zeros(N).to(positive_samples.device).long()\n",
    "        logits = torch.cat((positive_samples, negative_samples), dim=1)\n",
    "        loss = self.criterion(logits, labels)\n",
    "        loss /= N\n",
    "\n",
    "        return loss"
   ],
   "metadata": {
    "collapsed": false,
    "pycharm": {
     "name": "#%%\n"
    }
   }
  },
  {
   "cell_type": "code",
   "execution_count": 58,
   "outputs": [],
   "source": [
    "class ClusterLoss(nn.Module):\n",
    "    def __init__(self, class_num, temperature, device):\n",
    "        super(ClusterLoss, self).__init__()\n",
    "        self.class_num = class_num\n",
    "        self.temperature = temperature\n",
    "        self.device = device\n",
    "\n",
    "        self.mask = self.mask_correlated_clusters(class_num)\n",
    "        self.criterion = nn.CrossEntropyLoss(reduction=\"sum\")\n",
    "        self.similarity_f = nn.CosineSimilarity(dim=2)\n",
    "\n",
    "    def mask_correlated_clusters(self, class_num):\n",
    "        N = 2 * class_num\n",
    "        mask = torch.ones((N, N))\n",
    "        mask = mask.fill_diagonal_(0)\n",
    "        for i in range(class_num):\n",
    "            mask[i, class_num + i] = 0\n",
    "            mask[class_num + i, i] = 0\n",
    "        mask = mask.bool()\n",
    "        return mask\n",
    "\n",
    "    def forward(self, c_i, c_j):\n",
    "        p_i = c_i.sum(0).view(-1)\n",
    "        p_i /= p_i.sum()\n",
    "        ne_i = math.log(p_i.size(0)) + (p_i * torch.log(p_i)).sum()\n",
    "        p_j = c_j.sum(0).view(-1)\n",
    "        p_j /= p_j.sum()\n",
    "        ne_j = math.log(p_j.size(0)) + (p_j * torch.log(p_j)).sum()\n",
    "        ne_loss = ne_i + ne_j\n",
    "\n",
    "        c_i = c_i.t()\n",
    "        c_j = c_j.t()\n",
    "        N = 2 * self.class_num\n",
    "        c = torch.cat((c_i, c_j), dim=0)\n",
    "\n",
    "        sim = self.similarity_f(c.unsqueeze(1), c.unsqueeze(0)) / self.temperature\n",
    "        sim_i_j = torch.diag(sim, self.class_num)\n",
    "        sim_j_i = torch.diag(sim, -self.class_num)\n",
    "\n",
    "        positive_clusters = torch.cat((sim_i_j, sim_j_i), dim=0).reshape(N, 1)\n",
    "        negative_clusters = sim[self.mask].reshape(N, -1)\n",
    "\n",
    "        labels = torch.zeros(N).to(positive_clusters.device).long()\n",
    "        logits = torch.cat((positive_clusters, negative_clusters), dim=1)\n",
    "        loss = self.criterion(logits, labels)\n",
    "        loss /= N\n",
    "\n",
    "        return loss + ne_loss\n"
   ],
   "metadata": {
    "collapsed": false,
    "pycharm": {
     "name": "#%%\n"
    }
   }
  },
  {
   "cell_type": "code",
   "execution_count": 59,
   "outputs": [],
   "source": [
    "# loss_device=torch.device('cuda')\n",
    "# instance_loss=InstanceLoss(batch_size=args.batch_size,temperature=0.5,device=loss_device)\n",
    "# cluster_loss=ClusterLoss(class_num=class_num,temperature=0.5,device=loss_device)\n",
    "# loss_epoch = 0\n",
    "# for step, (data,label) in enumerate(scTrainDataLoader):\n",
    "#     optimizer.zero_grad()\n",
    "#     x_i=data.clone().to('cuda')\n",
    "#     x_j=data.clone().to('cuda')\n",
    "#     z_i,z_j,c_i,c_j=model(x_i,x_j)\n",
    "#     loss_instance=instance_loss(z_i,z_j)\n",
    "#     loss_cluster=cluster_loss(c_i,c_j)\n",
    "#     loss = loss_instance + loss_cluster\n",
    "#     loss.backward()\n",
    "#     optimizer.step()\n",
    "#     if step % 10 == 0:\n",
    "#         print(\n",
    "#             f\"Step [{step}/{len(scTrainDataLoader)}]\\t loss_instance: {loss_instance.item()}\\t loss_cluster: {loss_cluster.item()}\")\n",
    "#     loss_epoch += loss.item()\n"
   ],
   "metadata": {
    "collapsed": false,
    "pycharm": {
     "name": "#%%\n"
    }
   }
  },
  {
   "cell_type": "code",
   "execution_count": 60,
   "outputs": [],
   "source": [
    "def train(instance_loss,cluster_loss,device):\n",
    "    loss_epoch = 0\n",
    "    for step, (data,label) in enumerate(scTrainDataLoader):\n",
    "        optimizer.zero_grad()\n",
    "        x_i=data.clone().to('cuda')\n",
    "        x_j=data.clone().to('cuda')\n",
    "        z_i,z_j,c_i,c_j=model(x_i,x_j)\n",
    "        loss_instance=instance_loss(z_i,z_j)\n",
    "        loss_cluster=cluster_loss(c_i,c_j)\n",
    "        loss = loss_instance + loss_cluster\n",
    "        loss.backward()\n",
    "        optimizer.step()\n",
    "        if step % 10 == 0:\n",
    "            print(\n",
    "                f\"Step [{step}/{len(scTrainDataLoader)}]\\t loss_instance: {loss_instance.item()}\\t loss_cluster: {loss_cluster.item()}\")\n",
    "        loss_epoch += loss.item()\n",
    "    return loss_epoch\n"
   ],
   "metadata": {
    "collapsed": false,
    "pycharm": {
     "name": "#%%\n"
    }
   }
  },
  {
   "cell_type": "code",
   "execution_count": 61,
   "outputs": [],
   "source": [
    "def inference(loader, model, device):\n",
    "    model.eval()\n",
    "    feature_vector = []\n",
    "    labels_vector = []\n",
    "    for step, (x, y) in enumerate(loader):\n",
    "        x = x.to(device)\n",
    "        with torch.no_grad():\n",
    "            c = model.forward_cluster(x)\n",
    "        c = c.detach()\n",
    "        feature_vector.extend(c.cpu().detach().numpy())\n",
    "        labels_vector.extend(y.numpy())\n",
    "        if step % 20 == 0:\n",
    "            print(f\"Step [{step}/{len(loader)}]\\t Computing features...\")\n",
    "    feature_vector = np.array(feature_vector)\n",
    "    labels_vector = np.array(labels_vector)\n",
    "    print(\"Features shape {}\".format(feature_vector.shape))\n",
    "    # print(feature_vector.shape, labels_vector.shape)\n",
    "    return feature_vector, labels_vector"
   ],
   "metadata": {
    "collapsed": false,
    "pycharm": {
     "name": "#%%\n"
    }
   }
  },
  {
   "cell_type": "code",
   "execution_count": 62,
   "outputs": [],
   "source": [
    "from evaluation import evaluation\n",
    "def test():\n",
    "    device = torch.device(\"cuda\" if torch.cuda.is_available() else \"cpu\")\n",
    "    X, Y = inference(scValidDataLoader, model, device)\n",
    "    print(X.shape,Y.shape)\n",
    "    nmi, ari, f, acc = evaluation.evaluate(Y.reshape(-1), X)\n",
    "    # print('NMI = {:.4f} ARI = {:.4f} F = {:.4f} ACC = {:.4f}'.format(nmi, ari, f, acc))\n",
    "    return nmi, ari, f, acc"
   ],
   "metadata": {
    "collapsed": false,
    "pycharm": {
     "name": "#%%\n"
    }
   }
  },
  {
   "cell_type": "code",
   "execution_count": 63,
   "outputs": [
    {
     "name": "stderr",
     "output_type": "stream",
     "text": [
      "D:\\Environment\\Conda\\envs\\torchenv\\lib\\site-packages\\torch\\nn\\modules\\container.py:141: UserWarning: Implicit dimension choice for softmax has been deprecated. Change the call to include dim=X as an argument.\n",
      "  input = module(input)\n"
     ]
    },
    {
     "name": "stdout",
     "output_type": "stream",
     "text": [
      "Step [0/26]\t loss_instance: 6.235459327697754\t loss_cluster: 3.299295425415039\n",
      "Step [10/26]\t loss_instance: 6.23478364944458\t loss_cluster: 3.2991437911987305\n",
      "Step [20/26]\t loss_instance: 6.233165264129639\t loss_cluster: 3.2989718914031982\n",
      "\n",
      "Epoch [0/250]\t Loss: 9.533355712890625 \n",
      "\n",
      "Step [0/6]\t Computing features...\n",
      "Features shape (1536,)\n",
      "(1536,) (1536, 1)\n",
      "Test NMI = 0.0000 ARI = 0.0000 F = 0.4503 ACC = 0.0000\n",
      "================================================================\n",
      "\n"
     ]
    },
    {
     "name": "stderr",
     "output_type": "stream",
     "text": [
      "D:\\Environment\\Conda\\envs\\torchenv\\lib\\site-packages\\torch\\nn\\modules\\container.py:141: UserWarning: Implicit dimension choice for softmax has been deprecated. Change the call to include dim=X as an argument.\n",
      "  input = module(input)\n"
     ]
    },
    {
     "name": "stdout",
     "output_type": "stream",
     "text": [
      "Step [0/26]\t loss_instance: 6.230070114135742\t loss_cluster: 3.299062728881836\n",
      "Step [10/26]\t loss_instance: 6.211739540100098\t loss_cluster: 3.2989485263824463\n",
      "Step [20/26]\t loss_instance: 6.148469924926758\t loss_cluster: 3.298853635787964\n",
      "\n",
      "Epoch [1/250]\t Loss: 9.488059484041655 \n",
      "\n",
      "Step [0/6]\t Computing features...\n",
      "Features shape (1536,)\n",
      "(1536,) (1536, 1)\n",
      "Test NMI = 0.0130 ARI = 0.0024 F = 0.4505 ACC = 0.0026\n",
      "================================================================\n",
      "\n"
     ]
    },
    {
     "name": "stderr",
     "output_type": "stream",
     "text": [
      "D:\\Environment\\Conda\\envs\\torchenv\\lib\\site-packages\\torch\\nn\\modules\\container.py:141: UserWarning: Implicit dimension choice for softmax has been deprecated. Change the call to include dim=X as an argument.\n",
      "  input = module(input)\n"
     ]
    },
    {
     "name": "stdout",
     "output_type": "stream",
     "text": [
      "Step [0/26]\t loss_instance: 6.093242645263672\t loss_cluster: 3.2988133430480957\n",
      "Step [10/26]\t loss_instance: 5.938159942626953\t loss_cluster: 3.298691749572754\n",
      "Step [20/26]\t loss_instance: 5.793799877166748\t loss_cluster: 3.298506021499634\n",
      "\n",
      "Epoch [2/250]\t Loss: 9.212032831632174 \n",
      "\n",
      "Step [0/6]\t Computing features...\n",
      "Features shape (1536,)\n",
      "(1536,) (1536, 1)\n",
      "Test NMI = 0.4713 ARI = 0.3232 F = 0.5938 ACC = 0.0000\n",
      "================================================================\n",
      "\n"
     ]
    },
    {
     "name": "stderr",
     "output_type": "stream",
     "text": [
      "D:\\Environment\\Conda\\envs\\torchenv\\lib\\site-packages\\torch\\nn\\modules\\container.py:141: UserWarning: Implicit dimension choice for softmax has been deprecated. Change the call to include dim=X as an argument.\n",
      "  input = module(input)\n"
     ]
    },
    {
     "name": "stdout",
     "output_type": "stream",
     "text": [
      "Step [0/26]\t loss_instance: 5.724358558654785\t loss_cluster: 3.2983367443084717\n",
      "Step [10/26]\t loss_instance: 5.704592227935791\t loss_cluster: 3.297996759414673\n",
      "Step [20/26]\t loss_instance: 5.607341766357422\t loss_cluster: 3.2972633838653564\n",
      "\n",
      "Epoch [3/250]\t Loss: 8.969331741333008 \n",
      "\n",
      "Step [0/6]\t Computing features...\n",
      "Features shape (1536,)\n",
      "(1536,) (1536, 1)\n",
      "Test NMI = 0.4215 ARI = 0.2973 F = 0.5632 ACC = 0.0039\n",
      "================================================================\n",
      "\n"
     ]
    },
    {
     "name": "stderr",
     "output_type": "stream",
     "text": [
      "D:\\Environment\\Conda\\envs\\torchenv\\lib\\site-packages\\torch\\nn\\modules\\container.py:141: UserWarning: Implicit dimension choice for softmax has been deprecated. Change the call to include dim=X as an argument.\n",
      "  input = module(input)\n"
     ]
    },
    {
     "name": "stdout",
     "output_type": "stream",
     "text": [
      "Step [0/26]\t loss_instance: 5.587183952331543\t loss_cluster: 3.2968661785125732\n",
      "Step [10/26]\t loss_instance: 5.541687488555908\t loss_cluster: 3.2960658073425293\n",
      "Step [20/26]\t loss_instance: 5.495074272155762\t loss_cluster: 3.2953388690948486\n",
      "\n",
      "Epoch [4/250]\t Loss: 8.831461833073543 \n",
      "\n",
      "Step [0/6]\t Computing features...\n",
      "Features shape (1536,)\n",
      "(1536,) (1536, 1)\n",
      "Test NMI = 0.3296 ARI = 0.2333 F = 0.5058 ACC = 0.0052\n",
      "================================================================\n",
      "\n"
     ]
    },
    {
     "name": "stderr",
     "output_type": "stream",
     "text": [
      "D:\\Environment\\Conda\\envs\\torchenv\\lib\\site-packages\\torch\\nn\\modules\\container.py:141: UserWarning: Implicit dimension choice for softmax has been deprecated. Change the call to include dim=X as an argument.\n",
      "  input = module(input)\n"
     ]
    },
    {
     "name": "stdout",
     "output_type": "stream",
     "text": [
      "Step [0/26]\t loss_instance: 5.471543788909912\t loss_cluster: 3.2945220470428467\n",
      "Step [10/26]\t loss_instance: 5.436828136444092\t loss_cluster: 3.2932615280151367\n",
      "Step [20/26]\t loss_instance: 5.394848346710205\t loss_cluster: 3.2915422916412354\n",
      "\n",
      "Epoch [5/250]\t Loss: 8.72172733453604 \n",
      "\n",
      "Step [0/6]\t Computing features...\n",
      "Features shape (1536,)\n",
      "(1536,) (1536, 1)\n",
      "Test NMI = 0.3194 ARI = 0.2221 F = 0.4947 ACC = 0.0046\n",
      "================================================================\n",
      "\n"
     ]
    },
    {
     "name": "stderr",
     "output_type": "stream",
     "text": [
      "D:\\Environment\\Conda\\envs\\torchenv\\lib\\site-packages\\torch\\nn\\modules\\container.py:141: UserWarning: Implicit dimension choice for softmax has been deprecated. Change the call to include dim=X as an argument.\n",
      "  input = module(input)\n"
     ]
    },
    {
     "name": "stdout",
     "output_type": "stream",
     "text": [
      "Step [0/26]\t loss_instance: 5.378948211669922\t loss_cluster: 3.2902348041534424\n",
      "Step [10/26]\t loss_instance: 5.342435836791992\t loss_cluster: 3.288621664047241\n",
      "Step [20/26]\t loss_instance: 5.302295684814453\t loss_cluster: 3.287238359451294\n",
      "\n",
      "Epoch [6/250]\t Loss: 8.620843117053692 \n",
      "\n",
      "Step [0/6]\t Computing features...\n",
      "Features shape (1536,)\n",
      "(1536,) (1536, 1)\n",
      "Test NMI = 0.3098 ARI = 0.2144 F = 0.4830 ACC = 0.0000\n",
      "================================================================\n",
      "\n"
     ]
    },
    {
     "name": "stderr",
     "output_type": "stream",
     "text": [
      "D:\\Environment\\Conda\\envs\\torchenv\\lib\\site-packages\\torch\\nn\\modules\\container.py:141: UserWarning: Implicit dimension choice for softmax has been deprecated. Change the call to include dim=X as an argument.\n",
      "  input = module(input)\n"
     ]
    },
    {
     "name": "stdout",
     "output_type": "stream",
     "text": [
      "Step [0/26]\t loss_instance: 5.288761615753174\t loss_cluster: 3.2850141525268555\n",
      "Step [10/26]\t loss_instance: 5.252805233001709\t loss_cluster: 3.281280994415283\n",
      "Step [20/26]\t loss_instance: 5.247731685638428\t loss_cluster: 3.278907299041748\n",
      "\n",
      "Epoch [7/250]\t Loss: 8.522282123565674 \n",
      "\n",
      "Step [0/6]\t Computing features...\n",
      "Features shape (1536,)\n",
      "(1536,) (1536, 1)\n",
      "Test NMI = 0.3899 ARI = 0.2741 F = 0.5086 ACC = 0.4772\n",
      "================================================================\n",
      "\n"
     ]
    },
    {
     "name": "stderr",
     "output_type": "stream",
     "text": [
      "D:\\Environment\\Conda\\envs\\torchenv\\lib\\site-packages\\torch\\nn\\modules\\container.py:141: UserWarning: Implicit dimension choice for softmax has been deprecated. Change the call to include dim=X as an argument.\n",
      "  input = module(input)\n"
     ]
    },
    {
     "name": "stdout",
     "output_type": "stream",
     "text": [
      "Step [0/26]\t loss_instance: 5.201890468597412\t loss_cluster: 3.276677370071411\n",
      "Step [10/26]\t loss_instance: 5.216188907623291\t loss_cluster: 3.2687253952026367\n",
      "Step [20/26]\t loss_instance: 5.1543779373168945\t loss_cluster: 3.261714220046997\n",
      "\n",
      "Epoch [8/250]\t Loss: 8.439217787522535 \n",
      "\n",
      "Step [0/6]\t Computing features...\n",
      "Features shape (1536,)\n",
      "(1536,) (1536, 1)\n",
      "Test NMI = 0.4238 ARI = 0.3099 F = 0.4921 ACC = 0.5059\n",
      "================================================================\n",
      "\n"
     ]
    },
    {
     "name": "stderr",
     "output_type": "stream",
     "text": [
      "D:\\Environment\\Conda\\envs\\torchenv\\lib\\site-packages\\torch\\nn\\modules\\container.py:141: UserWarning: Implicit dimension choice for softmax has been deprecated. Change the call to include dim=X as an argument.\n",
      "  input = module(input)\n"
     ]
    },
    {
     "name": "stdout",
     "output_type": "stream",
     "text": [
      "Step [0/26]\t loss_instance: 5.113925933837891\t loss_cluster: 3.261789560317993\n",
      "Step [10/26]\t loss_instance: 5.132018566131592\t loss_cluster: 3.2590062618255615\n",
      "Step [20/26]\t loss_instance: 5.06048059463501\t loss_cluster: 3.2468700408935547\n",
      "\n",
      "Epoch [9/250]\t Loss: 8.360708970289965 \n",
      "\n",
      "Step [0/6]\t Computing features...\n",
      "Features shape (1536,)\n",
      "(1536,) (1536, 1)\n",
      "Test NMI = 0.3818 ARI = 0.2200 F = 0.4014 ACC = 0.4219\n",
      "================================================================\n",
      "\n"
     ]
    },
    {
     "name": "stderr",
     "output_type": "stream",
     "text": [
      "D:\\Environment\\Conda\\envs\\torchenv\\lib\\site-packages\\torch\\nn\\modules\\container.py:141: UserWarning: Implicit dimension choice for softmax has been deprecated. Change the call to include dim=X as an argument.\n",
      "  input = module(input)\n"
     ]
    },
    {
     "name": "stdout",
     "output_type": "stream",
     "text": [
      "Step [0/26]\t loss_instance: 5.056209087371826\t loss_cluster: 3.245879888534546\n",
      "Step [10/26]\t loss_instance: 5.023123741149902\t loss_cluster: 3.232987880706787\n",
      "Step [20/26]\t loss_instance: 4.99361515045166\t loss_cluster: 3.226783275604248\n",
      "\n",
      "Epoch [10/250]\t Loss: 8.260604161482592 \n",
      "\n",
      "Step [0/6]\t Computing features...\n",
      "Features shape (1536,)\n",
      "(1536,) (1536, 1)\n",
      "Test NMI = 0.3680 ARI = 0.2081 F = 0.4029 ACC = 0.3861\n",
      "================================================================\n",
      "\n"
     ]
    },
    {
     "name": "stderr",
     "output_type": "stream",
     "text": [
      "D:\\Environment\\Conda\\envs\\torchenv\\lib\\site-packages\\torch\\nn\\modules\\container.py:141: UserWarning: Implicit dimension choice for softmax has been deprecated. Change the call to include dim=X as an argument.\n",
      "  input = module(input)\n"
     ]
    },
    {
     "name": "stdout",
     "output_type": "stream",
     "text": [
      "Step [0/26]\t loss_instance: 4.987482070922852\t loss_cluster: 3.2204058170318604\n",
      "Step [10/26]\t loss_instance: 4.9336371421813965\t loss_cluster: 3.2060420513153076\n",
      "Step [20/26]\t loss_instance: 4.902090072631836\t loss_cluster: 3.1988871097564697\n",
      "\n",
      "Epoch [11/250]\t Loss: 8.154020933004526 \n",
      "\n",
      "Step [0/6]\t Computing features...\n",
      "Features shape (1536,)\n",
      "(1536,) (1536, 1)\n",
      "Test NMI = 0.3742 ARI = 0.2210 F = 0.4172 ACC = 0.3978\n",
      "================================================================\n",
      "\n"
     ]
    },
    {
     "name": "stderr",
     "output_type": "stream",
     "text": [
      "D:\\Environment\\Conda\\envs\\torchenv\\lib\\site-packages\\torch\\nn\\modules\\container.py:141: UserWarning: Implicit dimension choice for softmax has been deprecated. Change the call to include dim=X as an argument.\n",
      "  input = module(input)\n"
     ]
    },
    {
     "name": "stdout",
     "output_type": "stream",
     "text": [
      "Step [0/26]\t loss_instance: 4.934559345245361\t loss_cluster: 3.181149482727051\n",
      "Step [10/26]\t loss_instance: 4.8963165283203125\t loss_cluster: 3.175933837890625\n",
      "Step [20/26]\t loss_instance: 4.837460041046143\t loss_cluster: 3.162773609161377\n",
      "\n",
      "Epoch [12/250]\t Loss: 8.05765412403987 \n",
      "\n",
      "Step [0/6]\t Computing features...\n",
      "Features shape (1536,)\n",
      "(1536,) (1536, 1)\n",
      "Test NMI = 0.3933 ARI = 0.2337 F = 0.4303 ACC = 0.4147\n",
      "================================================================\n",
      "\n"
     ]
    },
    {
     "name": "stderr",
     "output_type": "stream",
     "text": [
      "D:\\Environment\\Conda\\envs\\torchenv\\lib\\site-packages\\torch\\nn\\modules\\container.py:141: UserWarning: Implicit dimension choice for softmax has been deprecated. Change the call to include dim=X as an argument.\n",
      "  input = module(input)\n"
     ]
    },
    {
     "name": "stdout",
     "output_type": "stream",
     "text": [
      "Step [0/26]\t loss_instance: 4.907850742340088\t loss_cluster: 3.139608144760132\n",
      "Step [10/26]\t loss_instance: 4.88263463973999\t loss_cluster: 3.1334264278411865\n",
      "Step [20/26]\t loss_instance: 4.849358558654785\t loss_cluster: 3.118130683898926\n",
      "\n",
      "Epoch [13/250]\t Loss: 7.986902677095854 \n",
      "\n",
      "Step [0/6]\t Computing features...\n",
      "Features shape (1536,)\n",
      "(1536,) (1536, 1)\n",
      "Test NMI = 0.3981 ARI = 0.2424 F = 0.4387 ACC = 0.4401\n",
      "================================================================\n",
      "\n"
     ]
    },
    {
     "name": "stderr",
     "output_type": "stream",
     "text": [
      "D:\\Environment\\Conda\\envs\\torchenv\\lib\\site-packages\\torch\\nn\\modules\\container.py:141: UserWarning: Implicit dimension choice for softmax has been deprecated. Change the call to include dim=X as an argument.\n",
      "  input = module(input)\n"
     ]
    },
    {
     "name": "stdout",
     "output_type": "stream",
     "text": [
      "Step [0/26]\t loss_instance: 4.837599754333496\t loss_cluster: 3.1088757514953613\n",
      "Step [10/26]\t loss_instance: 4.827608585357666\t loss_cluster: 3.08736252784729\n",
      "Step [20/26]\t loss_instance: 4.877664566040039\t loss_cluster: 3.074007749557495\n",
      "\n",
      "Epoch [14/250]\t Loss: 7.922773416225727 \n",
      "\n",
      "Step [0/6]\t Computing features...\n",
      "Features shape (1536,)\n",
      "(1536,) (1536, 1)\n",
      "Test NMI = 0.4184 ARI = 0.2613 F = 0.4676 ACC = 0.4583\n",
      "================================================================\n",
      "\n"
     ]
    },
    {
     "name": "stderr",
     "output_type": "stream",
     "text": [
      "D:\\Environment\\Conda\\envs\\torchenv\\lib\\site-packages\\torch\\nn\\modules\\container.py:141: UserWarning: Implicit dimension choice for softmax has been deprecated. Change the call to include dim=X as an argument.\n",
      "  input = module(input)\n"
     ]
    },
    {
     "name": "stdout",
     "output_type": "stream",
     "text": [
      "Step [0/26]\t loss_instance: 4.8259124755859375\t loss_cluster: 3.0611891746520996\n",
      "Step [10/26]\t loss_instance: 4.814228534698486\t loss_cluster: 3.0474157333374023\n",
      "Step [20/26]\t loss_instance: 4.791269779205322\t loss_cluster: 3.038357734680176\n",
      "\n",
      "Epoch [15/250]\t Loss: 7.85908187352694 \n",
      "\n",
      "Step [0/6]\t Computing features...\n",
      "Features shape (1536,)\n",
      "(1536,) (1536, 1)\n",
      "Test NMI = 0.4254 ARI = 0.2704 F = 0.4788 ACC = 0.4635\n",
      "================================================================\n",
      "\n"
     ]
    },
    {
     "name": "stderr",
     "output_type": "stream",
     "text": [
      "D:\\Environment\\Conda\\envs\\torchenv\\lib\\site-packages\\torch\\nn\\modules\\container.py:141: UserWarning: Implicit dimension choice for softmax has been deprecated. Change the call to include dim=X as an argument.\n",
      "  input = module(input)\n"
     ]
    },
    {
     "name": "stdout",
     "output_type": "stream",
     "text": [
      "Step [0/26]\t loss_instance: 4.750359535217285\t loss_cluster: 3.0349466800689697\n",
      "Step [10/26]\t loss_instance: 4.836129665374756\t loss_cluster: 3.0094828605651855\n",
      "Step [20/26]\t loss_instance: 4.825568675994873\t loss_cluster: 2.9861226081848145\n",
      "\n",
      "Epoch [16/250]\t Loss: 7.808776910488422 \n",
      "\n",
      "Step [0/6]\t Computing features...\n",
      "Features shape (1536,)\n",
      "(1536,) (1536, 1)\n",
      "Test NMI = 0.4425 ARI = 0.2877 F = 0.5076 ACC = 0.4512\n",
      "================================================================\n",
      "\n",
      "Step [0/26]\t loss_instance: 4.769104480743408\t loss_cluster: 2.9862279891967773\n"
     ]
    },
    {
     "name": "stderr",
     "output_type": "stream",
     "text": [
      "D:\\Environment\\Conda\\envs\\torchenv\\lib\\site-packages\\torch\\nn\\modules\\container.py:141: UserWarning: Implicit dimension choice for softmax has been deprecated. Change the call to include dim=X as an argument.\n",
      "  input = module(input)\n"
     ]
    },
    {
     "name": "stdout",
     "output_type": "stream",
     "text": [
      "Step [10/26]\t loss_instance: 4.765156269073486\t loss_cluster: 2.9686505794525146\n",
      "Step [20/26]\t loss_instance: 4.771440029144287\t loss_cluster: 2.9539287090301514\n",
      "\n",
      "Epoch [17/250]\t Loss: 7.755018729429978 \n",
      "\n",
      "Step [0/6]\t Computing features...\n",
      "Features shape (1536,)\n",
      "(1536,) (1536, 1)\n",
      "Test NMI = 0.4544 ARI = 0.3014 F = 0.5269 ACC = 0.4395\n",
      "================================================================\n",
      "\n"
     ]
    },
    {
     "name": "stderr",
     "output_type": "stream",
     "text": [
      "D:\\Environment\\Conda\\envs\\torchenv\\lib\\site-packages\\torch\\nn\\modules\\container.py:141: UserWarning: Implicit dimension choice for softmax has been deprecated. Change the call to include dim=X as an argument.\n",
      "  input = module(input)\n"
     ]
    },
    {
     "name": "stdout",
     "output_type": "stream",
     "text": [
      "Step [0/26]\t loss_instance: 4.762557029724121\t loss_cluster: 2.9483683109283447\n",
      "Step [10/26]\t loss_instance: 4.774312973022461\t loss_cluster: 2.932563543319702\n",
      "Step [20/26]\t loss_instance: 4.697733402252197\t loss_cluster: 2.9453978538513184\n",
      "\n",
      "Epoch [18/250]\t Loss: 7.7101440613086405 \n",
      "\n",
      "Step [0/6]\t Computing features...\n",
      "Features shape (1536,)\n",
      "(1536,) (1536, 1)\n",
      "Test NMI = 0.4646 ARI = 0.3055 F = 0.5378 ACC = 0.4212\n",
      "================================================================\n",
      "\n"
     ]
    },
    {
     "name": "stderr",
     "output_type": "stream",
     "text": [
      "D:\\Environment\\Conda\\envs\\torchenv\\lib\\site-packages\\torch\\nn\\modules\\container.py:141: UserWarning: Implicit dimension choice for softmax has been deprecated. Change the call to include dim=X as an argument.\n",
      "  input = module(input)\n"
     ]
    },
    {
     "name": "stdout",
     "output_type": "stream",
     "text": [
      "Step [0/26]\t loss_instance: 4.764728546142578\t loss_cluster: 2.912518262863159\n",
      "Step [10/26]\t loss_instance: 4.776236534118652\t loss_cluster: 2.893667459487915\n",
      "Step [20/26]\t loss_instance: 4.772881031036377\t loss_cluster: 2.8898489475250244\n",
      "\n",
      "Epoch [19/250]\t Loss: 7.66957086783189 \n",
      "\n",
      "Step [0/6]\t Computing features...\n",
      "Features shape (1536,)\n",
      "(1536,) (1536, 1)\n",
      "Test NMI = 0.4614 ARI = 0.2968 F = 0.5181 ACC = 0.4479\n",
      "================================================================\n",
      "\n"
     ]
    },
    {
     "name": "stderr",
     "output_type": "stream",
     "text": [
      "D:\\Environment\\Conda\\envs\\torchenv\\lib\\site-packages\\torch\\nn\\modules\\container.py:141: UserWarning: Implicit dimension choice for softmax has been deprecated. Change the call to include dim=X as an argument.\n",
      "  input = module(input)\n"
     ]
    },
    {
     "name": "stdout",
     "output_type": "stream",
     "text": [
      "Step [0/26]\t loss_instance: 4.760798931121826\t loss_cluster: 2.884510040283203\n",
      "Step [10/26]\t loss_instance: 4.877086162567139\t loss_cluster: 2.8692851066589355\n",
      "Step [20/26]\t loss_instance: 4.738243103027344\t loss_cluster: 2.871248960494995\n",
      "\n",
      "Epoch [20/250]\t Loss: 7.635752311119666 \n",
      "\n",
      "Step [0/6]\t Computing features...\n",
      "Features shape (1536,)\n",
      "(1536,) (1536, 1)\n",
      "Test NMI = 0.4568 ARI = 0.2941 F = 0.5035 ACC = 0.4492\n",
      "================================================================\n",
      "\n"
     ]
    },
    {
     "name": "stderr",
     "output_type": "stream",
     "text": [
      "D:\\Environment\\Conda\\envs\\torchenv\\lib\\site-packages\\torch\\nn\\modules\\container.py:141: UserWarning: Implicit dimension choice for softmax has been deprecated. Change the call to include dim=X as an argument.\n",
      "  input = module(input)\n"
     ]
    },
    {
     "name": "stdout",
     "output_type": "stream",
     "text": [
      "Step [0/26]\t loss_instance: 4.770776271820068\t loss_cluster: 2.8528120517730713\n",
      "Step [10/26]\t loss_instance: 4.738529682159424\t loss_cluster: 2.8557631969451904\n",
      "Step [20/26]\t loss_instance: 4.712521553039551\t loss_cluster: 2.8503835201263428\n",
      "\n",
      "Epoch [21/250]\t Loss: 7.599937787422767 \n",
      "\n",
      "Step [0/6]\t Computing features...\n",
      "Features shape (1536,)\n",
      "(1536,) (1536, 1)\n",
      "Test NMI = 0.4657 ARI = 0.3008 F = 0.4776 ACC = 0.4857\n",
      "================================================================\n",
      "\n"
     ]
    },
    {
     "name": "stderr",
     "output_type": "stream",
     "text": [
      "D:\\Environment\\Conda\\envs\\torchenv\\lib\\site-packages\\torch\\nn\\modules\\container.py:141: UserWarning: Implicit dimension choice for softmax has been deprecated. Change the call to include dim=X as an argument.\n",
      "  input = module(input)\n"
     ]
    },
    {
     "name": "stdout",
     "output_type": "stream",
     "text": [
      "Step [0/26]\t loss_instance: 4.770277500152588\t loss_cluster: 2.8333699703216553\n",
      "Step [10/26]\t loss_instance: 4.718173027038574\t loss_cluster: 2.835705518722534\n",
      "Step [20/26]\t loss_instance: 4.7453413009643555\t loss_cluster: 2.8236873149871826\n",
      "\n",
      "Epoch [22/250]\t Loss: 7.574013013106126 \n",
      "\n",
      "Step [0/6]\t Computing features...\n",
      "Features shape (1536,)\n",
      "(1536,) (1536, 1)\n",
      "Test NMI = 0.4782 ARI = 0.3178 F = 0.4687 ACC = 0.5124\n",
      "================================================================\n",
      "\n",
      "Step [0/26]\t loss_instance: 4.798739910125732\t loss_cluster: 2.8143579959869385\n"
     ]
    },
    {
     "name": "stderr",
     "output_type": "stream",
     "text": [
      "D:\\Environment\\Conda\\envs\\torchenv\\lib\\site-packages\\torch\\nn\\modules\\container.py:141: UserWarning: Implicit dimension choice for softmax has been deprecated. Change the call to include dim=X as an argument.\n",
      "  input = module(input)\n"
     ]
    },
    {
     "name": "stdout",
     "output_type": "stream",
     "text": [
      "Step [10/26]\t loss_instance: 4.814795017242432\t loss_cluster: 2.8053460121154785\n",
      "Step [20/26]\t loss_instance: 4.704212665557861\t loss_cluster: 2.8176119327545166\n",
      "\n",
      "Epoch [23/250]\t Loss: 7.549824567941519 \n",
      "\n",
      "Step [0/6]\t Computing features...\n",
      "Features shape (1536,)\n",
      "(1536,) (1536, 1)\n",
      "Test NMI = 0.5239 ARI = 0.4222 F = 0.5368 ACC = 0.5820\n",
      "================================================================\n",
      "\n",
      "Step [0/26]\t loss_instance: 4.735367774963379\t loss_cluster: 2.804518222808838\n"
     ]
    },
    {
     "name": "stderr",
     "output_type": "stream",
     "text": [
      "D:\\Environment\\Conda\\envs\\torchenv\\lib\\site-packages\\torch\\nn\\modules\\container.py:141: UserWarning: Implicit dimension choice for softmax has been deprecated. Change the call to include dim=X as an argument.\n",
      "  input = module(input)\n"
     ]
    },
    {
     "name": "stdout",
     "output_type": "stream",
     "text": [
      "Step [10/26]\t loss_instance: 4.7641282081604\t loss_cluster: 2.795405626296997\n",
      "Step [20/26]\t loss_instance: 4.697269916534424\t loss_cluster: 2.804161548614502\n",
      "\n",
      "Epoch [24/250]\t Loss: 7.529731842187735 \n",
      "\n",
      "Step [0/6]\t Computing features...\n",
      "Features shape (1536,)\n",
      "(1536,) (1536, 1)\n",
      "Test NMI = 0.5607 ARI = 0.4846 F = 0.5883 ACC = 0.6302\n",
      "================================================================\n",
      "\n"
     ]
    },
    {
     "name": "stderr",
     "output_type": "stream",
     "text": [
      "D:\\Environment\\Conda\\envs\\torchenv\\lib\\site-packages\\torch\\nn\\modules\\container.py:141: UserWarning: Implicit dimension choice for softmax has been deprecated. Change the call to include dim=X as an argument.\n",
      "  input = module(input)\n"
     ]
    },
    {
     "name": "stdout",
     "output_type": "stream",
     "text": [
      "Step [0/26]\t loss_instance: 4.745882511138916\t loss_cluster: 2.788145065307617\n",
      "Step [10/26]\t loss_instance: 4.697522163391113\t loss_cluster: 2.7885890007019043\n",
      "Step [20/26]\t loss_instance: 4.727010250091553\t loss_cluster: 2.7775776386260986\n",
      "\n",
      "Epoch [25/250]\t Loss: 7.504880556693444 \n",
      "\n",
      "Step [0/6]\t Computing features...\n",
      "Features shape (1536,)\n",
      "(1536,) (1536, 1)\n",
      "Test NMI = 0.5833 ARI = 0.5191 F = 0.6157 ACC = 0.6517\n",
      "================================================================\n",
      "\n",
      "Step [0/26]\t loss_instance: 4.711999416351318\t loss_cluster: 2.7730226516723633\n"
     ]
    },
    {
     "name": "stderr",
     "output_type": "stream",
     "text": [
      "D:\\Environment\\Conda\\envs\\torchenv\\lib\\site-packages\\torch\\nn\\modules\\container.py:141: UserWarning: Implicit dimension choice for softmax has been deprecated. Change the call to include dim=X as an argument.\n",
      "  input = module(input)\n"
     ]
    },
    {
     "name": "stdout",
     "output_type": "stream",
     "text": [
      "Step [10/26]\t loss_instance: 4.727417945861816\t loss_cluster: 2.763561487197876\n",
      "Step [20/26]\t loss_instance: 4.6540656089782715\t loss_cluster: 2.7798118591308594\n",
      "\n",
      "Epoch [26/250]\t Loss: 7.4707848475529595 \n",
      "\n",
      "Step [0/6]\t Computing features...\n",
      "Features shape (1536,)\n",
      "(1536,) (1536, 1)\n",
      "Test NMI = 0.5908 ARI = 0.5483 F = 0.6368 ACC = 0.6413\n",
      "================================================================\n",
      "\n"
     ]
    },
    {
     "name": "stderr",
     "output_type": "stream",
     "text": [
      "D:\\Environment\\Conda\\envs\\torchenv\\lib\\site-packages\\torch\\nn\\modules\\container.py:141: UserWarning: Implicit dimension choice for softmax has been deprecated. Change the call to include dim=X as an argument.\n",
      "  input = module(input)\n"
     ]
    },
    {
     "name": "stdout",
     "output_type": "stream",
     "text": [
      "Step [0/26]\t loss_instance: 4.675515174865723\t loss_cluster: 2.760313034057617\n",
      "Step [10/26]\t loss_instance: 4.687783241271973\t loss_cluster: 2.7499847412109375\n",
      "Step [20/26]\t loss_instance: 4.636153221130371\t loss_cluster: 2.7594492435455322\n",
      "\n",
      "Epoch [27/250]\t Loss: 7.433606221125676 \n",
      "\n",
      "Step [0/6]\t Computing features...\n",
      "Features shape (1536,)\n",
      "(1536,) (1536, 1)\n",
      "Test NMI = 0.5897 ARI = 0.5353 F = 0.6245 ACC = 0.6146\n",
      "================================================================\n",
      "\n",
      "Step [0/26]\t loss_instance: 4.697640419006348\t loss_cluster: 2.7224819660186768\n"
     ]
    },
    {
     "name": "stderr",
     "output_type": "stream",
     "text": [
      "D:\\Environment\\Conda\\envs\\torchenv\\lib\\site-packages\\torch\\nn\\modules\\container.py:141: UserWarning: Implicit dimension choice for softmax has been deprecated. Change the call to include dim=X as an argument.\n",
      "  input = module(input)\n"
     ]
    },
    {
     "name": "stdout",
     "output_type": "stream",
     "text": [
      "Step [10/26]\t loss_instance: 4.6411051750183105\t loss_cluster: 2.726113796234131\n",
      "Step [20/26]\t loss_instance: 4.6510114669799805\t loss_cluster: 2.7074391841888428\n",
      "\n",
      "Epoch [28/250]\t Loss: 7.371239258692815 \n",
      "\n",
      "Step [0/6]\t Computing features...\n",
      "Features shape (1536,)\n",
      "(1536,) (1536, 1)\n",
      "Test NMI = 0.5796 ARI = 0.5203 F = 0.6117 ACC = 0.5905\n",
      "================================================================\n",
      "\n"
     ]
    },
    {
     "name": "stderr",
     "output_type": "stream",
     "text": [
      "D:\\Environment\\Conda\\envs\\torchenv\\lib\\site-packages\\torch\\nn\\modules\\container.py:141: UserWarning: Implicit dimension choice for softmax has been deprecated. Change the call to include dim=X as an argument.\n",
      "  input = module(input)\n"
     ]
    },
    {
     "name": "stdout",
     "output_type": "stream",
     "text": [
      "Step [0/26]\t loss_instance: 4.654778957366943\t loss_cluster: 2.7010068893432617\n",
      "Step [10/26]\t loss_instance: 4.649962425231934\t loss_cluster: 2.6959028244018555\n",
      "Step [20/26]\t loss_instance: 4.5915303230285645\t loss_cluster: 2.706414222717285\n",
      "\n",
      "Epoch [29/250]\t Loss: 7.32120941235469 \n",
      "\n",
      "Step [0/6]\t Computing features...\n",
      "Features shape (1536,)\n",
      "(1536,) (1536, 1)\n",
      "Test NMI = 0.5725 ARI = 0.5217 F = 0.6126 ACC = 0.5768\n",
      "================================================================\n",
      "\n"
     ]
    },
    {
     "name": "stderr",
     "output_type": "stream",
     "text": [
      "D:\\Environment\\Conda\\envs\\torchenv\\lib\\site-packages\\torch\\nn\\modules\\container.py:141: UserWarning: Implicit dimension choice for softmax has been deprecated. Change the call to include dim=X as an argument.\n",
      "  input = module(input)\n"
     ]
    },
    {
     "name": "stdout",
     "output_type": "stream",
     "text": [
      "Step [0/26]\t loss_instance: 4.604735851287842\t loss_cluster: 2.6876473426818848\n",
      "Step [10/26]\t loss_instance: 4.580968379974365\t loss_cluster: 2.7090537548065186\n",
      "Step [20/26]\t loss_instance: 4.641972541809082\t loss_cluster: 2.6534643173217773\n",
      "\n",
      "Epoch [30/250]\t Loss: 7.282409209471482 \n",
      "\n",
      "Step [0/6]\t Computing features...\n",
      "Features shape (1536,)\n",
      "(1536,) (1536, 1)\n",
      "Test NMI = 0.5677 ARI = 0.5227 F = 0.6120 ACC = 0.5788\n",
      "================================================================\n",
      "\n"
     ]
    },
    {
     "name": "stderr",
     "output_type": "stream",
     "text": [
      "D:\\Environment\\Conda\\envs\\torchenv\\lib\\site-packages\\torch\\nn\\modules\\container.py:141: UserWarning: Implicit dimension choice for softmax has been deprecated. Change the call to include dim=X as an argument.\n",
      "  input = module(input)\n"
     ]
    },
    {
     "name": "stdout",
     "output_type": "stream",
     "text": [
      "Step [0/26]\t loss_instance: 4.615494728088379\t loss_cluster: 2.647754430770874\n",
      "Step [10/26]\t loss_instance: 4.595929145812988\t loss_cluster: 2.649182081222534\n",
      "Step [20/26]\t loss_instance: 4.625462055206299\t loss_cluster: 2.6314308643341064\n",
      "\n",
      "Epoch [31/250]\t Loss: 7.2478368282318115 \n",
      "\n",
      "Step [0/6]\t Computing features...\n",
      "Features shape (1536,)\n",
      "(1536,) (1536, 1)\n",
      "Test NMI = 0.5525 ARI = 0.4951 F = 0.5885 ACC = 0.5299\n",
      "================================================================\n",
      "\n"
     ]
    },
    {
     "name": "stderr",
     "output_type": "stream",
     "text": [
      "D:\\Environment\\Conda\\envs\\torchenv\\lib\\site-packages\\torch\\nn\\modules\\container.py:141: UserWarning: Implicit dimension choice for softmax has been deprecated. Change the call to include dim=X as an argument.\n",
      "  input = module(input)\n"
     ]
    },
    {
     "name": "stdout",
     "output_type": "stream",
     "text": [
      "Step [0/26]\t loss_instance: 4.591931343078613\t loss_cluster: 2.6334285736083984\n",
      "Step [10/26]\t loss_instance: 4.588069915771484\t loss_cluster: 2.6202850341796875\n",
      "Step [20/26]\t loss_instance: 4.605662822723389\t loss_cluster: 2.607348918914795\n",
      "\n",
      "Epoch [32/250]\t Loss: 7.217559997852032 \n",
      "\n",
      "Step [0/6]\t Computing features...\n",
      "Features shape (1536,)\n",
      "(1536,) (1536, 1)\n",
      "Test NMI = 0.5509 ARI = 0.4777 F = 0.5735 ACC = 0.5267\n",
      "================================================================\n",
      "\n"
     ]
    },
    {
     "name": "stderr",
     "output_type": "stream",
     "text": [
      "D:\\Environment\\Conda\\envs\\torchenv\\lib\\site-packages\\torch\\nn\\modules\\container.py:141: UserWarning: Implicit dimension choice for softmax has been deprecated. Change the call to include dim=X as an argument.\n",
      "  input = module(input)\n"
     ]
    },
    {
     "name": "stdout",
     "output_type": "stream",
     "text": [
      "Step [0/26]\t loss_instance: 4.589412212371826\t loss_cluster: 2.6062140464782715\n",
      "Step [10/26]\t loss_instance: 4.568816184997559\t loss_cluster: 2.6140120029449463\n",
      "Step [20/26]\t loss_instance: 4.55747127532959\t loss_cluster: 2.6270763874053955\n",
      "\n",
      "Epoch [33/250]\t Loss: 7.197184489323543 \n",
      "\n",
      "Step [0/6]\t Computing features...\n",
      "Features shape (1536,)\n",
      "(1536,) (1536, 1)\n",
      "Test NMI = 0.5477 ARI = 0.4753 F = 0.5735 ACC = 0.5436\n",
      "================================================================\n",
      "\n"
     ]
    },
    {
     "name": "stderr",
     "output_type": "stream",
     "text": [
      "D:\\Environment\\Conda\\envs\\torchenv\\lib\\site-packages\\torch\\nn\\modules\\container.py:141: UserWarning: Implicit dimension choice for softmax has been deprecated. Change the call to include dim=X as an argument.\n",
      "  input = module(input)\n"
     ]
    },
    {
     "name": "stdout",
     "output_type": "stream",
     "text": [
      "Step [0/26]\t loss_instance: 4.572781085968018\t loss_cluster: 2.609175682067871\n",
      "Step [10/26]\t loss_instance: 4.5793938636779785\t loss_cluster: 2.5944631099700928\n",
      "Step [20/26]\t loss_instance: 4.556232929229736\t loss_cluster: 2.5962424278259277\n",
      "\n",
      "Epoch [34/250]\t Loss: 7.17630751316364 \n",
      "\n",
      "Step [0/6]\t Computing features...\n",
      "Features shape (1536,)\n",
      "(1536,) (1536, 1)\n",
      "Test NMI = 0.5398 ARI = 0.4517 F = 0.5529 ACC = 0.5215\n",
      "================================================================\n",
      "\n",
      "Step [0/26]\t loss_instance: 4.599287986755371\t loss_cluster: 2.568269968032837\n"
     ]
    },
    {
     "name": "stderr",
     "output_type": "stream",
     "text": [
      "D:\\Environment\\Conda\\envs\\torchenv\\lib\\site-packages\\torch\\nn\\modules\\container.py:141: UserWarning: Implicit dimension choice for softmax has been deprecated. Change the call to include dim=X as an argument.\n",
      "  input = module(input)\n"
     ]
    },
    {
     "name": "stdout",
     "output_type": "stream",
     "text": [
      "Step [10/26]\t loss_instance: 4.551449298858643\t loss_cluster: 2.599743604660034\n",
      "Step [20/26]\t loss_instance: 4.609868049621582\t loss_cluster: 2.5570340156555176\n",
      "\n",
      "Epoch [35/250]\t Loss: 7.154315820107093 \n",
      "\n",
      "Step [0/6]\t Computing features...\n",
      "Features shape (1536,)\n",
      "(1536,) (1536, 1)\n",
      "Test NMI = 0.5443 ARI = 0.4696 F = 0.5677 ACC = 0.5430\n",
      "================================================================\n",
      "\n",
      "Step [0/26]\t loss_instance: 4.53413724899292\t loss_cluster: 2.5946903228759766\n"
     ]
    },
    {
     "name": "stderr",
     "output_type": "stream",
     "text": [
      "D:\\Environment\\Conda\\envs\\torchenv\\lib\\site-packages\\torch\\nn\\modules\\container.py:141: UserWarning: Implicit dimension choice for softmax has been deprecated. Change the call to include dim=X as an argument.\n",
      "  input = module(input)\n"
     ]
    },
    {
     "name": "stdout",
     "output_type": "stream",
     "text": [
      "Step [10/26]\t loss_instance: 4.595109462738037\t loss_cluster: 2.568232536315918\n",
      "Step [20/26]\t loss_instance: 4.536962032318115\t loss_cluster: 2.608812093734741\n",
      "\n",
      "Epoch [36/250]\t Loss: 7.1356275631831245 \n",
      "\n",
      "Step [0/6]\t Computing features...\n",
      "Features shape (1536,)\n",
      "(1536,) (1536, 1)\n",
      "Test NMI = 0.5494 ARI = 0.4651 F = 0.5648 ACC = 0.5423\n",
      "================================================================\n",
      "\n"
     ]
    },
    {
     "name": "stderr",
     "output_type": "stream",
     "text": [
      "D:\\Environment\\Conda\\envs\\torchenv\\lib\\site-packages\\torch\\nn\\modules\\container.py:141: UserWarning: Implicit dimension choice for softmax has been deprecated. Change the call to include dim=X as an argument.\n",
      "  input = module(input)\n"
     ]
    },
    {
     "name": "stdout",
     "output_type": "stream",
     "text": [
      "Step [0/26]\t loss_instance: 4.58734130859375\t loss_cluster: 2.5442938804626465\n",
      "Step [10/26]\t loss_instance: 4.562085151672363\t loss_cluster: 2.546119213104248\n",
      "Step [20/26]\t loss_instance: 4.5355730056762695\t loss_cluster: 2.5628340244293213\n",
      "\n",
      "Epoch [37/250]\t Loss: 7.118344655403724 \n",
      "\n",
      "Step [0/6]\t Computing features...\n",
      "Features shape (1536,)\n",
      "(1536,) (1536, 1)\n",
      "Test NMI = 0.5492 ARI = 0.4608 F = 0.5609 ACC = 0.5456\n",
      "================================================================\n",
      "\n"
     ]
    },
    {
     "name": "stderr",
     "output_type": "stream",
     "text": [
      "D:\\Environment\\Conda\\envs\\torchenv\\lib\\site-packages\\torch\\nn\\modules\\container.py:141: UserWarning: Implicit dimension choice for softmax has been deprecated. Change the call to include dim=X as an argument.\n",
      "  input = module(input)\n"
     ]
    },
    {
     "name": "stdout",
     "output_type": "stream",
     "text": [
      "Step [0/26]\t loss_instance: 4.548555850982666\t loss_cluster: 2.5438215732574463\n",
      "Step [10/26]\t loss_instance: 4.584447383880615\t loss_cluster: 2.5246195793151855\n",
      "Step [20/26]\t loss_instance: 4.551349639892578\t loss_cluster: 2.529217481613159\n",
      "\n",
      "Epoch [38/250]\t Loss: 7.102030919148372 \n",
      "\n",
      "Step [0/6]\t Computing features...\n",
      "Features shape (1536,)\n",
      "(1536,) (1536, 1)\n",
      "Test NMI = 0.5534 ARI = 0.4682 F = 0.5675 ACC = 0.5690\n",
      "================================================================\n",
      "\n"
     ]
    },
    {
     "name": "stderr",
     "output_type": "stream",
     "text": [
      "D:\\Environment\\Conda\\envs\\torchenv\\lib\\site-packages\\torch\\nn\\modules\\container.py:141: UserWarning: Implicit dimension choice for softmax has been deprecated. Change the call to include dim=X as an argument.\n",
      "  input = module(input)\n"
     ]
    },
    {
     "name": "stdout",
     "output_type": "stream",
     "text": [
      "Step [0/26]\t loss_instance: 4.545219898223877\t loss_cluster: 2.5439555644989014\n",
      "Step [10/26]\t loss_instance: 4.541596412658691\t loss_cluster: 2.540677070617676\n",
      "Step [20/26]\t loss_instance: 4.531257629394531\t loss_cluster: 2.548781156539917\n",
      "\n",
      "Epoch [39/250]\t Loss: 7.083131093245286 \n",
      "\n",
      "Step [0/6]\t Computing features...\n",
      "Features shape (1536,)\n",
      "(1536,) (1536, 1)\n",
      "Test NMI = 0.5654 ARI = 0.4788 F = 0.5747 ACC = 0.5755\n",
      "================================================================\n",
      "\n",
      "Step [0/26]\t loss_instance: 4.562094211578369\t loss_cluster: 2.521301031112671\n"
     ]
    },
    {
     "name": "stderr",
     "output_type": "stream",
     "text": [
      "D:\\Environment\\Conda\\envs\\torchenv\\lib\\site-packages\\torch\\nn\\modules\\container.py:141: UserWarning: Implicit dimension choice for softmax has been deprecated. Change the call to include dim=X as an argument.\n",
      "  input = module(input)\n"
     ]
    },
    {
     "name": "stdout",
     "output_type": "stream",
     "text": [
      "Step [10/26]\t loss_instance: 4.581436634063721\t loss_cluster: 2.5044026374816895\n",
      "Step [20/26]\t loss_instance: 4.5382843017578125\t loss_cluster: 2.532078504562378\n",
      "\n",
      "Epoch [40/250]\t Loss: 7.071468059833233 \n",
      "\n",
      "Step [0/6]\t Computing features...\n",
      "Features shape (1536,)\n",
      "(1536,) (1536, 1)\n",
      "Test NMI = 0.5677 ARI = 0.4891 F = 0.5859 ACC = 0.5911\n",
      "================================================================\n",
      "\n"
     ]
    },
    {
     "name": "stderr",
     "output_type": "stream",
     "text": [
      "D:\\Environment\\Conda\\envs\\torchenv\\lib\\site-packages\\torch\\nn\\modules\\container.py:141: UserWarning: Implicit dimension choice for softmax has been deprecated. Change the call to include dim=X as an argument.\n",
      "  input = module(input)\n"
     ]
    },
    {
     "name": "stdout",
     "output_type": "stream",
     "text": [
      "Step [0/26]\t loss_instance: 4.53000020980835\t loss_cluster: 2.5108823776245117\n",
      "Step [10/26]\t loss_instance: 4.566915035247803\t loss_cluster: 2.487208843231201\n",
      "Step [20/26]\t loss_instance: 4.5451226234436035\t loss_cluster: 2.496595621109009\n",
      "\n",
      "Epoch [41/250]\t Loss: 7.048711795073289 \n",
      "\n",
      "Step [0/6]\t Computing features...\n",
      "Features shape (1536,)\n",
      "(1536,) (1536, 1)\n",
      "Test NMI = 0.5759 ARI = 0.4878 F = 0.5825 ACC = 0.6003\n",
      "================================================================\n",
      "\n"
     ]
    },
    {
     "name": "stderr",
     "output_type": "stream",
     "text": [
      "D:\\Environment\\Conda\\envs\\torchenv\\lib\\site-packages\\torch\\nn\\modules\\container.py:141: UserWarning: Implicit dimension choice for softmax has been deprecated. Change the call to include dim=X as an argument.\n",
      "  input = module(input)\n"
     ]
    },
    {
     "name": "stdout",
     "output_type": "stream",
     "text": [
      "Step [0/26]\t loss_instance: 4.577160358428955\t loss_cluster: 2.477123260498047\n",
      "Step [10/26]\t loss_instance: 4.540255546569824\t loss_cluster: 2.475959300994873\n",
      "Step [20/26]\t loss_instance: 4.584112167358398\t loss_cluster: 2.463409900665283\n",
      "\n",
      "Epoch [42/250]\t Loss: 7.025823042942927 \n",
      "\n",
      "Step [0/6]\t Computing features...\n",
      "Features shape (1536,)\n",
      "(1536,) (1536, 1)\n",
      "Test NMI = 0.5864 ARI = 0.5128 F = 0.6019 ACC = 0.6243\n",
      "================================================================\n",
      "\n"
     ]
    },
    {
     "name": "stderr",
     "output_type": "stream",
     "text": [
      "D:\\Environment\\Conda\\envs\\torchenv\\lib\\site-packages\\torch\\nn\\modules\\container.py:141: UserWarning: Implicit dimension choice for softmax has been deprecated. Change the call to include dim=X as an argument.\n",
      "  input = module(input)\n"
     ]
    },
    {
     "name": "stdout",
     "output_type": "stream",
     "text": [
      "Step [0/26]\t loss_instance: 4.529090881347656\t loss_cluster: 2.484259843826294\n",
      "Step [10/26]\t loss_instance: 4.533642768859863\t loss_cluster: 2.466735363006592\n",
      "Step [20/26]\t loss_instance: 4.544580936431885\t loss_cluster: 2.4563069343566895\n",
      "\n",
      "Epoch [43/250]\t Loss: 7.005125504273635 \n",
      "\n",
      "Step [0/6]\t Computing features...\n",
      "Features shape (1536,)\n",
      "(1536,) (1536, 1)\n",
      "Test NMI = 0.5785 ARI = 0.4942 F = 0.5870 ACC = 0.6068\n",
      "================================================================\n",
      "\n"
     ]
    },
    {
     "name": "stderr",
     "output_type": "stream",
     "text": [
      "D:\\Environment\\Conda\\envs\\torchenv\\lib\\site-packages\\torch\\nn\\modules\\container.py:141: UserWarning: Implicit dimension choice for softmax has been deprecated. Change the call to include dim=X as an argument.\n",
      "  input = module(input)\n"
     ]
    },
    {
     "name": "stdout",
     "output_type": "stream",
     "text": [
      "Step [0/26]\t loss_instance: 4.536223411560059\t loss_cluster: 2.4379072189331055\n",
      "Step [10/26]\t loss_instance: 4.535375595092773\t loss_cluster: 2.43778657913208\n",
      "Step [20/26]\t loss_instance: 4.567014694213867\t loss_cluster: 2.432563304901123\n",
      "\n",
      "Epoch [44/250]\t Loss: 6.985416118915264 \n",
      "\n",
      "Step [0/6]\t Computing features...\n",
      "Features shape (1536,)\n",
      "(1536,) (1536, 1)\n",
      "Test NMI = 0.5829 ARI = 0.5026 F = 0.5930 ACC = 0.6029\n",
      "================================================================\n",
      "\n"
     ]
    },
    {
     "name": "stderr",
     "output_type": "stream",
     "text": [
      "D:\\Environment\\Conda\\envs\\torchenv\\lib\\site-packages\\torch\\nn\\modules\\container.py:141: UserWarning: Implicit dimension choice for softmax has been deprecated. Change the call to include dim=X as an argument.\n",
      "  input = module(input)\n"
     ]
    },
    {
     "name": "stdout",
     "output_type": "stream",
     "text": [
      "Step [0/26]\t loss_instance: 4.545143127441406\t loss_cluster: 2.4182562828063965\n",
      "Step [10/26]\t loss_instance: 4.521008491516113\t loss_cluster: 2.455066680908203\n",
      "Step [20/26]\t loss_instance: 4.542229652404785\t loss_cluster: 2.4437625408172607\n",
      "\n",
      "Epoch [45/250]\t Loss: 6.961942195892334 \n",
      "\n",
      "Step [0/6]\t Computing features...\n",
      "Features shape (1536,)\n",
      "(1536,) (1536, 1)\n",
      "Test NMI = 0.5816 ARI = 0.4991 F = 0.5928 ACC = 0.6120\n",
      "================================================================\n",
      "\n"
     ]
    },
    {
     "name": "stderr",
     "output_type": "stream",
     "text": [
      "D:\\Environment\\Conda\\envs\\torchenv\\lib\\site-packages\\torch\\nn\\modules\\container.py:141: UserWarning: Implicit dimension choice for softmax has been deprecated. Change the call to include dim=X as an argument.\n",
      "  input = module(input)\n"
     ]
    },
    {
     "name": "stdout",
     "output_type": "stream",
     "text": [
      "Step [0/26]\t loss_instance: 4.520035266876221\t loss_cluster: 2.433924674987793\n",
      "Step [10/26]\t loss_instance: 4.517363548278809\t loss_cluster: 2.3967316150665283\n",
      "Step [20/26]\t loss_instance: 4.553773880004883\t loss_cluster: 2.389892339706421\n",
      "\n",
      "Epoch [46/250]\t Loss: 6.941090840559739 \n",
      "\n",
      "Step [0/6]\t Computing features...\n",
      "Features shape (1536,)\n",
      "(1536,) (1536, 1)\n",
      "Test NMI = 0.5944 ARI = 0.5153 F = 0.6045 ACC = 0.6107\n",
      "================================================================\n",
      "\n"
     ]
    },
    {
     "name": "stderr",
     "output_type": "stream",
     "text": [
      "D:\\Environment\\Conda\\envs\\torchenv\\lib\\site-packages\\torch\\nn\\modules\\container.py:141: UserWarning: Implicit dimension choice for softmax has been deprecated. Change the call to include dim=X as an argument.\n",
      "  input = module(input)\n"
     ]
    },
    {
     "name": "stdout",
     "output_type": "stream",
     "text": [
      "Step [0/26]\t loss_instance: 4.52944278717041\t loss_cluster: 2.383232593536377\n",
      "Step [10/26]\t loss_instance: 4.540104389190674\t loss_cluster: 2.3933358192443848\n",
      "Step [20/26]\t loss_instance: 4.537280559539795\t loss_cluster: 2.37804913520813\n",
      "\n",
      "Epoch [47/250]\t Loss: 6.91799598473769 \n",
      "\n",
      "Step [0/6]\t Computing features...\n",
      "Features shape (1536,)\n",
      "(1536,) (1536, 1)\n",
      "Test NMI = 0.5912 ARI = 0.5247 F = 0.6123 ACC = 0.6230\n",
      "================================================================\n",
      "\n",
      "Step [0/26]\t loss_instance: 4.511033535003662\t loss_cluster: 2.4069395065307617\n"
     ]
    },
    {
     "name": "stderr",
     "output_type": "stream",
     "text": [
      "D:\\Environment\\Conda\\envs\\torchenv\\lib\\site-packages\\torch\\nn\\modules\\container.py:141: UserWarning: Implicit dimension choice for softmax has been deprecated. Change the call to include dim=X as an argument.\n",
      "  input = module(input)\n"
     ]
    },
    {
     "name": "stdout",
     "output_type": "stream",
     "text": [
      "Step [10/26]\t loss_instance: 4.499088287353516\t loss_cluster: 2.3909735679626465\n",
      "Step [20/26]\t loss_instance: 4.560536861419678\t loss_cluster: 2.3415560722351074\n",
      "\n",
      "Epoch [48/250]\t Loss: 6.896361717810998 \n",
      "\n",
      "Step [0/6]\t Computing features...\n",
      "Features shape (1536,)\n",
      "(1536,) (1536, 1)\n",
      "Test NMI = 0.5868 ARI = 0.5193 F = 0.6113 ACC = 0.5977\n",
      "================================================================\n",
      "\n"
     ]
    },
    {
     "name": "stderr",
     "output_type": "stream",
     "text": [
      "D:\\Environment\\Conda\\envs\\torchenv\\lib\\site-packages\\torch\\nn\\modules\\container.py:141: UserWarning: Implicit dimension choice for softmax has been deprecated. Change the call to include dim=X as an argument.\n",
      "  input = module(input)\n"
     ]
    },
    {
     "name": "stdout",
     "output_type": "stream",
     "text": [
      "Step [0/26]\t loss_instance: 4.510477066040039\t loss_cluster: 2.4005730152130127\n",
      "Step [10/26]\t loss_instance: 4.511983394622803\t loss_cluster: 2.367494583129883\n",
      "Step [20/26]\t loss_instance: 4.515463829040527\t loss_cluster: 2.3587353229522705\n",
      "\n",
      "Epoch [49/250]\t Loss: 6.880427140455979 \n",
      "\n",
      "Step [0/6]\t Computing features...\n",
      "Features shape (1536,)\n",
      "(1536,) (1536, 1)\n",
      "Test NMI = 0.6017 ARI = 0.5316 F = 0.6196 ACC = 0.6113\n",
      "================================================================\n",
      "\n"
     ]
    },
    {
     "name": "stderr",
     "output_type": "stream",
     "text": [
      "D:\\Environment\\Conda\\envs\\torchenv\\lib\\site-packages\\torch\\nn\\modules\\container.py:141: UserWarning: Implicit dimension choice for softmax has been deprecated. Change the call to include dim=X as an argument.\n",
      "  input = module(input)\n"
     ]
    },
    {
     "name": "stdout",
     "output_type": "stream",
     "text": [
      "Step [0/26]\t loss_instance: 4.492408275604248\t loss_cluster: 2.3721296787261963\n",
      "Step [10/26]\t loss_instance: 4.5180511474609375\t loss_cluster: 2.33078670501709\n",
      "Step [20/26]\t loss_instance: 4.513206481933594\t loss_cluster: 2.323246479034424\n",
      "\n",
      "Epoch [50/250]\t Loss: 6.8575029006371135 \n",
      "\n",
      "Step [0/6]\t Computing features...\n",
      "Features shape (1536,)\n",
      "(1536,) (1536, 1)\n",
      "Test NMI = 0.6109 ARI = 0.5379 F = 0.6254 ACC = 0.6159\n",
      "================================================================\n",
      "\n"
     ]
    },
    {
     "name": "stderr",
     "output_type": "stream",
     "text": [
      "D:\\Environment\\Conda\\envs\\torchenv\\lib\\site-packages\\torch\\nn\\modules\\container.py:141: UserWarning: Implicit dimension choice for softmax has been deprecated. Change the call to include dim=X as an argument.\n",
      "  input = module(input)\n"
     ]
    },
    {
     "name": "stdout",
     "output_type": "stream",
     "text": [
      "Step [0/26]\t loss_instance: 4.520754814147949\t loss_cluster: 2.327244758605957\n",
      "Step [10/26]\t loss_instance: 4.505930423736572\t loss_cluster: 2.3300223350524902\n",
      "Step [20/26]\t loss_instance: 4.511498928070068\t loss_cluster: 2.3016812801361084\n",
      "\n",
      "Epoch [51/250]\t Loss: 6.834077028127817 \n",
      "\n",
      "Step [0/6]\t Computing features...\n",
      "Features shape (1536,)\n",
      "(1536,) (1536, 1)\n",
      "Test NMI = 0.6064 ARI = 0.5300 F = 0.6186 ACC = 0.6146\n",
      "================================================================\n",
      "\n",
      "Step [0/26]\t loss_instance: 4.51502799987793\t loss_cluster: 2.3233089447021484\n"
     ]
    },
    {
     "name": "stderr",
     "output_type": "stream",
     "text": [
      "D:\\Environment\\Conda\\envs\\torchenv\\lib\\site-packages\\torch\\nn\\modules\\container.py:141: UserWarning: Implicit dimension choice for softmax has been deprecated. Change the call to include dim=X as an argument.\n",
      "  input = module(input)\n"
     ]
    },
    {
     "name": "stdout",
     "output_type": "stream",
     "text": [
      "Step [10/26]\t loss_instance: 4.538909912109375\t loss_cluster: 2.2881767749786377\n",
      "Step [20/26]\t loss_instance: 4.5081586837768555\t loss_cluster: 2.2867865562438965\n",
      "\n",
      "Epoch [52/250]\t Loss: 6.816372027763953 \n",
      "\n",
      "Step [0/6]\t Computing features...\n",
      "Features shape (1536,)\n",
      "(1536,) (1536, 1)\n",
      "Test NMI = 0.6090 ARI = 0.5313 F = 0.6236 ACC = 0.6068\n",
      "================================================================\n",
      "\n"
     ]
    },
    {
     "name": "stderr",
     "output_type": "stream",
     "text": [
      "D:\\Environment\\Conda\\envs\\torchenv\\lib\\site-packages\\torch\\nn\\modules\\container.py:141: UserWarning: Implicit dimension choice for softmax has been deprecated. Change the call to include dim=X as an argument.\n",
      "  input = module(input)\n"
     ]
    },
    {
     "name": "stdout",
     "output_type": "stream",
     "text": [
      "Step [0/26]\t loss_instance: 4.498805522918701\t loss_cluster: 2.3248159885406494\n",
      "Step [10/26]\t loss_instance: 4.47714376449585\t loss_cluster: 2.320098638534546\n",
      "Step [20/26]\t loss_instance: 4.509970664978027\t loss_cluster: 2.2837908267974854\n",
      "\n",
      "Epoch [53/250]\t Loss: 6.7940084017240086 \n",
      "\n",
      "Step [0/6]\t Computing features...\n",
      "Features shape (1536,)\n",
      "(1536,) (1536, 1)\n",
      "Test NMI = 0.6098 ARI = 0.5243 F = 0.6160 ACC = 0.5957\n",
      "================================================================\n",
      "\n"
     ]
    },
    {
     "name": "stderr",
     "output_type": "stream",
     "text": [
      "D:\\Environment\\Conda\\envs\\torchenv\\lib\\site-packages\\torch\\nn\\modules\\container.py:141: UserWarning: Implicit dimension choice for softmax has been deprecated. Change the call to include dim=X as an argument.\n",
      "  input = module(input)\n"
     ]
    },
    {
     "name": "stdout",
     "output_type": "stream",
     "text": [
      "Step [0/26]\t loss_instance: 4.502401828765869\t loss_cluster: 2.253696918487549\n",
      "Step [10/26]\t loss_instance: 4.521193981170654\t loss_cluster: 2.287653923034668\n",
      "Step [20/26]\t loss_instance: 4.5066070556640625\t loss_cluster: 2.2880940437316895\n",
      "\n",
      "Epoch [54/250]\t Loss: 6.77935605782729 \n",
      "\n",
      "Step [0/6]\t Computing features...\n",
      "Features shape (1536,)\n",
      "(1536,) (1536, 1)\n",
      "Test NMI = 0.6028 ARI = 0.5032 F = 0.6008 ACC = 0.5749\n",
      "================================================================\n",
      "\n",
      "Step [0/26]\t loss_instance: 4.5010294914245605\t loss_cluster: 2.251952886581421\n"
     ]
    },
    {
     "name": "stderr",
     "output_type": "stream",
     "text": [
      "D:\\Environment\\Conda\\envs\\torchenv\\lib\\site-packages\\torch\\nn\\modules\\container.py:141: UserWarning: Implicit dimension choice for softmax has been deprecated. Change the call to include dim=X as an argument.\n",
      "  input = module(input)\n"
     ]
    },
    {
     "name": "stdout",
     "output_type": "stream",
     "text": [
      "Step [10/26]\t loss_instance: 4.510732650756836\t loss_cluster: 2.2489123344421387\n",
      "Step [20/26]\t loss_instance: 4.523159980773926\t loss_cluster: 2.233258008956909\n",
      "\n",
      "Epoch [55/250]\t Loss: 6.761317051373995 \n",
      "\n",
      "Step [0/6]\t Computing features...\n",
      "Features shape (1536,)\n",
      "(1536,) (1536, 1)\n",
      "Test NMI = 0.6116 ARI = 0.5141 F = 0.6094 ACC = 0.5990\n",
      "================================================================\n",
      "\n"
     ]
    },
    {
     "name": "stderr",
     "output_type": "stream",
     "text": [
      "D:\\Environment\\Conda\\envs\\torchenv\\lib\\site-packages\\torch\\nn\\modules\\container.py:141: UserWarning: Implicit dimension choice for softmax has been deprecated. Change the call to include dim=X as an argument.\n",
      "  input = module(input)\n"
     ]
    },
    {
     "name": "stdout",
     "output_type": "stream",
     "text": [
      "Step [0/26]\t loss_instance: 4.50944185256958\t loss_cluster: 2.2546310424804688\n",
      "Step [10/26]\t loss_instance: 4.486386775970459\t loss_cluster: 2.2443065643310547\n",
      "Step [20/26]\t loss_instance: 4.493382930755615\t loss_cluster: 2.226398229598999\n",
      "\n",
      "Epoch [56/250]\t Loss: 6.735705430691059 \n",
      "\n",
      "Step [0/6]\t Computing features...\n",
      "Features shape (1536,)\n",
      "(1536,) (1536, 1)\n",
      "Test NMI = 0.6013 ARI = 0.4969 F = 0.5946 ACC = 0.5755\n",
      "================================================================\n",
      "\n",
      "Step [0/26]\t loss_instance: 4.513967990875244\t loss_cluster: 2.26969575881958\n"
     ]
    },
    {
     "name": "stderr",
     "output_type": "stream",
     "text": [
      "D:\\Environment\\Conda\\envs\\torchenv\\lib\\site-packages\\torch\\nn\\modules\\container.py:141: UserWarning: Implicit dimension choice for softmax has been deprecated. Change the call to include dim=X as an argument.\n",
      "  input = module(input)\n"
     ]
    },
    {
     "name": "stdout",
     "output_type": "stream",
     "text": [
      "Step [10/26]\t loss_instance: 4.484725475311279\t loss_cluster: 2.222670793533325\n",
      "Step [20/26]\t loss_instance: 4.504539966583252\t loss_cluster: 2.2146682739257812\n",
      "\n",
      "Epoch [57/250]\t Loss: 6.72221068235544 \n",
      "\n",
      "Step [0/6]\t Computing features...\n",
      "Features shape (1536,)\n",
      "(1536,) (1536, 1)\n",
      "Test NMI = 0.5976 ARI = 0.4816 F = 0.5820 ACC = 0.5612\n",
      "================================================================\n",
      "\n"
     ]
    },
    {
     "name": "stderr",
     "output_type": "stream",
     "text": [
      "D:\\Environment\\Conda\\envs\\torchenv\\lib\\site-packages\\torch\\nn\\modules\\container.py:141: UserWarning: Implicit dimension choice for softmax has been deprecated. Change the call to include dim=X as an argument.\n",
      "  input = module(input)\n"
     ]
    },
    {
     "name": "stdout",
     "output_type": "stream",
     "text": [
      "Step [0/26]\t loss_instance: 4.485663414001465\t loss_cluster: 2.2098217010498047\n",
      "Step [10/26]\t loss_instance: 4.473147392272949\t loss_cluster: 2.2801706790924072\n",
      "Step [20/26]\t loss_instance: 4.512389183044434\t loss_cluster: 2.1716854572296143\n",
      "\n",
      "Epoch [58/250]\t Loss: 6.706219581457285 \n",
      "\n",
      "Step [0/6]\t Computing features...\n",
      "Features shape (1536,)\n",
      "(1536,) (1536, 1)\n",
      "Test NMI = 0.6006 ARI = 0.4650 F = 0.5681 ACC = 0.5508\n",
      "================================================================\n",
      "\n"
     ]
    },
    {
     "name": "stderr",
     "output_type": "stream",
     "text": [
      "D:\\Environment\\Conda\\envs\\torchenv\\lib\\site-packages\\torch\\nn\\modules\\container.py:141: UserWarning: Implicit dimension choice for softmax has been deprecated. Change the call to include dim=X as an argument.\n",
      "  input = module(input)\n"
     ]
    },
    {
     "name": "stdout",
     "output_type": "stream",
     "text": [
      "Step [0/26]\t loss_instance: 4.478806972503662\t loss_cluster: 2.21724796295166\n",
      "Step [10/26]\t loss_instance: 4.474764347076416\t loss_cluster: 2.1980724334716797\n",
      "Step [20/26]\t loss_instance: 4.49776554107666\t loss_cluster: 2.1961567401885986\n",
      "\n",
      "Epoch [59/250]\t Loss: 6.687846990732046 \n",
      "\n",
      "Step [0/6]\t Computing features...\n",
      "Features shape (1536,)\n",
      "(1536,) (1536, 1)\n",
      "Test NMI = 0.6060 ARI = 0.4656 F = 0.5694 ACC = 0.5508\n",
      "================================================================\n",
      "\n",
      "Step [0/26]\t loss_instance: 4.500543594360352\t loss_cluster: 2.2282631397247314\n"
     ]
    },
    {
     "name": "stderr",
     "output_type": "stream",
     "text": [
      "D:\\Environment\\Conda\\envs\\torchenv\\lib\\site-packages\\torch\\nn\\modules\\container.py:141: UserWarning: Implicit dimension choice for softmax has been deprecated. Change the call to include dim=X as an argument.\n",
      "  input = module(input)\n"
     ]
    },
    {
     "name": "stdout",
     "output_type": "stream",
     "text": [
      "Step [10/26]\t loss_instance: 4.500333786010742\t loss_cluster: 2.1756033897399902\n",
      "Step [20/26]\t loss_instance: 4.494540691375732\t loss_cluster: 2.183791160583496\n",
      "\n",
      "Epoch [60/250]\t Loss: 6.677717465620774 \n",
      "\n",
      "Step [0/6]\t Computing features...\n",
      "Features shape (1536,)\n",
      "(1536,) (1536, 1)\n",
      "Test NMI = 0.6021 ARI = 0.4521 F = 0.5577 ACC = 0.5449\n",
      "================================================================\n",
      "\n"
     ]
    },
    {
     "name": "stderr",
     "output_type": "stream",
     "text": [
      "D:\\Environment\\Conda\\envs\\torchenv\\lib\\site-packages\\torch\\nn\\modules\\container.py:141: UserWarning: Implicit dimension choice for softmax has been deprecated. Change the call to include dim=X as an argument.\n",
      "  input = module(input)\n"
     ]
    },
    {
     "name": "stdout",
     "output_type": "stream",
     "text": [
      "Step [0/26]\t loss_instance: 4.481517791748047\t loss_cluster: 2.166600227355957\n",
      "Step [10/26]\t loss_instance: 4.499602794647217\t loss_cluster: 2.141075372695923\n",
      "Step [20/26]\t loss_instance: 4.482436656951904\t loss_cluster: 2.1674537658691406\n",
      "\n",
      "Epoch [61/250]\t Loss: 6.656218785506028 \n",
      "\n",
      "Step [0/6]\t Computing features...\n",
      "Features shape (1536,)\n",
      "(1536,) (1536, 1)\n",
      "Test NMI = 0.6026 ARI = 0.4370 F = 0.5453 ACC = 0.5332\n",
      "================================================================\n",
      "\n"
     ]
    },
    {
     "name": "stderr",
     "output_type": "stream",
     "text": [
      "D:\\Environment\\Conda\\envs\\torchenv\\lib\\site-packages\\torch\\nn\\modules\\container.py:141: UserWarning: Implicit dimension choice for softmax has been deprecated. Change the call to include dim=X as an argument.\n",
      "  input = module(input)\n"
     ]
    },
    {
     "name": "stdout",
     "output_type": "stream",
     "text": [
      "Step [0/26]\t loss_instance: 4.484099388122559\t loss_cluster: 2.1582674980163574\n",
      "Step [10/26]\t loss_instance: 4.460076808929443\t loss_cluster: 2.1997907161712646\n",
      "Step [20/26]\t loss_instance: 4.4883317947387695\t loss_cluster: 2.1627016067504883\n",
      "\n",
      "Epoch [62/250]\t Loss: 6.643964033860427 \n",
      "\n",
      "Step [0/6]\t Computing features...\n",
      "Features shape (1536,)\n",
      "(1536,) (1536, 1)\n",
      "Test NMI = 0.6038 ARI = 0.4272 F = 0.5378 ACC = 0.5195\n",
      "================================================================\n",
      "\n"
     ]
    },
    {
     "name": "stderr",
     "output_type": "stream",
     "text": [
      "D:\\Environment\\Conda\\envs\\torchenv\\lib\\site-packages\\torch\\nn\\modules\\container.py:141: UserWarning: Implicit dimension choice for softmax has been deprecated. Change the call to include dim=X as an argument.\n",
      "  input = module(input)\n"
     ]
    },
    {
     "name": "stdout",
     "output_type": "stream",
     "text": [
      "Step [0/26]\t loss_instance: 4.497765064239502\t loss_cluster: 2.1690127849578857\n",
      "Step [10/26]\t loss_instance: 4.471872329711914\t loss_cluster: 2.1567556858062744\n",
      "Step [20/26]\t loss_instance: 4.470503330230713\t loss_cluster: 2.18451189994812\n",
      "\n",
      "Epoch [63/250]\t Loss: 6.630524250177237 \n",
      "\n",
      "Step [0/6]\t Computing features...\n",
      "Features shape (1536,)\n",
      "(1536,) (1536, 1)\n",
      "Test NMI = 0.5973 ARI = 0.4151 F = 0.5268 ACC = 0.5143\n",
      "================================================================\n",
      "\n"
     ]
    },
    {
     "name": "stderr",
     "output_type": "stream",
     "text": [
      "D:\\Environment\\Conda\\envs\\torchenv\\lib\\site-packages\\torch\\nn\\modules\\container.py:141: UserWarning: Implicit dimension choice for softmax has been deprecated. Change the call to include dim=X as an argument.\n",
      "  input = module(input)\n"
     ]
    },
    {
     "name": "stdout",
     "output_type": "stream",
     "text": [
      "Step [0/26]\t loss_instance: 4.501243591308594\t loss_cluster: 2.1185896396636963\n",
      "Step [10/26]\t loss_instance: 4.474812030792236\t loss_cluster: 2.150275230407715\n",
      "Step [20/26]\t loss_instance: 4.461204528808594\t loss_cluster: 2.1353566646575928\n",
      "\n",
      "Epoch [64/250]\t Loss: 6.616588354110718 \n",
      "\n",
      "Step [0/6]\t Computing features...\n",
      "Features shape (1536,)\n",
      "(1536,) (1536, 1)\n",
      "Test NMI = 0.5920 ARI = 0.3948 F = 0.5089 ACC = 0.5013\n",
      "================================================================\n",
      "\n"
     ]
    },
    {
     "name": "stderr",
     "output_type": "stream",
     "text": [
      "D:\\Environment\\Conda\\envs\\torchenv\\lib\\site-packages\\torch\\nn\\modules\\container.py:141: UserWarning: Implicit dimension choice for softmax has been deprecated. Change the call to include dim=X as an argument.\n",
      "  input = module(input)\n"
     ]
    },
    {
     "name": "stdout",
     "output_type": "stream",
     "text": [
      "Step [0/26]\t loss_instance: 4.484225749969482\t loss_cluster: 2.120816230773926\n",
      "Step [10/26]\t loss_instance: 4.4641337394714355\t loss_cluster: 2.1643242835998535\n",
      "Step [20/26]\t loss_instance: 4.493777751922607\t loss_cluster: 2.102283000946045\n",
      "\n",
      "Epoch [65/250]\t Loss: 6.602076915594248 \n",
      "\n",
      "Step [0/6]\t Computing features...\n",
      "Features shape (1536,)\n",
      "(1536,) (1536, 1)\n",
      "Test NMI = 0.5911 ARI = 0.3754 F = 0.4921 ACC = 0.4844\n",
      "================================================================\n",
      "\n",
      "Step [0/26]\t loss_instance: 4.46687126159668\t loss_cluster: 2.1181604862213135\n"
     ]
    },
    {
     "name": "stderr",
     "output_type": "stream",
     "text": [
      "D:\\Environment\\Conda\\envs\\torchenv\\lib\\site-packages\\torch\\nn\\modules\\container.py:141: UserWarning: Implicit dimension choice for softmax has been deprecated. Change the call to include dim=X as an argument.\n",
      "  input = module(input)\n"
     ]
    },
    {
     "name": "stdout",
     "output_type": "stream",
     "text": [
      "Step [10/26]\t loss_instance: 4.478824138641357\t loss_cluster: 2.110582113265991\n",
      "Step [20/26]\t loss_instance: 4.490232467651367\t loss_cluster: 2.090674877166748\n",
      "\n",
      "Epoch [66/250]\t Loss: 6.586225968140822 \n",
      "\n",
      "Step [0/6]\t Computing features...\n",
      "Features shape (1536,)\n",
      "(1536,) (1536, 1)\n",
      "Test NMI = 0.5952 ARI = 0.3884 F = 0.5032 ACC = 0.4811\n",
      "================================================================\n",
      "\n"
     ]
    },
    {
     "name": "stderr",
     "output_type": "stream",
     "text": [
      "D:\\Environment\\Conda\\envs\\torchenv\\lib\\site-packages\\torch\\nn\\modules\\container.py:141: UserWarning: Implicit dimension choice for softmax has been deprecated. Change the call to include dim=X as an argument.\n",
      "  input = module(input)\n"
     ]
    },
    {
     "name": "stdout",
     "output_type": "stream",
     "text": [
      "Step [0/26]\t loss_instance: 4.500268936157227\t loss_cluster: 2.079663038253784\n",
      "Step [10/26]\t loss_instance: 4.478964328765869\t loss_cluster: 2.093989849090576\n",
      "Step [20/26]\t loss_instance: 4.477203845977783\t loss_cluster: 2.0900864601135254\n",
      "\n",
      "Epoch [67/250]\t Loss: 6.56614560347337 \n",
      "\n",
      "Step [0/6]\t Computing features...\n",
      "Features shape (1536,)\n",
      "(1536,) (1536, 1)\n",
      "Test NMI = 0.5956 ARI = 0.3865 F = 0.5014 ACC = 0.4876\n",
      "================================================================\n",
      "\n"
     ]
    },
    {
     "name": "stderr",
     "output_type": "stream",
     "text": [
      "D:\\Environment\\Conda\\envs\\torchenv\\lib\\site-packages\\torch\\nn\\modules\\container.py:141: UserWarning: Implicit dimension choice for softmax has been deprecated. Change the call to include dim=X as an argument.\n",
      "  input = module(input)\n"
     ]
    },
    {
     "name": "stdout",
     "output_type": "stream",
     "text": [
      "Step [0/26]\t loss_instance: 4.465906620025635\t loss_cluster: 2.0936341285705566\n",
      "Step [10/26]\t loss_instance: 4.470276355743408\t loss_cluster: 2.065910577774048\n",
      "Step [20/26]\t loss_instance: 4.472269535064697\t loss_cluster: 2.0638515949249268\n",
      "\n",
      "Epoch [68/250]\t Loss: 6.55455442575308 \n",
      "\n",
      "Step [0/6]\t Computing features...\n",
      "Features shape (1536,)\n",
      "(1536,) (1536, 1)\n",
      "Test NMI = 0.5886 ARI = 0.3672 F = 0.4845 ACC = 0.4701\n",
      "================================================================\n",
      "\n"
     ]
    },
    {
     "name": "stderr",
     "output_type": "stream",
     "text": [
      "D:\\Environment\\Conda\\envs\\torchenv\\lib\\site-packages\\torch\\nn\\modules\\container.py:141: UserWarning: Implicit dimension choice for softmax has been deprecated. Change the call to include dim=X as an argument.\n",
      "  input = module(input)\n"
     ]
    },
    {
     "name": "stdout",
     "output_type": "stream",
     "text": [
      "Step [0/26]\t loss_instance: 4.467617034912109\t loss_cluster: 2.0553736686706543\n",
      "Step [10/26]\t loss_instance: 4.460473537445068\t loss_cluster: 2.101959705352783\n",
      "Step [20/26]\t loss_instance: 4.4486284255981445\t loss_cluster: 2.096129894256592\n",
      "\n",
      "Epoch [69/250]\t Loss: 6.5387773513793945 \n",
      "\n",
      "Step [0/6]\t Computing features...\n",
      "Features shape (1536,)\n",
      "(1536,) (1536, 1)\n",
      "Test NMI = 0.5911 ARI = 0.3721 F = 0.4896 ACC = 0.4740\n",
      "================================================================\n",
      "\n"
     ]
    },
    {
     "name": "stderr",
     "output_type": "stream",
     "text": [
      "D:\\Environment\\Conda\\envs\\torchenv\\lib\\site-packages\\torch\\nn\\modules\\container.py:141: UserWarning: Implicit dimension choice for softmax has been deprecated. Change the call to include dim=X as an argument.\n",
      "  input = module(input)\n"
     ]
    },
    {
     "name": "stdout",
     "output_type": "stream",
     "text": [
      "Step [0/26]\t loss_instance: 4.461083889007568\t loss_cluster: 2.0694854259490967\n",
      "Step [10/26]\t loss_instance: 4.453005790710449\t loss_cluster: 2.0654561519622803\n",
      "Step [20/26]\t loss_instance: 4.462587833404541\t loss_cluster: 2.047853469848633\n",
      "\n",
      "Epoch [70/250]\t Loss: 6.530354151358972 \n",
      "\n",
      "Step [0/6]\t Computing features...\n",
      "Features shape (1536,)\n",
      "(1536,) (1536, 1)\n",
      "Test NMI = 0.5884 ARI = 0.3668 F = 0.4819 ACC = 0.4648\n",
      "================================================================\n",
      "\n",
      "Step [0/26]\t loss_instance: 4.470528602600098\t loss_cluster: 2.055302619934082\n"
     ]
    },
    {
     "name": "stderr",
     "output_type": "stream",
     "text": [
      "D:\\Environment\\Conda\\envs\\torchenv\\lib\\site-packages\\torch\\nn\\modules\\container.py:141: UserWarning: Implicit dimension choice for softmax has been deprecated. Change the call to include dim=X as an argument.\n",
      "  input = module(input)\n"
     ]
    },
    {
     "name": "stdout",
     "output_type": "stream",
     "text": [
      "Step [10/26]\t loss_instance: 4.462676525115967\t loss_cluster: 2.0669636726379395\n",
      "Step [20/26]\t loss_instance: 4.44142484664917\t loss_cluster: 2.052981376647949\n",
      "\n",
      "Epoch [71/250]\t Loss: 6.510487538117629 \n",
      "\n",
      "Step [0/6]\t Computing features...\n",
      "Features shape (1536,)\n",
      "(1536,) (1536, 1)\n",
      "Test NMI = 0.5875 ARI = 0.3676 F = 0.4856 ACC = 0.4655\n",
      "================================================================\n",
      "\n",
      "Step [0/26]\t loss_instance: 4.470767974853516\t loss_cluster: 2.0336556434631348\n"
     ]
    },
    {
     "name": "stderr",
     "output_type": "stream",
     "text": [
      "D:\\Environment\\Conda\\envs\\torchenv\\lib\\site-packages\\torch\\nn\\modules\\container.py:141: UserWarning: Implicit dimension choice for softmax has been deprecated. Change the call to include dim=X as an argument.\n",
      "  input = module(input)\n"
     ]
    },
    {
     "name": "stdout",
     "output_type": "stream",
     "text": [
      "Step [10/26]\t loss_instance: 4.463022708892822\t loss_cluster: 2.0338897705078125\n",
      "Step [20/26]\t loss_instance: 4.452504634857178\t loss_cluster: 2.027538537979126\n",
      "\n",
      "Epoch [72/250]\t Loss: 6.500835198622483 \n",
      "\n",
      "Step [0/6]\t Computing features...\n",
      "Features shape (1536,)\n",
      "(1536,) (1536, 1)\n",
      "Test NMI = 0.5895 ARI = 0.3679 F = 0.4838 ACC = 0.4701\n",
      "================================================================\n",
      "\n"
     ]
    },
    {
     "name": "stderr",
     "output_type": "stream",
     "text": [
      "D:\\Environment\\Conda\\envs\\torchenv\\lib\\site-packages\\torch\\nn\\modules\\container.py:141: UserWarning: Implicit dimension choice for softmax has been deprecated. Change the call to include dim=X as an argument.\n",
      "  input = module(input)\n"
     ]
    },
    {
     "name": "stdout",
     "output_type": "stream",
     "text": [
      "Step [0/26]\t loss_instance: 4.477450370788574\t loss_cluster: 1.992262363433838\n",
      "Step [10/26]\t loss_instance: 4.458104133605957\t loss_cluster: 2.0133161544799805\n",
      "Step [20/26]\t loss_instance: 4.483265399932861\t loss_cluster: 2.001035690307617\n",
      "\n",
      "Epoch [73/250]\t Loss: 6.488943099975586 \n",
      "\n",
      "Step [0/6]\t Computing features...\n",
      "Features shape (1536,)\n",
      "(1536,) (1536, 1)\n",
      "Test NMI = 0.5891 ARI = 0.3753 F = 0.4900 ACC = 0.4772\n",
      "================================================================\n",
      "\n"
     ]
    },
    {
     "name": "stderr",
     "output_type": "stream",
     "text": [
      "D:\\Environment\\Conda\\envs\\torchenv\\lib\\site-packages\\torch\\nn\\modules\\container.py:141: UserWarning: Implicit dimension choice for softmax has been deprecated. Change the call to include dim=X as an argument.\n",
      "  input = module(input)\n"
     ]
    },
    {
     "name": "stdout",
     "output_type": "stream",
     "text": [
      "Step [0/26]\t loss_instance: 4.466076374053955\t loss_cluster: 1.9850070476531982\n",
      "Step [10/26]\t loss_instance: 4.452489376068115\t loss_cluster: 2.074671506881714\n",
      "Step [20/26]\t loss_instance: 4.463690757751465\t loss_cluster: 2.009922742843628\n",
      "\n",
      "Epoch [74/250]\t Loss: 6.47477755179772 \n",
      "\n",
      "Step [0/6]\t Computing features...\n",
      "Features shape (1536,)\n",
      "(1536,) (1536, 1)\n",
      "Test NMI = 0.5836 ARI = 0.3565 F = 0.4766 ACC = 0.4564\n",
      "================================================================\n",
      "\n"
     ]
    },
    {
     "name": "stderr",
     "output_type": "stream",
     "text": [
      "D:\\Environment\\Conda\\envs\\torchenv\\lib\\site-packages\\torch\\nn\\modules\\container.py:141: UserWarning: Implicit dimension choice for softmax has been deprecated. Change the call to include dim=X as an argument.\n",
      "  input = module(input)\n"
     ]
    },
    {
     "name": "stdout",
     "output_type": "stream",
     "text": [
      "Step [0/26]\t loss_instance: 4.4496235847473145\t loss_cluster: 1.9998379945755005\n",
      "Step [10/26]\t loss_instance: 4.472689628601074\t loss_cluster: 2.0095291137695312\n",
      "Step [20/26]\t loss_instance: 4.46525239944458\t loss_cluster: 1.9877911806106567\n",
      "\n",
      "Epoch [75/250]\t Loss: 6.459058138040396 \n",
      "\n",
      "Step [0/6]\t Computing features...\n",
      "Features shape (1536,)\n",
      "(1536,) (1536, 1)\n",
      "Test NMI = 0.5847 ARI = 0.3610 F = 0.4800 ACC = 0.4648\n",
      "================================================================\n",
      "\n"
     ]
    },
    {
     "name": "stderr",
     "output_type": "stream",
     "text": [
      "D:\\Environment\\Conda\\envs\\torchenv\\lib\\site-packages\\torch\\nn\\modules\\container.py:141: UserWarning: Implicit dimension choice for softmax has been deprecated. Change the call to include dim=X as an argument.\n",
      "  input = module(input)\n"
     ]
    },
    {
     "name": "stdout",
     "output_type": "stream",
     "text": [
      "Step [0/26]\t loss_instance: 4.462402820587158\t loss_cluster: 1.9809483289718628\n",
      "Step [10/26]\t loss_instance: 4.431759357452393\t loss_cluster: 2.0555431842803955\n",
      "Step [20/26]\t loss_instance: 4.459353923797607\t loss_cluster: 1.9720031023025513\n",
      "\n",
      "Epoch [76/250]\t Loss: 6.445279799974882 \n",
      "\n",
      "Step [0/6]\t Computing features...\n",
      "Features shape (1536,)\n",
      "(1536,) (1536, 1)\n",
      "Test NMI = 0.5805 ARI = 0.3480 F = 0.4669 ACC = 0.4421\n",
      "================================================================\n",
      "\n",
      "Step [0/26]\t loss_instance: 4.46423864364624\t loss_cluster: 1.9664431810379028\n"
     ]
    },
    {
     "name": "stderr",
     "output_type": "stream",
     "text": [
      "D:\\Environment\\Conda\\envs\\torchenv\\lib\\site-packages\\torch\\nn\\modules\\container.py:141: UserWarning: Implicit dimension choice for softmax has been deprecated. Change the call to include dim=X as an argument.\n",
      "  input = module(input)\n"
     ]
    },
    {
     "name": "stdout",
     "output_type": "stream",
     "text": [
      "Step [10/26]\t loss_instance: 4.449793815612793\t loss_cluster: 1.9770232439041138\n",
      "Step [20/26]\t loss_instance: 4.45481538772583\t loss_cluster: 1.9737293720245361\n",
      "\n",
      "Epoch [77/250]\t Loss: 6.430715652612539 \n",
      "\n",
      "Step [0/6]\t Computing features...\n",
      "Features shape (1536,)\n",
      "(1536,) (1536, 1)\n",
      "Test NMI = 0.5853 ARI = 0.3536 F = 0.4733 ACC = 0.4486\n",
      "================================================================\n",
      "\n",
      "Step [0/26]\t loss_instance: 4.445277214050293\t loss_cluster: 1.9605810642242432\n"
     ]
    },
    {
     "name": "stderr",
     "output_type": "stream",
     "text": [
      "D:\\Environment\\Conda\\envs\\torchenv\\lib\\site-packages\\torch\\nn\\modules\\container.py:141: UserWarning: Implicit dimension choice for softmax has been deprecated. Change the call to include dim=X as an argument.\n",
      "  input = module(input)\n"
     ]
    },
    {
     "name": "stdout",
     "output_type": "stream",
     "text": [
      "Step [10/26]\t loss_instance: 4.450211048126221\t loss_cluster: 1.995035171508789\n",
      "Step [20/26]\t loss_instance: 4.447229385375977\t loss_cluster: 1.9849731922149658\n",
      "\n",
      "Epoch [78/250]\t Loss: 6.422851965977595 \n",
      "\n",
      "Step [0/6]\t Computing features...\n",
      "Features shape (1536,)\n",
      "(1536,) (1536, 1)\n",
      "Test NMI = 0.5826 ARI = 0.3435 F = 0.4639 ACC = 0.4440\n",
      "================================================================\n",
      "\n"
     ]
    },
    {
     "name": "stderr",
     "output_type": "stream",
     "text": [
      "D:\\Environment\\Conda\\envs\\torchenv\\lib\\site-packages\\torch\\nn\\modules\\container.py:141: UserWarning: Implicit dimension choice for softmax has been deprecated. Change the call to include dim=X as an argument.\n",
      "  input = module(input)\n"
     ]
    },
    {
     "name": "stdout",
     "output_type": "stream",
     "text": [
      "Step [0/26]\t loss_instance: 4.434393405914307\t loss_cluster: 1.9697636365890503\n",
      "Step [10/26]\t loss_instance: 4.458597660064697\t loss_cluster: 2.00305438041687\n",
      "Step [20/26]\t loss_instance: 4.4560699462890625\t loss_cluster: 1.9514107704162598\n",
      "\n",
      "Epoch [79/250]\t Loss: 6.414795508751502 \n",
      "\n",
      "Step [0/6]\t Computing features...\n",
      "Features shape (1536,)\n",
      "(1536,) (1536, 1)\n",
      "Test NMI = 0.5810 ARI = 0.3502 F = 0.4696 ACC = 0.4505\n",
      "================================================================\n",
      "\n",
      "Step [0/26]\t loss_instance: 4.426786422729492\t loss_cluster: 2.0097274780273438\n"
     ]
    },
    {
     "name": "stderr",
     "output_type": "stream",
     "text": [
      "D:\\Environment\\Conda\\envs\\torchenv\\lib\\site-packages\\torch\\nn\\modules\\container.py:141: UserWarning: Implicit dimension choice for softmax has been deprecated. Change the call to include dim=X as an argument.\n",
      "  input = module(input)\n"
     ]
    },
    {
     "name": "stdout",
     "output_type": "stream",
     "text": [
      "Step [10/26]\t loss_instance: 4.458053112030029\t loss_cluster: 1.9250534772872925\n",
      "Step [20/26]\t loss_instance: 4.447845458984375\t loss_cluster: 1.935065746307373\n",
      "\n",
      "Epoch [80/250]\t Loss: 6.3964320329519415 \n",
      "\n",
      "Step [0/6]\t Computing features...\n",
      "Features shape (1536,)\n",
      "(1536,) (1536, 1)\n",
      "Test NMI = 0.5761 ARI = 0.3437 F = 0.4643 ACC = 0.4440\n",
      "================================================================\n",
      "\n"
     ]
    },
    {
     "name": "stderr",
     "output_type": "stream",
     "text": [
      "D:\\Environment\\Conda\\envs\\torchenv\\lib\\site-packages\\torch\\nn\\modules\\container.py:141: UserWarning: Implicit dimension choice for softmax has been deprecated. Change the call to include dim=X as an argument.\n",
      "  input = module(input)\n"
     ]
    },
    {
     "name": "stdout",
     "output_type": "stream",
     "text": [
      "Step [0/26]\t loss_instance: 4.475033760070801\t loss_cluster: 1.9121519327163696\n",
      "Step [10/26]\t loss_instance: 4.430313587188721\t loss_cluster: 1.9711943864822388\n",
      "Step [20/26]\t loss_instance: 4.463279724121094\t loss_cluster: 1.904181718826294\n",
      "\n",
      "Epoch [81/250]\t Loss: 6.393750154055082 \n",
      "\n",
      "Step [0/6]\t Computing features...\n",
      "Features shape (1536,)\n",
      "(1536,) (1536, 1)\n",
      "Test NMI = 0.5786 ARI = 0.3414 F = 0.4608 ACC = 0.4388\n",
      "================================================================\n",
      "\n"
     ]
    },
    {
     "name": "stderr",
     "output_type": "stream",
     "text": [
      "D:\\Environment\\Conda\\envs\\torchenv\\lib\\site-packages\\torch\\nn\\modules\\container.py:141: UserWarning: Implicit dimension choice for softmax has been deprecated. Change the call to include dim=X as an argument.\n",
      "  input = module(input)\n"
     ]
    },
    {
     "name": "stdout",
     "output_type": "stream",
     "text": [
      "Step [0/26]\t loss_instance: 4.441229343414307\t loss_cluster: 1.9500372409820557\n",
      "Step [10/26]\t loss_instance: 4.455405235290527\t loss_cluster: 1.9209034442901611\n",
      "Step [20/26]\t loss_instance: 4.448516368865967\t loss_cluster: 1.9207435846328735\n",
      "\n",
      "Epoch [82/250]\t Loss: 6.389515069814829 \n",
      "\n",
      "Step [0/6]\t Computing features...\n",
      "Features shape (1536,)\n",
      "(1536,) (1536, 1)\n",
      "Test NMI = 0.5661 ARI = 0.3245 F = 0.4474 ACC = 0.4056\n",
      "================================================================\n",
      "\n"
     ]
    },
    {
     "name": "stderr",
     "output_type": "stream",
     "text": [
      "D:\\Environment\\Conda\\envs\\torchenv\\lib\\site-packages\\torch\\nn\\modules\\container.py:141: UserWarning: Implicit dimension choice for softmax has been deprecated. Change the call to include dim=X as an argument.\n",
      "  input = module(input)\n"
     ]
    },
    {
     "name": "stdout",
     "output_type": "stream",
     "text": [
      "Step [0/26]\t loss_instance: 4.46769905090332\t loss_cluster: 1.897594690322876\n",
      "Step [10/26]\t loss_instance: 4.445157527923584\t loss_cluster: 1.9418880939483643\n",
      "Step [20/26]\t loss_instance: 4.434326171875\t loss_cluster: 1.918373703956604\n",
      "\n",
      "Epoch [83/250]\t Loss: 6.3745239697969875 \n",
      "\n",
      "Step [0/6]\t Computing features...\n",
      "Features shape (1536,)\n",
      "(1536,) (1536, 1)\n",
      "Test NMI = 0.5734 ARI = 0.3409 F = 0.4598 ACC = 0.4329\n",
      "================================================================\n",
      "\n"
     ]
    },
    {
     "name": "stderr",
     "output_type": "stream",
     "text": [
      "D:\\Environment\\Conda\\envs\\torchenv\\lib\\site-packages\\torch\\nn\\modules\\container.py:141: UserWarning: Implicit dimension choice for softmax has been deprecated. Change the call to include dim=X as an argument.\n",
      "  input = module(input)\n"
     ]
    },
    {
     "name": "stdout",
     "output_type": "stream",
     "text": [
      "Step [0/26]\t loss_instance: 4.4243483543396\t loss_cluster: 1.9624879360198975\n",
      "Step [10/26]\t loss_instance: 4.43922233581543\t loss_cluster: 1.90830659866333\n",
      "Step [20/26]\t loss_instance: 4.451812267303467\t loss_cluster: 1.9134787321090698\n",
      "\n",
      "Epoch [84/250]\t Loss: 6.369243438427265 \n",
      "\n",
      "Step [0/6]\t Computing features...\n",
      "Features shape (1536,)\n",
      "(1536,) (1536, 1)\n",
      "Test NMI = 0.5769 ARI = 0.3348 F = 0.4567 ACC = 0.4121\n",
      "================================================================\n",
      "\n",
      "Step [0/26]\t loss_instance: 4.436040878295898\t loss_cluster: 1.9444528818130493\n"
     ]
    },
    {
     "name": "stderr",
     "output_type": "stream",
     "text": [
      "D:\\Environment\\Conda\\envs\\torchenv\\lib\\site-packages\\torch\\nn\\modules\\container.py:141: UserWarning: Implicit dimension choice for softmax has been deprecated. Change the call to include dim=X as an argument.\n",
      "  input = module(input)\n"
     ]
    },
    {
     "name": "stdout",
     "output_type": "stream",
     "text": [
      "Step [10/26]\t loss_instance: 4.448606014251709\t loss_cluster: 1.925865888595581\n",
      "Step [20/26]\t loss_instance: 4.435833930969238\t loss_cluster: 1.923530101776123\n",
      "\n",
      "Epoch [85/250]\t Loss: 6.358235579270583 \n",
      "\n",
      "Step [0/6]\t Computing features...\n",
      "Features shape (1536,)\n",
      "(1536,) (1536, 1)\n",
      "Test NMI = 0.5712 ARI = 0.3275 F = 0.4511 ACC = 0.4193\n",
      "================================================================\n",
      "\n",
      "Step [0/26]\t loss_instance: 4.439701557159424\t loss_cluster: 1.8983263969421387\n"
     ]
    },
    {
     "name": "stderr",
     "output_type": "stream",
     "text": [
      "D:\\Environment\\Conda\\envs\\torchenv\\lib\\site-packages\\torch\\nn\\modules\\container.py:141: UserWarning: Implicit dimension choice for softmax has been deprecated. Change the call to include dim=X as an argument.\n",
      "  input = module(input)\n"
     ]
    },
    {
     "name": "stdout",
     "output_type": "stream",
     "text": [
      "Step [10/26]\t loss_instance: 4.431366920471191\t loss_cluster: 1.9320522546768188\n",
      "Step [20/26]\t loss_instance: 4.461307525634766\t loss_cluster: 1.8822996616363525\n",
      "\n",
      "Epoch [86/250]\t Loss: 6.350273774220393 \n",
      "\n",
      "Step [0/6]\t Computing features...\n",
      "Features shape (1536,)\n",
      "(1536,) (1536, 1)\n",
      "Test NMI = 0.5761 ARI = 0.3371 F = 0.4593 ACC = 0.4245\n",
      "================================================================\n",
      "\n"
     ]
    },
    {
     "name": "stderr",
     "output_type": "stream",
     "text": [
      "D:\\Environment\\Conda\\envs\\torchenv\\lib\\site-packages\\torch\\nn\\modules\\container.py:141: UserWarning: Implicit dimension choice for softmax has been deprecated. Change the call to include dim=X as an argument.\n",
      "  input = module(input)\n"
     ]
    },
    {
     "name": "stdout",
     "output_type": "stream",
     "text": [
      "Step [0/26]\t loss_instance: 4.431861877441406\t loss_cluster: 1.8858046531677246\n",
      "Step [10/26]\t loss_instance: 4.456593036651611\t loss_cluster: 1.9011472463607788\n",
      "Step [20/26]\t loss_instance: 4.443782806396484\t loss_cluster: 1.879704236984253\n",
      "\n",
      "Epoch [87/250]\t Loss: 6.336264720329871 \n",
      "\n",
      "Step [0/6]\t Computing features...\n",
      "Features shape (1536,)\n",
      "(1536,) (1536, 1)\n",
      "Test NMI = 0.5755 ARI = 0.3312 F = 0.4533 ACC = 0.4102\n",
      "================================================================\n",
      "\n",
      "Step [0/26]\t loss_instance: 4.462860584259033\t loss_cluster: 1.8739914894104004\n"
     ]
    },
    {
     "name": "stderr",
     "output_type": "stream",
     "text": [
      "D:\\Environment\\Conda\\envs\\torchenv\\lib\\site-packages\\torch\\nn\\modules\\container.py:141: UserWarning: Implicit dimension choice for softmax has been deprecated. Change the call to include dim=X as an argument.\n",
      "  input = module(input)\n"
     ]
    },
    {
     "name": "stdout",
     "output_type": "stream",
     "text": [
      "Step [10/26]\t loss_instance: 4.437692642211914\t loss_cluster: 1.8909904956817627\n",
      "Step [20/26]\t loss_instance: 4.435053825378418\t loss_cluster: 1.8885926008224487\n",
      "\n",
      "Epoch [88/250]\t Loss: 6.340004810920129 \n",
      "\n",
      "Step [0/6]\t Computing features...\n",
      "Features shape (1536,)\n",
      "(1536,) (1536, 1)\n",
      "Test NMI = 0.5741 ARI = 0.3326 F = 0.4549 ACC = 0.4193\n",
      "================================================================\n",
      "\n",
      "Step [0/26]\t loss_instance: 4.470693588256836\t loss_cluster: 1.8850189447402954\n"
     ]
    },
    {
     "name": "stderr",
     "output_type": "stream",
     "text": [
      "D:\\Environment\\Conda\\envs\\torchenv\\lib\\site-packages\\torch\\nn\\modules\\container.py:141: UserWarning: Implicit dimension choice for softmax has been deprecated. Change the call to include dim=X as an argument.\n",
      "  input = module(input)\n"
     ]
    },
    {
     "name": "stdout",
     "output_type": "stream",
     "text": [
      "Step [10/26]\t loss_instance: 4.423172473907471\t loss_cluster: 1.9136520624160767\n",
      "Step [20/26]\t loss_instance: 4.447669506072998\t loss_cluster: 1.8659902811050415\n",
      "\n",
      "Epoch [89/250]\t Loss: 6.326898519809429 \n",
      "\n",
      "Step [0/6]\t Computing features...\n",
      "Features shape (1536,)\n",
      "(1536,) (1536, 1)\n",
      "Test NMI = 0.5688 ARI = 0.3206 F = 0.4461 ACC = 0.4056\n",
      "================================================================\n",
      "\n"
     ]
    },
    {
     "name": "stderr",
     "output_type": "stream",
     "text": [
      "D:\\Environment\\Conda\\envs\\torchenv\\lib\\site-packages\\torch\\nn\\modules\\container.py:141: UserWarning: Implicit dimension choice for softmax has been deprecated. Change the call to include dim=X as an argument.\n",
      "  input = module(input)\n"
     ]
    },
    {
     "name": "stdout",
     "output_type": "stream",
     "text": [
      "Step [0/26]\t loss_instance: 4.434753894805908\t loss_cluster: 1.8954676389694214\n",
      "Step [10/26]\t loss_instance: 4.446484565734863\t loss_cluster: 1.854077935218811\n",
      "Step [20/26]\t loss_instance: 4.449782371520996\t loss_cluster: 1.8530665636062622\n",
      "\n",
      "Epoch [90/250]\t Loss: 6.324047051943266 \n",
      "\n",
      "Step [0/6]\t Computing features...\n",
      "Features shape (1536,)\n",
      "(1536,) (1536, 1)\n",
      "Test NMI = 0.5709 ARI = 0.3288 F = 0.4514 ACC = 0.4141\n",
      "================================================================\n",
      "\n"
     ]
    },
    {
     "name": "stderr",
     "output_type": "stream",
     "text": [
      "D:\\Environment\\Conda\\envs\\torchenv\\lib\\site-packages\\torch\\nn\\modules\\container.py:141: UserWarning: Implicit dimension choice for softmax has been deprecated. Change the call to include dim=X as an argument.\n",
      "  input = module(input)\n"
     ]
    },
    {
     "name": "stdout",
     "output_type": "stream",
     "text": [
      "Step [0/26]\t loss_instance: 4.4491987228393555\t loss_cluster: 1.849456548690796\n",
      "Step [10/26]\t loss_instance: 4.433815956115723\t loss_cluster: 1.8892325162887573\n",
      "Step [20/26]\t loss_instance: 4.426090240478516\t loss_cluster: 1.8840910196304321\n",
      "\n",
      "Epoch [91/250]\t Loss: 6.31118708390456 \n",
      "\n",
      "Step [0/6]\t Computing features...\n",
      "Features shape (1536,)\n",
      "(1536,) (1536, 1)\n",
      "Test NMI = 0.5742 ARI = 0.3306 F = 0.4530 ACC = 0.4049\n",
      "================================================================\n",
      "\n",
      "Step [0/26]\t loss_instance: 4.430604934692383\t loss_cluster: 1.8644728660583496\n"
     ]
    },
    {
     "name": "stderr",
     "output_type": "stream",
     "text": [
      "D:\\Environment\\Conda\\envs\\torchenv\\lib\\site-packages\\torch\\nn\\modules\\container.py:141: UserWarning: Implicit dimension choice for softmax has been deprecated. Change the call to include dim=X as an argument.\n",
      "  input = module(input)\n"
     ]
    },
    {
     "name": "stdout",
     "output_type": "stream",
     "text": [
      "Step [10/26]\t loss_instance: 4.419788360595703\t loss_cluster: 1.8982470035552979\n",
      "Step [20/26]\t loss_instance: 4.415293216705322\t loss_cluster: 1.8776804208755493\n",
      "\n",
      "Epoch [92/250]\t Loss: 6.30109297312223 \n",
      "\n",
      "Step [0/6]\t Computing features...\n",
      "Features shape (1536,)\n",
      "(1536,) (1536, 1)\n",
      "Test NMI = 0.5720 ARI = 0.3244 F = 0.4483 ACC = 0.4082\n",
      "================================================================\n",
      "\n",
      "Step [0/26]\t loss_instance: 4.43204927444458\t loss_cluster: 1.854582667350769\n"
     ]
    },
    {
     "name": "stderr",
     "output_type": "stream",
     "text": [
      "D:\\Environment\\Conda\\envs\\torchenv\\lib\\site-packages\\torch\\nn\\modules\\container.py:141: UserWarning: Implicit dimension choice for softmax has been deprecated. Change the call to include dim=X as an argument.\n",
      "  input = module(input)\n"
     ]
    },
    {
     "name": "stdout",
     "output_type": "stream",
     "text": [
      "Step [10/26]\t loss_instance: 4.436500549316406\t loss_cluster: 1.8752434253692627\n",
      "Step [20/26]\t loss_instance: 4.419974327087402\t loss_cluster: 1.8930103778839111\n",
      "\n",
      "Epoch [93/250]\t Loss: 6.299148779649001 \n",
      "\n",
      "Step [0/6]\t Computing features...\n",
      "Features shape (1536,)\n",
      "(1536,) (1536, 1)\n",
      "Test NMI = 0.5691 ARI = 0.3250 F = 0.4473 ACC = 0.4141\n",
      "================================================================\n",
      "\n",
      "Step [0/26]\t loss_instance: 4.45574426651001\t loss_cluster: 1.8328815698623657\n"
     ]
    },
    {
     "name": "stderr",
     "output_type": "stream",
     "text": [
      "D:\\Environment\\Conda\\envs\\torchenv\\lib\\site-packages\\torch\\nn\\modules\\container.py:141: UserWarning: Implicit dimension choice for softmax has been deprecated. Change the call to include dim=X as an argument.\n",
      "  input = module(input)\n"
     ]
    },
    {
     "name": "stdout",
     "output_type": "stream",
     "text": [
      "Step [10/26]\t loss_instance: 4.423442840576172\t loss_cluster: 1.8891019821166992\n",
      "Step [20/26]\t loss_instance: 4.4607253074646\t loss_cluster: 1.8297359943389893\n",
      "\n",
      "Epoch [94/250]\t Loss: 6.29578449175908 \n",
      "\n",
      "Step [0/6]\t Computing features...\n",
      "Features shape (1536,)\n",
      "(1536,) (1536, 1)\n",
      "Test NMI = 0.5737 ARI = 0.3307 F = 0.4542 ACC = 0.4082\n",
      "================================================================\n",
      "\n",
      "Step [0/26]\t loss_instance: 4.4297637939453125\t loss_cluster: 1.8775559663772583\n"
     ]
    },
    {
     "name": "stderr",
     "output_type": "stream",
     "text": [
      "D:\\Environment\\Conda\\envs\\torchenv\\lib\\site-packages\\torch\\nn\\modules\\container.py:141: UserWarning: Implicit dimension choice for softmax has been deprecated. Change the call to include dim=X as an argument.\n",
      "  input = module(input)\n"
     ]
    },
    {
     "name": "stdout",
     "output_type": "stream",
     "text": [
      "Step [10/26]\t loss_instance: 4.4313201904296875\t loss_cluster: 1.8440474271774292\n",
      "Step [20/26]\t loss_instance: 4.420945167541504\t loss_cluster: 1.850965142250061\n",
      "\n",
      "Epoch [95/250]\t Loss: 6.285738871647761 \n",
      "\n",
      "Step [0/6]\t Computing features...\n",
      "Features shape (1536,)\n",
      "(1536,) (1536, 1)\n",
      "Test NMI = 0.5724 ARI = 0.3219 F = 0.4454 ACC = 0.4030\n",
      "================================================================\n",
      "\n",
      "Step [0/26]\t loss_instance: 4.44102144241333\t loss_cluster: 1.8355787992477417\n"
     ]
    },
    {
     "name": "stderr",
     "output_type": "stream",
     "text": [
      "D:\\Environment\\Conda\\envs\\torchenv\\lib\\site-packages\\torch\\nn\\modules\\container.py:141: UserWarning: Implicit dimension choice for softmax has been deprecated. Change the call to include dim=X as an argument.\n",
      "  input = module(input)\n"
     ]
    },
    {
     "name": "stdout",
     "output_type": "stream",
     "text": [
      "Step [10/26]\t loss_instance: 4.448634624481201\t loss_cluster: 1.8256348371505737\n",
      "Step [20/26]\t loss_instance: 4.433019161224365\t loss_cluster: 1.8545289039611816\n",
      "\n",
      "Epoch [96/250]\t Loss: 6.2800328731536865 \n",
      "\n",
      "Step [0/6]\t Computing features...\n",
      "Features shape (1536,)\n",
      "(1536,) (1536, 1)\n",
      "Test NMI = 0.5676 ARI = 0.3226 F = 0.4454 ACC = 0.4023\n",
      "================================================================\n",
      "\n"
     ]
    },
    {
     "name": "stderr",
     "output_type": "stream",
     "text": [
      "D:\\Environment\\Conda\\envs\\torchenv\\lib\\site-packages\\torch\\nn\\modules\\container.py:141: UserWarning: Implicit dimension choice for softmax has been deprecated. Change the call to include dim=X as an argument.\n",
      "  input = module(input)\n"
     ]
    },
    {
     "name": "stdout",
     "output_type": "stream",
     "text": [
      "Step [0/26]\t loss_instance: 4.432361602783203\t loss_cluster: 1.8405441045761108\n",
      "Step [10/26]\t loss_instance: 4.423539161682129\t loss_cluster: 1.8378558158874512\n",
      "Step [20/26]\t loss_instance: 4.4259819984436035\t loss_cluster: 1.845758080482483\n",
      "\n",
      "Epoch [97/250]\t Loss: 6.27883977156419 \n",
      "\n",
      "Step [0/6]\t Computing features...\n",
      "Features shape (1536,)\n",
      "(1536,) (1536, 1)\n",
      "Test NMI = 0.5728 ARI = 0.3315 F = 0.4550 ACC = 0.4069\n",
      "================================================================\n",
      "\n",
      "Step [0/26]\t loss_instance: 4.417109489440918\t loss_cluster: 1.8627511262893677\n"
     ]
    },
    {
     "name": "stderr",
     "output_type": "stream",
     "text": [
      "D:\\Environment\\Conda\\envs\\torchenv\\lib\\site-packages\\torch\\nn\\modules\\container.py:141: UserWarning: Implicit dimension choice for softmax has been deprecated. Change the call to include dim=X as an argument.\n",
      "  input = module(input)\n"
     ]
    },
    {
     "name": "stdout",
     "output_type": "stream",
     "text": [
      "Step [10/26]\t loss_instance: 4.427855968475342\t loss_cluster: 1.8948869705200195\n",
      "Step [20/26]\t loss_instance: 4.4288859367370605\t loss_cluster: 1.8359174728393555\n",
      "\n",
      "Epoch [98/250]\t Loss: 6.270431316815889 \n",
      "\n",
      "Step [0/6]\t Computing features...\n",
      "Features shape (1536,)\n",
      "(1536,) (1536, 1)\n",
      "Test NMI = 0.5794 ARI = 0.3289 F = 0.4512 ACC = 0.4056\n",
      "================================================================\n",
      "\n"
     ]
    },
    {
     "name": "stderr",
     "output_type": "stream",
     "text": [
      "D:\\Environment\\Conda\\envs\\torchenv\\lib\\site-packages\\torch\\nn\\modules\\container.py:141: UserWarning: Implicit dimension choice for softmax has been deprecated. Change the call to include dim=X as an argument.\n",
      "  input = module(input)\n"
     ]
    },
    {
     "name": "stdout",
     "output_type": "stream",
     "text": [
      "Step [0/26]\t loss_instance: 4.414063453674316\t loss_cluster: 1.8914005756378174\n",
      "Step [10/26]\t loss_instance: 4.43185567855835\t loss_cluster: 1.8300710916519165\n",
      "Step [20/26]\t loss_instance: 4.43588399887085\t loss_cluster: 1.8475937843322754\n",
      "\n",
      "Epoch [99/250]\t Loss: 6.259782607738789 \n",
      "\n",
      "Step [0/6]\t Computing features...\n",
      "Features shape (1536,)\n",
      "(1536,) (1536, 1)\n",
      "Test NMI = 0.5642 ARI = 0.3162 F = 0.4407 ACC = 0.3932\n",
      "================================================================\n",
      "\n"
     ]
    },
    {
     "name": "stderr",
     "output_type": "stream",
     "text": [
      "D:\\Environment\\Conda\\envs\\torchenv\\lib\\site-packages\\torch\\nn\\modules\\container.py:141: UserWarning: Implicit dimension choice for softmax has been deprecated. Change the call to include dim=X as an argument.\n",
      "  input = module(input)\n"
     ]
    },
    {
     "name": "stdout",
     "output_type": "stream",
     "text": [
      "Step [0/26]\t loss_instance: 4.446677207946777\t loss_cluster: 1.832388162612915\n",
      "Step [10/26]\t loss_instance: 4.431307792663574\t loss_cluster: 1.8432509899139404\n",
      "Step [20/26]\t loss_instance: 4.43099308013916\t loss_cluster: 1.815459966659546\n",
      "\n",
      "Epoch [100/250]\t Loss: 6.260679758512056 \n",
      "\n",
      "Step [0/6]\t Computing features...\n",
      "Features shape (1536,)\n",
      "(1536,) (1536, 1)\n",
      "Test NMI = 0.5684 ARI = 0.3238 F = 0.4465 ACC = 0.4017\n",
      "================================================================\n",
      "\n"
     ]
    },
    {
     "name": "stderr",
     "output_type": "stream",
     "text": [
      "D:\\Environment\\Conda\\envs\\torchenv\\lib\\site-packages\\torch\\nn\\modules\\container.py:141: UserWarning: Implicit dimension choice for softmax has been deprecated. Change the call to include dim=X as an argument.\n",
      "  input = module(input)\n"
     ]
    },
    {
     "name": "stdout",
     "output_type": "stream",
     "text": [
      "Step [0/26]\t loss_instance: 4.4302802085876465\t loss_cluster: 1.844710350036621\n",
      "Step [10/26]\t loss_instance: 4.420877933502197\t loss_cluster: 1.8325250148773193\n",
      "Step [20/26]\t loss_instance: 4.4270195960998535\t loss_cluster: 1.835971713066101\n",
      "\n",
      "Epoch [101/250]\t Loss: 6.249240398406982 \n",
      "\n",
      "Step [0/6]\t Computing features...\n",
      "Features shape (1536,)\n",
      "(1536,) (1536, 1)\n",
      "Test NMI = 0.5719 ARI = 0.3293 F = 0.4525 ACC = 0.4121\n",
      "================================================================\n",
      "\n"
     ]
    },
    {
     "name": "stderr",
     "output_type": "stream",
     "text": [
      "D:\\Environment\\Conda\\envs\\torchenv\\lib\\site-packages\\torch\\nn\\modules\\container.py:141: UserWarning: Implicit dimension choice for softmax has been deprecated. Change the call to include dim=X as an argument.\n",
      "  input = module(input)\n"
     ]
    },
    {
     "name": "stdout",
     "output_type": "stream",
     "text": [
      "Step [0/26]\t loss_instance: 4.440685749053955\t loss_cluster: 1.8222110271453857\n",
      "Step [10/26]\t loss_instance: 4.427806854248047\t loss_cluster: 1.8123544454574585\n",
      "Step [20/26]\t loss_instance: 4.426701545715332\t loss_cluster: 1.799648642539978\n",
      "\n",
      "Epoch [102/250]\t Loss: 6.244772067436805 \n",
      "\n",
      "Step [0/6]\t Computing features...\n",
      "Features shape (1536,)\n",
      "(1536,) (1536, 1)\n",
      "Test NMI = 0.5845 ARI = 0.3383 F = 0.4615 ACC = 0.4076\n",
      "================================================================\n",
      "\n",
      "Step [0/26]\t loss_instance: 4.408760070800781\t loss_cluster: 1.8400700092315674\n"
     ]
    },
    {
     "name": "stderr",
     "output_type": "stream",
     "text": [
      "D:\\Environment\\Conda\\envs\\torchenv\\lib\\site-packages\\torch\\nn\\modules\\container.py:141: UserWarning: Implicit dimension choice for softmax has been deprecated. Change the call to include dim=X as an argument.\n",
      "  input = module(input)\n"
     ]
    },
    {
     "name": "stdout",
     "output_type": "stream",
     "text": [
      "Step [10/26]\t loss_instance: 4.418313503265381\t loss_cluster: 1.836143136024475\n",
      "Step [20/26]\t loss_instance: 4.427899360656738\t loss_cluster: 1.7933120727539062\n",
      "\n",
      "Epoch [103/250]\t Loss: 6.2402957402742825 \n",
      "\n",
      "Step [0/6]\t Computing features...\n",
      "Features shape (1536,)\n",
      "(1536,) (1536, 1)\n",
      "Test NMI = 0.5738 ARI = 0.3310 F = 0.4551 ACC = 0.4121\n",
      "================================================================\n",
      "\n",
      "Step [0/26]\t loss_instance: 4.415640354156494\t loss_cluster: 1.8353955745697021\n"
     ]
    },
    {
     "name": "stderr",
     "output_type": "stream",
     "text": [
      "D:\\Environment\\Conda\\envs\\torchenv\\lib\\site-packages\\torch\\nn\\modules\\container.py:141: UserWarning: Implicit dimension choice for softmax has been deprecated. Change the call to include dim=X as an argument.\n",
      "  input = module(input)\n"
     ]
    },
    {
     "name": "stdout",
     "output_type": "stream",
     "text": [
      "Step [10/26]\t loss_instance: 4.415887355804443\t loss_cluster: 1.8221166133880615\n",
      "Step [20/26]\t loss_instance: 4.425484657287598\t loss_cluster: 1.7988005876541138\n",
      "\n",
      "Epoch [104/250]\t Loss: 6.2358072354243355 \n",
      "\n",
      "Step [0/6]\t Computing features...\n",
      "Features shape (1536,)\n",
      "(1536,) (1536, 1)\n",
      "Test NMI = 0.5792 ARI = 0.3335 F = 0.4560 ACC = 0.4167\n",
      "================================================================\n",
      "\n",
      "Step [0/26]\t loss_instance: 4.441976070404053\t loss_cluster: 1.7985167503356934\n"
     ]
    },
    {
     "name": "stderr",
     "output_type": "stream",
     "text": [
      "D:\\Environment\\Conda\\envs\\torchenv\\lib\\site-packages\\torch\\nn\\modules\\container.py:141: UserWarning: Implicit dimension choice for softmax has been deprecated. Change the call to include dim=X as an argument.\n",
      "  input = module(input)\n"
     ]
    },
    {
     "name": "stdout",
     "output_type": "stream",
     "text": [
      "Step [10/26]\t loss_instance: 4.445636749267578\t loss_cluster: 1.8005471229553223\n",
      "Step [20/26]\t loss_instance: 4.4309258460998535\t loss_cluster: 1.758920669555664\n",
      "\n",
      "Epoch [105/250]\t Loss: 6.24249636209928 \n",
      "\n",
      "Step [0/6]\t Computing features...\n",
      "Features shape (1536,)\n",
      "(1536,) (1536, 1)\n",
      "Test NMI = 0.5699 ARI = 0.3243 F = 0.4486 ACC = 0.3952\n",
      "================================================================\n",
      "\n",
      "Step [0/26]\t loss_instance: 4.437013149261475\t loss_cluster: 1.8021436929702759\n"
     ]
    },
    {
     "name": "stderr",
     "output_type": "stream",
     "text": [
      "D:\\Environment\\Conda\\envs\\torchenv\\lib\\site-packages\\torch\\nn\\modules\\container.py:141: UserWarning: Implicit dimension choice for softmax has been deprecated. Change the call to include dim=X as an argument.\n",
      "  input = module(input)\n"
     ]
    },
    {
     "name": "stdout",
     "output_type": "stream",
     "text": [
      "Step [10/26]\t loss_instance: 4.424013137817383\t loss_cluster: 1.8035560846328735\n",
      "Step [20/26]\t loss_instance: 4.420368194580078\t loss_cluster: 1.8004447221755981\n",
      "\n",
      "Epoch [106/250]\t Loss: 6.227674245834351 \n",
      "\n",
      "Step [0/6]\t Computing features...\n",
      "Features shape (1536,)\n",
      "(1536,) (1536, 1)\n",
      "Test NMI = 0.5745 ARI = 0.3268 F = 0.4494 ACC = 0.4076\n",
      "================================================================\n",
      "\n",
      "Step [0/26]\t loss_instance: 4.422575950622559\t loss_cluster: 1.784875512123108\n"
     ]
    },
    {
     "name": "stderr",
     "output_type": "stream",
     "text": [
      "D:\\Environment\\Conda\\envs\\torchenv\\lib\\site-packages\\torch\\nn\\modules\\container.py:141: UserWarning: Implicit dimension choice for softmax has been deprecated. Change the call to include dim=X as an argument.\n",
      "  input = module(input)\n"
     ]
    },
    {
     "name": "stdout",
     "output_type": "stream",
     "text": [
      "Step [10/26]\t loss_instance: 4.437335968017578\t loss_cluster: 1.7659459114074707\n",
      "Step [20/26]\t loss_instance: 4.423593044281006\t loss_cluster: 1.823630452156067\n",
      "\n",
      "Epoch [107/250]\t Loss: 6.225939640632043 \n",
      "\n",
      "Step [0/6]\t Computing features...\n",
      "Features shape (1536,)\n",
      "(1536,) (1536, 1)\n",
      "Test NMI = 0.5769 ARI = 0.3315 F = 0.4557 ACC = 0.4056\n",
      "================================================================\n",
      "\n",
      "Step [0/26]\t loss_instance: 4.407277584075928\t loss_cluster: 1.8473906517028809\n"
     ]
    },
    {
     "name": "stderr",
     "output_type": "stream",
     "text": [
      "D:\\Environment\\Conda\\envs\\torchenv\\lib\\site-packages\\torch\\nn\\modules\\container.py:141: UserWarning: Implicit dimension choice for softmax has been deprecated. Change the call to include dim=X as an argument.\n",
      "  input = module(input)\n"
     ]
    },
    {
     "name": "stdout",
     "output_type": "stream",
     "text": [
      "Step [10/26]\t loss_instance: 4.423346996307373\t loss_cluster: 1.8074452877044678\n",
      "Step [20/26]\t loss_instance: 4.417818546295166\t loss_cluster: 1.7855610847473145\n",
      "\n",
      "Epoch [108/250]\t Loss: 6.219286111684946 \n",
      "\n",
      "Step [0/6]\t Computing features...\n",
      "Features shape (1536,)\n",
      "(1536,) (1536, 1)\n",
      "Test NMI = 0.5754 ARI = 0.3275 F = 0.4514 ACC = 0.4017\n",
      "================================================================\n",
      "\n",
      "Step [0/26]\t loss_instance: 4.4223198890686035\t loss_cluster: 1.7873420715332031\n"
     ]
    },
    {
     "name": "stderr",
     "output_type": "stream",
     "text": [
      "D:\\Environment\\Conda\\envs\\torchenv\\lib\\site-packages\\torch\\nn\\modules\\container.py:141: UserWarning: Implicit dimension choice for softmax has been deprecated. Change the call to include dim=X as an argument.\n",
      "  input = module(input)\n"
     ]
    },
    {
     "name": "stdout",
     "output_type": "stream",
     "text": [
      "Step [10/26]\t loss_instance: 4.423213005065918\t loss_cluster: 1.7761619091033936\n",
      "Step [20/26]\t loss_instance: 4.441892623901367\t loss_cluster: 1.778996467590332\n",
      "\n",
      "Epoch [109/250]\t Loss: 6.21428106381343 \n",
      "\n",
      "Step [0/6]\t Computing features...\n",
      "Features shape (1536,)\n",
      "(1536,) (1536, 1)\n",
      "Test NMI = 0.5781 ARI = 0.3293 F = 0.4520 ACC = 0.4082\n",
      "================================================================\n",
      "\n"
     ]
    },
    {
     "name": "stderr",
     "output_type": "stream",
     "text": [
      "D:\\Environment\\Conda\\envs\\torchenv\\lib\\site-packages\\torch\\nn\\modules\\container.py:141: UserWarning: Implicit dimension choice for softmax has been deprecated. Change the call to include dim=X as an argument.\n",
      "  input = module(input)\n"
     ]
    },
    {
     "name": "stdout",
     "output_type": "stream",
     "text": [
      "Step [0/26]\t loss_instance: 4.423564434051514\t loss_cluster: 1.7681684494018555\n",
      "Step [10/26]\t loss_instance: 4.428742408752441\t loss_cluster: 1.8010002374649048\n",
      "Step [20/26]\t loss_instance: 4.409716606140137\t loss_cluster: 1.778845191001892\n",
      "\n",
      "Epoch [110/250]\t Loss: 6.209136724472046 \n",
      "\n",
      "Step [0/6]\t Computing features...\n",
      "Features shape (1536,)\n",
      "(1536,) (1536, 1)\n",
      "Test NMI = 0.5788 ARI = 0.3306 F = 0.4530 ACC = 0.4049\n",
      "================================================================\n",
      "\n"
     ]
    },
    {
     "name": "stderr",
     "output_type": "stream",
     "text": [
      "D:\\Environment\\Conda\\envs\\torchenv\\lib\\site-packages\\torch\\nn\\modules\\container.py:141: UserWarning: Implicit dimension choice for softmax has been deprecated. Change the call to include dim=X as an argument.\n",
      "  input = module(input)\n"
     ]
    },
    {
     "name": "stdout",
     "output_type": "stream",
     "text": [
      "Step [0/26]\t loss_instance: 4.425518989562988\t loss_cluster: 1.792069911956787\n",
      "Step [10/26]\t loss_instance: 4.43816614151001\t loss_cluster: 1.8041869401931763\n",
      "Step [20/26]\t loss_instance: 4.428760528564453\t loss_cluster: 1.7728098630905151\n",
      "\n",
      "Epoch [111/250]\t Loss: 6.209264626869788 \n",
      "\n",
      "Step [0/6]\t Computing features...\n",
      "Features shape (1536,)\n",
      "(1536,) (1536, 1)\n",
      "Test NMI = 0.5723 ARI = 0.3230 F = 0.4491 ACC = 0.4017\n",
      "================================================================\n",
      "\n"
     ]
    },
    {
     "name": "stderr",
     "output_type": "stream",
     "text": [
      "D:\\Environment\\Conda\\envs\\torchenv\\lib\\site-packages\\torch\\nn\\modules\\container.py:141: UserWarning: Implicit dimension choice for softmax has been deprecated. Change the call to include dim=X as an argument.\n",
      "  input = module(input)\n"
     ]
    },
    {
     "name": "stdout",
     "output_type": "stream",
     "text": [
      "Step [0/26]\t loss_instance: 4.412440776824951\t loss_cluster: 1.8079800605773926\n",
      "Step [10/26]\t loss_instance: 4.416457176208496\t loss_cluster: 1.8001089096069336\n",
      "Step [20/26]\t loss_instance: 4.413660049438477\t loss_cluster: 1.7767757177352905\n",
      "\n",
      "Epoch [112/250]\t Loss: 6.206207917286799 \n",
      "\n",
      "Step [0/6]\t Computing features...\n",
      "Features shape (1536,)\n",
      "(1536,) (1536, 1)\n",
      "Test NMI = 0.5763 ARI = 0.3252 F = 0.4479 ACC = 0.4069\n",
      "================================================================\n",
      "\n"
     ]
    },
    {
     "name": "stderr",
     "output_type": "stream",
     "text": [
      "D:\\Environment\\Conda\\envs\\torchenv\\lib\\site-packages\\torch\\nn\\modules\\container.py:141: UserWarning: Implicit dimension choice for softmax has been deprecated. Change the call to include dim=X as an argument.\n",
      "  input = module(input)\n"
     ]
    },
    {
     "name": "stdout",
     "output_type": "stream",
     "text": [
      "Step [0/26]\t loss_instance: 4.435324192047119\t loss_cluster: 1.7716858386993408\n",
      "Step [10/26]\t loss_instance: 4.412336349487305\t loss_cluster: 1.818780541419983\n",
      "Step [20/26]\t loss_instance: 4.413959980010986\t loss_cluster: 1.7786893844604492\n",
      "\n",
      "Epoch [113/250]\t Loss: 6.200062971848708 \n",
      "\n",
      "Step [0/6]\t Computing features...\n",
      "Features shape (1536,)\n",
      "(1536,) (1536, 1)\n",
      "Test NMI = 0.5793 ARI = 0.3329 F = 0.4555 ACC = 0.4115\n",
      "================================================================\n",
      "\n",
      "Step [0/26]\t loss_instance: 4.440967559814453\t loss_cluster: 1.7829511165618896\n"
     ]
    },
    {
     "name": "stderr",
     "output_type": "stream",
     "text": [
      "D:\\Environment\\Conda\\envs\\torchenv\\lib\\site-packages\\torch\\nn\\modules\\container.py:141: UserWarning: Implicit dimension choice for softmax has been deprecated. Change the call to include dim=X as an argument.\n",
      "  input = module(input)\n"
     ]
    },
    {
     "name": "stdout",
     "output_type": "stream",
     "text": [
      "Step [10/26]\t loss_instance: 4.402277946472168\t loss_cluster: 1.853635311126709\n",
      "Step [20/26]\t loss_instance: 4.424602508544922\t loss_cluster: 1.7577745914459229\n",
      "\n",
      "Epoch [114/250]\t Loss: 6.200186986189622 \n",
      "\n",
      "Step [0/6]\t Computing features...\n",
      "Features shape (1536,)\n",
      "(1536,) (1536, 1)\n",
      "Test NMI = 0.5730 ARI = 0.3245 F = 0.4480 ACC = 0.4082\n",
      "================================================================\n",
      "\n",
      "Step [0/26]\t loss_instance: 4.445221900939941\t loss_cluster: 1.7553761005401611\n"
     ]
    },
    {
     "name": "stderr",
     "output_type": "stream",
     "text": [
      "D:\\Environment\\Conda\\envs\\torchenv\\lib\\site-packages\\torch\\nn\\modules\\container.py:141: UserWarning: Implicit dimension choice for softmax has been deprecated. Change the call to include dim=X as an argument.\n",
      "  input = module(input)\n"
     ]
    },
    {
     "name": "stdout",
     "output_type": "stream",
     "text": [
      "Step [10/26]\t loss_instance: 4.435542106628418\t loss_cluster: 1.752023458480835\n",
      "Step [20/26]\t loss_instance: 4.422537326812744\t loss_cluster: 1.761094570159912\n",
      "\n",
      "Epoch [115/250]\t Loss: 6.1897490207965555 \n",
      "\n",
      "Step [0/6]\t Computing features...\n",
      "Features shape (1536,)\n",
      "(1536,) (1536, 1)\n",
      "Test NMI = 0.5715 ARI = 0.3221 F = 0.4466 ACC = 0.4023\n",
      "================================================================\n",
      "\n",
      "Step [0/26]\t loss_instance: 4.424897193908691\t loss_cluster: 1.7522178888320923\n"
     ]
    },
    {
     "name": "stderr",
     "output_type": "stream",
     "text": [
      "D:\\Environment\\Conda\\envs\\torchenv\\lib\\site-packages\\torch\\nn\\modules\\container.py:141: UserWarning: Implicit dimension choice for softmax has been deprecated. Change the call to include dim=X as an argument.\n",
      "  input = module(input)\n"
     ]
    },
    {
     "name": "stdout",
     "output_type": "stream",
     "text": [
      "Step [10/26]\t loss_instance: 4.417474746704102\t loss_cluster: 1.7509747743606567\n",
      "Step [20/26]\t loss_instance: 4.43894100189209\t loss_cluster: 1.7958964109420776\n",
      "\n",
      "Epoch [116/250]\t Loss: 6.189332833656898 \n",
      "\n",
      "Step [0/6]\t Computing features...\n",
      "Features shape (1536,)\n",
      "(1536,) (1536, 1)\n",
      "Test NMI = 0.5757 ARI = 0.3284 F = 0.4511 ACC = 0.4049\n",
      "================================================================\n",
      "\n",
      "Step [0/26]\t loss_instance: 4.4157891273498535\t loss_cluster: 1.7544078826904297\n"
     ]
    },
    {
     "name": "stderr",
     "output_type": "stream",
     "text": [
      "D:\\Environment\\Conda\\envs\\torchenv\\lib\\site-packages\\torch\\nn\\modules\\container.py:141: UserWarning: Implicit dimension choice for softmax has been deprecated. Change the call to include dim=X as an argument.\n",
      "  input = module(input)\n"
     ]
    },
    {
     "name": "stdout",
     "output_type": "stream",
     "text": [
      "Step [10/26]\t loss_instance: 4.4231038093566895\t loss_cluster: 1.7499943971633911\n",
      "Step [20/26]\t loss_instance: 4.422640323638916\t loss_cluster: 1.7394249439239502\n",
      "\n",
      "Epoch [117/250]\t Loss: 6.180477582491362 \n",
      "\n",
      "Step [0/6]\t Computing features...\n",
      "Features shape (1536,)\n",
      "(1536,) (1536, 1)\n",
      "Test NMI = 0.5766 ARI = 0.3281 F = 0.4528 ACC = 0.4102\n",
      "================================================================\n",
      "\n",
      "Step [0/26]\t loss_instance: 4.435558319091797\t loss_cluster: 1.7447316646575928\n"
     ]
    },
    {
     "name": "stderr",
     "output_type": "stream",
     "text": [
      "D:\\Environment\\Conda\\envs\\torchenv\\lib\\site-packages\\torch\\nn\\modules\\container.py:141: UserWarning: Implicit dimension choice for softmax has been deprecated. Change the call to include dim=X as an argument.\n",
      "  input = module(input)\n"
     ]
    },
    {
     "name": "stdout",
     "output_type": "stream",
     "text": [
      "Step [10/26]\t loss_instance: 4.417366027832031\t loss_cluster: 1.7283185720443726\n",
      "Step [20/26]\t loss_instance: 4.4113874435424805\t loss_cluster: 1.7629293203353882\n",
      "\n",
      "Epoch [118/250]\t Loss: 6.181413962290837 \n",
      "\n",
      "Step [0/6]\t Computing features...\n",
      "Features shape (1536,)\n",
      "(1536,) (1536, 1)\n",
      "Test NMI = 0.5742 ARI = 0.3284 F = 0.4533 ACC = 0.4141\n",
      "================================================================\n",
      "\n",
      "Step [0/26]\t loss_instance: 4.404088020324707\t loss_cluster: 1.7750741243362427\n"
     ]
    },
    {
     "name": "stderr",
     "output_type": "stream",
     "text": [
      "D:\\Environment\\Conda\\envs\\torchenv\\lib\\site-packages\\torch\\nn\\modules\\container.py:141: UserWarning: Implicit dimension choice for softmax has been deprecated. Change the call to include dim=X as an argument.\n",
      "  input = module(input)\n"
     ]
    },
    {
     "name": "stdout",
     "output_type": "stream",
     "text": [
      "Step [10/26]\t loss_instance: 4.420042037963867\t loss_cluster: 1.7389779090881348\n",
      "Step [20/26]\t loss_instance: 4.408239841461182\t loss_cluster: 1.7424999475479126\n",
      "\n",
      "Epoch [119/250]\t Loss: 6.178105152570284 \n",
      "\n",
      "Step [0/6]\t Computing features...\n",
      "Features shape (1536,)\n",
      "(1536,) (1536, 1)\n",
      "Test NMI = 0.5780 ARI = 0.3289 F = 0.4537 ACC = 0.4095\n",
      "================================================================\n",
      "\n",
      "Step [0/26]\t loss_instance: 4.41292667388916\t loss_cluster: 1.7594153881072998\n"
     ]
    },
    {
     "name": "stderr",
     "output_type": "stream",
     "text": [
      "D:\\Environment\\Conda\\envs\\torchenv\\lib\\site-packages\\torch\\nn\\modules\\container.py:141: UserWarning: Implicit dimension choice for softmax has been deprecated. Change the call to include dim=X as an argument.\n",
      "  input = module(input)\n"
     ]
    },
    {
     "name": "stdout",
     "output_type": "stream",
     "text": [
      "Step [10/26]\t loss_instance: 4.421473979949951\t loss_cluster: 1.732596516609192\n",
      "Step [20/26]\t loss_instance: 4.42076301574707\t loss_cluster: 1.7359139919281006\n",
      "\n",
      "Epoch [120/250]\t Loss: 6.166919836631188 \n",
      "\n",
      "Step [0/6]\t Computing features...\n",
      "Features shape (1536,)\n",
      "(1536,) (1536, 1)\n",
      "Test NMI = 0.5794 ARI = 0.3328 F = 0.4590 ACC = 0.4062\n",
      "================================================================\n",
      "\n",
      "Step [0/26]\t loss_instance: 4.410454750061035\t loss_cluster: 1.7364298105239868\n"
     ]
    },
    {
     "name": "stderr",
     "output_type": "stream",
     "text": [
      "D:\\Environment\\Conda\\envs\\torchenv\\lib\\site-packages\\torch\\nn\\modules\\container.py:141: UserWarning: Implicit dimension choice for softmax has been deprecated. Change the call to include dim=X as an argument.\n",
      "  input = module(input)\n"
     ]
    },
    {
     "name": "stdout",
     "output_type": "stream",
     "text": [
      "Step [10/26]\t loss_instance: 4.420548915863037\t loss_cluster: 1.7376869916915894\n",
      "Step [20/26]\t loss_instance: 4.408481597900391\t loss_cluster: 1.736694574356079\n",
      "\n",
      "Epoch [121/250]\t Loss: 6.164858084458571 \n",
      "\n",
      "Step [0/6]\t Computing features...\n",
      "Features shape (1536,)\n",
      "(1536,) (1536, 1)\n",
      "Test NMI = 0.5767 ARI = 0.3267 F = 0.4498 ACC = 0.4030\n",
      "================================================================\n",
      "\n"
     ]
    },
    {
     "name": "stderr",
     "output_type": "stream",
     "text": [
      "D:\\Environment\\Conda\\envs\\torchenv\\lib\\site-packages\\torch\\nn\\modules\\container.py:141: UserWarning: Implicit dimension choice for softmax has been deprecated. Change the call to include dim=X as an argument.\n",
      "  input = module(input)\n"
     ]
    },
    {
     "name": "stdout",
     "output_type": "stream",
     "text": [
      "Step [0/26]\t loss_instance: 4.409792423248291\t loss_cluster: 1.7742003202438354\n",
      "Step [10/26]\t loss_instance: 4.427764892578125\t loss_cluster: 1.7481721639633179\n",
      "Step [20/26]\t loss_instance: 4.411468505859375\t loss_cluster: 1.7604801654815674\n",
      "\n",
      "Epoch [122/250]\t Loss: 6.1595069995293255 \n",
      "\n",
      "Step [0/6]\t Computing features...\n",
      "Features shape (1536,)\n",
      "(1536,) (1536, 1)\n",
      "Test NMI = 0.5814 ARI = 0.3330 F = 0.4564 ACC = 0.4115\n",
      "================================================================\n",
      "\n"
     ]
    },
    {
     "name": "stderr",
     "output_type": "stream",
     "text": [
      "D:\\Environment\\Conda\\envs\\torchenv\\lib\\site-packages\\torch\\nn\\modules\\container.py:141: UserWarning: Implicit dimension choice for softmax has been deprecated. Change the call to include dim=X as an argument.\n",
      "  input = module(input)\n"
     ]
    },
    {
     "name": "stdout",
     "output_type": "stream",
     "text": [
      "Step [0/26]\t loss_instance: 4.414547443389893\t loss_cluster: 1.7553887367248535\n",
      "Step [10/26]\t loss_instance: 4.408763408660889\t loss_cluster: 1.734600305557251\n",
      "Step [20/26]\t loss_instance: 4.422494888305664\t loss_cluster: 1.7349236011505127\n",
      "\n",
      "Epoch [123/250]\t Loss: 6.1638605778033915 \n",
      "\n",
      "Step [0/6]\t Computing features...\n",
      "Features shape (1536,)\n",
      "(1536,) (1536, 1)\n",
      "Test NMI = 0.5755 ARI = 0.3306 F = 0.4551 ACC = 0.4036\n",
      "================================================================\n",
      "\n"
     ]
    },
    {
     "name": "stderr",
     "output_type": "stream",
     "text": [
      "D:\\Environment\\Conda\\envs\\torchenv\\lib\\site-packages\\torch\\nn\\modules\\container.py:141: UserWarning: Implicit dimension choice for softmax has been deprecated. Change the call to include dim=X as an argument.\n",
      "  input = module(input)\n"
     ]
    },
    {
     "name": "stdout",
     "output_type": "stream",
     "text": [
      "Step [0/26]\t loss_instance: 4.41504430770874\t loss_cluster: 1.7260531187057495\n",
      "Step [10/26]\t loss_instance: 4.400787830352783\t loss_cluster: 1.7401994466781616\n",
      "Step [20/26]\t loss_instance: 4.427508354187012\t loss_cluster: 1.7266790866851807\n",
      "\n",
      "Epoch [124/250]\t Loss: 6.154921806775606 \n",
      "\n",
      "Step [0/6]\t Computing features...\n",
      "Features shape (1536,)\n",
      "(1536,) (1536, 1)\n",
      "Test NMI = 0.5778 ARI = 0.3319 F = 0.4556 ACC = 0.4102\n",
      "================================================================\n",
      "\n"
     ]
    },
    {
     "name": "stderr",
     "output_type": "stream",
     "text": [
      "D:\\Environment\\Conda\\envs\\torchenv\\lib\\site-packages\\torch\\nn\\modules\\container.py:141: UserWarning: Implicit dimension choice for softmax has been deprecated. Change the call to include dim=X as an argument.\n",
      "  input = module(input)\n"
     ]
    },
    {
     "name": "stdout",
     "output_type": "stream",
     "text": [
      "Step [0/26]\t loss_instance: 4.416258335113525\t loss_cluster: 1.7111049890518188\n",
      "Step [10/26]\t loss_instance: 4.412456512451172\t loss_cluster: 1.7862762212753296\n",
      "Step [20/26]\t loss_instance: 4.404201984405518\t loss_cluster: 1.7525731325149536\n",
      "\n",
      "Epoch [125/250]\t Loss: 6.161042818656335 \n",
      "\n",
      "Step [0/6]\t Computing features...\n",
      "Features shape (1536,)\n",
      "(1536,) (1536, 1)\n",
      "Test NMI = 0.5803 ARI = 0.3310 F = 0.4544 ACC = 0.4082\n",
      "================================================================\n",
      "\n",
      "Step [0/26]\t loss_instance: 4.429944038391113\t loss_cluster: 1.7137409448623657\n"
     ]
    },
    {
     "name": "stderr",
     "output_type": "stream",
     "text": [
      "D:\\Environment\\Conda\\envs\\torchenv\\lib\\site-packages\\torch\\nn\\modules\\container.py:141: UserWarning: Implicit dimension choice for softmax has been deprecated. Change the call to include dim=X as an argument.\n",
      "  input = module(input)\n"
     ]
    },
    {
     "name": "stdout",
     "output_type": "stream",
     "text": [
      "Step [10/26]\t loss_instance: 4.412200927734375\t loss_cluster: 1.7317503690719604\n",
      "Step [20/26]\t loss_instance: 4.39871883392334\t loss_cluster: 1.7618674039840698\n",
      "\n",
      "Epoch [126/250]\t Loss: 6.149133425492507 \n",
      "\n",
      "Step [0/6]\t Computing features...\n",
      "Features shape (1536,)\n",
      "(1536,) (1536, 1)\n",
      "Test NMI = 0.5815 ARI = 0.3303 F = 0.4547 ACC = 0.4017\n",
      "================================================================\n",
      "\n"
     ]
    },
    {
     "name": "stderr",
     "output_type": "stream",
     "text": [
      "D:\\Environment\\Conda\\envs\\torchenv\\lib\\site-packages\\torch\\nn\\modules\\container.py:141: UserWarning: Implicit dimension choice for softmax has been deprecated. Change the call to include dim=X as an argument.\n",
      "  input = module(input)\n"
     ]
    },
    {
     "name": "stdout",
     "output_type": "stream",
     "text": [
      "Step [0/26]\t loss_instance: 4.402508735656738\t loss_cluster: 1.729924201965332\n",
      "Step [10/26]\t loss_instance: 4.425966262817383\t loss_cluster: 1.7393035888671875\n",
      "Step [20/26]\t loss_instance: 4.411308765411377\t loss_cluster: 1.7046689987182617\n",
      "\n",
      "Epoch [127/250]\t Loss: 6.140217047471267 \n",
      "\n",
      "Step [0/6]\t Computing features...\n",
      "Features shape (1536,)\n",
      "(1536,) (1536, 1)\n",
      "Test NMI = 0.5776 ARI = 0.3275 F = 0.4506 ACC = 0.4049\n",
      "================================================================\n",
      "\n"
     ]
    },
    {
     "name": "stderr",
     "output_type": "stream",
     "text": [
      "D:\\Environment\\Conda\\envs\\torchenv\\lib\\site-packages\\torch\\nn\\modules\\container.py:141: UserWarning: Implicit dimension choice for softmax has been deprecated. Change the call to include dim=X as an argument.\n",
      "  input = module(input)\n"
     ]
    },
    {
     "name": "stdout",
     "output_type": "stream",
     "text": [
      "Step [0/26]\t loss_instance: 4.4005656242370605\t loss_cluster: 1.7286890745162964\n",
      "Step [10/26]\t loss_instance: 4.420999526977539\t loss_cluster: 1.7593964338302612\n",
      "Step [20/26]\t loss_instance: 4.406722545623779\t loss_cluster: 1.726491093635559\n",
      "\n",
      "Epoch [128/250]\t Loss: 6.146249275941115 \n",
      "\n",
      "Step [0/6]\t Computing features...\n",
      "Features shape (1536,)\n",
      "(1536,) (1536, 1)\n",
      "Test NMI = 0.5791 ARI = 0.3297 F = 0.4541 ACC = 0.4004\n",
      "================================================================\n",
      "\n"
     ]
    },
    {
     "name": "stderr",
     "output_type": "stream",
     "text": [
      "D:\\Environment\\Conda\\envs\\torchenv\\lib\\site-packages\\torch\\nn\\modules\\container.py:141: UserWarning: Implicit dimension choice for softmax has been deprecated. Change the call to include dim=X as an argument.\n",
      "  input = module(input)\n"
     ]
    },
    {
     "name": "stdout",
     "output_type": "stream",
     "text": [
      "Step [0/26]\t loss_instance: 4.425091743469238\t loss_cluster: 1.7355098724365234\n",
      "Step [10/26]\t loss_instance: 4.413697242736816\t loss_cluster: 1.712649941444397\n",
      "Step [20/26]\t loss_instance: 4.414268493652344\t loss_cluster: 1.7117515802383423\n",
      "\n",
      "Epoch [129/250]\t Loss: 6.135372271904578 \n",
      "\n",
      "Step [0/6]\t Computing features...\n",
      "Features shape (1536,)\n",
      "(1536,) (1536, 1)\n",
      "Test NMI = 0.5795 ARI = 0.3308 F = 0.4547 ACC = 0.3978\n",
      "================================================================\n",
      "\n",
      "Step [0/26]\t loss_instance: 4.409201145172119\t loss_cluster: 1.7122784852981567\n"
     ]
    },
    {
     "name": "stderr",
     "output_type": "stream",
     "text": [
      "D:\\Environment\\Conda\\envs\\torchenv\\lib\\site-packages\\torch\\nn\\modules\\container.py:141: UserWarning: Implicit dimension choice for softmax has been deprecated. Change the call to include dim=X as an argument.\n",
      "  input = module(input)\n"
     ]
    },
    {
     "name": "stdout",
     "output_type": "stream",
     "text": [
      "Step [10/26]\t loss_instance: 4.415729999542236\t loss_cluster: 1.7293224334716797\n",
      "Step [20/26]\t loss_instance: 4.415999412536621\t loss_cluster: 1.6999300718307495\n",
      "\n",
      "Epoch [130/250]\t Loss: 6.143113741507897 \n",
      "\n",
      "Step [0/6]\t Computing features...\n",
      "Features shape (1536,)\n",
      "(1536,) (1536, 1)\n",
      "Test NMI = 0.5825 ARI = 0.3315 F = 0.4565 ACC = 0.4043\n",
      "================================================================\n",
      "\n"
     ]
    },
    {
     "name": "stderr",
     "output_type": "stream",
     "text": [
      "D:\\Environment\\Conda\\envs\\torchenv\\lib\\site-packages\\torch\\nn\\modules\\container.py:141: UserWarning: Implicit dimension choice for softmax has been deprecated. Change the call to include dim=X as an argument.\n",
      "  input = module(input)\n"
     ]
    },
    {
     "name": "stdout",
     "output_type": "stream",
     "text": [
      "Step [0/26]\t loss_instance: 4.417401313781738\t loss_cluster: 1.743652582168579\n",
      "Step [10/26]\t loss_instance: 4.415642738342285\t loss_cluster: 1.7228549718856812\n",
      "Step [20/26]\t loss_instance: 4.421677112579346\t loss_cluster: 1.7006248235702515\n",
      "\n",
      "Epoch [131/250]\t Loss: 6.126510711816641 \n",
      "\n",
      "Step [0/6]\t Computing features...\n",
      "Features shape (1536,)\n",
      "(1536,) (1536, 1)\n",
      "Test NMI = 0.5815 ARI = 0.3328 F = 0.4565 ACC = 0.4004\n",
      "================================================================\n",
      "\n",
      "Step [0/26]\t loss_instance: 4.40759801864624\t loss_cluster: 1.724435567855835\n"
     ]
    },
    {
     "name": "stderr",
     "output_type": "stream",
     "text": [
      "D:\\Environment\\Conda\\envs\\torchenv\\lib\\site-packages\\torch\\nn\\modules\\container.py:141: UserWarning: Implicit dimension choice for softmax has been deprecated. Change the call to include dim=X as an argument.\n",
      "  input = module(input)\n"
     ]
    },
    {
     "name": "stdout",
     "output_type": "stream",
     "text": [
      "Step [10/26]\t loss_instance: 4.4119720458984375\t loss_cluster: 1.7254620790481567\n",
      "Step [20/26]\t loss_instance: 4.420073509216309\t loss_cluster: 1.7260931730270386\n",
      "\n",
      "Epoch [132/250]\t Loss: 6.1296883546389065 \n",
      "\n",
      "Step [0/6]\t Computing features...\n",
      "Features shape (1536,)\n",
      "(1536,) (1536, 1)\n",
      "Test NMI = 0.5803 ARI = 0.3297 F = 0.4532 ACC = 0.4095\n",
      "================================================================\n",
      "\n",
      "Step [0/26]\t loss_instance: 4.415889739990234\t loss_cluster: 1.7049628496170044\n"
     ]
    },
    {
     "name": "stderr",
     "output_type": "stream",
     "text": [
      "D:\\Environment\\Conda\\envs\\torchenv\\lib\\site-packages\\torch\\nn\\modules\\container.py:141: UserWarning: Implicit dimension choice for softmax has been deprecated. Change the call to include dim=X as an argument.\n",
      "  input = module(input)\n"
     ]
    },
    {
     "name": "stdout",
     "output_type": "stream",
     "text": [
      "Step [10/26]\t loss_instance: 4.397764682769775\t loss_cluster: 1.7526826858520508\n",
      "Step [20/26]\t loss_instance: 4.40049409866333\t loss_cluster: 1.7175977230072021\n",
      "\n",
      "Epoch [133/250]\t Loss: 6.12574184857882 \n",
      "\n",
      "Step [0/6]\t Computing features...\n",
      "Features shape (1536,)\n",
      "(1536,) (1536, 1)\n",
      "Test NMI = 0.5826 ARI = 0.3335 F = 0.4574 ACC = 0.4049\n",
      "================================================================\n",
      "\n",
      "Step [0/26]\t loss_instance: 4.4008073806762695\t loss_cluster: 1.719269037246704\n"
     ]
    },
    {
     "name": "stderr",
     "output_type": "stream",
     "text": [
      "D:\\Environment\\Conda\\envs\\torchenv\\lib\\site-packages\\torch\\nn\\modules\\container.py:141: UserWarning: Implicit dimension choice for softmax has been deprecated. Change the call to include dim=X as an argument.\n",
      "  input = module(input)\n"
     ]
    },
    {
     "name": "stdout",
     "output_type": "stream",
     "text": [
      "Step [10/26]\t loss_instance: 4.409369468688965\t loss_cluster: 1.7172439098358154\n",
      "Step [20/26]\t loss_instance: 4.423059463500977\t loss_cluster: 1.6905184984207153\n",
      "\n",
      "Epoch [134/250]\t Loss: 6.12279251905588 \n",
      "\n",
      "Step [0/6]\t Computing features...\n",
      "Features shape (1536,)\n",
      "(1536,) (1536, 1)\n",
      "Test NMI = 0.5809 ARI = 0.3263 F = 0.4504 ACC = 0.3965\n",
      "================================================================\n",
      "\n"
     ]
    },
    {
     "name": "stderr",
     "output_type": "stream",
     "text": [
      "D:\\Environment\\Conda\\envs\\torchenv\\lib\\site-packages\\torch\\nn\\modules\\container.py:141: UserWarning: Implicit dimension choice for softmax has been deprecated. Change the call to include dim=X as an argument.\n",
      "  input = module(input)\n"
     ]
    },
    {
     "name": "stdout",
     "output_type": "stream",
     "text": [
      "Step [0/26]\t loss_instance: 4.406176567077637\t loss_cluster: 1.6955519914627075\n",
      "Step [10/26]\t loss_instance: 4.39146614074707\t loss_cluster: 1.804787039756775\n",
      "Step [20/26]\t loss_instance: 4.403883934020996\t loss_cluster: 1.7282663583755493\n",
      "\n",
      "Epoch [135/250]\t Loss: 6.116176421825703 \n",
      "\n",
      "Step [0/6]\t Computing features...\n",
      "Features shape (1536,)\n",
      "(1536,) (1536, 1)\n",
      "Test NMI = 0.5832 ARI = 0.3335 F = 0.4558 ACC = 0.4069\n",
      "================================================================\n",
      "\n",
      "Step [0/26]\t loss_instance: 4.400728225708008\t loss_cluster: 1.7084777355194092\n"
     ]
    },
    {
     "name": "stderr",
     "output_type": "stream",
     "text": [
      "D:\\Environment\\Conda\\envs\\torchenv\\lib\\site-packages\\torch\\nn\\modules\\container.py:141: UserWarning: Implicit dimension choice for softmax has been deprecated. Change the call to include dim=X as an argument.\n",
      "  input = module(input)\n"
     ]
    },
    {
     "name": "stdout",
     "output_type": "stream",
     "text": [
      "Step [10/26]\t loss_instance: 4.406554698944092\t loss_cluster: 1.742291808128357\n",
      "Step [20/26]\t loss_instance: 4.405873775482178\t loss_cluster: 1.7019480466842651\n",
      "\n",
      "Epoch [136/250]\t Loss: 6.115732559790978 \n",
      "\n",
      "Step [0/6]\t Computing features...\n",
      "Features shape (1536,)\n",
      "(1536,) (1536, 1)\n",
      "Test NMI = 0.5760 ARI = 0.3277 F = 0.4525 ACC = 0.3984\n",
      "================================================================\n",
      "\n",
      "Step [0/26]\t loss_instance: 4.404026985168457\t loss_cluster: 1.6895090341567993\n"
     ]
    },
    {
     "name": "stderr",
     "output_type": "stream",
     "text": [
      "D:\\Environment\\Conda\\envs\\torchenv\\lib\\site-packages\\torch\\nn\\modules\\container.py:141: UserWarning: Implicit dimension choice for softmax has been deprecated. Change the call to include dim=X as an argument.\n",
      "  input = module(input)\n"
     ]
    },
    {
     "name": "stdout",
     "output_type": "stream",
     "text": [
      "Step [10/26]\t loss_instance: 4.407201766967773\t loss_cluster: 1.7073352336883545\n",
      "Step [20/26]\t loss_instance: 4.410149097442627\t loss_cluster: 1.6947625875473022\n",
      "\n",
      "Epoch [137/250]\t Loss: 6.1164751419654255 \n",
      "\n",
      "Step [0/6]\t Computing features...\n",
      "Features shape (1536,)\n",
      "(1536,) (1536, 1)\n",
      "Test NMI = 0.5825 ARI = 0.3303 F = 0.4542 ACC = 0.4010\n",
      "================================================================\n",
      "\n"
     ]
    },
    {
     "name": "stderr",
     "output_type": "stream",
     "text": [
      "D:\\Environment\\Conda\\envs\\torchenv\\lib\\site-packages\\torch\\nn\\modules\\container.py:141: UserWarning: Implicit dimension choice for softmax has been deprecated. Change the call to include dim=X as an argument.\n",
      "  input = module(input)\n"
     ]
    },
    {
     "name": "stdout",
     "output_type": "stream",
     "text": [
      "Step [0/26]\t loss_instance: 4.399624824523926\t loss_cluster: 1.7170902490615845\n",
      "Step [10/26]\t loss_instance: 4.418057441711426\t loss_cluster: 1.710614562034607\n",
      "Step [20/26]\t loss_instance: 4.398746490478516\t loss_cluster: 1.7051584720611572\n",
      "\n",
      "Epoch [138/250]\t Loss: 6.110249445988582 \n",
      "\n",
      "Step [0/6]\t Computing features...\n",
      "Features shape (1536,)\n",
      "(1536,) (1536, 1)\n",
      "Test NMI = 0.5815 ARI = 0.3305 F = 0.4540 ACC = 0.3978\n",
      "================================================================\n",
      "\n"
     ]
    },
    {
     "name": "stderr",
     "output_type": "stream",
     "text": [
      "D:\\Environment\\Conda\\envs\\torchenv\\lib\\site-packages\\torch\\nn\\modules\\container.py:141: UserWarning: Implicit dimension choice for softmax has been deprecated. Change the call to include dim=X as an argument.\n",
      "  input = module(input)\n"
     ]
    },
    {
     "name": "stdout",
     "output_type": "stream",
     "text": [
      "Step [0/26]\t loss_instance: 4.42388916015625\t loss_cluster: 1.7136666774749756\n",
      "Step [10/26]\t loss_instance: 4.401819229125977\t loss_cluster: 1.7182873487472534\n",
      "Step [20/26]\t loss_instance: 4.404078006744385\t loss_cluster: 1.726042628288269\n",
      "\n",
      "Epoch [139/250]\t Loss: 6.104486061976506 \n",
      "\n",
      "Step [0/6]\t Computing features...\n",
      "Features shape (1536,)\n",
      "(1536,) (1536, 1)\n",
      "Test NMI = 0.5804 ARI = 0.3271 F = 0.4521 ACC = 0.4089\n",
      "================================================================\n",
      "\n"
     ]
    },
    {
     "name": "stderr",
     "output_type": "stream",
     "text": [
      "D:\\Environment\\Conda\\envs\\torchenv\\lib\\site-packages\\torch\\nn\\modules\\container.py:141: UserWarning: Implicit dimension choice for softmax has been deprecated. Change the call to include dim=X as an argument.\n",
      "  input = module(input)\n"
     ]
    },
    {
     "name": "stdout",
     "output_type": "stream",
     "text": [
      "Step [0/26]\t loss_instance: 4.392346382141113\t loss_cluster: 1.7338513135910034\n",
      "Step [10/26]\t loss_instance: 4.398040294647217\t loss_cluster: 1.72504460811615\n",
      "Step [20/26]\t loss_instance: 4.418199062347412\t loss_cluster: 1.7019134759902954\n",
      "\n",
      "Epoch [140/250]\t Loss: 6.109332873271062 \n",
      "\n",
      "Step [0/6]\t Computing features...\n",
      "Features shape (1536,)\n",
      "(1536,) (1536, 1)\n",
      "Test NMI = 0.5810 ARI = 0.3279 F = 0.4525 ACC = 0.3978\n",
      "================================================================\n",
      "\n"
     ]
    },
    {
     "name": "stderr",
     "output_type": "stream",
     "text": [
      "D:\\Environment\\Conda\\envs\\torchenv\\lib\\site-packages\\torch\\nn\\modules\\container.py:141: UserWarning: Implicit dimension choice for softmax has been deprecated. Change the call to include dim=X as an argument.\n",
      "  input = module(input)\n"
     ]
    },
    {
     "name": "stdout",
     "output_type": "stream",
     "text": [
      "Step [0/26]\t loss_instance: 4.405442237854004\t loss_cluster: 1.703840970993042\n",
      "Step [10/26]\t loss_instance: 4.408356189727783\t loss_cluster: 1.7052544355392456\n",
      "Step [20/26]\t loss_instance: 4.404896259307861\t loss_cluster: 1.7153246402740479\n",
      "\n",
      "Epoch [141/250]\t Loss: 6.101940833605253 \n",
      "\n",
      "Step [0/6]\t Computing features...\n",
      "Features shape (1536,)\n",
      "(1536,) (1536, 1)\n",
      "Test NMI = 0.5785 ARI = 0.3284 F = 0.4543 ACC = 0.3939\n",
      "================================================================\n",
      "\n",
      "Step [0/26]\t loss_instance: 4.400695323944092\t loss_cluster: 1.6727874279022217\n"
     ]
    },
    {
     "name": "stderr",
     "output_type": "stream",
     "text": [
      "D:\\Environment\\Conda\\envs\\torchenv\\lib\\site-packages\\torch\\nn\\modules\\container.py:141: UserWarning: Implicit dimension choice for softmax has been deprecated. Change the call to include dim=X as an argument.\n",
      "  input = module(input)\n"
     ]
    },
    {
     "name": "stdout",
     "output_type": "stream",
     "text": [
      "Step [10/26]\t loss_instance: 4.3851494789123535\t loss_cluster: 1.7331072092056274\n",
      "Step [20/26]\t loss_instance: 4.401208877563477\t loss_cluster: 1.7151459455490112\n",
      "\n",
      "Epoch [142/250]\t Loss: 6.098303831540621 \n",
      "\n",
      "Step [0/6]\t Computing features...\n",
      "Features shape (1536,)\n",
      "(1536,) (1536, 1)\n",
      "Test NMI = 0.5765 ARI = 0.3237 F = 0.4477 ACC = 0.3965\n",
      "================================================================\n",
      "\n",
      "Step [0/26]\t loss_instance: 4.398557186126709\t loss_cluster: 1.6970003843307495\n"
     ]
    },
    {
     "name": "stderr",
     "output_type": "stream",
     "text": [
      "D:\\Environment\\Conda\\envs\\torchenv\\lib\\site-packages\\torch\\nn\\modules\\container.py:141: UserWarning: Implicit dimension choice for softmax has been deprecated. Change the call to include dim=X as an argument.\n",
      "  input = module(input)\n"
     ]
    },
    {
     "name": "stdout",
     "output_type": "stream",
     "text": [
      "Step [10/26]\t loss_instance: 4.411407947540283\t loss_cluster: 1.6786624193191528\n",
      "Step [20/26]\t loss_instance: 4.393177032470703\t loss_cluster: 1.7083724737167358\n",
      "\n",
      "Epoch [143/250]\t Loss: 6.097217889932486 \n",
      "\n",
      "Step [0/6]\t Computing features...\n",
      "Features shape (1536,)\n",
      "(1536,) (1536, 1)\n",
      "Test NMI = 0.5826 ARI = 0.3299 F = 0.4559 ACC = 0.3906\n",
      "================================================================\n",
      "\n",
      "Step [0/26]\t loss_instance: 4.401932716369629\t loss_cluster: 1.698212742805481\n"
     ]
    },
    {
     "name": "stderr",
     "output_type": "stream",
     "text": [
      "D:\\Environment\\Conda\\envs\\torchenv\\lib\\site-packages\\torch\\nn\\modules\\container.py:141: UserWarning: Implicit dimension choice for softmax has been deprecated. Change the call to include dim=X as an argument.\n",
      "  input = module(input)\n"
     ]
    },
    {
     "name": "stdout",
     "output_type": "stream",
     "text": [
      "Step [10/26]\t loss_instance: 4.412540435791016\t loss_cluster: 1.6807912588119507\n",
      "Step [20/26]\t loss_instance: 4.420319080352783\t loss_cluster: 1.7288275957107544\n",
      "\n",
      "Epoch [144/250]\t Loss: 6.097665823422945 \n",
      "\n",
      "Step [0/6]\t Computing features...\n",
      "Features shape (1536,)\n",
      "(1536,) (1536, 1)\n",
      "Test NMI = 0.5825 ARI = 0.3287 F = 0.4508 ACC = 0.4030\n",
      "================================================================\n",
      "\n",
      "Step [0/26]\t loss_instance: 4.40752649307251\t loss_cluster: 1.670395851135254\n"
     ]
    },
    {
     "name": "stderr",
     "output_type": "stream",
     "text": [
      "D:\\Environment\\Conda\\envs\\torchenv\\lib\\site-packages\\torch\\nn\\modules\\container.py:141: UserWarning: Implicit dimension choice for softmax has been deprecated. Change the call to include dim=X as an argument.\n",
      "  input = module(input)\n"
     ]
    },
    {
     "name": "stdout",
     "output_type": "stream",
     "text": [
      "Step [10/26]\t loss_instance: 4.398504734039307\t loss_cluster: 1.6734604835510254\n",
      "Step [20/26]\t loss_instance: 4.40608549118042\t loss_cluster: 1.6862084865570068\n",
      "\n",
      "Epoch [145/250]\t Loss: 6.089715737562913 \n",
      "\n",
      "Step [0/6]\t Computing features...\n",
      "Features shape (1536,)\n",
      "(1536,) (1536, 1)\n",
      "Test NMI = 0.5804 ARI = 0.3302 F = 0.4528 ACC = 0.3984\n",
      "================================================================\n",
      "\n",
      "Step [0/26]\t loss_instance: 4.407659530639648\t loss_cluster: 1.6856679916381836\n"
     ]
    },
    {
     "name": "stderr",
     "output_type": "stream",
     "text": [
      "D:\\Environment\\Conda\\envs\\torchenv\\lib\\site-packages\\torch\\nn\\modules\\container.py:141: UserWarning: Implicit dimension choice for softmax has been deprecated. Change the call to include dim=X as an argument.\n",
      "  input = module(input)\n"
     ]
    },
    {
     "name": "stdout",
     "output_type": "stream",
     "text": [
      "Step [10/26]\t loss_instance: 4.399643421173096\t loss_cluster: 1.6920485496520996\n",
      "Step [20/26]\t loss_instance: 4.404360294342041\t loss_cluster: 1.6865543127059937\n",
      "\n",
      "Epoch [146/250]\t Loss: 6.091341807292058 \n",
      "\n",
      "Step [0/6]\t Computing features...\n",
      "Features shape (1536,)\n",
      "(1536,) (1536, 1)\n",
      "Test NMI = 0.5826 ARI = 0.3292 F = 0.4550 ACC = 0.3971\n",
      "================================================================\n",
      "\n",
      "Step [0/26]\t loss_instance: 4.4071784019470215\t loss_cluster: 1.6800520420074463\n"
     ]
    },
    {
     "name": "stderr",
     "output_type": "stream",
     "text": [
      "D:\\Environment\\Conda\\envs\\torchenv\\lib\\site-packages\\torch\\nn\\modules\\container.py:141: UserWarning: Implicit dimension choice for softmax has been deprecated. Change the call to include dim=X as an argument.\n",
      "  input = module(input)\n"
     ]
    },
    {
     "name": "stdout",
     "output_type": "stream",
     "text": [
      "Step [10/26]\t loss_instance: 4.411690711975098\t loss_cluster: 1.6775413751602173\n",
      "Step [20/26]\t loss_instance: 4.391383647918701\t loss_cluster: 1.6946489810943604\n",
      "\n",
      "Epoch [147/250]\t Loss: 6.0868859107677755 \n",
      "\n",
      "Step [0/6]\t Computing features...\n",
      "Features shape (1536,)\n",
      "(1536,) (1536, 1)\n",
      "Test NMI = 0.5819 ARI = 0.3308 F = 0.4559 ACC = 0.4036\n",
      "================================================================\n",
      "\n",
      "Step [0/26]\t loss_instance: 4.403775215148926\t loss_cluster: 1.6796486377716064\n"
     ]
    },
    {
     "name": "stderr",
     "output_type": "stream",
     "text": [
      "D:\\Environment\\Conda\\envs\\torchenv\\lib\\site-packages\\torch\\nn\\modules\\container.py:141: UserWarning: Implicit dimension choice for softmax has been deprecated. Change the call to include dim=X as an argument.\n",
      "  input = module(input)\n"
     ]
    },
    {
     "name": "stdout",
     "output_type": "stream",
     "text": [
      "Step [10/26]\t loss_instance: 4.40371036529541\t loss_cluster: 1.7231132984161377\n",
      "Step [20/26]\t loss_instance: 4.400434970855713\t loss_cluster: 1.649727463722229\n",
      "\n",
      "Epoch [148/250]\t Loss: 6.088536060773409 \n",
      "\n",
      "Step [0/6]\t Computing features...\n",
      "Features shape (1536,)\n",
      "(1536,) (1536, 1)\n",
      "Test NMI = 0.5791 ARI = 0.3253 F = 0.4496 ACC = 0.3926\n",
      "================================================================\n",
      "\n",
      "Step [0/26]\t loss_instance: 4.3993330001831055\t loss_cluster: 1.6637505292892456\n"
     ]
    },
    {
     "name": "stderr",
     "output_type": "stream",
     "text": [
      "D:\\Environment\\Conda\\envs\\torchenv\\lib\\site-packages\\torch\\nn\\modules\\container.py:141: UserWarning: Implicit dimension choice for softmax has been deprecated. Change the call to include dim=X as an argument.\n",
      "  input = module(input)\n"
     ]
    },
    {
     "name": "stdout",
     "output_type": "stream",
     "text": [
      "Step [10/26]\t loss_instance: 4.404898166656494\t loss_cluster: 1.68112313747406\n",
      "Step [20/26]\t loss_instance: 4.417788982391357\t loss_cluster: 1.6662280559539795\n",
      "\n",
      "Epoch [149/250]\t Loss: 6.084717750549316 \n",
      "\n",
      "Step [0/6]\t Computing features...\n",
      "Features shape (1536,)\n",
      "(1536,) (1536, 1)\n",
      "Test NMI = 0.5786 ARI = 0.3248 F = 0.4490 ACC = 0.3945\n",
      "================================================================\n",
      "\n"
     ]
    },
    {
     "name": "stderr",
     "output_type": "stream",
     "text": [
      "D:\\Environment\\Conda\\envs\\torchenv\\lib\\site-packages\\torch\\nn\\modules\\container.py:141: UserWarning: Implicit dimension choice for softmax has been deprecated. Change the call to include dim=X as an argument.\n",
      "  input = module(input)\n"
     ]
    },
    {
     "name": "stdout",
     "output_type": "stream",
     "text": [
      "Step [0/26]\t loss_instance: 4.402538776397705\t loss_cluster: 1.6698375940322876\n",
      "Step [10/26]\t loss_instance: 4.398800849914551\t loss_cluster: 1.6785805225372314\n",
      "Step [20/26]\t loss_instance: 4.396313667297363\t loss_cluster: 1.67633855342865\n",
      "\n",
      "Epoch [150/250]\t Loss: 6.07716257755573 \n",
      "\n",
      "Step [0/6]\t Computing features...\n",
      "Features shape (1536,)\n",
      "(1536,) (1536, 1)\n",
      "Test NMI = 0.5770 ARI = 0.3269 F = 0.4506 ACC = 0.3991\n",
      "================================================================\n",
      "\n"
     ]
    },
    {
     "name": "stderr",
     "output_type": "stream",
     "text": [
      "D:\\Environment\\Conda\\envs\\torchenv\\lib\\site-packages\\torch\\nn\\modules\\container.py:141: UserWarning: Implicit dimension choice for softmax has been deprecated. Change the call to include dim=X as an argument.\n",
      "  input = module(input)\n"
     ]
    },
    {
     "name": "stdout",
     "output_type": "stream",
     "text": [
      "Step [0/26]\t loss_instance: 4.395195960998535\t loss_cluster: 1.6842495203018188\n",
      "Step [10/26]\t loss_instance: 4.404719352722168\t loss_cluster: 1.6412036418914795\n",
      "Step [20/26]\t loss_instance: 4.403262138366699\t loss_cluster: 1.6787019968032837\n",
      "\n",
      "Epoch [151/250]\t Loss: 6.075166665590727 \n",
      "\n",
      "Step [0/6]\t Computing features...\n",
      "Features shape (1536,)\n",
      "(1536,) (1536, 1)\n",
      "Test NMI = 0.5863 ARI = 0.3308 F = 0.4563 ACC = 0.3978\n",
      "================================================================\n",
      "\n",
      "Step [0/26]\t loss_instance: 4.403183937072754\t loss_cluster: 1.6539617776870728\n"
     ]
    },
    {
     "name": "stderr",
     "output_type": "stream",
     "text": [
      "D:\\Environment\\Conda\\envs\\torchenv\\lib\\site-packages\\torch\\nn\\modules\\container.py:141: UserWarning: Implicit dimension choice for softmax has been deprecated. Change the call to include dim=X as an argument.\n",
      "  input = module(input)\n"
     ]
    },
    {
     "name": "stdout",
     "output_type": "stream",
     "text": [
      "Step [10/26]\t loss_instance: 4.384772777557373\t loss_cluster: 1.735992670059204\n",
      "Step [20/26]\t loss_instance: 4.405539035797119\t loss_cluster: 1.6602224111557007\n",
      "\n",
      "Epoch [152/250]\t Loss: 6.069255076921904 \n",
      "\n",
      "Step [0/6]\t Computing features...\n",
      "Features shape (1536,)\n",
      "(1536,) (1536, 1)\n",
      "Test NMI = 0.5808 ARI = 0.3294 F = 0.4520 ACC = 0.4010\n",
      "================================================================\n",
      "\n"
     ]
    },
    {
     "name": "stderr",
     "output_type": "stream",
     "text": [
      "D:\\Environment\\Conda\\envs\\torchenv\\lib\\site-packages\\torch\\nn\\modules\\container.py:141: UserWarning: Implicit dimension choice for softmax has been deprecated. Change the call to include dim=X as an argument.\n",
      "  input = module(input)\n"
     ]
    },
    {
     "name": "stdout",
     "output_type": "stream",
     "text": [
      "Step [0/26]\t loss_instance: 4.401847839355469\t loss_cluster: 1.715205430984497\n",
      "Step [10/26]\t loss_instance: 4.398744106292725\t loss_cluster: 1.656258225440979\n",
      "Step [20/26]\t loss_instance: 4.396524429321289\t loss_cluster: 1.6667848825454712\n",
      "\n",
      "Epoch [153/250]\t Loss: 6.072709688773522 \n",
      "\n",
      "Step [0/6]\t Computing features...\n",
      "Features shape (1536,)\n",
      "(1536,) (1536, 1)\n",
      "Test NMI = 0.5772 ARI = 0.3258 F = 0.4508 ACC = 0.3919\n",
      "================================================================\n",
      "\n"
     ]
    },
    {
     "name": "stderr",
     "output_type": "stream",
     "text": [
      "D:\\Environment\\Conda\\envs\\torchenv\\lib\\site-packages\\torch\\nn\\modules\\container.py:141: UserWarning: Implicit dimension choice for softmax has been deprecated. Change the call to include dim=X as an argument.\n",
      "  input = module(input)\n"
     ]
    },
    {
     "name": "stdout",
     "output_type": "stream",
     "text": [
      "Step [0/26]\t loss_instance: 4.392553329467773\t loss_cluster: 1.662519097328186\n",
      "Step [10/26]\t loss_instance: 4.3901166915893555\t loss_cluster: 1.7037324905395508\n",
      "Step [20/26]\t loss_instance: 4.398200511932373\t loss_cluster: 1.6802226305007935\n",
      "\n",
      "Epoch [154/250]\t Loss: 6.07201334146353 \n",
      "\n",
      "Step [0/6]\t Computing features...\n",
      "Features shape (1536,)\n",
      "(1536,) (1536, 1)\n",
      "Test NMI = 0.5826 ARI = 0.3259 F = 0.4508 ACC = 0.3893\n",
      "================================================================\n",
      "\n"
     ]
    },
    {
     "name": "stderr",
     "output_type": "stream",
     "text": [
      "D:\\Environment\\Conda\\envs\\torchenv\\lib\\site-packages\\torch\\nn\\modules\\container.py:141: UserWarning: Implicit dimension choice for softmax has been deprecated. Change the call to include dim=X as an argument.\n",
      "  input = module(input)\n"
     ]
    },
    {
     "name": "stdout",
     "output_type": "stream",
     "text": [
      "Step [0/26]\t loss_instance: 4.396398067474365\t loss_cluster: 1.676703691482544\n",
      "Step [10/26]\t loss_instance: 4.391342639923096\t loss_cluster: 1.6732256412506104\n",
      "Step [20/26]\t loss_instance: 4.396543979644775\t loss_cluster: 1.6826858520507812\n",
      "\n",
      "Epoch [155/250]\t Loss: 6.062871877963726 \n",
      "\n",
      "Step [0/6]\t Computing features...\n",
      "Features shape (1536,)\n",
      "(1536,) (1536, 1)\n",
      "Test NMI = 0.5751 ARI = 0.3254 F = 0.4498 ACC = 0.3945\n",
      "================================================================\n",
      "\n"
     ]
    },
    {
     "name": "stderr",
     "output_type": "stream",
     "text": [
      "D:\\Environment\\Conda\\envs\\torchenv\\lib\\site-packages\\torch\\nn\\modules\\container.py:141: UserWarning: Implicit dimension choice for softmax has been deprecated. Change the call to include dim=X as an argument.\n",
      "  input = module(input)\n"
     ]
    },
    {
     "name": "stdout",
     "output_type": "stream",
     "text": [
      "Step [0/26]\t loss_instance: 4.385397911071777\t loss_cluster: 1.711002230644226\n",
      "Step [10/26]\t loss_instance: 4.38723087310791\t loss_cluster: 1.6706430912017822\n",
      "Step [20/26]\t loss_instance: 4.392061233520508\t loss_cluster: 1.650442361831665\n",
      "\n",
      "Epoch [156/250]\t Loss: 6.064130489642803 \n",
      "\n",
      "Step [0/6]\t Computing features...\n",
      "Features shape (1536,)\n",
      "(1536,) (1536, 1)\n",
      "Test NMI = 0.5749 ARI = 0.3249 F = 0.4508 ACC = 0.3945\n",
      "================================================================\n",
      "\n",
      "Step [0/26]\t loss_instance: 4.400569915771484\t loss_cluster: 1.6567049026489258\n"
     ]
    },
    {
     "name": "stderr",
     "output_type": "stream",
     "text": [
      "D:\\Environment\\Conda\\envs\\torchenv\\lib\\site-packages\\torch\\nn\\modules\\container.py:141: UserWarning: Implicit dimension choice for softmax has been deprecated. Change the call to include dim=X as an argument.\n",
      "  input = module(input)\n"
     ]
    },
    {
     "name": "stdout",
     "output_type": "stream",
     "text": [
      "Step [10/26]\t loss_instance: 4.396347999572754\t loss_cluster: 1.6488423347473145\n",
      "Step [20/26]\t loss_instance: 4.408052921295166\t loss_cluster: 1.646847128868103\n",
      "\n",
      "Epoch [157/250]\t Loss: 6.069747521327092 \n",
      "\n",
      "Step [0/6]\t Computing features...\n",
      "Features shape (1536,)\n",
      "(1536,) (1536, 1)\n",
      "Test NMI = 0.5729 ARI = 0.3183 F = 0.4419 ACC = 0.3828\n",
      "================================================================\n",
      "\n"
     ]
    },
    {
     "name": "stderr",
     "output_type": "stream",
     "text": [
      "D:\\Environment\\Conda\\envs\\torchenv\\lib\\site-packages\\torch\\nn\\modules\\container.py:141: UserWarning: Implicit dimension choice for softmax has been deprecated. Change the call to include dim=X as an argument.\n",
      "  input = module(input)\n"
     ]
    },
    {
     "name": "stdout",
     "output_type": "stream",
     "text": [
      "Step [0/26]\t loss_instance: 4.4004130363464355\t loss_cluster: 1.6433600187301636\n",
      "Step [10/26]\t loss_instance: 4.407634735107422\t loss_cluster: 1.6748570203781128\n",
      "Step [20/26]\t loss_instance: 4.398031234741211\t loss_cluster: 1.6389234066009521\n",
      "\n",
      "Epoch [158/250]\t Loss: 6.062527564855722 \n",
      "\n",
      "Step [0/6]\t Computing features...\n",
      "Features shape (1536,)\n",
      "(1536,) (1536, 1)\n",
      "Test NMI = 0.5800 ARI = 0.3286 F = 0.4541 ACC = 0.3971\n",
      "================================================================\n",
      "\n"
     ]
    },
    {
     "name": "stderr",
     "output_type": "stream",
     "text": [
      "D:\\Environment\\Conda\\envs\\torchenv\\lib\\site-packages\\torch\\nn\\modules\\container.py:141: UserWarning: Implicit dimension choice for softmax has been deprecated. Change the call to include dim=X as an argument.\n",
      "  input = module(input)\n"
     ]
    },
    {
     "name": "stdout",
     "output_type": "stream",
     "text": [
      "Step [0/26]\t loss_instance: 4.396538257598877\t loss_cluster: 1.6558588743209839\n",
      "Step [10/26]\t loss_instance: 4.39852237701416\t loss_cluster: 1.6386491060256958\n",
      "Step [20/26]\t loss_instance: 4.398426055908203\t loss_cluster: 1.6632094383239746\n",
      "\n",
      "Epoch [159/250]\t Loss: 6.0653016200432415 \n",
      "\n",
      "Step [0/6]\t Computing features...\n",
      "Features shape (1536,)\n",
      "(1536,) (1536, 1)\n",
      "Test NMI = 0.5768 ARI = 0.3255 F = 0.4504 ACC = 0.3965\n",
      "================================================================\n",
      "\n"
     ]
    },
    {
     "name": "stderr",
     "output_type": "stream",
     "text": [
      "D:\\Environment\\Conda\\envs\\torchenv\\lib\\site-packages\\torch\\nn\\modules\\container.py:141: UserWarning: Implicit dimension choice for softmax has been deprecated. Change the call to include dim=X as an argument.\n",
      "  input = module(input)\n"
     ]
    },
    {
     "name": "stdout",
     "output_type": "stream",
     "text": [
      "Step [0/26]\t loss_instance: 4.395946502685547\t loss_cluster: 1.6511479616165161\n",
      "Step [10/26]\t loss_instance: 4.401411533355713\t loss_cluster: 1.6534885168075562\n",
      "Step [20/26]\t loss_instance: 4.386953353881836\t loss_cluster: 1.6628373861312866\n",
      "\n",
      "Epoch [160/250]\t Loss: 6.064715513816247 \n",
      "\n",
      "Step [0/6]\t Computing features...\n",
      "Features shape (1536,)\n",
      "(1536,) (1536, 1)\n",
      "Test NMI = 0.5771 ARI = 0.3236 F = 0.4483 ACC = 0.3958\n",
      "================================================================\n",
      "\n"
     ]
    },
    {
     "name": "stderr",
     "output_type": "stream",
     "text": [
      "D:\\Environment\\Conda\\envs\\torchenv\\lib\\site-packages\\torch\\nn\\modules\\container.py:141: UserWarning: Implicit dimension choice for softmax has been deprecated. Change the call to include dim=X as an argument.\n",
      "  input = module(input)\n"
     ]
    },
    {
     "name": "stdout",
     "output_type": "stream",
     "text": [
      "Step [0/26]\t loss_instance: 4.399643421173096\t loss_cluster: 1.6430002450942993\n",
      "Step [10/26]\t loss_instance: 4.398148059844971\t loss_cluster: 1.6667102575302124\n",
      "Step [20/26]\t loss_instance: 4.4064788818359375\t loss_cluster: 1.6341969966888428\n",
      "\n",
      "Epoch [161/250]\t Loss: 6.057207639400776 \n",
      "\n",
      "Step [0/6]\t Computing features...\n",
      "Features shape (1536,)\n",
      "(1536,) (1536, 1)\n",
      "Test NMI = 0.5726 ARI = 0.3222 F = 0.4468 ACC = 0.3913\n",
      "================================================================\n",
      "\n"
     ]
    },
    {
     "name": "stderr",
     "output_type": "stream",
     "text": [
      "D:\\Environment\\Conda\\envs\\torchenv\\lib\\site-packages\\torch\\nn\\modules\\container.py:141: UserWarning: Implicit dimension choice for softmax has been deprecated. Change the call to include dim=X as an argument.\n",
      "  input = module(input)\n"
     ]
    },
    {
     "name": "stdout",
     "output_type": "stream",
     "text": [
      "Step [0/26]\t loss_instance: 4.385708332061768\t loss_cluster: 1.655761957168579\n",
      "Step [10/26]\t loss_instance: 4.390567302703857\t loss_cluster: 1.7246637344360352\n",
      "Step [20/26]\t loss_instance: 4.404958248138428\t loss_cluster: 1.6667732000350952\n",
      "\n",
      "Epoch [162/250]\t Loss: 6.057231554618249 \n",
      "\n",
      "Step [0/6]\t Computing features...\n",
      "Features shape (1536,)\n",
      "(1536,) (1536, 1)\n",
      "Test NMI = 0.5695 ARI = 0.3175 F = 0.4416 ACC = 0.3861\n",
      "================================================================\n",
      "\n",
      "Step [0/26]\t loss_instance: 4.37708854675293\t loss_cluster: 1.6812829971313477\n"
     ]
    },
    {
     "name": "stderr",
     "output_type": "stream",
     "text": [
      "D:\\Environment\\Conda\\envs\\torchenv\\lib\\site-packages\\torch\\nn\\modules\\container.py:141: UserWarning: Implicit dimension choice for softmax has been deprecated. Change the call to include dim=X as an argument.\n",
      "  input = module(input)\n"
     ]
    },
    {
     "name": "stdout",
     "output_type": "stream",
     "text": [
      "Step [10/26]\t loss_instance: 4.385548114776611\t loss_cluster: 1.6634219884872437\n",
      "Step [20/26]\t loss_instance: 4.396384239196777\t loss_cluster: 1.6460436582565308\n",
      "\n",
      "Epoch [163/250]\t Loss: 6.052095926724947 \n",
      "\n",
      "Step [0/6]\t Computing features...\n",
      "Features shape (1536,)\n",
      "(1536,) (1536, 1)\n",
      "Test NMI = 0.5717 ARI = 0.3195 F = 0.4447 ACC = 0.3828\n",
      "================================================================\n",
      "\n",
      "Step [0/26]\t loss_instance: 4.4022064208984375\t loss_cluster: 1.6393202543258667\n"
     ]
    },
    {
     "name": "stderr",
     "output_type": "stream",
     "text": [
      "D:\\Environment\\Conda\\envs\\torchenv\\lib\\site-packages\\torch\\nn\\modules\\container.py:141: UserWarning: Implicit dimension choice for softmax has been deprecated. Change the call to include dim=X as an argument.\n",
      "  input = module(input)\n"
     ]
    },
    {
     "name": "stdout",
     "output_type": "stream",
     "text": [
      "Step [10/26]\t loss_instance: 4.393101215362549\t loss_cluster: 1.6489617824554443\n",
      "Step [20/26]\t loss_instance: 4.389921188354492\t loss_cluster: 1.6387583017349243\n",
      "\n",
      "Epoch [164/250]\t Loss: 6.049323338728684 \n",
      "\n",
      "Step [0/6]\t Computing features...\n",
      "Features shape (1536,)\n",
      "(1536,) (1536, 1)\n",
      "Test NMI = 0.5765 ARI = 0.3228 F = 0.4466 ACC = 0.3952\n",
      "================================================================\n",
      "\n"
     ]
    },
    {
     "name": "stderr",
     "output_type": "stream",
     "text": [
      "D:\\Environment\\Conda\\envs\\torchenv\\lib\\site-packages\\torch\\nn\\modules\\container.py:141: UserWarning: Implicit dimension choice for softmax has been deprecated. Change the call to include dim=X as an argument.\n",
      "  input = module(input)\n"
     ]
    },
    {
     "name": "stdout",
     "output_type": "stream",
     "text": [
      "Step [0/26]\t loss_instance: 4.384122371673584\t loss_cluster: 1.6574312448501587\n",
      "Step [10/26]\t loss_instance: 4.401303291320801\t loss_cluster: 1.6397472620010376\n",
      "Step [20/26]\t loss_instance: 4.413070201873779\t loss_cluster: 1.6482393741607666\n",
      "\n",
      "Epoch [165/250]\t Loss: 6.056627310239351 \n",
      "\n",
      "Step [0/6]\t Computing features...\n",
      "Features shape (1536,)\n",
      "(1536,) (1536, 1)\n",
      "Test NMI = 0.5713 ARI = 0.3169 F = 0.4416 ACC = 0.3932\n",
      "================================================================\n",
      "\n",
      "Step [0/26]\t loss_instance: 4.38618803024292\t loss_cluster: 1.6649965047836304\n"
     ]
    },
    {
     "name": "stderr",
     "output_type": "stream",
     "text": [
      "D:\\Environment\\Conda\\envs\\torchenv\\lib\\site-packages\\torch\\nn\\modules\\container.py:141: UserWarning: Implicit dimension choice for softmax has been deprecated. Change the call to include dim=X as an argument.\n",
      "  input = module(input)\n"
     ]
    },
    {
     "name": "stdout",
     "output_type": "stream",
     "text": [
      "Step [10/26]\t loss_instance: 4.403411865234375\t loss_cluster: 1.644008755683899\n",
      "Step [20/26]\t loss_instance: 4.396913051605225\t loss_cluster: 1.6286298036575317\n",
      "\n",
      "Epoch [166/250]\t Loss: 6.04617269222553 \n",
      "\n",
      "Step [0/6]\t Computing features...\n",
      "Features shape (1536,)\n",
      "(1536,) (1536, 1)\n",
      "Test NMI = 0.5686 ARI = 0.3113 F = 0.4363 ACC = 0.3835\n",
      "================================================================\n",
      "\n"
     ]
    },
    {
     "name": "stderr",
     "output_type": "stream",
     "text": [
      "D:\\Environment\\Conda\\envs\\torchenv\\lib\\site-packages\\torch\\nn\\modules\\container.py:141: UserWarning: Implicit dimension choice for softmax has been deprecated. Change the call to include dim=X as an argument.\n",
      "  input = module(input)\n"
     ]
    },
    {
     "name": "stdout",
     "output_type": "stream",
     "text": [
      "Step [0/26]\t loss_instance: 4.399152755737305\t loss_cluster: 1.6388088464736938\n",
      "Step [10/26]\t loss_instance: 4.3902106285095215\t loss_cluster: 1.6659938097000122\n",
      "Step [20/26]\t loss_instance: 4.396780014038086\t loss_cluster: 1.624760389328003\n",
      "\n",
      "Epoch [167/250]\t Loss: 6.041623115539551 \n",
      "\n",
      "Step [0/6]\t Computing features...\n",
      "Features shape (1536,)\n",
      "(1536,) (1536, 1)\n",
      "Test NMI = 0.5798 ARI = 0.3271 F = 0.4510 ACC = 0.3978\n",
      "================================================================\n",
      "\n"
     ]
    },
    {
     "name": "stderr",
     "output_type": "stream",
     "text": [
      "D:\\Environment\\Conda\\envs\\torchenv\\lib\\site-packages\\torch\\nn\\modules\\container.py:141: UserWarning: Implicit dimension choice for softmax has been deprecated. Change the call to include dim=X as an argument.\n",
      "  input = module(input)\n"
     ]
    },
    {
     "name": "stdout",
     "output_type": "stream",
     "text": [
      "Step [0/26]\t loss_instance: 4.3965864181518555\t loss_cluster: 1.6251909732818604\n",
      "Step [10/26]\t loss_instance: 4.399532794952393\t loss_cluster: 1.6458966732025146\n",
      "Step [20/26]\t loss_instance: 4.385724067687988\t loss_cluster: 1.6441898345947266\n",
      "\n",
      "Epoch [168/250]\t Loss: 6.037885079017053 \n",
      "\n",
      "Step [0/6]\t Computing features...\n",
      "Features shape (1536,)\n",
      "(1536,) (1536, 1)\n",
      "Test NMI = 0.5739 ARI = 0.3214 F = 0.4448 ACC = 0.3952\n",
      "================================================================\n",
      "\n",
      "Step [0/26]\t loss_instance: 4.395308971405029\t loss_cluster: 1.643463134765625\n"
     ]
    },
    {
     "name": "stderr",
     "output_type": "stream",
     "text": [
      "D:\\Environment\\Conda\\envs\\torchenv\\lib\\site-packages\\torch\\nn\\modules\\container.py:141: UserWarning: Implicit dimension choice for softmax has been deprecated. Change the call to include dim=X as an argument.\n",
      "  input = module(input)\n"
     ]
    },
    {
     "name": "stdout",
     "output_type": "stream",
     "text": [
      "Step [10/26]\t loss_instance: 4.397580623626709\t loss_cluster: 1.6448872089385986\n",
      "Step [20/26]\t loss_instance: 4.391115665435791\t loss_cluster: 1.629042625427246\n",
      "\n",
      "Epoch [169/250]\t Loss: 6.043360123267541 \n",
      "\n",
      "Step [0/6]\t Computing features...\n",
      "Features shape (1536,)\n",
      "(1536,) (1536, 1)\n",
      "Test NMI = 0.5701 ARI = 0.3160 F = 0.4410 ACC = 0.3874\n",
      "================================================================\n",
      "\n"
     ]
    },
    {
     "name": "stderr",
     "output_type": "stream",
     "text": [
      "D:\\Environment\\Conda\\envs\\torchenv\\lib\\site-packages\\torch\\nn\\modules\\container.py:141: UserWarning: Implicit dimension choice for softmax has been deprecated. Change the call to include dim=X as an argument.\n",
      "  input = module(input)\n"
     ]
    },
    {
     "name": "stdout",
     "output_type": "stream",
     "text": [
      "Step [0/26]\t loss_instance: 4.398567199707031\t loss_cluster: 1.632079839706421\n",
      "Step [10/26]\t loss_instance: 4.3905534744262695\t loss_cluster: 1.6769686937332153\n",
      "Step [20/26]\t loss_instance: 4.396815776824951\t loss_cluster: 1.651427984237671\n",
      "\n",
      "Epoch [170/250]\t Loss: 6.0456633017613335 \n",
      "\n",
      "Step [0/6]\t Computing features...\n",
      "Features shape (1536,)\n",
      "(1536,) (1536, 1)\n",
      "Test NMI = 0.5695 ARI = 0.3161 F = 0.4402 ACC = 0.3867\n",
      "================================================================\n",
      "\n",
      "Step [0/26]\t loss_instance: 4.405556678771973\t loss_cluster: 1.6459733247756958\n"
     ]
    },
    {
     "name": "stderr",
     "output_type": "stream",
     "text": [
      "D:\\Environment\\Conda\\envs\\torchenv\\lib\\site-packages\\torch\\nn\\modules\\container.py:141: UserWarning: Implicit dimension choice for softmax has been deprecated. Change the call to include dim=X as an argument.\n",
      "  input = module(input)\n"
     ]
    },
    {
     "name": "stdout",
     "output_type": "stream",
     "text": [
      "Step [10/26]\t loss_instance: 4.401148319244385\t loss_cluster: 1.6387101411819458\n",
      "Step [20/26]\t loss_instance: 4.400393009185791\t loss_cluster: 1.641871690750122\n",
      "\n",
      "Epoch [171/250]\t Loss: 6.040229595624483 \n",
      "\n",
      "Step [0/6]\t Computing features...\n",
      "Features shape (1536,)\n",
      "(1536,) (1536, 1)\n",
      "Test NMI = 0.5743 ARI = 0.3206 F = 0.4450 ACC = 0.3939\n",
      "================================================================\n",
      "\n",
      "Step [0/26]\t loss_instance: 4.397528171539307\t loss_cluster: 1.6532546281814575\n"
     ]
    },
    {
     "name": "stderr",
     "output_type": "stream",
     "text": [
      "D:\\Environment\\Conda\\envs\\torchenv\\lib\\site-packages\\torch\\nn\\modules\\container.py:141: UserWarning: Implicit dimension choice for softmax has been deprecated. Change the call to include dim=X as an argument.\n",
      "  input = module(input)\n"
     ]
    },
    {
     "name": "stdout",
     "output_type": "stream",
     "text": [
      "Step [10/26]\t loss_instance: 4.404617786407471\t loss_cluster: 1.6804184913635254\n",
      "Step [20/26]\t loss_instance: 4.392293930053711\t loss_cluster: 1.662116289138794\n",
      "\n",
      "Epoch [172/250]\t Loss: 6.043105382185716 \n",
      "\n",
      "Step [0/6]\t Computing features...\n",
      "Features shape (1536,)\n",
      "(1536,) (1536, 1)\n",
      "Test NMI = 0.5736 ARI = 0.3175 F = 0.4422 ACC = 0.3893\n",
      "================================================================\n",
      "\n",
      "Step [0/26]\t loss_instance: 4.393269062042236\t loss_cluster: 1.6422854661941528\n"
     ]
    },
    {
     "name": "stderr",
     "output_type": "stream",
     "text": [
      "D:\\Environment\\Conda\\envs\\torchenv\\lib\\site-packages\\torch\\nn\\modules\\container.py:141: UserWarning: Implicit dimension choice for softmax has been deprecated. Change the call to include dim=X as an argument.\n",
      "  input = module(input)\n"
     ]
    },
    {
     "name": "stdout",
     "output_type": "stream",
     "text": [
      "Step [10/26]\t loss_instance: 4.391017436981201\t loss_cluster: 1.629196286201477\n",
      "Step [20/26]\t loss_instance: 4.386801719665527\t loss_cluster: 1.6567914485931396\n",
      "\n",
      "Epoch [173/250]\t Loss: 6.0440784601064825 \n",
      "\n",
      "Step [0/6]\t Computing features...\n",
      "Features shape (1536,)\n",
      "(1536,) (1536, 1)\n",
      "Test NMI = 0.5741 ARI = 0.3219 F = 0.4458 ACC = 0.3952\n",
      "================================================================\n",
      "\n",
      "Step [0/26]\t loss_instance: 4.382229804992676\t loss_cluster: 1.6371902227401733\n"
     ]
    },
    {
     "name": "stderr",
     "output_type": "stream",
     "text": [
      "D:\\Environment\\Conda\\envs\\torchenv\\lib\\site-packages\\torch\\nn\\modules\\container.py:141: UserWarning: Implicit dimension choice for softmax has been deprecated. Change the call to include dim=X as an argument.\n",
      "  input = module(input)\n"
     ]
    },
    {
     "name": "stdout",
     "output_type": "stream",
     "text": [
      "Step [10/26]\t loss_instance: 4.384988307952881\t loss_cluster: 1.6285747289657593\n",
      "Step [20/26]\t loss_instance: 4.388494491577148\t loss_cluster: 1.632320761680603\n",
      "\n",
      "Epoch [174/250]\t Loss: 6.026832598906297 \n",
      "\n",
      "Step [0/6]\t Computing features...\n",
      "Features shape (1536,)\n",
      "(1536,) (1536, 1)\n",
      "Test NMI = 0.5755 ARI = 0.3217 F = 0.4466 ACC = 0.3919\n",
      "================================================================\n",
      "\n"
     ]
    },
    {
     "name": "stderr",
     "output_type": "stream",
     "text": [
      "D:\\Environment\\Conda\\envs\\torchenv\\lib\\site-packages\\torch\\nn\\modules\\container.py:141: UserWarning: Implicit dimension choice for softmax has been deprecated. Change the call to include dim=X as an argument.\n",
      "  input = module(input)\n"
     ]
    },
    {
     "name": "stdout",
     "output_type": "stream",
     "text": [
      "Step [0/26]\t loss_instance: 4.410262107849121\t loss_cluster: 1.6423280239105225\n",
      "Step [10/26]\t loss_instance: 4.389631271362305\t loss_cluster: 1.6509170532226562\n",
      "Step [20/26]\t loss_instance: 4.39322566986084\t loss_cluster: 1.640593409538269\n",
      "\n",
      "Epoch [175/250]\t Loss: 6.030610964848445 \n",
      "\n",
      "Step [0/6]\t Computing features...\n",
      "Features shape (1536,)\n",
      "(1536,) (1536, 1)\n",
      "Test NMI = 0.5732 ARI = 0.3158 F = 0.4412 ACC = 0.3874\n",
      "================================================================\n",
      "\n",
      "Step [0/26]\t loss_instance: 4.3942484855651855\t loss_cluster: 1.661918044090271\n"
     ]
    },
    {
     "name": "stderr",
     "output_type": "stream",
     "text": [
      "D:\\Environment\\Conda\\envs\\torchenv\\lib\\site-packages\\torch\\nn\\modules\\container.py:141: UserWarning: Implicit dimension choice for softmax has been deprecated. Change the call to include dim=X as an argument.\n",
      "  input = module(input)\n"
     ]
    },
    {
     "name": "stdout",
     "output_type": "stream",
     "text": [
      "Step [10/26]\t loss_instance: 4.389150142669678\t loss_cluster: 1.6344386339187622\n",
      "Step [20/26]\t loss_instance: 4.39279317855835\t loss_cluster: 1.6325151920318604\n",
      "\n",
      "Epoch [176/250]\t Loss: 6.027962849690364 \n",
      "\n",
      "Step [0/6]\t Computing features...\n",
      "Features shape (1536,)\n",
      "(1536,) (1536, 1)\n",
      "Test NMI = 0.5776 ARI = 0.3273 F = 0.4512 ACC = 0.3997\n",
      "================================================================\n",
      "\n"
     ]
    },
    {
     "name": "stderr",
     "output_type": "stream",
     "text": [
      "D:\\Environment\\Conda\\envs\\torchenv\\lib\\site-packages\\torch\\nn\\modules\\container.py:141: UserWarning: Implicit dimension choice for softmax has been deprecated. Change the call to include dim=X as an argument.\n",
      "  input = module(input)\n"
     ]
    },
    {
     "name": "stdout",
     "output_type": "stream",
     "text": [
      "Step [0/26]\t loss_instance: 4.393568515777588\t loss_cluster: 1.6341856718063354\n",
      "Step [10/26]\t loss_instance: 4.391174793243408\t loss_cluster: 1.6263644695281982\n",
      "Step [20/26]\t loss_instance: 4.393151760101318\t loss_cluster: 1.6508495807647705\n",
      "\n",
      "Epoch [177/250]\t Loss: 6.029254950009859 \n",
      "\n",
      "Step [0/6]\t Computing features...\n",
      "Features shape (1536,)\n",
      "(1536,) (1536, 1)\n",
      "Test NMI = 0.5718 ARI = 0.3174 F = 0.4430 ACC = 0.3958\n",
      "================================================================\n",
      "\n",
      "Step [0/26]\t loss_instance: 4.39951753616333\t loss_cluster: 1.6335972547531128\n"
     ]
    },
    {
     "name": "stderr",
     "output_type": "stream",
     "text": [
      "D:\\Environment\\Conda\\envs\\torchenv\\lib\\site-packages\\torch\\nn\\modules\\container.py:141: UserWarning: Implicit dimension choice for softmax has been deprecated. Change the call to include dim=X as an argument.\n",
      "  input = module(input)\n"
     ]
    },
    {
     "name": "stdout",
     "output_type": "stream",
     "text": [
      "Step [10/26]\t loss_instance: 4.394599914550781\t loss_cluster: 1.6214207410812378\n",
      "Step [20/26]\t loss_instance: 4.388463497161865\t loss_cluster: 1.6082040071487427\n",
      "\n",
      "Epoch [178/250]\t Loss: 6.034824958214393 \n",
      "\n",
      "Step [0/6]\t Computing features...\n",
      "Features shape (1536,)\n",
      "(1536,) (1536, 1)\n",
      "Test NMI = 0.5681 ARI = 0.3127 F = 0.4373 ACC = 0.3861\n",
      "================================================================\n",
      "\n",
      "Step [0/26]\t loss_instance: 4.3971028327941895\t loss_cluster: 1.630041241645813\n"
     ]
    },
    {
     "name": "stderr",
     "output_type": "stream",
     "text": [
      "D:\\Environment\\Conda\\envs\\torchenv\\lib\\site-packages\\torch\\nn\\modules\\container.py:141: UserWarning: Implicit dimension choice for softmax has been deprecated. Change the call to include dim=X as an argument.\n",
      "  input = module(input)\n"
     ]
    },
    {
     "name": "stdout",
     "output_type": "stream",
     "text": [
      "Step [10/26]\t loss_instance: 4.390583038330078\t loss_cluster: 1.6499148607254028\n",
      "Step [20/26]\t loss_instance: 4.393092155456543\t loss_cluster: 1.6261999607086182\n",
      "\n",
      "Epoch [179/250]\t Loss: 6.030867484899668 \n",
      "\n",
      "Step [0/6]\t Computing features...\n",
      "Features shape (1536,)\n",
      "(1536,) (1536, 1)\n",
      "Test NMI = 0.5707 ARI = 0.3167 F = 0.4395 ACC = 0.3926\n",
      "================================================================\n",
      "\n",
      "Step [0/26]\t loss_instance: 4.411979675292969\t loss_cluster: 1.6633042097091675\n"
     ]
    },
    {
     "name": "stderr",
     "output_type": "stream",
     "text": [
      "D:\\Environment\\Conda\\envs\\torchenv\\lib\\site-packages\\torch\\nn\\modules\\container.py:141: UserWarning: Implicit dimension choice for softmax has been deprecated. Change the call to include dim=X as an argument.\n",
      "  input = module(input)\n"
     ]
    },
    {
     "name": "stdout",
     "output_type": "stream",
     "text": [
      "Step [10/26]\t loss_instance: 4.385979652404785\t loss_cluster: 1.6480735540390015\n",
      "Step [20/26]\t loss_instance: 4.382213115692139\t loss_cluster: 1.6597723960876465\n",
      "\n",
      "Epoch [180/250]\t Loss: 6.029035916695228 \n",
      "\n",
      "Step [0/6]\t Computing features...\n",
      "Features shape (1536,)\n",
      "(1536,) (1536, 1)\n",
      "Test NMI = 0.5707 ARI = 0.3196 F = 0.4439 ACC = 0.3932\n",
      "================================================================\n",
      "\n"
     ]
    },
    {
     "name": "stderr",
     "output_type": "stream",
     "text": [
      "D:\\Environment\\Conda\\envs\\torchenv\\lib\\site-packages\\torch\\nn\\modules\\container.py:141: UserWarning: Implicit dimension choice for softmax has been deprecated. Change the call to include dim=X as an argument.\n",
      "  input = module(input)\n"
     ]
    },
    {
     "name": "stdout",
     "output_type": "stream",
     "text": [
      "Step [0/26]\t loss_instance: 4.383783340454102\t loss_cluster: 1.6657040119171143\n",
      "Step [10/26]\t loss_instance: 4.38753080368042\t loss_cluster: 1.6467550992965698\n",
      "Step [20/26]\t loss_instance: 4.394251346588135\t loss_cluster: 1.6269645690917969\n",
      "\n",
      "Epoch [181/250]\t Loss: 6.02901317523076 \n",
      "\n",
      "Step [0/6]\t Computing features...\n",
      "Features shape (1536,)\n",
      "(1536,) (1536, 1)\n",
      "Test NMI = 0.5788 ARI = 0.3236 F = 0.4485 ACC = 0.3900\n",
      "================================================================\n",
      "\n"
     ]
    },
    {
     "name": "stderr",
     "output_type": "stream",
     "text": [
      "D:\\Environment\\Conda\\envs\\torchenv\\lib\\site-packages\\torch\\nn\\modules\\container.py:141: UserWarning: Implicit dimension choice for softmax has been deprecated. Change the call to include dim=X as an argument.\n",
      "  input = module(input)\n"
     ]
    },
    {
     "name": "stdout",
     "output_type": "stream",
     "text": [
      "Step [0/26]\t loss_instance: 4.391963958740234\t loss_cluster: 1.6128920316696167\n",
      "Step [10/26]\t loss_instance: 4.3885087966918945\t loss_cluster: 1.6271456480026245\n",
      "Step [20/26]\t loss_instance: 4.386104583740234\t loss_cluster: 1.6948436498641968\n",
      "\n",
      "Epoch [182/250]\t Loss: 6.019398230772752 \n",
      "\n",
      "Step [0/6]\t Computing features...\n",
      "Features shape (1536,)\n",
      "(1536,) (1536, 1)\n",
      "Test NMI = 0.5707 ARI = 0.3139 F = 0.4401 ACC = 0.3906\n",
      "================================================================\n",
      "\n"
     ]
    },
    {
     "name": "stderr",
     "output_type": "stream",
     "text": [
      "D:\\Environment\\Conda\\envs\\torchenv\\lib\\site-packages\\torch\\nn\\modules\\container.py:141: UserWarning: Implicit dimension choice for softmax has been deprecated. Change the call to include dim=X as an argument.\n",
      "  input = module(input)\n"
     ]
    },
    {
     "name": "stdout",
     "output_type": "stream",
     "text": [
      "Step [0/26]\t loss_instance: 4.39206075668335\t loss_cluster: 1.6355432271957397\n",
      "Step [10/26]\t loss_instance: 4.383347034454346\t loss_cluster: 1.6586483716964722\n",
      "Step [20/26]\t loss_instance: 4.378171920776367\t loss_cluster: 1.6340343952178955\n",
      "\n",
      "Epoch [183/250]\t Loss: 6.0267405693347635 \n",
      "\n",
      "Step [0/6]\t Computing features...\n",
      "Features shape (1536,)\n",
      "(1536,) (1536, 1)\n",
      "Test NMI = 0.5677 ARI = 0.3143 F = 0.4396 ACC = 0.3880\n",
      "================================================================\n",
      "\n"
     ]
    },
    {
     "name": "stderr",
     "output_type": "stream",
     "text": [
      "D:\\Environment\\Conda\\envs\\torchenv\\lib\\site-packages\\torch\\nn\\modules\\container.py:141: UserWarning: Implicit dimension choice for softmax has been deprecated. Change the call to include dim=X as an argument.\n",
      "  input = module(input)\n"
     ]
    },
    {
     "name": "stdout",
     "output_type": "stream",
     "text": [
      "Step [0/26]\t loss_instance: 4.393694877624512\t loss_cluster: 1.6454492807388306\n",
      "Step [10/26]\t loss_instance: 4.3906569480896\t loss_cluster: 1.6310856342315674\n",
      "Step [20/26]\t loss_instance: 4.385170936584473\t loss_cluster: 1.614791750907898\n",
      "\n",
      "Epoch [184/250]\t Loss: 6.017959484687219 \n",
      "\n",
      "Step [0/6]\t Computing features...\n",
      "Features shape (1536,)\n",
      "(1536,) (1536, 1)\n",
      "Test NMI = 0.5651 ARI = 0.3120 F = 0.4371 ACC = 0.3906\n",
      "================================================================\n",
      "\n",
      "Step [0/26]\t loss_instance: 4.387124061584473\t loss_cluster: 1.6547718048095703\n"
     ]
    },
    {
     "name": "stderr",
     "output_type": "stream",
     "text": [
      "D:\\Environment\\Conda\\envs\\torchenv\\lib\\site-packages\\torch\\nn\\modules\\container.py:141: UserWarning: Implicit dimension choice for softmax has been deprecated. Change the call to include dim=X as an argument.\n",
      "  input = module(input)\n"
     ]
    },
    {
     "name": "stdout",
     "output_type": "stream",
     "text": [
      "Step [10/26]\t loss_instance: 4.386033535003662\t loss_cluster: 1.6189920902252197\n",
      "Step [20/26]\t loss_instance: 4.382404804229736\t loss_cluster: 1.6154147386550903\n",
      "\n",
      "Epoch [185/250]\t Loss: 6.019576696249155 \n",
      "\n",
      "Step [0/6]\t Computing features...\n",
      "Features shape (1536,)\n",
      "(1536,) (1536, 1)\n",
      "Test NMI = 0.5727 ARI = 0.3197 F = 0.4439 ACC = 0.3965\n",
      "================================================================\n",
      "\n"
     ]
    },
    {
     "name": "stderr",
     "output_type": "stream",
     "text": [
      "D:\\Environment\\Conda\\envs\\torchenv\\lib\\site-packages\\torch\\nn\\modules\\container.py:141: UserWarning: Implicit dimension choice for softmax has been deprecated. Change the call to include dim=X as an argument.\n",
      "  input = module(input)\n"
     ]
    },
    {
     "name": "stdout",
     "output_type": "stream",
     "text": [
      "Step [0/26]\t loss_instance: 4.397843837738037\t loss_cluster: 1.6150308847427368\n",
      "Step [10/26]\t loss_instance: 4.385119438171387\t loss_cluster: 1.6226028203964233\n",
      "Step [20/26]\t loss_instance: 4.3733391761779785\t loss_cluster: 1.6539698839187622\n",
      "\n",
      "Epoch [186/250]\t Loss: 6.016763210296631 \n",
      "\n",
      "Step [0/6]\t Computing features...\n",
      "Features shape (1536,)\n",
      "(1536,) (1536, 1)\n",
      "Test NMI = 0.5715 ARI = 0.3176 F = 0.4412 ACC = 0.3932\n",
      "================================================================\n",
      "\n"
     ]
    },
    {
     "name": "stderr",
     "output_type": "stream",
     "text": [
      "D:\\Environment\\Conda\\envs\\torchenv\\lib\\site-packages\\torch\\nn\\modules\\container.py:141: UserWarning: Implicit dimension choice for softmax has been deprecated. Change the call to include dim=X as an argument.\n",
      "  input = module(input)\n"
     ]
    },
    {
     "name": "stdout",
     "output_type": "stream",
     "text": [
      "Step [0/26]\t loss_instance: 4.374857425689697\t loss_cluster: 1.7032124996185303\n",
      "Step [10/26]\t loss_instance: 4.394043445587158\t loss_cluster: 1.613159418106079\n",
      "Step [20/26]\t loss_instance: 4.386257171630859\t loss_cluster: 1.625588297843933\n",
      "\n",
      "Epoch [187/250]\t Loss: 6.01459629719074 \n",
      "\n",
      "Step [0/6]\t Computing features...\n",
      "Features shape (1536,)\n",
      "(1536,) (1536, 1)\n",
      "Test NMI = 0.5744 ARI = 0.3201 F = 0.4446 ACC = 0.3893\n",
      "================================================================\n",
      "\n",
      "Step [0/26]\t loss_instance: 4.408616065979004\t loss_cluster: 1.6100810766220093\n"
     ]
    },
    {
     "name": "stderr",
     "output_type": "stream",
     "text": [
      "D:\\Environment\\Conda\\envs\\torchenv\\lib\\site-packages\\torch\\nn\\modules\\container.py:141: UserWarning: Implicit dimension choice for softmax has been deprecated. Change the call to include dim=X as an argument.\n",
      "  input = module(input)\n"
     ]
    },
    {
     "name": "stdout",
     "output_type": "stream",
     "text": [
      "Step [10/26]\t loss_instance: 4.389315605163574\t loss_cluster: 1.6240410804748535\n",
      "Step [20/26]\t loss_instance: 4.381991386413574\t loss_cluster: 1.656343698501587\n",
      "\n",
      "Epoch [188/250]\t Loss: 6.024250874152551 \n",
      "\n",
      "Step [0/6]\t Computing features...\n",
      "Features shape (1536,)\n",
      "(1536,) (1536, 1)\n",
      "Test NMI = 0.5686 ARI = 0.3131 F = 0.4385 ACC = 0.3828\n",
      "================================================================\n",
      "\n",
      "Step [0/26]\t loss_instance: 4.3748273849487305\t loss_cluster: 1.6270153522491455\n"
     ]
    },
    {
     "name": "stderr",
     "output_type": "stream",
     "text": [
      "D:\\Environment\\Conda\\envs\\torchenv\\lib\\site-packages\\torch\\nn\\modules\\container.py:141: UserWarning: Implicit dimension choice for softmax has been deprecated. Change the call to include dim=X as an argument.\n",
      "  input = module(input)\n"
     ]
    },
    {
     "name": "stdout",
     "output_type": "stream",
     "text": [
      "Step [10/26]\t loss_instance: 4.386918067932129\t loss_cluster: 1.6306288242340088\n",
      "Step [20/26]\t loss_instance: 4.396785259246826\t loss_cluster: 1.6234252452850342\n",
      "\n",
      "Epoch [189/250]\t Loss: 6.010027958796575 \n",
      "\n",
      "Step [0/6]\t Computing features...\n",
      "Features shape (1536,)\n",
      "(1536,) (1536, 1)\n",
      "Test NMI = 0.5726 ARI = 0.3170 F = 0.4408 ACC = 0.3893\n",
      "================================================================\n",
      "\n"
     ]
    },
    {
     "name": "stderr",
     "output_type": "stream",
     "text": [
      "D:\\Environment\\Conda\\envs\\torchenv\\lib\\site-packages\\torch\\nn\\modules\\container.py:141: UserWarning: Implicit dimension choice for softmax has been deprecated. Change the call to include dim=X as an argument.\n",
      "  input = module(input)\n"
     ]
    },
    {
     "name": "stdout",
     "output_type": "stream",
     "text": [
      "Step [0/26]\t loss_instance: 4.379652976989746\t loss_cluster: 1.626878023147583\n",
      "Step [10/26]\t loss_instance: 4.383808612823486\t loss_cluster: 1.631196141242981\n",
      "Step [20/26]\t loss_instance: 4.377043724060059\t loss_cluster: 1.6475613117218018\n",
      "\n",
      "Epoch [190/250]\t Loss: 6.011560770181509 \n",
      "\n",
      "Step [0/6]\t Computing features...\n",
      "Features shape (1536,)\n",
      "(1536,) (1536, 1)\n",
      "Test NMI = 0.5713 ARI = 0.3156 F = 0.4407 ACC = 0.3958\n",
      "================================================================\n",
      "\n"
     ]
    },
    {
     "name": "stderr",
     "output_type": "stream",
     "text": [
      "D:\\Environment\\Conda\\envs\\torchenv\\lib\\site-packages\\torch\\nn\\modules\\container.py:141: UserWarning: Implicit dimension choice for softmax has been deprecated. Change the call to include dim=X as an argument.\n",
      "  input = module(input)\n"
     ]
    },
    {
     "name": "stdout",
     "output_type": "stream",
     "text": [
      "Step [0/26]\t loss_instance: 4.3889617919921875\t loss_cluster: 1.636922001838684\n",
      "Step [10/26]\t loss_instance: 4.386682510375977\t loss_cluster: 1.6138557195663452\n",
      "Step [20/26]\t loss_instance: 4.4013166427612305\t loss_cluster: 1.6289197206497192\n",
      "\n",
      "Epoch [191/250]\t Loss: 6.013831560428326 \n",
      "\n",
      "Step [0/6]\t Computing features...\n",
      "Features shape (1536,)\n",
      "(1536,) (1536, 1)\n",
      "Test NMI = 0.5684 ARI = 0.3131 F = 0.4373 ACC = 0.3926\n",
      "================================================================\n",
      "\n",
      "Step [0/26]\t loss_instance: 4.381713390350342\t loss_cluster: 1.6150590181350708\n"
     ]
    },
    {
     "name": "stderr",
     "output_type": "stream",
     "text": [
      "D:\\Environment\\Conda\\envs\\torchenv\\lib\\site-packages\\torch\\nn\\modules\\container.py:141: UserWarning: Implicit dimension choice for softmax has been deprecated. Change the call to include dim=X as an argument.\n",
      "  input = module(input)\n"
     ]
    },
    {
     "name": "stdout",
     "output_type": "stream",
     "text": [
      "Step [10/26]\t loss_instance: 4.383216381072998\t loss_cluster: 1.6168396472930908\n",
      "Step [20/26]\t loss_instance: 4.380816459655762\t loss_cluster: 1.6322389841079712\n",
      "\n",
      "Epoch [192/250]\t Loss: 6.013510025464571 \n",
      "\n",
      "Step [0/6]\t Computing features...\n",
      "Features shape (1536,)\n",
      "(1536,) (1536, 1)\n",
      "Test NMI = 0.5705 ARI = 0.3159 F = 0.4397 ACC = 0.3900\n",
      "================================================================\n",
      "\n"
     ]
    },
    {
     "name": "stderr",
     "output_type": "stream",
     "text": [
      "D:\\Environment\\Conda\\envs\\torchenv\\lib\\site-packages\\torch\\nn\\modules\\container.py:141: UserWarning: Implicit dimension choice for softmax has been deprecated. Change the call to include dim=X as an argument.\n",
      "  input = module(input)\n"
     ]
    },
    {
     "name": "stdout",
     "output_type": "stream",
     "text": [
      "Step [0/26]\t loss_instance: 4.389521598815918\t loss_cluster: 1.603572130203247\n",
      "Step [10/26]\t loss_instance: 4.399919509887695\t loss_cluster: 1.6064621210098267\n",
      "Step [20/26]\t loss_instance: 4.389629364013672\t loss_cluster: 1.6267801523208618\n",
      "\n",
      "Epoch [193/250]\t Loss: 6.014834385651809 \n",
      "\n",
      "Step [0/6]\t Computing features...\n",
      "Features shape (1536,)\n",
      "(1536,) (1536, 1)\n",
      "Test NMI = 0.5754 ARI = 0.3194 F = 0.4453 ACC = 0.3913\n",
      "================================================================\n",
      "\n",
      "Step [0/26]\t loss_instance: 4.398946762084961\t loss_cluster: 1.6256023645401\n"
     ]
    },
    {
     "name": "stderr",
     "output_type": "stream",
     "text": [
      "D:\\Environment\\Conda\\envs\\torchenv\\lib\\site-packages\\torch\\nn\\modules\\container.py:141: UserWarning: Implicit dimension choice for softmax has been deprecated. Change the call to include dim=X as an argument.\n",
      "  input = module(input)\n"
     ]
    },
    {
     "name": "stdout",
     "output_type": "stream",
     "text": [
      "Step [10/26]\t loss_instance: 4.379105567932129\t loss_cluster: 1.6333931684494019\n",
      "Step [20/26]\t loss_instance: 4.388260364532471\t loss_cluster: 1.6011770963668823\n",
      "\n",
      "Epoch [194/250]\t Loss: 6.00774073600769 \n",
      "\n",
      "Step [0/6]\t Computing features...\n",
      "Features shape (1536,)\n",
      "(1536,) (1536, 1)\n",
      "Test NMI = 0.5702 ARI = 0.3159 F = 0.4403 ACC = 0.3861\n",
      "================================================================\n",
      "\n",
      "Step [0/26]\t loss_instance: 4.38281774520874\t loss_cluster: 1.6533485651016235\n"
     ]
    },
    {
     "name": "stderr",
     "output_type": "stream",
     "text": [
      "D:\\Environment\\Conda\\envs\\torchenv\\lib\\site-packages\\torch\\nn\\modules\\container.py:141: UserWarning: Implicit dimension choice for softmax has been deprecated. Change the call to include dim=X as an argument.\n",
      "  input = module(input)\n"
     ]
    },
    {
     "name": "stdout",
     "output_type": "stream",
     "text": [
      "Step [10/26]\t loss_instance: 4.37501859664917\t loss_cluster: 1.601141095161438\n",
      "Step [20/26]\t loss_instance: 4.381673336029053\t loss_cluster: 1.623671531677246\n",
      "\n",
      "Epoch [195/250]\t Loss: 6.012774210709792 \n",
      "\n",
      "Step [0/6]\t Computing features...\n",
      "Features shape (1536,)\n",
      "(1536,) (1536, 1)\n",
      "Test NMI = 0.5674 ARI = 0.3122 F = 0.4382 ACC = 0.3861\n",
      "================================================================\n",
      "\n",
      "Step [0/26]\t loss_instance: 4.387314796447754\t loss_cluster: 1.6393755674362183\n"
     ]
    },
    {
     "name": "stderr",
     "output_type": "stream",
     "text": [
      "D:\\Environment\\Conda\\envs\\torchenv\\lib\\site-packages\\torch\\nn\\modules\\container.py:141: UserWarning: Implicit dimension choice for softmax has been deprecated. Change the call to include dim=X as an argument.\n",
      "  input = module(input)\n"
     ]
    },
    {
     "name": "stdout",
     "output_type": "stream",
     "text": [
      "Step [10/26]\t loss_instance: 4.3833112716674805\t loss_cluster: 1.630869746208191\n",
      "Step [20/26]\t loss_instance: 4.378206253051758\t loss_cluster: 1.6420854330062866\n",
      "\n",
      "Epoch [196/250]\t Loss: 6.014067044624915 \n",
      "\n",
      "Step [0/6]\t Computing features...\n",
      "Features shape (1536,)\n",
      "(1536,) (1536, 1)\n",
      "Test NMI = 0.5660 ARI = 0.3108 F = 0.4356 ACC = 0.3835\n",
      "================================================================\n",
      "\n",
      "Step [0/26]\t loss_instance: 4.380554676055908\t loss_cluster: 1.6166599988937378\n"
     ]
    },
    {
     "name": "stderr",
     "output_type": "stream",
     "text": [
      "D:\\Environment\\Conda\\envs\\torchenv\\lib\\site-packages\\torch\\nn\\modules\\container.py:141: UserWarning: Implicit dimension choice for softmax has been deprecated. Change the call to include dim=X as an argument.\n",
      "  input = module(input)\n"
     ]
    },
    {
     "name": "stdout",
     "output_type": "stream",
     "text": [
      "Step [10/26]\t loss_instance: 4.381617069244385\t loss_cluster: 1.6085668802261353\n",
      "Step [20/26]\t loss_instance: 4.383938312530518\t loss_cluster: 1.6154203414916992\n",
      "\n",
      "Epoch [197/250]\t Loss: 6.007157912621131 \n",
      "\n",
      "Step [0/6]\t Computing features...\n",
      "Features shape (1536,)\n",
      "(1536,) (1536, 1)\n",
      "Test NMI = 0.5731 ARI = 0.3193 F = 0.4430 ACC = 0.3971\n",
      "================================================================\n",
      "\n",
      "Step [0/26]\t loss_instance: 4.384799003601074\t loss_cluster: 1.6117990016937256\n"
     ]
    },
    {
     "name": "stderr",
     "output_type": "stream",
     "text": [
      "D:\\Environment\\Conda\\envs\\torchenv\\lib\\site-packages\\torch\\nn\\modules\\container.py:141: UserWarning: Implicit dimension choice for softmax has been deprecated. Change the call to include dim=X as an argument.\n",
      "  input = module(input)\n"
     ]
    },
    {
     "name": "stdout",
     "output_type": "stream",
     "text": [
      "Step [10/26]\t loss_instance: 4.385740756988525\t loss_cluster: 1.607560396194458\n",
      "Step [20/26]\t loss_instance: 4.374022483825684\t loss_cluster: 1.645797848701477\n",
      "\n",
      "Epoch [198/250]\t Loss: 6.002567126200749 \n",
      "\n",
      "Step [0/6]\t Computing features...\n",
      "Features shape (1536,)\n",
      "(1536,) (1536, 1)\n",
      "Test NMI = 0.5689 ARI = 0.3125 F = 0.4379 ACC = 0.3893\n",
      "================================================================\n",
      "\n"
     ]
    },
    {
     "name": "stderr",
     "output_type": "stream",
     "text": [
      "D:\\Environment\\Conda\\envs\\torchenv\\lib\\site-packages\\torch\\nn\\modules\\container.py:141: UserWarning: Implicit dimension choice for softmax has been deprecated. Change the call to include dim=X as an argument.\n",
      "  input = module(input)\n"
     ]
    },
    {
     "name": "stdout",
     "output_type": "stream",
     "text": [
      "Step [0/26]\t loss_instance: 4.387319564819336\t loss_cluster: 1.6811469793319702\n",
      "Step [10/26]\t loss_instance: 4.3875908851623535\t loss_cluster: 1.5977271795272827\n",
      "Step [20/26]\t loss_instance: 4.3863372802734375\t loss_cluster: 1.6501034498214722\n",
      "\n",
      "Epoch [199/250]\t Loss: 6.003590382062471 \n",
      "\n",
      "Step [0/6]\t Computing features...\n",
      "Features shape (1536,)\n",
      "(1536,) (1536, 1)\n",
      "Test NMI = 0.5739 ARI = 0.3155 F = 0.4402 ACC = 0.3939\n",
      "================================================================\n",
      "\n",
      "Step [0/26]\t loss_instance: 4.382810592651367\t loss_cluster: 1.6369030475616455\n"
     ]
    },
    {
     "name": "stderr",
     "output_type": "stream",
     "text": [
      "D:\\Environment\\Conda\\envs\\torchenv\\lib\\site-packages\\torch\\nn\\modules\\container.py:141: UserWarning: Implicit dimension choice for softmax has been deprecated. Change the call to include dim=X as an argument.\n",
      "  input = module(input)\n"
     ]
    },
    {
     "name": "stdout",
     "output_type": "stream",
     "text": [
      "Step [10/26]\t loss_instance: 4.391630172729492\t loss_cluster: 1.6540988683700562\n",
      "Step [20/26]\t loss_instance: 4.378296852111816\t loss_cluster: 1.61308753490448\n",
      "\n",
      "Epoch [200/250]\t Loss: 6.006616592407227 \n",
      "\n",
      "Step [0/6]\t Computing features...\n",
      "Features shape (1536,)\n",
      "(1536,) (1536, 1)\n",
      "Test NMI = 0.5660 ARI = 0.3126 F = 0.4379 ACC = 0.3887\n",
      "================================================================\n",
      "\n"
     ]
    },
    {
     "name": "stderr",
     "output_type": "stream",
     "text": [
      "D:\\Environment\\Conda\\envs\\torchenv\\lib\\site-packages\\torch\\nn\\modules\\container.py:141: UserWarning: Implicit dimension choice for softmax has been deprecated. Change the call to include dim=X as an argument.\n",
      "  input = module(input)\n"
     ]
    },
    {
     "name": "stdout",
     "output_type": "stream",
     "text": [
      "Step [0/26]\t loss_instance: 4.381200790405273\t loss_cluster: 1.6280100345611572\n",
      "Step [10/26]\t loss_instance: 4.3785810470581055\t loss_cluster: 1.6140438318252563\n",
      "Step [20/26]\t loss_instance: 4.374553680419922\t loss_cluster: 1.6308969259262085\n",
      "\n",
      "Epoch [201/250]\t Loss: 6.001595625510583 \n",
      "\n",
      "Step [0/6]\t Computing features...\n",
      "Features shape (1536,)\n",
      "(1536,) (1536, 1)\n",
      "Test NMI = 0.5676 ARI = 0.3099 F = 0.4331 ACC = 0.3828\n",
      "================================================================\n",
      "\n"
     ]
    },
    {
     "name": "stderr",
     "output_type": "stream",
     "text": [
      "D:\\Environment\\Conda\\envs\\torchenv\\lib\\site-packages\\torch\\nn\\modules\\container.py:141: UserWarning: Implicit dimension choice for softmax has been deprecated. Change the call to include dim=X as an argument.\n",
      "  input = module(input)\n"
     ]
    },
    {
     "name": "stdout",
     "output_type": "stream",
     "text": [
      "Step [0/26]\t loss_instance: 4.379662990570068\t loss_cluster: 1.6157028675079346\n",
      "Step [10/26]\t loss_instance: 4.38918924331665\t loss_cluster: 1.6017392873764038\n",
      "Step [20/26]\t loss_instance: 4.370514869689941\t loss_cluster: 1.6230345964431763\n",
      "\n",
      "Epoch [202/250]\t Loss: 6.00482517022353 \n",
      "\n",
      "Step [0/6]\t Computing features...\n",
      "Features shape (1536,)\n",
      "(1536,) (1536, 1)\n",
      "Test NMI = 0.5656 ARI = 0.3080 F = 0.4339 ACC = 0.3893\n",
      "================================================================\n",
      "\n"
     ]
    },
    {
     "name": "stderr",
     "output_type": "stream",
     "text": [
      "D:\\Environment\\Conda\\envs\\torchenv\\lib\\site-packages\\torch\\nn\\modules\\container.py:141: UserWarning: Implicit dimension choice for softmax has been deprecated. Change the call to include dim=X as an argument.\n",
      "  input = module(input)\n"
     ]
    },
    {
     "name": "stdout",
     "output_type": "stream",
     "text": [
      "Step [0/26]\t loss_instance: 4.3727874755859375\t loss_cluster: 1.6060072183609009\n",
      "Step [10/26]\t loss_instance: 4.384690284729004\t loss_cluster: 1.6077877283096313\n",
      "Step [20/26]\t loss_instance: 4.387117862701416\t loss_cluster: 1.615388035774231\n",
      "\n",
      "Epoch [203/250]\t Loss: 6.008072137832642 \n",
      "\n",
      "Step [0/6]\t Computing features...\n",
      "Features shape (1536,)\n",
      "(1536,) (1536, 1)\n",
      "Test NMI = 0.5698 ARI = 0.3103 F = 0.4352 ACC = 0.3867\n",
      "================================================================\n",
      "\n",
      "Step [0/26]\t loss_instance: 4.381612300872803\t loss_cluster: 1.6436978578567505\n"
     ]
    },
    {
     "name": "stderr",
     "output_type": "stream",
     "text": [
      "D:\\Environment\\Conda\\envs\\torchenv\\lib\\site-packages\\torch\\nn\\modules\\container.py:141: UserWarning: Implicit dimension choice for softmax has been deprecated. Change the call to include dim=X as an argument.\n",
      "  input = module(input)\n"
     ]
    },
    {
     "name": "stdout",
     "output_type": "stream",
     "text": [
      "Step [10/26]\t loss_instance: 4.388939380645752\t loss_cluster: 1.6029731035232544\n",
      "Step [20/26]\t loss_instance: 4.37518310546875\t loss_cluster: 1.6185314655303955\n",
      "\n",
      "Epoch [204/250]\t Loss: 6.0006546423985405 \n",
      "\n",
      "Step [0/6]\t Computing features...\n",
      "Features shape (1536,)\n",
      "(1536,) (1536, 1)\n",
      "Test NMI = 0.5693 ARI = 0.3136 F = 0.4382 ACC = 0.3880\n",
      "================================================================\n",
      "\n"
     ]
    },
    {
     "name": "stderr",
     "output_type": "stream",
     "text": [
      "D:\\Environment\\Conda\\envs\\torchenv\\lib\\site-packages\\torch\\nn\\modules\\container.py:141: UserWarning: Implicit dimension choice for softmax has been deprecated. Change the call to include dim=X as an argument.\n",
      "  input = module(input)\n"
     ]
    },
    {
     "name": "stdout",
     "output_type": "stream",
     "text": [
      "Step [0/26]\t loss_instance: 4.375089168548584\t loss_cluster: 1.6429102420806885\n",
      "Step [10/26]\t loss_instance: 4.379709243774414\t loss_cluster: 1.594040036201477\n",
      "Step [20/26]\t loss_instance: 4.391998767852783\t loss_cluster: 1.6041462421417236\n",
      "\n",
      "Epoch [205/250]\t Loss: 5.996703349626982 \n",
      "\n",
      "Step [0/6]\t Computing features...\n",
      "Features shape (1536,)\n",
      "(1536,) (1536, 1)\n",
      "Test NMI = 0.5680 ARI = 0.3112 F = 0.4358 ACC = 0.3887\n",
      "================================================================\n",
      "\n"
     ]
    },
    {
     "name": "stderr",
     "output_type": "stream",
     "text": [
      "D:\\Environment\\Conda\\envs\\torchenv\\lib\\site-packages\\torch\\nn\\modules\\container.py:141: UserWarning: Implicit dimension choice for softmax has been deprecated. Change the call to include dim=X as an argument.\n",
      "  input = module(input)\n"
     ]
    },
    {
     "name": "stdout",
     "output_type": "stream",
     "text": [
      "Step [0/26]\t loss_instance: 4.380500793457031\t loss_cluster: 1.6230589151382446\n",
      "Step [10/26]\t loss_instance: 4.378814220428467\t loss_cluster: 1.5973342657089233\n",
      "Step [20/26]\t loss_instance: 4.377246856689453\t loss_cluster: 1.621388554573059\n",
      "\n",
      "Epoch [206/250]\t Loss: 5.997192511191735 \n",
      "\n",
      "Step [0/6]\t Computing features...\n",
      "Features shape (1536,)\n",
      "(1536,) (1536, 1)\n",
      "Test NMI = 0.5722 ARI = 0.3173 F = 0.4418 ACC = 0.3945\n",
      "================================================================\n",
      "\n"
     ]
    },
    {
     "name": "stderr",
     "output_type": "stream",
     "text": [
      "D:\\Environment\\Conda\\envs\\torchenv\\lib\\site-packages\\torch\\nn\\modules\\container.py:141: UserWarning: Implicit dimension choice for softmax has been deprecated. Change the call to include dim=X as an argument.\n",
      "  input = module(input)\n"
     ]
    },
    {
     "name": "stdout",
     "output_type": "stream",
     "text": [
      "Step [0/26]\t loss_instance: 4.377989292144775\t loss_cluster: 1.6265414953231812\n",
      "Step [10/26]\t loss_instance: 4.375114917755127\t loss_cluster: 1.6255300045013428\n",
      "Step [20/26]\t loss_instance: 4.373218059539795\t loss_cluster: 1.6069153547286987\n",
      "\n",
      "Epoch [207/250]\t Loss: 5.995700836181641 \n",
      "\n",
      "Step [0/6]\t Computing features...\n",
      "Features shape (1536,)\n",
      "(1536,) (1536, 1)\n",
      "Test NMI = 0.5704 ARI = 0.3147 F = 0.4403 ACC = 0.3906\n",
      "================================================================\n",
      "\n",
      "Step [0/26]\t loss_instance: 4.37945032119751\t loss_cluster: 1.6167677640914917\n"
     ]
    },
    {
     "name": "stderr",
     "output_type": "stream",
     "text": [
      "D:\\Environment\\Conda\\envs\\torchenv\\lib\\site-packages\\torch\\nn\\modules\\container.py:141: UserWarning: Implicit dimension choice for softmax has been deprecated. Change the call to include dim=X as an argument.\n",
      "  input = module(input)\n"
     ]
    },
    {
     "name": "stdout",
     "output_type": "stream",
     "text": [
      "Step [10/26]\t loss_instance: 4.390073299407959\t loss_cluster: 1.60921049118042\n",
      "Step [20/26]\t loss_instance: 4.3713788986206055\t loss_cluster: 1.619091510772705\n",
      "\n",
      "Epoch [208/250]\t Loss: 5.996020940633921 \n",
      "\n",
      "Step [0/6]\t Computing features...\n",
      "Features shape (1536,)\n",
      "(1536,) (1536, 1)\n",
      "Test NMI = 0.5743 ARI = 0.3191 F = 0.4450 ACC = 0.3971\n",
      "================================================================\n",
      "\n"
     ]
    },
    {
     "name": "stderr",
     "output_type": "stream",
     "text": [
      "D:\\Environment\\Conda\\envs\\torchenv\\lib\\site-packages\\torch\\nn\\modules\\container.py:141: UserWarning: Implicit dimension choice for softmax has been deprecated. Change the call to include dim=X as an argument.\n",
      "  input = module(input)\n"
     ]
    },
    {
     "name": "stdout",
     "output_type": "stream",
     "text": [
      "Step [0/26]\t loss_instance: 4.394717693328857\t loss_cluster: 1.5991638898849487\n",
      "Step [10/26]\t loss_instance: 4.374431133270264\t loss_cluster: 1.6357141733169556\n",
      "Step [20/26]\t loss_instance: 4.36853551864624\t loss_cluster: 1.615506649017334\n",
      "\n",
      "Epoch [209/250]\t Loss: 6.000020595697256 \n",
      "\n",
      "Step [0/6]\t Computing features...\n",
      "Features shape (1536,)\n",
      "(1536,) (1536, 1)\n",
      "Test NMI = 0.5689 ARI = 0.3161 F = 0.4425 ACC = 0.3893\n",
      "================================================================\n",
      "\n",
      "Step [0/26]\t loss_instance: 4.367648601531982\t loss_cluster: 1.634229302406311\n"
     ]
    },
    {
     "name": "stderr",
     "output_type": "stream",
     "text": [
      "D:\\Environment\\Conda\\envs\\torchenv\\lib\\site-packages\\torch\\nn\\modules\\container.py:141: UserWarning: Implicit dimension choice for softmax has been deprecated. Change the call to include dim=X as an argument.\n",
      "  input = module(input)\n"
     ]
    },
    {
     "name": "stdout",
     "output_type": "stream",
     "text": [
      "Step [10/26]\t loss_instance: 4.37003755569458\t loss_cluster: 1.5994900465011597\n",
      "Step [20/26]\t loss_instance: 4.38192081451416\t loss_cluster: 1.634750485420227\n",
      "\n",
      "Epoch [210/250]\t Loss: 5.999425943081196 \n",
      "\n",
      "Step [0/6]\t Computing features...\n",
      "Features shape (1536,)\n",
      "(1536,) (1536, 1)\n",
      "Test NMI = 0.5715 ARI = 0.3152 F = 0.4401 ACC = 0.3887\n",
      "================================================================\n",
      "\n"
     ]
    },
    {
     "name": "stderr",
     "output_type": "stream",
     "text": [
      "D:\\Environment\\Conda\\envs\\torchenv\\lib\\site-packages\\torch\\nn\\modules\\container.py:141: UserWarning: Implicit dimension choice for softmax has been deprecated. Change the call to include dim=X as an argument.\n",
      "  input = module(input)\n"
     ]
    },
    {
     "name": "stdout",
     "output_type": "stream",
     "text": [
      "Step [0/26]\t loss_instance: 4.390019416809082\t loss_cluster: 1.5975897312164307\n",
      "Step [10/26]\t loss_instance: 4.391456604003906\t loss_cluster: 1.6247222423553467\n",
      "Step [20/26]\t loss_instance: 4.389662742614746\t loss_cluster: 1.6303160190582275\n",
      "\n",
      "Epoch [211/250]\t Loss: 5.995335432199331 \n",
      "\n",
      "Step [0/6]\t Computing features...\n",
      "Features shape (1536,)\n",
      "(1536,) (1536, 1)\n",
      "Test NMI = 0.5703 ARI = 0.3133 F = 0.4389 ACC = 0.3932\n",
      "================================================================\n",
      "\n"
     ]
    },
    {
     "name": "stderr",
     "output_type": "stream",
     "text": [
      "D:\\Environment\\Conda\\envs\\torchenv\\lib\\site-packages\\torch\\nn\\modules\\container.py:141: UserWarning: Implicit dimension choice for softmax has been deprecated. Change the call to include dim=X as an argument.\n",
      "  input = module(input)\n"
     ]
    },
    {
     "name": "stdout",
     "output_type": "stream",
     "text": [
      "Step [0/26]\t loss_instance: 4.373900413513184\t loss_cluster: 1.613796353340149\n",
      "Step [10/26]\t loss_instance: 4.373421669006348\t loss_cluster: 1.6075780391693115\n",
      "Step [20/26]\t loss_instance: 4.3851704597473145\t loss_cluster: 1.5996971130371094\n",
      "\n",
      "Epoch [212/250]\t Loss: 5.99166778417734 \n",
      "\n",
      "Step [0/6]\t Computing features...\n",
      "Features shape (1536,)\n",
      "(1536,) (1536, 1)\n",
      "Test NMI = 0.5701 ARI = 0.3104 F = 0.4353 ACC = 0.3919\n",
      "================================================================\n",
      "\n"
     ]
    },
    {
     "name": "stderr",
     "output_type": "stream",
     "text": [
      "D:\\Environment\\Conda\\envs\\torchenv\\lib\\site-packages\\torch\\nn\\modules\\container.py:141: UserWarning: Implicit dimension choice for softmax has been deprecated. Change the call to include dim=X as an argument.\n",
      "  input = module(input)\n"
     ]
    },
    {
     "name": "stdout",
     "output_type": "stream",
     "text": [
      "Step [0/26]\t loss_instance: 4.378248691558838\t loss_cluster: 1.6098363399505615\n",
      "Step [10/26]\t loss_instance: 4.37957239151001\t loss_cluster: 1.6149795055389404\n",
      "Step [20/26]\t loss_instance: 4.385571002960205\t loss_cluster: 1.660260558128357\n",
      "\n",
      "Epoch [213/250]\t Loss: 5.996069559684167 \n",
      "\n",
      "Step [0/6]\t Computing features...\n",
      "Features shape (1536,)\n",
      "(1536,) (1536, 1)\n",
      "Test NMI = 0.5676 ARI = 0.3132 F = 0.4370 ACC = 0.3861\n",
      "================================================================\n",
      "\n",
      "Step [0/26]\t loss_instance: 4.384598731994629\t loss_cluster: 1.6002117395401\n"
     ]
    },
    {
     "name": "stderr",
     "output_type": "stream",
     "text": [
      "D:\\Environment\\Conda\\envs\\torchenv\\lib\\site-packages\\torch\\nn\\modules\\container.py:141: UserWarning: Implicit dimension choice for softmax has been deprecated. Change the call to include dim=X as an argument.\n",
      "  input = module(input)\n"
     ]
    },
    {
     "name": "stdout",
     "output_type": "stream",
     "text": [
      "Step [10/26]\t loss_instance: 4.382335662841797\t loss_cluster: 1.6137076616287231\n",
      "Step [20/26]\t loss_instance: 4.3711957931518555\t loss_cluster: 1.6042407751083374\n",
      "\n",
      "Epoch [214/250]\t Loss: 5.988681536454421 \n",
      "\n",
      "Step [0/6]\t Computing features...\n",
      "Features shape (1536,)\n",
      "(1536,) (1536, 1)\n",
      "Test NMI = 0.5635 ARI = 0.3027 F = 0.4302 ACC = 0.3737\n",
      "================================================================\n",
      "\n",
      "Step [0/26]\t loss_instance: 4.380361557006836\t loss_cluster: 1.6120455265045166\n"
     ]
    },
    {
     "name": "stderr",
     "output_type": "stream",
     "text": [
      "D:\\Environment\\Conda\\envs\\torchenv\\lib\\site-packages\\torch\\nn\\modules\\container.py:141: UserWarning: Implicit dimension choice for softmax has been deprecated. Change the call to include dim=X as an argument.\n",
      "  input = module(input)\n"
     ]
    },
    {
     "name": "stdout",
     "output_type": "stream",
     "text": [
      "Step [10/26]\t loss_instance: 4.374283313751221\t loss_cluster: 1.64964759349823\n",
      "Step [20/26]\t loss_instance: 4.385639190673828\t loss_cluster: 1.5855170488357544\n",
      "\n",
      "Epoch [215/250]\t Loss: 5.991384836343618 \n",
      "\n",
      "Step [0/6]\t Computing features...\n",
      "Features shape (1536,)\n",
      "(1536,) (1536, 1)\n",
      "Test NMI = 0.5657 ARI = 0.3100 F = 0.4333 ACC = 0.3828\n",
      "================================================================\n",
      "\n"
     ]
    },
    {
     "name": "stderr",
     "output_type": "stream",
     "text": [
      "D:\\Environment\\Conda\\envs\\torchenv\\lib\\site-packages\\torch\\nn\\modules\\container.py:141: UserWarning: Implicit dimension choice for softmax has been deprecated. Change the call to include dim=X as an argument.\n",
      "  input = module(input)\n"
     ]
    },
    {
     "name": "stdout",
     "output_type": "stream",
     "text": [
      "Step [0/26]\t loss_instance: 4.368740081787109\t loss_cluster: 1.6077582836151123\n",
      "Step [10/26]\t loss_instance: 4.37811803817749\t loss_cluster: 1.6128413677215576\n",
      "Step [20/26]\t loss_instance: 4.384830474853516\t loss_cluster: 1.5965121984481812\n",
      "\n",
      "Epoch [216/250]\t Loss: 5.989477616090041 \n",
      "\n",
      "Step [0/6]\t Computing features...\n",
      "Features shape (1536,)\n",
      "(1536,) (1536, 1)\n",
      "Test NMI = 0.5743 ARI = 0.3155 F = 0.4403 ACC = 0.3841\n",
      "================================================================\n",
      "\n",
      "Step [0/26]\t loss_instance: 4.374677658081055\t loss_cluster: 1.5875227451324463\n"
     ]
    },
    {
     "name": "stderr",
     "output_type": "stream",
     "text": [
      "D:\\Environment\\Conda\\envs\\torchenv\\lib\\site-packages\\torch\\nn\\modules\\container.py:141: UserWarning: Implicit dimension choice for softmax has been deprecated. Change the call to include dim=X as an argument.\n",
      "  input = module(input)\n"
     ]
    },
    {
     "name": "stdout",
     "output_type": "stream",
     "text": [
      "Step [10/26]\t loss_instance: 4.388301372528076\t loss_cluster: 1.6038225889205933\n",
      "Step [20/26]\t loss_instance: 4.383601188659668\t loss_cluster: 1.622324824333191\n",
      "\n",
      "Epoch [217/250]\t Loss: 5.99101473734929 \n",
      "\n",
      "Step [0/6]\t Computing features...\n",
      "Features shape (1536,)\n",
      "(1536,) (1536, 1)\n",
      "Test NMI = 0.5701 ARI = 0.3159 F = 0.4390 ACC = 0.3848\n",
      "================================================================\n",
      "\n"
     ]
    },
    {
     "name": "stderr",
     "output_type": "stream",
     "text": [
      "D:\\Environment\\Conda\\envs\\torchenv\\lib\\site-packages\\torch\\nn\\modules\\container.py:141: UserWarning: Implicit dimension choice for softmax has been deprecated. Change the call to include dim=X as an argument.\n",
      "  input = module(input)\n"
     ]
    },
    {
     "name": "stdout",
     "output_type": "stream",
     "text": [
      "Step [0/26]\t loss_instance: 4.3699445724487305\t loss_cluster: 1.6266212463378906\n",
      "Step [10/26]\t loss_instance: 4.377817153930664\t loss_cluster: 1.6203010082244873\n",
      "Step [20/26]\t loss_instance: 4.375749588012695\t loss_cluster: 1.5968214273452759\n",
      "\n",
      "Epoch [218/250]\t Loss: 5.982354017404409 \n",
      "\n",
      "Step [0/6]\t Computing features...\n",
      "Features shape (1536,)\n",
      "(1536,) (1536, 1)\n",
      "Test NMI = 0.5698 ARI = 0.3111 F = 0.4374 ACC = 0.3815\n",
      "================================================================\n",
      "\n",
      "Step [0/26]\t loss_instance: 4.383691310882568\t loss_cluster: 1.6323524713516235\n"
     ]
    },
    {
     "name": "stderr",
     "output_type": "stream",
     "text": [
      "D:\\Environment\\Conda\\envs\\torchenv\\lib\\site-packages\\torch\\nn\\modules\\container.py:141: UserWarning: Implicit dimension choice for softmax has been deprecated. Change the call to include dim=X as an argument.\n",
      "  input = module(input)\n"
     ]
    },
    {
     "name": "stdout",
     "output_type": "stream",
     "text": [
      "Step [10/26]\t loss_instance: 4.390244007110596\t loss_cluster: 1.596800446510315\n",
      "Step [20/26]\t loss_instance: 4.369724273681641\t loss_cluster: 1.6161810159683228\n",
      "\n",
      "Epoch [219/250]\t Loss: 5.998879799476037 \n",
      "\n",
      "Step [0/6]\t Computing features...\n",
      "Features shape (1536,)\n",
      "(1536,) (1536, 1)\n",
      "Test NMI = 0.5681 ARI = 0.3119 F = 0.4360 ACC = 0.3861\n",
      "================================================================\n",
      "\n",
      "Step [0/26]\t loss_instance: 4.365355014801025\t loss_cluster: 1.608859896659851\n"
     ]
    },
    {
     "name": "stderr",
     "output_type": "stream",
     "text": [
      "D:\\Environment\\Conda\\envs\\torchenv\\lib\\site-packages\\torch\\nn\\modules\\container.py:141: UserWarning: Implicit dimension choice for softmax has been deprecated. Change the call to include dim=X as an argument.\n",
      "  input = module(input)\n"
     ]
    },
    {
     "name": "stdout",
     "output_type": "stream",
     "text": [
      "Step [10/26]\t loss_instance: 4.388931751251221\t loss_cluster: 1.6244944334030151\n",
      "Step [20/26]\t loss_instance: 4.376638412475586\t loss_cluster: 1.6122218370437622\n",
      "\n",
      "Epoch [220/250]\t Loss: 5.99255554492657 \n",
      "\n",
      "Step [0/6]\t Computing features...\n",
      "Features shape (1536,)\n",
      "(1536,) (1536, 1)\n",
      "Test NMI = 0.5708 ARI = 0.3092 F = 0.4351 ACC = 0.3776\n",
      "================================================================\n",
      "\n"
     ]
    },
    {
     "name": "stderr",
     "output_type": "stream",
     "text": [
      "D:\\Environment\\Conda\\envs\\torchenv\\lib\\site-packages\\torch\\nn\\modules\\container.py:141: UserWarning: Implicit dimension choice for softmax has been deprecated. Change the call to include dim=X as an argument.\n",
      "  input = module(input)\n"
     ]
    },
    {
     "name": "stdout",
     "output_type": "stream",
     "text": [
      "Step [0/26]\t loss_instance: 4.369436740875244\t loss_cluster: 1.6345055103302002\n",
      "Step [10/26]\t loss_instance: 4.369068622589111\t loss_cluster: 1.5935354232788086\n",
      "Step [20/26]\t loss_instance: 4.371702194213867\t loss_cluster: 1.623817801475525\n",
      "\n",
      "Epoch [221/250]\t Loss: 5.991641154656043 \n",
      "\n",
      "Step [0/6]\t Computing features...\n",
      "Features shape (1536,)\n",
      "(1536,) (1536, 1)\n",
      "Test NMI = 0.5694 ARI = 0.3135 F = 0.4386 ACC = 0.3815\n",
      "================================================================\n",
      "\n"
     ]
    },
    {
     "name": "stderr",
     "output_type": "stream",
     "text": [
      "D:\\Environment\\Conda\\envs\\torchenv\\lib\\site-packages\\torch\\nn\\modules\\container.py:141: UserWarning: Implicit dimension choice for softmax has been deprecated. Change the call to include dim=X as an argument.\n",
      "  input = module(input)\n"
     ]
    },
    {
     "name": "stdout",
     "output_type": "stream",
     "text": [
      "Step [0/26]\t loss_instance: 4.37528133392334\t loss_cluster: 1.5932046175003052\n",
      "Step [10/26]\t loss_instance: 4.373480796813965\t loss_cluster: 1.5856770277023315\n",
      "Step [20/26]\t loss_instance: 4.3711676597595215\t loss_cluster: 1.5953105688095093\n",
      "\n",
      "Epoch [222/250]\t Loss: 5.979506364235511 \n",
      "\n",
      "Step [0/6]\t Computing features...\n",
      "Features shape (1536,)\n",
      "(1536,) (1536, 1)\n",
      "Test NMI = 0.5697 ARI = 0.3129 F = 0.4376 ACC = 0.3854\n",
      "================================================================\n",
      "\n",
      "Step [0/26]\t loss_instance: 4.381098747253418\t loss_cluster: 1.6198099851608276\n"
     ]
    },
    {
     "name": "stderr",
     "output_type": "stream",
     "text": [
      "D:\\Environment\\Conda\\envs\\torchenv\\lib\\site-packages\\torch\\nn\\modules\\container.py:141: UserWarning: Implicit dimension choice for softmax has been deprecated. Change the call to include dim=X as an argument.\n",
      "  input = module(input)\n"
     ]
    },
    {
     "name": "stdout",
     "output_type": "stream",
     "text": [
      "Step [10/26]\t loss_instance: 4.380663871765137\t loss_cluster: 1.5896743535995483\n",
      "Step [20/26]\t loss_instance: 4.371375560760498\t loss_cluster: 1.5855672359466553\n",
      "\n",
      "Epoch [223/250]\t Loss: 5.983279539988591 \n",
      "\n",
      "Step [0/6]\t Computing features...\n",
      "Features shape (1536,)\n",
      "(1536,) (1536, 1)\n",
      "Test NMI = 0.5622 ARI = 0.3066 F = 0.4321 ACC = 0.3861\n",
      "================================================================\n",
      "\n"
     ]
    },
    {
     "name": "stderr",
     "output_type": "stream",
     "text": [
      "D:\\Environment\\Conda\\envs\\torchenv\\lib\\site-packages\\torch\\nn\\modules\\container.py:141: UserWarning: Implicit dimension choice for softmax has been deprecated. Change the call to include dim=X as an argument.\n",
      "  input = module(input)\n"
     ]
    },
    {
     "name": "stdout",
     "output_type": "stream",
     "text": [
      "Step [0/26]\t loss_instance: 4.38422966003418\t loss_cluster: 1.604038119316101\n",
      "Step [10/26]\t loss_instance: 4.382735729217529\t loss_cluster: 1.618453860282898\n",
      "Step [20/26]\t loss_instance: 4.380595684051514\t loss_cluster: 1.6045304536819458\n",
      "\n",
      "Epoch [224/250]\t Loss: 5.984424407665546 \n",
      "\n",
      "Step [0/6]\t Computing features...\n",
      "Features shape (1536,)\n",
      "(1536,) (1536, 1)\n",
      "Test NMI = 0.5734 ARI = 0.3175 F = 0.4407 ACC = 0.3848\n",
      "================================================================\n",
      "\n",
      "Step [0/26]\t loss_instance: 4.366069793701172\t loss_cluster: 1.641197681427002\n"
     ]
    },
    {
     "name": "stderr",
     "output_type": "stream",
     "text": [
      "D:\\Environment\\Conda\\envs\\torchenv\\lib\\site-packages\\torch\\nn\\modules\\container.py:141: UserWarning: Implicit dimension choice for softmax has been deprecated. Change the call to include dim=X as an argument.\n",
      "  input = module(input)\n"
     ]
    },
    {
     "name": "stdout",
     "output_type": "stream",
     "text": [
      "Step [10/26]\t loss_instance: 4.369436740875244\t loss_cluster: 1.5924798250198364\n",
      "Step [20/26]\t loss_instance: 4.380852699279785\t loss_cluster: 1.6246960163116455\n",
      "\n",
      "Epoch [225/250]\t Loss: 5.981791954774123 \n",
      "\n",
      "Step [0/6]\t Computing features...\n",
      "Features shape (1536,)\n",
      "(1536,) (1536, 1)\n",
      "Test NMI = 0.5688 ARI = 0.3110 F = 0.4364 ACC = 0.3880\n",
      "================================================================\n",
      "\n"
     ]
    },
    {
     "name": "stderr",
     "output_type": "stream",
     "text": [
      "D:\\Environment\\Conda\\envs\\torchenv\\lib\\site-packages\\torch\\nn\\modules\\container.py:141: UserWarning: Implicit dimension choice for softmax has been deprecated. Change the call to include dim=X as an argument.\n",
      "  input = module(input)\n"
     ]
    },
    {
     "name": "stdout",
     "output_type": "stream",
     "text": [
      "Step [0/26]\t loss_instance: 4.3806233406066895\t loss_cluster: 1.599148154258728\n",
      "Step [10/26]\t loss_instance: 4.3681488037109375\t loss_cluster: 1.6173756122589111\n",
      "Step [20/26]\t loss_instance: 4.373722076416016\t loss_cluster: 1.6235045194625854\n",
      "\n",
      "Epoch [226/250]\t Loss: 5.982785976850069 \n",
      "\n",
      "Step [0/6]\t Computing features...\n",
      "Features shape (1536,)\n",
      "(1536,) (1536, 1)\n",
      "Test NMI = 0.5628 ARI = 0.3042 F = 0.4279 ACC = 0.3704\n",
      "================================================================\n",
      "\n"
     ]
    },
    {
     "name": "stderr",
     "output_type": "stream",
     "text": [
      "D:\\Environment\\Conda\\envs\\torchenv\\lib\\site-packages\\torch\\nn\\modules\\container.py:141: UserWarning: Implicit dimension choice for softmax has been deprecated. Change the call to include dim=X as an argument.\n",
      "  input = module(input)\n"
     ]
    },
    {
     "name": "stdout",
     "output_type": "stream",
     "text": [
      "Step [0/26]\t loss_instance: 4.3790483474731445\t loss_cluster: 1.5835145711898804\n",
      "Step [10/26]\t loss_instance: 4.378844738006592\t loss_cluster: 1.6086196899414062\n",
      "Step [20/26]\t loss_instance: 4.376706123352051\t loss_cluster: 1.5999938249588013\n",
      "\n",
      "Epoch [227/250]\t Loss: 5.985563498276931 \n",
      "\n",
      "Step [0/6]\t Computing features...\n",
      "Features shape (1536,)\n",
      "(1536,) (1536, 1)\n",
      "Test NMI = 0.5768 ARI = 0.3151 F = 0.4403 ACC = 0.3848\n",
      "================================================================\n",
      "\n"
     ]
    },
    {
     "name": "stderr",
     "output_type": "stream",
     "text": [
      "D:\\Environment\\Conda\\envs\\torchenv\\lib\\site-packages\\torch\\nn\\modules\\container.py:141: UserWarning: Implicit dimension choice for softmax has been deprecated. Change the call to include dim=X as an argument.\n",
      "  input = module(input)\n"
     ]
    },
    {
     "name": "stdout",
     "output_type": "stream",
     "text": [
      "Step [0/26]\t loss_instance: 4.384519577026367\t loss_cluster: 1.6134240627288818\n",
      "Step [10/26]\t loss_instance: 4.365509986877441\t loss_cluster: 1.6084917783737183\n",
      "Step [20/26]\t loss_instance: 4.38620662689209\t loss_cluster: 1.623910665512085\n",
      "\n",
      "Epoch [228/250]\t Loss: 5.987819213133592 \n",
      "\n",
      "Step [0/6]\t Computing features...\n",
      "Features shape (1536,)\n",
      "(1536,) (1536, 1)\n",
      "Test NMI = 0.5656 ARI = 0.3099 F = 0.4342 ACC = 0.3802\n",
      "================================================================\n",
      "\n"
     ]
    },
    {
     "name": "stderr",
     "output_type": "stream",
     "text": [
      "D:\\Environment\\Conda\\envs\\torchenv\\lib\\site-packages\\torch\\nn\\modules\\container.py:141: UserWarning: Implicit dimension choice for softmax has been deprecated. Change the call to include dim=X as an argument.\n",
      "  input = module(input)\n"
     ]
    },
    {
     "name": "stdout",
     "output_type": "stream",
     "text": [
      "Step [0/26]\t loss_instance: 4.370473384857178\t loss_cluster: 1.60367751121521\n",
      "Step [10/26]\t loss_instance: 4.371001243591309\t loss_cluster: 1.6220924854278564\n",
      "Step [20/26]\t loss_instance: 4.373144149780273\t loss_cluster: 1.6025205850601196\n",
      "\n",
      "Epoch [229/250]\t Loss: 5.982899170655471 \n",
      "\n",
      "Step [0/6]\t Computing features...\n",
      "Features shape (1536,)\n",
      "(1536,) (1536, 1)\n",
      "Test NMI = 0.5667 ARI = 0.3128 F = 0.4374 ACC = 0.3848\n",
      "================================================================\n",
      "\n"
     ]
    },
    {
     "name": "stderr",
     "output_type": "stream",
     "text": [
      "D:\\Environment\\Conda\\envs\\torchenv\\lib\\site-packages\\torch\\nn\\modules\\container.py:141: UserWarning: Implicit dimension choice for softmax has been deprecated. Change the call to include dim=X as an argument.\n",
      "  input = module(input)\n"
     ]
    },
    {
     "name": "stdout",
     "output_type": "stream",
     "text": [
      "Step [0/26]\t loss_instance: 4.373845100402832\t loss_cluster: 1.6080517768859863\n",
      "Step [10/26]\t loss_instance: 4.36790657043457\t loss_cluster: 1.62090003490448\n",
      "Step [20/26]\t loss_instance: 4.360106945037842\t loss_cluster: 1.641843318939209\n",
      "\n",
      "Epoch [230/250]\t Loss: 5.981877748782818 \n",
      "\n",
      "Step [0/6]\t Computing features...\n",
      "Features shape (1536,)\n",
      "(1536,) (1536, 1)\n",
      "Test NMI = 0.5719 ARI = 0.3145 F = 0.4390 ACC = 0.3880\n",
      "================================================================\n",
      "\n"
     ]
    },
    {
     "name": "stderr",
     "output_type": "stream",
     "text": [
      "D:\\Environment\\Conda\\envs\\torchenv\\lib\\site-packages\\torch\\nn\\modules\\container.py:141: UserWarning: Implicit dimension choice for softmax has been deprecated. Change the call to include dim=X as an argument.\n",
      "  input = module(input)\n"
     ]
    },
    {
     "name": "stdout",
     "output_type": "stream",
     "text": [
      "Step [0/26]\t loss_instance: 4.376965522766113\t loss_cluster: 1.6084731817245483\n",
      "Step [10/26]\t loss_instance: 4.3816399574279785\t loss_cluster: 1.6014803647994995\n",
      "Step [20/26]\t loss_instance: 4.373695373535156\t loss_cluster: 1.5957622528076172\n",
      "\n",
      "Epoch [231/250]\t Loss: 5.984758633833665 \n",
      "\n",
      "Step [0/6]\t Computing features...\n",
      "Features shape (1536,)\n",
      "(1536,) (1536, 1)\n",
      "Test NMI = 0.5696 ARI = 0.3130 F = 0.4375 ACC = 0.3867\n",
      "================================================================\n",
      "\n",
      "Step [0/26]\t loss_instance: 4.3688459396362305\t loss_cluster: 1.626560926437378\n"
     ]
    },
    {
     "name": "stderr",
     "output_type": "stream",
     "text": [
      "D:\\Environment\\Conda\\envs\\torchenv\\lib\\site-packages\\torch\\nn\\modules\\container.py:141: UserWarning: Implicit dimension choice for softmax has been deprecated. Change the call to include dim=X as an argument.\n",
      "  input = module(input)\n"
     ]
    },
    {
     "name": "stdout",
     "output_type": "stream",
     "text": [
      "Step [10/26]\t loss_instance: 4.37279748916626\t loss_cluster: 1.6189738512039185\n",
      "Step [20/26]\t loss_instance: 4.377732753753662\t loss_cluster: 1.6052322387695312\n",
      "\n",
      "Epoch [232/250]\t Loss: 5.982336025971633 \n",
      "\n",
      "Step [0/6]\t Computing features...\n",
      "Features shape (1536,)\n",
      "(1536,) (1536, 1)\n",
      "Test NMI = 0.5741 ARI = 0.3120 F = 0.4358 ACC = 0.3802\n",
      "================================================================\n",
      "\n",
      "Step [0/26]\t loss_instance: 4.370141983032227\t loss_cluster: 1.601813554763794\n"
     ]
    },
    {
     "name": "stderr",
     "output_type": "stream",
     "text": [
      "D:\\Environment\\Conda\\envs\\torchenv\\lib\\site-packages\\torch\\nn\\modules\\container.py:141: UserWarning: Implicit dimension choice for softmax has been deprecated. Change the call to include dim=X as an argument.\n",
      "  input = module(input)\n"
     ]
    },
    {
     "name": "stdout",
     "output_type": "stream",
     "text": [
      "Step [10/26]\t loss_instance: 4.3828206062316895\t loss_cluster: 1.6182912588119507\n",
      "Step [20/26]\t loss_instance: 4.360147476196289\t loss_cluster: 1.6070619821548462\n",
      "\n",
      "Epoch [233/250]\t Loss: 5.979823277546809 \n",
      "\n",
      "Step [0/6]\t Computing features...\n",
      "Features shape (1536,)\n",
      "(1536,) (1536, 1)\n",
      "Test NMI = 0.5720 ARI = 0.3102 F = 0.4353 ACC = 0.3874\n",
      "================================================================\n",
      "\n"
     ]
    },
    {
     "name": "stderr",
     "output_type": "stream",
     "text": [
      "D:\\Environment\\Conda\\envs\\torchenv\\lib\\site-packages\\torch\\nn\\modules\\container.py:141: UserWarning: Implicit dimension choice for softmax has been deprecated. Change the call to include dim=X as an argument.\n",
      "  input = module(input)\n"
     ]
    },
    {
     "name": "stdout",
     "output_type": "stream",
     "text": [
      "Step [0/26]\t loss_instance: 4.374375343322754\t loss_cluster: 1.6087102890014648\n",
      "Step [10/26]\t loss_instance: 4.371555328369141\t loss_cluster: 1.5962263345718384\n",
      "Step [20/26]\t loss_instance: 4.366220474243164\t loss_cluster: 1.6066666841506958\n",
      "\n",
      "Epoch [234/250]\t Loss: 5.9814219291393576 \n",
      "\n",
      "Step [0/6]\t Computing features...\n",
      "Features shape (1536,)\n",
      "(1536,) (1536, 1)\n",
      "Test NMI = 0.5704 ARI = 0.3112 F = 0.4358 ACC = 0.3854\n",
      "================================================================\n",
      "\n",
      "Step [0/26]\t loss_instance: 4.377745151519775\t loss_cluster: 1.5822092294692993\n"
     ]
    },
    {
     "name": "stderr",
     "output_type": "stream",
     "text": [
      "D:\\Environment\\Conda\\envs\\torchenv\\lib\\site-packages\\torch\\nn\\modules\\container.py:141: UserWarning: Implicit dimension choice for softmax has been deprecated. Change the call to include dim=X as an argument.\n",
      "  input = module(input)\n"
     ]
    },
    {
     "name": "stdout",
     "output_type": "stream",
     "text": [
      "Step [10/26]\t loss_instance: 4.369491100311279\t loss_cluster: 1.5989187955856323\n",
      "Step [20/26]\t loss_instance: 4.3711323738098145\t loss_cluster: 1.6143224239349365\n",
      "\n",
      "Epoch [235/250]\t Loss: 5.976525600139912 \n",
      "\n",
      "Step [0/6]\t Computing features...\n",
      "Features shape (1536,)\n",
      "(1536,) (1536, 1)\n",
      "Test NMI = 0.5707 ARI = 0.3122 F = 0.4382 ACC = 0.3913\n",
      "================================================================\n",
      "\n",
      "Step [0/26]\t loss_instance: 4.36869478225708\t loss_cluster: 1.605146884918213\n"
     ]
    },
    {
     "name": "stderr",
     "output_type": "stream",
     "text": [
      "D:\\Environment\\Conda\\envs\\torchenv\\lib\\site-packages\\torch\\nn\\modules\\container.py:141: UserWarning: Implicit dimension choice for softmax has been deprecated. Change the call to include dim=X as an argument.\n",
      "  input = module(input)\n"
     ]
    },
    {
     "name": "stdout",
     "output_type": "stream",
     "text": [
      "Step [10/26]\t loss_instance: 4.367750644683838\t loss_cluster: 1.5872278213500977\n",
      "Step [20/26]\t loss_instance: 4.379309177398682\t loss_cluster: 1.5807950496673584\n",
      "\n",
      "Epoch [236/250]\t Loss: 5.979382056456346 \n",
      "\n",
      "Step [0/6]\t Computing features...\n",
      "Features shape (1536,)\n",
      "(1536,) (1536, 1)\n",
      "Test NMI = 0.5664 ARI = 0.3103 F = 0.4354 ACC = 0.3919\n",
      "================================================================\n",
      "\n"
     ]
    },
    {
     "name": "stderr",
     "output_type": "stream",
     "text": [
      "D:\\Environment\\Conda\\envs\\torchenv\\lib\\site-packages\\torch\\nn\\modules\\container.py:141: UserWarning: Implicit dimension choice for softmax has been deprecated. Change the call to include dim=X as an argument.\n",
      "  input = module(input)\n"
     ]
    },
    {
     "name": "stdout",
     "output_type": "stream",
     "text": [
      "Step [0/26]\t loss_instance: 4.358891010284424\t loss_cluster: 1.6043262481689453\n",
      "Step [10/26]\t loss_instance: 4.376115798950195\t loss_cluster: 1.5854743719100952\n",
      "Step [20/26]\t loss_instance: 4.3786725997924805\t loss_cluster: 1.6141421794891357\n",
      "\n",
      "Epoch [237/250]\t Loss: 5.983781576156616 \n",
      "\n",
      "Step [0/6]\t Computing features...\n",
      "Features shape (1536,)\n",
      "(1536,) (1536, 1)\n",
      "Test NMI = 0.5663 ARI = 0.3115 F = 0.4373 ACC = 0.3809\n",
      "================================================================\n",
      "\n"
     ]
    },
    {
     "name": "stderr",
     "output_type": "stream",
     "text": [
      "D:\\Environment\\Conda\\envs\\torchenv\\lib\\site-packages\\torch\\nn\\modules\\container.py:141: UserWarning: Implicit dimension choice for softmax has been deprecated. Change the call to include dim=X as an argument.\n",
      "  input = module(input)\n"
     ]
    },
    {
     "name": "stdout",
     "output_type": "stream",
     "text": [
      "Step [0/26]\t loss_instance: 4.3739013671875\t loss_cluster: 1.6182326078414917\n",
      "Step [10/26]\t loss_instance: 4.363683223724365\t loss_cluster: 1.5867327451705933\n",
      "Step [20/26]\t loss_instance: 4.364903450012207\t loss_cluster: 1.6429184675216675\n",
      "\n",
      "Epoch [238/250]\t Loss: 5.9771189873035135 \n",
      "\n",
      "Step [0/6]\t Computing features...\n",
      "Features shape (1536,)\n",
      "(1536,) (1536, 1)\n",
      "Test NMI = 0.5664 ARI = 0.3083 F = 0.4348 ACC = 0.3809\n",
      "================================================================\n",
      "\n",
      "Step [0/26]\t loss_instance: 4.370223522186279\t loss_cluster: 1.586326241493225\n"
     ]
    },
    {
     "name": "stderr",
     "output_type": "stream",
     "text": [
      "D:\\Environment\\Conda\\envs\\torchenv\\lib\\site-packages\\torch\\nn\\modules\\container.py:141: UserWarning: Implicit dimension choice for softmax has been deprecated. Change the call to include dim=X as an argument.\n",
      "  input = module(input)\n"
     ]
    },
    {
     "name": "stdout",
     "output_type": "stream",
     "text": [
      "Step [10/26]\t loss_instance: 4.371358394622803\t loss_cluster: 1.615885853767395\n",
      "Step [20/26]\t loss_instance: 4.369623184204102\t loss_cluster: 1.5957151651382446\n",
      "\n",
      "Epoch [239/250]\t Loss: 5.972394686478835 \n",
      "\n",
      "Step [0/6]\t Computing features...\n",
      "Features shape (1536,)\n",
      "(1536,) (1536, 1)\n",
      "Test NMI = 0.5659 ARI = 0.3078 F = 0.4324 ACC = 0.3789\n",
      "================================================================\n",
      "\n"
     ]
    },
    {
     "name": "stderr",
     "output_type": "stream",
     "text": [
      "D:\\Environment\\Conda\\envs\\torchenv\\lib\\site-packages\\torch\\nn\\modules\\container.py:141: UserWarning: Implicit dimension choice for softmax has been deprecated. Change the call to include dim=X as an argument.\n",
      "  input = module(input)\n"
     ]
    },
    {
     "name": "stdout",
     "output_type": "stream",
     "text": [
      "Step [0/26]\t loss_instance: 4.371713161468506\t loss_cluster: 1.5841875076293945\n",
      "Step [10/26]\t loss_instance: 4.380086421966553\t loss_cluster: 1.6494439840316772\n",
      "Step [20/26]\t loss_instance: 4.3906450271606445\t loss_cluster: 1.6287152767181396\n",
      "\n",
      "Epoch [240/250]\t Loss: 5.983798558895405 \n",
      "\n",
      "Step [0/6]\t Computing features...\n",
      "Features shape (1536,)\n",
      "(1536,) (1536, 1)\n",
      "Test NMI = 0.5720 ARI = 0.3156 F = 0.4384 ACC = 0.3874\n",
      "================================================================\n",
      "\n"
     ]
    },
    {
     "name": "stderr",
     "output_type": "stream",
     "text": [
      "D:\\Environment\\Conda\\envs\\torchenv\\lib\\site-packages\\torch\\nn\\modules\\container.py:141: UserWarning: Implicit dimension choice for softmax has been deprecated. Change the call to include dim=X as an argument.\n",
      "  input = module(input)\n"
     ]
    },
    {
     "name": "stdout",
     "output_type": "stream",
     "text": [
      "Step [0/26]\t loss_instance: 4.374382972717285\t loss_cluster: 1.5748918056488037\n",
      "Step [10/26]\t loss_instance: 4.368283748626709\t loss_cluster: 1.610172986984253\n",
      "Step [20/26]\t loss_instance: 4.374416828155518\t loss_cluster: 1.6130708456039429\n",
      "\n",
      "Epoch [241/250]\t Loss: 5.974347848158616 \n",
      "\n",
      "Step [0/6]\t Computing features...\n",
      "Features shape (1536,)\n",
      "(1536,) (1536, 1)\n",
      "Test NMI = 0.5662 ARI = 0.3088 F = 0.4355 ACC = 0.3796\n",
      "================================================================\n",
      "\n"
     ]
    },
    {
     "name": "stderr",
     "output_type": "stream",
     "text": [
      "D:\\Environment\\Conda\\envs\\torchenv\\lib\\site-packages\\torch\\nn\\modules\\container.py:141: UserWarning: Implicit dimension choice for softmax has been deprecated. Change the call to include dim=X as an argument.\n",
      "  input = module(input)\n"
     ]
    },
    {
     "name": "stdout",
     "output_type": "stream",
     "text": [
      "Step [0/26]\t loss_instance: 4.3700947761535645\t loss_cluster: 1.5867173671722412\n",
      "Step [10/26]\t loss_instance: 4.365549564361572\t loss_cluster: 1.5921686887741089\n",
      "Step [20/26]\t loss_instance: 4.380742073059082\t loss_cluster: 1.5946568250656128\n",
      "\n",
      "Epoch [242/250]\t Loss: 5.972271259014423 \n",
      "\n",
      "Step [0/6]\t Computing features...\n",
      "Features shape (1536,)\n",
      "(1536,) (1536, 1)\n",
      "Test NMI = 0.5689 ARI = 0.3102 F = 0.4343 ACC = 0.3887\n",
      "================================================================\n",
      "\n",
      "Step [0/26]\t loss_instance: 4.37540340423584\t loss_cluster: 1.6057138442993164\n"
     ]
    },
    {
     "name": "stderr",
     "output_type": "stream",
     "text": [
      "D:\\Environment\\Conda\\envs\\torchenv\\lib\\site-packages\\torch\\nn\\modules\\container.py:141: UserWarning: Implicit dimension choice for softmax has been deprecated. Change the call to include dim=X as an argument.\n",
      "  input = module(input)\n"
     ]
    },
    {
     "name": "stdout",
     "output_type": "stream",
     "text": [
      "Step [10/26]\t loss_instance: 4.3634867668151855\t loss_cluster: 1.6093913316726685\n",
      "Step [20/26]\t loss_instance: 4.368560791015625\t loss_cluster: 1.570667028427124\n",
      "\n",
      "Epoch [243/250]\t Loss: 5.972400701962984 \n",
      "\n",
      "Step [0/6]\t Computing features...\n",
      "Features shape (1536,)\n",
      "(1536,) (1536, 1)\n",
      "Test NMI = 0.5694 ARI = 0.3108 F = 0.4355 ACC = 0.3815\n",
      "================================================================\n",
      "\n",
      "Step [0/26]\t loss_instance: 4.365906238555908\t loss_cluster: 1.6026445627212524\n"
     ]
    },
    {
     "name": "stderr",
     "output_type": "stream",
     "text": [
      "D:\\Environment\\Conda\\envs\\torchenv\\lib\\site-packages\\torch\\nn\\modules\\container.py:141: UserWarning: Implicit dimension choice for softmax has been deprecated. Change the call to include dim=X as an argument.\n",
      "  input = module(input)\n"
     ]
    },
    {
     "name": "stdout",
     "output_type": "stream",
     "text": [
      "Step [10/26]\t loss_instance: 4.36798095703125\t loss_cluster: 1.576777696609497\n",
      "Step [20/26]\t loss_instance: 4.379205226898193\t loss_cluster: 1.5929371118545532\n",
      "\n",
      "Epoch [244/250]\t Loss: 5.967438881213848 \n",
      "\n",
      "Step [0/6]\t Computing features...\n",
      "Features shape (1536,)\n",
      "(1536,) (1536, 1)\n",
      "Test NMI = 0.5678 ARI = 0.3142 F = 0.4376 ACC = 0.3926\n",
      "================================================================\n",
      "\n",
      "Step [0/26]\t loss_instance: 4.3775315284729\t loss_cluster: 1.6104857921600342\n"
     ]
    },
    {
     "name": "stderr",
     "output_type": "stream",
     "text": [
      "D:\\Environment\\Conda\\envs\\torchenv\\lib\\site-packages\\torch\\nn\\modules\\container.py:141: UserWarning: Implicit dimension choice for softmax has been deprecated. Change the call to include dim=X as an argument.\n",
      "  input = module(input)\n"
     ]
    },
    {
     "name": "stdout",
     "output_type": "stream",
     "text": [
      "Step [10/26]\t loss_instance: 4.3820295333862305\t loss_cluster: 1.598083734512329\n",
      "Step [20/26]\t loss_instance: 4.368968486785889\t loss_cluster: 1.5758554935455322\n",
      "\n",
      "Epoch [245/250]\t Loss: 5.9713836816641 \n",
      "\n",
      "Step [0/6]\t Computing features...\n",
      "Features shape (1536,)\n",
      "(1536,) (1536, 1)\n",
      "Test NMI = 0.5697 ARI = 0.3090 F = 0.4347 ACC = 0.3802\n",
      "================================================================\n",
      "\n",
      "Step [0/26]\t loss_instance: 4.372797966003418\t loss_cluster: 1.589234471321106\n"
     ]
    },
    {
     "name": "stderr",
     "output_type": "stream",
     "text": [
      "D:\\Environment\\Conda\\envs\\torchenv\\lib\\site-packages\\torch\\nn\\modules\\container.py:141: UserWarning: Implicit dimension choice for softmax has been deprecated. Change the call to include dim=X as an argument.\n",
      "  input = module(input)\n"
     ]
    },
    {
     "name": "stdout",
     "output_type": "stream",
     "text": [
      "Step [10/26]\t loss_instance: 4.364960193634033\t loss_cluster: 1.6303271055221558\n",
      "Step [20/26]\t loss_instance: 4.371490955352783\t loss_cluster: 1.6185551881790161\n",
      "\n",
      "Epoch [246/250]\t Loss: 5.976219727442815 \n",
      "\n",
      "Step [0/6]\t Computing features...\n",
      "Features shape (1536,)\n",
      "(1536,) (1536, 1)\n",
      "Test NMI = 0.5710 ARI = 0.3120 F = 0.4394 ACC = 0.3809\n",
      "================================================================\n",
      "\n"
     ]
    },
    {
     "name": "stderr",
     "output_type": "stream",
     "text": [
      "D:\\Environment\\Conda\\envs\\torchenv\\lib\\site-packages\\torch\\nn\\modules\\container.py:141: UserWarning: Implicit dimension choice for softmax has been deprecated. Change the call to include dim=X as an argument.\n",
      "  input = module(input)\n"
     ]
    },
    {
     "name": "stdout",
     "output_type": "stream",
     "text": [
      "Step [0/26]\t loss_instance: 4.364872455596924\t loss_cluster: 1.6074188947677612\n",
      "Step [10/26]\t loss_instance: 4.371944427490234\t loss_cluster: 1.6144195795059204\n",
      "Step [20/26]\t loss_instance: 4.3656229972839355\t loss_cluster: 1.6111478805541992\n",
      "\n",
      "Epoch [247/250]\t Loss: 5.972186638758733 \n",
      "\n",
      "Step [0/6]\t Computing features...\n",
      "Features shape (1536,)\n",
      "(1536,) (1536, 1)\n",
      "Test NMI = 0.5729 ARI = 0.3182 F = 0.4414 ACC = 0.3867\n",
      "================================================================\n",
      "\n"
     ]
    },
    {
     "name": "stderr",
     "output_type": "stream",
     "text": [
      "D:\\Environment\\Conda\\envs\\torchenv\\lib\\site-packages\\torch\\nn\\modules\\container.py:141: UserWarning: Implicit dimension choice for softmax has been deprecated. Change the call to include dim=X as an argument.\n",
      "  input = module(input)\n"
     ]
    },
    {
     "name": "stdout",
     "output_type": "stream",
     "text": [
      "Step [0/26]\t loss_instance: 4.372996807098389\t loss_cluster: 1.6296131610870361\n",
      "Step [10/26]\t loss_instance: 4.365411758422852\t loss_cluster: 1.5749170780181885\n",
      "Step [20/26]\t loss_instance: 4.366946697235107\t loss_cluster: 1.5968440771102905\n",
      "\n",
      "Epoch [248/250]\t Loss: 5.9727298113015985 \n",
      "\n",
      "Step [0/6]\t Computing features...\n",
      "Features shape (1536,)\n",
      "(1536,) (1536, 1)\n",
      "Test NMI = 0.5642 ARI = 0.3084 F = 0.4336 ACC = 0.3887\n",
      "================================================================\n",
      "\n",
      "Step [0/26]\t loss_instance: 4.370662689208984\t loss_cluster: 1.588802456855774\n"
     ]
    },
    {
     "name": "stderr",
     "output_type": "stream",
     "text": [
      "D:\\Environment\\Conda\\envs\\torchenv\\lib\\site-packages\\torch\\nn\\modules\\container.py:141: UserWarning: Implicit dimension choice for softmax has been deprecated. Change the call to include dim=X as an argument.\n",
      "  input = module(input)\n"
     ]
    },
    {
     "name": "stdout",
     "output_type": "stream",
     "text": [
      "Step [10/26]\t loss_instance: 4.381346702575684\t loss_cluster: 1.5924327373504639\n",
      "Step [20/26]\t loss_instance: 4.371513366699219\t loss_cluster: 1.6055887937545776\n",
      "\n",
      "Epoch [249/250]\t Loss: 5.973022699356079 \n",
      "\n",
      "Step [0/6]\t Computing features...\n",
      "Features shape (1536,)\n",
      "(1536,) (1536, 1)\n",
      "Test NMI = 0.5748 ARI = 0.3122 F = 0.4375 ACC = 0.3867\n",
      "================================================================\n",
      "\n"
     ]
    }
   ],
   "source": [
    "loss_device=torch.device('cuda')\n",
    "instance_loss=InstanceLoss(batch_size=args.batch_size,temperature=0.5,device=loss_device)\n",
    "cluster_loss=ClusterLoss(class_num=class_num,temperature=0.5,device=loss_device)\n",
    "accs=[]\n",
    "losses=[]\n",
    "for epoch in range(args.start_epoch, args.epochs):\n",
    "    lr = optimizer.param_groups[0][\"lr\"]\n",
    "    loss_epoch = train(instance_loss,cluster_loss,loss_device)\n",
    "    losses.append(loss_epoch/len(scTrainDataLoader))\n",
    "    if epoch % 10 == 0:\n",
    "        save_model(args, model, optimizer, epoch)\n",
    "    print(f\"\\nEpoch [{epoch}/{args.epochs}]\\t Loss: {loss_epoch / len(scTrainDataLoader)} \\n\")\n",
    "    nmi, ari, f, acc = test()\n",
    "    accs.append(acc)\n",
    "    print('Test NMI = {:.4f} ARI = {:.4f} F = {:.4f} ACC = {:.4f}'.format(nmi, ari, f, acc))\n",
    "    print('========'*8+'\\n')"
   ],
   "metadata": {
    "collapsed": false,
    "pycharm": {
     "name": "#%%\n"
    }
   }
  },
  {
   "cell_type": "code",
   "execution_count": 64,
   "outputs": [
    {
     "data": {
      "text/plain": "<Figure size 864x288 with 2 Axes>",
      "image/png": "[encoded data removed]"
     },
     "metadata": {
      "needs_background": "light"
     },
     "output_type": "display_data"
    }
   ],
   "source": [
    "from matplotlib import pyplot as plt\n",
    "\n",
    "f, ax = plt.subplots(nrows=1, ncols=2, figsize=(12, 4))\n",
    "ax[0].plot(accs)\n",
    "ax[0].set_title('Accuracy during Validation')\n",
    "ax[1].plot(losses)\n",
    "ax[1].set_title('Loss during Training')\n",
    "\n",
    "plt.subplots_adjust(top=0.85)\n",
    "plt.suptitle('Result')\n",
    "plt.show()"
   ],
   "metadata": {
    "collapsed": false,
    "pycharm": {
     "name": "#%%\n"
    }
   }
  }
 ],
 "metadata": {
  "kernelspec": {
   "display_name": "Python 3",
   "language": "python",
   "name": "python3"
  },
  "language_info": {
   "codemirror_mode": {
    "name": "ipython",
    "version": 2
   },
   "file_extension": ".py",
   "mimetype": "text/x-python",
   "name": "python",
   "nbconvert_exporter": "python",
   "pygments_lexer": "ipython2",
   "version": "2.7.6"
  }
 },
 "nbformat": 4,
 "nbformat_minor": 0
}