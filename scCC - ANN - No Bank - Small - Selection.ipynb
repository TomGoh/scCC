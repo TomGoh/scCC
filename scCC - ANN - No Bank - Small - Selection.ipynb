{
 "cells": [
  {
   "cell_type": "code",
   "execution_count": 1,
   "metadata": {
    "collapsed": false,
    "pycharm": {
     "name": "#%%\n"
    }
   },
   "outputs": [],
   "source": [
    "from torch import nn\n",
    "import torch\n",
    "import argparse\n",
    "import numpy as np\n",
    "import pandas as pd\n",
    "import scanpy as sc\n",
    "import os\n",
    "import anndata\n",
    "import math\n",
    "import hnswlib\n",
    "# import warnings\n",
    "# warnings.filterwarnings(\"ignore\", category=UserWarning)"
   ]
  },
  {
   "cell_type": "code",
   "execution_count": 2,
   "metadata": {
    "collapsed": false,
    "pycharm": {
     "name": "#%%\n"
    }
   },
   "outputs": [],
   "source": [
    "from modules import network,mlp\n",
    "from utils import yaml_config_hook,save_model\n",
    "\n",
    "parser = argparse.ArgumentParser()\n",
    "config = yaml_config_hook(\"config/config.yaml\")\n",
    "for k, v in config.items():\n",
    "    parser.add_argument(f\"--{k}\", default=v, type=type(v))\n",
    "args = parser.parse_args([])\n",
    "if not os.path.exists(args.model_path):\n",
    "    os.makedirs(args.model_path)\n",
    "\n",
    "# torch.manual_seed(args.seed)\n",
    "# torch.cuda.manual_seed_all(args.seed)\n",
    "# torch.cuda.manual_seed(args.seed)\n",
    "# np.random.seed(args.seed)\n",
    "class_num = args.classnum"
   ]
  },
  {
   "cell_type": "code",
   "execution_count": 3,
   "metadata": {
    "collapsed": false,
    "pycharm": {
     "name": "#%%\n"
    }
   },
   "outputs": [
    {
     "name": "stderr",
     "output_type": "stream",
     "text": [
      "C:\\Users\\Tom-G\\.conda\\envs\\torchenv\\lib\\site-packages\\anndata\\_core\\anndata.py:107: FutureWarning: elementwise comparison failed; returning scalar instead, but in the future will perform elementwise comparison\n",
      "  if index_name in anno:\n"
     ]
    },
    {
     "name": "stdout",
     "output_type": "stream",
     "text": [
      "(8569, 500) (8569, 1)\n"
     ]
    },
    {
     "data": {
      "text/html": [
       "<div>\n",
       "<style scoped>\n",
       "    .dataframe tbody tr th:only-of-type {\n",
       "        vertical-align: middle;\n",
       "    }\n",
       "\n",
       "    .dataframe tbody tr th {\n",
       "        vertical-align: top;\n",
       "    }\n",
       "\n",
       "    .dataframe thead th {\n",
       "        text-align: right;\n",
       "    }\n",
       "</style>\n",
       "<table border=\"1\" class=\"dataframe\">\n",
       "  <thead>\n",
       "    <tr style=\"text-align: right;\">\n",
       "      <th></th>\n",
       "      <th>10</th>\n",
       "      <th>133</th>\n",
       "      <th>156</th>\n",
       "      <th>178</th>\n",
       "      <th>204</th>\n",
       "      <th>205</th>\n",
       "      <th>241</th>\n",
       "      <th>273</th>\n",
       "      <th>274</th>\n",
       "      <th>276</th>\n",
       "      <th>...</th>\n",
       "      <th>18662</th>\n",
       "      <th>18670</th>\n",
       "      <th>18684</th>\n",
       "      <th>18922</th>\n",
       "      <th>18923</th>\n",
       "      <th>19018</th>\n",
       "      <th>19048</th>\n",
       "      <th>19051</th>\n",
       "      <th>19158</th>\n",
       "      <th>20109</th>\n",
       "    </tr>\n",
       "  </thead>\n",
       "  <tbody>\n",
       "    <tr>\n",
       "      <th>0</th>\n",
       "      <td>1.302199</td>\n",
       "      <td>0.0</td>\n",
       "      <td>0.0000</td>\n",
       "      <td>0.0000</td>\n",
       "      <td>0.0</td>\n",
       "      <td>0.0</td>\n",
       "      <td>0.0</td>\n",
       "      <td>0.0</td>\n",
       "      <td>0.000000</td>\n",
       "      <td>0.0</td>\n",
       "      <td>...</td>\n",
       "      <td>0.0</td>\n",
       "      <td>0.000000</td>\n",
       "      <td>2.381123</td>\n",
       "      <td>0.0</td>\n",
       "      <td>0.000000</td>\n",
       "      <td>0.0</td>\n",
       "      <td>0.36896</td>\n",
       "      <td>0.0</td>\n",
       "      <td>0.0</td>\n",
       "      <td>0.0</td>\n",
       "    </tr>\n",
       "    <tr>\n",
       "      <th>1</th>\n",
       "      <td>1.351171</td>\n",
       "      <td>0.0</td>\n",
       "      <td>0.0000</td>\n",
       "      <td>0.0000</td>\n",
       "      <td>0.0</td>\n",
       "      <td>0.0</td>\n",
       "      <td>0.0</td>\n",
       "      <td>0.0</td>\n",
       "      <td>0.000000</td>\n",
       "      <td>0.0</td>\n",
       "      <td>...</td>\n",
       "      <td>0.0</td>\n",
       "      <td>0.305824</td>\n",
       "      <td>2.919360</td>\n",
       "      <td>0.0</td>\n",
       "      <td>0.000000</td>\n",
       "      <td>0.0</td>\n",
       "      <td>0.00000</td>\n",
       "      <td>0.0</td>\n",
       "      <td>0.0</td>\n",
       "      <td>0.0</td>\n",
       "    </tr>\n",
       "    <tr>\n",
       "      <th>2</th>\n",
       "      <td>0.000000</td>\n",
       "      <td>0.0</td>\n",
       "      <td>0.0000</td>\n",
       "      <td>0.0000</td>\n",
       "      <td>0.0</td>\n",
       "      <td>0.0</td>\n",
       "      <td>0.0</td>\n",
       "      <td>0.0</td>\n",
       "      <td>1.214231</td>\n",
       "      <td>0.0</td>\n",
       "      <td>...</td>\n",
       "      <td>0.0</td>\n",
       "      <td>0.000000</td>\n",
       "      <td>2.796676</td>\n",
       "      <td>0.0</td>\n",
       "      <td>0.464945</td>\n",
       "      <td>0.0</td>\n",
       "      <td>0.00000</td>\n",
       "      <td>0.0</td>\n",
       "      <td>0.0</td>\n",
       "      <td>0.0</td>\n",
       "    </tr>\n",
       "    <tr>\n",
       "      <th>3</th>\n",
       "      <td>0.000000</td>\n",
       "      <td>0.0</td>\n",
       "      <td>0.4175</td>\n",
       "      <td>0.4175</td>\n",
       "      <td>0.0</td>\n",
       "      <td>0.0</td>\n",
       "      <td>0.0</td>\n",
       "      <td>0.0</td>\n",
       "      <td>0.000000</td>\n",
       "      <td>0.0</td>\n",
       "      <td>...</td>\n",
       "      <td>0.0</td>\n",
       "      <td>0.000000</td>\n",
       "      <td>1.531937</td>\n",
       "      <td>0.0</td>\n",
       "      <td>0.000000</td>\n",
       "      <td>0.0</td>\n",
       "      <td>0.00000</td>\n",
       "      <td>0.0</td>\n",
       "      <td>0.0</td>\n",
       "      <td>0.0</td>\n",
       "    </tr>\n",
       "    <tr>\n",
       "      <th>4</th>\n",
       "      <td>0.000000</td>\n",
       "      <td>0.0</td>\n",
       "      <td>0.0000</td>\n",
       "      <td>0.0000</td>\n",
       "      <td>0.0</td>\n",
       "      <td>0.0</td>\n",
       "      <td>0.0</td>\n",
       "      <td>0.0</td>\n",
       "      <td>0.509045</td>\n",
       "      <td>0.0</td>\n",
       "      <td>...</td>\n",
       "      <td>0.0</td>\n",
       "      <td>0.000000</td>\n",
       "      <td>2.264689</td>\n",
       "      <td>0.0</td>\n",
       "      <td>0.000000</td>\n",
       "      <td>0.0</td>\n",
       "      <td>0.00000</td>\n",
       "      <td>0.0</td>\n",
       "      <td>0.0</td>\n",
       "      <td>0.0</td>\n",
       "    </tr>\n",
       "  </tbody>\n",
       "</table>\n",
       "<p>5 rows × 500 columns</p>\n",
       "</div>"
      ],
      "text/plain": [
       "         10  133     156     178  204  205  241  273       274  276  ...  \\\n",
       "0  1.302199  0.0  0.0000  0.0000  0.0  0.0  0.0  0.0  0.000000  0.0  ...   \n",
       "1  1.351171  0.0  0.0000  0.0000  0.0  0.0  0.0  0.0  0.000000  0.0  ...   \n",
       "2  0.000000  0.0  0.0000  0.0000  0.0  0.0  0.0  0.0  1.214231  0.0  ...   \n",
       "3  0.000000  0.0  0.4175  0.4175  0.0  0.0  0.0  0.0  0.000000  0.0  ...   \n",
       "4  0.000000  0.0  0.0000  0.0000  0.0  0.0  0.0  0.0  0.509045  0.0  ...   \n",
       "\n",
       "   18662     18670     18684  18922     18923  19018    19048  19051  19158  \\\n",
       "0    0.0  0.000000  2.381123    0.0  0.000000    0.0  0.36896    0.0    0.0   \n",
       "1    0.0  0.305824  2.919360    0.0  0.000000    0.0  0.00000    0.0    0.0   \n",
       "2    0.0  0.000000  2.796676    0.0  0.464945    0.0  0.00000    0.0    0.0   \n",
       "3    0.0  0.000000  1.531937    0.0  0.000000    0.0  0.00000    0.0    0.0   \n",
       "4    0.0  0.000000  2.264689    0.0  0.000000    0.0  0.00000    0.0    0.0   \n",
       "\n",
       "   20109  \n",
       "0    0.0  \n",
       "1    0.0  \n",
       "2    0.0  \n",
       "3    0.0  \n",
       "4    0.0  \n",
       "\n",
       "[5 rows x 500 columns]"
      ]
     },
     "execution_count": 3,
     "metadata": {},
     "output_type": "execute_result"
    }
   ],
   "source": [
    "import scipy.sparse\n",
    "sparse_X = scipy.sparse.load_npz('data/filtered_Counts.npz')\n",
    "annoData = pd.read_table('data/annoData.txt')\n",
    "y = annoData[\"cellIden\"].to_numpy()\n",
    "high_var_gene = args.num_genes\n",
    "# normlization and feature selection\n",
    "adataSC = anndata.AnnData(X=sparse_X, obs=np.arange(sparse_X.shape[0]), var=np.arange(sparse_X.shape[1]))\n",
    "sc.pp.filter_genes(adataSC, min_cells=10)\n",
    "adataSC.raw = adataSC\n",
    "sc.pp.highly_variable_genes(adataSC, n_top_genes=high_var_gene, flavor='seurat_v3')\n",
    "sc.pp.normalize_total(adataSC, target_sum=1e4)\n",
    "sc.pp.log1p(adataSC)\n",
    "\n",
    "adataNorm = adataSC[:, adataSC.var.highly_variable]\n",
    "dataframe = adataNorm.to_df()\n",
    "x_ndarray = dataframe.values.squeeze()\n",
    "y_ndarray = np.expand_dims(y, axis=1)\n",
    "print(x_ndarray.shape,y_ndarray.shape)\n",
    "dataframe.head()"
   ]
  },
  {
   "cell_type": "code",
   "execution_count": 4,
   "metadata": {
    "collapsed": false,
    "pycharm": {
     "name": "#%%\n"
    }
   },
   "outputs": [
    {
     "name": "stdout",
     "output_type": "stream",
     "text": [
      "500\n",
      "1024\n",
      "1024\n",
      "500\n",
      "1024\n",
      "1024\n"
     ]
    }
   ],
   "source": [
    "from torch.utils.data import DataLoader,random_split,TensorDataset\n",
    "scDataset = TensorDataset(torch.tensor(x_ndarray, dtype=torch.float32),\n",
    "                              torch.tensor(y_ndarray, dtype=torch.float32))\n",
    "\n",
    "scDataLoader = DataLoader(scDataset, shuffle=True, batch_size=args.batch_size,drop_last=True)\n",
    "\n",
    "for features, labels in scDataLoader:\n",
    "    print(len(features[-1]))\n",
    "    print(len(features))\n",
    "    print(len(labels))\n",
    "    break\n",
    "\n",
    "scGenDataLoader = DataLoader(scDataset, shuffle=False, batch_size=args.batch_size,drop_last=True)\n",
    "\n",
    "for features, labels in scDataLoader:\n",
    "    print(len(features[-1]))\n",
    "    print(len(features))\n",
    "    print(len(labels))\n",
    "    break"
   ]
  },
  {
   "cell_type": "code",
   "execution_count": 5,
   "metadata": {},
   "outputs": [
    {
     "name": "stdout",
     "output_type": "stream",
     "text": [
      "8569 500\n"
     ]
    }
   ],
   "source": [
    "num_elements=len(scDataset)\n",
    "dim=high_var_gene\n",
    "print(num_elements,dim)\n",
    "p=hnswlib.Index(space='cosine',dim=dim)\n",
    "p.init_index(max_elements=num_elements, ef_construction=100, M=16)\n",
    "p.set_ef(100)\n",
    "p.set_num_threads(4)\n",
    "p.add_items(x_ndarray)"
   ]
  },
  {
   "cell_type": "code",
   "execution_count": 6,
   "metadata": {
    "collapsed": false,
    "pycharm": {
     "name": "#%%\n"
    }
   },
   "outputs": [],
   "source": [
    "# initialize model\n",
    "mlp = mlp.MLP(num_genes=args.num_genes)\n",
    "model = network.Network(mlp, args.feature_dim, args.classnum)\n",
    "model = model.to('cuda')\n",
    "# optimizer / loss\n",
    "optimizer = torch.optim.Adam(model.parameters(), lr=args.learning_rate, weight_decay=args.weight_decay)"
   ]
  },
  {
   "cell_type": "code",
   "execution_count": 7,
   "metadata": {
    "collapsed": false,
    "pycharm": {
     "name": "#%%\n"
    }
   },
   "outputs": [],
   "source": [
    "class InstanceLoss(nn.Module):\n",
    "\n",
    "    def __init__(self,batch_size,temperature,device):\n",
    "        super(InstanceLoss,self).__init__()\n",
    "        self.batch_size=batch_size\n",
    "        self.temperature=temperature\n",
    "        self.device=device\n",
    "\n",
    "        self.mask=self.mask_correlated_samples(batch_size)\n",
    "        self.criterion = nn.CrossEntropyLoss(reduction=\"sum\")\n",
    "\n",
    "\n",
    "    def mask_correlated_samples(self,batch_size):\n",
    "        N=2*batch_size\n",
    "        mask=torch.ones(N,N)\n",
    "        mask=mask.fill_diagonal_(0)\n",
    "        for i in range(batch_size):\n",
    "            mask[i,batch_size+1]=0\n",
    "            mask[batch_size+i,i]=0\n",
    "        mask=mask.bool()\n",
    "        return mask\n",
    "\n",
    "    def forward(self,z_i,z_j):\n",
    "        N=2*self.batch_size\n",
    "        z=torch.cat((z_i,z_j),dim=0)\n",
    "\n",
    "        sim=torch.matmul(z,z.T)/self.temperature\n",
    "        sim_i_j=torch.diag(sim,self.batch_size)\n",
    "        sim_j_i=torch.diag(sim,-self.batch_size)\n",
    "\n",
    "        positive_samples= torch.cat((sim_i_j,sim_j_i),dim=0).reshape(N,1)\n",
    "        negative_samples=sim[self.mask].reshape(N,-1)\n",
    "\n",
    "        labels = torch.zeros(N).to(positive_samples.device).long()\n",
    "        logits = torch.cat((positive_samples, negative_samples), dim=1)\n",
    "        loss = self.criterion(logits, labels)\n",
    "        loss /= N\n",
    "\n",
    "        return loss"
   ]
  },
  {
   "cell_type": "code",
   "execution_count": 8,
   "metadata": {
    "collapsed": false,
    "pycharm": {
     "name": "#%%\n"
    }
   },
   "outputs": [],
   "source": [
    "class ClusterLoss(nn.Module):\n",
    "    def __init__(self, class_num, temperature, device):\n",
    "        super(ClusterLoss, self).__init__()\n",
    "        self.class_num = class_num\n",
    "        self.temperature = temperature\n",
    "        self.device = device\n",
    "\n",
    "        self.mask = self.mask_correlated_clusters(class_num)\n",
    "        self.criterion = nn.CrossEntropyLoss(reduction=\"sum\")\n",
    "        self.similarity_f = nn.CosineSimilarity(dim=2)\n",
    "\n",
    "    def mask_correlated_clusters(self, class_num):\n",
    "        N = 2 * class_num\n",
    "        mask = torch.ones((N, N))\n",
    "        mask = mask.fill_diagonal_(0)\n",
    "        for i in range(class_num):\n",
    "            mask[i, class_num + i] = 0\n",
    "            mask[class_num + i, i] = 0\n",
    "        mask = mask.bool()\n",
    "        return mask\n",
    "\n",
    "    def forward(self, c_i, c_j):\n",
    "        p_i = c_i.sum(0).view(-1)\n",
    "        p_i /= p_i.sum()\n",
    "        ne_i = math.log(p_i.size(0)) + (p_i * torch.log(p_i)).sum()\n",
    "        p_j = c_j.sum(0).view(-1)\n",
    "        p_j /= p_j.sum()\n",
    "        ne_j = math.log(p_j.size(0)) + (p_j * torch.log(p_j)).sum()\n",
    "        ne_loss = ne_i + ne_j\n",
    "\n",
    "        c_i = c_i.t()\n",
    "        c_j = c_j.t()\n",
    "        N = 2 * self.class_num\n",
    "        c = torch.cat((c_i, c_j), dim=0)\n",
    "\n",
    "        sim = self.similarity_f(c.unsqueeze(1), c.unsqueeze(0)) / self.temperature\n",
    "        sim_i_j = torch.diag(sim, self.class_num)\n",
    "        sim_j_i = torch.diag(sim, -self.class_num)\n",
    "\n",
    "        positive_clusters = torch.cat((sim_i_j, sim_j_i), dim=0).reshape(N, 1)\n",
    "        negative_clusters = sim[self.mask].reshape(N, -1)\n",
    "\n",
    "        labels = torch.zeros(N).to(positive_clusters.device).long()\n",
    "        logits = torch.cat((positive_clusters, negative_clusters), dim=1)\n",
    "        loss = self.criterion(logits, labels)\n",
    "        loss /= N\n",
    "\n",
    "        return loss + ne_loss\n"
   ]
  },
  {
   "cell_type": "code",
   "execution_count": 9,
   "metadata": {},
   "outputs": [],
   "source": [
    "class MemoryBank():\n",
    "\n",
    "    # 初始化，传入参数\n",
    "    def __init__(self,batch_size,full_data,topK=10):\n",
    "        self.topK=topK\n",
    "        self.batch_size=batch_size\n",
    "        self.bank=None\n",
    "        self.full_data=full_data\n",
    "\n",
    "    # 根据在updateBank中更新的hnsw对象以及输入的数据data（这里可以是embedding）提取TopK个近邻的数据\n",
    "    # 返回的结果是一个形状为[TopK,batch_size,num_genes]的数组，从第一个维度来看，\n",
    "    # 每个[batch_size,num_genes]的子数组都是根据输入的数据data寻找的一个近邻，一共TopK个\n",
    "    def generateContrast(self,data):\n",
    "        if self.bank is not None:\n",
    "            contrasts=np.empty((self.topK,args.batch_size,args.num_genes))\n",
    "            labels,distances=self.bank.knn_query(data,k=self.topK)\n",
    "            \n",
    "            # print(labels)\n",
    "\n",
    "            for step,label in enumerate(labels):\n",
    "                contrasts[:,step]=self.full_data[label.tolist()]\n",
    "            return contrasts\n",
    "        else:\n",
    "            print('Memory Bank has not been initialized......')\n",
    "            raise NotImplementedError()\n",
    "\n",
    "    # 根据输入的embedding更新hnsw对象\n",
    "    def updateBank(self,embedding):\n",
    "        num_elements=len(embedding)\n",
    "        dim=embedding.shape[1]\n",
    "        self.bank=hnswlib.Index(space='cosine',dim=dim)\n",
    "        self.bank.init_index(max_elements=num_elements, ef_construction=100, M=16)\n",
    "        self.bank.set_ef(100)\n",
    "        self.bank.set_num_threads(4)\n",
    "        self.bank.add_items(embedding)"
   ]
  },
  {
   "cell_type": "code",
   "execution_count": 10,
   "metadata": {
    "collapsed": false,
    "pycharm": {
     "name": "#%%\n"
    }
   },
   "outputs": [],
   "source": [
    "\n",
    "# def train(instance_loss,cluster_loss):\n",
    "#     loss_epoch = 0\n",
    "#     for step, (data,label) in enumerate(scDataset):\n",
    "#         optimizer.zero_grad()\n",
    "        \n",
    "#         x_i=data.clone().numpy()\n",
    "        \n",
    "#         labels, distances = p.knn_query(x_i, k=31)\n",
    "#         labels=labels.squeeze()\n",
    "#         contrastive=x_ndarray[labels.tolist()]\n",
    "#         input=np.row_stack((contrastive,x_i))\n",
    "#         input_1=input.copy()\n",
    "#         np.random.shuffle(input_1)\n",
    "#         x_a=torch.from_numpy(input).to('cuda')\n",
    "#         x_b=torch.from_numpy(input_1).to('cuda')\n",
    "        \n",
    "#         z_i,z_j,c_i,c_j=model(x_a,x_b)\n",
    "#         loss_instance=instance_loss(z_i,z_j)\n",
    "#         loss_cluster=cluster_loss(c_i,c_j)\n",
    "#         loss = loss_instance + loss_cluster\n",
    "#         loss.backward()\n",
    "#         optimizer.step()\n",
    "#         if step % 1000 == 0:\n",
    "#             print(f\"Step [{step}/{len(scDataLoader)}]\\t loss_instance: {loss_instance.item()}\\t loss_cluster: {loss_cluster.item()}\")\n",
    "#         loss_epoch += loss.item()\n",
    "#     return loss_epoch\n"
   ]
  },
  {
   "cell_type": "code",
   "execution_count": 11,
   "metadata": {},
   "outputs": [],
   "source": [
    "def train(instance_loss,cluster_loss,memory_bank,model,epoch):\n",
    "    loss_epoch=0\n",
    "    for step,(data,label) in enumerate(scDataLoader):\n",
    "        optimizer.zero_grad()\n",
    "        \n",
    "        # if epoch<20:\n",
    "        embedding_data=data.numpy().copy()\n",
    "        data=data.to('cuda')\n",
    "        # else:\n",
    "        #     data=data.to('cuda')\n",
    "        #     embedding_data=model.forward_embedding(data).cpu().detach().numpy()    \n",
    "        contrast_samples=memory_bank.generateContrast(embedding_data)\n",
    "        iter_times=contrast_samples.shape[0]\n",
    "        for sample in contrast_samples:\n",
    "            # print(f'sample shape:\\n{sample.shape}')\n",
    "            # print(f'data shape:\\n{data.shape}')\n",
    "            x_i=data.clone()\n",
    "            x_j=torch.tensor(sample,dtype=torch.float32).to('cuda')\n",
    "\n",
    "            z_i,z_j,c_i,c_j=model(x_i,x_j)\n",
    "            loss_instance=instance_loss(z_i,z_j)\n",
    "            loss_cluster=cluster_loss(c_i,c_j)\n",
    "            loss = loss_instance + loss_cluster\n",
    "            # print(f'------ loss:\\n{loss}')\n",
    "            loss.backward()\n",
    "            optimizer.step()\n",
    "            loss_epoch+=loss.item()\n",
    "        if step % 2 == 0:\n",
    "                print(f\"Step [{step}/{len(scDataLoader)}]\\t loss_instance: {loss_instance.item()}\\t loss_cluster: {loss_cluster.item()}\")\n",
    "            \n",
    "    return loss_epoch/iter_times"
   ]
  },
  {
   "cell_type": "code",
   "execution_count": 12,
   "metadata": {
    "collapsed": false,
    "pycharm": {
     "name": "#%%\n"
    }
   },
   "outputs": [],
   "source": [
    "def inference(loader, model, device):\n",
    "    model.eval()\n",
    "    feature_vector = []\n",
    "    labels_vector = []\n",
    "    for step, (x, y) in enumerate(loader):\n",
    "        x = x.to(device)\n",
    "        with torch.no_grad():\n",
    "            c = model.forward_cluster(x)\n",
    "        c = c.detach()\n",
    "        feature_vector.extend(c.cpu().detach().numpy())\n",
    "        labels_vector.extend(y.numpy())\n",
    "        if step % 1000 == 0:\n",
    "            print(f\"Step [{step}/{len(loader)}]\\t Computing features...\")\n",
    "    feature_vector = np.array(feature_vector)\n",
    "    labels_vector = np.array(labels_vector)\n",
    "    print(\"Features shape {}\".format(feature_vector.shape))\n",
    "    # print(feature_vector.shape, labels_vector.shape)\n",
    "    return feature_vector, labels_vector"
   ]
  },
  {
   "cell_type": "code",
   "execution_count": 13,
   "metadata": {
    "collapsed": false,
    "pycharm": {
     "name": "#%%\n"
    }
   },
   "outputs": [],
   "source": [
    "from evaluation import evaluation\n",
    "def test():\n",
    "    device = torch.device(\"cuda\" if torch.cuda.is_available() else \"cpu\")\n",
    "    X, Y = inference(scDataLoader, model, device)\n",
    "    # print(X.shape,Y.shape)\n",
    "    nmi, ari, f, acc = evaluation.evaluate(Y.reshape(-1), X)\n",
    "    # print('NMI = {:.4f} ARI = {:.4f} F = {:.4f} ACC = {:.4f}'.format(nmi, ari, f, acc))\n",
    "    return nmi, ari, f, acc"
   ]
  },
  {
   "cell_type": "code",
   "execution_count": 14,
   "metadata": {
    "collapsed": false,
    "pycharm": {
     "name": "#%%\n"
    }
   },
   "outputs": [
    {
     "name": "stderr",
     "output_type": "stream",
     "text": [
      "C:\\Users\\Tom-G\\.conda\\envs\\torchenv\\lib\\site-packages\\torch\\nn\\modules\\container.py:141: UserWarning: Implicit dimension choice for softmax has been deprecated. Change the call to include dim=X as an argument.\n",
      "  input = module(input)\n"
     ]
    },
    {
     "name": "stdout",
     "output_type": "stream",
     "text": [
      "Step [0/8]\t loss_instance: 7.605802536010742\t loss_cluster: 3.298494815826416\n",
      "Step [2/8]\t loss_instance: 7.500216960906982\t loss_cluster: 3.298152208328247\n",
      "Step [4/8]\t loss_instance: 7.228879928588867\t loss_cluster: 3.2971980571746826\n",
      "Step [6/8]\t loss_instance: 7.05911111831665\t loss_cluster: 3.2937700748443604\n",
      "\n",
      "Epoch [1/500]\t Loss: 10.64238406419754 \n",
      "\n",
      "Step [0/8]\t Computing features...\n",
      "Features shape (8192,)\n",
      "14\n",
      "Test NMI = 0.4420 ARI = 0.2749 F = 0.5169 ACC = 0.0106\n",
      "================================================================\n",
      "\n"
     ]
    },
    {
     "name": "stderr",
     "output_type": "stream",
     "text": [
      "C:\\Users\\Tom-G\\.conda\\envs\\torchenv\\lib\\site-packages\\torch\\nn\\modules\\container.py:141: UserWarning: Implicit dimension choice for softmax has been deprecated. Change the call to include dim=X as an argument.\n",
      "  input = module(input)\n"
     ]
    },
    {
     "name": "stdout",
     "output_type": "stream",
     "text": [
      "Step [0/8]\t loss_instance: 7.002948760986328\t loss_cluster: 3.28469181060791\n",
      "Step [2/8]\t loss_instance: 6.891845226287842\t loss_cluster: 3.2636420726776123\n",
      "Step [4/8]\t loss_instance: 6.778619766235352\t loss_cluster: 3.228989362716675\n",
      "Step [6/8]\t loss_instance: 6.562294006347656\t loss_cluster: 3.1744723320007324\n",
      "\n",
      "Epoch [2/500]\t Loss: 10.031001448631287 \n",
      "\n",
      "Step [0/8]\t Computing features...\n",
      "Features shape (8192,)\n",
      "14\n",
      "Test NMI = 0.4849 ARI = 0.3466 F = 0.4795 ACC = 0.0636\n",
      "================================================================\n",
      "\n"
     ]
    },
    {
     "name": "stderr",
     "output_type": "stream",
     "text": [
      "C:\\Users\\Tom-G\\.conda\\envs\\torchenv\\lib\\site-packages\\torch\\nn\\modules\\container.py:141: UserWarning: Implicit dimension choice for softmax has been deprecated. Change the call to include dim=X as an argument.\n",
      "  input = module(input)\n"
     ]
    },
    {
     "name": "stdout",
     "output_type": "stream",
     "text": [
      "Step [0/8]\t loss_instance: 6.499810695648193\t loss_cluster: 3.107792854309082\n",
      "Step [2/8]\t loss_instance: 6.4570488929748535\t loss_cluster: 3.016317129135132\n",
      "Step [4/8]\t loss_instance: 6.385608196258545\t loss_cluster: 2.918006181716919\n",
      "Step [6/8]\t loss_instance: 6.354487419128418\t loss_cluster: 2.8145830631256104\n",
      "\n",
      "Epoch [3/500]\t Loss: 9.36051709651947 \n",
      "\n",
      "Step [0/8]\t Computing features...\n",
      "Features shape (8192,)\n",
      "14\n",
      "Test NMI = 0.5478 ARI = 0.4826 F = 0.5761 ACC = 0.5818\n",
      "================================================================\n",
      "\n"
     ]
    },
    {
     "name": "stderr",
     "output_type": "stream",
     "text": [
      "C:\\Users\\Tom-G\\.conda\\envs\\torchenv\\lib\\site-packages\\torch\\nn\\modules\\container.py:141: UserWarning: Implicit dimension choice for softmax has been deprecated. Change the call to include dim=X as an argument.\n",
      "  input = module(input)\n"
     ]
    },
    {
     "name": "stdout",
     "output_type": "stream",
     "text": [
      "Step [0/8]\t loss_instance: 6.316483497619629\t loss_cluster: 2.755361557006836\n",
      "Step [2/8]\t loss_instance: 6.33265495300293\t loss_cluster: 2.675257921218872\n",
      "Step [4/8]\t loss_instance: 6.317012310028076\t loss_cluster: 2.6322505474090576\n",
      "Step [6/8]\t loss_instance: 6.296203136444092\t loss_cluster: 2.5902867317199707\n",
      "\n",
      "Epoch [4/500]\t Loss: 8.95573902130127 \n",
      "\n",
      "Step [0/8]\t Computing features...\n",
      "Features shape (8192,)\n",
      "14\n",
      "Test NMI = 0.6066 ARI = 0.4709 F = 0.5673 ACC = 0.5557\n",
      "================================================================\n",
      "\n"
     ]
    },
    {
     "name": "stderr",
     "output_type": "stream",
     "text": [
      "C:\\Users\\Tom-G\\.conda\\envs\\torchenv\\lib\\site-packages\\torch\\nn\\modules\\container.py:141: UserWarning: Implicit dimension choice for softmax has been deprecated. Change the call to include dim=X as an argument.\n",
      "  input = module(input)\n"
     ]
    },
    {
     "name": "stdout",
     "output_type": "stream",
     "text": [
      "Step [0/8]\t loss_instance: 6.3195414543151855\t loss_cluster: 2.544644355773926\n",
      "Step [2/8]\t loss_instance: 6.288091659545898\t loss_cluster: 2.5134196281433105\n",
      "Step [4/8]\t loss_instance: 6.293845176696777\t loss_cluster: 2.465498924255371\n",
      "Step [6/8]\t loss_instance: 6.291091442108154\t loss_cluster: 2.436342239379883\n",
      "\n",
      "Epoch [5/500]\t Loss: 8.742598366737365 \n",
      "\n",
      "Step [0/8]\t Computing features...\n",
      "Features shape (8192,)\n",
      "14\n",
      "Test NMI = 0.6670 ARI = 0.5373 F = 0.6224 ACC = 0.6116\n",
      "================================================================\n",
      "\n"
     ]
    },
    {
     "name": "stderr",
     "output_type": "stream",
     "text": [
      "C:\\Users\\Tom-G\\.conda\\envs\\torchenv\\lib\\site-packages\\torch\\nn\\modules\\container.py:141: UserWarning: Implicit dimension choice for softmax has been deprecated. Change the call to include dim=X as an argument.\n",
      "  input = module(input)\n"
     ]
    },
    {
     "name": "stdout",
     "output_type": "stream",
     "text": [
      "Step [0/8]\t loss_instance: 6.301726341247559\t loss_cluster: 2.420271873474121\n",
      "Step [2/8]\t loss_instance: 6.255966663360596\t loss_cluster: 2.3671560287475586\n",
      "Step [4/8]\t loss_instance: 6.268630504608154\t loss_cluster: 2.3518543243408203\n",
      "Step [6/8]\t loss_instance: 6.2511420249938965\t loss_cluster: 2.2962141036987305\n",
      "\n",
      "Epoch [6/500]\t Loss: 8.588076090812683 \n",
      "\n",
      "Step [0/8]\t Computing features...\n",
      "Features shape (8192,)\n",
      "14\n",
      "Test NMI = 0.6991 ARI = 0.5605 F = 0.6424 ACC = 0.6177\n",
      "================================================================\n",
      "\n"
     ]
    },
    {
     "name": "stderr",
     "output_type": "stream",
     "text": [
      "C:\\Users\\Tom-G\\.conda\\envs\\torchenv\\lib\\site-packages\\torch\\nn\\modules\\container.py:141: UserWarning: Implicit dimension choice for softmax has been deprecated. Change the call to include dim=X as an argument.\n",
      "  input = module(input)\n"
     ]
    },
    {
     "name": "stdout",
     "output_type": "stream",
     "text": [
      "Step [0/8]\t loss_instance: 6.2723493576049805\t loss_cluster: 2.293785810470581\n",
      "Step [2/8]\t loss_instance: 6.247296333312988\t loss_cluster: 2.2528011798858643\n",
      "Step [4/8]\t loss_instance: 6.259013652801514\t loss_cluster: 2.2378153800964355\n",
      "Step [6/8]\t loss_instance: 6.236958026885986\t loss_cluster: 2.195171356201172\n",
      "\n",
      "Epoch [7/500]\t Loss: 8.449056541919708 \n",
      "\n",
      "Step [0/8]\t Computing features...\n",
      "Features shape (8192,)\n",
      "14\n",
      "Test NMI = 0.6921 ARI = 0.5187 F = 0.6081 ACC = 0.6157\n",
      "================================================================\n",
      "\n"
     ]
    },
    {
     "name": "stderr",
     "output_type": "stream",
     "text": [
      "C:\\Users\\Tom-G\\.conda\\envs\\torchenv\\lib\\site-packages\\torch\\nn\\modules\\container.py:141: UserWarning: Implicit dimension choice for softmax has been deprecated. Change the call to include dim=X as an argument.\n",
      "  input = module(input)\n"
     ]
    },
    {
     "name": "stdout",
     "output_type": "stream",
     "text": [
      "Step [0/8]\t loss_instance: 6.233893871307373\t loss_cluster: 2.16152024269104\n",
      "Step [2/8]\t loss_instance: 6.247090816497803\t loss_cluster: 2.1230785846710205\n",
      "Step [4/8]\t loss_instance: 6.228017330169678\t loss_cluster: 2.0989630222320557\n",
      "Step [6/8]\t loss_instance: 6.2354254722595215\t loss_cluster: 2.0641047954559326\n",
      "\n",
      "Epoch [8/500]\t Loss: 8.312680208683014 \n",
      "\n",
      "Step [0/8]\t Computing features...\n",
      "Features shape (8192,)\n",
      "14\n",
      "Test NMI = 0.6841 ARI = 0.4853 F = 0.5820 ACC = 0.5518\n",
      "================================================================\n",
      "\n"
     ]
    },
    {
     "name": "stderr",
     "output_type": "stream",
     "text": [
      "C:\\Users\\Tom-G\\.conda\\envs\\torchenv\\lib\\site-packages\\torch\\nn\\modules\\container.py:141: UserWarning: Implicit dimension choice for softmax has been deprecated. Change the call to include dim=X as an argument.\n",
      "  input = module(input)\n"
     ]
    },
    {
     "name": "stdout",
     "output_type": "stream",
     "text": [
      "Step [0/8]\t loss_instance: 6.239055156707764\t loss_cluster: 2.031430244445801\n",
      "Step [2/8]\t loss_instance: 6.250960350036621\t loss_cluster: 2.035123825073242\n",
      "Step [4/8]\t loss_instance: 6.247097015380859\t loss_cluster: 2.036191940307617\n",
      "Step [6/8]\t loss_instance: 6.230324745178223\t loss_cluster: 2.0185024738311768\n",
      "\n",
      "Epoch [9/500]\t Loss: 8.202425122261047 \n",
      "\n",
      "Step [0/8]\t Computing features...\n",
      "Features shape (8192,)\n",
      "14\n",
      "Test NMI = 0.6835 ARI = 0.4903 F = 0.5881 ACC = 0.5481\n",
      "================================================================\n",
      "\n"
     ]
    },
    {
     "name": "stderr",
     "output_type": "stream",
     "text": [
      "C:\\Users\\Tom-G\\.conda\\envs\\torchenv\\lib\\site-packages\\torch\\nn\\modules\\container.py:141: UserWarning: Implicit dimension choice for softmax has been deprecated. Change the call to include dim=X as an argument.\n",
      "  input = module(input)\n"
     ]
    },
    {
     "name": "stdout",
     "output_type": "stream",
     "text": [
      "Step [0/8]\t loss_instance: 6.219405174255371\t loss_cluster: 1.970725655555725\n",
      "Step [2/8]\t loss_instance: 6.206035137176514\t loss_cluster: 1.9227458238601685\n",
      "Step [4/8]\t loss_instance: 6.221778392791748\t loss_cluster: 1.9529346227645874\n",
      "Step [6/8]\t loss_instance: 6.207217216491699\t loss_cluster: 1.9653644561767578\n",
      "\n",
      "Epoch [10/500]\t Loss: 8.142011654376983 \n",
      "\n",
      "Step [0/8]\t Computing features...\n",
      "Features shape (8192,)\n",
      "14\n",
      "Test NMI = 0.6880 ARI = 0.5066 F = 0.6032 ACC = 0.5739\n",
      "================================================================\n",
      "\n"
     ]
    },
    {
     "name": "stderr",
     "output_type": "stream",
     "text": [
      "C:\\Users\\Tom-G\\.conda\\envs\\torchenv\\lib\\site-packages\\torch\\nn\\modules\\container.py:141: UserWarning: Implicit dimension choice for softmax has been deprecated. Change the call to include dim=X as an argument.\n",
      "  input = module(input)\n"
     ]
    },
    {
     "name": "stdout",
     "output_type": "stream",
     "text": [
      "Step [0/8]\t loss_instance: 6.213449954986572\t loss_cluster: 1.9656513929367065\n",
      "Step [2/8]\t loss_instance: 6.194418907165527\t loss_cluster: 1.9411550760269165\n",
      "Step [4/8]\t loss_instance: 6.198859691619873\t loss_cluster: 1.9234203100204468\n",
      "Step [6/8]\t loss_instance: 6.181586265563965\t loss_cluster: 1.8856600522994995\n",
      "\n",
      "Epoch [11/500]\t Loss: 8.081388747692108 \n",
      "\n",
      "Step [0/8]\t Computing features...\n",
      "Features shape (8192,)\n",
      "14\n",
      "Test NMI = 0.6827 ARI = 0.4763 F = 0.5804 ACC = 0.5381\n",
      "================================================================\n",
      "\n"
     ]
    },
    {
     "name": "stderr",
     "output_type": "stream",
     "text": [
      "C:\\Users\\Tom-G\\.conda\\envs\\torchenv\\lib\\site-packages\\torch\\nn\\modules\\container.py:141: UserWarning: Implicit dimension choice for softmax has been deprecated. Change the call to include dim=X as an argument.\n",
      "  input = module(input)\n"
     ]
    },
    {
     "name": "stdout",
     "output_type": "stream",
     "text": [
      "Step [0/8]\t loss_instance: 6.2043137550354\t loss_cluster: 1.9223978519439697\n",
      "Step [2/8]\t loss_instance: 6.201807022094727\t loss_cluster: 1.9093172550201416\n",
      "Step [4/8]\t loss_instance: 6.202168941497803\t loss_cluster: 1.8998303413391113\n",
      "Step [6/8]\t loss_instance: 6.191002368927002\t loss_cluster: 1.9320743083953857\n",
      "\n",
      "Epoch [12/500]\t Loss: 8.045586776733398 \n",
      "\n",
      "Step [0/8]\t Computing features...\n",
      "Features shape (8192,)\n",
      "14\n",
      "Test NMI = 0.6586 ARI = 0.4339 F = 0.5435 ACC = 0.5209\n",
      "================================================================\n",
      "\n"
     ]
    },
    {
     "name": "stderr",
     "output_type": "stream",
     "text": [
      "C:\\Users\\Tom-G\\.conda\\envs\\torchenv\\lib\\site-packages\\torch\\nn\\modules\\container.py:141: UserWarning: Implicit dimension choice for softmax has been deprecated. Change the call to include dim=X as an argument.\n",
      "  input = module(input)\n"
     ]
    },
    {
     "name": "stdout",
     "output_type": "stream",
     "text": [
      "Step [0/8]\t loss_instance: 6.192643642425537\t loss_cluster: 1.8882997035980225\n",
      "Step [2/8]\t loss_instance: 6.204882621765137\t loss_cluster: 1.868762493133545\n",
      "Step [4/8]\t loss_instance: 6.202204704284668\t loss_cluster: 1.8836714029312134\n",
      "Step [6/8]\t loss_instance: 6.184475898742676\t loss_cluster: 1.8623270988464355\n",
      "\n",
      "Epoch [13/500]\t Loss: 8.003964734077453 \n",
      "\n",
      "Step [0/8]\t Computing features...\n",
      "Features shape (8192,)\n",
      "14\n",
      "Test NMI = 0.6672 ARI = 0.4175 F = 0.5299 ACC = 0.4889\n",
      "================================================================\n",
      "\n"
     ]
    },
    {
     "name": "stderr",
     "output_type": "stream",
     "text": [
      "C:\\Users\\Tom-G\\.conda\\envs\\torchenv\\lib\\site-packages\\torch\\nn\\modules\\container.py:141: UserWarning: Implicit dimension choice for softmax has been deprecated. Change the call to include dim=X as an argument.\n",
      "  input = module(input)\n"
     ]
    },
    {
     "name": "stdout",
     "output_type": "stream",
     "text": [
      "Step [0/8]\t loss_instance: 6.179062843322754\t loss_cluster: 1.8709397315979004\n",
      "Step [2/8]\t loss_instance: 6.189032077789307\t loss_cluster: 1.8579070568084717\n",
      "Step [4/8]\t loss_instance: 6.1699442863464355\t loss_cluster: 1.839377999305725\n",
      "Step [6/8]\t loss_instance: 6.174042701721191\t loss_cluster: 1.847447156906128\n",
      "\n",
      "Epoch [14/500]\t Loss: 7.972099727392196 \n",
      "\n",
      "Step [0/8]\t Computing features...\n",
      "Features shape (8192,)\n",
      "14\n",
      "Test NMI = 0.6698 ARI = 0.4187 F = 0.5321 ACC = 0.4869\n",
      "================================================================\n",
      "\n"
     ]
    },
    {
     "name": "stderr",
     "output_type": "stream",
     "text": [
      "C:\\Users\\Tom-G\\.conda\\envs\\torchenv\\lib\\site-packages\\torch\\nn\\modules\\container.py:141: UserWarning: Implicit dimension choice for softmax has been deprecated. Change the call to include dim=X as an argument.\n",
      "  input = module(input)\n"
     ]
    },
    {
     "name": "stdout",
     "output_type": "stream",
     "text": [
      "Step [0/8]\t loss_instance: 6.1628265380859375\t loss_cluster: 1.8337055444717407\n",
      "Step [2/8]\t loss_instance: 6.161324977874756\t loss_cluster: 1.8458514213562012\n",
      "Step [4/8]\t loss_instance: 6.175750255584717\t loss_cluster: 1.826237678527832\n",
      "Step [6/8]\t loss_instance: 6.1824049949646\t loss_cluster: 1.867727518081665\n",
      "\n",
      "Epoch [15/500]\t Loss: 7.945363408327102 \n",
      "\n",
      "Step [0/8]\t Computing features...\n",
      "Features shape (8192,)\n",
      "14\n",
      "Test NMI = 0.6578 ARI = 0.3939 F = 0.5110 ACC = 0.4381\n",
      "================================================================\n",
      "\n"
     ]
    },
    {
     "name": "stderr",
     "output_type": "stream",
     "text": [
      "C:\\Users\\Tom-G\\.conda\\envs\\torchenv\\lib\\site-packages\\torch\\nn\\modules\\container.py:141: UserWarning: Implicit dimension choice for softmax has been deprecated. Change the call to include dim=X as an argument.\n",
      "  input = module(input)\n"
     ]
    },
    {
     "name": "stdout",
     "output_type": "stream",
     "text": [
      "Step [0/8]\t loss_instance: 6.169241905212402\t loss_cluster: 1.8589268922805786\n",
      "Step [2/8]\t loss_instance: 6.164672374725342\t loss_cluster: 1.8295924663543701\n",
      "Step [4/8]\t loss_instance: 6.164198875427246\t loss_cluster: 1.808733344078064\n",
      "Step [6/8]\t loss_instance: 6.16874361038208\t loss_cluster: 1.8306431770324707\n",
      "\n",
      "Epoch [16/500]\t Loss: 7.933778989315033 \n",
      "\n",
      "Step [0/8]\t Computing features...\n",
      "Features shape (8192,)\n",
      "14\n",
      "Test NMI = 0.6629 ARI = 0.4054 F = 0.5224 ACC = 0.4651\n",
      "================================================================\n",
      "\n"
     ]
    },
    {
     "name": "stderr",
     "output_type": "stream",
     "text": [
      "C:\\Users\\Tom-G\\.conda\\envs\\torchenv\\lib\\site-packages\\torch\\nn\\modules\\container.py:141: UserWarning: Implicit dimension choice for softmax has been deprecated. Change the call to include dim=X as an argument.\n",
      "  input = module(input)\n"
     ]
    },
    {
     "name": "stdout",
     "output_type": "stream",
     "text": [
      "Step [0/8]\t loss_instance: 6.16708517074585\t loss_cluster: 1.8041352033615112\n",
      "Step [2/8]\t loss_instance: 6.168508052825928\t loss_cluster: 1.8247803449630737\n",
      "Step [4/8]\t loss_instance: 6.166535377502441\t loss_cluster: 1.844813585281372\n",
      "Step [6/8]\t loss_instance: 6.167393207550049\t loss_cluster: 1.8276793956756592\n",
      "\n",
      "Epoch [17/500]\t Loss: 7.915990072488785 \n",
      "\n",
      "Step [0/8]\t Computing features...\n",
      "Features shape (8192,)\n",
      "14\n",
      "Test NMI = 0.6699 ARI = 0.4048 F = 0.5221 ACC = 0.4631\n",
      "================================================================\n",
      "\n"
     ]
    },
    {
     "name": "stderr",
     "output_type": "stream",
     "text": [
      "C:\\Users\\Tom-G\\.conda\\envs\\torchenv\\lib\\site-packages\\torch\\nn\\modules\\container.py:141: UserWarning: Implicit dimension choice for softmax has been deprecated. Change the call to include dim=X as an argument.\n",
      "  input = module(input)\n"
     ]
    },
    {
     "name": "stdout",
     "output_type": "stream",
     "text": [
      "Step [0/8]\t loss_instance: 6.181199550628662\t loss_cluster: 1.8411145210266113\n",
      "Step [2/8]\t loss_instance: 6.179075717926025\t loss_cluster: 1.8306950330734253\n",
      "Step [4/8]\t loss_instance: 6.179609298706055\t loss_cluster: 1.8288929462432861\n",
      "Step [6/8]\t loss_instance: 6.1687211990356445\t loss_cluster: 1.8162174224853516\n",
      "\n",
      "Epoch [18/500]\t Loss: 7.90796177983284 \n",
      "\n",
      "Step [0/8]\t Computing features...\n",
      "Features shape (8192,)\n",
      "14\n",
      "Test NMI = 0.6781 ARI = 0.4084 F = 0.5258 ACC = 0.4540\n",
      "================================================================\n",
      "\n"
     ]
    },
    {
     "name": "stderr",
     "output_type": "stream",
     "text": [
      "C:\\Users\\Tom-G\\.conda\\envs\\torchenv\\lib\\site-packages\\torch\\nn\\modules\\container.py:141: UserWarning: Implicit dimension choice for softmax has been deprecated. Change the call to include dim=X as an argument.\n",
      "  input = module(input)\n"
     ]
    },
    {
     "name": "stdout",
     "output_type": "stream",
     "text": [
      "Step [0/8]\t loss_instance: 6.159618854522705\t loss_cluster: 1.8151140213012695\n",
      "Step [2/8]\t loss_instance: 6.145699977874756\t loss_cluster: 1.8076369762420654\n",
      "Step [4/8]\t loss_instance: 6.138365268707275\t loss_cluster: 1.7851632833480835\n",
      "Step [6/8]\t loss_instance: 6.176680088043213\t loss_cluster: 1.806716799736023\n",
      "\n",
      "Epoch [19/500]\t Loss: 7.887245786190033 \n",
      "\n",
      "Step [0/8]\t Computing features...\n",
      "Features shape (8192,)\n",
      "14\n",
      "Test NMI = 0.6876 ARI = 0.4174 F = 0.5342 ACC = 0.4796\n",
      "================================================================\n",
      "\n"
     ]
    },
    {
     "name": "stderr",
     "output_type": "stream",
     "text": [
      "C:\\Users\\Tom-G\\.conda\\envs\\torchenv\\lib\\site-packages\\torch\\nn\\modules\\container.py:141: UserWarning: Implicit dimension choice for softmax has been deprecated. Change the call to include dim=X as an argument.\n",
      "  input = module(input)\n"
     ]
    },
    {
     "name": "stdout",
     "output_type": "stream",
     "text": [
      "Step [0/8]\t loss_instance: 6.155475616455078\t loss_cluster: 1.8026297092437744\n",
      "Step [2/8]\t loss_instance: 6.1624908447265625\t loss_cluster: 1.8125909566879272\n",
      "Step [4/8]\t loss_instance: 6.1522722244262695\t loss_cluster: 1.7893182039260864\n",
      "Step [6/8]\t loss_instance: 6.165623188018799\t loss_cluster: 1.803975224494934\n",
      "\n",
      "Epoch [20/500]\t Loss: 7.870034086704254 \n",
      "\n",
      "Step [0/8]\t Computing features...\n",
      "Features shape (8192,)\n",
      "14\n",
      "Test NMI = 0.6883 ARI = 0.4191 F = 0.5352 ACC = 0.4873\n",
      "================================================================\n",
      "\n"
     ]
    },
    {
     "name": "stderr",
     "output_type": "stream",
     "text": [
      "C:\\Users\\Tom-G\\.conda\\envs\\torchenv\\lib\\site-packages\\torch\\nn\\modules\\container.py:141: UserWarning: Implicit dimension choice for softmax has been deprecated. Change the call to include dim=X as an argument.\n",
      "  input = module(input)\n"
     ]
    },
    {
     "name": "stdout",
     "output_type": "stream",
     "text": [
      "Step [0/8]\t loss_instance: 6.172865867614746\t loss_cluster: 1.8135920763015747\n",
      "Step [2/8]\t loss_instance: 6.161651134490967\t loss_cluster: 1.7878448963165283\n",
      "Step [4/8]\t loss_instance: 6.1517815589904785\t loss_cluster: 1.7818608283996582\n",
      "Step [6/8]\t loss_instance: 6.133202075958252\t loss_cluster: 1.7691960334777832\n",
      "\n",
      "Epoch [21/500]\t Loss: 7.8582071185112 \n",
      "\n",
      "Step [0/8]\t Computing features...\n",
      "Features shape (8192,)\n",
      "14\n",
      "Test NMI = 0.6850 ARI = 0.4128 F = 0.5311 ACC = 0.4556\n",
      "================================================================\n",
      "\n"
     ]
    },
    {
     "name": "stderr",
     "output_type": "stream",
     "text": [
      "C:\\Users\\Tom-G\\.conda\\envs\\torchenv\\lib\\site-packages\\torch\\nn\\modules\\container.py:141: UserWarning: Implicit dimension choice for softmax has been deprecated. Change the call to include dim=X as an argument.\n",
      "  input = module(input)\n"
     ]
    },
    {
     "name": "stdout",
     "output_type": "stream",
     "text": [
      "Step [0/8]\t loss_instance: 6.150786399841309\t loss_cluster: 1.7951045036315918\n",
      "Step [2/8]\t loss_instance: 6.156321048736572\t loss_cluster: 1.8073301315307617\n",
      "Step [4/8]\t loss_instance: 6.1557793617248535\t loss_cluster: 1.7912421226501465\n",
      "Step [6/8]\t loss_instance: 6.131516933441162\t loss_cluster: 1.767217993736267\n",
      "\n",
      "Epoch [22/500]\t Loss: 7.849567312002182 \n",
      "\n",
      "Step [0/8]\t Computing features...\n",
      "Features shape (8192,)\n",
      "14\n",
      "Test NMI = 0.6934 ARI = 0.4191 F = 0.5367 ACC = 0.4734\n",
      "================================================================\n",
      "\n"
     ]
    },
    {
     "name": "stderr",
     "output_type": "stream",
     "text": [
      "C:\\Users\\Tom-G\\.conda\\envs\\torchenv\\lib\\site-packages\\torch\\nn\\modules\\container.py:141: UserWarning: Implicit dimension choice for softmax has been deprecated. Change the call to include dim=X as an argument.\n",
      "  input = module(input)\n"
     ]
    },
    {
     "name": "stdout",
     "output_type": "stream",
     "text": [
      "Step [0/8]\t loss_instance: 6.146810054779053\t loss_cluster: 1.7900967597961426\n",
      "Step [2/8]\t loss_instance: 6.131096839904785\t loss_cluster: 1.7525968551635742\n",
      "Step [4/8]\t loss_instance: 6.130454063415527\t loss_cluster: 1.7640479803085327\n",
      "Step [6/8]\t loss_instance: 6.157134056091309\t loss_cluster: 1.7993518114089966\n",
      "\n",
      "Epoch [23/500]\t Loss: 7.836798685789108 \n",
      "\n",
      "Step [0/8]\t Computing features...\n",
      "Features shape (8192,)\n",
      "14\n",
      "Test NMI = 0.6904 ARI = 0.4147 F = 0.5330 ACC = 0.4637\n",
      "================================================================\n",
      "\n"
     ]
    },
    {
     "name": "stderr",
     "output_type": "stream",
     "text": [
      "C:\\Users\\Tom-G\\.conda\\envs\\torchenv\\lib\\site-packages\\torch\\nn\\modules\\container.py:141: UserWarning: Implicit dimension choice for softmax has been deprecated. Change the call to include dim=X as an argument.\n",
      "  input = module(input)\n"
     ]
    },
    {
     "name": "stdout",
     "output_type": "stream",
     "text": [
      "Step [0/8]\t loss_instance: 6.149798393249512\t loss_cluster: 1.7812880277633667\n",
      "Step [2/8]\t loss_instance: 6.125747203826904\t loss_cluster: 1.7672357559204102\n",
      "Step [4/8]\t loss_instance: 6.1364850997924805\t loss_cluster: 1.7754228115081787\n",
      "Step [6/8]\t loss_instance: 6.125479221343994\t loss_cluster: 1.7604840993881226\n",
      "\n",
      "Epoch [24/500]\t Loss: 7.835662090778351 \n",
      "\n",
      "Step [0/8]\t Computing features...\n",
      "Features shape (8192,)\n",
      "14\n",
      "Test NMI = 0.6920 ARI = 0.4193 F = 0.5365 ACC = 0.4917\n",
      "================================================================\n",
      "\n"
     ]
    },
    {
     "name": "stderr",
     "output_type": "stream",
     "text": [
      "C:\\Users\\Tom-G\\.conda\\envs\\torchenv\\lib\\site-packages\\torch\\nn\\modules\\container.py:141: UserWarning: Implicit dimension choice for softmax has been deprecated. Change the call to include dim=X as an argument.\n",
      "  input = module(input)\n"
     ]
    },
    {
     "name": "stdout",
     "output_type": "stream",
     "text": [
      "Step [0/8]\t loss_instance: 6.153750896453857\t loss_cluster: 1.7859747409820557\n",
      "Step [2/8]\t loss_instance: 6.134681701660156\t loss_cluster: 1.767674446105957\n",
      "Step [4/8]\t loss_instance: 6.14284610748291\t loss_cluster: 1.7990882396697998\n",
      "Step [6/8]\t loss_instance: 6.130917549133301\t loss_cluster: 1.773034691810608\n",
      "\n",
      "Epoch [25/500]\t Loss: 7.840178847312927 \n",
      "\n",
      "Step [0/8]\t Computing features...\n",
      "Features shape (8192,)\n",
      "14\n",
      "Test NMI = 0.6940 ARI = 0.4202 F = 0.5383 ACC = 0.4602\n",
      "================================================================\n",
      "\n"
     ]
    },
    {
     "name": "stderr",
     "output_type": "stream",
     "text": [
      "C:\\Users\\Tom-G\\.conda\\envs\\torchenv\\lib\\site-packages\\torch\\nn\\modules\\container.py:141: UserWarning: Implicit dimension choice for softmax has been deprecated. Change the call to include dim=X as an argument.\n",
      "  input = module(input)\n"
     ]
    },
    {
     "name": "stdout",
     "output_type": "stream",
     "text": [
      "Step [0/8]\t loss_instance: 6.136905670166016\t loss_cluster: 1.7727813720703125\n",
      "Step [2/8]\t loss_instance: 6.134117603302002\t loss_cluster: 1.760221242904663\n",
      "Step [4/8]\t loss_instance: 6.1508355140686035\t loss_cluster: 1.7828823328018188\n",
      "Step [6/8]\t loss_instance: 6.150566101074219\t loss_cluster: 1.7586829662322998\n",
      "\n",
      "Epoch [26/500]\t Loss: 7.823596668243408 \n",
      "\n",
      "Step [0/8]\t Computing features...\n",
      "Features shape (8192,)\n",
      "14\n",
      "Test NMI = 0.7008 ARI = 0.4249 F = 0.5420 ACC = 0.4788\n",
      "================================================================\n",
      "\n"
     ]
    },
    {
     "name": "stderr",
     "output_type": "stream",
     "text": [
      "C:\\Users\\Tom-G\\.conda\\envs\\torchenv\\lib\\site-packages\\torch\\nn\\modules\\container.py:141: UserWarning: Implicit dimension choice for softmax has been deprecated. Change the call to include dim=X as an argument.\n",
      "  input = module(input)\n"
     ]
    },
    {
     "name": "stdout",
     "output_type": "stream",
     "text": [
      "Step [0/8]\t loss_instance: 6.125777721405029\t loss_cluster: 1.758803129196167\n",
      "Step [2/8]\t loss_instance: 6.143424034118652\t loss_cluster: 1.77590811252594\n",
      "Step [4/8]\t loss_instance: 6.145220756530762\t loss_cluster: 1.7703100442886353\n",
      "Step [6/8]\t loss_instance: 6.117657661437988\t loss_cluster: 1.7467979192733765\n",
      "\n",
      "Epoch [27/500]\t Loss: 7.817172569036484 \n",
      "\n",
      "Step [0/8]\t Computing features...\n",
      "Features shape (8192,)\n",
      "14\n",
      "Test NMI = 0.6958 ARI = 0.4231 F = 0.5410 ACC = 0.4882\n",
      "================================================================\n",
      "\n"
     ]
    },
    {
     "name": "stderr",
     "output_type": "stream",
     "text": [
      "C:\\Users\\Tom-G\\.conda\\envs\\torchenv\\lib\\site-packages\\torch\\nn\\modules\\container.py:141: UserWarning: Implicit dimension choice for softmax has been deprecated. Change the call to include dim=X as an argument.\n",
      "  input = module(input)\n"
     ]
    },
    {
     "name": "stdout",
     "output_type": "stream",
     "text": [
      "Step [0/8]\t loss_instance: 6.14788818359375\t loss_cluster: 1.7846696376800537\n",
      "Step [2/8]\t loss_instance: 6.135451316833496\t loss_cluster: 1.7796632051467896\n",
      "Step [4/8]\t loss_instance: 6.125319957733154\t loss_cluster: 1.7441794872283936\n",
      "Step [6/8]\t loss_instance: 6.109144687652588\t loss_cluster: 1.7482640743255615\n",
      "\n",
      "Epoch [28/500]\t Loss: 7.812838906049729 \n",
      "\n",
      "Step [0/8]\t Computing features...\n",
      "Features shape (8192,)\n",
      "14\n",
      "Test NMI = 0.6975 ARI = 0.4236 F = 0.5415 ACC = 0.4703\n",
      "================================================================\n",
      "\n"
     ]
    },
    {
     "name": "stderr",
     "output_type": "stream",
     "text": [
      "C:\\Users\\Tom-G\\.conda\\envs\\torchenv\\lib\\site-packages\\torch\\nn\\modules\\container.py:141: UserWarning: Implicit dimension choice for softmax has been deprecated. Change the call to include dim=X as an argument.\n",
      "  input = module(input)\n"
     ]
    },
    {
     "name": "stdout",
     "output_type": "stream",
     "text": [
      "Step [0/8]\t loss_instance: 6.131037712097168\t loss_cluster: 1.7680470943450928\n",
      "Step [2/8]\t loss_instance: 6.138340950012207\t loss_cluster: 1.7733863592147827\n",
      "Step [4/8]\t loss_instance: 6.135255813598633\t loss_cluster: 1.7602832317352295\n",
      "Step [6/8]\t loss_instance: 6.131265163421631\t loss_cluster: 1.761677861213684\n",
      "\n",
      "Epoch [29/500]\t Loss: 7.813803261518478 \n",
      "\n",
      "Step [0/8]\t Computing features...\n",
      "Features shape (8192,)\n",
      "14\n",
      "Test NMI = 0.6974 ARI = 0.4205 F = 0.5386 ACC = 0.4624\n",
      "================================================================\n",
      "\n"
     ]
    },
    {
     "name": "stderr",
     "output_type": "stream",
     "text": [
      "C:\\Users\\Tom-G\\.conda\\envs\\torchenv\\lib\\site-packages\\torch\\nn\\modules\\container.py:141: UserWarning: Implicit dimension choice for softmax has been deprecated. Change the call to include dim=X as an argument.\n",
      "  input = module(input)\n"
     ]
    },
    {
     "name": "stdout",
     "output_type": "stream",
     "text": [
      "Step [0/8]\t loss_instance: 6.126064300537109\t loss_cluster: 1.7609587907791138\n",
      "Step [2/8]\t loss_instance: 6.121450424194336\t loss_cluster: 1.754947543144226\n",
      "Step [4/8]\t loss_instance: 6.118929862976074\t loss_cluster: 1.756988525390625\n",
      "Step [6/8]\t loss_instance: 6.11179256439209\t loss_cluster: 1.7504690885543823\n",
      "\n",
      "Epoch [30/500]\t Loss: 7.807511150836945 \n",
      "\n",
      "Step [0/8]\t Computing features...\n",
      "Features shape (8192,)\n",
      "14\n",
      "Test NMI = 0.6973 ARI = 0.4233 F = 0.5420 ACC = 0.4647\n",
      "================================================================\n",
      "\n"
     ]
    },
    {
     "name": "stderr",
     "output_type": "stream",
     "text": [
      "C:\\Users\\Tom-G\\.conda\\envs\\torchenv\\lib\\site-packages\\torch\\nn\\modules\\container.py:141: UserWarning: Implicit dimension choice for softmax has been deprecated. Change the call to include dim=X as an argument.\n",
      "  input = module(input)\n"
     ]
    },
    {
     "name": "stdout",
     "output_type": "stream",
     "text": [
      "Step [0/8]\t loss_instance: 6.133891582489014\t loss_cluster: 1.7709572315216064\n",
      "Step [2/8]\t loss_instance: 6.13728141784668\t loss_cluster: 1.7679545879364014\n",
      "Step [4/8]\t loss_instance: 6.112237453460693\t loss_cluster: 1.7279280424118042\n",
      "Step [6/8]\t loss_instance: 6.1189961433410645\t loss_cluster: 1.7434955835342407\n",
      "\n",
      "Epoch [31/500]\t Loss: 7.7972193419933316 \n",
      "\n",
      "Step [0/8]\t Computing features...\n",
      "Features shape (8192,)\n",
      "14\n",
      "Test NMI = 0.6993 ARI = 0.4227 F = 0.5414 ACC = 0.4609\n",
      "================================================================\n",
      "\n"
     ]
    },
    {
     "name": "stderr",
     "output_type": "stream",
     "text": [
      "C:\\Users\\Tom-G\\.conda\\envs\\torchenv\\lib\\site-packages\\torch\\nn\\modules\\container.py:141: UserWarning: Implicit dimension choice for softmax has been deprecated. Change the call to include dim=X as an argument.\n",
      "  input = module(input)\n"
     ]
    },
    {
     "name": "stdout",
     "output_type": "stream",
     "text": [
      "Step [0/8]\t loss_instance: 6.123493671417236\t loss_cluster: 1.7495355606079102\n",
      "Step [2/8]\t loss_instance: 6.129993915557861\t loss_cluster: 1.7717769145965576\n",
      "Step [4/8]\t loss_instance: 6.125223159790039\t loss_cluster: 1.7503780126571655\n",
      "Step [6/8]\t loss_instance: 6.128719329833984\t loss_cluster: 1.7476788759231567\n",
      "\n",
      "Epoch [32/500]\t Loss: 7.796216481924057 \n",
      "\n",
      "Step [0/8]\t Computing features...\n",
      "Features shape (8192,)\n",
      "14\n",
      "Test NMI = 0.6954 ARI = 0.4205 F = 0.5385 ACC = 0.4701\n",
      "================================================================\n",
      "\n"
     ]
    },
    {
     "name": "stderr",
     "output_type": "stream",
     "text": [
      "C:\\Users\\Tom-G\\.conda\\envs\\torchenv\\lib\\site-packages\\torch\\nn\\modules\\container.py:141: UserWarning: Implicit dimension choice for softmax has been deprecated. Change the call to include dim=X as an argument.\n",
      "  input = module(input)\n"
     ]
    },
    {
     "name": "stdout",
     "output_type": "stream",
     "text": [
      "Step [0/8]\t loss_instance: 6.120968341827393\t loss_cluster: 1.759186863899231\n",
      "Step [2/8]\t loss_instance: 6.112245082855225\t loss_cluster: 1.7398886680603027\n",
      "Step [4/8]\t loss_instance: 6.119399070739746\t loss_cluster: 1.7394180297851562\n",
      "Step [6/8]\t loss_instance: 6.134914875030518\t loss_cluster: 1.761181116104126\n",
      "\n",
      "Epoch [33/500]\t Loss: 7.784367334842682 \n",
      "\n",
      "Step [0/8]\t Computing features...\n",
      "Features shape (8192,)\n",
      "14\n",
      "Test NMI = 0.6943 ARI = 0.4184 F = 0.5367 ACC = 0.4550\n",
      "================================================================\n",
      "\n"
     ]
    },
    {
     "name": "stderr",
     "output_type": "stream",
     "text": [
      "C:\\Users\\Tom-G\\.conda\\envs\\torchenv\\lib\\site-packages\\torch\\nn\\modules\\container.py:141: UserWarning: Implicit dimension choice for softmax has been deprecated. Change the call to include dim=X as an argument.\n",
      "  input = module(input)\n"
     ]
    },
    {
     "name": "stdout",
     "output_type": "stream",
     "text": [
      "Step [0/8]\t loss_instance: 6.123078346252441\t loss_cluster: 1.7639069557189941\n",
      "Step [2/8]\t loss_instance: 6.105863571166992\t loss_cluster: 1.7297332286834717\n",
      "Step [4/8]\t loss_instance: 6.091200351715088\t loss_cluster: 1.7264933586120605\n",
      "Step [6/8]\t loss_instance: 6.133548259735107\t loss_cluster: 1.7599021196365356\n",
      "\n",
      "Epoch [34/500]\t Loss: 7.783705848455429 \n",
      "\n",
      "Step [0/8]\t Computing features...\n",
      "Features shape (8192,)\n",
      "14\n",
      "Test NMI = 0.6972 ARI = 0.4210 F = 0.5393 ACC = 0.4697\n",
      "================================================================\n",
      "\n"
     ]
    },
    {
     "name": "stderr",
     "output_type": "stream",
     "text": [
      "C:\\Users\\Tom-G\\.conda\\envs\\torchenv\\lib\\site-packages\\torch\\nn\\modules\\container.py:141: UserWarning: Implicit dimension choice for softmax has been deprecated. Change the call to include dim=X as an argument.\n",
      "  input = module(input)\n"
     ]
    },
    {
     "name": "stdout",
     "output_type": "stream",
     "text": [
      "Step [0/8]\t loss_instance: 6.104728698730469\t loss_cluster: 1.7264232635498047\n",
      "Step [2/8]\t loss_instance: 6.112427234649658\t loss_cluster: 1.7674740552902222\n",
      "Step [4/8]\t loss_instance: 6.104313850402832\t loss_cluster: 1.7305803298950195\n",
      "Step [6/8]\t loss_instance: 6.125931262969971\t loss_cluster: 1.786038875579834\n",
      "\n",
      "Epoch [35/500]\t Loss: 7.788032788038254 \n",
      "\n",
      "Step [0/8]\t Computing features...\n",
      "Features shape (8192,)\n",
      "14\n",
      "Test NMI = 0.6894 ARI = 0.4202 F = 0.5381 ACC = 0.4984\n",
      "================================================================\n",
      "\n"
     ]
    },
    {
     "name": "stderr",
     "output_type": "stream",
     "text": [
      "C:\\Users\\Tom-G\\.conda\\envs\\torchenv\\lib\\site-packages\\torch\\nn\\modules\\container.py:141: UserWarning: Implicit dimension choice for softmax has been deprecated. Change the call to include dim=X as an argument.\n",
      "  input = module(input)\n"
     ]
    },
    {
     "name": "stdout",
     "output_type": "stream",
     "text": [
      "Step [0/8]\t loss_instance: 6.125824928283691\t loss_cluster: 1.7466374635696411\n",
      "Step [2/8]\t loss_instance: 6.104837894439697\t loss_cluster: 1.7356667518615723\n",
      "Step [4/8]\t loss_instance: 6.112560272216797\t loss_cluster: 1.7526590824127197\n",
      "Step [6/8]\t loss_instance: 6.1205244064331055\t loss_cluster: 1.7432339191436768\n",
      "\n",
      "Epoch [36/500]\t Loss: 7.782621741294861 \n",
      "\n",
      "Step [0/8]\t Computing features...\n",
      "Features shape (8192,)\n",
      "14\n",
      "Test NMI = 0.6931 ARI = 0.4184 F = 0.5367 ACC = 0.4669\n",
      "================================================================\n",
      "\n"
     ]
    },
    {
     "name": "stderr",
     "output_type": "stream",
     "text": [
      "C:\\Users\\Tom-G\\.conda\\envs\\torchenv\\lib\\site-packages\\torch\\nn\\modules\\container.py:141: UserWarning: Implicit dimension choice for softmax has been deprecated. Change the call to include dim=X as an argument.\n",
      "  input = module(input)\n"
     ]
    },
    {
     "name": "stdout",
     "output_type": "stream",
     "text": [
      "Step [0/8]\t loss_instance: 6.126101493835449\t loss_cluster: 1.7579940557479858\n",
      "Step [2/8]\t loss_instance: 6.1135101318359375\t loss_cluster: 1.7437399625778198\n",
      "Step [4/8]\t loss_instance: 6.100010395050049\t loss_cluster: 1.7261919975280762\n",
      "Step [6/8]\t loss_instance: 6.115567684173584\t loss_cluster: 1.7325125932693481\n",
      "\n",
      "Epoch [37/500]\t Loss: 7.77318223118782 \n",
      "\n",
      "Step [0/8]\t Computing features...\n",
      "Features shape (8192,)\n",
      "14\n",
      "Test NMI = 0.6956 ARI = 0.4213 F = 0.5398 ACC = 0.4731\n",
      "================================================================\n",
      "\n"
     ]
    },
    {
     "name": "stderr",
     "output_type": "stream",
     "text": [
      "C:\\Users\\Tom-G\\.conda\\envs\\torchenv\\lib\\site-packages\\torch\\nn\\modules\\container.py:141: UserWarning: Implicit dimension choice for softmax has been deprecated. Change the call to include dim=X as an argument.\n",
      "  input = module(input)\n"
     ]
    },
    {
     "name": "stdout",
     "output_type": "stream",
     "text": [
      "Step [0/8]\t loss_instance: 6.114914894104004\t loss_cluster: 1.7485160827636719\n",
      "Step [2/8]\t loss_instance: 6.109345436096191\t loss_cluster: 1.7463351488113403\n",
      "Step [4/8]\t loss_instance: 6.111435890197754\t loss_cluster: 1.7422189712524414\n",
      "Step [6/8]\t loss_instance: 6.108887672424316\t loss_cluster: 1.7469701766967773\n",
      "\n",
      "Epoch [38/500]\t Loss: 7.776067698001862 \n",
      "\n",
      "Step [0/8]\t Computing features...\n",
      "Features shape (8192,)\n",
      "14\n",
      "Test NMI = 0.6944 ARI = 0.4166 F = 0.5359 ACC = 0.4722\n",
      "================================================================\n",
      "\n"
     ]
    },
    {
     "name": "stderr",
     "output_type": "stream",
     "text": [
      "C:\\Users\\Tom-G\\.conda\\envs\\torchenv\\lib\\site-packages\\torch\\nn\\modules\\container.py:141: UserWarning: Implicit dimension choice for softmax has been deprecated. Change the call to include dim=X as an argument.\n",
      "  input = module(input)\n"
     ]
    },
    {
     "name": "stdout",
     "output_type": "stream",
     "text": [
      "Step [0/8]\t loss_instance: 6.121730804443359\t loss_cluster: 1.7630490064620972\n",
      "Step [2/8]\t loss_instance: 6.10279655456543\t loss_cluster: 1.7265517711639404\n",
      "Step [4/8]\t loss_instance: 6.101364612579346\t loss_cluster: 1.7446391582489014\n",
      "Step [6/8]\t loss_instance: 6.119449615478516\t loss_cluster: 1.7368309497833252\n",
      "\n",
      "Epoch [39/500]\t Loss: 7.772554051876068 \n",
      "\n",
      "Step [0/8]\t Computing features...\n",
      "Features shape (8192,)\n",
      "14\n",
      "Test NMI = 0.6992 ARI = 0.4243 F = 0.5427 ACC = 0.4727\n",
      "================================================================\n",
      "\n"
     ]
    },
    {
     "name": "stderr",
     "output_type": "stream",
     "text": [
      "C:\\Users\\Tom-G\\.conda\\envs\\torchenv\\lib\\site-packages\\torch\\nn\\modules\\container.py:141: UserWarning: Implicit dimension choice for softmax has been deprecated. Change the call to include dim=X as an argument.\n",
      "  input = module(input)\n"
     ]
    },
    {
     "name": "stdout",
     "output_type": "stream",
     "text": [
      "Step [0/8]\t loss_instance: 6.128156661987305\t loss_cluster: 1.753042459487915\n",
      "Step [2/8]\t loss_instance: 6.104222774505615\t loss_cluster: 1.724199891090393\n",
      "Step [4/8]\t loss_instance: 6.1336750984191895\t loss_cluster: 1.7801525592803955\n",
      "Step [6/8]\t loss_instance: 6.102318286895752\t loss_cluster: 1.727840542793274\n",
      "\n",
      "Epoch [40/500]\t Loss: 7.766756975650788 \n",
      "\n",
      "Step [0/8]\t Computing features...\n",
      "Features shape (8192,)\n",
      "14\n",
      "Test NMI = 0.6990 ARI = 0.4242 F = 0.5423 ACC = 0.4683\n",
      "================================================================\n",
      "\n"
     ]
    },
    {
     "name": "stderr",
     "output_type": "stream",
     "text": [
      "C:\\Users\\Tom-G\\.conda\\envs\\torchenv\\lib\\site-packages\\torch\\nn\\modules\\container.py:141: UserWarning: Implicit dimension choice for softmax has been deprecated. Change the call to include dim=X as an argument.\n",
      "  input = module(input)\n"
     ]
    },
    {
     "name": "stdout",
     "output_type": "stream",
     "text": [
      "Step [0/8]\t loss_instance: 6.117710590362549\t loss_cluster: 1.7624534368515015\n",
      "Step [2/8]\t loss_instance: 6.096018314361572\t loss_cluster: 1.7292594909667969\n",
      "Step [4/8]\t loss_instance: 6.114806652069092\t loss_cluster: 1.7388097047805786\n",
      "Step [6/8]\t loss_instance: 6.122564315795898\t loss_cluster: 1.7574305534362793\n",
      "\n",
      "Epoch [41/500]\t Loss: 7.770528692007065 \n",
      "\n",
      "Step [0/8]\t Computing features...\n",
      "Features shape (8192,)\n",
      "14\n",
      "Test NMI = 0.6926 ARI = 0.4220 F = 0.5396 ACC = 0.4810\n",
      "================================================================\n",
      "\n"
     ]
    },
    {
     "name": "stderr",
     "output_type": "stream",
     "text": [
      "C:\\Users\\Tom-G\\.conda\\envs\\torchenv\\lib\\site-packages\\torch\\nn\\modules\\container.py:141: UserWarning: Implicit dimension choice for softmax has been deprecated. Change the call to include dim=X as an argument.\n",
      "  input = module(input)\n"
     ]
    },
    {
     "name": "stdout",
     "output_type": "stream",
     "text": [
      "Step [0/8]\t loss_instance: 6.114209175109863\t loss_cluster: 1.7293109893798828\n",
      "Step [2/8]\t loss_instance: 6.097865104675293\t loss_cluster: 1.735992431640625\n",
      "Step [4/8]\t loss_instance: 6.124251365661621\t loss_cluster: 1.7641233205795288\n",
      "Step [6/8]\t loss_instance: 6.107422828674316\t loss_cluster: 1.75149405002594\n",
      "\n",
      "Epoch [42/500]\t Loss: 7.778827118873596 \n",
      "\n",
      "Step [0/8]\t Computing features...\n",
      "Features shape (8192,)\n",
      "14\n",
      "Test NMI = 0.6946 ARI = 0.4219 F = 0.5400 ACC = 0.4817\n",
      "================================================================\n",
      "\n"
     ]
    },
    {
     "name": "stderr",
     "output_type": "stream",
     "text": [
      "C:\\Users\\Tom-G\\.conda\\envs\\torchenv\\lib\\site-packages\\torch\\nn\\modules\\container.py:141: UserWarning: Implicit dimension choice for softmax has been deprecated. Change the call to include dim=X as an argument.\n",
      "  input = module(input)\n"
     ]
    },
    {
     "name": "stdout",
     "output_type": "stream",
     "text": [
      "Step [0/8]\t loss_instance: 6.103654861450195\t loss_cluster: 1.7650742530822754\n",
      "Step [2/8]\t loss_instance: 6.089182376861572\t loss_cluster: 1.7324283123016357\n",
      "Step [4/8]\t loss_instance: 6.092373371124268\t loss_cluster: 1.7293310165405273\n",
      "Step [6/8]\t loss_instance: 6.101668834686279\t loss_cluster: 1.7155804634094238\n",
      "\n",
      "Epoch [43/500]\t Loss: 7.763056242465973 \n",
      "\n",
      "Step [0/8]\t Computing features...\n",
      "Features shape (8192,)\n",
      "14\n",
      "Test NMI = 0.6986 ARI = 0.4207 F = 0.5388 ACC = 0.4662\n",
      "================================================================\n",
      "\n"
     ]
    },
    {
     "name": "stderr",
     "output_type": "stream",
     "text": [
      "C:\\Users\\Tom-G\\.conda\\envs\\torchenv\\lib\\site-packages\\torch\\nn\\modules\\container.py:141: UserWarning: Implicit dimension choice for softmax has been deprecated. Change the call to include dim=X as an argument.\n",
      "  input = module(input)\n"
     ]
    },
    {
     "name": "stdout",
     "output_type": "stream",
     "text": [
      "Step [0/8]\t loss_instance: 6.088377952575684\t loss_cluster: 1.7174830436706543\n",
      "Step [2/8]\t loss_instance: 6.103189945220947\t loss_cluster: 1.743072509765625\n",
      "Step [4/8]\t loss_instance: 6.106197357177734\t loss_cluster: 1.7453815937042236\n",
      "Step [6/8]\t loss_instance: 6.100414276123047\t loss_cluster: 1.7349194288253784\n",
      "\n",
      "Epoch [44/500]\t Loss: 7.755812698602677 \n",
      "\n",
      "Step [0/8]\t Computing features...\n",
      "Features shape (8192,)\n",
      "14\n",
      "Test NMI = 0.6974 ARI = 0.4253 F = 0.5427 ACC = 0.4822\n",
      "================================================================\n",
      "\n"
     ]
    },
    {
     "name": "stderr",
     "output_type": "stream",
     "text": [
      "C:\\Users\\Tom-G\\.conda\\envs\\torchenv\\lib\\site-packages\\torch\\nn\\modules\\container.py:141: UserWarning: Implicit dimension choice for softmax has been deprecated. Change the call to include dim=X as an argument.\n",
      "  input = module(input)\n"
     ]
    },
    {
     "name": "stdout",
     "output_type": "stream",
     "text": [
      "Step [0/8]\t loss_instance: 6.08744478225708\t loss_cluster: 1.7115639448165894\n",
      "Step [2/8]\t loss_instance: 6.095665454864502\t loss_cluster: 1.7198718786239624\n",
      "Step [4/8]\t loss_instance: 6.11144495010376\t loss_cluster: 1.7379335165023804\n",
      "Step [6/8]\t loss_instance: 6.115493297576904\t loss_cluster: 1.7371283769607544\n",
      "\n",
      "Epoch [45/500]\t Loss: 7.751113003492355 \n",
      "\n",
      "Step [0/8]\t Computing features...\n",
      "Features shape (8192,)\n",
      "14\n",
      "Test NMI = 0.6986 ARI = 0.4212 F = 0.5395 ACC = 0.4558\n",
      "================================================================\n",
      "\n"
     ]
    },
    {
     "name": "stderr",
     "output_type": "stream",
     "text": [
      "C:\\Users\\Tom-G\\.conda\\envs\\torchenv\\lib\\site-packages\\torch\\nn\\modules\\container.py:141: UserWarning: Implicit dimension choice for softmax has been deprecated. Change the call to include dim=X as an argument.\n",
      "  input = module(input)\n"
     ]
    },
    {
     "name": "stdout",
     "output_type": "stream",
     "text": [
      "Step [0/8]\t loss_instance: 6.107014179229736\t loss_cluster: 1.7546851634979248\n",
      "Step [2/8]\t loss_instance: 6.103837490081787\t loss_cluster: 1.750370979309082\n",
      "Step [4/8]\t loss_instance: 6.127023696899414\t loss_cluster: 1.7599292993545532\n",
      "Step [6/8]\t loss_instance: 6.0925140380859375\t loss_cluster: 1.7306770086288452\n",
      "\n",
      "Epoch [46/500]\t Loss: 7.756360465288163 \n",
      "\n",
      "Step [0/8]\t Computing features...\n",
      "Features shape (8192,)\n",
      "14\n",
      "Test NMI = 0.6992 ARI = 0.4262 F = 0.5440 ACC = 0.4851\n",
      "================================================================\n",
      "\n"
     ]
    },
    {
     "name": "stderr",
     "output_type": "stream",
     "text": [
      "C:\\Users\\Tom-G\\.conda\\envs\\torchenv\\lib\\site-packages\\torch\\nn\\modules\\container.py:141: UserWarning: Implicit dimension choice for softmax has been deprecated. Change the call to include dim=X as an argument.\n",
      "  input = module(input)\n"
     ]
    },
    {
     "name": "stdout",
     "output_type": "stream",
     "text": [
      "Step [0/8]\t loss_instance: 6.1013898849487305\t loss_cluster: 1.7440556287765503\n",
      "Step [2/8]\t loss_instance: 6.109910011291504\t loss_cluster: 1.7391784191131592\n",
      "Step [4/8]\t loss_instance: 6.122477054595947\t loss_cluster: 1.7467572689056396\n"
     ]
    },
    {
     "ename": "KeyboardInterrupt",
     "evalue": "",
     "output_type": "error",
     "traceback": [
      "\u001b[1;31m---------------------------------------------------------------------------\u001b[0m",
      "\u001b[1;31mKeyboardInterrupt\u001b[0m                         Traceback (most recent call last)",
      "\u001b[1;32md:\\Documents\\GitHub\\scCC\\scCC - ANN - No Bank - Small - Selection.ipynb Cell 14'\u001b[0m in \u001b[0;36m<cell line: 13>\u001b[1;34m()\u001b[0m\n\u001b[0;32m     <a href='vscode-notebook-cell:/d%3A/Documents/GitHub/scCC/scCC%20-%20ANN%20-%20No%20Bank%20-%20Small%20-%20Selection.ipynb#ch0000013?line=13'>14</a>\u001b[0m lr \u001b[39m=\u001b[39m optimizer\u001b[39m.\u001b[39mparam_groups[\u001b[39m0\u001b[39m][\u001b[39m\"\u001b[39m\u001b[39mlr\u001b[39m\u001b[39m\"\u001b[39m]\n\u001b[0;32m     <a href='vscode-notebook-cell:/d%3A/Documents/GitHub/scCC/scCC%20-%20ANN%20-%20No%20Bank%20-%20Small%20-%20Selection.ipynb#ch0000013?line=14'>15</a>\u001b[0m \u001b[39m# if epoch %20 ==0:\u001b[39;00m\n\u001b[0;32m     <a href='vscode-notebook-cell:/d%3A/Documents/GitHub/scCC/scCC%20-%20ANN%20-%20No%20Bank%20-%20Small%20-%20Selection.ipynb#ch0000013?line=15'>16</a>\u001b[0m \u001b[39m#     embeddings=np.empty((0,mlp.rep_dim))\u001b[39;00m\n\u001b[0;32m     <a href='vscode-notebook-cell:/d%3A/Documents/GitHub/scCC/scCC%20-%20ANN%20-%20No%20Bank%20-%20Small%20-%20Selection.ipynb#ch0000013?line=16'>17</a>\u001b[0m \u001b[39m#     model.eval()\u001b[39;00m\n\u001b[1;32m   (...)\u001b[0m\n\u001b[0;32m     <a href='vscode-notebook-cell:/d%3A/Documents/GitHub/scCC/scCC%20-%20ANN%20-%20No%20Bank%20-%20Small%20-%20Selection.ipynb#ch0000013?line=21'>22</a>\u001b[0m \u001b[39m#             embeddings=np.row_stack((embeddings,embedding))\u001b[39;00m\n\u001b[0;32m     <a href='vscode-notebook-cell:/d%3A/Documents/GitHub/scCC/scCC%20-%20ANN%20-%20No%20Bank%20-%20Small%20-%20Selection.ipynb#ch0000013?line=22'>23</a>\u001b[0m \u001b[39m#             memory_bank.updateBank(embeddings)\u001b[39;00m\n\u001b[1;32m---> <a href='vscode-notebook-cell:/d%3A/Documents/GitHub/scCC/scCC%20-%20ANN%20-%20No%20Bank%20-%20Small%20-%20Selection.ipynb#ch0000013?line=23'>24</a>\u001b[0m loss_epoch \u001b[39m=\u001b[39m train(instance_loss,cluster_loss,memory_bank,epoch\u001b[39m=\u001b[39;49mepoch,model\u001b[39m=\u001b[39;49mmodel)\n\u001b[0;32m     <a href='vscode-notebook-cell:/d%3A/Documents/GitHub/scCC/scCC%20-%20ANN%20-%20No%20Bank%20-%20Small%20-%20Selection.ipynb#ch0000013?line=24'>25</a>\u001b[0m losses\u001b[39m.\u001b[39mappend(loss_epoch\u001b[39m/\u001b[39m\u001b[39mlen\u001b[39m(scDataLoader))\n\u001b[0;32m     <a href='vscode-notebook-cell:/d%3A/Documents/GitHub/scCC/scCC%20-%20ANN%20-%20No%20Bank%20-%20Small%20-%20Selection.ipynb#ch0000013?line=25'>26</a>\u001b[0m \u001b[39mif\u001b[39;00m epoch \u001b[39m%\u001b[39m \u001b[39m10\u001b[39m \u001b[39m==\u001b[39m \u001b[39m0\u001b[39m:\n",
      "\u001b[1;32md:\\Documents\\GitHub\\scCC\\scCC - ANN - No Bank - Small - Selection.ipynb Cell 11'\u001b[0m in \u001b[0;36mtrain\u001b[1;34m(instance_loss, cluster_loss, memory_bank, model, epoch)\u001b[0m\n\u001b[0;32m     <a href='vscode-notebook-cell:/d%3A/Documents/GitHub/scCC/scCC%20-%20ANN%20-%20No%20Bank%20-%20Small%20-%20Selection.ipynb#ch0000010?line=16'>17</a>\u001b[0m x_i\u001b[39m=\u001b[39mdata\u001b[39m.\u001b[39mclone()\n\u001b[0;32m     <a href='vscode-notebook-cell:/d%3A/Documents/GitHub/scCC/scCC%20-%20ANN%20-%20No%20Bank%20-%20Small%20-%20Selection.ipynb#ch0000010?line=17'>18</a>\u001b[0m x_j\u001b[39m=\u001b[39mtorch\u001b[39m.\u001b[39mtensor(sample,dtype\u001b[39m=\u001b[39mtorch\u001b[39m.\u001b[39mfloat32)\u001b[39m.\u001b[39mto(\u001b[39m'\u001b[39m\u001b[39mcuda\u001b[39m\u001b[39m'\u001b[39m)\n\u001b[1;32m---> <a href='vscode-notebook-cell:/d%3A/Documents/GitHub/scCC/scCC%20-%20ANN%20-%20No%20Bank%20-%20Small%20-%20Selection.ipynb#ch0000010?line=19'>20</a>\u001b[0m z_i,z_j,c_i,c_j\u001b[39m=\u001b[39mmodel(x_i,x_j)\n\u001b[0;32m     <a href='vscode-notebook-cell:/d%3A/Documents/GitHub/scCC/scCC%20-%20ANN%20-%20No%20Bank%20-%20Small%20-%20Selection.ipynb#ch0000010?line=20'>21</a>\u001b[0m loss_instance\u001b[39m=\u001b[39minstance_loss(z_i,z_j)\n\u001b[0;32m     <a href='vscode-notebook-cell:/d%3A/Documents/GitHub/scCC/scCC%20-%20ANN%20-%20No%20Bank%20-%20Small%20-%20Selection.ipynb#ch0000010?line=21'>22</a>\u001b[0m loss_cluster\u001b[39m=\u001b[39mcluster_loss(c_i,c_j)\n",
      "File \u001b[1;32m~\\.conda\\envs\\torchenv\\lib\\site-packages\\torch\\nn\\modules\\module.py:1110\u001b[0m, in \u001b[0;36mModule._call_impl\u001b[1;34m(self, *input, **kwargs)\u001b[0m\n\u001b[0;32m   <a href='file:///c%3A/Users/Tom-G/.conda/envs/torchenv/lib/site-packages/torch/nn/modules/module.py?line=1105'>1106</a>\u001b[0m \u001b[39m# If we don't have any hooks, we want to skip the rest of the logic in\u001b[39;00m\n\u001b[0;32m   <a href='file:///c%3A/Users/Tom-G/.conda/envs/torchenv/lib/site-packages/torch/nn/modules/module.py?line=1106'>1107</a>\u001b[0m \u001b[39m# this function, and just call forward.\u001b[39;00m\n\u001b[0;32m   <a href='file:///c%3A/Users/Tom-G/.conda/envs/torchenv/lib/site-packages/torch/nn/modules/module.py?line=1107'>1108</a>\u001b[0m \u001b[39mif\u001b[39;00m \u001b[39mnot\u001b[39;00m (\u001b[39mself\u001b[39m\u001b[39m.\u001b[39m_backward_hooks \u001b[39mor\u001b[39;00m \u001b[39mself\u001b[39m\u001b[39m.\u001b[39m_forward_hooks \u001b[39mor\u001b[39;00m \u001b[39mself\u001b[39m\u001b[39m.\u001b[39m_forward_pre_hooks \u001b[39mor\u001b[39;00m _global_backward_hooks\n\u001b[0;32m   <a href='file:///c%3A/Users/Tom-G/.conda/envs/torchenv/lib/site-packages/torch/nn/modules/module.py?line=1108'>1109</a>\u001b[0m         \u001b[39mor\u001b[39;00m _global_forward_hooks \u001b[39mor\u001b[39;00m _global_forward_pre_hooks):\n\u001b[1;32m-> <a href='file:///c%3A/Users/Tom-G/.conda/envs/torchenv/lib/site-packages/torch/nn/modules/module.py?line=1109'>1110</a>\u001b[0m     \u001b[39mreturn\u001b[39;00m forward_call(\u001b[39m*\u001b[39;49m\u001b[39minput\u001b[39;49m, \u001b[39m*\u001b[39;49m\u001b[39m*\u001b[39;49mkwargs)\n\u001b[0;32m   <a href='file:///c%3A/Users/Tom-G/.conda/envs/torchenv/lib/site-packages/torch/nn/modules/module.py?line=1110'>1111</a>\u001b[0m \u001b[39m# Do not call functions when jit is used\u001b[39;00m\n\u001b[0;32m   <a href='file:///c%3A/Users/Tom-G/.conda/envs/torchenv/lib/site-packages/torch/nn/modules/module.py?line=1111'>1112</a>\u001b[0m full_backward_hooks, non_full_backward_hooks \u001b[39m=\u001b[39m [], []\n",
      "File \u001b[1;32md:\\Documents\\GitHub\\scCC\\modules\\network.py:35\u001b[0m, in \u001b[0;36mNetwork.forward\u001b[1;34m(self, x_i, x_j)\u001b[0m\n\u001b[0;32m     <a href='file:///d%3A/Documents/GitHub/scCC/modules/network.py?line=30'>31</a>\u001b[0m \u001b[39m# z_i = self.instance_projector(h_i)\u001b[39;00m\n\u001b[0;32m     <a href='file:///d%3A/Documents/GitHub/scCC/modules/network.py?line=31'>32</a>\u001b[0m \u001b[39m# z_j = self.instance_projector(h_j)\u001b[39;00m\n\u001b[0;32m     <a href='file:///d%3A/Documents/GitHub/scCC/modules/network.py?line=33'>34</a>\u001b[0m c_i \u001b[39m=\u001b[39m \u001b[39mself\u001b[39m\u001b[39m.\u001b[39mcluster_projector(h_i)\n\u001b[1;32m---> <a href='file:///d%3A/Documents/GitHub/scCC/modules/network.py?line=34'>35</a>\u001b[0m c_j \u001b[39m=\u001b[39m \u001b[39mself\u001b[39;49m\u001b[39m.\u001b[39;49mcluster_projector(h_j)\n\u001b[0;32m     <a href='file:///d%3A/Documents/GitHub/scCC/modules/network.py?line=36'>37</a>\u001b[0m \u001b[39mreturn\u001b[39;00m z_i, z_j, c_i, c_j\n",
      "File \u001b[1;32m~\\.conda\\envs\\torchenv\\lib\\site-packages\\torch\\nn\\modules\\module.py:1110\u001b[0m, in \u001b[0;36mModule._call_impl\u001b[1;34m(self, *input, **kwargs)\u001b[0m\n\u001b[0;32m   <a href='file:///c%3A/Users/Tom-G/.conda/envs/torchenv/lib/site-packages/torch/nn/modules/module.py?line=1105'>1106</a>\u001b[0m \u001b[39m# If we don't have any hooks, we want to skip the rest of the logic in\u001b[39;00m\n\u001b[0;32m   <a href='file:///c%3A/Users/Tom-G/.conda/envs/torchenv/lib/site-packages/torch/nn/modules/module.py?line=1106'>1107</a>\u001b[0m \u001b[39m# this function, and just call forward.\u001b[39;00m\n\u001b[0;32m   <a href='file:///c%3A/Users/Tom-G/.conda/envs/torchenv/lib/site-packages/torch/nn/modules/module.py?line=1107'>1108</a>\u001b[0m \u001b[39mif\u001b[39;00m \u001b[39mnot\u001b[39;00m (\u001b[39mself\u001b[39m\u001b[39m.\u001b[39m_backward_hooks \u001b[39mor\u001b[39;00m \u001b[39mself\u001b[39m\u001b[39m.\u001b[39m_forward_hooks \u001b[39mor\u001b[39;00m \u001b[39mself\u001b[39m\u001b[39m.\u001b[39m_forward_pre_hooks \u001b[39mor\u001b[39;00m _global_backward_hooks\n\u001b[0;32m   <a href='file:///c%3A/Users/Tom-G/.conda/envs/torchenv/lib/site-packages/torch/nn/modules/module.py?line=1108'>1109</a>\u001b[0m         \u001b[39mor\u001b[39;00m _global_forward_hooks \u001b[39mor\u001b[39;00m _global_forward_pre_hooks):\n\u001b[1;32m-> <a href='file:///c%3A/Users/Tom-G/.conda/envs/torchenv/lib/site-packages/torch/nn/modules/module.py?line=1109'>1110</a>\u001b[0m     \u001b[39mreturn\u001b[39;00m forward_call(\u001b[39m*\u001b[39;49m\u001b[39minput\u001b[39;49m, \u001b[39m*\u001b[39;49m\u001b[39m*\u001b[39;49mkwargs)\n\u001b[0;32m   <a href='file:///c%3A/Users/Tom-G/.conda/envs/torchenv/lib/site-packages/torch/nn/modules/module.py?line=1110'>1111</a>\u001b[0m \u001b[39m# Do not call functions when jit is used\u001b[39;00m\n\u001b[0;32m   <a href='file:///c%3A/Users/Tom-G/.conda/envs/torchenv/lib/site-packages/torch/nn/modules/module.py?line=1111'>1112</a>\u001b[0m full_backward_hooks, non_full_backward_hooks \u001b[39m=\u001b[39m [], []\n",
      "File \u001b[1;32m~\\.conda\\envs\\torchenv\\lib\\site-packages\\torch\\nn\\modules\\container.py:141\u001b[0m, in \u001b[0;36mSequential.forward\u001b[1;34m(self, input)\u001b[0m\n\u001b[0;32m    <a href='file:///c%3A/Users/Tom-G/.conda/envs/torchenv/lib/site-packages/torch/nn/modules/container.py?line=138'>139</a>\u001b[0m \u001b[39mdef\u001b[39;00m \u001b[39mforward\u001b[39m(\u001b[39mself\u001b[39m, \u001b[39minput\u001b[39m):\n\u001b[0;32m    <a href='file:///c%3A/Users/Tom-G/.conda/envs/torchenv/lib/site-packages/torch/nn/modules/container.py?line=139'>140</a>\u001b[0m     \u001b[39mfor\u001b[39;00m module \u001b[39min\u001b[39;00m \u001b[39mself\u001b[39m:\n\u001b[1;32m--> <a href='file:///c%3A/Users/Tom-G/.conda/envs/torchenv/lib/site-packages/torch/nn/modules/container.py?line=140'>141</a>\u001b[0m         \u001b[39minput\u001b[39m \u001b[39m=\u001b[39m module(\u001b[39minput\u001b[39;49m)\n\u001b[0;32m    <a href='file:///c%3A/Users/Tom-G/.conda/envs/torchenv/lib/site-packages/torch/nn/modules/container.py?line=141'>142</a>\u001b[0m     \u001b[39mreturn\u001b[39;00m \u001b[39minput\u001b[39m\n",
      "File \u001b[1;32m~\\.conda\\envs\\torchenv\\lib\\site-packages\\torch\\nn\\modules\\module.py:1110\u001b[0m, in \u001b[0;36mModule._call_impl\u001b[1;34m(self, *input, **kwargs)\u001b[0m\n\u001b[0;32m   <a href='file:///c%3A/Users/Tom-G/.conda/envs/torchenv/lib/site-packages/torch/nn/modules/module.py?line=1105'>1106</a>\u001b[0m \u001b[39m# If we don't have any hooks, we want to skip the rest of the logic in\u001b[39;00m\n\u001b[0;32m   <a href='file:///c%3A/Users/Tom-G/.conda/envs/torchenv/lib/site-packages/torch/nn/modules/module.py?line=1106'>1107</a>\u001b[0m \u001b[39m# this function, and just call forward.\u001b[39;00m\n\u001b[0;32m   <a href='file:///c%3A/Users/Tom-G/.conda/envs/torchenv/lib/site-packages/torch/nn/modules/module.py?line=1107'>1108</a>\u001b[0m \u001b[39mif\u001b[39;00m \u001b[39mnot\u001b[39;00m (\u001b[39mself\u001b[39m\u001b[39m.\u001b[39m_backward_hooks \u001b[39mor\u001b[39;00m \u001b[39mself\u001b[39m\u001b[39m.\u001b[39m_forward_hooks \u001b[39mor\u001b[39;00m \u001b[39mself\u001b[39m\u001b[39m.\u001b[39m_forward_pre_hooks \u001b[39mor\u001b[39;00m _global_backward_hooks\n\u001b[0;32m   <a href='file:///c%3A/Users/Tom-G/.conda/envs/torchenv/lib/site-packages/torch/nn/modules/module.py?line=1108'>1109</a>\u001b[0m         \u001b[39mor\u001b[39;00m _global_forward_hooks \u001b[39mor\u001b[39;00m _global_forward_pre_hooks):\n\u001b[1;32m-> <a href='file:///c%3A/Users/Tom-G/.conda/envs/torchenv/lib/site-packages/torch/nn/modules/module.py?line=1109'>1110</a>\u001b[0m     \u001b[39mreturn\u001b[39;00m forward_call(\u001b[39m*\u001b[39;49m\u001b[39minput\u001b[39;49m, \u001b[39m*\u001b[39;49m\u001b[39m*\u001b[39;49mkwargs)\n\u001b[0;32m   <a href='file:///c%3A/Users/Tom-G/.conda/envs/torchenv/lib/site-packages/torch/nn/modules/module.py?line=1110'>1111</a>\u001b[0m \u001b[39m# Do not call functions when jit is used\u001b[39;00m\n\u001b[0;32m   <a href='file:///c%3A/Users/Tom-G/.conda/envs/torchenv/lib/site-packages/torch/nn/modules/module.py?line=1111'>1112</a>\u001b[0m full_backward_hooks, non_full_backward_hooks \u001b[39m=\u001b[39m [], []\n",
      "File \u001b[1;32m~\\.conda\\envs\\torchenv\\lib\\site-packages\\torch\\nn\\modules\\linear.py:103\u001b[0m, in \u001b[0;36mLinear.forward\u001b[1;34m(self, input)\u001b[0m\n\u001b[0;32m    <a href='file:///c%3A/Users/Tom-G/.conda/envs/torchenv/lib/site-packages/torch/nn/modules/linear.py?line=101'>102</a>\u001b[0m \u001b[39mdef\u001b[39;00m \u001b[39mforward\u001b[39m(\u001b[39mself\u001b[39m, \u001b[39minput\u001b[39m: Tensor) \u001b[39m-\u001b[39m\u001b[39m>\u001b[39m Tensor:\n\u001b[1;32m--> <a href='file:///c%3A/Users/Tom-G/.conda/envs/torchenv/lib/site-packages/torch/nn/modules/linear.py?line=102'>103</a>\u001b[0m     \u001b[39mreturn\u001b[39;00m F\u001b[39m.\u001b[39;49mlinear(\u001b[39minput\u001b[39;49m, \u001b[39mself\u001b[39;49m\u001b[39m.\u001b[39;49mweight, \u001b[39mself\u001b[39;49m\u001b[39m.\u001b[39;49mbias)\n",
      "\u001b[1;31mKeyboardInterrupt\u001b[0m: "
     ]
    }
   ],
   "source": [
    "loss_device=torch.device('cuda')\n",
    "instance_loss=InstanceLoss(batch_size=args.batch_size,temperature=0.5,device=loss_device)\n",
    "cluster_loss=ClusterLoss(class_num=class_num,temperature=0.5,device=loss_device)\n",
    "accs=[]\n",
    "losses=[]\n",
    "aris=[]\n",
    "nmis=[]\n",
    "fs=[]\n",
    "\n",
    "memory_bank=MemoryBank(batch_size=args.batch_size,full_data=x_ndarray,topK=10)\n",
    "memory_bank.updateBank(x_ndarray)\n",
    "\n",
    "for epoch in range(args.start_epoch, args.epochs):\n",
    "    lr = optimizer.param_groups[0][\"lr\"]\n",
    "    # if epoch %20 ==0:\n",
    "    #     embeddings=np.empty((0,mlp.rep_dim))\n",
    "    #     model.eval()\n",
    "    #     with torch.no_grad():\n",
    "    #         for step, (x, y) in enumerate(scGenDataLoader):\n",
    "    #             x=x.to('cuda')\n",
    "    #             embedding=model.forward_embedding(x).cpu().detach().numpy()                 \n",
    "    #             embeddings=np.row_stack((embeddings,embedding))\n",
    "    #             memory_bank.updateBank(embeddings)\n",
    "    loss_epoch = train(instance_loss,cluster_loss,memory_bank,epoch=epoch,model=model)\n",
    "    losses.append(loss_epoch/len(scDataLoader))\n",
    "    if epoch % 10 == 0:\n",
    "        save_model(args, model, optimizer, epoch)\n",
    "    print(f\"\\nEpoch [{epoch}/{args.epochs}]\\t Loss: {loss_epoch / len(scDataLoader)} \\n\")\n",
    "    nmi, ari, f, acc = test()\n",
    "    accs.append(acc)\n",
    "    aris.append(ari)\n",
    "    nmis.append(nmi)\n",
    "    fs.append(f)\n",
    "    print('Test NMI = {:.4f} ARI = {:.4f} F = {:.4f} ACC = {:.4f}'.format(nmi, ari, f, acc))\n",
    "    print('========'*8+'\\n')"
   ]
  },
  {
   "cell_type": "code",
   "execution_count": 15,
   "metadata": {
    "collapsed": false,
    "pycharm": {
     "name": "#%%\n"
    }
   },
   "outputs": [
    {
     "data": {
      "image/png": "[encoded data removed]",
      "text/plain": [
       "<Figure size 864x288 with 2 Axes>"
      ]
     },
     "metadata": {
      "needs_background": "light"
     },
     "output_type": "display_data"
    }
   ],
   "source": [
    "from matplotlib import pyplot as plt\n",
    "\n",
    "f, ax = plt.subplots(nrows=1, ncols=2, figsize=(12, 4))\n",
    "ax[0].plot(accs)\n",
    "ax[0].set_title('Accuracy during Validation')\n",
    "ax[1].plot(losses)\n",
    "ax[1].set_title('Loss during Training')\n",
    "\n",
    "plt.subplots_adjust(top=0.85)\n",
    "plt.suptitle('Result')\n",
    "plt.show()"
   ]
  },
  {
   "cell_type": "code",
   "execution_count": 16,
   "metadata": {},
   "outputs": [
    {
     "data": {
      "image/png": "[encoded data removed]",
      "text/plain": [
       "<Figure size 864x432 with 3 Axes>"
      ]
     },
     "metadata": {
      "needs_background": "light"
     },
     "output_type": "display_data"
    }
   ],
   "source": [
    "f, ax = plt.subplots(nrows=1, ncols=3, figsize=(12, 6))\n",
    "ax[0].plot(nmis)\n",
    "ax[0].set_title('Test NMI')\n",
    "ax[1].plot(aris)\n",
    "ax[1].set_title('Test ARI')\n",
    "ax[2].plot(fs)\n",
    "ax[2].set_title('Test F')\n",
    "\n",
    "\n",
    "plt.subplots_adjust(top=0.85)\n",
    "plt.suptitle('Result')\n",
    "plt.show()"
   ]
  },
  {
   "cell_type": "code",
   "execution_count": null,
   "metadata": {},
   "outputs": [],
   "source": []
  }
 ],
 "metadata": {
  "kernelspec": {
   "display_name": "Python 3",
   "language": "python",
   "name": "python3"
  },
  "language_info": {
   "codemirror_mode": {
    "name": "ipython",
    "version": 3
   },
   "file_extension": ".py",
   "mimetype": "text/x-python",
   "name": "python",
   "nbconvert_exporter": "python",
   "pygments_lexer": "ipython3",
   "version": "3.8.12"
  }
 },
 "nbformat": 4,
 "nbformat_minor": 0
}
