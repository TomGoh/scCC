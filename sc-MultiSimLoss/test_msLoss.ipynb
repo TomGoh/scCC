{
 "cells": [
  {
   "cell_type": "code",
   "execution_count": 1,
   "metadata": {},
   "outputs": [],
   "source": [
    "from torch import nn\n",
    "import torch\n",
    "import argparse\n",
    "import numpy as np\n",
    "import os\n",
    "\n",
    "from modules import network,mlp\n",
    "from modules.memory_bank import StaticMemoryBank_for_MSLOSS\n",
    "from modules.multi_similarity_loss import MultiSimilarityLoss,MultiSimilarityLoss_Boost\n",
    "from utils import yaml_config_hook,save_model,data_preocess\n",
    "from evaluation import  evaluation_tools\n",
    "import warnings\n",
    "warnings.filterwarnings(\"ignore\")"
   ]
  },
  {
   "cell_type": "code",
   "execution_count": 2,
   "metadata": {},
   "outputs": [],
   "source": [
    "parser = argparse.ArgumentParser()\n",
    "config = yaml_config_hook(\"config/config.yaml\")\n",
    "for k, v in config.items():\n",
    "    parser.add_argument(f\"--{k}\", default=v, type=type(v))\n",
    "args = parser.parse_args([])\n",
    "if not os.path.exists(args.model_path):\n",
    "    os.makedirs(args.model_path)\n",
    "\n",
    "class_num = args.classnum"
   ]
  },
  {
   "cell_type": "code",
   "execution_count": 3,
   "metadata": {},
   "outputs": [
    {
     "name": "stdout",
     "output_type": "stream",
     "text": [
      "X Shape: (8569, 2000), Y Shape: (8569, 1)\n"
     ]
    }
   ],
   "source": [
    "x_ndarray,y_ndarray=data_preocess.data_process(x_path='data/filtered_Counts.npz',y_path='data/annoData.txt',args=args)"
   ]
  },
  {
   "cell_type": "code",
   "execution_count": 4,
   "metadata": {},
   "outputs": [
    {
     "name": "stdout",
     "output_type": "stream",
     "text": [
      "1\n",
      "256\n"
     ]
    }
   ],
   "source": [
    "from torch.utils.data import DataLoader,TensorDataset\n",
    "scDataset = TensorDataset(torch.tensor(x_ndarray, dtype=torch.float32))\n",
    "\n",
    "scDataLoader = DataLoader(scDataset, shuffle=True, batch_size=args.batch_size,drop_last=True)\n",
    "\n",
    "for features in scDataLoader:\n",
    "    print(len(features))\n",
    "    print(len(features[0]))\n",
    "    break"
   ]
  },
  {
   "cell_type": "code",
   "execution_count": 5,
   "metadata": {},
   "outputs": [],
   "source": [
    "mlpp=mlp.MLP()\n",
    "model=network.Network(mlpp,feature_dim=args.feature_dim)\n",
    "model.to('cuda')\n",
    "optimizer = torch.optim.Adam(model.parameters(), lr=args.learning_rate, weight_decay=args.weight_decay)\n",
    "memory_bank=StaticMemoryBank_for_MSLOSS(args.batch_size,x_ndarray,args.num_genes,args.NN_COUNT)\n",
    "ms_loss_boost=MultiSimilarityLoss_Boost(args=args)\n",
    "ms_loss=MultiSimilarityLoss(args=args)"
   ]
  },
  {
   "cell_type": "code",
   "execution_count": 6,
   "metadata": {},
   "outputs": [
    {
     "name": "stdout",
     "output_type": "stream",
     "text": [
      "torch.Size([2560, 2560])\n",
      "torch.Size([2560, 2560])\n",
      "torch.Size([25600])\n",
      "torch.Size([6528000])\n",
      "tensor([True, True, True,  ..., True, True, True], device='cuda:0')\n",
      "tensor(0.9999, device='cuda:0', grad_fn=<MaxBackward1>)\n",
      "tensor([0.9000, 0.8988, 0.8992,  ..., 0.8989, 0.8993, 0.9000], device='cuda:0',\n",
      "       grad_fn=<SubBackward0>)\n",
      "tensor([True, True, True,  ..., True, True, True], device='cuda:0')\n",
      "torch.Size([25600])\n",
      "torch.Size([6528000])\n",
      "Step [0/33]\t,  MSLoss_BoostL5.466931343078613\n"
     ]
    }
   ],
   "source": [
    "\n",
    "loss_epoch=0\n",
    "for step,data in enumerate(scDataLoader):\n",
    "    optimizer.zero_grad()\n",
    "    \n",
    "    data,pseudolabel=memory_bank.generate_data(data[0].numpy())\n",
    "    data=torch.tensor(data,dtype=torch.float32).to('cuda')\n",
    "    pseudolabel=torch.tensor(pseudolabel,dtype=torch.long).to('cuda')\n",
    "    embedding=model(data)\n",
    "#     loss=ms_loss(embedding,pseudolabel)\n",
    "    loss_1=ms_loss_boost(embedding,pseudolabel)\n",
    "    loss_1.backward()\n",
    "    optimizer.step()\n",
    "    loss_epoch+=loss_1.item()\n",
    "    if step % 2 == 0:\n",
    "            print(f\"Step [{step}/{len(scDataLoader)}]\\t,  MSLoss_BoostL{loss_1.item()}\")\n",
    "    break\n"
   ]
  },
  {
   "cell_type": "code",
   "execution_count": null,
   "metadata": {},
   "outputs": [],
   "source": []
  }
 ],
 "metadata": {
  "interpreter": {
   "hash": "c12a03cda4ff7f748cca20ded5f2f563553d26b87c906453c28c9baf654f05d7"
  },
  "kernelspec": {
   "display_name": "Python 3.8.13 ('torchenv')",
   "language": "python",
   "name": "python3"
  },
  "language_info": {
   "codemirror_mode": {
    "name": "ipython",
    "version": 3
   },
   "file_extension": ".py",
   "mimetype": "text/x-python",
   "name": "python",
   "nbconvert_exporter": "python",
   "pygments_lexer": "ipython3",
   "version": "3.8.13"
  },
  "orig_nbformat": 4
 },
 "nbformat": 4,
 "nbformat_minor": 2
}
